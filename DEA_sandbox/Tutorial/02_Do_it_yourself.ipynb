{
 "cells": [
  {
   "cell_type": "markdown",
   "metadata": {},
   "source": [
    "# Do it yourself <img align=\"right\" src=\"images/dea_logo.jpg\">\n",
    "\n",
    "* **Products used:** \n",
    "[s2a_nrt_granule](https://explorer.sandbox.dea.ga.gov.au/s2a_ard_granule)\n",
    "* **Prerequisites:** Users of this notebook should have a basic understanding of:\n",
    "    * How to run a [Jupyter notebook](01_Jupyter_notebooks.ipynb)"
   ]
  },
  {
   "cell_type": "markdown",
   "metadata": {},
   "source": [
    "## Background\n",
    "In the following notebook, you'll be exploring how you can load and visualise data using a set of simple Open Data Cube commands.\n",
    "\n",
    "Before you get started, save this notebook to somewhere outside the `Tutorials` folder, so it won't get overwritten when you next log in.\n",
    "The [JupyterLab documentation](https://jupyterlab.readthedocs.io/en/stable/user/files.html) contains tips on how to work with files.\n",
    "\n",
    "As you work through this notebook, you may want to know more about how to load different kinds of data.\n",
    "For more advice and examples, view the [products and measurements](./Reference_products_and_measurements.ipynb) and the [loading data](./Reference_loading_data.ipynb) reference notebooks.\n",
    "\n",
    "## Description\n",
    "As you work through this notebook you will:\n",
    "1. Pick a study area anywhere in Australia.\n",
    "1. Explore available data products for your study area.\n",
    "1. Set up a datacube load command to load data for your study area.\n",
    "1. Plot data that has been loaded, exploring plotting of different timesteps.\n",
    "1. Export data to an image format to view on your local computer.\n",
    "\n",
    "Let's get started."
   ]
  },
  {
   "cell_type": "markdown",
   "metadata": {},
   "source": [
    "## Pick a study area\n",
    "\n",
    "First, use Google Maps to pick a study site in Australia and click on the map.\n",
    "You should be able to select the lat/lon coordiantes.\n",
    "Visit [maps.google.com](https://www.google.com/maps/@-28.6035447,135.9291226,4.93z) to select a site.\n",
    "The image below shows the coordinates that you can select at the bottom of the image.\n",
    "Copy these coordinates and paste them in the next cell.\n",
    "\n",
    "![google maps coordinates](images/google_maps.jpg \"Google Maps Coordinates\")\n",
    "\n",
    "Alternatively, you can copy and paste one of the example coordinate pairs:\n",
    "\n",
    "**Dead Dog Creek, Queensland**\\\n",
    "`coordinates = [-14.642744, 144.899747]`\n",
    "\n",
    "**Giles Creek, Northern Territory**\\\n",
    "`coordinates = [-23.765165, 134.724024]`\n",
    "\n",
    "**Lake Disappointment, Western Australia**\\\n",
    "`coordinates = [-23.481127, 122.817712]`\n",
    "\n",
    "*Note that if you change the study site coordinates, you need to run or re-run each cell below to run the analysis on the new location.*"
   ]
  },
  {
   "cell_type": "code",
   "execution_count": null,
   "metadata": {},
   "outputs": [],
   "source": [
    "# Supply the latitude and longitude coordinates for your study site here\n",
    "# Format them in the same manner as the examples above\n",
    "coordinates = "
   ]
  },
  {
   "cell_type": "markdown",
   "metadata": {},
   "source": [
    "The `coordinates` variable gives the central latitude and longitude for the study.\n",
    "The next cell allows you to specify how large you want your study area to be by creating a bounding box around your central coordinates.\n",
    "\n",
    "Change the size of the bounding box by changing the `box_size` parameter.\n",
    "For example, `box_size=0.05` will add 0.05 degrees either side of your central latitude and longitude, resulting in 0.1 degree$^2$ box. "
   ]
  },
  {
   "cell_type": "code",
   "execution_count": null,
   "metadata": {},
   "outputs": [],
   "source": [
    "# Set the box size\n",
    "# You can increase the box_size to load more data. More data means longer load, though!\n",
    "box_size = \n",
    "\n",
    "# For simplicity, store the centre X and Y coords\n",
    "centre_x = coordinates[1]  # longitude\n",
    "centre_y = coordinates[0]  # latitude\n",
    "\n",
    "# Convert them to a bounding box by subtracting and adding the box_size\n",
    "bounding_box_x = (centre_x - box_size, centre_x + box_size)\n",
    "bounding_box_y = (centre_y - box_size, centre_y + box_size)"
   ]
  },
  {
   "cell_type": "markdown",
   "metadata": {},
   "source": [
    "## Loading a data cube\n",
    "\n",
    "This next cell performs the load.\n",
    "First, we set up a datacube object, `dc`, which has all the functions of the Open Data Cube library, and then we use the `dc.load()` function to load data.\n",
    "You can see the parameters that we've set below, but you can change them, for example, adding or removing measurements based on [product metadata](ODC_and_DEA_Metadata.ipynb)."
   ]
  },
  {
   "cell_type": "code",
   "execution_count": null,
   "metadata": {},
   "outputs": [],
   "source": [
    "# Import necessary python packages\n",
    "%matplotlib inline\n",
    "import datacube\n",
    "import warnings\n",
    "warnings.filterwarnings('ignore')  # suppress warnings\n",
    "\n",
    "# Set up the datacube object\n",
    "dc = datacube.Datacube(app='do-it-yourself')\n",
    "\n",
    "# This command here does the loading of data\n",
    "# Please be patient, it can take some time to load, depending on the size of your study area\n",
    "dataset = dc.load(\n",
    "    product='s2a_nrt_granule',\n",
    "    x=bounding_box_x,\n",
    "    y=bounding_box_y,\n",
    "    resolution = (-10, 10),\n",
    "    output_crs='epsg:3577',\n",
    "    measurements=(\n",
    "        'nbar_red',\n",
    "        'nbar_green',\n",
    "        'nbar_blue',\n",
    "        'nbar_nir_1'\n",
    "    )\n",
    ")"
   ]
  },
  {
   "cell_type": "markdown",
   "metadata": {},
   "source": [
    "Following the load step, printing the `dataset` object will give you insight into all of the data that was loaded.\n",
    "Do this by running the next cell.\n",
    "\n",
    "There's a lot of information to unpack, which is represented by the following aspects of the data:\n",
    "- `Dimensions`: the names of data dimensions, frequently `time`, `x` and `y`, and number of entries in each\n",
    "- `Coordinates`: the coordinate values for each point in the data cube\n",
    "- `Data variables`: the observations loaded, frequently different spectral bands from a satellite\n",
    "- `Attributes`: any useful information for the data, such as the `crs` (coordinate reference system)"
   ]
  },
  {
   "cell_type": "code",
   "execution_count": null,
   "metadata": {},
   "outputs": [],
   "source": [
    "print(dataset)"
   ]
  },
  {
   "cell_type": "markdown",
   "metadata": {},
   "source": [
    "## Plotting data\n",
    "\n",
    "The next step uses Matplotlib to plot some data. We use a quick function to prepare the data, called `rgb`, which will prepare the measurements from the datacube we loaded into something Matplotlib expects. Later, we show another way to plot a simple single-band image.\n",
    "\n",
    "There are several parameters you can experiment with:\n",
    "\n",
    "- `time_step=n`\\\n",
    "This sets the time step you want to view. \n",
    "`n` can be any number from `0` to one fewer than the number of time steps you loaded. \n",
    "The number of time steps loaded is given in the print-out of the data, under the `Dimensions` heading. \n",
    "As an example, if under `Dimensions:` you see `time: 6`, then there are 6 time steps, and `time_step` can be any number between `0` and `5`.\n",
    "\n",
    "- `bands=[red_channel, green_channel, blue_channel]`\\\n",
    "This sets the measurements that you want to use to make the image.\n",
    "Any measurements can be mapped to the three channels, and different combinations highlight different features.\n",
    "Two common combinations are\n",
    "    - True colour: `bands = ['nbar_red', 'nbar_green', 'nbar_blue']`\n",
    "    - False colour: `bands = ['nbar_nir_1', 'nbar_red', 'nbar_green']`"
   ]
  },
  {
   "cell_type": "code",
   "execution_count": null,
   "metadata": {},
   "outputs": [],
   "source": [
    "import matplotlib.pyplot as plt\n",
    "from utils.dea_plotting import rgb\n",
    "\n",
    "# Set the time step to view\n",
    "time_step = \n",
    "\n",
    "# Set the band combination to plot\n",
    "bands = \n",
    "\n",
    "# Generate the image by running the rgb function\n",
    "rgb(dataset, bands=bands, index=time_step, size=10)\n",
    "\n",
    "# Format the time stamp for use as the plot title\n",
    "time_string = str(dataset.time.isel(time=time_step).values).split('.')[0]  \n",
    "\n",
    "# Set the title and axis labels\n",
    "ax = plt.gca()\n",
    "ax.set_title(f\"Timestep {time_string}\", fontweight='bold', fontsize=16)\n",
    "ax.set_xlabel('Easting', fontweight='bold')\n",
    "ax.set_ylabel('Northing', fontweight='bold')\n",
    "\n",
    "# Display the plot\n",
    "plt.show()"
   ]
  },
  {
   "cell_type": "markdown",
   "metadata": {},
   "source": [
    "##  Exporting data\n",
    "The last task here is to export the data for your study site. You can change the name of the filename so that you know what the file is going to be called. After the file has been created, you can download it from the Jupyter directory it was exported into."
   ]
  },
  {
   "cell_type": "code",
   "execution_count": null,
   "metadata": {},
   "outputs": [],
   "source": [
    "from datacube import helpers\n",
    "\n",
    "# You can change this, if you like.\n",
    "filename = \"example.tiff\"\n",
    "\n",
    "helpers.write_geotiff(dataset=dataset.isel(time=time_step), filename=filename)"
   ]
  },
  {
   "cell_type": "markdown",
   "metadata": {},
   "source": [
    "## Stretch goal: Calculate NDVI\n",
    "\n",
    "If you've come this far and you'd like to do something a bit fancier, you can have a go at calculating the normalised difference vegetation index (NDVI) over your study site. There is a definition of what [NDVI is on Wikipedia](https://en.wikipedia.org/wiki/Normalized_difference_vegetation_index).\n",
    "\n",
    "Basically, you need to use the following formula:\n",
    "\n",
    "$$\n",
    "\\begin{aligned}\n",
    "\\text{NDVI} & = \\frac{(\\text{NIR} - \\text{Red})}{(\\text{NIR} + \\text{Red})} \\\\\n",
    "\\end{aligned}\n",
    "$$\n",
    "    \n",
    "Some hints:\n",
    " * You can access bands of an Xarray (the data format we're using) with their name, like this: `dataset.bandname`\n",
    " * You can do simple math with bands by simply referring to them, like this: `dataset.bandname_1 + dataset.bandname_2`\n",
    " * The two band names you're after are `nbar_nir_1`, which is near infra-red, and `nbar_red`, which is red.\n",
    " * You can pass many arguments to the `.plot()` command to configure the image.\n",
    " One example is `cmap=colormap`, where `colormap` is the name of a [Matplotlib Colour Map](https://matplotlib.org/3.1.0/tutorials/colors/colormaps.html).\n",
    " See if you can find a colour map that shows high values as green."
   ]
  },
  {
   "cell_type": "code",
   "execution_count": null,
   "metadata": {},
   "outputs": [],
   "source": [
    "# Calculate NDVI here\n",
    "# Fill in the calculation after the equals sign\n",
    "ndvi = \n",
    "\n",
    "# This is the simple way to plot\n",
    "# Note that high values are likely to be vegetation.\n",
    "plt.figure(figsize=(10,10))\n",
    "ndvi.isel(time=time_step).plot()\n",
    "plt.show()"
   ]
  }
 ],
 "metadata": {
  "kernelspec": {
   "display_name": "Python 3",
   "language": "python",
   "name": "python3"
  },
  "language_info": {
   "codemirror_mode": {
    "name": "ipython",
    "version": 3
   },
   "file_extension": ".py",
   "mimetype": "text/x-python",
   "name": "python",
   "nbconvert_exporter": "python",
   "pygments_lexer": "ipython3",
   "version": "3.6.8"
  },
  "widgets": {
   "application/vnd.jupyter.widget-state+json": {
    "state": {},
    "version_major": 2,
    "version_minor": 0
   }
  }
 },
 "nbformat": 4,
 "nbformat_minor": 4
}
