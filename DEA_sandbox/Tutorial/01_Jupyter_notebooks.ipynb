{
 "cells": [
  {
   "cell_type": "markdown",
   "metadata": {},
   "source": [
    "# Introduction to Jupyter notebooks <img align=\"right\" src=\"images/dea_logo.jpg\">\n",
    "\n",
    "* **Prerequisites**: \n",
    "    * There is no prerequisite learning required to use this notebook\n",
    "    * It is designed for a novice user of the Jupyter environment"
   ]
  },
  {
   "cell_type": "markdown",
   "metadata": {},
   "source": [
    "## Background\n",
    "Access to implementations of the [Open Data Cube](https://www.opendatacube.org/) such as [Digital Earth Australia](https://www.ga.gov.au/dea) and [Digital Earth Africa](https://www.digitalearthafrica.org/) is achieved through the use of Python code and [Jupyter Notebooks](https://jupyterlab.readthedocs.io/en/stable/user/notebook.html).\n",
    "The Jupyter Notebook (also termed notebook from here onwards) is an interactive web application that allows for the viewing, creation and documentation of live code.\n",
    "Notebook applications include data transformation, visualisation, modelling and machine learning.\n",
    "The default web interface to access notebooks when using the National Computational Infrastructure (NCI) and the DEA Sandbox is [JupyterLab](https://jupyterlab.readthedocs.io/en/stable/)."
   ]
  },
  {
   "cell_type": "markdown",
   "metadata": {},
   "source": [
    "## Description\n",
    "This notebook is designed to introduce users to the basics of using Python code in Jupyter Notebooks via JupyterLab.\n",
    "\n",
    "Topics covered include:\n",
    "\n",
    "* How to run (execute) a Jupyter Notebook cell\n",
    "* The different types of Jupyter Notebook cells\n",
    "* Stopping a process or restarting a Jupyter Notebook\n",
    "* Saving and exporting your work\n",
    "* Starting a new Jupyter Notebook\n",
    "\n",
    "***"
   ]
  },
  {
   "cell_type": "markdown",
   "metadata": {},
   "source": [
    "## Getting started"
   ]
  },
  {
   "cell_type": "markdown",
   "metadata": {},
   "source": [
    "### Running (executing) a cell\n",
    "Jupyter Notebooks allow code to be separated into sections that can be executed independent of one another.\n",
    "These sections are called \"cells\".\n",
    "\n",
    "Python code is written into individual cells that can be executed by placing the cursor in the cell and typing `Shift-Enter` on the keyboard or selecting the &#9658; \"Run the selected cells and advance\" button in the ribbon at the top of the notebook.\n",
    "These options will run a single cell at a time.\n",
    "\n",
    "If you wish to auto-run all cells in a notebook, navigate to the \"Run\" tab of the menu bar at the top of JupyterLab and select \"Run All Cells\" (or the option that best suits your needs).\n",
    "When you run a cell, you are executing that cell's content.\n",
    "Any output produced from running the cell will appear directly below it.\n",
    "\n",
    "Run the cell below:"
   ]
  },
  {
   "cell_type": "code",
   "execution_count": null,
   "metadata": {},
   "outputs": [],
   "source": [
    "print(\"I ran a cell!\")"
   ]
  },
  {
   "cell_type": "markdown",
   "metadata": {},
   "source": [
    "### Cell status"
   ]
  },
  {
   "cell_type": "markdown",
   "metadata": {},
   "source": [
    "The `[ ]:` symbol to the left of each Code cell describes the state of the cell:\n",
    "\n",
    "* `[ ]:` means that the cell has not been run yet.\n",
    "* `[*]:` means that the cell is currently running.\n",
    "* `[1]:` means that the cell has finished running and was the first cell run.\n",
    "\n",
    "The number indicates the order that the cells were run in.\n",
    "\n",
    "> **Note:** You can also tell whether a cell is currently executing in a Jupyter notebook by inspecting the small circle in the top-right of the window. \n",
    "The circle will turn grey (\"Kernel busy\") when the cell is running, and return to empty (\"Kernel idle\") when the process is complete."
   ]
  },
  {
   "cell_type": "markdown",
   "metadata": {},
   "source": [
    "## Jupyter notebook cell types\n",
    "Cells are identified as either Code, Markdown, or Raw. \n",
    "This designation can be changed using the ribbon at the top of the notebook."
   ]
  },
  {
   "cell_type": "markdown",
   "metadata": {},
   "source": [
    "### Code cells\n",
    "\n",
    "All code operations are performed in Code cells. \n",
    "Code cells can be used to edit and write new code, and perform tasks like loading data, plotting data and running analyses. \n",
    "\n",
    "Click on the cell below. \n",
    "Note that the ribbon at the top of the notebook describes it as a Code cell."
   ]
  },
  {
   "cell_type": "code",
   "execution_count": null,
   "metadata": {},
   "outputs": [],
   "source": [
    "print(\"This is a code cell\")"
   ]
  },
  {
   "cell_type": "markdown",
   "metadata": {},
   "source": [
    "### Markdown cells\n",
    "Place the cursor in this cell by double clicking.\n",
    "\n",
    "The cell format has changed to allow for editing. \n",
    "Note that the ribbon at the top of the notebook describes this as a Markdown cell.\n",
    "\n",
    "Run this cell to return the formatted version.\n",
    "\n",
    "Markdown cells provide the narrative to a notebook.\n",
    "They are used for text and are useful to describe the code operations in the following cells. \n",
    "To see some of the formatting options for text in a Markdown cell, navigate to the \"Help\" tab of the menu bar at the top of JupyterLab and select \"Markdown Reference\".\n",
    "Here you will see a wide range of text formatting options including headings, dot points, italics, hyperlinking and creating tables."
   ]
  },
  {
   "cell_type": "markdown",
   "metadata": {},
   "source": [
    "### Raw cells\n",
    "Information in Raw cells is stored in the notebook metadata and can be used to render different code formats into HTML or $\\LaTeX$.\n",
    "There are a range of available Raw cell formats that differ depending on how they are to be rendered.\n",
    "For the purposes of this Beginners Guide, raw cells are rarely used by the authors and not required for most notebook users.\n",
    "\n",
    "There is a Raw cell associated with the [Tags](#Markdown-cells) section of this notebook below.\n",
    "As this cell is in the \"ReStructured Text\" format, its contents are not visible nor are they executed in any way.\n",
    "This cell is used by the authors to store information tags in the metadata that is relevant to the notebook, and create an [index of tags on the Digital Earth Australia user guide](https://docs.dea.ga.gov.au/genindex.html) that links to the notebooks."
   ]
  },
  {
   "cell_type": "markdown",
   "metadata": {},
   "source": [
    "## Stopping a process or restarting a Jupyter Notebook\n",
    "Sometimes it can be useful to stop a cell execution before it finishes (e.g. if a process is taking too long to complete, or if you realise you need to modify some code before running the cell). \n",
    "To interrupt a cell execution, you can click the &#9632; \"stop\" button (\"Interrupt the kernel\") in the ribbon above the notebook. \n",
    "\n",
    "To test this, run the following code cell.\n",
    "This will run a piece of code that will take 20 seconds to complete.\n",
    "To interrupt this code, press the &#9632; \"stop\" button. \n",
    "The notebook should stop executing the cell.\n",
    "\n"
   ]
  },
  {
   "cell_type": "code",
   "execution_count": null,
   "metadata": {},
   "outputs": [],
   "source": [
    "import time\n",
    "time.sleep(20)"
   ]
  },
  {
   "cell_type": "markdown",
   "metadata": {},
   "source": [
    "If the approach above does not work (e.g. if the notebook has frozen or refuses to respond), you can also try restarting the entire notebook.\n",
    "To do this, navigate to the \"Kernel\" tab of the menu bar, then select \"Restart Kernel\".\n",
    "Alternatively, click the &#x21bb; \"Restart the kernel\" button in the ribbon above the notebook.\n",
    "\n",
    "Restarting a notebook can also be useful for testing whether your code will work correctly the first time a new user tries to run the notebook.\n",
    "To restart and then run every cell in a notebook, navigate to the \"Kernel\" tab, then select \"Restart and Run All Cells\"."
   ]
  },
  {
   "cell_type": "markdown",
   "metadata": {},
   "source": [
    "## Saving and exporting your work\n",
    "\n",
    "Modifications to Jupyter Notebooks are automatically saved every few minutes.\n",
    "However, you can force a notebook to save by navigating to \"File\" in the menu bar, then selecting \"Save Notebook\".\n",
    "Alternatively, click the &#128190; \"save\" icon on the left of the ribbon above the notebook.\n",
    "\n",
    "\n",
    "### Exporting Jupyter Notebooks to Python scripts\n",
    "The standard file extension for a Jupyter Notebook is `.ipynb`.\n",
    "\n",
    "There are a range of export options that allow you to save your work for access outside of the Jupyter environment. \n",
    "Python code for example can easily be saved as `.py` Python scripts by navigating to the \"File\" tab of the menu bar in JupyterLab and selecting \"Export Notebook As\" followed by \"Export Notebook To Executable Script\".\n"
   ]
  },
  {
   "cell_type": "markdown",
   "metadata": {},
   "source": [
    "## Starting a new notebook\n",
    "To create a new notebook of your own, first use JupyterLab's file browser to navigate to the directory you would like the notebook to be created in (if the file browser is not visible, re-open it by clicking on the &#128193; \"File browser\" icon at the top-left of the screen).\n",
    "\n",
    "Once you have navigated to your desired location, press the &#10010; \"New Launcher\" button above the browser. \n",
    "This will bring up JupyterLab's \"Launcher\" page which allows you to launch a range of new files or utilities. \n",
    "Below the heading \"Notebook\", click the large \"Python 3\" button.\n",
    "This will create a new notebook entitled \"Untitled.ipynb\" in your directory.\n",
    "\n",
    "To rename this notebook to something more useful, right-click on it in the file browser and select \"Rename\"."
   ]
  },
  {
   "cell_type": "markdown",
   "metadata": {},
   "source": [
    "## Recommended next steps\n",
    "\n",
    "For more advanced information about working with Jupyter Notebooks or JupyterLab, you can explore [JupyterLab documentation page](https://jupyterlab.readthedocs.io/en/stable/user/notebook.html)."
   ]
  },
  {
   "cell_type": "markdown",
   "metadata": {},
   "source": [
    "***\n",
    "## Additional information\n",
    "\n",
    "**License:** The code in this notebook is licensed under the [Apache License, Version 2.0](https://www.apache.org/licenses/LICENSE-2.0). \n",
    "Digital Earth Australia data is licensed under the [Creative Commons by Attribution 4.0](https://creativecommons.org/licenses/by/4.0/) license.\n",
    "\n",
    "**Contact:** If you need assistance, please post a question on the [Open Data Cube Slack channel](http://slack.opendatacube.org/) or on the [GIS Stack Exchange](https://gis.stackexchange.com/questions/ask?tags=open-data-cube) using the `open-data-cube` tag (you can view previously asked questions [here](https://gis.stackexchange.com/questions/tagged/open-data-cube)).\n",
    "If you would like to report an issue with this notebook, you can file one on [Github](https://github.com/GeoscienceAustralia/dea-notebooks).\n",
    "\n",
    "**Last modified:** October 2019"
   ]
  },
  {
   "cell_type": "markdown",
   "metadata": {},
   "source": [
    "## Tags\n",
    "Browse all available tags on the DEA User Guide's [Tags Index](https://docs.dea.ga.gov.au/genindex.html)"
   ]
  },
  {
   "cell_type": "raw",
   "metadata": {
    "raw_mimetype": "text/restructuredtext"
   },
   "source": [
    "**Tags**: :index:`sandbox compatible`, :index:`NCI compatible`, :index:`beginner`, :index:`export`, :index:`jupyterlab`, :index:`jupyter notebook`, :index:`code cells`, :index:`markdown cells`, :index:`raw cells`"
   ]
  }
 ],
 "metadata": {
  "kernelspec": {
   "display_name": "Python 3",
   "language": "python",
   "name": "python3"
  },
  "language_info": {
   "codemirror_mode": {
    "name": "ipython",
    "version": 3
   },
   "file_extension": ".py",
   "mimetype": "text/x-python",
   "name": "python",
   "nbconvert_exporter": "python",
   "pygments_lexer": "ipython3",
   "version": "3.6.8"
  },
  "widgets": {
   "application/vnd.jupyter.widget-state+json": {
    "state": {},
    "version_major": 2,
    "version_minor": 0
   }
  }
 },
 "nbformat": 4,
 "nbformat_minor": 4
}
