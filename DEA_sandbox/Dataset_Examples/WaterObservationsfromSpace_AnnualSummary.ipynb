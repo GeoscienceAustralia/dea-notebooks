{
 "cells": [
  {
   "cell_type": "markdown",
   "metadata": {},
   "source": [
    "# Water Observations from Space - Annual Summary\n",
    "\n",
    "The Water Observations from Space (WOfS) annual summary is a measure of how frequently a pixel was classified as water in a given year. This notebook demonstrates how to load and display the WOfS annual summary for the [lakes around Menindee](https://www.google.com/maps/place/Menindee+NSW+2879/@-32.3441363,142.2473895,10z/data=!4m5!3m4!1s0x6ae5e9de24c98fd7:0x40609b4904401c0!8m2!3d-32.3985324!4d142.4139158)."
   ]
  },
  {
   "cell_type": "markdown",
   "metadata": {},
   "source": [
    "## Step 1\n",
    "Import the necessary Python packages and initialise the datacube instance as `dc`."
   ]
  },
  {
   "cell_type": "code",
   "execution_count": null,
   "metadata": {},
   "outputs": [],
   "source": [
    "import datacube\n",
    "import matplotlib.pyplot as plt\n",
    "\n",
    "dc = datacube.Datacube(app='wofs-annualsummary')"
   ]
  },
  {
   "cell_type": "markdown",
   "metadata": {},
   "source": [
    "## Step 2\n",
    "Set the latitude, longitude and time bounds for the analysis. Bounds are given as `(min, max)`."
   ]
  },
  {
   "cell_type": "code",
   "execution_count": null,
   "metadata": {
    "scrolled": false
   },
   "outputs": [],
   "source": [
    "menindee_latitude = (-32.2, -32.55)\n",
    "menindee_longitude = (142.15, 142.6)\n",
    "menindee_time = ('2000-01-01', '2017-12-31')"
   ]
  },
  {
   "cell_type": "markdown",
   "metadata": {},
   "source": [
    "## Step 3\n",
    "Load the dataset for the specified bounds through the `dc.load()` command. The dataset to be loaded is given as the product. In this case, the product is `wofs_annual_summary`. The data will take some time to load, indicated by the `In [*]` symbol to the left of the code cell. The load is finished when the `*` is replaced by a number. "
   ]
  },
  {
   "cell_type": "code",
   "execution_count": null,
   "metadata": {},
   "outputs": [],
   "source": [
    "wofs_annual_summary = dc.load(\n",
    "    product='wofs_annual_summary',\n",
    "    latitude=menindee_latitude,\n",
    "    longitude=menindee_longitude,\n",
    "    time=menindee_time,\n",
    ")"
   ]
  },
  {
   "cell_type": "markdown",
   "metadata": {},
   "source": [
    "## Step 4\n",
    "View the contents and properties of the loaded data by printing the `wofs_annual_summary` dataset. From the print out, note that the dataset has three dimensions (`time`, `x`, `y`) and three data variables (`count_wet`, `count_clear`, `frequency`). The `Dimensions` information reveals the number of entries for each dimension."
   ]
  },
  {
   "cell_type": "code",
   "execution_count": null,
   "metadata": {},
   "outputs": [],
   "source": [
    "print(wofs_annual_summary)"
   ]
  },
  {
   "cell_type": "markdown",
   "metadata": {},
   "source": [
    "## Step 5\n",
    "\n",
    "Plot the annual summary `frequency` measurement for `2002`. The `frequency` measurement for each pixel has a value of `1.0` if it was always classified as water during the year, and `0.0` if it was never classified as water."
   ]
  },
  {
   "cell_type": "code",
   "execution_count": null,
   "metadata": {},
   "outputs": [],
   "source": [
    "wofs_annual_summary.frequency.sel(time='2002-01-01').plot(cmap='RdBu')\n",
    "plt.show()"
   ]
  }
 ],
 "metadata": {
  "kernelspec": {
   "display_name": "Python 3",
   "language": "python",
   "name": "python3"
  },
  "language_info": {
   "codemirror_mode": {
    "name": "ipython",
    "version": 3
   },
   "file_extension": ".py",
   "mimetype": "text/x-python",
   "name": "python",
   "nbconvert_exporter": "python",
   "pygments_lexer": "ipython3",
   "version": "3.6.7"
  }
 },
 "nbformat": 4,
 "nbformat_minor": 2
}
