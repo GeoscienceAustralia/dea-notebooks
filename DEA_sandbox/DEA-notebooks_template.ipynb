{
 "cells": [
  {
   "cell_type": "markdown",
   "metadata": {},
   "source": [
    "# Descriptive title that follows notebook filename"
   ]
  },
  {
   "cell_type": "markdown",
   "metadata": {},
   "source": [
    "**License:** Code freely available under the [Apache License, Version 2.0](https://www.apache.org/licenses/LICENSE-2.0).\n",
    "\n",
    "**Contact:** If you find an issue with this notebook or need assistance, please post a question on the [OpenDataCube slack channel](https://opendatacube.slack.com), ask a question on StackExchange using the [open-data-cube tag](https://gis.stackexchange.com/questions/tagged/open-data-cube), or file an issue on [Github](https://github.com/GeoscienceAustralia/dea-notebooks).\n",
    "\n",
    "**Last modified:** August 2019"
   ]
  },
  {
   "cell_type": "markdown",
   "metadata": {},
   "source": [
    "### Background\n",
    "An *optional* overview of the scientific, economic or environmental management issue or challenge being addressed by Digital Earth Australia. For `Getting started` or `Common analysis techniques` notebooks, this may include information about why the particular technique or approach is useful or required. If you need to cite a scientific paper or link to a website, use a persistent DOI link if possible and link in-text (e.g. [Dhu et al. 2017](https://doi.org/10.1080/20964471.2017.1402490))."
   ]
  },
  {
   "cell_type": "markdown",
   "metadata": {},
   "source": [
    "### Description\n",
    "A _compulsory_ description of the notebook, including a brief overview of how Digital Earth Australia helps to address the problem set out above, and a run-down of the tools/methods being demonstrated below."
   ]
  },
  {
   "cell_type": "markdown",
   "metadata": {},
   "source": [
    "### Technical details\n",
    "* **Products used:** `product_name`, `product_name`, `product_name`\n",
    "* **Analyses used:** NDWI water index, geomedian compositing, pixel drill\n",
    "* **Special requirements:** An _optional_ description of any special requirements, e.g.: If running on the [NCI](https://nci.org.au/), ensure that `module load otps` is run prior to launching this notebook"
   ]
  },
  {
   "cell_type": "markdown",
   "metadata": {},
   "source": [
    "## Getting started\n",
    "<div class=\\\"alert alert-info\\\">\n",
    "To run this analysis, run all the cells in the notebook, starting with the \"Load modules\" cell. \n",
    "</div>    "
   ]
  },
  {
   "cell_type": "markdown",
   "metadata": {},
   "source": [
    "## Load modules"
   ]
  },
  {
   "cell_type": "code",
   "execution_count": 7,
   "metadata": {},
   "outputs": [],
   "source": [
    "import datacube"
   ]
  },
  {
   "cell_type": "markdown",
   "metadata": {},
   "source": [
    "## Heading 1\n",
    "Use markdown text for detailed, descriptive text explaining what the code below does, and why it is needed."
   ]
  },
  {
   "cell_type": "code",
   "execution_count": 10,
   "metadata": {},
   "outputs": [],
   "source": [
    "# Use code comments for low-level documentation of code\n",
    "foo = 1"
   ]
  },
  {
   "cell_type": "markdown",
   "metadata": {},
   "source": [
    "## Heading 2\n",
    "Use markdown text for detailed, descriptive text explaining what the code below does, and why it is needed."
   ]
  },
  {
   "cell_type": "code",
   "execution_count": 11,
   "metadata": {},
   "outputs": [],
   "source": [
    "# Use code comments for low-level documentation of code\n",
    "bar = 2"
   ]
  },
  {
   "cell_type": "raw",
   "metadata": {
    "raw_mimetype": "text/restructuredtext"
   },
   "source": [
    "# In the final notebook cell, include a set of relevant tags which are used to build an \n",
    "# index of tags here: https://docs.dea.ga.gov.au/genindex.html (if possible, re-use tags)\n",
    "**Tags**: :index:`dc.load`, :index:`plot`, :index:`three_band_image`, :index:`ipywidgets`, :index:`onclick`, :index:`Landsat8`, :index:`pixeldrill`, :index:`DEAPlotting`, :index:`Scripts`, :index:`timeseries`"
   ]
  },
  {
   "cell_type": "code",
   "execution_count": null,
   "metadata": {},
   "outputs": [],
   "source": []
  }
 ],
 "metadata": {
  "kernelspec": {
   "display_name": "Python 3",
   "language": "python",
   "name": "python3"
  },
  "language_info": {
   "codemirror_mode": {
    "name": "ipython",
    "version": 3
   },
   "file_extension": ".py",
   "mimetype": "text/x-python",
   "name": "python",
   "nbconvert_exporter": "python",
   "pygments_lexer": "ipython3",
   "version": "3.6.7"
  }
 },
 "nbformat": 4,
 "nbformat_minor": 4
}
