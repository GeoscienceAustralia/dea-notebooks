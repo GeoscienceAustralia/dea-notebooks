{
 "cells": [
  {
   "cell_type": "markdown",
   "metadata": {},
   "source": [
    "# Monitoring chlorophyll-*a* in Australian waterbodies"
   ]
  },
  {
   "cell_type": "markdown",
   "metadata": {},
   "source": [
    "### Background\n",
    "Inland waterbodies are essential for supporting human life, both through the supply of drinking water and the support of agriculture and aquaculture.\n",
    "Such waterbodies can be contaminated by outbreaks of blue-green (and other toxic) algae, causing health issues for people and animals.\n",
    "For example, up to a million fish died during an [algal bloom event](https://www.abc.net.au/news/2019-01-08/second-fish-kill-in-darling-river-at-menindee/10696632) in the Darling river in late 2018 and early 2019.\n",
    "\n",
    "### The Problem\n",
    "While the health of waterbodies can be monitored from the ground through sampling, satellite imagery can complement this, potentially improving the detection of large algal bloom events.\n",
    "However, there needs to be a well-understood and tested way to link satellite observations to the presence of algal blooms.\n",
    "\n",
    "### Sentinel-2 use case\n",
    "Algal blooms are associated with the presence of clorophyll-*a* in waterbodies.\n",
    "[Mishra and Mishra (2012)](https://doi.org/10.1016/j.rse.2011.10.016) developed the normalised difference chlorophyll index (NDCI), which serves as a qualitative indicator for the concentration of clorophyll-*a* on the surface of a waterbody.\n",
    "The index requires information from a specific part of the infrared specturm, known as the 'red edge'. \n",
    "This is captured as part of Sentinel-2's 13 spectral bands, making it possible to measure the NDCI with Sentinel-2. \n",
    "\n",
    "In this example, we measure the NDCI for one of the Menindee Lakes, which was strongly affected by the algal bloom event mentioned in the Background section.\n",
    "This is combined with information about the size of the waterbody, which is used to build a helpful visualisation of how the water-level and presence of chlorophyll-*a* changes over time.\n",
    "The worked example takes users through the code required to:\n",
    "1. Load cloud-free Sentinel-2 images for an area of interest.\n",
    "2. Compute indices to measure the presence of water and clorophyll-*a*.\n",
    "3. Generate informative visualisations to identify the presence of clorophyll-*a*.\n",
    "\n",
    "#### Some caveats\n",
    "- The NDCI is currently treated as an experimental index for Australia, as futher work is needed to calibrate and validate how well the index relates to the presence of clorophyll-*a*. \n",
    "- It is also important to remember that algal blooms will usually result in increased values of the NDCI, but not all NDCI increases will be from algal blooms.\n",
    "For example, there may be seasonal fluctuations in the amount of clorophyll-*a* in a waterbody.\n",
    "- Further validation work is required to understand how shallow water and atmospheric effects affect the NDCI, and its use in identifying high concentrations of clorophyll-*a*."
   ]
  },
  {
   "cell_type": "markdown",
   "metadata": {},
   "source": [
    "### Technical details\n",
    "* **Products used:** [`s2a_ard_granule`](https://explorer.sandbox.dea.ga.gov.au/s2a_ard_granule), [`s2b_ard_granule`](https://explorer.sandbox.dea.ga.gov.au/s2b_ard_granule)\n",
    "* **Analyses used:** NDCI index, MNDWI index"
   ]
  },
  {
   "cell_type": "markdown",
   "metadata": {},
   "source": [
    "## Getting started\n",
    "**To run this analysis**, run all the cells in the notebook, starting with the \"Load packages\" cell.\n",
    "\n",
    "**After finishing the analysis**, return to the \"Analysis parameters\" cell, modify some values (e.g. choose a different location or time period to analyse) and re-run the analysis.\n",
    "There are additional instructions on modifying the notebook at the end."
   ]
  },
  {
   "cell_type": "markdown",
   "metadata": {},
   "source": [
    "### Load packages\n",
    "Load key Python packages and supporting functions for the analysis."
   ]
  },
  {
   "cell_type": "code",
   "execution_count": null,
   "metadata": {},
   "outputs": [],
   "source": [
    "%matplotlib inline\n",
    "\n",
    "import datacube\n",
    "import matplotlib\n",
    "import matplotlib.pyplot as plt\n",
    "import numpy as np\n",
    "import pandas as pd\n",
    "import sys\n",
    "import xarray as xr\n",
    "import warnings\n",
    "warnings.filterwarnings('ignore')\n",
    "\n",
    "from utils.dea_plotting import display_map, rgb\n",
    "from utils.dea_datahandling import load_ard"
   ]
  },
  {
   "cell_type": "markdown",
   "metadata": {},
   "source": [
    "### Connect to the datacube\n",
    "Activate the datacube database, which provides functionality for loading and displaying stored Earth observation data."
   ]
  },
  {
   "cell_type": "code",
   "execution_count": null,
   "metadata": {},
   "outputs": [],
   "source": [
    "dc = datacube.Datacube(app=\"Waterbody_monitoring\")"
   ]
  },
  {
   "cell_type": "markdown",
   "metadata": {},
   "source": [
    "### Analysis parameters\n",
    "\n",
    "The following cell sets the parameters, which define the area of interest and the length of time to conduct the analysis over.\n",
    "The parameters are:\n",
    "\n",
    "* `latitude`: The latitude range to analyse (e.g. `(-32.423, -32.523)`).\n",
    "For reasonable loading times, make sure the range spans less than ~0.1 degrees.\n",
    "* `longitude`: The longitude range to analyse (e.g. `(142.180, 142.280)`).\n",
    "For reasonable loading times, make sure the range spans less than ~0.1 degrees.\n",
    "* `time`: The date range to analyse (e.g. `('2015-01-01', '2019-09-01')`).\n",
    "For reasonable loading times, make sure the range spans less than 3 years.\n",
    "Note that Sentinel-2 data is not available in Australia prior to 2015.\n",
    "\n",
    "**If running the notebook for the first time**, keep the default settings below.\n",
    "This will demonstrate how the analysis works and provide meaningful results.\n",
    "The example covers Lake Cawndilla, one of the Menindee Lakes in New South Wales.\n",
    "\n",
    "**To run the notebook for a different area**, make sure Sentinel-2 data is available for the chosen area using the [DEA Sandbox Explorer](https://explorer.sandbox.dea.ga.gov.au/s2a_ard_granule).\n",
    "Use the drop-down menu to check both Sentinel-2A (`s2a_ard_granule`) and Sentinel-2B (`s2b_ard_granule`). \n"
   ]
  },
  {
   "cell_type": "code",
   "execution_count": null,
   "metadata": {},
   "outputs": [],
   "source": [
    "# Define the area of interest\n",
    "latitude = (-32.423, -32.523)\n",
    "longitude = (142.180, 142.280)\n",
    "\n",
    "# Set the range of dates for the analysis\n",
    "time = ('2017-01-01', '2019-06-01')"
   ]
  },
  {
   "cell_type": "markdown",
   "metadata": {},
   "source": [
    "## View the selected location\n",
    "The next cell will display the selected area on an interactive map.\n",
    "Feel free to zoom in and out to get a better understanding of the area you'll be analysing.\n",
    "Clicking on any point of the map will reveal the latitude and longitude coordinates of that point."
   ]
  },
  {
   "cell_type": "code",
   "execution_count": null,
   "metadata": {},
   "outputs": [],
   "source": [
    "display_map(x=longitude, y=latitude)"
   ]
  },
  {
   "cell_type": "markdown",
   "metadata": {},
   "source": [
    "## Load and view Sentinel-2 data\n",
    "\n",
    "The first step in the analysis is to load Sentinel-2 data for the specified area of interest and time range.\n",
    "This uses the pre-defined `load_ard` utility function.\n",
    "This function will automatically mask any clouds in the dataset, and only return images where more than 70% of the pixels were classified as free from cloud.\n",
    "When working with Sentinel-2, the function will also combine and sort images from both Sentinel-2A and Sentinel-2B.\n",
    "\n",
    "**Please be patient**.\n",
    "The data may take a few minutes to load and progress will be indicated by text output.\n",
    "The load is complete when the cell status goes from `[*]` to `[number]`."
   ]
  },
  {
   "cell_type": "code",
   "execution_count": null,
   "metadata": {},
   "outputs": [],
   "source": [
    "# Choose products to load\n",
    "# Here, the Sentinel-2A and Sentinel-2B products are chosen\n",
    "products = ['s2a_ard_granule', 's2b_ard_granule']\n",
    "\n",
    "# Specify the parameters to pass to the load query\n",
    "query = {\n",
    "    \"x\": longitude,\n",
    "    \"y\": latitude,\n",
    "    \"time\": time,\n",
    "    \"measurements\": [\n",
    "        \"nbart_red_edge_1\",  # Red edge 1 band\n",
    "        \"nbart_red\",         # Red band\n",
    "        \"nbart_green\",       # Green band\n",
    "        \"nbart_blue\",        # Blue band\n",
    "        \"nbart_nir_1\",       # Near-infrared band\n",
    "        \"nbart_swir_2\",      # Short wave infrared band\n",
    "        \"fmask\"              # Cloud masking band\n",
    "    ],\n",
    "    \"output_crs\": \"EPSG:3577\",\n",
    "    \"resolution\": (-20, 20)\n",
    "}\n",
    "\n",
    "# Load the data\n",
    "ds_s2 = load_ard(dc, products=products, min_gooddata=0.7, **query)"
   ]
  },
  {
   "cell_type": "markdown",
   "metadata": {},
   "source": [
    "**Once the load is complete**, examine the data by printing it in the next cell.\n",
    "The `Dimensions` argument reveals the number of time steps in the data set, as well as the number of pixels in the x (longitude) and y (latitude) dimensions."
   ]
  },
  {
   "cell_type": "code",
   "execution_count": null,
   "metadata": {},
   "outputs": [],
   "source": [
    "print(ds_s2)"
   ]
  },
  {
   "cell_type": "markdown",
   "metadata": {},
   "source": [
    "### Plot example timestep in true colour\n",
    "\n",
    "To visualise the data, use the pre-loaded `rgb` utility function to plot a true colour image for a given time-step.\n",
    "White spots in the images are where clouds or other invalid pixels have been masked out.\n",
    "\n",
    "The settings below will display images for two time steps, one in January 2017, one in January 2018.\n",
    "What are the key differences that you notice?\n",
    "\n",
    "Feel free to experiement with the values for the `initial_timestep` and `final_timestep` variables; re-run the cell to plot the images for the new timesteps.\n",
    "The values for the timesteps can be `0` to one fewer than the number of time steps loaded in the data set.\n",
    "The number of time steps is the same as the total number of observations listed as the output of the cell used to load the data.\n",
    "\n",
    "**Note:** if the location and time are changed, you may need to change the `intial_timestep` and `final_timestep` parameters to view images at similar times of year."
   ]
  },
  {
   "cell_type": "code",
   "execution_count": null,
   "metadata": {},
   "outputs": [],
   "source": [
    "# Set the timesteps to visualise\n",
    "initial_timestep = 1\n",
    "final_timestep = 35\n",
    "\n",
    "# Generate RGB plots at each timestep\n",
    "rgb(ds_s2, index=[initial_timestep, final_timestep])"
   ]
  },
  {
   "cell_type": "markdown",
   "metadata": {},
   "source": [
    "## Compute band indices\n",
    "This study measures the presence of water through the modified normalised difference water index (MNDWI) and clorophyll-*a* through the normalised difference clorophyll index (NDCI).\n",
    "\n",
    "MNDWI is calculated from the green and shortwave infrared (SWIR) bands to identify water.\n",
    "The formula is\n",
    "\n",
    "$$\n",
    "\\begin{aligned}\n",
    "\\text{MNDWI} = \\frac{\\text{Green} - \\text{SWIR}}{\\text{Green} + \\text{SWIR}}.\n",
    "\\end{aligned}\n",
    "$$\n",
    "\n",
    "When interpreting this index, values greater than 0 indicate water.\n",
    "\n",
    "NDCI is calculated from the red edge 1 and red bands to identify water.\n",
    "The formula is\n",
    "\n",
    "$$\n",
    "\\begin{aligned}\n",
    "\\text{NDCI} = \\frac{\\text{Red edge 1} - \\text{Red}}{\\text{Red edge 1} + \\text{Red}}.\n",
    "\\end{aligned}\n",
    "$$\n",
    "\n",
    "When interpreting this index, high values indicate the presence of clorophyll-*a*."
   ]
  },
  {
   "cell_type": "code",
   "execution_count": null,
   "metadata": {},
   "outputs": [],
   "source": [
    "# Calculate MNDWI and add it to the loaded dataset\n",
    "ds_s2['MNDWI'] = (ds_s2.nbart_green - ds_s2.nbart_swir_2)/(ds_s2.nbart_green + ds_s2.nbart_swir_2)\n",
    "\n",
    "# Calculate NDCI and add it to the loaded dataset\n",
    "ds_s2['NDCI'] = (ds_s2.nbart_red_edge_1 - ds_s2.nbart_red)/(ds_s2.nbart_red_edge_1 + ds_s2.nbart_red)"
   ]
  },
  {
   "cell_type": "markdown",
   "metadata": {},
   "source": [
    "## Build summary plot\n",
    "To get an understanding of how the waterbody has changed over time, the following section builds a plot that uses the MNDWI to measure the approximate area of the waterbody, along with the NDCI to track how the concentration of clorophyll-*a* is changing over time.\n",
    "This could be used to quickly assess the status of a given waterbody."
   ]
  },
  {
   "cell_type": "markdown",
   "metadata": {},
   "source": [
    "### Set up constants\n",
    "The number of pixels classified as water (MNDWI > 0) can be used as a proxy for the area of the waterbody if the pixel area is known. \n",
    "Run the following cell to generate the necessary constants for performing this conversion."
   ]
  },
  {
   "cell_type": "code",
   "execution_count": null,
   "metadata": {},
   "outputs": [],
   "source": [
    "# Constants for calculating waterbody area\n",
    "pixel_length = query[\"resolution\"][1]  # in metres\n",
    "m_per_km = 1000  # conversion from metres to kilometres\n",
    "\n",
    "area_per_pixel = pixel_length**2 / m_per_km**2"
   ]
  },
  {
   "cell_type": "markdown",
   "metadata": {},
   "source": [
    "### Compute the total water area\n",
    "The next cell starts by filtering the data set to only keep the pixels that are classified as water. \n",
    "It then calculates the water area by counting all of the MNDWI pixels in the filtered data set, calculating the rolling median (helps account for variation from cloud-masking), and multiplying by the area-per-pixel."
   ]
  },
  {
   "cell_type": "code",
   "execution_count": null,
   "metadata": {},
   "outputs": [],
   "source": [
    "# Filter the data to contain only pixels classified as water\n",
    "ds_s2_waterarea = ds_s2.where(ds_s2.MNDWI > 0.0)\n",
    "\n",
    "# Calculate the total water area (in km^2)\n",
    "waterarea = ds_s2_waterarea.MNDWI.count(dim=[\"x\", \"y\"]).rolling(time=3, center=True, min_periods=1).median(skipna=True) * area_per_pixel\n",
    "\n",
    "print(waterarea)"
   ]
  },
  {
   "cell_type": "markdown",
   "metadata": {},
   "source": [
    "### Compute the average NDCI\n",
    "The next cell computes the average NDCI for each time step using the filtered data set made in the previous cell.\n",
    "This means that we're only calculating the NDCI for waterbody areas (and ignoring the NDCI value on land)."
   ]
  },
  {
   "cell_type": "code",
   "execution_count": null,
   "metadata": {},
   "outputs": [],
   "source": [
    "# Calculate the average NDCI\n",
    "average_ndci = ds_s2_waterarea.NDCI.mean(dim=[\"x\", \"y\"], skipna=True)\n",
    "\n",
    "print(average_ndci)"
   ]
  },
  {
   "cell_type": "markdown",
   "metadata": {},
   "source": [
    "### Combine the data to build the summary plot\n",
    "The cell below contains the code to build the summary plot. \n",
    "Notice that Python can be used to build highly-customised plots.\n",
    "If you're interested, take some time to understand how the plot is built.\n",
    "Otherwise, run the cell to build the plot.\n",
    "\n",
    "The plot shows waterbody area on the y-axis. \n",
    "NDCI values are shown using colours, with dark colours/blue indicating low NDCI values, and bright colours/yellow indicating high NDCI."
   ]
  },
  {
   "cell_type": "code",
   "execution_count": null,
   "metadata": {},
   "outputs": [],
   "source": [
    "# Set up the figure\n",
    "fig, axes = plt.subplots(1, 1, figsize=(12, 4))\n",
    "\n",
    "# Set the colour map to use and the normalisation\n",
    "# NDCI is plotted on a scale of -0.1 to 0.3, so the colour map is normalised to these values\n",
    "min_ndci_scale = -0.1\n",
    "max_ndci_scale = 0.3\n",
    "cmap = plt.get_cmap('viridis')\n",
    "normal = plt.Normalize(vmin=min_ndci_scale, vmax=max_ndci_scale)\n",
    "\n",
    "# Store the dates from the data set as numbers for ease of plotting\n",
    "dates=matplotlib.dates.date2num(ds_s2_waterarea.time)\n",
    "\n",
    "# Add the basic plot to the figure\n",
    "# This is just a line showing the area of the waterbody over time\n",
    "axes.plot_date(x=dates, y=waterarea, color='black', linestyle='-', marker='')\n",
    "\n",
    "# Fill in the plot by looping over the possible threshold values and filling the areas that are greater than the threshold \n",
    "color_vals = np.linspace(0, 1, 100)\n",
    "threshold_vals = np.linspace(min_ndci_scale, max_ndci_scale, 100)\n",
    "for ii, thresh in enumerate(threshold_vals):\n",
    "    im = axes.fill_between(dates, 0, waterarea, where=(average_ndci >= thresh), norm=normal, facecolor=cmap(color_vals[ii]), alpha=1)\n",
    "\n",
    "# Add the colour bar to the plot\n",
    "cax, _ = matplotlib.colorbar.make_axes(axes)\n",
    "cb2 = matplotlib.colorbar.ColorbarBase(cax, cmap=cmap, norm=normal)\n",
    "cb2.set_label('NDCI')\n",
    "\n",
    "# Add titles and labels to the plot\n",
    "axes.set_xlabel(\"Date\")\n",
    "axes.set_ylabel(\"Waterbody area (km$^2$)\")\n",
    "plt.show()"
   ]
  },
  {
   "cell_type": "markdown",
   "metadata": {},
   "source": [
    "What does the plot reveal about the waterbody? \n",
    "Are there periods that show high NDCI values?"
   ]
  },
  {
   "cell_type": "markdown",
   "metadata": {},
   "source": [
    "## Compare spatial NDCI at two different dates\n",
    "While the summary plot is useful at a glance it can be interesting to see the full spatial picture at times where the NDCI is low vs. high.\n",
    "The code below defines two useful functions: `closest_date` will find the date in a list of dates closest to any given date; `date_index` will return the position of a particular date in a list of dates. \n",
    "These functions are useful for selecting images to compare. "
   ]
  },
  {
   "cell_type": "code",
   "execution_count": null,
   "metadata": {},
   "outputs": [],
   "source": [
    "def closest_date(list_of_dates, desired_date):\n",
    "    return min(list_of_dates, key=lambda x: abs(x - np.datetime64(desired_date)))\n",
    "\n",
    "def date_index(list_of_dates, known_date):\n",
    "    return(np.where(list_of_dates == known_date)[0][0])"
   ]
  },
  {
   "cell_type": "markdown",
   "metadata": {},
   "source": [
    "Run the cell below to set two dates to compare.\n",
    "Feel free to change the dates to look at the NDCI of the waterbody at different times."
   ]
  },
  {
   "cell_type": "code",
   "execution_count": null,
   "metadata": {},
   "outputs": [],
   "source": [
    "# Set the dates to view\n",
    "date_1 = '2017-02-15'\n",
    "date_2 = '2018-11-15'\n",
    "\n",
    "# Compute the closest date available from the data set\n",
    "closest_date_1 = closest_date(ds_s2.time.values, date_1)\n",
    "closest_date_2 = closest_date(ds_s2.time.values, date_2)\n",
    "\n",
    "# Plot the NDCI values for pixels classified as water for the two dates.\n",
    "ds_s2_waterarea.NDCI.sel(time=[closest_date_1, closest_date_2]).plot.imshow('x', 'y', col='time', cmap=cmap, vmin=min_ndci_scale, vmax=max_ndci_scale, figsize=(12, 5))\n",
    "plt.show()"
   ]
  },
  {
   "cell_type": "markdown",
   "metadata": {},
   "source": [
    "Run the cell below to see the true-colour images for the same dates"
   ]
  },
  {
   "cell_type": "code",
   "execution_count": null,
   "metadata": {},
   "outputs": [],
   "source": [
    "# Compute the index of the closest dates\n",
    "closest_date_1_idx = date_index(ds_s2.time, closest_date_1)\n",
    "closest_date_2_idx = date_index(ds_s2.time, closest_date_2)\n",
    "\n",
    "# Make the true colour plots for the closest dates\n",
    "rgb(ds_s2, index=[closest_date_1_idx, closest_date_2_idx])"
   ]
  },
  {
   "cell_type": "markdown",
   "metadata": {},
   "source": [
    "## Drawing conclusions\n",
    "Here are some questions to think about:\n",
    "- How well do increased NDCI values match with what you see in the true-colour images?\n",
    "- When would it be more helpful to use the summary plot vs. the time comparison plot and vice-versa?\n",
    "- What does the water look like in the true-colour image when the NDCI is low-to-medium vs. high?\n",
    "- What other information might you seek if you detected an abnormally high NDCI value?"
   ]
  },
  {
   "cell_type": "markdown",
   "metadata": {},
   "source": [
    "## Next steps\n",
    "\n",
    "When you are done, return to the \"Analysis parameters\" section, modify some values (e.g. `latitude`, `longitude` or `time`) and re-run the analysis.\n",
    "You can use the interactive map in the \"View the selected location\" section to find new central latitude and longitude values by panning and zooming, and then clicking on the area you wish to extract location values for.\n",
    "You can also use Google maps to search for a location you know, then return the latitude and longitude values by clicking the map.\n",
    "\n",
    "If you're going to change the location, you'll need to make sure Sentinel-2 data is available for the new location, which you can check at the [DEA Sandbox Explorer](https://explorer.sandbox.dea.ga.gov.au/s2a_ard_granule).\n",
    "Use the drop-down menu to check both Sentinel-2A (`s2a_ard_granule`) and Sentinel-2B (`s2b_ard_granule`). \n",
    "\n",
    "If you want to look at another of the Menindee Lakes, try the following coordinates over the same time period as the original example:\n",
    "```\n",
    "latitude = (-32.415, -32.273)\n",
    "longitude = (142.228, 142.409)\n",
    "```"
   ]
  },
  {
   "cell_type": "markdown",
   "metadata": {},
   "source": [
    "## Additional information"
   ]
  },
  {
   "cell_type": "markdown",
   "metadata": {},
   "source": [
    "**License:** The code in this notebook is licensed under the [Apache License, Version 2.0](https://www.apache.org/licenses/LICENSE-2.0). \n",
    "Digital Earth Australia data is licensed under the [Creative Commons by Attribution 4.0](https://creativecommons.org/licenses/by/4.0/) license.\n",
    "\n",
    "**Contact:** If you need assistance, please post a question on the [Open Data Cube Slack channel](http://slack.opendatacube.org/) or on the [GIS Stack Exchange](https://gis.stackexchange.com/questions/ask?tags=open-data-cube) using the `open-data-cube` tag (you can view previously asked questions [here](https://gis.stackexchange.com/questions/tagged/open-data-cube)).\n",
    "If you would like to report an issue with this notebook, you can file one on [Github](https://github.com/GeoscienceAustralia/dea-notebooks).\n",
    "\n",
    "**Last modified:** September 2019\n",
    "\n",
    "**Compatible `datacube` version:** "
   ]
  },
  {
   "cell_type": "code",
   "execution_count": null,
   "metadata": {},
   "outputs": [],
   "source": [
    "print(datacube.__version__)"
   ]
  }
 ],
 "metadata": {
  "kernelspec": {
   "display_name": "Python 3",
   "language": "python",
   "name": "python3"
  },
  "language_info": {
   "codemirror_mode": {
    "name": "ipython",
    "version": 3
   },
   "file_extension": ".py",
   "mimetype": "text/x-python",
   "name": "python",
   "nbconvert_exporter": "python",
   "pygments_lexer": "ipython3",
   "version": "3.6.8"
  }
 },
 "nbformat": 4,
 "nbformat_minor": 4
}
