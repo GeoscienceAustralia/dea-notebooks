{
 "cells": [
  {
   "cell_type": "markdown",
   "metadata": {},
   "source": [
    "# Shipping Lanes Case Study"
   ]
  },
  {
   "cell_type": "markdown",
   "metadata": {},
   "source": [
    "## Background\n",
    "\n",
    "When working with radar data, water commonly appears dark; its relatively smooth surface results in very little backscatter, and consequently, low intensities recorded by the satellite in both polarisation bands. However, if a large ship is on the water, the backscatter at the ship's location will be much higher than the water.\n",
    "\n",
    "In this notebook, we attempt to identify shipping lanes around Australia by taking advantage of the fact that ships on the water result in a significant backscatter signal. This can be done by finding the maximum of each pixel in Sentinel-1 images. Computing the maximum for a large number of pixel is computationally expensive, so we make use of the parallel-computing library [Dask](https://docs.dask.org/en/latest/).\n",
    "\n",
    "This notebook was inspired by [this thread](https://twitter.com/sgascoin/status/1113184052587171842) on Twitter."
   ]
  },
  {
   "cell_type": "markdown",
   "metadata": {},
   "source": [
    "## Import key packages for analysis"
   ]
  },
  {
   "cell_type": "code",
   "execution_count": null,
   "metadata": {},
   "outputs": [],
   "source": [
    "%matplotlib inline\n",
    "\n",
    "import datacube\n",
    "import datetime\n",
    "import numpy as np\n",
    "import json\n",
    "import matplotlib.pyplot as plt\n",
    "from utils.display import display_map\n",
    "\n",
    "dc = datacube.Datacube(app='dc-visualize')"
   ]
  },
  {
   "cell_type": "markdown",
   "metadata": {},
   "source": [
    "## Set up distributed computing\n",
    "Access to Dask is provided as part of the DEA Sandbox environment. The cluster for parallel computing is set up by calling the `Client()` function."
   ]
  },
  {
   "cell_type": "code",
   "execution_count": null,
   "metadata": {
    "scrolled": false
   },
   "outputs": [],
   "source": [
    "import dask\n",
    "from dask.distributed import Client\n",
    "\n",
    "client = Client('dask-datacube-dask.labs:8786')"
   ]
  },
  {
   "cell_type": "markdown",
   "metadata": {},
   "source": [
    "## Select and view a study area\n",
    "\n",
    "There are a number of key ports covered by DEA Sentinel-1 data. The available data can be viewed on the [Dashboard](https://dashboard.dea-sandbox.test.frontiersi.io/s1_gamma0_geotif_scene), but we also list the latitude and longitude coordinates for a few key ports below.\n",
    "\n",
    "### New South Wales\n",
    "**Port of Newcastle**<br>\n",
    "This is one of Australia's largest ports, with a diverse range of cargo types. <br>\n",
    "`latitude, longitude = (-32.9267, 151.7821)`\n",
    "\n",
    "**Port Kembla**<br>\n",
    "This is the home to New South Wales' largest motor vehicle import hub and grain export terminal. <br>\n",
    "`latitude, longitude = (-34.4854, 150.8996)`\n",
    "\n",
    "**Port Jackson**<br>\n",
    "This includes Sydney Harbour, which houses numerous cruise ships and ferries. <br>\n",
    "`latitude, longitude = (-33.8462, 151.2489)`\n",
    "\n",
    "### Northern Territory\n",
    "\n",
    "**Port Darwin**<br>\n",
    "This is a key port in Darwin, covering livestock, containers, and cruise ships. <br>\n",
    "`latitude, longitude = (-12.4167, 130.8000)`\n",
    "\n",
    "### Tasmania\n",
    "\n",
    "**Devonport**<br>\n",
    "This is where the Spirit of Tasmania (the ferry between Melbourne and Tasmania) transits from. <br>\n",
    "`latitude, longitude = (-41.1771, 146.3452)`\n",
    "\n",
    "The cell below can be used to specify the study area and time frame, then load a map of the study area. The area is selected by adding and subtracting `buffer` in degrees around the central latitude and longitude. Experiment with the value of this parameter to best capture the ship activity in the selected port."
   ]
  },
  {
   "cell_type": "code",
   "execution_count": null,
   "metadata": {
    "scrolled": false
   },
   "outputs": [],
   "source": [
    "# Set the centre latitude and longitude coordinates\n",
    "latitude, longitude = (-41.1771, 146.3452)\n",
    "\n",
    "# Set the study area around the centre coordinates, where buffer is in degrees\n",
    "buffer = 0.2\n",
    "latitude_range = (latitude - buffer, latitude + buffer)\n",
    "longitude_range = (longitude - buffer, longitude + buffer)\n",
    "\n",
    "# Set the time frame\n",
    "date_range = ('2017-01-01', '2018-01-01')\n",
    "\n",
    "display_map(latitude=latitude_range, longitude=longitude_range)"
   ]
  },
  {
   "cell_type": "markdown",
   "metadata": {},
   "source": [
    "## Load and view the data\n",
    "\n",
    "Data is loaded with the `dc.load()` function. The Sentinel-1 product `s1_gamma0_geotif_scene` has two measurement bands associated with it, `vh` and `vv`, corresponding to the cross-polarisation and co-polarisation measurements from the satellite. The `dask_chunks` argument is used to tell Dask how to segement the data for parallelised computations (see the [xarray documentation](http://xarray.pydata.org/en/stable/dask.html)). "
   ]
  },
  {
   "cell_type": "code",
   "execution_count": null,
   "metadata": {},
   "outputs": [],
   "source": [
    "%%time\n",
    "\n",
    "ds = dc.load(\n",
    "    product='s1_gamma0_geotif_scene',\n",
    "    x=longitude_range,\n",
    "    y=latitude_range,\n",
    "    output_crs='epsg:3577',\n",
    "    resolution=(-25, 25),\n",
    "    time = date_range,\n",
    "    measurements=['vh', 'vv'],\n",
    "    dask_chunks = {'x': 4000, 'y': 4000, 'time': 1}\n",
    ")\n",
    "\n",
    "print(ds)"
   ]
  },
  {
   "cell_type": "markdown",
   "metadata": {},
   "source": [
    "## Calculating and plotting the maximum pixel value\n",
    "\n",
    "After loading the data, we can calculate the maximum value for each pixel, additionally converting from linear scale to decibel scale by multiplying the base-10 logarithm by 10. Note that the Dask operation will occur when attempting to plot the `vh` band in the cell below. To see the resources being used when you run the operation, visit https://dask.sandbox.dea.ga.gov.au/status."
   ]
  },
  {
   "cell_type": "code",
   "execution_count": null,
   "metadata": {
    "scrolled": false
   },
   "outputs": [],
   "source": [
    "%%time\n",
    "\n",
    "maximum = 10*np.log10(ds.max(dim='time'))\n",
    "\n",
    "maximum.vh.plot.imshow(size=10, cmap=\"Greys_r\", robust=True)\n",
    "plt.show()"
   ]
  },
  {
   "cell_type": "markdown",
   "metadata": {},
   "source": [
    "## Conclusion\n",
    "\n",
    "The high contrast between the ships and the water can make for striking images. Fortunately, processing with Dask makes it possible to make these computationally-intensive images in under a minute, even for very large areas.\n",
    "\n",
    "Only a year of data is available at the moment, but more observations would likely lead to clearer identification of the shipping lanes."
   ]
  }
 ],
 "metadata": {
  "kernelspec": {
   "display_name": "Python 3",
   "language": "python",
   "name": "python3"
  },
  "language_info": {
   "codemirror_mode": {
    "name": "ipython",
    "version": 3
   },
   "file_extension": ".py",
   "mimetype": "text/x-python",
   "name": "python",
   "nbconvert_exporter": "python",
   "pygments_lexer": "ipython3",
   "version": "3.6.7"
  }
 },
 "nbformat": 4,
 "nbformat_minor": 2
}
