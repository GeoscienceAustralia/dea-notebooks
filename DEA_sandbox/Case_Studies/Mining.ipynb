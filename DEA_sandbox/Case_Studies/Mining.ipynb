{
 "cells": [
  {
   "cell_type": "markdown",
   "metadata": {},
   "source": [
    "# Tracking rehabilitation of mines\n",
    "\n",
    "### Background\n",
    "Land rehabilitation is an important aspect of responsible mining.\n",
    "For example, The Department of Mines, Industry Regulation and Safety (DMIRS) maintain a Mining Rehabilitation Fund (MRF) that Western Australian mining operators contribute to.\n",
    "The fund is used to rehabilitate abandoned and legacy mines, and is underpinned by the Mining Rehabilitation Fund Act 2012.\n",
    "As part of the fund, tenement holders report the ground disturbance, which can help DMIRS monitor how a mine's rehabilitation is going, as well as major disurbance events related to mining activity. \n",
    "\n",
    "### The Problem\n",
    "\n",
    "At the moment, most mining organisations only review disturbance annually, often contracting out the service to third party surveying and ecological consulting agencies.\n",
    "While these providers generally provide excellent information, there are two main issues:\n",
    "\n",
    "-  Annual visits give a very coarse view of how the mine is changing in time.\n",
    "-  There is no way to validate or sanity check consultants reports without a site visit.\n",
    "\n",
    "### Digital Earth Australia Use Case\n",
    "Rehabilitation and land disturbance can be monitored through satellite data by tracking the amount of vegetation and bare ground on the site compared with surrounding areas.\n",
    "A decrease in bare ground and increase in vegetation can be linked to positive rehabilitation.\n",
    "A slow increase or sharp spike in the amount of bare ground over a mining site may indicate increased disturbance, which is against the trend expected during rehabilitation efforts.\n",
    "This tracking can be achieved using the Fractional Cover data product from the Joint Remote Sensing Research Program, which is provided through DEA.\n",
    "\n",
    "Fractional Cover is derived from Landsat data, which has a revisit time of around two weeks for Australia, providing regular insight to a given mine's rehabilitation.\n",
    "This would allow companies to identify any disturbance events early in the year and take corrective action before the yearly reporting.\n",
    "It would also allow DMIRS to keep detailed records of how the mines they monitor are changing in time.\n",
    "\n",
    "Fractional Cover can also be used to validate the field reporting from surveying and ecological consultants before submitting reports.\n",
    "While reports from field surveys will provide more detail than most Earth Observation data products, such products provide the ability to provide context and validation of reports.\n",
    "For example, if the survey detects a disturbance, it may be hard to detect a reason.\n",
    "Fractional Cover can be used to identify the point in time, and possibly the cause of each disturbance event.\n",
    "\n",
    "The worked example below takes users through the code required to\n",
    "-  Create a time series data cube over a mine site.\n",
    "-  Select relevant data products for analysis.\n",
    "-  Create graphs to identify rehabilitation trends and disturbance events.\n",
    "-  Interpret the results.\n",
    "\n",
    "### Technical details\n",
    "\n",
    "**Products used:** <br>\n",
    "**Fractional Cover** <br>\n",
    "Fractional Cover provides land cover fractions representing the proportions of green, non-green and bare cover retrieved by inverting multiple linear regression estimates and using synthetic endmembers in a constrained non-negative least squares unmixing model. \n",
    "The algorithm for generating Fractional Cover was developed by the [Joint Remote Sensing Research Program](https://www.jrsrp.org.au/).\n",
    "\n",
    "**Water Observations from Space Feature Layers** <br>\n",
    "The Water Observation from Space (WOfS) product provides insight into the behaviour of surface water across Australia through time, demonstrating where water is persistent, such as in reservoirs, and where it is ephemeral, such as on floodplains during a flood.\n",
    "The Feature Layers product is used to mask clouds from the Fractional Cover product.\n",
    "\n",
    "**Satellite data: Landsat 8** <br>\n",
    "\n",
    "**App functions:** [casestudy_mining_functions](./utils/casestudy_mining_functions.py)\n",
    "* `load_mining_data()`: Loads and cleans data from Landsat 8.\n",
    "* `run_mining_app()`: Launches an interactive map and plots Fractional Cover values for selected areas."
   ]
  },
  {
   "cell_type": "markdown",
   "metadata": {},
   "source": [
    "# Run this notebook\n",
    "\n",
    "### Load the app functions\n",
    "The relevant Open Data Cube commands are exectuted by the two app functions `load_mining_data()` and `run_mining_app()`. To run the notebook, these need to be imported from `utils.casestudy_mining_functions` where they're described.\n",
    "\n",
    "The `%matplotlib inline` command allows the notebook to contain interactive plots.\n",
    "\n",
    "**To run cells, click inside and either press the** `Run` **button on the tool-bar or press** `Shift+Enter` **on the keyboard.**"
   ]
  },
  {
   "cell_type": "code",
   "execution_count": null,
   "metadata": {},
   "outputs": [],
   "source": [
    "%matplotlib inline\n",
    "\n",
    "from utils.casestudy_mining_functions import load_mining_data, run_mining_app"
   ]
  },
  {
   "cell_type": "markdown",
   "metadata": {},
   "source": [
    "### Load the data\n",
    "The `load_mining_data()` command performs several key steps:\n",
    "* load Fractional Cover and WOfS data for the study area\n",
    "* match the datasets to only retain data with the same time stamps\n",
    "* use WOfS to mask Fractional Cover\n",
    "* resample the masked Fractional Cover to get monthly average values\n",
    "* return the masked data for analysis.\n",
    "\n",
    "The masked data is stored in the `dataset_fc` object.\n",
    "As the command runs, feedback will be provided below the cell."
   ]
  },
  {
   "cell_type": "code",
   "execution_count": null,
   "metadata": {},
   "outputs": [],
   "source": [
    "dataset_fc = load_mining_data()"
   ]
  },
  {
   "cell_type": "markdown",
   "metadata": {},
   "source": [
    "### Run the mining app\n",
    "The `run_mining_app()` command launches an interactive map.\n",
    "Drawing polygons within the boundary (which represents the area covered by the loaded data) will result in plots of the average bare, green and non-green cover in that area.\n",
    "\n",
    "The command works by taking the loaded data `dataset_fc` as an argument. \n",
    "\n",
    "*Note*: When drawing polygons, draw one over the mine and one over the forest nearby, then the fractional cover values can be compared on the produced plot."
   ]
  },
  {
   "cell_type": "code",
   "execution_count": null,
   "metadata": {},
   "outputs": [],
   "source": [
    "run_mining_app(dataset_fc)"
   ]
  },
  {
   "cell_type": "markdown",
   "metadata": {},
   "source": [
    "### Insights\n",
    "Rehabilitation can be indicated by either a decrease in bare cover, or increases in either green or non-green cover.\n",
    "Consider which of these is occuring here.\n",
    "Use the results from a polygon over the forested area to understand broader trends in vegetation growth in the area."
   ]
  }
 ],
 "metadata": {
  "kernelspec": {
   "display_name": "Python 3",
   "language": "python",
   "name": "python3"
  },
  "language_info": {
   "codemirror_mode": {
    "name": "ipython",
    "version": 3
   },
   "file_extension": ".py",
   "mimetype": "text/x-python",
   "name": "python",
   "nbconvert_exporter": "python",
   "pygments_lexer": "ipython3",
   "version": "3.6.8"
  }
 },
 "nbformat": 4,
 "nbformat_minor": 4
}
