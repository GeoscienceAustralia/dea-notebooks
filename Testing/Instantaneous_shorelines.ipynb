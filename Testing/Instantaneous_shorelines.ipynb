{
 "cells": [
  {
   "cell_type": "code",
   "execution_count": null,
   "id": "eaee7039-c35e-4d35-aead-d7a6780d1baa",
   "metadata": {
    "tags": []
   },
   "outputs": [],
   "source": [
    "pip install nlmpy"
   ]
  },
  {
   "cell_type": "code",
   "execution_count": 4,
   "id": "55d71337-f1dd-4e3f-89ee-214cac85fde7",
   "metadata": {
    "tags": []
   },
   "outputs": [],
   "source": [
    "import random\n",
    "import matplotlib.pyplot as plt\n"
   ]
  },
  {
   "cell_type": "code",
   "execution_count": 5,
   "id": "dd830e20-11ee-491b-8869-1f8d6c9e7084",
   "metadata": {
    "tags": []
   },
   "outputs": [
    {
     "data": {
      "text/plain": [
       "<matplotlib.image.AxesImage at 0x7f6c405978b0>"
      ]
     },
     "execution_count": 5,
     "metadata": {},
     "output_type": "execute_result"
    },
    {
     "data": {
      "image/png": "[encoded data removed]",
      "text/plain": [
       "<Figure size 640x480 with 1 Axes>"
      ]
     },
     "metadata": {},
     "output_type": "display_data"
    }
   ],
   "source": [
    "# Import packages\n",
    "import numpy as np\n",
    "from skimage import graph\n",
    "import nlmpy\n",
    "\n",
    "# Set random seed so results are the same each time script runs\n",
    "# np.random.seed(1)\n",
    "\n",
    "\n",
    "# Create a hypothetical cost-surface\n",
    "# cs = np.random.rand(5000, 100)\n",
    "def moving_average(a, n=3):\n",
    "    ret = np.cumsum(a, dtype=float)\n",
    "    ret[n:] = ret[n:] - ret[:-n]\n",
    "    return ret[n - 1:] / n\n",
    "\n",
    "\n",
    "slopes = moving_average(np.random.rand(300), n=50)\n",
    "cs = np.vstack([slopes**5] * 100)\n",
    "\n",
    "# Make any values below one equal to no data\n",
    "# np.place(cs, cs < 1, -9999)\n",
    "# Specify the size of the cell\n",
    "cellSize = 10\n",
    "\n",
    "# From the cost-surface create a 'landscape graph' object which can then be\n",
    "# analysed using least-cost modelling\n",
    "lg = graph.MCP_Geometric(cs, sampling=(cellSize, cellSize))\n",
    "\n",
    "# Set starting points\n",
    "start_array = np.zeros(cs.shape)\n",
    "start_array[0, :] = 1\n",
    "starts = list(zip(*np.nonzero(start_array)))\n",
    "\n",
    "# Calculate the least-cost distance from the start cell to all other cells\n",
    "lcd = lg.find_costs(starts=starts)[0]\n",
    "plt.imshow((lcd > np.quantile(lcd, 0.05)).astype(int) +\n",
    "           (lcd > np.quantile(lcd, 0.2)).astype(int) +\n",
    "           (lcd > np.quantile(lcd, 0.4)).astype(int) +\n",
    "           (lcd > np.quantile(lcd, 0.6)).astype(int) +\n",
    "           (lcd > np.quantile(lcd, 0.8)).astype(int) +\n",
    "           (lcd > np.quantile(lcd, 0.95)).astype(int))\n"
   ]
  },
  {
   "cell_type": "code",
   "execution_count": 9,
   "id": "0ef059fd-27a1-4f47-a934-b31816f81232",
   "metadata": {
    "tags": []
   },
   "outputs": [
    {
     "data": {
      "text/plain": [
       "array([[0.01637594, 0.01655684, 0.01515336, ..., 0.0277987 , 0.03263238,\n",
       "        0.03230241],\n",
       "       [0.01637594, 0.01655684, 0.01515336, ..., 0.0277987 , 0.03263238,\n",
       "        0.03230241],\n",
       "       [0.01637594, 0.01655684, 0.01515336, ..., 0.0277987 , 0.03263238,\n",
       "        0.03230241],\n",
       "       ...,\n",
       "       [0.01637594, 0.01655684, 0.01515336, ..., 0.0277987 , 0.03263238,\n",
       "        0.03230241],\n",
       "       [0.01637594, 0.01655684, 0.01515336, ..., 0.0277987 , 0.03263238,\n",
       "        0.03230241],\n",
       "       [0.01637594, 0.01655684, 0.01515336, ..., 0.0277987 , 0.03263238,\n",
       "        0.03230241]])"
      ]
     },
     "execution_count": 9,
     "metadata": {},
     "output_type": "execute_result"
    }
   ],
   "source": [
    "cs"
   ]
  },
  {
   "cell_type": "code",
   "execution_count": null,
   "id": "474e899c-c441-410a-bf0f-c444b0b4883a",
   "metadata": {},
   "outputs": [],
   "source": []
  },
  {
   "cell_type": "code",
   "execution_count": null,
   "id": "0399dfed-4c36-4a92-8117-c1e0b8a0a7d7",
   "metadata": {},
   "outputs": [],
   "source": [
    "slopes.repeat(50, axis=0)"
   ]
  },
  {
   "cell_type": "code",
   "execution_count": null,
   "id": "4cbf4f8b-9e61-45fa-9bd3-414991adcaa6",
   "metadata": {},
   "outputs": [],
   "source": [
    "import numpy as np\n",
    "from skimage import graph\n",
    "import matplotlib.pyplot as plt\n",
    "# import nlmpy\n",
    "\n",
    "# Set random seed so results are the same each time script runs\n",
    "# np.random.seed(1)\n",
    "\n",
    "slopes = np.array([0.10, 0.08, 0.05, 0.02, 0.03, 0.04, 0.08, 0.15])\n",
    "cs = np.vstack([slopes] * 10)\n",
    "\n",
    "# Make any values below one equal to no data\n",
    "# np.place(cs, cs < 1, -9999)\n",
    "# Specify the size of the cell\n",
    "cellSize = 10\n",
    "\n",
    "# From the cost-surface create a 'landscape graph' object which can then be\n",
    "# analysed using least-cost modelling\n",
    "lg = graph.MCP_Geometric(cs, sampling=(cellSize, cellSize))\n",
    "\n",
    "# Set starting points\n",
    "start_array = np.zeros(cs.shape)\n",
    "start_array[0, :] = 1\n",
    "starts = list(zip(*np.nonzero(start_array)))\n",
    "\n",
    "# Calculate the least-cost distance from the start cell to all other cells\n",
    "lcd, trace = lg.find_costs(starts=starts, \n",
    "                           ends=[(-1, 0)], \n",
    "                           find_all_ends=False)\n",
    "lcd[~np.isfinite(lcd)] = np.nan\n"
   ]
  },
  {
   "cell_type": "code",
   "execution_count": null,
   "id": "c66faff1-f937-419a-b1ba-f962849e0563",
   "metadata": {},
   "outputs": [],
   "source": [
    "plt.imshow(lcd)\n",
    "plt.colorbar()\n",
    "print(slopes)\n",
    "print(' ')\n",
    "print(lcd.round(2))"
   ]
  },
  {
   "cell_type": "code",
   "execution_count": null,
   "id": "1d1758ca-24ef-4dd3-8a91-633099fde7fe",
   "metadata": {},
   "outputs": [],
   "source": [
    "traceback = lg.traceback(np.unravel_index(np.nanargmax(lcd), lcd.shape))\n",
    "indices = np.array(traceback).T\n",
    "path = np.zeros_like(lcd)\n",
    "path[indices[0], indices[1]] = 1\n",
    "plt.imshow(path)"
   ]
  },
  {
   "cell_type": "code",
   "execution_count": null,
   "id": "a4d742c5-5ac4-42ec-adba-aaca652297ba",
   "metadata": {},
   "outputs": [],
   "source": [
    "trace"
   ]
  },
  {
   "cell_type": "code",
   "execution_count": null,
   "id": "6dcaca63-ecf8-436f-855a-37ed3d145077",
   "metadata": {},
   "outputs": [],
   "source": [
    "plt.imshow(lcd > 0.9)"
   ]
  },
  {
   "cell_type": "markdown",
   "id": "24b09ce7-142f-4e7c-a9ac-0fa092a9451c",
   "metadata": {},
   "source": [
    "## Real world test"
   ]
  },
  {
   "cell_type": "code",
   "execution_count": null,
   "id": "1825daf0-dcaa-49e0-9f19-4d580f371b52",
   "metadata": {},
   "outputs": [],
   "source": [
    "import geopandas as gpd\n",
    "import matplotlib.pyplot as plt\n",
    "import numpy as np\n",
    "from skimage import graph\n",
    "import matplotlib.pyplot as plt\n",
    "from shapely.geometry import Point\n",
    "from rasterio.features import rasterize\n",
    "\n",
    "import warnings\n",
    "import pandas as pd\n",
    "pd.options.mode.chained_assignment = None\n",
    "warnings.simplefilter(action='ignore', category=FutureWarning)\n",
    "\n",
    "\n",
    "\n",
    "def cost_distance(cs, start_array, cellsize=10):\n",
    "\n",
    "    # From the cost-surface create a 'landscape graph' object which can then be\n",
    "    # analysed using least-cost modelling\n",
    "    lg = graph.MCP_Geometric(cs, sampling=(cellsize, cellsize))\n",
    "\n",
    "    # Set starting points\n",
    "    starts = list(zip(*np.nonzero(start_array)))\n",
    "\n",
    "    # Calculate the least-cost distance from the start cell to all other cells\n",
    "    lcd = lg.find_costs(starts=starts)[0]\n",
    "\n",
    "    return lcd\n",
    "\n",
    "def line_mndwi(row):\n",
    "    x_vals = xr.DataArray(row.geometry.coords.xy[0], dims='z')\n",
    "    y_vals = xr.DataArray(row.geometry.coords.xy[1], dims='z')   \n",
    "    return mndwi_i.interp(x=x_vals, y=y_vals).mean().item()\n",
    "\n",
    "\n",
    "\n",
    "def transect_distances(transects_gdf, lines_gdf):\n",
    "\n",
    "    def _intersect_dist(transect_gdf, lines_gdf):\n",
    "\n",
    "        intersect_points = lines_gdf.apply(\n",
    "            lambda x: x.geometry.intersection(transect_gdf.geometry), axis=1)\n",
    "\n",
    "        return intersect_points.apply(\n",
    "            lambda x: x.distance(transect_gdf.start_point))\n",
    "\n",
    "    # Determine start of transect\n",
    "    transects_gdf['start_point'] = transects_gdf.apply(\n",
    "        lambda x: Point(list(x.geometry.coords)[0]), axis=1)\n",
    "\n",
    "    # Run distance calculation\n",
    "    distance_df = transects_gdf.apply(lambda x: \n",
    "                                      _intersect_dist(x, lines_gdf), axis=1)\n",
    "    return distance_df.replace(0, np.nan)\n",
    "\n",
    "\n",
    "def waterbody_masking(input_data, modification_data, da):\n",
    "    \"\"\"\n",
    "    Generates a raster mask for DEACoastlines based on the \n",
    "    SurfaceHydrologyPolygonsRegional.gdb dataset, and a vector \n",
    "    file containing minor modifications to this dataset (e.g. \n",
    "    features to remove or add to the dataset).\n",
    "    \n",
    "    The mask returns True for perennial 'Lake' features, any \n",
    "    'Aquaculture Area', 'Estuary', 'Watercourse Area', 'Salt \n",
    "    Evaporator', and 'Settling Pond' features. Features of \n",
    "    type 'add' from the modification data file are added to the\n",
    "    mask, while features of type 'remove' are removed.\n",
    "    \n",
    "    Parameters:\n",
    "    -----------\n",
    "    input_data : string\n",
    "        A string giving the path to the file containing surface water\n",
    "        polygons (e.g. SurfaceHydrologyPolygonsRegional.gdb)\n",
    "    modification_data : string\n",
    "        A string giving the path to a vector file containing \n",
    "        modifications to the waterbody file. This vector file should\n",
    "        contain polygon features with an attribute field 'type'\n",
    "        indicating whether the function should 'add' or 'remove' the \n",
    "        feature from the waterbody mask.\n",
    "    bbox : geopandas.GeoSeries\n",
    "        A `geopandas.GeoSeries` giving the spatial extent to load data \n",
    "        for. This object should include a CRS.\n",
    "    da : xr.Dataset or xr.DataArray\n",
    "        The shape, coordinates, dimensions, and transform of this object \n",
    "        are used to build the rasterized shapefile. It effectively \n",
    "        provides a template. \n",
    "        \n",
    "    Returns:\n",
    "    --------\n",
    "    waterbody_mask : xr.DataArray\n",
    "        An xr.DataArray containing the rasterised surface water features.\n",
    "    \n",
    "    \"\"\"\n",
    "    \n",
    "    # Get bounding box to load data for\n",
    "    bbox = gpd.GeoSeries(da.geobox.extent.geom, \n",
    "                         crs=da.geobox.crs)    \n",
    "\n",
    "    # Import SurfaceHydrologyPolygonsRegional data\n",
    "    waterbody_gdf = gpd.read_file(input_data,\n",
    "                                  bbox=bbox).to_crs(da.geobox.crs)\n",
    "\n",
    "    # Restrict to coastal features\n",
    "    lakes_bool = ((waterbody_gdf.FEATURETYPE == 'Lake') &\n",
    "                  (waterbody_gdf.PERENNIALITY == 'Perennial'))\n",
    "    other_bool = waterbody_gdf.FEATURETYPE.isin([\n",
    "        'Aquaculture Area', 'Estuary', 'Watercourse Area', 'Salt Evaporator',\n",
    "        'Settling Pond'\n",
    "    ])\n",
    "    waterbody_gdf = waterbody_gdf[lakes_bool | other_bool]\n",
    "\n",
    "    # Load in modification dataset and select features to remove/add\n",
    "    mod_gdf = gpd.read_file(modification_data, bbox=bbox).to_crs(da.crs)\n",
    "    to_remove = mod_gdf[mod_gdf['type'] == 'remove']\n",
    "    to_add = mod_gdf[mod_gdf['type'] == 'add']\n",
    "\n",
    "    # Remove and add features\n",
    "    if len(to_remove.index) > 0:\n",
    "        if len(waterbody_gdf.index) > 0:\n",
    "            waterbody_gdf = gpd.overlay(waterbody_gdf,\n",
    "                                        to_remove,\n",
    "                                        how='difference')\n",
    "    if len(to_add.index) > 0:\n",
    "        if len(waterbody_gdf.index) > 0:\n",
    "            waterbody_gdf = gpd.overlay(waterbody_gdf, to_add, how='union')\n",
    "        else:\n",
    "            waterbody_gdf = to_add\n",
    "\n",
    "    # Rasterize waterbody polygons into a numpy mask. The try-except catches\n",
    "    # cases where no waterbody polygons exist in the study area\n",
    "    try:\n",
    "        waterbody_mask = rasterize(shapes=waterbody_gdf['geometry'],\n",
    "                                   out_shape=da.geobox.shape,\n",
    "                                   transform=da.geobox.transform,\n",
    "                                   all_touched=True).astype(bool)\n",
    "    except:\n",
    "        waterbody_mask = np.full(da.geobox.shape, False, dtype=bool)\n",
    "\n",
    "    return xr.DataArray(waterbody_mask, coords=ds.geobox.xr_coords())\n",
    "\n",
    "\n",
    "def nearest_neighbour(gdf):\n",
    "    \"\"\"\n",
    "    For each point in a geopandas.GeoDataFrame, identify the nearest \n",
    "    neighbouring point and distance to that point.\n",
    "    \"\"\"\n",
    "    \n",
    "    from shapely.ops import nearest_points\n",
    "       \n",
    "    def _nearest_neighbour_point(row, gdf):\n",
    "        point = row.geometry\n",
    "        multipoint = gdf.drop(row.name, axis=0).geometry.unary_union\n",
    "        _, nearest_point = nearest_points(point, multipoint)\n",
    "        return pd.Series({'nearest_point': nearest_point, \n",
    "                'nearest_dist': point.distance(nearest_point)})\n",
    "    \n",
    "    # Identify distance to nearest neighbour for each point in the dataset\n",
    "    nearest_neighbours = gdf.apply(\n",
    "        lambda x: _nearest_neighbour_point(x, gdf), axis=1)\n",
    "    \n",
    "    return nearest_neighbours\n",
    "\n",
    "\n",
    "def tide_mask(distance_da, mndwi_i, tide='low'): \n",
    "    \"\"\"\n",
    "    Takes array giving least-cost distance from a satellite derived\n",
    "    shoreline, and generates a mask with True values on the seaward or \n",
    "    landward side of the satellite-derived shoreline depending on \n",
    "    whether the shoreline was at low or high tide.\n",
    "    \n",
    "    Without this mask, tide-corrected shorelines would be mapped on both\n",
    "    sides of the satellite-derived shoreline as the least-cost distance\n",
    "    array has no concept of landward or seaward direction. This mask \n",
    "    ensures that only one output shoreline is generated by, for example,\n",
    "    ensuring a low tide shoreline is shifted landward by masking out the \n",
    "    seaward portion of the distance array.\n",
    "    \"\"\"\n",
    "    \n",
    "    from skimage.segmentation import watershed\n",
    "    from skimage.feature import peak_local_max\n",
    "    from scipy import ndimage as ndi\n",
    "    from skimage.measure import regionprops\n",
    "    \n",
    "    def _regionprops_nanmean(i):\n",
    "        return np.nanmean(np.where(i.intensity_image != 0, \n",
    "                                   i.intensity_image, \n",
    "                                   np.nan))\n",
    "    \n",
    "    # Set NAN to zero distance\n",
    "    valid_data = ~distance_da.isnull().values\n",
    "    distance = distance_da.where(valid_data, 0).values\n",
    "    \n",
    "    # Find local max distance peaks along edges of distance pixels\n",
    "    coords = peak_local_max(distance, footprint=np.ones((10, 10)))\n",
    "    \n",
    "    # Using these peaks, label image using watershed segmentation\n",
    "    mask = np.zeros(distance.shape, dtype=bool)\n",
    "    mask[tuple(coords.T)] = True\n",
    "    markers, _ = ndi.label(mask)\n",
    "    labels = watershed(-distance, markers, mask=valid_data)\n",
    "    \n",
    "    # Reproject MNDWI surface into same resolution as distance array\n",
    "    mndwi_highres = xr_reproject(mndwi_i,\n",
    "                                 geobox=distance_da.geobox)\n",
    "    \n",
    "    # For each labelled region, calculate MNDWI zonal statistics \n",
    "    mndwi_regions = regionprops(label_image=labels,\n",
    "                                intensity_image=mndwi_highres.values)\n",
    "    \n",
    "    # Depending on tide stage, select regions with negative/positive MNDWI\n",
    "    if tide == 'low':\n",
    "        labels_subset = [i.label for i in mndwi_regions if\n",
    "                         _regionprops_nanmean(i) < 0]\n",
    "    elif tide == 'high':\n",
    "        labels_subset = [i.label for i in mndwi_regions if\n",
    "                         _regionprops_nanmean(i) > 0]    \n",
    "    \n",
    "    tide_mask = np.isin(labels, labels_subset)\n",
    "\n",
    "    return xr.DataArray(tide_mask, \n",
    "                        coords=distance_da.geobox.xr_coords()).where(valid_data)"
   ]
  },
  {
   "cell_type": "code",
   "execution_count": null,
   "id": "17a5b1ea-1902-4be8-ad17-7bab181563ec",
   "metadata": {},
   "outputs": [],
   "source": [
    "transects_gdf = gpd.read_file('Australia_slopes_by_transect.geojson')\n",
    "beaches_gdf = gpd.read_file('Australia_slopes_by_beach.geojson')"
   ]
  },
  {
   "cell_type": "code",
   "execution_count": null,
   "id": "38b7d6fe-486f-4c80-bb8c-6dbbd6cef418",
   "metadata": {},
   "outputs": [],
   "source": [
    "name = 'narrabeen'\n",
    "beach_query = \"beach_id == 'aus0206'\"\n",
    "\n",
    "# name = 'stockton'\n",
    "# beach_query = \"beach_id == 'aus0173'\"\n",
    "\n",
    "# name = 'goldcoast'\n",
    "# beach_query = \"beach_id == 'aus0046'\"\n",
    "\n",
    "# name = 'roebuck'\n",
    "# beach_query = \"beach_id == 'aus1731'\"\n",
    "\n",
    "# name = 'byron'\n",
    "# beach_query = \"beach_id == 'aus0055'\" \n",
    "\n",
    "# name = 'mackay'\n",
    "# beach_query = \"beach_id == 'aus3888'\"\n",
    "\n",
    "# name = 'nt'\n",
    "# beach_query = \"beach_id == 'aus2715'\"\n",
    "\n",
    "# name = 'wamberal'\n",
    "# beach_query = \"beach_id == 'aus0190'\"\n",
    "\n",
    "# name = 'oldbar'\n",
    "# beach_query = \"beach_id == 'aus0149'\"\n",
    "\n",
    "# name = 'test'\n",
    "# beach_query = \"beach_id == 'aus0070'\""
   ]
  },
  {
   "cell_type": "code",
   "execution_count": null,
   "id": "8e92f948-e689-4734-9c7f-dd8149916cd1",
   "metadata": {},
   "outputs": [],
   "source": [
    "# Load beach and transect data\n",
    "beach_gdf = beaches_gdf.query(beach_query).copy()\n",
    "beach_transects_gdf = transects_gdf.query(beach_query).copy()  #.iloc[10:65]\n",
    "\n",
    "# Expand transects to avoid shorelines being clipped at low and high tide\n",
    "beach_transects_gdf['geometry'] = beach_transects_gdf.scale(xfact=2, yfact=2)\n",
    "\n",
    "# Buffer each transect point to provide a study area\n",
    "buffer_gdf = gpd.GeoDataFrame(geometry=beach_gdf.buffer(350, cap_style=2))\n",
    "buffer_gdf.plot(alpha=0.3)\n",
    "beach_gdf.plot(ax=plt.gca(), color='black')\n",
    "beach_transects_gdf.plot(ax=plt.gca(), column='Beach-face Slope', cmap='viridis')"
   ]
  },
  {
   "cell_type": "code",
   "execution_count": null,
   "id": "58b8049b-77c8-4b56-abf0-ded09bc70320",
   "metadata": {},
   "outputs": [],
   "source": [
    "from datacube.utils import geometry\n",
    "from datacube.utils.geometry import GeoBox, assign_crs\n",
    "import xarray as xr\n",
    "from dea_tools.spatial import interpolate_2d\n",
    "from dea_tools.spatial import xr_rasterize\n",
    "\n",
    "cell_size = 2\n",
    "\n",
    "# Create a geopolygon based on buffered study area dimensions\n",
    "geopoly = geometry.Geometry(geom=buffer_gdf.geometry.iloc[0],\n",
    "                            crs=beach_transects_gdf.crs)\n",
    "geobox = GeoBox.from_geopolygon(geopoly, resolution=(-cell_size, cell_size))\n",
    "\n",
    "# Use this to create an empty xr.DataArray\n",
    "da = xr.DataArray(coords=geobox.xr_coords(with_crs=True), dims=['y', 'x'])\n",
    "\n",
    "# Extract points from transects\n",
    "points = gpd.GeoSeries([beach_transects_gdf.unary_union.interpolate(i) for \n",
    "                        i in range(0, int(beach_transects_gdf.length.sum()), 50)])\n",
    "points_gdf = gpd.GeoDataFrame(geometry=points, crs=beach_transects_gdf.crs)\n",
    "points_gdf = points_gdf.sjoin_nearest(beach_transects_gdf)\n",
    "\n",
    "# Remove overlapping points\n",
    "points_gdf = points_gdf.loc[nearest_neighbour(points_gdf).nearest_dist > 20]\n",
    "\n",
    "# Interpolate points into array dimensions\n",
    "slope_da = interpolate_2d(ds=da,\n",
    "                          x_coords=points_gdf.geometry.x,\n",
    "                          y_coords=points_gdf.geometry.y,\n",
    "#                           z_coords=points_gdf['Beach-face Slope'],\n",
    "                          z_coords=points_gdf['Lower Confidence Bound'],\n",
    "                          method='linear')\n",
    "slope_da = assign_crs(slope_da, crs=beach_gdf.crs)\n",
    "\n",
    "# Plot\n",
    "buffer_slope_da = xr_rasterize(gdf=buffer_gdf, da=slope_da)\n",
    "slope_da = slope_da.where(buffer_slope_da)\n",
    "slope_da.plot.imshow(size=10, robust=True)\n",
    "points_gdf.plot(ax=plt.gca(), column='Beach-face Slope', markersize=20, edgecolor='black', linewidth=0.5)\n",
    "beach_gdf.plot(ax=plt.gca(), color='black')"
   ]
  },
  {
   "cell_type": "markdown",
   "id": "bd435e73-b0b9-4415-81e7-51b3b5c27935",
   "metadata": {},
   "source": [
    "### Run cost analysis"
   ]
  },
  {
   "cell_type": "code",
   "execution_count": null,
   "id": "06416b9c-6548-4088-ba3f-df8348ef0b69",
   "metadata": {},
   "outputs": [],
   "source": [
    "import datacube\n",
    "from datacube.utils.masking import mask_invalid_data\n",
    "from dea_tools.spatial import subpixel_contours\n",
    "from dea_tools.coastal import tidal_tag\n",
    "from dea_tools.datahandling import load_ard\n",
    "dc = datacube.Datacube()"
   ]
  },
  {
   "cell_type": "code",
   "execution_count": null,
   "id": "5ba3f649-4f2b-4eb8-a934-54cfc7a49d66",
   "metadata": {},
   "outputs": [],
   "source": [
    "ds = dc.load(product=['s2a_ard_granule', 's2b_ard_granule'],\n",
    "        measurements=['nbart_green', 'nbart_swir_2', 'fmask'],\n",
    "        geopolygon=geopoly,\n",
    "        output_crs=geopoly.crs,\n",
    "        resolution=(-10, 10),\n",
    "        resampling={'*': 'cubic', 'fmask': 'nearest'},\n",
    "#         dask_chunks={},\n",
    "        group_by='solar_day',\n",
    "        time='2020')\n",
    "\n",
    "# ds = load_ard(dc=dc,\n",
    "#               products=['s2a_ard_granule', 's2b_ard_granule'],\n",
    "#               measurements=['nbart_green', 'nbart_swir_2'],\n",
    "#               fmask_categories=['valid', 'snow', 'water'],\n",
    "#               mask_pixel_quality=False,\n",
    "#               geopolygon=geopoly,\n",
    "#               output_crs=geopoly.crs,\n",
    "#               resolution=(-10, 10),\n",
    "#               resampling={'*': 'cubic', 'fmask': 'nearest'},\n",
    "#               dask_chunks={},\n",
    "#               time='2020',\n",
    "#               group_by='solar_day',\n",
    "#               min_gooddata=0.3)\n",
    "\n",
    "# Remove NAs\n",
    "ds = mask_invalid_data(ds)"
   ]
  },
  {
   "cell_type": "code",
   "execution_count": null,
   "id": "ccbaa5fd-6449-4616-9e79-2c181f7d244e",
   "metadata": {},
   "outputs": [],
   "source": [
    "from datacube.utils.masking import make_mask\n",
    "\n",
    "ds.fmask.flags_definition"
   ]
  },
  {
   "cell_type": "code",
   "execution_count": null,
   "id": "059881f1-4a6a-4c23-ad02-80d0133be763",
   "metadata": {},
   "outputs": [],
   "source": [
    "import odc.algo\n",
    "\n",
    "# Extract boolean mask\n",
    "mask = odc.algo.enum_to_bool(\n",
    "    ds.fmask, categories=['nodata', 'cloud', 'shadow'])\n",
    "\n",
    "# Close mask to remove small holes in cloud, open mask to\n",
    "# remove narrow false positive cloud, then dilate\n",
    "mask_cleaned = odc.algo.mask_cleanup(mask=mask,\n",
    "                                     mask_filters=[('erosion', 5)])\n",
    "\n",
    "\n",
    "\n",
    "\n",
    "# .mean(dim='time')"
   ]
  },
  {
   "cell_type": "code",
   "execution_count": null,
   "id": "3dccd9eb-abed-4f73-96b5-0755478a53f4",
   "metadata": {},
   "outputs": [],
   "source": [
    "test_mask = (mask_cleaned.mean(dim='time') > 0.75)   #.plot()"
   ]
  },
  {
   "cell_type": "code",
   "execution_count": null,
   "id": "d6b49ed5-6f42-4db0-a89b-3d424def3148",
   "metadata": {},
   "outputs": [],
   "source": [
    "good_times = mask_cleaned.where(~test_mask).mean(dim=['x','y']) < 0.3"
   ]
  },
  {
   "cell_type": "code",
   "execution_count": null,
   "id": "012f765a-3bb3-4fef-9afc-4121db8d80bd",
   "metadata": {},
   "outputs": [],
   "source": [
    "ds = ds.sel(time=good_times)  #.plot(col='time', col_wrap=5)"
   ]
  },
  {
   "cell_type": "code",
   "execution_count": null,
   "id": "95f9b6c5-2c4d-433f-a001-2d97a1ca74a3",
   "metadata": {},
   "outputs": [],
   "source": [
    "# ds.nbart_green.isel(time=3).plot()"
   ]
  },
  {
   "cell_type": "code",
   "execution_count": null,
   "id": "84cfdd03-dc9c-47ca-9393-009a67894315",
   "metadata": {},
   "outputs": [],
   "source": [
    "# ds.fmask.isel(time=3).plot()"
   ]
  },
  {
   "cell_type": "code",
   "execution_count": null,
   "id": "da00517a-11fb-423c-922c-92a680bea66a",
   "metadata": {},
   "outputs": [],
   "source": [
    "# mask.isel(time=3).plot()"
   ]
  },
  {
   "cell_type": "code",
   "execution_count": null,
   "id": "2304b161-9fc3-4886-bbcb-a2308aee8f24",
   "metadata": {},
   "outputs": [],
   "source": [
    "# mask_cleaned.isel(time=3).plot()"
   ]
  },
  {
   "cell_type": "code",
   "execution_count": null,
   "id": "77d448f3-8122-4ed4-94d0-65554c879b9d",
   "metadata": {},
   "outputs": [],
   "source": [
    "# !pip install git+https://github.com/GeoscienceAustralia/dea-coastlines.git"
   ]
  },
  {
   "cell_type": "code",
   "execution_count": null,
   "id": "44b4b0e1-ffaf-4bc8-86a3-17d54ab60f25",
   "metadata": {},
   "outputs": [],
   "source": [
    "# from dea_coastlines.vector import waterbody_masking\n",
    "from odc.algo import xr_reproject\n",
    "\n",
    "# Create waterbody mask to remove inland waterbodies and estuaries\n",
    "waterbody_mask = ~waterbody_masking(\n",
    "    input_data='../../dea-coastlines/data/raw/SurfaceHydrologyPolygonsRegional.gdb',\n",
    "    modification_data='../../dea-coastlines/data/raw/estuary_mask_modifications.geojson',\n",
    "    da=ds)\n",
    "\n",
    "# Reproject a copy of this array this into the higher slope array resolution\n",
    "waterbody_mask_slope = xr_reproject(waterbody_mask.astype(np.int16),\n",
    "                                    geobox=slope_da.geobox)"
   ]
  },
  {
   "cell_type": "code",
   "execution_count": null,
   "id": "5adcb974-98e8-4e49-89ab-1ac7d60c40b8",
   "metadata": {},
   "outputs": [],
   "source": [
    "# Clip to buffer\n",
    "buffer_da = xr_rasterize(gdf=buffer_gdf, da=ds)\n",
    "# ds_masked = ds\n",
    "ds_masked = ds.where(waterbody_mask).where(buffer_da)"
   ]
  },
  {
   "cell_type": "code",
   "execution_count": null,
   "id": "eb5e4ef2-41ee-45d3-a3a2-3fe0affab123",
   "metadata": {},
   "outputs": [],
   "source": [
    "# Coarse cloud filter\n",
    "green_mean = ds_masked.nbart_green.mean(dim=['x', 'y'])  \n",
    "good_times = green_mean < 2000\n",
    "ds_masked = ds_masked.sel(time=good_times)\n",
    "\n",
    "# Convert to MNDWI\n",
    "mndwi = ((ds_masked.nbart_green - ds_masked.nbart_swir_2) / (ds_masked.nbart_green + ds_masked.nbart_swir_2))\n",
    "\n",
    "# Tidal tag\n",
    "mndwi = tidal_tag(mndwi)"
   ]
  },
  {
   "cell_type": "code",
   "execution_count": null,
   "id": "cd252219-fa0c-4a0a-983b-f5be663ce1c1",
   "metadata": {},
   "outputs": [],
   "source": [
    "ds_masked.nbart_green.mean(dim=['x', 'y']).plot()"
   ]
  },
  {
   "cell_type": "code",
   "execution_count": null,
   "id": "0a8be477-4017-4e99-80d0-6ddbe1e1d5ba",
   "metadata": {},
   "outputs": [],
   "source": [
    "mndwi.plot(col='time', col_wrap=5)"
   ]
  },
  {
   "cell_type": "code",
   "execution_count": null,
   "id": "bde633fa-2f2b-4bb1-8619-92d5d555d049",
   "metadata": {},
   "outputs": [],
   "source": [
    "satellite_list = []\n",
    "corrected_list = []\n",
    "\n",
    "for (date, mndwi_i) in mndwi.groupby('time'):  # .isel(time=slice(5, 10))\n",
    "# for (date, mndwi_i) in mndwi.isel(time=slice(7, 8)).groupby('time'):  # \n",
    "\n",
    "    \n",
    "    try:\n",
    "    \n",
    "        # Load data, obtain tide height\n",
    "#         mndwi_i = mndwi_i.compute()    \n",
    "        tide_height = mndwi_i.tide_height.item()\n",
    "        print(tide_height)\n",
    "\n",
    "        # Extract satellite-derived shoreline\n",
    "        out = subpixel_contours(da=mndwi_i, \n",
    "                                z_values=0, \n",
    "                                crs=beach_transects_gdf.crs, \n",
    "                                affine=mndwi_i.geobox.affine,\n",
    "                                attribute_df=pd.DataFrame({'tide_m': [tide_height]}),\n",
    "                                min_vertices=50,\n",
    "                               ).drop('z_value', axis=1)\n",
    "        out['date'] = str(mndwi_i.time.values)[0:10]\n",
    "        \n",
    "        # Set NaN based on valid buffer area\n",
    "        slope_da = slope_da.where(waterbody_mask_slope)\n",
    "\n",
    "        # Convert to raster giving locations to model distances from\n",
    "        start_array = xr_rasterize(gdf=out, da=slope_da)    \n",
    "        start_array = start_array.where(~slope_da.isnull(), 0)\n",
    "\n",
    "        # Calculate accumulated cost distance array\n",
    "        lcd_da = xr.apply_ufunc(cost_distance, slope_da.where(~slope_da.isnull(), -1),\n",
    "                                start_array, cell_size)\n",
    "        lcd_da = lcd_da.where(np.isfinite(lcd_da))\n",
    "        lcd_da = assign_crs(lcd_da, slope_da.geobox.crs)\n",
    "        \n",
    "        # Apply tide mask\n",
    "        if tide_height <= 0:\n",
    "            tide_mask_da = tide_mask(lcd_da, mndwi_i, tide='low')\n",
    "        else:\n",
    "            tide_mask_da = tide_mask(lcd_da, mndwi_i, tide='high')       \n",
    "        lcd_da_masked = lcd_da * tide_mask_da\n",
    "\n",
    "        # Extract tide datum shoreline from cost distance array\n",
    "        tide_lines = subpixel_contours(da=lcd_da_masked, \n",
    "                                       z_values=abs(tide_height),\n",
    "                                       min_vertices=50,\n",
    "                                       crs=beach_transects_gdf.crs,\n",
    "                                       affine=slope_da.geobox.affine)\n",
    "        tide_lines['tide_m'] = tide_height\n",
    "\n",
    "        # Simplify to remove artefacts for near-zero observations\n",
    "        tide_lines['geometry'] = tide_lines.simplify(2)\n",
    "        tide_lines['date'] = str(mndwi_i.time.values)[0:10]\n",
    "        \n",
    "        satellite_list.append(out.clip(buffer_gdf))\n",
    "        corrected_list.append(tide_lines)\n",
    "    except:\n",
    "        print('Failed')"
   ]
  },
  {
   "cell_type": "code",
   "execution_count": null,
   "id": "72547287-a31c-4e76-8a23-a3728a02a159",
   "metadata": {},
   "outputs": [],
   "source": [
    "# Combine and export\n",
    "satellite_gdf = pd.concat(satellite_list, ignore_index=True).sort_values('date')\n",
    "satellite_gdf['length'] = satellite_gdf.geometry.length\n",
    "satellite_gdf.to_file(filename=f'instantaneous_{name}_satellite.geojson') \n",
    "corrected_gdf = pd.concat(corrected_list, ignore_index=True).sort_values('date')\n",
    "corrected_gdf['length'] = corrected_gdf.geometry.length\n",
    "corrected_gdf.to_file(filename=f'instantaneous_{name}_corrected_lower.geojson') \n",
    "\n",
    "# Filter to shared subset\n",
    "shared_dates = corrected_dist.columns.intersection(satellite_dist.columns)[5:]\n",
    "corrected_dist = corrected_dist.loc[:,shared_dates]\n",
    "satellite_dist = satellite_dist.loc[:,shared_dates]\n",
    "nodata = np.logical_or(corrected_dist.isnull(), satellite_dist.isnull())\n",
    "corrected_dist = corrected_dist.where(~nodata)\n",
    "satellite_dist = satellite_dist.where(~nodata)"
   ]
  },
  {
   "cell_type": "code",
   "execution_count": null,
   "id": "a2f945ee-ff7e-4924-9429-e13777c74394",
   "metadata": {},
   "outputs": [],
   "source": [
    "corrected_dist = transect_distances(transects_gdf=beach_transects_gdf.set_index('transect_id'), \n",
    "                   lines_gdf=corrected_gdf.dissolve('date'))"
   ]
  },
  {
   "cell_type": "code",
   "execution_count": null,
   "id": "dce99812-ca1d-42b0-8430-db574a1d9f3b",
   "metadata": {},
   "outputs": [],
   "source": [
    "satellite_dist = transect_distances(transects_gdf=beach_transects_gdf.set_index('transect_id'), \n",
    "                   lines_gdf=satellite_gdf.dissolve('date'))"
   ]
  },
  {
   "cell_type": "code",
   "execution_count": null,
   "id": "8099ff91-65ff-4987-968e-24c381571f6f",
   "metadata": {},
   "outputs": [],
   "source": [
    "fig, axes = plt.subplots(1, 2, figsize=(15, 10))\n",
    "transect_id = corrected_dist.index[7]\n",
    "# transect_id = 'aus0190-009'\n",
    "corrected_dist.loc[transect_id].rename('Tide corrected').plot(ax=axes[0])\n",
    "satellite_dist.loc[transect_id].rename('Uncorrected').plot(ax=axes[0])\n",
    "axes[0].legend()\n",
    "\n",
    "# Buffer each transect point to provide a study area\n",
    "# buffer_gdf.plot(ax=axes[1], alpha=0.3)\n",
    "beach_gdf.plot(ax=axes[1], color='black')\n",
    "beach_transects_gdf.plot(ax=axes[1], column='Beach-face Slope', cmap='viridis')\n",
    "beach_transects_gdf.set_index('transect_id').loc[[transect_id]].plot(ax=axes[1], \n",
    "                                                                     color='red', \n",
    "                                                                     linewidth=5)\n",
    "fig.suptitle(transect_id);"
   ]
  },
  {
   "cell_type": "code",
   "execution_count": null,
   "id": "90302048-e8f0-4dc6-be6b-b187bdcf274b",
   "metadata": {},
   "outputs": [],
   "source": [
    "corrected_dist.std(axis=1).loc[transect_id]"
   ]
  },
  {
   "cell_type": "code",
   "execution_count": null,
   "id": "0203b7a1-7518-489d-a534-9e8d97cea0d7",
   "metadata": {},
   "outputs": [],
   "source": [
    "satellite_dist.std(axis=1).loc[transect_id]"
   ]
  },
  {
   "cell_type": "code",
   "execution_count": null,
   "id": "4a50c358-bdd1-4592-b393-b845de9e0905",
   "metadata": {},
   "outputs": [],
   "source": [
    "corrected_dist.std(axis=1).median()"
   ]
  },
  {
   "cell_type": "code",
   "execution_count": null,
   "id": "8382c212-3d07-4268-a0d3-67b07fd61fb4",
   "metadata": {},
   "outputs": [],
   "source": [
    "satellite_dist.std(axis=1).median()"
   ]
  },
  {
   "cell_type": "code",
   "execution_count": null,
   "id": "15a087d4-c83f-44fc-8333-e58366c3f9e2",
   "metadata": {},
   "outputs": [],
   "source": [
    "\n",
    "from datacube.utils.cog import write_cog\n",
    "write_cog(start_array, 'start_array.tif', overwrite=True )"
   ]
  },
  {
   "cell_type": "code",
   "execution_count": null,
   "id": "cb068687-c4b6-4b33-a68a-5287beda6f65",
   "metadata": {},
   "outputs": [],
   "source": [
    "from datacube.utils.cog import write_cog\n",
    "write_cog(slope_da, 'slope_da.tif', overwrite=True )"
   ]
  },
  {
   "cell_type": "code",
   "execution_count": null,
   "id": "f8935150-5986-402b-abd7-11685c1380ca",
   "metadata": {},
   "outputs": [],
   "source": [
    "from datacube.utils.cog import write_cog\n",
    "from datacube.utils.geometry import assign_crs\n",
    "write_cog(lcd_da, 'lcd_da.tif', overwrite=True )"
   ]
  },
  {
   "cell_type": "code",
   "execution_count": null,
   "id": "35f8aa10-6245-4dfd-9081-772100a2250e",
   "metadata": {},
   "outputs": [],
   "source": [
    "satellite_dist.std(axis=1)"
   ]
  },
  {
   "cell_type": "markdown",
   "id": "79f3b4f6-52bd-44d5-a9e3-1154edd9bf2f",
   "metadata": {},
   "source": [
    "## Animation"
   ]
  },
  {
   "cell_type": "code",
   "execution_count": null,
   "id": "7f74a963-a390-4b11-9f5c-f2c68b701ba3",
   "metadata": {},
   "outputs": [],
   "source": [
    "import contextily as ctx\n",
    "fig, axes = plt.subplots(1, 2, figsize=(15, 8))\n",
    "fig.tight_layout(pad=0)\n",
    "\n",
    "# Set extent\n",
    "# minx, miny, maxx, maxy = corrected_gdf.buffer(200).total_bounds\n",
    "x, y = -1247800, -2125100\n",
    "buffer = 1000\n",
    "minx, miny, maxx, maxy = x - buffer, y - buffer, x + buffer, y + buffer\n",
    "\n",
    "for i in range(1, len(satellite_gdf.index)+1):\n",
    "    # i = 5\n",
    "\n",
    "    satellite_gdf.head(i).plot(ax=axes[0], \n",
    "                               column='tide_m', \n",
    "                               cmap='RdYlBu', \n",
    "                               linewidth=3, \n",
    "                               vmin=-3, vmax=3)\n",
    "    corrected_gdf.head(i).plot(ax=axes[1], \n",
    "                               column='tide_m', \n",
    "                               cmap='RdYlBu', \n",
    "                               linewidth=3, \n",
    "                               vmin=-3, vmax=3)\n",
    "\n",
    "    date_str = satellite_gdf.head(i).date.iloc[-1]\n",
    "    tide_str = satellite_gdf.head(i).tide_m.iloc[-1]\n",
    "\n",
    "    axes[0].annotate(text=f'{date_str}\\n'\n",
    "                          f'Tide height: {tide_str:.2f} m', \n",
    "                     fontsize=14,\n",
    "                     weight='bold',\n",
    "                     color='black',\n",
    "                     xy=(0.03, 0.93), \n",
    "                     xycoords='axes fraction')\n",
    "\n",
    "    axes[1].annotate(text=f'{date_str}\\n'\n",
    "                          f'Tide height: 0.00 m', \n",
    "                     fontsize=14,\n",
    "                     weight='bold',\n",
    "                     color='black',\n",
    "                     xy=(0.03, 0.93), \n",
    "                     xycoords='axes fraction')\n",
    "\n",
    "    # set bounds\n",
    "    for ax in axes:\n",
    "        ax.set_ylim(miny, maxy)\n",
    "        ax.set_xlim(minx, maxx)\n",
    "        ax.axes.xaxis.set_visible(False)\n",
    "        ax.axes.yaxis.set_visible(False)\n",
    "\n",
    "        # Add basemap\n",
    "        ctx.add_basemap(ax, \n",
    "                        source='https://server.arcgisonline.com/ArcGIS/rest/services/World_Imagery/MapServer/tile/{z}/{y}/{x}', \n",
    "                        crs=corrected_gdf.crs,\n",
    "                        alpha=0.9)\n",
    "\n",
    "    fig.savefig(f'test_{i}.jpg', bbox_inches='tight')\n",
    "    axes[0].cla()  \n",
    "    axes[1].cla()\n",
    "\n"
   ]
  },
  {
   "cell_type": "code",
   "execution_count": null,
   "id": "08d6e79a-2b18-42cd-8607-c47e484d1d96",
   "metadata": {},
   "outputs": [],
   "source": [
    "!ffmpeg -y -r 3 -start_number 1 -i test_%d.jpg -vf \"format=yuv420p,pad=ceil(iw/2)*2:ceil(ih/2)*2\" temp.mp4"
   ]
  }
 ],
 "metadata": {
  "kernelspec": {
   "display_name": "Python 3 (ipykernel)",
   "language": "python",
   "name": "python3"
  },
  "language_info": {
   "codemirror_mode": {
    "name": "ipython",
    "version": 3
   },
   "file_extension": ".py",
   "mimetype": "text/x-python",
   "name": "python",
   "nbconvert_exporter": "python",
   "pygments_lexer": "ipython3",
   "version": "3.8.10"
  },
  "widgets": {
   "application/vnd.jupyter.widget-state+json": {
    "state": {},
    "version_major": 2,
    "version_minor": 0
   }
  }
 },
 "nbformat": 4,
 "nbformat_minor": 5
}
