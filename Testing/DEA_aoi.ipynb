{
 "cells": [
  {
   "cell_type": "code",
   "execution_count": 12,
   "id": "df2d144b-01f6-40b9-a28c-083edc0a49ad",
   "metadata": {},
   "outputs": [],
   "source": [
    "import geopandas as gpd\n",
    "import pandas as pd\n",
    "import requests\n",
    "import json"
   ]
  },
  {
   "cell_type": "code",
   "execution_count": 13,
   "id": "26ad76d9-934f-436b-b103-2556df5ee8f5",
   "metadata": {},
   "outputs": [],
   "source": [
    "# Load list of current AOI regions\n",
    "url = 'https://raw.githubusercontent.com/GeoscienceAustralia/dea-ard-scene-select/master/scene_select/data/Australian_AOI.json'\n",
    "region_dict = json.loads(requests.get(url).text)\n"
   ]
  },
  {
   "cell_type": "code",
   "execution_count": 105,
   "id": "28d120be-a1cc-4852-af16-acd6dea46013",
   "metadata": {},
   "outputs": [],
   "source": [
    "# Load Territorial Sea Zone shapefile\n",
    "tsz_gdf = gpd.read_file(\"au_tsz_line_april2022.zip\").to_crs(\"EPSG:4326\").dissolve()"
   ]
  },
  {
   "cell_type": "markdown",
   "id": "4f17ecea-b9e1-4063-9eb7-58d4d2dd0cb0",
   "metadata": {},
   "source": [
    "## Landsat"
   ]
  },
  {
   "cell_type": "code",
   "execution_count": 91,
   "id": "2f24438d-f121-480f-a892-077ef79f8832",
   "metadata": {},
   "outputs": [],
   "source": [
    "# Load Landsat WRS2 tiles\n",
    "landsat_gdf = gpd.read_file('https://d9-wret.s3.us-west-2.amazonaws.com/assets/palladium/production/s3fs-public/atoms/files/WRS2_descending_0.zip').to_crs(\"EPSG:4326\")"
   ]
  },
  {
   "cell_type": "code",
   "execution_count": 109,
   "id": "098c32e5-0a3e-4ec7-8b88-d16191edab9b",
   "metadata": {},
   "outputs": [],
   "source": [
    "# Find polygons that intersect with TSZ\n",
    "landsat_tsz_gdf = gpd.sjoin(landsat_gdf, tsz_gdf, predicate='intersects')"
   ]
  },
  {
   "cell_type": "code",
   "execution_count": 158,
   "id": "8d4d13d9-6a60-4e7f-a032-8d49c598018e",
   "metadata": {},
   "outputs": [
    {
     "name": "stderr",
     "output_type": "stream",
     "text": [
      "/tmp/ipykernel_222/706837659.py:3: UserWarning: Geometry is in a geographic CRS. Results from 'centroid' are likely incorrect. Use 'GeoSeries.to_crs()' to re-project geometries to a projected CRS before this operation.\n",
      "\n",
      "  (~landsat_tsz_gdf.WRSPR.isin(region_dict[\"ls\"])) & (landsat_tsz_gdf.geometry.centroid.y > -60)\n"
     ]
    }
   ],
   "source": [
    "# Remove any regions already in the DEA AOI and restrict to non-Antartic\n",
    "landsat_tsz_nonaoi_gdf = landsat_tsz_gdf.loc[\n",
    "    (~landsat_tsz_gdf.WRSPR.isin(region_dict[\"ls\"])) & (landsat_tsz_gdf.geometry.centroid.y > -60)\n",
    "]"
   ]
  },
  {
   "cell_type": "code",
   "execution_count": 140,
   "id": "9265f0d6-8d9d-41cf-b1af-d506e65100d0",
   "metadata": {},
   "outputs": [],
   "source": [
    "landsat_tsz_nonaoi_gdf.to_file(\"landsat_additional_regions.geojson\")"
   ]
  },
  {
   "cell_type": "markdown",
   "id": "eaad98ea-a7ec-44d1-b104-697a319db72c",
   "metadata": {},
   "source": [
    "## Sentinel-2"
   ]
  },
  {
   "cell_type": "code",
   "execution_count": 144,
   "id": "c791e110-e0a9-4c8a-8abf-78fca61d8609",
   "metadata": {},
   "outputs": [
    {
     "name": "stdout",
     "output_type": "stream",
     "text": [
      "Cloning into 'Sentinel-2-Shapefile-Index'...\n",
      "remote: Enumerating objects: 17, done.\u001b[K\n",
      "remote: Total 17 (delta 0), reused 0 (delta 0), pack-reused 17\u001b[K\n",
      "Receiving objects: 100% (17/17), 7.24 MiB | 18.03 MiB/s, done.\n",
      "Resolving deltas: 100% (2/2), done.\n"
     ]
    }
   ],
   "source": [
    "!git clone https://github.com/justinelliotmeyers/Sentinel-2-Shapefile-Index.git"
   ]
  },
  {
   "cell_type": "code",
   "execution_count": 145,
   "id": "bb971124-7966-454f-a6aa-1f48548aa7bb",
   "metadata": {},
   "outputs": [],
   "source": [
    "# Load Sentinel-2 MRGS tiles\n",
    "s2_gdf = gpd.read_file('Sentinel-2-Shapefile-Index/sentinel_2_index_shapefile.shp').to_crs(\"EPSG:4326\")"
   ]
  },
  {
   "cell_type": "code",
   "execution_count": 146,
   "id": "ef3770bc-a679-4da0-8507-cf7c3f317e3b",
   "metadata": {},
   "outputs": [],
   "source": [
    "# Find polygons that intersect with TSZ\n",
    "s2_tsz_gdf = gpd.sjoin(s2_gdf, tsz_gdf, predicate='intersects')"
   ]
  },
  {
   "cell_type": "code",
   "execution_count": 150,
   "id": "5c9cb0c4-0ec0-4d10-87fb-803efca41619",
   "metadata": {},
   "outputs": [
    {
     "name": "stderr",
     "output_type": "stream",
     "text": [
      "/tmp/ipykernel_222/2960138987.py:1: UserWarning: Geometry is in a geographic CRS. Results from 'centroid' are likely incorrect. Use 'GeoSeries.to_crs()' to re-project geometries to a projected CRS before this operation.\n",
      "\n",
      "  s2_tsz_gdf.geometry.centroid.y > -60\n"
     ]
    },
    {
     "data": {
      "text/plain": [
       "35284    False\n",
       "35293    False\n",
       "35302    False\n",
       "35303    False\n",
       "36230    False\n",
       "         ...  \n",
       "53468     True\n",
       "54429     True\n",
       "54430     True\n",
       "55335     True\n",
       "55336     True\n",
       "Length: 446, dtype: bool"
      ]
     },
     "execution_count": 150,
     "metadata": {},
     "output_type": "execute_result"
    }
   ],
   "source": []
  },
  {
   "cell_type": "code",
   "execution_count": 156,
   "id": "a6bb8979-bc5d-4129-9495-cf43d3eda293",
   "metadata": {},
   "outputs": [
    {
     "name": "stderr",
     "output_type": "stream",
     "text": [
      "/tmp/ipykernel_222/3912617125.py:3: UserWarning: Geometry is in a geographic CRS. Results from 'centroid' are likely incorrect. Use 'GeoSeries.to_crs()' to re-project geometries to a projected CRS before this operation.\n",
      "\n",
      "  (~s2_tsz_gdf.Name.isin(region_dict[\"s2\"])) & (s2_tsz_gdf.geometry.centroid.y > -60)\n"
     ]
    }
   ],
   "source": [
    "# Remove any regions already in the DEA AOI and restrict to non-Antartic\n",
    "s2_tsz_nonaoi_gdf = s2_tsz_gdf.loc[\n",
    "   (~s2_tsz_gdf.Name.isin(region_dict[\"s2\"])) & (s2_tsz_gdf.geometry.centroid.y > -60)\n",
    "]"
   ]
  },
  {
   "cell_type": "code",
   "execution_count": 159,
   "id": "c3340342-fb64-41e3-9b4b-6882eefd21b1",
   "metadata": {},
   "outputs": [],
   "source": [
    "s2_tsz_nonaoi_gdf.to_file(\"s2_additional_regions.geojson\")"
   ]
  },
  {
   "cell_type": "code",
   "execution_count": 161,
   "id": "0d3d8225-6004-4b0d-9b89-a8e3067207e7",
   "metadata": {},
   "outputs": [
    {
     "data": {
      "text/plain": [
       "431"
      ]
     },
     "execution_count": 161,
     "metadata": {},
     "output_type": "execute_result"
    }
   ],
   "source": [
    "len(region_dict[\"ls\"])"
   ]
  },
  {
   "cell_type": "code",
   "execution_count": null,
   "id": "dc125c43-b1d1-4acb-b0e1-91a3c551146b",
   "metadata": {},
   "outputs": [],
   "source": []
  }
 ],
 "metadata": {
  "kernelspec": {
   "display_name": "Python 3 (ipykernel)",
   "language": "python",
   "name": "python3"
  },
  "language_info": {
   "codemirror_mode": {
    "name": "ipython",
    "version": 3
   },
   "file_extension": ".py",
   "mimetype": "text/x-python",
   "name": "python",
   "nbconvert_exporter": "python",
   "pygments_lexer": "ipython3",
   "version": "3.8.10"
  },
  "widgets": {
   "application/vnd.jupyter.widget-state+json": {
    "state": {},
    "version_major": 2,
    "version_minor": 0
   }
  }
 },
 "nbformat": 4,
 "nbformat_minor": 5
}
