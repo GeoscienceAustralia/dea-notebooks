{
 "cells": [
  {
   "cell_type": "code",
   "execution_count": 1,
   "id": "df2d144b-01f6-40b9-a28c-083edc0a49ad",
   "metadata": {},
   "outputs": [],
   "source": [
    "import geopandas as gpd\n",
    "import pandas as pd\n",
    "import requests\n",
    "import json"
   ]
  },
  {
   "cell_type": "code",
   "execution_count": 2,
   "id": "26ad76d9-934f-436b-b103-2556df5ee8f5",
   "metadata": {},
   "outputs": [],
   "source": [
    "# Load list of current AOI regions\n",
    "url = 'https://raw.githubusercontent.com/GeoscienceAustralia/dea-ard-scene-select/master/scene_select/data/Australian_AOI.json'\n",
    "region_dict = json.loads(requests.get(url).text)\n"
   ]
  },
  {
   "cell_type": "code",
   "execution_count": 3,
   "id": "28d120be-a1cc-4852-af16-acd6dea46013",
   "metadata": {},
   "outputs": [],
   "source": [
    "# Load Territorial Sea Zone shapefile\n",
    "# Available from https://pacificdata.org/data/dataset/australia-territorial-sea-12-nautical-mile\n",
    "tsz_gdf = gpd.read_file(\"au_tsz_line_april2022.zip\").to_crs(\"EPSG:4326\").dissolve()"
   ]
  },
  {
   "cell_type": "markdown",
   "id": "4f17ecea-b9e1-4063-9eb7-58d4d2dd0cb0",
   "metadata": {},
   "source": [
    "## Landsat"
   ]
  },
  {
   "cell_type": "code",
   "execution_count": 4,
   "id": "2f24438d-f121-480f-a892-077ef79f8832",
   "metadata": {},
   "outputs": [],
   "source": [
    "# Load Landsat WRS2 tiles\n",
    "landsat_gdf = gpd.read_file('https://d9-wret.s3.us-west-2.amazonaws.com/assets/palladium/production/s3fs-public/atoms/files/WRS2_descending_0.zip').to_crs(\"EPSG:4326\")"
   ]
  },
  {
   "cell_type": "code",
   "execution_count": 5,
   "id": "098c32e5-0a3e-4ec7-8b88-d16191edab9b",
   "metadata": {},
   "outputs": [],
   "source": [
    "# Find polygons that intersect with TSZ\n",
    "landsat_tsz_gdf = gpd.sjoin(landsat_gdf, tsz_gdf, predicate='intersects')"
   ]
  },
  {
   "cell_type": "code",
   "execution_count": 6,
   "id": "8d4d13d9-6a60-4e7f-a032-8d49c598018e",
   "metadata": {},
   "outputs": [
    {
     "name": "stderr",
     "output_type": "stream",
     "text": [
      "/tmp/ipykernel_694/706837659.py:3: UserWarning: Geometry is in a geographic CRS. Results from 'centroid' are likely incorrect. Use 'GeoSeries.to_crs()' to re-project geometries to a projected CRS before this operation.\n",
      "\n",
      "  (~landsat_tsz_gdf.WRSPR.isin(region_dict[\"ls\"])) & (landsat_tsz_gdf.geometry.centroid.y > -60)\n"
     ]
    }
   ],
   "source": [
    "# Remove any regions already in the DEA AOI and restrict to non-Antartic\n",
    "landsat_tsz_nonaoi_gdf = landsat_tsz_gdf.loc[\n",
    "    (~landsat_tsz_gdf.WRSPR.isin(region_dict[\"ls\"])) & (landsat_tsz_gdf.geometry.centroid.y > -60)\n",
    "]"
   ]
  },
  {
   "cell_type": "code",
   "execution_count": 7,
   "id": "9265f0d6-8d9d-41cf-b1af-d506e65100d0",
   "metadata": {},
   "outputs": [],
   "source": [
    "landsat_tsz_nonaoi_gdf.to_file(\"landsat_additional_regions.geojson\")"
   ]
  },
  {
   "cell_type": "code",
   "execution_count": 22,
   "id": "d2ea7543-3b3d-44ac-b766-06cdf1f2a226",
   "metadata": {
    "tags": []
   },
   "outputs": [
    {
     "name": "stdout",
     "output_type": "stream",
     "text": [
      "['102067', '134097', '084082', '116075', '107068', '107069', '123067', '089072', '089087', '089088', '089091', '098066', '080080', '080098', '080099', '112069', '112070', '128068', '128069', '135097', '085080', '085081', '085082', '101069', '101084', '099066', '090091', '106067', '106084', '122067', '122068', '088074', '088075', '088076', '088079', '097086', '113084', '079080', '079098', '079099', '104067', '104083', '136097', '111085']\n"
     ]
    }
   ],
   "source": [
    "# New Landsat regions\n",
    "print(list(landsat_tsz_nonaoi_gdf.WRSPR))"
   ]
  },
  {
   "cell_type": "markdown",
   "id": "eaad98ea-a7ec-44d1-b104-697a319db72c",
   "metadata": {},
   "source": [
    "## Sentinel-2"
   ]
  },
  {
   "cell_type": "code",
   "execution_count": 8,
   "id": "c791e110-e0a9-4c8a-8abf-78fca61d8609",
   "metadata": {},
   "outputs": [
    {
     "name": "stdout",
     "output_type": "stream",
     "text": [
      "fatal: destination path 'Sentinel-2-Shapefile-Index' already exists and is not an empty directory.\n"
     ]
    }
   ],
   "source": [
    "# Get Sentinel-2 MRGS tile grid\n",
    "!git clone https://github.com/justinelliotmeyers/Sentinel-2-Shapefile-Index.git"
   ]
  },
  {
   "cell_type": "code",
   "execution_count": 9,
   "id": "bb971124-7966-454f-a6aa-1f48548aa7bb",
   "metadata": {},
   "outputs": [],
   "source": [
    "# Load Sentinel-2 MRGS tiles\n",
    "s2_gdf = gpd.read_file('Sentinel-2-Shapefile-Index/sentinel_2_index_shapefile.shp').to_crs(\"EPSG:4326\")"
   ]
  },
  {
   "cell_type": "code",
   "execution_count": 10,
   "id": "ef3770bc-a679-4da0-8507-cf7c3f317e3b",
   "metadata": {},
   "outputs": [],
   "source": [
    "# Find polygons that intersect with TSZ\n",
    "s2_tsz_gdf = gpd.sjoin(s2_gdf, tsz_gdf, predicate='intersects')"
   ]
  },
  {
   "cell_type": "code",
   "execution_count": 11,
   "id": "a6bb8979-bc5d-4129-9495-cf43d3eda293",
   "metadata": {},
   "outputs": [
    {
     "name": "stderr",
     "output_type": "stream",
     "text": [
      "/tmp/ipykernel_694/3912617125.py:3: UserWarning: Geometry is in a geographic CRS. Results from 'centroid' are likely incorrect. Use 'GeoSeries.to_crs()' to re-project geometries to a projected CRS before this operation.\n",
      "\n",
      "  (~s2_tsz_gdf.Name.isin(region_dict[\"s2\"])) & (s2_tsz_gdf.geometry.centroid.y > -60)\n"
     ]
    }
   ],
   "source": [
    "# Remove any regions already in the DEA AOI and restrict to non-Antartic\n",
    "s2_tsz_nonaoi_gdf = s2_tsz_gdf.loc[\n",
    "   (~s2_tsz_gdf.Name.isin(region_dict[\"s2\"])) & (s2_tsz_gdf.geometry.centroid.y > -60)\n",
    "]"
   ]
  },
  {
   "cell_type": "code",
   "execution_count": 12,
   "id": "c3340342-fb64-41e3-9b4b-6882eefd21b1",
   "metadata": {},
   "outputs": [],
   "source": [
    "s2_tsz_nonaoi_gdf.to_file(\"s2_additional_regions.geojson\")"
   ]
  },
  {
   "cell_type": "code",
   "execution_count": 19,
   "id": "0d3d8225-6004-4b0d-9b89-a8e3067207e7",
   "metadata": {},
   "outputs": [
    {
     "name": "stdout",
     "output_type": "stream",
     "text": [
      "['42FYF', '42FYG', '43FCA', '43FCB', '43FDA', '43FDB', '46LHM', '46LHN', '47LKG', '47LKH', '48LWP', '48LXP', '49JFL', '49KGS', '50HKG', '50HKH', '50HKJ', '50HMF', '50HNF', '50HPF', '50JKL', '50KKC', '51LVD', '51LWD', '51LWF', '51LXE', '51LYF', '51LZF', '52HBJ', '52HEK', '52HFK', '52LBL', '52LCL', '52LDK', '52LEM', '52LEN', '52LFP', '52LHP', '53HKD', '53HLC', '53HNA', '53LLJ', '53LPJ', '53LQH', '53LQJ', '53LRC', '54GYU', '54HXB', '54LTH', '54LZR', '55GBP', '55GFM', '55HGT', '55KEA', '55KFV', '55KGA', '55KHA', '55KHT', '55KHU', '55LBF', '55LBG', '55LBH', '55LBJ', '55LBK', '55LDC', '56HKC', '56HKD', '56HKE', '56HLF', '56HNK', '56KKC', '56KLC', '56KMC', '56KMV', '56KNU', '56KPA', '56KQA', '56KQB', '56KQF', '56KQG', '56KQV', '56KRB', '56KRF', '56KRG', '56LKH', '57FVA', '57FVU', '57FVV', '57FWA', '57FWU', '57FWV', '57HVE', '57HWE', '57JVF', '57JVG', '57JVH', '57JWF', '57JWG', '57JWH', '58JGN', '58JGP', '59JKH', '59JKJ']\n"
     ]
    }
   ],
   "source": [
    "# New S2 regions\n",
    "print(list(s2_tsz_nonaoi_gdf.Name))"
   ]
  }
 ],
 "metadata": {
  "kernelspec": {
   "display_name": "Python 3 (ipykernel)",
   "language": "python",
   "name": "python3"
  },
  "language_info": {
   "codemirror_mode": {
    "name": "ipython",
    "version": 3
   },
   "file_extension": ".py",
   "mimetype": "text/x-python",
   "name": "python",
   "nbconvert_exporter": "python",
   "pygments_lexer": "ipython3",
   "version": "3.8.10"
  },
  "widgets": {
   "application/vnd.jupyter.widget-state+json": {
    "state": {},
    "version_major": 2,
    "version_minor": 0
   }
  }
 },
 "nbformat": 4,
 "nbformat_minor": 5
}
