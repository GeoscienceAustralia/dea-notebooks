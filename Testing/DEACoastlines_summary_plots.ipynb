{
 "cells": [
  {
   "cell_type": "markdown",
   "id": "d8dd12a6-7eb8-4fe4-9326-20474780df7b",
   "metadata": {
    "tags": []
   },
   "source": [
    "# DEA Coastlines summary plots"
   ]
  },
  {
   "cell_type": "code",
   "execution_count": 1,
   "id": "9ee719d9-7a81-4e7c-8f18-4ad84229a093",
   "metadata": {
    "tags": []
   },
   "outputs": [
    {
     "name": "stdout",
     "output_type": "stream",
     "text": [
      "/home/jovyan/dev/dea-notebooks/Tools\n"
     ]
    }
   ],
   "source": [
    "cd ../'Tools'"
   ]
  },
  {
   "cell_type": "code",
   "execution_count": 2,
   "id": "16014365-7feb-4cbc-adfc-b035d2328e04",
   "metadata": {
    "tags": []
   },
   "outputs": [],
   "source": [
    "import pandas as pd\n",
    "import numpy as np\n",
    "import geopandas as gpd\n",
    "import matplotlib.pyplot as plt\n",
    "\n",
    "from sklearn.linear_model import LinearRegression\n",
    "from dea_tools.coastal import get_coastlines\n",
    "\n",
    "from scipy.stats import ttest_ind\n",
    "from scipy.stats import ttest_rel"
   ]
  },
  {
   "cell_type": "markdown",
   "id": "c69bcd96-316c-4b9a-b0ef-69a6139bc66e",
   "metadata": {},
   "source": [
    "## Load data"
   ]
  },
  {
   "cell_type": "code",
   "execution_count": 3,
   "id": "06f0dea3-da55-40e8-a256-635514521600",
   "metadata": {
    "tags": []
   },
   "outputs": [],
   "source": [
    "# Set study area from vector file\n",
    "\n",
    "## Use regions_gdf for mainland polygons\n",
    "regions_gdf = (\n",
    "    gpd.read_file(\n",
    "        # \"https://data.dea.ga.gov.au/derivative/dea_coastlines/supplementary/australia_mainland_regions.geojson\"\n",
    "        # '/home/jovyan/dev/dea-notebooks/Testing/Buffered_GBR_mngt_areas.shp' ## Management area polygons\n",
    "        # '/home/jovyan/dev/dea-notebooks/Testing/Manual_all_GBR_Coastlines.shp' ## Greater GBR extent\n",
    "        # '/home/jovyan/dev/dea-notebooks/Testing/Aus_bbox.shp' ## \n",
    "        # '/home/jovyan/dev/dea-notebooks/Testing/mainland_buffered_edited_mngt_regions_incl_allGBR.shp' ## all mainland only extents\n",
    "        '/home/jovyan/dev/dea-notebooks/Testing/All_GBR_merged.shp' ## all mainland only extents\n",
    "    )\n",
    "    # .set_index(\"Descriptio\")\n",
    "    .set_index(\"layer\")\n",
    "    # .set_index('id')\n",
    ")\n",
    "# regions_gdf"
   ]
  },
  {
   "cell_type": "code",
   "execution_count": 4,
   "id": "d00b7af9-3f19-43eb-98c3-563852e9ea39",
   "metadata": {
    "tags": []
   },
   "outputs": [],
   "source": [
    "# ## Use regions_gdf_offshore for island and reef polygons\n",
    "# regions_gdf_offshore = (\n",
    "#     gpd.read_file(\n",
    "#         # \"https://data.dea.ga.gov.au/derivative/dea_coastlines/supplementary/australia_mainland_regions.geojson\"\n",
    "#         # '/home/jovyan/dev/dea-notebooks/Testing/Buffered_GBR_mngt_areas.shp' ## Management area polygons\n",
    "#         # '/home/jovyan/dev/dea-notebooks/Testing/Manual_all_GBR_Coastlines.shp' ## Greater GBR extent\n",
    "#         '/home/jovyan/dev/dea-notebooks/Testing/islands_management_regions_incl_allGBR.shp' ## all reef and island extents\n",
    "#     )\n",
    "    \n",
    "    \n",
    "#     # .set_index(\"Descriptio\")\n",
    "#     # .set_index(\"layer\")\n",
    "#     .set_index('AREA_DESCR')\n",
    "# )\n",
    "# # regions_gdf_offshore\n"
   ]
  },
  {
   "cell_type": "code",
   "execution_count": 5,
   "id": "d4f18f34-a920-47c1-9971-640abfef15e1",
   "metadata": {
    "tags": []
   },
   "outputs": [
    {
     "name": "stdout",
     "output_type": "stream",
     "text": [
      "Index(['Australia', 'Mainland_CairnsCook', 'Mainland_FarNorth', 'Mainland_GBR',\n",
      "       'Mainland_MackCap', 'Mainland_TownsWhit', 'All_GBR',\n",
      "       'Offshore_CairnsCook', 'Offshore_FarNorth', 'Offshore_GBR',\n",
      "       'Offshore_MackCap', 'Offshore_TownsWhit', 'All_FarNorth',\n",
      "       'All_CairnsCook', 'All_TownsWhit', 'All_MackCap'],\n",
      "      dtype='object', name='layer')\n"
     ]
    }
   ],
   "source": [
    "print(regions_gdf.index)\n",
    "# print(regions_gdf_offshore.index)"
   ]
  },
  {
   "cell_type": "code",
   "execution_count": 11,
   "id": "75f5b1c1-ab2b-4bc5-9b12-a4fdd8f4cad8",
   "metadata": {
    "tags": []
   },
   "outputs": [],
   "source": [
    "study_area = regions_gdf.loc[[\"All_GBR\"]]\n",
    "# study_area_offshore = regions_gdf_offshore.loc[['All_GBR_offshore']]\n",
    "# study_area = regions_gdf.loc[[\"1\"]]\n",
    "# study_area = regions_gdf"
   ]
  },
  {
   "cell_type": "code",
   "execution_count": 12,
   "id": "3d2cda0d-8eb0-4e64-b407-f45a4fbe6f5a",
   "metadata": {
    "tags": []
   },
   "outputs": [
    {
     "data": {
      "image/svg+xml": [
       "<svg xmlns=\"http://www.w3.org/2000/svg\" xmlns:xlink=\"http://www.w3.org/1999/xlink\" width=\"100.0\" height=\"100.0\" viewBox=\"141.83536396365216 -25.098825407499337 12.72014233691334 14.971528907012667\" preserveAspectRatio=\"xMinYMin meet\"><g transform=\"matrix(1,0,0,-1,0,-35.226121907986006)\"><path fill-rule=\"evenodd\" fill=\"#66cc99\" stroke=\"#555555\" stroke-width=\"0.2994305781402533\" opacity=\"0.6\" d=\"M 154.0010052299354,-24.498394643721923 L 152.04124166744577,-24.49848629826659 L 151.10464179594467,-24.544324336869238 L 147.3496497082819,-20.80964034401962 L 147.34938535938488,-20.809676783072323 L 145.58115559617906,-17.85770674759564 L 145.58117550030548,-17.857707600918147 L 144.80098826839534,-14.735564299943539 L 144.80151071579328,-14.735216001709356 L 143.36948246449109,-14.809403442262006 L 142.38986503428225,-11.197466603295215 L 142.53152313327757,-10.68755658467928 L 145.0009863226336,-10.68179757111677 L 144.99481636635528,-12.99024168330238 L 145.65106984739788,-14.303001652768554 L 145.6510696443282,-14.303001756586799 L 145.6597311290169,-14.320309254259397 L 146.00159669339266,-14.999066415886743 L 146.05863052047286,-15.14395850017275 L 146.41990280688495,-16.05371360685256 L 146.6995862428372,-16.752225807399572 L 146.81609198254614,-17.04061678341176 L 147.0011253875336,-17.498541947429377 L 147.2835734802619,-17.67347477493929 L 147.28355998107398,-17.673482151548047 L 149.1892532013731,-18.834041498198278 L 150.58437952257353,-19.659073720699787 L 150.58437705768335,-19.659078709133507 L 152.91767240645407,-20.99842151702235 L 154.0010052299354,-24.498394643721923 z\" /></g></svg>"
      ],
      "text/plain": [
       "<POLYGON ((154.001 -24.498, 152.041 -24.498, 151.105 -24.544, 147.35 -20.81,...>"
      ]
     },
     "execution_count": 12,
     "metadata": {},
     "output_type": "execute_result"
    }
   ],
   "source": [
    "study_area.geometry[0]"
   ]
  },
  {
   "cell_type": "code",
   "execution_count": 8,
   "id": "5885aacc-7813-4bf0-9cf4-296db6bc0c51",
   "metadata": {
    "tags": []
   },
   "outputs": [],
   "source": [
    "# study_area_offshore.geometry[0]"
   ]
  },
  {
   "cell_type": "code",
   "execution_count": 9,
   "id": "6b6c123f-a7c8-4713-a4ea-9d32f7ad210c",
   "metadata": {
    "tags": []
   },
   "outputs": [
    {
     "data": {
      "text/html": [
       "<div>\n",
       "<style scoped>\n",
       "    .dataframe tbody tr th:only-of-type {\n",
       "        vertical-align: middle;\n",
       "    }\n",
       "\n",
       "    .dataframe tbody tr th {\n",
       "        vertical-align: top;\n",
       "    }\n",
       "\n",
       "    .dataframe thead th {\n",
       "        text-align: right;\n",
       "    }\n",
       "</style>\n",
       "<table border=\"1\" class=\"dataframe\">\n",
       "  <thead>\n",
       "    <tr style=\"text-align: right;\">\n",
       "      <th></th>\n",
       "      <th>id</th>\n",
       "      <th>uid</th>\n",
       "      <th>rate_time</th>\n",
       "      <th>sig_time</th>\n",
       "      <th>se_time</th>\n",
       "      <th>outl_time</th>\n",
       "      <th>dist_1988</th>\n",
       "      <th>dist_1989</th>\n",
       "      <th>dist_1990</th>\n",
       "      <th>dist_1991</th>\n",
       "      <th>...</th>\n",
       "      <th>angle_std</th>\n",
       "      <th>valid_obs</th>\n",
       "      <th>valid_span</th>\n",
       "      <th>sce</th>\n",
       "      <th>nsm</th>\n",
       "      <th>max_year</th>\n",
       "      <th>min_year</th>\n",
       "      <th>certainty</th>\n",
       "      <th>id_primary</th>\n",
       "      <th>geometry</th>\n",
       "    </tr>\n",
       "  </thead>\n",
       "  <tbody>\n",
       "    <tr>\n",
       "      <th>317950</th>\n",
       "      <td>rates_of_change.1199380</td>\n",
       "      <td>r7sheu4wj6</td>\n",
       "      <td>1.07</td>\n",
       "      <td>0.011</td>\n",
       "      <td>0.40</td>\n",
       "      <td>2022</td>\n",
       "      <td>-85.35</td>\n",
       "      <td>-85.38</td>\n",
       "      <td>-88.28</td>\n",
       "      <td>-75.75</td>\n",
       "      <td>...</td>\n",
       "      <td>10</td>\n",
       "      <td>34</td>\n",
       "      <td>34</td>\n",
       "      <td>86.41</td>\n",
       "      <td>85.35</td>\n",
       "      <td>2019</td>\n",
       "      <td>2012</td>\n",
       "      <td>baseline outlier</td>\n",
       "      <td>QLD15</td>\n",
       "      <td>POINT (2000851.727 -2803663.727)</td>\n",
       "    </tr>\n",
       "    <tr>\n",
       "      <th>317951</th>\n",
       "      <td>rates_of_change.1199381</td>\n",
       "      <td>r7sheu4x0z</td>\n",
       "      <td>1.29</td>\n",
       "      <td>0.004</td>\n",
       "      <td>0.41</td>\n",
       "      <td>None</td>\n",
       "      <td>-83.83</td>\n",
       "      <td>-80.88</td>\n",
       "      <td>-85.33</td>\n",
       "      <td>-71.65</td>\n",
       "      <td>...</td>\n",
       "      <td>9</td>\n",
       "      <td>35</td>\n",
       "      <td>35</td>\n",
       "      <td>106.96</td>\n",
       "      <td>83.83</td>\n",
       "      <td>2022</td>\n",
       "      <td>2012</td>\n",
       "      <td>good</td>\n",
       "      <td>QLD15</td>\n",
       "      <td>POINT (2000835.916 -2803638.205)</td>\n",
       "    </tr>\n",
       "    <tr>\n",
       "      <th>317952</th>\n",
       "      <td>rates_of_change.1199382</td>\n",
       "      <td>r7sheu627g</td>\n",
       "      <td>1.20</td>\n",
       "      <td>0.006</td>\n",
       "      <td>0.41</td>\n",
       "      <td>None</td>\n",
       "      <td>-81.56</td>\n",
       "      <td>-76.79</td>\n",
       "      <td>-80.38</td>\n",
       "      <td>-64.87</td>\n",
       "      <td>...</td>\n",
       "      <td>10</td>\n",
       "      <td>35</td>\n",
       "      <td>35</td>\n",
       "      <td>104.53</td>\n",
       "      <td>81.56</td>\n",
       "      <td>2022</td>\n",
       "      <td>2012</td>\n",
       "      <td>good</td>\n",
       "      <td>QLD15</td>\n",
       "      <td>POINT (2000818.707 -2803613.637)</td>\n",
       "    </tr>\n",
       "    <tr>\n",
       "      <th>317953</th>\n",
       "      <td>rates_of_change.1199383</td>\n",
       "      <td>r7sheu61qy</td>\n",
       "      <td>1.10</td>\n",
       "      <td>0.011</td>\n",
       "      <td>0.41</td>\n",
       "      <td>None</td>\n",
       "      <td>-75.76</td>\n",
       "      <td>-69.09</td>\n",
       "      <td>-69.37</td>\n",
       "      <td>-61.37</td>\n",
       "      <td>...</td>\n",
       "      <td>10</td>\n",
       "      <td>35</td>\n",
       "      <td>35</td>\n",
       "      <td>99.56</td>\n",
       "      <td>75.76</td>\n",
       "      <td>2022</td>\n",
       "      <td>2012</td>\n",
       "      <td>good</td>\n",
       "      <td>QLD15</td>\n",
       "      <td>POINT (2000800.724 -2803589.631)</td>\n",
       "    </tr>\n",
       "    <tr>\n",
       "      <th>317954</th>\n",
       "      <td>rates_of_change.1199384</td>\n",
       "      <td>r7sheu64d5</td>\n",
       "      <td>0.97</td>\n",
       "      <td>0.020</td>\n",
       "      <td>0.39</td>\n",
       "      <td>None</td>\n",
       "      <td>-71.82</td>\n",
       "      <td>-64.09</td>\n",
       "      <td>-65.70</td>\n",
       "      <td>-57.12</td>\n",
       "      <td>...</td>\n",
       "      <td>9</td>\n",
       "      <td>35</td>\n",
       "      <td>35</td>\n",
       "      <td>95.74</td>\n",
       "      <td>71.82</td>\n",
       "      <td>2022</td>\n",
       "      <td>2012</td>\n",
       "      <td>good</td>\n",
       "      <td>QLD15</td>\n",
       "      <td>POINT (2000783.921 -2803564.747)</td>\n",
       "    </tr>\n",
       "  </tbody>\n",
       "</table>\n",
       "<p>5 rows × 52 columns</p>\n",
       "</div>"
      ],
      "text/plain": [
       "                             id         uid  rate_time  sig_time  se_time  \\\n",
       "317950  rates_of_change.1199380  r7sheu4wj6       1.07     0.011     0.40   \n",
       "317951  rates_of_change.1199381  r7sheu4x0z       1.29     0.004     0.41   \n",
       "317952  rates_of_change.1199382  r7sheu627g       1.20     0.006     0.41   \n",
       "317953  rates_of_change.1199383  r7sheu61qy       1.10     0.011     0.41   \n",
       "317954  rates_of_change.1199384  r7sheu64d5       0.97     0.020     0.39   \n",
       "\n",
       "       outl_time  dist_1988  dist_1989  dist_1990  dist_1991  ...  angle_std  \\\n",
       "317950      2022     -85.35     -85.38     -88.28     -75.75  ...         10   \n",
       "317951      None     -83.83     -80.88     -85.33     -71.65  ...          9   \n",
       "317952      None     -81.56     -76.79     -80.38     -64.87  ...         10   \n",
       "317953      None     -75.76     -69.09     -69.37     -61.37  ...         10   \n",
       "317954      None     -71.82     -64.09     -65.70     -57.12  ...          9   \n",
       "\n",
       "        valid_obs  valid_span     sce    nsm  max_year  min_year  \\\n",
       "317950         34          34   86.41  85.35      2019      2012   \n",
       "317951         35          35  106.96  83.83      2022      2012   \n",
       "317952         35          35  104.53  81.56      2022      2012   \n",
       "317953         35          35   99.56  75.76      2022      2012   \n",
       "317954         35          35   95.74  71.82      2022      2012   \n",
       "\n",
       "               certainty  id_primary                          geometry  \n",
       "317950  baseline outlier       QLD15  POINT (2000851.727 -2803663.727)  \n",
       "317951              good       QLD15  POINT (2000835.916 -2803638.205)  \n",
       "317952              good       QLD15  POINT (2000818.707 -2803613.637)  \n",
       "317953              good       QLD15  POINT (2000800.724 -2803589.631)  \n",
       "317954              good       QLD15  POINT (2000783.921 -2803564.747)  \n",
       "\n",
       "[5 rows x 52 columns]"
      ]
     },
     "execution_count": 9,
     "metadata": {},
     "output_type": "execute_result"
    }
   ],
   "source": [
    "# Load data from WFS for study area bounding box\n",
    "bbox = study_area.geometry.bounds.values[0]\n",
    "# bbox = study_area.geometry.bounds#.values[0]\n",
    "ratesofchange_gdf = get_coastlines(\n",
    "    bbox=bbox, layer=\"rates_of_change\"\n",
    ")\n",
    "\n",
    "# Clip returned data to polygon extent\n",
    "ratesofchange_gdf = gpd.clip(ratesofchange_gdf, mask=study_area.to_crs(\"EPSG:3577\"))\n",
    "ratesofchange_gdf.head()"
   ]
  },
  {
   "cell_type": "code",
   "execution_count": null,
   "id": "90db0d6a-c35a-4dfb-9346-f572d066d6dc",
   "metadata": {
    "tags": []
   },
   "outputs": [],
   "source": [
    "# ## Repeat for offshore polygon\n",
    "\n",
    "# # Load data from WFS for study area bounding box\n",
    "# bbox_offshore = study_area_offshore.geometry.bounds.values[0]\n",
    "# # bbox = study_area.geometry.bounds#.values[0]\n",
    "# ratesofchange_gdf_offshore = get_coastlines(\n",
    "#     bbox=bbox_offshore, layer=\"rates_of_change\"\n",
    "# )\n",
    "\n",
    "# # Clip returned data to polygon extent\n",
    "# ratesofchange_gdf_offshore = gpd.clip(ratesofchange_gdf_offshore, mask=study_area_offshore.to_crs(\"EPSG:3577\"))\n",
    "# ratesofchange_gdf_offshore.head()"
   ]
  },
  {
   "cell_type": "code",
   "execution_count": null,
   "id": "3bcecc3e-a7d7-4f53-9505-44f437d31948",
   "metadata": {
    "tags": []
   },
   "outputs": [],
   "source": [
    "# ## Temp - bring in csv version of Australian ratesofchange_gdf and clip to management boundaries for plotting\n",
    "\n",
    "from shapely import wkt\n",
    "\n",
    "allAus = pd.read_csv(\"/home/jovyan/dev/dea-notebooks/Testing/All_Aust_16-10-2023.csv\")\n",
    "\n",
    "allAus['geometry'] = allAus['geometry'].apply(wkt.loads)\n",
    "allAus_gdf = gpd.GeoDataFrame(allAus, crs = 'epsg:4326')\n",
    "# allAus_gdf.head(2)"
   ]
  },
  {
   "cell_type": "code",
   "execution_count": 23,
   "id": "1ac0594a-94d7-4206-8fb9-0c1bd76a95b2",
   "metadata": {
    "tags": []
   },
   "outputs": [
    {
     "name": "stderr",
     "output_type": "stream",
     "text": [
      "/tmp/ipykernel_537/3357488663.py:1: UserWarning: CRS mismatch between the CRS of left geometries and the CRS of right geometries.\n",
      "Use `to_crs()` to reproject one of the input geometries to match the CRS of the other.\n",
      "\n",
      "Left CRS: EPSG:4326\n",
      "Right CRS: EPSG:3577\n",
      "\n",
      "  ratesofchange_gdf = gpd.clip(allAus_gdf, mask=study_area.to_crs(\"EPSG:3577\"))\n"
     ]
    },
    {
     "data": {
      "text/html": [
       "<div>\n",
       "<style scoped>\n",
       "    .dataframe tbody tr th:only-of-type {\n",
       "        vertical-align: middle;\n",
       "    }\n",
       "\n",
       "    .dataframe tbody tr th {\n",
       "        vertical-align: top;\n",
       "    }\n",
       "\n",
       "    .dataframe thead th {\n",
       "        text-align: right;\n",
       "    }\n",
       "</style>\n",
       "<table border=\"1\" class=\"dataframe\">\n",
       "  <thead>\n",
       "    <tr style=\"text-align: right;\">\n",
       "      <th></th>\n",
       "      <th>Unnamed: 0</th>\n",
       "      <th>id</th>\n",
       "      <th>uid</th>\n",
       "      <th>rate_time</th>\n",
       "      <th>sig_time</th>\n",
       "      <th>se_time</th>\n",
       "      <th>outl_time</th>\n",
       "      <th>dist_1988</th>\n",
       "      <th>dist_1989</th>\n",
       "      <th>dist_1990</th>\n",
       "      <th>...</th>\n",
       "      <th>max_year</th>\n",
       "      <th>min_year</th>\n",
       "      <th>certainty</th>\n",
       "      <th>id_primary</th>\n",
       "      <th>geometry</th>\n",
       "      <th>2019-2022_epoch_rate_time</th>\n",
       "      <th>y_coord</th>\n",
       "      <th>x_coord</th>\n",
       "      <th>2019-2022_epoch_rate_time_sig_filtered</th>\n",
       "      <th>rate_time_sig_filtered</th>\n",
       "    </tr>\n",
       "  </thead>\n",
       "  <tbody>\n",
       "    <tr>\n",
       "      <th>392790</th>\n",
       "      <td>979188</td>\n",
       "      <td>rates_of_change.979186</td>\n",
       "      <td>rk4p5rc3tr</td>\n",
       "      <td>-1.01</td>\n",
       "      <td>0.067</td>\n",
       "      <td>0.58</td>\n",
       "      <td>NaN</td>\n",
       "      <td>69.35</td>\n",
       "      <td>55.75</td>\n",
       "      <td>41.33</td>\n",
       "      <td>...</td>\n",
       "      <td>2002</td>\n",
       "      <td>2003</td>\n",
       "      <td>good</td>\n",
       "      <td>QLD12</td>\n",
       "      <td>POINT (1768690.10309 -2399983.51520)</td>\n",
       "      <td>-8.085</td>\n",
       "      <td>-2.399984e+06</td>\n",
       "      <td>1.768690e+06</td>\n",
       "      <td>0.0</td>\n",
       "      <td>0.0</td>\n",
       "    </tr>\n",
       "    <tr>\n",
       "      <th>392791</th>\n",
       "      <td>979191</td>\n",
       "      <td>rates_of_change.979189</td>\n",
       "      <td>rk4p5rcg0p</td>\n",
       "      <td>-0.77</td>\n",
       "      <td>0.011</td>\n",
       "      <td>0.31</td>\n",
       "      <td>1996 1997 2003 2004</td>\n",
       "      <td>20.62</td>\n",
       "      <td>3.28</td>\n",
       "      <td>-9.11</td>\n",
       "      <td>...</td>\n",
       "      <td>2005</td>\n",
       "      <td>2021</td>\n",
       "      <td>good</td>\n",
       "      <td>QLD12</td>\n",
       "      <td>POINT (1768740.60748 -2399961.35174)</td>\n",
       "      <td>-1.617</td>\n",
       "      <td>-2.399961e+06</td>\n",
       "      <td>1.768741e+06</td>\n",
       "      <td>0.0</td>\n",
       "      <td>0.0</td>\n",
       "    </tr>\n",
       "    <tr>\n",
       "      <th>392792</th>\n",
       "      <td>979194</td>\n",
       "      <td>rates_of_change.979192</td>\n",
       "      <td>rk4p5rfk9s</td>\n",
       "      <td>-0.86</td>\n",
       "      <td>0.401</td>\n",
       "      <td>1.11</td>\n",
       "      <td>NaN</td>\n",
       "      <td>4.07</td>\n",
       "      <td>-1.62</td>\n",
       "      <td>-63.41</td>\n",
       "      <td>...</td>\n",
       "      <td>1999</td>\n",
       "      <td>2003</td>\n",
       "      <td>good</td>\n",
       "      <td>QLD12</td>\n",
       "      <td>POINT (1768820.82797 -2399945.12510)</td>\n",
       "      <td>20.169</td>\n",
       "      <td>-2.399945e+06</td>\n",
       "      <td>1.768821e+06</td>\n",
       "      <td>0.0</td>\n",
       "      <td>0.0</td>\n",
       "    </tr>\n",
       "    <tr>\n",
       "      <th>392793</th>\n",
       "      <td>979192</td>\n",
       "      <td>rates_of_change.979190</td>\n",
       "      <td>rk4p5rcs46</td>\n",
       "      <td>-0.32</td>\n",
       "      <td>0.459</td>\n",
       "      <td>0.53</td>\n",
       "      <td>2003</td>\n",
       "      <td>45.59</td>\n",
       "      <td>14.55</td>\n",
       "      <td>-7.83</td>\n",
       "      <td>...</td>\n",
       "      <td>2005</td>\n",
       "      <td>2004</td>\n",
       "      <td>good</td>\n",
       "      <td>QLD12</td>\n",
       "      <td>POINT (1768718.06858 -2399942.12255)</td>\n",
       "      <td>1.176</td>\n",
       "      <td>-2.399942e+06</td>\n",
       "      <td>1.768718e+06</td>\n",
       "      <td>0.0</td>\n",
       "      <td>0.0</td>\n",
       "    </tr>\n",
       "    <tr>\n",
       "      <th>392794</th>\n",
       "      <td>979197</td>\n",
       "      <td>rates_of_change.979195</td>\n",
       "      <td>rk4p5rfhfg</td>\n",
       "      <td>-0.64</td>\n",
       "      <td>0.113</td>\n",
       "      <td>0.44</td>\n",
       "      <td>1996 1997 2003 2004</td>\n",
       "      <td>5.69</td>\n",
       "      <td>0.41</td>\n",
       "      <td>-53.29</td>\n",
       "      <td>...</td>\n",
       "      <td>2005</td>\n",
       "      <td>2021</td>\n",
       "      <td>good</td>\n",
       "      <td>QLD12</td>\n",
       "      <td>POINT (1768792.48543 -2399936.72071)</td>\n",
       "      <td>14.843</td>\n",
       "      <td>-2.399937e+06</td>\n",
       "      <td>1.768792e+06</td>\n",
       "      <td>0.0</td>\n",
       "      <td>0.0</td>\n",
       "    </tr>\n",
       "  </tbody>\n",
       "</table>\n",
       "<p>5 rows × 58 columns</p>\n",
       "</div>"
      ],
      "text/plain": [
       "        Unnamed: 0                      id         uid  rate_time  sig_time  \\\n",
       "392790      979188  rates_of_change.979186  rk4p5rc3tr      -1.01     0.067   \n",
       "392791      979191  rates_of_change.979189  rk4p5rcg0p      -0.77     0.011   \n",
       "392792      979194  rates_of_change.979192  rk4p5rfk9s      -0.86     0.401   \n",
       "392793      979192  rates_of_change.979190  rk4p5rcs46      -0.32     0.459   \n",
       "392794      979197  rates_of_change.979195  rk4p5rfhfg      -0.64     0.113   \n",
       "\n",
       "        se_time            outl_time  dist_1988  dist_1989  dist_1990  ...  \\\n",
       "392790     0.58                  NaN      69.35      55.75      41.33  ...   \n",
       "392791     0.31  1996 1997 2003 2004      20.62       3.28      -9.11  ...   \n",
       "392792     1.11                  NaN       4.07      -1.62     -63.41  ...   \n",
       "392793     0.53                 2003      45.59      14.55      -7.83  ...   \n",
       "392794     0.44  1996 1997 2003 2004       5.69       0.41     -53.29  ...   \n",
       "\n",
       "        max_year  min_year  certainty  id_primary  \\\n",
       "392790      2002      2003       good       QLD12   \n",
       "392791      2005      2021       good       QLD12   \n",
       "392792      1999      2003       good       QLD12   \n",
       "392793      2005      2004       good       QLD12   \n",
       "392794      2005      2021       good       QLD12   \n",
       "\n",
       "                                    geometry  2019-2022_epoch_rate_time  \\\n",
       "392790  POINT (1768690.10309 -2399983.51520)                     -8.085   \n",
       "392791  POINT (1768740.60748 -2399961.35174)                     -1.617   \n",
       "392792  POINT (1768820.82797 -2399945.12510)                     20.169   \n",
       "392793  POINT (1768718.06858 -2399942.12255)                      1.176   \n",
       "392794  POINT (1768792.48543 -2399936.72071)                     14.843   \n",
       "\n",
       "             y_coord       x_coord  2019-2022_epoch_rate_time_sig_filtered  \\\n",
       "392790 -2.399984e+06  1.768690e+06                                     0.0   \n",
       "392791 -2.399961e+06  1.768741e+06                                     0.0   \n",
       "392792 -2.399945e+06  1.768821e+06                                     0.0   \n",
       "392793 -2.399942e+06  1.768718e+06                                     0.0   \n",
       "392794 -2.399937e+06  1.768792e+06                                     0.0   \n",
       "\n",
       "        rate_time_sig_filtered  \n",
       "392790                     0.0  \n",
       "392791                     0.0  \n",
       "392792                     0.0  \n",
       "392793                     0.0  \n",
       "392794                     0.0  \n",
       "\n",
       "[5 rows x 58 columns]"
      ]
     },
     "execution_count": 23,
     "metadata": {},
     "output_type": "execute_result"
    }
   ],
   "source": [
    "ratesofchange_gdf = gpd.clip(allAus_gdf, mask=study_area.to_crs(\"EPSG:3577\"))\n",
    "\n",
    "ratesofchange_gdf.head()"
   ]
  },
  {
   "cell_type": "code",
   "execution_count": 25,
   "id": "4c7b21e4-00b9-442e-a39b-87ac0bc35344",
   "metadata": {
    "tags": []
   },
   "outputs": [],
   "source": [
    "## Temp - bring in csv version of Australian ratesofchange_gdf and clip to management boundaries for plotting\n",
    "# gpd.read_file(\"/home/jovyan/dev/dea-notebooks/Testing/All_Aust_16-10-2023.csv\")\n",
    "\n",
    "# Reading only geometries intersecting ``mask``:\n",
    "\n",
    "# >>> df = geopandas.read_file(\"nybb.shp\", mask=polygon)  # doctest: +SKIP\n",
    "\n",
    "\n",
    "# gdf_mask = gpd.read_file(\"/home/jovyan/dev/dea-notebooks/Testing/All_Aust_16-10-2023.csv\", crs = 'epsg:4326')\n",
    "# regions_gdf = (gpd.read_file('/home/jovyan/dev/dea-notebooks/Testing/All_GBR_merged.shp').set_index(\"layer\"))\n",
    "\n",
    "# allAus_gdf = allAus_gdf.to_crs(crs = 'epsg:4326')\n",
    "# regions_gdf = regions_gdf.to_crs(crs = 'epsg:4326')\n",
    "\n",
    "# gpd.read_file(allAus_gdf, mask=regions_gdf.loc[['Mainland_CairnsCook']])\n",
    "# mask = regions_gdf.loc[['Australia']].geometry#.boundary\n",
    "# allAus_gdf.to_crs(\"EPSG:3577\").clip(mask)"
   ]
  },
  {
   "cell_type": "code",
   "execution_count": null,
   "id": "59b9897d-2baf-409a-b173-1cbf1566365d",
   "metadata": {
    "tags": []
   },
   "outputs": [],
   "source": [
    "# mask_gdf = gpd.GeoDataFrame([1], geometry=mask, crs = allAus_gdf.crs)\n",
    "# mask_gdf"
   ]
  },
  {
   "cell_type": "code",
   "execution_count": null,
   "id": "72284fc3-b829-4b98-9024-6d7dfc26537a",
   "metadata": {
    "tags": []
   },
   "outputs": [],
   "source": [
    "## Epoch based change\n",
    "### NOTE: there are three places in this code cell where epoch dates need to be adjusted\n",
    "\n",
    "## Create a linear regression object\n",
    "linear_regressor = LinearRegression()\n",
    "\n",
    "## Set the dates (add 1 to your end date)\n",
    "x=np.arange(2019, 2023, 1).reshape(-1,1) \n",
    "\n",
    "## Define the function to take each row of the gdf and calculate the linear regression \n",
    "## coefficient for the time period of interest\n",
    "def epoch_rate_time(x,y,linear_regressor):\n",
    "    \n",
    "    try:\n",
    "        # If Nans in 'y', remove them and their equivalent indexed values from 'x'\n",
    "        if pd.isnull(y).any() == True:\n",
    "            x= np.delete(x, np.argwhere(y.values!=y.values).flatten(order='C')).reshape(-1,1)\n",
    "            y= y.dropna().values\n",
    "        else:\n",
    "            y = y.values\n",
    "        # Calculate the linear regression\n",
    "        linear_regressor.fit(x,y)\n",
    "        # Return only the coefficient into the gdf\n",
    "        return linear_regressor.coef_[0]\n",
    "    except:\n",
    "        print(f'An exception error occurred at {y.id}')\n",
    "\n",
    "### rename gdf column to match input dates and adjust slices to match exact input and output years\n",
    "ratesofchange_gdf['2019-2022_epoch_rate_time'] = ratesofchange_gdf.apply(lambda y: epoch_rate_time(x,       \n",
    "                                                                                                     y.loc['dist_2019':'dist_2022'],  \n",
    "                                                                                                     linear_regressor), axis=1)\n",
    "ratesofchange_gdf.head()"
   ]
  },
  {
   "cell_type": "code",
   "execution_count": null,
   "id": "732c2b31-fe15-49f2-87a4-b55abe9f11ae",
   "metadata": {
    "tags": []
   },
   "outputs": [],
   "source": [
    "# ## Repeat for offshore polygons\n",
    "# ## Epoch based change\n",
    "# ### NOTE: there are three places in this code cell where epoch dates need to be adjusted\n",
    "\n",
    "# # ## Create a linear regression object\n",
    "# # linear_regressor = LinearRegression()\n",
    "\n",
    "# # ## Set the dates (add 1 to your end date)\n",
    "# # x=np.arange(2019, 2023, 1).reshape(-1,1) \n",
    "\n",
    "# # ## Define the function to take each row of the gdf and calculate the linear regression \n",
    "# # ## coefficient for the time period of interest\n",
    "# # def epoch_rate_time(x,y,linear_regressor):\n",
    "    \n",
    "# #     try:\n",
    "# #         # If Nans in 'y', remove them and their equivalent indexed values from 'x'\n",
    "# #         if pd.isnull(y).any() == True:\n",
    "# #             x= np.delete(x, np.argwhere(y.values!=y.values).flatten(order='C')).reshape(-1,1)\n",
    "# #             y= y.dropna().values\n",
    "# #         else:\n",
    "# #             y = y.values\n",
    "# #         # Calculate the linear regression\n",
    "# #         linear_regressor.fit(x,y)\n",
    "# #         # Return only the coefficient into the gdf\n",
    "# #         return linear_regressor.coef_[0]\n",
    "# #     except:\n",
    "# #         print(f'An exception error occurred at {y.id}')\n",
    "\n",
    "# ### rename gdf column to match input dates and adjust slices to match exact input and output years\n",
    "# ratesofchange_gdf_offshore['2019-2022_epoch_rate_time'] = ratesofchange_gdf_offshore.apply(lambda y: epoch_rate_time(x,       \n",
    "#                                                                                                      y.loc['dist_2019':'dist_2022'],  \n",
    "#                                                                                                      linear_regressor), axis=1)\n",
    "# ratesofchange_gdf_offshore.head()"
   ]
  },
  {
   "cell_type": "code",
   "execution_count": null,
   "id": "294b7a62-7791-4e91-a66d-abcde1befeaa",
   "metadata": {
    "tags": []
   },
   "outputs": [],
   "source": [
    "# ## Temp: compare my method to Robbi's\n",
    "\n",
    "# # Optional: Keep only rates of change points with \"good\" certainty \n",
    "# # (i.e. no poor quality flags)\n",
    "# ratesofchange_gdf = ratesofchange_gdf.query(\"certainty == 'good'\")\n",
    "\n",
    "# ratesofchange_gdf['1988-2022_epoch_rate_time'] = ratesofchange_gdf['1988-2022_epoch_rate_time'].round(2)\n",
    "\n",
    "# ratesofchange_gdf[['rate_time','1988-2022_epoch_rate_time', '2014-2018_epoch_rate_time','2019-2022_epoch_rate_time']]"
   ]
  },
  {
   "cell_type": "code",
   "execution_count": null,
   "id": "869dc577-82b5-420f-a16f-0302be21e621",
   "metadata": {
    "tags": []
   },
   "outputs": [],
   "source": [
    "# ## Temp: compare my method to Robbi's\n",
    "# ## Noise possibly caused by my method not removing outliers\n",
    "# plt.scatter(ratesofchange_gdf.rate_time, ratesofchange_gdf['1988-2022_epoch_rate_time'])"
   ]
  },
  {
   "cell_type": "markdown",
   "id": "91b85a59-9b41-4199-b156-650c7578cb71",
   "metadata": {},
   "source": [
    "## Data prep"
   ]
  },
  {
   "cell_type": "code",
   "execution_count": null,
   "id": "61bb7bc7-b617-4ed8-a0b5-5e12d670d7b2",
   "metadata": {
    "tags": []
   },
   "outputs": [],
   "source": [
    "# Optional: Keep only rates of change points with \"good\" certainty \n",
    "# (i.e. no poor quality flags)\n",
    "ratesofchange_gdf = ratesofchange_gdf.query(\"certainty == 'good'\")\n",
    "\n",
    "# Optional: Apply correction factor from Bishop-Taylor et al. 2021\n",
    "ratesofchange_gdf.rate_time += 0.08\n",
    "\n",
    "# ratesofchange_gdf['2014-2022_epoch_rate_time']+= 0.08\n",
    "# ratesofchange_gdf['2014-2017_epoch_rate_time']+= 0.08\n",
    "# ratesofchange_gdf['1988-2022_epoch_rate_time']+= 0.08\n",
    "# ratesofchange_gdf['2014-2018_epoch_rate_time']+= 0.08\n",
    "ratesofchange_gdf['2019-2022_epoch_rate_time']+= 0.08\n",
    "\n",
    "# Add x and y coords to data\n",
    "ratesofchange_gdf[\"y_coord\"] = ratesofchange_gdf.geometry.y\n",
    "ratesofchange_gdf[\"x_coord\"] = ratesofchange_gdf.geometry.x"
   ]
  },
  {
   "cell_type": "code",
   "execution_count": null,
   "id": "375d0a7b-2700-4d89-9da6-2f71c2a64e54",
   "metadata": {
    "tags": []
   },
   "outputs": [],
   "source": [
    "# ## Repeat for offshore polygons\n",
    "# # Optional: Keep only rates of change points with \"good\" certainty \n",
    "# # (i.e. no poor quality flags)\n",
    "# ratesofchange_gdf_offshore = ratesofchange_gdf_offshore.query(\"certainty == 'good'\")\n",
    "\n",
    "# # Optional: Apply correction factor from Bishop-Taylor et al. 2021\n",
    "# ratesofchange_gdf_offshore.rate_time += 0.08\n",
    "\n",
    "# # ratesofchange_gdf['2014-2022_epoch_rate_time']+= 0.08\n",
    "# # ratesofchange_gdf['2014-2017_epoch_rate_time']+= 0.08\n",
    "# # ratesofchange_gdf['1988-2022_epoch_rate_time']+= 0.08\n",
    "# # ratesofchange_gdf['2014-2018_epoch_rate_time']+= 0.08\n",
    "# ratesofchange_gdf_offshore['2019-2022_epoch_rate_time']+= 0.08\n",
    "\n",
    "# # Add x and y coords to data\n",
    "# ratesofchange_gdf_offshore[\"y_coord\"] = ratesofchange_gdf_offshore.geometry.y\n",
    "# ratesofchange_gdf_offshore[\"x_coord\"] = ratesofchange_gdf_offshore.geometry.x"
   ]
  },
  {
   "cell_type": "code",
   "execution_count": null,
   "id": "3e77b2f9-df6a-4c0b-b520-89f63318251a",
   "metadata": {
    "tags": []
   },
   "outputs": [],
   "source": [
    "## Temp\n",
    "# ratesofchange_gdf#['2014-2017_epoch_rate_time'] "
   ]
  },
  {
   "cell_type": "code",
   "execution_count": null,
   "id": "230f9301-8ed0-49ca-baaf-80153901f1ab",
   "metadata": {
    "tags": []
   },
   "outputs": [],
   "source": [
    "# Replace with 0 all rates with 'sig_time' > 0.01\n",
    "\n",
    "# Make a copy of the column of interest\n",
    "ratesofchange_gdf['2019-2022_epoch_rate_time_sig_filtered'] = ratesofchange_gdf['2019-2022_epoch_rate_time']\n",
    "\n",
    "## Replace with 0 all values where sig_time > 0.01\n",
    "ratesofchange_gdf.loc[ratesofchange_gdf['sig_time'] > 0.01, '2019-2022_epoch_rate_time_sig_filtered'] = 0\n",
    "# ratesofchange_gdf[['sig_time', '2019-2022_epoch_rate_time','2019-2022_epoch_rate_time_sig_filtered']] \n",
    "\n",
    "## Repeat for all-time change rates\n",
    "ratesofchange_gdf['rate_time_sig_filtered'] = ratesofchange_gdf['rate_time']\n",
    "\n",
    "## Replace with 0 all values where sig_time > 0.01\n",
    "ratesofchange_gdf.loc[ratesofchange_gdf['sig_time'] > 0.01, 'rate_time_sig_filtered'] = 0\n",
    "ratesofchange_gdf[['sig_time', 'rate_time','rate_time_sig_filtered']] "
   ]
  },
  {
   "cell_type": "code",
   "execution_count": null,
   "id": "67160179-ba50-4366-a4c2-d935e7fb1c58",
   "metadata": {
    "tags": []
   },
   "outputs": [],
   "source": [
    "# ## Repeat for offshore polygons\n",
    "# # Replace with 0 all rates with 'sig_time' > 0.01\n",
    "\n",
    "# # Make a copy of the column of interest\n",
    "# ratesofchange_gdf_offshore['2019-2022_epoch_rate_time_sig_filtered'] = ratesofchange_gdf_offshore['2019-2022_epoch_rate_time']\n",
    "\n",
    "# ## Replace with 0 all values where sig_time > 0.01\n",
    "# ratesofchange_gdf_offshore.loc[ratesofchange_gdf_offshore['sig_time'] > 0.01, '2019-2022_epoch_rate_time_sig_filtered'] = 0\n",
    "# # ratesofchange_gdf[['sig_time', '2019-2022_epoch_rate_time','2019-2022_epoch_rate_time_sig_filtered']] \n",
    "\n",
    "# ## Repeat for all-time change rates\n",
    "# ratesofchange_gdf_offshore['rate_time_sig_filtered'] = ratesofchange_gdf_offshore['rate_time']\n",
    "\n",
    "# ## Replace with 0 all values where sig_time > 0.01\n",
    "# ratesofchange_gdf_offshore.loc[ratesofchange_gdf_offshore['sig_time'] > 0.01, 'rate_time_sig_filtered'] = 0\n",
    "# ratesofchange_gdf_offshore[['sig_time', 'rate_time','rate_time_sig_filtered']] "
   ]
  },
  {
   "cell_type": "code",
   "execution_count": null,
   "id": "e2fbb796-ae59-4033-9ad2-c7cf4813be6d",
   "metadata": {},
   "outputs": [],
   "source": []
  },
  {
   "cell_type": "code",
   "execution_count": 32,
   "id": "797b5c36-09c4-4d52-b715-bc2edf868e56",
   "metadata": {},
   "outputs": [
    {
     "data": {
      "text/html": [
       "<div>\n",
       "<style scoped>\n",
       "    .dataframe tbody tr th:only-of-type {\n",
       "        vertical-align: middle;\n",
       "    }\n",
       "\n",
       "    .dataframe tbody tr th {\n",
       "        vertical-align: top;\n",
       "    }\n",
       "\n",
       "    .dataframe thead th {\n",
       "        text-align: right;\n",
       "    }\n",
       "</style>\n",
       "<table border=\"1\" class=\"dataframe\">\n",
       "  <thead>\n",
       "    <tr style=\"text-align: right;\">\n",
       "      <th></th>\n",
       "      <th>Unnamed: 0</th>\n",
       "      <th>id</th>\n",
       "      <th>uid</th>\n",
       "      <th>rate_time</th>\n",
       "      <th>sig_time</th>\n",
       "      <th>se_time</th>\n",
       "      <th>outl_time</th>\n",
       "      <th>dist_1988</th>\n",
       "      <th>dist_1989</th>\n",
       "      <th>dist_1990</th>\n",
       "      <th>...</th>\n",
       "      <th>max_year</th>\n",
       "      <th>min_year</th>\n",
       "      <th>certainty</th>\n",
       "      <th>id_primary</th>\n",
       "      <th>geometry</th>\n",
       "      <th>2019-2022_epoch_rate_time</th>\n",
       "      <th>y_coord</th>\n",
       "      <th>x_coord</th>\n",
       "      <th>2019-2022_epoch_rate_time_sig_filtered</th>\n",
       "      <th>rate_time_sig_filtered</th>\n",
       "    </tr>\n",
       "  </thead>\n",
       "  <tbody>\n",
       "    <tr>\n",
       "      <th>392790</th>\n",
       "      <td>979188</td>\n",
       "      <td>rates_of_change.979186</td>\n",
       "      <td>rk4p5rc3tr</td>\n",
       "      <td>-1.01</td>\n",
       "      <td>0.067</td>\n",
       "      <td>0.58</td>\n",
       "      <td>NaN</td>\n",
       "      <td>69.35</td>\n",
       "      <td>55.75</td>\n",
       "      <td>41.33</td>\n",
       "      <td>...</td>\n",
       "      <td>2002</td>\n",
       "      <td>2003</td>\n",
       "      <td>good</td>\n",
       "      <td>QLD12</td>\n",
       "      <td>POINT (1768690.10309 -2399983.51520)</td>\n",
       "      <td>-8.085</td>\n",
       "      <td>-2.399984e+06</td>\n",
       "      <td>1.768690e+06</td>\n",
       "      <td>0.000</td>\n",
       "      <td>0.00</td>\n",
       "    </tr>\n",
       "    <tr>\n",
       "      <th>392791</th>\n",
       "      <td>979191</td>\n",
       "      <td>rates_of_change.979189</td>\n",
       "      <td>rk4p5rcg0p</td>\n",
       "      <td>-0.77</td>\n",
       "      <td>0.011</td>\n",
       "      <td>0.31</td>\n",
       "      <td>1996 1997 2003 2004</td>\n",
       "      <td>20.62</td>\n",
       "      <td>3.28</td>\n",
       "      <td>-9.11</td>\n",
       "      <td>...</td>\n",
       "      <td>2005</td>\n",
       "      <td>2021</td>\n",
       "      <td>good</td>\n",
       "      <td>QLD12</td>\n",
       "      <td>POINT (1768740.60748 -2399961.35174)</td>\n",
       "      <td>-1.617</td>\n",
       "      <td>-2.399961e+06</td>\n",
       "      <td>1.768741e+06</td>\n",
       "      <td>0.000</td>\n",
       "      <td>0.00</td>\n",
       "    </tr>\n",
       "    <tr>\n",
       "      <th>392792</th>\n",
       "      <td>979194</td>\n",
       "      <td>rates_of_change.979192</td>\n",
       "      <td>rk4p5rfk9s</td>\n",
       "      <td>-0.86</td>\n",
       "      <td>0.401</td>\n",
       "      <td>1.11</td>\n",
       "      <td>NaN</td>\n",
       "      <td>4.07</td>\n",
       "      <td>-1.62</td>\n",
       "      <td>-63.41</td>\n",
       "      <td>...</td>\n",
       "      <td>1999</td>\n",
       "      <td>2003</td>\n",
       "      <td>good</td>\n",
       "      <td>QLD12</td>\n",
       "      <td>POINT (1768820.82797 -2399945.12510)</td>\n",
       "      <td>20.169</td>\n",
       "      <td>-2.399945e+06</td>\n",
       "      <td>1.768821e+06</td>\n",
       "      <td>0.000</td>\n",
       "      <td>0.00</td>\n",
       "    </tr>\n",
       "    <tr>\n",
       "      <th>392793</th>\n",
       "      <td>979192</td>\n",
       "      <td>rates_of_change.979190</td>\n",
       "      <td>rk4p5rcs46</td>\n",
       "      <td>-0.32</td>\n",
       "      <td>0.459</td>\n",
       "      <td>0.53</td>\n",
       "      <td>2003</td>\n",
       "      <td>45.59</td>\n",
       "      <td>14.55</td>\n",
       "      <td>-7.83</td>\n",
       "      <td>...</td>\n",
       "      <td>2005</td>\n",
       "      <td>2004</td>\n",
       "      <td>good</td>\n",
       "      <td>QLD12</td>\n",
       "      <td>POINT (1768718.06858 -2399942.12255)</td>\n",
       "      <td>1.176</td>\n",
       "      <td>-2.399942e+06</td>\n",
       "      <td>1.768718e+06</td>\n",
       "      <td>0.000</td>\n",
       "      <td>0.00</td>\n",
       "    </tr>\n",
       "    <tr>\n",
       "      <th>392794</th>\n",
       "      <td>979197</td>\n",
       "      <td>rates_of_change.979195</td>\n",
       "      <td>rk4p5rfhfg</td>\n",
       "      <td>-0.64</td>\n",
       "      <td>0.113</td>\n",
       "      <td>0.44</td>\n",
       "      <td>1996 1997 2003 2004</td>\n",
       "      <td>5.69</td>\n",
       "      <td>0.41</td>\n",
       "      <td>-53.29</td>\n",
       "      <td>...</td>\n",
       "      <td>2005</td>\n",
       "      <td>2021</td>\n",
       "      <td>good</td>\n",
       "      <td>QLD12</td>\n",
       "      <td>POINT (1768792.48543 -2399936.72071)</td>\n",
       "      <td>14.843</td>\n",
       "      <td>-2.399937e+06</td>\n",
       "      <td>1.768792e+06</td>\n",
       "      <td>0.000</td>\n",
       "      <td>0.00</td>\n",
       "    </tr>\n",
       "    <tr>\n",
       "      <th>...</th>\n",
       "      <td>...</td>\n",
       "      <td>...</td>\n",
       "      <td>...</td>\n",
       "      <td>...</td>\n",
       "      <td>...</td>\n",
       "      <td>...</td>\n",
       "      <td>...</td>\n",
       "      <td>...</td>\n",
       "      <td>...</td>\n",
       "      <td>...</td>\n",
       "      <td>...</td>\n",
       "      <td>...</td>\n",
       "      <td>...</td>\n",
       "      <td>...</td>\n",
       "      <td>...</td>\n",
       "      <td>...</td>\n",
       "      <td>...</td>\n",
       "      <td>...</td>\n",
       "      <td>...</td>\n",
       "      <td>...</td>\n",
       "      <td>...</td>\n",
       "    </tr>\n",
       "    <tr>\n",
       "      <th>474765</th>\n",
       "      <td>741429</td>\n",
       "      <td>rates_of_change.741006</td>\n",
       "      <td>rhzy8ftnzz</td>\n",
       "      <td>-0.10</td>\n",
       "      <td>0.002</td>\n",
       "      <td>0.06</td>\n",
       "      <td>NaN</td>\n",
       "      <td>9.36</td>\n",
       "      <td>9.59</td>\n",
       "      <td>10.97</td>\n",
       "      <td>...</td>\n",
       "      <td>2002</td>\n",
       "      <td>2016</td>\n",
       "      <td>good</td>\n",
       "      <td>QLD10</td>\n",
       "      <td>POINT (1483788.33687 -1906341.41068)</td>\n",
       "      <td>-0.844</td>\n",
       "      <td>-1.906341e+06</td>\n",
       "      <td>1.483788e+06</td>\n",
       "      <td>-0.844</td>\n",
       "      <td>-0.10</td>\n",
       "    </tr>\n",
       "    <tr>\n",
       "      <th>474766</th>\n",
       "      <td>741430</td>\n",
       "      <td>rates_of_change.741007</td>\n",
       "      <td>rhzy8fv05y</td>\n",
       "      <td>-0.04</td>\n",
       "      <td>0.010</td>\n",
       "      <td>0.04</td>\n",
       "      <td>NaN</td>\n",
       "      <td>7.20</td>\n",
       "      <td>7.32</td>\n",
       "      <td>7.58</td>\n",
       "      <td>...</td>\n",
       "      <td>2002</td>\n",
       "      <td>2022</td>\n",
       "      <td>good</td>\n",
       "      <td>QLD10</td>\n",
       "      <td>POINT (1483772.51940 -1906316.08248)</td>\n",
       "      <td>-0.728</td>\n",
       "      <td>-1.906316e+06</td>\n",
       "      <td>1.483773e+06</td>\n",
       "      <td>-0.728</td>\n",
       "      <td>-0.04</td>\n",
       "    </tr>\n",
       "    <tr>\n",
       "      <th>474767</th>\n",
       "      <td>741431</td>\n",
       "      <td>rates_of_change.741008</td>\n",
       "      <td>rhzy8fv180</td>\n",
       "      <td>0.02</td>\n",
       "      <td>0.105</td>\n",
       "      <td>0.04</td>\n",
       "      <td>NaN</td>\n",
       "      <td>4.94</td>\n",
       "      <td>5.18</td>\n",
       "      <td>5.09</td>\n",
       "      <td>...</td>\n",
       "      <td>2003</td>\n",
       "      <td>1994</td>\n",
       "      <td>good</td>\n",
       "      <td>QLD10</td>\n",
       "      <td>POINT (1483758.55881 -1906289.58856)</td>\n",
       "      <td>-0.699</td>\n",
       "      <td>-1.906290e+06</td>\n",
       "      <td>1.483759e+06</td>\n",
       "      <td>0.000</td>\n",
       "      <td>0.00</td>\n",
       "    </tr>\n",
       "    <tr>\n",
       "      <th>474768</th>\n",
       "      <td>741432</td>\n",
       "      <td>rates_of_change.741009</td>\n",
       "      <td>rhzy8fufu0</td>\n",
       "      <td>-0.01</td>\n",
       "      <td>0.008</td>\n",
       "      <td>0.03</td>\n",
       "      <td>NaN</td>\n",
       "      <td>4.00</td>\n",
       "      <td>4.58</td>\n",
       "      <td>5.38</td>\n",
       "      <td>...</td>\n",
       "      <td>2003</td>\n",
       "      <td>2017</td>\n",
       "      <td>good</td>\n",
       "      <td>QLD10</td>\n",
       "      <td>POINT (1483742.53881 -1906264.23406)</td>\n",
       "      <td>-0.520</td>\n",
       "      <td>-1.906264e+06</td>\n",
       "      <td>1.483743e+06</td>\n",
       "      <td>-0.520</td>\n",
       "      <td>-0.01</td>\n",
       "    </tr>\n",
       "    <tr>\n",
       "      <th>474769</th>\n",
       "      <td>741433</td>\n",
       "      <td>rates_of_change.741010</td>\n",
       "      <td>rhzy8fuezw</td>\n",
       "      <td>-0.03</td>\n",
       "      <td>0.006</td>\n",
       "      <td>0.04</td>\n",
       "      <td>NaN</td>\n",
       "      <td>5.92</td>\n",
       "      <td>5.00</td>\n",
       "      <td>6.07</td>\n",
       "      <td>...</td>\n",
       "      <td>1998</td>\n",
       "      <td>2022</td>\n",
       "      <td>good</td>\n",
       "      <td>QLD10</td>\n",
       "      <td>POINT (1483725.09641 -1906239.84721)</td>\n",
       "      <td>-0.456</td>\n",
       "      <td>-1.906240e+06</td>\n",
       "      <td>1.483725e+06</td>\n",
       "      <td>-0.456</td>\n",
       "      <td>-0.03</td>\n",
       "    </tr>\n",
       "  </tbody>\n",
       "</table>\n",
       "<p>82678 rows × 58 columns</p>\n",
       "</div>"
      ],
      "text/plain": [
       "        Unnamed: 0                      id         uid  rate_time  sig_time  \\\n",
       "392790      979188  rates_of_change.979186  rk4p5rc3tr      -1.01     0.067   \n",
       "392791      979191  rates_of_change.979189  rk4p5rcg0p      -0.77     0.011   \n",
       "392792      979194  rates_of_change.979192  rk4p5rfk9s      -0.86     0.401   \n",
       "392793      979192  rates_of_change.979190  rk4p5rcs46      -0.32     0.459   \n",
       "392794      979197  rates_of_change.979195  rk4p5rfhfg      -0.64     0.113   \n",
       "...            ...                     ...         ...        ...       ...   \n",
       "474765      741429  rates_of_change.741006  rhzy8ftnzz      -0.10     0.002   \n",
       "474766      741430  rates_of_change.741007  rhzy8fv05y      -0.04     0.010   \n",
       "474767      741431  rates_of_change.741008  rhzy8fv180       0.02     0.105   \n",
       "474768      741432  rates_of_change.741009  rhzy8fufu0      -0.01     0.008   \n",
       "474769      741433  rates_of_change.741010  rhzy8fuezw      -0.03     0.006   \n",
       "\n",
       "        se_time            outl_time  dist_1988  dist_1989  dist_1990  ...  \\\n",
       "392790     0.58                  NaN      69.35      55.75      41.33  ...   \n",
       "392791     0.31  1996 1997 2003 2004      20.62       3.28      -9.11  ...   \n",
       "392792     1.11                  NaN       4.07      -1.62     -63.41  ...   \n",
       "392793     0.53                 2003      45.59      14.55      -7.83  ...   \n",
       "392794     0.44  1996 1997 2003 2004       5.69       0.41     -53.29  ...   \n",
       "...         ...                  ...        ...        ...        ...  ...   \n",
       "474765     0.06                  NaN       9.36       9.59      10.97  ...   \n",
       "474766     0.04                  NaN       7.20       7.32       7.58  ...   \n",
       "474767     0.04                  NaN       4.94       5.18       5.09  ...   \n",
       "474768     0.03                  NaN       4.00       4.58       5.38  ...   \n",
       "474769     0.04                  NaN       5.92       5.00       6.07  ...   \n",
       "\n",
       "        max_year  min_year  certainty  id_primary  \\\n",
       "392790      2002      2003       good       QLD12   \n",
       "392791      2005      2021       good       QLD12   \n",
       "392792      1999      2003       good       QLD12   \n",
       "392793      2005      2004       good       QLD12   \n",
       "392794      2005      2021       good       QLD12   \n",
       "...          ...       ...        ...         ...   \n",
       "474765      2002      2016       good       QLD10   \n",
       "474766      2002      2022       good       QLD10   \n",
       "474767      2003      1994       good       QLD10   \n",
       "474768      2003      2017       good       QLD10   \n",
       "474769      1998      2022       good       QLD10   \n",
       "\n",
       "                                    geometry  2019-2022_epoch_rate_time  \\\n",
       "392790  POINT (1768690.10309 -2399983.51520)                     -8.085   \n",
       "392791  POINT (1768740.60748 -2399961.35174)                     -1.617   \n",
       "392792  POINT (1768820.82797 -2399945.12510)                     20.169   \n",
       "392793  POINT (1768718.06858 -2399942.12255)                      1.176   \n",
       "392794  POINT (1768792.48543 -2399936.72071)                     14.843   \n",
       "...                                      ...                        ...   \n",
       "474765  POINT (1483788.33687 -1906341.41068)                     -0.844   \n",
       "474766  POINT (1483772.51940 -1906316.08248)                     -0.728   \n",
       "474767  POINT (1483758.55881 -1906289.58856)                     -0.699   \n",
       "474768  POINT (1483742.53881 -1906264.23406)                     -0.520   \n",
       "474769  POINT (1483725.09641 -1906239.84721)                     -0.456   \n",
       "\n",
       "             y_coord       x_coord  2019-2022_epoch_rate_time_sig_filtered  \\\n",
       "392790 -2.399984e+06  1.768690e+06                                   0.000   \n",
       "392791 -2.399961e+06  1.768741e+06                                   0.000   \n",
       "392792 -2.399945e+06  1.768821e+06                                   0.000   \n",
       "392793 -2.399942e+06  1.768718e+06                                   0.000   \n",
       "392794 -2.399937e+06  1.768792e+06                                   0.000   \n",
       "...              ...           ...                                     ...   \n",
       "474765 -1.906341e+06  1.483788e+06                                  -0.844   \n",
       "474766 -1.906316e+06  1.483773e+06                                  -0.728   \n",
       "474767 -1.906290e+06  1.483759e+06                                   0.000   \n",
       "474768 -1.906264e+06  1.483743e+06                                  -0.520   \n",
       "474769 -1.906240e+06  1.483725e+06                                  -0.456   \n",
       "\n",
       "        rate_time_sig_filtered  \n",
       "392790                    0.00  \n",
       "392791                    0.00  \n",
       "392792                    0.00  \n",
       "392793                    0.00  \n",
       "392794                    0.00  \n",
       "...                        ...  \n",
       "474765                   -0.10  \n",
       "474766                   -0.04  \n",
       "474767                    0.00  \n",
       "474768                   -0.01  \n",
       "474769                   -0.03  \n",
       "\n",
       "[82678 rows x 58 columns]"
      ]
     },
     "execution_count": 32,
     "metadata": {},
     "output_type": "execute_result"
    }
   ],
   "source": [
    "ratesofchange_gdf"
   ]
  },
  {
   "cell_type": "code",
   "execution_count": null,
   "id": "628c61d5-b2f9-4248-8d92-ae62008aa76a",
   "metadata": {},
   "outputs": [],
   "source": []
  },
  {
   "cell_type": "code",
   "execution_count": null,
   "id": "533398d6-f716-4d59-a520-a8dd18c5b001",
   "metadata": {},
   "outputs": [],
   "source": []
  },
  {
   "cell_type": "code",
   "execution_count": 26,
   "id": "e8d1970b-216b-42c4-8e9d-2eace87f71c5",
   "metadata": {
    "tags": []
   },
   "outputs": [
    {
     "name": "stderr",
     "output_type": "stream",
     "text": [
      "/tmp/ipykernel_537/2487466029.py:13: FutureWarning: Index.ravel returning ndarray is deprecated; in a future version this will return a view on self.\n",
      "  ratesofchange_standardised_gdf = ratesofchange_gdf.groupby(groups).mean() ## TEMPORARY CHANGE FOR TESTING 21/09/23 CP\n",
      "/tmp/ipykernel_537/2487466029.py:13: FutureWarning: The default value of numeric_only in DataFrameGroupBy.mean is deprecated. In a future version, numeric_only will default to False. Either specify numeric_only or select only columns which should be valid for the function.\n",
      "  ratesofchange_standardised_gdf = ratesofchange_gdf.groupby(groups).mean() ## TEMPORARY CHANGE FOR TESTING 21/09/23 CP\n"
     ]
    }
   ],
   "source": [
    "# Resample to make sure we have evenly spaced rows (important for sensible rolling mean)\n",
    "bin_size = 30\n",
    "min_coord = ratesofchange_gdf[\"y_coord\"].min()\n",
    "max_coord = ratesofchange_gdf[\"y_coord\"].max()\n",
    "bin_edges = np.arange(min_coord, max_coord, bin_size)\n",
    "groups = pd.cut(\n",
    "    ratesofchange_gdf[\"y_coord\"],\n",
    "    bins=bin_edges,\n",
    "    labels=bin_edges[:-1] + (bin_size / 2),\n",
    "    right=False,\n",
    ")\n",
    "# ratesofchange_standardised_gdf = ratesofchange_gdf.groupby(groups).mean() ## Original code\n",
    "ratesofchange_standardised_gdf = ratesofchange_gdf.groupby(groups).mean() ## TEMPORARY CHANGE FOR TESTING 21/09/23 CP\n",
    "\n",
    "# Set index to numeric so we can plot it nicely\n",
    "ratesofchange_standardised_gdf.index = pd.to_numeric(\n",
    "    ratesofchange_standardised_gdf.index\n",
    ")"
   ]
  },
  {
   "cell_type": "markdown",
   "id": "1676a585-667b-49c5-aa22-f3055dc624e2",
   "metadata": {},
   "source": [
    "## Rolling mean"
   ]
  },
  {
   "cell_type": "code",
   "execution_count": 27,
   "id": "58e4373f-38ad-4559-a33a-d48c834c549d",
   "metadata": {
    "tags": []
   },
   "outputs": [],
   "source": [
    "# Apply rolling median\n",
    "window_size = 15000  # km\n",
    "window_n = int(window_size / 30)\n",
    "ratesofchange_rolling_gdf = ratesofchange_standardised_gdf.rolling(\n",
    "    window=window_n, center=True, min_periods=1\n",
    ").mean()\n",
    "\n",
    "# Apply an additional level of aesthetic smoothing (can be removed)\n",
    "ratesofchange_rolling_gdf = ratesofchange_rolling_gdf.rolling(\n",
    "    window=window_n, center=True, min_periods=1\n",
    ").mean()"
   ]
  },
  {
   "cell_type": "markdown",
   "id": "4bf0d94b-c60f-4cfd-98c9-c9275e27c56c",
   "metadata": {},
   "source": [
    "## Plotting"
   ]
  },
  {
   "cell_type": "code",
   "execution_count": 30,
   "id": "074ada51-7e85-43e6-8c9c-360d5a2a5d3f",
   "metadata": {
    "tags": []
   },
   "outputs": [
    {
     "data": {
      "image/png": "[encoded data removed]",
      "text/plain": [
       "<Figure size 150x700 with 1 Axes>"
      ]
     },
     "metadata": {},
     "output_type": "display_data"
    }
   ],
   "source": [
    "## All time plotting\n",
    "\n",
    "# Set first and last entry to zero so we get clean graph outlines\n",
    "ratesofchange_rolling_gdf[\"rate_time_sig_filtered\"].iloc[0] = 0\n",
    "ratesofchange_rolling_gdf[\"rate_time_sig_filtered\"].iloc[-1] = 0\n",
    "\n",
    "# Split out positive and negative rates so we can plot them individually\n",
    "ratesofchange_positive_gdf = ratesofchange_rolling_gdf[\"rate_time_sig_filtered\"].clip(0, np.inf)\n",
    "ratesofchange_negative_gdf = ratesofchange_rolling_gdf[\"rate_time_sig_filtered\"].clip(-np.inf, 0)\n",
    "\n",
    "# Plot negative rates in red, positive in blue\n",
    "fig, ax = plt.subplots(figsize=(1.5, 7))#1.75))#5))#7))\n",
    "ax.fill_betweenx(\n",
    "    ratesofchange_positive_gdf.index, 0, ratesofchange_positive_gdf, color=\"#6caed1\"\n",
    ")\n",
    "ax.fill_betweenx(\n",
    "    ratesofchange_negative_gdf.index, ratesofchange_negative_gdf, 0, color=\"#eb7668\"\n",
    ")\n",
    "ax.plot(\n",
    "    ratesofchange_rolling_gdf[\"rate_time_sig_filtered\"],\n",
    "    ratesofchange_rolling_gdf.index,\n",
    "    color=\"black\",\n",
    "    linewidth=1,\n",
    ")\n",
    "\n",
    "# Add vertical axis line\n",
    "ax.axvline(0, color=\"black\", linewidth=1)\n",
    "\n",
    "# Styling\n",
    "ax.set_xlim(-1, 1)\n",
    "ax.set_ylim(min_coord, max_coord)\n",
    "ax.set_xticks(ticks=[-1, 0, 1])\n",
    "ax.set_xlabel(\"(m / year between \\n 1988 and 2022)\")\n",
    "ax.spines[[\"top\", \"left\", \"right\"]].set_visible(False)\n",
    "ax.tick_params(top=False, left=False, labelleft=False, labeltop=False)\n",
    "\n",
    "# Export\n",
    "fig.savefig(\"/home/jovyan/dev/dea-notebooks/Testing/all_time_sig_time_filtered_all_GBR_mngt_area4.svg\", bbox_inches=\"tight\", transparent=True)"
   ]
  },
  {
   "cell_type": "code",
   "execution_count": 31,
   "id": "cfe326f2-14c1-4c44-b54c-4f3b0fae059d",
   "metadata": {
    "tags": []
   },
   "outputs": [
    {
     "data": {
      "image/png": "[encoded data removed]",
      "text/plain": [
       "<Figure size 150x700 with 1 Axes>"
      ]
     },
     "metadata": {},
     "output_type": "display_data"
    }
   ],
   "source": [
    "## Epoch plotting (without outlier removal - unlike original rate_time method)\n",
    "\n",
    "# Set first and last entry to zero so we get clean graph outlines\n",
    "ratesofchange_rolling_gdf['2019-2022_epoch_rate_time_sig_filtered'].iloc[0] = 0\n",
    "ratesofchange_rolling_gdf['2019-2022_epoch_rate_time_sig_filtered'].iloc[-1] = 0\n",
    "\n",
    "# Split out positive and negative rates so we can plot them individually\n",
    "ratesofchange_positive_gdf = ratesofchange_rolling_gdf['2019-2022_epoch_rate_time_sig_filtered'].clip(0, np.inf)\n",
    "ratesofchange_negative_gdf = ratesofchange_rolling_gdf['2019-2022_epoch_rate_time_sig_filtered'].clip(-np.inf, 0)\n",
    "\n",
    "# Plot negative rates in red, positive in blue\n",
    "fig, ax = plt.subplots(figsize=(1.5, 7))#5))#7))\n",
    "ax.fill_betweenx(\n",
    "    ratesofchange_positive_gdf.index, 0, ratesofchange_positive_gdf, color=\"#6caed1\"\n",
    ")\n",
    "ax.fill_betweenx(\n",
    "    ratesofchange_negative_gdf.index, ratesofchange_negative_gdf, 0, color=\"#eb7668\"\n",
    ")\n",
    "ax.plot(\n",
    "    ratesofchange_rolling_gdf['2019-2022_epoch_rate_time_sig_filtered'],\n",
    "    ratesofchange_rolling_gdf.index,\n",
    "    color=\"black\",\n",
    "    linewidth=1,\n",
    ")\n",
    "\n",
    "# Add vertical axis line\n",
    "ax.axvline(0, color=\"black\", linewidth=1)\n",
    "\n",
    "# Styling\n",
    "ax.set_xlim(-1, 1)\n",
    "ax.set_ylim(min_coord, max_coord)\n",
    "ax.set_xticks(ticks=[-3, 0, 3])\n",
    "ax.set_xlabel(\"(m / year between \\n 2019 and 2022)\")\n",
    "ax.spines[[\"top\", \"left\", \"right\"]].set_visible(False)\n",
    "ax.tick_params(top=False, left=False, labelleft=False, labeltop=False)\n",
    "\n",
    "# Export\n",
    "fig.savefig(\"/home/jovyan/dev/dea-notebooks/Testing/2019_to_2022_sig_time_filtered_all_GBR_mngt_area4_long.svg\", bbox_inches=\"tight\", transparent=True)"
   ]
  },
  {
   "cell_type": "code",
   "execution_count": null,
   "id": "de2b86c9-318f-4122-9fae-c16e0ee2d0bd",
   "metadata": {},
   "outputs": [],
   "source": [
    "ratesofchange_gdf.to_csv(\"/home/jovyan/dev/dea-notebooks/Testing/DEACoastlines_ratesofchange_GBR_mngt_area_all.csv\")"
   ]
  },
  {
   "cell_type": "markdown",
   "id": "470d0946-fc05-4ddc-9937-10dce16c8a76",
   "metadata": {},
   "source": [
    "## Tabular summaries"
   ]
  },
  {
   "cell_type": "code",
   "execution_count": null,
   "id": "7c23862a-e566-4462-9b07-444c3dd464a7",
   "metadata": {
    "tags": []
   },
   "outputs": [],
   "source": [
    "region = 'GBR_mainland'"
   ]
  },
  {
   "cell_type": "code",
   "execution_count": null,
   "id": "f13416e9-ba3f-4491-99b6-866b51e8c88d",
   "metadata": {
    "tags": []
   },
   "outputs": [],
   "source": []
  },
  {
   "cell_type": "code",
   "execution_count": null,
   "id": "640334da-bb1f-4704-84f1-650d635ee6b5",
   "metadata": {
    "tags": []
   },
   "outputs": [],
   "source": [
    "## Baseline comparison stats for mainland polygons\n",
    "v1 = ratesofchange_gdf['rate_time_sig_filtered'].values\n",
    "v2 = ratesofchange_gdf['2019-2022_epoch_rate_time_sig_filtered'].values\n",
    "\n",
    "rel = ttest_rel(v1,v2)\n",
    "rel"
   ]
  },
  {
   "cell_type": "code",
   "execution_count": null,
   "id": "bc9f5969-24a1-415c-b8bf-2bd4ee9af3e1",
   "metadata": {
    "tags": []
   },
   "outputs": [],
   "source": [
    "ratetimemean = ratesofchange_gdf['rate_time_sig_filtered'].mean().round(2)\n",
    "ratetimestd = round(ratesofchange_gdf['rate_time_sig_filtered'].std(),2)\n",
    "epochmean = ratesofchange_gdf['2019-2022_epoch_rate_time_sig_filtered'].mean().round(2)\n",
    "epochstd = round(ratesofchange_gdf['2019-2022_epoch_rate_time_sig_filtered'].std(),2)\n",
    "\n",
    "# Append new row to dataframe\n",
    "StatSummary.loc[len(StatSummary.index)] =          [f'{ratetimemean} ({ratetimestd})', \n",
    "                                                   f'{epochmean} ({epochstd})',\n",
    "                                                   rel.pvalue.round(2),\n",
    "                                                   round(rel.statistic,2),\n",
    "                                                   rel.df]\n",
    "## Update index label\n",
    "StatSummary.rename(index={StatSummary.loc[len(StatSummary.index)-1].name:region},inplace=True)"
   ]
  },
  {
   "cell_type": "code",
   "execution_count": null,
   "id": "b7d626f4-065c-4229-b86c-aee0d6dc4618",
   "metadata": {
    "tags": []
   },
   "outputs": [],
   "source": [
    "region = 'GBR_offshore'"
   ]
  },
  {
   "cell_type": "code",
   "execution_count": null,
   "id": "a54b274b-fcf5-4f16-b65a-1170823d0128",
   "metadata": {
    "tags": []
   },
   "outputs": [],
   "source": [
    "## Baseline comparison stats for offshore polygons\n",
    "v1 = ratesofchange_gdf_offshore['rate_time_sig_filtered'].values\n",
    "v2 = ratesofchange_gdf_offshore['2019-2022_epoch_rate_time_sig_filtered'].values\n",
    "\n",
    "rel = ttest_rel(v1,v2)\n",
    "rel\n"
   ]
  },
  {
   "cell_type": "code",
   "execution_count": null,
   "id": "e5b8e47e-7f95-487c-9afc-efa592080f67",
   "metadata": {
    "tags": []
   },
   "outputs": [],
   "source": [
    "\n",
    "ratetimemean = ratesofchange_gdf_offshore['rate_time_sig_filtered'].mean().round(2)\n",
    "ratetimestd = round(ratesofchange_gdf_offshore['rate_time_sig_filtered'].std(),2)\n",
    "epochmean = ratesofchange_gdf_offshore['2019-2022_epoch_rate_time_sig_filtered'].mean().round(2)\n",
    "epochstd = round(ratesofchange_gdf_offshore['2019-2022_epoch_rate_time_sig_filtered'].std(),2)\n",
    "\n",
    "## Run once as the master dataframe\n",
    "# data = {\n",
    "#         '1988-2022':f'{ratetimemean} ({ratetimestd})', \n",
    "#         '2019-2022':f'{epochmean} ({epochstd})',\n",
    "#         'pvalue (1988-2022 vs 2019-2022)':rel.pvalue,\n",
    "#         'tstat (1988-2022 vs 2019-2022)':round(rel.statistic,2),\n",
    "#         'df (1988-2022 vs 2019-2022)':rel.df\n",
    "#         }\n",
    "# StatSummary = pd.DataFrame(data, index=[region]) \n",
    "\n",
    "# Append new row to dataframe\n",
    "StatSummary.loc[len(StatSummary.index)] =          [f'{ratetimemean} ({ratetimestd})', \n",
    "                                                   f'{epochmean} ({epochstd})',\n",
    "                                                   round(rel.pvalue,2),\n",
    "                                                   round(rel.statistic,2),\n",
    "                                                   rel.df\n",
    "                                                  ]\n",
    "                                          \n",
    "## Update index label\n",
    "StatSummary.rename(index={StatSummary.loc[len(StatSummary.index)-1].name:region},inplace=True)\n",
    "StatSummary"
   ]
  },
  {
   "cell_type": "code",
   "execution_count": null,
   "id": "dde45aba-097f-478c-8759-7707d46e1235",
   "metadata": {
    "tags": []
   },
   "outputs": [],
   "source": [
    "StatSummary.to_csv(\"/home/jovyan/dev/dea-notebooks/Testing/StatSummary.csv\")"
   ]
  },
  {
   "cell_type": "code",
   "execution_count": null,
   "id": "b85ccd35-a770-484c-bcc4-16c25e99dec1",
   "metadata": {},
   "outputs": [],
   "source": []
  },
  {
   "cell_type": "code",
   "execution_count": null,
   "id": "c09f5f68-d857-4d3d-936e-cf984c99e5a7",
   "metadata": {},
   "outputs": [],
   "source": []
  },
  {
   "cell_type": "code",
   "execution_count": null,
   "id": "86b1cdac-9e55-4915-90a4-045de5899bcb",
   "metadata": {},
   "outputs": [],
   "source": []
  },
  {
   "cell_type": "code",
   "execution_count": null,
   "id": "6f876811-f10e-423a-a475-ddafff39656c",
   "metadata": {
    "tags": []
   },
   "outputs": [],
   "source": [
    "region = 'GBR'"
   ]
  },
  {
   "cell_type": "code",
   "execution_count": null,
   "id": "79ebb82e-856f-45cd-9b61-99ba0e1a6d96",
   "metadata": {
    "tags": []
   },
   "outputs": [],
   "source": [
    "v1 = ratesofchange_gdf['rate_time_sig_filtered'].values\n",
    "v2 = ratesofchange_gdf_offshore['rate_time_sig_filtered'].values\n",
    "\n",
    "rel = ttest_ind(v1,v2,equal_var=False)\n",
    "rel"
   ]
  },
  {
   "cell_type": "code",
   "execution_count": null,
   "id": "e87862bb-9954-4bcb-85bd-bc50892ddddd",
   "metadata": {
    "tags": []
   },
   "outputs": [],
   "source": [
    "v1 = ratesofchange_gdf['2019-2022_epoch_rate_time_sig_filtered'].values\n",
    "v2 = ratesofchange_gdf_offshore['2019-2022_epoch_rate_time_sig_filtered'].values\n",
    "\n",
    "rel2 = ttest_ind(v1,v2,equal_var=False)\n",
    "rel2"
   ]
  },
  {
   "cell_type": "code",
   "execution_count": null,
   "id": "8c86d6e8-ae93-416d-a6aa-b704aadb5a8f",
   "metadata": {
    "tags": []
   },
   "outputs": [],
   "source": [
    "## Capture statistical significance in onshore vs offshore regions\n",
    "\n",
    "## Run once as master dataframe\n",
    "# data = {\n",
    "#         'Onshore vs Offshore (1988-2022) tstat': rel.statistic.round(2),\n",
    "#         'Onshore vs Offshore (1988-2022) pvalue': rel.pvalue.round(2),\n",
    "#         'Onshore vs Offshore (2019-2022) tstat': rel2.statistic.round(2),\n",
    "#         'Onshore vs Offshore (2019-2022) pvalue': rel2.pvalue.round(2)\n",
    "#         }\n",
    "# OnOffshoreSummary = pd.DataFrame(data, index=[region])\n",
    "\n",
    "## Append new row to dataframe\n",
    "OnOffshoreSummary.loc[len(OnOffshoreSummary.index)] = [rel.statistic.round(2),\n",
    "                                                       rel.pvalue.round(2),\n",
    "                                                       rel2.statistic.round(2),\n",
    "                                                       rel2.pvalue.round(2)]\n",
    "OnOffshoreSummary.rename(index={OnOffshoreSummary.loc[len(OnOffshoreSummary.index)-1].name:region}, inplace=True)\n",
    "                                                       \n"
   ]
  },
  {
   "cell_type": "code",
   "execution_count": null,
   "id": "8ad253c0-aeec-4cd4-bb36-ae8378157dc5",
   "metadata": {
    "tags": []
   },
   "outputs": [],
   "source": [
    "OnOffshoreSummary"
   ]
  },
  {
   "cell_type": "code",
   "execution_count": null,
   "id": "9cee6793-8e31-4997-a91c-a76c0f2df047",
   "metadata": {
    "tags": []
   },
   "outputs": [],
   "source": [
    "OnOffshoreSummary.to_csv(\"/home/jovyan/dev/dea-notebooks/Testing/OnOffshoreSummary.csv\")"
   ]
  },
  {
   "cell_type": "code",
   "execution_count": null,
   "id": "1c106811-0396-4c37-86a1-e0ca765cc89e",
   "metadata": {},
   "outputs": [],
   "source": []
  },
  {
   "cell_type": "code",
   "execution_count": null,
   "id": "df0f28a8-f362-4282-b18a-622fa2f489fc",
   "metadata": {},
   "outputs": [],
   "source": []
  },
  {
   "cell_type": "markdown",
   "id": "38df75f8-f0ff-47f5-a282-6651e77a8e07",
   "metadata": {},
   "source": [
    "# After: https://gist.github.com/robbibt/760dcf367be4b98c493e70dd577aca6a"
   ]
  },
  {
   "cell_type": "code",
   "execution_count": null,
   "id": "58e84f7c-4b30-4e22-900b-399c724f9be3",
   "metadata": {
    "tags": []
   },
   "outputs": [],
   "source": [
    "def change_summary(df, sig=0.01, rate=0.30, bias=0.08):\n",
    "\n",
    "    # Create booleans indicating whether points were significant\n",
    "    # or greatert than the minimum accuracy of the method\n",
    "    sig_bool = df.sig_time <= sig\n",
    "    # rate_bool = (df.rate_time + bias).abs() >= rate #CP removed as the bias correction has already been applied\n",
    "    rate_bool = (df.rate_time).abs() >= rate\n",
    "\n",
    "    # Calculate dynamic % (sig points greater than min rate)\n",
    "    stat_dict = {}\n",
    "    stat_dict['dynamic'] = (sig_bool & rate_bool).mean()\n",
    "\n",
    "    # Calculate stable % (non-sig points or less than min rate)\n",
    "    stat_dict['stable'] = 1.0 - stat_dict['dynamic']\n",
    "\n",
    "    # For each rate of change categoru, calculate percent greater\n",
    "    # (prograding) or percent smaller (eroding coasts)\n",
    "\n",
    "    for rate_cat in [0.0, 0.5, 1.0, 3.0, 5.0]:\n",
    "        stat_dict[f'eroding_{rate_cat}'] = (\n",
    "            # sig_bool & rate_bool & (df.rate_time + bias < -rate_cat)).mean() #CP removed as the bias correction has already been applied\n",
    "            sig_bool & rate_bool & (df.rate_time < -rate_cat)).mean()\n",
    "        stat_dict[f'prograd_{rate_cat}'] = (\n",
    "            # sig_bool & rate_bool & (df.rate_time + bias > rate_cat)).mean() #CP removed as the bias correction has already been applied\n",
    "            sig_bool & rate_bool & (df.rate_time > rate_cat)).mean()\n",
    "\n",
    "    return pd.Series(stat_dict)"
   ]
  },
  {
   "cell_type": "code",
   "execution_count": null,
   "id": "4e46ac2c-ebe1-42d1-a457-4cb11020bb63",
   "metadata": {
    "tags": []
   },
   "outputs": [],
   "source": [
    "# Load point data and Coastal Compartment regions data\n",
    "# coastlines_data = gpd.read_file('../releases/DEACoastlines_v1.0.0/Shapefile/DEACoastlines_ratesofchange_v1.0.0.shp')[['rate_time', 'sig_time', 'geometry']]\n",
    "coastlines_data = ratesofchange_gdf[['2019-2022_epoch_rate_time', 'sig_time', 'geometry']]\n",
    "coastlines_data = coastlines_data.rename(columns={'2019-2022_epoch_rate_time' : 'rate_time'})\n",
    "# acsc_regions = gpd.read_file('/g/data/r78/DEACoastlines/input_data/Coastal_compartments/Shapefiles_v3/Regions.shp').dissolve('Descriptio')\n",
    "acsc_regions = regions_gdf.dissolve('layer')\n"
   ]
  },
  {
   "cell_type": "code",
   "execution_count": null,
   "id": "9824990a-eb95-43de-84c2-18ca7d9c9528",
   "metadata": {
    "tags": []
   },
   "outputs": [],
   "source": [
    "# Join coastal compartments to points\n",
    "from geopandas import gpd \n",
    "coastlines_joined = gpd.sjoin(coastlines_data, acsc_regions.to_crs('EPSG:3577'), op='within') "
   ]
  },
  {
   "cell_type": "code",
   "execution_count": null,
   "id": "7c927a10-e1f7-4f7a-99f8-b997ff8bf8c3",
   "metadata": {
    "tags": []
   },
   "outputs": [],
   "source": [
    "regions_gdf.index"
   ]
  },
  {
   "cell_type": "markdown",
   "id": "9bdc1bc4-7a64-48a1-a91a-44f6026330c7",
   "metadata": {},
   "source": [
    "Create continental summary change table"
   ]
  },
  {
   "cell_type": "code",
   "execution_count": null,
   "id": "a0525369-3310-463c-81ec-ebf4f5001046",
   "metadata": {
    "tags": []
   },
   "outputs": [],
   "source": [
    "# Compute summaries of change for all regions\n",
    "summary_df = coastlines_joined.groupby(['index_right']).apply(lambda x: change_summary(x)).T\n",
    "summary_df['Continental'] = change_summary(df=coastlines_joined, sig=0.01)\n",
    "\n",
    "# # Sort into pretty format\n",
    "summary_df = summary_df.loc[[\n",
    "    'dynamic', 'stable', 'eroding_0.0', 'eroding_0.5', 'eroding_1.0',\n",
    "    'eroding_3.0', 'eroding_5.0', 'prograd_0.0', 'prograd_0.5', 'prograd_1.0',\n",
    "    'prograd_3.0', 'prograd_5.0'\n",
    "], [\n",
    "    'Australia', 'Mainland_CairnsCook', 'Mainland_FarNorth', 'Mainland_GBR',\n",
    "       'Mainland_MackCap', 'Mainland_TownsWhit', 'All_GBR',\n",
    "       'Offshore_CairnsCook', 'Offshore_FarNorth', 'Offshore_GBR',\n",
    "       'Offshore_MackCap', 'Offshore_TownsWhit', 'All_FarNorth',\n",
    "       'All_CairnsCook', 'All_TownsWhit', 'All_MackCap'\n",
    "]]\n",
    "\n",
    "# Rename index\n",
    "summary_df.index = ['Dynamic', 'Stable', \n",
    "                    'Eroding',     \n",
    "                    '    > 0.5 m / year', '    > 1.0 m / year', \n",
    "                    '    > 3.0 m / year', '    > 5.0 m / year', \n",
    "                    'Prograding', \n",
    "                    '    > 0.5 m / year', '    > 1.0 m / year', \n",
    "                    '    > 3.0 m / year', '    > 5.0 m / year']\n",
    "\n",
    "# Scale and round\n",
    "(summary_df * 100).round(2)"
   ]
  },
  {
   "cell_type": "code",
   "execution_count": null,
   "id": "36491e0b-5498-40c5-9792-628c74943a1a",
   "metadata": {
    "tags": []
   },
   "outputs": [],
   "source": [
    "summary_df_round = (summary_df * 100).round(2)\n",
    "Epoch_2019_2022_summary = summary_df_round[['Australia', \n",
    "                                      'All_GBR', 'Mainland_GBR', 'Offshore_GBR',\n",
    "                                      'All_FarNorth','Mainland_FarNorth','Offshore_FarNorth', \n",
    "                                      'All_CairnsCook','Mainland_CairnsCook', 'Offshore_CairnsCook',\n",
    "                                      'All_TownsWhit','Mainland_TownsWhit','Offshore_TownsWhit',\n",
    "                                      'All_MackCap', 'Mainland_MackCap', 'Offshore_MackCap']]"
   ]
  },
  {
   "cell_type": "code",
   "execution_count": null,
   "id": "5c6c3091-0254-45a8-baee-e8ef55807793",
   "metadata": {
    "tags": []
   },
   "outputs": [],
   "source": [
    "regions_gdf.index"
   ]
  },
  {
   "cell_type": "code",
   "execution_count": null,
   "id": "b55137e2-d3a7-434c-b217-f63797a7792f",
   "metadata": {
    "tags": []
   },
   "outputs": [],
   "source": [
    "All_time_summary.to_csv(\"/home/jovyan/dev/dea-notebooks/Testing/All_time_perc_summary.csv\")"
   ]
  },
  {
   "cell_type": "code",
   "execution_count": null,
   "id": "ca0fb176-8f54-4489-8937-2edb85959c4c",
   "metadata": {
    "tags": []
   },
   "outputs": [],
   "source": [
    "Epoch_2019_2022_summary.to_csv(\"/home/jovyan/dev/dea-notebooks/Testing/Epoch_2019_2022_perc_summary.csv\")"
   ]
  },
  {
   "cell_type": "code",
   "execution_count": null,
   "id": "a12fc59c-0d6b-4f62-90d4-91add8a1e755",
   "metadata": {
    "tags": []
   },
   "outputs": [],
   "source": [
    "ratesofchange_gdf.to_csv(\"/home/jovyan/dev/dea-notebooks/Testing/All_Aust_16-10-2023.csv\")"
   ]
  },
  {
   "cell_type": "code",
   "execution_count": null,
   "id": "0f8b736a-623b-41c8-b75c-84c82e789f97",
   "metadata": {},
   "outputs": [],
   "source": []
  }
 ],
 "metadata": {
  "kernelspec": {
   "display_name": "Python 3 (ipykernel)",
   "language": "python",
   "name": "python3"
  },
  "language_info": {
   "codemirror_mode": {
    "name": "ipython",
    "version": 3
   },
   "file_extension": ".py",
   "mimetype": "text/x-python",
   "name": "python",
   "nbconvert_exporter": "python",
   "pygments_lexer": "ipython3",
   "version": "3.8.10"
  },
  "widgets": {
   "application/vnd.jupyter.widget-state+json": {
    "state": {},
    "version_major": 2,
    "version_minor": 0
   }
  }
 },
 "nbformat": 4,
 "nbformat_minor": 5
}
