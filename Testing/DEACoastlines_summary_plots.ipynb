{
 "cells": [
  {
   "cell_type": "markdown",
   "id": "d8dd12a6-7eb8-4fe4-9326-20474780df7b",
   "metadata": {
    "tags": []
   },
   "source": [
    "# DEA Coastlines summary plots"
   ]
  },
  {
   "cell_type": "code",
   "execution_count": null,
   "id": "9ee719d9-7a81-4e7c-8f18-4ad84229a093",
   "metadata": {
    "tags": []
   },
   "outputs": [],
   "source": [
    "cd ../'Tools'"
   ]
  },
  {
   "cell_type": "code",
   "execution_count": null,
   "id": "16014365-7feb-4cbc-adfc-b035d2328e04",
   "metadata": {
    "tags": []
   },
   "outputs": [],
   "source": [
    "import pandas as pd\n",
    "import numpy as np\n",
    "import geopandas as gpd\n",
    "import matplotlib.pyplot as plt\n",
    "\n",
    "from sklearn.linear_model import LinearRegression\n",
    "from dea_tools.coastal import get_coastlines\n",
    "\n",
    "from scipy.stats import ttest_ind\n",
    "from scipy.stats import ttest_rel"
   ]
  },
  {
   "cell_type": "markdown",
   "id": "c69bcd96-316c-4b9a-b0ef-69a6139bc66e",
   "metadata": {},
   "source": [
    "## Load data"
   ]
  },
  {
   "cell_type": "code",
   "execution_count": null,
   "id": "06f0dea3-da55-40e8-a256-635514521600",
   "metadata": {
    "tags": []
   },
   "outputs": [],
   "source": [
    "# Set study area from vector file\n",
    "\n",
    "## Use regions_gdf for mainland polygons\n",
    "regions_gdf = (\n",
    "    gpd.read_file(\n",
    "        # \"https://data.dea.ga.gov.au/derivative/dea_coastlines/supplementary/australia_mainland_regions.geojson\"\n",
    "        # '/home/jovyan/dev/dea-notebooks/Testing/Buffered_GBR_mngt_areas.shp' ## Management area polygons\n",
    "        # '/home/jovyan/dev/dea-notebooks/Testing/Manual_all_GBR_Coastlines.shp' ## Greater GBR extent\n",
    "        # '/home/jovyan/dev/dea-notebooks/Testing/Aus_bbox.shp' ## \n",
    "        # '/home/jovyan/dev/dea-notebooks/Testing/mainland_buffered_edited_mngt_regions_incl_allGBR.shp' ## all mainland only extents\n",
    "        '/home/jovyan/dev/dea-notebooks/Testing/All_GBR_merged.shp' ## all GBR shapefiles\n",
    "    )\n",
    "    # .set_index(\"Descriptio\")\n",
    "    .set_index(\"layer\")\n",
    "    # .set_index('id')\n",
    ")\n",
    "# regions_gdf"
   ]
  },
  {
   "cell_type": "code",
   "execution_count": null,
   "id": "d4f18f34-a920-47c1-9971-640abfef15e1",
   "metadata": {
    "tags": []
   },
   "outputs": [],
   "source": [
    "print(regions_gdf.index)\n",
    "# print(regions_gdf_offshore.index)"
   ]
  },
  {
   "cell_type": "code",
   "execution_count": null,
   "id": "75f5b1c1-ab2b-4bc5-9b12-a4fdd8f4cad8",
   "metadata": {
    "tags": []
   },
   "outputs": [],
   "source": [
    "study_area = regions_gdf.loc[['All_MackCap']]\n",
    "# study_area_offshore = regions_gdf_offshore.loc[['All_GBR_offshore']]\n",
    "# study_area = regions_gdf.loc[[\"1\"]]\n",
    "# study_area = regions_gdf"
   ]
  },
  {
   "cell_type": "code",
   "execution_count": null,
   "id": "3d2cda0d-8eb0-4e64-b407-f45a4fbe6f5a",
   "metadata": {
    "tags": []
   },
   "outputs": [],
   "source": [
    "study_area.geometry[0]"
   ]
  },
  {
   "cell_type": "code",
   "execution_count": null,
   "id": "5885aacc-7813-4bf0-9cf4-296db6bc0c51",
   "metadata": {
    "tags": []
   },
   "outputs": [],
   "source": [
    "# study_area_offshore.geometry[0]"
   ]
  },
  {
   "cell_type": "code",
   "execution_count": null,
   "id": "6b6c123f-a7c8-4713-a4ea-9d32f7ad210c",
   "metadata": {
    "tags": []
   },
   "outputs": [],
   "source": [
    "# Load data from WFS for study area bounding box\n",
    "bbox = study_area.geometry.bounds.values[0]\n",
    "# bbox = study_area.geometry.bounds#.values[0]\n",
    "ratesofchange_gdf = get_coastlines(\n",
    "    bbox=bbox, layer=\"rates_of_change\"\n",
    ")\n",
    "\n",
    "# Clip returned data to polygon extent\n",
    "ratesofchange_gdf = gpd.clip(ratesofchange_gdf, mask=study_area.to_crs(\"EPSG:3577\"))\n",
    "ratesofchange_gdf.head()"
   ]
  },
  {
   "cell_type": "code",
   "execution_count": null,
   "id": "9b110a9e-2218-495d-8c24-263ec2bc6d78",
   "metadata": {
    "tags": []
   },
   "outputs": [],
   "source": [
    "# # ## Temp - bring in csv version of Australian ratesofchange_gdf and clip to management boundaries for plotting\n",
    "\n",
    "# from shapely import wkt\n",
    "\n",
    "# allAus = pd.read_csv(\"/home/jovyan/dev/dea-notebooks/Testing/All_Aust_16-10-2023.csv\")\n",
    "\n",
    "# allAus['geometry'] = allAus['geometry'].apply(wkt.loads)\n",
    "# allAus_gdf = gpd.GeoDataFrame(allAus, crs = 'epsg:3577')\n",
    "# # allAus_gdf.head(2)\n",
    "\n",
    "# ratesofchange_gdf = gpd.clip(allAus_gdf, mask=study_area.to_crs(\"EPSG:3577\"))\n",
    "\n",
    "# ratesofchange_gdf.head()"
   ]
  },
  {
   "cell_type": "code",
   "execution_count": null,
   "id": "4c7b21e4-00b9-442e-a39b-87ac0bc35344",
   "metadata": {
    "tags": []
   },
   "outputs": [],
   "source": [
    "## Temp - bring in csv version of Australian ratesofchange_gdf and clip to management boundaries for plotting\n",
    "# gpd.read_file(\"/home/jovyan/dev/dea-notebooks/Testing/All_Aust_16-10-2023.csv\")\n",
    "\n",
    "# Reading only geometries intersecting ``mask``:\n",
    "\n",
    "# >>> df = geopandas.read_file(\"nybb.shp\", mask=polygon)  # doctest: +SKIP\n",
    "\n",
    "\n",
    "# gdf_mask = gpd.read_file(\"/home/jovyan/dev/dea-notebooks/Testing/All_Aust_16-10-2023.csv\", crs = 'epsg:4326')\n",
    "# regions_gdf = (gpd.read_file('/home/jovyan/dev/dea-notebooks/Testing/All_GBR_merged.shp').set_index(\"layer\"))\n",
    "\n",
    "# allAus_gdf = allAus_gdf.to_crs(crs = 'epsg:4326')\n",
    "# regions_gdf = regions_gdf.to_crs(crs = 'epsg:4326')\n",
    "\n",
    "# gpd.read_file(allAus_gdf, mask=regions_gdf.loc[['Mainland_CairnsCook']])\n",
    "# mask = regions_gdf.loc[['Australia']].geometry#.boundary\n",
    "# allAus_gdf.to_crs(\"EPSG:3577\").clip(mask)"
   ]
  },
  {
   "cell_type": "code",
   "execution_count": null,
   "id": "59b9897d-2baf-409a-b173-1cbf1566365d",
   "metadata": {
    "tags": []
   },
   "outputs": [],
   "source": [
    "# mask_gdf = gpd.GeoDataFrame([1], geometry=mask, crs = allAus_gdf.crs)\n",
    "# mask_gdf\n"
   ]
  },
  {
   "cell_type": "code",
   "execution_count": null,
   "id": "72284fc3-b829-4b98-9024-6d7dfc26537a",
   "metadata": {
    "tags": []
   },
   "outputs": [],
   "source": [
    "## Epoch based change\n",
    "### NOTE: there are three places in this code cell where epoch dates need to be adjusted\n",
    "\n",
    "## Create a linear regression object\n",
    "linear_regressor = LinearRegression()\n",
    "\n",
    "## Set the dates (add 1 to your end date)\n",
    "x=np.arange(2019, 2023, 1).reshape(-1,1) \n",
    "# x=np.arange(2019, 2020, 1).reshape(-1,1) \n",
    "\n",
    "## Define the function to take each row of the gdf and calculate the linear regression \n",
    "## coefficient for the time period of interest\n",
    "def epoch_rate_time(x,y,linear_regressor):\n",
    "\n",
    "    try:\n",
    "        # If Nans in 'y', remove them and their equivalent indexed values from 'x'\n",
    "        if pd.isnull(y).any() == True:\n",
    "            x= np.delete(x, np.argwhere(y.values!=y.values).flatten(order='C')).reshape(-1,1)\n",
    "            y= y.dropna().values\n",
    "        else:\n",
    "            y = y.values\n",
    "        # Calculate the linear regression\n",
    "        linear_regressor.fit(x,y)\n",
    "        # Return only the coefficient into the gdf\n",
    "        return linear_regressor.coef_[0]\n",
    "    except:\n",
    "        # print(f'An exception error occurred at {y.id}')\n",
    "        print(f'An exception error occurred at {y}. Check that x and y the same length')\n",
    "\n",
    "### rename gdf column to match input dates and adjust slices to match exact input and output years\n",
    "ratesofchange_gdf['2019-2022_epoch_rate_time'] = ratesofchange_gdf.apply(lambda y: epoch_rate_time(x,       \n",
    "                                                                                                     y.loc['dist_2019':'dist_2022'],  \n",
    "                                                                                                     linear_regressor), axis=1)\n",
    "ratesofchange_gdf.head()"
   ]
  },
  {
   "cell_type": "markdown",
   "id": "91b85a59-9b41-4199-b156-650c7578cb71",
   "metadata": {},
   "source": [
    "## Data prep"
   ]
  },
  {
   "cell_type": "code",
   "execution_count": null,
   "id": "61bb7bc7-b617-4ed8-a0b5-5e12d670d7b2",
   "metadata": {
    "tags": []
   },
   "outputs": [],
   "source": [
    "# Optional: Keep only rates of change points with \"good\" certainty \n",
    "# (i.e. no poor quality flags)\n",
    "ratesofchange_gdf = ratesofchange_gdf.query(\"certainty == 'good'\")\n",
    "\n",
    "# Optional: Apply correction factor from Bishop-Taylor et al. 2021\n",
    "ratesofchange_gdf.rate_time += 0.08\n",
    "\n",
    "# ratesofchange_gdf['2014-2022_epoch_rate_time']+= 0.08\n",
    "# ratesofchange_gdf['2014-2017_epoch_rate_time']+= 0.08\n",
    "# ratesofchange_gdf['1988-2022_epoch_rate_time']+= 0.08\n",
    "# ratesofchange_gdf['2014-2018_epoch_rate_time']+= 0.08\n",
    "\n",
    "ratesofchange_gdf['2019-2022_epoch_rate_time']+= 0.08\n",
    "# ratesofchange_gdf['1988-2019_epoch_rate_time']+= 0.08\n",
    "\n",
    "# Add x and y coords to data\n",
    "ratesofchange_gdf[\"y_coord\"] = ratesofchange_gdf.geometry.y\n",
    "ratesofchange_gdf[\"x_coord\"] = ratesofchange_gdf.geometry.x"
   ]
  },
  {
   "cell_type": "code",
   "execution_count": null,
   "id": "230f9301-8ed0-49ca-baaf-80153901f1ab",
   "metadata": {
    "tags": []
   },
   "outputs": [],
   "source": [
    "# Replace with 0 all rates with 'sig_time' > 0.01\n",
    "\n",
    "# Make a copy of the column of interest\n",
    "ratesofchange_gdf['2019-2022_epoch_rate_time_sig_filtered'] = ratesofchange_gdf['2019-2022_epoch_rate_time']\n",
    "\n",
    "## Replace with 0 all values where sig_time > 0.01\n",
    "ratesofchange_gdf.loc[ratesofchange_gdf['sig_time'] > 0.01, '2019-2022_epoch_rate_time_sig_filtered'] = 0\n",
    "# ratesofchange_gdf[['sig_time', '2019-2022_epoch_rate_time','2019-2022_epoch_rate_time_sig_filtered']] \n",
    "\n",
    "## Repeat for all-time change rates\n",
    "ratesofchange_gdf['rate_time_sig_filtered'] = ratesofchange_gdf['rate_time']\n",
    "\n",
    "## Replace with 0 all values where sig_time > 0.01\n",
    "ratesofchange_gdf.loc[ratesofchange_gdf['sig_time'] > 0.01, 'rate_time_sig_filtered'] = 0\n",
    "ratesofchange_gdf[['sig_time', 'rate_time','rate_time_sig_filtered']] "
   ]
  },
  {
   "cell_type": "code",
   "execution_count": null,
   "id": "e2fbb796-ae59-4033-9ad2-c7cf4813be6d",
   "metadata": {},
   "outputs": [],
   "source": []
  },
  {
   "cell_type": "code",
   "execution_count": null,
   "id": "797b5c36-09c4-4d52-b715-bc2edf868e56",
   "metadata": {},
   "outputs": [],
   "source": []
  },
  {
   "cell_type": "code",
   "execution_count": null,
   "id": "628c61d5-b2f9-4248-8d92-ae62008aa76a",
   "metadata": {},
   "outputs": [],
   "source": []
  },
  {
   "cell_type": "code",
   "execution_count": null,
   "id": "533398d6-f716-4d59-a520-a8dd18c5b001",
   "metadata": {},
   "outputs": [],
   "source": []
  },
  {
   "cell_type": "code",
   "execution_count": null,
   "id": "e8d1970b-216b-42c4-8e9d-2eace87f71c5",
   "metadata": {
    "tags": []
   },
   "outputs": [],
   "source": [
    "# Resample to make sure we have evenly spaced rows (important for sensible rolling mean)\n",
    "bin_size = 30\n",
    "min_coord = ratesofchange_gdf[\"y_coord\"].min()\n",
    "max_coord = ratesofchange_gdf[\"y_coord\"].max()\n",
    "bin_edges = np.arange(min_coord, max_coord, bin_size)\n",
    "groups = pd.cut(\n",
    "    ratesofchange_gdf[\"y_coord\"],\n",
    "    bins=bin_edges,\n",
    "    labels=bin_edges[:-1] + (bin_size / 2),\n",
    "    right=False,\n",
    ")\n",
    "# ratesofchange_standardised_gdf = ratesofchange_gdf.groupby(groups).mean() ## Original code\n",
    "ratesofchange_standardised_gdf = ratesofchange_gdf.groupby(groups).mean() ## TEMPORARY CHANGE FOR TESTING 21/09/23 CP\n",
    "\n",
    "# Set index to numeric so we can plot it nicely\n",
    "ratesofchange_standardised_gdf.index = pd.to_numeric(\n",
    "    ratesofchange_standardised_gdf.index\n",
    ")"
   ]
  },
  {
   "cell_type": "markdown",
   "id": "1676a585-667b-49c5-aa22-f3055dc624e2",
   "metadata": {},
   "source": [
    "## Rolling mean"
   ]
  },
  {
   "cell_type": "code",
   "execution_count": null,
   "id": "58e4373f-38ad-4559-a33a-d48c834c549d",
   "metadata": {
    "tags": []
   },
   "outputs": [],
   "source": [
    "# Apply rolling median\n",
    "window_size = 15000  # km\n",
    "window_n = int(window_size / 30)\n",
    "ratesofchange_rolling_gdf = ratesofchange_standardised_gdf.rolling(\n",
    "    window=window_n, center=True, min_periods=1\n",
    ").mean()\n",
    "\n",
    "# Apply an additional level of aesthetic smoothing (can be removed)\n",
    "ratesofchange_rolling_gdf = ratesofchange_rolling_gdf.rolling(\n",
    "    window=window_n, center=True, min_periods=1\n",
    ").mean()"
   ]
  },
  {
   "cell_type": "markdown",
   "id": "4bf0d94b-c60f-4cfd-98c9-c9275e27c56c",
   "metadata": {},
   "source": [
    "## Plotting"
   ]
  },
  {
   "cell_type": "code",
   "execution_count": null,
   "id": "a68892a4-2706-4b52-b400-396949744615",
   "metadata": {
    "tags": []
   },
   "outputs": [],
   "source": [
    "## Set the fontsize for the plot\n",
    "plt.rcParams.update({'font.size': 12})"
   ]
  },
  {
   "cell_type": "code",
   "execution_count": null,
   "id": "074ada51-7e85-43e6-8c9c-360d5a2a5d3f",
   "metadata": {
    "tags": []
   },
   "outputs": [],
   "source": [
    "## All time plotting\n",
    "\n",
    "# Set first and last entry to zero so we get clean graph outlines\n",
    "ratesofchange_rolling_gdf[\"rate_time_sig_filtered\"].iloc[0] = 0\n",
    "ratesofchange_rolling_gdf[\"rate_time_sig_filtered\"].iloc[-1] = 0\n",
    "\n",
    "# Split out positive and negative rates so we can plot them individually\n",
    "ratesofchange_positive_gdf = ratesofchange_rolling_gdf[\"rate_time_sig_filtered\"].clip(0, np.inf)\n",
    "ratesofchange_negative_gdf = ratesofchange_rolling_gdf[\"rate_time_sig_filtered\"].clip(-np.inf, 0)\n",
    "\n",
    "# Plot negative rates in red, positive in blue\n",
    "fig, ax = plt.subplots(figsize=(2, 11.5))#7))#1.75))#5))#7))\n",
    "ax.fill_betweenx(\n",
    "    ratesofchange_positive_gdf.index, 0, ratesofchange_positive_gdf, color=\"#6caed1\"\n",
    ")\n",
    "ax.fill_betweenx(\n",
    "    ratesofchange_negative_gdf.index, ratesofchange_negative_gdf, 0, color=\"#eb7668\"\n",
    ")\n",
    "ax.plot(\n",
    "    ratesofchange_rolling_gdf[\"rate_time_sig_filtered\"],\n",
    "    ratesofchange_rolling_gdf.index,\n",
    "    color=\"black\",\n",
    "    linewidth=1\n",
    ")\n",
    "\n",
    "# Add vertical axis line\n",
    "ax.axvline(0, color=\"black\", linewidth=1)\n",
    "\n",
    "# Styling\n",
    "ax.set_xlim(-1, 1)\n",
    "ax.set_ylim(min_coord, max_coord)\n",
    "ax.set_xticks(ticks=[-3, 0, 3])\n",
    "ax.set_xlabel(\"(m / year between \\n 1988 and 2022)\")\n",
    "ax.spines[[\"top\", \"left\", \"right\"]].set_visible(False)\n",
    "ax.tick_params(top=False, left=False, labelleft=False, labeltop=False)\n",
    "# ax.text\n",
    "\n",
    "\n",
    "# Export\n",
    "fig.savefig(f\"/home/jovyan/dev/dea-notebooks/Testing/{study_area.index[0]}_1988_2022_latsummary.svg\", bbox_inches=\"tight\", transparent=True)"
   ]
  },
  {
   "cell_type": "code",
   "execution_count": null,
   "id": "cfe326f2-14c1-4c44-b54c-4f3b0fae059d",
   "metadata": {
    "tags": []
   },
   "outputs": [],
   "source": [
    "## Epoch plotting (without outlier removal - unlike original rate_time method)\n",
    "\n",
    "# Set first and last entry to zero so we get clean graph outlines\n",
    "ratesofchange_rolling_gdf['2019-2022_epoch_rate_time_sig_filtered'].iloc[0] = 0\n",
    "ratesofchange_rolling_gdf['2019-2022_epoch_rate_time_sig_filtered'].iloc[-1] = 0\n",
    "\n",
    "# Split out positive and negative rates so we can plot them individually\n",
    "ratesofchange_positive_gdf = ratesofchange_rolling_gdf['2019-2022_epoch_rate_time_sig_filtered'].clip(0, np.inf)\n",
    "ratesofchange_negative_gdf = ratesofchange_rolling_gdf['2019-2022_epoch_rate_time_sig_filtered'].clip(-np.inf, 0)\n",
    "\n",
    "# Plot negative rates in red, positive in blue\n",
    "fig, ax = plt.subplots(figsize=(2,11.5))#1.5, 7))#5))#7))\n",
    "ax.fill_betweenx(\n",
    "    ratesofchange_positive_gdf.index, 0, ratesofchange_positive_gdf, color=\"#6caed1\"\n",
    ")\n",
    "ax.fill_betweenx(\n",
    "    ratesofchange_negative_gdf.index, ratesofchange_negative_gdf, 0, color=\"#eb7668\"\n",
    ")\n",
    "ax.plot(\n",
    "    ratesofchange_rolling_gdf['2019-2022_epoch_rate_time_sig_filtered'],\n",
    "    ratesofchange_rolling_gdf.index,\n",
    "    color=\"black\",\n",
    "    linewidth=1,\n",
    ")\n",
    "\n",
    "# Add vertical axis line\n",
    "ax.axvline(0, color=\"black\", linewidth=1)\n",
    "\n",
    "# Styling\n",
    "ax.set_xlim(-1, 1)\n",
    "ax.set_ylim(min_coord, max_coord)\n",
    "ax.set_xticks(ticks=[-3, 0, 3])\n",
    "ax.set_xlabel(\"(m / year between \\n 2019 and 2022)\")\n",
    "ax.spines[[\"top\", \"left\", \"right\"]].set_visible(False)\n",
    "ax.tick_params(top=False, left=False, labelleft=False, labeltop=False)\n",
    "\n",
    "# Export\n",
    "fig.savefig(f\"/home/jovyan/dev/dea-notebooks/Testing/{study_area.index[0]}_2019_2022_latsummary.svg\", bbox_inches=\"tight\", transparent=True)"
   ]
  },
  {
   "cell_type": "code",
   "execution_count": null,
   "id": "de2b86c9-318f-4122-9fae-c16e0ee2d0bd",
   "metadata": {},
   "outputs": [],
   "source": [
    "# ratesofchange_gdf.to_csv(\"/home/jovyan/dev/dea-notebooks/Testing/DEACoastlines_ratesofchange_GBR_mngt_area_all.csv\")"
   ]
  },
  {
   "cell_type": "markdown",
   "id": "470d0946-fc05-4ddc-9937-10dce16c8a76",
   "metadata": {},
   "source": [
    "## Tabular summaries"
   ]
  },
  {
   "cell_type": "code",
   "execution_count": null,
   "id": "7c23862a-e566-4462-9b07-444c3dd464a7",
   "metadata": {
    "tags": []
   },
   "outputs": [],
   "source": [
    "region = 'GBR_mainland'"
   ]
  },
  {
   "cell_type": "code",
   "execution_count": null,
   "id": "f13416e9-ba3f-4491-99b6-866b51e8c88d",
   "metadata": {
    "tags": []
   },
   "outputs": [],
   "source": [
    "study_area.index[0]"
   ]
  },
  {
   "cell_type": "code",
   "execution_count": null,
   "id": "640334da-bb1f-4704-84f1-650d635ee6b5",
   "metadata": {
    "tags": []
   },
   "outputs": [],
   "source": [
    "## Baseline comparison stats for mainland polygons\n",
    "v1 = ratesofchange_gdf['rate_time_sig_filtered'].values\n",
    "v2 = ratesofchange_gdf['2019-2022_epoch_rate_time_sig_filtered'].values\n",
    "\n",
    "rel = ttest_rel(v1,v2)\n",
    "rel"
   ]
  },
  {
   "cell_type": "code",
   "execution_count": null,
   "id": "bc9f5969-24a1-415c-b8bf-2bd4ee9af3e1",
   "metadata": {
    "tags": []
   },
   "outputs": [],
   "source": [
    "ratetimemean = ratesofchange_gdf['rate_time_sig_filtered'].mean().round(2)\n",
    "ratetimestd = round(ratesofchange_gdf['rate_time_sig_filtered'].std(),2)\n",
    "epochmean = ratesofchange_gdf['2019-2022_epoch_rate_time_sig_filtered'].mean().round(2)\n",
    "epochstd = round(ratesofchange_gdf['2019-2022_epoch_rate_time_sig_filtered'].std(),2)\n",
    "\n",
    "# Append new row to dataframe\n",
    "StatSummary.loc[len(StatSummary.index)] =          [f'{ratetimemean} ({ratetimestd})', \n",
    "                                                   f'{epochmean} ({epochstd})',\n",
    "                                                   rel.pvalue.round(2),\n",
    "                                                   round(rel.statistic,2),\n",
    "                                                   rel.df]\n",
    "## Update index label\n",
    "StatSummary.rename(index={StatSummary.loc[len(StatSummary.index)-1].name:region},inplace=True)"
   ]
  },
  {
   "cell_type": "code",
   "execution_count": null,
   "id": "b7d626f4-065c-4229-b86c-aee0d6dc4618",
   "metadata": {
    "tags": []
   },
   "outputs": [],
   "source": [
    "region = 'GBR_offshore'"
   ]
  },
  {
   "cell_type": "code",
   "execution_count": null,
   "id": "a54b274b-fcf5-4f16-b65a-1170823d0128",
   "metadata": {
    "tags": []
   },
   "outputs": [],
   "source": [
    "## Baseline comparison stats for offshore polygons\n",
    "v1 = ratesofchange_gdf_offshore['rate_time_sig_filtered'].values\n",
    "v2 = ratesofchange_gdf_offshore['2019-2022_epoch_rate_time_sig_filtered'].values\n",
    "\n",
    "rel = ttest_rel(v1,v2)\n",
    "rel\n"
   ]
  },
  {
   "cell_type": "code",
   "execution_count": null,
   "id": "e5b8e47e-7f95-487c-9afc-efa592080f67",
   "metadata": {
    "tags": []
   },
   "outputs": [],
   "source": [
    "\n",
    "ratetimemean = ratesofchange_gdf_offshore['rate_time_sig_filtered'].mean().round(2)\n",
    "ratetimestd = round(ratesofchange_gdf_offshore['rate_time_sig_filtered'].std(),2)\n",
    "epochmean = ratesofchange_gdf_offshore['2019-2022_epoch_rate_time_sig_filtered'].mean().round(2)\n",
    "epochstd = round(ratesofchange_gdf_offshore['2019-2022_epoch_rate_time_sig_filtered'].std(),2)\n",
    "\n",
    "## Run once as the master dataframe\n",
    "# data = {\n",
    "#         '1988-2022':f'{ratetimemean} ({ratetimestd})', \n",
    "#         '2019-2022':f'{epochmean} ({epochstd})',\n",
    "#         'pvalue (1988-2022 vs 2019-2022)':rel.pvalue,\n",
    "#         'tstat (1988-2022 vs 2019-2022)':round(rel.statistic,2),\n",
    "#         'df (1988-2022 vs 2019-2022)':rel.df\n",
    "#         }\n",
    "# StatSummary = pd.DataFrame(data, index=[region]) \n",
    "\n",
    "# Append new row to dataframe\n",
    "StatSummary.loc[len(StatSummary.index)] =          [f'{ratetimemean} ({ratetimestd})', \n",
    "                                                   f'{epochmean} ({epochstd})',\n",
    "                                                   round(rel.pvalue,2),\n",
    "                                                   round(rel.statistic,2),\n",
    "                                                   rel.df\n",
    "                                                  ]\n",
    "                                          \n",
    "## Update index label\n",
    "StatSummary.rename(index={StatSummary.loc[len(StatSummary.index)-1].name:region},inplace=True)\n",
    "StatSummary"
   ]
  },
  {
   "cell_type": "code",
   "execution_count": null,
   "id": "dde45aba-097f-478c-8759-7707d46e1235",
   "metadata": {
    "tags": []
   },
   "outputs": [],
   "source": [
    "StatSummary.to_csv(\"/home/jovyan/dev/dea-notebooks/Testing/StatSummary.csv\")"
   ]
  },
  {
   "cell_type": "code",
   "execution_count": null,
   "id": "b85ccd35-a770-484c-bcc4-16c25e99dec1",
   "metadata": {},
   "outputs": [],
   "source": []
  },
  {
   "cell_type": "code",
   "execution_count": null,
   "id": "c09f5f68-d857-4d3d-936e-cf984c99e5a7",
   "metadata": {},
   "outputs": [],
   "source": []
  },
  {
   "cell_type": "code",
   "execution_count": null,
   "id": "86b1cdac-9e55-4915-90a4-045de5899bcb",
   "metadata": {},
   "outputs": [],
   "source": []
  },
  {
   "cell_type": "code",
   "execution_count": null,
   "id": "6f876811-f10e-423a-a475-ddafff39656c",
   "metadata": {
    "tags": []
   },
   "outputs": [],
   "source": [
    "region = 'GBR'"
   ]
  },
  {
   "cell_type": "code",
   "execution_count": null,
   "id": "79ebb82e-856f-45cd-9b61-99ba0e1a6d96",
   "metadata": {
    "tags": []
   },
   "outputs": [],
   "source": [
    "v1 = ratesofchange_gdf['rate_time_sig_filtered'].values\n",
    "v2 = ratesofchange_gdf_offshore['rate_time_sig_filtered'].values\n",
    "\n",
    "rel = ttest_ind(v1,v2,equal_var=False)\n",
    "rel"
   ]
  },
  {
   "cell_type": "code",
   "execution_count": null,
   "id": "e87862bb-9954-4bcb-85bd-bc50892ddddd",
   "metadata": {
    "tags": []
   },
   "outputs": [],
   "source": [
    "v1 = ratesofchange_gdf['2019-2022_epoch_rate_time_sig_filtered'].values\n",
    "v2 = ratesofchange_gdf_offshore['2019-2022_epoch_rate_time_sig_filtered'].values\n",
    "\n",
    "rel2 = ttest_ind(v1,v2,equal_var=False)\n",
    "rel2"
   ]
  },
  {
   "cell_type": "code",
   "execution_count": null,
   "id": "8c86d6e8-ae93-416d-a6aa-b704aadb5a8f",
   "metadata": {
    "tags": []
   },
   "outputs": [],
   "source": [
    "## Capture statistical significance in onshore vs offshore regions\n",
    "\n",
    "## Run once as master dataframe\n",
    "# data = {\n",
    "#         'Onshore vs Offshore (1988-2022) tstat': rel.statistic.round(2),\n",
    "#         'Onshore vs Offshore (1988-2022) pvalue': rel.pvalue.round(2),\n",
    "#         'Onshore vs Offshore (2019-2022) tstat': rel2.statistic.round(2),\n",
    "#         'Onshore vs Offshore (2019-2022) pvalue': rel2.pvalue.round(2)\n",
    "#         }\n",
    "# OnOffshoreSummary = pd.DataFrame(data, index=[region])\n",
    "\n",
    "## Append new row to dataframe\n",
    "OnOffshoreSummary.loc[len(OnOffshoreSummary.index)] = [rel.statistic.round(2),\n",
    "                                                       rel.pvalue.round(2),\n",
    "                                                       rel2.statistic.round(2),\n",
    "                                                       rel2.pvalue.round(2)]\n",
    "OnOffshoreSummary.rename(index={OnOffshoreSummary.loc[len(OnOffshoreSummary.index)-1].name:region}, inplace=True)\n",
    "                                                       \n"
   ]
  },
  {
   "cell_type": "code",
   "execution_count": null,
   "id": "8ad253c0-aeec-4cd4-bb36-ae8378157dc5",
   "metadata": {
    "tags": []
   },
   "outputs": [],
   "source": [
    "OnOffshoreSummary"
   ]
  },
  {
   "cell_type": "code",
   "execution_count": null,
   "id": "9cee6793-8e31-4997-a91c-a76c0f2df047",
   "metadata": {
    "tags": []
   },
   "outputs": [],
   "source": [
    "OnOffshoreSummary.to_csv(\"/home/jovyan/dev/dea-notebooks/Testing/OnOffshoreSummary.csv\")"
   ]
  },
  {
   "cell_type": "code",
   "execution_count": null,
   "id": "1c106811-0396-4c37-86a1-e0ca765cc89e",
   "metadata": {},
   "outputs": [],
   "source": []
  },
  {
   "cell_type": "code",
   "execution_count": null,
   "id": "df0f28a8-f362-4282-b18a-622fa2f489fc",
   "metadata": {},
   "outputs": [],
   "source": []
  },
  {
   "cell_type": "markdown",
   "id": "38df75f8-f0ff-47f5-a282-6651e77a8e07",
   "metadata": {},
   "source": [
    "# After: https://gist.github.com/robbibt/760dcf367be4b98c493e70dd577aca6a"
   ]
  },
  {
   "cell_type": "code",
   "execution_count": null,
   "id": "58e84f7c-4b30-4e22-900b-399c724f9be3",
   "metadata": {
    "tags": []
   },
   "outputs": [],
   "source": [
    "def change_summary(df, sig=0.01, rate=0.30, bias=0.08):\n",
    "\n",
    "    # Create booleans indicating whether points were significant\n",
    "    # or greatert than the minimum accuracy of the method\n",
    "    sig_bool = df.sig_time <= sig\n",
    "    # rate_bool = (df.rate_time + bias).abs() >= rate #CP removed as the bias correction has already been applied\n",
    "    rate_bool = (df.rate_time).abs() >= rate\n",
    "\n",
    "    # Calculate dynamic % (sig points greater than min rate)\n",
    "    stat_dict = {}\n",
    "    stat_dict['dynamic'] = (sig_bool & rate_bool).mean()\n",
    "\n",
    "    # Calculate stable % (non-sig points or less than min rate)\n",
    "    stat_dict['stable'] = 1.0 - stat_dict['dynamic']\n",
    "\n",
    "    # For each rate of change categoru, calculate percent greater\n",
    "    # (prograding) or percent smaller (eroding coasts)\n",
    "\n",
    "    for rate_cat in [0.0, 0.5, 1.0, 3.0, 5.0]:\n",
    "        stat_dict[f'eroding_{rate_cat}'] = (\n",
    "            # sig_bool & rate_bool & (df.rate_time + bias < -rate_cat)).mean() #CP removed as the bias correction has already been applied\n",
    "            sig_bool & rate_bool & (df.rate_time < -rate_cat)).mean()\n",
    "        stat_dict[f'prograd_{rate_cat}'] = (\n",
    "            # sig_bool & rate_bool & (df.rate_time + bias > rate_cat)).mean() #CP removed as the bias correction has already been applied\n",
    "            sig_bool & rate_bool & (df.rate_time > rate_cat)).mean()\n",
    "\n",
    "    return pd.Series(stat_dict)"
   ]
  },
  {
   "cell_type": "code",
   "execution_count": null,
   "id": "4e46ac2c-ebe1-42d1-a457-4cb11020bb63",
   "metadata": {
    "tags": []
   },
   "outputs": [],
   "source": [
    "# Load point data and Coastal Compartment regions data\n",
    "# coastlines_data = gpd.read_file('../releases/DEACoastlines_v1.0.0/Shapefile/DEACoastlines_ratesofchange_v1.0.0.shp')[['rate_time', 'sig_time', 'geometry']]\n",
    "coastlines_data = ratesofchange_gdf[['1988-2019_epoch_rate_time', 'sig_time', 'geometry']]\n",
    "coastlines_data = coastlines_data.rename(columns={'1988-2019_epoch_rate_time' : 'rate_time'})\n",
    "# acsc_regions = gpd.read_file('/g/data/r78/DEACoastlines/input_data/Coastal_compartments/Shapefiles_v3/Regions.shp').dissolve('Descriptio')\n",
    "acsc_regions = regions_gdf.dissolve('layer')\n"
   ]
  },
  {
   "cell_type": "code",
   "execution_count": null,
   "id": "9824990a-eb95-43de-84c2-18ca7d9c9528",
   "metadata": {
    "tags": []
   },
   "outputs": [],
   "source": [
    "# Join coastal compartments to points\n",
    "from geopandas import gpd \n",
    "coastlines_joined = gpd.sjoin(coastlines_data, acsc_regions.to_crs('EPSG:3577'), op='within') "
   ]
  },
  {
   "cell_type": "code",
   "execution_count": null,
   "id": "7c927a10-e1f7-4f7a-99f8-b997ff8bf8c3",
   "metadata": {
    "tags": []
   },
   "outputs": [],
   "source": [
    "regions_gdf.index"
   ]
  },
  {
   "cell_type": "markdown",
   "id": "9bdc1bc4-7a64-48a1-a91a-44f6026330c7",
   "metadata": {},
   "source": [
    "Create continental summary change table"
   ]
  },
  {
   "cell_type": "code",
   "execution_count": null,
   "id": "a0525369-3310-463c-81ec-ebf4f5001046",
   "metadata": {
    "tags": []
   },
   "outputs": [],
   "source": [
    "# Compute summaries of change for all regions\n",
    "summary_df = coastlines_joined.groupby(['index_right']).apply(lambda x: change_summary(x)).T\n",
    "summary_df['Continental'] = change_summary(df=coastlines_joined, sig=0.01)\n",
    "\n",
    "# # Sort into pretty format\n",
    "summary_df = summary_df.loc[[\n",
    "    'dynamic', 'stable', 'eroding_0.0', 'eroding_0.5', 'eroding_1.0',\n",
    "    'eroding_3.0', 'eroding_5.0', 'prograd_0.0', 'prograd_0.5', 'prograd_1.0',\n",
    "    'prograd_3.0', 'prograd_5.0'\n",
    "], [\n",
    "    'Australia', 'Mainland_CairnsCook', 'Mainland_FarNorth', 'Mainland_GBR',\n",
    "       'Mainland_MackCap', 'Mainland_TownsWhit', 'All_GBR',\n",
    "       'Offshore_CairnsCook', 'Offshore_FarNorth', 'Offshore_GBR',\n",
    "       'Offshore_MackCap', 'Offshore_TownsWhit', 'All_FarNorth',\n",
    "       'All_CairnsCook', 'All_TownsWhit', 'All_MackCap'\n",
    "]]\n",
    "\n",
    "# Rename index\n",
    "summary_df.index = ['Dynamic', 'Stable', \n",
    "                    'Eroding',     \n",
    "                    '    > 0.5 m / year', '    > 1.0 m / year', \n",
    "                    '    > 3.0 m / year', '    > 5.0 m / year', \n",
    "                    'Prograding', \n",
    "                    '    > 0.5 m / year', '    > 1.0 m / year', \n",
    "                    '    > 3.0 m / year', '    > 5.0 m / year']\n",
    "\n",
    "# Scale and round\n",
    "(summary_df * 100).round(2)"
   ]
  },
  {
   "cell_type": "code",
   "execution_count": null,
   "id": "36491e0b-5498-40c5-9792-628c74943a1a",
   "metadata": {
    "tags": []
   },
   "outputs": [],
   "source": [
    "summary_df_round = (summary_df * 100).round(2)\n",
    "Epoch_1988_2019_summary = summary_df_round[['Australia', \n",
    "                                      'All_GBR', 'Mainland_GBR', 'Offshore_GBR',\n",
    "                                      'All_FarNorth','Mainland_FarNorth','Offshore_FarNorth', \n",
    "                                      'All_CairnsCook','Mainland_CairnsCook', 'Offshore_CairnsCook',\n",
    "                                      'All_TownsWhit','Mainland_TownsWhit','Offshore_TownsWhit',\n",
    "                                      'All_MackCap', 'Mainland_MackCap', 'Offshore_MackCap']]\n"
   ]
  },
  {
   "cell_type": "code",
   "execution_count": null,
   "id": "8faae60b-6610-4911-b0a4-6e1d4497ef72",
   "metadata": {
    "tags": []
   },
   "outputs": [],
   "source": [
    "Epoch_1988_2019_summary"
   ]
  },
  {
   "cell_type": "code",
   "execution_count": null,
   "id": "5c6c3091-0254-45a8-baee-e8ef55807793",
   "metadata": {
    "tags": []
   },
   "outputs": [],
   "source": [
    "regions_gdf.index"
   ]
  },
  {
   "cell_type": "code",
   "execution_count": null,
   "id": "b55137e2-d3a7-434c-b217-f63797a7792f",
   "metadata": {
    "tags": []
   },
   "outputs": [],
   "source": [
    "All_time_summary.to_csv(\"/home/jovyan/dev/dea-notebooks/Testing/All_time_perc_summary.csv\")"
   ]
  },
  {
   "cell_type": "code",
   "execution_count": null,
   "id": "ca0fb176-8f54-4489-8937-2edb85959c4c",
   "metadata": {
    "tags": []
   },
   "outputs": [],
   "source": [
    "Epoch_1988_2019_summary.to_csv(\"/home/jovyan/dev/dea-notebooks/Testing/Epoch_1988_2019_perc_summary.csv\")"
   ]
  },
  {
   "cell_type": "code",
   "execution_count": null,
   "id": "a12fc59c-0d6b-4f62-90d4-91add8a1e755",
   "metadata": {
    "tags": []
   },
   "outputs": [],
   "source": [
    "ratesofchange_gdf.to_csv(\"/home/jovyan/dev/dea-notebooks/Testing/All_Aust_16-10-2023.csv\")"
   ]
  },
  {
   "cell_type": "code",
   "execution_count": null,
   "id": "c8123481-3f6d-47d4-9d0a-03b59b7962dc",
   "metadata": {},
   "outputs": [],
   "source": []
  }
 ],
 "metadata": {
  "kernelspec": {
   "display_name": "Python 3 (ipykernel)",
   "language": "python",
   "name": "python3"
  },
  "language_info": {
   "codemirror_mode": {
    "name": "ipython",
    "version": 3
   },
   "file_extension": ".py",
   "mimetype": "text/x-python",
   "name": "python",
   "nbconvert_exporter": "python",
   "pygments_lexer": "ipython3",
   "version": "3.10.13"
  },
  "widgets": {
   "application/vnd.jupyter.widget-state+json": {
    "state": {},
    "version_major": 2,
    "version_minor": 0
   }
  }
 },
 "nbformat": 4,
 "nbformat_minor": 5
}
