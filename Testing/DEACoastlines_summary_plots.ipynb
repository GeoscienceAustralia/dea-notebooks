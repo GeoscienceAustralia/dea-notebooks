{
 "cells": [
  {
   "cell_type": "markdown",
   "id": "d8dd12a6-7eb8-4fe4-9326-20474780df7b",
   "metadata": {
    "tags": []
   },
   "source": [
    "# DEA Coastlines summary plots"
   ]
  },
  {
   "cell_type": "code",
   "execution_count": null,
   "id": "16014365-7feb-4cbc-adfc-b035d2328e04",
   "metadata": {
    "tags": []
   },
   "outputs": [],
   "source": [
    "import pandas as pd\n",
    "import numpy as np\n",
    "import geopandas as gpd\n",
    "import matplotlib.pyplot as plt\n",
    "\n",
    "from dea_tools.coastal import get_coastlines\n"
   ]
  },
  {
   "cell_type": "markdown",
   "id": "c69bcd96-316c-4b9a-b0ef-69a6139bc66e",
   "metadata": {},
   "source": [
    "## Load data"
   ]
  },
  {
   "cell_type": "code",
   "execution_count": null,
   "id": "9a6e49dc-f9a5-462e-91e4-ad2e79c4bc3d",
   "metadata": {
    "tags": []
   },
   "outputs": [],
   "source": [
    "# Set study area from vector file\n",
    "regions_gdf = (\n",
    "    gpd.read_file(\n",
    "        \"https://data.dea.ga.gov.au/derivative/dea_coastlines/supplementary/australia_mainland_regions.geojson\"\n",
    "    )\n",
    "    .set_index(\"Descriptio\")\n",
    ")\n",
    "study_area = regions_gdf.loc[[\"Western Coasts\"]]"
   ]
  },
  {
   "cell_type": "code",
   "execution_count": 7,
   "id": "6b6c123f-a7c8-4713-a4ea-9d32f7ad210c",
   "metadata": {
    "tags": []
   },
   "outputs": [],
   "source": [
    "# Load data from WFS for study area bounding box\n",
    "bbox = study_area.geometry.bounds.values[0]\n",
    "ratesofchange_gdf = get_coastlines(\n",
    "    bbox=bbox, layer=\"rates_of_change\"\n",
    ")\n",
    "\n",
    "# Clip returned data to polygon extent\n",
    "ratesofchange_gdf = gpd.clip(ratesofchange_gdf, mask=study_area.to_crs(\"EPSG:3577\"))\n",
    "ratesofchange_gdf.head()"
   ]
  },
  {
   "cell_type": "markdown",
   "id": "91b85a59-9b41-4199-b156-650c7578cb71",
   "metadata": {},
   "source": [
    "## Data prep"
   ]
  },
  {
   "cell_type": "code",
   "execution_count": 10,
   "id": "61bb7bc7-b617-4ed8-a0b5-5e12d670d7b2",
   "metadata": {
    "tags": []
   },
   "outputs": [],
   "source": [
    "# Optional: Keep only rates of change points with \"good\" certainty \n",
    "# (i.e. no poor quality flags)\n",
    "ratesofchange_gdf = ratesofchange_gdf.query(\"certainty == 'good'\")\n",
    "\n",
    "# Optional: Apply correction factor from Bishop-Taylor et al. 2021\n",
    "ratesofchange_gdf.rate_time += 0.08\n",
    "\n",
    "# Add x and y coords to data\n",
    "ratesofchange_gdf[\"y_coord\"] = ratesofchange_gdf.geometry.y\n",
    "ratesofchange_gdf[\"x_coord\"] = ratesofchange_gdf.geometry.x"
   ]
  },
  {
   "cell_type": "code",
   "execution_count": 11,
   "id": "e8d1970b-216b-42c4-8e9d-2eace87f71c5",
   "metadata": {
    "tags": []
   },
   "outputs": [
    {
     "name": "stderr",
     "output_type": "stream",
     "text": [
      "/tmp/ipykernel_552/1372165905.py:12: FutureWarning: Index.ravel returning ndarray is deprecated; in a future version this will return a view on self.\n",
      "  ratesofchange_standardised_gdf = ratesofchange_gdf.groupby(groups).mean()\n",
      "/tmp/ipykernel_552/1372165905.py:12: FutureWarning: The default value of numeric_only in DataFrameGroupBy.mean is deprecated. In a future version, numeric_only will default to False. Either specify numeric_only or select only columns which should be valid for the function.\n",
      "  ratesofchange_standardised_gdf = ratesofchange_gdf.groupby(groups).mean()\n"
     ]
    }
   ],
   "source": [
    "# Resample to make sure we have evenly spaced rows (important for sensible rolling mean)\n",
    "bin_size = 30\n",
    "min_coord = ratesofchange_gdf[\"y_coord\"].min()\n",
    "max_coord = ratesofchange_gdf[\"y_coord\"].max()\n",
    "bin_edges = np.arange(min_coord, max_coord, bin_size)\n",
    "groups = pd.cut(\n",
    "    ratesofchange_gdf[\"y_coord\"],\n",
    "    bins=bin_edges,\n",
    "    labels=bin_edges[:-1] + (bin_size / 2),\n",
    "    right=False,\n",
    ")\n",
    "ratesofchange_standardised_gdf = ratesofchange_gdf.groupby(groups).mean()\n",
    "\n",
    "# Set index to numeric so we can plot it nicely\n",
    "ratesofchange_standardised_gdf.index = pd.to_numeric(\n",
    "    ratesofchange_standardised_gdf.index\n",
    ")"
   ]
  },
  {
   "cell_type": "markdown",
   "id": "1676a585-667b-49c5-aa22-f3055dc624e2",
   "metadata": {},
   "source": [
    "## Rolling mean"
   ]
  },
  {
   "cell_type": "code",
   "execution_count": 18,
   "id": "58e4373f-38ad-4559-a33a-d48c834c549d",
   "metadata": {
    "tags": []
   },
   "outputs": [],
   "source": [
    "# Apply rolling median\n",
    "window_size = 15000  # km\n",
    "window_n = int(window_size / 30)\n",
    "ratesofchange_rolling_gdf = ratesofchange_standardised_gdf.rolling(\n",
    "    window=window_n, center=True, min_periods=1\n",
    ").mean()\n",
    "\n",
    "# Apply an additional level of aesthetic smoothing (can be removed)\n",
    "ratesofchange_rolling_gdf = ratesofchange_rolling_gdf.rolling(\n",
    "    window=window_n, center=True, min_periods=1\n",
    ").mean()"
   ]
  },
  {
   "cell_type": "markdown",
   "id": "4bf0d94b-c60f-4cfd-98c9-c9275e27c56c",
   "metadata": {},
   "source": [
    "## Plotting"
   ]
  },
  {
   "cell_type": "code",
   "execution_count": 20,
   "id": "cc9d8b12-aa2a-4623-a86e-d8cc1cd303d1",
   "metadata": {
    "tags": []
   },
   "outputs": [],
   "source": [
    "# Set first and last entry to zero so we get clean graph outlines\n",
    "ratesofchange_rolling_gdf[\"rate_time\"].iloc[0] = 0\n",
    "ratesofchange_rolling_gdf[\"rate_time\"].iloc[-1] = 0\n",
    "\n",
    "# Split out positive and negative rates so we can plot them individually\n",
    "ratesofchange_positive_gdf = ratesofchange_rolling_gdf[\"rate_time\"].clip(0, np.inf)\n",
    "ratesofchange_negative_gdf = ratesofchange_rolling_gdf[\"rate_time\"].clip(-np.inf, 0)"
   ]
  },
  {
   "cell_type": "code",
   "execution_count": 23,
   "id": "c6af2072-7c75-4566-b97d-745f38402965",
   "metadata": {
    "tags": []
   },
   "outputs": [
    {
     "data": {
      "image/png": "[encoded data removed]",
      "text/plain": [
       "<Figure size 150x700 with 1 Axes>"
      ]
     },
     "metadata": {},
     "output_type": "display_data"
    }
   ],
   "source": [
    "# Plot negative rates in red, positive in blue\n",
    "fig, ax = plt.subplots(figsize=(1.5, 7))\n",
    "ax.fill_betweenx(\n",
    "    ratesofchange_positive_gdf.index, 0, ratesofchange_positive_gdf, color=\"#6caed1\"\n",
    ")\n",
    "ax.fill_betweenx(\n",
    "    ratesofchange_negative_gdf.index, ratesofchange_negative_gdf, 0, color=\"#eb7668\"\n",
    ")\n",
    "ax.plot(\n",
    "    ratesofchange_rolling_gdf[\"rate_time\"],\n",
    "    ratesofchange_rolling_gdf.index,\n",
    "    color=\"black\",\n",
    "    linewidth=1,\n",
    ")\n",
    "\n",
    "# Add vertical axis line\n",
    "ax.axvline(0, color=\"black\", linewidth=1)\n",
    "\n",
    "# Styling\n",
    "ax.set_xlim(-1, 1)\n",
    "ax.set_ylim(min_coord, max_coord)\n",
    "ax.set_xticks(ticks=[-1, 0, 1])\n",
    "ax.set_xlabel(\"(m / year)\")\n",
    "ax.spines[[\"top\", \"left\", \"right\"]].set_visible(False)\n",
    "ax.tick_params(top=False, left=False, labelleft=False, labeltop=False)\n",
    "\n",
    "# Export\n",
    "fig.savefig(\"output.png\", bbox_inches=\"tight\", transparent=True)"
   ]
  },
  {
   "cell_type": "code",
   "execution_count": null,
   "id": "de2b86c9-318f-4122-9fae-c16e0ee2d0bd",
   "metadata": {},
   "outputs": [],
   "source": []
  }
 ],
 "metadata": {
  "kernelspec": {
   "display_name": "Python 3 (ipykernel)",
   "language": "python",
   "name": "python3"
  },
  "language_info": {
   "codemirror_mode": {
    "name": "ipython",
    "version": 3
   },
   "file_extension": ".py",
   "mimetype": "text/x-python",
   "name": "python",
   "nbconvert_exporter": "python",
   "pygments_lexer": "ipython3",
   "version": "3.8.10"
  },
  "widgets": {
   "application/vnd.jupyter.widget-state+json": {
    "state": {},
    "version_major": 2,
    "version_minor": 0
   }
  }
 },
 "nbformat": 4,
 "nbformat_minor": 5
}
