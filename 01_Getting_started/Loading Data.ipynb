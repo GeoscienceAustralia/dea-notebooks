{
 "cells": [
  {
   "cell_type": "markdown",
   "metadata": {},
   "source": [
    "# Loading data from the datacube\n",
    "\n",
    "This notebook will briefly discuss how to load data from the datacube."
   ]
  },
  {
   "cell_type": "markdown",
   "metadata": {},
   "source": [
    "### Importing the datacube module\n",
    "\n",
    "To start with, we'll import the datacube module and load an instance of the datacube and call our application name *load-data-example*."
   ]
  },
  {
   "cell_type": "code",
   "execution_count": 5,
   "metadata": {},
   "outputs": [],
   "source": [
    "import datacube\n",
    "dc = datacube.Datacube(app='load-data-example')"
   ]
  },
  {
   "cell_type": "markdown",
   "metadata": {},
   "source": [
    "### Loading data\n",
    "\n",
    "Loading data from the datacube uses the *load* function.\n",
    "\n",
    "The function takes several arguments:\n",
    "\n",
    "* *product*; A specifc product to load\n",
    "* *x*; Defines the spatial region in the *x* dimension\n",
    "* *y*; Defines the spatial region in the *y* dimension\n",
    "* *time*; Defines the temporal extent.\n",
    "\n",
    "We'll load the Landsat 5-TM, **N**adir **B**i-directional reflectance ristribution function **A**djusted **R**eflectance, for the spatial region covering:\n",
    "\n",
    "* 149.25 -> 149.5 degrees longitude\n",
    "* -36.25 -> -36.5 degrees latitude\n",
    "\n",
    "and a temporal extent covering:\n",
    "\n",
    "* 2008-01-01 -> 2009-01-01"
   ]
  },
  {
   "cell_type": "code",
   "execution_count": 6,
   "metadata": {
    "collapsed": true
   },
   "outputs": [],
   "source": [
    "data = dc.load(product='ls5_nbar_albers', \n",
    "               x=(149.25, 149.5), y=(-36.25, -36.5),\n",
    "               time=('2008-01-01', '2009-01-01'))"
   ]
  },
  {
   "cell_type": "code",
   "execution_count": 7,
   "metadata": {},
   "outputs": [
    {
     "data": {
      "text/plain": [
       "<xarray.Dataset>\n",
       "Dimensions:  (time: 7, x: 1041, y: 1221)\n",
       "Coordinates:\n",
       "  * time     (time) datetime64[ns] 2008-01-15T23:41:48.500000 ...\n",
       "  * y        (y) float64 -4.066e+06 -4.066e+06 -4.066e+06 -4.066e+06 ...\n",
       "  * x        (x) float64 1.543e+06 1.543e+06 1.543e+06 1.543e+06 1.543e+06 ...\n",
       "Data variables:\n",
       "    blue     (time, y, x) int16 3326 3326 3326 3326 3326 3326 3326 3326 3326 ...\n",
       "    green    (time, y, x) int16 6061 5882 5942 5853 5942 5972 6150 7088 7493 ...\n",
       "    red      (time, y, x) int16 5943 5792 5767 5717 5868 5792 6194 6370 6370 ...\n",
       "    nir      (time, y, x) int16 6678 6434 6504 6364 6504 6434 6749 7932 8866 ...\n",
       "    swir1    (time, y, x) int16 3155 2939 3179 3035 3323 3418 3825 4926 6002 ...\n",
       "    swir2    (time, y, x) int16 1784 1618 1884 1718 1884 1984 2350 3182 4113 ...\n",
       "Attributes:\n",
       "    crs:      EPSG:3577"
      ]
     },
     "execution_count": 7,
     "metadata": {},
     "output_type": "execute_result"
    }
   ],
   "source": [
    "data"
   ]
  },
  {
   "cell_type": "markdown",
   "metadata": {},
   "source": [
    "### Load data via a products native co-ordinate system\n",
    "\n",
    "By default, the *x* and *y* arguments accept queries in a geographical co-ordinate system WGS84, identified by the EPSG code *4326*, which is the same as within Google Earth.\n",
    "\n",
    "The user can also query via the native co-ordinate system that the product is stored in, and supply the *crs* argument."
   ]
  },
  {
   "cell_type": "code",
   "execution_count": 16,
   "metadata": {
    "collapsed": true
   },
   "outputs": [],
   "source": [
    "data = dc.load(product='ls5_nbar_albers', \n",
    "               x=(1543137.5, 1569137.5), y=(-4065537.5, -4096037.5), crs='EPSG:3577',\n",
    "               time=('2008-01-01', '2009-01-01'))"
   ]
  },
  {
   "cell_type": "code",
   "execution_count": 17,
   "metadata": {},
   "outputs": [
    {
     "data": {
      "text/plain": [
       "<xarray.Dataset>\n",
       "Dimensions:  (time: 7, x: 1041, y: 1221)\n",
       "Coordinates:\n",
       "  * time     (time) datetime64[ns] 2008-01-15T23:41:48.500000 ...\n",
       "  * y        (y) float64 -4.066e+06 -4.066e+06 -4.066e+06 -4.066e+06 ...\n",
       "  * x        (x) float64 1.543e+06 1.543e+06 1.543e+06 1.543e+06 1.543e+06 ...\n",
       "Data variables:\n",
       "    blue     (time, y, x) int16 3326 3326 3326 3326 3326 3326 3326 3326 3326 ...\n",
       "    green    (time, y, x) int16 6061 5882 5942 5853 5942 5972 6150 7088 7493 ...\n",
       "    red      (time, y, x) int16 5943 5792 5767 5717 5868 5792 6194 6370 6370 ...\n",
       "    nir      (time, y, x) int16 6678 6434 6504 6364 6504 6434 6749 7932 8866 ...\n",
       "    swir1    (time, y, x) int16 3155 2939 3179 3035 3323 3418 3825 4926 6002 ...\n",
       "    swir2    (time, y, x) int16 1784 1618 1884 1718 1884 1984 2350 3182 4113 ...\n",
       "Attributes:\n",
       "    crs:      EPSG:3577"
      ]
     },
     "execution_count": 17,
     "metadata": {},
     "output_type": "execute_result"
    }
   ],
   "source": [
    "data"
   ]
  },
  {
   "cell_type": "markdown",
   "metadata": {},
   "source": [
    "### Load specific measurements of a given product\n",
    "\n",
    "Some products have several *measurements* such as Landsat 5-TM, which for the *ls5_nbar_albers* product contains the following spectral measurements:\n",
    "\n",
    "* blue\n",
    "* green\n",
    "* red\n",
    "* nir\n",
    "* swir1\n",
    "* swir2\n",
    "\n",
    "In this next example we'll only load the *red* and *nir* measurements."
   ]
  },
  {
   "cell_type": "code",
   "execution_count": 18,
   "metadata": {
    "collapsed": true
   },
   "outputs": [],
   "source": [
    "data = dc.load(product='ls5_nbar_albers', \n",
    "               x=(149.25, 149.5), y=(-36.25, -36.5),\n",
    "               time=('2008-01-01', '2009-01-01'), \n",
    "               measurements=['red', 'nir'])"
   ]
  },
  {
   "cell_type": "code",
   "execution_count": 19,
   "metadata": {},
   "outputs": [
    {
     "data": {
      "text/plain": [
       "<xarray.Dataset>\n",
       "Dimensions:  (time: 7, x: 1041, y: 1221)\n",
       "Coordinates:\n",
       "  * time     (time) datetime64[ns] 2008-01-15T23:41:48.500000 ...\n",
       "  * y        (y) float64 -4.066e+06 -4.066e+06 -4.066e+06 -4.066e+06 ...\n",
       "  * x        (x) float64 1.543e+06 1.543e+06 1.543e+06 1.543e+06 1.543e+06 ...\n",
       "Data variables:\n",
       "    red      (time, y, x) int16 5943 5792 5767 5717 5868 5792 6194 6370 6370 ...\n",
       "    nir      (time, y, x) int16 6678 6434 6504 6364 6504 6434 6749 7932 8866 ...\n",
       "Attributes:\n",
       "    crs:      EPSG:3577"
      ]
     },
     "execution_count": 19,
     "metadata": {},
     "output_type": "execute_result"
    }
   ],
   "source": [
    "data"
   ]
  },
  {
   "cell_type": "raw",
   "metadata": {
    "raw_mimetype": "text/restructuredtext"
   },
   "source": [
    "More information on the load function see the API docs: :py:meth:`~datacube.Datacube.load`"
   ]
  }
 ],
 "metadata": {
  "kernelspec": {
   "display_name": "Python 3",
   "language": "python",
   "name": "python3"
  },
  "language_info": {
   "codemirror_mode": {
    "name": "ipython",
    "version": 3
   },
   "file_extension": ".py",
   "mimetype": "text/x-python",
   "name": "python",
   "nbconvert_exporter": "python",
   "pygments_lexer": "ipython3",
   "version": "3.6.1"
  }
 },
 "nbformat": 4,
 "nbformat_minor": 1
}
