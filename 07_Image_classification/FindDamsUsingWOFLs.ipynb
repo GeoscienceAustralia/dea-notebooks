{
 "cells": [
  {
   "cell_type": "markdown",
   "metadata": {},
   "source": [
    "# Find dams using WOFLs\n",
    "\n",
    "**What does this notebook do?** This notebook uses `wofs_albers` tiles (aka `WOFLs`) to identify water bodies in the landscape. This code follows the following workflow:\n",
    "* Select a time period and location for the analysis\n",
    "* Extract all available WOFLs for that time and location\n",
    "* Calculate the percentage of time each pixel is observed as wet\n",
    "* Keep only pixels identified as wet at least 5% of the time\n",
    "* Convert the raster data into polygons\n",
    "* Filter the polygons based on size and proximity to identified major rivers\n",
    "* Write out the final polygon set as a shapefile\n",
    "\n",
    "**Requirements:**\n",
    "You need to run the following commands from the command line prior to launching jupyter notebooks from the same terminal so that the required libraries and paths are set:\n",
    "\n",
    "`module use /g/data/v10/public/modules/modulefiles` \n",
    "\n",
    "`module load dea`\n",
    "\n",
    "This example also uses a number of functions available within the `10_Scripts` folder of the [dea-notebooks Github repository](https://github.com/GeoscienceAustralia/dea-notebooks/tree/master/10_Scripts). Note that these functions have been developed by DEA users, not the DEA development team, and so are provided without warranty. If you find an error or bug in the functions, please either create an 'Issue' in the Github repository, or fix it yourself and create a 'Pull' request to contribute the updated function back into the repository (See the repository [README](https://github.com/GeoscienceAustralia/dea-notebooks/blob/master/README.rst) for instructions on creating a Pull request).\n",
    "\n",
    "**Date:** August 2018\n",
    "\n",
    "**Author:** Claire Krause"
   ]
  },
  {
   "cell_type": "raw",
   "metadata": {
    "raw_mimetype": "text/restructuredtext"
   },
   "source": [
    "Tags: :index:`fiona`, :index:`geopandas`, :index:`Geotiff`, :index:`masking`, :index:`rasterio`, :index:`shapefile`, :index:`WOfS`, :index:`WOFL`, :index:`write_geotiff`, :index:`shapely`, :index:`descartes`, :index:`water_classifier_and_wofs`, :index:`raster to polygons`, :index:`polygons`"
   ]
  },
  {
   "cell_type": "code",
   "execution_count": 23,
   "metadata": {},
   "outputs": [],
   "source": [
    "# %pylab notebook\n",
    "\n",
    "from datacube import Datacube\n",
    "from datacube.storage import masking\n",
    "import rasterio.features\n",
    "from shapely.geometry import Polygon, shape\n",
    "import geopandas as gp\n",
    "from descartes import PolygonPatch\n",
    "import fiona\n",
    "import matplotlib.pyplot as plt\n",
    "from fiona.crs import from_epsg\n",
    "from datacube.helpers import write_geotiff\n",
    "\n",
    "# Import the custom scripts. These can be found in the dea-notebooks repository.\n",
    "import sys\n",
    "import os.path\n",
    "sys.path.append('../10_Scripts')\n",
    "import water_classifier_and_wofs\n",
    "\n",
    "dc = Datacube(app='pixel_drill')"
   ]
  },
  {
   "cell_type": "markdown",
   "metadata": {},
   "source": [
    "## Set up the analysis\n",
    "\n",
    "### Select a cropping season and test location"
   ]
  },
  {
   "cell_type": "code",
   "execution_count": 4,
   "metadata": {},
   "outputs": [],
   "source": [
    "query = {'lat': (-30.310464, -30.748712),\n",
    "         'lon': (149.681035, 150.169855),\n",
    "         'time':('2016-10-01', '2017-05-01')\n",
    "         }"
   ]
  },
  {
   "cell_type": "markdown",
   "metadata": {},
   "source": [
    "### Set up some file names for the outputs we will write"
   ]
  },
  {
   "cell_type": "code",
   "execution_count": 5,
   "metadata": {},
   "outputs": [],
   "source": [
    "# The name and filepath of the intermediate GeoTIFF file\n",
    "WOFS_TIFF = 'wofs.tif'\n",
    "\n",
    "# The name and filepath of the final output polygon set\n",
    "WOFSshp = 'wofs.shp'"
   ]
  },
  {
   "cell_type": "markdown",
   "metadata": {},
   "source": [
    "## Load the WOFLs"
   ]
  },
  {
   "cell_type": "code",
   "execution_count": 6,
   "metadata": {},
   "outputs": [
    {
     "name": "stdout",
     "output_type": "stream",
     "text": [
      "CPU times: user 7.99 s, sys: 1.01 s, total: 9 s\n",
      "Wall time: 22.9 s\n"
     ]
    }
   ],
   "source": [
    "%%time\n",
    "WOFL = dc.load(product='wofs_albers', **query)"
   ]
  },
  {
   "cell_type": "markdown",
   "metadata": {},
   "source": [
    "## Identify the water bodies in our study area during our chosen time period\n",
    "\n",
    "We are only interested in the water classifier, so we will create a boolean mask for wet vs not wet. This way we can easily find dams from always dry ground."
   ]
  },
  {
   "cell_type": "code",
   "execution_count": 35,
   "metadata": {},
   "outputs": [],
   "source": [
    "wetWOFL = masking.make_mask(WOFL, wet = True)\n",
    "dryWOFL = masking.make_mask(WOFL, dry = True)"
   ]
  },
  {
   "cell_type": "markdown",
   "metadata": {},
   "source": [
    "### Calculate percentage wet over this season\n",
    "We want to work out how often a pixel is wet, as a proportion of the total time the pixel was observed."
   ]
  },
  {
   "cell_type": "code",
   "execution_count": 36,
   "metadata": {},
   "outputs": [
    {
     "data": {
      "text/plain": [
       "<matplotlib.collections.QuadMesh at 0x7ff94c6344e0>"
      ]
     },
     "execution_count": 36,
     "metadata": {},
     "output_type": "execute_result"
    },
    {
     "data": {
      "image/png": "[encoded data removed]",
      "text/plain": [
       "<Figure size 432x288 with 2 Axes>"
      ]
     },
     "metadata": {},
     "output_type": "display_data"
    }
   ],
   "source": [
    "total_water_obs = wetWOFL.water.sum(dim='time')\n",
    "total_dry_obs = dryWOFL.water.sum(dim='time')\n",
    "\n",
    "wofs = (total_water_obs / (total_water_obs + total_dry_obs)) \n",
    "wofs.plot() "
   ]
  },
  {
   "cell_type": "markdown",
   "metadata": {},
   "source": [
    "### Write out our percentage wet classification to .TIFF\n",
    "(So we can refer to it later on if required)"
   ]
  },
  {
   "cell_type": "code",
   "execution_count": 37,
   "metadata": {},
   "outputs": [],
   "source": [
    "wofsds = wofs.to_dataset()\n",
    "wofsds.attrs['affine'] = WOFL.affine\n",
    "wofsds.attrs['crs'] = WOFL.crs\n",
    "write_geotiff(WOFS_TIFF, wofsds)"
   ]
  },
  {
   "cell_type": "markdown",
   "metadata": {},
   "source": [
    "## Filter our classified data layer to remove noise\n",
    "\n",
    "### First, filter the raster based on values >0.05\n",
    "I.e. where water is observed at least 5% of the time (to remove e.g. ponds of water after rain events). This removes much of the noise from our dataset. We also convert our classifier into a boolean dataset here, to remove the seasonal percentage values for each pixel and just keep the 'yes'/'no' 'could it be a dam' information."
   ]
  },
  {
   "cell_type": "code",
   "execution_count": 38,
   "metadata": {},
   "outputs": [],
   "source": [
    "WOFSfiltered = wofs > 0.05"
   ]
  },
  {
   "cell_type": "code",
   "execution_count": 39,
   "metadata": {},
   "outputs": [
    {
     "data": {
      "text/plain": [
       "<matplotlib.collections.QuadMesh at 0x7ff94c5ab3c8>"
      ]
     },
     "execution_count": 39,
     "metadata": {},
     "output_type": "execute_result"
    },
    {
     "data": {
      "image/png": "[encoded data removed]",
      "text/plain": [
       "<Figure size 504x360 with 2 Axes>"
      ]
     },
     "metadata": {},
     "output_type": "display_data"
    }
   ],
   "source": [
    "fig = plt.figure(figsize=(7, 5))\n",
    "WOFSfiltered.plot()"
   ]
  },
  {
   "cell_type": "markdown",
   "metadata": {},
   "source": [
    "## Convert the raster to polygons\n",
    "\n",
    "At this point, we want to move from a gridded dataset to polygons, so we can treat the clusers of wet pixels as a whole."
   ]
  },
  {
   "cell_type": "code",
   "execution_count": 25,
   "metadata": {},
   "outputs": [],
   "source": [
    "WOFSpolygons = rasterio.features.shapes(WOFSfiltered.data.astype('float32'), transform = WOFL.affine)\n",
    "WOFSlist = list(WOFSpolygons)"
   ]
  },
  {
   "cell_type": "markdown",
   "metadata": {},
   "source": [
    "## Filter the wet polygons to find 'dams'\n",
    "Note that these are 'dams' because we can not definitively say whether the water bodies identified are farm storages, lakes, rivers, or any other type of persistent water body. \n",
    "\n",
    "We can filter our identified water bodies to get us closer to dams though..."
   ]
  },
  {
   "cell_type": "markdown",
   "metadata": {},
   "source": [
    "### Remove the giant zero polygon\n",
    "\n",
    "When we convert our data into polygons, the area surrounding the water features we want to capture is also converted to a polygon. We need to filter out any polygon that was created from the areas not identified as wet."
   ]
  },
  {
   "cell_type": "code",
   "execution_count": 26,
   "metadata": {},
   "outputs": [],
   "source": [
    "RemoveZero = [i for i, x in enumerate(WOFSlist) if x[1] == 1]\n",
    "RemoveZeroWOFS = [WOFSlist[x] for x in RemoveZero]"
   ]
  },
  {
   "cell_type": "markdown",
   "metadata": {},
   "source": [
    "### Calculate the area of each polygon"
   ]
  },
  {
   "cell_type": "code",
   "execution_count": 27,
   "metadata": {
    "scrolled": true
   },
   "outputs": [],
   "source": [
    "WOFLshapes = []\n",
    "for i, WOFLshape in enumerate(RemoveZeroWOFS):\n",
    "    polyArea = Polygon(WOFLshape[0]['coordinates'][0]).area\n",
    "    WOFLshape[0]['properties'] = {'area': polyArea}\n",
    "    WOFLshapes.append(WOFLshape)"
   ]
  },
  {
   "cell_type": "markdown",
   "metadata": {},
   "source": [
    "### Filter out any polygons smaller than 5000 m2\n",
    "\n",
    "This value can be changed, however we have set it at 5000 m2 to focus only on large water bodies for now."
   ]
  },
  {
   "cell_type": "code",
   "execution_count": 28,
   "metadata": {},
   "outputs": [],
   "source": [
    "AreasIndex = [i for i, x in enumerate(WOFLshapes) if x[0]['properties']['area'] > 5050]\n",
    "WOFSOFSbig = [WOFLshapes[x] for x in AreasIndex]"
   ]
  },
  {
   "cell_type": "markdown",
   "metadata": {},
   "source": [
    "### Remove any polygons that intersect with a major river\n",
    "\n",
    "We are only interested in farm dams, so do not need the WOFS polygons for the rivers. We use the [surface hydrology lines dataset](http://pid.geoscience.gov.au/dataset/ga/83107) to filter out polygons that intersect with major rivers. Note that we have filtered this dataset to only keep rivers tagged as `major`, and it is this filtered dataset that we use here."
   ]
  },
  {
   "cell_type": "code",
   "execution_count": 29,
   "metadata": {},
   "outputs": [],
   "source": [
    "MajorRivers = gp.GeoDataFrame.from_file('/g/data/r78/cek156/ShapeFiles/SurfaceHydrologyLinesRegionalFilteredMAJOR.shp') "
   ]
  },
  {
   "cell_type": "code",
   "execution_count": 30,
   "metadata": {
    "scrolled": true
   },
   "outputs": [
    {
     "name": "stderr",
     "output_type": "stream",
     "text": [
      "/g/data/v10/public/modules/dea-env/20180405/lib/python3.6/site-packages/geopandas/tools/sjoin.py:53: UserWarning: CRS of frames being joined does not match!\n",
      "  warn('CRS of frames being joined does not match!')\n"
     ]
    }
   ],
   "source": [
    "WOFSOFSbreaktuple = [a for a, b in list(WOFSOFSbig)]\n",
    "\n",
    "# Grab the geometeries\n",
    "for poly in WOFSOFSbreaktuple:\n",
    "    poly['geometry'] = shape(poly)\n",
    "    \n",
    "WOFSOFSfiltered2p0 = gp.GeoDataFrame(WOFSOFSbreaktuple).set_geometry('geometry')\n",
    "Intersections= gp.sjoin(MajorRivers, WOFSOFSfiltered2p0, how=\"inner\", op='intersects')\n",
    "IntersectIndex = sorted(list(set(Intersections['index_right'])))\n",
    "\n",
    "WOFSOFS = [WOFSOFSbreaktuple[x] for x in range(len(WOFSOFSbreaktuple)) \n",
    "                                  if x not in IntersectIndex]"
   ]
  },
  {
   "cell_type": "markdown",
   "metadata": {},
   "source": [
    "## Plot the final set of dam polygons"
   ]
  },
  {
   "cell_type": "code",
   "execution_count": 31,
   "metadata": {},
   "outputs": [
    {
     "data": {
      "image/png": "[encoded data removed]",
      "text/plain": [
       "<Figure size 504x504 with 1 Axes>"
      ]
     },
     "metadata": {},
     "output_type": "display_data"
    }
   ],
   "source": [
    "fig = plt.figure(figsize = [7,7])\n",
    "ax = fig.gca()\n",
    "for i in range(len(WOFSOFS)):\n",
    "    ax.add_patch(PolygonPatch(WOFSOFS[i], edgecolor = 'b', facecolor = None))\n",
    "ax.axis('scaled')\n",
    "plt.draw()\n",
    "plt.show()"
   ]
  },
  {
   "cell_type": "markdown",
   "metadata": {},
   "source": [
    "## Save the polygons to a shapefile"
   ]
  },
  {
   "cell_type": "code",
   "execution_count": 32,
   "metadata": {},
   "outputs": [],
   "source": [
    "schema = {'geometry': 'Polygon','properties': {'area': 'str'}}\n",
    "\n",
    "with fiona.open(WOFSshp, \"w\", crs = from_epsg(3577), driver = 'ESRI Shapefile', schema = schema) as output:\n",
    "    for i in range(len(WOFSOFS)):\n",
    "        output.write({'properties': {'area': WOFSOFS[i]['properties']['area']},\n",
    "                    'geometry': {'type': WOFSOFS[i]['type'], 'coordinates': WOFSOFS[i]['coordinates']}})"
   ]
  },
  {
   "cell_type": "code",
   "execution_count": null,
   "metadata": {},
   "outputs": [],
   "source": []
  }
 ],
 "metadata": {
  "celltoolbar": "Raw Cell Format",
  "kernelspec": {
   "display_name": "Python 3",
   "language": "python",
   "name": "python3"
  },
  "language_info": {
   "codemirror_mode": {
    "name": "ipython",
    "version": 3
   },
   "file_extension": ".py",
   "mimetype": "text/x-python",
   "name": "python",
   "nbconvert_exporter": "python",
   "pygments_lexer": "ipython3",
   "version": "3.6.5"
  },
  "toc": {
   "base_numbering": 1,
   "nav_menu": {},
   "number_sections": true,
   "sideBar": true,
   "skip_h1_title": false,
   "title_cell": "Table of Contents",
   "title_sidebar": "Contents",
   "toc_cell": false,
   "toc_position": {},
   "toc_section_display": true,
   "toc_window_display": false
  }
 },
 "nbformat": 4,
 "nbformat_minor": 2
}
