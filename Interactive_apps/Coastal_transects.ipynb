{
 "cells": [
  {
   "cell_type": "markdown",
   "metadata": {},
   "source": [
    "# Monitoring coastal change using the DEA Coastlines coastal transect tool <img align=\"right\" src=\"https://github.com/GeoscienceAustralia/dea-notebooks/raw/develop/Supplementary_data/dea_logo.jpg\">\n",
    "\n",
    "* **[Sign up to the DEA Sandbox](https://app.sandbox.dea.ga.gov.au/)** to run this notebook interactively from a browser\n",
    "* **Compatibility:** Notebook currently compatible with both the `NCI` and `DEA Sandbox` environments\n",
    "* **Products used:** [DEA Coastlines](/data-products/dea/581/dea-coastlines)\n",
    "\n",
    "## Background\n",
    "Australia has a highly dynamic coastline of over 30,000 km, with over 85% of its population living within 50 km of the coast. \n",
    "Historical data on how our shorelines have changed over recent decades is critical for understanding and managing the impacts of coastal dynamics on our coastal communities and environments. \n",
    "However, historical coastal monitoring data is often only available for recent years or specific well-studied locations, making it challenging to obtain data on longer-term coastal change.\n",
    "\n",
    "### DEA Coastlines use case\n",
    "The [Digital Earth Australia Coastlines](/data-products/dea/581/dea-coastlines) product uses [Landsat satellite data](../DEA_products/DEA_Landsat_Surface_Reflectance.ipynb) to map changing shorelines for each year from 1988 to the present. \n",
    "Each annual shoreline represents a measure of the most-representative shoreline position for each year (specifically, the \"median\" shoreline position corrected to a consistent 0 metres Above Mean Sea Level tide datum). \n",
    "By tracking the position of these shorelines over time using coastal transects, we can obtain a detailed understanding of coastal change along a beach or region.\n",
    "For example, time-series data extracted from DEA Coastlines at specific transects can be used to:\n",
    "\n",
    "* Track patterns of coastal erosion and growth over time\n",
    "* Compare one year of coastal change to previous decades using routine monitoring transects\n",
    "* Map or predict hotspots of coastal change or vulnerable shorelines\n",
    "\n",
    "## Description\n",
    "\n",
    "This notebook will demonstrate how to use the DEA Coastlines interactive coastal transect tool to extract time-series coastal change data for any location across Australia.\n",
    "The coastal transect app allows you to analyse DEA Coastlines data directly in the DEA Sandbox without having to download data to your desktop or use a GIS.\n",
    "\n",
    "The interactive app can be used to draw transects on the map, and use these to track how a coastline has changed over recent decades. Existing transects (i.e. in Esri Shapefile or GeoJSON format) can also be uploaded directly into the tool, and outputs can be exported as both figures and raw CSVs containing shoreline positions for each year since 1988.\n",
    "\n",
    "The tool requires no coding experience.\n",
    "\n",
    "> **Note:** For more technical information about the DEA Coastlines product, visit the official Geoscience Australia [DEA Coastlines product description](/data-products/dea/581/dea-coastlines).\n",
    "> To explore DEA Coastlines on an interactive map, [visit DEA Maps](https://maps.dea.ga.gov.au/story/DEACoastlines).\n",
    "\n",
    "***\n"
   ]
  },
  {
   "cell_type": "markdown",
   "metadata": {},
   "source": [
    "## Getting started\n",
    "\n",
    "To run this analysis, run all the cells in the notebook, starting with the \"Load packages\" cell."
   ]
  },
  {
   "cell_type": "markdown",
   "metadata": {},
   "source": [
    "### Load packages"
   ]
  },
  {
   "cell_type": "code",
   "execution_count": 1,
   "metadata": {},
   "outputs": [],
   "source": [
    "import sys\n",
    "\n",
    "sys.path.insert(1, \"../Tools/\")\n",
    "from dea_tools.app import deacoastlines"
   ]
  },
  {
   "cell_type": "markdown",
   "metadata": {},
   "source": [
    "## DEA Coastlines coastal transect tool\n",
    "\n",
    "This tool allows you to interactively draw a transect over DEA Coastlines annual shoreline data, and get back a graph showing how shoreline positions have changed over time.\n",
    "To use the tool:\n",
    "\n",
    "1. Run the `deacoastlines.transect_app()` cell below; an interactive application will appear \n",
    "2. Zoom in on the map and use the `Draw a polyline` tool on the left to draw a transect so that it crosses through a set of shorelines (see example below). Transects should be drawn in a consistent direction, e.g. starting on land and finishing over water. This ensures that results can be compared between transects.\n",
    "\n",
    "![Transect example](../Supplementary_data/DEA_Coastlines/deacoastlines_transect.jpg)\n",
    "\n",
    "3. Press `Finish` when you are happy with the line, then click `Done` in the top right\n",
    "4. A graph will appear below the map showing distances along the transect to each annual shoreline (distances will be measured from the start of the transect line you drew above)\n",
    "5. All outputs from the tools will be saved to a new folder in this directory called `deacoastlines_outputs`.\n",
    "\n",
    "> **Optional:** Set transaction extraction mode to `'width'` and re-run the cell below to measure the width between two adjacent sets of coastlines (e.g. across the neck of a tombolo or sandbar). \n",
    "\n",
    "> **Optional:** Upload a GeoJSON or ESRI Shapefile containing transects using the `Upload` button to automatically extract shoreline positions from multiple coastal transects (uploaded files should be less than 5 megabytes in size)."
   ]
  },
  {
   "cell_type": "code",
   "execution_count": 2,
   "metadata": {},
   "outputs": [
    {
     "data": {
      "application/vnd.jupyter.widget-view+json": {
       "model_id": "3c13dfd3dce44f7ca2c7e2eb019e99e5",
       "version_major": 2,
       "version_minor": 0
      },
      "text/plain": [
       "transect_app(children=(GridspecLayout(children=(HTML(value='<h3>Digital Earth Australia Coastlines shoreline t…"
      ]
     },
     "execution_count": 2,
     "metadata": {},
     "output_type": "execute_result"
    }
   ],
   "source": [
    "deacoastlines.transect_app()\n"
   ]
  },
  {
   "cell_type": "markdown",
   "metadata": {},
   "source": [
    "The resulting figure shows how shorelines at this location have changed over time.\n",
    "The tool supports two analysis modes:\n",
    "\n",
    "* In `distance` mode, the y-axis shows the distance from the start of the transect to the location at which the transect intersects with each annual shoreline (shown on the x-axis).\n",
    "If transects were drawn with a starting point on land, decreasing distances over time indicate the coastline at this location was retreating or eroding since 1988.\n",
    "Conversely, increasing distances over time indicate the coastline was growing.\n",
    "\n",
    "* In `width` mode, the y-axis shows the distance (i.e. width) between the first and last time the transect intersects each annual shoreline. Increasing widths indicate that a sandbar, spit or peninsular was growing wider over time; decreasing widths indicate that it was eroding or growing narrower."
   ]
  },
  {
   "cell_type": "markdown",
   "metadata": {},
   "source": [
    "## Next steps: coastline erosion notebook\n",
    "\n",
    "The [Coastal erosion notebook](../Real_world_examples/Coastal_erosion.ipynb) in this repository provides a simplified example of the method used to extract DEA Coastlines annual shoreline data. \n",
    "Run this notebook if you would like to generate more customised coastlines for a specific location, time period, epoch (e.g. annual or biennial coastlines) or tidal range (e.g. the position of the coastline at low, mid  or high tide).\n",
    "\n",
    "> **Note:** This notebook currently supports extracting coastline data only, not generating rates of change statistics like those included in the DEA Coastlines product."
   ]
  },
  {
   "cell_type": "markdown",
   "metadata": {},
   "source": [
    "---\n",
    "\n",
    "## Additional information\n",
    "\n",
    "**License:** The code in this notebook is licensed under the [Apache License, Version 2.0](https://www.apache.org/licenses/LICENSE-2.0). \n",
    "Digital Earth Australia data is licensed under the [Creative Commons by Attribution 4.0](https://creativecommons.org/licenses/by/4.0/) license.\n",
    "\n",
    "**Contact:** If you need assistance, please post a question on the [Open Data Cube Slack channel](http://slack.opendatacube.org/) or on the [GIS Stack Exchange](https://gis.stackexchange.com/questions/ask?tags=open-data-cube) using the `open-data-cube` tag (you can view previously asked questions [here](https://gis.stackexchange.com/questions/tagged/open-data-cube)).\n",
    "If you would like to report an issue with this notebook, you can file one on [Github](https://github.com/GeoscienceAustralia/dea-notebooks).\n",
    "\n",
    "**Last modified:** April 2023"
   ]
  },
  {
   "cell_type": "markdown",
   "metadata": {},
   "source": [
    "## Tags\n",
    "<!-- Browse all available tags on the DEA User Guide's [Tags Index](/genindex.html) -->"
   ]
  },
  {
   "cell_type": "raw",
   "metadata": {
    "raw_mimetype": "text/restructuredtext"
   },
   "source": [
    "**Tags**: :index:`NCI compatible`, :index:`sandbox compatible`, :index:`DEA Coastlines`, :index:`coastal erosion`, :index:`widgets`, :index:`ipyleaflet`, :index:`no_testing`"
   ]
  }
 ],
 "metadata": {
  "kernelspec": {
   "display_name": "Python 3 (ipykernel)",
   "language": "python",
   "name": "python3"
  },
  "language_info": {
   "codemirror_mode": {
    "name": "ipython",
    "version": 3
   },
   "file_extension": ".py",
   "mimetype": "text/x-python",
   "name": "python",
   "nbconvert_exporter": "python",
   "pygments_lexer": "ipython3",
   "version": "3.8.10"
  },
  "widgets": {
   "application/vnd.jupyter.widget-state+json": {
    "state": {
     "02ac240cdefa41b6b33d167dbfd371ae": {
      "model_module": "@jupyter-widgets/controls",
      "model_module_version": "2.0.0",
      "model_name": "CheckboxModel",
      "state": {
       "description": "Distance table (.csv)",
       "disabled": false,
       "indent": false,
       "layout": "IPY_MODEL_d4c16db28bd54956a15fce12b7bf514c",
       "style": "IPY_MODEL_66a989b5a49045ec828640a659be19cf",
       "value": false
      }
     },
     "0397a7fc7792480f8e185598c21bad3f": {
      "model_module": "@jupyter-widgets/controls",
      "model_module_version": "2.0.0",
      "model_name": "HTMLStyleModel",
      "state": {
       "description_width": "",
       "font_size": null,
       "text_color": null
      }
     },
     "05568de4cad140e1bb0c1e152f1f6c7a": {
      "model_module": "@jupyter-widgets/base",
      "model_module_version": "2.0.0",
      "model_name": "LayoutModel",
      "state": {
       "width": "85%"
      }
     },
     "0f1da44b0dd943e5a162718d33c85868": {
      "model_module": "@jupyter-widgets/controls",
      "model_module_version": "2.0.0",
      "model_name": "HTMLModel",
      "state": {
       "layout": "IPY_MODEL_b973bb9bb6d84ec3b1e14847211d6f6c",
       "style": "IPY_MODEL_12991f1ad66b47478f596858bb8121ab",
       "value": "</br><i><b>Advanced</b></br>Upload a GeoJSON or ESRI Shapefile (<5 mb) containing one or more transect lines.</i>"
      }
     },
     "12991f1ad66b47478f596858bb8121ab": {
      "model_module": "@jupyter-widgets/controls",
      "model_module_version": "2.0.0",
      "model_name": "HTMLStyleModel",
      "state": {
       "description_width": "",
       "font_size": null,
       "text_color": null
      }
     },
     "1b5c2e03fa3a4a21b1da02523c575766": {
      "model_module": "jupyter-leaflet",
      "model_module_version": "^0.17",
      "model_name": "LeafletTileLayerModel",
      "state": {
       "_model_module_version": "^0.17",
       "_view_module_version": "^0.17",
       "attribution": "Tiles &copy; Esri &mdash; Source: Esri, i-cubed, USDA, USGS, AEX, GeoEye, Getmapping, Aerogrid, IGN, IGP, UPR-EGP, and the GIS User Community",
       "base": true,
       "min_zoom": 1,
       "name": "Open Street Map",
       "options": [
        "attribution",
        "bounds",
        "detect_retina",
        "max_native_zoom",
        "max_zoom",
        "min_native_zoom",
        "min_zoom",
        "no_wrap",
        "tile_size",
        "tms",
        "zoom_offset"
       ],
       "url": "https://server.arcgisonline.com/ArcGIS/rest/services/World_Imagery/MapServer/tile/{z}/{y}/{x}"
      }
     },
     "1fd24278d9d347469a1cdcdc2b7c7c45": {
      "model_module": "@jupyter-widgets/controls",
      "model_module_version": "2.0.0",
      "model_name": "HTMLModel",
      "state": {
       "layout": "IPY_MODEL_c95562e5314f41f2bf28ec7860b45a49",
       "style": "IPY_MODEL_5852a3d41d154f5db16f89a10d87286e",
       "value": "<b>Output name:</b>"
      }
     },
     "20852e8e3fa64933baf95dbe50479943": {
      "model_module": "jupyter-leaflet",
      "model_module_version": "^0.17",
      "model_name": "LeafletMapStyleModel",
      "state": {
       "_model_module_version": "^0.17"
      }
     },
     "2bca7512cf0f4536b08c84000d33fd93": {
      "model_module": "@jupyter-widgets/controls",
      "model_module_version": "2.0.0",
      "model_name": "DropdownModel",
      "state": {
       "_options_labels": [
        "Distance",
        "Width"
       ],
       "index": 0,
       "layout": "IPY_MODEL_6eefcfefdcc94bd5a616894e2d4c3b7e",
       "style": "IPY_MODEL_62533e5d983b4e78a1baa9799cc3ced3"
      }
     },
     "2db2dea6c794486a9d757f77482e6083": {
      "model_module": "jupyter-leaflet",
      "model_module_version": "^0.17",
      "model_name": "LeafletMapStyleModel",
      "state": {
       "_model_module_version": "^0.17",
       "cursor": "move"
      }
     },
     "2f9ada85d4204392968a44f9badaae65": {
      "model_module": "@jupyter-widgets/base",
      "model_module_version": "2.0.0",
      "model_name": "LayoutModel",
      "state": {
       "width": "85%"
      }
     },
     "325869c35fdc42a5ac354493f3ab21f9": {
      "model_module": "@jupyter-widgets/controls",
      "model_module_version": "2.0.0",
      "model_name": "GridBoxModel",
      "state": {
       "children": [
        "IPY_MODEL_713f7e6b7b9345bcbfb0d942282f60c0",
        "IPY_MODEL_5f0653abe1ef44b79cba1ec0642f7e1d",
        "IPY_MODEL_9394db323a444926b756fb9cb2450d98",
        "IPY_MODEL_65af65e3a2954dac818073a5480133f0",
        "IPY_MODEL_507e05ff57e845df8307bca77eb6e010",
        "IPY_MODEL_d29cc55beeca4bc6acb9a85691dfa68e",
        "IPY_MODEL_9ba99ae739ce43d5b46bd609051cc515"
       ],
       "layout": "IPY_MODEL_40eac2f8844340d39f2573bf9f0d2d24"
      }
     },
     "35723af52d6d4985a66b0dba2e8e3242": {
      "model_module": "jupyter-leaflet",
      "model_module_version": "^0.17",
      "model_name": "LeafletLayerGroupModel",
      "state": {
       "_model_module_version": "^0.17",
       "_view_module_version": "^0.17",
       "layers": [
        "IPY_MODEL_ecee70b8a2394a3094a5802a31a6aef3"
       ],
       "name": "Map Overlays"
      }
     },
     "36f7cecb62b44aaeb746c27dac94dc84": {
      "model_module": "@jupyter-widgets/base",
      "model_module_version": "2.0.0",
      "model_name": "LayoutModel",
      "state": {
       "grid_area": "widget004",
       "height": "auto",
       "width": "auto"
      }
     },
     "3c13dfd3dce44f7ca2c7e2eb019e99e5": {
      "model_module": "@jupyter-widgets/controls",
      "model_module_version": "2.0.0",
      "model_name": "HBoxModel",
      "state": {
       "children": [
        "IPY_MODEL_325869c35fdc42a5ac354493f3ab21f9"
       ],
       "layout": "IPY_MODEL_df25850c71154309818ef23f0f4fe494"
      }
     },
     "40eac2f8844340d39f2573bf9f0d2d24": {
      "model_module": "@jupyter-widgets/base",
      "model_module_version": "2.0.0",
      "model_name": "LayoutModel",
      "state": {
       "grid_template_areas": "\"widget001 widget001 widget001 widget001 widget001 widget001 widget001 widget001 widget002 widget002\"\n\"widget003 widget003 widget005 widget005 widget005 widget005 widget005 widget005 widget005 widget005\"\n\"widget003 widget003 widget005 widget005 widget005 widget005 widget005 widget005 widget005 widget005\"\n\"widget003 widget003 widget005 widget005 widget005 widget005 widget005 widget005 widget005 widget005\"\n\"widget003 widget003 widget005 widget005 widget005 widget005 widget005 widget005 widget005 widget005\"\n\"widget003 widget003 widget005 widget005 widget005 widget005 widget005 widget005 widget005 widget005\"\n\"widget004 widget004 widget005 widget005 widget005 widget005 widget005 widget005 widget005 widget005\"\n\"widget006 widget006 widget006 widget006 widget006 widget006 widget006 widget006 widget006 widget006\"\n\"widget007 widget007 widget007 widget007 widget007 widget007 widget007 widget007 widget007 widget007\"\n\"widget007 widget007 widget007 widget007 widget007 widget007 widget007 widget007 widget007 widget007\"\n\"widget007 widget007 widget007 widget007 widget007 widget007 widget007 widget007 widget007 widget007\"\n\"widget007 widget007 widget007 widget007 widget007 widget007 widget007 widget007 widget007 widget007\"",
       "grid_template_columns": "repeat(10, 1fr)",
       "grid_template_rows": "repeat(12, 1fr)",
       "height": "1350px",
       "width": "auto"
      }
     },
     "431f5d733d2d476e9f6d4809d4ee28cb": {
      "model_module": "@jupyter-widgets/controls",
      "model_module_version": "2.0.0",
      "model_name": "HTMLModel",
      "state": {
       "layout": "IPY_MODEL_97b03a3d64494da7bfbf0ab67eadfd6e",
       "style": "IPY_MODEL_f2d8f5de4f394e29aeec6dbf4275070f",
       "value": "<b></br>Output files:</b>"
      }
     },
     "46a1f54885e04320b6df1cfe887f30dd": {
      "model_module": "@jupyter-widgets/base",
      "model_module_version": "2.0.0",
      "model_name": "LayoutModel",
      "state": {}
     },
     "4a2b8294fd7f43b7baf20104745f4ff1": {
      "model_module": "@jupyter-widgets/base",
      "model_module_version": "2.0.0",
      "model_name": "LayoutModel",
      "state": {}
     },
     "500a491ab3214ca39b7b09668a519290": {
      "model_module": "@jupyter-widgets/base",
      "model_module_version": "2.0.0",
      "model_name": "LayoutModel",
      "state": {
       "grid_area": "widget005",
       "height": "100%",
       "margin": "0px 10px 10px 0px",
       "padding": "5px 5px 5px 5px",
       "width": "100%"
      }
     },
     "507e05ff57e845df8307bca77eb6e010": {
      "model_module": "jupyter-leaflet",
      "model_module_version": "^0.17",
      "model_name": "LeafletMapModel",
      "state": {
       "_model_module_version": "^0.17",
       "_view_module_version": "^0.17",
       "bottom": 8963094,
       "center": [
        -12.226143446238991,
        131.86719946763552
       ],
       "controls": [
        "IPY_MODEL_fd1db386bc314c60b6a65864f02fec1d",
        "IPY_MODEL_d1eab18134124503bc69a73afe8900d1",
        "IPY_MODEL_71a566d34f194619ab41956bc9947eca"
       ],
       "default_style": "IPY_MODEL_20852e8e3fa64933baf95dbe50479943",
       "dragging_style": "IPY_MODEL_2db2dea6c794486a9d757f77482e6083",
       "east": 131.87812328338626,
       "fullscreen": false,
       "interpolation": "bilinear",
       "layers": [
        "IPY_MODEL_1b5c2e03fa3a4a21b1da02523c575766",
        "IPY_MODEL_35723af52d6d4985a66b0dba2e8e3242"
       ],
       "layout": "IPY_MODEL_500a491ab3214ca39b7b09668a519290",
       "left": 14533556,
       "modisdate": "2023-04-11",
       "north": -12.219170473217266,
       "options": [
        "bounce_at_zoom_limits",
        "box_zoom",
        "center",
        "close_popup_on_click",
        "double_click_zoom",
        "dragging",
        "fullscreen",
        "inertia",
        "inertia_deceleration",
        "inertia_max_speed",
        "interpolation",
        "keyboard",
        "keyboard_pan_offset",
        "keyboard_zoom_offset",
        "max_zoom",
        "min_zoom",
        "prefer_canvas",
        "scroll_wheel_zoom",
        "tap",
        "tap_tolerance",
        "touch_zoom",
        "world_copy_jump",
        "zoom",
        "zoom_animation_threshold",
        "zoom_delta",
        "zoom_snap"
       ],
       "prefer_canvas": false,
       "right": 14534574,
       "scroll_wheel_zoom": true,
       "south": -12.233116187214504,
       "style": "IPY_MODEL_20852e8e3fa64933baf95dbe50479943",
       "top": 8962429,
       "west": 131.85627937316897,
       "window_url": "https://app.sandbox.dea.ga.gov.au/user/robbi.bishoptaylor@ga.gov.au/lab/workspaces/auto-a/tree/Interactive_apps/Coastal_transects.ipynb",
       "zoom": 16
      }
     },
     "548c85eefa7040a696f3c89300a3695e": {
      "model_module": "@jupyter-widgets/base",
      "model_module_version": "2.0.0",
      "model_name": "LayoutModel",
      "state": {
       "grid_area": "widget006",
       "height": "100%",
       "margin": "0px 10px 10px 0px",
       "padding": "5px 5px 5px 5px",
       "width": "100%"
      }
     },
     "54ff12dcf66e4711a82775cbde184a6d": {
      "model_module": "@jupyter-widgets/base",
      "model_module_version": "2.0.0",
      "model_name": "LayoutModel",
      "state": {}
     },
     "558688ec368240aa9eb43228b82ad996": {
      "model_module": "@jupyter-widgets/controls",
      "model_module_version": "2.0.0",
      "model_name": "HTMLModel",
      "state": {
       "layout": "IPY_MODEL_72e6d1c938ac4070954e902ae5782813",
       "style": "IPY_MODEL_0397a7fc7792480f8e185598c21bad3f",
       "value": "</br><b>Map overlay:</b>"
      }
     },
     "5852a3d41d154f5db16f89a10d87286e": {
      "model_module": "@jupyter-widgets/controls",
      "model_module_version": "2.0.0",
      "model_name": "HTMLStyleModel",
      "state": {
       "description_width": "",
       "font_size": null,
       "text_color": null
      }
     },
     "5f0653abe1ef44b79cba1ec0642f7e1d": {
      "model_module": "@jupyter-widgets/controls",
      "model_module_version": "2.0.0",
      "model_name": "VBoxModel",
      "state": {
       "children": [
        "IPY_MODEL_558688ec368240aa9eb43228b82ad996",
        "IPY_MODEL_6329f2fce0194656b7eead0b5543aa7c"
       ],
       "layout": "IPY_MODEL_cc7f3c7965d04fcfafc4140dfaaf8a55"
      }
     },
     "62533e5d983b4e78a1baa9799cc3ced3": {
      "model_module": "@jupyter-widgets/controls",
      "model_module_version": "2.0.0",
      "model_name": "DescriptionStyleModel",
      "state": {
       "description_width": ""
      }
     },
     "6329f2fce0194656b7eead0b5543aa7c": {
      "model_module": "@jupyter-widgets/controls",
      "model_module_version": "2.0.0",
      "model_name": "DropdownModel",
      "state": {
       "_options_labels": [
        "ESRI World Imagery",
        "Open Street Map"
       ],
       "index": 0,
       "layout": "IPY_MODEL_2f9ada85d4204392968a44f9badaae65",
       "style": "IPY_MODEL_716870d3d094426f8d812076ed8fd5e9"
      }
     },
     "65af65e3a2954dac818073a5480133f0": {
      "model_module": "@jupyter-widgets/controls",
      "model_module_version": "2.0.0",
      "model_name": "ButtonModel",
      "state": {
       "button_style": "info",
       "description": "Extract shoreline data",
       "layout": "IPY_MODEL_36f7cecb62b44aaeb746c27dac94dc84",
       "style": "IPY_MODEL_c032ae5a9e944fa3b29f2c83aa8b013f",
       "tooltip": null
      }
     },
     "66a989b5a49045ec828640a659be19cf": {
      "model_module": "@jupyter-widgets/controls",
      "model_module_version": "2.0.0",
      "model_name": "CheckboxStyleModel",
      "state": {
       "description_width": ""
      }
     },
     "6eefcfefdcc94bd5a616894e2d4c3b7e": {
      "model_module": "@jupyter-widgets/base",
      "model_module_version": "2.0.0",
      "model_name": "LayoutModel",
      "state": {
       "width": "85%"
      }
     },
     "713f7e6b7b9345bcbfb0d942282f60c0": {
      "model_module": "@jupyter-widgets/controls",
      "model_module_version": "2.0.0",
      "model_name": "HTMLModel",
      "state": {
       "layout": "IPY_MODEL_b11f7ad38e274801b38488426c9645ce",
       "style": "IPY_MODEL_e00f1079e073424e972839cfd3b44836",
       "value": "<h3>Digital Earth Australia Coastlines shoreline transect extraction</h3><b>Total area of DEA Coastlines data to extract</b>: 0.16 km<sup>2</sup><span style=\"color: #33cc33\"> <b>(Area to extract falls within recommended limit; click \"Extract shoreline data\" to continue)</b></span>"
      }
     },
     "716870d3d094426f8d812076ed8fd5e9": {
      "model_module": "@jupyter-widgets/controls",
      "model_module_version": "2.0.0",
      "model_name": "DescriptionStyleModel",
      "state": {
       "description_width": ""
      }
     },
     "71a566d34f194619ab41956bc9947eca": {
      "model_module": "jupyter-leaflet",
      "model_module_version": "^0.17",
      "model_name": "LeafletDrawControlModel",
      "state": {
       "_model_module_version": "^0.17",
       "_view_module_version": "^0.17",
       "data": [
        {
         "geometry": {
          "coordinates": [
           [
            131.866852,
            -12.227149
           ],
           [
            131.86389,
            -12.222788
           ]
          ],
          "type": "LineString"
         },
         "properties": {
          "style": {
           "clickable": true,
           "color": "#FFFFFF",
           "fill": false,
           "fillColor": "#336699",
           "fillOpacity": 0.4,
           "opacity": 0.8,
           "stroke": true,
           "weight": 4
          }
         },
         "type": "Feature"
        }
       ],
       "options": [
        "position"
       ],
       "polygon": {},
       "polyline": {
        "shapeOptions": {
         "clickable": true,
         "color": "#FFFFFF",
         "fill": false,
         "fillColor": "#336699",
         "fillOpacity": 0.4,
         "opacity": 0.8,
         "stroke": true,
         "weight": 4
        }
       }
      }
     },
     "7249b99455df43c0a29fcaf9b49720e0": {
      "model_module": "@jupyter-widgets/controls",
      "model_module_version": "2.0.0",
      "model_name": "CheckboxStyleModel",
      "state": {
       "description_width": ""
      }
     },
     "72e6d1c938ac4070954e902ae5782813": {
      "model_module": "@jupyter-widgets/base",
      "model_module_version": "2.0.0",
      "model_name": "LayoutModel",
      "state": {}
     },
     "72f5a89635ac4f9a95e99ed340786de4": {
      "model_module": "@jupyter-widgets/controls",
      "model_module_version": "2.0.0",
      "model_name": "TextStyleModel",
      "state": {
       "description_width": "",
       "font_size": null,
       "text_color": null
      }
     },
     "74329111820044c5b952cf07a42ebae6": {
      "model_module": "@jupyter-widgets/controls",
      "model_module_version": "2.0.0",
      "model_name": "FileUploadModel",
      "state": {
       "description_allow_html": false,
       "layout": "IPY_MODEL_54ff12dcf66e4711a82775cbde184a6d",
       "multiple": true,
       "style": "IPY_MODEL_d01221c596f349e5b253f74dc0a88ac7"
      }
     },
     "93857e2cca9e47ffb20e9a39f0295801": {
      "model_module": "@jupyter-widgets/base",
      "model_module_version": "2.0.0",
      "model_name": "LayoutModel",
      "state": {}
     },
     "9394db323a444926b756fb9cb2450d98": {
      "model_module": "@jupyter-widgets/controls",
      "model_module_version": "2.0.0",
      "model_name": "VBoxModel",
      "state": {
       "children": [
        "IPY_MODEL_1fd24278d9d347469a1cdcdc2b7c7c45",
        "IPY_MODEL_abd6d17034314a1db3a6fcd071595470",
        "IPY_MODEL_a35af7bd0d6f4e7e937b396ecd42f284",
        "IPY_MODEL_2bca7512cf0f4536b08c84000d33fd93",
        "IPY_MODEL_431f5d733d2d476e9f6d4809d4ee28cb",
        "IPY_MODEL_dc8102d8b9f44bfe83a2b8a45973254e",
        "IPY_MODEL_02ac240cdefa41b6b33d167dbfd371ae",
        "IPY_MODEL_0f1da44b0dd943e5a162718d33c85868",
        "IPY_MODEL_74329111820044c5b952cf07a42ebae6"
       ],
       "layout": "IPY_MODEL_d64da81b6fb2487ba06287c4d822c827"
      }
     },
     "95044f739901478f9a31f1618d948006": {
      "model_module": "@jupyter-widgets/controls",
      "model_module_version": "2.0.0",
      "model_name": "HTMLStyleModel",
      "state": {
       "description_width": "",
       "font_size": null,
       "text_color": null
      }
     },
     "97b03a3d64494da7bfbf0ab67eadfd6e": {
      "model_module": "@jupyter-widgets/base",
      "model_module_version": "2.0.0",
      "model_name": "LayoutModel",
      "state": {}
     },
     "9ba99ae739ce43d5b46bd609051cc515": {
      "model_module": "@jupyter-widgets/output",
      "model_module_version": "1.0.0",
      "model_name": "OutputModel",
      "state": {
       "layout": "IPY_MODEL_ab5a85bb807347e0af05dc15bfea8a16",
       "outputs": [
        {
         "data": {
          "image/png": "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\n",
          "text/plain": "<Figure size 1500x550 with 1 Axes>"
         },
         "metadata": {},
         "output_type": "display_data"
        }
       ]
      }
     },
     "a35af7bd0d6f4e7e937b396ecd42f284": {
      "model_module": "@jupyter-widgets/controls",
      "model_module_version": "2.0.0",
      "model_name": "HTMLModel",
      "state": {
       "layout": "IPY_MODEL_46a1f54885e04320b6df1cfe887f30dd",
       "style": "IPY_MODEL_95044f739901478f9a31f1618d948006",
       "value": "<b>Transect extraction mode:</b><br><img src=\"https://i.imgur.com/9fdTH9C.png\">"
      }
     },
     "a558d44ec6ff486a9e86d916f8dc763f": {
      "model_module": "@jupyter-widgets/base",
      "model_module_version": "2.0.0",
      "model_name": "LayoutModel",
      "state": {}
     },
     "ab5a85bb807347e0af05dc15bfea8a16": {
      "model_module": "@jupyter-widgets/base",
      "model_module_version": "2.0.0",
      "model_name": "LayoutModel",
      "state": {
       "grid_area": "widget007",
       "height": "100%",
       "margin": "0px 10px 10px 0px",
       "padding": "5px 5px 5px 5px",
       "width": "100%"
      }
     },
     "abd6d17034314a1db3a6fcd071595470": {
      "model_module": "@jupyter-widgets/controls",
      "model_module_version": "2.0.0",
      "model_name": "TextModel",
      "state": {
       "layout": "IPY_MODEL_05568de4cad140e1bb0c1e152f1f6c7a",
       "placeholder": "example_output",
       "style": "IPY_MODEL_72f5a89635ac4f9a95e99ed340786de4",
       "value": "example_output"
      }
     },
     "b11f7ad38e274801b38488426c9645ce": {
      "model_module": "@jupyter-widgets/base",
      "model_module_version": "2.0.0",
      "model_name": "LayoutModel",
      "state": {
       "grid_area": "widget001",
       "height": "100%",
       "margin": "0px 10px 10px 0px",
       "padding": "5px 5px 5px 5px",
       "width": "100%"
      }
     },
     "b75c2cb7d49246ff99abccd2227948bf": {
      "model_module": "@jupyter-widgets/base",
      "model_module_version": "2.0.0",
      "model_name": "LayoutModel",
      "state": {
       "width": "85%"
      }
     },
     "b973bb9bb6d84ec3b1e14847211d6f6c": {
      "model_module": "@jupyter-widgets/base",
      "model_module_version": "2.0.0",
      "model_name": "LayoutModel",
      "state": {}
     },
     "c032ae5a9e944fa3b29f2c83aa8b013f": {
      "model_module": "@jupyter-widgets/controls",
      "model_module_version": "2.0.0",
      "model_name": "ButtonStyleModel",
      "state": {
       "font_family": null,
       "font_size": null,
       "font_style": null,
       "font_variant": null,
       "font_weight": null,
       "text_color": null,
       "text_decoration": null
      }
     },
     "c95562e5314f41f2bf28ec7860b45a49": {
      "model_module": "@jupyter-widgets/base",
      "model_module_version": "2.0.0",
      "model_name": "LayoutModel",
      "state": {}
     },
     "cc7f3c7965d04fcfafc4140dfaaf8a55": {
      "model_module": "@jupyter-widgets/base",
      "model_module_version": "2.0.0",
      "model_name": "LayoutModel",
      "state": {
       "grid_area": "widget002",
       "height": "100%",
       "margin": "0px 10px 10px 0px",
       "padding": "5px 5px 5px 5px",
       "width": "100%"
      }
     },
     "d01221c596f349e5b253f74dc0a88ac7": {
      "model_module": "@jupyter-widgets/controls",
      "model_module_version": "2.0.0",
      "model_name": "ButtonStyleModel",
      "state": {
       "font_family": null,
       "font_size": null,
       "font_style": null,
       "font_variant": null,
       "font_weight": null,
       "text_color": null,
       "text_decoration": null
      }
     },
     "d1eab18134124503bc69a73afe8900d1": {
      "model_module": "jupyter-leaflet",
      "model_module_version": "^0.17",
      "model_name": "LeafletAttributionControlModel",
      "state": {
       "_model_module_version": "^0.17",
       "_view_module_version": "^0.17",
       "options": [
        "position",
        "prefix"
       ],
       "position": "bottomright",
       "prefix": "ipyleaflet"
      }
     },
     "d29cc55beeca4bc6acb9a85691dfa68e": {
      "model_module": "@jupyter-widgets/output",
      "model_module_version": "1.0.0",
      "model_name": "OutputModel",
      "state": {
       "layout": "IPY_MODEL_548c85eefa7040a696f3c89300a3695e",
       "outputs": [
        {
         "name": "stdout",
         "output_type": "stream",
         "text": "DEA Coastlines data successfully extracted for selected transect.\n"
        }
       ]
      }
     },
     "d4c16db28bd54956a15fce12b7bf514c": {
      "model_module": "@jupyter-widgets/base",
      "model_module_version": "2.0.0",
      "model_name": "LayoutModel",
      "state": {
       "width": "85%"
      }
     },
     "d64da81b6fb2487ba06287c4d822c827": {
      "model_module": "@jupyter-widgets/base",
      "model_module_version": "2.0.0",
      "model_name": "LayoutModel",
      "state": {
       "grid_area": "widget003",
       "height": "100%",
       "margin": "0px 10px 10px 0px",
       "padding": "5px 5px 5px 5px",
       "width": "100%"
      }
     },
     "dc8102d8b9f44bfe83a2b8a45973254e": {
      "model_module": "@jupyter-widgets/controls",
      "model_module_version": "2.0.0",
      "model_name": "CheckboxModel",
      "state": {
       "description": "Figure (.png)",
       "disabled": false,
       "indent": false,
       "layout": "IPY_MODEL_b75c2cb7d49246ff99abccd2227948bf",
       "style": "IPY_MODEL_7249b99455df43c0a29fcaf9b49720e0",
       "value": false
      }
     },
     "df25850c71154309818ef23f0f4fe494": {
      "model_module": "@jupyter-widgets/base",
      "model_module_version": "2.0.0",
      "model_name": "LayoutModel",
      "state": {}
     },
     "e00f1079e073424e972839cfd3b44836": {
      "model_module": "@jupyter-widgets/controls",
      "model_module_version": "2.0.0",
      "model_name": "HTMLStyleModel",
      "state": {
       "description_width": "",
       "font_size": null,
       "text_color": null
      }
     },
     "e90a96caa1884d02bb7b4ed12272a55a": {
      "model_module": "jupyter-leaflet",
      "model_module_version": "^0.17",
      "model_name": "LeafletMapStyleModel",
      "state": {
       "_model_module_version": "^0.17"
      }
     },
     "ecee70b8a2394a3094a5802a31a6aef3": {
      "model_module": "jupyter-leaflet",
      "model_module_version": "^0.17",
      "model_name": "LeafletWMSLayerModel",
      "state": {
       "_model_module_version": "^0.17",
       "_view_module_version": "^0.17",
       "attribution": "DEA Coastlines © 2020 Geoscience Australia",
       "crs": {
        "custom": false,
        "name": "EPSG3857"
       },
       "format": "image/png",
       "layers": "dea:DEACoastlines",
       "options": [
        "attribution",
        "bounds",
        "detect_retina",
        "format",
        "layers",
        "max_native_zoom",
        "max_zoom",
        "min_native_zoom",
        "min_zoom",
        "no_wrap",
        "styles",
        "tile_size",
        "tms",
        "transparent",
        "uppercase",
        "zoom_offset"
       ],
       "transparent": true,
       "url": "https://geoserver.dea.ga.gov.au/geoserver/wms"
      }
     },
     "f2d8f5de4f394e29aeec6dbf4275070f": {
      "model_module": "@jupyter-widgets/controls",
      "model_module_version": "2.0.0",
      "model_name": "HTMLStyleModel",
      "state": {
       "description_width": "",
       "font_size": null,
       "text_color": null
      }
     },
     "f9a10366a8384e1aa092b00148849186": {
      "model_module": "@jupyter-widgets/base",
      "model_module_version": "2.0.0",
      "model_name": "LayoutModel",
      "state": {}
     },
     "fd1db386bc314c60b6a65864f02fec1d": {
      "model_module": "jupyter-leaflet",
      "model_module_version": "^0.17",
      "model_name": "LeafletZoomControlModel",
      "state": {
       "_model_module_version": "^0.17",
       "_view_module_version": "^0.17",
       "options": [
        "position",
        "zoom_in_text",
        "zoom_in_title",
        "zoom_out_text",
        "zoom_out_title"
       ]
      }
     }
    },
    "version_major": 2,
    "version_minor": 0
   }
  }
 },
 "nbformat": 4,
 "nbformat_minor": 4
}
