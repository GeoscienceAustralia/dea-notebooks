{
 "cells": [
  {
   "cell_type": "markdown",
   "metadata": {},
   "source": [
    "# Tracking rehabilitation of mines <img align=\"right\" src=\"../Supplementary_data/dea_logo.jpg\">\n",
    "\n",
    "* **[Sign up to the DEA Sandbox](https://app.sandbox.dea.ga.gov.au/)** to run this notebook interactively from a browser\n",
    "* **Compatibility:** Notebook currently compatible with both the `NCI` and `DEA Sandbox` environments\n",
    "* **Products used:** \n",
    "[ga_ls_fc_3](https://explorer.dea.ga.gov.au/ga_ls_fc_3), \n",
    "[ga_ls_wo_3](https://explorer.dea.ga.gov.au/ga_ls_wo_3)"
   ]
  },
  {
   "cell_type": "markdown",
   "metadata": {},
   "source": [
    "## Background\n",
    "Land rehabilitation is an important aspect of responsible mining.\n",
    "For example, The Department of Mines, Industry Regulation and Safety (DMIRS) maintain a Mining Rehabilitation Fund (MRF) that Western Australian mining operators contribute to.\n",
    "The fund is used to rehabilitate abandoned and legacy mines, and is underpinned by the Mining Rehabilitation Fund Act 2012.\n",
    "As part of the fund, tenement holders report ground disturbance, which can help DMIRS monitor how a mine's rehabilitation is going, as well as major disurbance events related to mining activity. \n",
    "\n",
    "At the moment, most mining organisations only review disturbance annually, often contracting out the service to third party surveying and ecological consulting agencies.\n",
    "While these providers generally provide excellent information, there are two main issues:\n",
    "\n",
    "*  Annual visits give a very coarse view of how the mine is changing in time.\n",
    "*  There is no way to validate or sanity check consultants reports without a site visit.\n",
    "\n",
    "### Digital Earth Australia use case\n",
    "Rehabilitation and land disturbance can be monitored through satellite data by tracking the amount of vegetation and bare ground on the site compared with surrounding areas.\n",
    "A decrease in bare ground and increase in vegetation can be linked to positive rehabilitation.\n",
    "A slow increase or sharp spike in the amount of bare ground over a mining site may indicate increased disturbance, which is against the trend expected during rehabilitation efforts.\n",
    "This tracking can be achieved using the Fractional Cover data product from the Joint Remote Sensing Research Program, which is provided through DEA.\n",
    "\n",
    "Fractional Cover is derived from Landsat data, which has a revisit time of around two weeks for Australia, providing regular insight to a given mine's rehabilitation.\n",
    "This would allow companies to identify any disturbance events early in the year and take corrective action before the yearly reporting.\n",
    "It would also allow DMIRS to keep detailed records of how the mines they monitor are changing in time.\n",
    "\n",
    "Fractional Cover can also be used to validate the field reporting from surveying and ecological consultants before submitting reports.\n",
    "While reports from field surveys will provide more detail than most Earth Observation data products, such products provide the ability to provide context and validation of reports.\n",
    "For example, if the survey detects a disturbance, it may be hard to detect a reason.\n",
    "Fractional Cover can be used to identify the point in time, and possibly the cause of each disturbance event.\n",
    "\n",
    "### Description\n",
    "In this example, the [DEA Fractional Cover](../DEA_products/DEA_Fractional_Cover.ipynb) product is used to assess how land cover (specifically bare soil, green vegetation and non-green vegetation) is changing over time.\n",
    "\n",
    "The worked example below takes users through the code required to\n",
    "\n",
    "*  Create a time series data cube over a mine site.\n",
    "*  Create graphs to identify rehabilitation trends and disturbance events.\n",
    "*  Interpret the results.\n",
    "\n",
    "***"
   ]
  },
  {
   "cell_type": "markdown",
   "metadata": {},
   "source": [
    "## Getting started\n",
    "\n",
    "**To run this analysis**, run all the cells in the notebook, starting with the \"Load packages and apps\" cell."
   ]
  },
  {
   "cell_type": "markdown",
   "metadata": {},
   "source": [
    "### Load packages and apps\n",
    "\n",
    "This notebook works via two functions, which are referred to as apps: `load_miningrehab_data` and `run_miningrehab_app`.\n",
    "The apps allow the majority of the analysis code to be stored in another file, making the notebook easy to use and run.\n",
    "To view the code behind the apps, open the [notebookapp_miningrehab.py](https://docs.dea.ga.gov.au/notebooks/tools/gen/dea_tools.app.miningrehab/) file."
   ]
  },
  {
   "cell_type": "code",
   "execution_count": 1,
   "metadata": {
    "tags": []
   },
   "outputs": [],
   "source": [
    "%matplotlib inline\n",
    "\n",
    "import datacube\n",
    "\n",
    "import sys\n",
    "sys.path.insert(1, '../Tools/')\n",
    "from dea_tools.app import miningrehab"
   ]
  },
  {
   "cell_type": "markdown",
   "metadata": {},
   "source": [
    "## Load the data\n",
    "The `load_miningrehab_data()` command performs several key steps:\n",
    "\n",
    "* Load [DEA Fractional Cover (FC)](../DEA_products/DEA_Fractional_Cover.ipynb) and [DEA Water Observations (WO)](../DEA_products/DEA_Water_Observations.ipynb) data for the study area.\n",
    "* Match the datasets to only retain data with the same time stamps.\n",
    "* Mask areas that are classified as water using WOs.\n",
    "* Resample the masked FC to get monthly average values.\n",
    "* Return the masked data for analysis.\n",
    "\n",
    "The masked data is stored in the `dataset_fc` object.\n",
    "As the command runs, feedback will be provided below the cell.\n",
    "\n",
    "**Please be patient**.\n",
    "The load is complete when the cell status goes from `[*]` to `[number]`."
   ]
  },
  {
   "cell_type": "code",
   "execution_count": 2,
   "metadata": {
    "tags": []
   },
   "outputs": [
    {
     "name": "stdout",
     "output_type": "stream",
     "text": [
      "Loading DEA Fractional Cover\n",
      "Loading DEA Water Observations\n"
     ]
    }
   ],
   "source": [
    "dataset_fc = miningrehab.load_miningrehab_data()"
   ]
  },
  {
   "cell_type": "markdown",
   "metadata": {},
   "source": [
    "## Run the mining app\n",
    "The `run_mining_app()` command launches an interactive map.\n",
    "Drawing polygons within the boundary (which represents the area covered by the loaded data) will result in plots of the average bare, green and non-green cover in that area. Draw polygons by clicking the &#11039; symbol in the app.\n",
    "\n",
    "The app works by taking the loaded data `dataset_fc` as an argument. \n",
    "\n",
    "> **Note:** When drawing polygons, draw one over the mine and one over the forest nearby, then the fractional cover values can be compared on the produced plot."
   ]
  },
  {
   "cell_type": "code",
   "execution_count": null,
   "metadata": {
    "tags": []
   },
   "outputs": [],
   "source": [
    "miningrehab.run_miningrehab_app(dataset_fc)"
   ]
  },
  {
   "cell_type": "markdown",
   "metadata": {},
   "source": [
    "## Drawing conclusions\n",
    "\n",
    "Here are some questions to think about:\n",
    "\n",
    "* Rehabilitation can be indicated by either a decrease in bare cover, or an increase in either green or non-green cover. \n",
    "Can you find any evidence that rehabilitation is occurring?\n",
    "* What differences are there between polygons drawn over the mine site and those drawn over the forest? What similarities are there?"
   ]
  },
  {
   "cell_type": "markdown",
   "metadata": {},
   "source": [
    "***\n",
    "\n",
    "## Additional information\n",
    "\n",
    "**License:** The code in this notebook is licensed under the [Apache License, Version 2.0](https://www.apache.org/licenses/LICENSE-2.0). \n",
    "Digital Earth Australia data is licensed under the [Creative Commons by Attribution 4.0](https://creativecommons.org/licenses/by/4.0/) license.\n",
    "\n",
    "**Contact:** If you need assistance, please post a question on the [Open Data Cube Slack channel](http://slack.opendatacube.org/) or on the [GIS Stack Exchange](https://gis.stackexchange.com/questions/ask?tags=open-data-cube) using the `open-data-cube` tag (you can view previously asked questions [here](https://gis.stackexchange.com/questions/tagged/open-data-cube)).\n",
    "If you would like to report an issue with this notebook, you can file one on [Github](https://github.com/GeoscienceAustralia/dea-notebooks).\n",
    "\n",
    "**Last modified:** December 2023\n",
    "\n",
    "**Compatible datacube version:**"
   ]
  },
  {
   "cell_type": "code",
   "execution_count": 4,
   "metadata": {},
   "outputs": [
    {
     "name": "stdout",
     "output_type": "stream",
     "text": [
      "1.8.15\n"
     ]
    }
   ],
   "source": [
    "print(datacube.__version__)"
   ]
  },
  {
   "cell_type": "markdown",
   "metadata": {},
   "source": [
    "## Tags\n",
    "<!-- Browse all available tags on the DEA User Guide's [Tags Index](https://docs.dea.ga.gov.au/genindex/) -->"
   ]
  },
  {
   "cell_type": "raw",
   "metadata": {
    "raw_mimetype": "text/restructuredtext"
   },
   "source": [
    "**Tags**: :index:`sandbox compatible`, :index:`NCI compatible`, :index:``, :index:`fractional cover`, :index:`water observations`, :index:`real world`, :index:`mining`, :index:`time series`, :index:`interactive`, :index:`widgets`, :index:`no_testing`"
   ]
  }
 ],
 "metadata": {
  "kernelspec": {
   "display_name": "Python 3 (ipykernel)",
   "language": "python",
   "name": "python3"
  },
  "language_info": {
   "codemirror_mode": {
    "name": "ipython",
    "version": 3
   },
   "file_extension": ".py",
   "mimetype": "text/x-python",
   "name": "python",
   "nbconvert_exporter": "python",
   "pygments_lexer": "ipython3",
   "version": "3.10.8"
  },
  "widgets": {
   "application/vnd.jupyter.widget-state+json": {
    "state": {
     "0c6e7c86685c445b89c4395c89a52f50": {
      "model_module": "@jupyter-widgets/controls",
      "model_module_version": "2.0.0",
      "model_name": "HTMLStyleModel",
      "state": {
       "description_width": "",
       "font_size": null,
       "text_color": null
      }
     },
     "23600718294e4443a84d825f4d1f8522": {
      "model_module": "@jupyter-widgets/base",
      "model_module_version": "2.0.0",
      "model_name": "LayoutModel",
      "state": {
       "border_bottom": "1px solid black",
       "border_left": "1px solid black",
       "border_right": "1px solid black",
       "border_top": "1px solid black"
      }
     },
     "2d8edd33e80942b7a2d3facfc8e76c5c": {
      "model_module": "@jupyter-widgets/output",
      "model_module_version": "1.0.0",
      "model_name": "OutputModel",
      "state": {
       "layout": "IPY_MODEL_85d3e27b66764070b2f0f803ef5ece5f",
       "outputs": [
        {
         "name": "stdout",
         "output_type": "stream",
         "text": "Plot status:\n"
        }
       ]
      }
     },
     "4396cb058b1e4023b72356b15a73247b": {
      "model_module": "@jupyter-widgets/base",
      "model_module_version": "2.0.0",
      "model_name": "LayoutModel",
      "state": {}
     },
     "4d2ef7f18d104400bae461ebb4ffd6f1": {
      "model_module": "jupyter-leaflet",
      "model_module_version": "^0.17",
      "model_name": "LeafletMapStyleModel",
      "state": {
       "_model_module_version": "^0.17"
      }
     },
     "4db58bc220844b06b387b162f3b43182": {
      "model_module": "@jupyter-widgets/output",
      "model_module_version": "1.0.0",
      "model_name": "OutputModel",
      "state": {
       "layout": "IPY_MODEL_edd86f43b19442a6b3f8c0a0db9c025a",
       "outputs": [
        {
         "data": {
          "application/vnd.jupyter.widget-view+json": {
           "model_id": "8576ae4b4355442799bc5432ac845ed2",
           "version_major": 2,
           "version_minor": 0
          },
          "text/plain": "HTML(value='')"
         },
         "metadata": {},
         "output_type": "display_data"
        }
       ]
      }
     },
     "4e4ba5e13e0b46d98a87bbbfc20288ee": {
      "model_module": "@jupyter-widgets/controls",
      "model_module_version": "2.0.0",
      "model_name": "HBoxModel",
      "state": {
       "children": [
        "IPY_MODEL_7c86f28ca9d8468fa874d2f32e0b404c",
        "IPY_MODEL_4db58bc220844b06b387b162f3b43182"
       ],
       "layout": "IPY_MODEL_4396cb058b1e4023b72356b15a73247b"
      }
     },
     "594b4114f41b4390ba6b879073e59292": {
      "model_module": "@jupyter-widgets/base",
      "model_module_version": "2.0.0",
      "model_name": "LayoutModel",
      "state": {
       "height": "600px",
       "width": "480px"
      }
     },
     "6754fc8dc01748adb102dfa6cd9d4512": {
      "model_module": "jupyter-leaflet",
      "model_module_version": "^0.17",
      "model_name": "LeafletGeoJSONModel",
      "state": {
       "_model_module_version": "^0.17",
       "_view_module_version": "^0.17",
       "data": {
        "geometry": {
         "coordinates": [
          [
           [
            116.630731,
            -34.434517
           ],
           [
            116.630731,
            -34.426512
           ],
           [
            116.648123,
            -34.426512
           ],
           [
            116.648123,
            -34.434517
           ],
           [
            116.630731,
            -34.434517
           ]
          ]
         ],
         "type": "Polygon"
        },
        "properties": {
         "style": {
          "clickable": true,
          "color": "red",
          "fill": true,
          "fillColor": false,
          "fillOpacity": 0,
          "opacity": 0.8,
          "showArea": true,
          "stroke": true,
          "weight": 4
         }
        },
        "type": "Feature"
       }
      }
     },
     "7c86f28ca9d8468fa874d2f32e0b404c": {
      "model_module": "jupyter-leaflet",
      "model_module_version": "^0.17",
      "model_name": "LeafletMapModel",
      "state": {
       "_model_module_version": "^0.17",
       "_view_module_version": "^0.17",
       "bottom": 5050055,
       "center": [
        -34.4305145,
        116.639427
       ],
       "controls": [
        "IPY_MODEL_a4abfcd45c544991940ce2572b1544bb",
        "IPY_MODEL_a9bd704545024e159f2f416316dd6de2",
        "IPY_MODEL_aeec336389ed46899800018afd228288"
       ],
       "default_style": "IPY_MODEL_c5c5b49c57f54460bfea0e31b4dc7c1d",
       "dragging_style": "IPY_MODEL_826b309682e44ae6ab9a99a24f1fdcd0",
       "east": 116.6572952270508,
       "fullscreen": false,
       "interpolation": "bilinear",
       "layers": [
        "IPY_MODEL_bbb765783dd645c4819ce017df6b2494",
        "IPY_MODEL_6754fc8dc01748adb102dfa6cd9d4512"
       ],
       "layout": "IPY_MODEL_594b4114f41b4390ba6b879073e59292",
       "left": 6911783,
       "modisdate": "2023-08-30",
       "north": -34.41990305500894,
       "options": [
        "bounce_at_zoom_limits",
        "box_zoom",
        "center",
        "close_popup_on_click",
        "double_click_zoom",
        "dragging",
        "fullscreen",
        "inertia",
        "inertia_deceleration",
        "inertia_max_speed",
        "interpolation",
        "keyboard",
        "keyboard_pan_offset",
        "keyboard_zoom_offset",
        "max_zoom",
        "min_zoom",
        "prefer_canvas",
        "scroll_wheel_zoom",
        "tap",
        "tap_tolerance",
        "touch_zoom",
        "world_copy_jump",
        "zoom",
        "zoom_animation_threshold",
        "zoom_delta",
        "zoom_snap"
       ],
       "prefer_canvas": false,
       "right": 6912616,
       "south": -34.44114132003539,
       "style": "IPY_MODEL_4d2ef7f18d104400bae461ebb4ffd6f1",
       "top": 5049455,
       "west": 116.62154674530031,
       "window_url": "https://app.sandbox.dea.ga.gov.au/user/robbi.bishoptaylor@ga.gov.au/lab/tree/Robbi/dea-notebooks/Interactive_apps/Mining_rehabilitation.ipynb",
       "zoom": 15
      }
     },
     "826b309682e44ae6ab9a99a24f1fdcd0": {
      "model_module": "jupyter-leaflet",
      "model_module_version": "^0.17",
      "model_name": "LeafletMapStyleModel",
      "state": {
       "_model_module_version": "^0.17",
       "cursor": "move"
      }
     },
     "8576ae4b4355442799bc5432ac845ed2": {
      "model_module": "@jupyter-widgets/controls",
      "model_module_version": "2.0.0",
      "model_name": "HTMLModel",
      "state": {
       "layout": "IPY_MODEL_c9f1bbdb422646e1b65ac14a4a5d59f4",
       "style": "IPY_MODEL_0c6e7c86685c445b89c4395c89a52f50"
      }
     },
     "85d3e27b66764070b2f0f803ef5ece5f": {
      "model_module": "@jupyter-widgets/base",
      "model_module_version": "2.0.0",
      "model_name": "LayoutModel",
      "state": {
       "border_bottom": "1px solid black",
       "border_left": "1px solid black",
       "border_right": "1px solid black",
       "border_top": "1px solid black"
      }
     },
     "88cdb65e192a4b648261c343831030de": {
      "model_module": "@jupyter-widgets/output",
      "model_module_version": "1.0.0",
      "model_name": "OutputModel",
      "state": {
       "layout": "IPY_MODEL_23600718294e4443a84d825f4d1f8522",
       "outputs": [
        {
         "name": "stdout",
         "output_type": "stream",
         "text": "Draw a polygon within the red box to view plots of the fractional cover values of bare, green and non-green cover for the area over time.\n"
        }
       ]
      }
     },
     "a4abfcd45c544991940ce2572b1544bb": {
      "model_module": "jupyter-leaflet",
      "model_module_version": "^0.17",
      "model_name": "LeafletZoomControlModel",
      "state": {
       "_model_module_version": "^0.17",
       "_view_module_version": "^0.17",
       "options": [
        "position",
        "zoom_in_text",
        "zoom_in_title",
        "zoom_out_text",
        "zoom_out_title"
       ]
      }
     },
     "a9bd704545024e159f2f416316dd6de2": {
      "model_module": "jupyter-leaflet",
      "model_module_version": "^0.17",
      "model_name": "LeafletAttributionControlModel",
      "state": {
       "_model_module_version": "^0.17",
       "_view_module_version": "^0.17",
       "options": [
        "position",
        "prefix"
       ],
       "position": "bottomright",
       "prefix": "ipyleaflet"
      }
     },
     "aeec336389ed46899800018afd228288": {
      "model_module": "jupyter-leaflet",
      "model_module_version": "^0.17",
      "model_name": "LeafletDrawControlModel",
      "state": {
       "_model_module_version": "^0.17",
       "_view_module_version": "^0.17",
       "options": [
        "position"
       ],
       "polygon": {
        "shapeOptions": {
         "clickable": true,
         "color": "#3388ff",
         "fill": true,
         "fillColor": null,
         "fillOpacity": 0,
         "opacity": 0.5,
         "stroke": true,
         "weight": 4
        }
       },
       "polyline": {}
      }
     },
     "bbb765783dd645c4819ce017df6b2494": {
      "model_module": "jupyter-leaflet",
      "model_module_version": "^0.17",
      "model_name": "LeafletTileLayerModel",
      "state": {
       "_model_module_version": "^0.17",
       "_view_module_version": "^0.17",
       "attribution": "Tiles &copy; Esri &mdash; Source: Esri, i-cubed, USDA, USGS, AEX, GeoEye, Getmapping, Aerogrid, IGN, IGP, UPR-EGP, and the GIS User Community",
       "base": true,
       "min_zoom": 1,
       "name": "Esri.WorldImagery",
       "options": [
        "attribution",
        "bounds",
        "detect_retina",
        "max_native_zoom",
        "max_zoom",
        "min_native_zoom",
        "min_zoom",
        "no_wrap",
        "tile_size",
        "tms",
        "zoom_offset"
       ],
       "url": "https://server.arcgisonline.com/ArcGIS/rest/services/World_Imagery/MapServer/tile/{z}/{y}/{x}"
      }
     },
     "c5c5b49c57f54460bfea0e31b4dc7c1d": {
      "model_module": "jupyter-leaflet",
      "model_module_version": "^0.17",
      "model_name": "LeafletMapStyleModel",
      "state": {
       "_model_module_version": "^0.17"
      }
     },
     "c9f1bbdb422646e1b65ac14a4a5d59f4": {
      "model_module": "@jupyter-widgets/base",
      "model_module_version": "2.0.0",
      "model_name": "LayoutModel",
      "state": {}
     },
     "de625d711e6f43cea0a23c404bab5580": {
      "model_module": "@jupyter-widgets/controls",
      "model_module_version": "2.0.0",
      "model_name": "VBoxModel",
      "state": {
       "children": [
        "IPY_MODEL_88cdb65e192a4b648261c343831030de",
        "IPY_MODEL_4e4ba5e13e0b46d98a87bbbfc20288ee",
        "IPY_MODEL_2d8edd33e80942b7a2d3facfc8e76c5c"
       ],
       "layout": "IPY_MODEL_fa1318adc464447eb41b0929b71e9af3"
      }
     },
     "edd86f43b19442a6b3f8c0a0db9c025a": {
      "model_module": "@jupyter-widgets/base",
      "model_module_version": "2.0.0",
      "model_name": "LayoutModel",
      "state": {
       "width": "50%"
      }
     },
     "fa1318adc464447eb41b0929b71e9af3": {
      "model_module": "@jupyter-widgets/base",
      "model_module_version": "2.0.0",
      "model_name": "LayoutModel",
      "state": {}
     }
    },
    "version_major": 2,
    "version_minor": 0
   }
  }
 },
 "nbformat": 4,
 "nbformat_minor": 4
}
