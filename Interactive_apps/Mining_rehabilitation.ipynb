{
 "cells": [
  {
   "cell_type": "markdown",
   "metadata": {},
   "source": [
    "# Tracking rehabilitation of mines <img align=\"right\" src=\"../Supplementary_data/dea_logo.jpg\">\n",
    "\n",
    "* [**Sign up to the DEA Sandbox**](https://docs.dea.ga.gov.au/setup/sandbox.html) to run this notebook interactively from a browser\n",
    "* **Compatibility:** Notebook currently compatible with both the `NCI` and `DEA Sandbox` environments\n",
    "* **Products used:** \n",
    "[ga_ls_fc_3](https://explorer.sandbox.dea.ga.gov.au/ga_ls_fc_3), \n",
    "[ga_ls_wo_3](https://explorer.sandbox.dea.ga.gov.au/ga_ls_wo_3)"
   ]
  },
  {
   "cell_type": "markdown",
   "metadata": {},
   "source": [
    "## Background\n",
    "Land rehabilitation is an important aspect of responsible mining.\n",
    "For example, The Department of Mines, Industry Regulation and Safety (DMIRS) maintain a Mining Rehabilitation Fund (MRF) that Western Australian mining operators contribute to.\n",
    "The fund is used to rehabilitate abandoned and legacy mines, and is underpinned by the Mining Rehabilitation Fund Act 2012.\n",
    "As part of the fund, tenement holders report ground disturbance, which can help DMIRS monitor how a mine's rehabilitation is going, as well as major disurbance events related to mining activity. \n",
    "\n",
    "At the moment, most mining organisations only review disturbance annually, often contracting out the service to third party surveying and ecological consulting agencies.\n",
    "While these providers generally provide excellent information, there are two main issues:\n",
    "\n",
    "*  Annual visits give a very coarse view of how the mine is changing in time.\n",
    "*  There is no way to validate or sanity check consultants reports without a site visit.\n",
    "\n",
    "### Digital Earth Australia use case\n",
    "Rehabilitation and land disturbance can be monitored through satellite data by tracking the amount of vegetation and bare ground on the site compared with surrounding areas.\n",
    "A decrease in bare ground and increase in vegetation can be linked to positive rehabilitation.\n",
    "A slow increase or sharp spike in the amount of bare ground over a mining site may indicate increased disturbance, which is against the trend expected during rehabilitation efforts.\n",
    "This tracking can be achieved using the Fractional Cover data product from the Joint Remote Sensing Research Program, which is provided through DEA.\n",
    "\n",
    "Fractional Cover is derived from Landsat data, which has a revisit time of around two weeks for Australia, providing regular insight to a given mine's rehabilitation.\n",
    "This would allow companies to identify any disturbance events early in the year and take corrective action before the yearly reporting.\n",
    "It would also allow DMIRS to keep detailed records of how the mines they monitor are changing in time.\n",
    "\n",
    "Fractional Cover can also be used to validate the field reporting from surveying and ecological consultants before submitting reports.\n",
    "While reports from field surveys will provide more detail than most Earth Observation data products, such products provide the ability to provide context and validation of reports.\n",
    "For example, if the survey detects a disturbance, it may be hard to detect a reason.\n",
    "Fractional Cover can be used to identify the point in time, and possibly the cause of each disturbance event.\n",
    "\n",
    "### Description\n",
    "In this example, the [DEA Fractional Cover](../DEA_datasets/DEA_Fractional_Cover.ipynb) product is used to assess how land cover (specifically bare soil, green vegetation and non-green vegetation) is changing over time.\n",
    "\n",
    "The worked example below takes users through the code required to\n",
    "\n",
    "*  Create a time series data cube over a mine site.\n",
    "*  Create graphs to identify rehabilitation trends and disturbance events.\n",
    "*  Interpret the results.\n",
    "\n",
    "***"
   ]
  },
  {
   "cell_type": "markdown",
   "metadata": {},
   "source": [
    "## Getting started\n",
    "\n",
    "**To run this analysis**, run all the cells in the notebook, starting with the \"Load packages and apps\" cell."
   ]
  },
  {
   "cell_type": "markdown",
   "metadata": {},
   "source": [
    "### Load packages and apps\n",
    "\n",
    "This notebook works via two functions, which are referred to as apps: `load_miningrehab_data` and `run_miningrehab_app`.\n",
    "The apps allow the majority of the analysis code to be stored in another file, making the notebook easy to use and run.\n",
    "To view the code behind the apps, open the [notebookapp_miningrehab.py](../Scripts/notebookapp_miningrehab.py) file."
   ]
  },
  {
   "cell_type": "code",
   "execution_count": 1,
   "metadata": {},
   "outputs": [],
   "source": [
    "%matplotlib inline\n",
    "\n",
    "import datacube\n",
    "\n",
    "import sys\n",
    "sys.path.insert(1, '../Tools/')\n",
    "from dea_tools.app import miningrehab"
   ]
  },
  {
   "cell_type": "markdown",
   "metadata": {},
   "source": [
    "## Load the data\n",
    "The `load_miningrehab_data()` command performs several key steps:\n",
    "\n",
    "* Load [DEA Fractional Cover (FC)](../DEA_datasets/DEA_Fractional_Cover.ipynb) and [DEA Water Observations (WO)](../DEA_datasets/DEA_Water_Observations.ipynb) data for the study area.\n",
    "* Match the datasets to only retain data with the same time stamps.\n",
    "* Mask areas that are classified as water using WOs.\n",
    "* Resample the masked FC to get monthly average values.\n",
    "* Return the masked data for analysis.\n",
    "\n",
    "The masked data is stored in the `dataset_fc` object.\n",
    "As the command runs, feedback will be provided below the cell.\n",
    "\n",
    "**Please be patient**.\n",
    "The load is complete when the cell status goes from `[*]` to `[number]`."
   ]
  },
  {
   "cell_type": "code",
   "execution_count": 2,
   "metadata": {},
   "outputs": [
    {
     "name": "stdout",
     "output_type": "stream",
     "text": [
      "Loading DEA Fractional Cover\n",
      "Loading DEA Water Observations\n"
     ]
    }
   ],
   "source": [
    "dataset_fc = miningrehab.load_miningrehab_data()"
   ]
  },
  {
   "cell_type": "markdown",
   "metadata": {},
   "source": [
    "## Run the mining app\n",
    "The `run_mining_app()` command launches an interactive map.\n",
    "Drawing polygons within the boundary (which represents the area covered by the loaded data) will result in plots of the average bare, green and non-green cover in that area. Draw polygons by clicking the &#11039; symbol in the app.\n",
    "\n",
    "The app works by taking the loaded data `dataset_fc` as an argument. \n",
    "\n",
    "> **Note:** When drawing polygons, draw one over the mine and one over the forest nearby, then the fractional cover values can be compared on the produced plot."
   ]
  },
  {
   "cell_type": "code",
   "execution_count": 3,
   "metadata": {},
   "outputs": [
    {
     "data": {
      "application/vnd.jupyter.widget-view+json": {
       "model_id": "fdd9dbed47bd443e964cb7cec1c3320b",
       "version_major": 2,
       "version_minor": 0
      },
      "text/plain": [
       "VBox(children=(Output(layout=Layout(border='1px solid black')), HBox(children=(Map(center=[-34.4305145, 116.63…"
      ]
     },
     "metadata": {},
     "output_type": "display_data"
    }
   ],
   "source": [
    "miningrehab.run_miningrehab_app(dataset_fc)"
   ]
  },
  {
   "cell_type": "markdown",
   "metadata": {},
   "source": [
    "## Drawing conclusions\n",
    "\n",
    "Here are some questions to think about:\n",
    "\n",
    "* Rehabilitation can be indicated by either a decrease in bare cover, or an increase in either green or non-green cover. \n",
    "Can you find any evidence that rehabilitation is occurring?\n",
    "* What differences are there between polygons drawn over the mine site and those drawn over the forest? What similarities are there?"
   ]
  },
  {
   "cell_type": "markdown",
   "metadata": {},
   "source": [
    "***\n",
    "\n",
    "## Additional information\n",
    "\n",
    "**License:** The code in this notebook is licensed under the [Apache License, Version 2.0](https://www.apache.org/licenses/LICENSE-2.0). \n",
    "Digital Earth Australia data is licensed under the [Creative Commons by Attribution 4.0](https://creativecommons.org/licenses/by/4.0/) license.\n",
    "\n",
    "**Contact:** If you need assistance, please post a question on the [Open Data Cube Slack channel](http://slack.opendatacube.org/) or on the [GIS Stack Exchange](https://gis.stackexchange.com/questions/ask?tags=open-data-cube) using the `open-data-cube` tag (you can view previously asked questions [here](https://gis.stackexchange.com/questions/tagged/open-data-cube)).\n",
    "If you would like to report an issue with this notebook, you can file one on [Github](https://github.com/GeoscienceAustralia/dea-notebooks).\n",
    "\n",
    "**Last modified:** January 2022\n",
    "\n",
    "**Compatible datacube version:**"
   ]
  },
  {
   "cell_type": "code",
   "execution_count": 4,
   "metadata": {},
   "outputs": [
    {
     "name": "stdout",
     "output_type": "stream",
     "text": [
      "1.8.6\n"
     ]
    }
   ],
   "source": [
    "print(datacube.__version__)"
   ]
  },
  {
   "cell_type": "markdown",
   "metadata": {},
   "source": [
    "## Tags\n",
    "Browse all available tags on the DEA User Guide's [Tags Index](https://docs.dea.ga.gov.au/genindex.html)"
   ]
  },
  {
   "cell_type": "raw",
   "metadata": {
    "raw_mimetype": "text/restructuredtext"
   },
   "source": [
    "**Tags**: :index:`sandbox compatible`, :index:`NCI compatible`, :index:``, :index:`fractional cover`, :index:`water observations`, :index:`real world`, :index:`mining`, :index:`time series`, :index:`interactive`, :index:`widgets`, :index:`no_testing`"
   ]
  }
 ],
 "metadata": {
  "kernelspec": {
   "display_name": "Python 3 (ipykernel)",
   "language": "python",
   "name": "python3"
  },
  "language_info": {
   "codemirror_mode": {
    "name": "ipython",
    "version": 3
   },
   "file_extension": ".py",
   "mimetype": "text/x-python",
   "name": "python",
   "nbconvert_exporter": "python",
   "pygments_lexer": "ipython3",
   "version": "3.8.10"
  },
  "widgets": {
   "application/vnd.jupyter.widget-state+json": {
    "state": {
     "000c82f8b376437e87adc11c0893d193": {
      "model_module": "jupyter-leaflet",
      "model_module_version": "^0.14.0",
      "model_name": "LeafletMapStyleModel",
      "state": {
       "_model_module_version": "^0.14.0"
      }
     },
     "01e49692103c4f9da947489463c3f0ef": {
      "model_module": "jupyter-leaflet",
      "model_module_version": "^0.14.0",
      "model_name": "LeafletMapStyleModel",
      "state": {
       "_model_module_version": "^0.14.0"
      }
     },
     "02cd26b70cd24e899d536e76ec6dfb58": {
      "model_module": "@jupyter-widgets/base",
      "model_module_version": "1.2.0",
      "model_name": "LayoutModel",
      "state": {}
     },
     "234a39f751ec4ae59dd251b7d73a4d24": {
      "model_module": "@jupyter-widgets/output",
      "model_module_version": "1.0.0",
      "model_name": "OutputModel",
      "state": {
       "layout": "IPY_MODEL_dbc227f668884db6ae78c5bd787a437a",
       "outputs": [
        {
         "data": {
          "image/png": "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\n",
          "text/plain": "<Figure size 648x648 with 3 Axes>"
         },
         "metadata": {},
         "output_type": "display_data"
        }
       ]
      }
     },
     "287f521c070d48a9af15a0afec75ac07": {
      "model_module": "@jupyter-widgets/base",
      "model_module_version": "1.2.0",
      "model_name": "LayoutModel",
      "state": {
       "border": "1px solid black"
      }
     },
     "3084c40a02b44c379de30c514d5f4ce9": {
      "model_module": "@jupyter-widgets/base",
      "model_module_version": "1.2.0",
      "model_name": "LayoutModel",
      "state": {
       "border": "1px solid black"
      }
     },
     "444b1e3335f441e78f02befdec4308a2": {
      "model_module": "jupyter-leaflet",
      "model_module_version": "^0.14.0",
      "model_name": "LeafletZoomControlModel",
      "state": {
       "_model_module_version": "^0.14.0",
       "_view_module_version": "^0.14.0",
       "options": [
        "position",
        "zoom_in_text",
        "zoom_in_title",
        "zoom_out_text",
        "zoom_out_title"
       ]
      }
     },
     "485a2869558b44dd9cced131c50e7d26": {
      "model_module": "@jupyter-widgets/output",
      "model_module_version": "1.0.0",
      "model_name": "OutputModel",
      "state": {
       "layout": "IPY_MODEL_3084c40a02b44c379de30c514d5f4ce9",
       "outputs": [
        {
         "name": "stdout",
         "output_type": "stream",
         "text": "Draw a polygon within the red box to view plots of the fractional cover values of bare, green and non-green cover for the area over time.\n"
        }
       ]
      }
     },
     "4ad81510013144998869413eaf015376": {
      "model_module": "@jupyter-widgets/base",
      "model_module_version": "1.2.0",
      "model_name": "LayoutModel",
      "state": {}
     },
     "5213b11b34a64edc847123a7050f0cf6": {
      "model_module": "@jupyter-widgets/controls",
      "model_module_version": "1.5.0",
      "model_name": "HTMLModel",
      "state": {
       "layout": "IPY_MODEL_8a891f08d54b4e298c7b8fd14b2740d3",
       "style": "IPY_MODEL_528533d86ea84c3890bcbaa695d5e6a1"
      }
     },
     "528533d86ea84c3890bcbaa695d5e6a1": {
      "model_module": "@jupyter-widgets/controls",
      "model_module_version": "1.5.0",
      "model_name": "DescriptionStyleModel",
      "state": {
       "description_width": ""
      }
     },
     "5da32805795341c1b52d8cc717df65da": {
      "model_module": "jupyter-leaflet",
      "model_module_version": "^0.14.0",
      "model_name": "LeafletMapModel",
      "state": {
       "_model_module_version": "^0.14.0",
       "_view_module_version": "^0.14.0",
       "bottom": 5050055,
       "center": [
        -34.4305145,
        116.639427
       ],
       "controls": [
        "IPY_MODEL_444b1e3335f441e78f02befdec4308a2",
        "IPY_MODEL_ebe72bf850214345ace66acd48539403",
        "IPY_MODEL_9058f626b74c4e50a67ee6b1e021b2c1"
       ],
       "default_style": "IPY_MODEL_000c82f8b376437e87adc11c0893d193",
       "dragging_style": "IPY_MODEL_a33e832df0ee4d21b5cdad02a7d41c52",
       "east": 116.65407657623292,
       "fullscreen": false,
       "interpolation": "bilinear",
       "layers": [
        "IPY_MODEL_fa6e33d149ae458aacb12b911840eb2a",
        "IPY_MODEL_b588c5e75b5c47468c0ba2cc7a553bb8",
        "IPY_MODEL_8f1045e52d2644afad57e45c4ceb7d3b",
        "IPY_MODEL_99196ee2923a430d9fb4ade73792e2f5",
        "IPY_MODEL_99329eb12c214bd5941ebb51d2d5c643"
       ],
       "layout": "IPY_MODEL_e34cac97b65a46a9810083c9d147b01f",
       "left": 6911858,
       "modisdate": "yesterday",
       "north": -34.41990305500894,
       "options": [
        "bounce_at_zoom_limits",
        "box_zoom",
        "center",
        "close_popup_on_click",
        "double_click_zoom",
        "dragging",
        "fullscreen",
        "inertia",
        "inertia_deceleration",
        "inertia_max_speed",
        "interpolation",
        "keyboard",
        "keyboard_pan_offset",
        "keyboard_zoom_offset",
        "max_zoom",
        "min_zoom",
        "scroll_wheel_zoom",
        "tap",
        "tap_tolerance",
        "touch_zoom",
        "world_copy_jump",
        "zoom",
        "zoom_animation_threshold",
        "zoom_delta",
        "zoom_snap",
        "zoom_start"
       ],
       "right": 6912541,
       "south": -34.44114132003539,
       "style": "IPY_MODEL_000c82f8b376437e87adc11c0893d193",
       "top": 5049455,
       "west": 116.62476539611818,
       "window_url": "https://app.sandbox.dea.ga.gov.au/user/robbibt/lab/tree/Robbi/dea-notebooks/Real_world_examples/Mining_rehabilitation.ipynb",
       "zoom": 15
      }
     },
     "8a891f08d54b4e298c7b8fd14b2740d3": {
      "model_module": "@jupyter-widgets/base",
      "model_module_version": "1.2.0",
      "model_name": "LayoutModel",
      "state": {}
     },
     "8f1045e52d2644afad57e45c4ceb7d3b": {
      "model_module": "jupyter-leaflet",
      "model_module_version": "^0.14.0",
      "model_name": "LeafletGeoJSONModel",
      "state": {
       "_model_module": "jupyter-leaflet",
       "_model_module_version": "^0.14.0",
       "_view_count": null,
       "_view_module": "jupyter-leaflet",
       "_view_module_version": "^0.14.0",
       "base": false,
       "bottom": false,
       "data": {
        "geometry": {
         "coordinates": [
          [
           [
            116.639056,
            -34.432593
           ],
           [
            116.640387,
            -34.431744
           ],
           [
            116.641974,
            -34.431106
           ],
           [
            116.642489,
            -34.42969
           ],
           [
            116.641932,
            -34.428629
           ],
           [
            116.638927,
            -34.428629
           ],
           [
            116.637125,
            -34.428912
           ],
           [
            116.636825,
            -34.429903
           ],
           [
            116.637683,
            -34.430398
           ],
           [
            116.63764,
            -34.43146
           ],
           [
            116.637897,
            -34.432239
           ],
           [
            116.639056,
            -34.432593
           ]
          ]
         ],
         "type": "Polygon"
        },
        "properties": {
         "style": {
          "clickable": true,
          "color": "#1f77b4",
          "fill": true,
          "fillColor": null,
          "fillOpacity": 0,
          "opacity": 1,
          "stroke": true,
          "weight": 4.5
         }
        },
        "type": "Feature"
       },
       "name": "",
       "options": [],
       "popup": null,
       "popup_max_height": null,
       "popup_max_width": 300,
       "popup_min_width": 50,
       "style": {
        "color": "#1f77b4",
        "fillOpacity": 0,
        "opacity": 1,
        "weight": 4.5
       }
      }
     },
     "9058f626b74c4e50a67ee6b1e021b2c1": {
      "model_module": "jupyter-leaflet",
      "model_module_version": "^0.14.0",
      "model_name": "LeafletDrawControlModel",
      "state": {
       "_model_module_version": "^0.14.0",
       "_view_module_version": "^0.14.0",
       "data": [
        {
         "geometry": {
          "coordinates": [
           [
            [
             116.639056,
             -34.432593
            ],
            [
             116.640387,
             -34.431744
            ],
            [
             116.641974,
             -34.431106
            ],
            [
             116.642489,
             -34.42969
            ],
            [
             116.641932,
             -34.428629
            ],
            [
             116.638927,
             -34.428629
            ],
            [
             116.637125,
             -34.428912
            ],
            [
             116.636825,
             -34.429903
            ],
            [
             116.637683,
             -34.430398
            ],
            [
             116.63764,
             -34.43146
            ],
            [
             116.637897,
             -34.432239
            ],
            [
             116.639056,
             -34.432593
            ]
           ]
          ],
          "type": "Polygon"
         },
         "properties": {
          "style": {
           "attribution": null,
           "bubblingMouseEvents": true,
           "clickable": true,
           "color": "#3388ff",
           "dashArray": null,
           "dashOffset": null,
           "fill": true,
           "fillColor": null,
           "fillOpacity": 0,
           "fillRule": "evenodd",
           "interactive": true,
           "lineCap": "round",
           "lineJoin": "round",
           "noClip": false,
           "opacity": 0.5,
           "pane": "overlayPane",
           "smoothFactor": 1,
           "stroke": true,
           "weight": 4
          }
         },
         "type": "Feature"
        },
        {
         "geometry": {
          "coordinates": [
           [
            [
             116.633048,
             -34.431248
            ],
            [
             116.635709,
             -34.431177
            ],
            [
             116.635365,
             -34.427956
            ],
            [
             116.632748,
             -34.427956
            ],
            [
             116.633048,
             -34.431248
            ]
           ]
          ],
          "type": "Polygon"
         },
         "properties": {
          "style": {
           "attribution": null,
           "bubblingMouseEvents": true,
           "clickable": true,
           "color": "#3388ff",
           "dashArray": null,
           "dashOffset": null,
           "fill": true,
           "fillColor": null,
           "fillOpacity": 0,
           "fillRule": "evenodd",
           "interactive": true,
           "lineCap": "round",
           "lineJoin": "round",
           "noClip": false,
           "opacity": 0.5,
           "pane": "overlayPane",
           "smoothFactor": 1,
           "stroke": true,
           "weight": 4
          }
         },
         "type": "Feature"
        },
        {
         "geometry": {
          "coordinates": [
           [
            [
             116.643605,
             -34.43323
            ],
            [
             116.646051,
             -34.431354
            ],
            [
             116.647382,
             -34.432416
            ],
            [
             116.645408,
             -34.433903
            ],
            [
             116.643605,
             -34.43323
            ]
           ]
          ],
          "type": "Polygon"
         },
         "properties": {
          "style": {
           "clickable": true,
           "color": "#3388ff",
           "fill": true,
           "fillColor": null,
           "fillOpacity": 0,
           "opacity": 0.5,
           "stroke": true,
           "weight": 4
          }
         },
         "type": "Feature"
        }
       ],
       "options": [
        "position"
       ],
       "polygon": {
        "shapeOptions": {
         "fillOpacity": 0
        }
       },
       "polyline": {}
      }
     },
     "9079ad274ecf4effb0fd66f92bc58e7e": {
      "model_module": "@jupyter-widgets/controls",
      "model_module_version": "1.5.0",
      "model_name": "HBoxModel",
      "state": {
       "children": [
        "IPY_MODEL_5da32805795341c1b52d8cc717df65da",
        "IPY_MODEL_234a39f751ec4ae59dd251b7d73a4d24"
       ],
       "layout": "IPY_MODEL_02cd26b70cd24e899d536e76ec6dfb58"
      }
     },
     "99196ee2923a430d9fb4ade73792e2f5": {
      "model_module": "jupyter-leaflet",
      "model_module_version": "^0.14.0",
      "model_name": "LeafletGeoJSONModel",
      "state": {
       "_model_module": "jupyter-leaflet",
       "_model_module_version": "^0.14.0",
       "_view_count": null,
       "_view_module": "jupyter-leaflet",
       "_view_module_version": "^0.14.0",
       "base": false,
       "bottom": false,
       "data": {
        "geometry": {
         "coordinates": [
          [
           [
            116.633048,
            -34.431248
           ],
           [
            116.635709,
            -34.431177
           ],
           [
            116.635365,
            -34.427956
           ],
           [
            116.632748,
            -34.427956
           ],
           [
            116.633048,
            -34.431248
           ]
          ]
         ],
         "type": "Polygon"
        },
        "properties": {
         "style": {
          "clickable": true,
          "color": "#ff7f0e",
          "fill": true,
          "fillColor": null,
          "fillOpacity": 0,
          "opacity": 1,
          "stroke": true,
          "weight": 4.5
         }
        },
        "type": "Feature"
       },
       "name": "",
       "options": [],
       "popup": null,
       "popup_max_height": null,
       "popup_max_width": 300,
       "popup_min_width": 50,
       "style": {
        "color": "#ff7f0e",
        "fillOpacity": 0,
        "opacity": 1,
        "weight": 4.5
       }
      }
     },
     "99329eb12c214bd5941ebb51d2d5c643": {
      "model_module": "jupyter-leaflet",
      "model_module_version": "^0.14.0",
      "model_name": "LeafletGeoJSONModel",
      "state": {
       "_model_module": "jupyter-leaflet",
       "_model_module_version": "^0.14.0",
       "_view_count": null,
       "_view_module": "jupyter-leaflet",
       "_view_module_version": "^0.14.0",
       "base": false,
       "bottom": false,
       "data": {
        "geometry": {
         "coordinates": [
          [
           [
            116.643605,
            -34.43323
           ],
           [
            116.646051,
            -34.431354
           ],
           [
            116.647382,
            -34.432416
           ],
           [
            116.645408,
            -34.433903
           ],
           [
            116.643605,
            -34.43323
           ]
          ]
         ],
         "type": "Polygon"
        },
        "properties": {
         "style": {
          "clickable": true,
          "color": "#2ca02c",
          "fill": true,
          "fillColor": null,
          "fillOpacity": 0,
          "opacity": 1,
          "stroke": true,
          "weight": 4.5
         }
        },
        "type": "Feature"
       },
       "name": "",
       "options": [],
       "popup": null,
       "popup_max_height": null,
       "popup_max_width": 300,
       "popup_min_width": 50,
       "style": {
        "color": "#2ca02c",
        "fillOpacity": 0,
        "opacity": 1,
        "weight": 4.5
       }
      }
     },
     "9c8b5481024348228adeb03f59e90b81": {
      "model_module": "@jupyter-widgets/output",
      "model_module_version": "1.0.0",
      "model_name": "OutputModel",
      "state": {
       "layout": "IPY_MODEL_287f521c070d48a9af15a0afec75ac07",
       "outputs": [
        {
         "name": "stdout",
         "output_type": "stream",
         "text": "Plot status: polygon added to plot\n"
        }
       ]
      }
     },
     "a33e832df0ee4d21b5cdad02a7d41c52": {
      "model_module": "jupyter-leaflet",
      "model_module_version": "^0.14.0",
      "model_name": "LeafletMapStyleModel",
      "state": {
       "_model_module_version": "^0.14.0",
       "cursor": "move"
      }
     },
     "b588c5e75b5c47468c0ba2cc7a553bb8": {
      "model_module": "jupyter-leaflet",
      "model_module_version": "^0.14.0",
      "model_name": "LeafletGeoJSONModel",
      "state": {
       "_model_module": "jupyter-leaflet",
       "_model_module_version": "^0.14.0",
       "_view_count": null,
       "_view_module": "jupyter-leaflet",
       "_view_module_version": "^0.14.0",
       "base": false,
       "bottom": false,
       "data": {
        "geometry": {
         "coordinates": [
          [
           [
            116.630731,
            -34.434517
           ],
           [
            116.630731,
            -34.426512
           ],
           [
            116.648123,
            -34.426512
           ],
           [
            116.648123,
            -34.434517
           ],
           [
            116.630731,
            -34.434517
           ]
          ]
         ],
         "type": "Polygon"
        },
        "properties": {
         "style": {
          "clickable": true,
          "color": "red",
          "fill": true,
          "fillColor": false,
          "fillOpacity": 0,
          "opacity": 0.8,
          "showArea": true,
          "stroke": true,
          "weight": 4
         }
        },
        "type": "Feature"
       },
       "name": "",
       "options": [],
       "popup": null,
       "popup_max_height": null,
       "popup_max_width": 300,
       "popup_min_width": 50
      }
     },
     "dbc227f668884db6ae78c5bd787a437a": {
      "model_module": "@jupyter-widgets/base",
      "model_module_version": "1.2.0",
      "model_name": "LayoutModel",
      "state": {
       "width": "50%"
      }
     },
     "e34cac97b65a46a9810083c9d147b01f": {
      "model_module": "@jupyter-widgets/base",
      "model_module_version": "1.2.0",
      "model_name": "LayoutModel",
      "state": {
       "height": "600px",
       "width": "480px"
      }
     },
     "ebe72bf850214345ace66acd48539403": {
      "model_module": "jupyter-leaflet",
      "model_module_version": "^0.14.0",
      "model_name": "LeafletAttributionControlModel",
      "state": {
       "_model_module_version": "^0.14.0",
       "_view_module_version": "^0.14.0",
       "options": [
        "position",
        "prefix"
       ],
       "position": "bottomright",
       "prefix": "ipyleaflet"
      }
     },
     "fa6e33d149ae458aacb12b911840eb2a": {
      "model_module": "jupyter-leaflet",
      "model_module_version": "^0.14.0",
      "model_name": "LeafletTileLayerModel",
      "state": {
       "_model_module_version": "^0.14.0",
       "_view_module_version": "^0.14.0",
       "attribution": "Tiles &copy; Esri &mdash; Source: Esri, i-cubed, USDA, USGS, AEX, GeoEye, Getmapping, Aerogrid, IGN, IGP, UPR-EGP, and the GIS User Community",
       "base": true,
       "max_native_zoom": 18,
       "max_zoom": 20,
       "min_native_zoom": 0,
       "min_zoom": 1,
       "name": "Esri.WorldImagery",
       "options": [
        "attribution",
        "detect_retina",
        "max_native_zoom",
        "max_zoom",
        "min_native_zoom",
        "min_zoom",
        "no_wrap",
        "tile_size",
        "tms"
       ],
       "url": "http://server.arcgisonline.com/ArcGIS/rest/services/World_Imagery/MapServer/tile/{z}/{y}/{x}"
      }
     },
     "fdd9dbed47bd443e964cb7cec1c3320b": {
      "model_module": "@jupyter-widgets/controls",
      "model_module_version": "1.5.0",
      "model_name": "VBoxModel",
      "state": {
       "children": [
        "IPY_MODEL_485a2869558b44dd9cced131c50e7d26",
        "IPY_MODEL_9079ad274ecf4effb0fd66f92bc58e7e",
        "IPY_MODEL_9c8b5481024348228adeb03f59e90b81"
       ],
       "layout": "IPY_MODEL_4ad81510013144998869413eaf015376"
      }
     }
    },
    "version_major": 2,
    "version_minor": 0
   }
  }
 },
 "nbformat": 4,
 "nbformat_minor": 4
}
