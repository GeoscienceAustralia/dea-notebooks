{
 "cells": [
  {
   "cell_type": "markdown",
   "metadata": {},
   "source": [
    "# Measuring crop health <img align=\"right\" src=\"../Supplementary_data/dea_logo.jpg\">\n",
    "\n",
    "* [**Sign up to the DEA Sandbox**](https://docs.dea.ga.gov.au/setup/sandbox.html) to run this notebook interactively from a browser\n",
    "* **Compatibility:** Notebook currently compatible with both the `NCI` and `DEA Sandbox` environments\n",
    "* **Products used:** \n",
    "[ga_s2am_ard_3](https://explorer.sandbox.dea.ga.gov.au/ga_s2am_ard_3), \n",
    "[ga_s2bm_ard_3](https://explorer.sandbox.dea.ga.gov.au/ga_s2bm_ard_3)"
   ]
  },
  {
   "cell_type": "markdown",
   "metadata": {},
   "source": [
    "## Background\n",
    "During a normal year, sugar cane in Queensland typically flowers early May through June; July to November is typically cane harvesting season.\n",
    "\n",
    "While sugar is growing, fields may look visually similar.\n",
    "However, health or growth rates from these fields can be quite different, leading to variability and unpredictability in revenue.\n",
    "Identifying underperforming crops can have two benefits:\n",
    "\n",
    "* Ability to scout for frost or disease damage.\n",
    "* Ability to investigate poor performing paddocks and undertake management action such as soil testing or targeted fertilising to improve yield.\n",
    "\n",
    "### Sentinel-2 use case\n",
    "Satellite imagery can be used to measure pasture health over time and identify any changes in growth patterns between otherwise similar paddocks.\n",
    "Sentinel-2's 10 metre resolution makes it ideal for understanding the health of paddocks.\n",
    "\n",
    "The Normalised Difference Vegetation Index (NDVI) describes the difference between visible and near-infrared reflectance of vegetation cover.\n",
    "This index estimates the density of green on an area of land and can be used to track the health and growth of sugar as it matures.\n",
    "Comparing the NDVI of two similar paddocks will help to identify any anomalies in growth patterns. \n",
    "\n",
    "## Description\n",
    "In this example, data from the European Sentinel-2 satellites is used to assess crop growing patterns for the last year.\n",
    "This data is made available through the Copernicus Regional Data Hub and Digital Earth Australia within 1-2 days of capture.\n",
    "The worked example below takes users through the code required to:\n",
    "\n",
    "1. Create a time series data cube over a farming property.\n",
    "2. Select multiple paddocks for comparison.\n",
    "3. Create graphs to identify crop performance trends over the last year.\n",
    "4. Interpret the results.\n",
    "\n",
    "***"
   ]
  },
  {
   "cell_type": "markdown",
   "metadata": {},
   "source": [
    "## Getting started\n",
    "\n",
    "**To run this analysis**, run all the cells in the notebook, starting with the \"Load packages and apps\" cell."
   ]
  },
  {
   "cell_type": "markdown",
   "metadata": {},
   "source": [
    "### Load packages and apps\n",
    "\n",
    "This notebook works via two functions, which are referred to as apps: `load_crophealth_data` and `run_crophealth_app`.\n",
    "The apps allow the majority of the analysis code to be stored in another file, making the notebook easy to use and run.\n",
    "To view the code behind the apps, open the [notebookapp_crophealth.py](../Supplementary_data/notebookapp_crophealth.py) file."
   ]
  },
  {
   "cell_type": "code",
   "execution_count": 1,
   "metadata": {
    "tags": []
   },
   "outputs": [],
   "source": [
    "%matplotlib inline\n",
    "\n",
    "import datacube\n",
    "\n",
    "import sys\n",
    "sys.path.insert(1, '../Tools/')\n",
    "from dea_tools.app import crophealth\n"
   ]
  },
  {
   "cell_type": "markdown",
   "metadata": {},
   "source": [
    "## Load the data\n",
    "The `load_crophealth_data()` command performs several key steps:\n",
    "\n",
    "* identify all available Sentinel-2 near real time data in the case-study area over the last year\n",
    "* remove any bad quality pixels\n",
    "* keep images where more than half of the image contains good quality pixels\n",
    "* collate images from Sentinel-2A and Sentinel-2B into a single data-set\n",
    "* calculate the NDVI from the red and near infrared bands\n",
    "* return the collated data for analysis\n",
    "\n",
    "The cleaned and collated data is stored in the `dataset_sentinel2` object.\n",
    "As the command runs, feedback will be provided below the cell, including information on the number of cleaned images loaded from each satellite.\n",
    "\n",
    "**Please be patient**.\n",
    "The load is complete when the cell status goes from `[*]` to `[number]`."
   ]
  },
  {
   "cell_type": "code",
   "execution_count": 2,
   "metadata": {
    "tags": []
   },
   "outputs": [
    {
     "name": "stdout",
     "output_type": "stream",
     "text": [
      "Finding datasets\n",
      "    ga_s2am_ard_3\n",
      "    ga_s2bm_ard_3\n",
      "Counting good quality pixels for each time step using fmask\n",
      "Filtering to 45 out of 71 time steps with at least 50.0% good quality pixels\n",
      "Applying fmask pixel quality/cloud mask\n",
      "Loading 45 time steps\n"
     ]
    }
   ],
   "source": [
    "dataset_sentinel2 = crophealth.load_crophealth_data()"
   ]
  },
  {
   "cell_type": "markdown",
   "metadata": {
    "tags": []
   },
   "source": [
    "## Run the crop health app\n",
    "The `run_crophealth_app()` command launches an interactive map.\n",
    "Drawing polygons within the boundary (which represents the area covered by the loaded data) will result in plots of the average NDVI in that area.\n",
    "Draw polygons by clicking the &#11039; symbol in the app.\n",
    "\n",
    "The app works by taking the loaded data `dataset_sentinel2` as an argument.\n",
    "\n",
    "> **Note:** data points will only appear for images where more than 50% of the pixels were classified as good quality. This may cause trend lines on the average NDVI plot to appear disconnected. Available data points will be marked with the `*` symbol."
   ]
  },
  {
   "cell_type": "code",
   "execution_count": 3,
   "metadata": {
    "tags": []
   },
   "outputs": [
    {
     "data": {
      "application/vnd.jupyter.widget-view+json": {
       "model_id": "0b09a9b6a2a744e08693c90277bcb536",
       "version_major": 2,
       "version_minor": 0
      },
      "text/plain": [
       "VBox(children=(Output(layout=Layout(border_bottom='1px solid black', border_left='1px solid black', border_rig…"
      ]
     },
     "metadata": {},
     "output_type": "display_data"
    }
   ],
   "source": [
    "crophealth.run_crophealth_app(dataset_sentinel2)"
   ]
  },
  {
   "cell_type": "markdown",
   "metadata": {},
   "source": [
    "## Drawing conclusions\n",
    "\n",
    "Here are some questions to think about:\n",
    "\n",
    "* What are some factors that might explain differences between fields?\n",
    "* From the NDVI value, can you tell when fields were harvested?"
   ]
  },
  {
   "cell_type": "markdown",
   "metadata": {},
   "source": [
    "***\n",
    "\n",
    "## Additional information\n",
    "\n",
    "**License:** The code in this notebook is licensed under the [Apache License, Version 2.0](https://www.apache.org/licenses/LICENSE-2.0). \n",
    "Digital Earth Australia data is licensed under the [Creative Commons by Attribution 4.0](https://creativecommons.org/licenses/by/4.0/) license.\n",
    "\n",
    "**Contact:** If you need assistance, please post a question on the [Open Data Cube Slack channel](http://slack.opendatacube.org/) or on the [GIS Stack Exchange](https://gis.stackexchange.com/questions/ask?tags=open-data-cube) using the `open-data-cube` tag (you can view previously asked questions [here](https://gis.stackexchange.com/questions/tagged/open-data-cube)).\n",
    "If you would like to report an issue with this notebook, you can file one on [Github](https://github.com/GeoscienceAustralia/dea-notebooks).\n",
    "\n",
    "**Last modified:** January 2022\n",
    "\n",
    "**Compatible datacube version:**"
   ]
  },
  {
   "cell_type": "code",
   "execution_count": 4,
   "metadata": {},
   "outputs": [
    {
     "name": "stdout",
     "output_type": "stream",
     "text": [
      "1.8.15\n"
     ]
    }
   ],
   "source": [
    "print(datacube.__version__)"
   ]
  },
  {
   "cell_type": "markdown",
   "metadata": {},
   "source": [
    "## Tags\n",
    "Browse all available tags on the DEA User Guide's [Tags Index](https://docs.dea.ga.gov.au/genindex.html)"
   ]
  },
  {
   "cell_type": "raw",
   "metadata": {
    "raw_mimetype": "text/restructuredtext"
   },
   "source": [
    "**Tags**: :index:`sandbox compatible`, :index:`NCI compatible`, :index:`sentinel 2`, :index:`NDVI`, :index:`real world`, :index:`agriculture`, :index:`time series`, :index:`interactive`, :index:`widgets`, :index:`no_testing`"
   ]
  }
 ],
 "metadata": {
  "kernelspec": {
   "display_name": "Python 3 (ipykernel)",
   "language": "python",
   "name": "python3"
  },
  "language_info": {
   "codemirror_mode": {
    "name": "ipython",
    "version": 3
   },
   "file_extension": ".py",
   "mimetype": "text/x-python",
   "name": "python",
   "nbconvert_exporter": "python",
   "pygments_lexer": "ipython3",
   "version": "3.10.8"
  },
  "widgets": {
   "application/vnd.jupyter.widget-state+json": {
    "state": {
     "00215fc17633443e810958e86cb00f04": {
      "model_module": "jupyter-leaflet",
      "model_module_version": "^0.17",
      "model_name": "LeafletAttributionControlModel",
      "state": {
       "_model_module_version": "^0.17",
       "_view_module_version": "^0.17",
       "options": [
        "position",
        "prefix"
       ],
       "position": "bottomright",
       "prefix": "ipyleaflet"
      }
     },
     "0225530306994e299493c2fc81069c34": {
      "model_module": "@jupyter-widgets/controls",
      "model_module_version": "2.0.0",
      "model_name": "HBoxModel",
      "state": {
       "children": [
        "IPY_MODEL_cd522ee9c38949378d4526f404282d31",
        "IPY_MODEL_264a26467617400d8b29b1ae7b9de9ea"
       ],
       "layout": "IPY_MODEL_949d9ca37a28456b881bb7605c46746e"
      }
     },
     "08888a47a3444eac80dd17803dd4a2cf": {
      "model_module": "jupyter-leaflet",
      "model_module_version": "^0.17",
      "model_name": "LeafletMapStyleModel",
      "state": {
       "_model_module_version": "^0.17"
      }
     },
     "0b09a9b6a2a744e08693c90277bcb536": {
      "model_module": "@jupyter-widgets/controls",
      "model_module_version": "2.0.0",
      "model_name": "VBoxModel",
      "state": {
       "children": [
        "IPY_MODEL_895352a16c0f4fe983479c9b4d46b948",
        "IPY_MODEL_0225530306994e299493c2fc81069c34",
        "IPY_MODEL_f5a2a4bad5724d7981a3252a474cac68"
       ],
       "layout": "IPY_MODEL_6fe3a776152a44898fa2dacd58028e11"
      }
     },
     "17aa8cc8fea84a0689977785a3ced35f": {
      "model_module": "@jupyter-widgets/base",
      "model_module_version": "2.0.0",
      "model_name": "LayoutModel",
      "state": {
       "border_bottom": "1px solid black",
       "border_left": "1px solid black",
       "border_right": "1px solid black",
       "border_top": "1px solid black"
      }
     },
     "264a26467617400d8b29b1ae7b9de9ea": {
      "model_module": "@jupyter-widgets/output",
      "model_module_version": "1.0.0",
      "model_name": "OutputModel",
      "state": {
       "layout": "IPY_MODEL_b4cdf8c3926f446caee183f8ba819ab5",
       "outputs": [
        {
         "data": {
          "application/vnd.jupyter.widget-view+json": {
           "model_id": "dfcf1fe58558467999702defed34161a",
           "version_major": 2,
           "version_minor": 0
          },
          "text/plain": "HTML(value='')"
         },
         "metadata": {},
         "output_type": "display_data"
        }
       ]
      }
     },
     "28e3265afc434876bdb150f85df6cb65": {
      "model_module": "jupyter-leaflet",
      "model_module_version": "^0.17",
      "model_name": "LeafletMapStyleModel",
      "state": {
       "_model_module_version": "^0.17"
      }
     },
     "3e94032e55ab401cbdf28376eeb798f2": {
      "model_module": "@jupyter-widgets/base",
      "model_module_version": "2.0.0",
      "model_name": "LayoutModel",
      "state": {
       "border_bottom": "1px solid black",
       "border_left": "1px solid black",
       "border_right": "1px solid black",
       "border_top": "1px solid black"
      }
     },
     "3ec080a787ad456680914c98bbb8c5ec": {
      "model_module": "jupyter-leaflet",
      "model_module_version": "^0.17",
      "model_name": "LeafletGeoJSONModel",
      "state": {
       "_model_module_version": "^0.17",
       "_view_module_version": "^0.17",
       "data": {
        "geometry": {
         "coordinates": [
          [
           [
            152.395805,
            -24.995971
           ],
           [
            152.395805,
            -24.974997
           ],
           [
            152.429994,
            -24.974997
           ],
           [
            152.429994,
            -24.995971
           ],
           [
            152.395805,
            -24.995971
           ]
          ]
         ],
         "type": "Polygon"
        },
        "properties": {
         "style": {
          "clickable": true,
          "color": "red",
          "fill": true,
          "fillColor": false,
          "fillOpacity": 0,
          "opacity": 0.8,
          "showArea": true,
          "stroke": true,
          "weight": 4
         }
        },
        "type": "Feature"
       }
      }
     },
     "6fe3a776152a44898fa2dacd58028e11": {
      "model_module": "@jupyter-widgets/base",
      "model_module_version": "2.0.0",
      "model_name": "LayoutModel",
      "state": {}
     },
     "733b019e5a084ed0830db24ef1a37775": {
      "model_module": "jupyter-leaflet",
      "model_module_version": "^0.17",
      "model_name": "LeafletTileLayerModel",
      "state": {
       "_model_module_version": "^0.17",
       "_view_module_version": "^0.17",
       "attribution": "Tiles &copy; Esri &mdash; Source: Esri, i-cubed, USDA, USGS, AEX, GeoEye, Getmapping, Aerogrid, IGN, IGP, UPR-EGP, and the GIS User Community",
       "base": true,
       "min_zoom": 1,
       "name": "Esri.WorldImagery",
       "options": [
        "attribution",
        "bounds",
        "detect_retina",
        "max_native_zoom",
        "max_zoom",
        "min_native_zoom",
        "min_zoom",
        "no_wrap",
        "tile_size",
        "tms",
        "zoom_offset"
       ],
       "url": "https://server.arcgisonline.com/ArcGIS/rest/services/World_Imagery/MapServer/tile/{z}/{y}/{x}"
      }
     },
     "895352a16c0f4fe983479c9b4d46b948": {
      "model_module": "@jupyter-widgets/output",
      "model_module_version": "1.0.0",
      "model_name": "OutputModel",
      "state": {
       "layout": "IPY_MODEL_3e94032e55ab401cbdf28376eeb798f2",
       "outputs": [
        {
         "name": "stdout",
         "output_type": "stream",
         "text": "Draw a polygon within the red box to view a plot of average NDVI over time in that area.\n"
        }
       ]
      }
     },
     "949d9ca37a28456b881bb7605c46746e": {
      "model_module": "@jupyter-widgets/base",
      "model_module_version": "2.0.0",
      "model_name": "LayoutModel",
      "state": {}
     },
     "aab121d34548465aaa9a91312b13725f": {
      "model_module": "jupyter-leaflet",
      "model_module_version": "^0.17",
      "model_name": "LeafletZoomControlModel",
      "state": {
       "_model_module_version": "^0.17",
       "_view_module_version": "^0.17",
       "options": [
        "position",
        "zoom_in_text",
        "zoom_in_title",
        "zoom_out_text",
        "zoom_out_title"
       ]
      }
     },
     "ab0b70f2138b4354b2d4d6faea1cb32e": {
      "model_module": "@jupyter-widgets/base",
      "model_module_version": "2.0.0",
      "model_name": "LayoutModel",
      "state": {}
     },
     "b4cdf8c3926f446caee183f8ba819ab5": {
      "model_module": "@jupyter-widgets/base",
      "model_module_version": "2.0.0",
      "model_name": "LayoutModel",
      "state": {
       "width": "50%"
      }
     },
     "b921edf6e4cd4235bc8d6c8712ce2c8f": {
      "model_module": "jupyter-leaflet",
      "model_module_version": "^0.17",
      "model_name": "LeafletMapStyleModel",
      "state": {
       "_model_module_version": "^0.17",
       "cursor": "move"
      }
     },
     "c93c3a25efbc4478afeb0bf5216c7f57": {
      "model_module": "@jupyter-widgets/controls",
      "model_module_version": "2.0.0",
      "model_name": "HTMLStyleModel",
      "state": {
       "description_width": "",
       "font_size": null,
       "text_color": null
      }
     },
     "cd522ee9c38949378d4526f404282d31": {
      "model_module": "jupyter-leaflet",
      "model_module_version": "^0.17",
      "model_name": "LeafletMapModel",
      "state": {
       "_model_module_version": "^0.17",
       "_view_module_version": "^0.17",
       "bottom": 2397945,
       "center": [
        -24.985484,
        152.41289949999998
       ],
       "controls": [
        "IPY_MODEL_aab121d34548465aaa9a91312b13725f",
        "IPY_MODEL_00215fc17633443e810958e86cb00f04",
        "IPY_MODEL_f5aaeee4b9d74c74ad80ea8db758651c"
       ],
       "default_style": "IPY_MODEL_28e3265afc434876bdb150f85df6cb65",
       "dragging_style": "IPY_MODEL_b921edf6e4cd4235bc8d6c8712ce2c8f",
       "east": 152.41290092468265,
       "fullscreen": false,
       "interpolation": "bilinear",
       "layers": [
        "IPY_MODEL_733b019e5a084ed0830db24ef1a37775",
        "IPY_MODEL_3ec080a787ad456680914c98bbb8c5ec"
       ],
       "layout": "IPY_MODEL_f290444b782549e88e78e84ef3bf516e",
       "left": 3872891,
       "modisdate": "2023-08-30",
       "north": -24.985513435042225,
       "options": [
        "bounce_at_zoom_limits",
        "box_zoom",
        "center",
        "close_popup_on_click",
        "double_click_zoom",
        "dragging",
        "fullscreen",
        "inertia",
        "inertia_deceleration",
        "inertia_max_speed",
        "interpolation",
        "keyboard",
        "keyboard_pan_offset",
        "keyboard_zoom_offset",
        "max_zoom",
        "min_zoom",
        "prefer_canvas",
        "scroll_wheel_zoom",
        "tap",
        "tap_tolerance",
        "touch_zoom",
        "world_copy_jump",
        "zoom",
        "zoom_animation_threshold",
        "zoom_delta",
        "zoom_snap"
       ],
       "prefer_canvas": false,
       "right": 3872891,
       "south": -24.985513435042225,
       "style": "IPY_MODEL_08888a47a3444eac80dd17803dd4a2cf",
       "top": 2397945,
       "west": 152.41290092468265,
       "window_url": "https://app.sandbox.dea.ga.gov.au/user/robbi.bishoptaylor@ga.gov.au/lab/tree/Robbi/dea-notebooks/Interactive_apps/Mining_rehabilitation.ipynb",
       "zoom": 14
      }
     },
     "dfcf1fe58558467999702defed34161a": {
      "model_module": "@jupyter-widgets/controls",
      "model_module_version": "2.0.0",
      "model_name": "HTMLModel",
      "state": {
       "layout": "IPY_MODEL_ab0b70f2138b4354b2d4d6faea1cb32e",
       "style": "IPY_MODEL_c93c3a25efbc4478afeb0bf5216c7f57"
      }
     },
     "f290444b782549e88e78e84ef3bf516e": {
      "model_module": "@jupyter-widgets/base",
      "model_module_version": "2.0.0",
      "model_name": "LayoutModel",
      "state": {}
     },
     "f5a2a4bad5724d7981a3252a474cac68": {
      "model_module": "@jupyter-widgets/output",
      "model_module_version": "1.0.0",
      "model_name": "OutputModel",
      "state": {
       "layout": "IPY_MODEL_17aa8cc8fea84a0689977785a3ced35f",
       "outputs": [
        {
         "name": "stdout",
         "output_type": "stream",
         "text": "Plot status:\n"
        }
       ]
      }
     },
     "f5aaeee4b9d74c74ad80ea8db758651c": {
      "model_module": "jupyter-leaflet",
      "model_module_version": "^0.17",
      "model_name": "LeafletDrawControlModel",
      "state": {
       "_model_module_version": "^0.17",
       "_view_module_version": "^0.17",
       "options": [
        "position"
       ],
       "polygon": {
        "shapeOptions": {
         "clickable": true,
         "color": "#3388ff",
         "fill": true,
         "fillColor": null,
         "fillOpacity": 0,
         "opacity": 0.5,
         "stroke": true,
         "weight": 4
        }
       },
       "polyline": {}
      }
     }
    },
    "version_major": 2,
    "version_minor": 0
   }
  }
 },
 "nbformat": 4,
 "nbformat_minor": 4
}
