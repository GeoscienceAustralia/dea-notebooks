{
 "cells": [
  {
   "cell_type": "markdown",
   "metadata": {},
   "source": [
    "# Monitoring change through time using satellite imagery filmstrip plots <img align=\"right\" src=\"../Supplementary_data/dea_logo.jpg\">\n",
    "\n",
    "* [**Sign up to the DEA Sandbox**](https://docs.dea.ga.gov.au/setup/Sandbox/sandbox.html) to run this notebook interactively from a browser\n",
    "* **Compatibility:** Notebook currently compatible with both the `DEA Sandbox` and `NCI` environments\n",
    "* **Products used:** \n",
    "[ga_ls5t_ard_3](https://explorer.dea.ga.gov.au/ga_ls5t_ard_3),\n",
    "[ga_ls7e_ard_3](https://explorer.dea.ga.gov.au/ga_ls7e_ard_3),\n",
    "[ga_ls8c_ard_3](https://explorer.dea.ga.gov.au/ga_ls8c_ard_3)\n"
   ]
  },
  {
   "cell_type": "markdown",
   "metadata": {},
   "source": [
    "## Background\n",
    "\n",
    "Understanding how natural and human landscapes have changed through time can provide vital information about the health of local ecosystems and development of the built environment. \n",
    "For example, data on changes in the distribution of vegetation in the landscape can be used to monitor the impact of deforestation, or track the recovery of forests after habitat restoration or extreme natural events (e.g. bushfires). \n",
    "Tracking changes within urban areas can be used monitor the growth of infrastructure such as ports and transport networks, while data on coastal changes can be vital for predicting and managing the impacts of coastal erosion or the loss of coastal wetlands (e.g. mangroves).\n",
    "\n",
    "Although these examples of change can be tracked using direct on-the-ground monitoring (e.g. vegetation surveys), it can be extremely challenging and expensive to obtain a comprehensive understanding of these processes at a broader landscape scale. \n",
    "For many applications, it can also be extremely useful to obtain a record of the history of a location undergoing change. \n",
    "This typically requires historical monitoring data which is unlikely to be available for all but the most intensively monitored locations.\n",
    "\n",
    "### Digital Earth Australia use case\n",
    "\n",
    "More than 30 years of satellite imagery from the [NASA/USGS Landsat program](https://www.usgs.gov/landsat-missions) is freely available for Australia, making this a powerful resource for monitoring natural and human-driven change across the Australian continent.\n",
    "Because these satellites image every location over Australia regularly (approximately once every 16 days), they provide an unparalleled archive of how many of Australia's landscapes have changed through time.\n",
    "\n",
    "Analysing change from individual satellite images can be made difficult by the presence of clouds, cloud shadow, sunglint over water, and dynamic processes like changing tides along the coastline. \n",
    "By combining individual noisy images into cleaner, cloud-free \"summary\" images that cover a longer time period (e.g. one or multiple years), we can obtain a clear, consistent view of the Australian environment that can be compared to reveal changes in the landscape over time.\n"
   ]
  },
  {
   "cell_type": "markdown",
   "metadata": {},
   "source": [
    "## Description\n",
    "In this example, Digital Earth Australia Landsat data is extracted for a given time range and location, and combined using the geometric median (\"geomedian\") statistic to reveal the median or 'typical' appearance of the landscape for a series of time periods (for more information about geomedians, see the [Geomedian composites notebook](../How_to_guides/Generating_geomedian_composites.ipynb)).\n",
    "\n",
    "For coastal applications, the analysis can be customised to select only satellite images obtained during a specific tidal range (e.g. low, average or high tide). \n",
    "\n",
    "The results for each time period are combined into a 'filmstrip' plot which visualises how the landscape has changed in appearance across time, with a 'change heatmap' panel highlighting potential areas of greatest change:\n",
    "\n",
    "![Example of filmstrip plot](../Supplementary_data/Change_filmstrips/filmstrip_example.JPG)\n",
    "\n",
    "***"
   ]
  },
  {
   "cell_type": "markdown",
   "metadata": {},
   "source": [
    "## Getting started\n",
    "\n",
    "To run this analysis, run all the cells in the notebook, starting with the \"Load packages\" cell. "
   ]
  },
  {
   "cell_type": "markdown",
   "metadata": {},
   "source": [
    "### Load packages\n",
    "Import Python packages used for the analysis."
   ]
  },
  {
   "cell_type": "code",
   "execution_count": 1,
   "metadata": {},
   "outputs": [],
   "source": [
    "%matplotlib inline\n",
    "\n",
    "from datacube.utils.cog import write_cog\n",
    "\n",
    "import sys\n",
    "sys.path.insert(1, '../Tools/')\n",
    "from dea_tools.app import changefilmstrips\n"
   ]
  },
  {
   "cell_type": "markdown",
   "metadata": {},
   "source": [
    "### Analysis parameters\n",
    "\n",
    "The following cell sets important required parameters for the analysis:\n",
    "\n",
    "* `output_name`: A name that will be used to name the output filmstrip plot file\n",
    "* `time_range`: The date range to analyse (e.g. `time_range = ('1988-01-01', '2017-12-31')`)\n",
    "* `time_step`: This parameter allows us to choose the length of the time periods we want to compare (e.g. `time_step = {'years': 5}` will generate one filmstrip plot for every five years of data in the dataset; `time_step = {'months': 18}` will generate one plot for each 18 month period etc.\n",
    "Time periods are counted from the first value given in `time_range`.\n",
    "\n",
    "Optional parameters:\n",
    "\n",
    "* `tide_range`: This parameter allows you to generate filmstrip plots based on specific ocean tide conditions.\n",
    "This can be valuable for analysing change consistently along the coast. \n",
    "For example, `tide_range = (0.0, 0.2)` will select only satellite images acquired at the lowest 20% of tides; `tide_range = (0.8, 1.0)` will select images from the highest 20% of tides. \n",
    "The default is `tide_range = (0.0, 1.0)` which will select all images regardless of tide.\n",
    "* `resolution`: The spatial resolution to load data. \n",
    "The default is `resolution = (-30, 30)`, which will load data at 30 m pixel resolution. \n",
    "Increasing this (e.g. to `resolution = (-100, 100)`) can be useful for loading large spatial extents.\n",
    "* `max_cloud`: This parameter allows you to exclude satellite images with excessive cloud. \n",
    "The default is `50`, which will keep all images with less than 50% cloud.\n",
    "* `ls7_slc_off`: Whether to include data from after the Landsat 7 SLC failure (i.e. SLC-off). \n",
    "Defaults to `False`, which removes all Landsat 7 observations after May 31 2003.\n",
    "Setting this to `True` will result in extra data, but can also introduce horizontal striping in the output filmstrip plots.\n",
    "\n",
    "\n",
    "\n",
    "**If running the notebook for the first time**, keep the default settings below. This will demonstrate how the analysis works and provide meaningful results. \n"
   ]
  },
  {
   "cell_type": "code",
   "execution_count": 2,
   "metadata": {},
   "outputs": [],
   "source": [
    "# Required parameters\n",
    "output_name = 'example'\n",
    "time_range = ('1988-01-01', '2017-12-31')\n",
    "time_step = {'years': 5}\n",
    "\n",
    "# Optional parameters\n",
    "tide_range = (0.0, 1.0)\n",
    "resolution = (-30, 30)\n",
    "max_cloud = 80\n",
    "ls7_slc_off = False"
   ]
  },
  {
   "cell_type": "markdown",
   "metadata": {},
   "source": [
    "## Select location and generate filmstrips\n",
    "Run the following cell to start the analysis. \n",
    "This will plot an interactive map that is used to select the area to load satellite data for.\n",
    "\n",
    "Select the `Draw a rectangle` or `Draw a polygon` tool on the left of the map, and draw a shape around the area you are interested in.\n",
    "\n",
    "For the first run, try **drawing a square around Sydney Airport and Port Botany** to see an example of change driven by urban and coastal development.\n",
    "\n",
    "When you are ready, press the green `done` button on the top right of the map. \n",
    "This will start loading the data, and then generate a filmstrips plot.\n",
    "\n",
    "> Depending on the size of the area you select, this step can take **several minutes to complete**.\n",
    "To keep load times reasonable, select an area **smaller than 200 square kilometers** in size (this limit can be overuled by supplying the `size_limit` parameter in the `run_filmstrip_app` function below).\n",
    "\n",
    "> Once the analysis reaches the `Generating geomedian composites` step, you can check the status of the data load by clicking the **Dashboard** link under **Client** below.\n"
   ]
  },
  {
   "cell_type": "code",
   "execution_count": null,
   "metadata": {},
   "outputs": [],
   "source": [
    "geomedians, heatmap = changefilmstrips.run_filmstrip_app(\n",
    "    output_name, time_range, time_step, tide_range, resolution, max_cloud,\n",
    "    ls7_slc_off)"
   ]
  },
  {
   "cell_type": "markdown",
   "metadata": {},
   "source": [
    "## Using filmstrip plots to identify change\n",
    "\n",
    "The filmstrip plot above contains several colour imagery panels that summarise the median or 'typical' appearance of the landscape for the time periods defined using `time_range` and `time_step`. \n",
    "If you ran the analysis over the Sydney Airport and Port Botany area, inspect each of the imagery plots. \n",
    "Some key examples of change that appear include: \n",
    "\n",
    "* The 1994 construction of Sydney Airport's third runway in the second panel (covering the five year period between 1993 and 1998)\n",
    "* The 2011 expansion of Port Botany visible as construction in the fifth panel, and completed by the sixth panel\n",
    "* Increasing commercial and industrial development (e.g. large white roofs) in the suburb of Mascot north of Port Botany\n",
    "\n",
    "### Change heatmap\n",
    "\n",
    "To make it easier to identify areas that have changed between each filmstrip panel, the final panel provides a \"change heatmap\".\n",
    "This highlights pixels whose values vary greatly between the panels in the filmstrip plot. \n",
    "Bright colours indicate pixels that have changed; dark colours indicate pixels that have remained relatively similar across time.\n",
    "\n",
    "Compare the \"change heatmap\" panel against the colour imagery panels. \n",
    "You should be able to clearly see Sydney Airport's third runway and the Port Botany port expansion highlighted in bright colours.\n",
    "\n",
    "> **Technical info:** The \"change heatmap\" is calculated by first taking a log transform of the imagery data to emphasize dark pixels, then calculating standard deviation across all of the filmstrip panels to reveal pixels that changed over time."
   ]
  },
  {
   "cell_type": "markdown",
   "metadata": {},
   "source": [
    "## Downloading filmstrip plot\n",
    "The high resolution version of the filmstrip plot generated above will be saved to the same location you are running this notebook from (e.g. typically `Real_world_examples`). \n",
    "In JupyterLab, use the file browser to locate the image file with a name in the following format: \n",
    "\n",
    "`filmstrip_{output_name}_{date_string}_{time_step}.png`\n",
    "\n",
    "If you are using the **DEA Sandbox**, you can download the image to your PC by right clicking on the image file and selecting `Download`."
   ]
  },
  {
   "cell_type": "markdown",
   "metadata": {},
   "source": [
    "## Export GeoTIFF data\n",
    "It can be useful to export each of the filmstrip panels generated above as GeoTIFF raster files so that they can be loaded into a Geographic Information System (GIS) software for further analysis.\n",
    "Because the filmstrip panels were generated using the \"geomedian\" statistic that preserves relationships between spectral bands, the resulting data can be validly analysed in the same way as we would analyse an individual satellite image.\n",
    "\n",
    "To export the GeoTIFFs, run the following cell then right click on the files in the JupyterLab file browser and select `Download`."
   ]
  },
  {
   "cell_type": "code",
   "execution_count": 4,
   "metadata": {},
   "outputs": [
    {
     "name": "stdout",
     "output_type": "stream",
     "text": [
      "Exporting 1988-01-01 data\n",
      "Exporting 1993-01-01 data\n",
      "Exporting 1998-01-01 data\n",
      "Exporting 2003-01-01 data\n",
      "Exporting 2008-01-01 data\n",
      "Exporting 2013-01-01 data\n",
      "Exporting change heatmap\n"
     ]
    },
    {
     "data": {
      "text/plain": [
       "PosixPath('geotiff_example_heatmap.tif')"
      ]
     },
     "execution_count": 4,
     "metadata": {},
     "output_type": "execute_result"
    }
   ],
   "source": [
    "# Export filmstrip panels\n",
    "for i, ds in geomedians.groupby('timestep'):\n",
    "    print(f'Exporting {i} data')\n",
    "    write_cog(geo_im=ds.to_array(), \n",
    "              fname=f'geotiff_{output_name}_{i}.tif', \n",
    "              overwrite=True)\n",
    "\n",
    "# Export change heatmap\n",
    "print('Exporting change heatmap')\n",
    "write_cog(geo_im=heatmap, \n",
    "          fname=f'geotiff_{output_name}_heatmap.tif', \n",
    "          overwrite=True)"
   ]
  },
  {
   "cell_type": "markdown",
   "metadata": {},
   "source": [
    "## Next steps\n",
    "When you are done, return to the [Analysis parameters](#Analysis-parameters) section, modify some values and rerun the analysis. \n",
    "For example, you could try:\n",
    "\n",
    "* Modify `time_range` to look at a specific time period of interest (e.g. `time_range = ('1990-01-01', '2000-01-01')`.\n",
    "* Setting a shorter `time_step` (e.g. `time_step = {'years': 2}`) for a more detailed look at how the landscape has changed over shorter time periods.\n",
    "* Inspecting change along the coastline after controlling for tide using the `tide_range` parameter (e.g. `tide_range = (0.0, 0.3)` to look at the landscape during the lowest 30% of tides). \n",
    "For the best results, test this out in an area with high tides such as [Roebuck Bay in West Australia's Kimberley region](https://goo.gl/maps/ZkCcXUSbsVhRMsgM9).\n"
   ]
  },
  {
   "cell_type": "markdown",
   "metadata": {},
   "source": [
    "***\n",
    "\n",
    "## Additional information\n",
    "\n",
    "**License:** The code in this notebook is licensed under the [Apache License, Version 2.0](https://www.apache.org/licenses/LICENSE-2.0). \n",
    "Digital Earth Australia data is licensed under the [Creative Commons by Attribution 4.0](https://creativecommons.org/licenses/by/4.0/) license.\n",
    "\n",
    "**Contact:** If you need assistance, please post a question on the [Open Data Cube Slack channel](http://slack.opendatacube.org/) or on the [GIS Stack Exchange](https://gis.stackexchange.com/questions/ask?tags=open-data-cube) using the `open-data-cube` tag (you can view previously asked questions [here](https://gis.stackexchange.com/questions/tagged/open-data-cube)).\n",
    "If you would like to report an issue with this notebook, you can file one on [Github](https://github.com/GeoscienceAustralia/dea-notebooks).\n",
    "\n",
    "**Last modified:** December 2023\n",
    "\n",
    "**Compatible datacube version:** "
   ]
  },
  {
   "cell_type": "code",
   "execution_count": 5,
   "metadata": {},
   "outputs": [
    {
     "name": "stdout",
     "output_type": "stream",
     "text": [
      "1.8.6\n"
     ]
    }
   ],
   "source": [
    "import datacube\n",
    "print(datacube.__version__)"
   ]
  },
  {
   "cell_type": "markdown",
   "metadata": {},
   "source": [
    "## Tags\n",
    "Browse all available tags on the DEA User Guide's [Tags Index](https://docs.dea.ga.gov.au/genindex.html)"
   ]
  },
  {
   "cell_type": "raw",
   "metadata": {
    "raw_mimetype": "text/restructuredtext"
   },
   "source": [
    "**Tags**: :index:`NCI compatible`, :index:`sandbox compatible`, :index:`landsat 5`, :index:`landsat 7`, :index:`landsat 8`, :index:`load_ard`, :index:`mostcommon_crs`, :index:`tidal_tag`, :index:`rgb`, :index:`image compositing`, :index:`geomedian`, :index:`filmstrip plot`, :index:`change monitoring`, :index:`real world`, :index:`widgets`, :index:`interactive`, :index:`no_testing`"
   ]
  }
 ],
 "metadata": {
  "kernelspec": {
   "display_name": "Python 3 (ipykernel)",
   "language": "python",
   "name": "python3"
  },
  "language_info": {
   "codemirror_mode": {
    "name": "ipython",
    "version": 3
   },
   "file_extension": ".py",
   "mimetype": "text/x-python",
   "name": "python",
   "nbconvert_exporter": "python",
   "pygments_lexer": "ipython3",
   "version": "3.8.10"
  },
  "widgets": {
   "application/vnd.jupyter.widget-state+json": {
    "state": {
     "03071dc25b7944c5a5e553ba7abced9f": {
      "model_module": "@jupyter-widgets/base",
      "model_module_version": "1.2.0",
      "model_name": "LayoutModel",
      "state": {
       "flex": "1 0 20em",
       "height": "3em",
       "width": "20em"
      }
     },
     "04cbdfdbbf734dae8021c5ba9a01efe6": {
      "model_module": "@jupyter-widgets/controls",
      "model_module_version": "1.5.0",
      "model_name": "HTMLModel",
      "state": {
       "layout": "IPY_MODEL_03071dc25b7944c5a5e553ba7abced9f",
       "style": "IPY_MODEL_99427a35f96045b2b7308a95a9c2fb42",
       "value": "<pre style=\"color:grey\">lat: [-34.0572, -33.8864]\nlon: [150.9570, 151.4301]</pre>"
      }
     },
     "07c38bb75e8243609a49a748f4acf1f6": {
      "model_module": "@jupyter-widgets/controls",
      "model_module_version": "1.5.0",
      "model_name": "ButtonModel",
      "state": {
       "description": "done",
       "disabled": true,
       "layout": "IPY_MODEL_6c7d3ab9ddb340179c7b8e5900d87f2d",
       "style": "IPY_MODEL_e2e5848d3a394e179877effeb959a28c"
      }
     },
     "14e271bc509146889e2d18cd3addf07a": {
      "model_module": "jupyter-leaflet",
      "model_module_version": "^0.14.0",
      "model_name": "LeafletWidgetControlModel",
      "state": {
       "_model_module": "jupyter-leaflet",
       "_model_module_version": "^0.14.0",
       "_view_count": null,
       "_view_module": "jupyter-leaflet",
       "_view_module_version": "^0.14.0",
       "options": [
        "position",
        "transparent_bg"
       ],
       "position": "topright",
       "widget": "IPY_MODEL_07c38bb75e8243609a49a748f4acf1f6"
      }
     },
     "208eb5f4b88c4624abe7b00372fff249": {
      "model_module": "jupyter-leaflet",
      "model_module_version": "^0.14.0",
      "model_name": "LeafletZoomControlModel",
      "state": {
       "_model_module_version": "^0.14.0",
       "_view_module_version": "^0.14.0",
       "options": [
        "position",
        "zoom_in_text",
        "zoom_in_title",
        "zoom_out_text",
        "zoom_out_title"
       ]
      }
     },
     "26e0e24901ba4573a37e037eda668f48": {
      "model_module": "jupyter-leaflet",
      "model_module_version": "^0.14.0",
      "model_name": "LeafletFullScreenControlModel",
      "state": {
       "_model_module_version": "^0.14.0",
       "_view_module_version": "^0.14.0",
       "options": [
        "position"
       ]
      }
     },
     "409578d0eb3d4f5cbd971d22381abb3d": {
      "model_module": "@jupyter-widgets/base",
      "model_module_version": "1.2.0",
      "model_name": "LayoutModel",
      "state": {
       "height": "600px"
      }
     },
     "44f8d335bf7f427a833b5faf6c7ff1f2": {
      "model_module": "jupyter-leaflet",
      "model_module_version": "^0.14.0",
      "model_name": "LeafletDrawControlModel",
      "state": {
       "_model_module_version": "^0.14.0",
       "_view_module_version": "^0.14.0",
       "data": [
        {
         "geometry": {
          "coordinates": [
           [
            [
             151.160545,
             -33.990013
            ],
            [
             151.160545,
             -33.940182
            ],
            [
             151.234703,
             -33.940182
            ],
            [
             151.234703,
             -33.990013
            ],
            [
             151.160545,
             -33.990013
            ]
           ]
          ],
          "type": "Polygon"
         },
         "properties": {
          "style": {
           "clickable": true,
           "color": "#000000",
           "fill": true,
           "fillColor": "#fca45d",
           "fillOpacity": 0.1,
           "opacity": 0.5,
           "stroke": true,
           "weight": 4
          }
         },
         "type": "Feature"
        }
       ],
       "options": [
        "position"
       ],
       "polygon": {
        "shapeOptions": {
         "color": "#000000",
         "editing": {
          "color": "#000000",
          "fillColor": "#fca45d",
          "fillOpacity": 0.1
         },
         "fillColor": "#fca45d",
         "fillOpacity": 0.1,
         "original": {
          "color": "#000000",
          "fillColor": "#fca45d",
          "fillOpacity": 0.1
         }
        }
       },
       "polyline": {},
       "rectangle": {
        "metric": [
         "km",
         "m"
        ],
        "shapeOptions": {
         "color": "#000000",
         "fillColor": "#fca45d",
         "fillOpacity": 0.1
        }
       }
      }
     },
     "69d7809765e344b4871f7b64249b8ffc": {
      "model_module": "jupyter-leaflet",
      "model_module_version": "^0.14.0",
      "model_name": "LeafletAttributionControlModel",
      "state": {
       "_model_module_version": "^0.14.0",
       "_view_module_version": "^0.14.0",
       "options": [
        "position",
        "prefix"
       ],
       "position": "bottomright",
       "prefix": "ipyleaflet"
      }
     },
     "6c7d3ab9ddb340179c7b8e5900d87f2d": {
      "model_module": "@jupyter-widgets/base",
      "model_module_version": "1.2.0",
      "model_name": "LayoutModel",
      "state": {
       "width": "5em"
      }
     },
     "752db91f555748d39048ab9cf9060416": {
      "model_module": "jupyter-leaflet",
      "model_module_version": "^0.14.0",
      "model_name": "LeafletTileLayerModel",
      "state": {
       "_model_module_version": "^0.14.0",
       "_view_module_version": "^0.14.0",
       "attribution": "Tiles &copy; Esri &mdash; Source: Esri, i-cubed, USDA, USGS, AEX, GeoEye, Getmapping, Aerogrid, IGN, IGP, UPR-EGP, and the GIS User Community",
       "max_native_zoom": 18,
       "max_zoom": 20,
       "min_native_zoom": 0,
       "min_zoom": 1,
       "name": "Esri.WorldImagery",
       "options": [
        "attribution",
        "detect_retina",
        "max_native_zoom",
        "max_zoom",
        "min_native_zoom",
        "min_zoom",
        "no_wrap",
        "tile_size",
        "tms"
       ],
       "url": "http://server.arcgisonline.com/ArcGIS/rest/services/World_Imagery/MapServer/tile/{z}/{y}/{x}"
      }
     },
     "876ff6aeb84b499588d3449da6eee277": {
      "model_module": "jupyter-leaflet",
      "model_module_version": "^0.14.0",
      "model_name": "LeafletMapStyleModel",
      "state": {
       "_model_module_version": "^0.14.0"
      }
     },
     "90a58f05c8e44a11acdfac66fb067dc4": {
      "model_module": "jupyter-leaflet",
      "model_module_version": "^0.14.0",
      "model_name": "LeafletMapStyleModel",
      "state": {
       "_model_module_version": "^0.14.0",
       "cursor": "move"
      }
     },
     "99427a35f96045b2b7308a95a9c2fb42": {
      "model_module": "@jupyter-widgets/controls",
      "model_module_version": "1.5.0",
      "model_name": "DescriptionStyleModel",
      "state": {
       "description_width": ""
      }
     },
     "a52fd307a2e44f969d56e82852a76cef": {
      "model_module": "jupyter-leaflet",
      "model_module_version": "^0.14.0",
      "model_name": "LeafletMapStyleModel",
      "state": {
       "_model_module_version": "^0.14.0"
      }
     },
     "af6eac08042240a69e18c7833161a044": {
      "model_module": "jupyter-leaflet",
      "model_module_version": "^0.14.0",
      "model_name": "LeafletMapModel",
      "state": {
       "_model_module_version": "^0.14.0",
       "_view_module_version": "^0.14.0",
       "bottom": 629904,
       "center": [
        -33.9719,
        151.1934
       ],
       "controls": [
        "IPY_MODEL_208eb5f4b88c4624abe7b00372fff249",
        "IPY_MODEL_69d7809765e344b4871f7b64249b8ffc",
        "IPY_MODEL_26e0e24901ba4573a37e037eda668f48"
       ],
       "default_style": "IPY_MODEL_876ff6aeb84b499588d3449da6eee277",
       "dragging_style": "IPY_MODEL_90a58f05c8e44a11acdfac66fb067dc4",
       "east": 151.43005371093753,
       "fullscreen": false,
       "interpolation": "bilinear",
       "layers": [
        "IPY_MODEL_752db91f555748d39048ab9cf9060416"
       ],
       "layout": "IPY_MODEL_409578d0eb3d4f5cbd971d22381abb3d",
       "left": 963982,
       "modisdate": "yesterday",
       "north": -33.886377470727545,
       "options": [
        "bounce_at_zoom_limits",
        "box_zoom",
        "center",
        "close_popup_on_click",
        "double_click_zoom",
        "dragging",
        "fullscreen",
        "inertia",
        "inertia_deceleration",
        "inertia_max_speed",
        "interpolation",
        "keyboard",
        "keyboard_pan_offset",
        "keyboard_zoom_offset",
        "max_zoom",
        "min_zoom",
        "scroll_wheel_zoom",
        "tap",
        "tap_tolerance",
        "touch_zoom",
        "world_copy_jump",
        "zoom",
        "zoom_animation_threshold",
        "zoom_delta",
        "zoom_snap",
        "zoom_start"
       ],
       "right": 965360,
       "scroll_wheel_zoom": true,
       "south": -34.05721051351029,
       "style": "IPY_MODEL_a52fd307a2e44f969d56e82852a76cef",
       "top": 629304,
       "west": 150.95695495605472,
       "window_url": "https://app.sandbox.dea.ga.gov.au/user/robbibt/lab/tree/Robbi/dea-notebooks/Real_world_examples/Change_filmstrips.ipynb"
      }
     },
     "e2e5848d3a394e179877effeb959a28c": {
      "model_module": "@jupyter-widgets/controls",
      "model_module_version": "1.5.0",
      "model_name": "ButtonStyleModel",
      "state": {
       "button_color": "green"
      }
     },
     "f4f69148d9e04ac983b304dd1303935c": {
      "model_module": "jupyter-leaflet",
      "model_module_version": "^0.14.0",
      "model_name": "LeafletWidgetControlModel",
      "state": {
       "_model_module": "jupyter-leaflet",
       "_model_module_version": "^0.14.0",
       "_view_count": null,
       "_view_module": "jupyter-leaflet",
       "_view_module_version": "^0.14.0",
       "options": [
        "position",
        "transparent_bg"
       ],
       "position": "bottomleft",
       "widget": "IPY_MODEL_04cbdfdbbf734dae8021c5ba9a01efe6"
      }
     }
    },
    "version_major": 2,
    "version_minor": 0
   }
  }
 },
 "nbformat": 4,
 "nbformat_minor": 4
}
