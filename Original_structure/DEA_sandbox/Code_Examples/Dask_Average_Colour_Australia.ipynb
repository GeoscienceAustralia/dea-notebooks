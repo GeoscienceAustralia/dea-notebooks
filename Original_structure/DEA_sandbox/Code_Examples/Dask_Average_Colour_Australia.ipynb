{
 "cells": [
  {
   "cell_type": "markdown",
   "metadata": {},
   "source": [
    "# Dask Example - Average Colour of Australia\n",
    "\n",
    "[Dask](https://dask.org/) is an open-source Python library for enabling parallel computation. This is critical when working with large data sets from satellites. Fortunately, Dask has been developed to integrate nicely with Xarray, which underpins the Open Data Cube. This example demonstrates how to use Dask to compute the average colour of Australia, a calculation which involves 1.3 billion pixels. "
   ]
  },
  {
   "cell_type": "markdown",
   "metadata": {},
   "source": [
    "## Import key packages for analysis"
   ]
  },
  {
   "cell_type": "code",
   "execution_count": null,
   "metadata": {},
   "outputs": [],
   "source": [
    "%matplotlib inline\n",
    "\n",
    "import datacube\n",
    "import numpy as np\n",
    "import matplotlib.pyplot as plt\n",
    "\n",
    "dc = datacube.Datacube(app='dc-visualize')"
   ]
  },
  {
   "cell_type": "markdown",
   "metadata": {},
   "source": [
    "## Set up parallel computing with Dask"
   ]
  },
  {
   "cell_type": "code",
   "execution_count": null,
   "metadata": {
    "scrolled": false
   },
   "outputs": [],
   "source": [
    "import dask\n",
    "from dask.distributed import Client\n",
    "\n",
    "client = Client('dask-datacube-dask.labs:8786')"
   ]
  },
  {
   "cell_type": "markdown",
   "metadata": {},
   "source": [
    "## Select area for analysis\n",
    "In this example, we'll use coordinates from the centre of Australia and map out an area 10 square degrees around it. These values can be changed to perform the calculation for other areas around Australia. For ease of the calculation, image data is only loaded for a single day."
   ]
  },
  {
   "cell_type": "code",
   "execution_count": null,
   "metadata": {},
   "outputs": [],
   "source": [
    "# Set the centre latitude and longitude coordinates\n",
    "latitude, longitude = (-25, 137)\n",
    "\n",
    "# Set the study area around the centre coordinates, where buffer is in degrees\n",
    "buffer = 5\n",
    "latitude_range = (latitude - buffer, latitude + buffer)\n",
    "longitude_range = (longitude - buffer, longitude + buffer)\n",
    "\n",
    "# Set the time frame\n",
    "date_range = ('2017-01-01', '2017-01-01')"
   ]
  },
  {
   "cell_type": "markdown",
   "metadata": {},
   "source": [
    "## Load and view the data\n",
    "\n",
    "Data is loaded with the `dc.load()` function. The Landsat 8 Annual Geomedian product `ls8_nbart_geomedian_annual` has six bands associated with it, but this analysis only requires the `red`, `green`, and `blue` bands. The `dask_chunks` argument is used to tell Dask how to segement the data for parallelised computations (see the [xarray documentation](http://xarray.pydata.org/en/stable/dask.html)). "
   ]
  },
  {
   "cell_type": "code",
   "execution_count": null,
   "metadata": {},
   "outputs": [],
   "source": [
    "%%time\n",
    "\n",
    "ds = dc.load(\n",
    "    product='ls8_nbart_geomedian_annual',\n",
    "    x=longitude_range,\n",
    "    y=latitude_range,\n",
    "    output_crs='epsg:3577',\n",
    "    resolution=(-30, 30),\n",
    "    time = date_range,\n",
    "    measurements=['red', 'green', 'blue'],\n",
    "    dask_chunks = {'x': 4000, 'y': 4000, 'time': 1}\n",
    ")\n",
    "\n",
    "print(ds)"
   ]
  },
  {
   "cell_type": "markdown",
   "metadata": {},
   "source": [
    "## Calculate the number of pixels used\n",
    "\n",
    "Multiplying the size of the x- and y-dimensions together gives the total number of pixels that will be used in the calculation, which demonstrates the need for parallel computing."
   ]
  },
  {
   "cell_type": "code",
   "execution_count": null,
   "metadata": {},
   "outputs": [],
   "source": [
    "n_pixels = ds.dims['x'] * ds.dims['y']\n",
    "n_pixels_billions = n_pixels / 10**9\n",
    "\n",
    "print(\"{:2.2f} billion pixels\".format(n_pixels_billions))"
   ]
  },
  {
   "cell_type": "markdown",
   "metadata": {},
   "source": [
    "## Calculate the average colour\n",
    "\n",
    "There are a few steps involved in calculating the average colour. Firstly, we calculate the average value for each of the `red`, `green`, and `blue` bands (specifying that the values must be greater than 0 to be included in the average). Secondly, the average values must be scaled to account for how the Landsat 8 satellite captures data. In this case, each pixel in each Landsat 8 band is stored as a value from 0 to 10,000, with larger values corresponding to brighter objects. To prevent high-value pixels (such as cloud) from affecting the contrast, we divide the average values for each band by 3000. Finally, the scaled average values are converted to RGB values by clipping the scaled values from 0 to 1 and multiplying by 255. This final step is captured in the `get_rgb()` function in the next cell.\n",
    "\n",
    "To see the resources being used when you run the operation, visit https://dask.sandbox.dea.ga.gov.au/status."
   ]
  },
  {
   "cell_type": "code",
   "execution_count": null,
   "metadata": {},
   "outputs": [],
   "source": [
    "def get_rgb(scaled_ds):\n",
    "    rgb_values = [int(np.clip(scaled_ds[band], 0, 1) * 255) for band in ['red', 'green', 'blue']]\n",
    "    red, green, blue = rgb_values\n",
    "    hex_value = '#{:02x}{:02x}{:02x}'.format(red, green, blue) \n",
    "\n",
    "    return(rgb_values, hex_value)"
   ]
  },
  {
   "cell_type": "code",
   "execution_count": null,
   "metadata": {},
   "outputs": [],
   "source": [
    "%%time\n",
    "average = ds.where(ds>0).mean()\n",
    "\n",
    "scaling_factor = 3000\n",
    "scaled_average = average / scaling_factor\n",
    "\n",
    "rgb, hex_colour = get_rgb(scaled_average)\n",
    "\n",
    "print(\"Hex Code: {}\".format(hex_colour))\n",
    "print(\"Red: {}, Green: {}, Blue: {}\".format(rgb[0], rgb[1], rgb[2]))"
   ]
  },
  {
   "cell_type": "markdown",
   "metadata": {},
   "source": [
    "## Display the average colour"
   ]
  },
  {
   "cell_type": "code",
   "execution_count": null,
   "metadata": {},
   "outputs": [],
   "source": [
    "from matplotlib.patches import Rectangle\n",
    "\n",
    "fig, ax = plt.subplots(figsize=(5,5))\n",
    "ax.add_patch(Rectangle((0.0, 0.0), 1.0, 1.0, alpha=1, facecolor=hex_colour))\n",
    "plt.show()"
   ]
  }
 ],
 "metadata": {
  "kernelspec": {
   "display_name": "Python 3",
   "language": "python",
   "name": "python3"
  },
  "language_info": {
   "codemirror_mode": {
    "name": "ipython",
    "version": 3
   },
   "file_extension": ".py",
   "mimetype": "text/x-python",
   "name": "python",
   "nbconvert_exporter": "python",
   "pygments_lexer": "ipython3",
   "version": "3.6.7"
  }
 },
 "nbformat": 4,
 "nbformat_minor": 2
}
