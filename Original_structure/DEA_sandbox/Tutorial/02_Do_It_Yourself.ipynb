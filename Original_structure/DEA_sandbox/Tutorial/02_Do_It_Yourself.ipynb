{
 "cells": [
  {
   "cell_type": "markdown",
   "metadata": {},
   "source": [
    "# Do it yourself\n",
    "\n",
    "In the following notebook, you'll be exploring how you can load and visualise data using a set of simple Open Data Cube commands.\n",
    "\n",
    "Before you get started, you should save this notebook to somewhere outside the `examples` folder, so that your work wont get overwritten when you next log in.\n",
    "\n",
    "As you work through this notebook you will:\n",
    "1. Pick a study area anywhere in Australia.\n",
    "1. Explore available data products for your study area.\n",
    "1. Set up a datacube load command to load data for your study area.\n",
    "1. Plot data that has been loaded, exploring plotting of different timesteps.\n",
    "1. Export data to an image format to view on your local computer.\n",
    "\n",
    "Let's get started.\n",
    "\n",
    "First, please use Google Maps to pick a study site in Australia and click on the map. You should be able to select the lat/lon coordiantes. Visit [maps.google.com](https://www.google.com/maps/@-28.6035447,135.9291226,4.93z) to select a site. The image below shows the coordinates that you can select at the bottom of the image.\n",
    "\n",
    "![google maps coordinates](images/google_maps.jpg \"Google Maps Coordinates\")\n",
    "\n",
    "\n",
    "*Note that there are three example study sites below that you can use if you like. Uncomment the one you'd like to look at. Once you've picked a site, you need to run or re-run each cell below to run the analysis on the new data.*"
   ]
  },
  {
   "cell_type": "code",
   "execution_count": null,
   "metadata": {},
   "outputs": [],
   "source": [
    "# Example study site one, Dead Dog Creek in Queensland\n",
    "coordinates = [-14.642744, 144.899747]\n",
    "\n",
    "# Example study site two, Giles Creek near Alice Springs\n",
    "# coordinates = [-23.765165, 134.724024]\n",
    "\n",
    "# Example study site three, Lake Disappointment in WA\n",
    "# coordinates = [-23.481127, 122.817712]\n",
    "\n",
    "# Paste your coordinates here, and remove the hash to uncomment\n",
    "# coordinates = []"
   ]
  },
  {
   "cell_type": "code",
   "execution_count": null,
   "metadata": {},
   "outputs": [],
   "source": [
    "# For simplicity, store the centre X and Y coords\n",
    "centre_x = coordinates[1]  # longitude\n",
    "centre_y = coordinates[0]  # latitude\n",
    "\n",
    "# And now make a bounding box with them\n",
    "# Note that you can change the box_size to load more data. More data means longer load, though!\n",
    "box_size = 0.1\n",
    "bounding_box_x =  (centre_x - box_size, centre_x + box_size)\n",
    "bounding_box_y =  (centre_y - box_size, centre_y + box_size)"
   ]
  },
  {
   "cell_type": "markdown",
   "metadata": {},
   "source": [
    "## Loading a cube of data\n",
    "\n",
    "This next section does the load. First we set up a datacube object, `dc`, which has all the functions of the Open Data Cube library, and then we use the `dc.load()` function to load data. You can see the parameters that we've set below, but you can change them, for example, adding or removing measurements based on [product metadata](ODC_and_DEA_Metadata.ipynb)."
   ]
  },
  {
   "cell_type": "code",
   "execution_count": null,
   "metadata": {},
   "outputs": [],
   "source": [
    "%matplotlib inline\n",
    "import datacube\n",
    "import warnings\n",
    "warnings.filterwarnings('ignore')  # suppress warnings\n",
    "\n",
    "dc = datacube.Datacube(app='do-it-yourself')\n",
    "\n",
    "# This command here does the loading of data\n",
    "# Please be patient, it can take some time to load, depending on the size of your study area\n",
    "# For the example study area, this took 1 minute\n",
    "data_cube = dc.load(\n",
    "    product='s2a_nrt_granule',\n",
    "    x=bounding_box_x,\n",
    "    y=bounding_box_y,\n",
    "    resolution = (-10, 10),\n",
    "    output_crs='epsg:3577',\n",
    "    measurements=(\n",
    "        'nbar_red',\n",
    "        'nbar_green',\n",
    "        'nbar_blue',\n",
    "        'nbar_nir_1'\n",
    "    )\n",
    ")"
   ]
  },
  {
   "cell_type": "code",
   "execution_count": null,
   "metadata": {},
   "outputs": [],
   "source": [
    "# This will give information on how much data was loaded\n",
    "# Most interesting is the 'Dimensions' section, that tells you how many timesteps were loaded\n",
    "# and the x/y resolution of the cube.\n",
    "print(data_cube)"
   ]
  },
  {
   "cell_type": "markdown",
   "metadata": {},
   "source": [
    "## Plotting data\n",
    "\n",
    "The next step uses Matplotlib to plot some data. We use a quick function to prepare the data, called `three_band_image`, which will prepare the measurements from the datacube we loaded into something Matplotlib expects. Later, we show another way to plot a simple single-band image.\n",
    "\n",
    "You should experiment with plotting different timesteps or combinations of bands."
   ]
  },
  {
   "cell_type": "code",
   "execution_count": null,
   "metadata": {
    "scrolled": false
   },
   "outputs": [],
   "source": [
    "import matplotlib.pyplot as plt\n",
    "\n",
    "# Note that this import should work if this notebook is either in examples or in the root folder.\n",
    "try:\n",
    "    from utils.utils import three_band_image\n",
    "except ImportError:\n",
    "    from examples.utils.utils import three_band_image\n",
    "\n",
    "\n",
    "# Change these!\n",
    "# You can change the time to anything from 0 to one less than the number of timesteps.\n",
    "# For example, if there are 6 timesteps, the largest time you can use is 5.\n",
    "time = 1\n",
    "\n",
    "# The bands can be any of the bands that we loaded above, so any of:\n",
    "# 'nbar_red', 'nbar_green', 'nbar_blue', 'nbar_nir_1'\n",
    "# You can experiment with plotting in false-colour, for example, try ['nbar_nir_1', 'nbar_red', 'nbar_green']\n",
    "# You can switch between the two band lists specified below or write your own.\n",
    "bands = ['nbar_red', 'nbar_green', 'nbar_blue']\n",
    "# bands = ['nbar_nir_1', 'nbar_red', 'nbar_green']\n",
    "\n",
    "\n",
    "# Prepare the image\n",
    "img_toshow = three_band_image(\n",
    "    data_cube,\n",
    "    bands=bands,\n",
    "    time=time\n",
    ")\n",
    "# Format the time string nicely\n",
    "time_string = str(data_cube.time.isel(time=time).values).split('.')[0]\n",
    "\n",
    "# And plot it\n",
    "plt.figure(figsize=(10,10))\n",
    "ax = plt.gca()\n",
    "ax.set_title(\"Timestep {}\".format(time_string), fontweight='bold', fontsize=16)\n",
    "ax.set_xticklabels(data_cube.x.values)\n",
    "ax.set_yticklabels(data_cube.y.values)\n",
    "ax.set_xlabel('Easting', fontweight='bold')\n",
    "ax.set_ylabel('Northing', fontweight='bold')\n",
    "\n",
    "plt.imshow(img_toshow)"
   ]
  },
  {
   "cell_type": "markdown",
   "metadata": {},
   "source": [
    "##  Exporting data\n",
    "The last task here is to export the data for your study site. You can change the name of the filename so that you know what the file is going to be called. After the file has been created, you can download it from the Jupyter directory it was exported into."
   ]
  },
  {
   "cell_type": "code",
   "execution_count": null,
   "metadata": {},
   "outputs": [],
   "source": [
    "from datacube import helpers\n",
    "\n",
    "# You can change this, if you like.\n",
    "filename = \"example.tiff\"\n",
    "\n",
    "helpers.write_geotiff(dataset=data_cube.isel(time=1), filename=filename)"
   ]
  },
  {
   "cell_type": "markdown",
   "metadata": {},
   "source": [
    "## Stretch goal: Calculate NDVI\n",
    "\n",
    "If you've come this far and you'd like to do something a bit fancier, you can have a go at calculating the normalised difference vegetation index (NDVI) over your study site. There is a definition of what [NDVI is on Wikipedia](https://en.wikipedia.org/wiki/Normalized_difference_vegetation_index).\n",
    "\n",
    "Basically, you need to use the following formula:\n",
    "\n",
    "$$\n",
    "\\begin{aligned}\n",
    "ndvi & = \\frac{(nir - red)}{(nir + red)} \\\\\n",
    "\\end{aligned}\n",
    "$$\n",
    "    \n",
    "Some hints:\n",
    " * You can access bands of an Xarray (the data format we're using) with their name, like this: `data_cube.bandname`\n",
    " * You can do simple math with bands by simply referring to them, like this: `data_cube.bandname_1 + data_cube.bandname_2`\n",
    " * The two band names you're after are `nbar_nir_1`, which is near infra-red, and `nbar_red`, which is red.\n"
   ]
  },
  {
   "cell_type": "code",
   "execution_count": null,
   "metadata": {},
   "outputs": [],
   "source": [
    "# Calculate NDVI here\n",
    "ndvi = # Your calculation goes here\n",
    "\n",
    "# This is the simple way to plot\n",
    "# Note that high values are likely to be vegetation.\n",
    "plt.figure(figsize=(10,10))\n",
    "ndvi.isel(time=1).plot()\n",
    "plt.show()"
   ]
  }
 ],
 "metadata": {
  "kernelspec": {
   "display_name": "Python 3",
   "language": "python",
   "name": "python3"
  },
  "language_info": {
   "codemirror_mode": {
    "name": "ipython",
    "version": 3
   },
   "file_extension": ".py",
   "mimetype": "text/x-python",
   "name": "python",
   "nbconvert_exporter": "python",
   "pygments_lexer": "ipython3",
   "version": "3.6.7"
  }
 },
 "nbformat": 4,
 "nbformat_minor": 2
}
