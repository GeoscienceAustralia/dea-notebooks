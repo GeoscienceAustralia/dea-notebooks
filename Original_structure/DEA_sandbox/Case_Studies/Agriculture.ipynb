{
 "cells": [
  {
   "cell_type": "markdown",
   "metadata": {},
   "source": [
    "# Agriculture Case Study\n",
    "\n",
    "### Background\n",
    "During a normal year, sugar cane in Queensland typically flowers early May through June; July to November is typically cane harvesting season.\n",
    "\n",
    "### The Problem\n",
    "While sugar is growing, fields may look visually similar, but health or growth rates from these fields can be quite different, leading to variability and unpredictability in revenue. Identifying underperforming crops can have two benefits:\n",
    "\n",
    "-  Ability to scout for frost or disease damage.\n",
    "-  Ability to investigate poor performing paddocks and undertake management action such as soil testing or targeted fertilising to improve yield.\n",
    "\n",
    "### Digital Earth Australia Use Case\n",
    "Satellite imagery can be used to measure pasture health over time and identify any changes in growth patterns between otherwise similar paddocks.\n",
    "\n",
    "The normalised difference vegetation index (NDVI) describes the difference between visible and near-infrared reflectance of vegetation cover. This index estimates the density of green on an area of land and can be used to track the health and growth of sugar as it matures. Comparing the NDVI of two similar paddocks will help to identify any anomalies in growth patterns. \n",
    "\n",
    "In this example, data from the European Sentinel-2 satellites is used to make a near real-time assessment of crop growing patterns, facillitating management decisions in the field. This data is made available through the Copernicus Regional Data Hub and Digital Earth Australia within 1-2 days of capture.\n",
    "\n",
    "The worked example below takes users through the code required to:\n",
    "-  Create a time series data cube over a farming property.\n",
    "-  Select multiple paddocks for comparison.\n",
    "-  Create graphs to identify crop performance trends over the previous month.\n",
    "-  Interpret the results.\n",
    "\n",
    "### Technical details\n",
    "\n",
    "**Products used: NDVI** <br>\n",
    "The normalised difference vegetation index is calculated from near infra-red (NIR) and red band measurements. It takes values from -1 to 1, with high values corresponding to healthy vegetation. It is calculated as<br>\n",
    "<br>\n",
    "$$\\text{NDVI} = \\frac{\\text{NIR}-\\text{Red}}{\\text{NIR}+\\text{Red}}.$$\n",
    "\n",
    "**Satellite data: Sentinel-2** <br>\n",
    "Near real-time optical data for the last 90 days. Available from the [Amazon S3 dea-public-data](http://dea-public-data.s3-website-ap-southeast-2.amazonaws.com/?prefix=L2/sentinel-2-nrt/S2MSIARD/) bucket. Covers both Sentinel-2a and Sentinel-2b.\n",
    "\n",
    "**App functions:** [casestudy_agriculture_functions](./utils/casestudy_agriculture_functions.py)\n",
    "* `load_agriculture_data()`: Loads, combines and cleans data from Sentinel-2a and -2b.\n",
    "* `run_agriculture_app()`: Launches an interactive map and plots average NDVI for selected areas."
   ]
  },
  {
   "cell_type": "markdown",
   "metadata": {},
   "source": [
    "## Run this notebook\n",
    "\n",
    "### Load the app functions\n",
    "The relevant Open Data Cube commands are exectuted by the two app functions `load_agriculture_data()` and `run_agriculture_app()`. To run the notebook, these need to be imported from `utils.casestudy_agriculture_functions` where they're described.\n",
    "\n",
    "The `%matplotlib inline` command allows the notebook to contain plots.\n",
    "\n",
    "**To run cells, click inside and either press the** `Run` **button on the tool-bar or press** `Shift+Enter` **on the keyboard.**"
   ]
  },
  {
   "cell_type": "code",
   "execution_count": null,
   "metadata": {},
   "outputs": [],
   "source": [
    "%matplotlib inline\n",
    "\n",
    "from utils.casestudy_agriculture_functions import load_agriculture_data, run_agriculture_app"
   ]
  },
  {
   "cell_type": "markdown",
   "metadata": {},
   "source": [
    "### Load the data\n",
    "The `load_agriculture_data()` command performs several key steps:\n",
    "* identify all available Sentinel-2 near real time data in the case-study area over the last 90 days\n",
    "* remove any bad quality pixels\n",
    "* keep images where more than half of the image contains good quality pixels\n",
    "* collate images from Sentinel-2a and Sentinel-2b into a single data-set\n",
    "* calculate the NDVI from the red and near infrared bands\n",
    "* return the collated data for analysis\n",
    "\n",
    "The cleaned and collated data is stored in the `dataset_sentinel2` object. As the command runs, feedback will be provided below the cell, including information on the number of cleaned images loaded from each satellite."
   ]
  },
  {
   "cell_type": "code",
   "execution_count": null,
   "metadata": {},
   "outputs": [],
   "source": [
    "dataset_sentinel2 = load_agriculture_data()"
   ]
  },
  {
   "cell_type": "markdown",
   "metadata": {},
   "source": [
    "### Run the agriculture app\n",
    "The `run_agriculture_app()` command launches an interactive map. Drawing polygons within the boundary (which represents the area covered by the loaded data) will result in plots of the average NDVI in that area.\n",
    "\n",
    "The command works by taking the loaded data `dataset_sentinel2` as an argument.\n",
    "\n",
    "*Note:* data points will only appear for images where more than 50% of the pixels were classified as good quality. This may cause trend lines on the average NDVI plot to appear disconnected. Available data points will be marked with the `*` symbol."
   ]
  },
  {
   "cell_type": "code",
   "execution_count": null,
   "metadata": {},
   "outputs": [],
   "source": [
    "run_agriculture_app(dataset_sentinel2)"
   ]
  },
  {
   "cell_type": "markdown",
   "metadata": {},
   "source": [
    "### Insights\n",
    "Plotting the NDVI over time for different fields can indicate the relative health of fields, or patterns in harvesting. The data for this notebook is being continually updated, and outcomes will change depending on the time of year the notebook is run."
   ]
  }
 ],
 "metadata": {
  "kernelspec": {
   "display_name": "Python 3",
   "language": "python",
   "name": "python3"
  },
  "language_info": {
   "codemirror_mode": {
    "name": "ipython",
    "version": 3
   },
   "file_extension": ".py",
   "mimetype": "text/x-python",
   "name": "python",
   "nbconvert_exporter": "python",
   "pygments_lexer": "ipython3",
   "version": "3.6.8"
  }
 },
 "nbformat": 4,
 "nbformat_minor": 4
}
