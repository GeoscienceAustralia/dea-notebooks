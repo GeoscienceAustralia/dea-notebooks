{
 "cells": [
  {
   "cell_type": "markdown",
   "metadata": {},
   "source": [
    "# Random forest classification\n",
    "\n",
    "**What does this notebook do?** \n",
    "\n",
    "This notebook classifies remote sensing data using a `random forest` classifier model. Key features include being able to efficiently import training data from a set of point, line or polygon shapefiles (i.e. data is extracted from each shapefile separately to avoid slow `dc.load` on large areas), and allow flexible and consistent selection of training and analysis data using import functions (i.e. ensuring training data is consistent with analysis data). The notebook exports geotiff classification outputs and a series of evaluation figures to help fine-tune the classifier.\n",
    "\n",
    "**Requirements:**\n",
    "\n",
    "You need to run the following commands from the command line prior to launching jupyter notebooks from the same terminal so that the required libraries and paths are set:\n",
    "\n",
    "`module use /g/data/v10/public/modules/modulefiles` \n",
    "\n",
    "`module load dea`\n",
    "\n",
    "This notebook also uses four external functions called `randomforest_train`, `randomforest_classify`, `randomforest_eval` and `load_nbarx`. These functions are available in the `10_Scripts` folder of the [dea-notebooks Github repository](https://github.com/GeoscienceAustralia/dea-notebooks/tree/master/10_Scripts). To ensure these functions and all other file paths load correctly, it is recommended that you download or clone the entire `dea-notebooks` repository onto your computer and then launch this notebook from inside the cloned directory; please see the [readme document here](https://github.com/GeoscienceAustralia/dea-notebooks/) for instructions. \n",
    "\n",
    "Note that these functions have been developed by DEA users, not the DEA development team, and so are provided without warranty. If you find an error or bug in the functions or notebook, please either create an 'Issue' in the Github repository, or fix it yourself and create a 'Pull' request to contribute the updated notebook back into the repository (See the repository [README](https://github.com/GeoscienceAustralia/dea-notebooks/blob/master/README.rst) for instructions on creating a Pull request).\n",
    "\n",
    "**Date:** August 2018\n",
    "\n",
    "**Author:** Robbi Bishop-Taylor"
   ]
  },
  {
   "cell_type": "raw",
   "metadata": {
    "raw_mimetype": "text/restructuredtext"
   },
   "source": [
    "**Tags**: :index:`image_classification`, :index:`machine_learning`, :index:`random_forest`, :index:`Landsat8`, :index:`mangroves`, :index:`tasseled_cap`, :index:`Scripts`, :index:`water_classification`"
   ]
  },
  {
   "cell_type": "markdown",
   "metadata": {},
   "source": [
    "## Import modules and define functions"
   ]
  },
  {
   "cell_type": "code",
   "execution_count": 1,
   "metadata": {
    "extensions": {
     "jupyter_dashboards": {
      "version": 1,
      "views": {
       "grid_default": {
        "hidden": true
       },
       "report_default": {
        "hidden": true
       }
      }
     }
    }
   },
   "outputs": [],
   "source": [
    "# Load modules\n",
    "import datacube\n",
    "import os\n",
    "import sys\n",
    "import warnings\n",
    "import pandas as pd\n",
    "import xarray as xr\n",
    "import numpy as np\n",
    "import matplotlib.image as mpimg\n",
    "from datacube.utils import geometry\n",
    "from datacube.utils.geometry import CRS\n",
    "from matplotlib import pyplot as plt\n",
    "from sklearn.ensemble import RandomForestClassifier\n",
    "from sklearn.tree import export_graphviz\n",
    "from datacube_stats.statistics import GeoMedian\n",
    "\n",
    "# Import external functions from dea-notebooks using relative link to 10_Scripts\n",
    "sys.path.append('../10_Scripts')\n",
    "from ClassificationTools import randomforest_train\n",
    "from ClassificationTools import randomforest_classify\n",
    "from ClassificationTools import randomforest_eval\n",
    "from DEADataHandling import load_nbarx\n",
    "\n",
    "# Set up datacube instance\n",
    "dc = datacube.Datacube(app = 'Random forest classification')\n"
   ]
  },
  {
   "cell_type": "markdown",
   "metadata": {
    "extensions": {
     "jupyter_dashboards": {
      "version": 1,
      "views": {
       "grid_default": {
        "hidden": true
       },
       "report_default": {
        "hidden": true
       }
      }
     }
    }
   },
   "source": [
    "## Function used to import training and analysis data\n",
    "This function imports datacube data using a query, and return an xarray dataset with one single time-step, multiple bands/variables and `crs` and `affine` attributes. \n",
    "This format is required as an input to both `randomforest_train` and `randomforest_classify` to ensure that both training and analysis data are consistent. This function can be replaced with a custom function of your creation, as long as it returns data in the same format (one time-step, multiple bands, `crs` and `affine` attributes)."
   ]
  },
  {
   "cell_type": "code",
   "execution_count": 3,
   "metadata": {
    "extensions": {
     "jupyter_dashboards": {
      "version": 1,
      "views": {
       "grid_default": {
        "hidden": true
       },
       "report_default": {
        "hidden": true
       }
      }
     }
    }
   },
   "outputs": [],
   "source": [
    "\n",
    "def nbart_import(query):\n",
    "    \n",
    "    '''\n",
    "    Takes median of a set of nbart Landsat data; could be replaced with geomedian or any other \n",
    "    temporal aggregation method\n",
    "    \n",
    "    :attr query: query for datacube call; for training, supply only\n",
    "    non-spatial queries as spatial are generated from training data\n",
    "    :returns: xarray dataset with 'crs' and 'affine' attributes\n",
    "    '''\n",
    "    \n",
    "    # Import cleaned Landsat bands data\n",
    "    nbart_data, _, _ = load_nbarx(dc, sensor='ls8', query=query, \n",
    "                                  bands_of_interest=['red', 'green', 'blue', 'nir', 'swir1', 'swir2'])\n",
    "    \n",
    "    # Combine into one temporally aggregated layer\n",
    "    aggregated_data = nbart_data.median(dim = 'time', keep_attrs = True)\n",
    "    \n",
    "    return aggregated_data\n"
   ]
  },
  {
   "cell_type": "markdown",
   "metadata": {
    "extensions": {
     "jupyter_dashboards": {
      "version": 1,
      "views": {
       "grid_default": {
        "col": 0,
        "height": 4,
        "hidden": false,
        "row": 0,
        "width": 4
       },
       "report_default": {
        "hidden": false
       }
      }
     }
    }
   },
   "source": [
    "## Set up analysis\n",
    "Defines parameters used for analysis. This notebook demonstrates the classification of water vs non-water using median Landsat nbart data."
   ]
  },
  {
   "cell_type": "code",
   "execution_count": 4,
   "metadata": {},
   "outputs": [],
   "source": [
    "# List of training files to import. Shapefiles can be either points, lines or polygons, \n",
    "# but must be in the same projection system as the remote sensing dataset being analysed. \n",
    "# Each file should cover a small enough spatial area so as to not slow dc.load function \n",
    "# excessively (e.g. 30 x 30km max). The class of each feature should be given in a shapefile\n",
    "# column (e.g. `class`), and specified in `randomforest_train` (i.e. `train_field = 'class'`).\n",
    "train_shps = ['../Supplementary_data/Files/training_data_waternonwater.shp',\n",
    "              '../Supplementary_data/Files/training_data_waternonwater2.shp']\n",
    "\n",
    "# Output path for classified geotiff\n",
    "classification_output = 'classification_dc_waternonwater.tif'\n",
    "\n",
    "# Optional dict to re-map training shapefile classes; useful for combining classes\n",
    "# (e.g. `train_reclass = {3:2}` re-maps class 3 to class 2)\n",
    "train_reclass = None\n",
    "\n",
    "# Names of output classification classes\n",
    "classification_names = ['water', 'nonwater']\n",
    "\n",
    "# Set data function used to import data and optional parameters (e.g. time for temporal data).\n",
    "# For example, 'tc_import' needs an additional 'time' query as it draws on Landsat time-series \n",
    "# data, while 'hltc_import' uses high-low tide composites that have no temporal dimension\n",
    "data_func = nbart_import\n",
    "data_func_params = {'time': ('2017-03-01', '2017-06-28')}\n"
   ]
  },
  {
   "cell_type": "markdown",
   "metadata": {
    "extensions": {
     "jupyter_dashboards": {
      "version": 1,
      "views": {
       "grid_default": {
        "col": 0,
        "height": 4,
        "hidden": false,
        "row": 9,
        "width": 12
       },
       "report_default": {
        "hidden": false
       }
      }
     }
    }
   },
   "source": [
    "## Import training data and fit model\n",
    "Uses `randomforest_train` to extract training data from potentially multiple training shapefiles, and returns a trained classifier (and optionally, training label and training sample arrays)"
   ]
  },
  {
   "cell_type": "code",
   "execution_count": 5,
   "metadata": {
    "extensions": {
     "jupyter_dashboards": {
      "version": 1,
      "views": {
       "grid_default": {
        "col": 0,
        "height": 14,
        "hidden": false,
        "row": 13,
        "width": 4
       },
       "report_default": {
        "hidden": false
       }
      }
     }
    }
   },
   "outputs": [
    {
     "name": "stdout",
     "output_type": "stream",
     "text": [
      "Importing training data from ../Supplementary_data/Files/training_data_waternonwater.shp:\n",
      "{'x': (130.80269773885783, 131.04984673894958), 'y': (-12.550884427041208, -12.351964574328044), 'crs': 'epsg:4326', 'time': ('2017-03-01', '2017-06-28')}\n",
      "Loading ls8_nbart_albers\n",
      "Loaded ls8_nbart_albers\n",
      "Generating mask ls8_pq_albers\n",
      "\n",
      "Training random forest classifier...\n",
      "Model trained on 6 bands and 88469 training samples\n"
     ]
    }
   ],
   "source": [
    "# Dict of classifier parameters\n",
    "classifier_params = {'n_jobs': -1,                                    \n",
    "                     'n_estimators': 100,\n",
    "                     'max_features': 'auto',\n",
    "                     'min_samples_leaf': 1,\n",
    "                     'oob_score': True }\n",
    "\n",
    "# Extract training data for each training shapefile and train classifier\n",
    "classifier, train_lab, train_samp = randomforest_train(train_shps = train_shps,\n",
    "                                                       train_field = 'class',\n",
    "                                                       data_func = data_func,\n",
    "                                                       data_func_params = data_func_params,\n",
    "                                                       classifier_params = classifier_params,\n",
    "                                                       train_reclass = train_reclass)\n"
   ]
  },
  {
   "cell_type": "markdown",
   "metadata": {
    "extensions": {
     "jupyter_dashboards": {
      "version": 1,
      "views": {
       "grid_default": {
        "col": 0,
        "height": 5,
        "hidden": false,
        "row": 27,
        "width": 12
       },
       "report_default": {
        "hidden": false
       }
      }
     }
    }
   },
   "source": [
    "## Import analysis data and classify\n",
    "Classifies and exports an analysis dataset using a previously trained random forest classifier, provided this dataset has the same number of bands/variables as the data used to train the classifier. Using the same data function used to train the classifier (e.g. `data_func` previously defined as `nbart_import`) will ensure this is the case. By setting `class_prob = True`, you can optionally export a geotiff of predicted class probabilities in addition to the classification output."
   ]
  },
  {
   "cell_type": "code",
   "execution_count": 6,
   "metadata": {
    "extensions": {
     "jupyter_dashboards": {
      "version": 1,
      "views": {
       "grid_default": {
        "hidden": true
       },
       "report_default": {
        "hidden": true
       }
      }
     }
    }
   },
   "outputs": [
    {
     "name": "stdout",
     "output_type": "stream",
     "text": [
      "Loading ls8_nbart_albers\n",
      "Loaded ls8_nbart_albers\n",
      "Generating mask ls8_pq_albers\n",
      "Data to classify:\n",
      "  Rows: 2401\n",
      "  Columns: 2401\n",
      "  Bands: 6\n",
      "\n",
      "Classification processing...\n",
      "  9467 nodata cells removed\n",
      "  Classification exported\n",
      "\n",
      "Class probability processing...\n",
      "  Class probability exported\n"
     ]
    },
    {
     "data": {
      "text/plain": [
       "<matplotlib.collections.QuadMesh at 0x7fcf399be780>"
      ]
     },
     "execution_count": 6,
     "metadata": {},
     "output_type": "execute_result"
    },
    {
     "data": {
      "image/png": "[encoded data removed]",
      "text/plain": [
       "<Figure size 576x576 with 2 Axes>"
      ]
     },
     "metadata": {},
     "output_type": "display_data"
    },
    {
     "data": {
      "image/png": "[encoded data removed]",
      "text/plain": [
       "<Figure size 576x576 with 2 Axes>"
      ]
     },
     "metadata": {},
     "output_type": "display_data"
    }
   ],
   "source": [
    "# Set up analysis data query\n",
    "lat_point, lon_point, buffer = -12.5798399926, 130.782907919, 30000\n",
    "x, y = geometry.point(lon_point, lat_point, CRS('WGS84')).to_crs(CRS('EPSG:3577')).points[0]\n",
    "query = {'x': (x - buffer, x + buffer),\n",
    "         'y': (y - buffer, y + buffer),         \n",
    "         'crs': 'EPSG:3577',\n",
    "          **data_func_params}\n",
    "\n",
    "# Load data from datacube\n",
    "analysis_xarray = data_func(query)\n",
    "\n",
    "# Run classification and export to file   \n",
    "class_array, prob_array = randomforest_classify(classifier = classifier,\n",
    "                                                analysis_data = analysis_xarray,\n",
    "                                                classification_output = classification_output,\n",
    "                                                class_prob = True)\n",
    "\n",
    "# Plot output classification\n",
    "class_xarray = xr.DataArray(class_array, \n",
    "                   coords = [analysis_xarray.y, analysis_xarray.x], \n",
    "                   dims = ['y', 'x'],\n",
    "                   name = 'Classification output')\n",
    "class_xarray.plot(levels = list(np.unique(class_array)) + [len(np.unique(class_array)) + 1], \n",
    "                  figsize = (8, 8))\n",
    "\n",
    "# Plot predicted class probability (proportion of trees agreeing with classification)\n",
    "plt.plot()\n",
    "prob_xarray = xr.DataArray(prob_array, \n",
    "                           coords = [analysis_xarray.y, analysis_xarray.x], \n",
    "                           dims = ['y', 'x'],\n",
    "                           name = 'Predicted class probability')\n",
    "prob_xarray.plot(cmap = 'plasma_r',  \n",
    "                 vmin = np.percentile(prob_array, 3), \n",
    "                 vmax = np.percentile(prob_array, 97),\n",
    "                 figsize = (8, 8))\n"
   ]
  },
  {
   "cell_type": "markdown",
   "metadata": {
    "extensions": {
     "jupyter_dashboards": {
      "version": 1,
      "views": {
       "grid_default": {
        "col": 0,
        "height": 4,
        "hidden": false,
        "row": 32,
        "width": 12
       },
       "report_default": {
        "hidden": false
       }
      }
     }
    }
   },
   "source": [
    "## Feature/band/variable importance\n",
    "Extract classifier estimates of the relative importance of each band/variable for training the classifier. Useful for potentially selecting a subset of input bands/variables for model training/classification (i.e. optimising feature space)"
   ]
  },
  {
   "cell_type": "code",
   "execution_count": 7,
   "metadata": {
    "extensions": {
     "jupyter_dashboards": {
      "version": 1,
      "views": {
       "grid_default": {
        "hidden": true
       },
       "report_default": {
        "hidden": true
       }
      }
     }
    }
   },
   "outputs": [
    {
     "data": {
      "text/html": [
       "<div>\n",
       "<style scoped>\n",
       "    .dataframe tbody tr th:only-of-type {\n",
       "        vertical-align: middle;\n",
       "    }\n",
       "\n",
       "    .dataframe tbody tr th {\n",
       "        vertical-align: top;\n",
       "    }\n",
       "\n",
       "    .dataframe thead th {\n",
       "        text-align: right;\n",
       "    }\n",
       "</style>\n",
       "<table border=\"1\" class=\"dataframe\">\n",
       "  <thead>\n",
       "    <tr style=\"text-align: right;\">\n",
       "      <th></th>\n",
       "      <th>importance</th>\n",
       "    </tr>\n",
       "    <tr>\n",
       "      <th>variable</th>\n",
       "      <th></th>\n",
       "    </tr>\n",
       "  </thead>\n",
       "  <tbody>\n",
       "    <tr>\n",
       "      <th>red</th>\n",
       "      <td>0.007803</td>\n",
       "    </tr>\n",
       "    <tr>\n",
       "      <th>green</th>\n",
       "      <td>0.024393</td>\n",
       "    </tr>\n",
       "    <tr>\n",
       "      <th>blue</th>\n",
       "      <td>0.019284</td>\n",
       "    </tr>\n",
       "    <tr>\n",
       "      <th>nir</th>\n",
       "      <td>0.420742</td>\n",
       "    </tr>\n",
       "    <tr>\n",
       "      <th>swir1</th>\n",
       "      <td>0.345617</td>\n",
       "    </tr>\n",
       "    <tr>\n",
       "      <th>swir2</th>\n",
       "      <td>0.182160</td>\n",
       "    </tr>\n",
       "  </tbody>\n",
       "</table>\n",
       "</div>"
      ],
      "text/plain": [
       "          importance\n",
       "variable            \n",
       "red         0.007803\n",
       "green       0.024393\n",
       "blue        0.019284\n",
       "nir         0.420742\n",
       "swir1       0.345617\n",
       "swir2       0.182160"
      ]
     },
     "metadata": {},
     "output_type": "display_data"
    },
    {
     "data": {
      "image/png": "[encoded data removed]",
      "text/plain": [
       "<Figure size 432x288 with 1 Axes>"
      ]
     },
     "metadata": {},
     "output_type": "display_data"
    }
   ],
   "source": [
    "#  Extract feature importances from trained classifier\n",
    "importance = classifier.feature_importances_\n",
    "importance_df = pd.DataFrame({'variable': analysis_xarray.data_vars,\n",
    "                              'importance': importance})\n",
    "importance_df.set_index(\"variable\", inplace = True)\n",
    "importance_df.plot.bar(title = \"Variable importance (global)\")\n",
    "display(importance_df)\n"
   ]
  },
  {
   "cell_type": "markdown",
   "metadata": {
    "extensions": {
     "jupyter_dashboards": {
      "version": 1,
      "views": {
       "grid_default": {
        "col": 0,
        "height": 4,
        "hidden": false,
        "row": 40,
        "width": 12
       },
       "report_default": {
        "hidden": false
       }
      }
     }
    }
   },
   "source": [
    "## Plot performance of model by parameter values\n",
    "Random forest classifiers contain many modifiable parameters that can strongly affect the performance of the model. This section evaluates the effect of these parameters by plotting out-of-bag (OOB) error for a set of classifier parameter scenarios, and exports the resulting plots to file.\n",
    "\n",
    "A `max_estimators = 300` is usually a good starting point, but this may be slow for large training sets."
   ]
  },
  {
   "cell_type": "code",
   "execution_count": null,
   "metadata": {
    "extensions": {
     "jupyter_dashboards": {
      "version": 1,
      "views": {
       "grid_default": {
        "hidden": true
       },
       "report_default": {
        "hidden": true
       }
      }
     }
    },
    "scrolled": false
   },
   "outputs": [],
   "source": [
    "# Test effect of max features\n",
    "classifier_scenario1 = [(\"max_features = 'sqrt'\",\n",
    "                        RandomForestClassifier(warm_start = True,\n",
    "                                               oob_score = True,\n",
    "                                               max_features = \"sqrt\")),\n",
    "                       (\"max_features = 'log2'\",\n",
    "                        RandomForestClassifier(warm_start = True, \n",
    "                                               oob_score = True,\n",
    "                                               max_features = \"log2\")),\n",
    "                        \n",
    "                       (\"max_features = '0.1'\",\n",
    "                        RandomForestClassifier(warm_start = True, \n",
    "                                               max_features = 0.1,\n",
    "                                               oob_score = True)),\n",
    "                        \n",
    "                       (\"max_features = '0.5'\",\n",
    "                        RandomForestClassifier(warm_start = True, \n",
    "                                               max_features = 0.5,\n",
    "                                               oob_score = True)),\n",
    "                       (\"max_features = None\",\n",
    "                        RandomForestClassifier(warm_start = True,\n",
    "                                               max_features = None,\n",
    "                                               oob_score = True))]\n",
    "\n",
    "# Test effect of minimum samples per leaf\n",
    "classifier_scenario2 = [(\"Leaf = 1\",\n",
    "                         RandomForestClassifier(warm_start = True,\n",
    "                                                min_samples_leaf = 1,\n",
    "                                                oob_score = True)),                       \n",
    "                       (\"Leaf = 10\",\n",
    "                        RandomForestClassifier(warm_start = True,\n",
    "                                               min_samples_leaf = 10,\n",
    "                                               oob_score = True)),                       \n",
    "                       (\"Leaf = 20\",\n",
    "                        RandomForestClassifier(warm_start = True, \n",
    "                                               min_samples_leaf = 20,\n",
    "                                               oob_score = True)),\n",
    "                       (\"Leaf = 40\",\n",
    "                        RandomForestClassifier(warm_start = True, \n",
    "                                               min_samples_leaf = 40,\n",
    "                                               oob_score = True))]\n",
    "\n",
    "# Test effect of max depth\n",
    "classifier_scenario3 = [(\"Max depth = 1\",\n",
    "                         RandomForestClassifier(warm_start = True,\n",
    "                                                max_depth = 1,\n",
    "                                                oob_score = True)),                       \n",
    "                       (\"Max depth = 2\",\n",
    "                        RandomForestClassifier(warm_start = True,\n",
    "                                               max_depth = 2,\n",
    "                                               oob_score = True)),                       \n",
    "                       (\"Max depth = 5\",\n",
    "                        RandomForestClassifier(warm_start = True, \n",
    "                                               max_depth = 5,\n",
    "                                               oob_score = True)),                       \n",
    "                       (\"Max depth = 10\",\n",
    "                        RandomForestClassifier(warm_start = True, \n",
    "                                               max_depth = 10,\n",
    "                                               oob_score = True))]\n",
    "\n",
    "# Test effect of max leaf node\n",
    "classifier_scenario4 = [(\"Max leaf node = 5\",\n",
    "                         RandomForestClassifier(warm_start = True,\n",
    "                                                max_leaf_nodes = 5,\n",
    "                                                oob_score = True)),                       \n",
    "                       (\"Max leaf node = 10\",\n",
    "                        RandomForestClassifier(warm_start = True,\n",
    "                                               max_leaf_nodes = 10,\n",
    "                                               oob_score = True)),                       \n",
    "                       (\"Max leaf node = 20\",\n",
    "                        RandomForestClassifier(warm_start = True, \n",
    "                                               max_leaf_nodes = 20,\n",
    "                                               oob_score = True)),                       \n",
    "                       (\"Max leaf node = 40\",\n",
    "                        RandomForestClassifier(warm_start = True, \n",
    "                                               max_leaf_nodes = 40,\n",
    "                                               oob_score = True))]\n",
    "\n",
    "# Test effect of max leaf node\n",
    "classifier_scenario5 = [(\"Min samples split = 5\",\n",
    "                         RandomForestClassifier(warm_start = True,\n",
    "                                                min_samples_split = 5,\n",
    "                                                oob_score = True)),                       \n",
    "                       (\"Min samples split = 10\",\n",
    "                        RandomForestClassifier(warm_start = True,\n",
    "                                               min_samples_split = 10,\n",
    "                                               oob_score = True)),                       \n",
    "                       (\"Min samples split = 20\",\n",
    "                        RandomForestClassifier(warm_start = True, \n",
    "                                               min_samples_split = 20,\n",
    "                                               oob_score = True)),                       \n",
    "                       (\"Min samples split = 40\",\n",
    "                        RandomForestClassifier(warm_start = True, \n",
    "                                               min_samples_split = 40,\n",
    "                                               oob_score = True))]\n",
    "\n",
    "# Produce figures and export plots for each set of classification scenarios\n",
    "for i, classifier_scenario in enumerate([classifier_scenario1, \n",
    "                                         classifier_scenario2, \n",
    "                                         classifier_scenario3,\n",
    "                                         classifier_scenario4,\n",
    "                                         classifier_scenario5]):\n",
    "    \n",
    "    # Plot OOB error by classifier scenario\n",
    "    print('Processing: ' + ', '.join([item[0] for item in classifier_scenario]))\n",
    "    randomforest_eval(training_labels = train_lab, \n",
    "                      training_samples = train_samp, \n",
    "                      classifier_scenario = classifier_scenario,\n",
    "                      output_path = \"figures/random_forest_params_{}.png\".format(i + 1),\n",
    "                      max_estimators = 50)   \n"
   ]
  },
  {
   "cell_type": "markdown",
   "metadata": {
    "extensions": {
     "jupyter_dashboards": {
      "version": 1,
      "views": {
       "grid_default": {
        "hidden": true
       },
       "report_default": {
        "hidden": true
       }
      }
     }
    }
   },
   "source": [
    "## Export tree diagrams\n",
    "Export .png plots of each decision tree in the random forest ensemble. Useful for inspecting the splits used by the classifier to classify the data."
   ]
  },
  {
   "cell_type": "code",
   "execution_count": null,
   "metadata": {
    "extensions": {
     "jupyter_dashboards": {
      "version": 1,
      "views": {
       "grid_default": {
        "hidden": true
       },
       "report_default": {
        "hidden": true
       }
      }
     }
    },
    "scrolled": false
   },
   "outputs": [],
   "source": [
    "# Plot output random forest trees to file\n",
    "for n, tree_in_forest in enumerate(classifier.estimators_):    \n",
    "\n",
    "    # Create graph and save to dot file\n",
    "    export_graphviz(tree_in_forest,\n",
    "                    out_file = \"figures/tree_graphs/tree.dot\",\n",
    "                    feature_names = list(analysis_xarray.data_vars),\n",
    "                    class_names = classification_names,\n",
    "                    filled = True,\n",
    "                    rounded = True)\n",
    "\n",
    "    # Plot as figure\n",
    "    os.system('dot -Tpng figures/tree_graphs/tree.dot -o ' + \\\n",
    "              'figures/tree_graphs/tree' + str(n + 1) + '.png')    \n",
    "    \n",
    "# Plot first resulting tree\n",
    "img = mpimg.imread('figures/tree_graphs/tree1.png')\n",
    "plt.figure(figsize = (15, 12))\n",
    "plt.imshow(img, interpolation = \"bilinear\")\n",
    "plt.show()\n"
   ]
  },
  {
   "cell_type": "code",
   "execution_count": null,
   "metadata": {},
   "outputs": [],
   "source": []
  }
 ],
 "metadata": {
  "celltoolbar": "Raw Cell Format",
  "extensions": {
   "jupyter_dashboards": {
    "activeView": "report_default",
    "version": 1,
    "views": {
     "grid_default": {
      "cellMargin": 10,
      "defaultCellHeight": 20,
      "maxColumns": 12,
      "name": "grid",
      "type": "grid"
     },
     "report_default": {
      "name": "report",
      "type": "report"
     }
    }
   }
  },
  "kernelspec": {
   "display_name": "Python 3",
   "language": "python",
   "name": "python3"
  },
  "language_info": {
   "codemirror_mode": {
    "name": "ipython",
    "version": 3
   },
   "file_extension": ".py",
   "mimetype": "text/x-python",
   "name": "python",
   "nbconvert_exporter": "python",
   "pygments_lexer": "ipython3",
   "version": "3.6.6"
  },
  "toc": {
   "nav_menu": {},
   "number_sections": true,
   "sideBar": true,
   "skip_h1_title": false,
   "toc_cell": false,
   "toc_position": {},
   "toc_section_display": "block",
   "toc_window_display": false
  }
 },
 "nbformat": 4,
 "nbformat_minor": 2
}
