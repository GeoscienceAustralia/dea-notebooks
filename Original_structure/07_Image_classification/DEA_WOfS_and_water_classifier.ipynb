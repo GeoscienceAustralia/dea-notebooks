{
 "cells": [
  {
   "cell_type": "markdown",
   "metadata": {
    "ExecuteTime": {
     "end_time": "2018-04-27T01:24:30.937790Z",
     "start_time": "2018-04-27T01:24:30.933563Z"
    }
   },
   "source": [
    "# DEA WOfS and Water Classifier Notebook "
   ]
  },
  {
   "cell_type": "markdown",
   "metadata": {},
   "source": [
    "**Description:** This notebook allows users to perform water classification. The following steps will allow users to connect to a data cube, define the analysis location and time period (extent of latitude/longitude and dates), and then run the Australian Water Observations from Space (WOfS) algorithm. The outputs of the WOfS algorithm include static and time series pixel-level water observations for any pixel. These results provide critical information for water management that will allow users to assess water cycle dynamics, historical water extent and the risk of floods and droughts.\n",
    "\n",
    "This notebook is based on a CEOS [notebook](https://github.com/ceos-seo/data_cube_notebooks/blob/master/water_detection.ipynb) \n",
    "\n",
    "The water classifier is based on [Mueller et al. (2015)](## References) [github link to water classifier code](https://github.com/GeoscienceAustralia/eo-tools/blob/stable/eotools/water_classifier.py)\n",
    "\n",
    "**Requirements:**\n",
    "You need to run the following commands from the command line prior to launching jupyter notebooks from the same terminal so that the required libraries and paths are set:\n",
    "\n",
    "`module use /g/data/v10/public/modules/modulefiles` \n",
    "\n",
    "`module load dea`\n",
    "\n",
    "If you find an error or bug in this notebook, please either create an 'Issue' in the Github repository, or fix it yourself and create a 'Pull' request to contribute the updated notebook back into the repository (See the repository [README](https://github.com/GeoscienceAustralia/dea-notebooks/blob/master/README.rst) for instructions on creating a Pull request).\n",
    "\n",
    "__Date:__ August 2018\n",
    "\n",
    "__Authors:__ Erin Telfer, Bex Dunn\n"
   ]
  },
  {
   "cell_type": "markdown",
   "metadata": {},
   "source": [
    "## Import modules from standard libraries, datacube and files"
   ]
  },
  {
   "cell_type": "code",
   "execution_count": 1,
   "metadata": {
    "ExecuteTime": {
     "end_time": "2018-05-24T06:31:57.765487Z",
     "start_time": "2018-05-24T06:31:57.721736Z"
    },
    "init_cell": true
   },
   "outputs": [],
   "source": [
    "from matplotlib import pyplot as plt\n",
    "import numpy as np\n",
    "import os\n",
    "import sys\n",
    "import warnings\n",
    "import xarray as xr\n",
    "import matplotlib as mpl\n",
    "\n",
    "#modules for datacube\n",
    "import datacube\n",
    "from datacube.storage import masking\n",
    "from datacube.helpers import write_geotiff\n",
    "\n",
    "# set datacube alias (just a string with what you're doing)\n",
    "dc = datacube.Datacube(app='dc-WOfS and water classifier')\n",
    "\n",
    "# Import external functions from dea-notebooks\n",
    "sys.path.append('../10_Scripts/')\n",
    "import DEADataHandling, water_classifier_and_wofs, DEAPlotting\n",
    "\n",
    "#ignore datacube warnings (needs to be last import statement)\n",
    "import warnings\n",
    "warnings.filterwarnings('ignore', module='datacube')"
   ]
  },
  {
   "cell_type": "markdown",
   "metadata": {},
   "source": [
    "## Edit query and extract data from DEA\n",
    "User input: define details below"
   ]
  },
  {
   "cell_type": "code",
   "execution_count": 2,
   "metadata": {
    "ExecuteTime": {
     "end_time": "2018-05-24T06:22:42.915944Z",
     "start_time": "2018-05-24T06:22:42.911646Z"
    }
   },
   "outputs": [],
   "source": [
    "#Use this to manually define an upper left/lower right coords\n",
    "lat_max = -12.4 #\n",
    "lat_min = -12.7\n",
    "lon_max = 135.2\n",
    "lon_min = 134.9 \n",
    "\n",
    "#define temporal range\n",
    "start_of_epoch = '2016-01-01'\n",
    "end_of_epoch =  '2016-05-01'\n",
    "\n",
    "#define Landsat sensors of interest\n",
    "sensors = ['ls8','ls7','ls5'] "
   ]
  },
  {
   "cell_type": "code",
   "execution_count": 3,
   "metadata": {
    "ExecuteTime": {
     "end_time": "2018-05-24T06:22:43.858991Z",
     "start_time": "2018-05-24T06:22:43.852612Z"
    }
   },
   "outputs": [
    {
     "name": "stdout",
     "output_type": "stream",
     "text": [
      "{'time': ('2016-01-01', '2016-05-01'), 'x': (134.9, 135.2), 'y': (-12.4, -12.7), 'crs': 'EPSG:4326'}\n"
     ]
    }
   ],
   "source": [
    "#Query is created\n",
    "query = {'time': (start_of_epoch, end_of_epoch),}\n",
    "query['x'] = (lon_min, lon_max)\n",
    "query['y'] = (lat_max, lat_min)\n",
    "query['crs'] = 'EPSG:4326'\n",
    "\n",
    "print (query)"
   ]
  },
  {
   "cell_type": "code",
   "execution_count": 4,
   "metadata": {
    "ExecuteTime": {
     "end_time": "2018-05-24T06:23:03.440614Z",
     "start_time": "2018-05-24T06:22:45.692327Z"
    }
   },
   "outputs": [
    {
     "name": "stdout",
     "output_type": "stream",
     "text": [
      "    Skipping ls5\n",
      "Ignoring SLC-off observations for ls7\n",
      "Loading ls7 PQ\n",
      "    Loading 0 filtered ls7 timesteps\n",
      "Loading ls8 PQ\n",
      "    Loading 8 filtered ls8 timesteps\n",
      "Combining and sorting ls5, ls7 and ls8 data\n"
     ]
    }
   ],
   "source": [
    "mask_dict = {'cloud_acca': 'no_cloud', \n",
    "             'cloud_fmask': 'no_cloud', \n",
    "             'cloud_shadow_acca':'no_cloud_shadow',\n",
    "             'cloud_shadow_fmask':'no_cloud_shadow',\n",
    "             'blue_saturated':False,\n",
    "             'green_saturated':False,\n",
    "             'red_saturated':False,\n",
    "             'nir_saturated':False,\n",
    "             'swir1_saturated':False,\n",
    "             'swir2_saturated':False}\n",
    "\n",
    "#using the load function from DEADataHandling to get the data and filter\n",
    "nbart = DEADataHandling.load_clearlandsat(dc, query, \n",
    "                                          product='nbart', \n",
    "                                          masked_prop=0, \n",
    "                                          mask_dict=mask_dict)"
   ]
  },
  {
   "cell_type": "markdown",
   "metadata": {},
   "source": [
    "## Classify water and calculate Water Observations from Space (WOfS)"
   ]
  },
  {
   "cell_type": "code",
   "execution_count": 5,
   "metadata": {
    "ExecuteTime": {
     "end_time": "2018-05-24T06:23:26.997332Z",
     "start_time": "2018-05-24T06:23:24.437335Z"
    }
   },
   "outputs": [
    {
     "name": "stdout",
     "output_type": "stream",
     "text": [
      "<xarray.Dataset>\n",
      "Dimensions:  (time: 8, x: 1358, y: 1337)\n",
      "Coordinates:\n",
      "  * time     (time) datetime64[ns] 2016-01-01T01:04:21 2016-01-17T01:04:20 ...\n",
      "  * y        (y) float64 -1.311e+06 -1.311e+06 -1.311e+06 -1.311e+06 ...\n",
      "  * x        (x) float64 3.203e+05 3.203e+05 3.204e+05 3.204e+05 3.204e+05 ...\n",
      "Data variables:\n",
      "    wofs     (time, y, x) float64 0.0 0.0 0.0 0.0 0.0 0.0 0.0 0.0 0.0 0.0 ...\n"
     ]
    }
   ],
   "source": [
    "#Use water clasifier function \n",
    "warnings.filterwarnings('ignore') #turn off warnings\n",
    "water_class = water_classifier_and_wofs.water_classifier(nbart)\n",
    "warnings.filterwarnings('always') #turn on warnings\n",
    "print(water_class)"
   ]
  },
  {
   "cell_type": "markdown",
   "metadata": {},
   "source": [
    "## Calculate and plot WOfS"
   ]
  },
  {
   "cell_type": "code",
   "execution_count": 37,
   "metadata": {
    "ExecuteTime": {
     "end_time": "2018-05-24T06:23:29.813444Z",
     "start_time": "2018-05-24T06:23:29.685029Z"
    }
   },
   "outputs": [],
   "source": [
    "#note, this is using only one band for the count, and this isn't robust.\n",
    "total_water_obs = water_class.wofs.sum(dim='time')\n",
    "nbar_count = nbart.blue.count(dim='time')\n",
    "wofs = ((total_water_obs / nbar_count)*100)"
   ]
  },
  {
   "cell_type": "markdown",
   "metadata": {},
   "source": [
    "## Plot WOFS"
   ]
  },
  {
   "cell_type": "code",
   "execution_count": 38,
   "metadata": {},
   "outputs": [
    {
     "name": "stdout",
     "output_type": "stream",
     "text": [
      "xarray dataset has no spatial data; defaulting to plotting without coordinates. This can often be resolved by adding `keep_attrs = True` during an aggregation step\n"
     ]
    },
    {
     "data": {
      "text/plain": [
       "(<Figure size 720x720 with 2 Axes>,\n",
       " <matplotlib.axes._subplots.AxesSubplot at 0x7fbb1ca98a90>)"
      ]
     },
     "execution_count": 38,
     "metadata": {},
     "output_type": "execute_result"
    },
    {
     "data": {
      "image/png": "[encoded data removed]",
      "text/plain": [
       "<Figure size 720x720 with 2 Axes>"
      ]
     },
     "metadata": {},
     "output_type": "display_data"
    }
   ],
   "source": [
    "DEAPlotting.plot_WOfS(wofs)"
   ]
  },
  {
   "cell_type": "markdown",
   "metadata": {},
   "source": [
    "## Save WOfS output to netCDF"
   ]
  },
  {
   "cell_type": "code",
   "execution_count": 40,
   "metadata": {
    "ExecuteTime": {
     "end_time": "2018-05-24T06:29:02.498575Z",
     "start_time": "2018-05-24T06:29:02.435978Z"
    }
   },
   "outputs": [],
   "source": [
    "DEADataHandling.write_your_netcdf(wofs, 'wofs', 'wofs_{}_{}.nc'.format(start_of_epoch,end_of_epoch), crs = nbart.crs)"
   ]
  },
  {
   "cell_type": "markdown",
   "metadata": {},
   "source": [
    "## Save WOfS output to GeoTiff"
   ]
  },
  {
   "cell_type": "code",
   "execution_count": 41,
   "metadata": {
    "ExecuteTime": {
     "end_time": "2018-05-24T06:33:49.704689Z",
     "start_time": "2018-05-24T06:33:49.569037Z"
    }
   },
   "outputs": [],
   "source": [
    "# Convert to a dataset and restore spatial attributes\n",
    "dataset = wofs.to_dataset(name='wofs')\n",
    "dataset.attrs['affine'] = nbart.affine\n",
    "dataset.attrs['crs']= nbart.crs\n",
    "\n",
    "write_geotiff('wofs_{}_{}.tif'.format(start_of_epoch,end_of_epoch), dataset)"
   ]
  },
  {
   "cell_type": "markdown",
   "metadata": {},
   "source": [
    "## References"
   ]
  },
  {
   "cell_type": "markdown",
   "metadata": {},
   "source": [
    "1. Mueller, et al. 2015., *Water observations from space: Mapping surface water from 25 years of Landsat imagery across Australia*, Remote Sensing of Environment. https://doi.org/10.1016/j.rse.2015.11.003\n"
   ]
  }
 ],
 "metadata": {
  "celltoolbar": "Initialization Cell",
  "kernelspec": {
   "display_name": "Python 3",
   "language": "python",
   "name": "python3"
  },
  "language_info": {
   "codemirror_mode": {
    "name": "ipython",
    "version": 3
   },
   "file_extension": ".py",
   "mimetype": "text/x-python",
   "name": "python",
   "nbconvert_exporter": "python",
   "pygments_lexer": "ipython3",
   "version": "3.6.5"
  },
  "toc": {
   "base_numbering": 1,
   "nav_menu": {
    "height": "354px",
    "width": "160px"
   },
   "number_sections": true,
   "sideBar": true,
   "skip_h1_title": false,
   "title_cell": "Table of Contents",
   "title_sidebar": "Contents",
   "toc_cell": false,
   "toc_position": {},
   "toc_section_display": true,
   "toc_window_display": false
  },
  "widgets": {
   "state": {
    "41cf9b5ae99f431f8c32da0cf0c287b5": {
     "views": [
      {
       "cell_index": 8
      }
     ]
    },
    "50e23ba816ef41b2830b01c34ab8c5d3": {
     "views": [
      {
       "cell_index": 8
      }
     ]
    },
    "70527fca43254781ae53895c28d6f4e1": {
     "views": [
      {
       "cell_index": 8
      }
     ]
    },
    "d8303e34f746450494aea0fec5f6849a": {
     "views": [
      {
       "cell_index": 8
      }
     ]
    }
   },
   "version": "1.2.0"
  }
 },
 "nbformat": 4,
 "nbformat_minor": 2
}
