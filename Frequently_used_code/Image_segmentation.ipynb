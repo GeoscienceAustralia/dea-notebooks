{
 "cells": [
  {
   "cell_type": "markdown",
   "metadata": {},
   "source": [
    "# Image Segmentation"
   ]
  },
  {
   "cell_type": "markdown",
   "metadata": {},
   "source": [
    "**Notebook currently compatible with the `NCI` environment only**\n",
    "\n",
    "This is due to the package `rsgislib` not currently being installed on the DEA Sandbox. Rsgislib cannot be installed on the sandbox until `conda` is implemented."
   ]
  },
  {
   "cell_type": "markdown",
   "metadata": {},
   "source": [
    "### Background\n",
    "In the last two decades, as the spatial resolution of satellite images has increased, remote sensing has begun to shift from a focus on pixel-based analysis towards Geographic Object-Based Image Analysis (GEOBIA), which aims to group pixels together into meaningful image-objects. There are two advantages to a GEOBIA worklow; one, we can reduce the 'salt and pepper' effect typical of classifying pixels; and two, we can increase the computational efficiency of our workflow by grouping pixels into fewer, larger, but meaningful objects. A review of the emerging trends in GEOBIA can be found [here](https://www.tandfonline.com/doi/abs/10.1080/15481603.2018.1426092)."
   ]
  },
  {
   "cell_type": "markdown",
   "metadata": {},
   "source": [
    "### Description\n",
    "This notebook demonstrates two methods for conducting `image segmentation`, which is a common image analysis technique used to transform a digital satellite image into objects. In brief, [image segmentation](https://en.wikipedia.org/wiki/Image_segmentation) aims to partition an image into segments, where each segment consists of a group of pixels with similar characteristics. A number of algorithms exist to perform image segmentation, two of which are shown here:\n",
    "\n",
    "1. [Quickshift](https://scikit-image.org/docs/dev/api/skimage.segmentation.html#skimage.segmentation.quickshift), implemented through the python package `scikit-image`\n",
    "2. [Shepherd Segmentation](https://www.mdpi.com/2072-4292/11/6/658), implemented through the package `rsgislib`\n",
    "\n",
    "**NOTE:** Image segmentation at very large scales can be both time and memory intensive, and the the examples shown here will become prohibitively time consuming at scale. The notebook [Tiled, Parallel Image Segmentation](https://github.com/GeoscienceAustralia/dea-notebooks/blob/chad/segmentation/parallel_segmentation.ipynb) builds upon the image segmentation algorithm developed by Shepherd et al. (2019) to run image segmentation across multiple cpus."
   ]
  },
  {
   "cell_type": "markdown",
   "metadata": {},
   "source": [
    "### Technical details\n",
    "* **Products used:** `ls8`\n",
    "* **Analyses used:** `Image segmentation`\n",
    "* **Special requirements:** "
   ]
  },
  {
   "cell_type": "markdown",
   "metadata": {},
   "source": [
    "## Getting started\n",
    "To run this analysis, run all the cells in the notebook, starting with the \"Load packages\" cell. "
   ]
  },
  {
   "cell_type": "markdown",
   "metadata": {},
   "source": [
    "### Load packages"
   ]
  },
  {
   "cell_type": "code",
   "execution_count": 1,
   "metadata": {},
   "outputs": [],
   "source": [
    "%matplotlib inline\n",
    "\n",
    "import xarray as xr\n",
    "import numpy as np\n",
    "import scipy\n",
    "from osgeo import gdal\n",
    "import matplotlib.pyplot as plt\n",
    "import datacube\n",
    "from datacube.helpers import write_geotiff\n",
    "from skimage.segmentation import quickshift\n",
    "# import rsgislib\n",
    "# from rsgislib.segmentation import meanImage\n",
    "import sys\n",
    "sys.path.append('../Scripts')\n",
    "from dea_datahandling import array_to_geotiff\n",
    "from dea_datahandling import load_ard\n",
    "from dea_plotting import rgb\n",
    "from dea_bandindices import calculate_indices"
   ]
  },
  {
   "cell_type": "markdown",
   "metadata": {},
   "source": [
    "### Connect to the datacube"
   ]
  },
  {
   "cell_type": "code",
   "execution_count": 2,
   "metadata": {},
   "outputs": [],
   "source": [
    "# Temporary solution to account for Collection 3 data being in a different\n",
    "# database on the NCI\n",
    "try:\n",
    "    dc_landsat = datacube.Datacube(app='Image_segmentation', env='c3-samples')\n",
    "except:\n",
    "    dc_landsat = datacube.Datacube(app='Image_segmentation')"
   ]
  },
  {
   "cell_type": "markdown",
   "metadata": {},
   "source": [
    "## Load Landsat 8 data from the datacube\n",
    "\n",
    "Here we are loading in a timeseries of `Landsat 8` satellite images through the datacube API using the [load_ard](https://github.com/GeoscienceAustralia/dea-notebooks/blob/develop/Frequently_used_code/Using_load_ard.ipynb) function. This will provide us with some data to work with."
   ]
  },
  {
   "cell_type": "code",
   "execution_count": 3,
   "metadata": {},
   "outputs": [
    {
     "name": "stdout",
     "output_type": "stream",
     "text": [
      "Loading ga_ls8c_ard_3 data\n",
      "    Applying pixel quality mask\n",
      "Combining and sorting data\n",
      "    Masking out invalid values\n",
      "    Returning 23 observations \n",
      "<xarray.Dataset>\n",
      "Dimensions:    (time: 23, x: 684, y: 761)\n",
      "Coordinates:\n",
      "  * y          (y) float64 -3.3e+06 -3.3e+06 -3.3e+06 ... -3.319e+06 -3.319e+06\n",
      "  * x          (x) float64 2.047e+06 2.047e+06 2.047e+06 ... 2.064e+06 2.064e+06\n",
      "  * time       (time) datetime64[ns] 2018-01-03T23:42:39.393181 ... 2018-12-21T23:42:23.873255\n",
      "Data variables:\n",
      "    nbart_red  (time, y, x) float32 1307.0 999.0 694.0 769.0 ... nan nan nan nan\n",
      "    nbart_nir  (time, y, x) float32 4414.0 4987.0 5309.0 5082.0 ... nan nan nan\n",
      "Attributes:\n",
      "    crs:      EPSG:3577\n"
     ]
    }
   ],
   "source": [
    "# Create a query object\n",
    "query = {\n",
    "    'x': (153.35, 153.50),\n",
    "    'y': (-28.80, -28.95),\n",
    "    'time': ('2018-01', '2018-12'),\n",
    "    'measurements': ['nbart_red', 'nbart_nir'],\n",
    "    'output_crs': 'EPSG:3577',\n",
    "    'resolution': (-25, 25),\n",
    "    'group_by': 'solar_day'\n",
    "}\n",
    "\n",
    "# Load available data from all three Landsat satellites\n",
    "ds = load_ard(dc=dc_landsat, \n",
    "              products=['ga_ls8c_ard_3'], \n",
    "              **query)\n",
    "# Print output data\n",
    "print(ds)"
   ]
  },
  {
   "cell_type": "markdown",
   "metadata": {},
   "source": [
    "## Combine observations into a noise-free statistical summary image\n",
    "Individual remote sensing images can be affected by noisy and incomplete data (e.g. due to clouds). To produce cleaner images that we can feed into the image segmentation algorithms, we can create summary images, or composites, that combine multiple images into one image to reveal the 'typical' appearance of the landscape for a certain time period.  In the code below, we take the noisy, incomplete satellite images we just loaded and calculate the mean Normalised Difference Vegetation Index (NDVI).  The mean NDVI will be our input into the segmentation algorithms. We will write the NDVI composite to a geotiff, as the Shepherd Segmentation runs on disk."
   ]
  },
  {
   "cell_type": "markdown",
   "metadata": {},
   "source": [
    "### Calculate mean NDVI"
   ]
  },
  {
   "cell_type": "code",
   "execution_count": null,
   "metadata": {},
   "outputs": [],
   "source": [
    "# first we calculate NDVI on each image in the timeseries\n",
    "ndvi = calculate_indices(ds,\n",
    "                         index='NDVI',\n",
    "                         collection='ga_ls_3')\n",
    "\n",
    "# For each pixel, calculate the mean NDVI throughout the whole time-series.\n",
    "ndvi = ndvi.mean(dim='time', keep_attrs=True)\n",
    "\n",
    "# plot the results to inspect\n",
    "ndvi.NDVI.plot(vmin=0.1, vmax=1.0)\n"
   ]
  },
  {
   "cell_type": "markdown",
   "metadata": {},
   "source": [
    "### Write to geotiff\n",
    "\n",
    "see this [notebook](https://github.com/GeoscienceAustralia/dea-notebooks/blob/develop/Frequently_used_code/Exporting_geotiffs.ipynb) for more info on writing geotiffs to file"
   ]
  },
  {
   "cell_type": "code",
   "execution_count": null,
   "metadata": {},
   "outputs": [],
   "source": [
    "write_geotiff('meanNDVI.tif', ndvi[['NDVI']])"
   ]
  },
  {
   "cell_type": "markdown",
   "metadata": {},
   "source": [
    "## Quickshift Segmentation\n",
    "\n",
    "Using the function [quickshift](https://scikit-image.org/docs/dev/api/skimage.segmentation.html#skimage.segmentation.quickshift) from the python package scikit-image, we will conduct an image segmentation on the mean NDVI array.  We then calculate a zonal mean across each segment using the input dataset. Our last step is to export our results as a geotiff.\n",
    "\n",
    "Follow the quickshift hyperlink above to see the input parameters to the algorithm, and the following [link](https://scikit-image.org/docs/dev/auto_examples/segmentation/plot_segmentations.html) for an explanation of quickshift and other segmentation algorithms in scikit-image"
   ]
  },
  {
   "cell_type": "code",
   "execution_count": null,
   "metadata": {},
   "outputs": [],
   "source": [
    "#convert our mean NDVI xarray into a numpy array, we need\n",
    "# to be explicit about the datatype to satisfy quickshift\n",
    "input_array = ndvi.NDVI.values.astype(np.float64)"
   ]
  },
  {
   "cell_type": "code",
   "execution_count": null,
   "metadata": {},
   "outputs": [],
   "source": [
    "#calculate the segments\n",
    "segments = quickshift(input_array,\n",
    "                      kernel_size=5,\n",
    "                      convert2lab=False,\n",
    "                      max_dist=10,\n",
    "                      ratio=1.0)"
   ]
  },
  {
   "cell_type": "code",
   "execution_count": null,
   "metadata": {},
   "outputs": [],
   "source": [
    "#calculate the zonal mean NDVI across the segments\n",
    "segments_zonal_mean = scipy.ndimage.mean(input=input_array, labels=segments, index=segments)"
   ]
  },
  {
   "cell_type": "code",
   "execution_count": null,
   "metadata": {},
   "outputs": [],
   "source": [
    "#plot to see result\n",
    "plt.imshow(segments_zonal_mean)\n",
    "plt.colorbar()"
   ]
  },
  {
   "cell_type": "markdown",
   "metadata": {},
   "source": [
    "### Write result to geotiff\n",
    "\n",
    "see this [notebook](https://github.com/GeoscienceAustralia/dea-notebooks/blob/develop/Frequently_used_code/Exporting_geotiffs.ipynb) for more info on writing geotiffs to file"
   ]
  },
  {
   "cell_type": "code",
   "execution_count": null,
   "metadata": {},
   "outputs": [],
   "source": [
    "transform = ds.geobox.transform.to_gdal()\n",
    "projection = ds.geobox.crs.wkt\n",
    "\n",
    "# Export the array\n",
    "array_to_geotiff('segmented_meanNDVI.tif',\n",
    "                  segments_zonal_mean,\n",
    "                  geo_transform=transform,\n",
    "                  projection=projection,\n",
    "                  nodata_val=np.nan)"
   ]
  },
  {
   "cell_type": "markdown",
   "metadata": {},
   "source": [
    "## Shepherd Segmentation\n",
    "\n",
    "Here we conduct an image segmentation on the mean NDVI geotiff we wrote to file.  The cell directly below sets up the inputs to the [runShepherdSegmentation](https://www.rsgislib.org/rsgislib_segmentation.html) function. We then convert the geotiff to a .kea file using `gdal.Translate` (the .kea file format provides a full implementation of the GDAL data model and is implemented within a HDF5 file). The final cell will perform the segmentation on the .kea file. \n",
    "\n",
    "The `runShepherdSegmentation` function will output a .kea file containing the segmented image, along with a segmented geotiff where the segments are attributed with the zonal mean of the input geotiff (in this case, NDVI).\n",
    "\n",
    "Note: You can open a .kea file using [xarray.open_rasterio](http://xarray.pydata.org/en/stable/generated/xarray.open_rasterio.html)\n",
    "\n",
    "To better understand the parameters of the runShepheredSegmentation algorithm, read [here](https://www.rsgislib.org/rsgislib_segmentation.html)"
   ]
  },
  {
   "cell_type": "code",
   "execution_count": null,
   "metadata": {},
   "outputs": [],
   "source": [
    "# Name of the geotiff you wish to segment\n",
    "tiff_input = 'meanNDVI.tif' \n",
    "\n",
    "# Name of the .kea file the geotiff will be converted too\n",
    "kea_file = 'meanNDVI.kea'\n",
    "\n",
    "# Name of the segmented .kea file that will be output \n",
    "SegmentedKEAFile = 'meanNDVI_segmented.kea'\n",
    "\n",
    "# Name of the segmented geotiff attributed with the zonal mean of input tiff\n",
    "segments_zonal_mean = 'segments_zonal_mean.tif'\n"
   ]
  },
  {
   "cell_type": "code",
   "execution_count": null,
   "metadata": {},
   "outputs": [],
   "source": [
    "# Convert the geotiff into a KEA file format\n",
    "gdal.Translate(destName=kea_file,\n",
    "               srcDS=tiff_input,\n",
    "               format='KEA',\n",
    "               outputSRS='EPSG:3577')"
   ]
  },
  {
   "cell_type": "code",
   "execution_count": null,
   "metadata": {},
   "outputs": [],
   "source": [
    "# run the image segmentation\n",
    "segutils.runShepherdSegmentation(inputImg=KEAFile,\n",
    "                                 outputClumps=SegmentedKEAFile,\n",
    "                                 outputMeanImg=segments_zonal_mean,\n",
    "                                 numClusters=20,\n",
    "                                 minPxls=100)"
   ]
  },
  {
   "cell_type": "markdown",
   "metadata": {},
   "source": [
    "## Additional information"
   ]
  },
  {
   "cell_type": "markdown",
   "metadata": {},
   "source": [
    "**License:** The code in this notebook is licensed under the [Apache License, Version 2.0](https://www.apache.org/licenses/LICENSE-2.0). \n",
    "Digital Earth Australia data is licensed under the [Creative Commons by Attribution 4.0](https://creativecommons.org/licenses/by/4.0/) license.\n",
    "\n",
    "**Contact:** If you need assistance, please post a question on the [Open Data Cube Slack channel](http://slack.opendatacube.org/) or on the [GIS Stack Exchange](https://gis.stackexchange.com/questions/ask?tags=open-data-cube) using the `open-data-cube` tag (you can view previously asked questions [here](https://gis.stackexchange.com/questions/tagged/open-data-cube)).\n",
    "If you would like to report an issue with this notebook, you can file one on [Github](https://github.com/GeoscienceAustralia/dea-notebooks).\n",
    "\n",
    "**Last modified:** September 2019\n",
    "\n",
    "**Compatible `datacube` version:** "
   ]
  },
  {
   "cell_type": "code",
   "execution_count": null,
   "metadata": {},
   "outputs": [],
   "source": [
    "print(datacube.__version__)"
   ]
  },
  {
   "cell_type": "markdown",
   "metadata": {},
   "source": [
    "## Tags\n",
    "Browse all available tags on the DEA User Guide's [Tags Index](https://docs.dea.ga.gov.au/genindex.html)"
   ]
  },
  {
   "cell_type": "raw",
   "metadata": {
    "raw_mimetype": "text/restructuredtext"
   },
   "source": [
    "**Tags**: :index:`rsgislib`, :index:`scikit-image`, :index:`image segmentation`, :index:`GEOBIA`, :index:`quickshift`, :index:`NDVI`"
   ]
  }
 ],
 "metadata": {
  "kernelspec": {
   "display_name": "Python 3",
   "language": "python",
   "name": "python3"
  },
  "language_info": {
   "codemirror_mode": {
    "name": "ipython",
    "version": 3
   },
   "file_extension": ".py",
   "mimetype": "text/x-python",
   "name": "python",
   "nbconvert_exporter": "python",
   "pygments_lexer": "ipython3",
   "version": "3.6.8"
  }
 },
 "nbformat": 4,
 "nbformat_minor": 4
}
