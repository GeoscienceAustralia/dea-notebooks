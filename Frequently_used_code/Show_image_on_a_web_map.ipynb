{
 "cells": [
  {
   "cell_type": "markdown",
   "metadata": {},
   "source": [
    "# Display image data on a web map <img align=\"right\" src=\"../Supplementary_data/dea_logo.jpg\">\n",
    "\n",
    "* **Products used:** \n",
    "[s2a_nrt_granule](https://explorer.sandbox.dea.ga.gov.au/s2a_ard_granule)\n",
    "* **Compatibility:** Notebook currently only compatible with `DEA Sandbox` environment\n",
    "\n",
    "# Background\n",
    "\n",
    "[Leaflet](https://leafletjs.com/) is the leading open-source JavaScript library for mobile-friendly interactive maps.\n",
    "Functionality it provides is exposed to Python users by [ipyleaflet](https://github.com/jupyter-widgets/ipyleaflet), this library enables interactive maps in the Jupyter notebook/lab environment.\n",
    "\n",
    "# Description\n",
    "\n",
    "This notebook demonstrates how to plot an image and dataset footprints on a map.\n",
    "\n",
    "1. Find some datasets to load\n",
    "2. Load pixel data in EPSG:3857 projection, same as used by most web maps\n",
    "3. Display dataset footptints on a map\n",
    "4. Display image loaded from these datasets on the same map"
   ]
  },
  {
   "cell_type": "markdown",
   "metadata": {},
   "source": [
    "### Load packages"
   ]
  },
  {
   "cell_type": "code",
   "execution_count": null,
   "metadata": {},
   "outputs": [],
   "source": [
    "import numpy as np\n",
    "from IPython.display import display\n",
    "import ipyleaflet as L\n",
    "from ipywidgets import widgets as w\n",
    "\n",
    "import datacube\n",
    "import odc.ui\n",
    "from odc.ui import with_ui_cbk"
   ]
  },
  {
   "cell_type": "markdown",
   "metadata": {},
   "source": [
    "### Configure datacube for efficient S3 access\n",
    "\n",
    "This step is optional.\n",
    "Hopefully in the future it will happen automatically.\n",
    "Cell below configures internal libraries used by [Open Data Cube](https://www.opendatacube.org/) (GDAL and rasterio) in a way that allows more efficient data loading in the cloud environment (i.e. reading Cloud Optimized GeoTIFFs from S3)"
   ]
  },
  {
   "cell_type": "code",
   "execution_count": null,
   "metadata": {},
   "outputs": [],
   "source": [
    "from datacube.utils.rio import set_default_rio_config\n",
    "set_default_rio_config(aws={'region_name': 'auto'},\n",
    "                       cloud_defaults=True)"
   ]
  },
  {
   "cell_type": "markdown",
   "metadata": {},
   "source": [
    "### Connect to the datacube"
   ]
  },
  {
   "cell_type": "code",
   "execution_count": null,
   "metadata": {},
   "outputs": [],
   "source": [
    "dc = datacube.Datacube()"
   ]
  },
  {
   "cell_type": "markdown",
   "metadata": {},
   "source": [
    "## Find Datasets\n",
    "\n",
    "In this example we are using Sentinel 2A NRT product.\n",
    "We will be visualizing a portion of the swath taken by Sentinel 2A on 17-Oct-2019.\n",
    "\n",
    "We want to display dataset footprints as well as imagery captured.\n",
    "Rather than calling `dc.load(..)` directly with the time and spatial bounds we first use\n",
    "\n",
    "```python\n",
    "dss = dc.find_datasets(..)\n",
    "``` \n",
    "\n",
    "to obtain a list of `datacube.Dataset` objects overlapping with our query first."
   ]
  },
  {
   "cell_type": "code",
   "execution_count": null,
   "metadata": {},
   "outputs": [],
   "source": [
    "# define product and red/green/blue bands in the given product\n",
    "product = 's2a_nrt_granule'\n",
    "RGB = ('nbar_red', 'nbar_green', 'nbar_blue')\n",
    "\n",
    "# region and time of interest\n",
    "query = dict(\n",
    "    lat=(-34, -31),\n",
    "    lon=(137, 138.5),\n",
    "    time='2019-10-17',\n",
    ")\n",
    "\n",
    "dss = dc.find_datasets(product=product, **query)\n",
    "print(f\"Found {len(dss)} datasets\")"
   ]
  },
  {
   "cell_type": "markdown",
   "metadata": {},
   "source": [
    "## Load Red/Green/Blue bands\n",
    "\n",
    "Since we already have a list of datasets (`dss`) we do not need to repeat the query, instead we supply datasets to `dc.load(.., datasets=dss, ..)` along with other parameters used for loading data.\n",
    "Note that since we do not supply `lat/lon` bounds we will get all the imagery referenced by the datasets found earlier and the result will not be clipped to a `lat/lon` box in the query above.\n",
    "\n",
    "We will load imagery at 200m per pixel resolution (1/20 of the native) in the Pseudo-Mercator (EPSG:3857) projection, same as used by most webmaps."
   ]
  },
  {
   "cell_type": "code",
   "execution_count": null,
   "metadata": {},
   "outputs": [],
   "source": [
    "rgb = dc.load(\n",
    "    product=product,             # dc.load always needs product supplied, this needs to be fixed in `dc.load` code\n",
    "    datasets=dss,                # Datasets we found for earlier\n",
    "    measurements=RGB,            # Only load red,green,blue bands\n",
    "    group_by='solar_day',        # Fuse all datasets captured on the same day into one raster plane\n",
    "    output_crs='EPSG:3857',      # Default projection used by Leaflet and most webmaps\n",
    "    resolution=(-200, 200),      # 200m pixels (1/20 of the native)\n",
    "    resampling='bilinear',       # Use bilinear resampling when scaling down\n",
    "    progress_cbk=with_ui_cbk())  # Display load progress\n",
    "rgb"
   ]
  },
  {
   "cell_type": "markdown",
   "metadata": {},
   "source": [
    "### Create Leaflet Map with dataset footprints\n",
    "\n",
    "`odc.ui.show_datasets` will create a Leaflet map and add dataset footprints to it.\n",
    "Note that we will not be displaying the map just yet."
   ]
  },
  {
   "cell_type": "code",
   "execution_count": null,
   "metadata": {},
   "outputs": [],
   "source": [
    "m = odc.ui.show_datasets(\n",
    "    dss,\n",
    "    style={\n",
    "        'opacity': 0.3,     # Footprint outline opacity\n",
    "        'fillOpacity': 0    # Do not fill\n",
    "    },\n",
    "    width='600px',           # Set Width of the map to 600 pixels, examples: \"100%\", \"5em\", \"300px\"\n",
    "    height='600px',          # Height of the map\n",
    "    scroll_wheel_zoom=True)  # Allow zoom with the mouse scroll wheel"
   ]
  },
  {
   "cell_type": "markdown",
   "metadata": {},
   "source": [
    "### Create Leaflet Image Layer\n",
    "\n",
    "Under the hood `mk_image_layer` will:\n",
    "\n",
    "1. Convert 16-bit `rgb` xarray to an 8-bit RGBA image\n",
    "2. Encode RGBA image as PNG data `odc.ui.to_rgba`\n",
    "3. Render PNG data to \"data uri\"\n",
    "4. Compute image bounds\n",
    "5. Construct `ipyleaflet.ImageLayer` with uri from step 3 and bounds from step 4\n",
    "\n",
    "JPEG compression can also be used (e.g `fmt=\"jpeg\"`), useful for larger images to reduce notebook size in bytes (use `quality=40` to reduce size further), downside is no opacity support unlike PNG.\n",
    "\n",
    "Satellite imagery is often 12-bit and higher, but web images are usually 8-bit, hence we need to reduce bit-depth of the input imagery such that there are only 256 levels per color channel.\n",
    "This is where `clamp` parameter comes in. In this case we use `clamp=3000`.\n",
    "Input values of `3000` and higher will map to value `255` (largest possible 8-bit unsigned value), `0` will map to `0` and every other value in between will scale linearly."
   ]
  },
  {
   "cell_type": "code",
   "execution_count": null,
   "metadata": {},
   "outputs": [],
   "source": [
    "img_layer = odc.ui.mk_image_overlay(\n",
    "    rgb,\n",
    "    clamp=3000,  # 3000 -- brightest pixel level\n",
    "    fmt='png')   # \"jpeg\" is another option\n",
    "\n",
    "# add image layer to a map we created earlier\n",
    "m.add_layer(img_layer)"
   ]
  },
  {
   "cell_type": "markdown",
   "metadata": {},
   "source": [
    "### Add Opacity Control\n",
    "\n",
    "- Add Vertical Slider to the map\n",
    "- Dragging slider down lowers opacity of the image layer\n",
    "- Use of `jslink` from `ipywidgets` ensures that this interactive behaviour will work even on a pre-rendered notebook (i.e. on nbviewer)"
   ]
  },
  {
   "cell_type": "code",
   "execution_count": null,
   "metadata": {},
   "outputs": [],
   "source": [
    "slider = w.FloatSlider(min=0, max=1, value=1,        # Opacity is valid in [0,1] range\n",
    "                       orientation='vertical',       # Vertical slider is what we want\n",
    "                       readout=False,                # no need to show exact value\n",
    "                       layout=w.Layout(width='2em')) # Fine tune display layout: make it thinner\n",
    "\n",
    "# Connect slider value to opacity property of the Image Layer\n",
    "w.jslink((slider, 'value'),         \n",
    "         (img_layer, 'opacity') )\n",
    "m.add_control(L.WidgetControl(widget=slider))"
   ]
  },
  {
   "cell_type": "markdown",
   "metadata": {},
   "source": [
    "### Finally display the map"
   ]
  },
  {
   "cell_type": "code",
   "execution_count": null,
   "metadata": {},
   "outputs": [],
   "source": [
    "display(m)"
   ]
  },
  {
   "cell_type": "markdown",
   "metadata": {},
   "source": [
    "### Sharing Notebooks Online\n",
    "\n",
    "Unlike notebooks with `matplotlib` figures, saving notebook with Maps after running it is not enough to have results displayed when sharing rendered notebooks online.\n",
    "You also need to save \"Widget State\" as a separate step, and you need to make sure that \"Widget State\" is saved only once within the notebook.\n",
    "There are some unexpected behaviours one have to work around.\n",
    "At the time of writing this only works in `jupyter notebook` not `jupyter lab`.\n",
    "\n",
    "A robust algorithm for sharing notebooks with widget state is as following:\n",
    "\n",
    "- Make sure there is no state/output in the notebook\n",
    "    1. Open notebook in `jupyter notebook` not `lab`\n",
    "    2. Run Menu: `Kernel > Restart and Clear Output`\n",
    "    3. Run Menu: `Widgets > Clear Notebook Widget State`\n",
    "    4. Save notebook\n",
    "    5. Run Menu: `File > Close and halt`\n",
    "    6. Verify from filesystem that notebook size is small\n",
    "- Starting from clean notebook do\n",
    "    1. Run Menu: `Cell > Run All`\n",
    "    2. Run Menu: `Widgets > Save Notebook Widget State`\n",
    "    3. Save notebook\n",
    "    4. Run Menu: `File > Close and halt`\n",
    "    \n",
    "Following procedure above will ensure that widget state is stored in the notebook, and also that only relevant widget state is stored.\n",
    "If you re-run any cells and then save widget state you might end up with stale widget state present in the notebook document as well, that state won't be displayed but will significantly increase your notebook on-disk size, preventing tools like nbviewer from rendering it.\n",
    "The important thing to remember is that `clear widget state` only removes it from the notebook file, not from your browser, so next time you run `save widget state` stale state will re-appear on disk.\n",
    "To make sure that stale `widget state` is properly gone you have to reload the notebook in your browser after clearing it."
   ]
  },
  {
   "cell_type": "markdown",
   "metadata": {},
   "source": [
    "------------------------------------------------"
   ]
  }
 ],
 "metadata": {
  "kernelspec": {
   "display_name": "Python 3",
   "language": "python",
   "name": "python3"
  },
  "language_info": {
   "codemirror_mode": {
    "name": "ipython",
    "version": 3
   },
   "file_extension": ".py",
   "mimetype": "text/x-python",
   "name": "python",
   "nbconvert_exporter": "python",
   "pygments_lexer": "ipython3",
   "version": "3.6.8"
  }
 },
 "nbformat": 4,
 "nbformat_minor": 4
}
