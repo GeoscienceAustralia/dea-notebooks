{
 "cells": [
  {
   "cell_type": "markdown",
   "metadata": {},
   "source": [
    "# Rasterizing vectors & vectorizing rasters <img align=\"right\" src=\"../Supplementary_data/dea_logo.jpg\">\n",
    "\n",
    "* **Compatability:** Notebook currently compatible with both the `NCI` and `DEA Sandbox` environments\n",
    "* **Products used:** \n",
    "[wofs_annual_summary](https://explorer.sandbox.dea.ga.gov.au/wofs_annual_summary)"
   ]
  },
  {
   "cell_type": "markdown",
   "metadata": {},
   "source": [
    "## Background\n",
    "\n",
    "Many remote sensing and/or geospatial workflows require converting between vector data (e.g. shapefiles) and raster data (e.g. pixel-based data like that in an `xarray.DataArray`).\n",
    "For example, we may need to use a shapefile as a mask to limit the analysis extent of a raster, or have raster data that we want to convert into vector data to allow for easy geometry operations."
   ]
  },
  {
   "cell_type": "markdown",
   "metadata": {},
   "source": [
    "## Description\n",
    "This notebook demonstrates the use of the DEA function `xr_rasterize` and `xr_vectorize` in [Scripts/dea_spatialtools.py](../Scripts/dea_spatialtools.py). \n",
    "\n",
    "The first section loads in [Water Observations from Space (WOfS)](https://www.ga.gov.au/scientific-topics/community-safety/flood/wofs/about-wofs) data from Digital Earth Australia, and vectorises the pixel-based `xarray.DataArray` object into a vector-based `geopandas.GeoDataFrame` object containing persistent water-bodies as polygons. \n",
    "We then export the `GeoDataframe` as a shapefile.  \n",
    "\n",
    "The second section rasterises the vector data we created in the first section back into an `xarray.DataArray`, and exports the results as a GeoTIFF."
   ]
  },
  {
   "cell_type": "markdown",
   "metadata": {},
   "source": [
    "## Getting started\n",
    "To run this analysis, run all the cells in the notebook, starting with the \"Load packages\" cell. "
   ]
  },
  {
   "cell_type": "markdown",
   "metadata": {},
   "source": [
    "### Load packages\n"
   ]
  },
  {
   "cell_type": "code",
   "execution_count": 1,
   "metadata": {},
   "outputs": [],
   "source": [
    "%matplotlib inline\n",
    "\n",
    "import sys\n",
    "import datacube\n",
    "\n",
    "sys.path.append(\"../Scripts\")\n",
    "from dea_spatialtools import xr_vectorize, xr_rasterize"
   ]
  },
  {
   "cell_type": "markdown",
   "metadata": {},
   "source": [
    "### Connect to the datacube"
   ]
  },
  {
   "cell_type": "code",
   "execution_count": 2,
   "metadata": {},
   "outputs": [],
   "source": [
    "dc = datacube.Datacube(app='Rasterize_vectorize')"
   ]
  },
  {
   "cell_type": "markdown",
   "metadata": {},
   "source": [
    "## Load WOfS data from the datacube\n",
    "\n",
    "We will load in an annual summary from the [Water Observations from Space (WOfS)](https://www.ga.gov.au/scientific-topics/community-safety/flood/wofs/about-wofs) product to provide us with some data to work with. The query below will load the 2000 annual summary of WOfS for the region around the Menindee Lakes."
   ]
  },
  {
   "cell_type": "code",
   "execution_count": 3,
   "metadata": {},
   "outputs": [
    {
     "name": "stdout",
     "output_type": "stream",
     "text": [
      "<xarray.Dataset>\n",
      "Dimensions:      (time: 1, x: 2789, y: 2443)\n",
      "Coordinates:\n",
      "  * time         (time) datetime64[ns] 2000-01-01\n",
      "  * y            (y) float64 -3.536e+06 -3.536e+06 ... -3.597e+06 -3.597e+06\n",
      "  * x            (x) float64 9.396e+05 9.396e+05 ... 1.009e+06 1.009e+06\n",
      "Data variables:\n",
      "    count_wet    (time, y, x) int16 0 0 0 0 0 0 0 0 0 0 ... 0 0 0 0 0 0 0 0 0 0\n",
      "    count_clear  (time, y, x) int16 24 24 23 23 23 24 24 ... 12 12 12 12 12 12\n",
      "    frequency    (time, y, x) float32 0.0 0.0 0.0 0.0 0.0 ... 0.0 0.0 0.0 0.0\n",
      "Attributes:\n",
      "    crs:      EPSG:3577\n"
     ]
    }
   ],
   "source": [
    "# Create a query object\n",
    "query = {\n",
    "    'x': (142.1, 142.80),\n",
    "    'y': (-32.1, -32.6),\n",
    "    'time': ('2000')\n",
    "}\n",
    "\n",
    "# Load WoFS through the datacube\n",
    "ds = dc.load(product='wofs_annual_summary', \n",
    "             **query)\n",
    "\n",
    "print(ds)\n"
   ]
  },
  {
   "cell_type": "markdown",
   "metadata": {},
   "source": [
    "### Plot the WOfS summary\n",
    "\n",
    "Let's plot the WOfS data to get an idea of the objects we will be transforming. \n",
    "In the code below, we first select the pixels where the satellite has observed water at least 25% of the year, this is so we can isolate the more persistent water bodies and reduce some of the noise before we vectorize the raster."
   ]
  },
  {
   "cell_type": "code",
   "execution_count": 4,
   "metadata": {},
   "outputs": [
    {
     "data": {
      "text/plain": [
       "<matplotlib.collections.QuadMesh at 0x7f7990dec940>"
      ]
     },
     "execution_count": 4,
     "metadata": {},
     "output_type": "execute_result"
    },
    {
     "data": {
      "image/png": "[encoded data removed]",
      "text/plain": [
       "<Figure size 540x360 with 2 Axes>"
      ]
     },
     "metadata": {
      "needs_background": "light"
     },
     "output_type": "display_data"
    }
   ],
   "source": [
    "# Select pixels that are classified as water > 25 % of the time\n",
    "water_bodies = ds.frequency > 0.25\n",
    "\n",
    "# Plot the data\n",
    "water_bodies.plot(size=5)"
   ]
  },
  {
   "cell_type": "markdown",
   "metadata": {},
   "source": [
    "## Vectorizing an `xarray.DataArray`\n",
    "\n",
    "To convert our xarray.DataArray object into a vector based `geopandas geodataframe`, we can use the DEA function `xr_vectorize` in the script [Scripts/dea_spatialtools.py](../Scripts/dea_spatialtools.py). This tool is based on the [rasterio.features.shape](https://rasterio.readthedocs.io/en/stable/api/rasterio.features.html) function, and can accept any of the arguments in `rasterio.features.shape` using the same syntax.\n",
    "\n",
    "In the cell below, we use the argument `mask=water_bodies.values==1` to indicate we only want to convert the values in the xarray object that are equal to 1."
   ]
  },
  {
   "cell_type": "code",
   "execution_count": 5,
   "metadata": {},
   "outputs": [
    {
     "name": "stdout",
     "output_type": "stream",
     "text": [
      "      attribute                                           geometry\n",
      "0           1.0  POLYGON ((943150.000 -3535850.000, 943150.000 ...\n",
      "1           1.0  POLYGON ((950575.000 -3535900.000, 950575.000 ...\n",
      "2           1.0  POLYGON ((942800.000 -3535850.000, 942800.000 ...\n",
      "3           1.0  POLYGON ((1000550.000 -3535850.000, 1000550.00...\n",
      "4           1.0  POLYGON ((942950.000 -3535850.000, 942950.000 ...\n",
      "...         ...                                                ...\n",
      "1344        1.0  POLYGON ((947025.000 -3592675.000, 947025.000 ...\n",
      "1345        1.0  POLYGON ((939950.000 -3596875.000, 939950.000 ...\n",
      "1346        1.0  POLYGON ((950575.000 -3596875.000, 950575.000 ...\n",
      "1347        1.0  POLYGON ((939975.000 -3596900.000, 939975.000 ...\n",
      "1348        1.0  POLYGON ((964625.000 -3596700.000, 964625.000 ...\n",
      "\n",
      "[1349 rows x 2 columns]\n"
     ]
    },
    {
     "name": "stderr",
     "output_type": "stream",
     "text": [
      "/env/lib/python3.6/site-packages/pyproj/crs/crs.py:53: FutureWarning: '+init=<authority>:<code>' syntax is deprecated. '<authority>:<code>' is the preferred initialization method. When making the change, be mindful of axis order changes: https://pyproj4.github.io/pyproj/stable/gotchas.html#axis-order-changes-in-proj-6\n",
      "  return _prepare_from_string(\" \".join(pjargs))\n"
     ]
    }
   ],
   "source": [
    "gdf = xr_vectorize(water_bodies,\n",
    "                   crs=ds.crs,\n",
    "                   mask=water_bodies.values==1)\n",
    "\n",
    "print(gdf)"
   ]
  },
  {
   "cell_type": "markdown",
   "metadata": {},
   "source": [
    "### Plot our vectorised raster "
   ]
  },
  {
   "cell_type": "code",
   "execution_count": 6,
   "metadata": {},
   "outputs": [
    {
     "data": {
      "text/plain": [
       "<matplotlib.axes._subplots.AxesSubplot at 0x7f798c7eada0>"
      ]
     },
     "execution_count": 6,
     "metadata": {},
     "output_type": "execute_result"
    },
    {
     "data": {
      "image/png": "[encoded data removed]",
      "text/plain": [
       "<Figure size 432x432 with 1 Axes>"
      ]
     },
     "metadata": {
      "needs_background": "light"
     },
     "output_type": "display_data"
    }
   ],
   "source": [
    "gdf.plot(figsize=(6, 6))"
   ]
  },
  {
   "cell_type": "markdown",
   "metadata": {},
   "source": [
    "### Export as shapefile\n",
    "\n",
    "Our function also allows us to very easily export the `GeoDataFrame` as a `shapefile`for use in other applications using the `export_shp` parameter:"
   ]
  },
  {
   "cell_type": "code",
   "execution_count": 7,
   "metadata": {},
   "outputs": [
    {
     "name": "stderr",
     "output_type": "stream",
     "text": [
      "/env/lib/python3.6/site-packages/pyproj/crs/crs.py:53: FutureWarning: '+init=<authority>:<code>' syntax is deprecated. '<authority>:<code>' is the preferred initialization method. When making the change, be mindful of axis order changes: https://pyproj4.github.io/pyproj/stable/gotchas.html#axis-order-changes-in-proj-6\n",
      "  return _prepare_from_string(\" \".join(pjargs))\n"
     ]
    }
   ],
   "source": [
    "gdf = xr_vectorize(da=water_bodies,\n",
    "                   crs=ds.crs,\n",
    "                   mask=water_bodies.values == 1.,\n",
    "                   export_shp='test.shp')\n"
   ]
  },
  {
   "cell_type": "markdown",
   "metadata": {},
   "source": [
    "***\n",
    "## Rasterizing a shapefile\n",
    "\n",
    "Using the `xr_rasterize` function in [Scripts/dea_spatialtools.py](../Scripts/dea_spatialtools.py) (based on the rasterio function: [rasterio.features.rasterize](https://rasterio.readthedocs.io/en/stable/api/rasterio.features.html), and can accept any of the arguments in `rasterio.features.rasterize` using the same syntax) we can turn the `geopandas.GeoDataFrame` back into a `xarray.Dataset`. \n",
    "\n",
    "As we already have the `GeoDataFrame` loaded we don't need to read in the shapefile, but if we wanted to read in a shapefile first we can use [gpd.read_file()](http://geopandas.org/reference/geopandas.read_file.html).   \n",
    "\n",
    "This function uses an `xarray.datarray` object as a template for converting the geodataframe into a raster object (the template provides the size, crs, dimensions, and attributes of the output array)."
   ]
  },
  {
   "cell_type": "code",
   "execution_count": 8,
   "metadata": {},
   "outputs": [
    {
     "name": "stdout",
     "output_type": "stream",
     "text": [
      "Rasterizing to match xarray.DataArray dimensions (2443, 2789) and projection system/CRS (e.g. EPSG:3577)\n",
      "<xarray.DataArray (y: 2443, x: 2789)>\n",
      "array([[0, 0, 0, ..., 0, 0, 0],\n",
      "       [0, 0, 0, ..., 0, 0, 0],\n",
      "       [0, 0, 0, ..., 0, 0, 0],\n",
      "       ...,\n",
      "       [0, 0, 0, ..., 0, 0, 0],\n",
      "       [0, 0, 0, ..., 0, 0, 0],\n",
      "       [0, 0, 0, ..., 0, 0, 0]], dtype=uint8)\n",
      "Coordinates:\n",
      "  * y        (y) float64 -3.536e+06 -3.536e+06 ... -3.597e+06 -3.597e+06\n",
      "  * x        (x) float64 9.396e+05 9.396e+05 9.397e+05 ... 1.009e+06 1.009e+06\n",
      "Attributes:\n",
      "    crs:      EPSG:3577\n"
     ]
    }
   ],
   "source": [
    "water_bodies_again = xr_rasterize(gdf=gdf,\n",
    "                                  da=water_bodies,\n",
    "                                  crs=ds.crs)\n",
    "\n",
    "print(water_bodies_again)"
   ]
  },
  {
   "cell_type": "markdown",
   "metadata": {},
   "source": [
    "We can plot out rasterised data to verify it looks identical to the `water_bodies` data we previously plotted:"
   ]
  },
  {
   "cell_type": "code",
   "execution_count": 9,
   "metadata": {},
   "outputs": [
    {
     "data": {
      "text/plain": [
       "<matplotlib.collections.QuadMesh at 0x7f798cd56f98>"
      ]
     },
     "execution_count": 9,
     "metadata": {},
     "output_type": "execute_result"
    },
    {
     "data": {
      "image/png": "[encoded data removed]",
      "text/plain": [
       "<Figure size 540x360 with 2 Axes>"
      ]
     },
     "metadata": {
      "needs_background": "light"
     },
     "output_type": "display_data"
    }
   ],
   "source": [
    "water_bodies_again.plot(size=5)"
   ]
  },
  {
   "cell_type": "markdown",
   "metadata": {},
   "source": [
    "### Export as GeoTIFF\n",
    "\n",
    "`xr_rasterize` also allows for exporting the results as a GeoTIFF.  To do this, a named array is required. If a name is not provided using the `name` parameter, the function will provide a default name."
   ]
  },
  {
   "cell_type": "code",
   "execution_count": 10,
   "metadata": {},
   "outputs": [
    {
     "name": "stdout",
     "output_type": "stream",
     "text": [
      "Rasterizing to match xarray.DataArray dimensions (2443, 2789) and projection system/CRS (e.g. EPSG:3577)\n",
      "Exporting GeoTIFF to test.tif\n"
     ]
    }
   ],
   "source": [
    "water_bodies_again = xr_rasterize(gdf=gdf,\n",
    "                                  da=water_bodies,\n",
    "                                  crs=ds.crs,\n",
    "                                  export_tiff='test.tif')\n"
   ]
  },
  {
   "cell_type": "markdown",
   "metadata": {},
   "source": [
    "---\n",
    "\n",
    "## Additional information\n",
    "\n",
    "**License:** The code in this notebook is licensed under the [Apache License, Version 2.0](https://www.apache.org/licenses/LICENSE-2.0). \n",
    "Digital Earth Australia data is licensed under the [Creative Commons by Attribution 4.0](https://creativecommons.org/licenses/by/4.0/) license.\n",
    "\n",
    "**Contact:** If you need assistance, please post a question on the [Open Data Cube Slack channel](http://slack.opendatacube.org/) or on the [GIS Stack Exchange](https://gis.stackexchange.com/questions/ask?tags=open-data-cube) using the `open-data-cube` tag (you can view previously asked questions [here](https://gis.stackexchange.com/questions/tagged/open-data-cube)).\n",
    "If you would like to report an issue with this notebook, you can file one on [Github](https://github.com/GeoscienceAustralia/dea-notebooks).\n",
    "\n",
    "**Last modified:** April 2020\n",
    "\n",
    "**Compatible datacube version:** "
   ]
  },
  {
   "cell_type": "code",
   "execution_count": 11,
   "metadata": {},
   "outputs": [
    {
     "name": "stdout",
     "output_type": "stream",
     "text": [
      "1.7+262.g1cf3cea8\n"
     ]
    }
   ],
   "source": [
    "print(datacube.__version__)"
   ]
  },
  {
   "cell_type": "markdown",
   "metadata": {},
   "source": [
    "## Tags\n",
    "Browse all available tags on the DEA User Guide's [Tags Index](https://docs.dea.ga.gov.au/genindex.html)"
   ]
  },
  {
   "cell_type": "raw",
   "metadata": {
    "raw_mimetype": "text/restructuredtext"
   },
   "source": [
    "**Tags**: :index:`sandbox compatible`, :index:`NCI compatible`, :index:`WOfS`, :index:`rasterize`, :index:`rasterio.features.shapes`, :index:`rasterio.features.rasterize`, :index:`write_geotiff`, :index:`GeoPandas`, :index:`vectorize`, :index:`GeoTIFF`, :index:`shapefile`, :index:`xr_rasterize`, :index:`xr_vectorize`"
   ]
  }
 ],
 "metadata": {
  "kernelspec": {
   "display_name": "Python 3",
   "language": "python",
   "name": "python3"
  },
  "language_info": {
   "codemirror_mode": {
    "name": "ipython",
    "version": 3
   },
   "file_extension": ".py",
   "mimetype": "text/x-python",
   "name": "python",
   "nbconvert_exporter": "python",
   "pygments_lexer": "ipython3",
   "version": "3.6.9"
  },
  "widgets": {
   "application/vnd.jupyter.widget-state+json": {
    "state": {},
    "version_major": 2,
    "version_minor": 0
   }
  }
 },
 "nbformat": 4,
 "nbformat_minor": 4
}
