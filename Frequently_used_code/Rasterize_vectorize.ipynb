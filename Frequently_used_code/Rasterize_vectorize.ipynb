{
 "cells": [
  {
   "cell_type": "markdown",
   "metadata": {},
   "source": [
    "# Rasterizing vectors & vectorizing rasters"
   ]
  },
  {
   "cell_type": "markdown",
   "metadata": {},
   "source": [
    "**Notebook currently compatible with both the `NCI` and `DEA Sandbox` environments**"
   ]
  },
  {
   "cell_type": "markdown",
   "metadata": {},
   "source": [
    "### Background\n",
    "\n",
    "It's very common in a remote sensing and/or geopsatial workflow to require converting between vector data (e.g. shapefiles) and raster data (e.g. pixel-based data like that in an xarray.DataArray).  For example, often we'll have a shapefile that we want to use as a mask to limit the analysis extent of a raster.  Or we'll have raster data that we want to convert into vector data to allow for easy geometry operations."
   ]
  },
  {
   "cell_type": "markdown",
   "metadata": {},
   "source": [
    "### Description\n",
    "This notebook demonstrates the use of the python package [Rasterio](https://rasterio.readthedocs.io/en/stable/index.html) to convert between raster and vector data.  \n",
    "\n",
    "The first section loads in [Water Observations from Space (WOfS)](https://www.ga.gov.au/scientific-topics/community-safety/flood/wofs/about-wofs) data from the `datacube`, and converts the pixel-based `xarray.DataArray` object into a `geopandas.GeoDataFrame` object containing persistent water-bodies as `polygons`. We then export the geoDataframe as a `shapefile`.  \n",
    "\n",
    "The second section reconverts the vector data we created in the first section back into an `xarray.DataArray` and exports the results as a `geotiff`\n"
   ]
  },
  {
   "cell_type": "markdown",
   "metadata": {},
   "source": [
    "### Technical details\n",
    "* **Products used:** `WOfS`\n",
    "* **Analyses used:** `rasterio.features.rasterize`, `rasterio.features.shapes`, `geopandas.GeoDataFrame`\n",
    "* **Special requirements:** In order for geopandas plotting methods to work on the Sandbox, `descartes` needs to be manually installed.  This can be done by running the following command in a cell:\n",
    "\n",
    "    - `!pip install --user descartes`"
   ]
  },
  {
   "cell_type": "markdown",
   "metadata": {},
   "source": [
    "## Getting started\n",
    "To run this analysis, run all the cells in the notebook, starting with the \"Load packages\" cell. "
   ]
  },
  {
   "cell_type": "markdown",
   "metadata": {},
   "source": [
    "### Load packages\n"
   ]
  },
  {
   "cell_type": "code",
   "execution_count": 1,
   "metadata": {},
   "outputs": [],
   "source": [
    "%matplotlib inline\n",
    "\n",
    "import datacube\n",
    "import rasterio.features\n",
    "import shapely\n",
    "import geopandas as gpd\n",
    "import numpy as np\n",
    "import xarray as xr\n",
    "from datacube.helpers import write_geotiff\n",
    "import pprint"
   ]
  },
  {
   "cell_type": "markdown",
   "metadata": {},
   "source": [
    "### Connect to the datacube"
   ]
  },
  {
   "cell_type": "code",
   "execution_count": 2,
   "metadata": {},
   "outputs": [],
   "source": [
    "dc = datacube.Datacube(app=\"Rasterize and Vectorize\")"
   ]
  },
  {
   "cell_type": "markdown",
   "metadata": {},
   "source": [
    "## Load WoFS data from the datacube\n",
    "\n",
    "We will load in an annual summary from the [Water Observations from Space (WOfS)](https://www.ga.gov.au/scientific-topics/community-safety/flood/wofs/about-wofs) product to provide us with some data to work with.  The query below will load the 2016 annual summary of WOfS for the region around the Menindee Lakes."
   ]
  },
  {
   "cell_type": "code",
   "execution_count": 3,
   "metadata": {},
   "outputs": [
    {
     "name": "stdout",
     "output_type": "stream",
     "text": [
      "<xarray.Dataset>\n",
      "Dimensions:      (time: 1, x: 2789, y: 2443)\n",
      "Coordinates:\n",
      "  * time         (time) datetime64[ns] 2016-01-01\n",
      "  * y            (y) float64 -3.536e+06 -3.536e+06 ... -3.597e+06 -3.597e+06\n",
      "  * x            (x) float64 9.396e+05 9.396e+05 ... 1.009e+06 1.009e+06\n",
      "Data variables:\n",
      "    count_wet    (time, y, x) int16 0 0 0 0 0 0 0 0 0 0 ... 0 0 0 0 0 0 0 0 0 0\n",
      "    count_clear  (time, y, x) int16 40 40 39 39 40 41 42 ... 23 23 23 23 23 22\n",
      "    frequency    (time, y, x) float32 0.0 0.0 0.0 0.0 0.0 ... 0.0 0.0 0.0 0.0\n",
      "Attributes:\n",
      "    crs:      EPSG:3577\n"
     ]
    }
   ],
   "source": [
    "# Create a query object\n",
    "query = {\n",
    "    'x': (142.1, 142.80),\n",
    "    'y': (-32.1, -32.6),\n",
    "    'time': ('2016')\n",
    "}\n",
    "\n",
    "# load WoFS through the datacube\n",
    "ds = dc.load(product='wofs_annual_summary', **query)\n",
    "\n",
    "print(ds)\n"
   ]
  },
  {
   "cell_type": "markdown",
   "metadata": {},
   "source": [
    "### Plot the WOfS summary\n",
    "\n",
    "Let's plot the WOfS data to get an idea of the objects we will be transforming.  In the code below, we first select the pixels where the satellite has observed water at least 25 % of the year, this is so we can isolate the more persistent water bodies and reduce some of the noise before we vectorize the raster."
   ]
  },
  {
   "cell_type": "code",
   "execution_count": 4,
   "metadata": {},
   "outputs": [
    {
     "data": {
      "text/plain": [
       "<matplotlib.collections.QuadMesh at 0x7f5d0f08eb00>"
      ]
     },
     "execution_count": 4,
     "metadata": {},
     "output_type": "execute_result"
    },
    {
     "data": {
      "image/png": "[encoded data removed]",
      "text/plain": [
       "<Figure size 540x360 with 2 Axes>"
      ]
     },
     "metadata": {
      "needs_background": "light"
     },
     "output_type": "display_data"
    }
   ],
   "source": [
    "#select pixels that are classified as water > 25 % of the time\n",
    "water_bodies = ds.frequency > 0.25\n",
    "\n",
    "#plot\n",
    "water_bodies.plot(size=5)"
   ]
  },
  {
   "cell_type": "markdown",
   "metadata": {},
   "source": [
    "## Vectorizing an xarray.DataArray\n"
   ]
  },
  {
   "cell_type": "markdown",
   "metadata": {},
   "source": [
    "Using [rasterio.features.shape](https://rasterio.readthedocs.io/en/stable/api/rasterio.features.html), we will turn our `xarray.DataArray` of the persistent water bodies into a shapefile.\n",
    "- The `source` parameter requires a simple numpy array, with the datatype explicitly set. \n",
    "- We can use the `mask` parameter to set which values in the array we want to convert to vectors, in this instance, we want to convert only the values of 1, which correspond to the persistent water bodies in the dataArray. \n",
    "- The `transform` parameter provides the geospatial coordinates to transform the array into a geo-located shapefile.  We can get this from our original xarray dataset"
   ]
  },
  {
   "cell_type": "code",
   "execution_count": 5,
   "metadata": {},
   "outputs": [],
   "source": [
    "# First grab the spatial information from our datacube xarray object\n",
    "transform = ds.geobox.transform\n",
    "\n",
    "# Run the vectorizing function\n",
    "vectors = rasterio.features.shapes(source=water_bodies.data.astype('int16'),\n",
    "                                   mask=(water_bodies.data == 1),\n",
    "                                   transform=transform)\n"
   ]
  },
  {
   "cell_type": "markdown",
   "metadata": {},
   "source": [
    "The returned object is a `generator` that contains the `(polygon, value)` pair for each unique feature in the array.  Before we can create a shapefile, we first need to unpack the generator objects into lists which are easier to manipulate.\n",
    "\n",
    "The last part of the code will print the first (polygon, value) pair to show what these objects look like."
   ]
  },
  {
   "cell_type": "code",
   "execution_count": 6,
   "metadata": {},
   "outputs": [
    {
     "name": "stdout",
     "output_type": "stream",
     "text": [
      "Image value: 1.0\n",
      "Geometry:\n",
      "{'coordinates': [[(943150.0, -3535850.0),\n",
      "                  (943150.0, -3535875.0),\n",
      "                  (943125.0, -3535875.0),\n",
      "                  (943125.0, -3535925.0),\n",
      "                  (943175.0, -3535925.0),\n",
      "                  (943175.0, -3535900.0),\n",
      "                  (943200.0, -3535900.0),\n",
      "                  (943200.0, -3535875.0),\n",
      "                  (943175.0, -3535875.0),\n",
      "                  (943175.0, -3535850.0),\n",
      "                  (943150.0, -3535850.0)]],\n",
      " 'type': 'Polygon'}\n"
     ]
    }
   ],
   "source": [
    "# first convert the genertor into a list, as a generator can only be consumed once\n",
    "vectors = list(vectors)\n",
    "\n",
    "# extract the polygons and values from the list using list comprehension\n",
    "polygons = [shape for shape, value in vectors]\n",
    "values = [value for shape, value in vectors]\n",
    "\n",
    "print(\"Image value: \" + str(values[0]))\n",
    "print(\"Geometry:\")\n",
    "pprint.pprint(polygons[0])\n"
   ]
  },
  {
   "cell_type": "markdown",
   "metadata": {},
   "source": [
    "Now that we have a list of geometries and values, we can add these to a [geopandas.GeoDataFrame](http://geopandas.org/). Geopandas is a very useful library for handling vector data as it extends the datatypes used by pandas to allow spatial operations."
   ]
  },
  {
   "cell_type": "code",
   "execution_count": 7,
   "metadata": {},
   "outputs": [],
   "source": [
    "# create a geopandas dataframe populated with the polygons\n",
    "gdf = gpd.GeoDataFrame(polygons)\n",
    "\n",
    "# loop through the rows and convert each geometry into Shapely polygon\n",
    "for ix, poly in gdf.iterrows():\n",
    "    poly['coordinates'] = shapely.geometry.shape(poly)\n",
    "\n",
    "# rename the coordinates column to 'geometry', this is required to\n",
    "# allow geopandas to plot th polygons\n",
    "gdf = gdf.rename(columns={'coordinates': 'geometry'})\n",
    "\n",
    "# add our values to an attribute column\n",
    "gdf['attrs'] = values\n"
   ]
  },
  {
   "cell_type": "markdown",
   "metadata": {},
   "source": [
    "### Plot our vectorised raster "
   ]
  },
  {
   "cell_type": "code",
   "execution_count": 8,
   "metadata": {},
   "outputs": [
    {
     "data": {
      "text/plain": [
       "<matplotlib.axes._subplots.AxesSubplot at 0x7f5d19725fd0>"
      ]
     },
     "execution_count": 8,
     "metadata": {},
     "output_type": "execute_result"
    },
    {
     "data": {
      "image/png": "[encoded data removed]",
      "text/plain": [
       "<Figure size 432x432 with 1 Axes>"
      ]
     },
     "metadata": {
      "needs_background": "light"
     },
     "output_type": "display_data"
    }
   ],
   "source": [
    "gdf.plot(figsize=(6,6))"
   ]
  },
  {
   "cell_type": "markdown",
   "metadata": {},
   "source": [
    "### Export as shapefile\n",
    "\n",
    "Geopandas allows us to very easily export the geodataframe as a shapefile for use in other applications."
   ]
  },
  {
   "cell_type": "code",
   "execution_count": 9,
   "metadata": {},
   "outputs": [],
   "source": [
    "gdf.to_file('water_bodies.shp')"
   ]
  },
  {
   "cell_type": "markdown",
   "metadata": {},
   "source": [
    "## Rasterizing a shapefile\n",
    "\n",
    "Using [rasterio.features.rasterize](https://rasterio.readthedocs.io/en/stable/api/rasterio.features.html) we can turn the `geopandas.GeoDataFrame` back into a `xarray.Dataset`. As we already have the geodataframe loaded we don't need to read in the shapefile, but if we wanted to read in a shapefile first we can use [gpd.read_file()](http://geopandas.org/reference/geopandas.read_file.html).   \n",
    "\n",
    "The first step is to extract an iterable of `(geometry, value)` pairs from the `gdf` object:"
   ]
  },
  {
   "cell_type": "code",
   "execution_count": 10,
   "metadata": {},
   "outputs": [],
   "source": [
    "# instantiate an empty list\n",
    "shapes = []\n",
    "\n",
    "# loop through the geoseries of polygons and\n",
    "# values and  add to the 'shapes' list\n",
    "geoms = gdf['geometry']\n",
    "attributes = gdf['attrs']\n",
    "\n",
    "for poly, val in zip(geoms, attributes):\n",
    "    shapes.append((poly, val))\n"
   ]
  },
  {
   "cell_type": "markdown",
   "metadata": {},
   "source": [
    "We can now use the (geometry, value) iterable `shapes` to rasterize the polygons using `rasterio.features.rasterize`.  We also need to extract a `transform` object and the `x,y` length of the output array; this information we can grab from the intial WOfS dataset."
   ]
  },
  {
   "cell_type": "code",
   "execution_count": 11,
   "metadata": {},
   "outputs": [],
   "source": [
    "# First grab the spatial information from our datacube xarray object\n",
    "transform = ds.geobox.transform\n",
    "y,x = ds.frequency.squeeze().values.shape\n",
    "\n",
    "#now convert the polgons into a numpy array\n",
    "water_bodies_again = rasterio.features.rasterize(shapes = shapes,\n",
    "                          out_shape = (y,x),\n",
    "                          all_touched = False, \n",
    "                          fill = np.nan,\n",
    "                          transform=transform)\n"
   ]
  },
  {
   "cell_type": "markdown",
   "metadata": {},
   "source": [
    "Finally, we can convert our array back into an xarray.Dataset object for plotting and exporting as a geotiff"
   ]
  },
  {
   "cell_type": "code",
   "execution_count": 12,
   "metadata": {},
   "outputs": [
    {
     "data": {
      "text/plain": [
       "<matplotlib.collections.QuadMesh at 0x7f5cc3343160>"
      ]
     },
     "execution_count": 12,
     "metadata": {},
     "output_type": "execute_result"
    },
    {
     "data": {
      "image/png": "[encoded data removed]",
      "text/plain": [
       "<Figure size 540x360 with 2 Axes>"
      ]
     },
     "metadata": {
      "needs_background": "light"
     },
     "output_type": "display_data"
    }
   ],
   "source": [
    "# convert result to a xarray dataarray using coords etc from original dc.load dataset\n",
    "water_bodies_again = xr.DataArray(water_bodies_again,\n",
    "                                  coords=[ds.y, ds.x],\n",
    "                                  dims=['y', 'x'],\n",
    "                                  name='water_bodies',\n",
    "                                  attrs=ds.attrs)\n",
    "\n",
    "# convert to xarray dataset to assist with writing to geotiff\n",
    "water_bodies_again = water_bodies_again.to_dataset()\n",
    "water_bodies_again.attrs = ds.attrs\n",
    "\n",
    "#plot the result\n",
    "water_bodies_again.water_bodies.plot(size=5)\n"
   ]
  },
  {
   "cell_type": "markdown",
   "metadata": {},
   "source": [
    "### Export as geotiff"
   ]
  },
  {
   "cell_type": "code",
   "execution_count": 13,
   "metadata": {},
   "outputs": [],
   "source": [
    "write_geotiff('water_bodies_again.tif', water_bodies_again)"
   ]
  },
  {
   "cell_type": "markdown",
   "metadata": {},
   "source": [
    "## Additional information"
   ]
  },
  {
   "cell_type": "markdown",
   "metadata": {},
   "source": [
    "**License:** The code in this notebook is licensed under the [Apache License, Version 2.0](https://www.apache.org/licenses/LICENSE-2.0). \n",
    "Digital Earth Australia data is licensed under the [Creative Commons by Attribution 4.0](https://creativecommons.org/licenses/by/4.0/) license.\n",
    "\n",
    "**Contact:** If you need assistance, please post a question on the [Open Data Cube Slack channel](http://slack.opendatacube.org/) or on the [GIS Stack Exchange](https://gis.stackexchange.com/questions/ask?tags=open-data-cube) using the `open-data-cube` tag (you can view previously asked questions [here](https://gis.stackexchange.com/questions/tagged/open-data-cube)).\n",
    "If you would like to report an issue with this notebook, you can file one on [Github](https://github.com/GeoscienceAustralia/dea-notebooks).\n",
    "\n",
    "**Last modified:** September 2019\n",
    "\n",
    "**Compatible `datacube` version:** "
   ]
  },
  {
   "cell_type": "code",
   "execution_count": 14,
   "metadata": {},
   "outputs": [
    {
     "name": "stdout",
     "output_type": "stream",
     "text": [
      "1.7+43.gc873f3ea.dirty\n"
     ]
    }
   ],
   "source": [
    "print(datacube.__version__)"
   ]
  },
  {
   "cell_type": "markdown",
   "metadata": {},
   "source": [
    "## Tags\n",
    "Browse all available tags on the DEA User Guide's [Tags Index](https://docs.dea.ga.gov.au/genindex.html)"
   ]
  },
  {
   "cell_type": "raw",
   "metadata": {
    "raw_mimetype": "text/restructuredtext"
   },
   "source": [
    "**Tags**: :index:`sandbox_compatible`, :index:`nci_compatible`, :index:`WOfS`, :index:`rasterize`, :index:`rasterio.features.shapes`, :index:`rasterio.features.rasterize`, :index:`write_geotiff`, :index:`geopandas`, :index:`vectorize`"
   ]
  }
 ],
 "metadata": {
  "kernelspec": {
   "display_name": "Python 3",
   "language": "python",
   "name": "python3"
  },
  "language_info": {
   "codemirror_mode": {
    "name": "ipython",
    "version": 3
   },
   "file_extension": ".py",
   "mimetype": "text/x-python",
   "name": "python",
   "nbconvert_exporter": "python",
   "pygments_lexer": "ipython3",
   "version": "3.6.8"
  }
 },
 "nbformat": 4,
 "nbformat_minor": 4
}
