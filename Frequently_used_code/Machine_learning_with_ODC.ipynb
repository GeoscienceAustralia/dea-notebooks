{
 "cells": [
  {
   "cell_type": "markdown",
   "metadata": {},
   "source": [
    "# Machine learning with the Open Data Cube <img align=\"right\" src=\"../Supplementary_data/dea_logo.jpg\">\n",
    "\n",
    "* [**Sign up to the DEA Sandbox**](https://docs.dea.ga.gov.au/setup/sandbox.html) to run this notebook interactively from a browser\n",
    "* **Compatibility:** Notebook currently compatible with both the `NCI` and `DEA Sandbox` environments\n",
    "* **Products used:** \n",
    "[ls8_nbart_geomedian_annual](https://explorer.sandbox.dea.ga.gov.au/ls8_nbart_geomedian_annual)\n",
    "* **Special requirements:** A shapefile of labelled data in shapefile format is required to use this notebook.\n",
    "An example dataset is provided.\n",
    "* **Prerequisites:** A basic understanding of supervised learning techniques is required. \n",
    "[Introduction to statistical learning](https://doi.org/10.1007/978-1-4614-7138-7) is a useful resource to begin with - it can be downloaded for free [here](http://faculty.marshall.usc.edu/gareth-james/ISL/ISLR%20Seventh%20Printing.pdf). \n",
    "The [Scikit-learn](https://scikit-learn.org/stable/supervised_learning.html) documentation provides information on the available models and their parameters.\n"
   ]
  },
  {
   "cell_type": "markdown",
   "metadata": {},
   "source": [
    "## Description\n",
    "\n",
    "This notebook demonstrates a potential workflow using functions from the [dea_classificationtools](../Scripts/dea_classificationtools.py) script to implement a supervised learning landcover classifier within the [ODC (Open Data Cube)](https://www.opendatacube.org/) framework. \n",
    "\n",
    "For larger model training and prediction implementations this notebook can be adapted into a Python file and run in a distributed fashion.\n",
    "\n",
    "This example predicts a single class of cultivated / agricultural areas.\n",
    "The notebook demonstrates how to:\n",
    "\n",
    "1. Extract the desired ODC data for each labelled area (this becomes our training dataset).\n",
    "2. Train a simple decision tree model and adjust parameters. \n",
    "3. Predict landcover using trained model on new data.\n",
    "4. Evaluate the output of the classification using quantitative metrics and qualitative tools.\n",
    "\n",
    "***"
   ]
  },
  {
   "cell_type": "markdown",
   "metadata": {},
   "source": [
    "## Getting started\n",
    "\n",
    "To run this analysis, run all the cells in the notebook, starting with the \"Load packages\" cell. "
   ]
  },
  {
   "cell_type": "markdown",
   "metadata": {},
   "source": [
    "### Load packages\n",
    "Import Python packages that are used for the analysis."
   ]
  },
  {
   "cell_type": "code",
   "execution_count": 1,
   "metadata": {},
   "outputs": [
    {
     "name": "stderr",
     "output_type": "stream",
     "text": [
      "/env/lib/python3.6/site-packages/datacube/storage/masking.py:4: DeprecationWarning: datacube.storage.masking has moved to datacube.utils.masking\n",
      "  category=DeprecationWarning)\n",
      "/env/lib/python3.6/site-packages/osgeo/gdal.py:107: DeprecationWarning: gdal.py was placed in a namespace, it is now available as osgeo.gdal\n",
      "  DeprecationWarning)\n",
      "/usr/lib/python3.6/importlib/_bootstrap.py:219: RuntimeWarning: numpy.ufunc size changed, may indicate binary incompatibility. Expected 192 from C header, got 216 from PyObject\n",
      "  return f(*args, **kwds)\n",
      "/env/lib/python3.6/site-packages/pkg_resources/__init__.py:1150: DeprecationWarning: Use of .. or absolute path in a resource path is not allowed and will raise exceptions in a future release.\n",
      "  self, resource_name\n",
      "/env/lib/python3.6/site-packages/branca/colormap.py:29: ResourceWarning: unclosed file <_io.BufferedReader name='/env/lib/python3.6/site-packages/branca/_cnames.json'>\n",
      "  resource_package, resource_path_cnames).read().decode()\n",
      "/env/lib/python3.6/site-packages/branca/colormap.py:33: ResourceWarning: unclosed file <_io.BufferedReader name='/env/lib/python3.6/site-packages/branca/_schemes.json'>\n",
      "  resource_package, resource_path_schemes).read().decode()\n"
     ]
    }
   ],
   "source": [
    "%matplotlib inline\n",
    "import warnings\n",
    "warnings.filterwarnings(\"ignore\")\n",
    "\n",
    "import subprocess as sp\n",
    "import sys\n",
    "import shapely\n",
    "\n",
    "import rasterio\n",
    "import datacube\n",
    "import matplotlib\n",
    "import pydotplus\n",
    "import numpy as np\n",
    "import geopandas as gpd\n",
    "import matplotlib.pyplot as plt\n",
    "from io import StringIO\n",
    "from sklearn import tree\n",
    "from sklearn import model_selection\n",
    "from sklearn.metrics import accuracy_score\n",
    "from IPython.display import Image\n",
    "from datacube.utils import geometry\n",
    "from datacube.utils.cog import write_cog\n",
    "\n",
    "sys.path.append('../Scripts')\n",
    "from dea_classificationtools import collect_training_data, predict_xr\n",
    "from dea_plotting import map_shapefile\n"
   ]
  },
  {
   "cell_type": "markdown",
   "metadata": {},
   "source": [
    "### Connect to the datacube\n",
    "\n",
    "Connect to the datacube so we can access DEA data."
   ]
  },
  {
   "cell_type": "code",
   "execution_count": 2,
   "metadata": {},
   "outputs": [],
   "source": [
    "dc = datacube.Datacube(app='Machine_learning_with_ODC')"
   ]
  },
  {
   "cell_type": "markdown",
   "metadata": {},
   "source": [
    "### Analysis parameters\n",
    "* `path`: The path to the input shapefile. A default shapefile is provided.\n",
    "* `field`: This is the name of column in your shapefile attribute table that contains the class labels\n",
    "* `products`: The name of the product to extract. In this example we use a geomedian composite from 2018, `'ls8_nbart_geomedian_annual'`\n",
    "* `time`: The time range you wish to extract data for, typically the same date the labels were created.\n",
    "* `reduce_func`: This will determine the statistic to reduce the time dimension of the loaded datasets (if loading multiple time steps). Options include `'mean'`, `'median'`, `'std'` or `'geomedian'`. \n",
    "* `band_indices`: a list of band indices to calculate for the training data see [here](../Frequently_used_code/Calculating_band_indices.ipynb) for possible options.\n",
    "* `drop`: If calculating band indices, we can optionally choose to drop the spectral bands loaded with the product, if `'drop=True'`, then only the band indices will be used for the training data.\n",
    "* `zonal_stats`: This is an option to calculate the `'mean'`, `'median'`, or `'std'` of the pixel values within each polygon feature, setting it to `None` will result in all pixels being extracted.\n",
    "* `resolution`: The spatial resolution, in metres, to resample the satellite data too e.g. if working with Landsat data, then this should be `(-30,30)` \n",
    "* `ncpus`: Set this value to > 1 to parallize the collection of training data. eg. `npus=8`\n",
    "\n",
    "**If running the notebook for the first time**, keep the default settings below. This will demonstrate how the analysis works and provide meaningful results.  \n"
   ]
  },
  {
   "cell_type": "code",
   "execution_count": 3,
   "metadata": {},
   "outputs": [
    {
     "name": "stdout",
     "output_type": "stream",
     "text": [
      "ncpus: 2\n"
     ]
    }
   ],
   "source": [
    "path = '../Supplementary_data/Machine_learning_with_ODC/example_training_data.shp'\n",
    "field = 'classnum'\n",
    "products = [\"ls8_nbart_geomedian_annual\"]\n",
    "time = ('2015')\n",
    "reduce_func = None #'mean'\n",
    "custom_func = None\n",
    "band_indices = None # ['NDVI'] \n",
    "drop = False\n",
    "zonal_stats = 'median' \n",
    "resolution =  (-25, 25)\n",
    "\n",
    "# automatically detect number of cpus, need to \n",
    "# adjust to [-4:] if working on the XXL Sandbox\n",
    "ncpus= int(float(sp.getoutput('env | grep CPU')[-3:]))\n",
    "print('ncpus: '+str(ncpus))"
   ]
  },
  {
   "cell_type": "markdown",
   "metadata": {},
   "source": [
    "### Automatically detect the number of cpus"
   ]
  },
  {
   "cell_type": "code",
   "execution_count": 4,
   "metadata": {},
   "outputs": [
    {
     "name": "stdout",
     "output_type": "stream",
     "text": [
      "ncpus = 2\n"
     ]
    }
   ],
   "source": [
    "try:\n",
    "    ncpus = int(float(sp.getoutput('env | grep CPU')[-4:]))\n",
    "except:\n",
    "    ncpus = int(float(sp.getoutput('env | grep CPU')[-3:]))\n",
    "\n",
    "print('ncpus = '+str(ncpus))"
   ]
  },
  {
   "cell_type": "markdown",
   "metadata": {},
   "source": [
    "### Preview input data and study area\n",
    "\n",
    "We can load and preview our input data shapefile using `geopandas`.\n",
    "The shapefile should contain a column with class labels (e.g. `classnum` below).\n",
    "These labels will be used to train our model."
   ]
  },
  {
   "cell_type": "code",
   "execution_count": 5,
   "metadata": {},
   "outputs": [
    {
     "data": {
      "text/html": [
       "<div>\n",
       "<style scoped>\n",
       "    .dataframe tbody tr th:only-of-type {\n",
       "        vertical-align: middle;\n",
       "    }\n",
       "\n",
       "    .dataframe tbody tr th {\n",
       "        vertical-align: top;\n",
       "    }\n",
       "\n",
       "    .dataframe thead th {\n",
       "        text-align: right;\n",
       "    }\n",
       "</style>\n",
       "<table border=\"1\" class=\"dataframe\">\n",
       "  <thead>\n",
       "    <tr style=\"text-align: right;\">\n",
       "      <th></th>\n",
       "      <th>classnum</th>\n",
       "      <th>geometry</th>\n",
       "    </tr>\n",
       "  </thead>\n",
       "  <tbody>\n",
       "    <tr>\n",
       "      <th>0</th>\n",
       "      <td>112</td>\n",
       "      <td>POLYGON ((-1521875.000 -3801925.000, -1521900....</td>\n",
       "    </tr>\n",
       "    <tr>\n",
       "      <th>1</th>\n",
       "      <td>111</td>\n",
       "      <td>POLYGON ((-1557925.000 -3801125.000, -1557950....</td>\n",
       "    </tr>\n",
       "    <tr>\n",
       "      <th>2</th>\n",
       "      <td>111</td>\n",
       "      <td>POLYGON ((-1555325.000 -3800000.000, -1555200....</td>\n",
       "    </tr>\n",
       "    <tr>\n",
       "      <th>3</th>\n",
       "      <td>111</td>\n",
       "      <td>POLYGON ((-1552925.000 -3800950.000, -1552925....</td>\n",
       "    </tr>\n",
       "    <tr>\n",
       "      <th>4</th>\n",
       "      <td>111</td>\n",
       "      <td>POLYGON ((-1545475.000 -3800000.000, -1544325....</td>\n",
       "    </tr>\n",
       "  </tbody>\n",
       "</table>\n",
       "</div>"
      ],
      "text/plain": [
       "   classnum                                           geometry\n",
       "0       112  POLYGON ((-1521875.000 -3801925.000, -1521900....\n",
       "1       111  POLYGON ((-1557925.000 -3801125.000, -1557950....\n",
       "2       111  POLYGON ((-1555325.000 -3800000.000, -1555200....\n",
       "3       111  POLYGON ((-1552925.000 -3800950.000, -1552925....\n",
       "4       111  POLYGON ((-1545475.000 -3800000.000, -1544325...."
      ]
     },
     "execution_count": 5,
     "metadata": {},
     "output_type": "execute_result"
    }
   ],
   "source": [
    "# Load input data shapefile\n",
    "input_data = gpd.read_file(path)\n",
    "\n",
    "# Plot first five rows\n",
    "input_data.head()"
   ]
  },
  {
   "cell_type": "markdown",
   "metadata": {},
   "source": [
    "The data can also be explored using the interactive map below.\n",
    "Hover over each individual feature to see a print-out of its unique class label number above the map."
   ]
  },
  {
   "cell_type": "code",
   "execution_count": 6,
   "metadata": {},
   "outputs": [
    {
     "data": {
      "application/vnd.jupyter.widget-view+json": {
       "model_id": "bd7eb5fbdba64bf6af9a6c393f05b5fb",
       "version_major": 2,
       "version_minor": 0
      },
      "text/plain": [
       "Label(value='')"
      ]
     },
     "metadata": {},
     "output_type": "display_data"
    },
    {
     "data": {
      "application/vnd.jupyter.widget-view+json": {
       "model_id": "050afa2537e14a7bb95a9761d1f75219",
       "version_major": 2,
       "version_minor": 0
      },
      "text/plain": [
       "Map(center=[-34.110424911963065, 115.32099948027002], controls=(ZoomControl(options=['position', 'zoom_in_text…"
      ]
     },
     "metadata": {},
     "output_type": "display_data"
    }
   ],
   "source": [
    "# Plot training data in an interactive map\n",
    "map_shapefile(input_data, attribute=field)"
   ]
  },
  {
   "cell_type": "markdown",
   "metadata": {},
   "source": [
    "## Extract training data using a shapefile\n",
    "\n",
    "To train our model, we need to obtain satellite data that corresponds with the labelled input data locations above. \n",
    "The function below takes our shapefile containing class labels and extracts the specified product within these areas into a single array.\n",
    "\n",
    "> **The following cell can take several minutes to run.** The class labels will be contained in the first column of the output array."
   ]
  },
  {
   "cell_type": "code",
   "execution_count": 7,
   "metadata": {},
   "outputs": [],
   "source": [
    "#generate a datacube query object\n",
    "query = {\n",
    "    'time': time,\n",
    "    'measurements': ['blue',\n",
    "                     'green',\n",
    "                     'red',\n",
    "                     'nir',\n",
    "                     'swir1',\n",
    "                     'swir2'],\n",
    "    'resolution': resolution,\n",
    "    'group_by' :'solar_day',\n",
    "}\n"
   ]
  },
  {
   "cell_type": "code",
   "execution_count": 8,
   "metadata": {},
   "outputs": [
    {
     "name": "stdout",
     "output_type": "stream",
     "text": [
      "Taking zonal statistic: median\n",
      "Collecting training data in parallel mode\n"
     ]
    },
    {
     "name": "stderr",
     "output_type": "stream",
     "text": [
      "100%|██████████| 217/217 [00:57<00:00,  3.77it/s]"
     ]
    },
    {
     "name": "stdout",
     "output_type": "stream",
     "text": [
      "Removed 0 rows wth NaNs &/or Infs\n",
      "Output shape:  (217, 7)\n"
     ]
    },
    {
     "name": "stderr",
     "output_type": "stream",
     "text": [
      "\n"
     ]
    }
   ],
   "source": [
    "column_names, model_input = collect_training_data(\n",
    "                                    gdf=input_data,\n",
    "                                    products=products,\n",
    "                                    dc_query=query,\n",
    "                                    ncpus=ncpus,\n",
    "                                    custom_func=custom_func,\n",
    "                                    field=field,\n",
    "                                    calc_indices=band_indices,\n",
    "                                    reduce_func=reduce_func,\n",
    "                                    drop=drop,\n",
    "                                    zonal_stats=zonal_stats)"
   ]
  },
  {
   "cell_type": "markdown",
   "metadata": {},
   "source": [
    "## Preprocessing"
   ]
  },
  {
   "cell_type": "markdown",
   "metadata": {},
   "source": [
    "Our training data has multiple classes in it.\n",
    "However, we are only trying to predict one class (i.e. class label 111, _Cultivated Terrestrial Vegetated_) with this model. \n",
    "We therefore remove other classes from our training data by setting the label value for all other classes to 0.\n",
    "\n",
    "These entries provide counter-examples to help the model distinguish the landcover classes from each other."
   ]
  },
  {
   "cell_type": "code",
   "execution_count": 9,
   "metadata": {},
   "outputs": [],
   "source": [
    "# Modify the input training data for single class labels\n",
    "model_input[:,0] = np.where(model_input[:,0] == 111, 1, 0)"
   ]
  },
  {
   "cell_type": "markdown",
   "metadata": {},
   "source": [
    "So that we can access the accuracy of our classification, we split our data into training and testing data. \n",
    "80% is used for training with 20% held back for testing.\n",
    "When splitting our data, we stratify the training data by the distributions of class membership.\n",
    "This sampling method leads to a similar distribution of class membership in the training data."
   ]
  },
  {
   "cell_type": "code",
   "execution_count": 10,
   "metadata": {},
   "outputs": [
    {
     "name": "stdout",
     "output_type": "stream",
     "text": [
      "Train shape: (173, 7)\n",
      "Test shape: (44, 7)\n"
     ]
    }
   ],
   "source": [
    "# Split into training and testing data\n",
    "model_train, model_test = model_selection.train_test_split(model_input, \n",
    "                                                           stratify=model_input[:, 0],\n",
    "                                                           train_size=0.8, \n",
    "                                                           random_state=0)\n",
    "print(\"Train shape:\", model_train.shape)\n",
    "print(\"Test shape:\", model_test.shape)"
   ]
  },
  {
   "cell_type": "markdown",
   "metadata": {},
   "source": [
    "## Model preparation"
   ]
  },
  {
   "cell_type": "markdown",
   "metadata": {},
   "source": [
    "This section automatically creates a list of varaible names and their respective indices for each of the training data variables.\n",
    "\n",
    "> **Note:** To use a custom subset of the satellite bands loaded above to train our data, you can replace `column_names[1:]` with a list of selected band names (e.g. `['red', 'green', 'blue']`)"
   ]
  },
  {
   "cell_type": "code",
   "execution_count": 11,
   "metadata": {},
   "outputs": [],
   "source": [
    "# Select the variables we want to use to train our model\n",
    "model_variables = column_names[1:]\n",
    "\n",
    "# Extract relevant indices from the processed shapefile\n",
    "model_col_indices = [column_names.index(var_name) for var_name in model_variables]"
   ]
  },
  {
   "cell_type": "markdown",
   "metadata": {},
   "source": [
    "A **decision tree model** is chosen as it is one of the simplest supervised machine learning models we can implement. \n",
    "\n",
    "Its strengths are its explainability and cheap computational cost.\n",
    "\n",
    "Parameter tuning can be conducted in the model initialisation below - details on how the different parameters will affect the model are [here](https://scikit-learn.org/stable/modules/tree.html#tips-on-practical-use)."
   ]
  },
  {
   "cell_type": "code",
   "execution_count": 12,
   "metadata": {},
   "outputs": [],
   "source": [
    "# Initialise model\n",
    "model = tree.DecisionTreeClassifier(max_depth=10)"
   ]
  },
  {
   "cell_type": "markdown",
   "metadata": {},
   "source": [
    "## Train model"
   ]
  },
  {
   "cell_type": "markdown",
   "metadata": {},
   "source": [
    "The model is fitted / trained using the prepared training data. \n",
    "The fitting process uses the decision tree approach to create a generalised representation of reality based on the training data. \n",
    "This fitted / trained model can then be used to predict which class new data belongs to."
   ]
  },
  {
   "cell_type": "code",
   "execution_count": 13,
   "metadata": {},
   "outputs": [
    {
     "data": {
      "text/plain": [
       "DecisionTreeClassifier(max_depth=10)"
      ]
     },
     "execution_count": 13,
     "metadata": {},
     "output_type": "execute_result"
    }
   ],
   "source": [
    "# Train model\n",
    "model.fit(model_train[:, model_col_indices], model_train[:, 0])"
   ]
  },
  {
   "cell_type": "markdown",
   "metadata": {},
   "source": [
    "## Analyse results"
   ]
  },
  {
   "cell_type": "markdown",
   "metadata": {},
   "source": [
    "### Feature importance"
   ]
  },
  {
   "cell_type": "markdown",
   "metadata": {},
   "source": [
    "The decision tree classifier allows us to inspect the feature importance of each input variable.\n",
    "Feature importance represents the relative contribution of each variable in predicting the desired landcover class. \n",
    "When summed, the importance of all variables should add up to 1.0."
   ]
  },
  {
   "cell_type": "code",
   "execution_count": 14,
   "metadata": {},
   "outputs": [
    {
     "data": {
      "image/png": "[encoded data removed]",
      "text/plain": [
       "<Figure size 432x288 with 1 Axes>"
      ]
     },
     "metadata": {
      "needs_background": "light"
     },
     "output_type": "display_data"
    }
   ],
   "source": [
    "# This shows the feature importance of the input features for predicting the class labels provided\n",
    "plt.bar(x=model_variables, height=model.feature_importances_)\n",
    "plt.gca().set_ylabel('Importance', labelpad=10)\n",
    "plt.gca().set_xlabel('Variable', labelpad=10);"
   ]
  },
  {
   "cell_type": "markdown",
   "metadata": {},
   "source": [
    "This decision tree representation visualises the trained model. \n",
    "Here we can see that the model decides which landcover class to assign based on the value of the important variables in the plot above.\n",
    "\n",
    "The **gini** value shown in the tree represents the decrease in node impurity.\n",
    "This can also be understood as how heterogeneous the labels are (small values indicating better results). \n",
    "This metric is used by the decision tree to determine how to split the data into smaller groups."
   ]
  },
  {
   "cell_type": "code",
   "execution_count": 15,
   "metadata": {},
   "outputs": [
    {
     "data": {
      "image/png": "[encoded data removed]",
      "text/plain": [
       "<IPython.core.display.Image object>"
      ]
     },
     "execution_count": 15,
     "metadata": {},
     "output_type": "execute_result"
    }
   ],
   "source": [
    "# Prepare a dictionary of class names\n",
    "class_names = {1: 'Cultivated Terrestrial Vegetated',\n",
    "               0: 'Not Cultivated Terrestrial Vegetated'}\n",
    "\n",
    "# Get list of unique classes in model\n",
    "class_codes = np.unique(model_train[:, 0])\n",
    "class_names_in_model = [class_names[k] for k in class_codes]\n",
    "\n",
    "# Plot decision tree\n",
    "dot_data = StringIO()\n",
    "tree.export_graphviz(model, \n",
    "                     out_file=dot_data, \n",
    "                     feature_names=model_variables, \n",
    "                     class_names=class_names_in_model,\n",
    "                     filled=True, \n",
    "                     rounded=True,\n",
    "                     special_characters=True)\n",
    "\n",
    "graph = pydotplus.graph_from_dot_data(dot_data.getvalue())\n",
    "Image(graph.create_png())"
   ]
  },
  {
   "cell_type": "markdown",
   "metadata": {},
   "source": [
    "### Accuracy"
   ]
  },
  {
   "cell_type": "markdown",
   "metadata": {},
   "source": [
    "We can use the 20% sample of test data we partitioned earlier to test the accuracy of the trained model on this new, \"unseen\" data.\n",
    "\n",
    "An accuracy value of 1.0 indicates that the model was able to correctly predict 100% of the classes in the test data."
   ]
  },
  {
   "cell_type": "code",
   "execution_count": 16,
   "metadata": {},
   "outputs": [
    {
     "data": {
      "text/plain": [
       "0.9545454545454546"
      ]
     },
     "execution_count": 16,
     "metadata": {},
     "output_type": "execute_result"
    }
   ],
   "source": [
    "predictions = model.predict(model_test[:, model_col_indices])\n",
    "accuracy_score(predictions, model_test[:, 0])"
   ]
  },
  {
   "cell_type": "markdown",
   "metadata": {},
   "source": [
    "## Prediction"
   ]
  },
  {
   "cell_type": "markdown",
   "metadata": {},
   "source": [
    "Now that we have a trained model, we can load new data and use the `predict_xr` function to predict landcover classes. \n",
    "\n",
    "The trained model can technically be used to classify any dataset or product with the same bands as the data originally used to train the data.\n",
    "However, it is typically highly advisable to classify data from the same product that the data was originally trained on (e.g. `'ls8_nbart_geomedian_annual'` below).\n"
   ]
  },
  {
   "cell_type": "code",
   "execution_count": 17,
   "metadata": {},
   "outputs": [],
   "source": [
    "# Get extent from input shapefile \n",
    "xmin, ymin, xmax, ymax = input_data.unary_union.bounds\n",
    "\n",
    "# Set up the query parameters\n",
    "query = {'time': time,\n",
    "         'x': (xmin, xmax),\n",
    "         'y': (ymin, ymax),\n",
    "         'crs': 'EPSG:3577',\n",
    "         'resolution': (-25, 25)}\n",
    "\n",
    "# Load new input data\n",
    "geomedian_data = dc.load(product='ls8_nbart_geomedian_annual', \n",
    "                         **query)"
   ]
  },
  {
   "cell_type": "markdown",
   "metadata": {},
   "source": [
    "Once the data has been loaded, we can classify it using `predict_xr`:"
   ]
  },
  {
   "cell_type": "code",
   "execution_count": 18,
   "metadata": {},
   "outputs": [
    {
     "name": "stdout",
     "output_type": "stream",
     "text": [
      "predicting...\n"
     ]
    }
   ],
   "source": [
    "# Predict landcover using the trained model\n",
    "predicted = predict_xr(model, geomedian_data, clean=True)"
   ]
  },
  {
   "cell_type": "markdown",
   "metadata": {},
   "source": [
    "## Plotting"
   ]
  },
  {
   "cell_type": "markdown",
   "metadata": {},
   "source": [
    "To qualitatively evaluate how well the classification performed, we can plot the classifed/predicted data next to our input satellite imagery.\n",
    "\n",
    "> **Note:** The output below is unlikely to be optimal the first time the classification is run.\n",
    "The model training process is one of experimentation and assumption checking that occurs in an iterative cycle - you may need to revisit the steps above and make changes to model parameters or input training data until you achieve a satisfactory result."
   ]
  },
  {
   "cell_type": "code",
   "execution_count": null,
   "metadata": {},
   "outputs": [],
   "source": [
    "# Set up plot\n",
    "fig, axes = plt.subplots(1, 2, figsize=(14, 6))\n",
    "\n",
    "# Plot classified image\n",
    "predicted.Predictions.plot(ax=axes[0], \n",
    "               cmap='Greens', \n",
    "               add_labels=False, \n",
    "               add_colorbar=False)\n",
    "\n",
    "# Plot true colour image\n",
    "(geomedian_data[['red', 'green', 'blue']]\n",
    " .squeeze('time')\n",
    " .to_array()\n",
    " .plot.imshow(ax=axes[1], robust=True, add_labels=False))\n",
    "\n",
    "# Remove axis on right plot\n",
    "axes[1].get_yaxis().set_visible(False)\n",
    "\n",
    "# Add plot titles\n",
    "axes[0].set_title('Classified data')\n",
    "axes[1].set_title('True colour image');"
   ]
  },
  {
   "cell_type": "markdown",
   "metadata": {},
   "source": [
    "## Exporting classification\n",
    "We can now export the predicted landcover out to a GeoTIFF `.tif` file. \n",
    "This file can be loaded into GIS software (e.g. QGIS, ArcMap) to be inspected more closely."
   ]
  },
  {
   "cell_type": "code",
   "execution_count": null,
   "metadata": {},
   "outputs": [],
   "source": [
    "# Write the predicted data out to a GeoTIFF\n",
    "write_cog(predicted.Predictions,\n",
    "         'predicted.tif',\n",
    "          overwrite=True)\n"
   ]
  },
  {
   "cell_type": "markdown",
   "metadata": {},
   "source": [
    "***\n",
    "\n",
    "## Additional information\n",
    "\n",
    "**License:** The code in this notebook is licensed under the [Apache License, Version 2.0](https://www.apache.org/licenses/LICENSE-2.0). \n",
    "Digital Earth Australia data is licensed under the [Creative Commons by Attribution 4.0](https://creativecommons.org/licenses/by/4.0/) license.\n",
    "\n",
    "**Contact:** If you need assistance, please post a question on the [Open Data Cube Slack channel](http://slack.opendatacube.org/) or on the [GIS Stack Exchange](https://gis.stackexchange.com/questions/ask?tags=open-data-cube) using the `open-data-cube` tag (you can view previously asked questions [here](https://gis.stackexchange.com/questions/tagged/open-data-cube)).\n",
    "If you would like to report an issue with this notebook, you can file one on [Github](https://github.com/GeoscienceAustralia/dea-notebooks).\n",
    "\n",
    "**Last modified:** July 2020\n",
    "\n",
    "**Compatible datacube version:** "
   ]
  },
  {
   "cell_type": "code",
   "execution_count": null,
   "metadata": {},
   "outputs": [],
   "source": [
    "print(datacube.__version__)"
   ]
  },
  {
   "cell_type": "markdown",
   "metadata": {},
   "source": [
    "## Tags\n",
    "Browse all available tags on the DEA User Guide's [Tags Index](https://docs.dea.ga.gov.au/genindex.html)"
   ]
  },
  {
   "cell_type": "raw",
   "metadata": {
    "raw_mimetype": "text/restructuredtext"
   },
   "source": [
    "**Tags**: :index:`NCI compatible`, :index:`sandbox compatible`, :index:`landsat 8`, :index:`annual geomedian`, :index:`dea_plotting`, :index:`map_shapefile`, :index:`dea_classificationtools`, :index:`predict_xr`, :index:`get_training_data_for_shp`, :index:`machine learning`, :index:`decision tree`"
   ]
  }
 ],
 "metadata": {
  "kernelspec": {
   "display_name": "Python 3",
   "language": "python",
   "name": "python3"
  },
  "language_info": {
   "codemirror_mode": {
    "name": "ipython",
    "version": 3
   },
   "file_extension": ".py",
   "mimetype": "text/x-python",
   "name": "python",
   "nbconvert_exporter": "python",
   "pygments_lexer": "ipython3",
   "version": "3.6.9"
  },
  "widgets": {
   "application/vnd.jupyter.widget-state+json": {
    "state": {},
    "version_major": 2,
    "version_minor": 0
   }
  }
 },
 "nbformat": 4,
 "nbformat_minor": 4
}
