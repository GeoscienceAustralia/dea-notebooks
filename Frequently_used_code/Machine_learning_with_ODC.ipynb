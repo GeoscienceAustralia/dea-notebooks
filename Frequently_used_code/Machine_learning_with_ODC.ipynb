{
 "cells": [
  {
   "cell_type": "markdown",
   "metadata": {},
   "source": [
    "# Machine Learning with the Open Data Cube <img align=\"right\" src=\"../Supplementary_data/dea_logo.jpg\">\n",
    "\n",
    "* **Compatability:** Notebook currently compatible with both the `NCI` and `DEA Sandbox` environments\n",
    "* **Products used:** \n",
    "[ls8_nbart_geomedian_annual](https://explorer.sandbox.dea.ga.gov.au/ls8_nbart_geomedian_annual)\n",
    "* **Special requirements:** A shapefile of labelled data is required to use this notebook\n",
    "* **Prerequisites:** A basic understanding of supervised learning techniques is required. [Introduction to statistical learning](https://doi.org/10.1007/978-1-4614-7138-7) is a useful resource to begin with - it can be downloaded for free [here](http://faculty.marshall.usc.edu/gareth-james/ISL/ISLR%20Seventh%20Printing.pdf). The [Scikit-learn](https://scikit-learn.org/stable/supervised_learning.html) documentation provides information on the available models and their parameters.\n"
   ]
  },
  {
   "cell_type": "markdown",
   "metadata": {},
   "source": [
    "## Description\n",
    "\n",
    "This notebook demonstrates a potential workflow using [dea_classificationtools](https://github.com/GeoscienceAustralia/dea-notebooks/blob/develop/Scripts/dea_classificationtools.py) to implement a supervised learning landcover classifier within the ODC (Open Data Cube) framework. \n",
    "\n",
    "This example predicts a single class of cultivated / agricultural area.\n",
    "\n",
    "The model training process is one of experimentation and assumption checking that occurs in an iterative cycle. \n",
    "\n",
    "For larger model training and prediction implementations this notebook can be adapted into a python file and run in a distributed fashion.\n",
    "\n",
    ">**Before using this notebook for your own purposes you must have labelled data in the shapefile format. An example dataset is provided.**\n",
    "\n",
    "1. Extract the desired ODC data for each labelled area (This becomes our training dataset).\n",
    "2. Train a model, adjust parameters. \n",
    "3. Predict landcover using trained model on new data\n",
    "\n",
    "***"
   ]
  },
  {
   "cell_type": "markdown",
   "metadata": {},
   "source": [
    "## Getting started\n",
    "\n",
    "To run this analysis, run all the cells in the notebook, starting with the \"Load packages\" cell. "
   ]
  },
  {
   "cell_type": "markdown",
   "metadata": {},
   "source": [
    "### Load packages\n",
    "Import Python packages that are used for the analysis."
   ]
  },
  {
   "cell_type": "code",
   "execution_count": 1,
   "metadata": {},
   "outputs": [
    {
     "name": "stderr",
     "output_type": "stream",
     "text": [
      "/home/jovyan/.local/lib/python3.6/site-packages/sklearn/externals/six.py:31: DeprecationWarning: The module is deprecated in version 0.21 and will be removed in version 0.23 since we've dropped support for Python 2.7. Please rely on the official version of six (https://pypi.org/project/six/).\n",
      "  \"(https://pypi.org/project/six/).\", DeprecationWarning)\n"
     ]
    }
   ],
   "source": [
    "import shapely\n",
    "import rasterio\n",
    "import geopandas as gpd\n",
    "from datacube import helpers\n",
    "from datacube.utils import geometry\n",
    "from IPython.display import Image\n",
    "import pydotplus\n",
    "from sklearn.metrics import accuracy_score\n",
    "from sklearn.externals.six import StringIO\n",
    "from sklearn import tree\n",
    "from sklearn import model_selection\n",
    "import numpy\n",
    "import os\n",
    "import xarray as xr\n",
    "import numpy as np\n",
    "import datacube\n",
    "import matplotlib\n",
    "import matplotlib.pyplot as plt\n",
    "%matplotlib inline\n",
    "import sys\n",
    "sys.path.append('../Scripts')\n",
    "from dea_plotting import map_shapefile\n",
    "from dea_classificationtools import get_training_data_for_shp, predict_xr"
   ]
  },
  {
   "cell_type": "markdown",
   "metadata": {},
   "source": [
    "### Connect to the datacube\n",
    "\n",
    "Connect to the datacube so we can access DEA data."
   ]
  },
  {
   "cell_type": "code",
   "execution_count": 2,
   "metadata": {},
   "outputs": [],
   "source": [
    "dc = datacube.Datacube(app='Machine_learning_with_ODC')"
   ]
  },
  {
   "cell_type": "markdown",
   "metadata": {},
   "source": [
    "### Analysis parameters\n",
    "* `path`: The path to the input shapefile\n",
    "* `field`: This is the name of column in your shapefile attribute table that contains the class labels\n",
    "* `product`: The name of the product to extract. This method works on DEA Landsat Collection 3 ARD Landsat 7 and Landsat 8 data - [ls8_nbart_geomedian_annual](https://explorer.sandbox.dea.ga.gov.au/ls8_nbart_geomedian_annual)\n",
    " is a good start.\n",
    "* `year`: The year you wish to extract data for, typically the same year the labels were created\n",
    "* `feature_stats`: This is an option to calculate the mean of the values within the feature, it is useful for reducing noise and simplifying the training data"
   ]
  },
  {
   "cell_type": "code",
   "execution_count": 3,
   "metadata": {},
   "outputs": [],
   "source": [
    "path = '../Supplementary_data/Machine_learning_with_ODC/Cell_-16_-39_2015.shp'\n",
    "field = 'classnum'\n",
    "product = 'ls8_nbart_geomedian_annual'\n",
    "year = 2015\n",
    "feature_stats = 'mean'"
   ]
  },
  {
   "cell_type": "code",
   "execution_count": 4,
   "metadata": {},
   "outputs": [
    {
     "name": "stderr",
     "output_type": "stream",
     "text": [
      "/usr/local/lib/python3.6/dist-packages/pyproj/crs.py:77: FutureWarning: '+init=<authority>:<code>' syntax is deprecated. '<authority>:<code>' is the preferred initialization method.\n",
      "  return _prepare_from_string(\" \".join(pjargs))\n"
     ]
    },
    {
     "data": {
      "application/vnd.jupyter.widget-view+json": {
       "model_id": "74d97b7273d0401db0a69b7f1194f144",
       "version_major": 2,
       "version_minor": 0
      },
      "text/plain": [
       "Label(value='')"
      ]
     },
     "metadata": {},
     "output_type": "display_data"
    },
    {
     "data": {
      "application/vnd.jupyter.widget-view+json": {
       "model_id": "6cc646659a944b86ae362de9fb9ccac0",
       "version_major": 2,
       "version_minor": 0
      },
      "text/plain": [
       "Map(basemap={'url': 'http://server.arcgisonline.com/ArcGIS/rest/services/World_Imagery/MapServer/tile/{z}/{y}/…"
      ]
     },
     "metadata": {},
     "output_type": "display_data"
    }
   ],
   "source": [
    "cmap = matplotlib.colors.ListedColormap([\"#4ca334\"])\n",
    "map_shapefile(gpd.read_file(path), colormap=cmap, hover_col ='classnum')"
   ]
  },
  {
   "cell_type": "markdown",
   "metadata": {},
   "source": [
    "## Extract training data using a shapefile\n",
    "\n",
    "This function takes a shapefile that contains class labels and extracts the specified product within these areas into a single array\n",
    "\n",
    "> The following cell can take several minutes to run\n",
    "\n",
    "> The class labels will be contained in the first column of the output array"
   ]
  },
  {
   "cell_type": "code",
   "execution_count": 5,
   "metadata": {},
   "outputs": [
    {
     "name": "stdout",
     "output_type": "stream",
     "text": [
      "Loading data...\n",
      "Rasterizing features and extracting data...\n",
      "(217, 7) 0217/0217\n"
     ]
    }
   ],
   "source": [
    "# Empty list which we will populate with data\n",
    "out = []\n",
    "\n",
    "# Calling the extraction function\n",
    "column_names = get_training_data_for_shp(path, out,\n",
    "                                         product=product,\n",
    "                                         time=('{}-01-01'.format(year),\n",
    "                                               '{}-12-31'.format(year)),\n",
    "                                         crs='EPSG:3577', field=field,\n",
    "                                         calc_indices=None,\n",
    "                                         feature_stats=feature_stats)\n",
    "\n",
    "# Stacking the extracted training data for each feature into a single array\n",
    "model_input = np.vstack(out)\n",
    "print(model_input.shape)"
   ]
  },
  {
   "cell_type": "markdown",
   "metadata": {},
   "source": [
    "## Preprocessing"
   ]
  },
  {
   "cell_type": "markdown",
   "metadata": {},
   "source": [
    "`Scitkit-learn` models cannot accept training data with `NaNs` (Not a Number). This preprocessing step removes any potential rows in the training array with NaNs"
   ]
  },
  {
   "cell_type": "code",
   "execution_count": 6,
   "metadata": {},
   "outputs": [
    {
     "name": "stdout",
     "output_type": "stream",
     "text": [
      "Cleaned input shape: (217, 7)\n"
     ]
    }
   ],
   "source": [
    "# Remove any potential nans\n",
    "model_input = model_input[~numpy.isnan(model_input).any(axis=1)]\n",
    "print(\"Cleaned input shape:\", model_input.shape)"
   ]
  },
  {
   "cell_type": "markdown",
   "metadata": {},
   "source": [
    "Our training data has multiple classes in it however we are only trying to predict one class with this model, therefore we change the label value for every training row that isn't for the class we are interested in to 0.\n",
    "\n",
    "These entries provide counterexamples to help the model distinguish the landcover classes from each other."
   ]
  },
  {
   "cell_type": "code",
   "execution_count": 7,
   "metadata": {},
   "outputs": [],
   "source": [
    "# Modify the input training data for single class labels\n",
    "model_input[:,0] = np.where(model_input[:,0] == 111, 1, 0)"
   ]
  },
  {
   "cell_type": "markdown",
   "metadata": {},
   "source": [
    "Split data into training and testing data. 80 % is used for training with 20 % held back for testing.\n",
    "\n",
    "We stratify the training data by the distributions of class membership, this sampling method leads to a similar distribution of class membership in the training data."
   ]
  },
  {
   "cell_type": "code",
   "execution_count": 8,
   "metadata": {},
   "outputs": [
    {
     "name": "stdout",
     "output_type": "stream",
     "text": [
      "Train shape: (173, 7)\n",
      "Test shape: (44, 7)\n"
     ]
    }
   ],
   "source": [
    "# Split into training and testing data\n",
    "model_train, model_test = model_selection.train_test_split(model_input, stratify=model_input[:, 0],\n",
    "                                                           train_size=0.8, random_state=0)\n",
    "print(\"Train shape:\", model_train.shape)\n",
    "print(\"Test shape:\", model_test.shape)"
   ]
  },
  {
   "cell_type": "markdown",
   "metadata": {},
   "source": [
    "## Model preparation"
   ]
  },
  {
   "cell_type": "markdown",
   "metadata": {},
   "source": [
    "This section automatically creates a list of names and their respective indices for each of the training data variables"
   ]
  },
  {
   "cell_type": "code",
   "execution_count": 9,
   "metadata": {},
   "outputs": [
    {
     "name": "stdout",
     "output_type": "stream",
     "text": [
      "{'classnum': 0, 'blue': 1, 'green': 2, 'red': 3, 'nir': 4, 'swir1': 5, 'swir2': 6}\n"
     ]
    }
   ],
   "source": [
    "# Extract the variable names and relevant indices from the processed shapefile\n",
    "model_variables = column_names[1:]\n",
    "\n",
    "column_names_indices = {}\n",
    "\n",
    "for col_num, var_name in enumerate(column_names):\n",
    "    column_names_indices[var_name] = col_num\n",
    "\n",
    "model_col_indices = []\n",
    "\n",
    "for model_var in model_variables:\n",
    "    model_col_indices.append(column_names_indices[model_var])\n",
    "    \n",
    "print(column_names_indices)"
   ]
  },
  {
   "cell_type": "markdown",
   "metadata": {},
   "source": [
    "A decision tree model is chosen as it is one of the simplest supervised machine learning models we can implement. \n",
    "\n",
    "Its strength's are its explainability and cheap computational cost."
   ]
  },
  {
   "cell_type": "code",
   "execution_count": 10,
   "metadata": {},
   "outputs": [],
   "source": [
    "# Initialise model\n",
    "model = tree.DecisionTreeClassifier()"
   ]
  },
  {
   "cell_type": "markdown",
   "metadata": {},
   "source": [
    "## Train model"
   ]
  },
  {
   "cell_type": "markdown",
   "metadata": {},
   "source": [
    "The model is fitted / trained using the prepared training data. \n",
    "\n",
    "The fitting process uses the decision tree approach to create a generalised representation of reality based on the training data. \n",
    "\n",
    "This fitted / trained model can then be used to predict which class new data belongs to."
   ]
  },
  {
   "cell_type": "code",
   "execution_count": 11,
   "metadata": {},
   "outputs": [
    {
     "data": {
      "text/plain": [
       "DecisionTreeClassifier(class_weight=None, criterion='gini', max_depth=None,\n",
       "                       max_features=None, max_leaf_nodes=None,\n",
       "                       min_impurity_decrease=0.0, min_impurity_split=None,\n",
       "                       min_samples_leaf=1, min_samples_split=2,\n",
       "                       min_weight_fraction_leaf=0.0, presort=False,\n",
       "                       random_state=None, splitter='best')"
      ]
     },
     "execution_count": 11,
     "metadata": {},
     "output_type": "execute_result"
    }
   ],
   "source": [
    "# Train model\n",
    "model.fit(model_train[:,model_col_indices], model_train[:,0])"
   ]
  },
  {
   "cell_type": "markdown",
   "metadata": {},
   "source": [
    "# Analyse results"
   ]
  },
  {
   "cell_type": "markdown",
   "metadata": {},
   "source": [
    "## Feature importance"
   ]
  },
  {
   "cell_type": "markdown",
   "metadata": {},
   "source": [
    "The decision tree classifier allows us to inspect the feature importance of each input variable.\n",
    "\n",
    "Feature importance represents the relative contribution of each variable in predicting the desired landcover class, when summed they add up to 1.0."
   ]
  },
  {
   "cell_type": "code",
   "execution_count": 12,
   "metadata": {},
   "outputs": [
    {
     "name": "stdout",
     "output_type": "stream",
     "text": [
      "{'blue': 0.0, 'green': 0.9590484080956326, 'red': 0.0, 'nir': 0.0, 'swir1': 0.04095159190436738, 'swir2': 0.0}\n"
     ]
    }
   ],
   "source": [
    "# This shows the feature importance of the input features for predicting the class labels provided\n",
    "print(dict(zip(model_variables, model.feature_importances_)))"
   ]
  },
  {
   "cell_type": "code",
   "execution_count": 13,
   "metadata": {},
   "outputs": [],
   "source": [
    "# Prepare a dictionary of class names\n",
    "class_names = {1: 'Cultivated Terrestrial Vegetated',\n",
    "               0: 'Not Cultivated Terrestrial Vegetated'}"
   ]
  },
  {
   "cell_type": "markdown",
   "metadata": {},
   "source": [
    "This decision tree representation visualises the trained model. Here we can see that the model decides which landcover class to assign based on the value of the `swir1` and `green` variables.\n",
    "\n",
    "The gini value shown in the tree represents the decrease in node impurity this can also be understood as how heterogeneous the labels are. \n",
    "\n",
    "This metric is used by the decision tree to determine how to split the data into smaller groups."
   ]
  },
  {
   "cell_type": "code",
   "execution_count": 14,
   "metadata": {},
   "outputs": [
    {
     "data": {
      "image/png": "[encoded data removed]",
      "text/plain": [
       "<IPython.core.display.Image object>"
      ]
     },
     "execution_count": 14,
     "metadata": {},
     "output_type": "execute_result"
    }
   ],
   "source": [
    "# Plot decision tree\n",
    "class_codes = numpy.unique(model_train[:, 0])\n",
    "\n",
    "class_names_in_model = list({k: class_names[k] for k in class_codes}.values())\n",
    "\n",
    "dot_data = StringIO()\n",
    "\n",
    "tree.export_graphviz(model, out_file=dot_data, feature_names=model_variables, class_names=class_names_in_model,\n",
    "                     filled=True, rounded=True,\n",
    "                     special_characters=True)\n",
    "\n",
    "graph = pydotplus.graph_from_dot_data(dot_data.getvalue())\n",
    "Image(graph.create_png())\n"
   ]
  },
  {
   "cell_type": "markdown",
   "metadata": {},
   "source": [
    "## Accuracy"
   ]
  },
  {
   "cell_type": "markdown",
   "metadata": {},
   "source": [
    "Using the test data we partitioned off before we can test the accuracy of the trained model on this new, \"unseen\" data.\n",
    "\n",
    "An accuracy value of 1 indicates that the model was able to predict 100% of the classes in the test data."
   ]
  },
  {
   "cell_type": "code",
   "execution_count": 15,
   "metadata": {},
   "outputs": [],
   "source": [
    "predictions = model.predict(model_test[:,model_col_indices])"
   ]
  },
  {
   "cell_type": "code",
   "execution_count": 16,
   "metadata": {},
   "outputs": [
    {
     "data": {
      "text/plain": [
       "0.9545454545454546"
      ]
     },
     "execution_count": 16,
     "metadata": {},
     "output_type": "execute_result"
    }
   ],
   "source": [
    "accuracy_score(predictions , model_test[:,0])"
   ]
  },
  {
   "cell_type": "markdown",
   "metadata": {},
   "source": [
    "# Prediction"
   ]
  },
  {
   "cell_type": "markdown",
   "metadata": {},
   "source": [
    "Load new data and use the `predict_xr` function to predict the landcover class using the trained model. \n",
    "\n",
    "Save the predicted landcover out to a `.tif`. This file can be loaded into GIS software and inspected more closely"
   ]
  },
  {
   "cell_type": "code",
   "execution_count": 17,
   "metadata": {},
   "outputs": [],
   "source": [
    "# Set up the query parameters\n",
    "query = {'time': ('{}-01-01'.format(year), '{}-12-31'.format(year))}\n",
    "query['x'] = (-1559125, -1500000)\n",
    "query['y'] = (-3851325, -3800000)\n",
    "query['crs'] = 'EPSG:3577'\n",
    "query['resolution'] = (-25, 25)"
   ]
  },
  {
   "cell_type": "code",
   "execution_count": 18,
   "metadata": {},
   "outputs": [],
   "source": [
    "# Load new input data, remember the product must match the product that the model was trained on\n",
    "geomedian_data = dc.load(\n",
    "    product='ls8_nbart_geomedian_annual', group_by='solar_day', **query)"
   ]
  },
  {
   "cell_type": "code",
   "execution_count": 19,
   "metadata": {},
   "outputs": [],
   "source": [
    "# Predict landcover using the trained model\n",
    "predicted = predict_xr(model, geomedian_data, progress=True)"
   ]
  },
  {
   "cell_type": "markdown",
   "metadata": {},
   "source": [
    "# Plotting"
   ]
  },
  {
   "cell_type": "markdown",
   "metadata": {},
   "source": [
    "To plot the predicted extent of the landcover class over a basemap we must first vectorise it - more details on this process can be found in this ['notebook'](Rasterize_vectorize.ipynb)"
   ]
  },
  {
   "cell_type": "code",
   "execution_count": 20,
   "metadata": {},
   "outputs": [],
   "source": [
    "# First grab the spatial information from our datacube xarray object\n",
    "transform = geomedian_data.geobox.transform\n",
    "\n",
    "# Run the vectorizing function\n",
    "vectors = rasterio.features.shapes(source=predicted.data.astype('int16'),\n",
    "                                   mask=(predicted.data == 1),\n",
    "                                   transform=transform)"
   ]
  },
  {
   "cell_type": "code",
   "execution_count": 21,
   "metadata": {},
   "outputs": [],
   "source": [
    "# First convert the genertor into a list, as a generator can only be consumed once\n",
    "vectors = list(vectors)\n",
    "\n",
    "# Extract the polygon coordinates and values from the list using list comprehension\n",
    "polygons = [polygon for polygon, value in vectors]\n",
    "values = [value for polygon, value in vectors]"
   ]
  },
  {
   "cell_type": "code",
   "execution_count": 22,
   "metadata": {},
   "outputs": [],
   "source": [
    "# First we need to convert our polygon coordinates into polygon shapes\n",
    "polygons = [shapely.geometry.shape(polygon) for polygon in polygons]\n",
    "\n",
    "# Create a geopandas dataframe populated with the polygon shapes\n",
    "gdf = gpd.GeoDataFrame(data={'attributes': values},\n",
    "                       geometry=polygons,\n",
    "                       crs=str(geomedian_data.crs))"
   ]
  },
  {
   "cell_type": "code",
   "execution_count": 23,
   "metadata": {},
   "outputs": [
    {
     "name": "stderr",
     "output_type": "stream",
     "text": [
      "/usr/local/lib/python3.6/dist-packages/pyproj/crs.py:77: FutureWarning: '+init=<authority>:<code>' syntax is deprecated. '<authority>:<code>' is the preferred initialization method.\n",
      "  return _prepare_from_string(\" \".join(pjargs))\n"
     ]
    },
    {
     "data": {
      "application/vnd.jupyter.widget-view+json": {
       "model_id": "b56c99c22dca4249b6345d21173ace09",
       "version_major": 2,
       "version_minor": 0
      },
      "text/plain": [
       "Label(value='')"
      ]
     },
     "metadata": {},
     "output_type": "display_data"
    },
    {
     "data": {
      "application/vnd.jupyter.widget-view+json": {
       "model_id": "00c73adc2be2491aa4c0975064743140",
       "version_major": 2,
       "version_minor": 0
      },
      "text/plain": [
       "Map(basemap={'url': 'http://server.arcgisonline.com/ArcGIS/rest/services/World_Imagery/MapServer/tile/{z}/{y}/…"
      ]
     },
     "metadata": {},
     "output_type": "display_data"
    }
   ],
   "source": [
    "map_shapefile(gdf, colormap=cmap, hover_col ='classnum')"
   ]
  },
  {
   "cell_type": "markdown",
   "metadata": {},
   "source": [
    "# Saving "
   ]
  },
  {
   "cell_type": "code",
   "execution_count": 24,
   "metadata": {},
   "outputs": [],
   "source": [
    "# Write the predicted data out to a GeoTiff\n",
    "predicted = predicted.to_dataset(name=\"predicted\")\n",
    "predicted = predicted.isel(time=0)\n",
    "predicted.attrs['crs'] = geometry.CRS(\"EPSG:3577\")\n",
    "helpers.write_geotiff('predicted.tif', predicted)"
   ]
  },
  {
   "cell_type": "markdown",
   "metadata": {},
   "source": [
    "***\n",
    "\n",
    "## Additional information\n",
    "\n",
    "**License:** The code in this notebook is licensed under the [Apache License, Version 2.0](https://www.apache.org/licenses/LICENSE-2.0). \n",
    "Digital Earth Australia data is licensed under the [Creative Commons by Attribution 4.0](https://creativecommons.org/licenses/by/4.0/) license.\n",
    "\n",
    "**Contact:** If you need assistance, please post a question on the [Open Data Cube Slack channel](http://slack.opendatacube.org/) or on the [GIS Stack Exchange](https://gis.stackexchange.com/questions/ask?tags=open-data-cube) using the `open-data-cube` tag (you can view previously asked questions [here](https://gis.stackexchange.com/questions/tagged/open-data-cube)).\n",
    "If you would like to report an issue with this notebook, you can file one on [Github](https://github.com/GeoscienceAustralia/dea-notebooks).\n",
    "\n",
    "**Last modified:** October 2019\n",
    "\n",
    "**Compatible datacube version:** "
   ]
  },
  {
   "cell_type": "code",
   "execution_count": 25,
   "metadata": {},
   "outputs": [
    {
     "name": "stdout",
     "output_type": "stream",
     "text": [
      "1.7+251.g2890b0b1.dirty\n"
     ]
    }
   ],
   "source": [
    "print(datacube.__version__)"
   ]
  },
  {
   "cell_type": "markdown",
   "metadata": {},
   "source": [
    "## Tags\n",
    "Browse all available tags on the DEA User Guide's [Tags Index](https://docs.dea.ga.gov.au/genindex.html)"
   ]
  },
  {
   "cell_type": "raw",
   "metadata": {
    "raw_mimetype": "text/restructuredtext"
   },
   "source": [
    "**Tags**: :index:`NCI compatible`, :index:`sandbox compatible`, :index:`landsat 8`, :index:`dea_plotting`, :index:`machine learning`"
   ]
  }
 ],
 "metadata": {
  "kernelspec": {
   "display_name": "Python 3",
   "language": "python",
   "name": "python3"
  },
  "language_info": {
   "codemirror_mode": {
    "name": "ipython",
    "version": 3
   },
   "file_extension": ".py",
   "mimetype": "text/x-python",
   "name": "python",
   "nbconvert_exporter": "python",
   "pygments_lexer": "ipython3",
   "version": "3.6.9"
  },
  "widgets": {
   "application/vnd.jupyter.widget-state+json": {
    "state": {},
    "version_major": 2,
    "version_minor": 0
   }
  }
 },
 "nbformat": 4,
 "nbformat_minor": 4
}
