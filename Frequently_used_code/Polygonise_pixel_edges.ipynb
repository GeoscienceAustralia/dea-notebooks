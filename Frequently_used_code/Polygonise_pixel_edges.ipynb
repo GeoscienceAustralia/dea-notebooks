{
 "cells": [
  {
   "cell_type": "markdown",
   "metadata": {},
   "source": [
    "# Polygonising pixel edges <img align=\"right\" src=\"../../Supplementary_data/dea_logo.jpg\">\n",
    "\n",
    "* **Compatability:** Notebook currently compatible with the `NCI`|`DEA Sandbox` environment only\n",
    "* **Products used:** \n",
    "[s2a_ard_granule](https://explorer.sandbox.dea.ga.gov.au/s2a_ard_granule), \n",
    "[s2b_ard_granule](https://explorer.sandbox.dea.ga.gov.au/s2b_ard_granule),\n",
    "[ga_ls5t_ard_3](https://explorer.sandbox.dea.ga.gov.au/ga_ls5t_ard_3),\n",
    "[ga_ls7e_ard_3](https://explorer.sandbox.dea.ga.gov.au/ga_ls7e_ard_3),\n",
    "[ga_ls8c_ard_3](https://explorer.sandbox.dea.ga.gov.au/ga_ls8c_ard_3)"
   ]
  },
  {
   "cell_type": "markdown",
   "metadata": {},
   "source": [
    "## Background\n",
    "The ability to get the pixel boundaries as a shapefile or other vector file type is very useful for remote sensing applications where the boundaries of the pixel are needed. \n",
    "This is useful for cases such as matching drone imagery with remotely sensed imagery. \n"
   ]
  },
  {
   "cell_type": "markdown",
   "metadata": {},
   "source": [
    "## Description\n",
    "This notebook uses Digital Earth Australia to retrieve satellite data, creates a vector file from the pixel boundaries of the data, and exports to file.\n",
    "\n",
    "1. First we load some data for a chosen time frame using the dea-notebooks `load_ard` function\n",
    "2. Then we convert our raster data into a polygon per pixel\n",
    "3. Then we export our pixel edges polygons as a vector file (shapefile)\n",
    "4. This loop is repeated (once for Sentinel 2 data and once for Landsat data)\n",
    "\n",
    "***"
   ]
  },
  {
   "cell_type": "markdown",
   "metadata": {},
   "source": [
    "## Getting started\n",
    "To run this analysis, run all the cells in the notebook, starting with the \"Load packages\" cell. "
   ]
  },
  {
   "cell_type": "markdown",
   "metadata": {},
   "source": [
    "### Load packages\n",
    "Import Python packages that are used for the analysis.\n",
    "\n",
    "Use standard import commands; some are shown below. \n",
    "Begin with any `iPython` magic commands, followed by standard Python packages, then any additional functionality you need from the `Scripts` directory."
   ]
  },
  {
   "cell_type": "code",
   "execution_count": null,
   "metadata": {},
   "outputs": [],
   "source": [
    "%matplotlib inline\n",
    "import geopandas as gpd\n",
    "import matplotlib.pyplot as plt\n",
    "import numpy as np\n",
    "import os\n",
    "import pandas as pd\n",
    "import rasterio.features\n",
    "from shapely.geometry import shape\n",
    "import sys\n",
    "import xarray as xr\n",
    "\n",
    "sys.path.append(\"../Scripts\")\n",
    "from dea_datahandling import load_ard\n",
    "from dea_plotting import rgb\n",
    "\n",
    "from datacube.utils import masking\n",
    "from datacube.utils.cog import write_cog\n",
    "from datacube import Datacube\n",
    "from datetime import datetime\n",
    "from datacube import __version__\n",
    "\n",
    "%load_ext autoreload\n",
    "%autoreload 2"
   ]
  },
  {
   "cell_type": "markdown",
   "metadata": {},
   "source": [
    "### Define useful functions\n",
    "The function below is a helper function to help you make a nice filename for the output files"
   ]
  },
  {
   "cell_type": "code",
   "execution_count": null,
   "metadata": {},
   "outputs": [],
   "source": [
    "def create_filename(ds, image_index, query, prefix=\"\"):\n",
    "    \"\"\"create_filename is a handy function to turn your xarray dataset and image number into a nice output filename for your shapefile.\n",
    "    ds : an xarray dataset\n",
    "    image_index : an integer value between 0 and however many images you have\n",
    "    prefix : a string : an optional name prefix to identify your area of interest\"\"\"\n",
    "    assert ds\n",
    "    image_date = str(ds.nbart_red[image_index].time.data)[:10]\n",
    "    image_coords = f\"{query['x'][0]}_{query['y'][0]}_{query['x'][1]}_{query['y'][1]}\"\n",
    "    if prefix:\n",
    "        output_name = f\"{str(prefix)}_{image_date}_{image_coords}\"\n",
    "    else:\n",
    "        output_name = f\"{image_date}_{image_coords}\"\n",
    "        print(output_name)\n",
    "    return output_name"
   ]
  },
  {
   "cell_type": "markdown",
   "metadata": {},
   "source": [
    "### Connect to the datacube\n",
    "\n",
    "Connect to the datacube so we can access DEA data.\n",
    "The `app` parameter is a unique name for the analysis which is based on the notebook file name."
   ]
  },
  {
   "cell_type": "code",
   "execution_count": null,
   "metadata": {},
   "outputs": [],
   "source": [
    "dc = Datacube(app=\"Polygonise pixel edges\")"
   ]
  },
  {
   "cell_type": "markdown",
   "metadata": {},
   "source": [
    "### Analysis parameters\n",
    "* `x` : a tuple of longitude/Easting boundaries defining the area of interest in the format (smaller, larger) e.g. `(153.40, 153.50)`\n",
    "* `y` : a tuple of latitude/Northing boundaries defining the area of interest in the format (smaller, larger) e.g. `(-27.40, -27.50)`\n",
    "* `time` : a tuple of time values in a pandas datetime format defining the time period of interest in the format (smaller, larger) e.g. `(\"2018-08-01\", \"2018-08-20\")`\n",
    "* `products` : A list of product names to load from the datacube e.g. `['ga_ls7e_ard_3', 'ga_ls8c_ard_3']`\n",
    "* `measurements` : A list of band names to load from the satellite product e.g. `['nbart_red', 'nbart_green']`\n",
    "* `resolution` : The spatial resolution of the loaded satellite data e.g. for Landsat, this is `(-30, 30)`\n",
    "* `output_crs` : The coordinate reference system/map projection to load data into, e.g. `'EPSG:3577'` to load data in the Albers Equal Area projection\n",
    "* `group_by` : How to group the data e.g. `\"solar_day\"`"
   ]
  },
  {
   "cell_type": "markdown",
   "metadata": {},
   "source": [
    "### Set up a datacube query for our area of interest\n",
    "Grab Sentinel 2 satellite data first"
   ]
  },
  {
   "cell_type": "code",
   "execution_count": null,
   "metadata": {},
   "outputs": [],
   "source": [
    "# Create a query object\n",
    "s2_query = {\n",
    "    \"x\": (153.40, 153.50),\n",
    "    \"y\": (-27.40, -27.50),\n",
    "    \"time\": (\"2018-08-01\", \"2018-08-20\"),\n",
    "    \"products\": (\"s2a_ard_granule\", \"s2b_ard_granule\"),\n",
    "    \"measurements\": [\"nbart_red\", \"nbart_green\", \"nbart_blue\", \"fmask\"],\n",
    "    \"output_crs\": \"EPSG:3577\",\n",
    "    \"resolution\": (-10, 10),\n",
    "    \"group_by\": \"solar_day\",\n",
    "}"
   ]
  },
  {
   "cell_type": "markdown",
   "metadata": {},
   "source": [
    "Load available data from Sentinel 2 satellites"
   ]
  },
  {
   "cell_type": "code",
   "execution_count": null,
   "metadata": {},
   "outputs": [],
   "source": [
    "# Load sentinel2 data using load_ard. We're not using fmask to mask our pixel quality, as we're after the surrounds of the pixels not big white blobs.\n",
    "s2_ds = load_ard(\n",
    "    dc=dc,\n",
    "    min_gooddata=0.95,  # only take scenes with less than 5% fmask activations\n",
    "    mask_pixel_quality=False,\n",
    "    **s2_query\n",
    ")"
   ]
  },
  {
   "cell_type": "markdown",
   "metadata": {},
   "source": [
    "### Plot up some data to take a look at it\n",
    "Use the `rgb` function from `dea-plotting` module to look at our area of interest in true colour"
   ]
  },
  {
   "cell_type": "code",
   "execution_count": null,
   "metadata": {},
   "outputs": [],
   "source": [
    "rgb(s2_ds, bands=[\"nbart_red\", \"nbart_green\", \"nbart_blue\"], col=\"time\")"
   ]
  },
  {
   "cell_type": "markdown",
   "metadata": {},
   "source": [
    "### Choose an image index to use to polygonise the pixels\n",
    "Change the number in the cell below to select a different image from the images in the previous cell; 0 is the first image."
   ]
  },
  {
   "cell_type": "code",
   "execution_count": null,
   "metadata": {},
   "outputs": [],
   "source": [
    "image_index = 0"
   ]
  },
  {
   "cell_type": "markdown",
   "metadata": {},
   "source": [
    "### Segment our image into per-pixel-polygons\n",
    "Use the red band to create a polygon for each pixel. "
   ]
  },
  {
   "cell_type": "code",
   "execution_count": null,
   "metadata": {},
   "outputs": [],
   "source": [
    "# Input array to segment and vectorise\n",
    "input_array = s2_ds.nbart_red[image_index]\n",
    "input_transform = s2_ds.affine  \n",
    "input_crs = s2_ds.crs\n",
    "\n",
    "# Create array with a unique value per cell\n",
    "unique_pixels = np.arange(input_array.size).reshape(input_array.shape)\n",
    "\n",
    "# Vectorise each unique feature in array\n",
    "vectors = rasterio.features.shapes(\n",
    "    source=unique_pixels.astype(np.int16), transform=input_transform\n",
    ")\n",
    "\n",
    "# Extract polygons and values from generator\n",
    "vectors = list(vectors)\n",
    "values = [value for polygon, value in vectors]\n",
    "polygons = [shape(polygon) for polygon, value in vectors]\n",
    "\n",
    "# Create a geopandas dataframe populated with the polygon shapes\n",
    "s2_poly_gdf = gpd.GeoDataFrame(data={\"id\": values}, geometry=polygons, crs=input_crs)"
   ]
  },
  {
   "cell_type": "markdown",
   "metadata": {},
   "source": [
    "### Investigate the results\n",
    "Print and plot the first 5 entries in the polygon geodataframe "
   ]
  },
  {
   "cell_type": "code",
   "execution_count": null,
   "metadata": {},
   "outputs": [],
   "source": [
    "# print the first 5 rows in the geodataframe\n",
    "s2_poly_gdf.head()"
   ]
  },
  {
   "cell_type": "code",
   "execution_count": null,
   "metadata": {},
   "outputs": [],
   "source": [
    "# plot the first five polygons in the geodataframe, coloured by id\n",
    "s2_poly_gdf.head().plot(column=\"id\", edgecolor=\"black\", figsize=(20, 20))\n",
    "plt.show()"
   ]
  },
  {
   "cell_type": "markdown",
   "metadata": {},
   "source": [
    "### Write our polygonised pixel edges for our area of interest out to file\n",
    "Change the prefix in the cell below for a customised filename"
   ]
  },
  {
   "cell_type": "code",
   "execution_count": null,
   "metadata": {},
   "outputs": [],
   "source": [
    "output_filename = create_filename(s2_ds, image_index, s2_query, prefix=\"NS_s2\")"
   ]
  },
  {
   "cell_type": "code",
   "execution_count": null,
   "metadata": {},
   "outputs": [],
   "source": [
    "# write our new segmented shapefile out to a file\n",
    "s2_poly_gdf.to_file(output_filename + \".shp\")"
   ]
  },
  {
   "cell_type": "markdown",
   "metadata": {},
   "source": [
    "### Write the corresponding RGB geotiff image data out to file, for checking "
   ]
  },
  {
   "cell_type": "code",
   "execution_count": null,
   "metadata": {},
   "outputs": [],
   "source": [
    "# write the corresponding geotiff out to a file, for checking purposes\n",
    "s2_rgb = s2_ds.isel(time=image_index).to_array()\n",
    "write_cog(s2_rgb, output_filename + \".tif\")"
   ]
  },
  {
   "cell_type": "markdown",
   "metadata": {},
   "source": [
    "### Grab the landsat satellite data to reproduce our workflow \n",
    "Grab landsat satellite data first"
   ]
  },
  {
   "cell_type": "code",
   "execution_count": null,
   "metadata": {},
   "outputs": [],
   "source": [
    "# Create a landsat query\n",
    "ls_query = {\n",
    "    \"x\": (153.40, 153.50),\n",
    "    \"y\": (-27.40, -27.50),\n",
    "    \"time\": (\"2018-08-01\", \"2018-08-20\"),\n",
    "    \"products\": [\"ga_ls5t_ard_3\", \"ga_ls7e_ard_3\", \"ga_ls8c_ard_3\"],\n",
    "    \"measurements\": [\n",
    "        \"nbart_green\",\n",
    "        \"nbart_red\",\n",
    "        \"nbart_blue\",\n",
    "    ],  # only get the bands we need for plotting and segmenting\n",
    "    \"output_crs\": \"EPSG:3577\",\n",
    "    \"resolution\": (-30, 30),\n",
    "    \"group_by\": \"solar_day\",\n",
    "}"
   ]
  },
  {
   "cell_type": "markdown",
   "metadata": {},
   "source": [
    "### Load available data from Landsat satellites"
   ]
  },
  {
   "cell_type": "code",
   "execution_count": null,
   "metadata": {},
   "outputs": [],
   "source": [
    "# Load landsat data using load_ard\n",
    "ls_ds = load_ard(dc=dc, ls7_slc_off=False, **ls_query)"
   ]
  },
  {
   "cell_type": "markdown",
   "metadata": {},
   "source": [
    "### Plot up some data to take a look at it\n",
    "Use the `rgb` function from `dea-plotting` module to look at our area of interest in true colour"
   ]
  },
  {
   "cell_type": "code",
   "execution_count": null,
   "metadata": {},
   "outputs": [],
   "source": [
    "rgb(ls_ds, bands=[\"nbart_red\", \"nbart_green\", \"nbart_blue\"], col=\"time\")"
   ]
  },
  {
   "cell_type": "code",
   "execution_count": null,
   "metadata": {},
   "outputs": [],
   "source": [
    "image_index = 0"
   ]
  },
  {
   "cell_type": "markdown",
   "metadata": {},
   "source": [
    "### Segment our image into per-pixel-polygons\n",
    "Use the red band to create a polygon for each pixel. "
   ]
  },
  {
   "cell_type": "code",
   "execution_count": null,
   "metadata": {},
   "outputs": [],
   "source": [
    "# Input array to segment and vectorise\n",
    "input_array = ls_ds.nbart_red[image_index]\n",
    "input_transform = ls_ds.affine\n",
    "input_crs = ls_ds.crs\n",
    "\n",
    "# Create array with a unique value per cell\n",
    "unique_pixels = np.arange(input_array.size).reshape(input_array.shape)\n",
    "\n",
    "# Vectorise each unique feature in array\n",
    "vectors = rasterio.features.shapes(\n",
    "    source=unique_pixels.astype(np.int16), transform=input_transform\n",
    ")\n",
    "\n",
    "# Extract polygons and values from generator\n",
    "vectors = list(vectors)\n",
    "values = [value for polygon, value in vectors]\n",
    "polygons = [shape(polygon) for polygon, value in vectors]\n",
    "\n",
    "# Create a geopandas dataframe populated with the polygon shapes\n",
    "ls_poly_gdf = gpd.GeoDataFrame(data={\"id\": values}, geometry=polygons, crs=input_crs)"
   ]
  },
  {
   "cell_type": "markdown",
   "metadata": {},
   "source": [
    "### Investigate the results\n",
    "Print and plot the first 5 entries in the polygon geodataframe "
   ]
  },
  {
   "cell_type": "code",
   "execution_count": null,
   "metadata": {},
   "outputs": [],
   "source": [
    "# print the first 5 rows in the geodataframe\n",
    "ls_poly_gdf.head()"
   ]
  },
  {
   "cell_type": "code",
   "execution_count": null,
   "metadata": {},
   "outputs": [],
   "source": [
    "# plot the first five polygons in the geodataframe, coloured by id\n",
    "ls_poly_gdf.head().plot(column=\"id\", edgecolor=\"black\", figsize=(20, 20))\n",
    "plt.show()"
   ]
  },
  {
   "cell_type": "markdown",
   "metadata": {},
   "source": [
    "### Write our polygonised pixel edges for our area of interest out to file\n",
    "Change the prefix in the cell below for a customised filename"
   ]
  },
  {
   "cell_type": "code",
   "execution_count": null,
   "metadata": {},
   "outputs": [],
   "source": [
    "output_filename = create_filename(ls_ds, image_index, ls_query, prefix=\"NS_ls\")"
   ]
  },
  {
   "cell_type": "markdown",
   "metadata": {},
   "source": [
    "### Write the corresponding RGB geotiff image data out to file, for checking "
   ]
  },
  {
   "cell_type": "code",
   "execution_count": null,
   "metadata": {},
   "outputs": [],
   "source": [
    "# write our new segmented shapefile out to a file\n",
    "ls_poly_gdf.to_file(output_filename + \".shp\")"
   ]
  },
  {
   "cell_type": "code",
   "execution_count": null,
   "metadata": {},
   "outputs": [],
   "source": [
    "# write the corresponding geotiff out to a file, for checking purposes\n",
    "ls_rgb = ls_ds.isel(time=image_index).to_array()\n",
    "write_cog(ls_rgb, output_filename + \".tif\")"
   ]
  },
  {
   "cell_type": "markdown",
   "metadata": {},
   "source": [
    "***\n",
    "\n",
    "## Additional information\n",
    "\n",
    "**License:** The code in this notebook is licensed under the [Apache License, Version 2.0](https://www.apache.org/licenses/LICENSE-2.0). \n",
    "Digital Earth Australia data is licensed under the [Creative Commons by Attribution 4.0](https://creativecommons.org/licenses/by/4.0/) license.\n",
    "\n",
    "**Contact:** If you need assistance, please post a question on the [Open Data Cube Slack channel](http://slack.opendatacube.org/) or on the [GIS Stack Exchange](https://gis.stackexchange.com/questions/ask?tags=open-data-cube) using the `open-data-cube` tag (you can view previously asked questions [here](https://gis.stackexchange.com/questions/tagged/open-data-cube)).\n",
    "If you would like to report an issue with this notebook, you can file one on [Github](https://github.com/GeoscienceAustralia/dea-notebooks).\n",
    "\n",
    "**Last modified:** July 2020\n",
    "\n",
    "**Compatible datacube version:** "
   ]
  },
  {
   "cell_type": "code",
   "execution_count": null,
   "metadata": {},
   "outputs": [],
   "source": [
    "print(__version__)"
   ]
  },
  {
   "cell_type": "markdown",
   "metadata": {},
   "source": [
    "## Tags\n",
    "Browse all available tags on the DEA User Guide's [Tags Index](https://docs.dea.ga.gov.au/genindex.html)"
   ]
  },
  {
   "cell_type": "raw",
   "metadata": {
    "raw_mimetype": "text/restructuredtext"
   },
   "source": [
    "**Tags**: :index:`NCI compatible`, :index:`sandbox compatible`,:index:`landsat 5`,:index:`landsat 7`, :index:`landsat 8`, :index:`sentinel 2`, :index:`dea_plotting`, :index:`rgb`, :index:`vectorise`, :index:`shapefile`"
   ]
  }
 ],
 "metadata": {
  "kernelspec": {
   "display_name": "Python 3",
   "language": "python",
   "name": "python3"
  },
  "language_info": {
   "codemirror_mode": {
    "name": "ipython",
    "version": 3
   },
   "file_extension": ".py",
   "mimetype": "text/x-python",
   "name": "python",
   "nbconvert_exporter": "python",
   "pygments_lexer": "ipython3",
   "version": "3.6.10"
  },
  "widgets": {
   "application/vnd.jupyter.widget-state+json": {
    "state": {},
    "version_major": 2,
    "version_minor": 0
   }
  }
 },
 "nbformat": 4,
 "nbformat_minor": 4
}
