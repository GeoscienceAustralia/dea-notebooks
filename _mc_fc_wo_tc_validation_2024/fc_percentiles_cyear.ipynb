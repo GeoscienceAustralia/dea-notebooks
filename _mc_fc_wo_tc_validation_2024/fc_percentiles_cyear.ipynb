{
 "cells": [
  {
   "cell_type": "markdown",
   "id": "06406c27-bcf2-4083-9554-783e220ddd98",
   "metadata": {},
   "source": [
    "# Fractional cover percentiles cyear\n",
    "## 3.0.0 vs 4.0.0\n",
    "\n",
    "Check list:\n",
    "\n",
    "    [x] compare the two versions in Maps/Terria\n",
    "    [x] compare the two versions in Explorer\n",
    "    [x] plot random tiles, check impact of cloud and shadow buffering on no data values. Years 1990, 2010, 2015, 2022.\n",
    "\n",
    "\n"
   ]
  },
  {
   "cell_type": "code",
   "execution_count": null,
   "id": "ef53f119-9d71-43d8-af8a-559687d5aeb7",
   "metadata": {
    "tags": []
   },
   "outputs": [],
   "source": [
    "import datacube\n",
    "from datacube.utils import masking\n",
    "import math\n",
    "\n",
    "import numpy as np\n",
    "\n",
    "import matplotlib.pyplot as plt\n",
    "import pandas as pd\n",
    "import rioxarray as rioxr\n",
    "import rasterio\n",
    "\n",
    "import sys\n",
    "sys.path.insert(1, '../Tools/')\n",
    "from dea_tools.datahandling import wofs_fuser\n",
    "from dea_tools.plotting import rgb, plot_wo, display_map\n",
    "\n",
    "import plotly.graph_objs as go\n",
    "from plotly.subplots import make_subplots\n",
    "\n",
    "dc = datacube.Datacube(app=\"\")"
   ]
  },
  {
   "cell_type": "code",
   "execution_count": null,
   "id": "efe8fd91-b01a-4073-948f-89ccc5ef9c83",
   "metadata": {
    "tags": []
   },
   "outputs": [],
   "source": [
    "# functions\n",
    "\n",
    "tile_lookup = pd.read_csv('grid_lookup.csv', sep=',', na_values=['NA'])\n",
    "def lookup_old_value(new_value):\n",
    "    result = tile_lookup[tile_lookup['new'] == new_value]\n",
    "    result = result['old'].values[0]\n",
    "    return result   \n",
    "\n",
    "def load_fc3(tile, year, percentile):\n",
    "    pv_measurement = f\"pv_pc_{percentile}\"\n",
    "    bs_measurement = f\"bs_pc_{percentile}\"\n",
    "    npv_measurement = f\"npv_pc_{percentile}\"\n",
    "    measurements = [bs_measurement, pv_measurement, npv_measurement]\n",
    "    fc3 = dc.load(\n",
    "        product=\"ga_ls_fc_pc_cyear_3\",\n",
    "        measurements=measurements,\n",
    "        time=year,\n",
    "        region_code=tile,\n",
    "    )\n",
    "    fc3_bs = list(fc3.data_vars.values())[0]\n",
    "    fc3_pv = list(fc3.data_vars.values())[1]\n",
    "    fc3_npv = list(fc3.data_vars.values())[2]\n",
    "    return fc3_bs, fc3_pv, fc3_npv\n",
    "\n",
    "def load_fc4(tile, year, percentile):\n",
    "    base_url_bs = \"s3://dea-public-data/derivative/ga_ls_fc_pc_cyear_3/4-0-0/{}/{}/{}--P1Y/ga_ls_fc_pc_cyear_3_{}_{}--P1Y_final_bs_pc_{}.tif\"\n",
    "    base_url_pv = \"s3://dea-public-data/derivative/ga_ls_fc_pc_cyear_3/4-0-0/{}/{}/{}--P1Y/ga_ls_fc_pc_cyear_3_{}_{}--P1Y_final_pv_pc_{}.tif\"\n",
    "    base_url_npv = \"s3://dea-public-data/derivative/ga_ls_fc_pc_cyear_3/4-0-0/{}/{}/{}--P1Y/ga_ls_fc_pc_cyear_3_{}_{}--P1Y_final_npv_pc_{}.tif\"\n",
    "    x_val = tile[:3]\n",
    "    y_val = tile[-3:]\n",
    "    url_bs = base_url_bs.format(x_val, y_val, year, tile, year, percentile)\n",
    "    url_pv = base_url_pv.format(x_val, y_val, year, tile, year, percentile)\n",
    "    url_npv = base_url_npv.format(x_val, y_val, year, tile, year, percentile)\n",
    "    fc4_bs = rioxr.open_rasterio(url_bs)\n",
    "    fc4_pv = rioxr.open_rasterio(url_pv)\n",
    "    fc4_npv = rioxr.open_rasterio(url_npv)\n",
    "    return fc4_bs, fc4_pv, fc4_npv\n",
    "\n",
    "def plot_rgb_comparison(tile, year, percentile):\n",
    "    \n",
    "    print(tile)\n",
    "    \n",
    "    old_tile = lookup_old_value(tile)\n",
    "    percentile = percentile\n",
    "    fc3_bs, fc3_pv, fc3_npv = load_fc3(old_tile, year, percentile)\n",
    "    fc4_bs, fc4_pv, fc4_npv = load_fc4(tile, year, percentile)\n",
    "    \n",
    "    # squeeze the data arrays\n",
    "    r_channel_v3 = fc3_bs.squeeze()\n",
    "    g_channel_v3 = fc3_pv.squeeze()\n",
    "    b_channel_v3 = fc3_npv.squeeze()\n",
    "\n",
    "    r_channel_v4 = fc4_bs.squeeze()\n",
    "    g_channel_v4 = fc4_pv.squeeze()\n",
    "    b_channel_v4 = fc4_npv.squeeze()\n",
    "\n",
    "    # stack them along a new dimension to create RGB images\n",
    "    rgb_stack_v3 = np.stack([r_channel_v3, g_channel_v3, b_channel_v3], axis=-1)\n",
    "    rgb_stack_v4 = np.stack([r_channel_v4, g_channel_v4, b_channel_v4], axis=-1)\n",
    "\n",
    "    # normalise the values to range between 0 and 1\n",
    "    rgb_normalized_v3 = rgb_stack_v3 / 255.0  \n",
    "    rgb_normalized_v4 = rgb_stack_v4 / 255.0  \n",
    "\n",
    "    # count the number of no-data values (255) in each dataset\n",
    "    no_data_count_v3 = np.sum(np.any(rgb_stack_v3 == 255, axis=-1))\n",
    "    no_data_count_v4 = np.sum(np.any(rgb_stack_v4 == 255, axis=-1))\n",
    "\n",
    "    # Create subplots\n",
    "    fig, axes = plt.subplots(1, 2, figsize=(10, 5))\n",
    "\n",
    "    # Plot the RGB image for version 3\n",
    "    axes[0].imshow(rgb_normalized_v3)\n",
    "    axes[0].set_title(f\"FC Version 3\\nNo Data (255) Count: {no_data_count_v3:,}\")\n",
    "    axes[0].axis('off')  \n",
    "\n",
    "    # Plot the RGB image for version 4\n",
    "    axes[1].imshow(rgb_normalized_v4)\n",
    "    axes[1].set_title(f\"FC Version 4\\nNo Data (255) Count: {no_data_count_v4:,}\")\n",
    "    axes[1].axis('off')  \n",
    "    \n",
    "    # Show the plot\n",
    "    plt.show()\n",
    "\n",
    "    "
   ]
  },
  {
   "cell_type": "code",
   "execution_count": null,
   "id": "efbb49fd-d87a-4b0b-bc59-172f5d48a0cf",
   "metadata": {
    "tags": []
   },
   "outputs": [],
   "source": [
    "tiles = ['x33y34', 'x43y51', 'x49y39', 'x58y52', 'x66y36', 'x56y32', 'x58y22']"
   ]
  },
  {
   "cell_type": "code",
   "execution_count": null,
   "id": "2d11f7a5-40c0-4583-a47a-e349733c334e",
   "metadata": {
    "tags": []
   },
   "outputs": [],
   "source": [
    "for tile in tiles:\n",
    "    plot_rgb_comparison(tile, '2015', '50')"
   ]
  },
  {
   "cell_type": "code",
   "execution_count": null,
   "id": "80b07765-a96f-40c5-8b5d-def5b3b2ab8d",
   "metadata": {
    "tags": []
   },
   "outputs": [],
   "source": [
    "for tile in tiles:\n",
    "    plot_rgb_comparison(tile, '2015', '10')"
   ]
  },
  {
   "cell_type": "code",
   "execution_count": null,
   "id": "b8c955a8-0fc6-4778-8563-7591e8d8f13f",
   "metadata": {
    "tags": []
   },
   "outputs": [],
   "source": [
    "for tile in tiles:\n",
    "    plot_rgb_comparison(tile, '2015', '90')"
   ]
  },
  {
   "cell_type": "code",
   "execution_count": null,
   "id": "d23eb138-a918-4c8c-9e98-89a0a0d3f5be",
   "metadata": {
    "tags": []
   },
   "outputs": [],
   "source": [
    "for tile in tiles:\n",
    "    plot_rgb_comparison(tile, '2010', '10')"
   ]
  },
  {
   "cell_type": "code",
   "execution_count": null,
   "id": "149c5bb9-1279-47f6-99d2-b34a07ac422c",
   "metadata": {
    "tags": []
   },
   "outputs": [],
   "source": [
    "for tile in tiles:\n",
    "    plot_rgb_comparison(tile, '2010', '50')"
   ]
  },
  {
   "cell_type": "code",
   "execution_count": null,
   "id": "bad09d64-98c0-4ac7-b0f1-ed65bc9a965f",
   "metadata": {},
   "outputs": [],
   "source": [
    "for tile in tiles:\n",
    "    plot_rgb_comparison(tile, '2010', '90')"
   ]
  },
  {
   "cell_type": "code",
   "execution_count": null,
   "id": "2bbbc96f-0e51-42f5-ba62-3f41567d0c66",
   "metadata": {},
   "outputs": [],
   "source": [
    "for tile in tiles:\n",
    "    plot_rgb_comparison(tile, '2022', '10')"
   ]
  },
  {
   "cell_type": "code",
   "execution_count": null,
   "id": "b175eb29-e483-4914-9731-631b0b5ef7d9",
   "metadata": {},
   "outputs": [],
   "source": [
    "for tile in tiles:\n",
    "    plot_rgb_comparison(tile, '2022', '50')"
   ]
  },
  {
   "cell_type": "code",
   "execution_count": null,
   "id": "a63a6b48-5c71-4076-98b6-21004de0f9ab",
   "metadata": {
    "tags": []
   },
   "outputs": [],
   "source": [
    "for tile in tiles:\n",
    "    plot_rgb_comparison(tile, '2022', '90')"
   ]
  },
  {
   "cell_type": "code",
   "execution_count": null,
   "id": "b76cd40c-0e92-4489-bb74-e225509dd64c",
   "metadata": {
    "tags": []
   },
   "outputs": [],
   "source": [
    "for tile in tiles:\n",
    "    plot_rgb_comparison(tile, '1990', '10')"
   ]
  },
  {
   "cell_type": "code",
   "execution_count": null,
   "id": "3946470f-5b1a-4c49-acba-7d794e971b87",
   "metadata": {
    "tags": []
   },
   "outputs": [],
   "source": [
    "for tile in tiles:\n",
    "    plot_rgb_comparison(tile, '1990', '50')"
   ]
  },
  {
   "cell_type": "code",
   "execution_count": null,
   "id": "85907922-67b3-4c63-9f96-eccf968f9a8a",
   "metadata": {
    "tags": []
   },
   "outputs": [],
   "source": [
    "for tile in tiles:\n",
    "    plot_rgb_comparison(tile, '1990', '90')"
   ]
  },
  {
   "cell_type": "code",
   "execution_count": null,
   "id": "0b82ffca-3e1b-4bde-b2a2-8495158d25cb",
   "metadata": {},
   "outputs": [],
   "source": []
  }
 ],
 "metadata": {
  "kernelspec": {
   "display_name": "Python 3 (ipykernel)",
   "language": "python",
   "name": "python3"
  },
  "language_info": {
   "codemirror_mode": {
    "name": "ipython",
    "version": 3
   },
   "file_extension": ".py",
   "mimetype": "text/x-python",
   "name": "python",
   "nbconvert_exporter": "python",
   "pygments_lexer": "ipython3",
   "version": "3.10.13"
  }
 },
 "nbformat": 4,
 "nbformat_minor": 5
}
