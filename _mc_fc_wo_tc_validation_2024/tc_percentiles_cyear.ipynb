{
 "cells": [
  {
   "cell_type": "markdown",
   "id": "06406c27-bcf2-4083-9554-783e220ddd98",
   "metadata": {},
   "source": [
    "# Tassel cap \n",
    "## 1.0.0 vs 2.0.0\n",
    "\n",
    "Check list:\n",
    "\n",
    "    [x] compare the two versions in Maps/Terria\n",
    "    [x] compare the two versions in Explorer\n",
    "    [x] plot random tiles, check impact of cloud and shadow buffering on no data values. Years 1990, 2010, 2015, 2022.\n",
    "\n",
    "\n"
   ]
  },
  {
   "cell_type": "code",
   "execution_count": null,
   "id": "ef53f119-9d71-43d8-af8a-559687d5aeb7",
   "metadata": {
    "tags": []
   },
   "outputs": [],
   "source": [
    "import datacube\n",
    "from datacube.utils import masking\n",
    "import math\n",
    "\n",
    "import numpy as np\n",
    "\n",
    "import matplotlib.pyplot as plt\n",
    "import pandas as pd\n",
    "import rioxarray as rioxr\n",
    "import rasterio\n",
    "\n",
    "import sys\n",
    "sys.path.insert(1, '../Tools/')\n",
    "from dea_tools.datahandling import wofs_fuser\n",
    "from dea_tools.plotting import rgb, plot_wo, display_map\n",
    "\n",
    "import plotly.graph_objs as go\n",
    "from plotly.subplots import make_subplots\n",
    "\n",
    "dc = datacube.Datacube(app=\"\")"
   ]
  },
  {
   "cell_type": "code",
   "execution_count": null,
   "id": "efe8fd91-b01a-4073-948f-89ccc5ef9c83",
   "metadata": {
    "tags": []
   },
   "outputs": [],
   "source": [
    "# functions\n",
    "\n",
    "tile_lookup = pd.read_csv('grid_lookup.csv', sep=',', na_values=['NA'])\n",
    "def lookup_old_value(new_value):\n",
    "    result = tile_lookup[tile_lookup['new'] == new_value]\n",
    "    result = result['old'].values[0]\n",
    "    return result   \n",
    "\n",
    "def load_tc1(tile, year, percentile):\n",
    "    wet_measurement = f\"wet_pc_{percentile}\"\n",
    "    green_measurement = f\"green_pc_{percentile}\"\n",
    "    bright_measurement = f\"bright_pc_{percentile}\"\n",
    "    measurements = [wet_measurement, green_measurement, bright_measurement]\n",
    "    tc1 = dc.load(\n",
    "        product=\"ga_ls_tc_pc_cyear_3\",\n",
    "        measurements=measurements,\n",
    "        time=year,\n",
    "        region_code=tile,\n",
    "    )\n",
    "    tc1_wet = list(tc1.data_vars.values())[0]\n",
    "    tc1_green = list(tc1.data_vars.values())[1]\n",
    "    tc1_bright = list(tc1.data_vars.values())[2]\n",
    "    return tc1_wet, tc1_green, tc1_bright\n",
    "\n",
    "def load_tc2(tile, year, percentile):\n",
    "    base_url_wet = \"s3://dea-public-data/derivative/ga_ls_tc_pc_cyear_3/2-0-0/{}/{}/{}--P1Y/ga_ls_tc_pc_cyear_3_{}_{}--P1Y_final_wet_pc_{}.tif\"         \n",
    "    base_url_green = \"s3://dea-public-data/derivative/ga_ls_tc_pc_cyear_3/2-0-0/{}/{}/{}--P1Y/ga_ls_tc_pc_cyear_3_{}_{}--P1Y_final_green_pc_{}.tif\"\n",
    "    base_url_bright = \"s3://dea-public-data/derivative/ga_ls_tc_pc_cyear_3/2-0-0/{}/{}/{}--P1Y/ga_ls_tc_pc_cyear_3_{}_{}--P1Y_final_bright_pc_{}.tif\"    \n",
    "    x_val = tile[:3]\n",
    "    y_val = tile[-3:]\n",
    "    url_wet = base_url_wet.format(x_val, y_val, year, tile, year, percentile)\n",
    "    url_green = base_url_green.format(x_val, y_val, year, tile, year, percentile)\n",
    "    url_bright = base_url_bright.format(x_val, y_val, year, tile, year, percentile)\n",
    "    tc2_wet = rioxr.open_rasterio(url_wet)\n",
    "    tc2_green = rioxr.open_rasterio(url_green)\n",
    "    tc2_bright = rioxr.open_rasterio(url_bright)\n",
    "    return tc2_wet, tc2_green, tc2_bright\n",
    "\n",
    "def plot_rgb_comparison(tile, year, percentile):\n",
    "    \n",
    "    print(tile)\n",
    "    \n",
    "    old_tile = lookup_old_value(tile)\n",
    "    percentile = percentile\n",
    "    tc1_wet, tc1_green, tc1_bright = load_tc1(old_tile, year, percentile)\n",
    "    tc2_wet, tc2_green, tc2_bright = load_tc2(tile, year, percentile)\n",
    "    \n",
    "    # squeeze the data arrays\n",
    "    g_channel_v3 = tc1_wet.squeeze()\n",
    "    r_channel_v3 = tc1_green.squeeze()\n",
    "    b_channel_v3 = tc1_bright.squeeze()\n",
    "\n",
    "    g_channel_v4 = tc2_wet.squeeze()\n",
    "    r_channel_v4 = tc2_green.squeeze()\n",
    "    b_channel_v4 = tc2_bright.squeeze()\n",
    "\n",
    "    # stack them along a new dimension to create RGB images\n",
    "    rgb_stack_v3 = np.stack([r_channel_v3, g_channel_v3, b_channel_v3], axis=-1)\n",
    "    rgb_stack_v4 = np.stack([r_channel_v4, g_channel_v4, b_channel_v4], axis=-1)\n",
    "    \n",
    "    # normalise the values to range between 0 and 1\n",
    "    rgb_normalized_v3 = rgb_stack_v3 #/ 255.0  \n",
    "    rgb_normalized_v4 = rgb_stack_v4 #/ 255.0  \n",
    "\n",
    "    # count the number of no-data values (255) in each dataset\n",
    "    no_data_count_v3 = np.sum(np.any(rgb_stack_v3 == -9999, axis=-1))\n",
    "    no_data_count_v4 = np.sum(np.any(rgb_stack_v4 == -9999, axis=-1))\n",
    "\n",
    "    # Create subplots\n",
    "    fig, axes = plt.subplots(1, 2, figsize=(20, 10))\n",
    "\n",
    "    # Plot the RGB image for version 3\n",
    "    axes[0].imshow(rgb_normalized_v3)\n",
    "    axes[0].set_title(f\"TC - Version 1\\nNo Data (-9999) Count: {no_data_count_v3:,}\")\n",
    "    axes[0].axis('off')  # Optional: turn off the axis\n",
    "\n",
    "    # Plot the RGB image for version 4\n",
    "    axes[1].imshow(rgb_normalized_v4)\n",
    "    axes[1].set_title(f\"TC - Version 2\\nNo Data (-9999) Count: {no_data_count_v4:,}\")\n",
    "    axes[1].axis('off')  # Optional: turn off the axis\n",
    "\n",
    "    # Show the plot\n",
    "    plt.show()\n"
   ]
  },
  {
   "cell_type": "code",
   "execution_count": null,
   "id": "e4e26ad8-a520-41ce-8119-7c7483ccbb61",
   "metadata": {},
   "outputs": [],
   "source": []
  },
  {
   "cell_type": "code",
   "execution_count": null,
   "id": "efbb49fd-d87a-4b0b-bc59-172f5d48a0cf",
   "metadata": {
    "tags": []
   },
   "outputs": [],
   "source": [
    "tiles = ['x33y34', 'x43y51', 'x49y39', 'x58y52', 'x66y36', 'x56y32', 'x58y22']"
   ]
  },
  {
   "cell_type": "code",
   "execution_count": null,
   "id": "2d11f7a5-40c0-4583-a47a-e349733c334e",
   "metadata": {
    "tags": []
   },
   "outputs": [],
   "source": [
    "for tile in tiles:\n",
    "    plot_rgb_comparison(tile, '2015', '50')"
   ]
  },
  {
   "cell_type": "code",
   "execution_count": null,
   "id": "d23eb138-a918-4c8c-9e98-89a0a0d3f5be",
   "metadata": {},
   "outputs": [],
   "source": [
    "for tile in tiles:\n",
    "    plot_rgb_comparison(tile, '2015', '10')"
   ]
  },
  {
   "cell_type": "code",
   "execution_count": null,
   "id": "149c5bb9-1279-47f6-99d2-b34a07ac422c",
   "metadata": {},
   "outputs": [],
   "source": [
    "for tile in tiles:\n",
    "    plot_rgb_comparison(tile, '2015', '90')"
   ]
  },
  {
   "cell_type": "code",
   "execution_count": null,
   "id": "bad09d64-98c0-4ac7-b0f1-ed65bc9a965f",
   "metadata": {},
   "outputs": [],
   "source": [
    "for tile in tiles:\n",
    "    plot_rgb_comparison(tile, '2010', '10')"
   ]
  },
  {
   "cell_type": "code",
   "execution_count": null,
   "id": "854ff3b2-63fc-41af-b728-36bba2662e6f",
   "metadata": {
    "tags": []
   },
   "outputs": [],
   "source": [
    "for tile in tiles:\n",
    "    plot_rgb_comparison(tile, '2010', '50')"
   ]
  },
  {
   "cell_type": "code",
   "execution_count": null,
   "id": "1228c369-aa46-4a12-bbd0-64f1e2160520",
   "metadata": {
    "tags": []
   },
   "outputs": [],
   "source": [
    "for tile in tiles:\n",
    "    plot_rgb_comparison(tile, '2010', '90')"
   ]
  },
  {
   "cell_type": "code",
   "execution_count": null,
   "id": "719dc786-9804-45bd-8d7c-806fe0056120",
   "metadata": {
    "tags": []
   },
   "outputs": [],
   "source": [
    "for tile in tiles:\n",
    "    plot_rgb_comparison(tile, '2022', '10')"
   ]
  },
  {
   "cell_type": "code",
   "execution_count": null,
   "id": "184d88e5-1e31-4a55-9fd2-1c4b9f8a9855",
   "metadata": {
    "tags": []
   },
   "outputs": [],
   "source": [
    "for tile in tiles:\n",
    "    plot_rgb_comparison(tile, '2022', '50')"
   ]
  },
  {
   "cell_type": "code",
   "execution_count": null,
   "id": "2bbbc96f-0e51-42f5-ba62-3f41567d0c66",
   "metadata": {},
   "outputs": [],
   "source": [
    "for tile in tiles:\n",
    "    plot_rgb_comparison(tile, '2022', '90')"
   ]
  },
  {
   "cell_type": "code",
   "execution_count": null,
   "id": "b175eb29-e483-4914-9731-631b0b5ef7d9",
   "metadata": {},
   "outputs": [],
   "source": [
    "for tile in tiles:\n",
    "    plot_rgb_comparison(tile, '1990', '10')"
   ]
  },
  {
   "cell_type": "code",
   "execution_count": null,
   "id": "33ee0e85-e838-47eb-b8f7-d5ac2fa7249c",
   "metadata": {
    "tags": []
   },
   "outputs": [],
   "source": [
    "for tile in tiles:\n",
    "    plot_rgb_comparison(tile, '1990', '50')"
   ]
  },
  {
   "cell_type": "code",
   "execution_count": null,
   "id": "e1511e86-a237-45bc-954d-ec7fe237c3b0",
   "metadata": {
    "tags": []
   },
   "outputs": [],
   "source": [
    "for tile in tiles:\n",
    "    plot_rgb_comparison(tile, '1990', '90')"
   ]
  },
  {
   "cell_type": "code",
   "execution_count": null,
   "id": "64b10900-f82e-4881-b258-d4cbdb43c7da",
   "metadata": {},
   "outputs": [],
   "source": []
  }
 ],
 "metadata": {
  "kernelspec": {
   "display_name": "Python 3 (ipykernel)",
   "language": "python",
   "name": "python3"
  },
  "language_info": {
   "codemirror_mode": {
    "name": "ipython",
    "version": 3
   },
   "file_extension": ".py",
   "mimetype": "text/x-python",
   "name": "python",
   "nbconvert_exporter": "python",
   "pygments_lexer": "ipython3",
   "version": "3.10.13"
  }
 },
 "nbformat": 4,
 "nbformat_minor": 5
}
