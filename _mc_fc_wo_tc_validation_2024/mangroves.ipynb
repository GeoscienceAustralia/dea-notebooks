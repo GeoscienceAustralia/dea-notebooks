{
 "cells": [
  {
   "cell_type": "markdown",
   "id": "ca8e7cfb-48ac-4b6b-868c-717151809c9f",
   "metadata": {},
   "source": [
    "# Mangroves \n",
    "## 3.0.0 vs 4.0.0\n",
    "\n",
    "Check list: \n",
    "\n",
    "    [x] compare the two versions in Maps/Terria\n",
    "    [x] compare the two versions in Explorer\n",
    "    [x] plot random tiles, check impact of cloud and shadow buffering on no data values. Years 1990, 2010, 2015, 2022.\n",
    "     "
   ]
  },
  {
   "cell_type": "code",
   "execution_count": null,
   "id": "91c6c543-db3a-4228-8dea-4a9ea89c029b",
   "metadata": {
    "tags": []
   },
   "outputs": [],
   "source": [
    "import datacube\n",
    "import pandas as pd\n",
    "import sys\n",
    "import rioxarray as rioxr\n",
    "import rasterio\n",
    "import matplotlib.pyplot as plt\n",
    "import geopandas as gpd\n",
    "import numpy as np\n",
    "\n",
    "dc = datacube.Datacube(app=\"\")"
   ]
  },
  {
   "cell_type": "code",
   "execution_count": null,
   "id": "9ee6de9a-6149-4377-b1c1-78c35eaa5913",
   "metadata": {
    "tags": []
   },
   "outputs": [],
   "source": [
    "# functions to use\n",
    "\n",
    "def load_mangroves_3(tile, year):\n",
    "    \"\"\"\n",
    "    load mangroves v3 over tile extent.\n",
    "    \"\"\"\n",
    "    mangroves_3 = dc.load(\n",
    "                product=\"ga_ls_mangrove_cover_cyear_3\",\n",
    "                region_code = tile, \n",
    "                time=year,\n",
    "    )\n",
    "    return mangroves_3\n",
    "\n",
    "def load_mangroves_4(tile, year):\n",
    "    \"\"\"\n",
    "    load mangroves v4 tiles from s3.\n",
    "    \"\"\"\n",
    "    base_url = \"s3://dea-public-data/derivative/ga_ls_mangrove_cover_cyear_3/4-0-0/{}/{}/{}--P1Y/ga_ls_mangrove_cover_cyear_3_{}_{}--P1Y_final_canopy_cover_class.tif\"\n",
    "    x_val = tile[:3]\n",
    "    y_val = tile[-3:]\n",
    "    url = base_url.format(x_val, y_val, year, tile, year)\n",
    "    mangroves_3 = rioxr.open_rasterio(url)\n",
    "    return mangroves_3\n",
    "\n",
    "tile_lookup = pd.read_csv('grid_lookup.csv', sep=',', na_values=['NA'])\n",
    "def lookup_old_value(new_value):\n",
    "    \"\"\"\n",
    "    returns old region code because version 3 mangroves uses the old grid\n",
    "    \"\"\"\n",
    "    result = tile_lookup[tile_lookup['new'] == new_value]\n",
    "    result = result['old'].values[0]\n",
    "    return result\n",
    "\n",
    "def count_pixels(data):\n",
    "    \"\"\"\n",
    "    returns count of unique pixels\n",
    "    \"\"\"\n",
    "    unique_values, counts = np.unique(data, return_counts=True)\n",
    "    unique_counts = dict(zip(unique_values, counts))\n",
    "    return unique_counts\n",
    "\n",
    "def print_pixel_info(tile, year):\n",
    "    \"\"\"\n",
    "    Print pixel counts and percentage change between versions.\n",
    "    \"\"\"\n",
    "    tile_old = lookup_old_value(tile)\n",
    "    v3 = load_mangroves_3(tile_old, year)\n",
    "    v4 = load_mangroves_4(tile, year)\n",
    "    print('---------------------------------------------------------------------------------')\n",
    "    print(f'{tile}')\n",
    "    print('0 = not observed, 1 = woodland, 2 = open forest, 3 = closed forest, 225 = no data')\n",
    "    print('---------------------------------------------------------------------------------')\n",
    "    print('Pixel count version 3')\n",
    "    print('---------------------------------------------------------------------------------')\n",
    "    count_pixels_3 = count_pixels(v3.canopy_cover_class)\n",
    "    for value, count in count_pixels_3.items():\n",
    "        print(f'Value: {value:,}, Count: {count:,}')\n",
    "    print('---------------------------------------------------------------------------------')\n",
    "    print('Pixel count version 4')\n",
    "    print('---------------------------------------------------------------------------------')\n",
    "    count_pixels_4 = count_pixels(v4.values)\n",
    "    for value, count in count_pixels_4.items():\n",
    "        print(f'Value: {value:,}, Count: {count:,}')\n",
    "    print('---------------------------------------------------------------------------------')\n",
    "    print('Percentage change from version 3 to version 4')\n",
    "    print('---------------------------------------------------------------------------------')\n",
    "    for value in set(count_pixels_3.keys()).union(count_pixels_4.keys()):\n",
    "        count_v3 = count_pixels_3.get(value, 0)\n",
    "        count_v4 = count_pixels_4.get(value, 0)\n",
    "        if count_v3 != 0:  # To avoid division by zero\n",
    "            percent_change = ((count_v4 - count_v3) / count_v3) * 100\n",
    "            print(f'Value: {value}, Percentage Change: {percent_change:.2f}%')\n",
    "        else:\n",
    "            print(f'Value: {value}, Percentage Change: Undefined (divided by zero)')\n",
    "    sys.stdout.flush()\n",
    "    \n",
    "    \n",
    "def plot_tile(tile, year):\n",
    "    \"\"\"\n",
    "    Plot version 3 and 4 mangroves products next to each other.\n",
    "    \"\"\"\n",
    "    tile_old = lookup_old_value(tile)\n",
    "    v3 = load_mangroves_3(tile_old, year)\n",
    "    v4 = load_mangroves_4(tile, year)\n",
    "    \n",
    "    fig, (ax1, ax2) = plt.subplots(1, 2, figsize=(15, 6))\n",
    "    img1 = ax1.imshow(v3.canopy_cover_class.squeeze(), cmap='Greens_r')\n",
    "    img2 = ax2.imshow(v4.squeeze(), cmap='Greens_r')\n",
    "    ax1.set_title(f'{tile_old} mangroves v3')\n",
    "    ax2.set_title(f'{tile} mangroves v4')\n",
    "    fig.colorbar(img1, ax=ax1)\n",
    "    fig.colorbar(img2, ax=ax2)\n",
    "    \n",
    "    plt.show()\n",
    "    plt.close()\n",
    "\n",
    "def plot_tile_and_info(tile, year):\n",
    "    \"\"\"\n",
    "    Print pixel info and plot mangroves products for a given tile and year.\n",
    "    \"\"\"\n",
    "    print_pixel_info(tile, year)\n",
    "    plot_tile(tile, year)\n",
    "  "
   ]
  },
  {
   "cell_type": "code",
   "execution_count": null,
   "id": "2419a1fe-0210-4a77-a168-f70bd2b852a9",
   "metadata": {
    "tags": []
   },
   "outputs": [],
   "source": [
    "tile_list = ['x27y45', 'x37y53', 'x44y58', 'x50y58', 'x57y58', 'x67y38', 'x65y33', 'x59y27', 'x51y34']\n",
    "\n",
    "for tile in tile_list:\n",
    "    plot_tile_and_info(tile, '1990')"
   ]
  },
  {
   "cell_type": "code",
   "execution_count": null,
   "id": "86e430db-504e-4a74-a8f0-2015d4e267ab",
   "metadata": {
    "tags": []
   },
   "outputs": [],
   "source": [
    "tile_list = ['x27y45', 'x37y53', 'x44y58', 'x50y58', 'x57y58', 'x67y38', 'x65y33', 'x59y27', 'x51y34']\n",
    "\n",
    "for tile in tile_list:\n",
    "    plot_tile_and_info(tile, '2010')"
   ]
  },
  {
   "cell_type": "code",
   "execution_count": null,
   "id": "dc8e3655-9b2e-4aad-aaff-8d7df64a9055",
   "metadata": {
    "tags": []
   },
   "outputs": [],
   "source": [
    "tile_list = ['x27y45', 'x37y53', 'x44y58', 'x50y58', 'x57y58', 'x67y38', 'x65y33', 'x59y27', 'x51y34']\n",
    "\n",
    "for tile in tile_list:\n",
    "    plot_tile_and_info(tile, '2015')"
   ]
  },
  {
   "cell_type": "code",
   "execution_count": null,
   "id": "b925a53f-fb80-45c4-a376-afe19c49bb3c",
   "metadata": {
    "tags": []
   },
   "outputs": [],
   "source": [
    "tile_list = ['x27y45', 'x37y53', 'x44y58', 'x50y58', 'x57y58', 'x67y38', 'x65y33', 'x59y27', 'x51y34']\n",
    "\n",
    "for tile in tile_list:\n",
    "    plot_tile_and_info(tile, '2022')"
   ]
  },
  {
   "cell_type": "code",
   "execution_count": null,
   "id": "fb1d7508-0629-4633-9f1e-9619dc3648d0",
   "metadata": {},
   "outputs": [],
   "source": []
  },
  {
   "cell_type": "code",
   "execution_count": null,
   "id": "0511a03a-dbf5-4013-b1b1-af5480b454f0",
   "metadata": {},
   "outputs": [],
   "source": []
  },
  {
   "cell_type": "code",
   "execution_count": null,
   "id": "3b4c32c2-bea5-4c8e-9e8a-6b40a30ce4d1",
   "metadata": {},
   "outputs": [],
   "source": []
  },
  {
   "cell_type": "code",
   "execution_count": null,
   "id": "92960b38-a2a6-4dea-acc1-fd111298d7a9",
   "metadata": {},
   "outputs": [],
   "source": []
  }
 ],
 "metadata": {
  "kernelspec": {
   "display_name": "Python 3 (ipykernel)",
   "language": "python",
   "name": "python3"
  },
  "language_info": {
   "codemirror_mode": {
    "name": "ipython",
    "version": 3
   },
   "file_extension": ".py",
   "mimetype": "text/x-python",
   "name": "python",
   "nbconvert_exporter": "python",
   "pygments_lexer": "ipython3",
   "version": "3.10.13"
  }
 },
 "nbformat": 4,
 "nbformat_minor": 5
}
