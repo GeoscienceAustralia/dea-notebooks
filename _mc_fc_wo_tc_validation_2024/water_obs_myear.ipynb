{
 "cells": [
  {
   "cell_type": "markdown",
   "id": "644bb2e9-f7d2-4a7d-8735-06cf894c25ae",
   "metadata": {},
   "source": [
    "# Water Observations Multi-year\n",
    "## 1.6.0 vs 2.0.0\n",
    "\n",
    "Check list: \n",
    "\n",
    "    [x] compare the two versions in Maps/Terria\n",
    "    [x] compare the two versions in Explorer\n",
    "    [x] plot random tiles, check impact of cloud and shadow buffering on no data values. Years 1990, 2010, 2015, 2022.\n"
   ]
  },
  {
   "cell_type": "code",
   "execution_count": null,
   "id": "211eea05-46bd-4cda-991b-ae689acb8950",
   "metadata": {
    "tags": []
   },
   "outputs": [],
   "source": [
    "import datacube\n",
    "import pandas as pd\n",
    "import sys\n",
    "import rioxarray as rioxr\n",
    "import rasterio\n",
    "import matplotlib.pyplot as plt\n",
    "import geopandas as gpd\n",
    "import numpy as np\n",
    "\n",
    "dc = datacube.Datacube(app=\"\")"
   ]
  },
  {
   "cell_type": "code",
   "execution_count": null,
   "id": "51948ae7-f375-4925-b8f7-c66481a08956",
   "metadata": {
    "tags": []
   },
   "outputs": [],
   "source": [
    "# functions to use\n",
    "\n",
    "def load_wo_16(tile, time):\n",
    "    \"\"\"\n",
    "    load wo v1.6.0 over tile extent.\n",
    "    \"\"\"\n",
    "    wo_16 = dc.load(\n",
    "                product=\"ga_ls_wo_fq_myear_3\",\n",
    "                region_code = tile, \n",
    "                time=time,\n",
    "    )\n",
    "    return wo_16\n",
    "\n",
    "def load_wo_2(tile, year):\n",
    "    \"\"\"\n",
    "    load wo v2.0.0 from s3. loads three layers, clear, wet and frequency. \n",
    "    \"\"\"\n",
    "    base_url_clear = \"s3://dea-public-data/derivative/ga_ls_wo_fq_myear_3/2-0-0/{}/{}/{}--P37Y/ga_ls_wo_fq_myear_3_{}_1987--P37Y_final_count_clear.tif\"\n",
    "    base_url_wet = \"s3://dea-public-data/derivative/ga_ls_wo_fq_myear_3/2-0-0/{}/{}/{}--P37Y/ga_ls_wo_fq_myear_3_{}_1987--P37Y_final_count_wet.tif\"\n",
    "    base_url_freq = \"s3://dea-public-data/derivative/ga_ls_wo_fq_myear_3/2-0-0/{}/{}/{}--P37Y/ga_ls_wo_fq_myear_3_{}_1987--P37Y_final_frequency.tif\"\n",
    "    x_val = tile[:3]\n",
    "    y_val = tile[-3:]\n",
    "    url_clear = base_url_clear.format(x_val, y_val, year, tile)\n",
    "    url_wet = base_url_wet.format(x_val, y_val, year, tile)\n",
    "    url_freq = base_url_freq.format(x_val, y_val, year, tile)\n",
    "    wo_2_clear = rioxr.open_rasterio(url_clear)\n",
    "    wo_2_wet = rioxr.open_rasterio(url_wet)\n",
    "    wo_2_freq = rioxr.open_rasterio(url_freq)\n",
    "    return wo_2_clear, wo_2_wet, wo_2_freq\n",
    "\n",
    "tile_lookup = pd.read_csv('grid_lookup.csv', sep=',', na_values=['NA'])\n",
    "def lookup_old_value(new_value):\n",
    "    \"\"\"\n",
    "    returns old region code\n",
    "    \"\"\"\n",
    "    result = tile_lookup[tile_lookup['new'] == new_value]\n",
    "    result = result['old'].values[0]\n",
    "    return result    \n",
    "    \n",
    "def plot_tile(tile, year):\n",
    "    \"\"\"\n",
    "    Plot version 1.6.0 and 2.0.0 WO products next to each other.\n",
    "    \"\"\"\n",
    "    tile_old = lookup_old_value(tile)\n",
    "    v16 = load_wo_16(tile_old, year)\n",
    "    v2_clear, v2_wet, v2_freq = load_wo_2(tile, year)\n",
    "    \n",
    "    # use this for nan\n",
    "    # nodata_16 = v16['frequency'].isnull().sum().item()\n",
    "    # nodata_2 = v2_freq.isnull().sum().item() \n",
    "    # percent_change = ((nodata_2 - nodata_16) / nodata_16) * 100\n",
    "    \n",
    "    # use this for -999\n",
    "    nodata_16 = (v16['count_clear'] == -999).sum().item()\n",
    "    nodata_2 = (v2_clear == -999).sum().item()\n",
    "\n",
    "    if nodata_16 == 0:\n",
    "        percent_change = float('inf') if nodata_2 > 0 else 0  \n",
    "    else:\n",
    "        percent_change = ((nodata_2 - nodata_16) / nodata_16) * 100\n",
    "    \n",
    "    print('---------------------------------')\n",
    "    print(f'-------------{tile}--------------')\n",
    "    print('---------------------------------')\n",
    "    print(f'V 1.6.0 NaN count (clear): {nodata_16:,}')\n",
    "    print(f'V 2.0.0 NaN count (clear): {nodata_2:,}')\n",
    "    print(f'NaN percent change: {percent_change:.2f}%')\n",
    "    print('---------------------------------')\n",
    "    \n",
    "    fig, axes = plt.subplots(2, 3, figsize=(9, 10))\n",
    "    img1 = axes[0, 0].imshow(v16.count_clear.squeeze(), cmap='viridis', vmin=0)\n",
    "    axes[0, 0].set_title('v 1.6.0 clear count')\n",
    "    fig.colorbar(img1, ax=axes[0, 0])\n",
    "    img2 = axes[0, 1].imshow(v16.count_wet.squeeze(), cmap='viridis', vmin=0)\n",
    "    axes[0, 1].set_title('v 1.6.0 wet count')\n",
    "    fig.colorbar(img2, ax=axes[0, 1])\n",
    "    img3 = axes[0, 2].imshow(v16.frequency.squeeze(), cmap='Blues')\n",
    "    axes[0, 2].set_title('v 1.6.0 frequency')\n",
    "    fig.colorbar(img3, ax=axes[0, 2])\n",
    "    img4 = axes[1, 0].imshow(v2_clear.squeeze(), cmap='viridis', vmin=0)\n",
    "    axes[1, 0].set_title('v 2.0.0 clear count')\n",
    "    fig.colorbar(img4, ax=axes[1, 0])\n",
    "    img5 = axes[1, 1].imshow(v2_wet.squeeze(), cmap='viridis', vmin=0)\n",
    "    axes[1, 1].set_title('v 2.0.0 wet count')\n",
    "    fig.colorbar(img5, ax=axes[1, 1])\n",
    "    img6 = axes[1, 2].imshow(v2_freq.squeeze(), cmap='Blues')\n",
    "    axes[1, 2].set_title('v 2.0.0 frequency')\n",
    "    fig.colorbar(img6, ax=axes[1, 2])\n",
    "    plt.tight_layout()\n",
    "    plt.show()\n",
    "    plt.close()\n",
    "      "
   ]
  },
  {
   "cell_type": "code",
   "execution_count": null,
   "id": "db986cad-0520-438c-b223-2baa45bae5d1",
   "metadata": {
    "tags": []
   },
   "outputs": [],
   "source": [
    "tiles = ['x36y35', 'x31y48', 'x42y53', 'x54y52', 'x62y47', 'x65y33', 'x60y30', 'x58y22', 'x55y33', 'x49y36', 'x51y39']\n",
    "\n",
    "for tile in tiles: \n",
    "    plot_tile(tile, '1987')"
   ]
  },
  {
   "cell_type": "code",
   "execution_count": null,
   "id": "00aff6e4-cbb7-4a2a-9c4e-a48c121d2d62",
   "metadata": {},
   "outputs": [],
   "source": []
  },
  {
   "cell_type": "code",
   "execution_count": null,
   "id": "7f636c8b-8918-4d88-8687-ba47a33542ee",
   "metadata": {},
   "outputs": [],
   "source": []
  },
  {
   "cell_type": "code",
   "execution_count": null,
   "id": "bf3f5d1c-359b-43de-b0c9-759b6a5b4585",
   "metadata": {},
   "outputs": [],
   "source": []
  },
  {
   "cell_type": "code",
   "execution_count": null,
   "id": "0e1c8262-d101-4967-825b-f3f2e738f8b9",
   "metadata": {},
   "outputs": [],
   "source": []
  },
  {
   "cell_type": "code",
   "execution_count": null,
   "id": "69b18316-55da-49bd-adfb-75606ac68208",
   "metadata": {},
   "outputs": [],
   "source": []
  },
  {
   "cell_type": "code",
   "execution_count": null,
   "id": "5e3795f4-14de-4a5b-b475-f1549255bc24",
   "metadata": {},
   "outputs": [],
   "source": []
  }
 ],
 "metadata": {
  "kernelspec": {
   "display_name": "Python 3 (ipykernel)",
   "language": "python",
   "name": "python3"
  },
  "language_info": {
   "codemirror_mode": {
    "name": "ipython",
    "version": 3
   },
   "file_extension": ".py",
   "mimetype": "text/x-python",
   "name": "python",
   "nbconvert_exporter": "python",
   "pygments_lexer": "ipython3",
   "version": "3.10.13"
  }
 },
 "nbformat": 4,
 "nbformat_minor": 5
}
