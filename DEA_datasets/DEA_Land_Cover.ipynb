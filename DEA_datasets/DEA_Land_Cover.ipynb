{
 "cells": [
  {
   "cell_type": "markdown",
   "metadata": {
    "tags": []
   },
   "source": [
    "# Introduction to DEA Land Cover <img align=\"right\" src=\"../Supplementary_data/dea_logo.jpg\">\n",
    "\n",
    "* [**Sign up to the DEA Sandbox**](https://docs.dea.ga.gov.au/setup/sandbox.html) to run this notebook interactively from a browser\n",
    "* **Compatibility:** Notebook currently compatible with the `DEA Sandbox` environment\n",
    "* **Products used:** [ga_ls_landcover_class_cyear_2](https://explorer.sandbox.dea.ga.gov.au/ga_ls_landcover_class_cyear_2)"
   ]
  },
  {
   "cell_type": "markdown",
   "metadata": {
    "jp-MarkdownHeadingCollapsed": true,
    "tags": []
   },
   "source": [
    "## Background\n",
    "\n",
    "Land cover is the observed physical cover on the Earth's surface, including trees, shrubs, grasses, soils, exposed rocks, water bodies, plantations, crops and built structures.\n",
    "Land cover changes for many reasons, including seasonal weather, severe weather events, and human activities.\n",
    "Remote sensing data recorded over time allows the observation of land cover dynamics.\n",
    "DEA Land Cover aims to provide a national land cover data set that places current land cover status and changes into a historical context at a national, regional and local scale.\n",
    "\n",
    "### What this product offers\n",
    "\n",
    "[Digital Earth Australia Land Cover (DEA Land Cover)](https://cmi.ga.gov.au/data-products/dea/607/dea-land-cover-landsat) is a continental dataset that maps  annual land cover classifications for Australia from 1988 to the present. \n",
    "DEA Land Cover is at a 25 m resolution, meaning each pixel represents a 25 m × 25 m area on the ground. \n",
    "Each pixel shows the predominant land cover condition for the selected year.\n",
    "The product combines Landsat satellite data and related data products from Geoscience Australia's [Digital Earth Australia](https://www.dea.ga.gov.au/) program. \n",
    "\n",
    "The classification system used in DEA Land Cover follows the Food and Agriculture Organization of the United Nations [land cover classification taxonomy](https://www.fao.org/land-water/land/land-governance/land-resources-planning-toolbox/category/details/en/c/1036361/), allowing for comparison and integration with other national and international datasets. \n",
    "The product defines six base land cover classes (Level 3), seven land cover environmental descriptors, and a final land cover classification (Level 4) that combines both base classes and environmental descriptors.\n",
    "More information about each class can be found further down in this notebook (see **Plotting data**), and on the [DEA Land Cover product details](https://cmi.ga.gov.au/data-products/dea/607/dea-land-cover-landsat#details) page.\n",
    "\n",
    "### Applications\n",
    "\n",
    "DEA Land Cover allows users to analyse land cover over a range of spatial, temporal and thematic scales. \n",
    "Scientists, resource managers and policymakers can use the product to support environmental monitoring, emergency management, sustainable natural resource management, and more.\n",
    "Specific examples include: \n",
    "\n",
    "* **Environmental monitoring:** ecosystem mapping, understanding surface water dynamics, erosion management \n",
    "* **Primary industries:** understanding crop responses to water availability, understanding and mitigating impact of drought, monitoring vegetation change\n",
    "* **Community interests:** mapping urban expansion, mapping impacts of natural disasters, bushfire recovery.\n",
    "\n",
    "### Publications\n",
    "\n",
    "* Lucas R, Mueller N, Siggins A, Owers C, Clewley D, Bunting P, Kooymans C, Tissott B, Lewis B, Lymburner L, Metternicht G (2019) 'Land Cover Mapping using Digital Earth Australia', <em>Data</em>, 4(4):143, doi: [10.3390/data4040143](https://www.mdpi.com/2306-5729/4/4/143/htm).\n",
    "* Owers C, Lucas R, Clewley D, Planque C, Punalekar S, Tissott B, Chua S, Bunting P, Mueller N, Metternicht G (2021) 'Living Earth: Implementing national standardised land cover classification systems for Earth Observation in support of sustainable development', <em>Big Earth Data</em>, 5(3):368-390, doi:[10.1080/20964471.2021.1948179](https://www.tandfonline.com/doi/full/10.1080/20964471.2021.1948179?scroll=top&needAccess=true).\n",
    "\n",
    "> **Note:** For more technical information about DEA Land Cover, visit the official Geoscience Australia [DEA Land Cover product description](https://cmi.ga.gov.au/data-products/dea/607/dea-land-cover-landsat) page."
   ]
  },
  {
   "cell_type": "markdown",
   "metadata": {
    "tags": []
   },
   "source": [
    "## Description\n",
    "This notebook will demonstrate how to load and visualise DEA Land Cover data using Digital Earth Australia. Topics covered include:\n",
    "\n",
    "1. Inspecting available measurements in DEA Land Cover.\n",
    "2. Choosing and loading DEA Land Cover data for an area of interest.\n",
    "3. Plotting DEA Land Cover data.\n",
    "\n",
    "***"
   ]
  },
  {
   "cell_type": "markdown",
   "metadata": {},
   "source": [
    "## Getting started\n",
    "\n",
    "To run this analysis, run all the cells in the notebook starting with the 'Load packages' cell. "
   ]
  },
  {
   "cell_type": "markdown",
   "metadata": {},
   "source": [
    "### Load packages\n",
    "Load key Python packages and supporting functions for the analysis."
   ]
  },
  {
   "cell_type": "code",
   "execution_count": null,
   "metadata": {
    "tags": []
   },
   "outputs": [],
   "source": [
    "%matplotlib inline\n",
    "\n",
    "import sys\n",
    "\n",
    "import datacube\n",
    "import matplotlib.pyplot as plt\n",
    "import numpy as np\n",
    "\n",
    "sys.path.insert(1, \"../Tools/\")\n",
    "from dea_tools.plotting import rgb, display_map\n",
    "from dea_tools.land_cover import plot_land_cover\n",
    "from matplotlib import colors as mcolours"
   ]
  },
  {
   "cell_type": "markdown",
   "metadata": {},
   "source": [
    "### Connect to the datacube\n",
    "\n",
    "Connect to the datacube database, which provides functionality for loading and displaying stored Earth observation data."
   ]
  },
  {
   "cell_type": "code",
   "execution_count": null,
   "metadata": {
    "tags": []
   },
   "outputs": [],
   "source": [
    "dc = datacube.Datacube(app=\"DEA_Land_Cover\")"
   ]
  },
  {
   "cell_type": "markdown",
   "metadata": {
    "tags": []
   },
   "source": [
    "### View measurements list\n",
    "\n",
    "We can generate a table listing all of the measurements in DEA Land Cover using the `dc.list_measurements()` function.\n",
    "The table also shows information about measurement data types, nodata values, and aliases. \n",
    "Aliases (e.g. lifeform) can be used instead of the official measurement name (e.g. lifeform_veg_cat_l4a) when loading data (see <strong>Load and view DEA Land Cover data</strong>)."
   ]
  },
  {
   "cell_type": "code",
   "execution_count": null,
   "metadata": {},
   "outputs": [],
   "source": [
    "product = \"ga_ls_landcover_class_cyear_2\"\n",
    "\n",
    "measurements = dc.list_measurements()\n",
    "measurements.loc[product]"
   ]
  },
  {
   "cell_type": "markdown",
   "metadata": {
    "tags": []
   },
   "source": [
    "## Select and view your study area\n",
    "\n",
    "**If running the notebook for the first time,** keep the default settings below.\n",
    "This will demonstrate how the analysis works and provide meaningful results.\n",
    "The following example loads land cover data for Broome, Western Australia."
   ]
  },
  {
   "cell_type": "code",
   "execution_count": null,
   "metadata": {},
   "outputs": [],
   "source": [
    "# Coordinates for Broome, Western Australia\n",
    "lat = -18.10\n",
    "lon = 122.32\n",
    "lat_buffer = 0.18\n",
    "lon_buffer = 0.18\n",
    "\n",
    "# Combine central coordinates with buffer values to create the latitude and longitude range for the analysis\n",
    "lat_range = (lat - lat_buffer, lat + lat_buffer)\n",
    "lon_range = (lon - lon_buffer, lon + lon_buffer)\n",
    "\n",
    "# Set the range of dates for the analysis\n",
    "time_range = (\"2017\", \"2020\")"
   ]
  },
  {
   "cell_type": "markdown",
   "metadata": {},
   "source": [
    "The following cell will display the selected area on an interactive map.\n",
    "You can zoom in and out to better understand the area you'll be analysing. \n",
    "Clicking on any point on the map will reveal that point's latitude and longitude coordinates."
   ]
  },
  {
   "cell_type": "code",
   "execution_count": null,
   "metadata": {
    "tags": []
   },
   "outputs": [],
   "source": [
    "display_map(x=lon_range, y=lat_range)"
   ]
  },
  {
   "cell_type": "markdown",
   "metadata": {},
   "source": [
    "## Load and view DEA Land Cover data \n",
    "The following cell will load data for the `lat_range`, `lon_range` and `time_range` we defined above.\n",
    "We can do this using the `dc.load()` function. \n",
    "\n",
    "> **Note:** The following cell loads all available measurements in DEA Land Cover, however, the query can be adapted to only load measurements of interest."
   ]
  },
  {
   "cell_type": "code",
   "execution_count": null,
   "metadata": {},
   "outputs": [],
   "source": [
    "# Create the 'query' dictionary object, which contains the longitudes, latitudes and time defined above\n",
    "query = {\n",
    "    \"y\": lat_range,\n",
    "    \"x\": lon_range,\n",
    "    \"time\": time_range,\n",
    "}\n",
    "\n",
    "# Load DEA Land Cover data from the datacube\n",
    "lc = dc.load(\n",
    "    product=\"ga_ls_landcover_class_cyear_2\",\n",
    "    output_crs=\"EPSG:3577\",\n",
    "    measurements=[\n",
    "        \"level3\",\n",
    "        \"lifeform\",\n",
    "        \"vegetation_cover\",\n",
    "        \"water_seasonality\",\n",
    "        \"water_state\",\n",
    "        \"intertidal\",\n",
    "        \"water_persistence\",\n",
    "        \"bare_gradation\",\n",
    "        \"full_classification\",\n",
    "    ],\n",
    "    resolution=(-25, 25),\n",
    "    **query\n",
    ")"
   ]
  },
  {
   "cell_type": "markdown",
   "metadata": {},
   "source": [
    "We can now view the data. \n",
    "The measurements listed under `Data variables` should match the measurements listed in the above query.\n",
    "\n",
    "More information on interpreting `xarray.Dataset` results can be found in our [Beginner's guide](../Beginners_guide/04_Loading_data.ipynb)."
   ]
  },
  {
   "cell_type": "code",
   "execution_count": null,
   "metadata": {},
   "outputs": [],
   "source": [
    "lc"
   ]
  },
  {
   "cell_type": "markdown",
   "metadata": {},
   "source": [
    "## Plotting data\n",
    "\n",
    "The following section will show you how to plot DEA Land Cover data using two different methods: the `plot_layer()` function that allows you to define your own colour map, and the `plot_land_cover()` function that uses DEA's standard colour maps. "
   ]
  },
  {
   "cell_type": "markdown",
   "metadata": {
    "tags": []
   },
   "source": [
    "### Level 3 visualisation \n",
    "\n",
    "The Level 3 classification contains six base classes: \n",
    "\n",
    "* <strong>111: Cultivated terrestrial vegetation</strong>  \n",
    "Cultivated vegetation is vegetation that has been changed by human influence, such as planted crops or improved pasture. This is different from areas left to minor grazing or fallow.\n",
    "* <strong>112: Natural terrestrial vegetation</strong>  \n",
    "Natural vegetation is vegetation that has not been changed by human influence. This includes native forests as well as pastures or paddocks left unchanged for the year. It does not identify whether the vegetation is native or otherwise.\n",
    "* <strong>124: Natural aquatic vegetation</strong>  \n",
    "Aquatic vegetation is vegetation that gets regularly inundated with water. Mangroves are the main type of aquatic vegetation featured in DEA Land Cover.\n",
    "* <strong>215: Artificial surface</strong>  \n",
    "Artificial surfaces are human-made, unvegetated areas. This includes the roofs of houses, concrete areas, road surfaces and other similar surfaces that we associate with civilisation.\n",
    "* <strong>216: Natural bare surface</strong>  \n",
    "Natural bare surface is mostly soil. It is very likely that there is still vegetation in the area, but it is dominated by soil.\n",
    "* <strong>220: Water</strong>  \n",
    "Water captures terrestrial and coastal open water such as dams, lakes, large rivers and the coastal and near-shore zone. \n",
    "\n",
    "To plot the `level3` data, we will use the `plot_layer()` function. \n",
    "The `plot_layer()` function allows you to define your own colour map as shown in the cell below. \n",
    "The keys respond to the Level 3 classifications, and the values are colour specifications (red, green, blue, alpha) and labels to be used in the legend."
   ]
  },
  {
   "cell_type": "code",
   "execution_count": null,
   "metadata": {},
   "outputs": [],
   "source": [
    "# Define a colour scheme for the Level 3\n",
    "LEVEL3_COLOUR_SCHEME = {\n",
    "    0: (255, 255, 255, 255, \"No Data\"),\n",
    "    111: (172, 188, 45, 255, \"Cultivated terrestrial vegetation\"),\n",
    "    112: (14, 121, 18, 255, \"Natural terrestrial vegetation\"),\n",
    "    124: (30, 191, 121, 255, \"Natural aquatic vegetation\"),\n",
    "    215: (218, 92, 105, 255, \"Artificial surface\"),\n",
    "    216: (243, 171, 105, 255, \"Natural bare surface\"),\n",
    "    220: (77, 159, 220, 255, \"Water\"),\n",
    "}"
   ]
  },
  {
   "cell_type": "markdown",
   "metadata": {},
   "source": [
    "The following cell defines the `plot_layer()` function which takes DEA Land Cover data and a colour map as arguments."
   ]
  },
  {
   "cell_type": "code",
   "execution_count": null,
   "metadata": {},
   "outputs": [],
   "source": [
    "# Plot layer from colour map\n",
    "def plot_layer(colours, data):\n",
    "    colour_arr = []\n",
    "    cblabels = []\n",
    "    for key, value in colours.items():\n",
    "        colour_arr.append(np.array(value[:-2]) / 255)\n",
    "        cblabels.append(value[-1])\n",
    "\n",
    "    cmap = mcolours.ListedColormap(colour_arr)\n",
    "    bounds = list(colours)\n",
    "    bounds.append(255)\n",
    "    norm = mcolours.BoundaryNorm(np.array(bounds) - 0.1, cmap.N)\n",
    "\n",
    "    # Plot the provided layer\n",
    "    im = data.plot(\n",
    "        cmap=cmap, norm=norm, add_colorbar=True, col=\"time\", col_wrap=4, size=5\n",
    "    )\n",
    "\n",
    "    cb = im.cbar\n",
    "    ticks = cb.get_ticks()\n",
    "    cb.set_ticks(ticks + np.diff(ticks, append=256) / 2)\n",
    "    cb.set_ticklabels(cblabels)\n",
    "\n",
    "    return im"
   ]
  },
  {
   "cell_type": "markdown",
   "metadata": {},
   "source": [
    "We can now plot the data:"
   ]
  },
  {
   "cell_type": "code",
   "execution_count": null,
   "metadata": {
    "tags": []
   },
   "outputs": [],
   "source": [
    "plot_layer(LEVEL3_COLOUR_SCHEME, lc.level3)"
   ]
  },
  {
   "cell_type": "markdown",
   "metadata": {},
   "source": [
    "In the following sections, we will plot data using the `plot_land_cover()` function. More details about the function can be found in [land_cover.py](../Tools/dea_tools/land_cover.py)."
   ]
  },
  {
   "cell_type": "markdown",
   "metadata": {
    "tags": []
   },
   "source": [
    "### Visualising environmental descriptors \n",
    "\n",
    "There are seven environmental descriptors in DEA Land Cover: lifeform, vegetation cover, water seasonality, water state, intertidal area, water persistence, and bare gradation. \n",
    "\n",
    "The following section provides more detail about each environmental descriptor, then uses the `plot_land_cover()` function to visualise them. "
   ]
  },
  {
   "cell_type": "markdown",
   "metadata": {},
   "source": [
    "#### Lifeform\n",
    "\n",
    "Lifeform describes the predominant vegetation type in vegetated areas.\n",
    "It is categorised as follows: \n",
    "\n",
    "* 0: No data or not vegetated \n",
    "* 1: Woody vegetation (trees, shrubs)\n",
    "* 2: Herbaceous vegetation (grasses, forbs)\n",
    "\n",
    "Lifeform provides detail to the following Level 3 classes: cultivated terrestrial vegetation (111), natural terrestrial vegetation (112), and natural aquatic vegetation (124)."
   ]
  },
  {
   "cell_type": "code",
   "execution_count": null,
   "metadata": {},
   "outputs": [],
   "source": [
    "plot_land_cover(lc.lifeform)"
   ]
  },
  {
   "cell_type": "markdown",
   "metadata": {},
   "source": [
    "#### Vegetation cover\n",
    "\n",
    "Vegetation cover describes the percentage of cover in vegetated areas. \n",
    "It is categorised as follows: \n",
    "\n",
    "* 0: Not applicable (such as in bare areas)\n",
    "* 10: Closed (>65%)  \n",
    "* 12: Open (40 to 65%)  \n",
    "* 13: Open (15 to 40%)  \n",
    "* 15: Sparse (4 to 15%)  \n",
    "* 16: Scattered (1 to 4%)  \n",
    "\n",
    "Vegetation cover provides detail to the following Level 3 classes: cultivated terrestrial vegetation (111), natural terrestrial vegetation (112), and natural aquatic vegetation (124). "
   ]
  },
  {
   "cell_type": "code",
   "execution_count": null,
   "metadata": {},
   "outputs": [],
   "source": [
    "plot_land_cover(lc.vegetation_cover)"
   ]
  },
  {
   "cell_type": "markdown",
   "metadata": {},
   "source": [
    "#### Water seasonality\n",
    "\n",
    "Water seasonality describes the length of time an aquatic vegetated area was measured as being inundated.\n",
    "It is categorised as follows: \n",
    "\n",
    "* 0: No data or not an aquatic environment \n",
    "* 1: Semi-permanent or permanent (> 3 months)  \n",
    "* 2: Temporary or seasonal (< 3 months)  \n",
    "\n",
    "Water seasonality provides detail to the following Level 3 class: natural aquatic vegetation class (124)."
   ]
  },
  {
   "cell_type": "code",
   "execution_count": null,
   "metadata": {},
   "outputs": [],
   "source": [
    "plot_land_cover(lc.water_seasonality)"
   ]
  },
  {
   "cell_type": "markdown",
   "metadata": {},
   "source": [
    "As water seasonlity only relates to wet vegetation, it's hard to see the seasonality changes at this scale. \n",
    "We can easily 'zoom in' to see more detail. "
   ]
  },
  {
   "cell_type": "code",
   "execution_count": null,
   "metadata": {},
   "outputs": [],
   "source": [
    "plot_land_cover(lc.water_seasonality[:, 100:300, 400:600])"
   ]
  },
  {
   "cell_type": "markdown",
   "metadata": {},
   "source": [
    "#### Water state\n",
    "\n",
    "Water state describes whether the detected water is snow, ice or liquid water. \n",
    "It is categorised as follows:\n",
    "\n",
    "* 0: No data or not water \n",
    "* 1: Water \n",
    "    \n",
    "Water state provides detail to the following Level 3 class: water (220).\n",
    "\n",
    "> **Note:** Only liquid water is described in this release."
   ]
  },
  {
   "cell_type": "code",
   "execution_count": null,
   "metadata": {},
   "outputs": [],
   "source": [
    "plot_land_cover(lc.water_state)"
   ]
  },
  {
   "cell_type": "markdown",
   "metadata": {},
   "source": [
    "#### Intertidal \n",
    "\n",
    "Intertidal delineates the intertidal zone.\n",
    "It is categorised as follows:\n",
    "\n",
    "* 0: No data or not intertidal  \n",
    "* 3: Intertidal zone  \n",
    "\n",
    "Intertidal provides detail to the following Level 3 class: water (220). "
   ]
  },
  {
   "cell_type": "code",
   "execution_count": null,
   "metadata": {
    "tags": []
   },
   "outputs": [],
   "source": [
    "plot_land_cover(lc.intertidal)"
   ]
  },
  {
   "cell_type": "markdown",
   "metadata": {},
   "source": [
    "#### Water persistence \n",
    "\n",
    "Water persistence describes the number of months a water body contains water.\n",
    "It is categorised as follows:\n",
    "\n",
    "* 0: No data or not water\n",
    "* 1: > 9 months  \n",
    "* 7: 7-9 months  \n",
    "* 8: 4-6 months  \n",
    "* 9: 1-3 months  \n",
    "\n",
    "Water persistence provides detail to the following Level 3 class: water (220)."
   ]
  },
  {
   "cell_type": "code",
   "execution_count": null,
   "metadata": {},
   "outputs": [],
   "source": [
    "plot_land_cover(lc.water_persistence)"
   ]
  },
  {
   "cell_type": "markdown",
   "metadata": {},
   "source": [
    "#### Bare gradation\n",
    "\n",
    "Bare gradation describes the percentage of bare cover in naturally bare areas.\n",
    "It is categorised as follows: \n",
    "\n",
    "* 0: No data or not a natural bare surface\n",
    "* 10: Sparsely vegetated (< 20 % bare) \n",
    "* 12: Very sparsely vegetated (20 to 60 % bare) \n",
    "* 15: Bare areas, unvegetated (> 60 % bare)\n",
    "\n",
    "Bare gradation provides detail to the following Level 3 class: natural bare surface (216)."
   ]
  },
  {
   "cell_type": "code",
   "execution_count": null,
   "metadata": {},
   "outputs": [],
   "source": [
    "plot_land_cover(lc.bare_gradation)"
   ]
  },
  {
   "cell_type": "markdown",
   "metadata": {},
   "source": [
    "### Level 4 visualisation\n",
    "\n",
    "The Level 4 classification combines the Level 3 classes with the seven environmental descriptors. \n",
    "For the full list of classification values, visit [DEA Land Cover product details](https://cmi.ga.gov.au/data-products/dea/607/dea-land-cover-landsat#details)."
   ]
  },
  {
   "cell_type": "code",
   "execution_count": null,
   "metadata": {},
   "outputs": [],
   "source": [
    "plot_land_cover(lc.full_classification, year='2010')"
   ]
  },
  {
   "cell_type": "markdown",
   "metadata": {},
   "source": [
    "## Next steps\n",
    "\n",
    "There are several supplementary notebooks in this repository that demonstrate different DEA Land Cover data visualisation and analysis functions:\n",
    "\n",
    "* [<strong>DEA Land Cover animations</strong>](../Frequently_used_code/Animated_Land_Cover_plots.ipynb) – create customisable land cover animations, with the option to include an adjacent stacked line plot.\n",
    "* [<strong>DEA Land Cover pixel drill</strong>](../Scientific_workflows/Land_Cover/land_cover_pixel_drill.ipynb) – graph the history of a pixel by creating a pixel drill plot. \n",
    "* [<strong>DEA Land Cover change mapping</strong>](../Scientific_workflows/Land_Cover/land_cover_change_mapping.ipynb) – visualise change by creating a change map between 2 discrete years.  "
   ]
  },
  {
   "cell_type": "markdown",
   "metadata": {},
   "source": [
    "***\n",
    "\n",
    "## Additional information\n",
    "\n",
    "**License:** The code in this notebook is licensed under the [Apache License, Version 2.0](https://www.apache.org/licenses/LICENSE-2.0). \n",
    "Digital Earth Australia data is licensed under the [Creative Commons by Attribution 4.0](https://creativecommons.org/licenses/by/4.0/) license.\n",
    "\n",
    "**Contact:** If you need assistance, please post a question on the [Open Data Cube Slack channel](http://slack.opendatacube.org/) or on the [GIS Stack Exchange](https://gis.stackexchange.com/questions/ask?tags=open-data-cube) using the `open-data-cube` tag (you can view previously asked questions [here](https://gis.stackexchange.com/questions/tagged/open-data-cube)).\n",
    "If you would like to report an issue with this notebook, you can file one on [Github](https://github.com/GeoscienceAustralia/dea-notebooks).\n",
    "\n",
    "**Last modified:** February 2022\n",
    "\n",
    "**Compatible datacube version:** "
   ]
  },
  {
   "cell_type": "code",
   "execution_count": null,
   "metadata": {},
   "outputs": [],
   "source": [
    "print(datacube.__version__)"
   ]
  },
  {
   "cell_type": "markdown",
   "metadata": {},
   "source": [
    "## Tags\n",
    "Browse all available tags on the DEA User Guide's [Tags Index](https://docs.dea.ga.gov.au/genindex.html)"
   ]
  },
  {
   "cell_type": "raw",
   "metadata": {},
   "source": [
    "**Tags**: :index:`sandbox compatible`, :index:`landsat 5`, :index:`landsat 7`, :index:`landsat 8`, \n",
    ":index:`DEA Land Cover`, :index:`time series`, :index: `LCCS`, :index:`colour maps`, :index:`data visualisation`"
   ]
  },
  {
   "cell_type": "code",
   "execution_count": null,
   "metadata": {},
   "outputs": [],
   "source": []
  }
 ],
 "metadata": {
  "kernelspec": {
   "display_name": "Python 3 (ipykernel)",
   "language": "python",
   "name": "python3"
  },
  "language_info": {
   "codemirror_mode": {
    "name": "ipython",
    "version": 3
   },
   "file_extension": ".py",
   "mimetype": "text/x-python",
   "name": "python",
   "nbconvert_exporter": "python",
   "pygments_lexer": "ipython3",
   "version": "3.8.10"
  },
  "widgets": {
   "application/vnd.jupyter.widget-state+json": {
    "state": {},
    "version_major": 2,
    "version_minor": 0
   }
  }
 },
 "nbformat": 4,
 "nbformat_minor": 4
}
