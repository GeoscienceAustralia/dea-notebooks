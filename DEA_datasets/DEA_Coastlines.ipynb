{
 "cells": [
  {
   "cell_type": "markdown",
   "metadata": {},
   "source": [
    "# Introduction to DEA Coastlines <img align=\"right\" src=\"https://github.com/GeoscienceAustralia/dea-notebooks/raw/develop/Supplementary_data/dea_logo.jpg\">\n",
    "\n",
    "* [**Sign up to the DEA Sandbox**](https://docs.dea.ga.gov.au/setup/sandbox.html) to run this notebook interactively from a browser\n",
    "* **Compatibility:** Notebook currently compatible with both the `NCI` and `DEA Sandbox` environments\n",
    "* **Products used:** [DEA Coastlines](https://cmi.ga.gov.au/data-products/dea/581/dea-coastlines)\n",
    "\n",
    "## Background\n",
    "Australia has a highly dynamic coastline of over 30,000 km, with over 85% of its population living within 50 km of the coast. \n",
    "This coastline is subject to a wide range of pressures, including extreme weather and climate, sea level rise and human development. \n",
    "Understanding how the coastline responds to these pressures is crucial to managing this region, from social, environmental and economic perspectives. \n",
    "\n",
    "### What this product offers\n",
    "[Digital Earth Australia Coastlines](https://maps.dea.ga.gov.au/#share=s-DEACoastlines&playStory=1) is a continental dataset that includes annual shorelines and rates of coastal change along the entire Australian coastline from 1988 to the present. \n",
    "\n",
    "The product combines satellite data from Geoscience Australia's Digital Earth Australia program with tidal modelling to map the typical location of the coastline at mean sea level for each year. \n",
    "The product enables trends of coastal erosion and growth to be examined annually at both a local and continental scale, and for patterns of coastal change to be mapped historically and updated regularly as data continues to be acquired. \n",
    "This allows current rates of coastal change to be compared with that observed in previous years or decades. \n",
    "\n",
    "The ability to map shoreline positions for each year provides valuable insights into whether changes to our coastline are the result of particular events or actions, or a process of more gradual change over time. \n",
    "This information can enable scientists, managers and policy makers to assess impacts from the range of drivers impacting our coastlines and potentially assist planning and forecasting for future scenarios. \n",
    "\n",
    "### Applications\n",
    "* Monitoring and mapping rates of coastal erosion along the Australian coastline \n",
    "* Prioritise and evaluate the impacts of local and regional coastal management based on historical coastline change \n",
    "* Modelling how coastlines respond to drivers of change, including extreme weather events, sea level rise or human development \n",
    "* Supporting geomorphological studies of how and why coastlines have changed across time \n",
    "\n",
    "### Publications\n",
    "\n",
    "* Bishop-Taylor, R., Nanson, R., Sagar, S., Lymburner, L. (2021). Mapping Australia's dynamic coastline at mean sea level using three decades of Landsat imagery. *Remote Sensing of Environment*, 267, 112734. Available: https://doi.org/10.1016/j.rse.2021.112734\n",
    "* Bishop-Taylor, R., Sagar, S., Lymburner, L., Alam, I., & Sixsmith, J. (2019). Sub-pixel waterline extraction: Characterising accuracy and sensitivity to indices and spectra. *Remote Sensing*, 11(24), 2984. Available: https://www.mdpi.com/2072-4292/11/24/2984\n",
    "\n",
    "> **Note:** For more technical information about the DEA Coastlines product, visit the official Geoscience Australia [DEA Coastlines product description](https://cmi.ga.gov.au/data-products/dea/581/dea-coastlines).\n",
    "\n",
    "## Description\n",
    "\n",
    "This notebook will demonstrate how to load data from the [Digital Earth Australia Coastlines](https://cmi.ga.gov.au/data-products/dea/581/dea-coastlines) product using the Digital Earth Australia datacube. \n",
    "Topics covered include:\n",
    "\n",
    "1. Loading DEA Coastlines annual shoreline data using the `get_coastlines` function.\n",
    "1. Loading DEA Coastlines rates of change statistics data using the `get_coastlines` function.\n",
    "2. Extracting shoreline data for one or multiple coastal transects using an interactive DEA Coastlines application.\n",
    "\n",
    "***\n"
   ]
  },
  {
   "cell_type": "markdown",
   "metadata": {},
   "source": [
    "## Getting started\n",
    "\n",
    "To run this analysis, run all the cells in the notebook, starting with the \"Load packages\" cell."
   ]
  },
  {
   "cell_type": "markdown",
   "metadata": {},
   "source": [
    "### Load packages"
   ]
  },
  {
   "cell_type": "code",
   "execution_count": 1,
   "metadata": {},
   "outputs": [],
   "source": [
    "import geopandas as gpd\n",
    "import matplotlib.pyplot as plt\n",
    "\n",
    "import sys\n",
    "sys.path.insert(1, '../Tools/')\n",
    "from dea_tools.coastal import get_coastlines\n",
    "from dea_tools.app import deacoastlines\n"
   ]
  },
  {
   "cell_type": "markdown",
   "metadata": {},
   "source": [
    "## Loading DEA Coastlines data \n",
    "\n",
    "### Annual shorelines\n",
    "\n",
    "DEA Coastlines data can be loaded directly in a Python script or Jupyter Notebook using the DEA Coastlines Web Feature Service (WFS) and `geopandas`:\n"
   ]
  },
  {
   "cell_type": "code",
   "execution_count": null,
   "metadata": {},
   "outputs": [],
   "source": [
    "# Specify bounding box\n",
    "ymax, xmin = -33.65, 115.28\n",
    "ymin, xmax = -33.66, 115.30\n",
    "\n",
    "# Load DEA Coastlines annual shorelines data \n",
    "deacl_shorelines_gdf = get_coastlines(bbox=(xmin, ymin, xmax, ymax), \n",
    "                                      layer='shorelines')\n",
    "\n",
    "# Print example output\n",
    "deacl_shorelines_gdf.head()"
   ]
  },
  {
   "cell_type": "markdown",
   "metadata": {},
   "source": [
    "We can now plot the DEA Coastlines annual shoreline data using `geopandas`. \n",
    "Zoom in to **Bussleton** in Western Australia on the interactive map to view the shoreline data.\n",
    "\n",
    "Annual shorelines represent the median or 'most representative' position of the shoreline at approximately mean sea level tide (0 m Above Mean Sea Level) for each year from 1988 onward.\n",
    "Light-coloured lines (e.g. yellow) in the plot below represent recent shorelines (e.g. 2019), while dark-coloured lines represent older shorelines (e.g. 1988).\n",
    "\n",
    "> **Note:** For more detail about DEA Coastlines annual shoreline data, refer to the official Geoscience Australia [DEA Coastlines product description](https://cmi.ga.gov.au/data-products/dea/581/dea-coastlines#details)."
   ]
  },
  {
   "cell_type": "code",
   "execution_count": null,
   "metadata": {},
   "outputs": [],
   "source": [
    "# Plot on interactive map\n",
    "deacl_shorelines_gdf.explore(column='year', cmap='inferno', categorical=True)"
   ]
  },
  {
   "cell_type": "markdown",
   "metadata": {},
   "source": [
    "### Rates of change statistics points\n",
    "\n",
    "We can also load and plot the DEA Coastlines rates of change statistics points.\n",
    "These points provide robust rates of annual coastal change (in metres per year) for every 30 m along Australia's non-rocky (e.g. sandy and muddy) coastlines. \n",
    "These rates are calculated by linearly regressing annual shoreline positions against time, using the most recent shoreline as a baseline.\n",
    "\n",
    "Negative values (red points) indicate retreat (e.g. erosion), and positive values indicate growth (e.g. progradation) over time.\n",
    "By default, rates of change are shown for points with a statistically significant trend over time only.\n",
    "\n",
    "> **Note:** For more detail about DEA Coastlines rates of change statistics data, refer to the official Geoscience Australia [DEA Coastlines product description](https://cmi.ga.gov.au/data-products/dea/581/dea-coastlines#details)."
   ]
  },
  {
   "cell_type": "code",
   "execution_count": null,
   "metadata": {},
   "outputs": [],
   "source": [
    "# Load DEA Coastlines annual shorelines data\n",
    "deacl_statistics_gdf = get_coastlines(bbox=(xmin, ymin, xmax, ymax),\n",
    "                                      layer='statistics')\n",
    "\n",
    "# Filter points to statistically significant results only\n",
    "deacl_statistics_gdf = deacl_statistics_gdf.loc[\n",
    "    deacl_statistics_gdf.sig_time < 0.01]\n",
    "\n",
    "# Plot on interactive map\n",
    "deacl_statistics_gdf.explore(column='rate_time',\n",
    "                             cmap='RdBu',\n",
    "                             vmin=-3,\n",
    "                             vmax=3,\n",
    "                             tooltip='rate_time')"
   ]
  },
  {
   "cell_type": "markdown",
   "metadata": {},
   "source": [
    "The DEA Coastlines rates of change statistics points data also provides many additional statistics that give insights into coastal change in Australia.\n",
    "For a full description of each of these statistics, refer to the Rates of change statistics section of the official Geoscience Australia [DEA Coastlines product description](https://cmi.ga.gov.au/data-products/dea/581/dea-coastlines#details)."
   ]
  },
  {
   "cell_type": "code",
   "execution_count": null,
   "metadata": {},
   "outputs": [],
   "source": [
    "deacl_statistics_gdf.head()"
   ]
  },
  {
   "cell_type": "markdown",
   "metadata": {},
   "source": [
    "### Exporting DEA Coastlines data as vector files\n",
    "We can easily export the loaded data as spatial vector files (e.g. ESRI Shapefiles or GeoJSON) so that they can be analysed further in GIS software:"
   ]
  },
  {
   "cell_type": "code",
   "execution_count": null,
   "metadata": {},
   "outputs": [],
   "source": [
    "deacl_shorelines_gdf.to_file('deacoastlines_shorelines.shp')\n",
    "deacl_statistics_gdf.to_file('deacoastlines_statistics.shp')"
   ]
  },
  {
   "cell_type": "markdown",
   "metadata": {},
   "source": [
    "## DEA Coastlines analysis tools\n",
    "\n",
    "The following sections provide useful tools for analysing DEA Coastlines data directly within a Jupyter Notebook without needing to load the data into GIS software.\n",
    "All outputs from the tools below will be saved to a new folder in this directory called `deacoastlines_outputs`.\n",
    "\n",
    "### Extract shoreline data by coastal transect\n",
    "This tool allows you to interactively draw a transect over DEA Coastlines annual shoreline data, and get back a graph showing how shoreline positions have changed over time.\n",
    "To use the tool:\n",
    "\n",
    "1. Run the cell below; an interactive application will appear \n",
    "2. Zoom in on the map and use the `Draw a polyline` tool on the left to draw a transect so that it crosses through a set of shorelines from land to water. \n",
    "For example:\n",
    "\n",
    "![Transect example](../Supplementary_data/DEA_Coastlines/deacoastlines_transect.jpg)\n",
    "\n",
    "3. Press `Finish` when you are happy with the line, then click `Done` in the top right\n",
    "4. A graph will appear below the map showing distances along the transect to each annual shoreline (distances will be measured from the start of the transect line you drew above)\n",
    "\n",
    "> **Optional:** Set `transect_mode='width'` and re-run the cell below to measure the width between two adjacent sets of coastlines (e.g. across the neck of a tombolo or sandbar)\n",
    "\n",
    "> **Optional:** Upload a GeoJSON or ESRI Shapefile containing transects using the `Upload` button to automatically extract shoreline positions from multiple coastal transects (uploaded files should be less than 5 megabytes in size)."
   ]
  },
  {
   "cell_type": "code",
   "execution_count": null,
   "metadata": {},
   "outputs": [],
   "source": [
    "deacoastlines.transect_app()\n"
   ]
  },
  {
   "cell_type": "markdown",
   "metadata": {},
   "source": [
    "The resulting figure shows how coastlines have moved over time relative to the starting point of the transect.\n",
    "Time is shown on the y-axis, while distance along the transect (or width if using `transect_mode='width'`) is shown on the x-axis. "
   ]
  },
  {
   "cell_type": "markdown",
   "metadata": {},
   "source": [
    "## Next steps: coastline erosion notebook\n",
    "\n",
    "The [Coastal erosion notebook](../Real_world_examples/Coastal_erosion.ipynb) in this repository provides a simplified example of the method used to extract DEA Coastlines annual shoreline data. \n",
    "Run this notebook if you would like to generate more customised coastlines for a specific location, time period, epoch (e.g. annual or biennial coastlines) or tidal range (e.g. the position of the coastline at low, mid  or high tide).\n",
    "\n",
    "> **Note:** This notebook currently supports extracting coastline data only, not generating rates of change statistics like those included in the DEA Coastlines product."
   ]
  },
  {
   "cell_type": "markdown",
   "metadata": {},
   "source": [
    "---\n",
    "\n",
    "## Additional information\n",
    "\n",
    "**License:** The code in this notebook is licensed under the [Apache License, Version 2.0](https://www.apache.org/licenses/LICENSE-2.0). \n",
    "Digital Earth Australia data is licensed under the [Creative Commons by Attribution 4.0](https://creativecommons.org/licenses/by/4.0/) license.\n",
    "\n",
    "**Contact:** If you need assistance, please post a question on the [Open Data Cube Slack channel](http://slack.opendatacube.org/) or on the [GIS Stack Exchange](https://gis.stackexchange.com/questions/ask?tags=open-data-cube) using the `open-data-cube` tag (you can view previously asked questions [here](https://gis.stackexchange.com/questions/tagged/open-data-cube)).\n",
    "If you would like to report an issue with this notebook, you can file one on [Github](https://github.com/GeoscienceAustralia/dea-notebooks).\n",
    "\n",
    "**Last modified:** January 2022"
   ]
  },
  {
   "cell_type": "markdown",
   "metadata": {},
   "source": [
    "## Tags\n",
    "Browse all available tags on the DEA User Guide's [Tags Index](https://docs.dea.ga.gov.au/genindex.html)"
   ]
  },
  {
   "cell_type": "raw",
   "metadata": {
    "raw_mimetype": "text/restructuredtext"
   },
   "source": [
    "**Tags**: :index:`NCI compatible`, :index:`sandbox compatible`, :index:`DEA Coastlines`, :index:`coastal erosion`, :index:`widgets`, :index:`ipyleaflet`, :index:`geopandas`, :index:`WFS`, :index:`dea datasets`, :index:`no_testing`"
   ]
  }
 ],
 "metadata": {
  "kernelspec": {
   "display_name": "Python 3 (ipykernel)",
   "language": "python",
   "name": "python3"
  },
  "language_info": {
   "codemirror_mode": {
    "name": "ipython",
    "version": 3
   },
   "file_extension": ".py",
   "mimetype": "text/x-python",
   "name": "python",
   "nbconvert_exporter": "python",
   "pygments_lexer": "ipython3",
   "version": "3.8.10"
  },
  "widgets": {
   "application/vnd.jupyter.widget-state+json": {
    "state": {},
    "version_major": 2,
    "version_minor": 0
   }
  }
 },
 "nbformat": 4,
 "nbformat_minor": 4
}
