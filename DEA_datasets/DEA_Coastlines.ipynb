{
 "cells": [
  {
   "cell_type": "markdown",
   "metadata": {},
   "source": [
    "# Introduction to DEA Coastlines <img align=\"right\" src=\"https://github.com/GeoscienceAustralia/dea-notebooks/raw/develop/Supplementary_data/dea_logo.jpg\">\n",
    "\n",
    "* [**Sign up to the DEA Sandbox**](https://docs.dea.ga.gov.au/setup/sandbox.html) to run this notebook interactively from a browser\n",
    "* **Compatibility:** Notebook currently compatible with both the `NCI` and `DEA Sandbox` environments\n",
    "* **Products used:** [DEA Coastlines](https://cmi.ga.gov.au/data-products/dea/581/dea-coastlines)\n",
    "\n",
    "## Background\n",
    "Australia has a highly dynamic coastline of over 30,000 km, with over 85% of its population living within 50 km of the coast. \n",
    "This coastline is subject to a wide range of pressures, including extreme weather and climate, sea level rise and human development. \n",
    "Understanding how the coastline responds to these pressures is crucial to managing this region, from social, environmental and economic perspectives. \n",
    "\n",
    "### What this product offers\n",
    "[Digital Earth Australia Coastlines](https://maps.dea.ga.gov.au/#share=s-DEACoastlines&playStory=1) is a continental dataset that includes annual shorelines and rates of coastal change along the entire Australian coastline from 1988 to the present. \n",
    "\n",
    "The product combines satellite data from Geoscience Australia's Digital Earth Australia program with tidal modelling to map the typical location of the coastline at mean sea level for each year. \n",
    "The product enables trends of coastal erosion and growth to be examined annually at both a local and continental scale, and for patterns of coastal change to be mapped historically and updated regularly as data continues to be acquired. \n",
    "This allows current rates of coastal change to be compared with that observed in previous years or decades. \n",
    "\n",
    "The ability to map shoreline positions for each year provides valuable insights into whether changes to our coastline are the result of particular events or actions, or a process of more gradual change over time. \n",
    "This information can enable scientists, managers and policy makers to assess impacts from the range of drivers impacting our coastlines and potentially assist planning and forecasting for future scenarios. \n",
    "\n",
    "### Applications\n",
    "* Monitoring and mapping rates of coastal erosion along the Australian coastline \n",
    "* Prioritise and evaluate the impacts of local and regional coastal management based on historical coastline change \n",
    "* Modelling how coastlines respond to drivers of change, including extreme weather events, sea level rise or human development \n",
    "* Supporting geomorphological studies of how and why coastlines have changed across time \n",
    "\n",
    "### Publications\n",
    "* Bishop-Taylor, R., Sagar, S., Lymburner, L., Alam, I., & Sixsmith, J. (2019). Sub-pixel waterline extraction: Characterising accuracy and sensitivity to indices and spectra. *Remote Sensing*, 11(24), 2984. Available: https://www.mdpi.com/2072-4292/11/24/2984\n",
    "\n",
    "> **Note:** For more technical information about the DEA Coastlines product, visit the official Geoscience Australia [DEA Coastlines product description](https://cmi.ga.gov.au/data-products/dea/581/dea-coastlines).\n",
    "\n",
    "## Description\n",
    "\n",
    "This notebook will demonstrate how to load data from the [Digital Earth Australia Coastlines](https://cmi.ga.gov.au/data-products/dea/581/dea-coastlines) product using the Digital Earth Australia datacube. \n",
    "Topics covered include:\n",
    "\n",
    "1. Loading DEA Coastlines data in a Jupyter notebook or Python using the DEA Coastlines Web Feature Service (WFS)\n",
    "2. Interactively drawing a transect across DEA Coastlines annual coastlines and generating a plot of coastal change through time\n",
    "3. Interactively plotting the distribution of retreating and growing coastlines within a selected region\n",
    "\n",
    "***\n"
   ]
  },
  {
   "cell_type": "markdown",
   "metadata": {},
   "source": [
    "## Getting started\n",
    "\n",
    "To run this analysis, run all the cells in the notebook, starting with the \"Load packages\" cell."
   ]
  },
  {
   "cell_type": "markdown",
   "metadata": {},
   "source": [
    "### Load packages"
   ]
  },
  {
   "cell_type": "code",
   "execution_count": 1,
   "metadata": {},
   "outputs": [
    {
     "name": "stderr",
     "output_type": "stream",
     "text": [
      "/env/lib/python3.8/site-packages/geopandas/_compat.py:106: UserWarning: The Shapely GEOS version (3.8.0-CAPI-1.13.1 ) is incompatible with the GEOS version PyGEOS was compiled with (3.9.1-CAPI-1.14.2). Conversions between both will be slow.\n",
      "  warnings.warn(\n"
     ]
    }
   ],
   "source": [
    "import geopandas as gpd\n",
    "import matplotlib.pyplot as plt\n",
    "\n",
    "import sys\n",
    "sys.path.insert(1, '../Tools/')\n",
    "from dea_tools.coastal import deacoastlines_transect, deacoastlines_histogram\n"
   ]
  },
  {
   "cell_type": "markdown",
   "metadata": {},
   "source": [
    "## Loading DEA Coastlines data using Web Feature Service (WFS)\n",
    "\n",
    "DEA Coastlines data can be loaded directly in a Python script or Jupyter Notebook using the DEA Coastlines Web Feature Service (WFS) and `geopandas`:\n"
   ]
  },
  {
   "cell_type": "code",
   "execution_count": 2,
   "metadata": {},
   "outputs": [
    {
     "data": {
      "text/html": [
       "<div>\n",
       "<style scoped>\n",
       "    .dataframe tbody tr th:only-of-type {\n",
       "        vertical-align: middle;\n",
       "    }\n",
       "\n",
       "    .dataframe tbody tr th {\n",
       "        vertical-align: top;\n",
       "    }\n",
       "\n",
       "    .dataframe thead th {\n",
       "        text-align: right;\n",
       "    }\n",
       "</style>\n",
       "<table border=\"1\" class=\"dataframe\">\n",
       "  <thead>\n",
       "    <tr style=\"text-align: right;\">\n",
       "      <th></th>\n",
       "      <th>gml_id</th>\n",
       "      <th>year</th>\n",
       "      <th>certainty</th>\n",
       "      <th>wms_good</th>\n",
       "      <th>wms_tidal</th>\n",
       "      <th>wms_nodata</th>\n",
       "      <th>wms_aero</th>\n",
       "      <th>geometry</th>\n",
       "    </tr>\n",
       "  </thead>\n",
       "  <tbody>\n",
       "    <tr>\n",
       "      <th>0</th>\n",
       "      <td>coastlines.649</td>\n",
       "      <td>1988</td>\n",
       "      <td>good</td>\n",
       "      <td>1.0</td>\n",
       "      <td>0.0</td>\n",
       "      <td>0.0</td>\n",
       "      <td>0.0</td>\n",
       "      <td>MULTILINESTRING ((-1515202.601 -3750001.375, -...</td>\n",
       "    </tr>\n",
       "    <tr>\n",
       "      <th>1</th>\n",
       "      <td>coastlines.650</td>\n",
       "      <td>1989</td>\n",
       "      <td>good</td>\n",
       "      <td>1.0</td>\n",
       "      <td>0.0</td>\n",
       "      <td>0.0</td>\n",
       "      <td>0.0</td>\n",
       "      <td>MULTILINESTRING ((-1515192.442 -3750001.375, -...</td>\n",
       "    </tr>\n",
       "    <tr>\n",
       "      <th>2</th>\n",
       "      <td>coastlines.651</td>\n",
       "      <td>1990</td>\n",
       "      <td>good</td>\n",
       "      <td>1.0</td>\n",
       "      <td>0.0</td>\n",
       "      <td>0.0</td>\n",
       "      <td>0.0</td>\n",
       "      <td>MULTILINESTRING ((-1515203.093 -3750001.375, -...</td>\n",
       "    </tr>\n",
       "    <tr>\n",
       "      <th>3</th>\n",
       "      <td>coastlines.652</td>\n",
       "      <td>1991</td>\n",
       "      <td>good</td>\n",
       "      <td>1.0</td>\n",
       "      <td>0.0</td>\n",
       "      <td>0.0</td>\n",
       "      <td>0.0</td>\n",
       "      <td>MULTILINESTRING ((-1515210.973 -3750001.375, -...</td>\n",
       "    </tr>\n",
       "    <tr>\n",
       "      <th>4</th>\n",
       "      <td>coastlines.653</td>\n",
       "      <td>1992</td>\n",
       "      <td>good</td>\n",
       "      <td>1.0</td>\n",
       "      <td>0.0</td>\n",
       "      <td>0.0</td>\n",
       "      <td>0.0</td>\n",
       "      <td>MULTILINESTRING ((-1515205.692 -3750001.375, -...</td>\n",
       "    </tr>\n",
       "  </tbody>\n",
       "</table>\n",
       "</div>"
      ],
      "text/plain": [
       "           gml_id  year certainty  wms_good  wms_tidal  wms_nodata  wms_aero  \\\n",
       "0  coastlines.649  1988      good       1.0        0.0         0.0       0.0   \n",
       "1  coastlines.650  1989      good       1.0        0.0         0.0       0.0   \n",
       "2  coastlines.651  1990      good       1.0        0.0         0.0       0.0   \n",
       "3  coastlines.652  1991      good       1.0        0.0         0.0       0.0   \n",
       "4  coastlines.653  1992      good       1.0        0.0         0.0       0.0   \n",
       "\n",
       "                                            geometry  \n",
       "0  MULTILINESTRING ((-1515202.601 -3750001.375, -...  \n",
       "1  MULTILINESTRING ((-1515192.442 -3750001.375, -...  \n",
       "2  MULTILINESTRING ((-1515203.093 -3750001.375, -...  \n",
       "3  MULTILINESTRING ((-1515210.973 -3750001.375, -...  \n",
       "4  MULTILINESTRING ((-1515205.692 -3750001.375, -...  "
      ]
     },
     "execution_count": 2,
     "metadata": {},
     "output_type": "execute_result"
    }
   ],
   "source": [
    "# Specify bounding box\n",
    "ymax, xmin = -33.65, 115.28\n",
    "ymin, xmax = -33.66, 115.30\n",
    "\n",
    "# Set up WFS requests for annual coastlines & rates of change statistics\n",
    "deacl_coastlines_wfs = f'https://geoserver.dea.ga.gov.au/geoserver/wfs?' \\\n",
    "                       f'service=WFS&version=1.1.0&request=GetFeature' \\\n",
    "                       f'&typeName=dea:coastlines&maxFeatures=1000' \\\n",
    "                       f'&bbox={ymin},{xmin},{ymax},{xmax},' \\\n",
    "                       f'urn:ogc:def:crs:EPSG:4326'\n",
    "deacl_statistics_wfs = f'https://geoserver.dea.ga.gov.au/geoserver/wfs?' \\\n",
    "                       f'service=WFS&version=1.1.0&request=GetFeature' \\\n",
    "                       f'&typeName=dea:coastlines_statistics&maxFeatures=1000' \\\n",
    "                       f'&bbox={ymin},{xmin},{ymax},{xmax},' \\\n",
    "                       f'urn:ogc:def:crs:EPSG:4326'\n",
    "\n",
    "# Load DEA Coastlines data from WFS using geopandas\n",
    "deacl_coastlines_gdf = gpd.read_file(deacl_coastlines_wfs)\n",
    "deacl_statistics_gdf = gpd.read_file(deacl_statistics_wfs)\n",
    "\n",
    "# Ensure CRSs are set correctly\n",
    "deacl_coastlines_gdf.crs = 'EPSG:3577'\n",
    "deacl_statistics_gdf.crs = 'EPSG:3577'\n",
    "\n",
    "# Print example output\n",
    "deacl_coastlines_gdf.head()"
   ]
  },
  {
   "cell_type": "markdown",
   "metadata": {},
   "source": [
    "We can now plot the DEA Coastlines annual coastlines data using `geopandas`. \n",
    "Annual coastlines represent the median or 'typical' position of the coastline at approximately mean sea level tide (0 m AHD) for each year from 1988 to 2019.\n",
    "Light-coloured lines (e.g. yellow) in the plot below represent recent coastlines (e.g. 2019), while dark-coloured lines represent older coastlines (e.g. 1988).\n",
    "\n",
    "> **Note:** For more detail about DEA Coastlines annual coastline data, refer to the official Geoscience Australia [DEA Coastlines product description](https://cmi.ga.gov.au/data-products/dea/581/dea-coastlines#details)."
   ]
  },
  {
   "cell_type": "code",
   "execution_count": 3,
   "metadata": {},
   "outputs": [
    {
     "data": {
      "text/plain": [
       "(-3773089.14767009, -3772679.86290387)"
      ]
     },
     "execution_count": 3,
     "metadata": {},
     "output_type": "execute_result"
    },
    {
     "data": {
      "image/png": "[encoded data removed]",
      "text/plain": [
       "<Figure size 1152x252 with 2 Axes>"
      ]
     },
     "metadata": {
      "needs_background": "light"
     },
     "output_type": "display_data"
    }
   ],
   "source": [
    "# Set year data to integers to allow plotting with a simple colourbar\n",
    "fig, ax = plt.subplots(figsize=(16, 3.5))\n",
    "deacl_coastlines_gdf['year'] = deacl_coastlines_gdf.year.astype(int)\n",
    "deacl_coastlines_gdf.plot(ax=ax, column='year', \n",
    "                          cmap='inferno', \n",
    "                          legend=True,\n",
    "                          legend_kwds={'label': 'Annual coastline'})\n",
    "\n",
    "# Set plot limits to extent of statistics points\n",
    "bounds = deacl_statistics_gdf.geometry.total_bounds\n",
    "ax.set_xlim(bounds[[0, 2]])\n",
    "ax.set_ylim(bounds[[1, 3]])"
   ]
  },
  {
   "cell_type": "markdown",
   "metadata": {},
   "source": [
    "We can also plot the DEA Coastlines rates of change statistics points.\n",
    "These points provide robust rates of annual coastal change (in metres per year) for every 30 m along Australia's non-rocky (clastic) coastlines. \n",
    "These rates are calculated by linearly regressing annual coastline distances against time, using the most recent 2019 coastline as a baseline.\n",
    "\n",
    "Negative values (red points) indicate retreat (e.g. erosion), and positive values indicate growth (e.g. progradation) over time.\n",
    "By default, rates of change are shown for points with a statistically significant trend over time only.\n",
    "\n",
    "> **Note:** For more detail about DEA Coastlines rates of change statistics data, refer to the official Geoscience Australia [DEA Coastlines product description](https://cmi.ga.gov.au/data-products/dea/581/dea-coastlines#details).\n",
    "\n"
   ]
  },
  {
   "cell_type": "code",
   "execution_count": 4,
   "metadata": {},
   "outputs": [
    {
     "data": {
      "image/png": "[encoded data removed]",
      "text/plain": [
       "<Figure size 1152x252 with 2 Axes>"
      ]
     },
     "metadata": {
      "needs_background": "light"
     },
     "output_type": "display_data"
    }
   ],
   "source": [
    "# Filter points to statistically significant results only\n",
    "deacl_statistics_gdf = deacl_statistics_gdf.loc[\n",
    "    deacl_statistics_gdf.sig_time < 0.01]\n",
    "\n",
    "# Plot data\n",
    "fig, ax = plt.subplots(figsize=(16, 3.5))\n",
    "deacl_statistics_gdf.plot(\n",
    "    ax=ax,\n",
    "    column='rate_time',\n",
    "    cmap='RdBu',\n",
    "    vmin=-3,\n",
    "    vmax=3,\n",
    "    legend=True,\n",
    "    legend_kwds={'label': 'Rate of change (metres / year)'})\n",
    "ax.set_title('Rate of change statistics points');"
   ]
  },
  {
   "cell_type": "markdown",
   "metadata": {},
   "source": [
    "The DEA Coastlines rates of change statistics points data also provides many additional statistics that give insights into coastal change in Australia.\n",
    "For a full description of each of these statistics, refer to the Rates of change statistics section of the official Geoscience Australia [DEA Coastlines product description](https://cmi.ga.gov.au/data-products/dea/581/dea-coastlines#details)."
   ]
  },
  {
   "cell_type": "code",
   "execution_count": 5,
   "metadata": {},
   "outputs": [
    {
     "data": {
      "text/html": [
       "<div>\n",
       "<style scoped>\n",
       "    .dataframe tbody tr th:only-of-type {\n",
       "        vertical-align: middle;\n",
       "    }\n",
       "\n",
       "    .dataframe tbody tr th {\n",
       "        vertical-align: top;\n",
       "    }\n",
       "\n",
       "    .dataframe thead th {\n",
       "        text-align: right;\n",
       "    }\n",
       "</style>\n",
       "<table border=\"1\" class=\"dataframe\">\n",
       "  <thead>\n",
       "    <tr style=\"text-align: right;\">\n",
       "      <th></th>\n",
       "      <th>gml_id</th>\n",
       "      <th>rate_time</th>\n",
       "      <th>sig_time</th>\n",
       "      <th>se_time</th>\n",
       "      <th>outl_time</th>\n",
       "      <th>rate_soi</th>\n",
       "      <th>sig_soi</th>\n",
       "      <th>se_soi</th>\n",
       "      <th>outl_soi</th>\n",
       "      <th>dist_1988</th>\n",
       "      <th>...</th>\n",
       "      <th>growth</th>\n",
       "      <th>sce</th>\n",
       "      <th>nsm</th>\n",
       "      <th>max_year</th>\n",
       "      <th>min_year</th>\n",
       "      <th>breaks</th>\n",
       "      <th>abs_time</th>\n",
       "      <th>conf_time</th>\n",
       "      <th>conf_soi</th>\n",
       "      <th>geometry</th>\n",
       "    </tr>\n",
       "  </thead>\n",
       "  <tbody>\n",
       "    <tr>\n",
       "      <th>0</th>\n",
       "      <td>coastlines_statistics.45234</td>\n",
       "      <td>1.72</td>\n",
       "      <td>0.0</td>\n",
       "      <td>0.08</td>\n",
       "      <td>None</td>\n",
       "      <td>2.42</td>\n",
       "      <td>0.561</td>\n",
       "      <td>4.11</td>\n",
       "      <td>None</td>\n",
       "      <td>-52.32</td>\n",
       "      <td>...</td>\n",
       "      <td>1.0</td>\n",
       "      <td>55.78</td>\n",
       "      <td>52.32</td>\n",
       "      <td>2018.0</td>\n",
       "      <td>1990.0</td>\n",
       "      <td>1997</td>\n",
       "      <td>1.72</td>\n",
       "      <td>0.16</td>\n",
       "      <td>8.06</td>\n",
       "      <td>MULTIPOINT (-1535407.284 -3772679.863)</td>\n",
       "    </tr>\n",
       "    <tr>\n",
       "      <th>1</th>\n",
       "      <td>coastlines_statistics.45235</td>\n",
       "      <td>1.95</td>\n",
       "      <td>0.0</td>\n",
       "      <td>0.08</td>\n",
       "      <td>None</td>\n",
       "      <td>2.74</td>\n",
       "      <td>0.558</td>\n",
       "      <td>4.63</td>\n",
       "      <td>None</td>\n",
       "      <td>-56.78</td>\n",
       "      <td>...</td>\n",
       "      <td>1.0</td>\n",
       "      <td>59.99</td>\n",
       "      <td>56.78</td>\n",
       "      <td>2018.0</td>\n",
       "      <td>1990.0</td>\n",
       "      <td>1998</td>\n",
       "      <td>1.95</td>\n",
       "      <td>0.16</td>\n",
       "      <td>9.07</td>\n",
       "      <td>MULTIPOINT (-1535437.029 -3772682.064)</td>\n",
       "    </tr>\n",
       "    <tr>\n",
       "      <th>2</th>\n",
       "      <td>coastlines_statistics.45236</td>\n",
       "      <td>2.12</td>\n",
       "      <td>0.0</td>\n",
       "      <td>0.08</td>\n",
       "      <td>None</td>\n",
       "      <td>3.28</td>\n",
       "      <td>0.516</td>\n",
       "      <td>4.99</td>\n",
       "      <td>None</td>\n",
       "      <td>-59.11</td>\n",
       "      <td>...</td>\n",
       "      <td>1.0</td>\n",
       "      <td>61.54</td>\n",
       "      <td>59.11</td>\n",
       "      <td>2018.0</td>\n",
       "      <td>1990.0</td>\n",
       "      <td>1999</td>\n",
       "      <td>2.12</td>\n",
       "      <td>0.16</td>\n",
       "      <td>9.78</td>\n",
       "      <td>MULTIPOINT (-1535466.755 -3772684.470)</td>\n",
       "    </tr>\n",
       "    <tr>\n",
       "      <th>3</th>\n",
       "      <td>coastlines_statistics.45237</td>\n",
       "      <td>2.19</td>\n",
       "      <td>0.0</td>\n",
       "      <td>0.08</td>\n",
       "      <td>None</td>\n",
       "      <td>3.84</td>\n",
       "      <td>0.463</td>\n",
       "      <td>5.16</td>\n",
       "      <td>None</td>\n",
       "      <td>-61.23</td>\n",
       "      <td>...</td>\n",
       "      <td>1.0</td>\n",
       "      <td>62.04</td>\n",
       "      <td>61.23</td>\n",
       "      <td>2018.0</td>\n",
       "      <td>1988.0</td>\n",
       "      <td>1999</td>\n",
       "      <td>2.19</td>\n",
       "      <td>0.16</td>\n",
       "      <td>10.11</td>\n",
       "      <td>MULTIPOINT (-1535496.447 -3772687.286)</td>\n",
       "    </tr>\n",
       "    <tr>\n",
       "      <th>4</th>\n",
       "      <td>coastlines_statistics.45238</td>\n",
       "      <td>2.17</td>\n",
       "      <td>0.0</td>\n",
       "      <td>0.10</td>\n",
       "      <td>None</td>\n",
       "      <td>4.36</td>\n",
       "      <td>0.402</td>\n",
       "      <td>5.14</td>\n",
       "      <td>None</td>\n",
       "      <td>-58.52</td>\n",
       "      <td>...</td>\n",
       "      <td>1.0</td>\n",
       "      <td>60.87</td>\n",
       "      <td>58.52</td>\n",
       "      <td>2018.0</td>\n",
       "      <td>1990.0</td>\n",
       "      <td>2001</td>\n",
       "      <td>2.17</td>\n",
       "      <td>0.20</td>\n",
       "      <td>10.07</td>\n",
       "      <td>MULTIPOINT (-1535526.030 -3772690.977)</td>\n",
       "    </tr>\n",
       "  </tbody>\n",
       "</table>\n",
       "<p>5 rows × 52 columns</p>\n",
       "</div>"
      ],
      "text/plain": [
       "                        gml_id  rate_time  sig_time  se_time outl_time  \\\n",
       "0  coastlines_statistics.45234       1.72       0.0     0.08      None   \n",
       "1  coastlines_statistics.45235       1.95       0.0     0.08      None   \n",
       "2  coastlines_statistics.45236       2.12       0.0     0.08      None   \n",
       "3  coastlines_statistics.45237       2.19       0.0     0.08      None   \n",
       "4  coastlines_statistics.45238       2.17       0.0     0.10      None   \n",
       "\n",
       "   rate_soi  sig_soi  se_soi outl_soi  dist_1988  ...  growth    sce    nsm  \\\n",
       "0      2.42    0.561    4.11     None     -52.32  ...     1.0  55.78  52.32   \n",
       "1      2.74    0.558    4.63     None     -56.78  ...     1.0  59.99  56.78   \n",
       "2      3.28    0.516    4.99     None     -59.11  ...     1.0  61.54  59.11   \n",
       "3      3.84    0.463    5.16     None     -61.23  ...     1.0  62.04  61.23   \n",
       "4      4.36    0.402    5.14     None     -58.52  ...     1.0  60.87  58.52   \n",
       "\n",
       "   max_year  min_year  breaks  abs_time  conf_time  conf_soi  \\\n",
       "0    2018.0    1990.0    1997      1.72       0.16      8.06   \n",
       "1    2018.0    1990.0    1998      1.95       0.16      9.07   \n",
       "2    2018.0    1990.0    1999      2.12       0.16      9.78   \n",
       "3    2018.0    1988.0    1999      2.19       0.16     10.11   \n",
       "4    2018.0    1990.0    2001      2.17       0.20     10.07   \n",
       "\n",
       "                                 geometry  \n",
       "0  MULTIPOINT (-1535407.284 -3772679.863)  \n",
       "1  MULTIPOINT (-1535437.029 -3772682.064)  \n",
       "2  MULTIPOINT (-1535466.755 -3772684.470)  \n",
       "3  MULTIPOINT (-1535496.447 -3772687.286)  \n",
       "4  MULTIPOINT (-1535526.030 -3772690.977)  \n",
       "\n",
       "[5 rows x 52 columns]"
      ]
     },
     "execution_count": 5,
     "metadata": {},
     "output_type": "execute_result"
    }
   ],
   "source": [
    "deacl_statistics_gdf.head()"
   ]
  },
  {
   "cell_type": "markdown",
   "metadata": {},
   "source": [
    "### Exporting DEA Coastlines data as vector files\n",
    "We can easily export the loaded data as spatial vector files (e.g. ESRI Shapefiles or GeoJSON) so that they can be analysed further in GIS software:"
   ]
  },
  {
   "cell_type": "code",
   "execution_count": 6,
   "metadata": {},
   "outputs": [],
   "source": [
    "deacl_coastlines_gdf.to_file('deacoastlines_coastlines.shp')\n",
    "deacl_statistics_gdf.to_file('deacoastlines_statistics.shp')"
   ]
  },
  {
   "cell_type": "markdown",
   "metadata": {},
   "source": [
    "## DEA Coastlines analysis tools\n",
    "\n",
    "The following sections provide useful tools for analysing DEA Coastlines data directly within a Jupyter Notebook without needing to load the data into GIS software.\n",
    "All outputs from the tools below will be saved to a new folder in this directory called `deacoastlines_outputs`.\n",
    "\n",
    "### Interactive profile selection\n",
    "This tool allows you to interactively draw a transect over DEA Coastlines annual shoreline data, and get back a table and graph showing how shoreline positions have changed over time.\n",
    "To use the tool:\n",
    "\n",
    "1. Run the cell below; an interactive map will appear \n",
    "2. Zoom in and use the `Draw a polyline` tool on the left to draw a transect so that it crosses through a set of coastlines (transects are limited to 50 km in length). \n",
    "For example:\n",
    "\n",
    "![Transect example](../Supplementary_data/DEA_Coastlines/deacoastlines_transect.jpg)\n",
    "\n",
    "3. Press `Finish` when you are happy with the line, then click `Done` in the top right\n",
    "4. A graph will appear below the map showing distances along the transect to each annual coastline (distances will be measured from the start of the transect line you drew above)\n",
    "\n",
    "> **Optional:** Set `transect_mode='width'` and re-run the cell below to measure the width between two adjacent sets of coastlines (e.g. across the next of a tombolo or sandbar)\n",
    "\n",
    "> **Optional:** By default, this tool will export a set of output datasets and figures into a new folder in this directory called `deacoastlines_outputs` unless the `export_*` parameters below are set to `False`. These outputs include:\n",
    "> * `export_transect_data`: A CSV file containing the data (i.e. years and distances) extracted for the transect\n",
    "> * `export_transect`: Vector files in ESRI Shapefile and GeoJSON format for the transect line feature\n",
    "> * `export_figure`: A PNG image file for the transect figure generated by the tool"
   ]
  },
  {
   "cell_type": "code",
   "execution_count": 7,
   "metadata": {},
   "outputs": [
    {
     "data": {
      "application/vnd.jupyter.widget-view+json": {
       "model_id": "8214c832f16040009f2d31ef73c18e3e",
       "version_major": 2,
       "version_minor": 0
      },
      "text/plain": [
       "Map(center=[-26, 135], controls=(ZoomControl(options=['position', 'zoom_in_text', 'zoom_in_title', 'zoom_out_t…"
      ]
     },
     "metadata": {},
     "output_type": "display_data"
    },
    {
     "name": "stdout",
     "output_type": "stream",
     "text": [
      "Loading DEA Coastlines data...\n",
      "\n",
      "Exporting transect data to:\n",
      "    deacoastlines_outputs/deacoastlines_transect_131.870_-12.221.csv\n",
      "\n",
      "Exporting transect vectors to:\n",
      "    deacoastlines_outputs/deacoastlines_transect_131.870_-12.221.shp\n",
      "    deacoastlines_outputs/deacoastlines_transect_131.870_-12.221.geojson\n",
      "\n",
      "Exporting transect figure to:\n",
      "    deacoastlines_outputs/deacoastlines_transect_131.870_-12.221.png\n",
      "\n"
     ]
    },
    {
     "data": {
      "image/png": "[encoded data removed]",
      "text/plain": [
       "<Figure size 360x576 with 1 Axes>"
      ]
     },
     "metadata": {
      "needs_background": "light"
     },
     "output_type": "display_data"
    }
   ],
   "source": [
    "df = deacoastlines_transect(transect_mode='distance',\n",
    "                            export_transect_data=True,\n",
    "                            export_transect=True,\n",
    "                            export_figure=True)\n"
   ]
  },
  {
   "cell_type": "markdown",
   "metadata": {},
   "source": [
    "The resulting figure shows how coastlines have moved over time relative to the starting point of the transect.\n",
    "Time is shown on the y-axis, while distance along the transect (or width if using `transect_mode='width'`) is shown on the x-axis. "
   ]
  },
  {
   "cell_type": "markdown",
   "metadata": {},
   "source": [
    "### Statistics point histogram analysis\n",
    "This tool allows you to draw a polygon or rectangle around DEA Coastlines rates of change statistics points, and get back a histogram showing the distribution of growing or retreating points.\n",
    "To use the tool:\n",
    "\n",
    "1. Run the cell below; an interactive map will appear \n",
    "2. Use the `Draw a polygon` or `Draw a rectangle` tools on the left to select a region (regions are limited to an area of `100,000 sq km`).\n",
    "For example:\n",
    "\n",
    "![Histogram selection example](../Supplementary_data/DEA_Coastlines/deacoastlines_histogram.jpg)\n",
    "\n",
    "3. Press `Done` in the top right when ready\n",
    "4. A histogram plot will appear below the map\n",
    "\n",
    "> **Optional:** Instead of using the interactive map, supply a path to a vector file using the `extent_path` parameter (e.g. `extent_path='study_area.shp`). \n",
    "If this option is selected, you can also supply a column name in the dataset to `extent_id_col` which will be used to name the output files (e.g. `extent_id_col='compartment_id'`).\n",
    "To revert to the interactive map, set `extent_path=None`.\n",
    "\n",
    "> **Optional:** Set `hist_log=True` and re-run the cell below to generate a log-scale histogram plot\n",
    "\n",
    "> **Optional:** By default, this tool will export a set of output datasets and figures into a new folder in this directory called `deacoastlines_outputs` unless the `export_*` parameters below are set to `False`. These outputs include:\n",
    "> * `export_points_data`: A CSV file containing raw data for all DEA Coastlines rates of change statistics points in the selected extent\n",
    "> * `export_summary_data`: A CSV file containing summary statistics for all rates of change statistics points in the selected extent\n",
    "> * `export_extent`: Vector files in ESRI Shapefile and GeoJSON format giving the selected area extent\n",
    "> * `export_figure`: A PNG image file for the histogram figure generated by the tool\n",
    "   \n",
    "\n",
    "\n"
   ]
  },
  {
   "cell_type": "code",
   "execution_count": 8,
   "metadata": {},
   "outputs": [
    {
     "data": {
      "application/vnd.jupyter.widget-view+json": {
       "model_id": "faa7c1f6776e4b1b9c8b7f5a1de707aa",
       "version_major": 2,
       "version_minor": 0
      },
      "text/plain": [
       "Map(center=[-26, 135], controls=(ZoomControl(options=['position', 'zoom_in_text', 'zoom_in_title', 'zoom_out_t…"
      ]
     },
     "metadata": {},
     "output_type": "display_data"
    },
    {
     "name": "stdout",
     "output_type": "stream",
     "text": [
      "Loading DEA Coastlines data for 131.701_-12.253...\n",
      "    Plotting data with log axis after setting non-significant points to 0 m / year\n",
      "\n",
      "doing auto shenangs\n",
      "Exporting extent vectors to:\n",
      "    deacoastlines_outputs/deacoastlines_polygon_131.701_-12.253.shp\n",
      "    deacoastlines_outputs/deacoastlines_polygon_131.701_-12.253.geojson\n",
      "\n",
      "Exporting histogram figure to:\n",
      "    deacoastlines_outputs/deacoastlines_polygon_131.701_-12.253.png\n",
      "\n",
      "Exporting points data to:\n",
      "    deacoastlines_outputs/deacoastlines_polygon_131.701_-12.253.csv\n",
      "\n",
      "Exporting summary data to:\n",
      "    deacoastlines_outputs/deacoastlines_polygon_summary.csv\n",
      "\n"
     ]
    },
    {
     "data": {
      "image/png": "[encoded data removed]",
      "text/plain": [
       "<Figure size 720x576 with 1 Axes>"
      ]
     },
     "metadata": {
      "needs_background": "light"
     },
     "output_type": "display_data"
    }
   ],
   "source": [
    "df = deacoastlines_histogram(extent_path=None,\n",
    "                             extent_id_col=None,\n",
    "                             hist_log=True,\n",
    "                             export_points_data=True,\n",
    "                             export_summary_data=True,\n",
    "                             export_extent=True,\n",
    "                             export_figure=True)"
   ]
  },
  {
   "cell_type": "markdown",
   "metadata": {},
   "source": [
    "The histogram plot above shows the distribution of growing (e.g. prograding; blue bars) and retreating (e.g. eroding; red bars) coastlines in the selected region, with annual rates of change (in metres per year) on the x-axis.\n",
    "Note that by default the y-axis will be shown on a log scale which emphasises lower frequency results; for a linear y-axis, re-run the function above with `hist_log=False`.\n"
   ]
  },
  {
   "cell_type": "markdown",
   "metadata": {},
   "source": [
    "### Remove output files\n",
    "Run this cell to clean up your directory by removing any output files generated by this notebook and saved to the `deacoastlines_outputs` folder. \n",
    "\n",
    "> **Note:** This cannot be undone, so ensure any important outputs have been downloaded to your computor before proceeding.\n"
   ]
  },
  {
   "cell_type": "code",
   "execution_count": 9,
   "metadata": {},
   "outputs": [],
   "source": [
    "!rm -r deacoastlines_outputs"
   ]
  },
  {
   "cell_type": "markdown",
   "metadata": {},
   "source": [
    "## Next steps: coastline erosion notebook\n",
    "\n",
    "The [Coastal erosion notebook](../Real_world_examples/Coastal_erosion.ipynb) in this repository provides a simplified example of the method used to extract DEA Coastlines annual coastlines data. \n",
    "Run this notebook if you would like to generate more customised coastlines for a specific location, time period, epoch (e.g. annual or biennial coastlines) or tidal range (e.g. the posituion of the coastline at low, mid  or high tide).\n",
    "\n",
    "> **Note:** This notebook currently supports extracting coastline data only, not generating rates of change statistics like those included in the DEA Coastlines product."
   ]
  },
  {
   "cell_type": "markdown",
   "metadata": {},
   "source": [
    "---\n",
    "\n",
    "## Additional information\n",
    "\n",
    "**License:** The code in this notebook is licensed under the [Apache License, Version 2.0](https://www.apache.org/licenses/LICENSE-2.0). \n",
    "Digital Earth Australia data is licensed under the [Creative Commons by Attribution 4.0](https://creativecommons.org/licenses/by/4.0/) license.\n",
    "\n",
    "**Contact:** If you need assistance, please post a question on the [Open Data Cube Slack channel](http://slack.opendatacube.org/) or on the [GIS Stack Exchange](https://gis.stackexchange.com/questions/ask?tags=open-data-cube) using the `open-data-cube` tag (you can view previously asked questions [here](https://gis.stackexchange.com/questions/tagged/open-data-cube)).\n",
    "If you would like to report an issue with this notebook, you can file one on [Github](https://github.com/GeoscienceAustralia/dea-notebooks).\n",
    "\n",
    "**Last modified:** September 2021"
   ]
  },
  {
   "cell_type": "markdown",
   "metadata": {},
   "source": [
    "## Tags\n",
    "Browse all available tags on the DEA User Guide's [Tags Index](https://docs.dea.ga.gov.au/genindex.html)"
   ]
  },
  {
   "cell_type": "raw",
   "metadata": {
    "raw_mimetype": "text/restructuredtext"
   },
   "source": [
    "**Tags**: :index:`NCI compatible`, :index:`sandbox compatible`, :index:`DEA Coastlines`, :index:`coastal erosion`, :index:`widgets`, :index:`ipyleaflet`, :index:`geopandas`, :index:`WFS`, :index:`dea datasets`, :index:`no_testing`"
   ]
  }
 ],
 "metadata": {
  "kernelspec": {
   "display_name": "Python 3",
   "language": "python",
   "name": "python3"
  },
  "language_info": {
   "codemirror_mode": {
    "name": "ipython",
    "version": 3
   },
   "file_extension": ".py",
   "mimetype": "text/x-python",
   "name": "python",
   "nbconvert_exporter": "python",
   "pygments_lexer": "ipython3",
   "version": "3.8.10"
  },
  "widgets": {
   "application/vnd.jupyter.widget-state+json": {
    "state": {
     "10e3163f5eb8428792033a1fc89e94ee": {
      "model_module": "jupyter-leaflet",
      "model_module_version": "^0.13.0",
      "model_name": "LeafletWidgetControlModel",
      "state": {
       "_model_module": "jupyter-leaflet",
       "_model_module_version": "^0.13.0",
       "_view_count": null,
       "_view_module": "jupyter-leaflet",
       "_view_module_version": "^0.13.0",
       "options": [
        "position"
       ],
       "position": "topright",
       "widget": "IPY_MODEL_3f83fe4d27094a4b974fd726d8ba4ed7"
      }
     },
     "11080ac642774188b54bcc7c4d7eef2a": {
      "model_module": "jupyter-leaflet",
      "model_module_version": "^0.13.0",
      "model_name": "LeafletTileLayerModel",
      "state": {
       "_model_module_version": "^0.13.0",
       "_view_module_version": "^0.13.0",
       "max_native_zoom": 18,
       "min_native_zoom": 0,
       "options": [
        "attribution",
        "detect_retina",
        "max_native_zoom",
        "max_zoom",
        "min_native_zoom",
        "min_zoom",
        "no_wrap",
        "tile_size",
        "tms"
       ],
       "url": "https://server.arcgisonline.com/ArcGIS/rest/services/Reference/World_Boundaries_and_Places/MapServer/tile/{z}/{y}/{x}"
      }
     },
     "12d5f78d0b3f40499793cca03892ada6": {
      "model_module": "@jupyter-widgets/controls",
      "model_module_version": "1.5.0",
      "model_name": "DescriptionStyleModel",
      "state": {
       "description_width": ""
      }
     },
     "12f96060708941d8bfa4b63b83815a96": {
      "model_module": "jupyter-leaflet",
      "model_module_version": "^0.13.0",
      "model_name": "LeafletTileLayerModel",
      "state": {
       "_model_module_version": "^0.13.0",
       "_view_module_version": "^0.13.0",
       "attribution": "Tiles &copy; Esri &mdash; Source: Esri, i-cubed, USDA, USGS, AEX, GeoEye, Getmapping, Aerogrid, IGN, IGP, UPR-EGP, and the GIS User Community",
       "max_native_zoom": 18,
       "max_zoom": 20,
       "min_native_zoom": 0,
       "min_zoom": 1,
       "name": "Esri.WorldImagery",
       "options": [
        "attribution",
        "detect_retina",
        "max_native_zoom",
        "max_zoom",
        "min_native_zoom",
        "min_zoom",
        "no_wrap",
        "tile_size",
        "tms"
       ],
       "url": "http://server.arcgisonline.com/ArcGIS/rest/services/World_Imagery/MapServer/tile/{z}/{y}/{x}"
      }
     },
     "13c14ec3a49d430d9db2d6c311926d0a": {
      "model_module": "@jupyter-widgets/controls",
      "model_module_version": "1.5.0",
      "model_name": "ButtonStyleModel",
      "state": {
       "button_color": "green"
      }
     },
     "1f0ce77507f44f4a8b1f4b83f0ccf9cc": {
      "model_module": "jupyter-leaflet",
      "model_module_version": "^0.13.0",
      "model_name": "LeafletMapStyleModel",
      "state": {
       "_model_module_version": "^0.13.0"
      }
     },
     "24acf35ed4694ebba5b3004edbcf0dd5": {
      "model_module": "@jupyter-widgets/base",
      "model_module_version": "1.2.0",
      "model_name": "LayoutModel",
      "state": {
       "width": "5em"
      }
     },
     "29bf0dc9d0f140f4aef079960371120e": {
      "model_module": "jupyter-leaflet",
      "model_module_version": "^0.13.0",
      "model_name": "LeafletAttributionControlModel",
      "state": {
       "_model_module_version": "^0.13.0",
       "_view_module_version": "^0.13.0",
       "options": [
        "position",
        "prefix"
       ],
       "position": "bottomright",
       "prefix": "Leaflet"
      }
     },
     "2d181809985043828c0f6dcd78ca9199": {
      "model_module": "jupyter-leaflet",
      "model_module_version": "^0.13.0",
      "model_name": "LeafletWidgetControlModel",
      "state": {
       "_model_module": "jupyter-leaflet",
       "_model_module_version": "^0.13.0",
       "_view_count": null,
       "_view_module": "jupyter-leaflet",
       "_view_module_version": "^0.13.0",
       "options": [
        "position"
       ],
       "position": "bottomleft",
       "widget": "IPY_MODEL_44d9ae64bdb146c0b9bbc4bce3abccbd"
      }
     },
     "2f8e275b90504278bb1bfc26349b5137": {
      "model_module": "@jupyter-widgets/base",
      "model_module_version": "1.2.0",
      "model_name": "LayoutModel",
      "state": {
       "height": "600px"
      }
     },
     "2fd9f0d43cdb444a8c33e105bd2f0064": {
      "model_module": "@jupyter-widgets/base",
      "model_module_version": "1.2.0",
      "model_name": "LayoutModel",
      "state": {
       "height": "600px"
      }
     },
     "3c2f6f5792864a009847df90414b9d8a": {
      "model_module": "jupyter-leaflet",
      "model_module_version": "^0.13.0",
      "model_name": "LeafletMapStyleModel",
      "state": {
       "_model_module_version": "^0.13.0"
      }
     },
     "3f83fe4d27094a4b974fd726d8ba4ed7": {
      "model_module": "@jupyter-widgets/controls",
      "model_module_version": "1.5.0",
      "model_name": "ButtonModel",
      "state": {
       "description": "done",
       "disabled": true,
       "layout": "IPY_MODEL_24acf35ed4694ebba5b3004edbcf0dd5",
       "style": "IPY_MODEL_dccac8a8e89f4c8f80e296b845c22501"
      }
     },
     "44d9ae64bdb146c0b9bbc4bce3abccbd": {
      "model_module": "@jupyter-widgets/controls",
      "model_module_version": "1.5.0",
      "model_name": "HTMLModel",
      "state": {
       "layout": "IPY_MODEL_ed2904ae19f0447a81fe2615ea63c652",
       "style": "IPY_MODEL_12d5f78d0b3f40499793cca03892ada6",
       "value": "<pre style=\"color:grey\">lat: [-12.2253, -12.2191]\nlon: [131.8614, 131.8773]</pre>"
      }
     },
     "457c12e7108849d9947c08f5dfa5412e": {
      "model_module": "jupyter-leaflet",
      "model_module_version": "^0.13.0",
      "model_name": "LeafletAttributionControlModel",
      "state": {
       "_model_module_version": "^0.13.0",
       "_view_module_version": "^0.13.0",
       "options": [
        "position",
        "prefix"
       ],
       "position": "bottomright",
       "prefix": "Leaflet"
      }
     },
     "4695abb98e7641ff8ac728c9ffbe5d5f": {
      "model_module": "jupyter-leaflet",
      "model_module_version": "^0.13.0",
      "model_name": "LeafletFullScreenControlModel",
      "state": {
       "_model_module_version": "^0.13.0",
       "_view_module_version": "^0.13.0",
       "options": [
        "position"
       ]
      }
     },
     "4cd39743d9694ca3af892c482aa225fd": {
      "model_module": "jupyter-leaflet",
      "model_module_version": "^0.13.0",
      "model_name": "LeafletZoomControlModel",
      "state": {
       "_model_module_version": "^0.13.0",
       "_view_module_version": "^0.13.0",
       "options": [
        "position",
        "zoom_in_text",
        "zoom_in_title",
        "zoom_out_text",
        "zoom_out_title"
       ]
      }
     },
     "5fd83f029e1a428db7931d786751611c": {
      "model_module": "@jupyter-widgets/controls",
      "model_module_version": "1.5.0",
      "model_name": "HTMLModel",
      "state": {
       "layout": "IPY_MODEL_a77e8182d9c84cfe95352f00ec769404",
       "style": "IPY_MODEL_a428cd37f4ff43d5ab5170fb3caecfc0",
       "value": "<pre style=\"color:grey\">lat: [-12.7274, -11.9224]\nlon: [130.8842, 132.9195]</pre>"
      }
     },
     "693fa92af8224a8bb2f781dfd74f534c": {
      "model_module": "jupyter-leaflet",
      "model_module_version": "^0.13.0",
      "model_name": "LeafletMapStyleModel",
      "state": {
       "_model_module_version": "^0.13.0",
       "cursor": "move"
      }
     },
     "70d31e86b81749a6b90ebe5f53b66d9c": {
      "model_module": "jupyter-leaflet",
      "model_module_version": "^0.13.0",
      "model_name": "LeafletWidgetControlModel",
      "state": {
       "_model_module": "jupyter-leaflet",
       "_model_module_version": "^0.13.0",
       "_view_count": null,
       "_view_module": "jupyter-leaflet",
       "_view_module_version": "^0.13.0",
       "options": [
        "position"
       ],
       "position": "bottomleft",
       "widget": "IPY_MODEL_5fd83f029e1a428db7931d786751611c"
      }
     },
     "71203810892e45c9b0588cb9cb7261c0": {
      "model_module": "jupyter-leaflet",
      "model_module_version": "^0.13.0",
      "model_name": "LeafletWMSLayerModel",
      "state": {
       "_model_module_version": "^0.13.0",
       "_view_module_version": "^0.13.0",
       "attribution": "DEA CoastLines © 2020 Geoscience Australia",
       "crs": {
        "custom": false,
        "name": "EPSG3857"
       },
       "format": "image/png",
       "layers": "dea:DEACoastLines",
       "max_native_zoom": 18,
       "min_native_zoom": 0,
       "options": [
        "attribution",
        "detect_retina",
        "format",
        "layers",
        "max_native_zoom",
        "max_zoom",
        "min_native_zoom",
        "min_zoom",
        "no_wrap",
        "styles",
        "tile_size",
        "tms",
        "transparent",
        "uppercase"
       ],
       "transparent": true,
       "url": "https://geoserver.dea.ga.gov.au/geoserver/wms"
      }
     },
     "78c3cdd801574f15a6f5eb047c406c30": {
      "model_module": "@jupyter-widgets/controls",
      "model_module_version": "1.5.0",
      "model_name": "ButtonModel",
      "state": {
       "description": "done",
       "disabled": true,
       "layout": "IPY_MODEL_80543fddf96443ea98a4deaa0af8ed7f",
       "style": "IPY_MODEL_13c14ec3a49d430d9db2d6c311926d0a"
      }
     },
     "80543fddf96443ea98a4deaa0af8ed7f": {
      "model_module": "@jupyter-widgets/base",
      "model_module_version": "1.2.0",
      "model_name": "LayoutModel",
      "state": {
       "width": "5em"
      }
     },
     "8e2d0622f1484a81bf9c006729dfcf89": {
      "model_module": "jupyter-leaflet",
      "model_module_version": "^0.13.0",
      "model_name": "LeafletTileLayerModel",
      "state": {
       "_model_module_version": "^0.13.0",
       "_view_module_version": "^0.13.0",
       "max_native_zoom": 18,
       "min_native_zoom": 0,
       "options": [
        "attribution",
        "detect_retina",
        "max_native_zoom",
        "max_zoom",
        "min_native_zoom",
        "min_zoom",
        "no_wrap",
        "tile_size",
        "tms"
       ],
       "url": "https://server.arcgisonline.com/ArcGIS/rest/services/Reference/World_Boundaries_and_Places/MapServer/tile/{z}/{y}/{x}"
      }
     },
     "90e059c7ead841a5bd5268d6ec86dea6": {
      "model_module": "jupyter-leaflet",
      "model_module_version": "^0.13.0",
      "model_name": "LeafletMapModel",
      "state": {
       "_model_module_version": "^0.13.0",
       "_view_module_version": "^0.13.0",
       "center": [
        -12.324737626586346,
        131.90188143089998
       ],
       "controls": [
        "IPY_MODEL_92a3e41d22ee4da5990d3619354d2581",
        "IPY_MODEL_457c12e7108849d9947c08f5dfa5412e",
        "IPY_MODEL_ab2e6954c5ee4a219741a5964557e7ce"
       ],
       "default_style": "IPY_MODEL_d0b4d0e8a53c4d7dbda1504e7bedede5",
       "dragging_style": "IPY_MODEL_9fa4a63ec3564461b28c7f9b2a3390cf",
       "east": 132.91946411132815,
       "fullscreen": false,
       "interpolation": "bilinear",
       "layers": [
        "IPY_MODEL_12f96060708941d8bfa4b63b83815a96",
        "IPY_MODEL_b33d1e52136040b0af03fc66da8db283",
        "IPY_MODEL_11080ac642774188b54bcc7c4d7eef2a"
       ],
       "layout": "IPY_MODEL_2f8e275b90504278bb1bfc26349b5137",
       "modisdate": "yesterday",
       "north": -11.922446824129858,
       "options": [
        "bounce_at_zoom_limits",
        "box_zoom",
        "center",
        "close_popup_on_click",
        "double_click_zoom",
        "dragging",
        "fullscreen",
        "inertia",
        "inertia_deceleration",
        "inertia_max_speed",
        "interpolation",
        "keyboard",
        "keyboard_pan_offset",
        "keyboard_zoom_offset",
        "max_zoom",
        "min_zoom",
        "scroll_wheel_zoom",
        "tap",
        "tap_tolerance",
        "touch_zoom",
        "world_copy_jump",
        "zoom",
        "zoom_animation_threshold",
        "zoom_start"
       ],
       "scroll_wheel_zoom": true,
       "south": -12.727423848649554,
       "style": "IPY_MODEL_d0b4d0e8a53c4d7dbda1504e7bedede5",
       "west": 130.8842468261719,
       "window_url": "https://app.sandbox.dea.ga.gov.au/user/robbibt/lab?",
       "zoom": 10
      }
     },
     "92a3e41d22ee4da5990d3619354d2581": {
      "model_module": "jupyter-leaflet",
      "model_module_version": "^0.13.0",
      "model_name": "LeafletZoomControlModel",
      "state": {
       "_model_module_version": "^0.13.0",
       "_view_module_version": "^0.13.0",
       "options": [
        "position",
        "zoom_in_text",
        "zoom_in_title",
        "zoom_out_text",
        "zoom_out_title"
       ]
      }
     },
     "9e184fec2eb3486d9009c26b69f58a9b": {
      "model_module": "jupyter-leaflet",
      "model_module_version": "^0.13.0",
      "model_name": "LeafletDrawControlModel",
      "state": {
       "_model_module_version": "^0.13.0",
       "_view_module_version": "^0.13.0",
       "options": [
        "position"
       ],
       "polygon": {},
       "polyline": {
        "shapeOptions": {
         "color": "red",
         "opacity": 1
        }
       }
      }
     },
     "9fa4a63ec3564461b28c7f9b2a3390cf": {
      "model_module": "jupyter-leaflet",
      "model_module_version": "^0.13.0",
      "model_name": "LeafletMapStyleModel",
      "state": {
       "_model_module_version": "^0.13.0",
       "cursor": "move"
      }
     },
     "a39c2e3cfc4c44f9bfa324fa1726a6e2": {
      "model_module": "jupyter-leaflet",
      "model_module_version": "^0.13.0",
      "model_name": "LeafletMapStyleModel",
      "state": {
       "_model_module_version": "^0.13.0"
      }
     },
     "a428cd37f4ff43d5ab5170fb3caecfc0": {
      "model_module": "@jupyter-widgets/controls",
      "model_module_version": "1.5.0",
      "model_name": "DescriptionStyleModel",
      "state": {
       "description_width": ""
      }
     },
     "a77e8182d9c84cfe95352f00ec769404": {
      "model_module": "@jupyter-widgets/base",
      "model_module_version": "1.2.0",
      "model_name": "LayoutModel",
      "state": {
       "flex": "1 0 20em",
       "height": "3em",
       "width": "20em"
      }
     },
     "ab2e6954c5ee4a219741a5964557e7ce": {
      "model_module": "jupyter-leaflet",
      "model_module_version": "^0.13.0",
      "model_name": "LeafletFullScreenControlModel",
      "state": {
       "_model_module_version": "^0.13.0",
       "_view_module_version": "^0.13.0",
       "options": [
        "position"
       ]
      }
     },
     "b33d1e52136040b0af03fc66da8db283": {
      "model_module": "jupyter-leaflet",
      "model_module_version": "^0.13.0",
      "model_name": "LeafletWMSLayerModel",
      "state": {
       "_model_module_version": "^0.13.0",
       "_view_module_version": "^0.13.0",
       "attribution": "DEA CoastLines © 2020 Geoscience Australia",
       "crs": {
        "custom": false,
        "name": "EPSG3857"
       },
       "format": "image/png",
       "layers": "dea:DEACoastLines",
       "max_native_zoom": 18,
       "min_native_zoom": 0,
       "options": [
        "attribution",
        "detect_retina",
        "format",
        "layers",
        "max_native_zoom",
        "max_zoom",
        "min_native_zoom",
        "min_zoom",
        "no_wrap",
        "styles",
        "tile_size",
        "tms",
        "transparent",
        "uppercase"
       ],
       "transparent": true,
       "url": "https://geoserver.dea.ga.gov.au/geoserver/wms"
      }
     },
     "c9d6d3f43207460bba07c21e167e4854": {
      "model_module": "jupyter-leaflet",
      "model_module_version": "^0.13.0",
      "model_name": "LeafletWidgetControlModel",
      "state": {
       "_model_module": "jupyter-leaflet",
       "_model_module_version": "^0.13.0",
       "_view_count": null,
       "_view_module": "jupyter-leaflet",
       "_view_module_version": "^0.13.0",
       "options": [
        "position"
       ],
       "position": "topright",
       "widget": "IPY_MODEL_78c3cdd801574f15a6f5eb047c406c30"
      }
     },
     "d0b4d0e8a53c4d7dbda1504e7bedede5": {
      "model_module": "jupyter-leaflet",
      "model_module_version": "^0.13.0",
      "model_name": "LeafletMapStyleModel",
      "state": {
       "_model_module_version": "^0.13.0"
      }
     },
     "d56dc47885e94318a76cf568efc9ae93": {
      "model_module": "jupyter-leaflet",
      "model_module_version": "^0.13.0",
      "model_name": "LeafletDrawControlModel",
      "state": {
       "_model_module_version": "^0.13.0",
       "_view_module_version": "^0.13.0",
       "options": [
        "position"
       ],
       "polygon": {
        "shapeOptions": {
         "color": "#000000",
         "editing": {
          "color": "#000000",
          "fillColor": "#fca45d",
          "fillOpacity": 0.1
         },
         "fillColor": "#fca45d",
         "fillOpacity": 0.1,
         "original": {
          "color": "#000000",
          "fillColor": "#fca45d",
          "fillOpacity": 0.1
         }
        }
       },
       "polyline": {},
       "rectangle": {
        "metric": [
         "km",
         "m"
        ],
        "shapeOptions": {
         "color": "#000000",
         "fillColor": "#fca45d",
         "fillOpacity": 0.1
        }
       }
      }
     },
     "dccac8a8e89f4c8f80e296b845c22501": {
      "model_module": "@jupyter-widgets/controls",
      "model_module_version": "1.5.0",
      "model_name": "ButtonStyleModel",
      "state": {
       "button_color": "green"
      }
     },
     "ed2904ae19f0447a81fe2615ea63c652": {
      "model_module": "@jupyter-widgets/base",
      "model_module_version": "1.2.0",
      "model_name": "LayoutModel",
      "state": {
       "flex": "1 0 20em",
       "height": "3em",
       "width": "20em"
      }
     },
     "f87ed064cfb84e9dac077e1b505ae7e1": {
      "model_module": "jupyter-leaflet",
      "model_module_version": "^0.13.0",
      "model_name": "LeafletTileLayerModel",
      "state": {
       "_model_module_version": "^0.13.0",
       "_view_module_version": "^0.13.0",
       "attribution": "Tiles &copy; Esri &mdash; Source: Esri, i-cubed, USDA, USGS, AEX, GeoEye, Getmapping, Aerogrid, IGN, IGP, UPR-EGP, and the GIS User Community",
       "max_native_zoom": 18,
       "max_zoom": 20,
       "min_native_zoom": 0,
       "min_zoom": 1,
       "name": "Esri.WorldImagery",
       "options": [
        "attribution",
        "detect_retina",
        "max_native_zoom",
        "max_zoom",
        "min_native_zoom",
        "min_zoom",
        "no_wrap",
        "tile_size",
        "tms"
       ],
       "url": "http://server.arcgisonline.com/ArcGIS/rest/services/World_Imagery/MapServer/tile/{z}/{y}/{x}"
      }
     },
     "f9472246957441aaaab0d6a1a585febf": {
      "model_module": "jupyter-leaflet",
      "model_module_version": "^0.13.0",
      "model_name": "LeafletMapModel",
      "state": {
       "_model_module_version": "^0.13.0",
       "_view_module_version": "^0.13.0",
       "center": [
        -12.222200844879644,
        131.86936137056244
       ],
       "controls": [
        "IPY_MODEL_4cd39743d9694ca3af892c482aa225fd",
        "IPY_MODEL_29bf0dc9d0f140f4aef079960371120e",
        "IPY_MODEL_4695abb98e7641ff8ac728c9ffbe5d5f"
       ],
       "default_style": "IPY_MODEL_a39c2e3cfc4c44f9bfa324fa1726a6e2",
       "dragging_style": "IPY_MODEL_693fa92af8224a8bb2f781dfd74f534c",
       "east": 131.8773114380826,
       "fullscreen": false,
       "interpolation": "bilinear",
       "layers": [
        "IPY_MODEL_f87ed064cfb84e9dac077e1b505ae7e1",
        "IPY_MODEL_71203810892e45c9b0588cb9cb7261c0",
        "IPY_MODEL_8e2d0622f1484a81bf9c006729dfcf89"
       ],
       "layout": "IPY_MODEL_2fd9f0d43cdb444a8c33e105bd2f0064",
       "modisdate": "yesterday",
       "north": -12.21905512949937,
       "options": [
        "bounce_at_zoom_limits",
        "box_zoom",
        "center",
        "close_popup_on_click",
        "double_click_zoom",
        "dragging",
        "fullscreen",
        "inertia",
        "inertia_deceleration",
        "inertia_max_speed",
        "interpolation",
        "keyboard",
        "keyboard_pan_offset",
        "keyboard_zoom_offset",
        "max_zoom",
        "min_zoom",
        "scroll_wheel_zoom",
        "tap",
        "tap_tolerance",
        "touch_zoom",
        "world_copy_jump",
        "zoom",
        "zoom_animation_threshold",
        "zoom_start"
       ],
       "scroll_wheel_zoom": true,
       "south": -12.225346522849206,
       "style": "IPY_MODEL_a39c2e3cfc4c44f9bfa324fa1726a6e2",
       "west": 131.8614113030423,
       "window_url": "https://app.sandbox.dea.ga.gov.au/user/robbibt/lab?",
       "zoom": 17
      }
     }
    },
    "version_major": 2,
    "version_minor": 0
   }
  }
 },
 "nbformat": 4,
 "nbformat_minor": 4
}
