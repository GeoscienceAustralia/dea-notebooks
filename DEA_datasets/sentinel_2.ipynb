{
 "cells": [
  {
   "cell_type": "markdown",
   "metadata": {},
   "source": [
    "# Sentinel 2"
   ]
  },
  {
   "cell_type": "markdown",
   "metadata": {},
   "source": [
    "**Compatability:** Notebook currently compatible with the `NCI`|`DEA Sandbox` environment only\n",
    "\n",
    "**Products used:** \n",
    "[`s2a_ard_granule`](https://explorer.sandbox.dea.ga.gov.au/s2a_ard_granule), \n",
    "[`s2b_ard_granule`](https://explorer.sandbox.dea.ga.gov.au/s2b_ard_granule),\n"
   ]
  },
  {
   "cell_type": "markdown",
   "metadata": {},
   "source": [
    "## Background\n",
    "\n",
    "Sentinel-2 is an Earth observation mission from the EU Copernicus Programme that systematically acquires optical imagery at high spatial resolution (10 m for some bands). The mission is based on a constellation of two identical satellites in the same orbit, 180° apart for optimal coverage and data delivery. Together they cover all Earth's land surfaces, large islands, inland and coastal waters every 3-5 days.\n",
    "\n",
    "Sentinel-2A was launched on 23 June 2015 and Sentinel-2B followed on 7 March 2017.  Both of the Sentinel 2 satellites carries an innovative wide swath high-resolution multispectral imager with 13 spectral bands.  For more information on the Sentinel 2 platforms and applications, check out the [European Space Agency website](http://www.esa.int/Applications/Observing_the_Earth/Copernicus/Overview4).\n",
    "\n",
    "Digital Earth Australia applies corrections to the Sentinel satellite images to arrive at a **[Surface Reflectance (SR)](https://cmi.ga.gov.au/ga_s2_m_nbart_1)** product. SR provides standardised optical surface reflectance datasets using robust physical models to correct for variations in image radiance values due to atmospheric properties, as well as sun and sensor geometry. The resulting stack of surface reflectance grids are consistent over space and time which is instrumental in identifying and quantifying environmental change. For more information on the \n",
    "\n",
    "\n",
    "The result of the SR corrections are two products:\n",
    "\n",
    "1. **NBAR** (e.g. nbar_green)\n",
    "\n",
    "    NBAR stands for Nadir-corrected BRDF Adjusted Reflectance, where BRDF stands for Bidirectional reflectance distribution function. The approach involves atmospheric correction to compute surface-leaving radiance, and bi-directional reflectance modelling to remove the effects of topography and angular variation in reflectance.\n",
    "\n",
    "2. **NBART** (e.g. nbart_green)\n",
    "\n",
    "    Surface reflectance NBART includes the terrain illumination reflectance correction and has the same features of NBAR, along with some additional features.\n"
   ]
  },
  {
   "cell_type": "markdown",
   "metadata": {},
   "source": [
    "Sentinel 2 SR products have 13 spectral channels:\n",
    "\n",
    "| Sentinel 2 bands | DEA band name | Band number | Central wavelength (nm) | Resolution (m) | Bandwidth (nm) |\n",
    "| -----------------|---------------|-------------|-------------------------|----------------|----------------|\n",
    "| Coastal aerosol | `nbar(t)_coastal_aerosol` | 1 | 443 | 60 | 20 |\n",
    "| Blue | `nbar(t)_blue` | 2 | 490 | 10 | 65 |\n",
    "| Green | `nbar(t)_green` | 3 | 560 | 10 | 35 |\n",
    "| Red | `nbar(t)_red` | 4 | 665 | 10 | 30 |\n",
    "| Vegetation red edge | `nbar(t)_red_edge_1` | 5 | 705 | 20 | 15 |\n",
    "| Vegetation red edge | `nbar(t)_red_edge_2` | 6 | 740 | 20 | 15 |\n",
    "| Vegetation red edge | `nbar(t)_red_edge_3` | 7 | 783 | 20 | 20 |\n",
    "| NIR | `nbar(t)_nir_1` | 8 | 842 | 10 | 115 |\n",
    "| Narrow NIR | `nbar(t)_nir_2` | 8A | 865 | 20 | 20 |\n",
    "| Water vapour | N/A | 9 | 945 | 60 | 20 |\n",
    "| SWIR - Cirrus | N/A | 10 | 1375 | 60 | 20 |\n",
    "| SWIR | `nbar(t)_swir_2` | 11 | 1610 | 20 | 90 |\n",
    "| SWIR | `nbar(t)_swir_3` | 12 | 2190 | 20 | 180 |\n",
    "\n",
    "These bands cover the visible, near-infrared and short-wave infrared wave lengths.\n",
    "\n",
    "<img align=\"center\" src= \"http://www.geosage.com/highview/figures/Sentinel2_Spectral_Bands.jpg\">\n",
    "     \n",
    "\n",
    "\n",
    "**Note** There are a number of additional datasets that are alse returned from our query. These are a combination of datasets used in the correction process, and layers relating to pixel quality. We will explore the pixel quality layers below."
   ]
  },
  {
   "cell_type": "markdown",
   "metadata": {},
   "source": [
    "## Getting started"
   ]
  },
  {
   "cell_type": "code",
   "execution_count": null,
   "metadata": {},
   "outputs": [],
   "source": []
  },
  {
   "cell_type": "code",
   "execution_count": null,
   "metadata": {},
   "outputs": [],
   "source": []
  },
  {
   "cell_type": "code",
   "execution_count": null,
   "metadata": {},
   "outputs": [],
   "source": []
  },
  {
   "cell_type": "code",
   "execution_count": null,
   "metadata": {},
   "outputs": [],
   "source": []
  }
 ],
 "metadata": {
  "kernelspec": {
   "display_name": "Python 3",
   "language": "python",
   "name": "python3"
  },
  "language_info": {
   "codemirror_mode": {
    "name": "ipython",
    "version": 3
   },
   "file_extension": ".py",
   "mimetype": "text/x-python",
   "name": "python",
   "nbconvert_exporter": "python",
   "pygments_lexer": "ipython3",
   "version": "3.6.8"
  }
 },
 "nbformat": 4,
 "nbformat_minor": 4
}
