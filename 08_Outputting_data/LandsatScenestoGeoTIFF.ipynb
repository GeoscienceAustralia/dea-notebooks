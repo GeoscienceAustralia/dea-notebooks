{
 "cells": [
  {
   "cell_type": "markdown",
   "metadata": {
    "ExecuteTime": {
     "end_time": "2019-02-24T21:39:57.612969Z",
     "start_time": "2019-02-24T21:39:57.605907Z"
    }
   },
   "source": [
    "# Produce multiband GeoTIFFs for each Landsat observation, given a shapefile"
   ]
  },
  {
   "cell_type": "markdown",
   "metadata": {
    "ExecuteTime": {
     "end_time": "2019-02-20T00:58:17.969050Z",
     "start_time": "2019-02-20T00:58:17.949694Z"
    }
   },
   "source": [
    "| Authors:  | Bex Dunn|\n",
    "|----------|----------------|\n",
    "| Created: | Feb 20, 2019 |\n",
    "| Last edited: | Feb 20, 2019 |\n",
    "\n",
    "**Requirements:**\n",
    "\n",
    "You need to run the following commands from the command line prior to launching jupyter notebooks from the same terminal so that the required libraries and paths are set:\n",
    "\n",
    "`module use /g/data/v10/public/modules/modulefiles` \n",
    "\n",
    "`module load dea`\n",
    "\n",
    "This notebook assumes you have cloned the dea-notebooks repository by following the instructions on [DEA notebooks using command line git](https://github.com/GeoscienceAustralia/dea-notebooks#dea-notebooks-using-command-line-git) or [DEA notebooks using Github](https://github.com/GeoscienceAustralia/dea-notebooks#dea-notebooks-using-github). If you didn't, you will need to download any scripts that fail in the first cell into your relative directory so that the notebook will have access to those scripts. `\"../\"` means the directory above the directory you are working in, and `\"./\"` means the current directory. \n",
    "\n",
    "If you find an error or bug in this notebook, please either create an 'Issue' in the Github repository, or fix it yourself and create a 'Pull' request to contribute the updated notebook back into the repository (See the repository [README](https://github.com/GeoscienceAustralia/dea-notebooks/blob/master/README.rst) for instructions on creating a Pull request).\n",
    "\n",
    "__Background:__ Data from the [Landsat](https://landsat.usgs.gov/about-landsat) 5,7 and 8 satellite missions are accessible through [Digital Earth Australia](http://www.ga.gov.au/about/projects/geographic/digital-earth-australia) (DEA). \n",
    "\n",
    "__What does this notebook do?:__ This notebook takes a supplied shapefile of a polygon and queries the datacube Landsat surface reflectance data. Surface reflectance data are output as geotiffs for each individual scene."
   ]
  },
  {
   "cell_type": "raw",
   "metadata": {
    "raw_mimetype": "text/restructuredtext"
   },
   "source": [
    "**Tags**: :index:`plot`, :index:`Landsat`,:index:`Landsat5`,:index:`Landsat7`,:index:`Landsat8`, :index:`polygondrill`, :index:`DEAPlotting`, :index:`shapefile`, :index:`geopolygon`, :index:`datacube.utils.geometry`, :index:`fiona`, :index:`rasterio`, :index:`geopandas`, :index:`query`,                                                                                                          :index:`DEADataHandling`, :index:`DEAPlotting`, :index:`masking`,:index:`make mask`,:index:`load_clearlandsat`:index:`write_geotiff`, :index:`multi_timesteps_geotiffs`"
   ]
  },
  {
   "cell_type": "markdown",
   "metadata": {},
   "source": [
    "### import modules and scripts"
   ]
  },
  {
   "cell_type": "code",
   "execution_count": 1,
   "metadata": {
    "ExecuteTime": {
     "end_time": "2019-02-24T22:03:34.455548Z",
     "start_time": "2019-02-24T22:03:27.155899Z"
    }
   },
   "outputs": [],
   "source": [
    "import datacube\n",
    "import datetime\n",
    "import fiona\n",
    "import geopandas as gpd\n",
    "import numpy as np\n",
    "import rasterio.mask\n",
    "import rasterio.features\n",
    "from shapely import geometry\n",
    "import sys\n",
    "import xarray as xr\n",
    "\n",
    "#import matplotlib.dates as mdates\n",
    "#import matplotlib.gridspec as gridspec\n",
    "import matplotlib.pyplot as plt\n",
    "\n",
    "from datacube.storage import masking\n",
    "from datacube.utils import geometry\n",
    "from datacube.helpers import ga_pq_fuser, write_geotiff\n",
    "\n",
    "sys.path.append('../10_Scripts')\n",
    "import DEADataHandling, DEAPlotting, TasseledCapTools\n",
    "\n",
    "dc = datacube.Datacube(app='landsat')\n",
    "\n",
    "%load_ext autoreload\n",
    "\n",
    "%autoreload 2"
   ]
  },
  {
   "cell_type": "markdown",
   "metadata": {},
   "source": [
    "### Set up polygon"
   ]
  },
  {
   "cell_type": "code",
   "execution_count": 2,
   "metadata": {
    "ExecuteTime": {
     "end_time": "2019-02-24T22:03:34.548320Z",
     "start_time": "2019-02-24T22:03:34.459937Z"
    }
   },
   "outputs": [],
   "source": [
    "#change the path here if you want a different polygon\n",
    "poly_path = '/g/data/r78/rjd547/groundwater_activities/Burdekin/Burdekin_shapefiles/reeves_lake_for_demo.shp'"
   ]
  },
  {
   "cell_type": "code",
   "execution_count": 3,
   "metadata": {
    "ExecuteTime": {
     "end_time": "2019-02-24T22:03:34.622661Z",
     "start_time": "2019-02-24T22:03:34.553255Z"
    }
   },
   "outputs": [],
   "source": [
    "#open the polygon\n",
    "with fiona.open(poly_path) as shapes:\n",
    "        crs = geometry.CRS(shapes.crs_wkt)\n",
    "        first_geometry = next(iter(shapes))['geometry']\n",
    "        geom = geometry.Geometry(first_geometry, crs=crs)"
   ]
  },
  {
   "cell_type": "code",
   "execution_count": 4,
   "metadata": {
    "ExecuteTime": {
     "end_time": "2019-02-24T22:03:35.094878Z",
     "start_time": "2019-02-24T22:03:34.625887Z"
    }
   },
   "outputs": [
    {
     "data": {
      "text/plain": [
       "<Figure size 432x288 with 0 Axes>"
      ]
     },
     "metadata": {},
     "output_type": "display_data"
    },
    {
     "data": {
      "image/png": "[encoded data removed]",
      "text/plain": [
       "<Figure size 432x288 with 1 Axes>"
      ]
     },
     "metadata": {
      "needs_background": "light"
     },
     "output_type": "display_data"
    }
   ],
   "source": [
    "#plot polygon to check it looks ok\n",
    "plt.clf()\n",
    "shape_plot = gpd.read_file(poly_path)\n",
    "shape_plot.plot()\n",
    "plt.show()"
   ]
  },
  {
   "cell_type": "markdown",
   "metadata": {},
   "source": [
    "### set up DEA query"
   ]
  },
  {
   "cell_type": "code",
   "execution_count": 5,
   "metadata": {
    "ExecuteTime": {
     "end_time": "2019-02-24T22:03:35.149370Z",
     "start_time": "2019-02-24T22:03:35.097019Z"
    }
   },
   "outputs": [],
   "source": [
    "query = {'geopolygon': geom,\n",
    "         'time': ('2016-05-01', '2016-05-30')\n",
    "         }"
   ]
  },
  {
   "cell_type": "markdown",
   "metadata": {},
   "source": [
    "## Set up datasets"
   ]
  },
  {
   "cell_type": "markdown",
   "metadata": {},
   "source": [
    "### set cloudmasking threshold and load landsat nbart data"
   ]
  },
  {
   "cell_type": "code",
   "execution_count": 6,
   "metadata": {
    "ExecuteTime": {
     "end_time": "2019-02-24T22:03:36.868457Z",
     "start_time": "2019-02-24T22:03:35.152452Z"
    }
   },
   "outputs": [
    {
     "name": "stdout",
     "output_type": "stream",
     "text": [
      "Loading ls5\n",
      "    Skipping ls5; no valid data for query\n",
      "Loading ls7\n",
      "    Ignoring SLC-off observations for ls7\n",
      "    Skipping ls7; no valid data for query\n",
      "Loading ls8\n",
      "    Loading 1 filtered ls8 timesteps\n",
      "Returning ls8 data\n",
      "    Replacing invalid -999 values with NaN (data will be coerced to float64)\n"
     ]
    }
   ],
   "source": [
    "#load landsat nbart data with standard set cloudmasking threshold of 0%. Check function definition for load_clearlandsat.\n",
    "ls578_ds = DEADataHandling.load_clearlandsat(dc=dc, query=query, product='nbart')"
   ]
  },
  {
   "cell_type": "markdown",
   "metadata": {},
   "source": [
    "### mask the data with our original polygon to remove extra data "
   ]
  },
  {
   "cell_type": "code",
   "execution_count": 7,
   "metadata": {
    "ExecuteTime": {
     "end_time": "2019-02-24T22:03:36.944855Z",
     "start_time": "2019-02-24T22:03:36.871500Z"
    }
   },
   "outputs": [],
   "source": [
    "data = ls578_ds\n",
    "mask = rasterio.features.geometry_mask([geom.to_crs(data.geobox.crs)for geoms in [geom]],\n",
    "                                           out_shape=data.geobox.shape,\n",
    "                                           transform=data.geobox.affine,\n",
    "                                           all_touched=False,\n",
    "                                           invert=False)"
   ]
  },
  {
   "cell_type": "code",
   "execution_count": 8,
   "metadata": {
    "ExecuteTime": {
     "end_time": "2019-02-24T22:03:37.011697Z",
     "start_time": "2019-02-24T22:03:36.948903Z"
    }
   },
   "outputs": [],
   "source": [
    "#for some reason xarray is not playing nicely with our old masking function\n",
    "mask_xr = xr.DataArray(mask, dims = ('y','x'))\n",
    "ls578_ds = data.where(mask_xr==False)"
   ]
  },
  {
   "cell_type": "markdown",
   "metadata": {},
   "source": [
    "### Plot our data as a false color image "
   ]
  },
  {
   "cell_type": "code",
   "execution_count": 9,
   "metadata": {
    "ExecuteTime": {
     "end_time": "2019-02-24T22:03:37.746191Z",
     "start_time": "2019-02-24T22:03:37.016695Z"
    }
   },
   "outputs": [
    {
     "data": {
      "image/png": "[encoded data removed]",
      "text/plain": [
       "<Figure size 1800x432 with 4 Axes>"
      ]
     },
     "metadata": {
      "needs_background": "light"
     },
     "output_type": "display_data"
    }
   ],
   "source": [
    "DEAPlotting.rgb(ls578_ds, bands=['swir1', 'nir', 'green'], col='time',col_wrap=4)"
   ]
  },
  {
   "cell_type": "markdown",
   "metadata": {},
   "source": [
    "## Write geotiffs for each time we have imagery"
   ]
  },
  {
   "cell_type": "markdown",
   "metadata": {},
   "source": [
    "### set up paths to write out outputs to"
   ]
  },
  {
   "cell_type": "code",
   "execution_count": 10,
   "metadata": {
    "ExecuteTime": {
     "end_time": "2019-02-24T22:03:38.499362Z",
     "start_time": "2019-02-24T22:03:38.449180Z"
    }
   },
   "outputs": [],
   "source": [
    "#get polygon name from the polygon path\n",
    "polyname = poly_path.split('/')[-1].split('.')[0]"
   ]
  },
  {
   "cell_type": "markdown",
   "metadata": {},
   "source": [
    "### change the path below to a path where you'd like things saved!"
   ]
  },
  {
   "cell_type": "code",
   "execution_count": 11,
   "metadata": {
    "ExecuteTime": {
     "end_time": "2019-02-24T22:03:38.548561Z",
     "start_time": "2019-02-24T22:03:38.502006Z"
    }
   },
   "outputs": [
    {
     "name": "stdout",
     "output_type": "stream",
     "text": [
      "your GeoTIFFs will write to /g/data/r78/rjd547/tmp/reeves_lake_for_demo\n"
     ]
    }
   ],
   "source": [
    "savefilepath = '/g/data/r78/rjd547/tmp/'+polyname\n",
    "print(f'your GeoTIFFs will write to {savefilepath}')"
   ]
  },
  {
   "cell_type": "markdown",
   "metadata": {},
   "source": [
    "### write GeoTIFFs for each timestep"
   ]
  },
  {
   "cell_type": "code",
   "execution_count": 12,
   "metadata": {
    "ExecuteTime": {
     "end_time": "2019-02-24T22:03:38.800061Z",
     "start_time": "2019-02-24T22:03:38.714783Z"
    }
   },
   "outputs": [
    {
     "name": "stdout",
     "output_type": "stream",
     "text": [
      "one timestep\n",
      "wrote to GeoTIFF\n"
     ]
    }
   ],
   "source": [
    "#set dataset equal to landsat dataset\n",
    "ds = ls578_ds\n",
    "#write a geotiff to file for each timestep\n",
    "if len(ds.time)==1:\n",
    "    print('one timestep')\n",
    "    for timestep in range(len(ds.time)):\n",
    "        timestep_date =np.datetime_as_string(ds.time.isel(time=timestep))[0:10]\n",
    "        #drop the time dimension for only one timestep\n",
    "        #write the dataset without the data percentage to file\n",
    "        try:\n",
    "            ds1 = ds.squeeze()\n",
    "            #ds1 = ds1.drop('data_perc')\n",
    "            write_geotiff(savefilepath+'_LS_'+timestep_date+'.tif', ds1)\n",
    "            #complain if the file already exists but don't fail    \n",
    "            print('wrote to GeoTIFF' )\n",
    "        except RuntimeError as err:\n",
    "            print(\"RuntimeError: {0}\".format(err))\n",
    "\n",
    "elif len(ds.time)>1:\n",
    "    print('multiple timesteps') \n",
    "    #remove data percentage as it breaks the geotiff writer\n",
    "    #ds = ds.drop('data_perc')\n",
    "    for timestep in range(len(ds.time)):\n",
    "        timestep_date =np.datetime_as_string(ds.time.isel(time=timestep))[0:10]\n",
    "        try:\n",
    "            write_geotiff(savefilepath+'_LS_'+timestep_date+'.tif', ds.isel(time =timestep))\n",
    "            #complain if the file already exists but don't fail    \n",
    "            print('wrote to GeoTIFF' )\n",
    "        except RuntimeError as err:\n",
    "            print(\"RuntimeError: {0}\".format(err))"
   ]
  }
 ],
 "metadata": {
  "celltoolbar": "Raw Cell Format",
  "kernelspec": {
   "display_name": "Python [default]",
   "language": "python",
   "name": "python3"
  },
  "language_info": {
   "codemirror_mode": {
    "name": "ipython",
    "version": 3
   },
   "file_extension": ".py",
   "mimetype": "text/x-python",
   "name": "python",
   "nbconvert_exporter": "python",
   "pygments_lexer": "ipython3",
   "version": "3.6.6"
  }
 },
 "nbformat": 4,
 "nbformat_minor": 2
}
