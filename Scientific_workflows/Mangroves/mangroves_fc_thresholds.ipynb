{
 "cells": [
  {
   "cell_type": "code",
   "execution_count": 1,
   "id": "728ced0e-c450-47ed-b9a9-50464ea4a1ab",
   "metadata": {},
   "outputs": [],
   "source": [
    "import xarray as xr\n",
    "import numpy as np\n",
    "import re\n",
    "import pandas as pd\n",
    "from osgeo import gdal, ogr, osr\n",
    "from rasterio import warp\n",
    "from datacube.utils.geometry import assign_crs\n",
    "from datacube.utils.geometry import GeoBox\n",
    "from odc.algo import xr_reproject\n",
    "from matplotlib import pyplot as plt\n",
    "from scipy import ndimage\n",
    "from sklearn.pipeline import Pipeline\n",
    "from sklearn.preprocessing import PolynomialFeatures\n",
    "from sklearn.linear_model import LinearRegression\n",
    "\n",
    "import boto3\n",
    "import awswrangler as wr\n",
    "\n",
    "from datacube.utils.dask import start_local_dask"
   ]
  },
  {
   "cell_type": "code",
   "execution_count": null,
   "id": "5ddf41fa-9c9a-45e2-bc8c-143f91b8e5c9",
   "metadata": {},
   "outputs": [],
   "source": [
    "client = start_local_dask(n_workers=1, threads_per_worker=60, memory_limit='478GB')\n",
    "client"
   ]
  },
  {
   "cell_type": "code",
   "execution_count": 220,
   "id": "7baf8a48-f973-4fa8-b4d3-21ce70d49216",
   "metadata": {},
   "outputs": [],
   "source": [
    "def load_lidar_tif(fname, res_tgt, med_filter=False):\n",
    "    \"\"\"\n",
    "        load drone imagery with given file name and resolution\n",
    "        input:\n",
    "            fname: file name of lidar raster\n",
    "            res_tgt: resample resolution of output, type: tuple, e.g. res_tgt=(1, 1)\n",
    "            med_filter: if apply median filter\n",
    "        output:\n",
    "            xarray.DataSet of imagery\n",
    "        \n",
    "    \"\"\"\n",
    "    lidar_data = xr.open_rasterio(fname, parse_coordinates=True, chunks={'band': 1, 'x': -1, 'y': -1})\n",
    "    # don't know why < 40, only copy from the old code\n",
    "    lidar_data = lidar_data.where((lidar_data > 0) & (lidar_data < 40), 0)\n",
    "    if med_filter:\n",
    "        lidar_data.data = lidar_data.data.map_blocks(ndimage.median_filter, (1, 3, 3), None, None, \"nearest\")\n",
    "    lidar_data = assign_crs(lidar_data)\n",
    "    affine, width, height = warp.calculate_default_transform(lidar_data.crs, 'EPSG:3577', lidar_data.shape[1], lidar_data.shape[2],\n",
    "                                             *lidar_data.geobox.extent.boundingbox)\n",
    "    tgt_affine, tgt_width, tgt_height = warp.aligned_target(affine, width, height, res_tgt)\n",
    "    lidar_geobox = GeoBox(tgt_width, tgt_height, tgt_affine, 'EPSG:3577')\n",
    "    lidar_tgt = xr_reproject(lidar_data, lidar_geobox, resampling= 'bilinear' )\n",
    "    return (lidar_tgt > 0).astype('float16')\n",
    "\n",
    "def generate_mangroves_mask(shape_file, data_shape, orig_coords, resolution):\n",
    "    \"\"\"\n",
    "        creak mask without oceans\n",
    "        input:\n",
    "            shape_file: the shape file of Australia coastline\n",
    "            data_shape: the shape of loaded data to be masked upon\n",
    "            orig_coords: the origin of the image for gdal to decide the transform\n",
    "            resolution: pixel size with signs, e.g., (30, -30) for C3 and (25, -25) for C2\n",
    "        output:\n",
    "            a numpy array of mask, where valid pixels = 1\n",
    "    \"\"\"\n",
    "    source_ds = ogr.Open(shape_file)\n",
    "    source_layer = source_ds.GetLayer()\n",
    "\n",
    "    yt, xt = data_shape\n",
    "    xres = resolution[0]\n",
    "    yres = resolution[1]\n",
    "    no_data = 0\n",
    "\n",
    "    xcoord, ycoord = orig_coords\n",
    "    geotransform = (xcoord - (xres*0.5), xres, 0, ycoord - (yres*0.5), 0, yres)\n",
    "\n",
    "    target_ds = gdal.GetDriverByName('MEM').Create('', xt, yt, gdal.GDT_Byte)\n",
    "    target_ds.SetGeoTransform(geotransform)\n",
    "    albers = osr.SpatialReference()\n",
    "    albers.ImportFromEPSG(3577)\n",
    "    target_ds.SetProjection(albers.ExportToWkt())\n",
    "    band = target_ds.GetRasterBand(1)\n",
    "    band.SetNoDataValue(no_data)\n",
    "\n",
    "    gdal.RasterizeLayer(target_ds, [1], source_layer, burn_values=[1])\n",
    "    return band.ReadAsArray()\n",
    "\n",
    "def lidar_to_pcc_perc(lidar_data, res=(30,30)):\n",
    "    reduced = lidar_data.loc[dict(x=slice(lidar_data.x[np.where((lidar_data.x - 0.5) % res[0] == 0)].min().data-0.5, \n",
    "                      lidar_data.x[np.where((lidar_data.x + 0.5) % res[0] == 0)].max().data+0.5),\n",
    "                 y=slice(lidar_data.y[np.where((lidar_data.y + 0.5) % res[1] == 0)].max().data+0.5, \n",
    "                      lidar_data.y[np.where((lidar_data.y - 0.5) % res[1] == 0)].min().data-0.5))]\n",
    "    reduced = (reduced.coarsen(y=30, x=30).sum() / 30**2 * 100).astype('float32')\n",
    "    return reduced"
   ]
  },
  {
   "cell_type": "code",
   "execution_count": 185,
   "id": "07049597-3f92-4673-90d4-66822fa1880b",
   "metadata": {},
   "outputs": [],
   "source": [
    "session = boto3.Session(profile_name='dev')\n",
    "mangroves_bucket = \"s3://dea-public-data-dev/test/mangroves-lidar/\"\n",
    "fc_bucket = \"s3://dea-public-data-dev/test/fc-percentile/\"\n",
    "mangroves_tile_list = np.array([(34, 17),\n",
    "                       (38, 40),\n",
    "                       (48, 27),\n",
    "                       (45, 16),\n",
    "                       (45, 15),\n",
    "                       (8, 31),\n",
    "                       (49, 24),\n",
    "                    ])\n",
    "mangroves_shape_file = \"maximum_extent_of_mangroves_Apr2019.shp\""
   ]
  },
  {
   "cell_type": "code",
   "execution_count": null,
   "id": "dd5360aa-0c0f-4c0b-8809-8f6b75f3ae4c",
   "metadata": {
    "tags": []
   },
   "outputs": [],
   "source": [
    "mangroves_lidar_file = wr.s3.list_objects(mangroves_bucket, ignore_suffix=[\"_hgtthresd.tif\", \"_med.tif\", \"_MangCanopyMask.tif\", \"_subset_mskd.tif\"], \n",
    "                                          boto3_session=session)\n",
    "input_file_list = []\n",
    "for l_file in mangroves_lidar_file:\n",
    "    if 'QLD_LiDAR_CHM' in l_file:\n",
    "        continue\n",
    "    print(l_file)\n",
    "    for d in (re.findall(r'\\d{4}(?=/)', l_file)):\n",
    "        if int(d) >= 1987 and int(d) < 2020:\n",
    "            input_file_list += [(l_file, int(d))]"
   ]
  },
  {
   "cell_type": "code",
   "execution_count": 219,
   "id": "df308d53-a2e5-4a35-8e7c-3454dd94ab9f",
   "metadata": {},
   "outputs": [],
   "source": [
    "fc_x_dirs = wr.s3.list_directories(fc_bucket, boto3_session=session)\n",
    "fc_file_dirs = []\n",
    "for x_idx in fc_x_dirs:\n",
    "    if int(x_idx.split('/')[-2].strip('x')) in mangroves_tile_list[:,0]:\n",
    "        fc_file_dirs += wr.s3.list_directories(x_idx, boto3_session=session)"
   ]
  },
  {
   "cell_type": "code",
   "execution_count": null,
   "id": "d97be1d7-bada-456c-a051-3817d88aeec8",
   "metadata": {
    "tags": []
   },
   "outputs": [],
   "source": [
    "results = None\n",
    "for l_file, l_year in input_file_list:\n",
    "    print(\"process\", l_file, l_year)\n",
    "    if \"Adelaide\" in l_file or \"Exmouth\" in l_file:\n",
    "        med_filter = False\n",
    "    else:\n",
    "        med_filter = True\n",
    "    lidar_data = load_lidar_tif(l_file, (1, 1), med_filter)\n",
    "    reduced = lidar_to_pcc_perc(lidar_data)\n",
    "    fc_intersect_list = []\n",
    "    for f_dir in fc_file_dirs:\n",
    "        non_empty_list = wr.s3.list_objects(f_dir+ str(l_year) + \"--P1Y\", boto3_session=session, suffix=['_pv_pc_10.tif'])\n",
    "        fcp_data = xr.open_rasterio(non_empty_list[0], chunks={'x':-1, 'y':-1})\n",
    "        if (lidar_data.geobox.extent.intersects(fcp_data.geobox.extent)):\n",
    "            print(non_empty_list)\n",
    "            fcp_data = fcp_data.loc[dict(x=slice(reduced.x.min().data-15, \n",
    "                          reduced.x.max().data+15),\n",
    "                         y=slice(reduced.y.max().data+15, \n",
    "                          reduced.y.min().data-15))]\n",
    "            fc_intersect_list += [fcp_data]\n",
    "    reduced.load()\n",
    "    for fcp_data in fc_intersect_list:\n",
    "        fcp_data.load()\n",
    "        mangroves_mask = generate_mangroves_mask(mangroves_shape_file, fcp_data.shape[1:], (fcp_data.x.min(), fcp_data.y.max()), (30, -30))\n",
    "        combined_data = np.concatenate([fcp_data.where((fcp_data < 255) & (reduced > 0) & mangroves_mask).data.reshape(1, -1), \n",
    "           reduced.where((fcp_data < 255) & (reduced > 0) & mangroves_mask).data.reshape(1, -1)])\n",
    "        combined_data = combined_data[:, ~np.isnan(combined_data).any(axis=0)]\n",
    "        if results is None:\n",
    "            results = combined_data\n",
    "        else:\n",
    "            results = np.hstack([results, combined_data])\n",
    "        print(results.shape)\n",
    "results = pd.DataFrame(data=results.T, columns=[\"pv_pc_10\", \"pcc\"])\n",
    "results.to_csv(\"mangroves_fcp_thresholding_input.csv\", index=None)"
   ]
  },
  {
   "cell_type": "code",
   "execution_count": 222,
   "id": "ed592d03-d44e-44c9-abcd-642bac8076b0",
   "metadata": {},
   "outputs": [],
   "source": [
    "results = pd.read_csv(\"mangroves_fcp_thresholding_input.csv\")"
   ]
  },
  {
   "cell_type": "code",
   "execution_count": 223,
   "id": "258ddbb9-19f3-4fa3-9a26-55e0624115c7",
   "metadata": {},
   "outputs": [
    {
     "data": {
      "text/plain": [
       "<AxesSubplot:xlabel='pv_pc_10', ylabel='pcc'>"
      ]
     },
     "execution_count": 223,
     "metadata": {},
     "output_type": "execute_result"
    },
    {
     "data": {
      "image/png": "[encoded data removed]",
      "text/plain": [
       "<Figure size 432x288 with 1 Axes>"
      ]
     },
     "metadata": {
      "needs_background": "light"
     },
     "output_type": "display_data"
    }
   ],
   "source": [
    "results.plot(x=\"pv_pc_10\", y=\"pcc\", kind=\"scatter\")"
   ]
  },
  {
   "cell_type": "code",
   "execution_count": 287,
   "id": "6cd2e630-35f7-46ea-9ccf-a6ac0f278460",
   "metadata": {},
   "outputs": [],
   "source": [
    "binned = None\n",
    "for i in range(100):\n",
    "    idx = np.random.uniform(0, results.shape[0], results.shape[0] // 2 ).astype('int')\n",
    "    if binned is None:\n",
    "        binned = results.iloc[idx].groupby(\"pv_pc_10\").agg({\"pcc\": [\"mean\", \"std\"]})[\"pcc\"]\n",
    "    else:\n",
    "        binned += results.iloc[idx].groupby(\"pv_pc_10\").agg({\"pcc\": [\"mean\", \"std\"]})[\"pcc\"]\n",
    "binned = binned.dropna() / 100"
   ]
  },
  {
   "cell_type": "code",
   "execution_count": 288,
   "id": "d0240c80-132f-432c-a11e-bd6fa556e62e",
   "metadata": {},
   "outputs": [
    {
     "name": "stdout",
     "output_type": "stream",
     "text": [
      "r sq =  0.9514774048321663 20\n",
      "r sq =  0.9702424255074099 21\n",
      "r sq =  0.9722727640822696 22\n",
      "r sq =  0.9717117127162416 23\n"
     ]
    }
   ],
   "source": [
    "res_score = 0\n",
    "for count_t in range(20, 150, 1):\n",
    "    trimmed = binned[(results.groupby('pv_pc_10').count().loc[binned.index.to_numpy()] > count_t).to_numpy()]\n",
    "    model = Pipeline([('poly', PolynomialFeatures(degree=3)), ('linear', LinearRegression(fit_intercept=False))])\n",
    "    model.fit(trimmed.index.to_numpy().reshape(-1, 1), trimmed[\"mean\"].to_numpy().reshape(-1, 1))\n",
    "    rsq = model.score(trimmed.index.to_numpy().reshape(-1, 1), trimmed[\"mean\"].to_numpy().reshape(-1, 1))\n",
    "    print('r sq = ', rsq, count_t)\n",
    "    if rsq > res_score:\n",
    "        res_score = rsq\n",
    "    else:\n",
    "        break"
   ]
  },
  {
   "cell_type": "code",
   "execution_count": 289,
   "id": "1dd43b9f-3bf4-4980-9b99-befdc69a4328",
   "metadata": {},
   "outputs": [
    {
     "data": {
      "text/plain": [
       "Text(0, 0.5, 'pcc%')"
      ]
     },
     "execution_count": 289,
     "metadata": {},
     "output_type": "execute_result"
    },
    {
     "data": {
      "image/png": "[encoded data removed]",
      "text/plain": [
       "<Figure size 432x288 with 1 Axes>"
      ]
     },
     "metadata": {
      "needs_background": "light"
     },
     "output_type": "display_data"
    }
   ],
   "source": [
    "plt.plot(trimmed.index.to_numpy(), trimmed[\"mean\"], \"o\")\n",
    "plt.xlabel(\"pv_pc_10\")\n",
    "plt.ylabel(\"pcc%\")"
   ]
  },
  {
   "cell_type": "code",
   "execution_count": 290,
   "id": "73a6989e-96cd-40b5-a3ce-cb9c320fe584",
   "metadata": {},
   "outputs": [],
   "source": [
    "pvs = np.arange(0, 100, 1)\n",
    "pccs = model.predict(pvs.reshape(-1, 1))"
   ]
  },
  {
   "cell_type": "code",
   "execution_count": 291,
   "id": "b249b474-ace2-4901-8235-1a9dcae60f2f",
   "metadata": {},
   "outputs": [
    {
     "data": {
      "text/plain": [
       "Text(0.5, 1.0, 'pv 10th percentile vs pcc%')"
      ]
     },
     "execution_count": 291,
     "metadata": {},
     "output_type": "execute_result"
    },
    {
     "data": {
      "image/png": "[encoded data removed]",
      "text/plain": [
       "<Figure size 432x288 with 1 Axes>"
      ]
     },
     "metadata": {
      "needs_background": "light"
     },
     "output_type": "display_data"
    }
   ],
   "source": [
    "plt.plot(pvs, pccs)\n",
    "plt.xlabel(\"pv_pc_10\")\n",
    "plt.ylabel(\"pcc%\")\n",
    "plt.title(\"pv 10th percentile vs pcc%\")"
   ]
  },
  {
   "cell_type": "code",
   "execution_count": 292,
   "id": "bee47477-d567-44e4-9187-472650f383cc",
   "metadata": {},
   "outputs": [],
   "source": [
    "pcc_cats = (20, 50, 80)\n",
    "pv_threshold = ()\n",
    "for i in pcc_cats:\n",
    "    pv_threshold += (np.where(pccs >= i)[0][0], )"
   ]
  },
  {
   "cell_type": "code",
   "execution_count": 284,
   "id": "a0145795-8d8b-4e11-beac-c8fc0bf85f8e",
   "metadata": {},
   "outputs": [
    {
     "data": {
      "text/plain": [
       "(12, 30, 53)"
      ]
     },
     "execution_count": 284,
     "metadata": {},
     "output_type": "execute_result"
    }
   ],
   "source": [
    "pv_threshold"
   ]
  }
 ],
 "metadata": {
  "kernelspec": {
   "display_name": "Python 3 (ipykernel)",
   "language": "python",
   "name": "python3"
  },
  "language_info": {
   "codemirror_mode": {
    "name": "ipython",
    "version": 3
   },
   "file_extension": ".py",
   "mimetype": "text/x-python",
   "name": "python",
   "nbconvert_exporter": "python",
   "pygments_lexer": "ipython3",
   "version": "3.8.10"
  }
 },
 "nbformat": 4,
 "nbformat_minor": 5
}
