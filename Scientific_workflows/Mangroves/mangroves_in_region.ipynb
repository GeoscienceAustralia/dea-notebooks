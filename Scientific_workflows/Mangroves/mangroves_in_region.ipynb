{
 "cells": [
  {
   "cell_type": "code",
   "execution_count": null,
   "metadata": {},
   "outputs": [],
   "source": [
    "from datacube import Datacube\n",
    "import fiona\n",
    "from datacube.utils.geometry import CRS, Geometry\n",
    "from shapely import geometry\n",
    "from rasterio import features\n",
    "import pandas as pd\n",
    "from datacube.utils.dask import start_local_dask\n",
    "import matplotlib.pyplot as plt"
   ]
  },
  {
   "cell_type": "code",
   "execution_count": null,
   "metadata": {},
   "outputs": [],
   "source": [
    "def shape_list(shapefile):\n",
    "    with fiona.open(shapefile) as allshapes:\n",
    "        for shape in allshapes:\n",
    "            yield shape"
   ]
  },
  {
   "cell_type": "code",
   "execution_count": null,
   "metadata": {},
   "outputs": [],
   "source": [
    "client = start_local_dask(n_workers=1, threads_per_worker=7, memory_limit='56GB')\n",
    "client"
   ]
  },
  {
   "cell_type": "code",
   "execution_count": null,
   "metadata": {},
   "outputs": [],
   "source": [
    "shapefile = './shapefile/IBRA_Regions/IBRA_MERGED_coastal.shp'\n",
    "query_time = ('1987-01-01', '2021-01-01')\n",
    "dc = Datacube()"
   ]
  },
  {
   "cell_type": "code",
   "execution_count": null,
   "metadata": {},
   "outputs": [],
   "source": [
    "# sum mangroves over different regions\n",
    "# save the results in csvs\n",
    "name_list = {0: 'not_observed', 1: 'woodland', 2: 'open_forest', 3: 'closed_forest'}\n",
    "for shape in shape_list(shapefile):\n",
    "    print(\"process\", shape['properties'].get('Mang_IBRA', ''))\n",
    "    region_geom = geometry.shape(shape['geometry'])\n",
    "    query_poly = Geometry(region_geom.convex_hull, crs=CRS('EPSG:3577'))\n",
    "    datasets = dc.find_datasets(product='mangrove_cover', time=query_time, geopolygon=query_poly, measurements=['cover'])\n",
    "    data = dc.load(product='mangrove_cover', datasets=datasets, measurements=['cover'], dask_chunks={'time':1, 'x':4000, 'y':4000})\n",
    "    geobox = data.geobox \n",
    "    mask = features.geometry_mask(\n",
    "        region_geom,\n",
    "        out_shape=geobox.shape,\n",
    "        transform=geobox.affine,\n",
    "        all_touched=True,\n",
    "        invert=True,\n",
    "    )\n",
    "    results = None\n",
    "    for i in range(0, 4):\n",
    "        re = data.cover.where((data.cover==i) & mask).count(axis=[1, 2])\n",
    "        re = re.load().to_dataframe(name=name_list[i]).drop(columns=\"spatial_ref\")\n",
    "        if results is None:\n",
    "            results = re\n",
    "        else:\n",
    "            results = results.join(re, on='time')\n",
    "    (results * (25 ** 2)).to_csv(shape['properties'].get('Mang_IBRA')+'.csv')"
   ]
  },
  {
   "cell_type": "code",
   "execution_count": null,
   "metadata": {},
   "outputs": [],
   "source": [
    "# read results from csvs and do stack plot\n",
    "for shape in shape_list(shapefile):\n",
    "    csv_fname = shape['properties'].get('Mang_IBRA', '') + '.csv'\n",
    "    results = pd.read_csv(csv_fname)\n",
    "    results['time'] = results.time.astype('datetime64[D]')\n",
    "    results = results.set_index('time')\n",
    "    results.index = results.index.year\n",
    "    ax = (results/1e6).plot.bar(stacked=True, figsize=(10,7), color=['#808080', '#9FFF4C', '#5ECC00', '#3B7F00'], legend=False, width=1.0)\n",
    "    ax.set_title(shape['properties'].get('Mang_IBRA', ''), fontweight=\"bold\", fontsize=16)\n",
    "    ax.set_xlabel('Time (Years)')\n",
    "    ax.set_ylabel('Area (km$^{2}$)')\n",
    "    plt.savefig(shape['properties'].get('Mang_IBRA', '') + '.png')"
   ]
  }
 ],
 "metadata": {
  "kernelspec": {
   "display_name": "Python 3",
   "language": "python",
   "name": "python3"
  },
  "language_info": {
   "codemirror_mode": {
    "name": "ipython",
    "version": 3
   },
   "file_extension": ".py",
   "mimetype": "text/x-python",
   "name": "python",
   "nbconvert_exporter": "python",
   "pygments_lexer": "ipython3",
   "version": "3.6.9"
  }
 },
 "nbformat": 4,
 "nbformat_minor": 4
}
