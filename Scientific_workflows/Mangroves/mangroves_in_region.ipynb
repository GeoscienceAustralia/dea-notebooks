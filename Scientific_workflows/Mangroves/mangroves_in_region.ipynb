{
 "cells": [
  {
   "cell_type": "code",
   "execution_count": 36,
   "metadata": {},
   "outputs": [],
   "source": [
    "from datacube import Datacube\n",
    "import fiona\n",
    "from datacube.utils.geometry import CRS, Geometry\n",
    "from shapely import geometry\n",
    "from rasterio import features\n",
    "import pandas as pd"
   ]
  },
  {
   "cell_type": "code",
   "execution_count": 3,
   "metadata": {},
   "outputs": [],
   "source": [
    "def shape_list(shapefile):\n",
    "    with fiona.open(shapefile) as allshapes:\n",
    "        for shape in allshapes:\n",
    "            yield shape"
   ]
  },
  {
   "cell_type": "code",
   "execution_count": 20,
   "metadata": {},
   "outputs": [],
   "source": [
    "shapefile = './shapefile/IBRA_Regions/IBRA_MERGED_coastal.shp'\n",
    "query_time = ('1987-01-01', '2021-01-01')\n",
    "dc = Datacube()"
   ]
  },
  {
   "cell_type": "code",
   "execution_count": 144,
   "metadata": {},
   "outputs": [],
   "source": [
    "for shape in shape_list(shapefile):\n",
    "    region_geom = geometry.shape(shape['geometry'])\n",
    "    query_poly = Geometry(region_geom.convex_hull, crs=CRS('EPSG:3577'))\n",
    "    datasets = dc.find_datasets(product='mangrove_cover', time=query_time, geopolygon=query_poly, measurements=['cover'])\n",
    "    results = pd.DataFrame()\n",
    "    for d in datasets:\n",
    "        data = dc.load(product='mangrove_cover', datasets=[d], measurements=['cover'])\n",
    "        geobox = data.geobox \n",
    "        mask = features.geometry_mask(\n",
    "            region_geom,\n",
    "            out_shape=geobox.shape,\n",
    "            transform=geobox.affine,\n",
    "            all_touched=True,\n",
    "            invert=False,\n",
    "        )\n",
    "        year = list(data.time.data)\n",
    "        area = [0] * 3\n",
    "        for i in range(1, 4):\n",
    "            area[i-1] = data.cover.where((data.cover==i) & mask).count().data\n",
    "        results = results.append(pd.DataFrame(data=[year+area], columns=['time', 'woodland', 'open_forest', 'closed_forest']), ignore_index=True)\n",
    "    results = results.groupby('time').sum()\n",
    "    (results * (25 ** 2)).to_csv(shape['properties'].get('REG_NAME_7')+'.csv')"
   ]
  }
 ],
 "metadata": {
  "kernelspec": {
   "display_name": "Python 3",
   "language": "python",
   "name": "python3"
  },
  "language_info": {
   "codemirror_mode": {
    "name": "ipython",
    "version": 3
   },
   "file_extension": ".py",
   "mimetype": "text/x-python",
   "name": "python",
   "nbconvert_exporter": "python",
   "pygments_lexer": "ipython3",
   "version": "3.6.9"
  }
 },
 "nbformat": 4,
 "nbformat_minor": 4
}
