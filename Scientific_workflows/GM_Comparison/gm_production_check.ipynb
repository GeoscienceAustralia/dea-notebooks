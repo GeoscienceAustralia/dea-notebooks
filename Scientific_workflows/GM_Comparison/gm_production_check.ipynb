{
 "cells": [
  {
   "cell_type": "code",
   "execution_count": null,
   "id": "bd827a04-75f3-45a1-803d-9680868315c7",
   "metadata": {
    "tags": []
   },
   "outputs": [],
   "source": [
    "import json\n",
    "from shapely import geometry\n",
    "import rioxarray as rioxr\n",
    "import xarray as xr\n",
    "from datacube.utils.dask import start_local_dask\n",
    "import awswrangler as wr\n",
    "import re"
   ]
  },
  {
   "cell_type": "code",
   "execution_count": null,
   "id": "53b8dafd-85e6-415b-8ed1-680bd4d96e53",
   "metadata": {
    "tags": []
   },
   "outputs": [],
   "source": [
    "with open(\"au-grid-clipped.geojson\", \"r\") as f:\n",
    "    features = json.load(f)\n",
    "\n",
    "region_code = {}\n",
    "for f in features['features']:\n",
    "    if f['properties']['input_region_code'] not in region_code:\n",
    "        region_code[f['properties']['input_region_code']] = 1\n",
    "    else:\n",
    "        region_code[f['properties']['input_region_code']] += 1\n",
    "\n",
    "unique_features = []\n",
    "for f in features['features']:\n",
    "    if region_code[f['properties']['input_region_code']] <= 9:\n",
    "        unique_features += [f]\n",
    "\n",
    "valid_features = []\n",
    "for f in unique_features:\n",
    "    if region_code[f['properties']['input_region_code']] > 1:\n",
    "        if (geometry.shape(f['geometry']).area < 1e-5):\n",
    "            continue\n",
    "    valid_features += [f]\n",
    "\n",
    "features['features'] = valid_features\n",
    "\n",
    "with open(\"au-grid-extended-clipped.geojson\", \"w\") as f:\n",
    "    json.dump(features, f)"
   ]
  },
  {
   "cell_type": "code",
   "execution_count": null,
   "id": "fd76c6f0-aa3b-41e5-a741-3f71af5fe5c5",
   "metadata": {
    "tags": []
   },
   "outputs": [],
   "source": [
    "with open(\"au-grid-extended-clipped.geojson\", \"r\") as f:\n",
    "    features = json.load(f)\n",
    "\n",
    "id_match = {}\n",
    "for f in features['features']:\n",
    "    id_match[f['properties']['input_region_code']] = f['properties']['method_region_code']"
   ]
  },
  {
   "cell_type": "code",
   "execution_count": null,
   "id": "e163fe1c-9318-43ed-8d95-9494414dc978",
   "metadata": {
    "tags": []
   },
   "outputs": [],
   "source": [
    "client = start_local_dask(n_workers=1, threads_per_worker=60, memory_limit='478GB')\n",
    "client"
   ]
  },
  {
   "cell_type": "code",
   "execution_count": null,
   "id": "94986582-f6ae-42ab-b9ea-198a35938e89",
   "metadata": {
    "tags": []
   },
   "outputs": [],
   "source": [
    "prod_path = \"s3://dea-public-data-dev/derivative/ga_ls8cls9c_gm_cyear_3/4-0-0\"\n",
    "test_path = \"s3://dea-public-data-dev/test/gm-ls8-dilation-6-cloud-opening-3-v3/3-0-0\"\n",
    "checked = False\n",
    "for key, val in id_match.items():\n",
    "    if (key != 'x59y54') & (not checked):\n",
    "        continue\n",
    "    else:\n",
    "        checked = True\n",
    "    print(f\"tile {key}\")\n",
    "    objs = wr.s3.list_objects(\"/\".join([prod_path, key[0:3], key[3:]])+ \"/2015--P1Y\", suffix=['tif'])\n",
    "    if objs == []:\n",
    "        continue\n",
    "    prod_set = []\n",
    "    for o in objs:\n",
    "        data = rioxr.open_rasterio(o, chunks={'x':1600, 'y':1600})\n",
    "        data.name = re.findall(r'(?<=P1Y_final_)\\w+', o)[0]\n",
    "        prod_set += [data]\n",
    "    prod_set = xr.merge(prod_set)\n",
    "    prod_set = prod_set.rename_dims({'band': 'time'})\n",
    "    prod_set = prod_set.rename_vars({'band': 'time'})\n",
    "    prod_set.time.data[0] = 2015\n",
    "    \n",
    "    objs = wr.s3.list_objects(\"/\".join([test_path, val[0:3], val[3:]])+ \"/2015--P1Y\", suffix=['tif'])\n",
    "    if objs == []:\n",
    "        continue\n",
    "    test_set = []\n",
    "    for o in objs:\n",
    "        data = rioxr.open_rasterio(o, chunks={'x':1600, 'y':1600})\n",
    "        data.name = re.findall(r'(?<=P1Y_final_)\\w+', o)[0]\n",
    "        test_set += [data]\n",
    "    test_set = xr.merge(test_set)\n",
    "    test_set = test_set.rename_dims({'band': 'time'})\n",
    "    test_set = test_set.rename_vars({'band': 'time'})\n",
    "    test_set.time.data[0] = 2015\n",
    "    \n",
    "    diff = abs(test_set - prod_set).min() > 1e-4\n",
    "    if diff.to_array().any():\n",
    "        print(f\"found difference {key} : {val}\")\n",
    "        break"
   ]
  },
  {
   "cell_type": "code",
   "execution_count": null,
   "id": "0cdd13b2-564b-4f92-9511-393e1cf0a1c8",
   "metadata": {
    "tags": []
   },
   "outputs": [],
   "source": [
    "client.close()"
   ]
  }
 ],
 "metadata": {
  "kernelspec": {
   "display_name": "Python 3 (ipykernel)",
   "language": "python",
   "name": "python3"
  },
  "language_info": {
   "codemirror_mode": {
    "name": "ipython",
    "version": 3
   },
   "file_extension": ".py",
   "mimetype": "text/x-python",
   "name": "python",
   "nbconvert_exporter": "python",
   "pygments_lexer": "ipython3",
   "version": "3.10.13"
  }
 },
 "nbformat": 4,
 "nbformat_minor": 5
}
