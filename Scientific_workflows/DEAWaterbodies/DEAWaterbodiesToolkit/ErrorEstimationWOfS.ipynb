{
 "cells": [
  {
   "cell_type": "markdown",
   "metadata": {},
   "source": [
    "# Error Estimation for Water Observations from Space <img align=\"right\" src=\"../../../Supplementary_data/dea_logo.jpg\">\n",
    "\n",
    "* [**Sign up to the DEA Sandbox**](https://docs.dea.ga.gov.au/setup/sandbox.html) to run this notebook interactively from a browser\n",
    "* **Compatibility:** Notebook currently compatible with both the `NCI` and `DEA Sandbox` environments\n",
    "* **Products used:** \n",
    "[wofs_albers](https://explorer.sandbox.dea.ga.gov.au/wofs_albers), \n",
    "[ga_ls8c_ard_3](https://explorer.sandbox.dea.ga.gov.au/ga_ls7e_ard_3),\n",
    "[DEA Waterbodies](https://www.ga.gov.au/dea/products/dea-waterbodies)"
   ]
  },
  {
   "cell_type": "markdown",
   "metadata": {},
   "source": [
    "## Description\n",
    "\n",
    "This notebook estimates uncertainties in WOfS for a single waterbody. It replicates [the WOfS classifier](https://github.com/GeoscienceAustralia/wofs/blob/master/wofs/classifier.py) with two different approaches for uncertainty estimation:\n",
    "\n",
    "1. Monte Carlo,\n",
    "2. Estimated marginals of leaf nodes.\n",
    "\n",
    "A Monte Carlo approach is when you draw random samples from a distribution to estimate some transformation of this distribution. In our case, we will add noise to Landsat images and see how this affects the WOfS predictions. A very uncertain classification will flip between wet and dry with just a little noise, whereas a more certain classification will be unchanged.\n",
    "\n",
    "The other approach uses the structure of the decision tree to estimate probabilities. Each leaf node in the WOfS classifier has a label (wet or dry), but different numbers of training pixels are assigned to each leaf node. We can look at the distribution of truly wet and dry pixels in each leaf node and use this as an estimate for the accuracy in that node. Then, by tracking which leaf node each pixel getting classified ends up in, we can estimate how accurate that pixel classification is.\n",
    "\n",
    "***"
   ]
  },
  {
   "cell_type": "markdown",
   "metadata": {},
   "source": [
    "## Getting started\n",
    "\n",
    "Choose a waterbody in the \"Analysis parameters\" section and then run all cells."
   ]
  },
  {
   "cell_type": "markdown",
   "metadata": {},
   "source": [
    "### Load packages\n",
    "Import Python packages that are used for the analysis."
   ]
  },
  {
   "cell_type": "code",
   "execution_count": 1,
   "metadata": {},
   "outputs": [],
   "source": [
    "%matplotlib inline\n",
    "\n",
    "import sys\n",
    "import datacube\n",
    "import matplotlib.pyplot as plt\n",
    "import numpy as np\n",
    "import pandas as pd\n",
    "import xarray as xr\n",
    "import geopandas as gpd\n",
    "from datacube.virtual import construct, Transformation, Measurement\n",
    "\n",
    "sys.path.append(\"../../../Scripts\")\n",
    "from dea_plotting import rgb\n",
    "from dea_spatialtools import xr_rasterize\n",
    "from dea_datahandling import mostcommon_crs\n",
    "from dea_waterbodies import get_waterbody"
   ]
  },
  {
   "cell_type": "markdown",
   "metadata": {},
   "source": [
    "### Connect to the datacube\n",
    "\n",
    "Connect to the datacube so we can access DEA data.\n",
    "The `app` parameter is a unique name for the analysis which is based on the notebook file name."
   ]
  },
  {
   "cell_type": "code",
   "execution_count": 2,
   "metadata": {},
   "outputs": [],
   "source": [
    "dc = datacube.Datacube(app=\"Error-Estimation-WOfS\")"
   ]
  },
  {
   "cell_type": "markdown",
   "metadata": {},
   "source": [
    "### Analysis parameters\n",
    "\n",
    "Specify the geohash for a waterbody:"
   ]
  },
  {
   "cell_type": "code",
   "execution_count": 3,
   "metadata": {},
   "outputs": [],
   "source": [
    "# geohash = 'r38psere6'  # Lake Cullivel\n",
    "geohash = \"r0xf89fch\"  # Lake Will\n",
    "# geohash = 'r6ktp2tme'  # Rosendahl Reservoir\n",
    "# geohash = 'r3dp1nxh8'  # Lake Burley Griffin\n",
    "# geohash = 'r3f225n9h'  # Weereewa\n",
    "# geohash = 'r42yzdv98'  # Lake Hart\n",
    "# geohash = 'r4m0nb20w'  # Lake Menindee\n",
    "# geohash = 'r4hg88vfn'  # Lake Polpitah"
   ]
  },
  {
   "cell_type": "markdown",
   "metadata": {},
   "source": [
    "A product:"
   ]
  },
  {
   "cell_type": "code",
   "execution_count": 4,
   "metadata": {},
   "outputs": [],
   "source": [
    "product = \"ga_ls7e_ard_3\""
   ]
  },
  {
   "cell_type": "markdown",
   "metadata": {},
   "source": [
    "And a date with observations:"
   ]
  },
  {
   "cell_type": "code",
   "execution_count": 5,
   "metadata": {},
   "outputs": [],
   "source": [
    "date = \"2001-06-03\""
   ]
  },
  {
   "cell_type": "markdown",
   "metadata": {},
   "source": [
    "### Load the waterbody polygon"
   ]
  },
  {
   "cell_type": "code",
   "execution_count": 6,
   "metadata": {},
   "outputs": [],
   "source": [
    "wb = get_waterbody(geohash)"
   ]
  },
  {
   "cell_type": "code",
   "execution_count": 7,
   "metadata": {},
   "outputs": [
    {
     "data": {
      "image/svg+xml": [
       "<svg xmlns=\"http://www.w3.org/2000/svg\" xmlns:xlink=\"http://www.w3.org/1999/xlink\" width=\"300\" height=\"300\" viewBox=\"1184040.0 -4628285.0 945.0 695.0\" preserveAspectRatio=\"xMinYMin meet\"><g transform=\"matrix(1,0,0,-1,0,-9255875.0)\"><path fill-rule=\"evenodd\" fill=\"#66cc99\" stroke=\"#555555\" stroke-width=\"6.3\" opacity=\"0.6\" d=\"M 1184100.0,-4627625.0 L 1184125.0,-4627625.0 L 1184125.0,-4627650.0 L 1184200.0,-4627650.0 L 1184200.0,-4627675.0 L 1184175.0,-4627675.0 L 1184125.0,-4627675.0 L 1184125.0,-4627700.00000001 L 1184150.0,-4627700.0 L 1184150.0,-4627774.99999999 L 1184175.0,-4627775.0 L 1184175.0,-4627750.00000001 L 1184325.0,-4627749.99999999 L 1184325.0,-4627775.0 L 1184350.0,-4627775.0 L 1184350.0,-4627800.0 L 1184400.0,-4627799.99999999 L 1184400.0,-4627775.0 L 1184425.0,-4627775.0 L 1184450.0,-4627775.0 L 1184450.0,-4627725.0 L 1184475.0,-4627725.0 L 1184475.0,-4627750.0 L 1184500.0,-4627750.0 L 1184500.0,-4627825.0 L 1184575.0,-4627825.0 L 1184575.0,-4627850.00000001 L 1184600.0,-4627849.99999999 L 1184600.0,-4627900.0 L 1184725.0,-4627900.0 L 1184725.0,-4627950.0 L 1184750.0,-4627950.0 L 1184750.0,-4628000.0 L 1184800.0,-4628000.0 L 1184800.0,-4628025.0 L 1184850.0,-4628025.0 L 1184850.0,-4628000.0 L 1184875.0,-4628000.0 L 1184875.0,-4628025.0 L 1184900.0,-4628025.00000001 L 1184900.0,-4627975.0 L 1184925.0,-4627975.0 L 1184925.0,-4628025.0 L 1184950.0,-4628025.00000001 L 1184950.0,-4628050.0 L 1184925.0,-4628050.00000001 L 1184900.0,-4628050.0 L 1184900.0,-4628075.0 L 1184925.0,-4628075.00000001 L 1184925.0,-4628100.0 L 1184800.0,-4628100.0 L 1184800.0,-4628075.0 L 1184750.0,-4628075.0 L 1184750.0,-4628100.0 L 1184725.0,-4628100.0 L 1184725.0,-4628150.0 L 1184750.0,-4628150.0 L 1184750.0,-4628175.0 L 1184725.0,-4628175.0 L 1184725.0,-4628200.0 L 1184700.0,-4628200.0 L 1184700.0,-4628225.0 L 1184675.0,-4628225.00000001 L 1184675.0,-4628250.0 L 1184650.0,-4628250.0 L 1184650.0,-4628225.0 L 1184600.0,-4628225.0 L 1184600.0,-4628200.0 L 1184550.0,-4628200.0 L 1184550.0,-4628175.0 L 1184525.0,-4628175.0 L 1184525.0,-4628150.0 L 1184500.0,-4628150.0 L 1184500.0,-4628175.0 L 1184400.0,-4628175.0 L 1184400.0,-4628150.00000001 L 1184275.0,-4628150.0 L 1184275.0,-4628124.99999999 L 1184250.0,-4628125.0 L 1184250.0,-4628099.99999999 L 1184225.0,-4628100.0 L 1184225.0,-4628074.99999999 L 1184150.0,-4628075.0 L 1184150.0,-4628050.0 L 1184125.0,-4628049.99999999 L 1184125.0,-4627999.99999999 L 1184150.0,-4628000.0 L 1184150.0,-4627950.0 L 1184175.0,-4627950.0 L 1184175.0,-4627900.0 L 1184200.0,-4627900.0 L 1184200.0,-4627825.0 L 1184175.0,-4627825.0 L 1184175.0,-4627800.0 L 1184150.0,-4627800.0 L 1184150.0,-4627850.0 L 1184100.0,-4627850.0 L 1184100.0,-4627800.0 L 1184075.0,-4627800.0 L 1184075.0,-4627775.0 L 1184075.0,-4627700.0 L 1184100.0,-4627700.0 L 1184100.0,-4627625.0 z M 1184600.0,-4628075.0 L 1184600.0,-4628125.0 L 1184700.0,-4628124.99999999 L 1184700.0,-4628100.0 L 1184650.0,-4628100.00000001 L 1184650.0,-4628075.0 L 1184600.0,-4628075.0 z M 1184475.0,-4627975.0 L 1184475.0,-4628000.0 L 1184450.0,-4628000.0 L 1184450.0,-4628025.0 L 1184425.0,-4628025.0 L 1184425.0,-4628050.0 L 1184475.0,-4628050.0 L 1184475.0,-4628075.0 L 1184550.0,-4628075.0 L 1184575.0,-4628074.99999999 L 1184575.0,-4628000.0 L 1184525.0,-4628000.0 L 1184525.0,-4627975.0 L 1184475.0,-4627975.0 z\" /></g></svg>"
      ],
      "text/plain": [
       "<shapely.geometry.polygon.Polygon at 0x7f69ffa3b630>"
      ]
     },
     "execution_count": 7,
     "metadata": {},
     "output_type": "execute_result"
    }
   ],
   "source": [
    "wb.geometry[0]"
   ]
  },
  {
   "cell_type": "markdown",
   "metadata": {},
   "source": [
    "## Load a test image\n",
    "\n",
    "We'll load a Landsat image to test out our WOfS probabilities."
   ]
  },
  {
   "cell_type": "code",
   "execution_count": 8,
   "metadata": {},
   "outputs": [],
   "source": [
    "gpg = datacube.utils.geometry.Geometry(wb.geometry[0], crs=wb.crs)"
   ]
  },
  {
   "cell_type": "code",
   "execution_count": 9,
   "metadata": {},
   "outputs": [],
   "source": [
    "best_crs = mostcommon_crs(dc, product=product, query=dict(geopolygon=gpg, time=date))"
   ]
  },
  {
   "cell_type": "code",
   "execution_count": 10,
   "metadata": {},
   "outputs": [],
   "source": [
    "bands = [\n",
    "    \"nbart_blue\",\n",
    "    \"nbart_green\",\n",
    "    \"nbart_red\",\n",
    "    \"nbart_nir\",\n",
    "    \"nbart_swir_1\",\n",
    "    \"nbart_swir_2\",\n",
    "]"
   ]
  },
  {
   "cell_type": "code",
   "execution_count": 11,
   "metadata": {},
   "outputs": [],
   "source": [
    "da = dc.load(\n",
    "    product,\n",
    "    geopolygon=datacube.utils.geometry.Geometry(wb.geometry[0].buffer(500), crs=wb.crs),\n",
    "    time=date,\n",
    "    output_crs=best_crs,\n",
    "    resolution=(-30, 30),\n",
    "    resampling=\"cubic\",\n",
    "    measurements=bands + [\"fmask\"],\n",
    ")"
   ]
  },
  {
   "cell_type": "code",
   "execution_count": 12,
   "metadata": {},
   "outputs": [],
   "source": [
    "landsat = da.isel(time=0)"
   ]
  },
  {
   "cell_type": "code",
   "execution_count": 13,
   "metadata": {},
   "outputs": [
    {
     "data": {
      "image/png": "[encoded data removed]",
      "text/plain": [
       "<Figure size 504x432 with 1 Axes>"
      ]
     },
     "metadata": {
      "needs_background": "light"
     },
     "output_type": "display_data"
    }
   ],
   "source": [
    "rgb(landsat)"
   ]
  },
  {
   "cell_type": "markdown",
   "metadata": {},
   "source": [
    "## WOfS implementation\n",
    "\n",
    "This is a functionally pure reimplementation of WOfS. This lets you do things like accelerate it with libraries that do not permit in-place modification of arrays, e.g. `jax`. This is based on the [actual implementation of WOfS](https://github.com/GeoscienceAustralia/wofs/blob/master/wofs/)."
   ]
  },
  {
   "cell_type": "code",
   "execution_count": 14,
   "metadata": {},
   "outputs": [],
   "source": [
    "def band_ratio(a, b):\n",
    "    \"\"\"\n",
    "    Calculates a normalised ratio index.\n",
    "    \"\"\"\n",
    "    c = (a - b) / (a + b)\n",
    "    return c"
   ]
  },
  {
   "cell_type": "code",
   "execution_count": 15,
   "metadata": {},
   "outputs": [],
   "source": [
    "def wofs_classify(px, jnp=np):\n",
    "    \"\"\"Classifiy an array of Landsat pixels as wet or dry.\"\"\"\n",
    "    ndi_52 = band_ratio(px[4], px[1])\n",
    "    ndi_43 = band_ratio(px[3], px[2])\n",
    "    ndi_72 = band_ratio(px[5], px[1])\n",
    "\n",
    "    b1 = px[0]\n",
    "    b2 = px[1]\n",
    "    b3 = px[2]\n",
    "    b4 = px[3]\n",
    "    b5 = px[4]\n",
    "    b7 = px[5]\n",
    "\n",
    "    return jnp.where(\n",
    "        ndi_52 <= -0.01,\n",
    "        jnp.where(\n",
    "            b1 <= 2083.5,\n",
    "            jnp.where(\n",
    "                b7 <= 323.5,\n",
    "                jnp.where(ndi_43 <= 0.61, True, False),\n",
    "                jnp.where(\n",
    "                    b1 <= 1400.5,\n",
    "                    jnp.where(\n",
    "                        ndi_72 <= -0.23,\n",
    "                        jnp.where(\n",
    "                            ndi_43 <= 0.22, True, jnp.where(b1 <= 473.0, True, False)\n",
    "                        ),\n",
    "                        jnp.where(b1 <= 379.0, True, False),\n",
    "                    ),\n",
    "                    jnp.where(ndi_43 <= -0.01, True, False),\n",
    "                ),\n",
    "            ),\n",
    "            False,\n",
    "        ),\n",
    "        jnp.where(\n",
    "            ndi_52 <= 0.23,\n",
    "            jnp.where(\n",
    "                b1 <= 334.5,\n",
    "                jnp.where(\n",
    "                    ndi_43 <= 0.54,\n",
    "                    jnp.where(\n",
    "                        ndi_52 <= 0.12,\n",
    "                        True,\n",
    "                        jnp.where(\n",
    "                            b3 <= 364.5,\n",
    "                            jnp.where(b1 <= 129.5, True, False),\n",
    "                            jnp.where(b1 <= 300.5, True, False),\n",
    "                        ),\n",
    "                    ),\n",
    "                    False,\n",
    "                ),\n",
    "                False,\n",
    "            ),\n",
    "            jnp.where(\n",
    "                ndi_52 <= 0.34,\n",
    "                jnp.where(\n",
    "                    b1 <= 249.5,\n",
    "                    jnp.where(\n",
    "                        ndi_43 <= 0.45,\n",
    "                        jnp.where(\n",
    "                            b3 <= 364.5, jnp.where(b1 <= 129.5, True, False), True\n",
    "                        ),\n",
    "                        False,\n",
    "                    ),\n",
    "                    False,\n",
    "                ),\n",
    "                False,\n",
    "            ),\n",
    "        ),\n",
    "    )"
   ]
  },
  {
   "cell_type": "code",
   "execution_count": 16,
   "metadata": {},
   "outputs": [],
   "source": [
    "def wofs_classify_marginal(px, jnp=np):\n",
    "    \"\"\"Get the marginal distribution of wet or dry pixels in WOfS.\"\"\"\n",
    "    ndi_52 = band_ratio(px[4], px[1])\n",
    "    ndi_43 = band_ratio(px[3], px[2])\n",
    "    ndi_72 = band_ratio(px[5], px[1])\n",
    "\n",
    "    b1 = px[0]\n",
    "    b2 = px[1]\n",
    "    b3 = px[2]\n",
    "    b4 = px[3]\n",
    "    b5 = px[4]\n",
    "    b7 = px[5]\n",
    "\n",
    "    return jnp.where(\n",
    "        ndi_52 <= -0.01,\n",
    "        jnp.where(\n",
    "            b1 <= 2083.5,\n",
    "            jnp.where(\n",
    "                b7 <= 323.5,\n",
    "                jnp.where(ndi_43 <= 0.61, 0.972, 1.000),\n",
    "                jnp.where(\n",
    "                    b1 <= 1400.5,\n",
    "                    jnp.where(\n",
    "                        ndi_72 <= -0.23,\n",
    "                        jnp.where(\n",
    "                            ndi_43 <= 0.22, 0.786, jnp.where(b1 <= 473.0, 0.978, 0.967)\n",
    "                        ),\n",
    "                        jnp.where(b1 <= 379.0, 0.831, 0.999),\n",
    "                    ),\n",
    "                    jnp.where(ndi_43 <= -0.01, 0.977, 0.997),\n",
    "                ),\n",
    "            ),\n",
    "            0.999,\n",
    "        ),\n",
    "        jnp.where(\n",
    "            ndi_52 <= 0.23,\n",
    "            jnp.where(\n",
    "                b1 <= 334.5,\n",
    "                jnp.where(\n",
    "                    ndi_43 <= 0.54,\n",
    "                    jnp.where(\n",
    "                        ndi_52 <= 0.12,\n",
    "                        0.801,\n",
    "                        jnp.where(\n",
    "                            b3 <= 364.5,\n",
    "                            jnp.where(b1 <= 129.5, 0.632, 0.902),\n",
    "                            jnp.where(b1 <= 300.5, 0.757, 0.885),\n",
    "                        ),\n",
    "                    ),\n",
    "                    0.974,\n",
    "                ),\n",
    "                0.981,\n",
    "            ),\n",
    "            jnp.where(\n",
    "                ndi_52 <= 0.34,\n",
    "                jnp.where(\n",
    "                    b1 <= 249.5,\n",
    "                    jnp.where(\n",
    "                        ndi_43 <= 0.45,\n",
    "                        jnp.where(\n",
    "                            b3 <= 364.5, jnp.where(b1 <= 129.5, 0.616, 0.940), 0.584\n",
    "                        ),\n",
    "                        0.979,\n",
    "                    ),\n",
    "                    0.984,\n",
    "                ),\n",
    "                0.996,\n",
    "            ),\n",
    "        ),\n",
    "    )"
   ]
  },
  {
   "cell_type": "markdown",
   "metadata": {},
   "source": [
    "We also need a function that converts our Landsat DataArray into the format expected by the classifier."
   ]
  },
  {
   "cell_type": "code",
   "execution_count": 17,
   "metadata": {},
   "outputs": [],
   "source": [
    "def xr_to_cube(landsat):\n",
    "    \"\"\"Convert an Landsat xarray Dataset to a DataArray for WOfS.\"\"\"\n",
    "    return landsat[bands].to_array(dim=\"band\")"
   ]
  },
  {
   "cell_type": "code",
   "execution_count": 18,
   "metadata": {},
   "outputs": [],
   "source": [
    "landsat_cube = xr_to_cube(landsat)"
   ]
  },
  {
   "cell_type": "markdown",
   "metadata": {},
   "source": [
    "## Probabilities at leaf nodes"
   ]
  },
  {
   "cell_type": "markdown",
   "metadata": {},
   "source": [
    "We can call `wofs_classify_marginal` to estimate the probabilities of each pixel based on the leaf node that classified them:"
   ]
  },
  {
   "cell_type": "code",
   "execution_count": 19,
   "metadata": {},
   "outputs": [
    {
     "name": "stderr",
     "output_type": "stream",
     "text": [
      "/env/lib/python3.6/site-packages/ipykernel_launcher.py:5: RuntimeWarning: divide by zero encountered in true_divide\n",
      "  \"\"\"\n"
     ]
    },
    {
     "data": {
      "text/plain": [
       "<matplotlib.colorbar.Colorbar at 0x7f69fc2f5ef0>"
      ]
     },
     "execution_count": 19,
     "metadata": {},
     "output_type": "execute_result"
    },
    {
     "data": {
      "image/png": "[encoded data removed]",
      "text/plain": [
       "<Figure size 1080x1080 with 2 Axes>"
      ]
     },
     "metadata": {
      "needs_background": "light"
     },
     "output_type": "display_data"
    }
   ],
   "source": [
    "plt.figure(figsize=(15, 15))\n",
    "plt.imshow(\n",
    "    (\n",
    "        wofs_classify_marginal(landsat_cube.values)\n",
    "        * np.where(wofs_classify(landsat_cube.values), 1, -1)\n",
    "        + 1\n",
    "    )\n",
    "    / 2,\n",
    "    vmin=0,\n",
    "    vmax=1,\n",
    "    cmap=\"coolwarm_r\",\n",
    "    interpolation=\"nearest\",\n",
    ")\n",
    "plt.colorbar(label=\"p(wet)\")"
   ]
  },
  {
   "cell_type": "markdown",
   "metadata": {},
   "source": [
    "## Monte Carlo sampling\n",
    "\n",
    "Assume every pixel is a multivariate normal with a fixed amount of noise. Sample from this, then calculate WOfS."
   ]
  },
  {
   "cell_type": "code",
   "execution_count": 20,
   "metadata": {},
   "outputs": [],
   "source": [
    "def wofs_monte_carlo(ls_pixels, sigma=50, n_draws=100):\n",
    "    \"\"\"Generate Monte Carlo samples from WOfS assuming a given level of Gaussian noise.\"\"\"\n",
    "    # ls_pixels is bands x height x width\n",
    "    # New axes have to go at the start for np.random.normal, but we expect bands to be the first channel, so transpose:\n",
    "    sample = np.random.normal(\n",
    "        ls_pixels, sigma, size=(n_draws,) + ls_pixels.shape\n",
    "    ).transpose(1, 2, 3, 0)\n",
    "    # Then WOfS it\n",
    "    predictions = wofs_classify(sample)\n",
    "    return predictions.mean(axis=-1), predictions.std(axis=-1)"
   ]
  },
  {
   "cell_type": "code",
   "execution_count": 21,
   "metadata": {},
   "outputs": [],
   "source": [
    "mc = wofs_monte_carlo(landsat_cube, sigma=100)"
   ]
  },
  {
   "cell_type": "code",
   "execution_count": 22,
   "metadata": {},
   "outputs": [
    {
     "data": {
      "text/plain": [
       "<matplotlib.colorbar.Colorbar at 0x7f69fc22ea90>"
      ]
     },
     "execution_count": 22,
     "metadata": {},
     "output_type": "execute_result"
    },
    {
     "data": {
      "image/png": "[encoded data removed]",
      "text/plain": [
       "<Figure size 1080x1080 with 2 Axes>"
      ]
     },
     "metadata": {
      "needs_background": "light"
     },
     "output_type": "display_data"
    }
   ],
   "source": [
    "plt.figure(figsize=(15, 15))\n",
    "plt.imshow(mc[0], cmap=\"coolwarm_r\", vmin=0, vmax=1, interpolation=\"nearest\")\n",
    "plt.colorbar(label=\"p(wet)\")\n",
    "# plt.xlim(200, 400)\n",
    "# plt.ylim(500, 300)"
   ]
  },
  {
   "cell_type": "markdown",
   "metadata": {},
   "source": [
    "Compared to the leaf nodes approach, Monte Carlo does a much better job at characterising this lake as uncertain. We also get smoother outputs, whereas the leaf nodes approach has only twice as many possible probabilistic outputs as there are leaf nodes."
   ]
  },
  {
   "cell_type": "markdown",
   "metadata": {},
   "source": [
    "## Virtual product\n",
    "\n",
    "Finally let's build a virtual product for loading the marginals. This will allow easy reuse of the method by letting us load it with a datacube-like API.\n",
    "\n",
    "First we define the transformation:"
   ]
  },
  {
   "cell_type": "code",
   "execution_count": 23,
   "metadata": {},
   "outputs": [],
   "source": [
    "WOFS_OUTPUT = [{\"name\": \"water\", \"dtype\": \"uint8\", \"nodata\": 1, \"units\": \"1\"}]\n",
    "NO_DATA = (\n",
    "    1 << 0\n",
    ")  # (dec 1)   bit 0: 1=pixel masked out due to NO_DATA in NBAR source, 0=valid data in NBAR\n",
    "MASKED_CLOUD = 1 << 6  # (dec 64)  bit 6: 1=pixel masked out due to cloud\n",
    "MASKED_CLOUD_SHADOW = 1 << 5  # (dec 32)  bit 5: 1=pixel masked out due to cloud shadow\n",
    "YES_WATER = 128\n",
    "\n",
    "\n",
    "def fmask_filter(fmask):\n",
    "    masking = np.zeros(fmask.shape, dtype=np.uint8)\n",
    "    masking[fmask == 0] += NO_DATA\n",
    "    masking[fmask == 2] += MASKED_CLOUD\n",
    "    masking[fmask == 3] += MASKED_CLOUD_SHADOW\n",
    "\n",
    "    return masking\n",
    "\n",
    "\n",
    "class WOfSClassifier(Transformation):\n",
    "    def __init__(self):\n",
    "        self.output_measurements = {m[\"name\"]: Measurement(**m) for m in WOFS_OUTPUT}\n",
    "\n",
    "    def measurements(self, input_measurements):\n",
    "        return self.output_measurements\n",
    "\n",
    "    def compute(self, data):\n",
    "        wofs = []\n",
    "        for time_idx in range(len(data.time)):\n",
    "            data_time = data.isel(time=time_idx)\n",
    "            nbar_bands = data_time[bands].to_array(dim=\"band\")\n",
    "            water = xr.DataArray(\n",
    "                (YES_WATER * wofs_classify(nbar_bands)) | fmask_filter(data_time.fmask),\n",
    "                coords={\"x\": nbar_bands.coords[\"x\"], \"y\": nbar_bands.coords[\"y\"]},\n",
    "                dims=[\"y\", \"x\"],\n",
    "            )\n",
    "            probs = xr.DataArray(\n",
    "                (wofs_classify_marginal(nbar_bands)),\n",
    "                coords={\"x\": nbar_bands.coords[\"x\"], \"y\": nbar_bands.coords[\"y\"]},\n",
    "                dims=[\"y\", \"x\"],\n",
    "            )\n",
    "            ds = xr.Dataset({\"water\": water, \"probability\": probs})\n",
    "            wofs.append(ds)\n",
    "        wofs = xr.concat(wofs, dim=\"time\")\n",
    "        wofs.coords['time'] = data.coords['time']\n",
    "        wofs.attrs[\"crs\"] = data.attrs[\"crs\"]\n",
    "        nodata_set = np.bitwise_and(wofs.water.data, NO_DATA) == NO_DATA\n",
    "        wofs.water.data[nodata_set] = np.array(NO_DATA, dtype=\"uint8\")\n",
    "        return wofs"
   ]
  },
  {
   "cell_type": "markdown",
   "metadata": {},
   "source": [
    "Then we build the transformation into a virtual product:"
   ]
  },
  {
   "cell_type": "code",
   "execution_count": 24,
   "metadata": {},
   "outputs": [],
   "source": [
    "wofs_product = construct(\n",
    "    transform=WOfSClassifier,\n",
    "    input=dict(product=product, measurements=bands + [\"fmask\"]),\n",
    ")"
   ]
  },
  {
   "cell_type": "markdown",
   "metadata": {},
   "source": [
    "Now we can `.load` anything we like. Here's the waterbody from before:"
   ]
  },
  {
   "cell_type": "code",
   "execution_count": 25,
   "metadata": {},
   "outputs": [],
   "source": [
    "wofs_loaded = wofs_product.load(\n",
    "    dc,\n",
    "    geopolygon=datacube.utils.geometry.Geometry(wb.geometry[0].buffer(500), crs=wb.crs),\n",
    "    time=date,\n",
    "    output_crs=best_crs,\n",
    "    resolution=(-30, 30),\n",
    "    resampling=\"nearest\",\n",
    ")"
   ]
  },
  {
   "cell_type": "code",
   "execution_count": 26,
   "metadata": {},
   "outputs": [],
   "source": [
    "def plot_wofs(wofs_loaded):\n",
    "    xr.where(\n",
    "        (wofs_loaded.water != MASKED_CLOUD) & (wofs_loaded.water != MASKED_CLOUD_SHADOW),\n",
    "        wofs_loaded.probability,\n",
    "        np.nan,\n",
    "    ).isel(time=0).plot.imshow(interpolation='nearest')"
   ]
  },
  {
   "cell_type": "code",
   "execution_count": 27,
   "metadata": {},
   "outputs": [
    {
     "data": {
      "image/png": "[encoded data removed]",
      "text/plain": [
       "<Figure size 432x288 with 2 Axes>"
      ]
     },
     "metadata": {
      "needs_background": "light"
     },
     "output_type": "display_data"
    }
   ],
   "source": [
    "plot_wofs(wofs_loaded)"
   ]
  },
  {
   "cell_type": "markdown",
   "metadata": {},
   "source": [
    "And here's part of Lake Gordon:"
   ]
  },
  {
   "cell_type": "code",
   "execution_count": 29,
   "metadata": {},
   "outputs": [],
   "source": [
    "wb_gordon = get_waterbody('r0rvh8fpb')\n",
    "wofs_gordon = wofs_product.load(\n",
    "    dc,\n",
    "    geopolygon=datacube.utils.geometry.Geometry(wb_gordon.geometry[0].buffer(500), crs=wb_gordon.crs),\n",
    "    time='2001-12-28',\n",
    "    output_crs=best_crs,\n",
    "    resolution=(-30, 30),\n",
    "    resampling=\"cubic\",\n",
    ")"
   ]
  },
  {
   "cell_type": "code",
   "execution_count": 30,
   "metadata": {},
   "outputs": [
    {
     "data": {
      "image/png": "[encoded data removed]",
      "text/plain": [
       "<Figure size 432x288 with 2 Axes>"
      ]
     },
     "metadata": {
      "needs_background": "light"
     },
     "output_type": "display_data"
    }
   ],
   "source": [
    "plot_wofs(wofs_gordon)"
   ]
  },
  {
   "cell_type": "markdown",
   "metadata": {},
   "source": [
    "***\n",
    "\n",
    "## Additional information\n",
    "\n",
    "**License:** The code in this notebook is licensed under the [Apache License, Version 2.0](https://www.apache.org/licenses/LICENSE-2.0). \n",
    "Digital Earth Australia data is licensed under the [Creative Commons by Attribution 4.0](https://creativecommons.org/licenses/by/4.0/) license.\n",
    "\n",
    "**Contact:** If you need assistance, please post a question on the [Open Data Cube Slack channel](http://slack.opendatacube.org/) or on the [GIS Stack Exchange](https://gis.stackexchange.com/questions/ask?tags=open-data-cube) using the `open-data-cube` tag (you can view previously asked questions [here](https://gis.stackexchange.com/questions/tagged/open-data-cube)).\n",
    "If you would like to report an issue with this notebook, you can file one on [Github](https://github.com/GeoscienceAustralia/dea-notebooks).\n",
    "\n",
    "**Last modified:** November 2020\n",
    "\n",
    "**Compatible datacube version:** "
   ]
  },
  {
   "cell_type": "code",
   "execution_count": null,
   "metadata": {},
   "outputs": [],
   "source": [
    "print(datacube.__version__)"
   ]
  },
  {
   "cell_type": "markdown",
   "metadata": {},
   "source": [
    "## Tags\n",
    "Browse all available tags on the DEA User Guide's [Tags Index](https://docs.dea.ga.gov.au/genindex.html)"
   ]
  },
  {
   "cell_type": "raw",
   "metadata": {
    "raw_mimetype": "text/restructuredtext"
   },
   "source": [
    "**Tags**: :index:`NCI compatible`, :index:`sandbox compatible`, :index:`landsat 7`, :index:`water`, :index:`WOfS`, :index:`DEA Waterbodies`"
   ]
  }
 ],
 "metadata": {
  "kernelspec": {
   "display_name": "Python 3",
   "language": "python",
   "name": "python3"
  },
  "language_info": {
   "codemirror_mode": {
    "name": "ipython",
    "version": 3
   },
   "file_extension": ".py",
   "mimetype": "text/x-python",
   "name": "python",
   "nbconvert_exporter": "python",
   "pygments_lexer": "ipython3",
   "version": "3.6.9"
  },
  "widgets": {
   "application/vnd.jupyter.widget-state+json": {
    "state": {},
    "version_major": 2,
    "version_minor": 0
   }
  }
 },
 "nbformat": 4,
 "nbformat_minor": 4
}
