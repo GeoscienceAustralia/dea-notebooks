{
 "cells": [
  {
   "cell_type": "markdown",
   "metadata": {},
   "source": [
    "# Identify the time a waterbody exceeds X% wet surface area <img align=\"right\" src=\"../../../Supplementary_data/dea_logo.jpg\">\n",
    "\n",
    "* **Compatibility:** Notebook currently compatible with the `NCI` environment only. You can make this notebook `Sandbox` compatible by pointing it to the DEA Waterbodies timeseries located in AWS.\n",
    "* **Products used:** \n",
    "None.\n",
    "* **Prerequisites:** This notebook explores the individual waterbody timeseries csvs contained within the DEA Waterbodies dataset. It has been designed with that very specific purpose in mind, and is not intended as a general analysis notebook. \n",
    "This notebook in its current form assumes that the [`RemoveRiversfromWaterBodyPolygons.ipynb`](RemoveRiversfromWaterBodyPolygons.ipynb) notebook has already been run. You can choose to run this notebook on the non-river filtered polygons, but rivers will produce erroneous results when performing the wet area detection as they are long-standing features in the landscape and a 'first observed' analysis will inevitably be limited by observation availability and not reflect the actual feature."
   ]
  },
  {
   "cell_type": "markdown",
   "metadata": {},
   "source": [
    "## Description\n",
    "This notebook loops through all of the individual DEA Waterbodies timeseries files and finds the quarter (JFM/AMJ/JAS/OND) that each waterbody is first/last observed at having at least `SurfaceAreaThreshold`% of the total surface area of the waterbody observed as wet. This attribute is used as a proxy for construction date for built waterbody structures. This date is then appended to the waterbody polygon shapefile as an attribute. \n",
    "\n",
    "1. Load in the required modules\n",
    "2. Set up the file paths for inputs/outputs\n",
    "3. Read in the DEA Waterbodies shapefile\n",
    "4. Loop through each timeseries and find the quarter where the waterbody is first/last observed at having at least X% of the total surface area of the waterbody observed as wet\n",
    "5. Append this date to the shapefile\n",
    "6. Write out an updated shapefile\n",
    "7. Load in the shapefile again (done as a separate step so you can choose to start to run the notebook from here without re-doing the analysis)\n",
    "8. Groupby the dates and sum the area of all the polygons first/last observed in that quarter\n",
    "9. Plot the results\n",
    "\n",
    "***"
   ]
  },
  {
   "cell_type": "markdown",
   "metadata": {},
   "source": [
    "## Getting started\n",
    "\n",
    "To run this analysis, run all the cells in the notebook, starting with the \"Load packages\" cell. "
   ]
  },
  {
   "cell_type": "markdown",
   "metadata": {},
   "source": [
    "### Load packages\n",
    "Import Python packages that are used for the analysis."
   ]
  },
  {
   "cell_type": "code",
   "execution_count": 2,
   "metadata": {},
   "outputs": [],
   "source": [
    "%matplotlib inline\n",
    "import matplotlib.pyplot as plt\n",
    "\n",
    "import fiona\n",
    "import geopandas as gp\n",
    "import numpy as np\n",
    "\n",
    "import pandas as pd\n",
    "from pandas.plotting import register_matplotlib_converters\n",
    "register_matplotlib_converters()"
   ]
  },
  {
   "cell_type": "markdown",
   "metadata": {},
   "source": [
    "### Analysis parameters\n",
    "* `WaterBodyRiverFiltered`: file path to the DEA Waterbodies shapefile to read in\n",
    "* `CSVFolder`: file path to the folder of DEA Waterbodies timeseries\n",
    "* `SurfaceAreaThreshold`: e.g. 50. Select the percentage of the total surface area of the waterbody that must have been observed as wet as a single time period. \n",
    "* `FirstorLastIndex`: e.g. {'First': 0} for first, or {'Last': -1} for last. Set which index to pull out depending on whether you want to find the first time the surface area wetness threshold was met, or the last time it was."
   ]
  },
  {
   "cell_type": "code",
   "execution_count": 3,
   "metadata": {},
   "outputs": [],
   "source": [
    "WaterBodyRiverFiltered = '/g/data/r78/cek156/dea-notebooks/Scientific_workflows/DEAWaterbodies/AusAllTime01-005HybridWaterbodies/AusWaterBodiesFINALRiverFiltered.shp'\n",
    "CSVFolder = '/g/data/r78/cek156/dea-notebooks/Scientific_workflows/DEAWaterbodies/timeseries_aus_uid/'\n",
    "SurfaceAreaThreshold = 50\n",
    "FirstorLastIndex = {'First': 0}"
   ]
  },
  {
   "cell_type": "markdown",
   "metadata": {},
   "source": [
    "### Read in data and loop through each timeseries"
   ]
  },
  {
   "cell_type": "code",
   "execution_count": 3,
   "metadata": {},
   "outputs": [],
   "source": [
    "WaterBodyRiverFilteredShapes = gp.read_file(WaterBodyRiverFiltered)\n",
    "# Set up an empty attribute to write into\n",
    "WaterBodyRiverFilteredShapes[f'Time {list(FirstorLastIndex.keys())[0]} Exceeds {SurfaceAreaThreshold}%'] = -999"
   ]
  },
  {
   "cell_type": "code",
   "execution_count": 4,
   "metadata": {
    "scrolled": true
   },
   "outputs": [
    {
     "name": "stdout",
     "output_type": "stream",
     "text": [
      "Another one that didn't work...\n",
      "Another one that didn't work...\n",
      "Another one that didn't work...\n",
      "Another one that didn't work...\n",
      "Another one that didn't work...\n",
      "Another one that didn't work...\n",
      "Another one that didn't work...\n",
      "Another one that didn't work...\n",
      "Another one that didn't work...\n",
      "Another one that didn't work...\n",
      "Another one that didn't work...\n",
      "Can't open/g/data/r78/cek156/dea-notebooks/Scientific_workflows/DEAWaterbodies/timeseries_aus_uid/qv6p/qv6p0jr15.csv\n",
      "Another one that didn't work...\n",
      "Can't open/g/data/r78/cek156/dea-notebooks/Scientific_workflows/DEAWaterbodies/timeseries_aus_uid/qvut/qvut32ubz.csv\n",
      "Can't open/g/data/r78/cek156/dea-notebooks/Scientific_workflows/DEAWaterbodies/timeseries_aus_uid/qvzf/qvzfjh7uf.csv\n",
      "Another one that didn't work...\n",
      "Can't open/g/data/r78/cek156/dea-notebooks/Scientific_workflows/DEAWaterbodies/timeseries_aus_uid/r1cv/r1cvw9450.csv\n",
      "Can't open/g/data/r78/cek156/dea-notebooks/Scientific_workflows/DEAWaterbodies/timeseries_aus_uid/r1k2/r1k2rccu9.csv\n",
      "Another one that didn't work...\n",
      "Can't open/g/data/r78/cek156/dea-notebooks/Scientific_workflows/DEAWaterbodies/timeseries_aus_uid/r1qz/r1qz238cv.csv\n",
      "Can't open/g/data/r78/cek156/dea-notebooks/Scientific_workflows/DEAWaterbodies/timeseries_aus_uid/r1r1/r1r1hjuyv.csv\n",
      "Another one that didn't work...\n",
      "Another one that didn't work...\n",
      "Another one that didn't work...\n",
      "Another one that didn't work...\n",
      "Another one that didn't work...\n",
      "Can't open/g/data/r78/cek156/dea-notebooks/Scientific_workflows/DEAWaterbodies/timeseries_aus_uid/r1wk/r1wk02791.csv\n",
      "Another one that didn't work...\n",
      "Can't open/g/data/r78/cek156/dea-notebooks/Scientific_workflows/DEAWaterbodies/timeseries_aus_uid/r30n/r30nf45jq.csv\n",
      "Another one that didn't work...\n",
      "Another one that didn't work...\n",
      "Can't open/g/data/r78/cek156/dea-notebooks/Scientific_workflows/DEAWaterbodies/timeseries_aus_uid/r38p/r38pwsvwh.csv\n",
      "Another one that didn't work...\n",
      "Another one that didn't work...\n",
      "Another one that didn't work...\n",
      "Another one that didn't work...\n",
      "Can't open/g/data/r78/cek156/dea-notebooks/Scientific_workflows/DEAWaterbodies/timeseries_aus_uid/r4z9/r4z9h4k55.csv\n",
      "Can't open/g/data/r78/cek156/dea-notebooks/Scientific_workflows/DEAWaterbodies/timeseries_aus_uid/r5u3/r5u3juecs.csv\n",
      "Another one that didn't work...\n",
      "Another one that didn't work...\n",
      "Another one that didn't work...\n",
      "Another one that didn't work...\n",
      "Another one that didn't work...\n",
      "Another one that didn't work...\n",
      "Can't open/g/data/r78/cek156/dea-notebooks/Scientific_workflows/DEAWaterbodies/timeseries_aus_uid/r6up/r6upjhtyq.csv\n",
      "Can't open/g/data/r78/cek156/dea-notebooks/Scientific_workflows/DEAWaterbodies/timeseries_aus_uid/r74d/r74dznf97.csv\n",
      "Can't open/g/data/r78/cek156/dea-notebooks/Scientific_workflows/DEAWaterbodies/timeseries_aus_uid/r764/r7648hec6.csv\n",
      "Can't open/g/data/r78/cek156/dea-notebooks/Scientific_workflows/DEAWaterbodies/timeseries_aus_uid/r7cd/r7cd57z1h.csv\n",
      "Another one that didn't work...\n",
      "Can't open/g/data/r78/cek156/dea-notebooks/Scientific_workflows/DEAWaterbodies/timeseries_aus_uid/r7g5/r7g5z931y.csv\n",
      "Another one that didn't work...\n",
      "Another one that didn't work...\n",
      "Can't open/g/data/r78/cek156/dea-notebooks/Scientific_workflows/DEAWaterbodies/timeseries_aus_uid/rhg9/rhg9rbvhc.csv\n",
      "Can't open/g/data/r78/cek156/dea-notebooks/Scientific_workflows/DEAWaterbodies/timeseries_aus_uid/rhrz/rhrzd1f33.csv\n",
      "Can't open/g/data/r78/cek156/dea-notebooks/Scientific_workflows/DEAWaterbodies/timeseries_aus_uid/rhut/rhute581e.csv\n",
      "Can't open/g/data/r78/cek156/dea-notebooks/Scientific_workflows/DEAWaterbodies/timeseries_aus_uid/rhvj/rhvj0znm9.csv\n",
      "Another one that didn't work...\n",
      "Another one that didn't work...\n",
      "Can't open/g/data/r78/cek156/dea-notebooks/Scientific_workflows/DEAWaterbodies/timeseries_aus_uid/rj2h/rj2httbdp.csv\n",
      "Another one that didn't work...\n",
      "Can't open/g/data/r78/cek156/dea-notebooks/Scientific_workflows/DEAWaterbodies/timeseries_aus_uid/rk22/rk22bz0n6.csv\n"
     ]
    }
   ],
   "source": [
    "PolygonsThatDidntWork = []\n",
    "\n",
    "for shapes in fiona.open(WaterBodyRiverFiltered):\n",
    "    polyName = shapes['properties']['UID']\n",
    "\n",
    "    # Read in the correct csv file\n",
    "    FileToLoad = f'{CSVFolder}{polyName[:4]}/{polyName}.csv'\n",
    "    try:\n",
    "        Timeseries = pd.read_csv(FileToLoad)\n",
    "    except:\n",
    "        print(f'Can\\'t open{FileToLoad}')\n",
    "        continue\n",
    "\n",
    "    # Change the date column to an actual datetime object\n",
    "    Timeseries['Observation Date'] = pd.to_datetime(\n",
    "        Timeseries['Observation Date'])\n",
    "    Timeseries = Timeseries.set_index(['Observation Date'])\n",
    "\n",
    "    # Aggregate the timeseries quarterly\n",
    "    QuartelyAveraged = Timeseries.resample('Q', label='left').agg('max')\n",
    "\n",
    "    try:\n",
    "        # Find the first time that the timeseries is greater than or equal to 50%\n",
    "        IndexExceeds = np.where(\n",
    "            QuartelyAveraged['Wet pixel percentage'] >= \n",
    "            SurfaceAreaThreshold)[0][list(FirstorLastIndex.values())[0]]\n",
    "        TimeExceeds = QuartelyAveraged.iloc[IndexExceeds]\n",
    "        DateString, BitToThrowOut = str(TimeExceeds.name).split(' ')\n",
    "\n",
    "    except:\n",
    "        print('Another one that didn\\'t work...')\n",
    "        PolygonsThatDidntWork.append(polyName)\n",
    "        continue\n",
    "    # Put the values back into the dataframe\n",
    "    WaterBodyRiverFilteredShapes.at[WaterBodyRiverFilteredShapes.loc[\n",
    "        WaterBodyRiverFilteredShapes['UID'] ==\n",
    "        polyName].index, f'{list(FirstorLastIndex.keys())[0]}{SurfaceAreaThreshold}%'] = DateString\n",
    "\n",
    "WaterBodyRiverFilteredShapes.to_file(\n",
    "    f'/g/data/r78/cek156/dea-notebooks/Scientific_workflows/DEAWaterbodies/AusAllTime01-005HybridWaterbodies/AusWaterBodiesFINALRiverFilteredTimeseries{list(FirstorLastIndex.keys())[0]}{SurfaceAreaThreshold}.shp'\n",
    ")"
   ]
  },
  {
   "cell_type": "markdown",
   "metadata": {},
   "source": [
    "## Calculate some statistics on the timing of waterbodies wet observations\n",
    "Load back in the new appended shapefile and add up the total surface area of waterbodies that were first/last seen as at least X% wet in each quarter through time.\n",
    "\n",
    "*Note that this notebook can be run starting from this point, ignoring the processing cell above if it has previously been run.*"
   ]
  },
  {
   "cell_type": "code",
   "execution_count": 9,
   "metadata": {},
   "outputs": [],
   "source": [
    "AllTheData = gp.read_file(f'/g/data/r78/cek156/dea-notebooks/Scientific_workflows/DEAWaterbodies/AusAllTime01-005HybridWaterbodies/AusWaterBodiesFINALRiverFilteredTimeseries{list(FirstorLastIndex.keys())[0]}{SurfaceAreaThreshold}.shp')"
   ]
  },
  {
   "cell_type": "markdown",
   "metadata": {},
   "source": [
    "### Group the data by quarter, remove missing values and convert to $km^2$"
   ]
  },
  {
   "cell_type": "code",
   "execution_count": 10,
   "metadata": {},
   "outputs": [],
   "source": [
    "# Group all the waterbodies by quarters and sum them up\n",
    "GroupedData = AllTheData.groupby(by=f'{list(FirstorLastIndex.keys())[0]}{SurfaceAreaThreshold}%').sum()\n",
    "# Drop the -999 missing values\n",
    "CleanedData = GroupedData.drop('-999')"
   ]
  },
  {
   "cell_type": "code",
   "execution_count": 11,
   "metadata": {},
   "outputs": [],
   "source": [
    "# Convert the quarter dates to a pandas datetime object\n",
    "CleanedData.index = pd.to_datetime(CleanedData.index)\n",
    "# Convert from m2 to km2\n",
    "CleanedData['area'] = CleanedData['area'] / 1000000"
   ]
  },
  {
   "cell_type": "markdown",
   "metadata": {},
   "source": [
    "### Plot the results"
   ]
  },
  {
   "cell_type": "code",
   "execution_count": 20,
   "metadata": {},
   "outputs": [
    {
     "data": {
      "image/png": "[encoded data removed]",
      "text/plain": [
       "<Figure size 720x576 with 1 Axes>"
      ]
     },
     "metadata": {
      "needs_background": "light"
     },
     "output_type": "display_data"
    }
   ],
   "source": [
    "plt.figure(figsize=[10, 8])\n",
    "plt.plot(CleanedData.area.cumsum())\n",
    "plt.xlim('1992-01-01', '2018-01-01')\n",
    "plt.ylim(40000, 55000)\n",
    "plt.ylabel('Total area of water bodies ($km^2$)')\n",
    "plt.xlabel(f'Time each waterbody {list(FirstorLastIndex.keys())[0]} observed at having at least {SurfaceAreaThreshold}% \\n'\n",
    "           'of the total surface area of the waterbody observed as wet')\n",
    "plt.title(f'Total area of waterbodies {list(FirstorLastIndex.keys())[0]} observed as {SurfaceAreaThreshold}% wet each quarter')\n",
    "plt.rcParams[\"font.size\"] = \"14\""
   ]
  },
  {
   "cell_type": "markdown",
   "metadata": {},
   "source": [
    "***\n",
    "\n",
    "## Additional information\n",
    "\n",
    "**License:** The code in this notebook is licensed under the [Apache License, Version 2.0](https://www.apache.org/licenses/LICENSE-2.0). \n",
    "Digital Earth Australia data is licensed under the [Creative Commons by Attribution 4.0](https://creativecommons.org/licenses/by/4.0/) license.\n",
    "\n",
    "**Contact:** If you need assistance, please post a question on the [Open Data Cube Slack channel](http://slack.opendatacube.org/) or on the [GIS Stack Exchange](https://gis.stackexchange.com/questions/ask?tags=open-data-cube) using the `open-data-cube` tag (you can view previously asked questions [here](https://gis.stackexchange.com/questions/tagged/open-data-cube)).\n",
    "If you would like to report an issue with this notebook, you can file one on [Github](https://github.com/GeoscienceAustralia/dea-notebooks).\n",
    "\n",
    "**Last modified:** January 2020\n",
    "\n",
    "**Compatible datacube version:** N/A"
   ]
  },
  {
   "cell_type": "markdown",
   "metadata": {},
   "source": [
    "## Tags\n",
    "Browse all available tags on the DEA User Guide's [Tags Index](https://docs.dea.ga.gov.au/genindex.html)"
   ]
  },
  {
   "cell_type": "raw",
   "metadata": {
    "raw_mimetype": "text/restructuredtext"
   },
   "source": [
    "**Tags**: :index:`DEA Waterbodies`, :index:`no_testing`"
   ]
  }
 ],
 "metadata": {
  "kernelspec": {
   "display_name": "Python 3",
   "language": "python",
   "name": "python3"
  },
  "language_info": {
   "codemirror_mode": {
    "name": "ipython",
    "version": 3
   },
   "file_extension": ".py",
   "mimetype": "text/x-python",
   "name": "python",
   "nbconvert_exporter": "python",
   "pygments_lexer": "ipython3",
   "version": "3.6.9"
  },
  "widgets": {
   "application/vnd.jupyter.widget-state+json": {
    "state": {},
    "version_major": 2,
    "version_minor": 0
   }
  }
 },
 "nbformat": 4,
 "nbformat_minor": 4
}
