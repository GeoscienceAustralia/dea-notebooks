{
 "cells": [
  {
   "cell_type": "code",
   "execution_count": 1,
   "id": "ac0f3cad-145c-4611-98a1-9bbe078d11ed",
   "metadata": {
    "tags": []
   },
   "outputs": [
    {
     "name": "stderr",
     "output_type": "stream",
     "text": [
      "/env/lib/python3.10/site-packages/dask/dataframe/_pyarrow_compat.py:17: FutureWarning: Minimal version of pyarrow will soon be increased to 14.0.1. You are using 12.0.1. Please consider upgrading.\n",
      "  warnings.warn(\n"
     ]
    }
   ],
   "source": [
    "from osgeo import ogr, gdal, osr\n",
    "import pandas as pd\n",
    "import shapely.wkt\n",
    "import fiona\n",
    "import json\n",
    "import os\n",
    "import base64\n",
    "import numpy as np\n",
    "from pathlib import Path\n",
    "import boto3\n",
    "from datacube import Datacube\n",
    "from datacube.utils.geometry import CRS, Geometry, GeoBox\n",
    "from datacube.testutils.io import native_geobox, native_load\n",
    "from datacube.utils.dask import start_local_dask\n",
    "import rioxarray as rioxr\n",
    "import awswrangler as wr\n",
    "from datetime import timedelta, datetime\n",
    "import dask.dataframe as dd\n",
    "import matplotlib.pyplot as plt\n",
    "import re\n",
    "\n",
    "from datacube.utils.masking import make_mask\n",
    "\n",
    "s3_obj = boto3.client('s3')\n",
    "dc = Datacube()"
   ]
  },
  {
   "cell_type": "code",
   "execution_count": 2,
   "id": "70f2beff-90c1-41e7-bab4-13d11caf7671",
   "metadata": {
    "tags": []
   },
   "outputs": [],
   "source": [
    "ls98_mangroves_paths = wr.s3.list_objects(\"s3://dea-public-data-dev/test/derivative/ga_ls_mangrove_cover_cyear_3/4-0-1/\", suffix=[\".json\"])\n",
    "ls8_mangroves_paths = wr.s3.list_objects(\"s3://dea-public-data-dev/test/derivative/ga_ls_mangrove_cover_cyear_3/4-0-1/\", suffix=[\".json\"])"
   ]
  },
  {
   "cell_type": "code",
   "execution_count": 3,
   "id": "4281385a-5d44-4fb2-b034-064c6a5ac4b9",
   "metadata": {
    "tags": []
   },
   "outputs": [
    {
     "data": {
      "text/plain": [
       "(155, 155)"
      ]
     },
     "execution_count": 3,
     "metadata": {},
     "output_type": "execute_result"
    }
   ],
   "source": [
    "len(ls98_mangroves_paths), len(ls8_mangroves_paths)"
   ]
  },
  {
   "cell_type": "code",
   "execution_count": null,
   "id": "b6a44945-b3a2-4d3c-bc9a-6fc5d64dae7b",
   "metadata": {
    "tags": []
   },
   "outputs": [],
   "source": []
  },
  {
   "cell_type": "code",
   "execution_count": 4,
   "id": "c6bcae72-4ac4-4d84-a3af-e591ec0de52e",
   "metadata": {
    "tags": []
   },
   "outputs": [],
   "source": [
    "ls98_mangroves_paths_2022 = [x for x in ls98_mangroves_paths if '2022--P1Y' in x]\n",
    "ls8_mangroves_paths_2022 = [x for x in ls8_mangroves_paths if '2022--P1Y' in x]"
   ]
  },
  {
   "cell_type": "code",
   "execution_count": null,
   "id": "2891a81b-50a7-468d-abda-b4eddd5caf3c",
   "metadata": {
    "tags": []
   },
   "outputs": [],
   "source": []
  },
  {
   "cell_type": "code",
   "execution_count": 5,
   "id": "7ed70e07-b4f4-474e-be22-832266322611",
   "metadata": {
    "tags": []
   },
   "outputs": [],
   "source": [
    "pattern = r'\\/x\\d+\\/y\\d+\\/'\n",
    "\n",
    "def tile_ids_from_path(ds_paths):\n",
    "    tiles = []\n",
    "    \n",
    "    for s in ds_paths:\n",
    "        # Search for the pattern in the string\n",
    "        match = re.search(pattern, s)\n",
    "\n",
    "        if match:\n",
    "            tile_id = match.group(0).replace(\"/\",\"\")\n",
    "            tiles.append(tile_id)\n",
    "    return tiles"
   ]
  },
  {
   "cell_type": "code",
   "execution_count": 6,
   "id": "c960f19a-55b0-4d24-b544-c7fb6918d6ab",
   "metadata": {
    "tags": []
   },
   "outputs": [],
   "source": [
    "ls98_ds_2022 = tile_ids_from_path(ls98_mangroves_paths_2022)\n",
    "ls8_ds_2022 = tile_ids_from_path(ls8_mangroves_paths_2022)"
   ]
  },
  {
   "cell_type": "code",
   "execution_count": 7,
   "id": "5af774e9-2d52-4780-a2fe-e28929a6ee60",
   "metadata": {
    "tags": []
   },
   "outputs": [],
   "source": [
    "cmn_tiles_2022 = set(ls98_ds_2022).intersection(set(ls8_ds_2022))"
   ]
  },
  {
   "cell_type": "code",
   "execution_count": 8,
   "id": "35ce87e5-7e7d-46f9-b12e-a74750098a2b",
   "metadata": {
    "tags": []
   },
   "outputs": [],
   "source": [
    "def native_load_dss(dss, base_ds, measurements=None):\n",
    "    geobox = native_geobox(\n",
    "            base_ds, basis=list(dss[0].measurements.keys())[0]\n",
    "        )\n",
    "    mm = dss[0].type.lookup_measurements(measurements)\n",
    "    tmp_data = dc.load_data(dc.group_datasets(dss, 'time'),\n",
    "                    geobox, measurements=mm, dask_chunks={'time': 1, 'x': -1, 'y': -1})\n",
    "        \n",
    "    return tmp_data"
   ]
  },
  {
   "cell_type": "code",
   "execution_count": 9,
   "id": "e58c42c0-19bf-4e1f-9060-68474f3536ca",
   "metadata": {
    "tags": []
   },
   "outputs": [],
   "source": [
    "    \n",
    "    # ls89_ds = wr.s3.list_objects(\"s3://dea-public-data-dev/test/derivative/ga_ls_mangrove_cover_cyear_3/4-0-1/\"+\n",
    "    #                              a[:3]+\"/\"+a[3:]+f\"/{year}--P1Y\", suffix=[\".json\"])[0]\n",
    "    \n",
    "    # s3_clientobj_ls89 = s3_obj.get_object(Bucket='dea-public-data-dev', Key=ls89_ds.removeprefix(\"s3://dea-public-data-dev/\"))\n",
    "    # s3_clientdata_ls89 = s3_clientobj_ls89['Body'].read().decode('utf-8')\n",
    "\n",
    "    #     load_path_ls89 = json.loads(s3_clientdata_ls89)[\"assets\"]['canopy_cover_class']['href']                                       \n",
    "    #     ls89_mangroves_data = rioxr.open_rasterio(load_path_ls89)     \n",
    "    #     ls89_mangroves_data = ls89_mangroves_data.where(ls89_mangroves_data[0] != 255)\n",
    "\n",
    "    # , ls89_mangroves_data[ls89_mangroves_data > 0],   \n",
    "        # diff = np.where(np.isnan(ls8_mangroves_data) | np.isnan(ls89_mangroves_data), np.nan, np.subtract(ls8_mangroves_data, ls89_mangroves_data))\n",
    "        # # diff = ls8_mangroves_data - ls89_mangroves_data\n",
    "        # diff = abs(diff[~np.isnan(diff)])"
   ]
  },
  {
   "cell_type": "code",
   "execution_count": 10,
   "id": "554a2535-09a0-412e-b660-c05b6275e015",
   "metadata": {
    "tags": []
   },
   "outputs": [],
   "source": [
    "year = 2022\n",
    "\n",
    "from datacube.utils import masking\n",
    "import dask.array as da\n",
    "from odc.algo import enum_to_bool, erase_bad\n",
    "import multiprocessing\n",
    "\n",
    "# Define a function to compute the diff for a single tile\n",
    "def run_mangroves(a, year, path):    \n",
    "    ds = wr.s3.list_objects(path+\n",
    "                            a[0:3]+\"/\"+a[3:]+f\"/{year}--P1Y\", suffix=[\".json\"])[0]    \n",
    "\n",
    "    s3_clientobj = s3_obj.get_object(Bucket='dea-public-data-dev', Key=ds.removeprefix(\"s3://dea-public-data-dev/\"))\n",
    "    s3_clientdata = s3_clientobj['Body'].read().decode('utf-8')    \n",
    "\n",
    "    load_path = json.loads(s3_clientdata)[\"assets\"]['canopy_cover_class']['href']                                           \n",
    "    mangroves_data = rioxr.open_rasterio(load_path) \n",
    "    mangroves_data = mangroves_data.where(mangroves_data[0] != 255).values\n",
    "    return mangroves_data\n",
    "    # if ~np.isnan(mangroves_data[mangroves_data >= 0]).all():            \n",
    "    #     return mangroves_data[mangroves_data > 0\n",
    "    \n",
    "\n",
    "def run_fcp_cmp(path):\n",
    "    # Specify the number of cores\n",
    "    \n",
    "    num_cores = multiprocessing.cpu_count()\n",
    "    print(num_cores)\n",
    "    num_cores = 1\n",
    "    # Create a multiprocessing pool with specified number of processes\n",
    "    pool = multiprocessing.Pool(processes=num_cores)\n",
    "\n",
    "    results = {}\n",
    "    nomatch_count = 0\n",
    "\n",
    "    \n",
    "    mangroves = []    \n",
    "\n",
    "    # Use multiprocessing to compute diffs for each tile in parallel\n",
    "    for a in cmn_tiles_2022:    \n",
    "        mangroves.append(pool.apply_async(run_mangroves, (a, 2022, path)))        \n",
    "        \n",
    "    # Close the multiprocessing pool\n",
    "    mangroves = [ds.get() for ds in mangroves]    \n",
    "    \n",
    "    pool.close()\n",
    "    pool.join()\n",
    "    return mangroves"
   ]
  },
  {
   "cell_type": "code",
   "execution_count": 11,
   "id": "79fa027f-a109-4091-a4b5-73f1571e3d27",
   "metadata": {
    "tags": []
   },
   "outputs": [
    {
     "name": "stdout",
     "output_type": "stream",
     "text": [
      "96\n"
     ]
    }
   ],
   "source": [
    "ls8_mangroves_results = run_fcp_cmp('s3://dea-public-data-dev/test/derivative/ga_ls_mangrove_cover_cyear_3/4-0-0/')"
   ]
  },
  {
   "cell_type": "code",
   "execution_count": 12,
   "id": "5f653512-f74c-49f9-bf4c-8e3bf59b467d",
   "metadata": {
    "tags": []
   },
   "outputs": [
    {
     "name": "stdout",
     "output_type": "stream",
     "text": [
      "96\n"
     ]
    }
   ],
   "source": [
    "ls89_mangroves_results = run_fcp_cmp('s3://dea-public-data-dev/test/derivative/ga_ls_mangrove_cover_cyear_3/4-0-1/')"
   ]
  },
  {
   "cell_type": "code",
   "execution_count": 13,
   "id": "8fea38c1-b404-4052-9ed6-26fcb1600224",
   "metadata": {
    "tags": []
   },
   "outputs": [],
   "source": [
    "ls8_mangroves_results_flat = np.concatenate(ls8_mangroves_results)\n",
    "ls89_mangroves_results_flat = np.concatenate(ls89_mangroves_results)"
   ]
  },
  {
   "cell_type": "code",
   "execution_count": 14,
   "id": "958261e7-ca36-4953-a952-0fde9cb1d7ea",
   "metadata": {},
   "outputs": [],
   "source": [
    "def mangroves_area(results):    \n",
    "    return np.sum(results) * 30**2    "
   ]
  },
  {
   "cell_type": "code",
   "execution_count": 15,
   "id": "1efb9b5e-932e-499f-98be-44dcf500390c",
   "metadata": {
    "tags": []
   },
   "outputs": [
    {
     "name": "stdout",
     "output_type": "stream",
     "text": [
      "Total difference in mangroves expected area (km, ls8-ls89): -142731.0\n"
     ]
    }
   ],
   "source": [
    "total_area_ls8 = mangroves_area(ls8_mangroves_results_flat[ls8_mangroves_results_flat >= 0])\n",
    "total_area_ls89 = mangroves_area(ls89_mangroves_results_flat[ls89_mangroves_results_flat >= 0])\n",
    "print(\"Total difference in mangroves expected area (km, ls8-ls89):\", (total_area_ls8-total_area_ls89)/1e+3)"
   ]
  },
  {
   "cell_type": "code",
   "execution_count": null,
   "id": "76263f09-f585-4044-a459-2f916b7cf7b0",
   "metadata": {
    "tags": []
   },
   "outputs": [],
   "source": []
  },
  {
   "cell_type": "code",
   "execution_count": 16,
   "id": "20d3d35d-6fdc-4984-88c0-fa2e0d5f4ec3",
   "metadata": {
    "tags": []
   },
   "outputs": [
    {
     "name": "stdout",
     "output_type": "stream",
     "text": [
      "Total percentage change -142756.2\n",
      "Percentage difference in NotObserved ls8-ls89 0.0\n",
      "Percentage difference in Woodland ls8-ls89 -0.1723514986645372\n",
      "Percentage difference in OpenForest ls8-ls89 -0.7419982011219461\n",
      "Percentage difference in ClosedForest ls8-ls89 0.9143870169670665\n"
     ]
    }
   ],
   "source": [
    "ls8_total_detected_mangroves_area = mangroves_area(ls8_mangroves_results_flat[ls8_mangroves_results_flat > 0])\n",
    "ls89_total_detected_mangroves_area = mangroves_area(ls89_mangroves_results_flat[ls89_mangroves_results_flat > 0])                                          \n",
    "print(f\"Total percentage change {(ls8_total_detected_mangroves_area - ls89_total_detected_mangroves_area)/1e+3}\")\n",
    " \n",
    "for cls_value,cls_name in {0:'NotObserved', 1:'Woodland', 2:'OpenForest', 3:'ClosedForest'}.items():\n",
    "    ls8 = mangroves_area(ls8_mangroves_results_flat[ls8_mangroves_results_flat == cls_value])\n",
    "    ls89 = mangroves_area(ls89_mangroves_results_flat[ls89_mangroves_results_flat == cls_value])\n",
    "    print(f'Percentage difference in {cls_name} ls8-ls89 {100*((ls8/total_area_ls8) - (ls89/total_area_ls89))}')"
   ]
  }
 ],
 "metadata": {
  "kernelspec": {
   "display_name": "Python 3 (ipykernel)",
   "language": "python",
   "name": "python3"
  },
  "language_info": {
   "codemirror_mode": {
    "name": "ipython",
    "version": 3
   },
   "file_extension": ".py",
   "mimetype": "text/x-python",
   "name": "python",
   "nbconvert_exporter": "python",
   "pygments_lexer": "ipython3",
   "version": "3.10.13"
  }
 },
 "nbformat": 4,
 "nbformat_minor": 5
}
