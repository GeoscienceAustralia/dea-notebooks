{
 "cells": [
  {
   "cell_type": "code",
   "execution_count": 8,
   "id": "0297c5ca-74b8-4f92-b05f-99b15488015a",
   "metadata": {
    "tags": []
   },
   "outputs": [],
   "source": [
    "from osgeo import ogr, gdal, osr\n",
    "import pandas as pd\n",
    "import shapely.wkt\n",
    "import fiona\n",
    "import json\n",
    "import os\n",
    "import base64\n",
    "import numpy as np\n",
    "from pathlib import Path\n",
    "import boto3\n",
    "from datacube import Datacube\n",
    "from datacube.utils.geometry import CRS, Geometry, GeoBox\n",
    "from datacube.testutils.io import native_geobox, native_load\n",
    "from datacube.utils.dask import start_local_dask\n",
    "import rioxarray as rioxr\n",
    "import awswrangler as wr\n",
    "from datetime import timedelta, datetime\n",
    "import dask.dataframe as dd\n",
    "\n",
    "from datacube.utils.masking import make_mask\n",
    "\n",
    "s3_obj = boto3.client('s3')"
   ]
  },
  {
   "cell_type": "code",
   "execution_count": 9,
   "id": "bf7cdafa-4760-4fd7-8208-bde8bfad97e2",
   "metadata": {
    "tags": []
   },
   "outputs": [],
   "source": [
    "dc = Datacube()"
   ]
  },
  {
   "cell_type": "code",
   "execution_count": 3,
   "id": "ab41f259-147c-4fe4-83ae-1049583e2ee0",
   "metadata": {
    "tags": []
   },
   "outputs": [],
   "source": [
    "ls9_polygons = np.genfromtxt(\"ls9_underfly_ls8.txt\", dtype=str)"
   ]
  },
  {
   "cell_type": "code",
   "execution_count": 185,
   "id": "801c86d3-6f9c-4609-b0ae-43890f965a44",
   "metadata": {
    "tags": []
   },
   "outputs": [],
   "source": [
    "# ls9_datasets = wr.s3.list_objects(\"s3://dea-public-data-dev/test/ls9_wo/ga_ls_wo_3/1-6-0/091/072/2021/11/\",\n",
    "#                                   suffix=[\".json\"])\n",
    "\n",
    "# ls9_datasets = wr.s3.list_objects(\"s3://dea-public-data-dev/baseline/ga_ls9c_ard_3/\"+\n",
    "#                                   a[0][:3]+\"/\"+a[0][3:], suffix=[\".json\"]\")\n",
    "                                  \n",
    "                                "
   ]
  },
  {
   "cell_type": "code",
   "execution_count": 186,
   "id": "355c4e69-275a-490f-a46f-7332f66b555a",
   "metadata": {
    "tags": []
   },
   "outputs": [
    {
     "data": {
      "text/plain": [
       "['s3://dea-public-data-dev/test/ls9_fc/ga_ls_fc_3/2-5-0/091/076/2021/11/11/ga_ls_fc_3_091076_2021-11-11_interim.stac-item.json',\n",
       " 's3://dea-public-data-dev/test/ls9_fc/ga_ls_fc_3/2-5-0/091/076/2021/11/16/ga_ls_fc_3_091076_2021-11-16_interim.stac-item.json',\n",
       " 's3://dea-public-data-dev/test/ls9_fc/ga_ls_fc_3/2-5-0/091/076/2021/11/21/ga_ls_fc_3_091076_2021-11-21_interim.stac-item.json']"
      ]
     },
     "execution_count": 186,
     "metadata": {},
     "output_type": "execute_result"
    }
   ],
   "source": [
    "ls9_datasets"
   ]
  },
  {
   "cell_type": "code",
   "execution_count": 7,
   "id": "f48a0f65-af7a-4d1b-a802-1ade59b9c883",
   "metadata": {
    "tags": []
   },
   "outputs": [],
   "source": [
    "s3_clientobj = s3_obj.get_object(Bucket='dea-public-data-dev',\n",
    "                                 Key=ls9_datasets[1].removeprefix(\"s3://dea-public-data-dev/\"))\n",
    "s3_clientdata = s3_clientobj['Body'].read().decode('utf-8')"
   ]
  },
  {
   "cell_type": "code",
   "execution_count": 19,
   "id": "262037fa-4fc1-446c-b0a4-9162f0591c07",
   "metadata": {
    "tags": []
   },
   "outputs": [],
   "source": [
    "\n",
    "# re_list = {}\n",
    "# ls8_matching = []\n",
    "# ls9_matching = []\n",
    "# not_matching_lst = []\n",
    "\n",
    "# for a in ls9_polygons:       \n",
    "#     ls9_datasets = wr.s3.list_objects(\"s3://dea-public-data/baseline/ga_ls9c_ard_3/\"+\n",
    "#                                       a[0][:3]+\"/\"+a[0][3:], suffix=[\".json\"])                        \n",
    "#     for d in ls9_datasets:        \n",
    "#         s3_clientobj = s3_obj.get_object(Bucket='dea-public-data',\n",
    "#                                      Key=d.removeprefix(\"s3://dea-public-data/\"))\n",
    "#         s3_clientdata = s3_clientobj['Body'].read().decode('utf-8') \n",
    "#         ls9_time = json.loads(s3_clientdata)[\"properties\"][\"datetime\"]\n",
    "#         ls9_time = datetime.fromisoformat(ls9_time.rstrip('Z') + \"+00:00\")   \n",
    "#         query_poly = Geometry(json.loads(s3_clientdata)[\"geometry\"], crs=\"4326\")\n",
    "#         ls8_query = {}\n",
    "#         ls8_query[\"geopolygon\"] = query_poly\n",
    "#         if ls9_time > datetime.fromisoformat('2021-12-01T23:59:59+00:00'):\n",
    "#             continue\n",
    "#         ls9_crs = json.loads(s3_clientdata)[\"properties\"][\"proj:epsg\"]                    \n",
    "#         ls8_query['time'] = (ls9_time-timedelta(days=1),\n",
    "#                          ls9_time+timedelta(days=1))\n",
    "#         ls8_datasets = dc.find_datasets(product='ga_ls8c_ard_3', **ls8_query)         \n",
    "#         ls8_datasets.sort(key=lambda x: x.center_time)                            \n",
    "#         if ls8_datasets == []:\n",
    "#             continue\n",
    "#         else:                       \n",
    "#             non_matching = [ds for ds in ls8_datasets if ds.crs != CRS(str(ls9_crs))]\n",
    "#             not_matching_lst.extend(non_matching)\n",
    "           \n",
    "#             ls8_datasets = [str(ds.id) for ds in ls8_datasets if ds.crs == CRS(str(ls9_crs))]\n",
    "#             ls8_matching.extend(ls8_datasets)\n",
    "#             if ls8_datasets:\n",
    "#                 ls9_matching.append(json.loads(s3_clientdata).get(\"id\"))\n",
    "#                 print(f\"LS9 {json.loads(s3_clientdata).get('id')} matches LS8: {ls8_datasets}\")\n",
    "#         break\n",
    "                    "
   ]
  },
  {
   "cell_type": "code",
   "execution_count": 244,
   "id": "0157f4f7-fc00-47a7-940c-d5c38dc65b4f",
   "metadata": {
    "tags": []
   },
   "outputs": [],
   "source": [
    "# from dea_tools.plotting import display_map, rgb\n",
    "# rgb_bands = ['red', 'green', 'blue']\n",
    "# dsp_9 = dc.load(product='ga_ls9c_ard_3', id='4234113f-5883-4d87-9865-b9816a3c3983', measurements=rgb_bands)\n",
    "# rgb(dsp_9, bands=rgb_bands, index=0)"
   ]
  },
  {
   "cell_type": "code",
   "execution_count": 245,
   "id": "e478cf59-54f2-498f-af0b-0e2b4e5dad38",
   "metadata": {
    "tags": []
   },
   "outputs": [],
   "source": [
    "# dsp_8 = dc.load(product='ga_ls8c_ard_3', id='8327fd6d-16f7-4db9-977f-98de5795e142', measurements=rgb_bands)\n",
    "# rgb(dsp_8, bands=rgb_bands, index=0)"
   ]
  },
  {
   "cell_type": "code",
   "execution_count": 71,
   "id": "eb6d2758-d7ed-4420-8d91-e515ef764e4d",
   "metadata": {
    "tags": []
   },
   "outputs": [],
   "source": [
    "ls9_datasets = wr.s3.list_objects(\"\", suffix=[\".json\"])                                       "
   ]
  },
  {
   "cell_type": "code",
   "execution_count": 72,
   "id": "c3ded075-b1c2-496a-ac9a-f3d102c98736",
   "metadata": {
    "tags": []
   },
   "outputs": [
    {
     "data": {
      "text/plain": [
       "164"
      ]
     },
     "execution_count": 72,
     "metadata": {},
     "output_type": "execute_result"
    }
   ],
   "source": [
    "len(ls9_datasets)"
   ]
  },
  {
   "cell_type": "code",
   "execution_count": 3,
   "id": "99bc5439-4d12-418e-a984-37bcb1fdd537",
   "metadata": {
    "tags": []
   },
   "outputs": [],
   "source": [
    "ls9_ard_scenes = list(filter(lambda x: '2021-11' in x, ls9_datasets))"
   ]
  },
  {
   "cell_type": "code",
   "execution_count": 4,
   "id": "eff81664-a863-450b-a6cc-0b9dda72d58e",
   "metadata": {
    "tags": []
   },
   "outputs": [],
   "source": [
    "from pathlib import Path\n",
    "\n",
    "wofs_files = []\n",
    "\n",
    "for f in ls9_ard_scenes:    \n",
    "    wofs_files.append(Path(f).name.replace('wo', 'fc'))"
   ]
  },
  {
   "cell_type": "code",
   "execution_count": 8,
   "id": "85e9a6e9-554a-4225-ae40-575a82d939ac",
   "metadata": {
    "tags": []
   },
   "outputs": [],
   "source": [
    "path = '/gdata1/projects/landcover/fractional-cover-model/ga_ls_fc_3/ls9_2021_peocessed.txt'\n",
    "\n",
    "ls9_fc_2021_processed = []\n",
    "with open(path, \"r\") as file:\n",
    "    # Read the file content into a list\n",
    "    ids = file.readlines()\n",
    "    \n",
    "for item in ids:        \n",
    "    ls9_fc_2021_processed.append(Path(item.rstrip('\\n')).name)"
   ]
  },
  {
   "cell_type": "code",
   "execution_count": 10,
   "id": "bfbebb78-9105-49a2-92dc-06ae62c5b30c",
   "metadata": {
    "tags": []
   },
   "outputs": [
    {
     "data": {
      "text/plain": [
       "164"
      ]
     },
     "execution_count": 10,
     "metadata": {},
     "output_type": "execute_result"
    }
   ],
   "source": [
    "len(ls9_fc_2021_processed)"
   ]
  },
  {
   "cell_type": "code",
   "execution_count": 11,
   "id": "851fe37a-1491-435b-a976-c53fc8820e81",
   "metadata": {
    "tags": []
   },
   "outputs": [
    {
     "data": {
      "text/plain": [
       "set()"
      ]
     },
     "execution_count": 11,
     "metadata": {},
     "output_type": "execute_result"
    }
   ],
   "source": [
    "set(wofs_files) - set(ls9_fc_2021_processed) "
   ]
  },
  {
   "cell_type": "code",
   "execution_count": 12,
   "id": "2fd1efe0-7c05-4ffc-a756-64d3ecfbd3ff",
   "metadata": {
    "tags": []
   },
   "outputs": [
    {
     "ename": "NameError",
     "evalue": "name 's3_obj' is not defined",
     "output_type": "error",
     "traceback": [
      "\u001b[0;31m---------------------------------------------------------------------------\u001b[0m",
      "\u001b[0;31mNameError\u001b[0m                                 Traceback (most recent call last)",
      "Cell \u001b[0;32mIn[12], line 4\u001b[0m\n\u001b[1;32m      1\u001b[0m ls9_nov_scene_ids \u001b[38;5;241m=\u001b[39m []\n\u001b[1;32m      3\u001b[0m \u001b[38;5;28;01mfor\u001b[39;00m d \u001b[38;5;129;01min\u001b[39;00m ls9_ard_scenes:\n\u001b[0;32m----> 4\u001b[0m     s3_clientobj \u001b[38;5;241m=\u001b[39m \u001b[43ms3_obj\u001b[49m\u001b[38;5;241m.\u001b[39mget_object(Bucket\u001b[38;5;241m=\u001b[39m\u001b[38;5;124m'\u001b[39m\u001b[38;5;124mdea-public-data-dev\u001b[39m\u001b[38;5;124m'\u001b[39m, Key\u001b[38;5;241m=\u001b[39md\u001b[38;5;241m.\u001b[39mremoveprefix(\u001b[38;5;124m\"\u001b[39m\u001b[38;5;124ms3://dea-public-data-dev/\u001b[39m\u001b[38;5;124m\"\u001b[39m))\n\u001b[1;32m      5\u001b[0m     ls9_scene_id \u001b[38;5;241m=\u001b[39m json\u001b[38;5;241m.\u001b[39mloads(s3_clientobj[\u001b[38;5;124m'\u001b[39m\u001b[38;5;124mBody\u001b[39m\u001b[38;5;124m'\u001b[39m]\u001b[38;5;241m.\u001b[39mread()\u001b[38;5;241m.\u001b[39mdecode(\u001b[38;5;124m'\u001b[39m\u001b[38;5;124mutf-8\u001b[39m\u001b[38;5;124m'\u001b[39m))[\u001b[38;5;124m'\u001b[39m\u001b[38;5;124mproperties\u001b[39m\u001b[38;5;124m'\u001b[39m][\u001b[38;5;124m'\u001b[39m\u001b[38;5;124modc:lineage\u001b[39m\u001b[38;5;124m'\u001b[39m][\u001b[38;5;124m'\u001b[39m\u001b[38;5;124mard\u001b[39m\u001b[38;5;124m'\u001b[39m]\n\u001b[1;32m      6\u001b[0m     ls9_nov_scene_ids\u001b[38;5;241m.\u001b[39mappend(ls9_scene_id)    \n",
      "\u001b[0;31mNameError\u001b[0m: name 's3_obj' is not defined"
     ]
    }
   ],
   "source": [
    "ls9_nov_scene_ids = []\n",
    "\n",
    "for d in ls9_ard_scenes:\n",
    "    s3_clientobj = s3_obj.get_object(Bucket='dea-public-data-dev', Key=d.removeprefix(\"s3://dea-public-data-dev/\"))\n",
    "    ls9_scene_id = json.loads(s3_clientobj['Body'].read().decode('utf-8'))['properties']['odc:lineage']['ard']\n",
    "    ls9_nov_scene_ids.append(ls9_scene_id)    "
   ]
  },
  {
   "cell_type": "code",
   "execution_count": 7,
   "id": "bb69707c-6c1e-4992-b0a9-b0821b6b0fc9",
   "metadata": {
    "tags": []
   },
   "outputs": [],
   "source": [
    "with open('ls9_nov_scenes_ids_all.txt', \"w\") as file:\n",
    "    # Write each item to the file followed by a newline character\n",
    "    for item in ls9_nov_scene_ids:        \n",
    "        file.write(item[0] + \"\\n\")"
   ]
  },
  {
   "cell_type": "code",
   "execution_count": 40,
   "id": "71337a94-5bae-4454-a6ab-7366009c6e96",
   "metadata": {
    "tags": []
   },
   "outputs": [],
   "source": [
    "def decode_credentials(encoded_file):\n",
    "    with open(encoded_file, 'rb') as f:\n",
    "        encoded_data = f.read()\n",
    "        decoded_data = base64.b64decode(encoded_data)\n",
    "        decoded_credentials = decoded_data.decode('utf-8').split(':')        \n",
    "        # Assuming format of the file is:\n",
    "        # access_key_id\n",
    "        # secret_access_key\n",
    "        access_key_id = decoded_credentials[0]\n",
    "        secret_access_key = decoded_credentials[1]\n",
    "      \n",
    "        return access_key_id, secret_access_key"
   ]
  },
  {
   "cell_type": "markdown",
   "id": "9a996324-ccc2-4db8-9704-236ab0665ead",
   "metadata": {
    "tags": []
   },
   "source": [
    "## Upload data to S3"
   ]
  },
  {
   "cell_type": "code",
   "execution_count": 3,
   "id": "b0aab3ac-4938-4071-b044-14466cf93f49",
   "metadata": {
    "tags": []
   },
   "outputs": [],
   "source": [
    "# def upload_to_s3(local_path, bucket_name, s3_prefix='', extensions=['.tif', '.jpg','.yaml', '.sha1', '.json']):\n",
    "#     access_key_id, secret_access_key = decode_credentials('/home/jovyan/aws.txt')\n",
    "#     # Use the decoded credentials to configure boto3\n",
    "#     s3 = boto3.client(\n",
    "#         's3',\n",
    "#         aws_access_key_id=access_key_id,\n",
    "#         aws_secret_access_key=secret_access_key\n",
    "#     )\n",
    "\n",
    "#     for root, dirs, files in os.walk(local_path):   \n",
    "#         for file in files:      \n",
    "#             if Path(file).suffix in extensions and root.find('pynb_checkpoints') == -1:\n",
    "#                 local_file_path = os.path.join(root, file)                            \n",
    "#                 s3_file_key = os.path.join(s3_prefix, local_file_path.replace(\"/gdata1/projects/landcover/fractional-cover-model/\", \"\"))                \n",
    "#                 s3.upload_file(local_file_path, bucket_name, s3_file_key)\n",
    "#                 print(f\"Uploaded {local_file_path} to s3://{bucket_name}/{s3_file_key}\")\n",
    "                            \n",
    "# # Example usage\n",
    "# local_path = '/gdata1/projects/landcover/fractional-cover-model/ga_ls_fc_3/2-5-0/'\n",
    "# bucket_name = 'dea-public-data-dev'\n",
    "# s3_prefix = 'test/ls9_fc/'\n",
    "\n",
    "# upload_to_s3(local_path, bucket_name, s3_prefix)"
   ]
  },
  {
   "cell_type": "code",
   "execution_count": 17,
   "id": "8bf17bad-68be-4459-a972-6895d1f3ce54",
   "metadata": {
    "tags": []
   },
   "outputs": [],
   "source": [
    "cmds = []\n",
    "\n",
    "with open(\"/home/jovyan/dea-notebooks/Scientific_workflows/LS9_FC/ls9_nov_scene_ids_2.txt\", \"r\") as file:\n",
    "    # Read the file content into a list\n",
    "    ids = file.readlines()\n",
    "    \n",
    "for idx in ids:\n",
    "    idx = idx.rstrip('\\n')\n",
    "    cmds.append(f'datacube-alchemist run-one -u {idx} -c /home/jovyan/ls9_fc_config.yaml')\n"
   ]
  },
  {
   "cell_type": "code",
   "execution_count": 23,
   "id": "6537b560-c010-4ae5-a103-12cbe4cccbfb",
   "metadata": {
    "tags": []
   },
   "outputs": [
    {
     "data": {
      "text/plain": [
       "105"
      ]
     },
     "execution_count": 23,
     "metadata": {},
     "output_type": "execute_result"
    }
   ],
   "source": [
    "len(cmds)"
   ]
  },
  {
   "cell_type": "code",
   "execution_count": 18,
   "id": "ca3401a2-68ea-4ba7-a51c-52ac4341f31d",
   "metadata": {
    "tags": []
   },
   "outputs": [],
   "source": [
    "# len(ls9_nov_scene_ids)"
   ]
  },
  {
   "cell_type": "markdown",
   "id": "f1040973-b140-40b6-9235-59ccb21965da",
   "metadata": {},
   "source": [
    "## Run FC"
   ]
  },
  {
   "cell_type": "code",
   "execution_count": 4,
   "id": "cc7a5784-36ac-4b5f-a4a8-745919d21a85",
   "metadata": {
    "tags": []
   },
   "outputs": [],
   "source": [
    "# import multiprocessing\n",
    "# import subprocess\n",
    "\n",
    "# def run_command(command):\n",
    "#     \"\"\"Function to run a bash command.\"\"\"\n",
    "#     subprocess.run(command, shell=True)\n",
    "#     print(command)\n",
    "#     print(\"\")\n",
    "    \n",
    "\n",
    "# # Create a list of commands (you can add more commands if needed)\n",
    "# num_cpus = multiprocessing.cpu_count()\n",
    "# print(num_cpus)\n",
    "\n",
    "# # Create a multiprocessing pool with the number of CPUs\n",
    "# with multiprocessing.Pool(processes=10) as pool:\n",
    "#     # Execute the commands using the pool\n",
    "#     results = pool.map_async(run_command, cmds)\n",
    "\n",
    "#     # Wait for all tasks to finish\n",
    "#     results.wait()\n",
    "\n",
    "#     # Check if all tasks have been completed\n",
    "#     if results.ready():\n",
    "#         print(\"All tasks have been completed.\")"
   ]
  },
  {
   "cell_type": "code",
   "execution_count": 10,
   "id": "ee0f8b63-bec2-4a2a-8520-c7db0c6326eb",
   "metadata": {
    "tags": []
   },
   "outputs": [],
   "source": [
    "ls9_polygons = np.genfromtxt(\"ls9_underfly_ls8.txt\", dtype=str)"
   ]
  },
  {
   "cell_type": "code",
   "execution_count": 11,
   "id": "347ce85f-6938-4db1-a89c-d2a611c494bd",
   "metadata": {
    "tags": []
   },
   "outputs": [],
   "source": [
    "def native_load_dss(dss, base_ds, measurements=None):\n",
    "    geobox = native_geobox(\n",
    "            base_ds, basis=list(dss[0].measurements.keys())[0]\n",
    "        )\n",
    "    mm = dss[0].type.lookup_measurements(measurements)\n",
    "    tmp_data = dc.load_data(dc.group_datasets(dss, 'time'),\n",
    "                    geobox, measurements=mm, dask_chunks={'time': 1, 'x': -1, 'y': -1})\n",
    "        \n",
    "    return tmp_data"
   ]
  },
  {
   "cell_type": "code",
   "execution_count": 12,
   "id": "ef7101f2-c4ce-4eeb-a490-4a5d9555968e",
   "metadata": {
    "tags": []
   },
   "outputs": [
    {
     "name": "stdout",
     "output_type": "stream",
     "text": [
      " dropping 113072\n",
      " dropping 113074\n",
      " dropping 113083\n",
      " dropping 091072\n",
      " dropping 091075\n",
      " dropping 094071\n",
      " dropping 094072\n"
     ]
    }
   ],
   "source": [
    "sea_pathrows = '113072', '113074', '113083', '091072', '091075', '094071', '094072'\n",
    "ls9_polygons_no_sea = [] \n",
    "\n",
    "for ply in ls9_polygons:\n",
    "    if not ply[0] in sea_pathrows:        \n",
    "        ls9_polygons_no_sea.append(ply)\n",
    "    else:\n",
    "        print(\" dropping\", ply[0])"
   ]
  },
  {
   "cell_type": "code",
   "execution_count": 13,
   "id": "42291d45-0a3b-4598-87d3-63155ed987e4",
   "metadata": {
    "tags": []
   },
   "outputs": [
    {
     "data": {
      "text/plain": [
       "array(['113073', '117.218', '-19.674', '119.3', '-17.9043'], dtype='<U8')"
      ]
     },
     "execution_count": 13,
     "metadata": {},
     "output_type": "execute_result"
    }
   ],
   "source": [
    "ls9_polygons_no_sea[0]"
   ]
  },
  {
   "cell_type": "code",
   "execution_count": 15,
   "id": "820b837c-1890-460f-93f8-e1383d90928c",
   "metadata": {
    "tags": []
   },
   "outputs": [],
   "source": [
    "import geopandas as gpd\n",
    "from rasterio.mask import mask\n",
    "\n",
    "au_shape = 'aus_map/cstauscd_r_3577.shp'"
   ]
  },
  {
   "cell_type": "code",
   "execution_count": 17,
   "id": "6c368c06-ed0f-4871-bd0c-b88010a594d3",
   "metadata": {
    "tags": []
   },
   "outputs": [],
   "source": [
    "def generate_seamask(shape_file, data_shape, data_crs, orig_coords, resolution):\n",
    "    \"\"\"\n",
    "        creak mask without oceans\n",
    "        input:\n",
    "            shape_file: the shape file of Australia coastline\n",
    "            data_shape: the shape of loaded data to be masked upon\n",
    "            orig_coords: the origin of the image for gdal to decide the transform\n",
    "            resolution: pixel size with signs, e.g., (30, -30) for C3 and (25, -25) for C2\n",
    "        output:\n",
    "            a numpy array of mask, where valid pixels = 1\n",
    "    \"\"\"\n",
    "    source_ds = ogr.Open(shape_file)\n",
    "    source_layer = source_ds.GetLayer()\n",
    "    source_layer.SetAttributeFilter(\"FEAT_CODE!='sea'\")\n",
    "\n",
    "    yt, xt = data_shape\n",
    "    xres = resolution[0]\n",
    "    yres = resolution[1]\n",
    "    no_data = 0\n",
    "\n",
    "    xcoord, ycoord = orig_coords\n",
    "    geotransform = (xcoord - (xres*0.5), xres, 0, ycoord - (yres*0.5), 0, yres)\n",
    "\n",
    "    target_ds = gdal.GetDriverByName('MEM').Create('', xt, yt, gdal.GDT_Byte)\n",
    "    target_ds.SetGeoTransform(geotransform)\n",
    "    albers = osr.SpatialReference()\n",
    "    albers.ImportFromEPSG(int(data_crs))\n",
    "    target_ds.SetProjection(albers.ExportToWkt())\n",
    "    band = target_ds.GetRasterBand(1)\n",
    "    band.SetNoDataValue(no_data)\n",
    "\n",
    "    gdal.RasterizeLayer(target_ds, [1], source_layer, burn_values=[1])\n",
    "    return band.ReadAsArray()"
   ]
  },
  {
   "cell_type": "markdown",
   "id": "a90b1f8f-8893-4e9b-b09a-901db95e9d49",
   "metadata": {
    "tags": []
   },
   "source": [
    "## Update the following cell to generate the diff for each fraction"
   ]
  },
  {
   "cell_type": "code",
   "execution_count": 85,
   "id": "c4b36eed-894e-469b-98d3-bb19c5d3de0b",
   "metadata": {},
   "outputs": [
    {
     "name": "stderr",
     "output_type": "stream",
     "text": [
      "/tmp/ipykernel_634/3795429989.py:110: RuntimeWarning: Mean of empty slice\n",
      "  print(\"Ls9 \", Path(load_path).name, a[0], len(ls9_diff), np.nanmean(ls9_diff))\n"
     ]
    },
    {
     "name": "stdout",
     "output_type": "stream",
     "text": [
      "Ls9  ga_ls_fc_3_113073_2021-11-13_interim_pv.tif 113073 26946632 nan\n",
      "Ls9  ga_ls_fc_3_113078_2021-11-13_interim_pv.tif 113078 29652762 -1.5046406\n",
      "Ls9  ga_ls_fc_3_113079_2021-11-13_interim_pv.tif 113079 33765673 -1.7443924\n",
      "Ls9  ga_ls_fc_3_113080_2021-11-13_interim_pv.tif 113080 34428503 -1.8999301\n",
      "Ls9  ga_ls_fc_3_113081_2021-11-13_interim_pv.tif 113081 35220683 -1.4308261\n",
      "Ls9  ga_ls_fc_3_113082_2021-11-13_interim_pv.tif 113082 35990233 -1.0851966\n"
     ]
    },
    {
     "name": "stderr",
     "output_type": "stream",
     "text": [
      "/tmp/ipykernel_634/3795429989.py:110: RuntimeWarning: Mean of empty slice\n",
      "  print(\"Ls9 \", Path(load_path).name, a[0], len(ls9_diff), np.nanmean(ls9_diff))\n"
     ]
    },
    {
     "name": "stdout",
     "output_type": "stream",
     "text": [
      "Ls9  ga_ls_fc_3_091073_2021-11-16_interim_pv.tif 091073 31798192 nan\n",
      "Ls9  ga_ls_fc_3_091074_2021-11-16_interim_pv.tif 091074 30479182 -10.635594\n",
      "Ls9  ga_ls_fc_3_091076_2021-11-16_interim_pv.tif 091076 78465112 0.28962702\n",
      "Ls9  ga_ls_fc_3_091077_2021-11-16_interim_pv.tif 091077 95946903 0.5018201\n",
      "Ls9  ga_ls_fc_3_091078_2021-11-16_interim_pv.tif 091078 95892303 -0.44226095\n",
      "Ls9  ga_ls_fc_3_091079_2021-11-16_interim_pv.tif 091079 95524063 -1.6017804\n",
      "Ls9  ga_ls_fc_3_091080_2021-11-16_interim_pv.tif 091080 94786073 -1.6012309\n",
      "Ls9  ga_ls_fc_3_091081_2021-11-16_interim_pv.tif 091081 94118293 -1.2316732\n",
      "Ls9  ga_ls_fc_3_091082_2021-11-16_interim_pv.tif 091082 93165083 -1.12885\n",
      "Ls9  ga_ls_fc_3_091083_2021-11-16_interim_pv.tif 091083 92246763 -0.90583163\n",
      "Ls9  ga_ls_fc_3_091084_2021-11-16_interim_pv.tif 091084 91336263 -0.91452706\n",
      "Ls9  ga_ls_fc_3_091085_2021-11-16_interim_pv.tif 091085 90307833 -0.0017691631\n",
      "Ls9  ga_ls_fc_3_094076_2021-11-15_interim_pv.tif 094076 89403193 -1.339898\n",
      "Ls9  ga_ls_fc_3_094077_2021-11-15_interim_pv.tif 094077 89225773 -1.1110053\n",
      "Ls9  ga_ls_fc_3_094078_2021-11-15_interim_pv.tif 094078 89133573 -1.2618834\n",
      "Ls9  ga_ls_fc_3_094079_2021-11-15_interim_pv.tif 094079 88927043 -1.9349742\n",
      "Ls9  ga_ls_fc_3_094080_2021-11-15_interim_pv.tif 094080 88683313 -1.8637115\n",
      "Ls9  ga_ls_fc_3_094081_2021-11-15_interim_pv.tif 094081 88245463 -1.7906526\n",
      "Ls9  ga_ls_fc_3_094082_2021-11-15_interim_pv.tif 094082 88022543 -1.5431184\n",
      "Ls9  ga_ls_fc_3_094083_2021-11-15_interim_pv.tif 094083 72779872 -1.8557203\n",
      "No match count  71\n"
     ]
    }
   ],
   "source": [
    "from datacube.utils import masking\n",
    "import dask.array as da\n",
    "from odc.algo import enum_to_bool, erase_bad\n",
    "\n",
    "prc_10 = []\n",
    "prc_50 = []\n",
    "prc_90 = []\n",
    "diffs = []\n",
    "nomatch_count = 0\n",
    "\n",
    "for a in ls9_polygons_no_sea:      \n",
    "    ls9_datasets = wr.s3.list_objects(\"s3://dea-public-data-dev/test/ls9_fc/ga_ls_fc_3/2-5-0/\"+\n",
    "                                      a[0][:3]+\"/\"+a[0][3:], suffix=[\".json\"])\n",
    "    for d in ls9_datasets:        \n",
    "        s3_clientobj = s3_obj.get_object(Bucket='dea-public-data-dev',\n",
    "                                     Key=d.removeprefix(\"s3://dea-public-data-dev/\"))\n",
    "        s3_clientdata = s3_clientobj['Body'].read().decode('utf-8')\n",
    "        \n",
    "        for band in ['pv']:\n",
    "            load_path = json.loads(s3_clientdata)[\"assets\"][band]['href']                                       \n",
    "            ls9_time = json.loads(s3_clientdata)[\"properties\"][\"datetime\"]\n",
    "            ls9_time = datetime.fromisoformat(ls9_time.rstrip('Z') + \"+00:00\")\n",
    "            \n",
    "            query_poly = Geometry(json.loads(s3_clientdata)[\"geometry\"], crs=\"4326\") \n",
    "            ls9_query ={}\n",
    "            ls9_query[\"geopolygon\"] = query_poly\n",
    "            ls9_query['time'] = ls9_time            \n",
    "            \n",
    "            ls9_ard_dataset_id = json.loads(s3_clientdata)[\"properties\"]['odc:lineage']['ard']\n",
    "            ls9_ard_dataset = dc.find_datasets(product='ga_ls9c_ard_3', id=ls9_ard_dataset_id)                        \n",
    "            ls9_ard_data = native_load_dss(ls9_ard_dataset, ls9_ard_dataset[0], measurements=['fmask'])                           \n",
    "            ls9_wofs_dataset = dc.find_datasets(product='ga_ls_wo_3', platform='landsat-9', **ls9_query)                                      \n",
    "            \n",
    "            ls8_query = {}                      \n",
    "            ls8_query[\"geopolygon\"] = query_poly                       \n",
    "            if ls9_time > datetime.fromisoformat('2021-12-01T23:59:59+00:00'):\n",
    "                continue\n",
    "            ls9_crs = json.loads(s3_clientdata)[\"properties\"][\"proj:epsg\"]                                                    \n",
    "            \n",
    "            ls8_query['time'] = (ls9_time-timedelta(days=1),\n",
    "                             ls9_time+timedelta(days=1))\n",
    "            ls8_datasets = dc.find_datasets(product='ga_ls_fc_3', platform=\"landsat-8\", **ls8_query)      \n",
    "            ls8_ard_datasets = dc.find_datasets(product='ga_ls8c_ard_3', **ls8_query)      \n",
    "            ls8_wofs_datasets = dc.find_datasets(product='ga_ls_wo_3', platform=\"landsat-8\", **ls8_query)   \n",
    "                          \n",
    "            ls8_datasets.sort(key=lambda x: x.center_time)            \n",
    "            ls8_ard_datasets.sort(key=lambda x: x.center_time)\n",
    "            ls8_wofs_datasets.sort(key=lambda x: x.center_time)\n",
    "            \n",
    "            if ls8_datasets == []:\n",
    "                nomatch_count += 1    \n",
    "                continue\n",
    "            else:                    \n",
    "                ls9_data = rioxr.open_rasterio(load_path)                                                                 \n",
    "                ls9_clear_mask = make_mask(ls9_ard_data.isel(time=0).fmask, fmask=\"valid\")                                \n",
    "                ls9_data = ls9_data.where(ls9_clear_mask)                                     \n",
    "                \n",
    "                if ls9_wofs_dataset:\n",
    "                    ls9_wofs_data = native_load_dss(ls9_wofs_dataset, ls9_wofs_dataset[0], measurements=['water'])               \n",
    "                    ls9_wet_mask =  (ls9_wofs_data.isel(time=0)[\"water\"] & ~(1 << 4)) == 128\n",
    "                    ls9_data = ls9_data.where(~ls9_wet_mask)                                                           \n",
    "\n",
    "                ls9_sea_mask = generate_seamask(au_shape, (ls9_data.shape[1], ls9_data.shape[2]), ls9_crs,\n",
    "                                  (ls9_data.x.data.min(), ls9_data.y.data.max()), (30, -30))                                         \n",
    "                ls9_data = ls9_data.where(ls9_sea_mask == 1)                                                                            \n",
    "\n",
    "                non_matching = [ds for ds in ls8_datasets if ds.crs != CRS(str(ls9_crs))]         \n",
    "                ls8_datasets = [ds for ds in ls8_datasets if ds.crs == CRS(str(ls9_crs))]                \n",
    "                ls8_ard_datasets = [ds for ds in ls8_ard_datasets if ds.crs == CRS(str(ls9_crs))] \n",
    "                ls8_wofs_datasets = [ds for ds in ls8_wofs_datasets if ds.crs == CRS(str(ls9_crs))]\n",
    "\n",
    "                ls9_diff = []                \n",
    "                for ds, ds_ard, ds_wofs in zip(ls8_datasets, ls8_ard_datasets, ls8_wofs_datasets):                    \n",
    "                    ls8_data = native_load_dss([ds], ds, measurements=[band])         \n",
    "\n",
    "                    ls8_ard_data = native_load_dss([ds_ard], ds_ard, measurements=['fmask'])    \n",
    "                    ls8_clear_mask = make_mask(ls8_ard_data.isel(time=0).fmask, fmask=\"valid\")                                \n",
    "                    ls8_data = ls8_data.where(ls8_clear_mask) \n",
    "\n",
    "\n",
    "                    ls8_wofs_data = native_load_dss([ds_wofs], ds_wofs, measurements=['water'])                                                         \n",
    "                    ls8_wet_mask =  (ls8_wofs_data.isel(time=0)[\"water\"] & ~(1 << 4)) == 128\n",
    "                    ls8_data = ls8_data.where(~ls8_wet_mask)     \n",
    "\n",
    "                    ls8_sea_mask = generate_seamask(au_shape, (ls8_data.dims['y'], ls8_data.dims['x']), ls8_ard_data.crs.split(\":\")[1],\n",
    "                                  (ls8_data.x.data.min(), ls8_data.y.data.max()), (30, -30)) \n",
    "\n",
    "\n",
    "                    ls8_data = ls8_data.where(ls8_sea_mask == 1)                                             \n",
    "\n",
    "                    ls8_band_data = ls8_data[band][0].where(ls8_data[band] != 255).isel(time=0)                                        \n",
    "                    ls9_band_data = ls9_data[0].where(ls9_data[0] != 255)\n",
    "                    intersect_region = ls8_band_data - ls9_band_data\n",
    "\n",
    "                    ls9_intersect = ls9_band_data.sel(x=intersect_region.x, y=intersect_region.y).data                       \n",
    "                    ls8_intersect = ls8_band_data.sel(x=intersect_region.x, y=intersect_region.y).data                                \n",
    "\n",
    "                    diff = ls9_intersect.reshape(-1) - ls8_intersect.reshape(-1)                     \n",
    "                    ls9_diff.extend(diff.compute())                 \n",
    "\n",
    "                if ls9_diff:    \n",
    "                    prc_10.append(np.percentile(ls9_diff, 10))\n",
    "                    prc_50.append(np.percentile(ls9_diff, 50))\n",
    "                    prc_90.append(np.percentile(ls9_diff, 90)) \n",
    "                    diffs.extend(ls9_diff)\n",
    "                    print(\"Ls9 \", Path(load_path).name, a[0], len(ls9_diff), np.nanmean(ls9_diff))\n",
    "print(\"No match count \", nomatch_count)               "
   ]
  },
  {
   "cell_type": "code",
   "execution_count": null,
   "id": "0cc248da-c776-4368-bc24-57322402cc5f",
   "metadata": {
    "tags": []
   },
   "outputs": [],
   "source": [
    "Ls9  ga_ls_fc_3_113073_2021-11-13_interim_pv.tif 113073 nan\n",
    "Ls9  ga_ls_fc_3_113078_2021-11-13_interim_pv.tif 113078 -1.5187833\n",
    "Ls9  ga_ls_fc_3_113079_2021-11-13_interim_pv.tif 113079 -1.7591643\n",
    "Ls9  ga_ls_fc_3_113080_2021-11-13_interim_pv.tif 113080 -1.9308275\n",
    "Ls9  ga_ls_fc_3_113081_2021-11-13_interim_pv.tif 113081 -1.46076\n",
    "Ls9  ga_ls_fc_3_113082_2021-11-13_interim_pv.tif 113082 -1.0791951\n",
    "Ls9  ga_ls_fc_3_091073_2021-11-16_interim_pv.tif 091073 nan\n",
    "Ls9  ga_ls_fc_3_091074_2021-11-16_interim_pv.tif 091074 -9.278908\n",
    "Ls9  ga_ls_fc_3_091076_2021-11-16_interim_pv.tif 091076 6.7337136\n",
    "Ls9  ga_ls_fc_3_091077_2021-11-16_interim_pv.tif 091077 2.2283027\n",
    "Ls9  ga_ls_fc_3_091078_2021-11-16_interim_pv.tif 091078 -0.31382787\n",
    "Ls9  ga_ls_fc_3_091079_2021-11-16_interim_pv.tif 091079 -1.5691975\n",
    "Ls9  ga_ls_fc_3_091080_2021-11-16_interim_pv.tif 091080 -1.5414139\n",
    "Ls9  ga_ls_fc_3_091081_2021-11-16_interim_pv.tif 091081 -1.2271243\n",
    "Ls9  ga_ls_fc_3_091082_2021-11-16_interim_pv.tif 091082 -1.1059022\n",
    "Ls9  ga_ls_fc_3_091083_2021-11-16_interim_pv.tif 091083 -0.86167943\n",
    "Ls9  ga_ls_fc_3_091084_2021-11-16_interim_pv.tif 091084 -0.82782507\n",
    "Ls9  ga_ls_fc_3_091085_2021-11-16_interim_pv.tif 091085 0.40335548\n",
    "Ls9  ga_ls_fc_3_094076_2021-11-15_interim_pv.tif 094076 -1.3406106\n",
    "Ls9  ga_ls_fc_3_094077_2021-11-15_interim_pv.tif 094077 -1.1085013"
   ]
  },
  {
   "cell_type": "code",
   "execution_count": null,
   "id": "3ecfb4f3-d203-4ef9-9947-9659a590553f",
   "metadata": {
    "tags": []
   },
   "outputs": [],
   "source": [
    "ls9_num, bins, _ = plt.hist(diffs, bins=np.arange(0, np.nanmax(diffs)+1))"
   ]
  },
  {
   "cell_type": "code",
   "execution_count": null,
   "id": "3b59dead-7c84-4d3b-8351-103d36c2e63f",
   "metadata": {
    "tags": []
   },
   "outputs": [],
   "source": [
    "import matplotlib.pyplot as plt \n",
    "\n",
    "plot_percentile(band, 1, prc_10, prc_50, prc_90)"
   ]
  },
  {
   "cell_type": "code",
   "execution_count": null,
   "id": "2535e80c-b152-405b-b39c-33285d9cdb4c",
   "metadata": {
    "tags": []
   },
   "outputs": [],
   "source": [
    "np.array(prc_50)[np.array(prc_50) > 200]"
   ]
  },
  {
   "cell_type": "code",
   "execution_count": 114,
   "id": "3caac239-6f27-4def-a58a-a2c12660d15c",
   "metadata": {
    "tags": []
   },
   "outputs": [],
   "source": [
    "def plot_percentile(band, n, prc_10, prc_50, prc_90):\n",
    "    plt.figure(figsize=(10, 3))\n",
    "\n",
    "    x_values = np.arange(len(prc_10))\n",
    "    plt.subplot(n, 3, 1)\n",
    "    plt.plot(x_values, prc_10, 'ro', label=f'PC-10 {band}')\n",
    "    plt.title('PC-10')\n",
    "\n",
    "    x_values = np.arange(len(prc_50))\n",
    "    plt.subplot(n, 3, 2)\n",
    "    plt.plot(x_values, prc_50, 'go', label=f'PC-50 {band}')\n",
    "    plt.title('PC-50')\n",
    "\n",
    "    x_values = np.arange(len(prc_90))\n",
    "    plt.subplot(n, 3, 3)\n",
    "    plt.plot(x_values, prc_90, 'bo', label=f'PC-90 {band}')    \n",
    "    plt.title('PC-90')    \n",
    "    plt.subplots_adjust(top=0.8)\n",
    "    \n",
    "    plt.suptitle(f'{a[0]} PV')\n",
    "    # plt.savefig(f'{a[0]}_PV.png')\n",
    "\n",
    "    plt.show()\n",
    "    "
   ]
  },
  {
   "cell_type": "code",
   "execution_count": 87,
   "id": "d342eab1-0f3a-4fac-8b16-e7ea8ee85f56",
   "metadata": {
    "tags": []
   },
   "outputs": [],
   "source": [
    "# intersect_region.shape, ls9_data.shape, ls9_data.shape"
   ]
  },
  {
   "cell_type": "code",
   "execution_count": 142,
   "id": "0c4de900-20f2-4c35-996a-c5a22958e591",
   "metadata": {
    "tags": []
   },
   "outputs": [],
   "source": [
    "# ls8_data.pv[0].plot.imshow()"
   ]
  },
  {
   "cell_type": "code",
   "execution_count": 143,
   "id": "f8966a36-30e8-4b14-b561-700131ccbd87",
   "metadata": {
    "tags": []
   },
   "outputs": [],
   "source": [
    "# ls9_data[0].plot.imshow()"
   ]
  },
  {
   "cell_type": "code",
   "execution_count": 125,
   "id": "24fef5b7-cb17-48cf-bceb-17c4cda6c94a",
   "metadata": {
    "tags": []
   },
   "outputs": [
    {
     "data": {
      "text/plain": [
       "(119,)"
      ]
     },
     "execution_count": 125,
     "metadata": {},
     "output_type": "execute_result"
    },
    {
     "data": {
      "image/png": "[encoded data removed]",
      "text/plain": [
       "<Figure size 640x480 with 1 Axes>"
      ]
     },
     "metadata": {},
     "output_type": "display_data"
    }
   ],
   "source": [
    "import matplotlib.pyplot as plt\n",
    "\n",
    "ls9_num, bins, _ = plt.hist(ls9_data[0].sel(x=intersect_region.x, y=intersect_region.y).data.reshape(-1),\n",
    "         bins=np.arange(0, 120),  alpha=0.5)\n",
    "ls8_num, _, _ = plt.hist(ls8_data.pv[0].sel(x=intersect_region.x, y=intersect_region.y).data.reshape(-1),\n",
    "         bins=np.arange(0, 120), alpha=0.5)\n",
    "\n",
    "(ls9_num - ls8_num).shape"
   ]
  },
  {
   "cell_type": "code",
   "execution_count": 132,
   "id": "d7e154fa-7df3-4cfc-a3c9-ef50de12dff9",
   "metadata": {
    "tags": []
   },
   "outputs": [],
   "source": [
    "diff = ls9_data[0].sel(x=intersect_region.x, y=intersect_region.y).data.reshape(-1) - ls8_data.pv[0].sel(x=intersect_region.x, y=intersect_region.y).data.reshape(-1)"
   ]
  },
  {
   "cell_type": "code",
   "execution_count": 140,
   "id": "99fbb1ae-8a74-46a3-be8a-16661c731827",
   "metadata": {
    "tags": []
   },
   "outputs": [
    {
     "data": {
      "text/plain": [
       "[<matplotlib.lines.Line2D at 0x7faa002da800>]"
      ]
     },
     "execution_count": 140,
     "metadata": {},
     "output_type": "execute_result"
    },
    {
     "data": {
      "image/png": "[encoded data removed]",
      "text/plain": [
       "<Figure size 800x600 with 1 Axes>"
      ]
     },
     "metadata": {},
     "output_type": "display_data"
    }
   ],
   "source": []
  },
  {
   "cell_type": "code",
   "execution_count": null,
   "id": "989d7519-2882-4f05-b5f9-7474e3b2555a",
   "metadata": {},
   "outputs": [],
   "source": []
  }
 ],
 "metadata": {
  "kernelspec": {
   "display_name": "Python 3 (ipykernel)",
   "language": "python",
   "name": "python3"
  },
  "language_info": {
   "codemirror_mode": {
    "name": "ipython",
    "version": 3
   },
   "file_extension": ".py",
   "mimetype": "text/x-python",
   "name": "python",
   "nbconvert_exporter": "python",
   "pygments_lexer": "ipython3",
   "version": "3.10.13"
  }
 },
 "nbformat": 4,
 "nbformat_minor": 5
}
