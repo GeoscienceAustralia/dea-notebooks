{
 "cells": [
  {
   "cell_type": "code",
   "execution_count": 4,
   "id": "0297c5ca-74b8-4f92-b05f-99b15488015a",
   "metadata": {
    "tags": []
   },
   "outputs": [],
   "source": [
    "from osgeo import ogr, gdal, osr\n",
    "import pandas as pd\n",
    "import shapely.wkt\n",
    "import fiona\n",
    "import json\n",
    "import os\n",
    "import base64\n",
    "import numpy as np\n",
    "import boto3\n",
    "from datacube import Datacube\n",
    "from datacube.utils.geometry import CRS, Geometry, GeoBox\n",
    "from datacube.testutils.io import native_geobox, native_load\n",
    "from datacube.utils.dask import start_local_dask\n",
    "import rioxarray as rioxr\n",
    "import awswrangler as wr\n",
    "from datetime import timedelta, datetime\n",
    "import dask.dataframe as dd\n",
    "\n",
    "s3_obj =boto3.client('s3')"
   ]
  },
  {
   "cell_type": "code",
   "execution_count": 2,
   "id": "bf7cdafa-4760-4fd7-8208-bde8bfad97e2",
   "metadata": {
    "tags": []
   },
   "outputs": [],
   "source": [
    "dc= Datacube()"
   ]
  },
  {
   "cell_type": "code",
   "execution_count": 3,
   "id": "ab41f259-147c-4fe4-83ae-1049583e2ee0",
   "metadata": {
    "tags": []
   },
   "outputs": [],
   "source": [
    "ls9_polygons = np.genfromtxt(\"ls9_underfly_ls8.txt\", dtype=str)"
   ]
  },
  {
   "cell_type": "code",
   "execution_count": 23,
   "id": "801c86d3-6f9c-4609-b0ae-43890f965a44",
   "metadata": {
    "tags": []
   },
   "outputs": [
    {
     "name": "stdout",
     "output_type": "stream",
     "text": [
      "s/\n",
      "s/\n",
      "s/\n"
     ]
    }
   ],
   "source": [
    "# ls9_datasets = wr.s3.list_objects(\"s3://dea-public-data-dev/test/ls9_wo/ga_ls_wo_3/1-6-0/091/072/2021/11/\",\n",
    "#                                   suffix=[\".json\"])\n",
    "\n",
    "# ls9_datasets = wr.s3.list_objects(\"s3://dea-public-data-dev/baseline/ga_ls9c_ard_3/\"+\n",
    "#                                   a[0][:3]+\"/\"+a[0][3:], suffix=[\".json\"]\")\n",
    "                                  \n",
    "                                "
   ]
  },
  {
   "cell_type": "code",
   "execution_count": 247,
   "id": "355c4e69-275a-490f-a46f-7332f66b555a",
   "metadata": {
    "tags": []
   },
   "outputs": [
    {
     "name": "stdout",
     "output_type": "stream",
     "text": [
      "Number of CPUs: 96\n"
     ]
    }
   ],
   "source": [
    "ls9_datasets"
   ]
  },
  {
   "cell_type": "code",
   "execution_count": 5,
   "id": "f48a0f65-af7a-4d1b-a802-1ade59b9c883",
   "metadata": {
    "tags": []
   },
   "outputs": [],
   "source": [
    "# s3_clientobj = s3_obj.get_object(Bucket='dea-public-data-dev',\n",
    "#                                  Key=ls9_datasets[1].removeprefix(\"s3://dea-public-data-dev/\"))\n",
    "# s3_clientdata = s3_clientobj['Body'].read().decode('utf-8')"
   ]
  },
  {
   "cell_type": "code",
   "execution_count": 19,
   "id": "262037fa-4fc1-446c-b0a4-9162f0591c07",
   "metadata": {
    "tags": []
   },
   "outputs": [],
   "source": [
    "\n",
    "# re_list = {}\n",
    "# ls8_matching = []\n",
    "# ls9_matching = []\n",
    "# not_matching_lst = []\n",
    "\n",
    "# for a in ls9_polygons:       \n",
    "#     ls9_datasets = wr.s3.list_objects(\"s3://dea-public-data/baseline/ga_ls9c_ard_3/\"+\n",
    "#                                       a[0][:3]+\"/\"+a[0][3:], suffix=[\".json\"])                        \n",
    "#     for d in ls9_datasets:        \n",
    "#         s3_clientobj = s3_obj.get_object(Bucket='dea-public-data',\n",
    "#                                      Key=d.removeprefix(\"s3://dea-public-data/\"))\n",
    "#         s3_clientdata = s3_clientobj['Body'].read().decode('utf-8') \n",
    "#         ls9_time = json.loads(s3_clientdata)[\"properties\"][\"datetime\"]\n",
    "#         ls9_time = datetime.fromisoformat(ls9_time.rstrip('Z') + \"+00:00\")   \n",
    "#         query_poly = Geometry(json.loads(s3_clientdata)[\"geometry\"], crs=\"4326\")\n",
    "#         ls8_query = {}\n",
    "#         ls8_query[\"geopolygon\"] = query_poly\n",
    "#         if ls9_time > datetime.fromisoformat('2021-12-01T23:59:59+00:00'):\n",
    "#             continue\n",
    "#         ls9_crs = json.loads(s3_clientdata)[\"properties\"][\"proj:epsg\"]                    \n",
    "#         ls8_query['time'] = (ls9_time-timedelta(days=1),\n",
    "#                          ls9_time+timedelta(days=1))\n",
    "#         ls8_datasets = dc.find_datasets(product='ga_ls8c_ard_3', **ls8_query)         \n",
    "#         ls8_datasets.sort(key=lambda x: x.center_time)                            \n",
    "#         if ls8_datasets == []:\n",
    "#             continue\n",
    "#         else:                       \n",
    "#             non_matching = [ds for ds in ls8_datasets if ds.crs != CRS(str(ls9_crs))]\n",
    "#             not_matching_lst.extend(non_matching)\n",
    "           \n",
    "#             ls8_datasets = [str(ds.id) for ds in ls8_datasets if ds.crs == CRS(str(ls9_crs))]\n",
    "#             ls8_matching.extend(ls8_datasets)\n",
    "#             if ls8_datasets:\n",
    "#                 ls9_matching.append(json.loads(s3_clientdata).get(\"id\"))\n",
    "#                 print(f\"LS9 {json.loads(s3_clientdata).get('id')} matches LS8: {ls8_datasets}\")\n",
    "#         break\n",
    "                    "
   ]
  },
  {
   "cell_type": "code",
   "execution_count": 244,
   "id": "0157f4f7-fc00-47a7-940c-d5c38dc65b4f",
   "metadata": {
    "tags": []
   },
   "outputs": [],
   "source": [
    "# from dea_tools.plotting import display_map, rgb\n",
    "# rgb_bands = ['red', 'green', 'blue']\n",
    "# dsp_9 = dc.load(product='ga_ls9c_ard_3', id='4234113f-5883-4d87-9865-b9816a3c3983', measurements=rgb_bands)\n",
    "# rgb(dsp_9, bands=rgb_bands, index=0)"
   ]
  },
  {
   "cell_type": "code",
   "execution_count": 245,
   "id": "e478cf59-54f2-498f-af0b-0e2b4e5dad38",
   "metadata": {
    "tags": []
   },
   "outputs": [],
   "source": [
    "# dsp_8 = dc.load(product='ga_ls8c_ard_3', id='8327fd6d-16f7-4db9-977f-98de5795e142', measurements=rgb_bands)\n",
    "# rgb(dsp_8, bands=rgb_bands, index=0)"
   ]
  },
  {
   "cell_type": "code",
   "execution_count": 34,
   "id": "b7a763dc-99c6-47ff-9557-1b63de180385",
   "metadata": {
    "tags": []
   },
   "outputs": [],
   "source": [
    "import glob\n",
    "import os\n",
    "import json\n",
    "import yaml\n",
    "\n",
    "processed_filese= []\n",
    "d_path = \"/gdata1/projects/landcover/fractional-cover-model/ls9_cf/ga_ls_fc_3/2-5-1/\"\n",
    "           \n",
    "matching_files = glob.glob(os.path.join(d_path, '**', '*.odc-metadata.yaml'), recursive=True)\n",
    "for metadata_file in matching_files:\n",
    "    with open(metadata_file, 'r') as f:\n",
    "        doc = yaml.safe_load(f)\n",
    "        processed_files.append(doc['lineage']['ard'][0])"
   ]
  },
  {
   "cell_type": "code",
   "execution_count": null,
   "id": "a95725ed-c55d-499b-96f5-ec0f11afad7f",
   "metadata": {
    "tags": []
   },
   "outputs": [],
   "source": []
  },
  {
   "cell_type": "code",
   "execution_count": 7,
   "id": "78737953-d8ab-48fe-80cc-374e6fb63683",
   "metadata": {
    "tags": []
   },
   "outputs": [],
   "source": [
    "with open(\"/home/jovyan/dea-notebooks/Scientific_workflows/LS9_FC/ls9_nov_scenes_ids_all.txt\", 'r') as f:\n",
    "    full_list = f.readlines()\n",
    "    \n",
    "all_ids =[]\n",
    "for item in full_list:        \n",
    "    all_ids.append(item.rstrip('\\n'))"
   ]
  },
  {
   "cell_type": "code",
   "execution_count": 9,
   "id": "1622a54d-37b9-4c0e-900f-397939d1b65b",
   "metadata": {
    "tags": []
   },
   "outputs": [
    {
     "data": {
      "text/plain": [
       "set()"
      ]
     },
     "execution_count": 9,
     "metadata": {},
     "output_type": "execute_result"
    }
   ],
   "source": [
    "set(processed_files) - set(all_ids) "
   ]
  },
  {
   "cell_type": "code",
   "execution_count": 27,
   "id": "eb6d2758-d7ed-4420-8d91-e515ef764e4d",
   "metadata": {
    "tags": []
   },
   "outputs": [
    {
     "ename": "NameError",
     "evalue": "name 'wr' is not defined",
     "output_type": "error",
     "traceback": [
      "\u001b[0;31m---------------------------------------------------------------------------\u001b[0m",
      "\u001b[0;31mNameError\u001b[0m                                 Traceback (most recent call last)",
      "Cell \u001b[0;32mIn[27], line 1\u001b[0m\n\u001b[0;32m----> 1\u001b[0m ls9_datasets \u001b[38;5;241m=\u001b[39m \u001b[43mwr\u001b[49m\u001b[38;5;241m.\u001b[39ms3\u001b[38;5;241m.\u001b[39mlist_objects(\u001b[38;5;124m\"\u001b[39m\u001b[38;5;124ms3://dea-public-data-dev/test/ls9_wo/ga_ls_wo_3/1-6-0/\u001b[39m\u001b[38;5;124m\"\u001b[39m, suffix\u001b[38;5;241m=\u001b[39m[\u001b[38;5;124m\"\u001b[39m\u001b[38;5;124m.json\u001b[39m\u001b[38;5;124m\"\u001b[39m])                                       \n",
      "\u001b[0;31mNameError\u001b[0m: name 'wr' is not defined"
     ]
    }
   ],
   "source": [
    "ls9_datasets = wr.s3.list_objects(\"s3://dea-public-data-dev/test/ls9_wo/ga_ls_wo_3/1-6-0/\", suffix=[\".json\"])                                       "
   ]
  },
  {
   "cell_type": "code",
   "execution_count": 9,
   "id": "99bc5439-4d12-418e-a984-37bcb1fdd537",
   "metadata": {
    "tags": []
   },
   "outputs": [],
   "source": [
    "ls9_ard_scenes = list(filter(lambda x: '2021-11' in x, ls9_datasets))"
   ]
  },
  {
   "cell_type": "code",
   "execution_count": null,
   "id": "24f80cbb-c81e-4640-a4b5-83a66f0e5359",
   "metadata": {},
   "outputs": [],
   "source": [
    "len(ls9_ard_scenes)"
   ]
  },
  {
   "cell_type": "code",
   "execution_count": 12,
   "id": "eff81664-a863-450b-a6cc-0b9dda72d58e",
   "metadata": {
    "tags": []
   },
   "outputs": [],
   "source": [
    "from pathlib import Path\n",
    "\n",
    "wofs_files = []\n",
    "\n",
    "for f in ls9_ard_scenes:    \n",
    "    wofs_files.append(Path(f).name.replace('wo', 'fc'))"
   ]
  },
  {
   "cell_type": "code",
   "execution_count": 13,
   "id": "85e9a6e9-554a-4225-ae40-575a82d939ac",
   "metadata": {
    "tags": []
   },
   "outputs": [],
   "source": [
    "# path = '/gdata1/projects/landcover/fractional-cover-model/ga_ls_fc_3/ls9_2021_peocessed.txt'\n",
    "\n",
    "# ls9_fc_2021_processed = []\n",
    "# with open(path, \"r\") as file:\n",
    "#     # Read the file content into a list\n",
    "#     ids = file.readlines()\n",
    "    \n",
    "# for item in ids:        \n",
    "    # ls9_fc_2021_processed.append(Path(item.rstrip('\\n')).name)"
   ]
  },
  {
   "cell_type": "code",
   "execution_count": 14,
   "id": "bfbebb78-9105-49a2-92dc-06ae62c5b30c",
   "metadata": {
    "tags": []
   },
   "outputs": [
    {
     "data": {
      "text/plain": [
       "164"
      ]
     },
     "execution_count": 14,
     "metadata": {},
     "output_type": "execute_result"
    }
   ],
   "source": [
    "len(ls9_fc_2021_processed)"
   ]
  },
  {
   "cell_type": "code",
   "execution_count": 15,
   "id": "851fe37a-1491-435b-a976-c53fc8820e81",
   "metadata": {
    "tags": []
   },
   "outputs": [
    {
     "data": {
      "text/plain": [
       "set()"
      ]
     },
     "execution_count": 15,
     "metadata": {},
     "output_type": "execute_result"
    }
   ],
   "source": [
    "set(wofs_files) - set(ls9_fc_2021_processed) "
   ]
  },
  {
   "cell_type": "code",
   "execution_count": 16,
   "id": "2fd1efe0-7c05-4ffc-a756-64d3ecfbd3ff",
   "metadata": {
    "tags": []
   },
   "outputs": [],
   "source": [
    "ls9_nov_scene_ids = []\n",
    "\n",
    "for d in ls9_ard_scenes:\n",
    "    s3_clientobj = s3_obj.get_object(Bucket='dea-public-data-dev', Key=d.removeprefix(\"s3://dea-public-data-dev/\"))\n",
    "    ls9_scene_id = json.loads(s3_clientobj['Body'].read().decode('utf-8'))['properties']['odc:lineage']['ard']\n",
    "    ls9_nov_scene_ids.append(ls9_scene_id)    "
   ]
  },
  {
   "cell_type": "code",
   "execution_count": 17,
   "id": "bb69707c-6c1e-4992-b0a9-b0821b6b0fc9",
   "metadata": {
    "tags": []
   },
   "outputs": [],
   "source": [
    "with open('ls9_nov_scenes_ids_all.txt', \"w\") as file:\n",
    "    # Write each item to the file followed by a newline character\n",
    "    for item in ls9_nov_scene_ids:        \n",
    "        file.write(item[0] + \"\\n\")"
   ]
  },
  {
   "cell_type": "code",
   "execution_count": 2,
   "id": "71337a94-5bae-4454-a6ab-7366009c6e96",
   "metadata": {
    "tags": []
   },
   "outputs": [],
   "source": [
    "def decode_credentials(encoded_file):\n",
    "    with open(encoded_file, 'rb') as f:\n",
    "        encoded_data = f.read()\n",
    "        decoded_data = base64.b64decode(encoded_data)\n",
    "        decoded_credentials = decoded_data.decode('utf-8').split(':')        \n",
    "        # Assuming format of the file is:\n",
    "        # access_key_id\n",
    "        # secret_access_key\n",
    "        access_key_id = decoded_credentials[0]\n",
    "        secret_access_key = decoded_credentials[1]\n",
    "      \n",
    "        return access_key_id, secret_access_key"
   ]
  },
  {
   "cell_type": "markdown",
   "id": "9a996324-ccc2-4db8-9704-236ab0665ead",
   "metadata": {
    "tags": []
   },
   "source": [
    "## Upload data to S3"
   ]
  },
  {
   "cell_type": "code",
   "execution_count": 6,
   "id": "b0aab3ac-4938-4071-b044-14466cf93f49",
   "metadata": {
    "tags": []
   },
   "outputs": [],
   "source": [
    "# def upload_to_s3(local_path, bucket_name, s3_prefix='', extensions=['.tif', '.jpg','.yaml', '.sha1', '.json']):\n",
    "#     access_key_id, secret_access_key = decode_credentials('/home/jovyan/aws.txt')\n",
    "#     # Use the decoded credentials to configure boto3\n",
    "#     s3 = boto3.client(\n",
    "#         's3',\n",
    "#         aws_access_key_id=access_key_id,\n",
    "#         aws_secret_access_key=secret_access_key\n",
    "#     )\n",
    "\n",
    "#     for root, dirs, files in os.walk(local_path):   \n",
    "#         for file in files:      \n",
    "#             if Path(file).suffix in extensions and root.find('pynb_checkpoints') == -1:\n",
    "#                 local_file_path = os.path.join(root, file)                            \n",
    "#                 s3_file_key = os.path.join(s3_prefix, local_file_path.replace(\"/gdata1/projects/landcover/fractional-cover-model/\", \"\"))                \n",
    "#                 s3.upload_file(local_file_path, bucket_name, s3_file_key)\n",
    "#                 print(f\"Uploaded {local_file_path} to s3://{bucket_name}/{s3_file_key}\")\n",
    "                            \n",
    "# # Example usage\n",
    "# local_path = '/gdata1/projects/landcover/fractional-cover-model/ga_ls_fc_3/2-5-0/'\n",
    "# bucket_name = 'dea-public-data-dev'\n",
    "# s3_prefix = 'test/ls9_fc/'\n",
    "\n",
    "# upload_to_s3(local_path, bucket_name, s3_prefix)"
   ]
  },
  {
   "cell_type": "code",
   "execution_count": 1,
   "id": "8bf17bad-68be-4459-a972-6895d1f3ce54",
   "metadata": {
    "tags": []
   },
   "outputs": [],
   "source": [
    "cmds = []\n",
    "\n",
    "# ids =['3f0b06bf-6d27-4ada-9b7c-09c6a0b85d9a', '5c79fea9-c18e-4b5f-b242-e6bc31092d68','ae67d1c9-99a3-488b-ac6a-74ec7389258c']\n",
    "with open(\"/home/jovyan/dea-notebooks/Scientific_workflows/LS9_FC/ls9_nov_scenes_ids_all.txt\", \"r\") as file:\n",
    "    # Read the file content into a list\n",
    "    ids = file.readlines()\n",
    "    \n",
    "for idx in ids:\n",
    "    idx = idx.rstrip('\\n')\n",
    "    cmds.append(f'datacube-alchemist run-one -u {idx} -c /home/jovyan/ls8_ls9_fc_config.yaml')\n"
   ]
  },
  {
   "cell_type": "code",
   "execution_count": 2,
   "id": "6537b560-c010-4ae5-a103-12cbe4cccbfb",
   "metadata": {
    "tags": []
   },
   "outputs": [
    {
     "data": {
      "text/plain": [
       "['datacube-alchemist run-one -u 3f0b06bf-6d27-4ada-9b7c-09c6a0b85d9a -c /home/jovyan/ls8_ls9_fc_config.yaml',\n",
       " 'datacube-alchemist run-one -u 5c79fea9-c18e-4b5f-b242-e6bc31092d68 -c /home/jovyan/ls8_ls9_fc_config.yaml',\n",
       " 'datacube-alchemist run-one -u ae67d1c9-99a3-488b-ac6a-74ec7389258c -c /home/jovyan/ls8_ls9_fc_config.yaml']"
      ]
     },
     "execution_count": 2,
     "metadata": {},
     "output_type": "execute_result"
    }
   ],
   "source": [
    "cmds"
   ]
  },
  {
   "cell_type": "code",
   "execution_count": 9,
   "id": "9c5a4999-d4ac-4061-a636-9c1371342448",
   "metadata": {
    "tags": []
   },
   "outputs": [
    {
     "data": {
      "text/plain": [
       "164"
      ]
     },
     "execution_count": 9,
     "metadata": {},
     "output_type": "execute_result"
    }
   ],
   "source": [
    "len(cmds)"
   ]
  },
  {
   "cell_type": "code",
   "execution_count": 5,
   "id": "ca3401a2-68ea-4ba7-a51c-52ac4341f31d",
   "metadata": {
    "tags": []
   },
   "outputs": [],
   "source": [
    "# len(ls9_nov_scene_ids)"
   ]
  },
  {
   "cell_type": "code",
   "execution_count": 3,
   "id": "cc7a5784-36ac-4b5f-a4a8-745919d21a85",
   "metadata": {
    "tags": []
   },
   "outputs": [
    {
     "name": "stdout",
     "output_type": "stream",
     "text": [
      "96\n",
      "\u001b[2m2024-04-16 10:57:30\u001b[0m [\u001b[32m\u001b[1minfo     \u001b[0m] \u001b[1mTask commencing               \u001b[0m \u001b[36mtask\u001b[0m=\u001b[35mAlchemistTask(dataset=Dataset <id=3f0b06bf-6d27-4ada-9b7c-09c6a0b85d9a product=ga_ls9c_ard_3 location=s3://dea-public-data/baseline/ga_ls9c_ard_3/091/083/2021/11/21/ga_ls9c_ard_3-2-1_091083_2021-11-21_final.stac-item.json>, settings=AlchemistSettings(specification=Specification(measurements=['nbart_green', 'nbart_red', 'nbart_nir', 'nbart_swir_1', 'nbart_swir_2'], transform='fc.virtualproduct.FractionalCover', transform_url='https://github.com/GeoscienceAustralia/fc/', product=None, products=['ga_ls8c_ard_3', 'ga_ls9c_ard_3'], measurement_renames={'nbart_green': 'green', 'nbart_red': 'red', 'nbart_nir': 'nir', 'nbart_swir_1': 'swir1', 'nbart_swir_2': 'swir2'}, transform_args=None, transform_args_per_product={'ga_ls8c_ard_3': {'regression_coefficients': {'blue': [4.1, 0.9747], 'green': [28.9, 0.99779], 'red': [27.4, 1.00446], 'nir': [0.4, 0.98906], 'swir1': [25.6, 0.99467], 'swir2': [-32.7, 1.02551]}, 'output_regression_coefficients': {'bs': [2.45, 0.9499], 'pv': [2.77, 0.9481], 'npv': [-0.73, 0.9578]}}, 'ga_ls9c_ard_3': {'regression_coefficients': {'blue': [4.1, 0.9747], 'green': [28.9, 0.99779], 'red': [27.4, 1.00446], 'nir': [0.4, 0.98906], 'swir1': [25.6, 0.99467], 'swir2': [-32.7, 1.02551]}, 'output_regression_coefficients': {'bs': [2.45, 0.9499], 'pv': [2.77, 0.9481], 'npv': [-0.73, 0.9578]}}}, resampling=None, override_product_family='ard', basis='nbart_green', aws_unsigned=True), output=OutputSettings(location='/gdata1/projects/landcover/fractional-cover-model/ls9_cf/', write_data_settings={'overview_resampling': <Resampling.average: 5>}, nodata=255, preview_image={'red': 'bs', 'green': 'pv', 'blue': 'npv'}, preview_image_singleband=None, metadata={'product_family': 'fc', 'producer': 'ga.gov.au', 'dataset_version': '2.5.1', 'collection_number': '3', 'naming_conventions': 'dea_c3'}, properties={'dea:dataset_maturity': 'final'}, reference_source_dataset=True, write_stac=True, inherit_geometry=True, explorer_url='https://explorer.dea.ga.gov.au'), processing=ProcessingSettings(dask_chunks={'x': -1, 'y': 4096}, dask_client={})))\u001b[0m\n",
      "\u001b[2m2024-04-16 10:57:30\u001b[0m [\u001b[32m\u001b[1minfo     \u001b[0m] \u001b[1mData loaded                   \u001b[0m \u001b[36mtask\u001b[0m=\u001b[35mUUID('3f0b06bf-6d27-4ada-9b7c-09c6a0b85d9a')\u001b[0m\n",
      "\u001b[2m2024-04-16 10:57:30\u001b[0m [\u001b[32m\u001b[1minfo     \u001b[0m] \u001b[1mPrepared lazy transformation  \u001b[0m \u001b[36moutput_data\u001b[0m=\u001b[35m<xarray.Dataset>\n",
      "Dimensions:      (y: 7861, x: 7701)\n",
      "Coordinates:\n",
      "  * y            (y) float64 -3.554e+06 -3.554e+06 ... -3.79e+06 -3.79e+06\n",
      "  * x            (x) float64 4.977e+05 4.977e+05 ... 7.287e+05 7.287e+05\n",
      "    spatial_ref  int32 32655\n",
      "Data variables:\n",
      "    pv           (y, x) int8 dask.array<chunksize=(4096, 7701), meta=np.ndarray>\n",
      "    npv          (y, x) int8 dask.array<chunksize=(4096, 7701), meta=np.ndarray>\n",
      "    bs           (y, x) int8 dask.array<chunksize=(4096, 7701), meta=np.ndarray>\n",
      "    ue           (y, x) int8 dask.array<chunksize=(4096, 7701), meta=np.ndarray>\n",
      "Attributes:\n",
      "    crs:           epsg:32655\n",
      "    grid_mapping:  spatial_ref\u001b[0m \u001b[36mtask\u001b[0m=\u001b[35mUUID('3f0b06bf-6d27-4ada-9b7c-09c6a0b85d9a')\u001b[0m\n"
     ]
    },
    {
     "name": "stderr",
     "output_type": "stream",
     "text": [
      "/env/lib/python3.10/site-packages/fc/fractional_cover.py:218: RuntimeWarning: invalid value encountered in cast\n",
      "  output_data = numpy.array([green, dead, bare, err], dtype=numpy.int8)\n"
     ]
    },
    {
     "name": "stdout",
     "output_type": "stream",
     "text": [
      "\u001b[2m2024-04-16 11:00:27\u001b[0m [\u001b[32m\u001b[1minfo     \u001b[0m] \u001b[1mLoaded and transformed        \u001b[0m \u001b[36mtask\u001b[0m=\u001b[35mUUID('3f0b06bf-6d27-4ada-9b7c-09c6a0b85d9a')\u001b[0m\n",
      "\u001b[2m2024-04-16 11:00:27\u001b[0m [\u001b[32m\u001b[1minfo     \u001b[0m] \u001b[1mFound dtype=int8 in output data, converting to uint8 for geotiffs\u001b[0m \u001b[36mtask\u001b[0m=\u001b[35mUUID('3f0b06bf-6d27-4ada-9b7c-09c6a0b85d9a')\u001b[0m\n"
     ]
    },
    {
     "name": "stderr",
     "output_type": "stream",
     "text": [
      "/env/lib/python3.10/site-packages/eodatasets3/properties.py:411: UserWarning: Unknown Stac property 'title'. If this is valid property, please tell us on Github here so we can add it: \n",
      "\thttps://github.com/GeoscienceAustralia/eo-datasets/issues/new?title=Include+property+%27title%27&labels=known-properties&body=Hello%21+The+property+%27title%27+does+not+appear+to+be+in+the+KNOWN_PROPERTIES+list%2C%0Abut+I+believe+it+to+be+valid.%0A%0AAn+example+value+of+this+property+is%3A+%27ga_ls9c_ard_3-2-1_091083_2021-11-21_final%27%0A%0AThank+you%21%0A\n",
      "  warnings.warn(\n",
      "/env/lib/python3.10/site-packages/eodatasets3/properties.py:411: UserWarning: Unknown Stac property 'created'. If this is valid property, please tell us on Github here so we can add it: \n",
      "\thttps://github.com/GeoscienceAustralia/eo-datasets/issues/new?title=Include+property+%27created%27&labels=known-properties&body=Hello%21+The+property+%27created%27+does+not+appear+to+be+in+the+KNOWN_PROPERTIES+list%2C%0Abut+I+believe+it+to+be+valid.%0A%0AAn+example+value+of+this+property+is%3A+%272023-06-13T03%3A21%3A00.101533Z%27%0A%0AThank+you%21%0A\n",
      "  warnings.warn(\n",
      "/env/lib/python3.10/site-packages/datacube/utils/geometry/_base.py:324: DeprecationWarning: Please use `str(crs)` instead of `crs.crs_str`\n",
      "  warnings.warn(\"Please use `str(crs)` instead of `crs.crs_str`\", category=DeprecationWarning)\n"
     ]
    },
    {
     "name": "stdout",
     "output_type": "stream",
     "text": [
      "\u001b[2m2024-04-16 11:00:36\u001b[0m [\u001b[32m\u001b[1minfo     \u001b[0m] \u001b[1mFinished writing measurements \u001b[0m \u001b[36mtask\u001b[0m=\u001b[35mUUID('3f0b06bf-6d27-4ada-9b7c-09c6a0b85d9a')\u001b[0m\n",
      "\u001b[2m2024-04-16 11:00:52\u001b[0m [\u001b[32m\u001b[1minfo     \u001b[0m] \u001b[1mWrote thumbnail               \u001b[0m \u001b[36mtask\u001b[0m=\u001b[35mUUID('3f0b06bf-6d27-4ada-9b7c-09c6a0b85d9a')\u001b[0m\n",
      "\u001b[2m2024-04-16 11:00:52\u001b[0m [\u001b[32m\u001b[1minfo     \u001b[0m] \u001b[1mAssembled dataset             \u001b[0m \u001b[36mmetadata_path\u001b[0m=\u001b[35mPosixPath('/tmp/tmpse1umuzo/ga_ls_fc_3/2-5-1/091/083/2021/11/21/ga_ls_fc_3_091083_2021-11-21_final.odc-metadata.yaml')\u001b[0m \u001b[36mtask\u001b[0m=\u001b[35mUUID('3f0b06bf-6d27-4ada-9b7c-09c6a0b85d9a')\u001b[0m\n",
      "\u001b[2m2024-04-16 11:00:52\u001b[0m [\u001b[32m\u001b[1minfo     \u001b[0m] \u001b[1mSTAC file written             \u001b[0m \u001b[36mtask\u001b[0m=\u001b[35mUUID('3f0b06bf-6d27-4ada-9b7c-09c6a0b85d9a')\u001b[0m\n",
      "\u001b[2m2024-04-16 11:00:52\u001b[0m [\u001b[32m\u001b[1minfo     \u001b[0m] \u001b[1mWriting files to disk         \u001b[0m \u001b[36mlocation\u001b[0m=\u001b[35mPosixPath('/gdata1/projects/landcover/fractional-cover-model/ls9_cf/ga_ls_fc_3/2-5-1/091/083/2021/11/21')\u001b[0m \u001b[36mtask\u001b[0m=\u001b[35mUUID('3f0b06bf-6d27-4ada-9b7c-09c6a0b85d9a')\u001b[0m\n",
      "\u001b[2m2024-04-16 11:00:53\u001b[0m [\u001b[32m\u001b[1minfo     \u001b[0m] \u001b[1mTask complete                 \u001b[0m \u001b[36mtask\u001b[0m=\u001b[35mUUID('3f0b06bf-6d27-4ada-9b7c-09c6a0b85d9a')\u001b[0m\n",
      "\u001b[2m2024-04-16 11:00:56\u001b[0m [\u001b[32m\u001b[1minfo     \u001b[0m] \u001b[1mTask commencing               \u001b[0m \u001b[36mtask\u001b[0m=\u001b[35mAlchemistTask(dataset=Dataset <id=5c79fea9-c18e-4b5f-b242-e6bc31092d68 product=ga_ls9c_ard_3 location=s3://dea-public-data/baseline/ga_ls9c_ard_3/094/073/2021/11/20/ga_ls9c_ard_3-2-1_094073_2021-11-20_final.stac-item.json>, settings=AlchemistSettings(specification=Specification(measurements=['nbart_green', 'nbart_red', 'nbart_nir', 'nbart_swir_1', 'nbart_swir_2'], transform='fc.virtualproduct.FractionalCover', transform_url='https://github.com/GeoscienceAustralia/fc/', product=None, products=['ga_ls8c_ard_3', 'ga_ls9c_ard_3'], measurement_renames={'nbart_green': 'green', 'nbart_red': 'red', 'nbart_nir': 'nir', 'nbart_swir_1': 'swir1', 'nbart_swir_2': 'swir2'}, transform_args=None, transform_args_per_product={'ga_ls8c_ard_3': {'regression_coefficients': {'blue': [4.1, 0.9747], 'green': [28.9, 0.99779], 'red': [27.4, 1.00446], 'nir': [0.4, 0.98906], 'swir1': [25.6, 0.99467], 'swir2': [-32.7, 1.02551]}, 'output_regression_coefficients': {'bs': [2.45, 0.9499], 'pv': [2.77, 0.9481], 'npv': [-0.73, 0.9578]}}, 'ga_ls9c_ard_3': {'regression_coefficients': {'blue': [4.1, 0.9747], 'green': [28.9, 0.99779], 'red': [27.4, 1.00446], 'nir': [0.4, 0.98906], 'swir1': [25.6, 0.99467], 'swir2': [-32.7, 1.02551]}, 'output_regression_coefficients': {'bs': [2.45, 0.9499], 'pv': [2.77, 0.9481], 'npv': [-0.73, 0.9578]}}}, resampling=None, override_product_family='ard', basis='nbart_green', aws_unsigned=True), output=OutputSettings(location='/gdata1/projects/landcover/fractional-cover-model/ls9_cf/', write_data_settings={'overview_resampling': <Resampling.average: 5>}, nodata=255, preview_image={'red': 'bs', 'green': 'pv', 'blue': 'npv'}, preview_image_singleband=None, metadata={'product_family': 'fc', 'producer': 'ga.gov.au', 'dataset_version': '2.5.1', 'collection_number': '3', 'naming_conventions': 'dea_c3'}, properties={'dea:dataset_maturity': 'final'}, reference_source_dataset=True, write_stac=True, inherit_geometry=True, explorer_url='https://explorer.dea.ga.gov.au'), processing=ProcessingSettings(dask_chunks={'x': -1, 'y': 4096}, dask_client={})))\u001b[0m\n",
      "\u001b[2m2024-04-16 11:00:56\u001b[0m [\u001b[32m\u001b[1minfo     \u001b[0m] \u001b[1mData loaded                   \u001b[0m \u001b[36mtask\u001b[0m=\u001b[35mUUID('5c79fea9-c18e-4b5f-b242-e6bc31092d68')\u001b[0m\n",
      "\u001b[2m2024-04-16 11:00:56\u001b[0m [\u001b[32m\u001b[1minfo     \u001b[0m] \u001b[1mPrepared lazy transformation  \u001b[0m \u001b[36moutput_data\u001b[0m=\u001b[35m<xarray.Dataset>\n",
      "Dimensions:      (y: 7751, x: 7551)\n",
      "Coordinates:\n",
      "  * y            (y) float64 -1.961e+06 -1.961e+06 ... -2.194e+06 -2.194e+06\n",
      "  * x            (x) float64 3.969e+05 3.969e+05 ... 6.234e+05 6.234e+05\n",
      "    spatial_ref  int32 32655\n",
      "Data variables:\n",
      "    pv           (y, x) int8 dask.array<chunksize=(4096, 7551), meta=np.ndarray>\n",
      "    npv          (y, x) int8 dask.array<chunksize=(4096, 7551), meta=np.ndarray>\n",
      "    bs           (y, x) int8 dask.array<chunksize=(4096, 7551), meta=np.ndarray>\n",
      "    ue           (y, x) int8 dask.array<chunksize=(4096, 7551), meta=np.ndarray>\n",
      "Attributes:\n",
      "    crs:           epsg:32655\n",
      "    grid_mapping:  spatial_ref\u001b[0m \u001b[36mtask\u001b[0m=\u001b[35mUUID('5c79fea9-c18e-4b5f-b242-e6bc31092d68')\u001b[0m\n"
     ]
    },
    {
     "name": "stderr",
     "output_type": "stream",
     "text": [
      "/env/lib/python3.10/site-packages/fc/fractional_cover.py:218: RuntimeWarning: invalid value encountered in cast\n",
      "  output_data = numpy.array([green, dead, bare, err], dtype=numpy.int8)\n"
     ]
    },
    {
     "name": "stdout",
     "output_type": "stream",
     "text": [
      "\u001b[2m2024-04-16 11:03:46\u001b[0m [\u001b[32m\u001b[1minfo     \u001b[0m] \u001b[1mLoaded and transformed        \u001b[0m \u001b[36mtask\u001b[0m=\u001b[35mUUID('5c79fea9-c18e-4b5f-b242-e6bc31092d68')\u001b[0m\n",
      "\u001b[2m2024-04-16 11:03:46\u001b[0m [\u001b[32m\u001b[1minfo     \u001b[0m] \u001b[1mFound dtype=int8 in output data, converting to uint8 for geotiffs\u001b[0m \u001b[36mtask\u001b[0m=\u001b[35mUUID('5c79fea9-c18e-4b5f-b242-e6bc31092d68')\u001b[0m\n"
     ]
    },
    {
     "name": "stderr",
     "output_type": "stream",
     "text": [
      "/env/lib/python3.10/site-packages/eodatasets3/properties.py:411: UserWarning: Unknown Stac property 'title'. If this is valid property, please tell us on Github here so we can add it: \n",
      "\thttps://github.com/GeoscienceAustralia/eo-datasets/issues/new?title=Include+property+%27title%27&labels=known-properties&body=Hello%21+The+property+%27title%27+does+not+appear+to+be+in+the+KNOWN_PROPERTIES+list%2C%0Abut+I+believe+it+to+be+valid.%0A%0AAn+example+value+of+this+property+is%3A+%27ga_ls9c_ard_3-2-1_094073_2021-11-20_final%27%0A%0AThank+you%21%0A\n",
      "  warnings.warn(\n",
      "/env/lib/python3.10/site-packages/eodatasets3/properties.py:411: UserWarning: Unknown Stac property 'created'. If this is valid property, please tell us on Github here so we can add it: \n",
      "\thttps://github.com/GeoscienceAustralia/eo-datasets/issues/new?title=Include+property+%27created%27&labels=known-properties&body=Hello%21+The+property+%27created%27+does+not+appear+to+be+in+the+KNOWN_PROPERTIES+list%2C%0Abut+I+believe+it+to+be+valid.%0A%0AAn+example+value+of+this+property+is%3A+%272023-06-15T05%3A25%3A58.281748Z%27%0A%0AThank+you%21%0A\n",
      "  warnings.warn(\n",
      "/env/lib/python3.10/site-packages/datacube/utils/geometry/_base.py:324: DeprecationWarning: Please use `str(crs)` instead of `crs.crs_str`\n",
      "  warnings.warn(\"Please use `str(crs)` instead of `crs.crs_str`\", category=DeprecationWarning)\n"
     ]
    },
    {
     "name": "stdout",
     "output_type": "stream",
     "text": [
      "\u001b[2m2024-04-16 11:03:56\u001b[0m [\u001b[32m\u001b[1minfo     \u001b[0m] \u001b[1mFinished writing measurements \u001b[0m \u001b[36mtask\u001b[0m=\u001b[35mUUID('5c79fea9-c18e-4b5f-b242-e6bc31092d68')\u001b[0m\n",
      "\u001b[2m2024-04-16 11:04:08\u001b[0m [\u001b[32m\u001b[1minfo     \u001b[0m] \u001b[1mWrote thumbnail               \u001b[0m \u001b[36mtask\u001b[0m=\u001b[35mUUID('5c79fea9-c18e-4b5f-b242-e6bc31092d68')\u001b[0m\n",
      "\u001b[2m2024-04-16 11:04:08\u001b[0m [\u001b[32m\u001b[1minfo     \u001b[0m] \u001b[1mAssembled dataset             \u001b[0m \u001b[36mmetadata_path\u001b[0m=\u001b[35mPosixPath('/tmp/tmpvfvpifnh/ga_ls_fc_3/2-5-1/094/073/2021/11/20/ga_ls_fc_3_094073_2021-11-20_final.odc-metadata.yaml')\u001b[0m \u001b[36mtask\u001b[0m=\u001b[35mUUID('5c79fea9-c18e-4b5f-b242-e6bc31092d68')\u001b[0m\n",
      "\u001b[2m2024-04-16 11:04:08\u001b[0m [\u001b[32m\u001b[1minfo     \u001b[0m] \u001b[1mSTAC file written             \u001b[0m \u001b[36mtask\u001b[0m=\u001b[35mUUID('5c79fea9-c18e-4b5f-b242-e6bc31092d68')\u001b[0m\n",
      "\u001b[2m2024-04-16 11:04:08\u001b[0m [\u001b[32m\u001b[1minfo     \u001b[0m] \u001b[1mWriting files to disk         \u001b[0m \u001b[36mlocation\u001b[0m=\u001b[35mPosixPath('/gdata1/projects/landcover/fractional-cover-model/ls9_cf/ga_ls_fc_3/2-5-1/094/073/2021/11/20')\u001b[0m \u001b[36mtask\u001b[0m=\u001b[35mUUID('5c79fea9-c18e-4b5f-b242-e6bc31092d68')\u001b[0m\n",
      "\u001b[2m2024-04-16 11:04:09\u001b[0m [\u001b[32m\u001b[1minfo     \u001b[0m] \u001b[1mTask complete                 \u001b[0m \u001b[36mtask\u001b[0m=\u001b[35mUUID('5c79fea9-c18e-4b5f-b242-e6bc31092d68')\u001b[0m\n",
      "\u001b[2m2024-04-16 11:04:11\u001b[0m [\u001b[32m\u001b[1minfo     \u001b[0m] \u001b[1mTask commencing               \u001b[0m \u001b[36mtask\u001b[0m=\u001b[35mAlchemistTask(dataset=Dataset <id=ae67d1c9-99a3-488b-ac6a-74ec7389258c product=ga_ls9c_ard_3 location=s3://dea-public-data/baseline/ga_ls9c_ard_3/112/080/2021/11/03/ga_ls9c_ard_3-2-1_112080_2021-11-03_final.stac-item.json>, settings=AlchemistSettings(specification=Specification(measurements=['nbart_green', 'nbart_red', 'nbart_nir', 'nbart_swir_1', 'nbart_swir_2'], transform='fc.virtualproduct.FractionalCover', transform_url='https://github.com/GeoscienceAustralia/fc/', product=None, products=['ga_ls8c_ard_3', 'ga_ls9c_ard_3'], measurement_renames={'nbart_green': 'green', 'nbart_red': 'red', 'nbart_nir': 'nir', 'nbart_swir_1': 'swir1', 'nbart_swir_2': 'swir2'}, transform_args=None, transform_args_per_product={'ga_ls8c_ard_3': {'regression_coefficients': {'blue': [4.1, 0.9747], 'green': [28.9, 0.99779], 'red': [27.4, 1.00446], 'nir': [0.4, 0.98906], 'swir1': [25.6, 0.99467], 'swir2': [-32.7, 1.02551]}, 'output_regression_coefficients': {'bs': [2.45, 0.9499], 'pv': [2.77, 0.9481], 'npv': [-0.73, 0.9578]}}, 'ga_ls9c_ard_3': {'regression_coefficients': {'blue': [4.1, 0.9747], 'green': [28.9, 0.99779], 'red': [27.4, 1.00446], 'nir': [0.4, 0.98906], 'swir1': [25.6, 0.99467], 'swir2': [-32.7, 1.02551]}, 'output_regression_coefficients': {'bs': [2.45, 0.9499], 'pv': [2.77, 0.9481], 'npv': [-0.73, 0.9578]}}}, resampling=None, override_product_family='ard', basis='nbart_green', aws_unsigned=True), output=OutputSettings(location='/gdata1/projects/landcover/fractional-cover-model/ls9_cf/', write_data_settings={'overview_resampling': <Resampling.average: 5>}, nodata=255, preview_image={'red': 'bs', 'green': 'pv', 'blue': 'npv'}, preview_image_singleband=None, metadata={'product_family': 'fc', 'producer': 'ga.gov.au', 'dataset_version': '2.5.1', 'collection_number': '3', 'naming_conventions': 'dea_c3'}, properties={'dea:dataset_maturity': 'final'}, reference_source_dataset=True, write_stac=True, inherit_geometry=True, explorer_url='https://explorer.dea.ga.gov.au'), processing=ProcessingSettings(dask_chunks={'x': -1, 'y': 4096}, dask_client={})))\u001b[0m\n",
      "\u001b[2m2024-04-16 11:04:11\u001b[0m [\u001b[32m\u001b[1minfo     \u001b[0m] \u001b[1mData loaded                   \u001b[0m \u001b[36mtask\u001b[0m=\u001b[35mUUID('ae67d1c9-99a3-488b-ac6a-74ec7389258c')\u001b[0m\n",
      "\u001b[2m2024-04-16 11:04:12\u001b[0m [\u001b[32m\u001b[1minfo     \u001b[0m] \u001b[1mPrepared lazy transformation  \u001b[0m \u001b[36moutput_data\u001b[0m=\u001b[35m<xarray.Dataset>\n",
      "Dimensions:      (y: 7781, x: 7631)\n",
      "Coordinates:\n",
      "  * y            (y) float64 -3.077e+06 -3.077e+06 ... -3.31e+06 -3.31e+06\n",
      "  * x            (x) float64 3.915e+05 3.915e+05 ... 6.204e+05 6.204e+05\n",
      "    spatial_ref  int32 32650\n",
      "Data variables:\n",
      "    pv           (y, x) int8 dask.array<chunksize=(4096, 7631), meta=np.ndarray>\n",
      "    npv          (y, x) int8 dask.array<chunksize=(4096, 7631), meta=np.ndarray>\n",
      "    bs           (y, x) int8 dask.array<chunksize=(4096, 7631), meta=np.ndarray>\n",
      "    ue           (y, x) int8 dask.array<chunksize=(4096, 7631), meta=np.ndarray>\n",
      "Attributes:\n",
      "    crs:           epsg:32650\n",
      "    grid_mapping:  spatial_ref\u001b[0m \u001b[36mtask\u001b[0m=\u001b[35mUUID('ae67d1c9-99a3-488b-ac6a-74ec7389258c')\u001b[0m\n"
     ]
    },
    {
     "name": "stderr",
     "output_type": "stream",
     "text": [
      "/env/lib/python3.10/site-packages/fc/fractional_cover.py:218: RuntimeWarning: invalid value encountered in cast\n",
      "  output_data = numpy.array([green, dead, bare, err], dtype=numpy.int8)\n"
     ]
    },
    {
     "name": "stdout",
     "output_type": "stream",
     "text": [
      "\u001b[2m2024-04-16 11:07:17\u001b[0m [\u001b[32m\u001b[1minfo     \u001b[0m] \u001b[1mLoaded and transformed        \u001b[0m \u001b[36mtask\u001b[0m=\u001b[35mUUID('ae67d1c9-99a3-488b-ac6a-74ec7389258c')\u001b[0m\n",
      "\u001b[2m2024-04-16 11:07:17\u001b[0m [\u001b[32m\u001b[1minfo     \u001b[0m] \u001b[1mFound dtype=int8 in output data, converting to uint8 for geotiffs\u001b[0m \u001b[36mtask\u001b[0m=\u001b[35mUUID('ae67d1c9-99a3-488b-ac6a-74ec7389258c')\u001b[0m\n"
     ]
    },
    {
     "name": "stderr",
     "output_type": "stream",
     "text": [
      "/env/lib/python3.10/site-packages/eodatasets3/properties.py:411: UserWarning: Unknown Stac property 'title'. If this is valid property, please tell us on Github here so we can add it: \n",
      "\thttps://github.com/GeoscienceAustralia/eo-datasets/issues/new?title=Include+property+%27title%27&labels=known-properties&body=Hello%21+The+property+%27title%27+does+not+appear+to+be+in+the+KNOWN_PROPERTIES+list%2C%0Abut+I+believe+it+to+be+valid.%0A%0AAn+example+value+of+this+property+is%3A+%27ga_ls9c_ard_3-2-1_112080_2021-11-03_final%27%0A%0AThank+you%21%0A\n",
      "  warnings.warn(\n",
      "/env/lib/python3.10/site-packages/eodatasets3/properties.py:411: UserWarning: Unknown Stac property 'created'. If this is valid property, please tell us on Github here so we can add it: \n",
      "\thttps://github.com/GeoscienceAustralia/eo-datasets/issues/new?title=Include+property+%27created%27&labels=known-properties&body=Hello%21+The+property+%27created%27+does+not+appear+to+be+in+the+KNOWN_PROPERTIES+list%2C%0Abut+I+believe+it+to+be+valid.%0A%0AAn+example+value+of+this+property+is%3A+%272023-06-15T04%3A56%3A54.709267Z%27%0A%0AThank+you%21%0A\n",
      "  warnings.warn(\n",
      "/env/lib/python3.10/site-packages/datacube/utils/geometry/_base.py:324: DeprecationWarning: Please use `str(crs)` instead of `crs.crs_str`\n",
      "  warnings.warn(\"Please use `str(crs)` instead of `crs.crs_str`\", category=DeprecationWarning)\n"
     ]
    },
    {
     "name": "stdout",
     "output_type": "stream",
     "text": [
      "\u001b[2m2024-04-16 11:07:27\u001b[0m [\u001b[32m\u001b[1minfo     \u001b[0m] \u001b[1mFinished writing measurements \u001b[0m \u001b[36mtask\u001b[0m=\u001b[35mUUID('ae67d1c9-99a3-488b-ac6a-74ec7389258c')\u001b[0m\n"
     ]
    },
    {
     "name": "stderr",
     "output_type": "stream",
     "text": [
      "/env/lib/python3.10/site-packages/eodatasets3/images.py:1320: RuntimeWarning: overflow encountered in scalar subtract\n",
      "  image /= float(imax - imin)\n",
      "/env/lib/python3.10/site-packages/eodatasets3/images.py:1320: RuntimeWarning: overflow encountered in scalar subtract\n",
      "  image /= float(imax - imin)\n",
      "/env/lib/python3.10/site-packages/eodatasets3/images.py:1320: RuntimeWarning: overflow encountered in scalar subtract\n",
      "  image /= float(imax - imin)\n"
     ]
    },
    {
     "name": "stdout",
     "output_type": "stream",
     "text": [
      "\u001b[2m2024-04-16 11:07:40\u001b[0m [\u001b[32m\u001b[1minfo     \u001b[0m] \u001b[1mWrote thumbnail               \u001b[0m \u001b[36mtask\u001b[0m=\u001b[35mUUID('ae67d1c9-99a3-488b-ac6a-74ec7389258c')\u001b[0m\n",
      "\u001b[2m2024-04-16 11:07:40\u001b[0m [\u001b[32m\u001b[1minfo     \u001b[0m] \u001b[1mAssembled dataset             \u001b[0m \u001b[36mmetadata_path\u001b[0m=\u001b[35mPosixPath('/tmp/tmp4ct80bbk/ga_ls_fc_3/2-5-1/112/080/2021/11/03/ga_ls_fc_3_112080_2021-11-03_final.odc-metadata.yaml')\u001b[0m \u001b[36mtask\u001b[0m=\u001b[35mUUID('ae67d1c9-99a3-488b-ac6a-74ec7389258c')\u001b[0m\n",
      "\u001b[2m2024-04-16 11:07:40\u001b[0m [\u001b[32m\u001b[1minfo     \u001b[0m] \u001b[1mSTAC file written             \u001b[0m \u001b[36mtask\u001b[0m=\u001b[35mUUID('ae67d1c9-99a3-488b-ac6a-74ec7389258c')\u001b[0m\n",
      "\u001b[2m2024-04-16 11:07:40\u001b[0m [\u001b[32m\u001b[1minfo     \u001b[0m] \u001b[1mWriting files to disk         \u001b[0m \u001b[36mlocation\u001b[0m=\u001b[35mPosixPath('/gdata1/projects/landcover/fractional-cover-model/ls9_cf/ga_ls_fc_3/2-5-1/112/080/2021/11/03')\u001b[0m \u001b[36mtask\u001b[0m=\u001b[35mUUID('ae67d1c9-99a3-488b-ac6a-74ec7389258c')\u001b[0m\n",
      "\u001b[2m2024-04-16 11:07:41\u001b[0m [\u001b[32m\u001b[1minfo     \u001b[0m] \u001b[1mTask complete                 \u001b[0m \u001b[36mtask\u001b[0m=\u001b[35mUUID('ae67d1c9-99a3-488b-ac6a-74ec7389258c')\u001b[0m\n",
      "All tasks have been completed.\n"
     ]
    }
   ],
   "source": [
    "import multiprocessing\n",
    "import subprocess\n",
    "\n",
    "def run_command(command):\n",
    "    \"\"\"Function to run a bash command.\"\"\"\n",
    "    subprocess.run(command, shell=True)\n",
    "    # print(command)\n",
    "    # print(\"\")\n",
    "    \n",
    "# Create a list of commands (you can add more commands if needed)\n",
    "num_cpus = multiprocessing.cpu_count()\n",
    "print(num_cpus)\n",
    "\n",
    "# Create a multiprocessing pool with the number of CPUs\n",
    "with multiprocessing.Pool(processes=1) as pool:\n",
    "    # Execute the commands using the pool\n",
    "    results = pool.map_async(run_command, cmds)\n",
    "\n",
    "    # Wait for all tasks to finish\n",
    "    results.wait()\n",
    "\n",
    "    # Check if all tasks have been completed\n",
    "    if results.ready():\n",
    "        print(\"All tasks have been completed.\")"
   ]
  },
  {
   "cell_type": "code",
   "execution_count": 6,
   "id": "347ce85f-6938-4db1-a89c-d2a611c494bd",
   "metadata": {
    "tags": []
   },
   "outputs": [],
   "source": [
    "def native_load_dss(dss, base_ds, measurements=None):\n",
    "    geobox = native_geobox(\n",
    "            base_ds, basis=list(dss[0].measurements.keys())[0]\n",
    "        )\n",
    "    mm = dss[0].type.lookup_measurements(measurements)\n",
    "    tmp_data = dc.load_data(dc.group_datasets(dss, 'time'),\n",
    "                    geobox, measurements=mm, dask_chunks={'time': 1, 'x': -1, 'y': -1})\n",
    "        \n",
    "    return tmp_data"
   ]
  },
  {
   "cell_type": "code",
   "execution_count": 158,
   "id": "ef7101f2-c4ce-4eeb-a490-4a5d9555968e",
   "metadata": {
    "tags": []
   },
   "outputs": [
    {
     "name": "stdout",
     "output_type": "stream",
     "text": [
      " dropping 113072\n",
      " dropping 113074\n",
      " dropping 113083\n",
      " dropping 091072\n",
      " dropping 091075\n",
      " dropping 094071\n",
      " dropping 094072\n"
     ]
    }
   ],
   "source": [
    "sea_pathrows = '113072', '113074', '113083', '091072', '091075', '094071', '094072'\n",
    "ls9_polygons_no_sea = [] \n",
    "\n",
    "for ply in ls9_polygons:\n",
    "    if not ply[0] in sea_pathrows:        \n",
    "        ls9_polygons_no_sea.append(ply)\n",
    "    else:\n",
    "        print(\" dropping\", ply[0])"
   ]
  },
  {
   "cell_type": "code",
   "execution_count": 160,
   "id": "42291d45-0a3b-4598-87d3-63155ed987e4",
   "metadata": {
    "tags": []
   },
   "outputs": [
    {
     "data": {
      "text/plain": [
       "(60, 67)"
      ]
     },
     "execution_count": 160,
     "metadata": {},
     "output_type": "execute_result"
    }
   ],
   "source": []
  },
  {
   "cell_type": "code",
   "execution_count": 183,
   "id": "c4b36eed-894e-469b-98d3-bb19c5d3de0b",
   "metadata": {},
   "outputs": [
    {
     "name": "stdout",
     "output_type": "stream",
     "text": [
      "['113073' '117.218' '-19.674' '119.3' '-17.9043']\n",
      "['113075' '116.527' '-22.56' '118.65' '-20.7871']\n",
      "['113076' '116.174' '-24.0021' '118.319' '-22.2273']\n",
      "['113077' '115.814' '-25.4435' '117.985' '-23.6668']\n",
      "['113078' '115.448' '-26.8842' '117.645' '-25.1053']\n",
      "['113079' '115.074' '-28.3242' '117.3' '-26.543']\n",
      "['113080' '114.692' '-29.7633' '116.95' '-27.9796']\n",
      "['113081' '114.302' '-31.2017' '116.594' '-29.4152']\n",
      "['113082' '113.902' '-32.6391' '116.231' '-30.8496']\n",
      "['091073' '151.209' '-19.674' '153.291' '-17.9043']\n",
      "['091074' '150.867' '-21.1173' '152.968' '-19.3461']\n",
      "['091076' '150.165' '-24.0021' '152.311' '-22.2273']\n",
      "['091077' '149.805' '-25.4435' '151.976' '-23.6668']\n",
      "['091078' '149.439' '-26.8842' '151.637' '-25.1053']\n",
      "['091079' '149.065' '-28.3242' '151.292' '-26.543']\n",
      "['091080' '148.684' '-29.7633' '150.942' '-27.9796']\n",
      "['091081' '148.293' '-31.2017' '150.585' '-29.4152']\n",
      "['091082' '147.893' '-32.6391' '150.222' '-30.8496']\n",
      "['091083' '147.484' '-34.0755' '149.851' '-32.2829']\n",
      "['091084' '147.063' '-35.5109' '149.473' '-33.7149']\n",
      "['091085' '146.629' '-36.9452' '149.085' '-35.1455']\n",
      "['091086' '146.183' '-38.3784' '148.688' '-36.5747']\n",
      "['091087' '145.723' '-39.8103' '148.28' '-38.0023']\n",
      "['091088' '145.246' '-41.2409' '147.86' '-39.4284']\n",
      "['091089' '144.753' '-42.6702' '147.428' '-40.8527']\n",
      "['091090' '144.241' '-44.0979' '146.982' '-42.2751']\n",
      "['092072' '150.002' '-18.2303' '152.067' '-16.4619']\n",
      "['092073' '149.664' '-19.674' '151.746' '-17.9043']\n",
      "['092074' '149.322' '-21.1173' '151.423' '-19.3461']\n",
      "['092075' '148.974' '-22.56' '151.096' '-20.7871']\n",
      "['092076' '148.62' '-24.0021' '150.766' '-22.2273']\n",
      "['092077' '148.26' '-25.4435' '150.431' '-23.6668']\n",
      "['092078' '147.894' '-26.8842' '150.091' '-25.1053']\n",
      "['092079' '147.52' '-28.3242' '149.747' '-26.543']\n",
      "['092080' '147.138' '-29.7633' '149.397' '-27.9796']\n",
      "['092081' '146.748' '-31.2017' '149.04' '-29.4152']\n",
      "['092082' '146.348' '-32.6391' '148.677' '-30.8496']\n",
      "['092083' '145.938' '-34.0755' '148.306' '-32.2829']\n",
      "['092084' '145.517' '-35.5109' '147.928' '-33.7149']\n",
      "['092085' '145.084' '-36.9452' '147.54' '-35.1455']\n",
      "['092086' '144.638' '-38.3784' '147.143' '-36.5747']\n",
      "['092087' '144.178' '-39.8103' '146.735' '-38.0023']\n",
      "['092088' '143.701' '-41.2409' '146.315' '-39.4284']\n",
      "['092089' '143.208' '-42.6702' '145.883' '-40.8527']\n",
      "['092090' '142.696' '-44.0979' '145.437' '-42.2751']\n",
      "['094073' '146.574' '-19.674' '148.656' '-17.9043']\n",
      "['094074' '146.231' '-21.1173' '148.333' '-19.3461']\n",
      "['094075' '145.884' '-22.56' '148.006' '-20.7871']\n",
      "['094076' '145.53' '-24.0021' '147.676' '-22.2273']\n",
      "['094077' '145.17' '-25.4435' '147.341' '-23.6668']\n",
      "['094078' '144.804' '-26.8842' '147.001' '-25.1053']\n",
      "['094079' '144.43' '-28.3242' '146.657' '-26.543']\n",
      "['094080' '144.048' '-29.7633' '146.306' '-27.9796']\n",
      "['094081' '143.658' '-31.2017' '145.95' '-29.4152']\n",
      "['094082' '143.258' '-32.6391' '145.587' '-30.8496']\n",
      "['094083' '142.848' '-34.0755' '145.216' '-32.2829']\n",
      "['094084' '142.427' '-35.5109' '144.837' '-33.7149']\n",
      "['094085' '141.994' '-36.9452' '144.45' '-35.1455']\n",
      "['094086' '141.548' '-38.3784' '144.053' '-36.5747']\n",
      "['094087' '141.087' '-39.8103' '143.645' '-38.0023']\n"
     ]
    }
   ],
   "source": [
    "prc_10 = []\n",
    "prc_50 = []\n",
    "prc_90 = []\n",
    "diffs = []\n",
    "\n",
    "# a = ['091077']\n",
    "for a in ls9_polygons_no_sea:   \n",
    "    print(a)\n",
    "    ls9_datasets = wr.s3.list_objects(\"s3://dea-public-data-dev/test/ls9_fc/ga_ls_fc_3/2-5-0/\"+\n",
    "                                      a[0][:3]+\"/\"+a[0][3:], suffix=[\".json\"])\n",
    "    for d in ls9_datasets:       \n",
    "        s3_clientobj = s3_obj.get_object(Bucket='dea-public-data-dev',\n",
    "                                     Key=d.removeprefix(\"s3://dea-public-data-dev/\"))\n",
    "        s3_clientdata = s3_clientobj['Body'].read().decode('utf-8')\n",
    "        \n",
    "        for band in ['pv']:\n",
    "            load_path = json.loads(s3_clientdata)[\"assets\"][band]['href']\n",
    "            ls9_time = json.loads(s3_clientdata)[\"properties\"][\"datetime\"]\n",
    "            ls9_time = datetime.fromisoformat(ls9_time.rstrip('Z') + \"+00:00\")\n",
    "            query_poly = Geometry(json.loads(s3_clientdata)[\"geometry\"], crs=\"4326\")\n",
    "            ls8_query = {}\n",
    "            ls8_query[\"geopolygon\"] = query_poly\n",
    "            if ls9_time > datetime.fromisoformat('2021-12-01T23:59:59+00:00'):\n",
    "                continue\n",
    "            ls9_crs = json.loads(s3_clientdata)[\"properties\"][\"proj:epsg\"]\n",
    "            ls8_query['time'] = (ls9_time-timedelta(days=1),\n",
    "                             ls9_time+timedelta(days=1))\n",
    "            ls8_datasets = dc.find_datasets(product='ga_ls_fc_3', platform=\"landsat-8\", **ls8_query)\n",
    "            \n",
    "            ls8_ard_datasets = dc.find_datasets(product='ga_ls8c_ard_3', **ls8_query)                        \n",
    "   \n",
    "            \n",
    "            ls8_datasets_masked.sort(key=lambda x: x.center_time)            \n",
    "            if ls8_datasets == []:                    \n",
    "                continue\n",
    "            else:         \n",
    "                ls9_data = rioxr.open_rasterio(load_path, chunks={'x':-1, 'y':-1})\n",
    "                non_matching = [ds for ds in ls8_datasets if ds.crs != CRS(str(ls9_crs))]         \n",
    "                ls8_datasets = [ds for ds in ls8_datasets if ds.crs == CRS(str(ls9_crs))]  \n",
    "                for ds, ds_ard in zip(ls8_datasets, ls8_ard_datasets):\n",
    "                    \n",
    "                    ls8_data = native_load_dss([ds], ds, measurements=[band])\n",
    "                    \n",
    "                    ls8_ard_data = native_load_dss([ds_ard], ds_ard, measurements=['fmask'])\n",
    "                    ls8_data = ls8_data.where(ls8_ard_data['fmask']==1)\n",
    "                    \n",
    "                    if (len(ls8_data[band]) > 0):\n",
    "                        intersect_region = (ls8_data[band][0].where(ls8_data[band] != 255)  - ls9_data[0].where(ls9_data[0] != 255))[0]                    \n",
    "                        diff = ls9_data[0].sel(x=intersect_region.x, y=intersect_region.y).data.reshape(-1) - ls8_data.pv[0].sel(x=intersect_region.x, y=intersect_region.y).data.reshape(-1)                #                  \n",
    "                        diff_data = diff.compute()\n",
    "                        diffs.extend(diff_data)                                        \n",
    "                        prc_10.append(np.percentile(diff_data, 10))\n",
    "                        prc_50.append(np.percentile(diff_data, 50))\n",
    "                        prc_90.append(np.percentile(diff_data, 90))                 "
   ]
  },
  {
   "cell_type": "code",
   "execution_count": 184,
   "id": "3ecfb4f3-d203-4ef9-9947-9659a590553f",
   "metadata": {
    "tags": []
   },
   "outputs": [
    {
     "data": {
      "image/png": "[encoded data removed]",
      "text/plain": [
       "<Figure size 640x480 with 1 Axes>"
      ]
     },
     "metadata": {},
     "output_type": "display_data"
    }
   ],
   "source": [
    "ls9_num, bins, _ = plt.hist(diffs, bins=np.arange(0, 260))"
   ]
  },
  {
   "cell_type": "code",
   "execution_count": 186,
   "id": "3b59dead-7c84-4d3b-8351-103d36c2e63f",
   "metadata": {
    "tags": []
   },
   "outputs": [
    {
     "data": {
      "image/png": "[encoded data removed]",
      "text/plain": [
       "<Figure size 1000x300 with 3 Axes>"
      ]
     },
     "metadata": {},
     "output_type": "display_data"
    }
   ],
   "source": [
    "import matplotlib.pyplot as plt \n",
    "\n",
    "plot_percentile(band, 1, prc_10, prc_50, prc_90)"
   ]
  },
  {
   "cell_type": "code",
   "execution_count": 145,
   "id": "2535e80c-b152-405b-b39c-33285d9cdb4c",
   "metadata": {
    "tags": []
   },
   "outputs": [
    {
     "data": {
      "text/plain": [
       "array([251., 250., 237., 240., 244., 243., 246., 240., 224., 207., 218.,\n",
       "       225., 229., 229., 226., 225., 228., 242., 227., 224., 226., 232.,\n",
       "       245., 238., 238., 240.])"
      ]
     },
     "execution_count": 145,
     "metadata": {},
     "output_type": "execute_result"
    }
   ],
   "source": [
    "np.array(prc_50)[np.array(prc_50) > 200]"
   ]
  },
  {
   "cell_type": "code",
   "execution_count": 39,
   "id": "3caac239-6f27-4def-a58a-a2c12660d15c",
   "metadata": {
    "tags": []
   },
   "outputs": [],
   "source": [
    "def plot_percentile(band, n, prc_10, prc_50, prc_90):\n",
    "    plt.figure(figsize=(10, 3))\n",
    "\n",
    "    x_values = np.arange(len(prc_10))\n",
    "    plt.subplot(n, 3, 1)\n",
    "    plt.plot(x_values, prc_10, 'ro', label=f'PC-10 {band}')\n",
    "    plt.title('PC-10')\n",
    "\n",
    "    x_values = np.arange(len(prc_50))\n",
    "    plt.subplot(n, 3, 2)\n",
    "    plt.plot(x_values, prc_50, 'go', label=f'PC-50 {band}')\n",
    "    plt.title('PC-50')\n",
    "\n",
    "    x_values = np.arange(len(prc_90))\n",
    "    plt.subplot(n, 3, 3)\n",
    "    plt.plot(x_values, prc_90, 'bo', label=f'PC-90 {band}')    \n",
    "    plt.title('PC-90')    \n",
    "    plt.subplots_adjust(top=0.8)\n",
    "    \n",
    "    plt.suptitle(f'{a[0]} PV')\n",
    "    # plt.savefig(f'{a[0]}_PV.png')\n",
    "\n",
    "    plt.show()\n",
    "    "
   ]
  },
  {
   "cell_type": "code",
   "execution_count": 141,
   "id": "d342eab1-0f3a-4fac-8b16-e7ea8ee85f56",
   "metadata": {
    "tags": []
   },
   "outputs": [],
   "source": [
    "# intersect_region.shape, ls9_data.shape, ls9_data.shape"
   ]
  },
  {
   "cell_type": "code",
   "execution_count": 142,
   "id": "0c4de900-20f2-4c35-996a-c5a22958e591",
   "metadata": {
    "tags": []
   },
   "outputs": [],
   "source": [
    "# ls8_data.pv[0].plot.imshow()"
   ]
  },
  {
   "cell_type": "code",
   "execution_count": 143,
   "id": "f8966a36-30e8-4b14-b561-700131ccbd87",
   "metadata": {
    "tags": []
   },
   "outputs": [],
   "source": [
    "# ls9_data[0].plot.imshow()"
   ]
  },
  {
   "cell_type": "code",
   "execution_count": 125,
   "id": "24fef5b7-cb17-48cf-bceb-17c4cda6c94a",
   "metadata": {
    "tags": []
   },
   "outputs": [
    {
     "data": {
      "text/plain": [
       "(119,)"
      ]
     },
     "execution_count": 125,
     "metadata": {},
     "output_type": "execute_result"
    },
    {
     "data": {
      "image/png": "[encoded data removed]",
      "text/plain": [
       "<Figure size 640x480 with 1 Axes>"
      ]
     },
     "metadata": {},
     "output_type": "display_data"
    }
   ],
   "source": [
    "import matplotlib.pyplot as plt\n",
    "\n",
    "ls9_num, bins, _ = plt.hist(ls9_data[0].sel(x=intersect_region.x, y=intersect_region.y).data.reshape(-1),\n",
    "         bins=np.arange(0, 120),  alpha=0.5)\n",
    "ls8_num, _, _ = plt.hist(ls8_data.pv[0].sel(x=intersect_region.x, y=intersect_region.y).data.reshape(-1),\n",
    "         bins=np.arange(0, 120), alpha=0.5)\n",
    "\n",
    "(ls9_num - ls8_num).shape"
   ]
  },
  {
   "cell_type": "code",
   "execution_count": 132,
   "id": "d7e154fa-7df3-4cfc-a3c9-ef50de12dff9",
   "metadata": {
    "tags": []
   },
   "outputs": [],
   "source": [
    "diff = ls9_data[0].sel(x=intersect_region.x, y=intersect_region.y).data.reshape(-1) - ls8_data.pv[0].sel(x=intersect_region.x, y=intersect_region.y).data.reshape(-1)"
   ]
  },
  {
   "cell_type": "code",
   "execution_count": 140,
   "id": "99fbb1ae-8a74-46a3-be8a-16661c731827",
   "metadata": {
    "tags": []
   },
   "outputs": [
    {
     "data": {
      "text/plain": [
       "[<matplotlib.lines.Line2D at 0x7faa002da800>]"
      ]
     },
     "execution_count": 140,
     "metadata": {},
     "output_type": "execute_result"
    },
    {
     "data": {
      "image/png": "[encoded data removed]",
      "text/plain": [
       "<Figure size 800x600 with 1 Axes>"
      ]
     },
     "metadata": {},
     "output_type": "display_data"
    }
   ],
   "source": []
  },
  {
   "cell_type": "code",
   "execution_count": null,
   "id": "989d7519-2882-4f05-b5f9-7474e3b2555a",
   "metadata": {},
   "outputs": [],
   "source": []
  }
 ],
 "metadata": {
  "kernelspec": {
   "display_name": "lccs_2",
   "language": "python",
   "name": "lccs_2"
  },
  "language_info": {
   "codemirror_mode": {
    "name": "ipython",
    "version": 3
   },
   "file_extension": ".py",
   "mimetype": "text/x-python",
   "name": "python",
   "nbconvert_exporter": "python",
   "pygments_lexer": "ipython3",
   "version": "3.10.13"
  }
 },
 "nbformat": 4,
 "nbformat_minor": 5
}
