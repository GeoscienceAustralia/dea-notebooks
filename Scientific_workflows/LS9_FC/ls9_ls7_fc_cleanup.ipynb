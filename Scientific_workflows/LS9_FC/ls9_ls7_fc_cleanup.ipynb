{
 "cells": [
  {
   "cell_type": "code",
   "execution_count": 1,
   "metadata": {},
   "outputs": [],
   "source": [
    "import rasterio\n",
    "import pandas as pd\n",
    "from pathlib import Path"
   ]
  },
  {
   "cell_type": "code",
   "execution_count": 2,
   "metadata": {},
   "outputs": [],
   "source": [
    "from osgeo import gdal\n",
    "import datacube\n",
    "import boto3\n",
    "\n",
    "dc = datacube.Datacube(app=\"04_Loading_data\")"
   ]
  },
  {
   "cell_type": "code",
   "execution_count": 154,
   "metadata": {
    "tags": []
   },
   "outputs": [],
   "source": [
    "# Read LS7 FC datasets between 2021 to 2022\n",
    "\n",
    "query = {}                  \n",
    "\n",
    "query['time'] = (\"2021-01-01\", \"2022-12-31\")\n",
    "query['dataset_maturity'] = 'final'\n",
    "\n",
    "ls7_fc_datasets = dc.find_datasets(product='ga_ls_fc_3', platform='landsat-7' , **query)\n",
    "ls7_fc_ids = [str(x.id) for x in ls7_fc_datasets]\n",
    "ls7_fc_paths = [str(x.uris[0]) for x in ls7_fc_datasets]"
   ]
  },
  {
   "cell_type": "code",
   "execution_count": 95,
   "metadata": {
    "tags": []
   },
   "outputs": [],
   "source": [
    "# Read LS7/9 ard datasets between 2021 to 2022\n",
    "\n",
    "query = {}                  \n",
    "\n",
    "query['time'] = (\"2021-01-01\", \"2022-12-31\")\n",
    "query['dataset_maturity'] = 'final'\n",
    "\n",
    "ls9_ard_datasets = dc.find_datasets(product='ga_ls9c_ard_3' , **query)\n",
    "ls7_ard_datasets = dc.find_datasets(product='ga_ls7e_ard_3', **query)\n",
    "\n",
    "wof_ls9_overlapping_scene = pd.read_csv(\"wo_ls9_overwrite_ls7.csv\") # these are good scenes where gqa < 1 for ls9     "
   ]
  },
  {
   "cell_type": "code",
   "execution_count": 96,
   "metadata": {
    "tags": []
   },
   "outputs": [
    {
     "data": {
      "text/plain": [
       "(10876, 9909)"
      ]
     },
     "execution_count": 96,
     "metadata": {},
     "output_type": "execute_result"
    }
   ],
   "source": [
    "len(ls9_ard_datasets), len(ls7_ard_datasets)"
   ]
  },
  {
   "cell_type": "code",
   "execution_count": 97,
   "metadata": {
    "tags": []
   },
   "outputs": [],
   "source": [
    "# find overlapping datasets\n",
    "ls9_path = [str(Path(x.uris[0].replace('s3://dea-public-data/baseline/ga_ls9c_ard_3/', '')).parent) for x in ls9_ard_datasets]\n",
    "ls9_ids = [str(x.id) for x in ls9_ard_datasets]\n",
    "ls7_path = [str(Path(x.uris[0].replace('s3://dea-public-data/baseline/ga_ls7e_ard_3/', '')).parent) for x in ls7_ard_datasets]"
   ]
  },
  {
   "cell_type": "code",
   "execution_count": 104,
   "metadata": {
    "tags": []
   },
   "outputs": [
    {
     "data": {
      "text/plain": [
       "(9655, 1221)"
      ]
     },
     "execution_count": 104,
     "metadata": {},
     "output_type": "execute_result"
    }
   ],
   "source": [
    "# Find overlapping and non-overlapping datasets from path\n",
    "ls7_common_ls9_cmn = list(set(ls9_path).intersection(set(ls7_path)))\n",
    "ls9_non_overlapping = list(set(ls9_path) - set(ls7_path))\n",
    "len(ls9_non_overlapping) , len(ls7_common_ls9_cmn)\n",
    "# (9655, 1221)"
   ]
  },
  {
   "cell_type": "code",
   "execution_count": 134,
   "metadata": {
    "tags": []
   },
   "outputs": [],
   "source": [
    "ls9_non_overlapping_ids =[]\n",
    "\n",
    "for x in ls9_ard_datasets:\n",
    "    base_path_ls9 = str(Path(x.uris[0].replace('s3://dea-public-data/baseline/ga_ls9c_ard_3/', '')).parent) \n",
    "    if base_path_ls9 in ls9_non_overlapping:\n",
    "        ls9_non_overlapping_ids.append(str(x.id))"
   ]
  },
  {
   "cell_type": "code",
   "execution_count": null,
   "metadata": {},
   "outputs": [],
   "source": [
    "# find the LS9 ids overlapping LS7 where gqa < 1 based on wofs datstets ids"
   ]
  },
  {
   "cell_type": "code",
   "execution_count": 107,
   "metadata": {
    "tags": []
   },
   "outputs": [],
   "source": [
    "# Now extract the LS9 ids for the overlapping scenes\n",
    "ls9_common_ids = []\n",
    "ls9_paths = []\n",
    "\n",
    "for ls9_ds in ls9_ard_datasets:    \n",
    "    ls9_pth = str(Path(ls9_ds.uris[0].replace('s3://dea-public-data/baseline/ga_ls9c_ard_3/', '')).parent)    \n",
    "    \n",
    "    if ls9_pth in ls7_common_ls9_cmn:\n",
    "        ls9_common_ids.append(str(ls9_ds.id))\n",
    "        ls9_paths.append(ls9_pth)\n",
    "\n",
    "ls9_cmn = pd.DataFrame({\"ls9_ids\": ls9_common_ids, \"prefix\": ls9_paths}, index=None)     "
   ]
  },
  {
   "cell_type": "code",
   "execution_count": 108,
   "metadata": {
    "tags": []
   },
   "outputs": [],
   "source": [
    "# Now extract the LS7 ids for the overlapping scenes\n",
    "\n",
    "ls7_common_ids = []\n",
    "ls7_paths = []\n",
    "\n",
    "for ls7_ds in ls7_ard_datasets:    \n",
    "    ls7_pth = str(Path(ls7_ds.uris[0].replace('s3://dea-public-data/baseline/ga_ls7e_ard_3/', '')).parent)    \n",
    "    \n",
    "    if ls7_pth in ls7_common_ls9_cmn:\n",
    "        ls7_common_ids.append(str(ls7_ds.id))\n",
    "        ls7_paths.append(ls7_pth)\n",
    "        \n",
    "ls7_cmn = pd.DataFrame({\"ls7_ids\": ls7_common_ids, \"prefix\": ls7_paths}, index=None)             "
   ]
  },
  {
   "cell_type": "code",
   "execution_count": 109,
   "metadata": {
    "tags": []
   },
   "outputs": [],
   "source": [
    "ls9_gqa_more_than_one_to_process = list(set(wof_ls9_overlapping_scene.ls9_id).intersection(set(ls9_common_ids)))\n",
    "ls9_valid_gqa_df = pd.DataFrame({\"ls9_ids\": ls9_gqa_more_than_one_to_process, \"gqa_valid\": True})"
   ]
  },
  {
   "cell_type": "code",
   "execution_count": 110,
   "metadata": {
    "tags": []
   },
   "outputs": [
    {
     "data": {
      "text/plain": [
       "1153"
      ]
     },
     "execution_count": 110,
     "metadata": {},
     "output_type": "execute_result"
    }
   ],
   "source": [
    "len(ls9_valid_gqa_df)"
   ]
  },
  {
   "cell_type": "code",
   "execution_count": 111,
   "metadata": {
    "tags": []
   },
   "outputs": [],
   "source": [
    "df_merged = ls9_cmn.merge(ls7_cmn, on='prefix', how='left')"
   ]
  },
  {
   "cell_type": "code",
   "execution_count": 112,
   "metadata": {
    "tags": []
   },
   "outputs": [],
   "source": [
    "df_merged = df_merged.merge(å,  on='ls9_ids', how='left')"
   ]
  },
  {
   "cell_type": "code",
   "execution_count": 113,
   "metadata": {
    "tags": []
   },
   "outputs": [
    {
     "data": {
      "text/plain": [
       "(1221, 1221, 1221)"
      ]
     },
     "execution_count": 113,
     "metadata": {},
     "output_type": "execute_result"
    }
   ],
   "source": [
    "len(df_merged), len(ls9_cmn), len(ls7_cmn)"
   ]
  },
  {
   "cell_type": "code",
   "execution_count": 114,
   "metadata": {
    "tags": []
   },
   "outputs": [],
   "source": [
    "df_merged = df_merged[df_merged['gqa_valid'] == True]"
   ]
  },
  {
   "cell_type": "code",
   "execution_count": 156,
   "metadata": {
    "tags": []
   },
   "outputs": [
    {
     "data": {
      "text/html": [
       "<div>\n",
       "<style scoped>\n",
       "    .dataframe tbody tr th:only-of-type {\n",
       "        vertical-align: middle;\n",
       "    }\n",
       "\n",
       "    .dataframe tbody tr th {\n",
       "        vertical-align: top;\n",
       "    }\n",
       "\n",
       "    .dataframe thead th {\n",
       "        text-align: right;\n",
       "    }\n",
       "</style>\n",
       "<table border=\"1\" class=\"dataframe\">\n",
       "  <thead>\n",
       "    <tr style=\"text-align: right;\">\n",
       "      <th></th>\n",
       "      <th>ls9_ids</th>\n",
       "      <th>prefix</th>\n",
       "      <th>ls7_ids</th>\n",
       "      <th>gqa_valid</th>\n",
       "    </tr>\n",
       "  </thead>\n",
       "  <tbody>\n",
       "    <tr>\n",
       "      <th>0</th>\n",
       "      <td>58a5f919-1e49-4e8e-90ba-ed9c0a0fe42a</td>\n",
       "      <td>090/089/2022/03/02</td>\n",
       "      <td>9d3f1fbd-994d-4e8d-b8e9-6bb4cd165b5c</td>\n",
       "      <td>True</td>\n",
       "    </tr>\n",
       "    <tr>\n",
       "      <th>1</th>\n",
       "      <td>58ea4512-2793-44a0-ae49-08ce7ea36892</td>\n",
       "      <td>091/084/2022/02/05</td>\n",
       "      <td>712dcccf-5668-425e-8e23-24d04e1b156f</td>\n",
       "      <td>True</td>\n",
       "    </tr>\n",
       "  </tbody>\n",
       "</table>\n",
       "</div>"
      ],
      "text/plain": [
       "                                ls9_ids              prefix  \\\n",
       "0  58a5f919-1e49-4e8e-90ba-ed9c0a0fe42a  090/089/2022/03/02   \n",
       "1  58ea4512-2793-44a0-ae49-08ce7ea36892  091/084/2022/02/05   \n",
       "\n",
       "                                ls7_ids gqa_valid  \n",
       "0  9d3f1fbd-994d-4e8d-b8e9-6bb4cd165b5c      True  \n",
       "1  712dcccf-5668-425e-8e23-24d04e1b156f      True  "
      ]
     },
     "execution_count": 156,
     "metadata": {},
     "output_type": "execute_result"
    }
   ],
   "source": [
    "df_merged.head(2)"
   ]
  },
  {
   "cell_type": "code",
   "execution_count": 139,
   "metadata": {
    "tags": []
   },
   "outputs": [],
   "source": [
    "# Write the full list of LS9 ARD datasets to process "
   ]
  },
  {
   "cell_type": "code",
   "execution_count": 136,
   "metadata": {
    "tags": []
   },
   "outputs": [],
   "source": [
    "ls9_ids_to_process = list(df_merged.ls9_ids) + ls9_non_overlapping_ids"
   ]
  },
  {
   "cell_type": "code",
   "execution_count": 137,
   "metadata": {
    "tags": []
   },
   "outputs": [],
   "source": [
    "ls9_ard_ids_21_22 = ' '.join(ls9_ids_to_process)\n",
    "with open(\"ls9_ard_ids_21_22.txt\", \"w\") as file:                     \n",
    "        file.write(ls9_ard_ids_21_22)"
   ]
  },
  {
   "cell_type": "code",
   "execution_count": 142,
   "metadata": {
    "tags": []
   },
   "outputs": [],
   "source": [
    "# compile the list to archive\n",
    "ids = []\n",
    "path = []\n",
    "\n",
    "ids = [x.id for x in ls7_fc_scenes]\n",
    "ls7_fc_scene_prefix = [str(x.uris[0]) for x in ls7_fc_scenes]\n",
    "\n",
    "ls7_21_22_scenes = pd.DataFrame({\"ls7_fc_id\": ids, \"ls_fc_prefix\": ls7_fc_scene_prefix})"
   ]
  },
  {
   "cell_type": "code",
   "execution_count": 166,
   "metadata": {
    "tags": []
   },
   "outputs": [
    {
     "data": {
      "text/plain": [
       "0       090/089/2022/03/02\n",
       "1       091/084/2022/02/05\n",
       "3       113/081/2022/03/20\n",
       "4       090/089/2022/01/29\n",
       "5       109/070/2021/10/31\n",
       "               ...        \n",
       "1216    110/083/2021/12/25\n",
       "1217    109/070/2022/01/03\n",
       "1218    107/070/2022/01/21\n",
       "1219    090/085/2022/04/03\n",
       "1220    109/070/2021/12/18\n",
       "Name: prefix, Length: 1153, dtype: object"
      ]
     },
     "execution_count": 166,
     "metadata": {},
     "output_type": "execute_result"
    }
   ],
   "source": [
    " df_merged.prefix"
   ]
  },
  {
   "cell_type": "code",
   "execution_count": null,
   "metadata": {
    "tags": []
   },
   "outputs": [],
   "source": [
    "ls7_fc_scenes_to_archive = []\n",
    "ls7_fc_paths_to_archive = []\n",
    "\n",
    "for ls7_fc_id, ls7_fc_path in zip(ls7_fc_ids, ls7_fc_paths):    \n",
    "    base_path = str(Path(ls7_fc_path.replace('s3://dea-public-data/derivative/ga_ls_fc_3/2-5-0/', '')).parent)            \n",
    "    if base_path in df_merged.prefix.values:\n",
    "        \n",
    "        ls7_fc_scenes_to_archive.append(ls7_fc_id)\n",
    "        # ls7_fc_paths_to_archive.append(path)\n",
    "len(ls7_fc_scenes_to_archive        )"
   ]
  },
  {
   "cell_type": "code",
   "execution_count": 149,
   "metadata": {
    "tags": []
   },
   "outputs": [],
   "source": [
    "ls7_fc_scenes_to_archive_21_22 = ' '.join(ls7_fc_scenes_to_archive)\n",
    "with open(\"ls7_fc_scenes_to_archive_21_22.txt\", \"w\") as file:                     \n",
    "        file.write(ls7_fc_scenes_to_archive_21_22)"
   ]
  },
  {
   "cell_type": "code",
   "execution_count": 164,
   "metadata": {
    "tags": []
   },
   "outputs": [
    {
     "data": {
      "text/plain": [
       "0"
      ]
     },
     "execution_count": 164,
     "metadata": {},
     "output_type": "execute_result"
    }
   ],
   "source": [
    "len(ls7_fc_scenes_to_archive)"
   ]
  },
  {
   "cell_type": "code",
   "execution_count": null,
   "metadata": {},
   "outputs": [],
   "source": []
  }
 ],
 "metadata": {
  "kernelspec": {
   "display_name": "Python 3 (ipykernel)",
   "language": "python",
   "name": "python3"
  },
  "language_info": {
   "codemirror_mode": {
    "name": "ipython",
    "version": 3
   },
   "file_extension": ".py",
   "mimetype": "text/x-python",
   "name": "python",
   "nbconvert_exporter": "python",
   "pygments_lexer": "ipython3",
   "version": "3.10.13"
  }
 },
 "nbformat": 4,
 "nbformat_minor": 4
}
