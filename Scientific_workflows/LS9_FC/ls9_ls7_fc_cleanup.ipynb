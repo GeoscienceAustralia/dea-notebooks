{
 "cells": [
  {
   "cell_type": "code",
   "execution_count": 1,
   "metadata": {},
   "outputs": [],
   "source": [
    "import rasterio\n",
    "import pandas as pd\n",
    "from pathlib import Path"
   ]
  },
  {
   "cell_type": "code",
   "execution_count": 2,
   "metadata": {},
   "outputs": [],
   "source": [
    "from osgeo import gdal\n",
    "import datacube\n",
    "import boto3\n",
    "\n",
    "dc = datacube.Datacube(app=\"04_Loading_data\")"
   ]
  },
  {
   "cell_type": "code",
   "execution_count": 4,
   "metadata": {
    "tags": []
   },
   "outputs": [],
   "source": []
  },
  {
   "cell_type": "code",
   "execution_count": 95,
   "metadata": {
    "tags": []
   },
   "outputs": [],
   "source": [
    "# Read ard datasets between 2021 to 2022\n",
    "\n",
    "query = {}                  \n",
    "\n",
    "query['time'] = (\"2021-01-01\", \"2022-12-31\")\n",
    "query['dataset_maturity'] = 'final'\n",
    "\n",
    "ls9_ard_datasets = dc.find_datasets(product='ga_ls9c_ard_3' , **query)\n",
    "ls7_ard_datasets = dc.find_datasets(product='ga_ls7e_ard_3', **query)\n",
    "\n",
    "wof_ls9_overlapping_scene = pd.read_csv(\"wo_ls9_overwrite_ls7.csv\") # these are good scenes where gqa < 1 for ls9     "
   ]
  },
  {
   "cell_type": "code",
   "execution_count": 96,
   "metadata": {
    "tags": []
   },
   "outputs": [
    {
     "data": {
      "text/plain": [
       "(10876, 9909)"
      ]
     },
     "execution_count": 96,
     "metadata": {},
     "output_type": "execute_result"
    }
   ],
   "source": [
    "len(ls9_ard_datasets), len(ls7_ard_datasets)"
   ]
  },
  {
   "cell_type": "code",
   "execution_count": 97,
   "metadata": {
    "tags": []
   },
   "outputs": [],
   "source": [
    "ls9_path = [str(Path(x.uris[0].replace('s3://dea-public-data/baseline/ga_ls9c_ard_3/', '')).parent) for x in ls9_ard_datasets]\n",
    "ls9_ids = [str(x.id) for x in ls9_ard_datasets]\n",
    "ls7_path = [str(Path(x.uris[0].replace('s3://dea-public-data/baseline/ga_ls7e_ard_3/', '')).parent) for x in ls7_ard_datasets]"
   ]
  },
  {
   "cell_type": "code",
   "execution_count": 98,
   "metadata": {
    "tags": []
   },
   "outputs": [],
   "source": [
    "ls9_non_overlapping_paths = list(set(ls9_path) - set(ls7_path))"
   ]
  },
  {
   "cell_type": "code",
   "execution_count": 101,
   "metadata": {
    "tags": []
   },
   "outputs": [
    {
     "data": {
      "text/plain": [
       "9655"
      ]
     },
     "execution_count": 101,
     "metadata": {},
     "output_type": "execute_result"
    }
   ],
   "source": [
    "len(ls9_non_overlapping_paths)"
   ]
  },
  {
   "cell_type": "code",
   "execution_count": 104,
   "metadata": {
    "tags": []
   },
   "outputs": [
    {
     "data": {
      "text/plain": [
       "(9655, 1221)"
      ]
     },
     "execution_count": 104,
     "metadata": {},
     "output_type": "execute_result"
    }
   ],
   "source": [
    "ls7_common_ls9_cmn = list(set(ls9_path).intersection(set(ls7_path)))\n",
    "ls9_non_overlapping = list(set(ls9_path) - set(ls7_path))\n",
    "len(ls9_non_overlapping) , len(ls7_common_ls9_cmn)\n",
    "# (9655, 1221)"
   ]
  },
  {
   "cell_type": "code",
   "execution_count": 134,
   "metadata": {
    "tags": []
   },
   "outputs": [],
   "source": [
    "ls9_non_overlapping_ids =[]\n",
    "\n",
    "for x in ls9_ard_datasets:\n",
    "    base_path_ls9 = str(Path(x.uris[0].replace('s3://dea-public-data/baseline/ga_ls9c_ard_3/', '')).parent) \n",
    "    if base_path_ls9 in ls9_non_overlapping:\n",
    "        ls9_non_overlapping_ids.append(str(x.id))"
   ]
  },
  {
   "cell_type": "code",
   "execution_count": 107,
   "metadata": {
    "tags": []
   },
   "outputs": [],
   "source": [
    "# Now extract the LS9 ids for the overlapping scenes\n",
    "ls9_common_ids = []\n",
    "ls9_paths = []\n",
    "\n",
    "for ls9_ds in ls9_ard_datasets:    \n",
    "    ls9_pth = str(Path(ls9_ds.uris[0].replace('s3://dea-public-data/baseline/ga_ls9c_ard_3/', '')).parent)    \n",
    "    \n",
    "    if ls9_pth in ls7_common_ls9_cmn:\n",
    "        ls9_common_ids.append(str(ls9_ds.id))\n",
    "        ls9_paths.append(ls9_pth)\n",
    "\n",
    "ls9_cmn = pd.DataFrame({\"ls9_ids\": ls9_common_ids, \"prefix\": ls9_paths}, index=None)     "
   ]
  },
  {
   "cell_type": "code",
   "execution_count": 108,
   "metadata": {
    "tags": []
   },
   "outputs": [],
   "source": [
    "# Now extract the LS7 ids for the overlapping scenes\n",
    "\n",
    "ls7_common_ids = []\n",
    "ls7_paths = []\n",
    "\n",
    "for ls7_ds in ls7_ard_datasets:    \n",
    "    ls7_pth = str(Path(ls7_ds.uris[0].replace('s3://dea-public-data/baseline/ga_ls7e_ard_3/', '')).parent)    \n",
    "    \n",
    "    if ls7_pth in ls7_common_ls9_cmn:\n",
    "        ls7_common_ids.append(str(ls7_ds.id))\n",
    "        ls7_paths.append(ls7_pth)\n",
    "        \n",
    "ls7_cmn = pd.DataFrame({\"ls7_ids\": ls7_common_ids, \"prefix\": ls7_paths}, index=None)             "
   ]
  },
  {
   "cell_type": "code",
   "execution_count": 109,
   "metadata": {
    "tags": []
   },
   "outputs": [],
   "source": [
    "ls9_gqa_more_than_one_to_process = list(set(wof_ls9_overlapping_scene.ls9_id).intersection(set(ls9_common_ids)))\n",
    "ls9_valid_gqa_df = pd.DataFrame({\"ls9_ids\": ls9_gqa_more_than_one_to_process, \"gqa_valid\": True})"
   ]
  },
  {
   "cell_type": "code",
   "execution_count": 110,
   "metadata": {
    "tags": []
   },
   "outputs": [
    {
     "data": {
      "text/plain": [
       "1153"
      ]
     },
     "execution_count": 110,
     "metadata": {},
     "output_type": "execute_result"
    }
   ],
   "source": [
    "len(ls9_valid_gqa_df)"
   ]
  },
  {
   "cell_type": "code",
   "execution_count": 111,
   "metadata": {
    "tags": []
   },
   "outputs": [],
   "source": [
    "df_merged = ls9_cmn.merge(ls7_cmn, on='prefix', how='left')"
   ]
  },
  {
   "cell_type": "code",
   "execution_count": 112,
   "metadata": {
    "tags": []
   },
   "outputs": [],
   "source": [
    "df_merged = df_merged.merge(ls9_valid_gqa_df,  on='ls9_ids', how='left')"
   ]
  },
  {
   "cell_type": "code",
   "execution_count": 113,
   "metadata": {
    "tags": []
   },
   "outputs": [
    {
     "data": {
      "text/plain": [
       "(1221, 1221, 1221)"
      ]
     },
     "execution_count": 113,
     "metadata": {},
     "output_type": "execute_result"
    }
   ],
   "source": [
    "len(df_merged), len(ls9_cmn), len(ls7_cmn)"
   ]
  },
  {
   "cell_type": "code",
   "execution_count": 114,
   "metadata": {
    "tags": []
   },
   "outputs": [],
   "source": [
    "df_merged = df_merged[df_merged['gqa_valid'] == True]"
   ]
  },
  {
   "cell_type": "code",
   "execution_count": 139,
   "metadata": {
    "tags": []
   },
   "outputs": [],
   "source": [
    "# Write the full list of LS9 ARD datasets to process "
   ]
  },
  {
   "cell_type": "code",
   "execution_count": 136,
   "metadata": {
    "tags": []
   },
   "outputs": [],
   "source": [
    "ls9_ids_to_process = list(df_merged.ls9_ids) + ls9_non_overlapping_ids"
   ]
  },
  {
   "cell_type": "code",
   "execution_count": 137,
   "metadata": {
    "tags": []
   },
   "outputs": [],
   "source": [
    "ls9_ard_ids_21_22 = ' '.join(ls9_ids_to_process)\n",
    "with open(\"ls9_ard_ids_21_22.txt\", \"w\") as file:                     \n",
    "        file.write(ls9_ard_ids_21_22)"
   ]
  },
  {
   "cell_type": "code",
   "execution_count": null,
   "metadata": {
    "tags": []
   },
   "outputs": [],
   "source": []
  },
  {
   "cell_type": "code",
   "execution_count": 142,
   "metadata": {
    "tags": []
   },
   "outputs": [],
   "source": [
    "# compile the list to archive\n",
    "ids = []\n",
    "path = []\n",
    "\n",
    "ids = [x.id for x in ls7_fc_scenes]\n",
    "ls7_fc_scene_prefix = [str(x.uris[0]) for x in ls7_fc_scenes]\n",
    "\n",
    "ls7_21_22_scenes = pd.DataFrame({\"ls7_fc_id\": ids, \"ls_fc_prefix\": ls7_fc_scene_prefix})"
   ]
  },
  {
   "cell_type": "code",
   "execution_count": 145,
   "metadata": {
    "tags": []
   },
   "outputs": [],
   "source": [
    "ls7_fc_scenes_to_archive = []\n",
    "ls7_fc_paths_to_archive = []\n",
    "\n",
    "for fc_path in ls7_21_22_scenes.ls_fc_prefix:    \n",
    "    for ls7_ds_gqa_valid, path in zip(df_merged.ls7_ids.values, df_merged.prefix.values):            \n",
    "        if path in fc_path:\n",
    "            ls7_fc_scenes_to_archive.append(ls7_ds_gqa_valid)\n",
    "            ls7_fc_paths_to_archive.append(path)"
   ]
  },
  {
   "cell_type": "code",
   "execution_count": 149,
   "metadata": {
    "tags": []
   },
   "outputs": [],
   "source": [
    "ls7_fc_scenes_to_archive_21_22 = ' '.join(ls7_fc_scenes_to_archive)\n",
    "with open(\"ls7_fc_scenes_to_archive_21_22.txt\", \"w\") as file:                     \n",
    "        file.write(ls7_fc_scenes_to_archive_21_22)"
   ]
  },
  {
   "cell_type": "code",
   "execution_count": 150,
   "metadata": {
    "tags": []
   },
   "outputs": [],
   "source": [
    "\n",
    "# fc_ls_7_paths_to_be_archived = [str(Path(x.replace(\"s3://dea-public-data/derivative/ga_ls_fc_3/2-5-0/\", \"\")).parent) for x in ls7_fc_paths_to_archive]\n",
    "# len(set(fc_ls_7_paths_to_be_archived).intersection(set(df_merged.prefix.values)))"
   ]
  },
  {
   "cell_type": "code",
   "execution_count": 127,
   "metadata": {
    "tags": []
   },
   "outputs": [],
   "source": [
    "# query = {}                  \n",
    "\n",
    "# query['time'] = (\"2023-01-01\", \"2023-12-31\")\n",
    "# query['dataset_maturity'] = 'final'\n",
    "\n",
    "# ls9_ard_datasets = dc.find_datasets(product='ga_ls9c_ard_3', **query)\n",
    "# ls9_ard_datasets_ids = [str(x.id) for x in ls9_ard_datasets]\n",
    "# # space_separated_ds_ls9_2023 = ' '.join(ls9_ard_datasets_ids)\n",
    "# with open(\"ls9_ard_prod_2023.txt\", \"w\") as file:    \n",
    "#      for ds in ls9_ard_datasets_ids:                \n",
    "#         file.write(str(ds)+\"\\n\")\n",
    "        "
   ]
  },
  {
   "cell_type": "code",
   "execution_count": 9,
   "metadata": {
    "tags": []
   },
   "outputs": [
    {
     "data": {
      "text/plain": [
       "10088"
      ]
     },
     "execution_count": 9,
     "metadata": {},
     "output_type": "execute_result"
    }
   ],
   "source": []
  },
  {
   "cell_type": "code",
   "execution_count": 4,
   "metadata": {
    "tags": []
   },
   "outputs": [
    {
     "data": {
      "text/plain": [
       "10088"
      ]
     },
     "execution_count": 4,
     "metadata": {},
     "output_type": "execute_result"
    }
   ],
   "source": [
    "# query = {}\n",
    "# query['time'] = (\"2023-01-01\", \"2023-12-31\")\n",
    "# query['dataset_maturity'] = 'final'\n",
    "# len(dc.find_datasets(product='ga_ls_fc_3', platform='landsat-9', **query))"
   ]
  },
  {
   "cell_type": "code",
   "execution_count": 21,
   "metadata": {
    "tags": []
   },
   "outputs": [
    {
     "data": {
      "text/plain": [
       "10142"
      ]
     },
     "execution_count": 21,
     "metadata": {},
     "output_type": "execute_result"
    }
   ],
   "source": [
    "# query = {}\n",
    "# query['time'] = (\"2023-01-01\", \"2023-12-31\")\n",
    "# len(dc.find_datasets(product='ga_ls_fc_3', platform='landsat-8', **query))"
   ]
  },
  {
   "cell_type": "code",
   "execution_count": 23,
   "metadata": {
    "tags": []
   },
   "outputs": [
    {
     "data": {
      "text/plain": [
       "277"
      ]
     },
     "execution_count": 23,
     "metadata": {},
     "output_type": "execute_result"
    }
   ],
   "source": [
    "# query = {}                  \n",
    "# ds_ids = []\n",
    "\n",
    "# query['time'] = (\"2024-05-01\", \"2024-05-31\")\n",
    "# query['dataset_maturity'] = 'final'\n",
    "\n",
    "# ls8_fc_mature_datasets = dc.find_datasets(product='ga_ls_fc_3', platform='landsat-8',  **query)\n",
    "# ls8_fc_mature_datasets"
   ]
  },
  {
   "cell_type": "code",
   "execution_count": 63,
   "metadata": {
    "tags": []
   },
   "outputs": [],
   "source": [
    "# fc_paths = []\n",
    "\n",
    "# from pathlib import Path\n",
    "# for x in ls8_fc_mature_datasets:\n",
    "#     # print(x.uris)\n",
    "#     pth = Path(x.uris[0].replace('s3://dea-public-data/derivative/ga_ls_fc_3/2-5-1/', '')).name.replace('ga_ls_fc_3_', '')\n",
    "#     fc_paths.append(pth[7:17])"
   ]
  },
  {
   "cell_type": "code",
   "execution_count": 47,
   "metadata": {},
   "outputs": [],
   "source": [
    "# query = {}                  \n",
    "# ds_ids = []\n",
    "\n",
    "# dc = datacube.Datacube(app=\"04_Loading_data\")\n",
    "\n",
    "\n",
    "# query['time'] = (\"2024-05-01\", \"2024-05-31\")\n",
    "# query['dataset_maturity'] = 'final'\n",
    "\n",
    "# ls8_mature_datasets = dc.find_datasets(product='ga_ls8c_ard_3', **query)\n"
   ]
  },
  {
   "cell_type": "code",
   "execution_count": 61,
   "metadata": {
    "tags": []
   },
   "outputs": [],
   "source": [
    "# ard_paths = []\n",
    "# from pathlib import Path\n",
    "# for x in ls8_mature_datasets:\n",
    "#     pth = Path(x.uris[0].replace('s3://dea-public-data/baseline/ga_ls8c_ard_3', '')).name.replace('ga_ls8c_ard_3-2-1_', '')        \n",
    "#     ard_paths.append(pth[7:17])"
   ]
  },
  {
   "cell_type": "code",
   "execution_count": 25,
   "metadata": {
    "tags": []
   },
   "outputs": [
    {
     "name": "stdout",
     "output_type": "stream",
     "text": [
      "Count per year:\n",
      "2021: 1194\n",
      "2022: 9448\n",
      "2023: 9785\n",
      "2024: 2273\n"
     ]
    }
   ],
   "source": [
    "# from collections import Counter\n",
    "\n",
    "\n",
    "# count_per_year = {}\n",
    "# for dataset in datasets:\n",
    "#     year = dataset.center_time.year\n",
    "#     if year in count_per_year:\n",
    "#         count_per_year[year] += 1\n",
    "#     else:\n",
    "#         count_per_year[year] = 1\n",
    "\n",
    "# # Print the count per year\n",
    "# print(\"Count per year:\")\n",
    "# for year, count in sorted(count_per_year.items()):\n",
    "#     print(f\"{year}: {count}\")\n",
    "# # Replace 'your_product_name' with the name of the product for which you want to count the number of datasets.\n",
    "\n",
    "# # This code properly iterates over the datasets, extracts the acquisition years, and counts the number of datasets per year. Then, it prints the counts per year."
   ]
  },
  {
   "cell_type": "code",
   "execution_count": null,
   "metadata": {
    "tags": []
   },
   "outputs": [],
   "source": []
  },
  {
   "cell_type": "code",
   "execution_count": 21,
   "metadata": {
    "tags": []
   },
   "outputs": [
    {
     "data": {
      "text/plain": [
       "Range(begin=datetime.datetime(2023, 11, 14, 0, 56, 12, 576902, tzinfo=datetime.timezone.utc), end=datetime.datetime(2023, 11, 14, 0, 56, 42, 375502, tzinfo=datetime.timezone.utc))"
      ]
     },
     "execution_count": 21,
     "metadata": {},
     "output_type": "execute_result"
    }
   ],
   "source": [
    "datasets[0].time.s"
   ]
  },
  {
   "cell_type": "code",
   "execution_count": null,
   "metadata": {},
   "outputs": [],
   "source": []
  }
 ],
 "metadata": {
  "kernelspec": {
   "display_name": "Python 3 (ipykernel)",
   "language": "python",
   "name": "python3"
  },
  "language_info": {
   "codemirror_mode": {
    "name": "ipython",
    "version": 3
   },
   "file_extension": ".py",
   "mimetype": "text/x-python",
   "name": "python",
   "nbconvert_exporter": "python",
   "pygments_lexer": "ipython3",
   "version": "3.10.13"
  }
 },
 "nbformat": 4,
 "nbformat_minor": 4
}
