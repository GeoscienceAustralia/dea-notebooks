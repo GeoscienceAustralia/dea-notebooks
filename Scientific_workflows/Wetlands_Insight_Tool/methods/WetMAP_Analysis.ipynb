{
 "cells": [
  {
   "cell_type": "markdown",
   "metadata": {},
   "source": [
    "# WIT-WetMAP Analysis <img align=\"right\" src=\"../../../Supplementary_data/dea_logo.jpg\">\n",
    "\n",
    "* [**Sign up to the DEA Sandbox**](https://docs.dea.ga.gov.au/setup/sandbox.html) to run this notebook interactively from a browser\n",
    "* **Compatibility:** Notebook currently compatible with the `DEA Sandbox` environment\n",
    "* **Products used:** WIT"
   ]
  },
  {
   "cell_type": "markdown",
   "metadata": {},
   "source": [
    "## Description\n",
    "This notebook analyses the observational results from the WetMAP Victoria waterbird surveys and compares them to WIT.\n",
    "\n",
    "***"
   ]
  },
  {
   "cell_type": "markdown",
   "metadata": {},
   "source": [
    "## Setup"
   ]
  },
  {
   "cell_type": "code",
   "execution_count": 6,
   "metadata": {},
   "outputs": [
    {
     "name": "stdout",
     "output_type": "stream",
     "text": [
      "Requirement already satisfied: palettable in /env/lib/python3.6/site-packages (3.3.0)\n",
      "\u001b[33mWARNING: You are using pip version 20.2.4; however, version 21.1.2 is available.\n",
      "You should consider upgrading via the '/env/bin/python3 -m pip install --upgrade pip' command.\u001b[0m\n",
      "Note: you may need to restart the kernel to use updated packages.\n"
     ]
    }
   ],
   "source": [
    "pip install palettable"
   ]
  },
  {
   "cell_type": "code",
   "execution_count": 7,
   "metadata": {},
   "outputs": [
    {
     "name": "stderr",
     "output_type": "stream",
     "text": [
      "/env/lib/python3.6/site-packages/geopandas/_compat.py:110: UserWarning: The Shapely GEOS version (3.7.2-CAPI-1.11.0 ) is incompatible with the GEOS version PyGEOS was compiled with (3.9.1-CAPI-1.14.2). Conversions between both will be slow.\n",
      "  shapely_geos_version, geos_capi_version_string\n"
     ]
    }
   ],
   "source": [
    "import datacube\n",
    "import matplotlib.pyplot as plt\n",
    "import numpy as np\n",
    "import pandas as pd\n",
    "import xarray as xr\n",
    "import geopandas as gpd\n",
    "import scipy.stats, scipy.odr\n",
    "import palettable\n",
    "import matplotlib.patches as mpat"
   ]
  },
  {
   "cell_type": "markdown",
   "metadata": {},
   "source": [
    "### Connect to the datacube\n",
    "\n",
    "Connect to the datacube so we can access DEA data."
   ]
  },
  {
   "cell_type": "code",
   "execution_count": 8,
   "metadata": {},
   "outputs": [
    {
     "name": "stderr",
     "output_type": "stream",
     "text": [
      "/env/lib/python3.6/site-packages/datacube/drivers/postgres/_connections.py:87: SADeprecationWarning: Calling URL() directly is deprecated and will be disabled in a future release.  The public constructor for URL is now the URL.create() method.\n",
      "  username=username, password=password,\n"
     ]
    }
   ],
   "source": [
    "dc = datacube.Datacube(app='WIT-WetMAP')"
   ]
  },
  {
   "cell_type": "markdown",
   "metadata": {},
   "source": [
    "### Load WetMAP bird sites\n",
    "\n",
    "This is a table in the appendix of the WIT paper."
   ]
  },
  {
   "cell_type": "code",
   "execution_count": 9,
   "metadata": {},
   "outputs": [],
   "source": [
    "sites = pd.read_csv('wetmap_data/wit_bird_sites.csv').set_index('Code')"
   ]
  },
  {
   "cell_type": "markdown",
   "metadata": {},
   "source": [
    "### Load hydrology data\n",
    "\n",
    "Load the WetMAP observational data and the corresponding WIT data:"
   ]
  },
  {
   "cell_type": "code",
   "execution_count": 10,
   "metadata": {},
   "outputs": [],
   "source": [
    "wit = pd.read_csv('wetmap_data/hydrology_data.csv')\n",
    "wmap = pd.read_csv('wetmap_data/bird_data.csv')"
   ]
  },
  {
   "cell_type": "code",
   "execution_count": 11,
   "metadata": {},
   "outputs": [
    {
     "data": {
      "text/plain": [
       "151"
      ]
     },
     "execution_count": 11,
     "metadata": {},
     "output_type": "execute_result"
    }
   ],
   "source": [
    "len(wmap)"
   ]
  },
  {
   "cell_type": "code",
   "execution_count": 12,
   "metadata": {},
   "outputs": [],
   "source": [
    "wit['ga_date'] = pd.to_datetime(wit['ga_date'])\n",
    "wit = wit.sort_values(['birdsitecode', 'ga_date'])"
   ]
  },
  {
   "cell_type": "code",
   "execution_count": 13,
   "metadata": {},
   "outputs": [],
   "source": [
    "wit_to_sites = {\n",
    " 'HISW_EAST': 'HISW_E',\n",
    " 'HISW_WEST': 'HISW_W',\n",
    " 'LAMU_NORTH': 'LAMU_N',\n",
    " 'LAMU_SOUTH': 'LAMU_S',\n",
    " 'LAYA': 'LAYO',\n",
    " 'MCSW': 'MASW',\n",
    " 'RILA_EAST': 'RILA_E',\n",
    " 'RILA_WEST': 'RILA_W',\n",
    " 'WILO_BW': 'WILO_BS',\n",
    "}"
   ]
  },
  {
   "cell_type": "code",
   "execution_count": 14,
   "metadata": {},
   "outputs": [],
   "source": [
    "def replace_birdsitecode(code):\n",
    "    return wit_to_sites.get(code, code)\n",
    "wit['birdsitecode'] = wit['birdsitecode'].apply(replace_birdsitecode)\n",
    "wmap['birdsitecode'] = wmap['birdsitecode'].apply(replace_birdsitecode)"
   ]
  },
  {
   "cell_type": "code",
   "execution_count": 15,
   "metadata": {},
   "outputs": [
    {
     "data": {
      "text/html": [
       "<div>\n",
       "<style scoped>\n",
       "    .dataframe tbody tr th:only-of-type {\n",
       "        vertical-align: middle;\n",
       "    }\n",
       "\n",
       "    .dataframe tbody tr th {\n",
       "        vertical-align: top;\n",
       "    }\n",
       "\n",
       "    .dataframe thead th {\n",
       "        text-align: right;\n",
       "    }\n",
       "</style>\n",
       "<table border=\"1\" class=\"dataframe\">\n",
       "  <thead>\n",
       "    <tr style=\"text-align: right;\">\n",
       "      <th></th>\n",
       "      <th>Name</th>\n",
       "      <th>Dominant vegetation type</th>\n",
       "      <th>Water regime</th>\n",
       "    </tr>\n",
       "    <tr>\n",
       "      <th>Code</th>\n",
       "      <th></th>\n",
       "      <th></th>\n",
       "      <th></th>\n",
       "    </tr>\n",
       "  </thead>\n",
       "  <tbody>\n",
       "    <tr>\n",
       "      <th>VINI</th>\n",
       "      <td>Vinifera Floodplain</td>\n",
       "      <td>Woodland</td>\n",
       "      <td>Periodically Inundated - Episodic</td>\n",
       "    </tr>\n",
       "    <tr>\n",
       "      <th>CARA</th>\n",
       "      <td>Carapugna</td>\n",
       "      <td>Woodland</td>\n",
       "      <td>Periodically Inundated - Seasonal</td>\n",
       "    </tr>\n",
       "    <tr>\n",
       "      <th>LAHE</th>\n",
       "      <td>Heywood's Lake</td>\n",
       "      <td>Open water</td>\n",
       "      <td>Periodically Inundated - Episodic</td>\n",
       "    </tr>\n",
       "    <tr>\n",
       "      <th>LLME</th>\n",
       "      <td>Little Lake Meran</td>\n",
       "      <td>Open water/aquatic macrophytes</td>\n",
       "      <td>Periodically Inundated - Episodic</td>\n",
       "    </tr>\n",
       "    <tr>\n",
       "      <th>ROLA</th>\n",
       "      <td>Round Lake</td>\n",
       "      <td>Open water</td>\n",
       "      <td>Permanent</td>\n",
       "    </tr>\n",
       "    <tr>\n",
       "      <th>LAME</th>\n",
       "      <td>Lake Meran</td>\n",
       "      <td>Open water</td>\n",
       "      <td>Permanent</td>\n",
       "    </tr>\n",
       "    <tr>\n",
       "      <th>LAMU_S</th>\n",
       "      <td>Lake Murphy South</td>\n",
       "      <td>Open water/aquatic macrophytes</td>\n",
       "      <td>Periodically Inundated - Episodic</td>\n",
       "    </tr>\n",
       "    <tr>\n",
       "      <th>LAMU_N</th>\n",
       "      <td>Lake Murphy North</td>\n",
       "      <td>Open water/aquatic macrophytes</td>\n",
       "      <td>Periodically Inundated - Episodic</td>\n",
       "    </tr>\n",
       "    <tr>\n",
       "      <th>LAEL</th>\n",
       "      <td>Lake Elizabeth</td>\n",
       "      <td>Open water</td>\n",
       "      <td>Permanent</td>\n",
       "    </tr>\n",
       "    <tr>\n",
       "      <th>LACU</th>\n",
       "      <td>Lake Cullen</td>\n",
       "      <td>Open water</td>\n",
       "      <td>Permanent</td>\n",
       "    </tr>\n",
       "    <tr>\n",
       "      <th>WILO_BS</th>\n",
       "      <td>Wirra-Lo Brolga Swamp</td>\n",
       "      <td>Open water/aquatic macrophytes</td>\n",
       "      <td>Periodically Inundated - Seasonal</td>\n",
       "    </tr>\n",
       "    <tr>\n",
       "      <th>WILO_LS</th>\n",
       "      <td>Wirra-Lo Lignum Swamp</td>\n",
       "      <td>Shrubland</td>\n",
       "      <td>Periodically Inundated - Seasonal</td>\n",
       "    </tr>\n",
       "    <tr>\n",
       "      <th>MASW</th>\n",
       "      <td>McDonalds Swamp</td>\n",
       "      <td>Emergent graminoids</td>\n",
       "      <td>Periodically Inundated - Episodic</td>\n",
       "    </tr>\n",
       "    <tr>\n",
       "      <th>HISW_E</th>\n",
       "      <td>Hird Swamp East</td>\n",
       "      <td>Shrubland</td>\n",
       "      <td>Periodically Inundated - Episodic</td>\n",
       "    </tr>\n",
       "    <tr>\n",
       "      <th>HISW_W</th>\n",
       "      <td>Hird Swamp West</td>\n",
       "      <td>Open water</td>\n",
       "      <td>Periodically Inundated - Episodic</td>\n",
       "    </tr>\n",
       "    <tr>\n",
       "      <th>RILA_E</th>\n",
       "      <td>Richardson's Lagoon East</td>\n",
       "      <td>Open water</td>\n",
       "      <td>Periodically Inundated - Seasonal Episodic</td>\n",
       "    </tr>\n",
       "    <tr>\n",
       "      <th>RILA_W</th>\n",
       "      <td>Richardson's Lagoon West</td>\n",
       "      <td>Open water</td>\n",
       "      <td>Periodically Inundated - Episodic</td>\n",
       "    </tr>\n",
       "    <tr>\n",
       "      <th>LAYO</th>\n",
       "      <td>Lake Yando</td>\n",
       "      <td>Woodland</td>\n",
       "      <td>Periodically Inundated - Episodic</td>\n",
       "    </tr>\n",
       "    <tr>\n",
       "      <th>BLSW</th>\n",
       "      <td>Black Swamp</td>\n",
       "      <td>Open water/woodland fringe</td>\n",
       "      <td>Periodically Inundated - Seasonal/Episodic</td>\n",
       "    </tr>\n",
       "    <tr>\n",
       "      <th>RESW</th>\n",
       "      <td>Reedy Swamp</td>\n",
       "      <td>Open water/woodland fringe</td>\n",
       "      <td>Periodically Inundated - Episodic</td>\n",
       "    </tr>\n",
       "    <tr>\n",
       "      <th>GASW</th>\n",
       "      <td>Gaynor Swamp</td>\n",
       "      <td>Shrubland/emergent graminoids</td>\n",
       "      <td>Periodically Inundated - Episodic</td>\n",
       "    </tr>\n",
       "    <tr>\n",
       "      <th>NECC</th>\n",
       "      <td>Neds Cortner Central</td>\n",
       "      <td>Shrubland/open water</td>\n",
       "      <td>Periodically Inundated - Episodic</td>\n",
       "    </tr>\n",
       "    <tr>\n",
       "      <th>MOSW</th>\n",
       "      <td>Moodie Swamp</td>\n",
       "      <td>Emergent graminoids/aquatic macrophytes</td>\n",
       "      <td>Periodically Inundated - Episodic</td>\n",
       "    </tr>\n",
       "  </tbody>\n",
       "</table>\n",
       "</div>"
      ],
      "text/plain": [
       "                             Name                 Dominant vegetation type  \\\n",
       "Code                                                                         \n",
       "VINI          Vinifera Floodplain                                 Woodland   \n",
       "CARA                    Carapugna                                 Woodland   \n",
       "LAHE               Heywood's Lake                               Open water   \n",
       "LLME            Little Lake Meran           Open water/aquatic macrophytes   \n",
       "ROLA                   Round Lake                               Open water   \n",
       "LAME                   Lake Meran                               Open water   \n",
       "LAMU_S          Lake Murphy South           Open water/aquatic macrophytes   \n",
       "LAMU_N          Lake Murphy North           Open water/aquatic macrophytes   \n",
       "LAEL               Lake Elizabeth                               Open water   \n",
       "LACU                  Lake Cullen                               Open water   \n",
       "WILO_BS     Wirra-Lo Brolga Swamp           Open water/aquatic macrophytes   \n",
       "WILO_LS     Wirra-Lo Lignum Swamp                                Shrubland   \n",
       "MASW              McDonalds Swamp                      Emergent graminoids   \n",
       "HISW_E            Hird Swamp East                                Shrubland   \n",
       "HISW_W            Hird Swamp West                               Open water   \n",
       "RILA_E   Richardson's Lagoon East                               Open water   \n",
       "RILA_W   Richardson's Lagoon West                               Open water   \n",
       "LAYO                   Lake Yando                                 Woodland   \n",
       "BLSW                  Black Swamp               Open water/woodland fringe   \n",
       "RESW                  Reedy Swamp               Open water/woodland fringe   \n",
       "GASW                 Gaynor Swamp            Shrubland/emergent graminoids   \n",
       "NECC         Neds Cortner Central                     Shrubland/open water   \n",
       "MOSW                 Moodie Swamp  Emergent graminoids/aquatic macrophytes   \n",
       "\n",
       "                                       Water regime  \n",
       "Code                                                 \n",
       "VINI              Periodically Inundated - Episodic  \n",
       "CARA              Periodically Inundated - Seasonal  \n",
       "LAHE              Periodically Inundated - Episodic  \n",
       "LLME              Periodically Inundated - Episodic  \n",
       "ROLA                                      Permanent  \n",
       "LAME                                      Permanent  \n",
       "LAMU_S            Periodically Inundated - Episodic  \n",
       "LAMU_N            Periodically Inundated - Episodic  \n",
       "LAEL                                      Permanent  \n",
       "LACU                                      Permanent  \n",
       "WILO_BS           Periodically Inundated - Seasonal  \n",
       "WILO_LS           Periodically Inundated - Seasonal  \n",
       "MASW              Periodically Inundated - Episodic  \n",
       "HISW_E            Periodically Inundated - Episodic  \n",
       "HISW_W            Periodically Inundated - Episodic  \n",
       "RILA_E   Periodically Inundated - Seasonal Episodic  \n",
       "RILA_W            Periodically Inundated - Episodic  \n",
       "LAYO              Periodically Inundated - Episodic  \n",
       "BLSW     Periodically Inundated - Seasonal/Episodic  \n",
       "RESW              Periodically Inundated - Episodic  \n",
       "GASW              Periodically Inundated - Episodic  \n",
       "NECC              Periodically Inundated - Episodic  \n",
       "MOSW              Periodically Inundated - Episodic  "
      ]
     },
     "execution_count": 15,
     "metadata": {},
     "output_type": "execute_result"
    }
   ],
   "source": [
    "sites"
   ]
  },
  {
   "cell_type": "markdown",
   "metadata": {},
   "source": [
    "Assign the number of pixels to each wetland for later noise level calculations."
   ]
  },
  {
   "cell_type": "code",
   "execution_count": 16,
   "metadata": {},
   "outputs": [],
   "source": [
    "wit['n_px'] = wit['area_ha_bird'] * 16"
   ]
  },
  {
   "cell_type": "markdown",
   "metadata": {},
   "source": [
    "Set up the survey dates and group observations."
   ]
  },
  {
   "cell_type": "code",
   "execution_count": 17,
   "metadata": {},
   "outputs": [],
   "source": [
    "wmap['survey_date'] = pd.to_datetime(wmap['survey_date'])\n",
    "wmap = wmap.sort_values(['birdsitecode', 'survey_date'])\n",
    "wmap_grouped = dict(iter(wmap.groupby('birdsitecode')))"
   ]
  },
  {
   "cell_type": "markdown",
   "metadata": {},
   "source": [
    "## Combine datasets\n",
    "\n",
    "Linearly interpolate WIT to match the dates of WetMAP observations. Then combine WIT and WetMAP."
   ]
  },
  {
   "cell_type": "code",
   "execution_count": 18,
   "metadata": {},
   "outputs": [],
   "source": [
    "merged_dfs = []\n",
    "for site, wit_ in wit.groupby('birdsitecode'):\n",
    "    wmap_ = wmap_grouped[site]\n",
    "    # WIT needs to be interpolated to match the dates of WetMAP observations.\n",
    "    wmap_ = wmap_.set_index('survey_date')\n",
    "    wit_ = wit_.set_index('ga_date')\n",
    "    joint_index = wmap_.index.normalize().union(wit_.index.normalize())\n",
    "    wit_ = wit_.reindex(joint_index).interpolate('time')\n",
    "    # Then we can merge the datasets.\n",
    "    merged = wmap_.join(wit_, how='left', rsuffix='_wit')\n",
    "    del merged['birdsitecode_wit']\n",
    "    merged_dfs.append(merged.reset_index().set_index(['birdsitecode', 'survey_date']))\n",
    "merged_wit_wmap = pd.concat(merged_dfs)"
   ]
  },
  {
   "cell_type": "code",
   "execution_count": 19,
   "metadata": {},
   "outputs": [],
   "source": [
    "merged_wit_wmap['wofs_ha'] = merged_wit_wmap['water'] / 100 * merged_wit_wmap['area_ha_bird']\n",
    "merged_wit_wmap['tcw_ha'] = merged_wit_wmap['wet'] / 100 * merged_wit_wmap['area_ha_bird']"
   ]
  },
  {
   "cell_type": "code",
   "execution_count": 20,
   "metadata": {},
   "outputs": [],
   "source": [
    "merged_wit_wmap = merged_wit_wmap.merge(sites, left_on='birdsitecode', right_index=True)"
   ]
  },
  {
   "cell_type": "code",
   "execution_count": 21,
   "metadata": {},
   "outputs": [
    {
     "data": {
      "text/plain": [
       "23"
      ]
     },
     "execution_count": 21,
     "metadata": {},
     "output_type": "execute_result"
    }
   ],
   "source": [
    "len(sites)"
   ]
  },
  {
   "cell_type": "markdown",
   "metadata": {},
   "source": [
    "Drop sites with low-quality or low-count data."
   ]
  },
  {
   "cell_type": "code",
   "execution_count": 22,
   "metadata": {},
   "outputs": [],
   "source": [
    "sites.drop('MASW', inplace=True)\n",
    "sites.drop('WILO_BS', inplace=True)\n",
    "sites.drop('LAME', inplace=True)\n",
    "sites.drop('NECC', inplace=True)"
   ]
  },
  {
   "cell_type": "code",
   "execution_count": 23,
   "metadata": {},
   "outputs": [],
   "source": [
    "merged_wit_wmap.drop('MASW', inplace=True)\n",
    "merged_wit_wmap.drop('WILO_BS', inplace=True)\n",
    "merged_wit_wmap.drop('NECC', inplace=True)"
   ]
  },
  {
   "cell_type": "markdown",
   "metadata": {},
   "source": [
    "## Making plots\n",
    "\n",
    "This section makes all the plots."
   ]
  },
  {
   "cell_type": "markdown",
   "metadata": {},
   "source": [
    "### WIT water vs WetMap water"
   ]
  },
  {
   "cell_type": "code",
   "execution_count": 24,
   "metadata": {},
   "outputs": [],
   "source": [
    "veg_types = {j: i for i, j in enumerate(sorted(set(merged_wit_wmap['Dominant vegetation type'])))}"
   ]
  },
  {
   "cell_type": "code",
   "execution_count": 25,
   "metadata": {},
   "outputs": [],
   "source": [
    "cmap = np.array(palettable.cartocolors.qualitative.Safe_4.colors) / 255"
   ]
  },
  {
   "cell_type": "markdown",
   "metadata": {},
   "source": [
    "Colours:"
   ]
  },
  {
   "cell_type": "code",
   "execution_count": 26,
   "metadata": {},
   "outputs": [
    {
     "data": {
      "text/plain": [
       "(array([221., 204., 119.]), array([ 17., 119.,  51.]))"
      ]
     },
     "execution_count": 26,
     "metadata": {},
     "output_type": "execute_result"
    }
   ],
   "source": [
    "cmap[2] * 255, cmap[3] * 255"
   ]
  },
  {
   "cell_type": "code",
   "execution_count": 27,
   "metadata": {},
   "outputs": [],
   "source": [
    "veg_colours = {\n",
    "     'Aquatic macrophytes': 'greenyellow',\n",
    "     'Open water': 'dodgerblue',\n",
    "     'Shrubland': cmap[2],\n",
    "     'Woodland': cmap[3],\n",
    "     'Emergent graminoids': 'yellowgreen',\n",
    "}\n",
    "\n",
    "veg_labels = {\n",
    "     'Emergent graminoids': 'Emergent graminoids',\n",
    "     'Emergent graminoids/aquatic macrophytes': 'Aquatic macrophytes',\n",
    "     'Open water': 'Open water',\n",
    "     'Open water/aquatic macrophytes': 'Aquatic macrophytes',\n",
    "     'Open water/woodland fringe': 'Open water',\n",
    "     'Shrubland': 'Shrubland',\n",
    "     'Shrubland/emergent graminoids': 'Shrubland',\n",
    "     'Shrubland/open water': 'Shrubland',\n",
    "     'Woodland': 'Woodland',\n",
    "}"
   ]
  },
  {
   "cell_type": "code",
   "execution_count": 28,
   "metadata": {},
   "outputs": [],
   "source": [
    "merged_wit_wmap['n_px'] = merged_wit_wmap['area_ha_bird_wit'] * 16"
   ]
  },
  {
   "cell_type": "code",
   "execution_count": 29,
   "metadata": {},
   "outputs": [
    {
     "name": "stdout",
     "output_type": "stream",
     "text": [
      "[ 0.87555215 20.18585854]\n",
      "water SpearmanrResult(correlation=0.6968176541338342, pvalue=8.344369625951853e-22)\n",
      "water 0.7072450878620534\n",
      "[0.93522594 9.48772832]\n",
      "tot_water SpearmanrResult(correlation=0.7655313058415899, pvalue=2.1002889740994573e-28)\n",
      "tot_water 0.7940492759463309\n"
     ]
    },
    {
     "data": {
      "image/png": "[encoded data removed]",
      "text/plain": [
       "<Figure size 720x360 with 2 Axes>"
      ]
     },
     "metadata": {
      "needs_background": "light"
     },
     "output_type": "display_data"
    }
   ],
   "source": [
    "fig, axs = plt.subplots(1, 2, figsize=(10, 5))\n",
    "handles = {}\n",
    "style = dict(\n",
    "    markersize=7,\n",
    "    marker='o',\n",
    "    linestyle='None',\n",
    "    linewidth=1,\n",
    "    capsize=2,\n",
    "    markeredgecolor='k', \n",
    "    markeredgewidth=0.5,\n",
    ")\n",
    "wetmap_err = 5\n",
    "for veg_type, merged in merged_wit_wmap.groupby('Dominant vegetation type'):\n",
    "    err = np.sqrt(merged['tot_water']) / merged['n_px'] * 100\n",
    "    handle = axs[1].errorbar(merged.tot_water, merged.water_percent, label=veg_labels[veg_type], c=veg_colours[veg_labels[veg_type]],\n",
    "                             **style)\n",
    "#                              yerr=wetmap_err, xerr=err, **style)\n",
    "    \n",
    "#     for x, y, ex in zip(merged.tot_water, merged.water_percent, err):\n",
    "#         el = mpat.Ellipse((x, y), ex * 2, wetmap_err * 2, alpha=0.2, facecolor=veg_colours[veg_labels[veg_type]])\n",
    "#         axs[1].add_artist(el)\n",
    "\n",
    "    err = np.sqrt(merged['water']) / merged['n_px'] * 100\n",
    "    handle = axs[0].errorbar(merged.water, merged.water_percent, label=veg_labels[veg_type], c=veg_colours[veg_labels[veg_type]],\n",
    "                             **style)\n",
    "#                              yerr=wetmap_err, xerr=err, **style)\n",
    "    handles[veg_labels[veg_type]] = handle\n",
    "\n",
    "#     for x, y, ex in zip(merged.water, merged.water_percent, err):\n",
    "#         el = mpat.Ellipse((x, y), ex * 2, wetmap_err * 2, alpha=0.2, facecolor=veg_colours[veg_labels[veg_type]])\n",
    "#         axs[0].add_artist(el)\n",
    "\n",
    "    \n",
    "# Plot a trend line using ODR\n",
    "def fit_function(params, x):\n",
    "    return params[0] * x + params[1]\n",
    "\n",
    "for ax, y in zip(axs, ['water', 'tot_water']):\n",
    "    # Least squares regression\n",
    "#     lr = scipy.stats.linregress(merged_wit_wmap.water_percent, merged_wit_wmap[y])\n",
    "    # y = mx + b -> x = (y - b) / m\n",
    "#     trend = (np.linspace(0, 100) - lr.intercept) / lr.slope\n",
    "    lr = lr_ = scipy.odr.Model(fit_function)\n",
    "    wit_err = 1 / (np.sqrt(np.where(merged_wit_wmap[y], merged_wit_wmap[y], 1)) / merged_wit_wmap['n_px'] * 100) ** 2\n",
    "    dat = scipy.odr.Data(merged_wit_wmap[y], merged_wit_wmap.water_percent, wd=wit_err, we=1 / wetmap_err ** 2)\n",
    "    odr = scipy.odr.ODR(dat, lr, beta0=[1, 0])\n",
    "    out = odr.run()\n",
    "    trend = fit_function(out.beta, np.linspace(0, 100))\n",
    "    print(out.beta)\n",
    "    \n",
    "    mvals = out.beta[0] + np.linspace(-out.sd_beta[0], out.sd_beta[0], 21)\n",
    "    bvals = out.beta[1] + np.linspace(-out.sd_beta[1], out.sd_beta[1], 21)\n",
    "    mgrid, bgrid = np.meshgrid(mvals, bvals)\n",
    "    fvals = []\n",
    "    for m, b in zip(mgrid.ravel(), bgrid.ravel()):\n",
    "        fvals.append(fit_function([m, b], np.linspace(0, 100)))\n",
    "    trend_low = np.min(fvals, axis=0)\n",
    "    trend_high = np.max(fvals, axis=0)\n",
    "    ax.plot(np.linspace(0, 100), trend, c='k', linestyle='-', linewidth=2)\n",
    "#     ax.fill_between(np.linspace(0, 100), trend_low, trend_high, fc='k', alpha=0.1)\n",
    "    lr = scipy.stats.linregress(merged_wit_wmap[y], merged_wit_wmap.water_percent)\n",
    "    print(y, scipy.stats.spearmanr(merged_wit_wmap[y], merged_wit_wmap.water_percent))\n",
    "    print(y, lr.rvalue)\n",
    "    \n",
    "#     ax.plot([0, 100], [0, 100], linestyle='--', color='grey')\n",
    "for ax in axs:\n",
    "    # Shrink axis height by 10% on the bottom\n",
    "    box = ax.get_position()\n",
    "    ax.set_position([box.x0, box.y0 + box.height * 0.10,\n",
    "                     box.width, box.height * 0.90])\n",
    "    # Plot a 1-1 line\n",
    "    ax.plot([0, 100], [0, 100], linestyle='--', color='grey')\n",
    "    # Limit the axes\n",
    "    ax.set_xlim(-5, 105)\n",
    "    ax.set_ylim(-5, 105)\n",
    "axs[0].set_ylabel('WetMAP water coverage (percent)')\n",
    "axs[1].set_xlabel('WIT open water + wet (percent)')\n",
    "axs[0].set_xlabel('WIT open water (percent)')\n",
    "axs[0].text(0, 1.01, 'a)', transform=axs[0].transAxes, va='bottom', fontdict={'size': 12})\n",
    "axs[1].text(0, 1.01, 'b)', transform=axs[1].transAxes, va='bottom', fontdict={'size': 12})\n",
    "# Put a legend below the figure\n",
    "\n",
    "leg = fig.legend(map(handles.get, sorted(handles)), sorted(handles),\n",
    "                 loc='lower center', ncol=4)\n",
    "fig.savefig('wit_wetmap.png')\n",
    "fig.savefig('wit_wetmap.pdf')"
   ]
  },
  {
   "cell_type": "code",
   "execution_count": 30,
   "metadata": {},
   "outputs": [
    {
     "name": "stdout",
     "output_type": "stream",
     "text": [
      "n points 141\n"
     ]
    },
    {
     "data": {
      "image/png": "[encoded data removed]",
      "text/plain": [
       "<Figure size 720x360 with 2 Axes>"
      ]
     },
     "metadata": {
      "needs_background": "light"
     },
     "output_type": "display_data"
    }
   ],
   "source": [
    "fig, axs = plt.subplots(1, 2, figsize=(10, 5))\n",
    "n_tot = 0\n",
    "for veg_type, merged in merged_wit_wmap.groupby('Dominant vegetation type'):\n",
    "    xs = merged.tot_water\n",
    "    ys = merged.water_percent\n",
    "    xs = np.argsort(xs)\n",
    "    ys = np.argsort(ys)\n",
    "    handle = axs[1].errorbar(xs, ys, label=veg_labels[veg_type], c=veg_colours[veg_labels[veg_type]],\n",
    "                             **style)\n",
    "    xs = merged.water\n",
    "    xs = np.argsort(xs)\n",
    "    handle = axs[0].errorbar(xs, ys, label=veg_labels[veg_type], c=veg_colours[veg_labels[veg_type]],\n",
    "                             **style)\n",
    "    handles[veg_labels[veg_type]] = handle\n",
    "    n_tot += len(xs)\n",
    "print('n points', n_tot)\n",
    "\n",
    "for ax in axs:\n",
    "    # Shrink axis height by 10% on the bottom\n",
    "    box = ax.get_position()\n",
    "    ax.set_position([box.x0, box.y0 + box.height * 0.10,\n",
    "                     box.width, box.height * 0.90])\n",
    "    # Plot a 1-1 line\n",
    "    ax.plot([0, 50], [0, 50], linestyle='--', color='grey')\n",
    "    # Limit the axes\n",
    "    ax.set_xlim(-5, 55)\n",
    "    ax.set_ylim(-5, 55)\n",
    "axs[0].set_ylabel('WetMAP water coverage (rank)')\n",
    "axs[1].set_xlabel('WIT open water + wet (rank)')\n",
    "axs[0].set_xlabel('WIT open water (rank)')\n",
    "axs[0].text(0, 1.01, 'a)', transform=axs[0].transAxes, va='bottom', fontdict={'size': 12})\n",
    "axs[1].text(0, 1.01, 'b)', transform=axs[1].transAxes, va='bottom', fontdict={'size': 12})\n",
    "# Put a legend below the figure\n",
    "\n",
    "leg = fig.legend(map(handles.get, sorted(handles)), sorted(handles),\n",
    "                 loc='lower center', ncol=4)"
   ]
  },
  {
   "cell_type": "markdown",
   "metadata": {},
   "source": [
    "## Hydrology plots"
   ]
  },
  {
   "cell_type": "code",
   "execution_count": 31,
   "metadata": {},
   "outputs": [],
   "source": [
    "agg_veg_type = sites['Dominant vegetation type'].apply(veg_labels.get)"
   ]
  },
  {
   "cell_type": "code",
   "execution_count": 32,
   "metadata": {},
   "outputs": [
    {
     "data": {
      "text/plain": [
       "19"
      ]
     },
     "execution_count": 32,
     "metadata": {},
     "output_type": "execute_result"
    }
   ],
   "source": [
    "len(sites)"
   ]
  },
  {
   "cell_type": "code",
   "execution_count": 33,
   "metadata": {},
   "outputs": [
    {
     "data": {
      "text/plain": [
       "Name\n",
       "Moodie Swamp                Aquatic macrophytes\n",
       "Little Lake Meran           Aquatic macrophytes\n",
       "Lake Murphy South           Aquatic macrophytes\n",
       "Lake Murphy North           Aquatic macrophytes\n",
       "Reedy Swamp                          Open water\n",
       "Heywood's Lake                       Open water\n",
       "Round Lake                           Open water\n",
       "Lake Elizabeth                       Open water\n",
       "Lake Cullen                          Open water\n",
       "Black Swamp                          Open water\n",
       "Richardson's Lagoon West             Open water\n",
       "Hird Swamp West                      Open water\n",
       "Richardson's Lagoon East             Open water\n",
       "Wirra-Lo Lignum Swamp                 Shrubland\n",
       "Gaynor Swamp                          Shrubland\n",
       "Hird Swamp East                       Shrubland\n",
       "Lake Yando                             Woodland\n",
       "Carapugna                              Woodland\n",
       "Vinifera Floodplain                    Woodland\n",
       "Name: Dominant vegetation type, dtype: object"
      ]
     },
     "execution_count": 33,
     "metadata": {},
     "output_type": "execute_result"
    }
   ],
   "source": [
    "sites.set_index('Name')['Dominant vegetation type'].apply(veg_labels.get).sort_values()"
   ]
  },
  {
   "cell_type": "code",
   "execution_count": 34,
   "metadata": {},
   "outputs": [
    {
     "name": "stderr",
     "output_type": "stream",
     "text": [
      "/env/lib/python3.6/site-packages/ipykernel_launcher.py:14: FutureWarning: Support for multi-dimensional indexing (e.g. `obj[:, None]`) is deprecated and will be removed in a future version.  Convert to a numpy array before indexing instead.\n",
      "  \n"
     ]
    },
    {
     "data": {
      "image/png": "[encoded data removed]",
      "text/plain": [
       "<Figure size 432x288 with 1 Axes>"
      ]
     },
     "metadata": {
      "needs_background": "light"
     },
     "output_type": "display_data"
    }
   ],
   "source": [
    "for site in agg_veg_type.sort_values().index:\n",
    "    if site != 'VINI':\n",
    "        continue\n",
    "    fig, ax = plt.subplots()\n",
    "    site_ts = wit[wit.birdsitecode == site]\n",
    "    site_birds = wmap[wmap.birdsitecode == site]\n",
    "#     err_water = np.sqrt(site_ts['water']) / site_ts['n_px'] * 100\n",
    "    xs = pd.to_datetime(site_ts.ga_date)\n",
    "#     plt.plot(xs, site_ts.water * site_ts.area_ha_bird / 100, label='Open water', c='teal')\n",
    "#     plt.fill_between(xs, np.maximum(site_ts.water - err_water, 0), site_ts.water + err_water, fc='teal', alpha=0.5)\n",
    "#     err_water = np.sqrt(site_ts['tot_water']) / site_ts['n_px'] * 100\n",
    "    plt.plot(xs, (site_ts.water + site_ts.wet) * site_ts.area_ha_bird / 100, label='WIT total water', c='darkblue')\n",
    "#     plt.fill_between(xs, np.maximum(site_ts.tot_water - err_water, 0), site_ts.tot_water + err_water, fc='darkblue', alpha=0.5)\n",
    "    yerr = np.array([[v - max(v - wetmap_err, 0), wetmap_err] for v in site_birds.water_percent]) / 100 * site_birds.area_ha_bird[:, None]\n",
    "    plt.errorbar(pd.to_datetime(site_birds.survey_date), site_birds.water_ha, c='red', linestyle='None', marker='o',\n",
    "                 label='WetMAP')\n",
    "#                  yerr=yerr.T)\n",
    "    plt.ylim(-1)\n",
    "    plt.ylabel('Wet area (ha)')\n",
    "    plt.xlabel('Date')\n",
    "    plt.legend(loc='lower center', ncol=2, bbox_to_anchor=(0.5, -0.4))\n",
    "    plt.xticks(rotation=45)\n",
    "#     plt.title(f'{site} ({agg_veg_type.loc[site]})')\n",
    "    plt.show()"
   ]
  },
  {
   "cell_type": "markdown",
   "metadata": {},
   "source": [
    "***\n",
    "\n",
    "## Additional information\n",
    "\n",
    "**License:** The code in this notebook is licensed under the [Apache License, Version 2.0](https://www.apache.org/licenses/LICENSE-2.0). \n",
    "Digital Earth Australia data is licensed under the [Creative Commons by Attribution 4.0](https://creativecommons.org/licenses/by/4.0/) license.\n",
    "\n",
    "**Contact:** If you need assistance, please post a question on the [Open Data Cube Slack channel](http://slack.opendatacube.org/) or on the [GIS Stack Exchange](https://gis.stackexchange.com/questions/ask?tags=open-data-cube) using the `open-data-cube` tag (you can view previously asked questions [here](https://gis.stackexchange.com/questions/tagged/open-data-cube)).\n",
    "If you would like to report an issue with this notebook, you can file one on [Github](https://github.com/GeoscienceAustralia/dea-notebooks).\n",
    "\n",
    "**Last modified:** June 2021\n",
    "\n",
    "**Compatible datacube version:** "
   ]
  },
  {
   "cell_type": "code",
   "execution_count": 35,
   "metadata": {},
   "outputs": [
    {
     "name": "stdout",
     "output_type": "stream",
     "text": [
      "1.8.4.dev81+g80d466a2\n"
     ]
    }
   ],
   "source": [
    "print(datacube.__version__)"
   ]
  }
 ],
 "metadata": {
  "kernelspec": {
   "display_name": "Python 3",
   "language": "python",
   "name": "python3"
  },
  "language_info": {
   "codemirror_mode": {
    "name": "ipython",
    "version": 3
   },
   "file_extension": ".py",
   "mimetype": "text/x-python",
   "name": "python",
   "nbconvert_exporter": "python",
   "pygments_lexer": "ipython3",
   "version": "3.6.9"
  },
  "widgets": {
   "application/vnd.jupyter.widget-state+json": {
    "state": {},
    "version_major": 2,
    "version_minor": 0
   }
  }
 },
 "nbformat": 4,
 "nbformat_minor": 4
}
