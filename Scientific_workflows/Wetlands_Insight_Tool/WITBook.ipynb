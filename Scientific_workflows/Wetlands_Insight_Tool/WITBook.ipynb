{
 "cells": [
  {
   "cell_type": "markdown",
   "id": "3ac7f800-80a3-4791-a50c-922a67334412",
   "metadata": {},
   "source": [
    "#FIXME:\n",
    "* path to dea logo\n",
    "* location of supp data hird.shp and the workflow image\n",
    "* check requirements for NCI compatibility\n",
    "* check special requirements and prerequisites are filled out in the next cell\n",
    "* test funky permissions error\n",
    "* replace/ update flow chart"
   ]
  },
  {
   "cell_type": "markdown",
   "id": "cde63f34-bee7-4194-a0a8-2b9f99af281c",
   "metadata": {},
   "source": [
    "# Introduction to the DEA Wetlands Insight Tool <img align=\"right\" src=\"../../Supplementary_data/dea_logo.jpg\">\n",
    "\n",
    "* [**Sign up to the DEA Sandbox**](https://docs.dea.ga.gov.au/setup/sandbox.html) to run this notebook interactively from a browser\n",
    "* **Compatibility:** Notebook currently compatible with `DEA Sandbox` environment only\n",
    "* **Products used:** \n",
    "[ga_ls5t_ard_3](https://explorer.sandbox.dea.ga.gov.au/ga_ls5t_ard_3),\n",
    "[ga_ls7e_ard_3](https://explorer.sandbox.dea.ga.gov.au/ga_ls7e_ard_3),\n",
    "[ga_ls8c_ard_3](https://explorer.sandbox.dea.ga.gov.au/ga_ls8c_ard_3),\n",
    "[ga_ls_wo_3](https://explorer.sandbox.dea.ga.gov.au/products/ga_ls_wo_3),\n",
    "[ga_ls_fc_3](https://explorer.sandbox.dea.ga.gov.au/products/ga_ls_fc_3),\n",
    "\n",
    "\n",
    "* **Special requirements:** An _optional_ description of any special requirements, e.g. If running on the [NCI](https://nci.org.au/), ensure that `module load otps` is run prior to launching this notebook\n",
    "* **Prerequisites:** An _optional_ list of any notebooks that should be run or content that should be understood prior to launching this notebook\n"
   ]
  },
  {
   "cell_type": "markdown",
   "id": "515952ed-a6a9-4cae-b7c7-7131846ef710",
   "metadata": {},
   "source": [
    "This notebook demonstrates the method for reproducing results from the Wetlands Insight Tool."
   ]
  },
  {
   "cell_type": "markdown",
   "id": "c4101d12-15a0-4adf-a111-08903856f756",
   "metadata": {},
   "source": [
    "<div id='svgWrapper'>\n",
    "    <img src='infra/WIT_processing.svg'/>\n",
    "</div>"
   ]
  },
  {
   "cell_type": "markdown",
   "id": "3b9d2928-74cb-4c00-9ccd-c8985ce3bde9",
   "metadata": {},
   "source": [
    "## Background"
   ]
  },
  {
   "cell_type": "markdown",
   "id": "5301a89a-f23b-4aa1-8bb5-c54f5fc45c47",
   "metadata": {},
   "source": [
    "Wetlands provide a wide range of ecosystem services including improving water quality, carbon sequestration, as well as providing habitat for fish, amphibians, reptiles and birds.  Managing wetlands in Australia is challenging due to competing pressures for water availability and highly variable climatic settings.  The DEA Wetlands Insight Tool has been developed to provide catchment managers, environmental water holders, and wetlands scientists a consistent historical baseline of wetlands dynamics from 1987 onwards. \n",
    "\n",
    "The DEA Wetlands Insight Tool summarises how the amount of water, green vegetation, dry vegetation and bare soil varies over time within each wetland. It provides the user with the ability to compare how the wetland is behaving now with how it has behaved in the past.  This allows users to identify how changes in water availability have affected the wetland. It achieves this by presenting a combined view of Water Observations from Space, Tasseled Cap Wetness and Fractional Cover measurements from the Landsat series of satellites, summarised as a stacked line plot to show how that wetland has changed over time. \n",
    "\n",
    "Wetlands Insight Tool stacked line plot for a seasonally inundated wetland\n",
    "\n",
    "## Applications\n",
    "The product is designed to support QLD wetland managers, catchment managers and environmental waterholders in understanding whether or not wetlands are changing over time.  In instances where the wetlands are changing, the tool allows users to identify whether the changes are gradual, rapid, once-off or cyclical in nature.  For example the response of wetlands to the following drivers can be assessed:\n",
    "\n",
    "Changes in river flow volumes\n",
    "Changes in flood frequency\n",
    "Long term shifts in rainfall\n",
    "Wet-season/Dry-season shifts in water availability\n",
    "Invasive weeds\n",
    "Environmental watering events\n",
    "Care should be used when interpreting Wetlands Insight Tool (QLD) results as increases/decreases in particular cover types can be associated with different processes.  For example an increase in green cover could indicate canopy recovery of desirable wetland species or an increase in the amount of invasive weeds.\n",
    "\n",
    "## Related products\n",
    "DEA Fractional Cover (Landsat, DEPRECATED)\n",
    "DEA Wetness Percentiles (Landsat)\n",
    "DEA Water Observations (Landsat, DEPRECATED)"
   ]
  },
  {
   "cell_type": "markdown",
   "id": "39395e2c-bc76-4504-9143-1e7cf4e4b454",
   "metadata": {},
   "source": [
    "## Setup"
   ]
  },
  {
   "cell_type": "markdown",
   "id": "31e64b03-9240-4ef3-82b7-2f3852df009d",
   "metadata": {},
   "source": [
    "Import packages:"
   ]
  },
  {
   "cell_type": "code",
   "execution_count": 1,
   "id": "28fba421-1583-4e6c-84c2-1bd154533889",
   "metadata": {},
   "outputs": [],
   "source": [
    "import itertools\n",
    "\n",
    "import datacube\n",
    "import dea_tools.datahandling\n",
    "import dea_tools.bandindices\n",
    "from dea_tools.spatial import xr_rasterize\n",
    "import geopandas as gpd\n",
    "import matplotlib.pyplot as plt\n",
    "import numpy as np\n",
    "import xarray as xr\n",
    "import datetime\n",
    "import seaborn as sns\n",
    "import matplotlib.dates as mdates\n",
    "import pandas as pd"
   ]
  },
  {
   "cell_type": "markdown",
   "id": "c4492879-d302-4531-bff0-452132be9ec2",
   "metadata": {},
   "source": [
    "Connect to the datacube:"
   ]
  },
  {
   "cell_type": "code",
   "execution_count": 2,
   "id": "916a4440-b6e2-447b-81e3-50d199cd48f7",
   "metadata": {},
   "outputs": [],
   "source": [
    "dc = datacube.Datacube(app='witbook')"
   ]
  },
  {
   "cell_type": "markdown",
   "id": "1b68e01f-1d30-4e74-b9eb-6e1e531d9d9c",
   "metadata": {},
   "source": [
    "## Data loading"
   ]
  },
  {
   "cell_type": "markdown",
   "id": "9ddc07e9-5ca8-4885-833b-463720162a51",
   "metadata": {},
   "source": [
    "Load a shapefile with the polygon of interest:"
   ]
  },
  {
   "cell_type": "code",
   "execution_count": 3,
   "id": "f3e7c1db-7580-492e-935d-f0e660215164",
   "metadata": {},
   "outputs": [
    {
     "data": {
      "image/svg+xml": [
       "<svg xmlns=\"http://www.w3.org/2000/svg\" xmlns:xlink=\"http://www.w3.org/1999/xlink\" width=\"300\" height=\"300\" viewBox=\"1089371.2803667467 -3972048.6196333757 2122.4687955421396 4092.3167770886794\" preserveAspectRatio=\"xMinYMin meet\"><g transform=\"matrix(1,0,0,-1,0,-7940004.922489663)\"><path fill-rule=\"evenodd\" fill=\"#66cc99\" stroke=\"#555555\" stroke-width=\"27.282111847257863\" opacity=\"0.6\" d=\"M 1090599.724168323,-3968110.1047163606 L 1090900.9320229834,-3968337.2701842533 L 1090830.4133887487,-3968321.436239973 L 1091117.226937587,-3968543.3745370903 L 1091129.556547493,-3968620.1453495463 L 1091112.0189369598,-3968679.2758299974 L 1091238.917448304,-3968878.598910277 L 1091342.1818742484,-3969664.743454552 L 1091320.7537999535,-3970199.2057505017 L 1091235.7022914675,-3970538.65965196 L 1091233.2422425845,-3970548.4757472947 L 1091230.811291505,-3970558.174632316 L 1091146.329312126,-3970536.887344747 L 1090908.015540863,-3970708.9813822317 L 1091119.9070692877,-3970919.3748791586 L 1091091.6167777167,-3971034.3420862304 L 1091089.1995126784,-3971044.1694917367 L 1091086.8098064454,-3971053.8815489872 L 1091063.1209988648,-3971047.6042673625 L 1091033.2214625878,-3971131.626233405 L 1090906.0758770865,-3971303.8812576276 L 1090830.9218082605,-3971368.3891391666 L 1090738.1291267814,-3971306.023793601 L 1090704.6878897576,-3971337.763898293 L 1090818.4078712314,-3971537.6339240326 L 1090809.5593581193,-3971668.522312935 L 1090830.543955045,-3971684.971741548 L 1090959.344011961,-3971650.8372738045 L 1091062.701516835,-3971695.8469660287 L 1091020.7521080861,-3971870.8708248734 L 1090930.904795749,-3971897.0523453355 L 1090930.4942681962,-3971893.492861162 L 1090930.0728100238,-3971888.560830645 L 1090929.8821964748,-3971885.6364728124 L 1090929.72131845,-3971882.710257643 L 1090929.5825503613,-3971866.764344074 L 1090929.6336058648,-3971850.8169508763 L 1090929.8204993801,-3971845.3759920914 L 1090930.0493357452,-3971839.937345808 L 1090930.4325401094,-3971831.9209800404 L 1090930.856990581,-3971823.908532119 L 1090930.9137894637,-3971822.8890602835 L 1090930.972924757,-3971821.8698104396 L 1090931.7175794868,-3971809.0859980825 L 1090932.4655526103,-3971796.3016049876 L 1090932.9366271922,-3971788.0437181536 L 1090933.3861497713,-3971779.782666661 L 1090933.6452055401,-3971774.7101367884 L 1090933.8809881348,-3971769.637290149 L 1090934.1628013214,-3971762.657330492 L 1090934.3869998432,-3971755.676800574 L 1090934.4984841428,-3971750.6868000864 L 1090934.5526444144,-3971745.6960345535 L 1090934.5274769866,-3971739.8854818325 L 1090934.3948528208,-3971734.0778736873 L 1090934.2151065313,-3971730.1650104397 L 1090933.925162311,-3971726.258176639 L 1090933.445609551,-3971722.0241463026 L 1090932.7611210968,-3971717.8179158494 L 1090932.1711484217,-3971715.24683669 L 1090931.379645238,-3971712.7297483985 L 1090930.2930228198,-3971710.225758379 L 1090928.8924867334,-3971707.884938465 L 1090927.5968670733,-3971706.323634345 L 1090926.0492749405,-3971705.0122211673 L 1090924.2830877542,-3971703.988768994 L 1090922.3632201343,-3971703.295348158 L 1090919.7052525259,-3971702.784329012 L 1090917.0030019425,-3971702.634363743 L 1090914.3325763966,-3971702.7783165267 L 1090911.6841041741,-3971703.145452725 L 1090907.4710087904,-3971704.024528432 L 1090903.3093152957,-3971705.1203324464 L 1090899.9192922867,-3971706.157563915 L 1090896.5590663354,-3971707.2858210406 L 1090890.4870631131,-3971709.463692443 L 1090884.4469068488,-3971711.728214782 L 1090878.8453587613,-3971713.8923707255 L 1090873.2542109932,-3971716.0826038453 L 1090867.4096181872,-3971718.3731865436 L 1090861.5538151644,-3971720.6367280353 L 1090854.2870363516,-3971723.3803228717 L 1090846.9897917407,-3971726.046659063 L 1090841.5992400944,-3971727.939986084 L 1090836.1800004311,-3971729.753545778 L 1090828.9875492516,-3971732.008951992 L 1090821.744991283,-3971734.0922459145 L 1090815.8308310648,-3971735.6284383554 L 1090809.874213525,-3971736.9883383582 L 1090803.4255249945,-3971738.2488614013 L 1090796.9358602853,-3971739.286962657 L 1090790.549320557,-3971740.083330984 L 1090784.138611517,-3971740.6559755956 L 1090777.9601419417,-3971740.989788982 L 1090771.7749334376,-3971741.1063289754 L 1090766.021475372,-3971741.0056689824 L 1090760.2756392683,-3971740.6883192025 L 1090754.6773117858,-3971740.15642072 L 1090749.1042682077,-3971739.3965769038 L 1090744.2985401428,-3971738.5227708123 L 1090739.5390392924,-3971737.423900441 L 1090734.8605039234,-3971736.0855383347 L 1090730.2651068722,-3971734.4848112212 L 1090726.6665284943,-3971732.9685336123 L 1090723.1824040727,-3971731.202899977 L 1090720.024009284,-3971729.2861413746 L 1090717.030624179,-3971727.1175822928 L 1090714.3601627136,-3971724.8150245263 L 1090711.8953054727,-3971722.29340003 L 1090709.9027390787,-3971719.9066235772 L 1090708.0809696636,-3971717.3865582477 L 1090706.002879929,-3971714.0942274104 L 1090704.1102154874,-3971710.689286104 L 1090702.8702708464,-3971708.216247145 L 1090701.7033699495,-3971705.705437931 L 1090699.66020224,-3971701.0280794273 L 1090697.6919410208,-3971696.318144893 L 1090695.0526668702,-3971689.8905315846 L 1090692.3890768322,-3971683.473541644 L 1090691.5262403383,-3971681.619899188 L 1090684.953357464,-3971667.7218650156 L 1090678.2372648797,-3971653.8927335255 L 1090634.9342253166,-3971643.809422488 L 1090602.8442870365,-3971636.337251981 L 1090527.7808587453,-3971476.839090324 L 1090531.536289469,-3971446.8893388305 L 1090535.2908448144,-3971416.940261858 L 1090492.8233606392,-3971412.839532644 L 1090220.0324383157,-3971054.2354051312 L 1089998.7924639632,-3970763.3930190154 L 1089654.2637389058,-3970142.8074298548 L 1089672.9478193193,-3969954.8948019263 L 1089673.9624933081,-3969944.6969193574 L 1089684.4692022263,-3969839.0483152065 L 1089616.466597886,-3969805.8379890905 L 1089533.8392964005,-3969530.229276433 L 1089533.6263060453,-3969525.814170795 L 1089522.8476547871,-3969302.8606511317 L 1089627.376229091,-3968809.197513795 L 1089941.2706096377,-3968840.4436382074 L 1089944.507680442,-3968830.6552134315 L 1089947.7456662133,-3968820.8686574684 L 1089806.1691498905,-3968806.776643564 L 1089889.352758317,-3968512.1887825155 L 1090083.8745283072,-3968428.654931391 L 1090112.4341029688,-3968359.874155165 L 1090175.5177083572,-3968384.5284059173 L 1090277.1833476524,-3968424.261313999 L 1090321.4109167983,-3968308.5523220864 L 1090342.9565407662,-3968252.1842768434 L 1090307.053836483,-3968238.068417453 L 1090120.4791552895,-3968164.710809661 L 1090278.5664767057,-3968137.1113702236 L 1090409.4603747616,-3968114.2588176327 L 1090446.048198219,-3968107.870144327 L 1090452.2698842715,-3968138.026727897 L 1090463.2123376464,-3968135.95465693 L 1090599.724168323,-3968110.1047163606 z\" /></g></svg>"
      ],
      "text/plain": [
       "<POLYGON ((1090599.724 -3968110.105, 1090900.932 -3968337.27, 1090830.413 -3...>"
      ]
     },
     "execution_count": 3,
     "metadata": {},
     "output_type": "execute_result"
    }
   ],
   "source": [
    "poly = gpd.read_file('hird/hird.shp')\n",
    "poly.geometry[0]"
   ]
  },
  {
   "cell_type": "code",
   "execution_count": 4,
   "id": "c63c494c-5eda-49e8-a2a1-8732a506e316",
   "metadata": {},
   "outputs": [
    {
     "data": {
      "text/plain": [
       "4336813.220362894"
      ]
     },
     "execution_count": 4,
     "metadata": {},
     "output_type": "execute_result"
    }
   ],
   "source": [
    "poly.geometry[0].area"
   ]
  },
  {
   "cell_type": "markdown",
   "id": "cb19c536-c93a-48f3-b85e-ddbac26fa3ed",
   "metadata": {},
   "source": [
    "...and specify a time period to examine:"
   ]
  },
  {
   "cell_type": "code",
   "execution_count": 5,
   "id": "8829ee8f-321d-4b5e-959d-ed6b2a91e626",
   "metadata": {},
   "outputs": [],
   "source": [
    "time = ('2014-10-01', '2015-01-01')"
   ]
  },
  {
   "cell_type": "markdown",
   "id": "0b9eaac8-9134-42c6-9ee2-cf36de8cc7fc",
   "metadata": {},
   "source": [
    "Then load Landsat, Water Observations, and Fractional Cover:"
   ]
  },
  {
   "cell_type": "code",
   "execution_count": 6,
   "id": "5f84a8d0-3761-4446-8bb7-1f4bddc218cb",
   "metadata": {},
   "outputs": [],
   "source": [
    "bands = [f'nbart_{band}' for band in ('blue', 'green', 'red', 'nir', 'swir_1', 'swir_2')]"
   ]
  },
  {
   "cell_type": "code",
   "execution_count": 7,
   "id": "1a509b3b-c2e5-4e1c-8751-0fc264ac1bf1",
   "metadata": {},
   "outputs": [],
   "source": [
    "gpgon = datacube.utils.geometry.Geometry(poly.geometry[0], crs=poly.crs)"
   ]
  },
  {
   "cell_type": "code",
   "execution_count": 8,
   "id": "189e99c3-5b02-4d03-a54d-c3eed2d6e588",
   "metadata": {},
   "outputs": [
    {
     "name": "stdout",
     "output_type": "stream",
     "text": [
      "Finding datasets\n",
      "    ga_ls8c_ard_3\n",
      "    ga_ls7e_ard_3 (ignoring SLC-off observations)\n",
      "    ga_ls5t_ard_3\n",
      "Applying fmask pixel quality/cloud mask\n",
      "Loading 12 time steps\n"
     ]
    }
   ],
   "source": [
    "ds = dea_tools.datahandling.load_ard(dc, products=['ga_ls8c_ard_3', 'ga_ls7e_ard_3', 'ga_ls5t_ard_3'], ls7_slc_off=False, measurements=bands,\n",
    "                                     geopolygon=gpgon,\n",
    "                                     output_crs='EPSG:3577', resolution=(-30, 30), resampling={'fmask': 'nearest', '*': 'bilinear'},\n",
    "                                     time=time, group_by='solar_day')"
   ]
  },
  {
   "cell_type": "code",
   "execution_count": 9,
   "id": "250e7011-6030-4665-abd4-5d6ecaa8398f",
   "metadata": {},
   "outputs": [],
   "source": [
    "ds_wo = dc.load('ga_ls_wo_3', resampling='nearest', group_by='solar_day', like=ds)\n",
    "ds_fc = dc.load('ga_ls_fc_3', resampling='nearest', group_by='solar_day', like=ds)"
   ]
  },
  {
   "cell_type": "markdown",
   "id": "33e52d2f-0198-443f-b05c-e0ed5231a600",
   "metadata": {},
   "source": [
    "Find any missing observations:"
   ]
  },
  {
   "cell_type": "code",
   "execution_count": 10,
   "id": "dc8ea690-9962-496a-be19-fa28c86bfe80",
   "metadata": {},
   "outputs": [],
   "source": [
    "missing = set()\n",
    "for t1, t2 in itertools.product(\n",
    "        [ds_fc.time.values, ds_wo.time.values, ds.time.values], repeat=2):\n",
    "    missing_ = set(t1) - set(t2)\n",
    "    missing |= missing_"
   ]
  },
  {
   "cell_type": "markdown",
   "id": "3488ac8d-e0fe-4da6-92a1-4867ce649e57",
   "metadata": {},
   "source": [
    "...and delete them:"
   ]
  },
  {
   "cell_type": "code",
   "execution_count": 11,
   "id": "7461abd5-4f42-4371-a8df-409b6fdfe577",
   "metadata": {},
   "outputs": [],
   "source": [
    "ds_fc = ds_fc.sel(time=[t for t in ds_fc.time.values if t not in missing])\n",
    "ds = ds.sel(time=[t for t in ds.time.values if t not in missing])\n",
    "ds_wo = ds_wo.sel(time=[t for t in ds_wo.time.values if t not in missing])"
   ]
  },
  {
   "cell_type": "markdown",
   "id": "4daa4474-d9bf-4a31-b491-8c17f44e8247",
   "metadata": {},
   "source": [
    "Finally, calculate Tasseled-Cap Wetness:"
   ]
  },
  {
   "cell_type": "code",
   "execution_count": 12,
   "id": "62cced45-65a0-4a61-8634-1eaa65e9ab0c",
   "metadata": {},
   "outputs": [
    {
     "name": "stdout",
     "output_type": "stream",
     "text": [
      "Dropping bands ['nbart_blue', 'nbart_green', 'nbart_red', 'nbart_nir', 'nbart_swir_1', 'nbart_swir_2']\n"
     ]
    }
   ],
   "source": [
    "tcw = dea_tools.bandindices.calculate_indices(\n",
    "    ds, index='TCW', collection='ga_ls_3',\n",
    "    normalise=False, drop=True, inplace=False)"
   ]
  },
  {
   "cell_type": "markdown",
   "id": "8f646f63-0825-4180-97e1-2c16db40d6e9",
   "metadata": {},
   "source": [
    "## WIT calculation\n",
    "\n",
    "For each pixel, we calculate its WIT values based on the Flowchart from Dunn et al. (in prep)."
   ]
  },
  {
   "cell_type": "markdown",
   "id": "29d8486b-8511-4da5-93de-0f6ea1d34beb",
   "metadata": {},
   "source": [
    "Divide out the FC values by 100 to keep them in $[0, 1]$ (ignoring for now that values can exceed 100 due to how FC is calculated):"
   ]
  },
  {
   "cell_type": "code",
   "execution_count": 13,
   "id": "43d5af0c-7cd0-4222-a574-7403d24f8e80",
   "metadata": {},
   "outputs": [],
   "source": [
    "bs = ds_fc.bs / 100\n",
    "pv = ds_fc.pv / 100\n",
    "npv = ds_fc.npv / 100"
   ]
  },
  {
   "cell_type": "markdown",
   "id": "2420e49a-cfe0-4902-ae7d-2a6bbb255940",
   "metadata": {},
   "source": [
    "Generate the WIT raster bands:"
   ]
  },
  {
   "cell_type": "code",
   "execution_count": 14,
   "id": "5e83e0d5-c5a0-4900-a98d-d3107df138b2",
   "metadata": {},
   "outputs": [],
   "source": [
    "rast_names = ['pv', 'npv', 'bs', 'wet', 'water']\n",
    "output_rast = {n: xr.zeros_like(bs) for n in rast_names}\n",
    "\n",
    "output_rast['bs'].values[:] = bs\n",
    "output_rast['pv'].values[:] = pv\n",
    "output_rast['npv'].values[:] = npv"
   ]
  },
  {
   "cell_type": "markdown",
   "id": "d21e2124-5b3d-45e7-82f6-0af64211add6",
   "metadata": {},
   "source": [
    "Mask cloudy/cloud shadowy/noncontiguous/no-data pixels and pixels not in the polygon:"
   ]
  },
  {
   "cell_type": "code",
   "execution_count": 15,
   "id": "fd084dee-982f-4a8d-9c1e-4a268d4c5a78",
   "metadata": {},
   "outputs": [],
   "source": [
    "poly_raster = xr_rasterize(poly, pv) > 0\n",
    "\n",
    "# refs to: https://github.com/GeoscienceAustralia/dea-conflux/blob/main/examples/wit_ls5.conflux.py#L66\n",
    "\n",
    "###\n",
    "# https://github.com/GeoscienceAustralia/wofs/blob/3eacdc8b5b5c399fbe780cb9289e71b7d6ded31c/wofs/constants.py\n",
    "\n",
    "#                    0           no water present\n",
    "#     1              1<<0        nodata (missing all earth observation bands)\n",
    "#     2              1<<1        noncontiguous (at least one EO band is missing or saturated)\n",
    "#     4              1<<2        low solar incidence angle\n",
    "#     8              1<<3        terrain shadow\n",
    "#     16             1<<4        high slope\n",
    "#     32             1<<5        cloud shadow\n",
    "#     64             1<<6        cloud\n",
    "#     128            1<<7        classified as water by the decision tree\n",
    "\n",
    "###\n",
    "\n",
    "mask = (ds_wo.water & 0b01100011) == 0\n",
    "mask &= poly_raster\n",
    "\n",
    "open_water = ds_wo.water & (1 << 7) > 0\n",
    "\n",
    "wet = tcw.where(mask).TCW > -350"
   ]
  },
  {
   "cell_type": "code",
   "execution_count": 16,
   "id": "fc619147-991a-43e8-a8c8-b1faafbd627a",
   "metadata": {},
   "outputs": [
    {
     "data": {
      "text/html": [
       "<div><svg style=\"position: absolute; width: 0; height: 0; overflow: hidden\">\n",
       "<defs>\n",
       "<symbol id=\"icon-database\" viewBox=\"0 0 32 32\">\n",
       "<path d=\"M16 0c-8.837 0-16 2.239-16 5v4c0 2.761 7.163 5 16 5s16-2.239 16-5v-4c0-2.761-7.163-5-16-5z\"></path>\n",
       "<path d=\"M16 17c-8.837 0-16-2.239-16-5v6c0 2.761 7.163 5 16 5s16-2.239 16-5v-6c0 2.761-7.163 5-16 5z\"></path>\n",
       "<path d=\"M16 26c-8.837 0-16-2.239-16-5v6c0 2.761 7.163 5 16 5s16-2.239 16-5v-6c0 2.761-7.163 5-16 5z\"></path>\n",
       "</symbol>\n",
       "<symbol id=\"icon-file-text2\" viewBox=\"0 0 32 32\">\n",
       "<path d=\"M28.681 7.159c-0.694-0.947-1.662-2.053-2.724-3.116s-2.169-2.030-3.116-2.724c-1.612-1.182-2.393-1.319-2.841-1.319h-15.5c-1.378 0-2.5 1.121-2.5 2.5v27c0 1.378 1.122 2.5 2.5 2.5h23c1.378 0 2.5-1.122 2.5-2.5v-19.5c0-0.448-0.137-1.23-1.319-2.841zM24.543 5.457c0.959 0.959 1.712 1.825 2.268 2.543h-4.811v-4.811c0.718 0.556 1.584 1.309 2.543 2.268zM28 29.5c0 0.271-0.229 0.5-0.5 0.5h-23c-0.271 0-0.5-0.229-0.5-0.5v-27c0-0.271 0.229-0.5 0.5-0.5 0 0 15.499-0 15.5 0v7c0 0.552 0.448 1 1 1h7v19.5z\"></path>\n",
       "<path d=\"M23 26h-14c-0.552 0-1-0.448-1-1s0.448-1 1-1h14c0.552 0 1 0.448 1 1s-0.448 1-1 1z\"></path>\n",
       "<path d=\"M23 22h-14c-0.552 0-1-0.448-1-1s0.448-1 1-1h14c0.552 0 1 0.448 1 1s-0.448 1-1 1z\"></path>\n",
       "<path d=\"M23 18h-14c-0.552 0-1-0.448-1-1s0.448-1 1-1h14c0.552 0 1 0.448 1 1s-0.448 1-1 1z\"></path>\n",
       "</symbol>\n",
       "</defs>\n",
       "</svg>\n",
       "<style>/* CSS stylesheet for displaying xarray objects in jupyterlab.\n",
       " *\n",
       " */\n",
       "\n",
       ":root {\n",
       "  --xr-font-color0: var(--jp-content-font-color0, rgba(0, 0, 0, 1));\n",
       "  --xr-font-color2: var(--jp-content-font-color2, rgba(0, 0, 0, 0.54));\n",
       "  --xr-font-color3: var(--jp-content-font-color3, rgba(0, 0, 0, 0.38));\n",
       "  --xr-border-color: var(--jp-border-color2, #e0e0e0);\n",
       "  --xr-disabled-color: var(--jp-layout-color3, #bdbdbd);\n",
       "  --xr-background-color: var(--jp-layout-color0, white);\n",
       "  --xr-background-color-row-even: var(--jp-layout-color1, white);\n",
       "  --xr-background-color-row-odd: var(--jp-layout-color2, #eeeeee);\n",
       "}\n",
       "\n",
       "html[theme=dark],\n",
       "body[data-theme=dark],\n",
       "body.vscode-dark {\n",
       "  --xr-font-color0: rgba(255, 255, 255, 1);\n",
       "  --xr-font-color2: rgba(255, 255, 255, 0.54);\n",
       "  --xr-font-color3: rgba(255, 255, 255, 0.38);\n",
       "  --xr-border-color: #1F1F1F;\n",
       "  --xr-disabled-color: #515151;\n",
       "  --xr-background-color: #111111;\n",
       "  --xr-background-color-row-even: #111111;\n",
       "  --xr-background-color-row-odd: #313131;\n",
       "}\n",
       "\n",
       ".xr-wrap {\n",
       "  display: block !important;\n",
       "  min-width: 300px;\n",
       "  max-width: 700px;\n",
       "}\n",
       "\n",
       ".xr-text-repr-fallback {\n",
       "  /* fallback to plain text repr when CSS is not injected (untrusted notebook) */\n",
       "  display: none;\n",
       "}\n",
       "\n",
       ".xr-header {\n",
       "  padding-top: 6px;\n",
       "  padding-bottom: 6px;\n",
       "  margin-bottom: 4px;\n",
       "  border-bottom: solid 1px var(--xr-border-color);\n",
       "}\n",
       "\n",
       ".xr-header > div,\n",
       ".xr-header > ul {\n",
       "  display: inline;\n",
       "  margin-top: 0;\n",
       "  margin-bottom: 0;\n",
       "}\n",
       "\n",
       ".xr-obj-type,\n",
       ".xr-array-name {\n",
       "  margin-left: 2px;\n",
       "  margin-right: 10px;\n",
       "}\n",
       "\n",
       ".xr-obj-type {\n",
       "  color: var(--xr-font-color2);\n",
       "}\n",
       "\n",
       ".xr-sections {\n",
       "  padding-left: 0 !important;\n",
       "  display: grid;\n",
       "  grid-template-columns: 150px auto auto 1fr 20px 20px;\n",
       "}\n",
       "\n",
       ".xr-section-item {\n",
       "  display: contents;\n",
       "}\n",
       "\n",
       ".xr-section-item input {\n",
       "  display: none;\n",
       "}\n",
       "\n",
       ".xr-section-item input + label {\n",
       "  color: var(--xr-disabled-color);\n",
       "}\n",
       "\n",
       ".xr-section-item input:enabled + label {\n",
       "  cursor: pointer;\n",
       "  color: var(--xr-font-color2);\n",
       "}\n",
       "\n",
       ".xr-section-item input:enabled + label:hover {\n",
       "  color: var(--xr-font-color0);\n",
       "}\n",
       "\n",
       ".xr-section-summary {\n",
       "  grid-column: 1;\n",
       "  color: var(--xr-font-color2);\n",
       "  font-weight: 500;\n",
       "}\n",
       "\n",
       ".xr-section-summary > span {\n",
       "  display: inline-block;\n",
       "  padding-left: 0.5em;\n",
       "}\n",
       "\n",
       ".xr-section-summary-in:disabled + label {\n",
       "  color: var(--xr-font-color2);\n",
       "}\n",
       "\n",
       ".xr-section-summary-in + label:before {\n",
       "  display: inline-block;\n",
       "  content: '►';\n",
       "  font-size: 11px;\n",
       "  width: 15px;\n",
       "  text-align: center;\n",
       "}\n",
       "\n",
       ".xr-section-summary-in:disabled + label:before {\n",
       "  color: var(--xr-disabled-color);\n",
       "}\n",
       "\n",
       ".xr-section-summary-in:checked + label:before {\n",
       "  content: '▼';\n",
       "}\n",
       "\n",
       ".xr-section-summary-in:checked + label > span {\n",
       "  display: none;\n",
       "}\n",
       "\n",
       ".xr-section-summary,\n",
       ".xr-section-inline-details {\n",
       "  padding-top: 4px;\n",
       "  padding-bottom: 4px;\n",
       "}\n",
       "\n",
       ".xr-section-inline-details {\n",
       "  grid-column: 2 / -1;\n",
       "}\n",
       "\n",
       ".xr-section-details {\n",
       "  display: none;\n",
       "  grid-column: 1 / -1;\n",
       "  margin-bottom: 5px;\n",
       "}\n",
       "\n",
       ".xr-section-summary-in:checked ~ .xr-section-details {\n",
       "  display: contents;\n",
       "}\n",
       "\n",
       ".xr-array-wrap {\n",
       "  grid-column: 1 / -1;\n",
       "  display: grid;\n",
       "  grid-template-columns: 20px auto;\n",
       "}\n",
       "\n",
       ".xr-array-wrap > label {\n",
       "  grid-column: 1;\n",
       "  vertical-align: top;\n",
       "}\n",
       "\n",
       ".xr-preview {\n",
       "  color: var(--xr-font-color3);\n",
       "}\n",
       "\n",
       ".xr-array-preview,\n",
       ".xr-array-data {\n",
       "  padding: 0 5px !important;\n",
       "  grid-column: 2;\n",
       "}\n",
       "\n",
       ".xr-array-data,\n",
       ".xr-array-in:checked ~ .xr-array-preview {\n",
       "  display: none;\n",
       "}\n",
       "\n",
       ".xr-array-in:checked ~ .xr-array-data,\n",
       ".xr-array-preview {\n",
       "  display: inline-block;\n",
       "}\n",
       "\n",
       ".xr-dim-list {\n",
       "  display: inline-block !important;\n",
       "  list-style: none;\n",
       "  padding: 0 !important;\n",
       "  margin: 0;\n",
       "}\n",
       "\n",
       ".xr-dim-list li {\n",
       "  display: inline-block;\n",
       "  padding: 0;\n",
       "  margin: 0;\n",
       "}\n",
       "\n",
       ".xr-dim-list:before {\n",
       "  content: '(';\n",
       "}\n",
       "\n",
       ".xr-dim-list:after {\n",
       "  content: ')';\n",
       "}\n",
       "\n",
       ".xr-dim-list li:not(:last-child):after {\n",
       "  content: ',';\n",
       "  padding-right: 5px;\n",
       "}\n",
       "\n",
       ".xr-has-index {\n",
       "  font-weight: bold;\n",
       "}\n",
       "\n",
       ".xr-var-list,\n",
       ".xr-var-item {\n",
       "  display: contents;\n",
       "}\n",
       "\n",
       ".xr-var-item > div,\n",
       ".xr-var-item label,\n",
       ".xr-var-item > .xr-var-name span {\n",
       "  background-color: var(--xr-background-color-row-even);\n",
       "  margin-bottom: 0;\n",
       "}\n",
       "\n",
       ".xr-var-item > .xr-var-name:hover span {\n",
       "  padding-right: 5px;\n",
       "}\n",
       "\n",
       ".xr-var-list > li:nth-child(odd) > div,\n",
       ".xr-var-list > li:nth-child(odd) > label,\n",
       ".xr-var-list > li:nth-child(odd) > .xr-var-name span {\n",
       "  background-color: var(--xr-background-color-row-odd);\n",
       "}\n",
       "\n",
       ".xr-var-name {\n",
       "  grid-column: 1;\n",
       "}\n",
       "\n",
       ".xr-var-dims {\n",
       "  grid-column: 2;\n",
       "}\n",
       "\n",
       ".xr-var-dtype {\n",
       "  grid-column: 3;\n",
       "  text-align: right;\n",
       "  color: var(--xr-font-color2);\n",
       "}\n",
       "\n",
       ".xr-var-preview {\n",
       "  grid-column: 4;\n",
       "}\n",
       "\n",
       ".xr-index-preview {\n",
       "  grid-column: 2 / 5;\n",
       "  color: var(--xr-font-color2);\n",
       "}\n",
       "\n",
       ".xr-var-name,\n",
       ".xr-var-dims,\n",
       ".xr-var-dtype,\n",
       ".xr-preview,\n",
       ".xr-attrs dt {\n",
       "  white-space: nowrap;\n",
       "  overflow: hidden;\n",
       "  text-overflow: ellipsis;\n",
       "  padding-right: 10px;\n",
       "}\n",
       "\n",
       ".xr-var-name:hover,\n",
       ".xr-var-dims:hover,\n",
       ".xr-var-dtype:hover,\n",
       ".xr-attrs dt:hover {\n",
       "  overflow: visible;\n",
       "  width: auto;\n",
       "  z-index: 1;\n",
       "}\n",
       "\n",
       ".xr-var-attrs,\n",
       ".xr-var-data,\n",
       ".xr-index-data {\n",
       "  display: none;\n",
       "  background-color: var(--xr-background-color) !important;\n",
       "  padding-bottom: 5px !important;\n",
       "}\n",
       "\n",
       ".xr-var-attrs-in:checked ~ .xr-var-attrs,\n",
       ".xr-var-data-in:checked ~ .xr-var-data,\n",
       ".xr-index-data-in:checked ~ .xr-index-data {\n",
       "  display: block;\n",
       "}\n",
       "\n",
       ".xr-var-data > table {\n",
       "  float: right;\n",
       "}\n",
       "\n",
       ".xr-var-name span,\n",
       ".xr-var-data,\n",
       ".xr-index-name div,\n",
       ".xr-index-data,\n",
       ".xr-attrs {\n",
       "  padding-left: 25px !important;\n",
       "}\n",
       "\n",
       ".xr-attrs,\n",
       ".xr-var-attrs,\n",
       ".xr-var-data,\n",
       ".xr-index-data {\n",
       "  grid-column: 1 / -1;\n",
       "}\n",
       "\n",
       "dl.xr-attrs {\n",
       "  padding: 0;\n",
       "  margin: 0;\n",
       "  display: grid;\n",
       "  grid-template-columns: 125px auto;\n",
       "}\n",
       "\n",
       ".xr-attrs dt,\n",
       ".xr-attrs dd {\n",
       "  padding: 0;\n",
       "  margin: 0;\n",
       "  float: left;\n",
       "  padding-right: 10px;\n",
       "  width: auto;\n",
       "}\n",
       "\n",
       ".xr-attrs dt {\n",
       "  font-weight: normal;\n",
       "  grid-column: 1;\n",
       "}\n",
       "\n",
       ".xr-attrs dt:hover span {\n",
       "  display: inline-block;\n",
       "  background: var(--xr-background-color);\n",
       "  padding-right: 10px;\n",
       "}\n",
       "\n",
       ".xr-attrs dd {\n",
       "  grid-column: 2;\n",
       "  white-space: pre-wrap;\n",
       "  word-break: break-all;\n",
       "}\n",
       "\n",
       ".xr-icon-database,\n",
       ".xr-icon-file-text2,\n",
       ".xr-no-icon {\n",
       "  display: inline-block;\n",
       "  vertical-align: middle;\n",
       "  width: 1em;\n",
       "  height: 1.5em !important;\n",
       "  stroke-width: 0;\n",
       "  stroke: currentColor;\n",
       "  fill: currentColor;\n",
       "}\n",
       "</style><pre class='xr-text-repr-fallback'>&lt;xarray.DataArray (y: 127, x: 61)&gt;\n",
       "array([[False, False, False, ..., False, False, False],\n",
       "       [False, False, False, ..., False, False, False],\n",
       "       [False, False, False, ..., False, False, False],\n",
       "       ...,\n",
       "       [False, False, False, ..., False, False, False],\n",
       "       [False, False, False, ..., False, False, False],\n",
       "       [False, False, False, ..., False, False, False]])\n",
       "Coordinates:\n",
       "  * y            (y) float64 -3.968e+06 -3.968e+06 ... -3.972e+06 -3.972e+06\n",
       "  * x            (x) float64 1.09e+06 1.09e+06 1.09e+06 ... 1.091e+06 1.091e+06\n",
       "    spatial_ref  int32 3577</pre><div class='xr-wrap' style='display:none'><div class='xr-header'><div class='xr-obj-type'>xarray.DataArray</div><div class='xr-array-name'></div><ul class='xr-dim-list'><li><span class='xr-has-index'>y</span>: 127</li><li><span class='xr-has-index'>x</span>: 61</li></ul></div><ul class='xr-sections'><li class='xr-section-item'><div class='xr-array-wrap'><input id='section-5de271db-55bc-4478-8245-c01ce6faf309' class='xr-array-in' type='checkbox' checked><label for='section-5de271db-55bc-4478-8245-c01ce6faf309' title='Show/hide data repr'><svg class='icon xr-icon-database'><use xlink:href='#icon-database'></use></svg></label><div class='xr-array-preview xr-preview'><span>False False False False False False ... False False False False False</span></div><div class='xr-array-data'><pre>array([[False, False, False, ..., False, False, False],\n",
       "       [False, False, False, ..., False, False, False],\n",
       "       [False, False, False, ..., False, False, False],\n",
       "       ...,\n",
       "       [False, False, False, ..., False, False, False],\n",
       "       [False, False, False, ..., False, False, False],\n",
       "       [False, False, False, ..., False, False, False]])</pre></div></div></li><li class='xr-section-item'><input id='section-8d666d59-7673-48bb-8fe8-62a7e3614e50' class='xr-section-summary-in' type='checkbox'  checked><label for='section-8d666d59-7673-48bb-8fe8-62a7e3614e50' class='xr-section-summary' >Coordinates: <span>(3)</span></label><div class='xr-section-inline-details'></div><div class='xr-section-details'><ul class='xr-var-list'><li class='xr-var-item'><div class='xr-var-name'><span class='xr-has-index'>y</span></div><div class='xr-var-dims'>(y)</div><div class='xr-var-dtype'>float64</div><div class='xr-var-preview xr-preview'>-3.968e+06 ... -3.972e+06</div><input id='attrs-f0638019-91e1-4474-8ea7-9c2ad96a1df8' class='xr-var-attrs-in' type='checkbox' ><label for='attrs-f0638019-91e1-4474-8ea7-9c2ad96a1df8' title='Show/Hide attributes'><svg class='icon xr-icon-file-text2'><use xlink:href='#icon-file-text2'></use></svg></label><input id='data-02ee4b56-f44e-416c-acb3-9be6bc36e234' class='xr-var-data-in' type='checkbox'><label for='data-02ee4b56-f44e-416c-acb3-9be6bc36e234' title='Show/Hide data repr'><svg class='icon xr-icon-database'><use xlink:href='#icon-database'></use></svg></label><div class='xr-var-attrs'><dl class='xr-attrs'><dt><span>units :</span></dt><dd>metre</dd><dt><span>resolution :</span></dt><dd>-30.0</dd><dt><span>crs :</span></dt><dd>PROJCS[&quot;GDA94 / Australian Albers&quot;,GEOGCS[&quot;GDA94&quot;,DATUM[&quot;Geocentric_Datum_of_Australia_1994&quot;,SPHEROID[&quot;GRS 1980&quot;,6378137,298.257222101,AUTHORITY[&quot;EPSG&quot;,&quot;7019&quot;]],AUTHORITY[&quot;EPSG&quot;,&quot;6283&quot;]],PRIMEM[&quot;Greenwich&quot;,0,AUTHORITY[&quot;EPSG&quot;,&quot;8901&quot;]],UNIT[&quot;degree&quot;,0.0174532925199433,AUTHORITY[&quot;EPSG&quot;,&quot;9122&quot;]],AUTHORITY[&quot;EPSG&quot;,&quot;4283&quot;]],PROJECTION[&quot;Albers_Conic_Equal_Area&quot;],PARAMETER[&quot;latitude_of_center&quot;,0],PARAMETER[&quot;longitude_of_center&quot;,132],PARAMETER[&quot;standard_parallel_1&quot;,-18],PARAMETER[&quot;standard_parallel_2&quot;,-36],PARAMETER[&quot;false_easting&quot;,0],PARAMETER[&quot;false_northing&quot;,0],UNIT[&quot;metre&quot;,1,AUTHORITY[&quot;EPSG&quot;,&quot;9001&quot;]],AXIS[&quot;Easting&quot;,EAST],AXIS[&quot;Northing&quot;,NORTH],AUTHORITY[&quot;EPSG&quot;,&quot;3577&quot;]]</dd></dl></div><div class='xr-var-data'><pre>array([-3968115., -3968145., -3968175., -3968205., -3968235., -3968265.,\n",
       "       -3968295., -3968325., -3968355., -3968385., -3968415., -3968445.,\n",
       "       -3968475., -3968505., -3968535., -3968565., -3968595., -3968625.,\n",
       "       -3968655., -3968685., -3968715., -3968745., -3968775., -3968805.,\n",
       "       -3968835., -3968865., -3968895., -3968925., -3968955., -3968985.,\n",
       "       -3969015., -3969045., -3969075., -3969105., -3969135., -3969165.,\n",
       "       -3969195., -3969225., -3969255., -3969285., -3969315., -3969345.,\n",
       "       -3969375., -3969405., -3969435., -3969465., -3969495., -3969525.,\n",
       "       -3969555., -3969585., -3969615., -3969645., -3969675., -3969705.,\n",
       "       -3969735., -3969765., -3969795., -3969825., -3969855., -3969885.,\n",
       "       -3969915., -3969945., -3969975., -3970005., -3970035., -3970065.,\n",
       "       -3970095., -3970125., -3970155., -3970185., -3970215., -3970245.,\n",
       "       -3970275., -3970305., -3970335., -3970365., -3970395., -3970425.,\n",
       "       -3970455., -3970485., -3970515., -3970545., -3970575., -3970605.,\n",
       "       -3970635., -3970665., -3970695., -3970725., -3970755., -3970785.,\n",
       "       -3970815., -3970845., -3970875., -3970905., -3970935., -3970965.,\n",
       "       -3970995., -3971025., -3971055., -3971085., -3971115., -3971145.,\n",
       "       -3971175., -3971205., -3971235., -3971265., -3971295., -3971325.,\n",
       "       -3971355., -3971385., -3971415., -3971445., -3971475., -3971505.,\n",
       "       -3971535., -3971565., -3971595., -3971625., -3971655., -3971685.,\n",
       "       -3971715., -3971745., -3971775., -3971805., -3971835., -3971865.,\n",
       "       -3971895.])</pre></div></li><li class='xr-var-item'><div class='xr-var-name'><span class='xr-has-index'>x</span></div><div class='xr-var-dims'>(x)</div><div class='xr-var-dtype'>float64</div><div class='xr-var-preview xr-preview'>1.09e+06 1.09e+06 ... 1.091e+06</div><input id='attrs-e2c3dfe6-e761-4166-8e2e-dccb1ac6b7e5' class='xr-var-attrs-in' type='checkbox' ><label for='attrs-e2c3dfe6-e761-4166-8e2e-dccb1ac6b7e5' title='Show/Hide attributes'><svg class='icon xr-icon-file-text2'><use xlink:href='#icon-file-text2'></use></svg></label><input id='data-e1da9bba-436a-4a5b-95b9-d769d549edbe' class='xr-var-data-in' type='checkbox'><label for='data-e1da9bba-436a-4a5b-95b9-d769d549edbe' title='Show/Hide data repr'><svg class='icon xr-icon-database'><use xlink:href='#icon-database'></use></svg></label><div class='xr-var-attrs'><dl class='xr-attrs'><dt><span>units :</span></dt><dd>metre</dd><dt><span>resolution :</span></dt><dd>30.0</dd><dt><span>crs :</span></dt><dd>PROJCS[&quot;GDA94 / Australian Albers&quot;,GEOGCS[&quot;GDA94&quot;,DATUM[&quot;Geocentric_Datum_of_Australia_1994&quot;,SPHEROID[&quot;GRS 1980&quot;,6378137,298.257222101,AUTHORITY[&quot;EPSG&quot;,&quot;7019&quot;]],AUTHORITY[&quot;EPSG&quot;,&quot;6283&quot;]],PRIMEM[&quot;Greenwich&quot;,0,AUTHORITY[&quot;EPSG&quot;,&quot;8901&quot;]],UNIT[&quot;degree&quot;,0.0174532925199433,AUTHORITY[&quot;EPSG&quot;,&quot;9122&quot;]],AUTHORITY[&quot;EPSG&quot;,&quot;4283&quot;]],PROJECTION[&quot;Albers_Conic_Equal_Area&quot;],PARAMETER[&quot;latitude_of_center&quot;,0],PARAMETER[&quot;longitude_of_center&quot;,132],PARAMETER[&quot;standard_parallel_1&quot;,-18],PARAMETER[&quot;standard_parallel_2&quot;,-36],PARAMETER[&quot;false_easting&quot;,0],PARAMETER[&quot;false_northing&quot;,0],UNIT[&quot;metre&quot;,1,AUTHORITY[&quot;EPSG&quot;,&quot;9001&quot;]],AXIS[&quot;Easting&quot;,EAST],AXIS[&quot;Northing&quot;,NORTH],AUTHORITY[&quot;EPSG&quot;,&quot;3577&quot;]]</dd></dl></div><div class='xr-var-data'><pre>array([1089525., 1089555., 1089585., 1089615., 1089645., 1089675., 1089705.,\n",
       "       1089735., 1089765., 1089795., 1089825., 1089855., 1089885., 1089915.,\n",
       "       1089945., 1089975., 1090005., 1090035., 1090065., 1090095., 1090125.,\n",
       "       1090155., 1090185., 1090215., 1090245., 1090275., 1090305., 1090335.,\n",
       "       1090365., 1090395., 1090425., 1090455., 1090485., 1090515., 1090545.,\n",
       "       1090575., 1090605., 1090635., 1090665., 1090695., 1090725., 1090755.,\n",
       "       1090785., 1090815., 1090845., 1090875., 1090905., 1090935., 1090965.,\n",
       "       1090995., 1091025., 1091055., 1091085., 1091115., 1091145., 1091175.,\n",
       "       1091205., 1091235., 1091265., 1091295., 1091325.])</pre></div></li><li class='xr-var-item'><div class='xr-var-name'><span>spatial_ref</span></div><div class='xr-var-dims'>()</div><div class='xr-var-dtype'>int32</div><div class='xr-var-preview xr-preview'>3577</div><input id='attrs-715e8d76-c289-4fd8-b3a3-d5fa0d3ee3a0' class='xr-var-attrs-in' type='checkbox' ><label for='attrs-715e8d76-c289-4fd8-b3a3-d5fa0d3ee3a0' title='Show/Hide attributes'><svg class='icon xr-icon-file-text2'><use xlink:href='#icon-file-text2'></use></svg></label><input id='data-8406df3f-e7be-475f-aecc-7b8147498147' class='xr-var-data-in' type='checkbox'><label for='data-8406df3f-e7be-475f-aecc-7b8147498147' title='Show/Hide data repr'><svg class='icon xr-icon-database'><use xlink:href='#icon-database'></use></svg></label><div class='xr-var-attrs'><dl class='xr-attrs'><dt><span>spatial_ref :</span></dt><dd>PROJCRS[&quot;GDA94 / Australian Albers&quot;,BASEGEOGCRS[&quot;GDA94&quot;,DATUM[&quot;Geocentric Datum of Australia 1994&quot;,ELLIPSOID[&quot;GRS 1980&quot;,6378137,298.257222101,LENGTHUNIT[&quot;metre&quot;,1]]],PRIMEM[&quot;Greenwich&quot;,0,ANGLEUNIT[&quot;degree&quot;,0.0174532925199433]],ID[&quot;EPSG&quot;,4283]],CONVERSION[&quot;unnamed&quot;,METHOD[&quot;Albers Equal Area&quot;,ID[&quot;EPSG&quot;,9822]],PARAMETER[&quot;Latitude of false origin&quot;,0,ANGLEUNIT[&quot;degree&quot;,0.0174532925199433],ID[&quot;EPSG&quot;,8821]],PARAMETER[&quot;Longitude of false origin&quot;,132,ANGLEUNIT[&quot;degree&quot;,0.0174532925199433],ID[&quot;EPSG&quot;,8822]],PARAMETER[&quot;Latitude of 1st standard parallel&quot;,-18,ANGLEUNIT[&quot;degree&quot;,0.0174532925199433],ID[&quot;EPSG&quot;,8823]],PARAMETER[&quot;Latitude of 2nd standard parallel&quot;,-36,ANGLEUNIT[&quot;degree&quot;,0.0174532925199433],ID[&quot;EPSG&quot;,8824]],PARAMETER[&quot;Easting at false origin&quot;,0,LENGTHUNIT[&quot;metre&quot;,1],ID[&quot;EPSG&quot;,8826]],PARAMETER[&quot;Northing at false origin&quot;,0,LENGTHUNIT[&quot;metre&quot;,1],ID[&quot;EPSG&quot;,8827]]],CS[Cartesian,2],AXIS[&quot;easting&quot;,east,ORDER[1],LENGTHUNIT[&quot;metre&quot;,1]],AXIS[&quot;northing&quot;,north,ORDER[2],LENGTHUNIT[&quot;metre&quot;,1]],ID[&quot;EPSG&quot;,3577]]</dd><dt><span>crs_wkt :</span></dt><dd>PROJCRS[&quot;GDA94 / Australian Albers&quot;,BASEGEOGCRS[&quot;GDA94&quot;,DATUM[&quot;Geocentric Datum of Australia 1994&quot;,ELLIPSOID[&quot;GRS 1980&quot;,6378137,298.257222101,LENGTHUNIT[&quot;metre&quot;,1]]],PRIMEM[&quot;Greenwich&quot;,0,ANGLEUNIT[&quot;degree&quot;,0.0174532925199433]],ID[&quot;EPSG&quot;,4283]],CONVERSION[&quot;unnamed&quot;,METHOD[&quot;Albers Equal Area&quot;,ID[&quot;EPSG&quot;,9822]],PARAMETER[&quot;Latitude of false origin&quot;,0,ANGLEUNIT[&quot;degree&quot;,0.0174532925199433],ID[&quot;EPSG&quot;,8821]],PARAMETER[&quot;Longitude of false origin&quot;,132,ANGLEUNIT[&quot;degree&quot;,0.0174532925199433],ID[&quot;EPSG&quot;,8822]],PARAMETER[&quot;Latitude of 1st standard parallel&quot;,-18,ANGLEUNIT[&quot;degree&quot;,0.0174532925199433],ID[&quot;EPSG&quot;,8823]],PARAMETER[&quot;Latitude of 2nd standard parallel&quot;,-36,ANGLEUNIT[&quot;degree&quot;,0.0174532925199433],ID[&quot;EPSG&quot;,8824]],PARAMETER[&quot;Easting at false origin&quot;,0,LENGTHUNIT[&quot;metre&quot;,1],ID[&quot;EPSG&quot;,8826]],PARAMETER[&quot;Northing at false origin&quot;,0,LENGTHUNIT[&quot;metre&quot;,1],ID[&quot;EPSG&quot;,8827]]],CS[Cartesian,2],AXIS[&quot;easting&quot;,east,ORDER[1],LENGTHUNIT[&quot;metre&quot;,1]],AXIS[&quot;northing&quot;,north,ORDER[2],LENGTHUNIT[&quot;metre&quot;,1]],ID[&quot;EPSG&quot;,3577]]</dd><dt><span>semi_major_axis :</span></dt><dd>6378137.0</dd><dt><span>semi_minor_axis :</span></dt><dd>6356752.314140356</dd><dt><span>inverse_flattening :</span></dt><dd>298.257222101</dd><dt><span>reference_ellipsoid_name :</span></dt><dd>GRS 1980</dd><dt><span>longitude_of_prime_meridian :</span></dt><dd>0.0</dd><dt><span>prime_meridian_name :</span></dt><dd>Greenwich</dd><dt><span>geographic_crs_name :</span></dt><dd>GDA94</dd><dt><span>horizontal_datum_name :</span></dt><dd>Geocentric Datum of Australia 1994</dd><dt><span>projected_crs_name :</span></dt><dd>GDA94 / Australian Albers</dd><dt><span>grid_mapping_name :</span></dt><dd>albers_conical_equal_area</dd><dt><span>standard_parallel :</span></dt><dd>(-18.0, -36.0)</dd><dt><span>latitude_of_projection_origin :</span></dt><dd>0.0</dd><dt><span>longitude_of_central_meridian :</span></dt><dd>132.0</dd><dt><span>false_easting :</span></dt><dd>0.0</dd><dt><span>false_northing :</span></dt><dd>0.0</dd></dl></div><div class='xr-var-data'><pre>array(3577, dtype=int32)</pre></div></li></ul></div></li><li class='xr-section-item'><input id='section-e80c229b-15c4-4f2e-8646-a3eacd7702e6' class='xr-section-summary-in' type='checkbox'  ><label for='section-e80c229b-15c4-4f2e-8646-a3eacd7702e6' class='xr-section-summary' >Indexes: <span>(2)</span></label><div class='xr-section-inline-details'></div><div class='xr-section-details'><ul class='xr-var-list'><li class='xr-var-item'><div class='xr-index-name'><div>y</div></div><div class='xr-index-preview'>PandasIndex</div><div></div><input id='index-a5c4d76a-9fe9-4b3e-8f8f-393c1ccc220c' class='xr-index-data-in' type='checkbox'/><label for='index-a5c4d76a-9fe9-4b3e-8f8f-393c1ccc220c' title='Show/Hide index repr'><svg class='icon xr-icon-database'><use xlink:href='#icon-database'></use></svg></label><div class='xr-index-data'><pre>PandasIndex(Float64Index([-3968115.0, -3968145.0, -3968175.0, -3968205.0, -3968235.0,\n",
       "              -3968265.0, -3968295.0, -3968325.0, -3968355.0, -3968385.0,\n",
       "              ...\n",
       "              -3971625.0, -3971655.0, -3971685.0, -3971715.0, -3971745.0,\n",
       "              -3971775.0, -3971805.0, -3971835.0, -3971865.0, -3971895.0],\n",
       "             dtype=&#x27;float64&#x27;, name=&#x27;y&#x27;, length=127))</pre></div></li><li class='xr-var-item'><div class='xr-index-name'><div>x</div></div><div class='xr-index-preview'>PandasIndex</div><div></div><input id='index-54ac5f7a-803e-4224-ac6f-dc0f164887ce' class='xr-index-data-in' type='checkbox'/><label for='index-54ac5f7a-803e-4224-ac6f-dc0f164887ce' title='Show/Hide index repr'><svg class='icon xr-icon-database'><use xlink:href='#icon-database'></use></svg></label><div class='xr-index-data'><pre>PandasIndex(Float64Index([1089525.0, 1089555.0, 1089585.0, 1089615.0, 1089645.0, 1089675.0,\n",
       "              1089705.0, 1089735.0, 1089765.0, 1089795.0, 1089825.0, 1089855.0,\n",
       "              1089885.0, 1089915.0, 1089945.0, 1089975.0, 1090005.0, 1090035.0,\n",
       "              1090065.0, 1090095.0, 1090125.0, 1090155.0, 1090185.0, 1090215.0,\n",
       "              1090245.0, 1090275.0, 1090305.0, 1090335.0, 1090365.0, 1090395.0,\n",
       "              1090425.0, 1090455.0, 1090485.0, 1090515.0, 1090545.0, 1090575.0,\n",
       "              1090605.0, 1090635.0, 1090665.0, 1090695.0, 1090725.0, 1090755.0,\n",
       "              1090785.0, 1090815.0, 1090845.0, 1090875.0, 1090905.0, 1090935.0,\n",
       "              1090965.0, 1090995.0, 1091025.0, 1091055.0, 1091085.0, 1091115.0,\n",
       "              1091145.0, 1091175.0, 1091205.0, 1091235.0, 1091265.0, 1091295.0,\n",
       "              1091325.0],\n",
       "             dtype=&#x27;float64&#x27;, name=&#x27;x&#x27;))</pre></div></li></ul></div></li><li class='xr-section-item'><input id='section-f6a9ffc9-04a6-4c2a-871d-b05c0123373f' class='xr-section-summary-in' type='checkbox' disabled ><label for='section-f6a9ffc9-04a6-4c2a-871d-b05c0123373f' class='xr-section-summary'  title='Expand/collapse section'>Attributes: <span>(0)</span></label><div class='xr-section-inline-details'></div><div class='xr-section-details'><dl class='xr-attrs'></dl></div></li></ul></div></div>"
      ],
      "text/plain": [
       "<xarray.DataArray (y: 127, x: 61)>\n",
       "array([[False, False, False, ..., False, False, False],\n",
       "       [False, False, False, ..., False, False, False],\n",
       "       [False, False, False, ..., False, False, False],\n",
       "       ...,\n",
       "       [False, False, False, ..., False, False, False],\n",
       "       [False, False, False, ..., False, False, False],\n",
       "       [False, False, False, ..., False, False, False]])\n",
       "Coordinates:\n",
       "  * y            (y) float64 -3.968e+06 -3.968e+06 ... -3.972e+06 -3.972e+06\n",
       "  * x            (x) float64 1.09e+06 1.09e+06 1.09e+06 ... 1.091e+06 1.091e+06\n",
       "    spatial_ref  int32 3577"
      ]
     },
     "execution_count": 16,
     "metadata": {},
     "output_type": "execute_result"
    }
   ],
   "source": [
    "poly_raster"
   ]
  },
  {
   "cell_type": "code",
   "execution_count": 17,
   "id": "a34752eb-4f34-4177-9527-ba836ec746da",
   "metadata": {},
   "outputs": [],
   "source": [
    "# TCW\n",
    "output_rast['wet'].values[:] = wet.values.astype(float)\n",
    "for name in rast_names[:3]:\n",
    "    output_rast[name].values[wet.values] = 0"
   ]
  },
  {
   "cell_type": "code",
   "execution_count": 18,
   "id": "2f9df7df-a790-4db3-8798-6a8549f4effc",
   "metadata": {},
   "outputs": [],
   "source": [
    "# WO\n",
    "output_rast['water'].values[:] = open_water.values.astype(float)\n",
    "for name in rast_names[:4]:\n",
    "    output_rast[name].values[open_water.values] = 0"
   ]
  },
  {
   "cell_type": "code",
   "execution_count": 19,
   "id": "ac7997cb-8ed8-4014-8d65-474c9fb3bf67",
   "metadata": {},
   "outputs": [],
   "source": [
    "ds_wit = xr.Dataset(output_rast).where(mask)"
   ]
  },
  {
   "cell_type": "code",
   "execution_count": 20,
   "id": "07ec1b2d-4c5d-4ba7-b379-8ba13f47e0cc",
   "metadata": {},
   "outputs": [
    {
     "data": {
      "text/plain": [
       "<bound method Mapping.values of <xarray.Dataset>\n",
       "Dimensions:      (time: 12, y: 127, x: 61)\n",
       "Coordinates:\n",
       "  * time         (time) datetime64[ns] 2014-10-04T00:09:25.149376 ... 2014-12...\n",
       "  * y            (y) float64 -3.968e+06 -3.968e+06 ... -3.972e+06 -3.972e+06\n",
       "  * x            (x) float64 1.09e+06 1.09e+06 1.09e+06 ... 1.091e+06 1.091e+06\n",
       "    spatial_ref  int32 3577\n",
       "Data variables:\n",
       "    pv           (time, y, x) float64 nan nan nan nan nan ... nan nan nan nan\n",
       "    npv          (time, y, x) float64 nan nan nan nan nan ... nan nan nan nan\n",
       "    bs           (time, y, x) float64 nan nan nan nan nan ... nan nan nan nan\n",
       "    wet          (time, y, x) float64 nan nan nan nan nan ... nan nan nan nan\n",
       "    water        (time, y, x) float64 nan nan nan nan nan ... nan nan nan nan>"
      ]
     },
     "execution_count": 20,
     "metadata": {},
     "output_type": "execute_result"
    }
   ],
   "source": [
    "ds_wit.values"
   ]
  },
  {
   "cell_type": "markdown",
   "id": "ba218604-715b-4703-93f3-2c3a353bcf1d",
   "metadata": {},
   "source": [
    "Mask entire observations where the polygon is more than 10% masked:"
   ]
  },
  {
   "cell_type": "code",
   "execution_count": 21,
   "id": "61522110-95ad-44ea-8ba4-ed92967f59aa",
   "metadata": {},
   "outputs": [],
   "source": [
    "pc_missing = (~mask).where(poly_raster).mean(dim=['x', 'y'])"
   ]
  },
  {
   "cell_type": "code",
   "execution_count": 22,
   "id": "eca64dc8-4cb6-4ffc-bd4a-acbf4a2383ab",
   "metadata": {},
   "outputs": [],
   "source": [
    "ds_wit = ds_wit.where(pc_missing < 0.1)"
   ]
  },
  {
   "cell_type": "markdown",
   "id": "bccb56a7-9096-4168-8c91-233ef4fc9cac",
   "metadata": {},
   "source": [
    "The WIT results are now computed. All that's left is to normalise them."
   ]
  },
  {
   "cell_type": "markdown",
   "id": "4e8a9bef-fe1d-4577-8b1f-49928010963d",
   "metadata": {},
   "source": [
    "## Normalise WIT result example"
   ]
  },
  {
   "cell_type": "code",
   "execution_count": 23,
   "id": "72ba16a8-167b-40f1-a7b8-aad40088fc82",
   "metadata": {},
   "outputs": [],
   "source": [
    "# A polygon has 11 pixels\n",
    "\n",
    "\n",
    "# [cloud][water][wet][wet][wet][wet][wet][wet][wet][wet][vegetation]\n",
    "#   |      |        |                                        |\n",
    "#   |      |        |                                        |\n",
    "#   |      |        |__> wet = 8/10 = 80%                    |__> pv/npv/bs == 1/10 = 10%\n",
    "#   |      |\n",
    "#   |      |__> water = 1/10 = 10% \n",
    "#   |\n",
    "#   |__> pc_missing = 1/11 ~+ 9.1%"
   ]
  },
  {
   "cell_type": "code",
   "execution_count": 24,
   "id": "a27d6e27-ea31-45cf-bb9a-28430e7022ed",
   "metadata": {},
   "outputs": [],
   "source": [
    "# The vegetation pixel relative np, npv, and bs values\n",
    "\n",
    "# [vegetation]\n",
    "#      |\n",
    "#      |__> [pv] [npv] [bs]\n",
    "#           [ 5] [  4] [ 2]"
   ]
  },
  {
   "cell_type": "code",
   "execution_count": 25,
   "id": "10925264-68d5-4c33-8adb-a28807cce17b",
   "metadata": {},
   "outputs": [
    {
     "name": "stdout",
     "output_type": "stream",
     "text": [
      "The pv is 0.05 \n",
      "The npv is 0.04 \n",
      "The bs is 0.02 \n",
      "The overall number is 1.01\n"
     ]
    }
   ],
   "source": [
    "# Assume vegetation relative values are:\n",
    "\n",
    "water = 0.1\n",
    "wet = 0.8\n",
    "\n",
    "pv = 0.05\n",
    "npv = 0.04\n",
    "bs = 0.02\n",
    "\n",
    "vegetation_area = 1 - water - wet\n",
    "\n",
    "vegetation_overall_value = pv + npv + bs\n",
    "\n",
    "print(f\"The pv is {pv} \\nThe npv is {npv} \\nThe bs is {bs} \\nThe overall number is {water + wet + pv + npv + bs}\")"
   ]
  },
  {
   "cell_type": "raw",
   "id": "efa19dec-1cf2-46e0-9be6-f71acece57a5",
   "metadata": {},
   "source": [
    "The overall number is greater than 1. Let us normalise the result. The water and wet are pixel classification result, so we should not touch them."
   ]
  },
  {
   "cell_type": "code",
   "execution_count": 26,
   "id": "9d780390-f5b5-47ce-bf26-c63d9f65a216",
   "metadata": {},
   "outputs": [],
   "source": [
    "pv = pv/vegetation_overall_value*vegetation_area\n",
    "npv = npv/vegetation_overall_value*vegetation_area\n",
    "bs = bs/vegetation_overall_value*vegetation_area"
   ]
  },
  {
   "cell_type": "code",
   "execution_count": 27,
   "id": "e65545df-be1e-46c7-bdff-6635338b7a4e",
   "metadata": {},
   "outputs": [
    {
     "name": "stdout",
     "output_type": "stream",
     "text": [
      "The normalised pv is 0.04545454545454545 \n",
      "The normalised npv is 0.036363636363636355 \n",
      "The normalised bs is 0.018181818181818177 \n",
      "The normalised overall number is 1.0\n"
     ]
    }
   ],
   "source": [
    "print(f\"The normalised pv is {pv} \\nThe normalised npv is {npv} \\nThe normalised bs is {bs} \\nThe normalised overall number is {water + wet + pv + npv + bs}\")"
   ]
  },
  {
   "cell_type": "code",
   "execution_count": 28,
   "id": "6c47cf6d-80e2-4d0c-9dee-d7919bf9eea7",
   "metadata": {},
   "outputs": [],
   "source": [
    "# covert ds_wit: XArray.Dataset to polygon_base_df: pandas.DataFrame\n",
    "# Then we can reuse the following codes in dea-conflux stack step\n",
    "\n",
    "polygon_base_df = pd.DataFrame()\n",
    "polygon_base_df['date'] = ds_wit.time.values\n",
    "\n",
    "for band in rast_names:\n",
    "    polygon_base_df[band] = ds_wit[band].mean(dim=['x', 'y'])"
   ]
  },
  {
   "cell_type": "code",
   "execution_count": 29,
   "id": "047e3800-8abb-4178-8a61-50aa4bd4b844",
   "metadata": {},
   "outputs": [],
   "source": [
    "def normalise_wit(polygon_base_df):\n",
    "    # ignore high pixel missing timestamp result\n",
    "    polygon_base_df = polygon_base_df.dropna(subset=['bs'])\n",
    "    \n",
    "    # 1. compute the expected vegetation area total size: 1 - water (%) - wet (%)    \n",
    "    polygon_base_df.loc[:, \"veg_areas\"] = 1 - polygon_base_df['water'] - polygon_base_df['wet']\n",
    "    \n",
    "    # 2. normalse the vegetation values based on vegetation size (to handle FC values more than 100 issue)\n",
    "    # WARNNING: Not touch the water and wet, cause they are pixel classification result\n",
    "    polygon_base_df.loc[:, \"overall_veg_num\"] = polygon_base_df['pv'] + polygon_base_df['npv'] + polygon_base_df['bs']\n",
    "    \n",
    "    # 3. if the overall_veg_num is 0, no need to normalize veg area\n",
    "    norm_veg_index = polygon_base_df[\"overall_veg_num\"] != 0\n",
    "    \n",
    "    for band in [\"bs\", \"pv\", \"npv\"]:\n",
    "        polygon_base_df.loc[:, \"norm_\" + band] = polygon_base_df.loc[:, band]\n",
    "        polygon_base_df.loc[norm_veg_index, \"norm_\" + band] = (\n",
    "            polygon_base_df.loc[norm_veg_index, band]\n",
    "            / polygon_base_df.loc[norm_veg_index, \"overall_veg_num\"]\n",
    "            * polygon_base_df.loc[norm_veg_index, \"veg_areas\"]\n",
    "        )\n",
    "    \n",
    "    # convert the string to Python datetime format, easy to do display the result in PNG\n",
    "    polygon_base_df.loc[:, \"date\"] = pd.to_datetime(polygon_base_df[\"date\"], infer_datetime_format=True)\n",
    "    \n",
    "    polygon_base_df.reset_index(inplace=True)\n",
    "    \n",
    "    return polygon_base_df"
   ]
  },
  {
   "cell_type": "code",
   "execution_count": 30,
   "id": "ce2a1dcf-ea24-4e25-810f-1f5060c229c4",
   "metadata": {},
   "outputs": [
    {
     "name": "stderr",
     "output_type": "stream",
     "text": [
      "/tmp/ipykernel_251/2125865703.py:6: SettingWithCopyWarning: \n",
      "A value is trying to be set on a copy of a slice from a DataFrame.\n",
      "Try using .loc[row_indexer,col_indexer] = value instead\n",
      "\n",
      "See the caveats in the documentation: https://pandas.pydata.org/pandas-docs/stable/user_guide/indexing.html#returning-a-view-versus-a-copy\n",
      "  polygon_base_df.loc[:, \"veg_areas\"] = 1 - polygon_base_df['water'] - polygon_base_df['wet']\n",
      "/tmp/ipykernel_251/2125865703.py:10: SettingWithCopyWarning: \n",
      "A value is trying to be set on a copy of a slice from a DataFrame.\n",
      "Try using .loc[row_indexer,col_indexer] = value instead\n",
      "\n",
      "See the caveats in the documentation: https://pandas.pydata.org/pandas-docs/stable/user_guide/indexing.html#returning-a-view-versus-a-copy\n",
      "  polygon_base_df.loc[:, \"overall_veg_num\"] = polygon_base_df['pv'] + polygon_base_df['npv'] + polygon_base_df['bs']\n",
      "/tmp/ipykernel_251/2125865703.py:16: SettingWithCopyWarning: \n",
      "A value is trying to be set on a copy of a slice from a DataFrame.\n",
      "Try using .loc[row_indexer,col_indexer] = value instead\n",
      "\n",
      "See the caveats in the documentation: https://pandas.pydata.org/pandas-docs/stable/user_guide/indexing.html#returning-a-view-versus-a-copy\n",
      "  polygon_base_df.loc[:, \"norm_\" + band] = polygon_base_df.loc[:, band]\n",
      "/tmp/ipykernel_251/2125865703.py:17: SettingWithCopyWarning: \n",
      "A value is trying to be set on a copy of a slice from a DataFrame.\n",
      "Try using .loc[row_indexer,col_indexer] = value instead\n",
      "\n",
      "See the caveats in the documentation: https://pandas.pydata.org/pandas-docs/stable/user_guide/indexing.html#returning-a-view-versus-a-copy\n",
      "  polygon_base_df.loc[norm_veg_index, \"norm_\" + band] = (\n",
      "/tmp/ipykernel_251/2125865703.py:16: SettingWithCopyWarning: \n",
      "A value is trying to be set on a copy of a slice from a DataFrame.\n",
      "Try using .loc[row_indexer,col_indexer] = value instead\n",
      "\n",
      "See the caveats in the documentation: https://pandas.pydata.org/pandas-docs/stable/user_guide/indexing.html#returning-a-view-versus-a-copy\n",
      "  polygon_base_df.loc[:, \"norm_\" + band] = polygon_base_df.loc[:, band]\n",
      "/tmp/ipykernel_251/2125865703.py:17: SettingWithCopyWarning: \n",
      "A value is trying to be set on a copy of a slice from a DataFrame.\n",
      "Try using .loc[row_indexer,col_indexer] = value instead\n",
      "\n",
      "See the caveats in the documentation: https://pandas.pydata.org/pandas-docs/stable/user_guide/indexing.html#returning-a-view-versus-a-copy\n",
      "  polygon_base_df.loc[norm_veg_index, \"norm_\" + band] = (\n",
      "/tmp/ipykernel_251/2125865703.py:16: SettingWithCopyWarning: \n",
      "A value is trying to be set on a copy of a slice from a DataFrame.\n",
      "Try using .loc[row_indexer,col_indexer] = value instead\n",
      "\n",
      "See the caveats in the documentation: https://pandas.pydata.org/pandas-docs/stable/user_guide/indexing.html#returning-a-view-versus-a-copy\n",
      "  polygon_base_df.loc[:, \"norm_\" + band] = polygon_base_df.loc[:, band]\n",
      "/tmp/ipykernel_251/2125865703.py:17: SettingWithCopyWarning: \n",
      "A value is trying to be set on a copy of a slice from a DataFrame.\n",
      "Try using .loc[row_indexer,col_indexer] = value instead\n",
      "\n",
      "See the caveats in the documentation: https://pandas.pydata.org/pandas-docs/stable/user_guide/indexing.html#returning-a-view-versus-a-copy\n",
      "  polygon_base_df.loc[norm_veg_index, \"norm_\" + band] = (\n",
      "/tmp/ipykernel_251/2125865703.py:24: SettingWithCopyWarning: \n",
      "A value is trying to be set on a copy of a slice from a DataFrame.\n",
      "Try using .loc[row_indexer,col_indexer] = value instead\n",
      "\n",
      "See the caveats in the documentation: https://pandas.pydata.org/pandas-docs/stable/user_guide/indexing.html#returning-a-view-versus-a-copy\n",
      "  polygon_base_df.loc[:, \"date\"] = pd.to_datetime(polygon_base_df[\"date\"], infer_datetime_format=True)\n",
      "/tmp/ipykernel_251/2125865703.py:24: DeprecationWarning: In a future version, `df.iloc[:, i] = newvals` will attempt to set the values inplace instead of always setting a new array. To retain the old behavior, use either `df[df.columns[i]] = newvals` or, if columns are non-unique, `df.isetitem(i, newvals)`\n",
      "  polygon_base_df.loc[:, \"date\"] = pd.to_datetime(polygon_base_df[\"date\"], infer_datetime_format=True)\n"
     ]
    }
   ],
   "source": [
    "polygon_base_df = normalise_wit(polygon_base_df)"
   ]
  },
  {
   "cell_type": "code",
   "execution_count": 31,
   "id": "f6006a61-919e-4b1c-834b-9fe008f677d2",
   "metadata": {},
   "outputs": [],
   "source": [
    "def generate_low_quality_data_periods(df):\n",
    "    # the generate_low_quality is: SLC off period: https://www.usgs.gov/faqs/what-landsat-7-etm-slc-data\n",
    "    # and periods with an observation density of less than four observations within a twelve month (365 days) period\n",
    "    \n",
    "    # default: all data points are good\n",
    "    df.loc[:, \"off_value\"] = 0\n",
    "    \n",
    "    # Add the first no-data times (SLC-off only)\n",
    "    LS5_8_gap_start = datetime.datetime(2011,11,1)\n",
    "    LS5_8_gap_end = datetime.datetime(2013,4,1)\n",
    "    \n",
    "    df.loc[df[(df['date'] >= LS5_8_gap_start) & (df['date'] <= LS5_8_gap_end)].index, \"off_value\"] = 100\n",
    "    \n",
    "    # periods with an observation density of less than four observations within a twelve month (365 days) period\n",
    "    for i in range(3, len(df) - 3):               \n",
    "        # can change to another threshold (like: 100 days) to test dyanmic no-data-period display\n",
    "        if ((df.loc[i + 3, \"date\"] - df.loc[i, \"date\"]).days) > 365:\n",
    "            df.loc[df[(df['date'] >= df.loc[i, \"date\"]) & (df['date'] <= df.loc[i + 3, \"date\"])].index, \"off_value\"] = 100\n",
    "                                                         \n",
    "    return df"
   ]
  },
  {
   "cell_type": "markdown",
   "id": "de14a446-2d8c-4813-b8eb-33f5e4d6d1cc",
   "metadata": {},
   "source": [
    "## Aspatial display"
   ]
  },
  {
   "cell_type": "code",
   "execution_count": 32,
   "id": "14939bf6-8c60-44ac-8046-371a0aa2471a",
   "metadata": {},
   "outputs": [],
   "source": [
    "def display_wit_stack_with_df(polygon_base_df, polygon_name=\"ANAE_name\", width=32, height=6):\n",
    "    plt.rcParams['axes.facecolor']='white'\n",
    "    plt.rcParams['savefig.facecolor']='white'\n",
    "    plt.rcParams['text.usetex'] = False\n",
    "    \n",
    "    fig = plt.figure()\n",
    "    fig.set_size_inches(width, height)\n",
    "    ax = fig.add_subplot(111)\n",
    "    ax.autoscale(enable=True)\n",
    "\n",
    "    pal = [sns.xkcd_rgb[\"cobalt blue\"],\n",
    "           sns.xkcd_rgb[\"neon blue\"],\n",
    "           sns.xkcd_rgb[\"grass\"],\n",
    "           sns.xkcd_rgb[\"beige\"],\n",
    "           sns.xkcd_rgb[\"brown\"]]  \n",
    "\n",
    "    plt.title(f\"Percentage of area dominated by WOfS, Wetness, Fractional Cover for\\n {polygon_name}\", fontsize=16)\n",
    "    \n",
    "    ax.stackplot(polygon_base_df[\"date\"], polygon_base_df[\"water\"]*100, polygon_base_df[\"wet\"]*100, polygon_base_df[\"norm_pv\"]*100, polygon_base_df[\"norm_npv\"]*100, polygon_base_df[\"norm_bs\"]*100, colors=pal, alpha=0.7)\n",
    "\n",
    "    # manually change the legend display order\n",
    "    legend  = ax.legend([\"open water\", \"wet\", \"green veg\", \"dry veg\", \"bare soil\"][::-1], loc='lower left')\n",
    "    handles = legend.legendHandles\n",
    "    \n",
    "    for i, handle in enumerate(handles):\n",
    "        handle.set_facecolor(pal[::-1][i])\n",
    "        handle.set_alpha(0.7)\n",
    "    \n",
    "    # setup the display ranges\n",
    "    ax.set_ylim(0, 100)\n",
    "    ax.set_xlim(polygon_base_df[\"date\"].min(), polygon_base_df[\"date\"].max())\n",
    "    \n",
    "    # add a new column: 'off_value' based on low quality data setting\n",
    "    polygon_base_df = generate_low_quality_data_periods(polygon_base_df)\n",
    "    \n",
    "    ax.fill_between(polygon_base_df[\"date\"], 0, 100, where=polygon_base_df[\"off_value\"] == 100, color='white', alpha=0.5, hatch=\"//\")\n",
    "    \n",
    "    # modify the xaxis settings\n",
    "    ax.xaxis.set_major_locator(mdates.YearLocator())\n",
    "    ax.xaxis.set_major_formatter(mdates.DateFormatter('%Y'))\n",
    "    \n",
    "    x_label_text = \"The Fractional Cover algorithm developed by the Joint Remote Sensing Research Program and\\n the Water Observations from Space algorithm developed by Geoscience Australia are used in the production of this data\"\n",
    "    \n",
    "    ax.set_xlabel(x_label_text, style='italic')\n",
    "    \n",
    "    #plt.savefig(f\"{png_name}.png\", bbox_inches='tight')\n",
    "    plt.show()\n",
    "    \n",
    "    plt.close(fig)"
   ]
  },
  {
   "cell_type": "code",
   "execution_count": 33,
   "id": "1b590cd6-e642-4e6f-9cf3-e7cf3981b918",
   "metadata": {},
   "outputs": [
    {
     "name": "stderr",
     "output_type": "stream",
     "text": [
      "/tmp/ipykernel_251/1313612786.py:23: MatplotlibDeprecationWarning: The legendHandles attribute was deprecated in Matplotlib 3.7 and will be removed two minor releases later. Use legend_handles instead.\n",
      "  handles = legend.legendHandles\n"
     ]
    },
    {
     "data": {
      "image/png": "[encoded data removed]",
      "text/plain": [
       "<Figure size 3200x600 with 1 Axes>"
      ]
     },
     "metadata": {},
     "output_type": "display_data"
    }
   ],
   "source": [
    "display_wit_stack_with_df(polygon_base_df)"
   ]
  },
  {
   "cell_type": "code",
   "execution_count": null,
   "id": "ec493050-8782-4477-9550-03ad398dfbe2",
   "metadata": {},
   "outputs": [],
   "source": []
  }
 ],
 "metadata": {
  "kernelspec": {
   "display_name": "Python 3 (ipykernel)",
   "language": "python",
   "name": "python3"
  },
  "language_info": {
   "codemirror_mode": {
    "name": "ipython",
    "version": 3
   },
   "file_extension": ".py",
   "mimetype": "text/x-python",
   "name": "python",
   "nbconvert_exporter": "python",
   "pygments_lexer": "ipython3",
   "version": "3.8.10"
  },
  "widgets": {
   "application/vnd.jupyter.widget-state+json": {
    "state": {},
    "version_major": 2,
    "version_minor": 0
   }
  }
 },
 "nbformat": 4,
 "nbformat_minor": 5
}
