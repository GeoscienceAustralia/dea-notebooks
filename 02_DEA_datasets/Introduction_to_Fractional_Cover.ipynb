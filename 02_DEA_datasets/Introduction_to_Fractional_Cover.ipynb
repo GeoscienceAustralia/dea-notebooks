{
 "cells": [
  {
   "cell_type": "markdown",
   "metadata": {},
   "source": [
    "# Introduction to Fractional Cover Data  \n",
    "\n",
    "| Authors:  | Bex Dunn, Claire Krause, Arapaut Sivaprasad|\n",
    "|----------|----------------|\n",
    "| Created: | May 14, 2018 |\n",
    "| Last edited: | May 23, 2019 |\n",
    "\n",
    "**Requirements:**\n",
    "\n",
    "You need to run the following commands from the command line prior to launching jupyter notebooks from the same terminal so that the required libraries and paths are set:\n",
    "\n",
    "`module use /g/data/v10/public/modules/modulefiles` \n",
    "\n",
    "`module load dea`\n",
    "\n",
    "This notebook assumes you have cloned the dea-notebooks repository by following the instructions on [DEA notebooks using command line git](https://github.com/GeoscienceAustralia/dea-notebooks#dea-notebooks-using-command-line-git) or [DEA notebooks using Github](https://github.com/GeoscienceAustralia/dea-notebooks#dea-notebooks-using-github). If you didn't, you will need to download any scripts that fail in the first cell into your relative directory so that the notebook will have access to those scripts. `\"../\"` means the directory above the directory you are working in, and `\"./\"` means the current directory. \n",
    "\n",
    "If you find an error or bug in this notebook, please either create an 'Issue' in the Github repository, or fix it yourself and create a 'Pull' request to contribute the updated notebook back into the repository (See the repository [README](https://github.com/GeoscienceAustralia/dea-notebooks/blob/master/README.rst) for instructions on creating a Pull request).\n",
    "\n",
    "__Background:__ Data from the [Landsat](https://landsat.usgs.gov/about-landsat) 5,7 and 8 satellite missions are accessible through [Digital Earth Australia](http://www.ga.gov.au/about/projects/geographic/digital-earth-australia) (DEA). The code snippets in this notebook will let you retrieve and plot the [Fractional Cover](https://d28rz98at9flks.cloudfront.net/79676/Fractional_Cover_FC25_v1_5.PDF) (FC25) data stored in DEA.\n",
    "\n",
    "__What does this notebook do?:__ This notebook introduces Fractional Cover and demonstrates how to load and filter Fractional Cover data using the DEA datacube. The data is then saved to NetCDF and GeoTIFF for analysis elsewhere.\n",
    "\n",
    "__How to use this notebook:__\n",
    "\n",
    "A basic understanding of any programming language is desirable but one doesn't have to be an expert Python programmer to manipulate the code to get and display the data.This doc applies to the following Landsat satellites, Fractional Cover bands and the WOfS dataset:\n",
    "\n",
    "- Landsat 5\n",
    "- Landsat 7\n",
    "- Landsat 8\n",
    "- PV - Photosythetic vegetation\n",
    "- NPV - Non-Photosythetic vegetation\n",
    "- BS - Bare Soil\n",
    "- UE - Unmixing Error\n",
    "- Water Observations from Space (WOFs)\n",
    "- WOfS Feature Layer (WOFL)\n"
   ]
  },
  {
   "cell_type": "markdown",
   "metadata": {},
   "source": [
    "## What is Fractional Cover? [[1, 2](#References)]\n",
    "\n",
    "The Landsat Fractional Cover product stored in DEA is at 25m x 25m resolution (the same as the Landsat surface reflectance products).\n",
    "\n",
    "Fractional Cover represents the proportion of the land surface\n",
    "that is bare (BS), covered by photosynthetic vegetation (PV), or non-photosynthetic vegetation (NPV). \n",
    "\n",
    "The Fractional Cover product was generated using the spectral unmixing algorithm developed by the Joint Remote Sensing Research Program (JRSRP) [[2](#References)] which used the spectral signature for each pixel to break it up into three fractions, based on field work that determined the spectral characteristics of these fractions. [[1](#References)]The fractions were retrieved by inverting multiple linear regression estimates and using synthetic endmembers in a constrained non-negative least squares unmixing model.[[1](#References)]\n",
    "\n",
    "The green (PV) fraction includes leaves and grass, the non-photosynthetic fraction (NPV) includes branches, dry grass and dead leaf litter, and the bare soil (BS) fraction includes bare soil or rock.[[1](#References)]\n",
    "\n",
    "\n",
    "\n",
    "### Fractional Cover Bands: [[1](#References)]\n",
    "\n",
    "- **Bare Soil (bare ground, rock, disturbed) (BS):**  - Bare Ground (bare soil, rock) percentage; Digital Number 10000 = 100%\n",
    "\n",
    "- **Photosythetic Vegetation. (green grass, trees, etc.) (PV):**  - Photosynthetic Vegetation: Green Vegetation percentage;Digital Number 10000 = 100%\n",
    "\n",
    "- **Non-Photosythetic vegetation (litter, dead leaf and branches) (NPV):** - Non-Photosynthetic Vegetation (litter, dead leaves andbranches) percentage; Digital Number 10000 = 100%\n",
    "\n",
    "- **Unmixing Error (UE):**  - Unmixing Error. The residual error, defined as the Euclidean Norm of the Residual Vector. High values express less confidence in the fractional components.\n",
    "    \n",
    "__No Data Values:__ Fractional cover contains no data values (-1)\n",
    "we use the datacube storage function \"masking.mask_invalid_data\" to remove these from our data before using the data\n",
    "\n",
    "### Limitations, Errors and Uncertainty:\n",
    "\n",
    "__Water and soil moisture:__\n",
    "Pixels over water may show incorrect values for Photosynthetic Vegetation. [[1](#References)] Water should be masked out, maybe by using WOfS or a water index. Soil moisture may affect the accuracy of the product [[1](#References)]. \n",
    "\n",
    "__Sums greater than 100%:__\n",
    "\"Occasionally the sum of the three components is not equal to 100%. Differences are usually small and are not rounded in order to preserve what may be useful seasonal indicators. \"[[1](#References)]\n",
    "\n",
    "__Similarity between Bare Soil and NPV:__\n",
    "Model can perform badly on pixels where bare soil and NPV endmembers are similar. [[1](#References)]\n",
    "\n",
    "__Compared to field data:__\n",
    "\"Based on the comparison with the field data the FC25 product has an overall Root Mean Squared Error (RMSE) of 11.8%. The error margins vary for the three different layers: green RMSE: 11.0%, non-green RMSE: 17.4% and bare RMSE: 12.5%\" [[1](#References)]\n",
    "\n",
    "\n"
   ]
  },
  {
   "cell_type": "raw",
   "metadata": {
    "raw_mimetype": "text/restructuredtext"
   },
   "source": [
    "**Tags:** :index:`Landsats 5,7,8`, :index:`products`, :index:`Fractional Cover`, :index:`WOfS`, :index:`WOFL`,:index:`dc.list_products`, :index:`dc.load`, :index:`query`, :index:`plot`, :index:`image`, :index:`Plot Multiple Images`, index:`NetCDF`, index:`GeoTIFF`"
   ]
  },
  {
   "cell_type": "markdown",
   "metadata": {},
   "source": [
    "## How to retrieve and plot the data\n",
    "Let us go through the process step by step. This is a Python program or a HTML page derived from one.  Given below are code snippets that you can execute to perform various actions such as retrieve, display and plot the data. These snippets or 'cells' can be copied to other notebooks and reused."
   ]
  },
  {
   "cell_type": "markdown",
   "metadata": {
    "ExecuteTime": {
     "end_time": "2018-05-30T04:09:33.649054Z",
     "start_time": "2018-05-30T04:09:33.644747Z"
    }
   },
   "source": [
    "## Import modules from standard libraries, datacube and files\n",
    "Select 'Trust this notebook' to import these modules."
   ]
  },
  {
   "cell_type": "code",
   "execution_count": null,
   "metadata": {
    "ExecuteTime": {
     "start_time": "2019-05-24T06:25:13.700Z"
    },
    "init_cell": true,
    "scrolled": true
   },
   "outputs": [],
   "source": [
    "%matplotlib inline\n",
    "\n",
    "import matplotlib.gridspec as gridspec\n",
    "import matplotlib.pyplot as plt\n",
    "import numpy as np\n",
    "import os\n",
    "import sys\n",
    "\n",
    "#modules for datacube\n",
    "import datacube\n",
    "from datacube.storage import masking\n",
    "from datacube.helpers import ga_pq_fuser, write_geotiff\n",
    "\n",
    "# Import external functions from dea-notebooks\n",
    "sys.path.append('../10_Scripts/')\n",
    "import DEAPlotting, DEADataHandling\n",
    "\n",
    "#ignore datacube warnings (needs to be last import statement)\n",
    "import warnings\n",
    "warnings.filterwarnings('ignore', module='datacube')"
   ]
  },
  {
   "cell_type": "markdown",
   "metadata": {},
   "source": [
    "### See what products are currently available\n",
    "The **list_products** method in the Datacube class displays the names and details of all available products. For example, **ls8_fc_albers**, is a set of data collected by Landsat 8, processed with the Fractional Cover algorithm and stored in the Australian Albers projected coordinate system. \n",
    "\n",
    "Given below are the products that are of interest to us in the context of this document. The code given below the list will let you see ALL products in the datacube."
   ]
  },
  {
   "cell_type": "markdown",
   "metadata": {},
   "source": [
    "|id \t| name \t| description|\n",
    "|-|-|-|\n",
    "|69 \t\t| ls5_fc_albers \t| Landsat 5 Fractional Cover 25 metre, 100km til...|\n",
    "|70 \t| ls7_fc_albers \t| Landsat 7 Fractional Cover 25 metre, 100km til...|\n",
    "|71 \t| ls8_fc_albers \t| Landsat 8 Fractional Cover 25 metre, 100km til...|\n"
   ]
  },
  {
   "cell_type": "markdown",
   "metadata": {},
   "source": [
    "#### Code to display the products"
   ]
  },
  {
   "cell_type": "code",
   "execution_count": null,
   "metadata": {
    "ExecuteTime": {
     "start_time": "2019-05-24T06:25:13.711Z"
    },
    "init_cell": true
   },
   "outputs": [],
   "source": [
    "# set datacube alias (just a string with what you're doing)\n",
    "dc = datacube.Datacube(app='dc-FC')\n",
    "products = dc.list_products()\n",
    "display_columns = ['name', 'description']\n",
    "display_rows = [1]\n",
    "dc_products = products[display_columns]\n",
    "#dc_products #Uncomment this line to see all products"
   ]
  },
  {
   "cell_type": "markdown",
   "metadata": {},
   "source": [
    "### Specify the *query* with the coordinates and date range\n",
    "\n",
    "The *query* is what you are asking the datacube to return.\n",
    "\n",
    "- **lat/lon:** Latitude and longitude of the area. e.g. Canberra = 'lat': (-35.25, -35.35), 'lon': (149.05, 149.17)\n",
    "- **time:** Date range to fetch the scenes. The approximate time between two scenes is 16 days. If there is a location near a swath boundary, it may be captured in two passes and so there could be two images within the 16 day period.\n",
    "    - You must know [the date(s) for which data is available](https://data.dea.gadevs.ga/ls7_nbar_scene) for each satellite/product, so that the query can be specified correctly. \n",
    "- **scene:** The index of the scene to be plotted. If the date range is < 16 days there may only be one scene, and the index must be specified as 0."
   ]
  },
  {
   "cell_type": "code",
   "execution_count": null,
   "metadata": {
    "ExecuteTime": {
     "start_time": "2019-05-24T06:25:13.719Z"
    },
    "init_cell": true
   },
   "outputs": [],
   "source": [
    "#the query is a dictionary where the keys are the spatio-temporal specs\n",
    "query = {\n",
    "        'lat': (-35.25, -35.35),\n",
    "        'lon': (149.05, 149.17),\n",
    "        'time':('2014-01-01', '2014-01-31')\n",
    "        }"
   ]
  },
  {
   "cell_type": "markdown",
   "metadata": {},
   "source": [
    "### Now we load and look at some data\n",
    "We will focus on data from the Landsats (5,7 and 8) for this demonstration. Multiple scenes are sometimes acquired by the satellite on the same day. We want to group these together, and will use **group_by='solar_day'** to do this. To load in the data, we need only to provide the geo-coordinates and time range."
   ]
  },
  {
   "cell_type": "markdown",
   "metadata": {},
   "source": [
    "### Create a data scene object\n",
    "The return value from the load command below is an **xarray** object, which has two core data structures:\n",
    "\n",
    "- **DataArray** is a labeled, N-dimensional array. \n",
    "- **Dataset** is a multi-dimensional, in-memory array database. It is a dict-like container of DataArray objects aligned along any number of shared dimensions, and serves a similar purpose in xarray to the **pandas.DataFrame**.\n",
    "\n"
   ]
  },
  {
   "cell_type": "code",
   "execution_count": null,
   "metadata": {
    "ExecuteTime": {
     "end_time": "2019-05-24T05:59:51.830137Z",
     "start_time": "2019-05-24T05:59:48.452726Z"
    }
   },
   "outputs": [],
   "source": [
    "#load the data according to our query\n",
    "#choose a mask proportion to look for a clear timestep\n",
    "ds = DEADataHandling.load_clearlandsat(dc, query,product='fc',masked_prop=0.80)"
   ]
  },
  {
   "cell_type": "markdown",
   "metadata": {},
   "source": [
    "### Plot Fractional Cover and Unmixing Error Bands\n",
    "Note that Unmixing Error is high over water"
   ]
  },
  {
   "cell_type": "code",
   "execution_count": null,
   "metadata": {
    "ExecuteTime": {
     "end_time": "2019-05-24T05:59:51.835874Z",
     "start_time": "2019-05-24T05:59:51.832995Z"
    }
   },
   "outputs": [],
   "source": [
    "#just a scene we want to plot - this can be done other ways\n",
    "scene = 0"
   ]
  },
  {
   "cell_type": "code",
   "execution_count": null,
   "metadata": {
    "ExecuteTime": {
     "end_time": "2019-05-24T05:59:54.322989Z",
     "start_time": "2019-05-24T05:59:51.838328Z"
    }
   },
   "outputs": [],
   "source": [
    "#set up our images on a grid using gridspec\n",
    "plt.figure(figsize=(12,8))\n",
    "gs = gridspec.GridSpec(2,2) # set up a 2 x 2 grid of 4 images for better presentation\n",
    "\n",
    "ax1=plt.subplot(gs[0,0])\n",
    "ds.PV.isel(time=scene).plot(cmap='gist_earth_r')\n",
    "ax1.set_title('PV')\n",
    "\n",
    "ax2=plt.subplot(gs[1,0])\n",
    "ds.BS.isel(time=scene).plot(cmap='Oranges')\n",
    "ax2.set_title('BS')\n",
    "\n",
    "ax3=plt.subplot(gs[0,1])\n",
    "ds.NPV.isel(time=scene).plot(cmap='copper')\n",
    "ax3.set_title('NPV')\n",
    "\n",
    "ax4=plt.subplot(gs[1,1])\n",
    "ds.UE.isel(time=scene).plot(cmap='magma')\n",
    "ax4.set_title('UE')\n",
    "\n",
    "plt.tight_layout()\n",
    "plt.show()"
   ]
  },
  {
   "cell_type": "markdown",
   "metadata": {},
   "source": [
    "### We could filter using the unmixing error, but using WOfS is more robust."
   ]
  },
  {
   "cell_type": "code",
   "execution_count": null,
   "metadata": {
    "ExecuteTime": {
     "end_time": "2019-05-24T05:59:55.182188Z",
     "start_time": "2019-05-24T05:59:54.325795Z"
    }
   },
   "outputs": [],
   "source": [
    "#this image shows that you can filter using unmixing error if you wish\n",
    "plt.figure(figsize=(12,8))\n",
    "ds.UE.where(ds.UE<=20.0).isel(time=scene).plot(cmap='gist_earth_r')\n",
    "ax1.set_title('UE filtered')"
   ]
  },
  {
   "cell_type": "markdown",
   "metadata": {},
   "source": [
    "## Filter fractional cover scenes using WOfS feature layers (WOFLs) \n",
    "- Use the wofs dataset to create scene-by-scene masks to remove areas of water\n",
    "- For more information on WOfS, see the [DEA WOfS and Water Classifier Notebook](https://github.com/GeoscienceAustralia/dea-notebooks/blob/master/Image_classification/DEA_WOfS_and_water_classifier.ipynb)\n",
    "- There may be errors in the WOfS tiles until WOfS is finished "
   ]
  },
  {
   "cell_type": "markdown",
   "metadata": {
    "ExecuteTime": {
     "end_time": "2018-06-01T05:15:29.826195Z",
     "start_time": "2018-06-01T05:15:29.821682Z"
    }
   },
   "source": [
    "### load the wofs feature layers (wofls) within the same query as Fractional cover, using 'like'"
   ]
  },
  {
   "cell_type": "code",
   "execution_count": null,
   "metadata": {
    "ExecuteTime": {
     "end_time": "2019-05-24T05:59:56.764454Z",
     "start_time": "2019-05-24T05:59:55.184449Z"
    }
   },
   "outputs": [],
   "source": [
    "#load the wofs feature layers (wofls) within the same query as Fractional cover, using 'like'\n",
    "wofls = dc.load(product = 'wofs_albers', like=ds)"
   ]
  },
  {
   "cell_type": "markdown",
   "metadata": {
    "ExecuteTime": {
     "end_time": "2018-06-01T02:37:16.665404Z",
     "start_time": "2018-06-01T02:37:16.661016Z"
    }
   },
   "source": [
    "### Two ways of displaying what the values in the wofs data mean:\n",
    "WOfS uses [bit flags](http://datacube-core.readthedocs.io/en/latest/dev/api/masking.html) to flag pixels as 'wet' or otherwise"
   ]
  },
  {
   "cell_type": "code",
   "execution_count": null,
   "metadata": {
    "ExecuteTime": {
     "end_time": "2019-05-24T05:59:57.284171Z",
     "start_time": "2019-05-24T05:59:57.082013Z"
    }
   },
   "outputs": [],
   "source": [
    "masking.describe_variable_flags(wofls, with_pandas=True)"
   ]
  },
  {
   "cell_type": "code",
   "execution_count": null,
   "metadata": {
    "ExecuteTime": {
     "end_time": "2019-05-24T05:59:57.488312Z",
     "start_time": "2019-05-24T05:59:57.473658Z"
    }
   },
   "outputs": [],
   "source": [
    "for key in wofls.water.flags_definition.keys():\n",
    "    print('{}  {}'.format(key, wofls.water.flags_definition[key]))"
   ]
  },
  {
   "cell_type": "markdown",
   "metadata": {},
   "source": [
    "### Here is what the WOFL mask looks like on one timestep:"
   ]
  },
  {
   "cell_type": "code",
   "execution_count": null,
   "metadata": {
    "ExecuteTime": {
     "end_time": "2019-05-24T06:00:00.396473Z",
     "start_time": "2019-05-24T05:59:59.601173Z"
    }
   },
   "outputs": [],
   "source": [
    "wetwofl = masking.make_mask(wofls, wet=True)\n",
    "wetwofl.water.isel(time=0).plot()\n",
    "#drywofl = masking.make_mask(wofls, dry=True)\n",
    "#drywofl.water.isel(time=0).plot()"
   ]
  },
  {
   "cell_type": "code",
   "execution_count": null,
   "metadata": {
    "ExecuteTime": {
     "end_time": "2019-05-24T06:00:00.501229Z",
     "start_time": "2019-05-24T06:00:00.399490Z"
    }
   },
   "outputs": [],
   "source": [
    "#match WOFL times to our fractional cover times\n",
    "unwofld = ds.where(ds.time == wetwofl.time)\n",
    "#mask out water from fractional cover\n",
    "unwofld = unwofld.where(wetwofl.water==False)"
   ]
  },
  {
   "cell_type": "markdown",
   "metadata": {
    "ExecuteTime": {
     "end_time": "2018-06-01T05:18:43.451679Z",
     "start_time": "2018-06-01T05:18:43.448726Z"
    }
   },
   "source": [
    "### Here is what Fractional Cover looks like with WOFL removed:"
   ]
  },
  {
   "cell_type": "code",
   "execution_count": null,
   "metadata": {
    "ExecuteTime": {
     "end_time": "2019-05-24T06:00:02.889181Z",
     "start_time": "2019-05-24T06:00:01.602420Z"
    }
   },
   "outputs": [],
   "source": [
    "unwofld.PV.isel(time=0).plot()"
   ]
  },
  {
   "cell_type": "code",
   "execution_count": null,
   "metadata": {
    "ExecuteTime": {
     "end_time": "2019-05-24T06:00:03.361287Z",
     "start_time": "2019-05-24T06:00:02.891794Z"
    }
   },
   "outputs": [],
   "source": [
    "#create an RGB plot using FC components\n",
    "DEAPlotting.rgb(unwofld, bands=['BS','PV','NPV'], index=0, index_dim='time')"
   ]
  },
  {
   "cell_type": "markdown",
   "metadata": {},
   "source": [
    "![Fig 1. Fractional Cover legend](../Supplementary_data/Images/FC_legend.png)"
   ]
  },
  {
   "cell_type": "markdown",
   "metadata": {},
   "source": [
    "### Edit save file path to choose where to save your output files"
   ]
  },
  {
   "cell_type": "code",
   "execution_count": null,
   "metadata": {
    "ExecuteTime": {
     "end_time": "2019-05-24T06:00:10.998098Z",
     "start_time": "2019-05-24T06:00:10.993927Z"
    }
   },
   "outputs": [],
   "source": [
    "#save files to your home directory (add your outpath here if you want to change it)\n",
    "savefilepath = os.path.expanduser('~/')"
   ]
  },
  {
   "cell_type": "markdown",
   "metadata": {
    "ExecuteTime": {
     "end_time": "2018-05-31T00:34:17.482879Z",
     "start_time": "2018-05-31T00:34:17.479632Z"
    }
   },
   "source": [
    "## Save Fractional Cover scenes to NetCDF\n"
   ]
  },
  {
   "cell_type": "code",
   "execution_count": null,
   "metadata": {
    "ExecuteTime": {
     "end_time": "2019-05-24T06:00:12.132186Z",
     "start_time": "2019-05-24T06:00:12.120532Z"
    }
   },
   "outputs": [],
   "source": [
    "try:\n",
    "    DEADataHandling.write_your_netcdf(unwofld, 'FC25', savefilepath+'FC25'+'.nc', crs = ds.crs)\n",
    "#complain if the file already exists but don't fail    \n",
    "except RuntimeError as err:\n",
    "    print(\"RuntimeError: {0}\".format(err))\n",
    "print('wrote to netCDF' )"
   ]
  },
  {
   "cell_type": "markdown",
   "metadata": {},
   "source": [
    "## Save Fractional Cover scenes to GeoTIFF\n"
   ]
  },
  {
   "cell_type": "code",
   "execution_count": null,
   "metadata": {
    "ExecuteTime": {
     "end_time": "2019-05-24T06:00:15.448699Z",
     "start_time": "2019-05-24T06:00:14.979497Z"
    }
   },
   "outputs": [],
   "source": [
    "ds = unwofld\n",
    "#write a geotiff to file for each timestep\n",
    "if len(ds.time)==1:\n",
    "    print('one timestep')\n",
    "    #drop the time dimension for only one timestep\n",
    "    #write the dataset without the data percentage to file\n",
    "    ds1 = ds.squeeze()\n",
    "    ds1 = ds1.drop('data_perc')\n",
    "    write_geotiff(savefilepath+'FC25_'+'.tif', ds1)\n",
    "\n",
    "elif len(ds.time)>1:\n",
    "    print('multiple timesteps') \n",
    "    #remove data percentage as it breaks the geotiff writer\n",
    "    ds = ds.drop('data_perc')\n",
    "    for timestep in range(len(ds.time)):\n",
    "        try:\n",
    "            write_geotiff(savefilepath+'FC25_'+str(timestep)+'.tif', ds.isel(time =timestep))\n",
    "            #complain if the file already exists but don't fail    \n",
    "            print('wrote to GeoTIFF' )\n",
    "        except RuntimeError as err:\n",
    "            print(\"RuntimeError: {0}\".format(err))"
   ]
  },
  {
   "cell_type": "markdown",
   "metadata": {},
   "source": [
    "## References\n",
    "1. GA, 2015. *Fractional Cover (FC25) Product Description.* https://d28rz98at9flks.cloudfront.net/79676/Fractional_Cover_FC25_v1_5.PDF\n",
    "\n",
    "2. TERN Auscover, 2012. *Fractional cover - Landsat, Joint Remote Sensing Research Program algorithm, Australia coverage.* Last modified by Peter Scarth on 2017/03/24 09:53. http://data.auscover.org.au/xwiki/bin/view/Product+pages/Landsat+Fractional+Cover"
   ]
  },
  {
   "cell_type": "code",
   "execution_count": null,
   "metadata": {},
   "outputs": [],
   "source": []
  }
 ],
 "metadata": {
  "celltoolbar": "Raw Cell Format",
  "kernelspec": {
   "display_name": "Python 3",
   "language": "python",
   "name": "python3"
  },
  "language_info": {
   "codemirror_mode": {
    "name": "ipython",
    "version": 3
   },
   "file_extension": ".py",
   "mimetype": "text/x-python",
   "name": "python",
   "nbconvert_exporter": "python",
   "pygments_lexer": "ipython3",
   "version": "3.6.7"
  }
 },
 "nbformat": 4,
 "nbformat_minor": 2
}
