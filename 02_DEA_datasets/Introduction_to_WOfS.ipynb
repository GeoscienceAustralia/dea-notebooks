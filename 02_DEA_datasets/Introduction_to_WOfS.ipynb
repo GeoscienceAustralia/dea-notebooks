{
 "cells": [
  {
   "cell_type": "markdown",
   "metadata": {},
   "source": [
    "## Introduction to Water Observations from Space\n",
    "\n",
    "| Authors:  | Bex Dunn|\n",
    "|----------|----------------|\n",
    "| Created: | May 16, 2019 |\n",
    "| Last edited: | May 27, 2019 |\n",
    "\n",
    "**Requirements:**\n",
    "\n",
    "You need to run the following commands from the command line prior to launching jupyter notebooks from the same terminal so that the required libraries and paths are set:\n",
    "\n",
    "`module use /g/data/v10/public/modules/modulefiles` \n",
    "\n",
    "`module load dea`\n",
    "\n",
    "This notebook assumes you have cloned the dea-notebooks repository by following the instructions on [DEA notebooks using command line git](https://github.com/GeoscienceAustralia/dea-notebooks#dea-notebooks-using-command-line-git) or [DEA notebooks using Github](https://github.com/GeoscienceAustralia/dea-notebooks#dea-notebooks-using-github). If you didn't, you will need to download any scripts that fail in the first cell into your relative directory so that the notebook will have access to those scripts. `\"../\"` means the directory above the directory you are working in, and `\"./\"` means the current directory. \n",
    "\n",
    "If you find an error or bug in this notebook, please either create an 'Issue' in the Github repository, or fix it yourself and create a 'Pull' request to contribute the updated notebook back into the repository (See the repository [README](https://github.com/GeoscienceAustralia/dea-notebooks/blob/master/README.rst) for instructions on creating a Pull request).\n",
    "\n",
    "__Background:__ Water Observations from Space (WOfS) is a suite of Australian continental surface water products. \n",
    "\n",
    "\n",
    "|WOfS products include:||\n",
    "|----------|----------------|\n",
    "| WOfS summary | this is the all-time summary |\n",
    "|  WOfS filtered summary | the all time summary, checked against the confidence layer |\n",
    "|  WOfS seasonal summaries | summaries for seasons |\n",
    "| WOFLs (WOfS Feature Layers)|the daily WOfS slices |\n",
    " \n",
    "\n",
    "__What does this notebook do?:__ This notebook talks about the WOfS datasets and demonstrates how to retrieve and save data for a location of interest."
   ]
  },
  {
   "cell_type": "markdown",
   "metadata": {},
   "source": [
    "## What is WOfS? [[1, 2](#References)]\n",
    "\n",
    "The Water Observations from Space products are generated using the WOfS classification  algorithm. The WOfS algorithm classifies open water pixels. [1](https://doi.org/10.1016/j.rse.2015.11.003) There are several WOfS products:\n",
    "\n",
    "__WOfS Filtered Summary:__ The percentage of time a pixel was wet, with confidence. The WOfS Filtered Summary is the definitive product. It has a confidence layer and a filtered summary. The Filtered Summary is the WOfS Summary, and areas with less than 10% Confidence have been removed. [WOfS Filtered Summary Product Description](https://data.dea.ga.gov.au/WOfS/filtered_summary/v2.1.0/Product%20Description.pdf)\n",
    "\n",
    "\n",
    "__WOfS Summary:__ The percentage of time a pixel was classified as wet, using the WOfS classification algorithm. [WOfS Statistics Product Description](https://cmi.ga.gov.au/wo-stats_25_2.1.5)\n",
    "\n",
    "- Total number of clear observations for the pixel, is a count per pixel of the number of observations that were clear and either wet or dry for the time period.\n",
    "- Total number of wet observation for the pixel, is a count per pixel of the number of observations that were clear and wet for the time period.\n",
    "- Summary, is the ratio of clear wet observations to clear wet or dry observation, expressed as a percentage.\n",
    "\n",
    "\n",
    "__WOfS Seasonal Summaries:__ WOfS Summaries created for seasons \n",
    "\n",
    "__WOfLs (WOfS Feature Layers):__ WOfS Daily observations\n",
    "    \n",
    "### Limitations, Errors and Uncertainty:\n",
    "\n",
    "__Limitations:__\n",
    "\n",
    "http://www.ga.gov.au/scientific-topics/hazards/flood/wofs/about-wofs\n",
    "\n",
    "\n"
   ]
  },
  {
   "cell_type": "raw",
   "metadata": {
    "raw_mimetype": "text/restructuredtext"
   },
   "source": [
    "**Tags:** :index:`Landsats 5,7,8`, :index:`products`, :index:`WOfS`, :index:`WOFL`,:index:`dc.list_products`, :index:`dc.load`, :index:`query`, :index:`plot`, :index:`image`, :index:`Plot Multiple Images`, index:`NetCDF`, index:`GeoTIFF`"
   ]
  },
  {
   "cell_type": "markdown",
   "metadata": {},
   "source": [
    "## How to retrieve and plot the data"
   ]
  },
  {
   "cell_type": "markdown",
   "metadata": {
    "ExecuteTime": {
     "end_time": "2018-05-30T04:09:33.649054Z",
     "start_time": "2018-05-30T04:09:33.644747Z"
    }
   },
   "source": [
    "## Import modules from standard libraries, datacube and files\n",
    "Select 'Trust this notebook' to import these modules."
   ]
  },
  {
   "cell_type": "code",
   "execution_count": 1,
   "metadata": {
    "ExecuteTime": {
     "end_time": "2019-05-24T02:53:12.307836Z",
     "start_time": "2019-05-24T02:53:12.296733Z"
    },
    "init_cell": true,
    "scrolled": true
   },
   "outputs": [],
   "source": [
    "%matplotlib inline\n",
    "#get a bunch of python modules that we can use to calculate and plot\n",
    "import matplotlib.gridspec as gridspec\n",
    "import matplotlib.pyplot as plt\n",
    "import numpy as np\n",
    "import os\n",
    "import pandas as pd\n",
    "import sys\n",
    "\n",
    "#modules for datacube\n",
    "import datacube\n",
    "from datacube.utils import geometry \n",
    "from datacube.utils.geometry import CRS\n",
    "from datacube.storage import masking\n",
    "from datacube.helpers import ga_pq_fuser, write_geotiff\n",
    "from digitalearthau.utils import wofs_fuser\n",
    "#write to netcdf moved?\n",
    "\n",
    "# Import external functions from dea-notebooks\n",
    "sys.path.append('../10_Scripts/')\n",
    "import DEAPlotting, DEADataHandling\n",
    "\n",
    "#ignore datacube warnings (needs to be last import statement)\n",
    "import warnings\n",
    "warnings.filterwarnings('ignore', module='datacube')\n",
    "\n",
    "%load_ext autoreload\n",
    "\n",
    "%autoreload 2"
   ]
  },
  {
   "cell_type": "markdown",
   "metadata": {},
   "source": [
    "### Edit save file path to choose where to save your output files"
   ]
  },
  {
   "cell_type": "code",
   "execution_count": 18,
   "metadata": {},
   "outputs": [],
   "source": [
    "#save files to your home directory (add your outpath here if you want to change it)\n",
    "savefilepath = os.path.expanduser('~/')"
   ]
  },
  {
   "cell_type": "markdown",
   "metadata": {},
   "source": [
    "### WOfS products available from Digital Earth Australia as at 16/05/2019:"
   ]
  },
  {
   "cell_type": "code",
   "execution_count": 2,
   "metadata": {
    "ExecuteTime": {
     "end_time": "2019-05-24T05:53:15.329231Z",
     "start_time": "2019-05-24T05:53:15.281700Z"
    },
    "init_cell": true
   },
   "outputs": [
    {
     "data": {
      "text/html": [
       "<div>\n",
       "<style scoped>\n",
       "    .dataframe tbody tr th:only-of-type {\n",
       "        vertical-align: middle;\n",
       "    }\n",
       "\n",
       "    .dataframe tbody tr th {\n",
       "        vertical-align: top;\n",
       "    }\n",
       "\n",
       "    .dataframe thead th {\n",
       "        text-align: right;\n",
       "    }\n",
       "</style>\n",
       "<table border=\"1\" class=\"dataframe\">\n",
       "  <thead>\n",
       "    <tr style=\"text-align: right;\">\n",
       "      <th></th>\n",
       "      <th>name</th>\n",
       "      <th>description</th>\n",
       "    </tr>\n",
       "    <tr>\n",
       "      <th>id</th>\n",
       "      <th></th>\n",
       "      <th></th>\n",
       "    </tr>\n",
       "  </thead>\n",
       "  <tbody>\n",
       "    <tr>\n",
       "      <th>77</th>\n",
       "      <td>wofs_albers</td>\n",
       "      <td>Historic Flood Mapping Water Observations from Space</td>\n",
       "    </tr>\n",
       "    <tr>\n",
       "      <th>97</th>\n",
       "      <td>wofs_annual_summary</td>\n",
       "      <td>Water Observations from Space Annual Statistics</td>\n",
       "    </tr>\n",
       "    <tr>\n",
       "      <th>100</th>\n",
       "      <td>wofs_apr_oct_summary</td>\n",
       "      <td>Water Observations from Space April to October Statistics</td>\n",
       "    </tr>\n",
       "    <tr>\n",
       "      <th>85</th>\n",
       "      <td>wofs_filtered_summary</td>\n",
       "      <td>Water Observations from Space Statistics confidence filtered</td>\n",
       "    </tr>\n",
       "    <tr>\n",
       "      <th>101</th>\n",
       "      <td>wofs_nov_mar_summary</td>\n",
       "      <td>Water Observations from Space November to March Statistics</td>\n",
       "    </tr>\n",
       "    <tr>\n",
       "      <th>84</th>\n",
       "      <td>wofs_summary</td>\n",
       "      <td>Water Observations from Space Statistics</td>\n",
       "    </tr>\n",
       "  </tbody>\n",
       "</table>\n",
       "</div>"
      ],
      "text/plain": [
       "                      name  \\\n",
       "id                           \n",
       "77   wofs_albers             \n",
       "97   wofs_annual_summary     \n",
       "100  wofs_apr_oct_summary    \n",
       "85   wofs_filtered_summary   \n",
       "101  wofs_nov_mar_summary    \n",
       "84   wofs_summary            \n",
       "\n",
       "                                                      description  \n",
       "id                                                                 \n",
       "77   Historic Flood Mapping Water Observations from Space          \n",
       "97   Water Observations from Space Annual Statistics               \n",
       "100  Water Observations from Space April to October Statistics     \n",
       "85   Water Observations from Space Statistics confidence filtered  \n",
       "101  Water Observations from Space November to March Statistics    \n",
       "84   Water Observations from Space Statistics                      "
      ]
     },
     "execution_count": 2,
     "metadata": {},
     "output_type": "execute_result"
    }
   ],
   "source": [
    "# set datacube alias (just a string with what you're doing)\n",
    "dc = datacube.Datacube(app='dc-WOfS')\n",
    "#display product name and descriptions, where the name of the product contains 'wofs'\n",
    "products = dc.list_products()\n",
    "#change pandas setting to display all column contents\n",
    "pd.set_option('display.max_colwidth', -1)\n",
    "display_columns = ['name', 'description']\n",
    "dc_products = products[display_columns]\n",
    "dc_products[dc_products['name'].str.contains(\"wofs\")]"
   ]
  },
  {
   "cell_type": "markdown",
   "metadata": {},
   "source": [
    "### WOfS ancillary datasets (used to create wofs confidence)"
   ]
  },
  {
   "cell_type": "code",
   "execution_count": 3,
   "metadata": {
    "ExecuteTime": {
     "end_time": "2019-05-24T02:53:25.020123Z",
     "start_time": "2019-05-24T02:53:25.008059Z"
    },
    "init_cell": true
   },
   "outputs": [
    {
     "data": {
      "text/html": [
       "<div>\n",
       "<style scoped>\n",
       "    .dataframe tbody tr th:only-of-type {\n",
       "        vertical-align: middle;\n",
       "    }\n",
       "\n",
       "    .dataframe tbody tr th {\n",
       "        vertical-align: top;\n",
       "    }\n",
       "\n",
       "    .dataframe thead th {\n",
       "        text-align: right;\n",
       "    }\n",
       "</style>\n",
       "<table border=\"1\" class=\"dataframe\">\n",
       "  <thead>\n",
       "    <tr style=\"text-align: right;\">\n",
       "      <th></th>\n",
       "      <th>name</th>\n",
       "      <th>description</th>\n",
       "    </tr>\n",
       "    <tr>\n",
       "      <th>id</th>\n",
       "      <th></th>\n",
       "      <th></th>\n",
       "    </tr>\n",
       "  </thead>\n",
       "  <tbody>\n",
       "    <tr>\n",
       "      <th>88</th>\n",
       "      <td>dsm</td>\n",
       "      <td>dsm ancillary data for wofs confidence, 25 metre, 100km tiles, Australian Albers Equal Area projection</td>\n",
       "    </tr>\n",
       "    <tr>\n",
       "      <th>87</th>\n",
       "      <td>modis</td>\n",
       "      <td>Modis ancillary data for wofs confidence</td>\n",
       "    </tr>\n",
       "    <tr>\n",
       "      <th>86</th>\n",
       "      <td>mrvbf</td>\n",
       "      <td>MrVBF ancillary data for wofs confidence</td>\n",
       "    </tr>\n",
       "    <tr>\n",
       "      <th>89</th>\n",
       "      <td>urban_areas</td>\n",
       "      <td>urbanAreas ancillary data for wofs confidence</td>\n",
       "    </tr>\n",
       "  </tbody>\n",
       "</table>\n",
       "</div>"
      ],
      "text/plain": [
       "           name  \\\n",
       "id                \n",
       "88  dsm           \n",
       "87  modis         \n",
       "86  mrvbf         \n",
       "89  urban_areas   \n",
       "\n",
       "                                                                                               description  \n",
       "id                                                                                                          \n",
       "88  dsm ancillary data for wofs confidence, 25 metre, 100km tiles, Australian Albers Equal Area projection  \n",
       "87  Modis ancillary data for wofs confidence                                                                \n",
       "86  MrVBF ancillary data for wofs confidence                                                                \n",
       "89  urbanAreas ancillary data for wofs confidence                                                           "
      ]
     },
     "execution_count": 3,
     "metadata": {},
     "output_type": "execute_result"
    }
   ],
   "source": [
    "dc_products[dc_products['description'].str.contains(\"wofs\")]"
   ]
  },
  {
   "cell_type": "markdown",
   "metadata": {},
   "source": [
    "## Now let's load some WOfS data"
   ]
  },
  {
   "cell_type": "markdown",
   "metadata": {},
   "source": [
    "### Specify the *query* with the coordinates and date range\n",
    "\n",
    "The *query* is what you are asking the datacube to return. \n",
    "\n",
    "- **lat/lon:** Latitude and longitude of the area. e.g. Canberra = 'lat': (-35.25, -35.35), 'lon': (149.05, 149.17)\n",
    "- **time:** Date range to fetch the scenes. The approximate time between two scenes is 16 days. If there is a location near a swath boundary, it may be captured in two passes and so there could be two images within the 16 day period.\n",
    "- **buffer:* this query is set to run for a point with a buffer around it (in metres).\n",
    "- **crs:** the coordinate reference system of the query. EPSG 3577 is Australian Albers. EPSG 4326 is WGS 84 , geographic. "
   ]
  },
  {
   "cell_type": "code",
   "execution_count": 4,
   "metadata": {
    "ExecuteTime": {
     "end_time": "2019-05-24T02:55:03.864948Z",
     "start_time": "2019-05-24T02:55:03.861218Z"
    },
    "init_cell": true
   },
   "outputs": [],
   "source": [
    "# Set up analysis data query using a buffer around a lat-long point\n",
    "lat, lon, buffer = -34.71, 142.35, 5000\n",
    "x, y = geometry.point(lon, lat, CRS('WGS84')).to_crs(CRS('EPSG:3577')).points[0]\n",
    "query = {'x': (x - buffer, x + buffer),\n",
    "         'y': (y - buffer, y + buffer),    \n",
    "         #'time': ('2015-01-01', '2018-07-30'),\n",
    "         'time': ('2017-01-01', '2019-01-01'),\n",
    "         'crs': 'EPSG:3577'}"
   ]
  },
  {
   "cell_type": "code",
   "execution_count": 5,
   "metadata": {},
   "outputs": [],
   "source": [
    "#load wofs filtered summary\n",
    "wofs_filtered_summary= dc.load(product = 'wofs_filtered_summary',fuse_func=wofs_fuser, **query)"
   ]
  },
  {
   "cell_type": "markdown",
   "metadata": {},
   "source": [
    "### WOfS Filtered Summary\n",
    "The WOfS Filtered Summary is the all-time summary, and the timestamp refers to when it was created."
   ]
  },
  {
   "cell_type": "code",
   "execution_count": 6,
   "metadata": {},
   "outputs": [
    {
     "data": {
      "text/plain": [
       "<xarray.Dataset>\n",
       "Dimensions:                (time: 1, x: 400, y: 401)\n",
       "Coordinates:\n",
       "  * time                   (time) datetime64[ns] 2018-08-07T18:07:15.061571\n",
       "  * y                      (y) float64 -3.823e+06 -3.823e+06 ... -3.833e+06\n",
       "  * x                      (x) float64 9.388e+05 9.388e+05 ... 9.488e+05\n",
       "Data variables:\n",
       "    confidence             (time, y, x) float32 0.008217618 ... 0.25308982\n",
       "    wofs_filtered_summary  (time, y, x) float32 -1.0 0.0 -1.0 ... 0.0 0.0 0.0\n",
       "Attributes:\n",
       "    crs:      EPSG:3577"
      ]
     },
     "execution_count": 6,
     "metadata": {},
     "output_type": "execute_result"
    }
   ],
   "source": [
    "#print the contents of our xarray dataset\n",
    "wofs_filtered_summary"
   ]
  },
  {
   "cell_type": "markdown",
   "metadata": {},
   "source": [
    "The WOfS filtered summary has two variables: the confidence layer and the filtered summary. If we plot the WOfS filtered summary layer we can see areas that have been removed because the confidence value is below 10%  (they're blue)"
   ]
  },
  {
   "cell_type": "code",
   "execution_count": 7,
   "metadata": {},
   "outputs": [
    {
     "data": {
      "text/plain": [
       "<matplotlib.collections.QuadMesh at 0x7f3890998630>"
      ]
     },
     "execution_count": 7,
     "metadata": {},
     "output_type": "execute_result"
    },
    {
     "data": {
      "image/png": "[encoded data removed]",
      "text/plain": [
       "<Figure size 432x288 with 2 Axes>"
      ]
     },
     "metadata": {
      "needs_background": "light"
     },
     "output_type": "display_data"
    }
   ],
   "source": [
    "wofs_filtered_summary.wofs_filtered_summary.isel(time=0).plot()"
   ]
  },
  {
   "cell_type": "markdown",
   "metadata": {},
   "source": [
    "## Plot the percentage of time that this area was wet"
   ]
  },
  {
   "cell_type": "code",
   "execution_count": 20,
   "metadata": {},
   "outputs": [
    {
     "name": "stdout",
     "output_type": "stream",
     "text": [
      "xarray dataset has no spatial data; defaulting to plotting without coordinates. This can often be resolved by adding `keep_attrs = True` during an aggregation step\n"
     ]
    },
    {
     "data": {
      "image/png": "[encoded data removed]",
      "text/plain": [
       "<Figure size 720x720 with 2 Axes>"
      ]
     },
     "metadata": {
      "needs_background": "light"
     },
     "output_type": "display_data"
    }
   ],
   "source": [
    "#this contains a sneaky workaround - currently plot_WOfS is expecting values from 0 to 100\n",
    "DEAPlotting.plot_WOfS(wofs_filtered_summary.wofs_filtered_summary.isel(time=0)*100)\n",
    "#ignore the error message about spatial data.. \n",
    "#save your image\n",
    "plt.savefig(savefilepath+'WOfS_summary.png')"
   ]
  },
  {
   "cell_type": "markdown",
   "metadata": {},
   "source": [
    "## WOfS feature layers (WOFLs) "
   ]
  },
  {
   "cell_type": "markdown",
   "metadata": {
    "ExecuteTime": {
     "end_time": "2018-06-01T05:15:29.826195Z",
     "start_time": "2018-06-01T05:15:29.821682Z"
    }
   },
   "source": [
    "### load the wofs feature layers (wofls) "
   ]
  },
  {
   "cell_type": "code",
   "execution_count": 9,
   "metadata": {},
   "outputs": [],
   "source": [
    "#load wofs feature layers\n",
    "#wofls = dc.load(product = 'wofs_albers', like=ls578_ds, fuse_func=wofs_fuser)\n",
    "wofls = dc.load(product = 'wofs_albers',fuse_func=wofs_fuser, **query)"
   ]
  },
  {
   "cell_type": "code",
   "execution_count": 23,
   "metadata": {},
   "outputs": [],
   "source": [
    "### take a look at your dataset"
   ]
  },
  {
   "cell_type": "code",
   "execution_count": 21,
   "metadata": {},
   "outputs": [
    {
     "data": {
      "text/plain": [
       "<xarray.Dataset>\n",
       "Dimensions:  (time: 82, x: 400, y: 401)\n",
       "Coordinates:\n",
       "  * time     (time) datetime64[ns] 2017-01-03T00:23:28 ... 2019-01-01T00:21:04\n",
       "  * y        (y) float64 -3.823e+06 -3.823e+06 ... -3.833e+06 -3.833e+06\n",
       "  * x        (x) float64 9.388e+05 9.388e+05 9.388e+05 ... 9.487e+05 9.488e+05\n",
       "Data variables:\n",
       "    water    (time, y, x) int16 0 0 0 0 0 0 0 0 0 0 0 ... 0 0 0 0 0 0 0 0 0 0 0\n",
       "Attributes:\n",
       "    crs:      EPSG:3577"
      ]
     },
     "execution_count": 21,
     "metadata": {},
     "output_type": "execute_result"
    }
   ],
   "source": [
    "wofls"
   ]
  },
  {
   "cell_type": "markdown",
   "metadata": {
    "ExecuteTime": {
     "end_time": "2018-06-01T02:37:16.665404Z",
     "start_time": "2018-06-01T02:37:16.661016Z"
    }
   },
   "source": [
    "### Two ways of displaying what the values in the wofs data mean:\n",
    "WOfS uses [bit flags](http://datacube-core.readthedocs.io/en/latest/dev/api/masking.html) to flag pixels as 'wet' or otherwise"
   ]
  },
  {
   "cell_type": "code",
   "execution_count": 10,
   "metadata": {
    "ExecuteTime": {
     "end_time": "2019-05-24T02:55:36.084734Z",
     "start_time": "2019-05-24T02:55:36.064772Z"
    }
   },
   "outputs": [
    {
     "data": {
      "text/html": [
       "<div>\n",
       "<style scoped>\n",
       "    .dataframe tbody tr th:only-of-type {\n",
       "        vertical-align: middle;\n",
       "    }\n",
       "\n",
       "    .dataframe tbody tr th {\n",
       "        vertical-align: top;\n",
       "    }\n",
       "\n",
       "    .dataframe thead th {\n",
       "        text-align: right;\n",
       "    }\n",
       "</style>\n",
       "<table border=\"1\" class=\"dataframe\">\n",
       "  <thead>\n",
       "    <tr style=\"text-align: right;\">\n",
       "      <th></th>\n",
       "      <th>bits</th>\n",
       "      <th>values</th>\n",
       "      <th>description</th>\n",
       "    </tr>\n",
       "  </thead>\n",
       "  <tbody>\n",
       "    <tr>\n",
       "      <th>cloud</th>\n",
       "      <td>6</td>\n",
       "      <td>{'0': False, '1': True}</td>\n",
       "      <td>Cloudy</td>\n",
       "    </tr>\n",
       "    <tr>\n",
       "      <th>cloud_shadow</th>\n",
       "      <td>5</td>\n",
       "      <td>{'0': False, '1': True}</td>\n",
       "      <td>Cloud shadow</td>\n",
       "    </tr>\n",
       "    <tr>\n",
       "      <th>dry</th>\n",
       "      <td>[7, 6, 5, 4, 3, 1, 0]</td>\n",
       "      <td>{'0': True}</td>\n",
       "      <td>Clear and dry</td>\n",
       "    </tr>\n",
       "    <tr>\n",
       "      <th>high_slope</th>\n",
       "      <td>4</td>\n",
       "      <td>{'0': False, '1': True}</td>\n",
       "      <td>High slope</td>\n",
       "    </tr>\n",
       "    <tr>\n",
       "      <th>nodata</th>\n",
       "      <td>0</td>\n",
       "      <td>{'1': True}</td>\n",
       "      <td>No data</td>\n",
       "    </tr>\n",
       "    <tr>\n",
       "      <th>noncontiguous</th>\n",
       "      <td>1</td>\n",
       "      <td>{'0': False, '1': True}</td>\n",
       "      <td>At least one EO band is missing over over/undersaturated</td>\n",
       "    </tr>\n",
       "    <tr>\n",
       "      <th>sea</th>\n",
       "      <td>2</td>\n",
       "      <td>{'0': False, '1': True}</td>\n",
       "      <td>Sea</td>\n",
       "    </tr>\n",
       "    <tr>\n",
       "      <th>terrain_or_low_angle</th>\n",
       "      <td>3</td>\n",
       "      <td>{'0': False, '1': True}</td>\n",
       "      <td>Terrain shadow or low solar angle</td>\n",
       "    </tr>\n",
       "    <tr>\n",
       "      <th>water_observed</th>\n",
       "      <td>7</td>\n",
       "      <td>{'0': False, '1': True}</td>\n",
       "      <td>Classified as water by the decision tree</td>\n",
       "    </tr>\n",
       "    <tr>\n",
       "      <th>wet</th>\n",
       "      <td>[7, 6, 5, 4, 3, 1, 0]</td>\n",
       "      <td>{'128': True}</td>\n",
       "      <td>Clear and Wet</td>\n",
       "    </tr>\n",
       "  </tbody>\n",
       "</table>\n",
       "</div>"
      ],
      "text/plain": [
       "                                       bits                   values  \\\n",
       "cloud                 6                      {'0': False, '1': True}   \n",
       "cloud_shadow          5                      {'0': False, '1': True}   \n",
       "dry                   [7, 6, 5, 4, 3, 1, 0]  {'0': True}               \n",
       "high_slope            4                      {'0': False, '1': True}   \n",
       "nodata                0                      {'1': True}               \n",
       "noncontiguous         1                      {'0': False, '1': True}   \n",
       "sea                   2                      {'0': False, '1': True}   \n",
       "terrain_or_low_angle  3                      {'0': False, '1': True}   \n",
       "water_observed        7                      {'0': False, '1': True}   \n",
       "wet                   [7, 6, 5, 4, 3, 1, 0]  {'128': True}             \n",
       "\n",
       "                                                                   description  \n",
       "cloud                 Cloudy                                                    \n",
       "cloud_shadow          Cloud shadow                                              \n",
       "dry                   Clear and dry                                             \n",
       "high_slope            High slope                                                \n",
       "nodata                No data                                                   \n",
       "noncontiguous         At least one EO band is missing over over/undersaturated  \n",
       "sea                   Sea                                                       \n",
       "terrain_or_low_angle  Terrain shadow or low solar angle                         \n",
       "water_observed        Classified as water by the decision tree                  \n",
       "wet                   Clear and Wet                                             "
      ]
     },
     "execution_count": 10,
     "metadata": {},
     "output_type": "execute_result"
    }
   ],
   "source": [
    "masking.describe_variable_flags(wofls, with_pandas=True)"
   ]
  },
  {
   "cell_type": "code",
   "execution_count": 11,
   "metadata": {
    "ExecuteTime": {
     "end_time": "2019-05-24T02:53:35.237429Z",
     "start_time": "2019-05-24T02:53:35.224306Z"
    }
   },
   "outputs": [
    {
     "name": "stdout",
     "output_type": "stream",
     "text": [
      "dry  {'bits': [7, 6, 5, 4, 3, 1, 0], 'values': {'0': True}, 'description': 'Clear and dry'}\n",
      "sea  {'bits': 2, 'values': {'0': False, '1': True}, 'description': 'Sea'}\n",
      "wet  {'bits': [7, 6, 5, 4, 3, 1, 0], 'values': {'128': True}, 'description': 'Clear and Wet'}\n",
      "cloud  {'bits': 6, 'values': {'0': False, '1': True}, 'description': 'Cloudy'}\n",
      "nodata  {'bits': 0, 'values': {'1': True}, 'description': 'No data'}\n",
      "high_slope  {'bits': 4, 'values': {'0': False, '1': True}, 'description': 'High slope'}\n",
      "cloud_shadow  {'bits': 5, 'values': {'0': False, '1': True}, 'description': 'Cloud shadow'}\n",
      "noncontiguous  {'bits': 1, 'values': {'0': False, '1': True}, 'description': 'At least one EO band is missing over over/undersaturated'}\n",
      "water_observed  {'bits': 7, 'values': {'0': False, '1': True}, 'description': 'Classified as water by the decision tree'}\n",
      "terrain_or_low_angle  {'bits': 3, 'values': {'0': False, '1': True}, 'description': 'Terrain shadow or low solar angle'}\n"
     ]
    }
   ],
   "source": [
    "for key in wofls.water.flags_definition.keys():\n",
    "    print('{}  {}'.format(key, wofls.water.flags_definition[key]))"
   ]
  },
  {
   "cell_type": "markdown",
   "metadata": {},
   "source": [
    "### Here is what the WOFL mask looks like on one timestep:"
   ]
  },
  {
   "cell_type": "code",
   "execution_count": 12,
   "metadata": {
    "ExecuteTime": {
     "end_time": "2019-05-24T02:53:44.848625Z",
     "start_time": "2019-05-24T02:53:44.177691Z"
    }
   },
   "outputs": [
    {
     "data": {
      "text/plain": [
       "<matplotlib.collections.QuadMesh at 0x7f389005e860>"
      ]
     },
     "execution_count": 12,
     "metadata": {},
     "output_type": "execute_result"
    },
    {
     "data": {
      "image/png": "[encoded data removed]",
      "text/plain": [
       "<Figure size 432x288 with 2 Axes>"
      ]
     },
     "metadata": {
      "needs_background": "light"
     },
     "output_type": "display_data"
    }
   ],
   "source": [
    "wetwofl = masking.make_mask(wofls, wet=True)\n",
    "wetwofl.water.isel(time=1).plot()\n",
    "#drywofl = masking.make_mask(wofls, dry=True)\n",
    "#drywofl.water.isel(time=0).plot()"
   ]
  },
  {
   "cell_type": "markdown",
   "metadata": {
    "ExecuteTime": {
     "end_time": "2018-05-31T00:34:17.482879Z",
     "start_time": "2018-05-31T00:34:17.479632Z"
    }
   },
   "source": [
    "## Save WOfS Summary to NetCDF"
   ]
  },
  {
   "cell_type": "code",
   "execution_count": 16,
   "metadata": {
    "ExecuteTime": {
     "end_time": "2019-05-24T02:53:49.761978Z",
     "start_time": "2019-05-24T02:53:47.341450Z"
    }
   },
   "outputs": [
    {
     "name": "stdout",
     "output_type": "stream",
     "text": [
      "wrote to netCDF\n"
     ]
    }
   ],
   "source": [
    "try:\n",
    "    DEADataHandling.write_your_netcdf(wofs_filtered_summary, 'WOfS_filtered', savefilepath+'wofs_filtered_summary'+'.nc', crs = wofs_filtered_summary.crs)\n",
    "#complain if the file already exists but don't fail    \n",
    "except RuntimeError as err:\n",
    "    print(\"RuntimeError: {0}\".format(err))\n",
    "print('wrote to netCDF' )"
   ]
  },
  {
   "cell_type": "markdown",
   "metadata": {},
   "source": [
    "## Save WOfLs to GeoTIFF"
   ]
  },
  {
   "cell_type": "code",
   "execution_count": 24,
   "metadata": {
    "ExecuteTime": {
     "end_time": "2018-08-29T07:01:33.489908Z",
     "start_time": "2018-08-29T07:01:33.116695Z"
    }
   },
   "outputs": [
    {
     "name": "stdout",
     "output_type": "stream",
     "text": [
      "multiple timesteps\n",
      "wrote to GeoTIFF\n",
      "wrote to GeoTIFF\n",
      "wrote to GeoTIFF\n",
      "wrote to GeoTIFF\n",
      "wrote to GeoTIFF\n",
      "wrote to GeoTIFF\n",
      "wrote to GeoTIFF\n",
      "wrote to GeoTIFF\n",
      "wrote to GeoTIFF\n",
      "wrote to GeoTIFF\n",
      "wrote to GeoTIFF\n",
      "wrote to GeoTIFF\n",
      "wrote to GeoTIFF\n",
      "wrote to GeoTIFF\n",
      "wrote to GeoTIFF\n",
      "wrote to GeoTIFF\n",
      "wrote to GeoTIFF\n",
      "wrote to GeoTIFF\n",
      "wrote to GeoTIFF\n",
      "wrote to GeoTIFF\n",
      "wrote to GeoTIFF\n",
      "wrote to GeoTIFF\n",
      "wrote to GeoTIFF\n",
      "wrote to GeoTIFF\n",
      "wrote to GeoTIFF\n",
      "wrote to GeoTIFF\n",
      "wrote to GeoTIFF\n",
      "wrote to GeoTIFF\n",
      "wrote to GeoTIFF\n",
      "wrote to GeoTIFF\n",
      "wrote to GeoTIFF\n",
      "wrote to GeoTIFF\n",
      "wrote to GeoTIFF\n",
      "wrote to GeoTIFF\n",
      "wrote to GeoTIFF\n",
      "wrote to GeoTIFF\n",
      "wrote to GeoTIFF\n",
      "wrote to GeoTIFF\n",
      "wrote to GeoTIFF\n",
      "wrote to GeoTIFF\n",
      "wrote to GeoTIFF\n",
      "wrote to GeoTIFF\n",
      "wrote to GeoTIFF\n",
      "wrote to GeoTIFF\n",
      "wrote to GeoTIFF\n",
      "wrote to GeoTIFF\n",
      "wrote to GeoTIFF\n",
      "wrote to GeoTIFF\n",
      "wrote to GeoTIFF\n",
      "wrote to GeoTIFF\n",
      "wrote to GeoTIFF\n",
      "wrote to GeoTIFF\n",
      "wrote to GeoTIFF\n",
      "wrote to GeoTIFF\n",
      "wrote to GeoTIFF\n",
      "wrote to GeoTIFF\n",
      "wrote to GeoTIFF\n",
      "wrote to GeoTIFF\n",
      "wrote to GeoTIFF\n",
      "wrote to GeoTIFF\n",
      "wrote to GeoTIFF\n",
      "wrote to GeoTIFF\n",
      "wrote to GeoTIFF\n",
      "wrote to GeoTIFF\n",
      "wrote to GeoTIFF\n",
      "wrote to GeoTIFF\n",
      "wrote to GeoTIFF\n",
      "wrote to GeoTIFF\n",
      "wrote to GeoTIFF\n",
      "wrote to GeoTIFF\n",
      "wrote to GeoTIFF\n",
      "wrote to GeoTIFF\n",
      "wrote to GeoTIFF\n",
      "wrote to GeoTIFF\n",
      "wrote to GeoTIFF\n",
      "wrote to GeoTIFF\n",
      "wrote to GeoTIFF\n",
      "wrote to GeoTIFF\n",
      "wrote to GeoTIFF\n",
      "wrote to GeoTIFF\n",
      "wrote to GeoTIFF\n",
      "wrote to GeoTIFF\n"
     ]
    }
   ],
   "source": [
    "ds = wofls\n",
    "#write a geotiff to file for each timestep\n",
    "if len(ds.time)==1:\n",
    "    print('one timestep')\n",
    "    #drop the time dimension for only one timestep\n",
    "    #write the dataset without the data percentage to file\n",
    "    ds1 = ds.squeeze()\n",
    "    #ds1 = ds1.drop('data_perc')\n",
    "    write_geotiff(savefilepath+'WOfLs_'+'.tif', ds1)\n",
    "\n",
    "elif len(ds.time)>1:\n",
    "    print('multiple timesteps') \n",
    "    #remove data percentage as it breaks the geotiff writer\n",
    "    #ds = ds.drop('data_perc')\n",
    "    for timestep in range(len(ds.time)):\n",
    "        try:\n",
    "            write_geotiff(savefilepath+'WOfLs_'+str(timestep)+'.tif', ds.isel(time =timestep))\n",
    "            #complain if the file already exists but don't fail    \n",
    "            print('wrote to GeoTIFF' )\n",
    "        except RuntimeError as err:\n",
    "            print(\"RuntimeError: {0}\".format(err))"
   ]
  },
  {
   "cell_type": "markdown",
   "metadata": {},
   "source": [
    "## References\n",
    "1. GA, 2017. *Water Observations from Space 2.1.5 Product Description.* https://cmi.ga.gov.au/wo_25_2.1.5\n",
    "\n",
    "2. Mueller, et al. 2015., *Water observations from space: Mapping surface water from 25 years of Landsat imagery across Australia*, Remote Sensing of Environment. https://doi.org/10.1016/j.rse.2015.11.003\n",
    "\n",
    "GA, 2017. *Water Observations from Space Statistics 25m 2.1.5*, https://cmi.ga.gov.au/wo-stats_25_2.1.5\n",
    "\n",
    "\n",
    "https://github.com/GeoscienceAustralia/wofs\n",
    "\n",
    "GA, 2017. *Water Observations from Space Filtered Statistics 25m 2.1.5 Product Description*\n",
    "https://data.dea.ga.gov.au/WOfS/filtered_summary/v2.1.0/Product%20Description.pdf"
   ]
  },
  {
   "cell_type": "code",
   "execution_count": null,
   "metadata": {},
   "outputs": [],
   "source": []
  }
 ],
 "metadata": {
  "celltoolbar": "Raw Cell Format",
  "kernelspec": {
   "display_name": "Python 3",
   "language": "python",
   "name": "python3"
  },
  "language_info": {
   "codemirror_mode": {
    "name": "ipython",
    "version": 3
   },
   "file_extension": ".py",
   "mimetype": "text/x-python",
   "name": "python",
   "nbconvert_exporter": "python",
   "pygments_lexer": "ipython3",
   "version": "3.6.7"
  }
 },
 "nbformat": 4,
 "nbformat_minor": 2
}
