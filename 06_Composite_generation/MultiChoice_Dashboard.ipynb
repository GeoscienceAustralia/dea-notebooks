{
 "cells": [
  {
   "cell_type": "markdown",
   "metadata": {
    "extensions": {
     "jupyter_dashboards": {
      "version": 1,
      "views": {
       "grid_default": {
        "col": 0,
        "height": 4,
        "hidden": false,
        "row": 0,
        "width": 12
       },
       "report_default": {
        "hidden": false
       }
      }
     }
    }
   },
   "source": [
    "\n",
    "# Multi-Choice Dashboard"
   ]
  },
  {
   "cell_type": "markdown",
   "metadata": {
    "extensions": {
     "jupyter_dashboards": {
      "version": 1,
      "views": {
       "grid_default": {
        "col": 0,
        "height": 5,
        "hidden": false,
        "row": 4,
        "width": 12
       },
       "report_default": {
        "hidden": false
       }
      }
     }
    }
   },
   "source": [
    "Note: This notebook is a dashboard, check out this link to preview:\n",
    "https://nbviewer.jupyter.org/github/GeoscienceAustralia/dea-notebooks/blob/master/06_Composite_generation/MultiChoice_Dashboard.ipynb\n",
    "\n",
    "__What does this notebook do?:__ This notebook interactively creates a composite image of Landsat 8 data. You can choose to create a geomedian or a tasseled cap index composite. If you choose the tasseled cap composite, you can choose to plot the percentage exceedance, the means, the wetness summary or the standard deviations.\n",
    "You can then save the data as a png image, netcdf and geotiff.\n",
    "\n",
    "__Background:__ \n",
    "[Landsat 8](https://landsat.usgs.gov/landsat-8) data is available from April 2013 onwards. \n",
    "\n",
    "The *geometric median* ([geomedian](http://ieeexplore.ieee.org/document/8004469/)) is a spatial median composite of satellite data that can be used to look at the statistically \"average\" behavior of an area summarising the chosen time interval. The geometric median preserves relationships between spectral bands - so instead of getting an \"average\" behaviour for each band, you get an overall measure of the central tendency that works spatially, temporally and spectrally.\n",
    "\n",
    "The *Tasseled Cap Index (TCI)* is a method of reducing 6 bands of satellite data (BLUE, GREEN, RED, NIR, SWIR1, SWIR2) to 3 bands (Brightness, Greenness, Wetness) using a Principal Components Analysis and Procrustes' Rotation [(Roberts et al 2018)](##References). This notebook uses the published coefficients of [Crist 1985](##References) as applied to Digital Earth Australia's Landsat satellite data.\n",
    "\n",
    "*Tasseled cap percentage exceedance:* Percent of observations within epoch where TCI is above chosen threshold (i.e. where pixel has been 'wet' 'green or 'bright'). \n",
    "\n",
    "__Before you run this notebook:__ This notebook uses the dea statistics module. You need to run \"module load dea\" in a terminal window and then launch jupyter notebooks in the same window so that your notebook can 'see' the stats module.\n",
    "\n",
    "\n",
    "__Date:__ June 2018\n",
    "\n",
    "__Authors:__ Bex Dunn, Vanessa Newey, Erin Telfer"
   ]
  },
  {
   "cell_type": "raw",
   "metadata": {
    "ExecuteTime": {
     "end_time": "2018-06-22T02:05:09.928696Z",
     "start_time": "2018-06-22T02:05:09.922746Z"
    },
    "extensions": {
     "jupyter_dashboards": {
      "version": 1,
      "views": {
       "grid_default": {
        "hidden": true
       },
       "report_default": {
        "hidden": true
       }
      }
     }
    },
    "raw_mimetype": "text/restructuredtext"
   },
   "source": [
    "Tags: :index:`Landsat8`, :index:`geomedian`, :index:`shapefile`, :index:`ipywidgets`, :index:`Geotiff`, :index:`tasseled_cap`, :index:`TCWstats`, :index:`pct_exceedance`, :index:`NetCDF`, :index:`polygondrill`, :index:`DrawnPolygon`, :index:`SelectFileButton`"
   ]
  },
  {
   "cell_type": "markdown",
   "metadata": {
    "ExecuteTime": {
     "end_time": "2018-02-13T03:40:16.537685Z",
     "start_time": "2018-02-13T03:40:16.535248Z"
    },
    "extensions": {
     "jupyter_dashboards": {
      "version": 1,
      "views": {
       "grid_default": {
        "col": 0,
        "height": 4,
        "hidden": false,
        "row": 9,
        "width": 4
       },
       "report_default": {
        "hidden": true
       }
      }
     }
    }
   },
   "source": [
    "### Import modules from standard libraries, datacube and files\n",
    "Select 'Trust this notebook' to import these modules and run the dashboard."
   ]
  },
  {
   "cell_type": "code",
   "execution_count": 3,
   "metadata": {
    "ExecuteTime": {
     "end_time": "2019-01-17T03:21:07.885114Z",
     "start_time": "2019-01-17T03:21:04.440510Z"
    },
    "extensions": {
     "jupyter_dashboards": {
      "version": 1,
      "views": {
       "grid_default": {
        "hidden": true
       },
       "report_default": {
        "hidden": true
       }
      }
     }
    },
    "init_cell": true
   },
   "outputs": [],
   "source": [
    "#import standard libraries\n",
    "import datetime #for widget date validation\n",
    "import fiona\n",
    "import numpy as np\n",
    "import os\n",
    "import pandas as pd\n",
    "import rasterio\n",
    "import sys\n",
    "import xarray as xr\n",
    "from ipywidgets import interact #for widgets\n",
    "from IPython.display import display\n",
    "import ipywidgets as widgets\n",
    "import matplotlib.pyplot as plt\n",
    "from matplotlib.pyplot import imshow\n",
    "from mpl_toolkits.axes_grid1 import make_axes_locatable\n",
    "import rasterio.features\n",
    "import shapely.geometry\n",
    "\n",
    "\n",
    "#modules for datacube and dea stats\n",
    "import datacube \n",
    "from datacube.helpers import ga_pq_fuser, write_geotiff\n",
    "from datacube.storage import masking\n",
    "from datacube.storage.masking import mask_to_dict\n",
    "from datacube.storage.storage import write_dataset_to_netcdf\n",
    "from datacube_stats.statistics import GeoMedian, TCWStats\n",
    "\n",
    "from datacube.utils import geometry\n",
    "# set datacube alias\n",
    "dc = datacube.Datacube(app='dc-tcw and geomedian')\n",
    "\n",
    "# Import external functions from dea-notebooks\n",
    "sys.path.append(os.path.expanduser('~/dea-notebooks/10_Scripts/'))\n",
    "import DEAPlotting, DEADataHandling\n",
    "from FileDialogs import *\n",
    "\n",
    "#ignore datacube warnings (needs to be last import statement)\n",
    "import warnings\n",
    "warnings.filterwarnings('ignore', module='datacube')\n",
    "\n",
    "#set global variables for widgets\n",
    "global GEOM\n",
    "global NBART\n",
    "global NBART_GM\n",
    "global NBART_TC\n",
    "global OUTPUT_STAT\n",
    "global OUTPUT_STAT_NAME\n",
    "global SHAPE_NAME\n",
    "GEOM = None\n",
    "OUTPUT_STAT=None\n",
    "OUTPUT_STAT_NAME=None\n",
    "NBART = None\n",
    "NBART_GM = None\n",
    "NBART_TC = None\n",
    "SHAPE_NAME =None"
   ]
  },
  {
   "cell_type": "markdown",
   "metadata": {
    "ExecuteTime": {
     "end_time": "2018-02-14T02:31:06.265607Z",
     "start_time": "2018-02-14T02:31:06.263057Z"
    },
    "extensions": {
     "jupyter_dashboards": {
      "version": 1,
      "views": {
       "grid_default": {
        "col": 4,
        "height": 4,
        "hidden": false,
        "row": 13,
        "width": 4
       },
       "report_default": {
        "hidden": false
       }
      }
     }
    }
   },
   "source": [
    "### Select a shape file for your area of analysis\n",
    " - Shape file can be selected by __either__ choosing a file __or__ by drawing a polygon below\n",
    " - __Note:__ if area is larger than 20km x 20km or time period is long, notebook may run out of memory"
   ]
  },
  {
   "cell_type": "code",
   "execution_count": null,
   "metadata": {
    "ExecuteTime": {
     "end_time": "2018-06-22T01:43:38.910848Z",
     "start_time": "2018-06-22T01:43:38.895567Z"
    },
    "extensions": {
     "jupyter_dashboards": {
      "version": 1,
      "views": {
       "grid_default": {
        "hidden": true
       },
       "report_default": {
        "hidden": false
       }
      }
     }
    },
    "init_cell": true
   },
   "outputs": [],
   "source": [
    "#code to work with an input polygon\n",
    "style = {'description_width': 'initial'}\n",
    "shape_file = '/g/data1a/r78/rjd547/groundwater_activities/Burdekin/Burdekin_shapefiles/fels_sml.shp'\n",
    "shape_file_text = widgets.Text(value=shape_file,placeholder='choose a file',\n",
    "    description='path to shape file',\n",
    "    style = {'description_width': 'initial'},                          \n",
    "    disabled=False,\n",
    "    layout=widgets.Layout(width='70%'))\n",
    "def handle_shape_file(sender):\n",
    "    shape_file=shape_file_text.value\n",
    "shape_file_text.observe(handle_shape_file)\n",
    "#display(shape_file_text)"
   ]
  },
  {
   "cell_type": "markdown",
   "metadata": {
    "extensions": {
     "jupyter_dashboards": {
      "version": 1,
      "views": {
       "grid_default": {},
       "report_default": {
        "hidden": false
       }
      }
     }
    }
   },
   "source": [
    "### Use the select file button to choose a shape file"
   ]
  },
  {
   "cell_type": "code",
   "execution_count": null,
   "metadata": {
    "ExecuteTime": {
     "end_time": "2018-06-22T01:43:39.825873Z",
     "start_time": "2018-06-22T01:43:39.798629Z"
    },
    "extensions": {
     "jupyter_dashboards": {
      "version": 1,
      "views": {
       "grid_default": {
        "hidden": true
       },
       "report_default": {
        "hidden": false
       }
      }
     }
    },
    "init_cell": true
   },
   "outputs": [],
   "source": [
    "f = SelectFileButton()\n",
    "def handle_file_selector(sender):\n",
    "    shape_file_text.value = f.file\n",
    "f.on_click(handle_file_selector)\n",
    "display(widgets.HBox([shape_file_text,f],disabled=False))\n"
   ]
  },
  {
   "cell_type": "markdown",
   "metadata": {
    "ExecuteTime": {
     "end_time": "2018-03-20T01:14:23.748553Z",
     "start_time": "2018-03-20T01:14:23.745003Z"
    },
    "extensions": {
     "jupyter_dashboards": {
      "version": 1,
      "views": {
       "grid_default": {
        "col": 4,
        "height": 4,
        "hidden": false,
        "row": 25,
        "width": 4
       },
       "report_default": {
        "hidden": false
       }
      }
     }
    }
   },
   "source": [
    "### Use the check shapefile button to check if the chosen shapefile is valid"
   ]
  },
  {
   "cell_type": "code",
   "execution_count": 10,
   "metadata": {
    "ExecuteTime": {
     "end_time": "2018-06-22T01:43:42.181656Z",
     "start_time": "2018-06-22T01:43:42.164122Z"
    },
    "extensions": {
     "jupyter_dashboards": {
      "version": 1,
      "views": {
       "grid_default": {
        "col": 8,
        "height": 4,
        "hidden": false,
        "row": 26,
        "width": 4
       },
       "report_default": {
        "hidden": false
       }
      }
     }
    }
   },
   "outputs": [
    {
     "data": {
      "application/vnd.jupyter.widget-view+json": {
       "model_id": "adf525e25e45445094febb7f561643ef",
       "version_major": 2,
       "version_minor": 0
      },
      "text/plain": [
       "Button(description='Check shapefile', style=ButtonStyle(), tooltip='Click me')"
      ]
     },
     "metadata": {},
     "output_type": "display_data"
    }
   ],
   "source": [
    "button =widgets.Button(\n",
    "    description='Check shapefile',\n",
    "    disabled=False,\n",
    "    button_style='', # 'success', 'info', 'warning', 'danger' or ''\n",
    "    tooltip='Click me',\n",
    ")\n",
    "\n",
    "def on_button_clicked(b):\n",
    "    #check whether shapefile is a valid shapefile and exists\n",
    "    if not os.path.isfile(shape_file_text.value):\n",
    "        print('this is not a shapefile')\n",
    "    else:\n",
    "        try:\n",
    "            with fiona.open(shape_file_text.value, 'r') as input:\n",
    "            # check that the file type is a shapefile\n",
    "                if input.driver == 'ESRI Shapefile':\n",
    "                    global GEOM\n",
    "                    global SHAPE_NAME\n",
    "                    GEOM, SHAPE_NAME = DEADataHandling.open_polygon_from_shapefile(shape_file_text.value)\n",
    "                    print (\"Specified file is a shapefile!\")\n",
    "                else:\n",
    "                    print (\"NOT a shapefile!\")\n",
    "        except:\n",
    "            print (\"NOT a shapefile!\")\n",
    "\n",
    "    #shapes = fiona.open(shape_file)\n",
    "button.on_click(on_button_clicked)\n",
    "display(button)"
   ]
  },
  {
   "cell_type": "markdown",
   "metadata": {
    "ExecuteTime": {
     "end_time": "2018-03-20T01:14:23.748553Z",
     "start_time": "2018-03-20T01:14:23.745003Z"
    },
    "extensions": {
     "jupyter_dashboards": {
      "version": 1,
      "views": {
       "grid_default": {
        "hidden": false
       },
       "report_default": {
        "hidden": false
       }
      }
     }
    }
   },
   "source": [
    "### Alternatively, draw a polygon on the map below\n",
    "After the polygon is drawn, select 'DrawnPolygon' below figure to use the polygon."
   ]
  },
  {
   "cell_type": "code",
   "execution_count": 11,
   "metadata": {
    "ExecuteTime": {
     "end_time": "2018-06-22T01:43:44.367624Z",
     "start_time": "2018-06-22T01:43:44.181100Z"
    },
    "extensions": {
     "jupyter_dashboards": {
      "version": 1,
      "views": {
       "grid_default": {},
       "report_default": {
        "hidden": false
       }
      }
     }
    },
    "scrolled": false
   },
   "outputs": [
    {
     "name": "stderr",
     "output_type": "stream",
     "text": [
      "/g/data/v10/public/modules/dea-env/20180405/lib/python3.6/site-packages/ipykernel_launcher.py:89: DeprecationWarning: on_trait_change is deprecated in traitlets 4.1: use observe instead\n"
     ]
    },
    {
     "data": {
      "application/vnd.jupyter.widget-view+json": {
       "model_id": "2efccb5675a54867be48156bf302be56",
       "version_major": 2,
       "version_minor": 0
      },
      "text/plain": [
       "VBox(children=(HBox(children=(Map(basemap={'url': 'https://{s}.tile.openstreetmap.org/{z}/{x}/{y}.png', 'max_z…"
      ]
     },
     "metadata": {},
     "output_type": "display_data"
    }
   ],
   "source": [
    "from ipyleaflet import (\n",
    "    Map,\n",
    "    Marker,\n",
    "    TileLayer, ImageOverlay,\n",
    "    Polyline, Polygon, Rectangle, Circle, CircleMarker,\n",
    "    GeoJSON,\n",
    "    DrawControl,\n",
    "    basemaps\n",
    ")\n",
    "\n",
    "\n",
    "from traitlets import link\n",
    "import ipywidgets as widgets\n",
    "from datacube.utils import geometry\n",
    "#center = [-12.543839666237682, 131.08474731445315]\n",
    "center =[-20.0183,145.3134]\n",
    "zoom = 10\n",
    "\n",
    "\n",
    "m = Map(center=center, zoom=zoom,layout=dict(width='400px', height='400px'))\n",
    "\n",
    "#Let's draw a second map \n",
    "\n",
    "m2 = Map(center=center, zoom=zoom, basemap=basemaps.Esri.WorldImagery,layout=m.layout)\n",
    "\n",
    "\n",
    "# Now create the DrawControls and add it to the Maps using add_control. \n",
    "# We also register handlers for draw events. These will fire when a polygon is drawn created, edited or deleted \n",
    "# (there are the actions). The geo_json argument is the serialized geometry of the drawn path, \n",
    "# along with its embedded style.\n",
    "\n",
    "draw_control = DrawControl(polyline={})\n",
    "draw_control2 = DrawControl(polygon={'shapeOptions': {'color': '#0000FF'}}, polyline={})\n",
    "def handle_draw(self, action, geo_json):\n",
    "    if action == 'created':\n",
    "        m2.add_layer(GeoJSON(data=draw_control.last_draw))\n",
    "        draw_control2.last_draw =draw_control.last_draw\n",
    "    if action == 'deleted':\n",
    "        while len(m2.layers)>1:\n",
    "            m2.remove_layer(m2.layers[1])\n",
    "\n",
    "def handle_draw2(self, action, geo_json):\n",
    "    \n",
    "    if action == 'created':\n",
    "        m.add_layer(GeoJSON(data=draw_control2.last_draw))\n",
    "        draw_control.last_draw =draw_control2.last_draw\n",
    "    if action == 'deleted':\n",
    "        while len(m.layers)>1:\n",
    "            m.remove_layer(m.layers[1])\n",
    "            \n",
    "#add handlers to draw controls  \n",
    "draw_control.on_draw(handle_draw)\n",
    "draw_control2.on_draw(handle_draw2)\n",
    "\n",
    "#add draw controls to maps\n",
    "m.add_control(draw_control)\n",
    "m2.add_control(draw_control2)\n",
    "\n",
    "#We can use link to synchronize traitlets of the two maps:\n",
    "\n",
    "map_center_link = link((m, 'center'), (m2, 'center'))\n",
    "map_zoom_link = link((m, 'zoom'), (m2, 'zoom'))\n",
    "\n",
    "#use_map_geom_button = widgets.Button(description=\"Use Drawn Geom\")\n",
    "\n",
    "use_map_geom_button = widgets.ToggleButtons(\n",
    "    options=['Shapefile', 'DrawnPolygon'],\n",
    "    description='Geometry Used for Datacube Query:',\n",
    "    disabled=False,\n",
    "    button_style='', # 'success', 'info', 'warning', 'danger' or ''\n",
    "    tooltips=['Use Shapefile Specified for the DC query', 'Use Polygon Drawn on the Map for the DC query'],\n",
    "#     icons=['check'] * 3\n",
    ")\n",
    "\n",
    "def on_map_button_click(b):\n",
    "    global GEOM\n",
    "    global SHAPE_NAME\n",
    "    #Leaflet return geometry in EPSG:4326\n",
    "    geom_crs = geometry.CRS('EPSG:4326') \n",
    "    if use_map_geom_button.value == \"Shapefile\":\n",
    "        GEOM, SHAPE_NAME = DEADataHandling.open_polygon_from_shapefile(shape_file_text.value)\n",
    "    else:\n",
    "        try:\n",
    "            GEOM=geometry.Geometry(draw_control.last_draw['geometry'], geom_crs)\n",
    "            SHAPE_NAME = \"drawn_polygon\"\n",
    "        except:\n",
    "            print(\"Draw a polygon first.\")\n",
    "\n",
    "use_map_geom_button.on_trait_change(on_map_button_click)\n",
    "\n",
    "\n",
    "from ipywidgets import HBox, VBox\n",
    "h_box= HBox([m,m2])\n",
    "\n",
    "VBox([h_box,use_map_geom_button])"
   ]
  },
  {
   "cell_type": "markdown",
   "metadata": {
    "extensions": {
     "jupyter_dashboards": {
      "version": 1,
      "views": {
       "grid_default": {
        "col": 4,
        "height": 4,
        "hidden": false,
        "row": 21,
        "width": 4
       },
       "report_default": {
        "hidden": false
       }
      }
     }
    }
   },
   "source": [
    "### Fill in boxes to select time period of interest\n",
    "Press the 'Check dates' button to check that the time period is valid"
   ]
  },
  {
   "cell_type": "code",
   "execution_count": 12,
   "metadata": {
    "ExecuteTime": {
     "end_time": "2018-06-22T01:43:48.170867Z",
     "start_time": "2018-06-22T01:43:48.094359Z"
    },
    "extensions": {
     "jupyter_dashboards": {
      "version": 1,
      "views": {
       "grid_default": {
        "col": 4,
        "height": 5,
        "hidden": false,
        "row": 29,
        "width": 4
       },
       "report_default": {
        "hidden": false
       }
      }
     }
    }
   },
   "outputs": [
    {
     "data": {
      "application/vnd.jupyter.widget-view+json": {
       "model_id": "85606c05dec44a80a969a979aec24e02",
       "version_major": 2,
       "version_minor": 0
      },
      "text/plain": [
       "HBox(children=(Text(value='2013-05-01', description='start date', placeholder='update this field YYYY-MM-DD'),…"
      ]
     },
     "metadata": {},
     "output_type": "display_data"
    },
    {
     "data": {
      "application/vnd.jupyter.widget-view+json": {
       "model_id": "6b6d9a1cf4394a6bbfe74922470441b6",
       "version_major": 2,
       "version_minor": 0
      },
      "text/plain": [
       "HBox(children=(Text(value='2013-10-31', description='end date', placeholder='update this field YYYY-MM-DD'), L…"
      ]
     },
     "metadata": {},
     "output_type": "display_data"
    },
    {
     "data": {
      "application/vnd.jupyter.widget-view+json": {
       "model_id": "30d2a5c19896454897ae398c661269e4",
       "version_major": 2,
       "version_minor": 0
      },
      "text/plain": [
       "Button(description='Check dates', style=ButtonStyle(), tooltip='Click me')"
      ]
     },
     "metadata": {},
     "output_type": "display_data"
    }
   ],
   "source": [
    "#Set a standard time range for people to change as desired\n",
    "start_of_epoch = '2013-05-01'\n",
    "end_of_epoch =  '2013-10-31'\n",
    "\n",
    "#create a date picker widget for the start date\n",
    "from_date_picker = widgets.Text(value=start_of_epoch,\n",
    "                                placeholder='update this field YYYY-MM-DD',\n",
    "    description='start date',\n",
    "    disabled=False)\n",
    "\n",
    "#define a function to check the start date\n",
    "def handle_from_date(sender):\n",
    "    '''takes the start of epoch date from the date picker and checks it is in the \n",
    "    correct format'''\n",
    "    start_of_epoch=from_date_picker.value\n",
    "    validate(start_of_epoch)\n",
    "    \n",
    "#when you press enter this runs the event handler (handle_from_date)    \n",
    "from_date_picker.on_submit(handle_from_date)\n",
    "\n",
    "#create a date picker widget for the end date\n",
    "to_date_picker = widgets.Text(value = end_of_epoch,\n",
    "                              placeholder='update this field YYYY-MM-DD',\n",
    "    description='end date',\n",
    "    disabled=False)\n",
    "\n",
    "def handle_to_date(sender):\n",
    "    '''takes the end of epoch date from the date picker and checks it is in the \n",
    "    correct format'''\n",
    "    end_of_epoch = to_date_picker.value\n",
    "    validate(end_of_epoch)\n",
    "    \n",
    "#when you press enter this runs the event handler (handle_to_date)    \n",
    "to_date_picker.on_submit(handle_to_date)\n",
    "\n",
    "#make a validation button to validate the dates\n",
    "#first write the function the button runs\n",
    "def validate(date_text):\n",
    "    '''this function checks to see whether your text is year-month-day formatted'''\n",
    "    try:\n",
    "        datetime.datetime.strptime(date_text, '%Y-%m-%d')\n",
    "        return True    \n",
    "    except ValueError:\n",
    "        return False\n",
    "    \n",
    "#make the button run the function to check the dates\n",
    "button_epoch =widgets.Button(\n",
    "    description='Check dates',\n",
    "    disabled=False,\n",
    "    button_style='', # 'success', 'info', 'warning', 'danger' or ''\n",
    "    tooltip='Click me',\n",
    ")\n",
    "\n",
    "#This widget prints whether or not your start date is valid\n",
    "starttextwidget = widgets.Label(\n",
    "value='Is my start date valid?'\n",
    ")\n",
    "\n",
    "#This widget prints whether or not your end date is valid\n",
    "endtextwidget = widgets.Label(\n",
    "value='Is my end date valid?'\n",
    ")\n",
    "\n",
    "#this is the event handler for when you click on the button\n",
    "def on_button_end_epoch_clicked(button):\n",
    "    '''check whether the dates are in the format we need'''\n",
    "    if not validate(to_date_picker.value):\n",
    "        endtextwidget.value = ('Incorrect data format, should be YYYY-MM-DD')\n",
    "    else:\n",
    "        validate(to_date_picker.value)\n",
    "        endtextwidget.value = ('End date is valid')\n",
    "        \n",
    " \n",
    "    if not validate(from_date_picker.value):\n",
    "        starttextwidget.value = ('Incorrect data format, should be YYYY-MM-DD')\n",
    "    else:\n",
    "        validate(from_date_picker.value)\n",
    "        starttextwidget.value = ('Start date is valid')\n",
    "        start_of_epoch = from_date_picker.value\n",
    "    \n",
    "    \n",
    "button_epoch.on_click(on_button_end_epoch_clicked)\n",
    "\n",
    "#display widgets next to each other\n",
    "end_hbox = widgets.HBox([to_date_picker, endtextwidget])\n",
    "start_hbox = widgets.HBox([from_date_picker, starttextwidget])\n",
    "display(start_hbox,end_hbox)\n",
    "display(button_epoch)"
   ]
  },
  {
   "cell_type": "markdown",
   "metadata": {
    "extensions": {
     "jupyter_dashboards": {
      "version": 1,
      "views": {
       "grid_default": {
        "col": 8,
        "height": 4,
        "hidden": false,
        "row": 9,
        "width": 4
       },
       "report_default": {
        "hidden": false
       }
      }
     }
    }
   },
   "source": [
    "### Load the data\n",
    "\n",
    "Push the 'Load data' button.\n",
    "This may take a few minutes, please be patient. "
   ]
  },
  {
   "cell_type": "code",
   "execution_count": 13,
   "metadata": {
    "ExecuteTime": {
     "end_time": "2018-06-22T01:43:49.947921Z",
     "start_time": "2018-06-22T01:43:49.931453Z"
    },
    "extensions": {
     "jupyter_dashboards": {
      "version": 1,
      "views": {
       "grid_default": {},
       "report_default": {
        "hidden": false
       }
      }
     }
    }
   },
   "outputs": [
    {
     "data": {
      "application/vnd.jupyter.widget-view+json": {
       "model_id": "5f8a0121589f454fb35fd4e34a49eea8",
       "version_major": 2,
       "version_minor": 0
      },
      "text/plain": [
       "Button(description='Load', style=ButtonStyle())"
      ]
     },
     "metadata": {},
     "output_type": "display_data"
    },
    {
     "name": "stdout",
     "output_type": "stream",
     "text": [
      "Loading ls8_nbart_albers\n",
      "Loaded ls8_nbart_albers\n",
      "Generating mask ls8_pq_albers\n",
      "Data loaded\n"
     ]
    }
   ],
   "source": [
    "loadButton = widgets.Button(description=\"Load\")\n",
    "\n",
    "def on_load_button_clicked(b):\n",
    "    start_of_epoch = from_date_picker.value\n",
    "    end_of_epoch = to_date_picker.value\n",
    "    global GEOM\n",
    "    global SHAPE_NAME\n",
    "    global NBART\n",
    "    if GEOM is None:\n",
    "        GEOM, SHAPE_NAME = DEADataHandling.open_polygon_from_shapefile(shape_file_text.value)\n",
    "\n",
    "    query = {\n",
    "        'time': (start_of_epoch, end_of_epoch), 'geopolygon': GEOM,\n",
    "    }\n",
    "\n",
    "    sensor3_nbart, crs, affine=DEADataHandling.load_nbarx(dc,sensor='ls8', query=query)\n",
    "    \n",
    "    NBART=sensor3_nbart.sortby('time')\n",
    "    \n",
    "    print(\"Data loaded\")\n",
    "\n",
    "loadButton.on_click(on_load_button_clicked)\n",
    "display(loadButton)"
   ]
  },
  {
   "cell_type": "code",
   "execution_count": 19,
   "metadata": {
    "ExecuteTime": {
     "end_time": "2018-06-22T01:45:41.122056Z",
     "start_time": "2018-06-22T01:45:25.847088Z"
    },
    "extensions": {
     "jupyter_dashboards": {
      "version": 1,
      "views": {
       "grid_default": {},
       "report_default": {
        "hidden": false
       }
      }
     }
    }
   },
   "outputs": [
    {
     "data": {
      "application/vnd.jupyter.widget-view+json": {
       "model_id": "72f7278b42f7443e826b4638e7e8f24f",
       "version_major": 2,
       "version_minor": 0
      },
      "text/plain": [
       "interactive(children=(ToggleButtons(description='Click selection to calculate stats:', options=('Geomedian', '…"
      ]
     },
     "metadata": {},
     "output_type": "display_data"
    }
   ],
   "source": [
    "#use_map_geom_button = widgets.Button(description=\"Use Drawn Geom\")\n",
    "\n",
    "calculate_button = widgets.ToggleButtons(\n",
    "    options=['Geomedian', 'Tasselled Cap'],\n",
    "    description='Click selection to calculate stats:',\n",
    "    disabled=False,\n",
    "    button_style='', # 'success', 'info', 'warning', 'danger' or ''\n",
    "    tooltips=['Calculate Geomedian', 'Calculate Tasselled Cap Stats'],\n",
    "#     icons=['check'] * 3\n",
    ")\n",
    "\n",
    "@interact\n",
    "def clicked(a=calculate_button):\n",
    "    if NBART is not None:\n",
    "        if a == 'Geomedian':\n",
    "            #geomedian transform\n",
    "            print('Calculating Geomedian')\n",
    "            global NBART_GM\n",
    "            NBART_GM=GeoMedian().compute(NBART)\n",
    "            print('Geomedian Calculated')\n",
    "        else:\n",
    "            global NBART_TC\n",
    "            print('Calculating Tasselled Cap Stats')\n",
    "            NBART_TC=TCWStats().compute(NBART)\n",
    "            print('Tasselled Cap Stats Calculated')        "
   ]
  },
  {
   "cell_type": "markdown",
   "metadata": {
    "ExecuteTime": {
     "end_time": "2018-02-14T23:04:02.682868Z",
     "start_time": "2018-02-14T23:04:02.678022Z"
    },
    "extensions": {
     "jupyter_dashboards": {
      "version": 1,
      "views": {
       "grid_default": {
        "col": 0,
        "height": 4,
        "hidden": false,
        "row": 18,
        "width": 4
       },
       "report_default": {
        "hidden": false
       }
      }
     }
    }
   },
   "source": [
    "### Plot the stat composite in RGB:"
   ]
  },
  {
   "cell_type": "code",
   "execution_count": 18,
   "metadata": {
    "ExecuteTime": {
     "end_time": "2018-06-22T01:44:44.034242Z",
     "start_time": "2018-06-22T01:44:43.995431Z"
    },
    "extensions": {
     "jupyter_dashboards": {
      "version": 1,
      "views": {
       "grid_default": {
        "col": 8,
        "height": 9,
        "hidden": false,
        "row": 13,
        "width": 4
       },
       "report_default": {
        "hidden": false
       }
      }
     }
    },
    "scrolled": false
   },
   "outputs": [
    {
     "data": {
      "application/vnd.jupyter.widget-view+json": {
       "model_id": "94765b50d48a4c8f9985d7ea215e284f",
       "version_major": 2,
       "version_minor": 0
      },
      "text/plain": [
       "interactive(children=(RadioButtons(description='Plot Which Stat?', options=('Geomedian', 'TCWetness Summary', …"
      ]
     },
     "metadata": {},
     "output_type": "display_data"
    }
   ],
   "source": [
    "plotButton = widgets.RadioButtons(description=\"Plot Which Stat?\", \n",
    "                                 options=['Geomedian','TCWetness Summary','TCI RGB Summary','TCI means RGB',\n",
    "                                         'TCI std dev RGB'])\n",
    "@interact\n",
    "def on_plot_button_click(b=plotButton):\n",
    "    global NBART\n",
    "    global NBART_GM\n",
    "    global NBART_TC\n",
    "    if NBART is not None:\n",
    "        if b == 'Geomedian':\n",
    "            if NBART_GM is not None:\n",
    "                DEAPlotting.three_band_image(NBART_GM, title='Geomedian composite', contrast_enhance=True)\n",
    "            else:\n",
    "                print('Please calculate Geomedian first')\n",
    "        else:\n",
    "            if NBART_TC is None:\n",
    "                print('Please calculate Tasselled Cap Stats first')\n",
    "            else:\n",
    "                if b == 'TCWetness Summary':\n",
    "                    plt.figure(figsize=(10,10))\n",
    "                    ax = plt.gca()\n",
    "                    im = ax.imshow(NBART_TC.pct_exceedance_wetness, cmap='gist_earth_r',vmin=0,vmax=1)\n",
    "                    # create an axes on the right side of ax. The width of cax will be 5%\n",
    "                    # of ax and the padding between cax and ax will be fixed at 0.05 inch.\n",
    "                    divider = make_axes_locatable(ax)\n",
    "                    cax = divider.append_axes(\"right\", size=\"3%\", pad=0.2)\n",
    "                    plt.colorbar(im, cax=cax)\n",
    "                    plt.show()\n",
    "                if b == 'TCI RGB Summary':\n",
    "                    DEAPlotting.three_band_image(NBART_TC, bands=['pct_exceedance_brightness', \n",
    "                                                                  'pct_exceedance_greenness',\n",
    "                                                                  'pct_exceedance_wetness'],\n",
    "                                                 title=str(b),reflect_stand=1) #0.1 for high contrast)\n",
    "                if b == 'TCI means RGB':\n",
    "                    DEAPlotting.three_band_image(NBART_TC, bands=['mean_brightness', \n",
    "                                                                  'mean_greenness',\n",
    "                                                                  'mean_wetness'],\n",
    "                                                 title=str(b),contrast_enhance=True)\n",
    "                if b == 'TCI std dev RGB':\n",
    "                    DEAPlotting.three_band_image(NBART_TC, bands=['std_brightness', \n",
    "                                                                  'std_greenness',\n",
    "                                                                  'std_wetness'],\n",
    "                                                 title=str(b),contrast_enhance=True)  \n",
    "            \n",
    "    "
   ]
  },
  {
   "cell_type": "code",
   "execution_count": 17,
   "metadata": {
    "ExecuteTime": {
     "end_time": "2018-06-22T01:44:31.269078Z",
     "start_time": "2018-06-22T01:44:31.233651Z"
    },
    "extensions": {
     "jupyter_dashboards": {
      "version": 1,
      "views": {
       "grid_default": {},
       "report_default": {
        "hidden": false
       }
      }
     }
    }
   },
   "outputs": [
    {
     "data": {
      "application/vnd.jupyter.widget-view+json": {
       "model_id": "df0765972c3b4f6db73a538327a51135",
       "version_major": 2,
       "version_minor": 0
      },
      "text/plain": [
       "interactive(children=(RadioButtons(description='Save Which Stat?', options=('Geomedian', 'Tasselled Cap'), val…"
      ]
     },
     "metadata": {},
     "output_type": "display_data"
    }
   ],
   "source": [
    "savechoiceButton = widgets.RadioButtons(description=\"Save Which Stat?\", \n",
    "                                 options=['Geomedian','Tasselled Cap'])\n",
    "@interact\n",
    "def on_save_button_click(c=savechoiceButton):\n",
    "    global NBART\n",
    "    global NBART_GM\n",
    "    global NBART_TC\n",
    "    global OUTPUT_STAT\n",
    "    global OUTPUT_STAT_NAME\n",
    "    if NBART is not None:\n",
    "        OUTPUT_STAT_NAME = c \n",
    "        if c == 'Geomedian':\n",
    "            if NBART_GM is not None:\n",
    "                OUTPUT_STAT=NBART_GM                \n",
    "            else:\n",
    "                print('Please calculate Geomedian first')\n",
    "        else:\n",
    "            if NBART_TC is None:\n",
    "                print('Please calculate Tasselled Cap Stats first')\n",
    "            else:\n",
    "                OUTPUT_STAT=NBART_TC    "
   ]
  },
  {
   "cell_type": "markdown",
   "metadata": {
    "ExecuteTime": {
     "end_time": "2018-02-26T00:40:00.878144Z",
     "start_time": "2018-02-26T00:40:00.872800Z"
    },
    "extensions": {
     "jupyter_dashboards": {
      "version": 1,
      "views": {
       "grid_default": {
        "col": 0,
        "height": 4,
        "hidden": false,
        "row": 22,
        "width": 4
       },
       "report_default": {
        "hidden": false
       }
      }
     }
    }
   },
   "source": [
    "### Save as netcdf:"
   ]
  },
  {
   "cell_type": "code",
   "execution_count": 14,
   "metadata": {
    "ExecuteTime": {
     "end_time": "2018-06-05T02:14:34.038978Z",
     "start_time": "2018-06-05T02:14:34.021149Z"
    },
    "extensions": {
     "jupyter_dashboards": {
      "version": 1,
      "views": {
       "grid_default": {
        "col": 0,
        "height": 4,
        "hidden": false,
        "row": 26,
        "width": 4
       },
       "report_default": {
        "hidden": false
       }
      }
     }
    }
   },
   "outputs": [
    {
     "data": {
      "application/vnd.jupyter.widget-view+json": {
       "model_id": "9a62e152041a4a92862abdcac4e86be2",
       "version_major": 2,
       "version_minor": 0
      },
      "text/plain": [
       "SaveFileButton(description='Save File As', icon='square-o', style=ButtonStyle(button_color='orange'))"
      ]
     },
     "metadata": {},
     "output_type": "display_data"
    }
   ],
   "source": [
    "saveFileB = SaveFileButton()\n",
    "def handle_file_selector(sender):\n",
    "    filename =saveFileB.file\n",
    "    global OUTPUT_STAT\n",
    "    global OUTPUT_STAT_NAME\n",
    "    if OUTPUT_STAT is None:\n",
    "        print('Calculate output stats first')\n",
    "    else:    \n",
    "        DEADataHandling.write_your_netcdf(OUTPUT_STAT,OUTPUT_STAT_NAME,filename=filename, crs=OUTPUT_STAT.crs)\n",
    "        print(\"saved netcdf ...check you added a .nc to the end of your filename..\")\n",
    "saveFileB.on_click(handle_file_selector)\n",
    "display(saveFileB)\n"
   ]
  },
  {
   "cell_type": "markdown",
   "metadata": {
    "extensions": {
     "jupyter_dashboards": {
      "version": 1,
      "views": {
       "grid_default": {
        "col": 8,
        "height": 4,
        "hidden": false,
        "row": 22,
        "width": 4
       },
       "report_default": {
        "hidden": false
       }
      }
     }
    }
   },
   "source": [
    "### Save as GeoTiff:"
   ]
  },
  {
   "cell_type": "code",
   "execution_count": 21,
   "metadata": {
    "ExecuteTime": {
     "end_time": "2018-06-22T01:58:15.461653Z",
     "start_time": "2018-06-22T01:58:15.435794Z"
    },
    "extensions": {
     "jupyter_dashboards": {
      "version": 1,
      "views": {
       "grid_default": {
        "hidden": true
       },
       "report_default": {
        "hidden": false
       }
      }
     }
    }
   },
   "outputs": [
    {
     "data": {
      "application/vnd.jupyter.widget-view+json": {
       "model_id": "831a1fc838ce4d41b83f4ad40a4dcf92",
       "version_major": 2,
       "version_minor": 0
      },
      "text/plain": [
       "SaveFileButton(description='Save File As', icon='square-o', style=ButtonStyle(button_color='orange'))"
      ]
     },
     "metadata": {},
     "output_type": "display_data"
    }
   ],
   "source": [
    "saveFileB2 = SaveFileButton()\n",
    "def handle_file_selector(sender):\n",
    "    filename =saveFileB2.file\n",
    "    global OUTPUT_STAT\n",
    "    global OUTPUT_STAT_NAME\n",
    "    if OUTPUT_STAT is None:\n",
    "        print('Calculate output stats first')\n",
    "    write_geotiff(filename, OUTPUT_STAT)\n",
    "    print(\"saved geotiff, make sure you added a .tif to your filename\")\n",
    "saveFileB2.on_click(handle_file_selector)\n",
    "display(saveFileB2)\n"
   ]
  },
  {
   "cell_type": "markdown",
   "metadata": {
    "extensions": {
     "jupyter_dashboards": {
      "version": 1,
      "views": {
       "grid_default": {},
       "report_default": {
        "hidden": false
       }
      }
     }
    }
   },
   "source": [
    "## References"
   ]
  },
  {
   "cell_type": "markdown",
   "metadata": {
    "ExecuteTime": {
     "end_time": "2018-06-22T01:57:36.115951Z",
     "start_time": "2018-06-22T01:57:36.110040Z"
    },
    "extensions": {
     "jupyter_dashboards": {
      "version": 1,
      "views": {
       "grid_default": {},
       "report_default": {
        "hidden": true
       }
      }
     }
    }
   },
   "source": [
    "1. Roberts, D., Dunn,B., Mueller, N. 2018, *Open Data Cube Products Using High-Dimensional Statistics of Time Series*, in press.\n",
    "\n",
    "2. E. P. Crist, *A tm tasseled cap equivalent transformation for reflectance\n",
    "factor data*, Remote Sensing of Environment, vol. 17, no. 3, pp. 301-306, 1985."
   ]
  },
  {
   "cell_type": "code",
   "execution_count": null,
   "metadata": {
    "extensions": {
     "jupyter_dashboards": {
      "version": 1,
      "views": {
       "grid_default": {},
       "report_default": {
        "hidden": true
       }
      }
     }
    }
   },
   "outputs": [],
   "source": []
  }
 ],
 "metadata": {
  "celltoolbar": "Edit Metadata",
  "extensions": {
   "jupyter_dashboards": {
    "activeView": "report_default",
    "version": 1,
    "views": {
     "grid_default": {
      "cellMargin": 10,
      "defaultCellHeight": 20,
      "maxColumns": 12,
      "name": "grid",
      "type": "grid"
     },
     "report_default": {
      "name": "report",
      "type": "report"
     }
    }
   }
  },
  "kernelspec": {
   "display_name": "Python [default]",
   "language": "python",
   "name": "python3"
  },
  "language_info": {
   "codemirror_mode": {
    "name": "ipython",
    "version": 3
   },
   "file_extension": ".py",
   "mimetype": "text/x-python",
   "name": "python",
   "nbconvert_exporter": "python",
   "pygments_lexer": "ipython3",
   "version": "3.6.6"
  },
  "latex_envs": {
   "LaTeX_envs_menu_present": true,
   "autocomplete": true,
   "bibliofile": "biblio.bib",
   "cite_by": "apalike",
   "current_citInitial": 1,
   "eqLabelWithNumbers": true,
   "eqNumInitial": 1,
   "hotkeys": {
    "equation": "Ctrl-E",
    "itemize": "Ctrl-I"
   },
   "labels_anchors": false,
   "latex_user_defs": false,
   "report_style_numbering": false,
   "user_envs_cfg": false
  },
  "toc": {
   "nav_menu": {},
   "number_sections": true,
   "sideBar": true,
   "skip_h1_title": false,
   "toc_cell": false,
   "toc_position": {},
   "toc_section_display": "block",
   "toc_window_display": false
  },
  "widgets": {
   "application/vnd.jupyter.widget-state+json": {
    "state": {
     "003d992fc22244e6b12d1174398a1785": {
      "model_module": "@jupyter-widgets/controls",
      "model_module_version": "1.4.0",
      "model_name": "ButtonModel",
      "state": {
       "description": "File Name Specified",
       "icon": "check-square-o",
       "layout": "IPY_MODEL_1be23662c9df440881a180315be525bc",
       "style": "IPY_MODEL_a3a67448c4714d3c974a1c8a722bf851"
      }
     },
     "0047344749684eb295e38ff0f950d139": {
      "model_module": "@jupyter-widgets/controls",
      "model_module_version": "1.4.0",
      "model_name": "HBoxModel",
      "state": {
       "children": [
        "IPY_MODEL_a2ab7f3d1a1344eda9fe509e35a31bfb",
        "IPY_MODEL_d028be6fbce94d838f2d7031352186e1"
       ],
       "layout": "IPY_MODEL_d06ec96640d0453fab6baf142c344a25"
      }
     },
     "00868cd6b24747889c33f78fac5f933d": {
      "model_module": "@jupyter-widgets/controls",
      "model_module_version": "1.4.0",
      "model_name": "ButtonStyleModel",
      "state": {}
     },
     "017b6e14b13a4e58be67eda6efe75df0": {
      "model_module": "@jupyter-widgets/controls",
      "model_module_version": "1.4.0",
      "model_name": "HBoxModel",
      "state": {
       "children": [
        "IPY_MODEL_b5df241ca7b6464cb16f9383f2c70634",
        "IPY_MODEL_13902aba0fad4d20a27254c74226ed0f"
       ],
       "layout": "IPY_MODEL_be4ad48f2d204c73b8a803187837b0a5"
      }
     },
     "01819856b4294c388e18a45cddd562ee": {
      "model_module": "@jupyter-widgets/controls",
      "model_module_version": "1.4.0",
      "model_name": "ButtonStyleModel",
      "state": {
       "button_color": "orange"
      }
     },
     "018f5ff7b4dd43a88ca1f1f5a0b15a97": {
      "model_module": "jupyter-leaflet",
      "model_module_version": "~0.7.3",
      "model_name": "LeafletTileLayerModel",
      "state": {
       "_model_module_version": "~0.7.3",
       "_view_count": null,
       "_view_module_version": "~0.7.3",
       "attribution": "Tiles &copy; Esri &mdash; Source: Esri, i-cubed, USDA, USGS, AEX, GeoEye, Getmapping, Aerogrid, IGN, IGP, UPR-EGP, and the GIS User Community",
       "base": true,
       "max_zoom": 20,
       "min_zoom": 1,
       "name": "Esri.WorldImagery",
       "options": [
        "attribution",
        "detect_retina",
        "max_zoom",
        "min_zoom",
        "tile_size"
       ],
       "url": "http://server.arcgisonline.com/ArcGIS/rest/services/World_Imagery/MapServer/tile/{z}/{y}/{x}"
      }
     },
     "02303756c64a45c79f58d462fc710b36": {
      "model_module": "@jupyter-widgets/controls",
      "model_module_version": "1.4.0",
      "model_name": "TextModel",
      "state": {
       "description": "start date",
       "layout": "IPY_MODEL_476f19e1c2c34610a11ae7c6efacdf76",
       "placeholder": "update this field YYYY-MM-DD",
       "style": "IPY_MODEL_b2c59a7671f84e0397a3e6167892349d",
       "value": "2013-05-01"
      }
     },
     "02426a5cffe343fca332ec359de90725": {
      "model_module": "jupyter-leaflet",
      "model_module_version": "~0.7.3",
      "model_name": "LeafletGeoJSONModel",
      "state": {
       "_model_module_version": "~0.7.3",
       "_view_count": null,
       "_view_module_version": "~0.7.3",
       "data": {
        "geometry": {
         "coordinates": [
          [
           [
            145.342632,
            -19.91927
           ],
           [
            145.386551,
            -19.928954
           ],
           [
            145.329594,
            -19.972843
           ],
           [
            145.342632,
            -19.91927
           ]
          ]
         ],
         "type": "Polygon"
        },
        "properties": {
         "style": {
          "clickable": true,
          "color": "#3388ff",
          "fill": true,
          "fillColor": null,
          "fillOpacity": 0.2,
          "opacity": 0.5,
          "stroke": true,
          "weight": 4
         }
        },
        "type": "Feature"
       }
      }
     },
     "02adf81390d241a9b99bad485bd26a3a": {
      "model_module": "@jupyter-widgets/controls",
      "model_module_version": "1.4.0",
      "model_name": "ButtonModel",
      "state": {
       "description": "Load and Calculate",
       "layout": "IPY_MODEL_6ab9fd3fc85940608cf34db40ee9d2c8",
       "style": "IPY_MODEL_aa005fdb7a0a4e68b3d68d25d9993b39"
      }
     },
     "02f8cde5037243bcb074214c7ef3aed2": {
      "model_module": "@jupyter-widgets/base",
      "model_module_version": "1.1.0",
      "model_name": "LayoutModel",
      "state": {}
     },
     "031a107fdba04fc8b8794f64220b44bd": {
      "model_module": "@jupyter-widgets/controls",
      "model_module_version": "1.4.0",
      "model_name": "TextModel",
      "state": {
       "description": "end date",
       "layout": "IPY_MODEL_384800a964d546c8a96da2fe9e7e52eb",
       "placeholder": "update this field YYYY-MM-DD",
       "style": "IPY_MODEL_b585070c8ece4c958ae0ab3c7d4da4b5",
       "value": "2013-05-31"
      }
     },
     "033d405dfb5d475191df2b452cecd3ca": {
      "model_module": "@jupyter-widgets/controls",
      "model_module_version": "1.4.0",
      "model_name": "ButtonModel",
      "state": {
       "description": "File Selected",
       "icon": "check-square-o",
       "layout": "IPY_MODEL_c1e765ea42e24e89b0150183abc7a940",
       "style": "IPY_MODEL_2b3ae6f9161d48288f5c871b89b063b8"
      }
     },
     "0358919d268a4b608b7f6b1c4f85e846": {
      "model_module": "@jupyter-widgets/controls",
      "model_module_version": "1.4.0",
      "model_name": "ButtonStyleModel",
      "state": {}
     },
     "03e175404ff64235ab1e98121c4826fb": {
      "model_module": "@jupyter-widgets/base",
      "model_module_version": "1.1.0",
      "model_name": "LayoutModel",
      "state": {}
     },
     "03efd35eb65c4b51b60115e68c0b9127": {
      "model_module": "jupyter-leaflet",
      "model_module_version": "~0.7.3",
      "model_name": "LeafletTileLayerModel",
      "state": {
       "_model_module_version": "~0.7.3",
       "_view_count": null,
       "_view_module_version": "~0.7.3",
       "base": true,
       "max_zoom": 19,
       "min_zoom": 1,
       "options": [
        "attribution",
        "detect_retina",
        "max_zoom",
        "min_zoom",
        "tile_size"
       ]
      }
     },
     "043d78a08a144cd2b1bb1c79278622ed": {
      "model_module": "jupyter-leaflet",
      "model_module_version": "~0.7.3",
      "model_name": "LeafletDrawControlModel",
      "state": {
       "_model_module_version": "~0.7.3",
       "_view_count": null,
       "_view_module_version": "~0.7.3",
       "layer": "IPY_MODEL_05055c3c2d4743baa3a80c653272b364",
       "polygon": {
        "shapeOptions": {
         "color": "#0000FF"
        }
       },
       "polyline": {}
      }
     },
     "04549259baa04593b56e61947ee0457c": {
      "model_module": "@jupyter-widgets/base",
      "model_module_version": "1.1.0",
      "model_name": "LayoutModel",
      "state": {}
     },
     "048b9704d50a466d91dd4dd415f3e999": {
      "model_module": "@jupyter-widgets/controls",
      "model_module_version": "1.4.0",
      "model_name": "ButtonModel",
      "state": {
       "description": "Save File As",
       "icon": "square-o",
       "layout": "IPY_MODEL_d3094d37aa524703a8f8613d66c76cd2",
       "style": "IPY_MODEL_19adeb8ce198412ba404354afb105ce0"
      }
     },
     "05055c3c2d4743baa3a80c653272b364": {
      "model_module": "jupyter-leaflet",
      "model_module_version": "~0.7.3",
      "model_name": "LeafletFeatureGroupModel",
      "state": {
       "_model_module_version": "~0.7.3",
       "_view_count": null,
       "_view_module_version": "~0.7.3"
      }
     },
     "05356a59cb2d4e8fbb5421f5e6015bc3": {
      "model_module": "@jupyter-widgets/controls",
      "model_module_version": "1.4.0",
      "model_name": "ButtonModel",
      "state": {
       "description": "Select File",
       "icon": "square-o",
       "layout": "IPY_MODEL_510244072f9c484c8097c56ac4e6319e",
       "style": "IPY_MODEL_29b7911e3d83447a854f07dbacb19886"
      }
     },
     "0588b892085d40f784aa90c72a12bfad": {
      "model_module": "@jupyter-widgets/controls",
      "model_module_version": "1.4.0",
      "model_name": "DescriptionStyleModel",
      "state": {
       "description_width": ""
      }
     },
     "0659d1656af849d2a9d4bca131e5b53e": {
      "model_module": "jupyter-leaflet",
      "model_module_version": "~0.7.3",
      "model_name": "LeafletTileLayerModel",
      "state": {
       "_model_module_version": "~0.7.3",
       "_view_count": null,
       "_view_module_version": "~0.7.3",
       "base": true,
       "max_zoom": 19,
       "min_zoom": 1,
       "options": [
        "attribution",
        "detect_retina",
        "max_zoom",
        "min_zoom",
        "tile_size"
       ]
      }
     },
     "069efe48b34c4277869c50b148dfa4e0": {
      "model_module": "@jupyter-widgets/controls",
      "model_module_version": "1.4.0",
      "model_name": "ButtonModel",
      "state": {
       "description": "File Name Specified",
       "icon": "check-square-o",
       "layout": "IPY_MODEL_6e84e506076d459193a7dd485ce44a3c",
       "style": "IPY_MODEL_ed8c3d7c67884cad85df31dd37b026e7"
      }
     },
     "06a9bebf98e14bb9b8982f976fa91d3d": {
      "model_module": "@jupyter-widgets/controls",
      "model_module_version": "1.4.0",
      "model_name": "ToggleButtonsModel",
      "state": {
       "_options_labels": [
        "Shapefile",
        "DrawnPolygon"
       ],
       "button_style": "",
       "description": "Geometry Used for Datacube Query:",
       "icons": [],
       "index": 1,
       "layout": "IPY_MODEL_0f2a9ea2abc54f26adddb60cd6da27dc",
       "style": "IPY_MODEL_498d5e44c74548eb9c60c7d37cc1e153",
       "tooltips": [
        "Use Shapefile Specified for the DC query",
        "Use Polygon Drawn on the Map for the DC query"
       ]
      }
     },
     "06df7270386d4bf88c791a85831b3db4": {
      "model_module": "@jupyter-widgets/controls",
      "model_module_version": "1.4.0",
      "model_name": "TextModel",
      "state": {
       "description": "end date",
       "layout": "IPY_MODEL_8ebd8129e8eb48c493a8d4080e4645a3",
       "placeholder": "update this field YYYY-MM-DD",
       "style": "IPY_MODEL_3bf45206249846e5ae9c82a4a201f2e8",
       "value": "2013-05-31"
      }
     },
     "070cff54bfd64e5dae02e8641f550486": {
      "model_module": "@jupyter-widgets/base",
      "model_module_version": "1.1.0",
      "model_name": "LayoutModel",
      "state": {}
     },
     "075ef51ecc2d4c34a9ac1883fc38af38": {
      "model_module": "jupyter-leaflet",
      "model_module_version": "~0.7.3",
      "model_name": "LeafletMapModel",
      "state": {
       "_dom_classes": [],
       "_model_module_version": "~0.7.3",
       "_view_count": null,
       "_view_module_version": "~0.7.3",
       "basemap": {
        "attribution": "Tiles &copy; Esri &mdash; Source: Esri, i-cubed, USDA, USGS, AEX, GeoEye, Getmapping, Aerogrid, IGN, IGP, UPR-EGP, and the GIS User Community",
        "max_zoom": 20,
        "name": "Esri.WorldImagery",
        "url": "http://server.arcgisonline.com/ArcGIS/rest/services/World_Imagery/MapServer/tile/{z}/{y}/{x}"
       },
       "center": [
        -19.988836302380797,
        145.26672363281253
       ],
       "controls": [
        "IPY_MODEL_043d78a08a144cd2b1bb1c79278622ed"
       ],
       "east": -180,
       "layers": [
        "IPY_MODEL_34ef05a924d2421eb1f25fed67f88593",
        "IPY_MODEL_f3c76ab1b421477682910ef3566e9408"
       ],
       "layout": "IPY_MODEL_ee72430f1e5c458ebe58edde78e8ff46",
       "modisdate": "yesterday",
       "north": -90,
       "options": [
        "attribution_control",
        "basemap",
        "bounce_at_zoom_limits",
        "box_zoom",
        "center",
        "close_popup_on_click",
        "double_click_zoom",
        "dragging",
        "inertia",
        "inertia_deceleration",
        "inertia_max_speed",
        "keyboard",
        "keyboard_pan_offset",
        "keyboard_zoom_offset",
        "max_zoom",
        "min_zoom",
        "scroll_wheel_zoom",
        "tap",
        "tap_tolerance",
        "touch_zoom",
        "world_copy_jump",
        "zoom",
        "zoom_animation_threshold",
        "zoom_control",
        "zoom_start"
       ],
       "south": 90,
       "west": 180,
       "zoom": 10
      }
     },
     "0782b0901bd34d858138c88a27d15b04": {
      "model_module": "@jupyter-widgets/controls",
      "model_module_version": "1.4.0",
      "model_name": "HBoxModel",
      "state": {
       "children": [
        "IPY_MODEL_938ed8fa50a64e32b3e7215f23f14e7a",
        "IPY_MODEL_c7e9d8d1cc4f49c6947a6d78ee08e25d"
       ],
       "layout": "IPY_MODEL_129ec816cdf141248e0e57f5d33ec6df"
      }
     },
     "079c930d28614463ac8aac9a0660c5eb": {
      "model_module": "@jupyter-widgets/controls",
      "model_module_version": "1.4.0",
      "model_name": "ButtonStyleModel",
      "state": {}
     },
     "07a721c14abf49aa9eece12d782f437c": {
      "model_module": "@jupyter-widgets/controls",
      "model_module_version": "1.4.0",
      "model_name": "TextModel",
      "state": {
       "description": "start date",
       "layout": "IPY_MODEL_7d0d1ab83a7841698ced45c52dcdd199",
       "placeholder": "update this field YYYY-MM-DD",
       "style": "IPY_MODEL_5e07a4cbc8fd45ef8c976c10fcb1447c",
       "value": "2013-05-01"
      }
     },
     "07df873ea9f14fa990531e566ec93d89": {
      "model_module": "@jupyter-widgets/controls",
      "model_module_version": "1.4.0",
      "model_name": "TextModel",
      "state": {
       "description": "path to shape file",
       "layout": "IPY_MODEL_9c38379acefb4f88963c3e9661146641",
       "placeholder": "choose a file",
       "style": "IPY_MODEL_c8ac9efe63434ea5bbb3afc04da4396c",
       "value": "/g/data1a/r78/rjd547/groundwater_activities/Burdekin/Burdekin_shapefiles/fels_sml.shp"
      }
     },
     "0819d998ab2e4535a93142bd4ce45e54": {
      "model_module": "jupyter-leaflet",
      "model_module_version": "~0.7.3",
      "model_name": "LeafletDrawControlModel",
      "state": {
       "_model_module_version": "~0.7.3",
       "_view_count": null,
       "_view_module_version": "~0.7.3",
       "layer": "IPY_MODEL_bf231b12d38441fab5feafcdd05a134b",
       "polyline": {}
      }
     },
     "08a3c0922590467593ebdd038ef93426": {
      "model_module": "@jupyter-widgets/base",
      "model_module_version": "1.1.0",
      "model_name": "LayoutModel",
      "state": {}
     },
     "08a869e1b3974790809c89e39652eb80": {
      "model_module": "@jupyter-widgets/controls",
      "model_module_version": "1.4.0",
      "model_name": "ButtonStyleModel",
      "state": {
       "button_color": "orange"
      }
     },
     "08a898b97454412d960c640d2ef53f10": {
      "model_module": "@jupyter-widgets/controls",
      "model_module_version": "1.4.0",
      "model_name": "ButtonStyleModel",
      "state": {
       "button_color": "orange"
      }
     },
     "0a4b4d515735488cb8135afec4726d67": {
      "model_module": "jupyter-leaflet",
      "model_module_version": "~0.7.3",
      "model_name": "LeafletGeoJSONModel",
      "state": {
       "_model_module_version": "~0.7.3",
       "_view_count": null,
       "_view_module_version": "~0.7.3",
       "data": {
        "geometry": {
         "coordinates": [
          [
           [
            145.103599,
            -20.008129
           ],
           [
            145.104286,
            -19.955214
           ],
           [
            145.172999,
            -19.955214
           ],
           [
            145.168189,
            -20.014581
           ],
           [
            145.103599,
            -20.008129
           ]
          ]
         ],
         "type": "Polygon"
        },
        "properties": {
         "style": {
          "clickable": true,
          "color": "#3388ff",
          "fill": true,
          "fillColor": null,
          "fillOpacity": 0.2,
          "opacity": 0.5,
          "stroke": true,
          "weight": 4
         }
        },
        "type": "Feature"
       }
      }
     },
     "0aa8752fbff145af96b185f94da14618": {
      "model_module": "@jupyter-widgets/controls",
      "model_module_version": "1.4.0",
      "model_name": "TextModel",
      "state": {
       "description": "end date",
       "layout": "IPY_MODEL_40d9787329c84588b93dce8063503129",
       "placeholder": "update this field YYYY-MM-DD",
       "style": "IPY_MODEL_80451e9f73a64a2dbbdbbe140a48c4bd",
       "value": "2013-05-31"
      }
     },
     "0af8705550a544c2bf5f19c7252b1a0b": {
      "model_module": "@jupyter-widgets/controls",
      "model_module_version": "1.4.0",
      "model_name": "ButtonStyleModel",
      "state": {
       "button_color": "lightgreen"
      }
     },
     "0b0d52c76d0e4f52b9626b405a38d990": {
      "model_module": "jupyter-leaflet",
      "model_module_version": "~0.7.3",
      "model_name": "LeafletMapModel",
      "state": {
       "_dom_classes": [],
       "_model_module_version": "~0.7.3",
       "_view_count": null,
       "_view_module_version": "~0.7.3",
       "basemap": {
        "attribution": "Tiles &copy; Esri &mdash; Source: Esri, i-cubed, USDA, USGS, AEX, GeoEye, Getmapping, Aerogrid, IGN, IGP, UPR-EGP, and the GIS User Community",
        "max_zoom": 20,
        "name": "Esri.WorldImagery",
        "url": "http://server.arcgisonline.com/ArcGIS/rest/services/World_Imagery/MapServer/tile/{z}/{y}/{x}"
       },
       "center": [
        -20.01851645170249,
        145.31341552734378
       ],
       "controls": [
        "IPY_MODEL_502617ed6bed4a6392f9fb8567950ada"
       ],
       "east": 145.63476562500003,
       "layers": [
        "IPY_MODEL_341ecb2918294db39d28075fc793883c"
       ],
       "layout": "IPY_MODEL_299b3d749ae84fadaf9f826128f0b18d",
       "modisdate": "yesterday",
       "north": -19.760241554664503,
       "options": [
        "attribution_control",
        "basemap",
        "bounce_at_zoom_limits",
        "box_zoom",
        "center",
        "close_popup_on_click",
        "double_click_zoom",
        "dragging",
        "inertia",
        "inertia_deceleration",
        "inertia_max_speed",
        "keyboard",
        "keyboard_pan_offset",
        "keyboard_zoom_offset",
        "max_zoom",
        "min_zoom",
        "scroll_wheel_zoom",
        "tap",
        "tap_tolerance",
        "touch_zoom",
        "world_copy_jump",
        "zoom",
        "zoom_animation_threshold",
        "zoom_control",
        "zoom_start"
       ],
       "south": -20.276367870836033,
       "west": 144.99343872070315,
       "zoom": 10
      }
     },
     "0b2cecda79f343a68db39cb5068381e1": {
      "model_module": "@jupyter-widgets/controls",
      "model_module_version": "1.4.0",
      "model_name": "ButtonModel",
      "state": {
       "description": "Plot Geomedian",
       "layout": "IPY_MODEL_e74572e3878c4e2d859b1eb430fe897c",
       "style": "IPY_MODEL_f924e7b4d91740cea01161181142f682"
      }
     },
     "0b6ea8d95b8f4da59ec9e869ae9f3229": {
      "model_module": "@jupyter-widgets/controls",
      "model_module_version": "1.4.0",
      "model_name": "ButtonStyleModel",
      "state": {}
     },
     "0b9a5f80d6314388a83cdfbfa578a643": {
      "model_module": "@jupyter-widgets/base",
      "model_module_version": "1.1.0",
      "model_name": "LayoutModel",
      "state": {}
     },
     "0bb27288e0f94204974203c3213b584c": {
      "model_module": "@jupyter-widgets/base",
      "model_module_version": "1.1.0",
      "model_name": "LayoutModel",
      "state": {
       "height": "400px",
       "width": "400px"
      }
     },
     "0beb2e36edad4f988163eb7b05fa0b4c": {
      "model_module": "@jupyter-widgets/controls",
      "model_module_version": "1.4.0",
      "model_name": "LabelModel",
      "state": {
       "layout": "IPY_MODEL_2330711f93da4293bb9232fa4963a6c7",
       "style": "IPY_MODEL_c6ea66be5fad4dce8f86a190bd283d87",
       "value": "Is my end date valid?"
      }
     },
     "0c95a1ff9cc049aaa0c4d15f699626f1": {
      "model_module": "@jupyter-widgets/controls",
      "model_module_version": "1.4.0",
      "model_name": "ButtonModel",
      "state": {
       "description": "Save File As",
       "icon": "square-o",
       "layout": "IPY_MODEL_bd9a165f8b644ad8b5516530728820b9",
       "style": "IPY_MODEL_f522c4aff0d54ca39a8bbcc52fd5e516"
      }
     },
     "0cb8aaa557a14c95b84bfa2b52ff0c13": {
      "model_module": "@jupyter-widgets/base",
      "model_module_version": "1.1.0",
      "model_name": "LayoutModel",
      "state": {}
     },
     "0d06498f25f44ccc9d2f12ccf48ed866": {
      "model_module": "@jupyter-widgets/base",
      "model_module_version": "1.1.0",
      "model_name": "LayoutModel",
      "state": {}
     },
     "0db96268eb054bb5a054f6c1bcd7d00f": {
      "model_module": "@jupyter-widgets/base",
      "model_module_version": "1.1.0",
      "model_name": "LayoutModel",
      "state": {
       "width": "70%"
      }
     },
     "0ded9e85c1684fb79911f54dd2114983": {
      "model_module": "@jupyter-widgets/base",
      "model_module_version": "1.1.0",
      "model_name": "LayoutModel",
      "state": {}
     },
     "0df2d475d2f546be8fa8cf4d6b2ec3bc": {
      "model_module": "jupyter-leaflet",
      "model_module_version": "~0.7.3",
      "model_name": "LeafletTileLayerModel",
      "state": {
       "_model_module_version": "~0.7.3",
       "_view_count": null,
       "_view_module_version": "~0.7.3",
       "base": true,
       "max_zoom": 19,
       "min_zoom": 1,
       "options": [
        "attribution",
        "detect_retina",
        "max_zoom",
        "min_zoom",
        "tile_size"
       ]
      }
     },
     "0e39a0c7b80b452292bbaa9b017ed369": {
      "model_module": "@jupyter-widgets/controls",
      "model_module_version": "1.4.0",
      "model_name": "TextModel",
      "state": {
       "description": "path to shape file",
       "layout": "IPY_MODEL_57da9101bc734176953c2564943cfe18",
       "placeholder": "update this field",
       "style": "IPY_MODEL_9bac5964747142ed9710f1f2e87301d9",
       "value": "/g/data1a/r78/rjd547/groundwater_activities/Burdekin/Burdekin_shapefiles/fels_sml.shp"
      }
     },
     "0e891c8e96e64c2eb26a3fe54ac94974": {
      "model_module": "@jupyter-widgets/output",
      "model_module_version": "1.0.0",
      "model_name": "OutputModel",
      "state": {
       "layout": "IPY_MODEL_2b8e02dc7bd04e4092a98ba8cad750c5"
      }
     },
     "0e940ccd7e3445fd922a3460176ecb3e": {
      "model_module": "@jupyter-widgets/base",
      "model_module_version": "1.1.0",
      "model_name": "LayoutModel",
      "state": {}
     },
     "0eb518adaeb44d148e858bec2fc19bfc": {
      "model_module": "@jupyter-widgets/controls",
      "model_module_version": "1.4.0",
      "model_name": "VBoxModel",
      "state": {
       "children": [
        "IPY_MODEL_8b9200a962f94900af92264a4a71cc7b",
        "IPY_MODEL_245834a67c484459a135be79f472c787"
       ],
       "layout": "IPY_MODEL_d2f73fe14e77435d9b139e642717f3e6"
      }
     },
     "0f2a9ea2abc54f26adddb60cd6da27dc": {
      "model_module": "@jupyter-widgets/base",
      "model_module_version": "1.1.0",
      "model_name": "LayoutModel",
      "state": {}
     },
     "0f4aadf00a494d6da0ea848bf979233c": {
      "model_module": "@jupyter-widgets/controls",
      "model_module_version": "1.4.0",
      "model_name": "ButtonModel",
      "state": {
       "description": "Load and Calculate",
       "layout": "IPY_MODEL_64dac93dc32c447ba8090da99baad03d",
       "style": "IPY_MODEL_0358919d268a4b608b7f6b1c4f85e846"
      }
     },
     "0f81fbb43a7a47e8a5f204ccf2543cb3": {
      "model_module": "@jupyter-widgets/base",
      "model_module_version": "1.1.0",
      "model_name": "LayoutModel",
      "state": {}
     },
     "10729fa9678141079fbf3d811d526998": {
      "model_module": "@jupyter-widgets/base",
      "model_module_version": "1.1.0",
      "model_name": "LayoutModel",
      "state": {}
     },
     "108b67a62e3742cda405be8d69cf2cb1": {
      "model_module": "@jupyter-widgets/controls",
      "model_module_version": "1.4.0",
      "model_name": "ButtonModel",
      "state": {
       "description": "Check dates",
       "layout": "IPY_MODEL_a1348e8494e84bc185665d4eccf07588",
       "style": "IPY_MODEL_54f79816866a4ebaba8bc93d3c2c2fea",
       "tooltip": "Click me"
      }
     },
     "10cda133c629498187810e1007d94900": {
      "model_module": "jupyter-leaflet",
      "model_module_version": "~0.5.0",
      "model_name": "LeafletFeatureGroupModel",
      "state": {
       "_model_module_version": "~0.5.0",
       "_view_count": null,
       "_view_module_version": "~0.5.0"
      }
     },
     "10f80bf028244a819a06dd2ad58b620f": {
      "model_module": "@jupyter-widgets/base",
      "model_module_version": "1.1.0",
      "model_name": "LayoutModel",
      "state": {}
     },
     "117f4ccb1ad34bdbb94a852e96e5b0de": {
      "model_module": "@jupyter-widgets/base",
      "model_module_version": "1.1.0",
      "model_name": "LayoutModel",
      "state": {
       "width": "70%"
      }
     },
     "120a6ccf29574460831732e4a5013e7e": {
      "model_module": "@jupyter-widgets/base",
      "model_module_version": "1.1.0",
      "model_name": "LayoutModel",
      "state": {
       "width": "70%"
      }
     },
     "129ec816cdf141248e0e57f5d33ec6df": {
      "model_module": "@jupyter-widgets/base",
      "model_module_version": "1.1.0",
      "model_name": "LayoutModel",
      "state": {}
     },
     "12a60212b7c9465bb116e508c33bf2df": {
      "model_module": "@jupyter-widgets/controls",
      "model_module_version": "1.4.0",
      "model_name": "HBoxModel",
      "state": {
       "children": [
        "IPY_MODEL_6af7af5b946d4979860e037da468abdc",
        "IPY_MODEL_72aa19fd84ed44439065ab7cd32c1697"
       ],
       "layout": "IPY_MODEL_8291506975b94a86a1890becdf52daa7"
      }
     },
     "12cad9f764114ec89428e87596cec84a": {
      "model_module": "jupyter-leaflet",
      "model_module_version": "~0.7.3",
      "model_name": "LeafletMapModel",
      "state": {
       "_dom_classes": [],
       "_model_module_version": "~0.7.3",
       "_view_count": null,
       "_view_module_version": "~0.7.3",
       "basemap": {
        "attribution": "Tiles &copy; Esri &mdash; Source: Esri, i-cubed, USDA, USGS, AEX, GeoEye, Getmapping, Aerogrid, IGN, IGP, UPR-EGP, and the GIS User Community",
        "max_zoom": 20,
        "name": "Esri.WorldImagery",
        "url": "http://server.arcgisonline.com/ArcGIS/rest/services/World_Imagery/MapServer/tile/{z}/{y}/{x}"
       },
       "center": [
        -20.0183,
        145.3134
       ],
       "controls": [
        "IPY_MODEL_640444ac363b45478bbc10abe9ea1c34"
       ],
       "east": 145.57571411132815,
       "layers": [
        "IPY_MODEL_d9cc6b9ca23d4056ac4c7abadd297834",
        "IPY_MODEL_c14c6545c40e4d848c853ce62b3dc7af"
       ],
       "layout": "IPY_MODEL_0bb27288e0f94204974203c3213b584c",
       "modisdate": "yesterday",
       "north": -19.760241554664503,
       "options": [
        "attribution_control",
        "basemap",
        "bounce_at_zoom_limits",
        "box_zoom",
        "center",
        "close_popup_on_click",
        "double_click_zoom",
        "dragging",
        "inertia",
        "inertia_deceleration",
        "inertia_max_speed",
        "keyboard",
        "keyboard_pan_offset",
        "keyboard_zoom_offset",
        "max_zoom",
        "min_zoom",
        "scroll_wheel_zoom",
        "tap",
        "tap_tolerance",
        "touch_zoom",
        "world_copy_jump",
        "zoom",
        "zoom_animation_threshold",
        "zoom_control",
        "zoom_start"
       ],
       "south": -20.276367870836033,
       "west": 145.0511169433594,
       "zoom": 10
      }
     },
     "134f95c3a385431b9bc5f5a0b2f09fb6": {
      "model_module": "@jupyter-widgets/controls",
      "model_module_version": "1.4.0",
      "model_name": "HBoxModel",
      "state": {
       "children": [
        "IPY_MODEL_58e4ede9d357461d999c853dca24e73f",
        "IPY_MODEL_1ffb4666210847478684bd2321643d54"
       ],
       "layout": "IPY_MODEL_6a404838ba184056836b31fe5f72e7dd"
      }
     },
     "13668e245b5646dcb23a30ac06f0134b": {
      "model_module": "@jupyter-widgets/controls",
      "model_module_version": "1.4.0",
      "model_name": "ButtonModel",
      "state": {
       "description": "Check shapefile",
       "layout": "IPY_MODEL_2afc43db349849c0bd1267d74258cea1",
       "style": "IPY_MODEL_a0a33bb650c54868adb660e33f2c91fe",
       "tooltip": "Click me"
      }
     },
     "13902aba0fad4d20a27254c74226ed0f": {
      "model_module": "@jupyter-widgets/controls",
      "model_module_version": "1.4.0",
      "model_name": "LabelModel",
      "state": {
       "layout": "IPY_MODEL_a3bf8445850d495790878341da53d63d",
       "style": "IPY_MODEL_1e621132add14d7dba3b20a7c4fff705",
       "value": "Is my end date valid?"
      }
     },
     "13c32469a5b5413e9dcaca47133339ee": {
      "model_module": "@jupyter-widgets/base",
      "model_module_version": "1.1.0",
      "model_name": "LayoutModel",
      "state": {}
     },
     "147add4859b14054812de346ba649b91": {
      "model_module": "@jupyter-widgets/controls",
      "model_module_version": "1.4.0",
      "model_name": "TextModel",
      "state": {
       "description": "path to shape file",
       "layout": "IPY_MODEL_5bf47680298c426e9d9c7a1653461428",
       "placeholder": "choose a file",
       "style": "IPY_MODEL_649dff08167041e88151747b11065dda",
       "value": "/g/data1a/r78/rjd547/groundwater_activities/Burdekin/Burdekin_shapefiles/fels_sml.shp"
      }
     },
     "149daaa5f39a45a79c48cb7111c760ef": {
      "model_module": "@jupyter-widgets/controls",
      "model_module_version": "1.4.0",
      "model_name": "ButtonStyleModel",
      "state": {}
     },
     "14b25e9f36c545deaad1657bce39f570": {
      "model_module": "@jupyter-widgets/base",
      "model_module_version": "1.1.0",
      "model_name": "LayoutModel",
      "state": {}
     },
     "14e1f08c399d4a699e5a960cf50b5242": {
      "model_module": "@jupyter-widgets/controls",
      "model_module_version": "1.4.0",
      "model_name": "ButtonModel",
      "state": {
       "description": "Select File",
       "icon": "square-o",
       "layout": "IPY_MODEL_070cff54bfd64e5dae02e8641f550486",
       "style": "IPY_MODEL_d7feb4af820e4049ac57cbe3bbf5ed18"
      }
     },
     "14e9995cb34f4ffbb415fe2b98b0b626": {
      "model_module": "@jupyter-widgets/controls",
      "model_module_version": "1.4.0",
      "model_name": "ButtonStyleModel",
      "state": {}
     },
     "153d63a4729a43c8b98f8f1659760044": {
      "model_module": "@jupyter-widgets/output",
      "model_module_version": "1.0.0",
      "model_name": "OutputModel",
      "state": {
       "layout": "IPY_MODEL_e8813f75591a4ba4ab664b50d8bc22ae",
       "outputs": [
        {
         "data": {
          "image/png": "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\n",
          "text/plain": "<Figure size 720x720 with 1 Axes>"
         },
         "metadata": {},
         "output_type": "display_data"
        }
       ]
      }
     },
     "15b115d78c9641e2834a6348a5fa6cbb": {
      "model_module": "@jupyter-widgets/base",
      "model_module_version": "1.1.0",
      "model_name": "LayoutModel",
      "state": {}
     },
     "15b8be62b1f84c60a18439d074f9fd35": {
      "model_module": "@jupyter-widgets/controls",
      "model_module_version": "1.4.0",
      "model_name": "ToggleButtonsStyleModel",
      "state": {
       "button_width": "",
       "description_width": ""
      }
     },
     "15f856b034904b67b3a0fe1163c2441e": {
      "model_module": "@jupyter-widgets/base",
      "model_module_version": "1.1.0",
      "model_name": "LayoutModel",
      "state": {}
     },
     "1657d0a4d0b346229834d54a2397e86c": {
      "model_module": "@jupyter-widgets/base",
      "model_module_version": "1.1.0",
      "model_name": "LayoutModel",
      "state": {}
     },
     "167e99d8c876474da804079e45b67a14": {
      "model_module": "@jupyter-widgets/controls",
      "model_module_version": "1.4.0",
      "model_name": "DescriptionStyleModel",
      "state": {
       "description_width": ""
      }
     },
     "170526af81c044869fee68159c6807df": {
      "model_module": "@jupyter-widgets/controls",
      "model_module_version": "1.4.0",
      "model_name": "ButtonStyleModel",
      "state": {}
     },
     "170e1c13abd045918deb6b220c9093e0": {
      "model_module": "@jupyter-widgets/base",
      "model_module_version": "1.1.0",
      "model_name": "LayoutModel",
      "state": {}
     },
     "171f324d72774d4ebef1907b4fc43270": {
      "model_module": "@jupyter-widgets/controls",
      "model_module_version": "1.4.0",
      "model_name": "TextModel",
      "state": {
       "description": "path to shape file",
       "layout": "IPY_MODEL_deb3f9fe2aa84f239821b8726f6e4977",
       "placeholder": "choose a file",
       "style": "IPY_MODEL_7cd5fa10da864d9bb47e7fd908581606",
       "value": "/g/data1a/r78/rjd547/groundwater_activities/Burdekin/Burdekin_shapefiles/fels_sml.shp"
      }
     },
     "174b48ab17ae489888887fbf0929fb8f": {
      "model_module": "@jupyter-widgets/controls",
      "model_module_version": "1.4.0",
      "model_name": "LabelModel",
      "state": {
       "layout": "IPY_MODEL_b163da4fc0724185a16fd2135651aab8",
       "style": "IPY_MODEL_fd180ef827cf41289872803c9a26aba0",
       "value": "End date is valid"
      }
     },
     "179cd972542d4c768f1ed9f562903889": {
      "model_module": "@jupyter-widgets/base",
      "model_module_version": "1.1.0",
      "model_name": "LayoutModel",
      "state": {
       "width": "70%"
      }
     },
     "17a9f3415ea84245b4c47a0ebacdb896": {
      "model_module": "@jupyter-widgets/controls",
      "model_module_version": "1.4.0",
      "model_name": "DescriptionStyleModel",
      "state": {
       "description_width": ""
      }
     },
     "17ce635712ab4f788ab32db48e84a4b3": {
      "model_module": "jupyter-leaflet",
      "model_module_version": "~0.7.3",
      "model_name": "LeafletDrawControlModel",
      "state": {
       "_model_module_version": "~0.7.3",
       "_view_count": null,
       "_view_module_version": "~0.7.3",
       "layer": "IPY_MODEL_3b2bceee23d343e69fbeaf9668d7f00a",
       "polyline": {}
      }
     },
     "18dd0f98d6d949a09a0a09130181b8ff": {
      "model_module": "@jupyter-widgets/controls",
      "model_module_version": "1.4.0",
      "model_name": "ButtonStyleModel",
      "state": {}
     },
     "192f81b5d9fd407aaf671973a666a283": {
      "model_module": "@jupyter-widgets/base",
      "model_module_version": "1.1.0",
      "model_name": "LayoutModel",
      "state": {}
     },
     "193f5deda64348fd9c968bf1a7831904": {
      "model_module": "@jupyter-widgets/base",
      "model_module_version": "1.1.0",
      "model_name": "LayoutModel",
      "state": {}
     },
     "196e19dd896f429284b92227b7e21112": {
      "model_module": "@jupyter-widgets/base",
      "model_module_version": "1.1.0",
      "model_name": "LayoutModel",
      "state": {}
     },
     "19adeb8ce198412ba404354afb105ce0": {
      "model_module": "@jupyter-widgets/controls",
      "model_module_version": "1.4.0",
      "model_name": "ButtonStyleModel",
      "state": {
       "button_color": "orange"
      }
     },
     "19c2e899138d4311af176d428e7ce3df": {
      "model_module": "@jupyter-widgets/controls",
      "model_module_version": "1.4.0",
      "model_name": "HBoxModel",
      "state": {
       "children": [
        "IPY_MODEL_378c31e5d59a484f9d255b82ae16a2a8",
        "IPY_MODEL_12cad9f764114ec89428e87596cec84a"
       ],
       "layout": "IPY_MODEL_dfb5ce1e6aa74798b0b7bab92da62a41"
      }
     },
     "19f237d3fef04cd7a93706e77cc51fd6": {
      "model_module": "@jupyter-widgets/base",
      "model_module_version": "1.1.0",
      "model_name": "LayoutModel",
      "state": {}
     },
     "1a2023da367b487082fb0b8c4ae93872": {
      "model_module": "@jupyter-widgets/controls",
      "model_module_version": "1.4.0",
      "model_name": "TextModel",
      "state": {
       "description": "path to shape file",
       "layout": "IPY_MODEL_97fe07a50aa94abb9900a8114d7e107a",
       "placeholder": "/g/data1a/r78/rjd547/groundwater_activities/Burdekin/Burdekin_shapefiles/fels_sml.shp",
       "style": "IPY_MODEL_55c4b5c5cefc424b9283cb0488224176",
       "value": "/g/data1a/r78/rjd547/groundwater_activities/Burdekin/Burdekin_shapefiles/fels_sml.shp"
      }
     },
     "1a56b04a2680446eb49062bd3c04b290": {
      "model_module": "@jupyter-widgets/base",
      "model_module_version": "1.1.0",
      "model_name": "LayoutModel",
      "state": {}
     },
     "1a590a4644aa4a738d0837c427014fd0": {
      "model_module": "@jupyter-widgets/controls",
      "model_module_version": "1.4.0",
      "model_name": "ButtonStyleModel",
      "state": {}
     },
     "1b0a185c2dbf41b6a665327cf8fe3f90": {
      "model_module": "@jupyter-widgets/controls",
      "model_module_version": "1.4.0",
      "model_name": "VBoxModel",
      "state": {
       "_dom_classes": [
        "widget-interact"
       ],
       "children": [
        "IPY_MODEL_a1ca96df3e89441e9c823814272e7ae5",
        "IPY_MODEL_e3d7d15f048c436a89b5a861f05dbde8"
       ],
       "layout": "IPY_MODEL_6f4ac051616440ac95b8b3379375e7ea"
      }
     },
     "1bb4466c0dfe448692ed85ea2c18fc77": {
      "model_module": "@jupyter-widgets/controls",
      "model_module_version": "1.4.0",
      "model_name": "HBoxModel",
      "state": {
       "children": [
        "IPY_MODEL_031a107fdba04fc8b8794f64220b44bd",
        "IPY_MODEL_a94cc047326744568c5092aa26190058"
       ],
       "layout": "IPY_MODEL_bd55359b92a8441e9901191a9cb091d2"
      }
     },
     "1be23662c9df440881a180315be525bc": {
      "model_module": "@jupyter-widgets/base",
      "model_module_version": "1.1.0",
      "model_name": "LayoutModel",
      "state": {}
     },
     "1be302601dec4e77a5af1bc94358b878": {
      "model_module": "@jupyter-widgets/base",
      "model_module_version": "1.1.0",
      "model_name": "LayoutModel",
      "state": {}
     },
     "1c7e036e565542b7a8914370d901d1d6": {
      "model_module": "@jupyter-widgets/controls",
      "model_module_version": "1.4.0",
      "model_name": "DescriptionStyleModel",
      "state": {
       "description_width": ""
      }
     },
     "1cb6e39c2ba34fc08f2df1d3ee9673f4": {
      "model_module": "@jupyter-widgets/controls",
      "model_module_version": "1.4.0",
      "model_name": "HBoxModel",
      "state": {
       "children": [
        "IPY_MODEL_6ddf45c325d74f57bc1dc8c6f7d805f5",
        "IPY_MODEL_dc17c2b3595b42c9b62dc0306d8bcedf"
       ],
       "layout": "IPY_MODEL_39773aafc13142b6acaa4d3503e54a12"
      }
     },
     "1d10a4955f334672b8aa0c65ad2d36a7": {
      "model_module": "@jupyter-widgets/controls",
      "model_module_version": "1.4.0",
      "model_name": "ButtonModel",
      "state": {
       "description": "Load and Calculate",
       "layout": "IPY_MODEL_651eb5a5c46645c9ae113c6908980ad7",
       "style": "IPY_MODEL_6d0fa14e5b4b48f7ae84ba038be63dad"
      }
     },
     "1d51a02b51ee4776a886f2f3a6285a3d": {
      "model_module": "@jupyter-widgets/base",
      "model_module_version": "1.1.0",
      "model_name": "LayoutModel",
      "state": {
       "height": "400px",
       "width": "400px"
      }
     },
     "1dc2608954e04b929d8dab164fa5660d": {
      "model_module": "@jupyter-widgets/base",
      "model_module_version": "1.1.0",
      "model_name": "LayoutModel",
      "state": {}
     },
     "1e1a174887624f88876a644c142e5976": {
      "model_module": "@jupyter-widgets/controls",
      "model_module_version": "1.4.0",
      "model_name": "ButtonModel",
      "state": {
       "description": "Check dates",
       "layout": "IPY_MODEL_15b115d78c9641e2834a6348a5fa6cbb",
       "style": "IPY_MODEL_d7fa534ade4e48eeb38b6f81b5b0a21c",
       "tooltip": "Click me"
      }
     },
     "1e27083977ab4a1f9dc81f9828dceb12": {
      "model_module": "@jupyter-widgets/output",
      "model_module_version": "1.0.0",
      "model_name": "OutputModel",
      "state": {
       "layout": "IPY_MODEL_ab77205bce544966ae0a911fc09024f6"
      }
     },
     "1e40aee8a9d644f593dd739046f8ef5e": {
      "model_module": "@jupyter-widgets/controls",
      "model_module_version": "1.4.0",
      "model_name": "DescriptionStyleModel",
      "state": {
       "description_width": ""
      }
     },
     "1e621132add14d7dba3b20a7c4fff705": {
      "model_module": "@jupyter-widgets/controls",
      "model_module_version": "1.4.0",
      "model_name": "DescriptionStyleModel",
      "state": {
       "description_width": ""
      }
     },
     "1ec7be88bcb24439911c8c1bf2440b4a": {
      "model_module": "@jupyter-widgets/base",
      "model_module_version": "1.1.0",
      "model_name": "LayoutModel",
      "state": {}
     },
     "1ec91830334342dcaeb4ba26a91b0d2a": {
      "model_module": "@jupyter-widgets/controls",
      "model_module_version": "1.4.0",
      "model_name": "HBoxModel",
      "state": {
       "children": [
        "IPY_MODEL_f843bf9393cf47eabe607814242f4956",
        "IPY_MODEL_05356a59cb2d4e8fbb5421f5e6015bc3"
       ],
       "layout": "IPY_MODEL_3e2841f021c749eabfbe73b1c3c80b56"
      }
     },
     "1ed7644b47df4afb839a41d79fda724a": {
      "model_module": "@jupyter-widgets/base",
      "model_module_version": "1.1.0",
      "model_name": "LayoutModel",
      "state": {}
     },
     "1f9ad95bbb1940889a03f25cb547e6b8": {
      "model_module": "@jupyter-widgets/base",
      "model_module_version": "1.1.0",
      "model_name": "LayoutModel",
      "state": {}
     },
     "1fa8d59f15e446b1a43e9c117d9cc813": {
      "model_module": "@jupyter-widgets/controls",
      "model_module_version": "1.4.0",
      "model_name": "ButtonModel",
      "state": {
       "description": "Check shapefile",
       "layout": "IPY_MODEL_da580ae95192467e95dc522735d2a142",
       "style": "IPY_MODEL_5777a627855f4941af19c6657d7c4284",
       "tooltip": "Click me"
      }
     },
     "1fad98d79a66429298486a1a30030f12": {
      "model_module": "@jupyter-widgets/base",
      "model_module_version": "1.1.0",
      "model_name": "LayoutModel",
      "state": {}
     },
     "1fde596783764dd0aeb242588ee4ad7f": {
      "model_module": "@jupyter-widgets/base",
      "model_module_version": "1.1.0",
      "model_name": "LayoutModel",
      "state": {}
     },
     "1ffb4666210847478684bd2321643d54": {
      "model_module": "@jupyter-widgets/controls",
      "model_module_version": "1.4.0",
      "model_name": "LabelModel",
      "state": {
       "layout": "IPY_MODEL_02f8cde5037243bcb074214c7ef3aed2",
       "style": "IPY_MODEL_733f836640984ed89b2678ba46ccf539",
       "value": "Start date is valid"
      }
     },
     "1ffd6b7a924249399455dba7f2e3d6d4": {
      "model_module": "@jupyter-widgets/controls",
      "model_module_version": "1.4.0",
      "model_name": "ButtonStyleModel",
      "state": {}
     },
     "201176c45b884d79935aaf67c74c5478": {
      "model_module": "@jupyter-widgets/controls",
      "model_module_version": "1.4.0",
      "model_name": "DescriptionStyleModel",
      "state": {
       "description_width": ""
      }
     },
     "20702b86067f4e069c5639946799bfbe": {
      "model_module": "@jupyter-widgets/controls",
      "model_module_version": "1.4.0",
      "model_name": "ButtonModel",
      "state": {
       "description": "Plot Geomedian",
       "layout": "IPY_MODEL_2ed6eb805b474d20a4d90cd87977bd4c",
       "style": "IPY_MODEL_b4a88a214f96401b96ec49d64b98bd99"
      }
     },
     "2103cabb9d41405c84646861d6479cae": {
      "model_module": "@jupyter-widgets/controls",
      "model_module_version": "1.4.0",
      "model_name": "HBoxModel",
      "state": {
       "children": [
        "IPY_MODEL_02303756c64a45c79f58d462fc710b36",
        "IPY_MODEL_cd14fa69dcf34d2abadfab7f1f78f42b"
       ],
       "layout": "IPY_MODEL_8de07438eade49a28bb1bd01f9dff469"
      }
     },
     "2138279249974a19a958485e3883e855": {
      "model_module": "@jupyter-widgets/base",
      "model_module_version": "1.1.0",
      "model_name": "LayoutModel",
      "state": {}
     },
     "214cab4754fb47ce9e38b80b4be5cd64": {
      "model_module": "@jupyter-widgets/controls",
      "model_module_version": "1.4.0",
      "model_name": "ButtonModel",
      "state": {
       "description": "Check shapefile",
       "layout": "IPY_MODEL_9a4933119e654314aa3874108a7d9249",
       "style": "IPY_MODEL_646aeadcb86d40b4a5ad979dbf78461d",
       "tooltip": "Click me"
      }
     },
     "22075e3528544bccb11219726436fffa": {
      "model_module": "@jupyter-widgets/base",
      "model_module_version": "1.1.0",
      "model_name": "LayoutModel",
      "state": {}
     },
     "22565eaa7b2741b388dc471ee621c17b": {
      "model_module": "@jupyter-widgets/controls",
      "model_module_version": "1.4.0",
      "model_name": "DescriptionStyleModel",
      "state": {
       "description_width": ""
      }
     },
     "22c6845ce5104d0aba4f30a7e0ae2bfc": {
      "model_module": "@jupyter-widgets/controls",
      "model_module_version": "1.4.0",
      "model_name": "ToggleButtonsStyleModel",
      "state": {
       "button_width": "",
       "description_width": ""
      }
     },
     "2316916511174e27b4a1fb75070f1834": {
      "model_module": "@jupyter-widgets/controls",
      "model_module_version": "1.4.0",
      "model_name": "LabelModel",
      "state": {
       "layout": "IPY_MODEL_68f02254f9db4d8eaa5974c6fc141e79",
       "style": "IPY_MODEL_2938543f5aee48aea3a2b2a066736d27",
       "value": "Is my start date valid?"
      }
     },
     "2330711f93da4293bb9232fa4963a6c7": {
      "model_module": "@jupyter-widgets/base",
      "model_module_version": "1.1.0",
      "model_name": "LayoutModel",
      "state": {}
     },
     "24477a571dd246e78ad79a5864ef03b3": {
      "model_module": "@jupyter-widgets/controls",
      "model_module_version": "1.4.0",
      "model_name": "ButtonModel",
      "state": {
       "description": "Select File",
       "icon": "square-o",
       "layout": "IPY_MODEL_c8974032631a4fc3836604f9aa9f8b7f",
       "style": "IPY_MODEL_08a898b97454412d960c640d2ef53f10"
      }
     },
     "245834a67c484459a135be79f472c787": {
      "model_module": "@jupyter-widgets/controls",
      "model_module_version": "1.4.0",
      "model_name": "ToggleButtonsModel",
      "state": {
       "_options_labels": [
        "Shapefile",
        "DrawnPolygon"
       ],
       "button_style": "",
       "description": "Geometry Used for Datacube Query:",
       "icons": [],
       "index": 0,
       "layout": "IPY_MODEL_6851624eb60c4be6b2255e310ad6602e",
       "style": "IPY_MODEL_57447ab799eb4f7fa0fe2e9142cb3c7b",
       "tooltips": [
        "Use Shapefile Specified for the DC query",
        "Use Polygon Drawn on the Map for the DC query"
       ]
      }
     },
     "258e967cbb7a40d69fee61b9498b0358": {
      "model_module": "@jupyter-widgets/base",
      "model_module_version": "1.1.0",
      "model_name": "LayoutModel",
      "state": {
       "width": "70%"
      }
     },
     "262e617660424ee18633868156779d3b": {
      "model_module": "@jupyter-widgets/controls",
      "model_module_version": "1.4.0",
      "model_name": "ButtonModel",
      "state": {
       "description": "Select File",
       "icon": "square-o",
       "layout": "IPY_MODEL_7ffa726bf4354fe999046ca58d58f9e7",
       "style": "IPY_MODEL_9941aa7b734547fb92be34faec106e8f"
      }
     },
     "26576e536215460583150758f5083073": {
      "model_module": "@jupyter-widgets/base",
      "model_module_version": "1.1.0",
      "model_name": "LayoutModel",
      "state": {}
     },
     "26998541f031412d87b9568163248293": {
      "model_module": "@jupyter-widgets/base",
      "model_module_version": "1.1.0",
      "model_name": "LayoutModel",
      "state": {}
     },
     "26af39751b18418c93cfa34b818ef471": {
      "model_module": "@jupyter-widgets/controls",
      "model_module_version": "1.4.0",
      "model_name": "HBoxModel",
      "state": {
       "children": [
        "IPY_MODEL_cc584e0ddd724683939b115c53c7727b",
        "IPY_MODEL_e34cb72f9cbf4f0caa65673d7561936b"
       ],
       "layout": "IPY_MODEL_ecd6ba4789bd43aebdee99207e78e975"
      }
     },
     "26c02a4f34994e2dabf4ac559037b291": {
      "model_module": "@jupyter-widgets/controls",
      "model_module_version": "1.4.0",
      "model_name": "TextModel",
      "state": {
       "description": "start date",
       "layout": "IPY_MODEL_c9c35a7167014c7cb8c20cf17bef07a4",
       "placeholder": "update this field YYYY-MM-DD",
       "style": "IPY_MODEL_4d2c4731f442482da1cd2f815b90f035",
       "value": "2013-03-01"
      }
     },
     "26d8363c565b43f9a466d85d5639ef98": {
      "model_module": "@jupyter-widgets/controls",
      "model_module_version": "1.4.0",
      "model_name": "HBoxModel",
      "state": {
       "children": [
        "IPY_MODEL_e8a9c2f7e98147d2aa42c514cb9abd01",
        "IPY_MODEL_d6021ff9e4484644bbc723240709b4fd"
       ],
       "layout": "IPY_MODEL_95e994dca3f74f18aa801779d0897375"
      }
     },
     "27874722cf804ed19f2b5f6588bbacee": {
      "model_module": "@jupyter-widgets/controls",
      "model_module_version": "1.4.0",
      "model_name": "HBoxModel",
      "state": {
       "children": [
        "IPY_MODEL_ed9fb2f8bbc94dc2aa0f667e16334364",
        "IPY_MODEL_262e617660424ee18633868156779d3b"
       ],
       "layout": "IPY_MODEL_8e619f3bba964550a43ec1427e16d26b"
      }
     },
     "27dbc9e2eb3841f0a1e6db057136069e": {
      "model_module": "@jupyter-widgets/controls",
      "model_module_version": "1.4.0",
      "model_name": "ButtonStyleModel",
      "state": {}
     },
     "281d5202b1a8441a96fc6d7adeedf866": {
      "model_module": "@jupyter-widgets/controls",
      "model_module_version": "1.4.0",
      "model_name": "ButtonStyleModel",
      "state": {}
     },
     "28315387f78f46619f5f580f36183fc6": {
      "model_module": "@jupyter-widgets/controls",
      "model_module_version": "1.4.0",
      "model_name": "HBoxModel",
      "state": {
       "children": [
        "IPY_MODEL_ae0b1591d53a4503b208f78a2072801a",
        "IPY_MODEL_4e195601456a458db1d71c2a90df836a"
       ],
       "layout": "IPY_MODEL_a54ca6f1ec8b4c6e95c998cf34b1e66f"
      }
     },
     "290ed6cd58db4c4a865f9d3081f212e9": {
      "model_module": "@jupyter-widgets/base",
      "model_module_version": "1.1.0",
      "model_name": "LayoutModel",
      "state": {}
     },
     "2938543f5aee48aea3a2b2a066736d27": {
      "model_module": "@jupyter-widgets/controls",
      "model_module_version": "1.4.0",
      "model_name": "DescriptionStyleModel",
      "state": {
       "description_width": ""
      }
     },
     "2957bfd4907f4cc79631cfc449884884": {
      "model_module": "@jupyter-widgets/base",
      "model_module_version": "1.1.0",
      "model_name": "LayoutModel",
      "state": {
       "width": "70%"
      }
     },
     "298dc6c2b72346798278b75224536fdd": {
      "model_module": "@jupyter-widgets/base",
      "model_module_version": "1.1.0",
      "model_name": "LayoutModel",
      "state": {}
     },
     "299b3d749ae84fadaf9f826128f0b18d": {
      "model_module": "@jupyter-widgets/base",
      "model_module_version": "1.1.0",
      "model_name": "LayoutModel",
      "state": {
       "height": "400px",
       "width": "400px"
      }
     },
     "29b7911e3d83447a854f07dbacb19886": {
      "model_module": "@jupyter-widgets/controls",
      "model_module_version": "1.4.0",
      "model_name": "ButtonStyleModel",
      "state": {
       "button_color": "orange"
      }
     },
     "29f28b12df9d49a6b3549311265fd8e5": {
      "model_module": "@jupyter-widgets/base",
      "model_module_version": "1.1.0",
      "model_name": "LayoutModel",
      "state": {
       "width": "70%"
      }
     },
     "29f75ebfc843471f893c94ec077e0e26": {
      "model_module": "@jupyter-widgets/controls",
      "model_module_version": "1.4.0",
      "model_name": "DescriptionStyleModel",
      "state": {
       "description_width": "initial"
      }
     },
     "29fc3c4a550a4181824a9c4b4eadbc29": {
      "model_module": "@jupyter-widgets/controls",
      "model_module_version": "1.4.0",
      "model_name": "ButtonStyleModel",
      "state": {
       "button_color": "lightgreen"
      }
     },
     "2a0f0ea4547345b2b30b93576753a2c6": {
      "model_module": "@jupyter-widgets/controls",
      "model_module_version": "1.4.0",
      "model_name": "HBoxModel",
      "state": {
       "children": [
        "IPY_MODEL_563616c313074574947b34eb5149a290",
        "IPY_MODEL_3585603e2a1749a38286b3bd8394af36"
       ],
       "layout": "IPY_MODEL_3de0686ca6ac43ee955f30e04b2e341c"
      }
     },
     "2a18af3fff3647f6a7dcd869152900a6": {
      "model_module": "@jupyter-widgets/controls",
      "model_module_version": "1.4.0",
      "model_name": "DescriptionStyleModel",
      "state": {
       "description_width": ""
      }
     },
     "2a86afd0a1774c679c12fd71308247ea": {
      "model_module": "@jupyter-widgets/controls",
      "model_module_version": "1.4.0",
      "model_name": "ButtonModel",
      "state": {
       "description": "Check shapefile",
       "layout": "IPY_MODEL_3d98e21559144b2ba40ea598f49908b9",
       "style": "IPY_MODEL_c061d7a4e86e4e4291968615ae7daa11",
       "tooltip": "Click me"
      }
     },
     "2aa19a95debd4a46bdc15b7026399c26": {
      "model_module": "jupyter-leaflet",
      "model_module_version": "~0.7.3",
      "model_name": "LeafletMapModel",
      "state": {
       "_dom_classes": [],
       "_model_module_version": "~0.7.3",
       "_view_count": null,
       "_view_module_version": "~0.7.3",
       "basemap": {
        "attribution": "Map data (c) <a href=\"https://openstreetmap.org\">OpenStreetMap</a> contributors",
        "max_zoom": 19,
        "url": "https://{s}.tile.openstreetmap.org/{z}/{x}/{y}.png"
       },
       "center": [
        -20.01851645170249,
        145.31341552734378
       ],
       "controls": [
        "IPY_MODEL_cca9c9073da141cf8e1448d4c88d2094"
       ],
       "east": 145.63476562500003,
       "layers": [
        "IPY_MODEL_e73c5f97d59e4fde9df4bb96df36324f"
       ],
       "layout": "IPY_MODEL_299b3d749ae84fadaf9f826128f0b18d",
       "modisdate": "yesterday",
       "north": -19.760241554664503,
       "options": [
        "attribution_control",
        "basemap",
        "bounce_at_zoom_limits",
        "box_zoom",
        "center",
        "close_popup_on_click",
        "double_click_zoom",
        "dragging",
        "inertia",
        "inertia_deceleration",
        "inertia_max_speed",
        "keyboard",
        "keyboard_pan_offset",
        "keyboard_zoom_offset",
        "max_zoom",
        "min_zoom",
        "scroll_wheel_zoom",
        "tap",
        "tap_tolerance",
        "touch_zoom",
        "world_copy_jump",
        "zoom",
        "zoom_animation_threshold",
        "zoom_control",
        "zoom_start"
       ],
       "south": -20.276367870836033,
       "west": 144.99343872070315,
       "zoom": 10
      }
     },
     "2afad6b6e2a24fe48f4ae02373ce691f": {
      "model_module": "@jupyter-widgets/base",
      "model_module_version": "1.1.0",
      "model_name": "LayoutModel",
      "state": {
       "width": "70%"
      }
     },
     "2afc43db349849c0bd1267d74258cea1": {
      "model_module": "@jupyter-widgets/base",
      "model_module_version": "1.1.0",
      "model_name": "LayoutModel",
      "state": {}
     },
     "2b1add0a18d24c878cd1274830d101e7": {
      "model_module": "@jupyter-widgets/base",
      "model_module_version": "1.1.0",
      "model_name": "LayoutModel",
      "state": {}
     },
     "2b3ae6f9161d48288f5c871b89b063b8": {
      "model_module": "@jupyter-widgets/controls",
      "model_module_version": "1.4.0",
      "model_name": "ButtonStyleModel",
      "state": {
       "button_color": "lightgreen"
      }
     },
     "2b597281a7e94be9928de045f59e8450": {
      "model_module": "@jupyter-widgets/controls",
      "model_module_version": "1.4.0",
      "model_name": "DescriptionStyleModel",
      "state": {
       "description_width": ""
      }
     },
     "2b59c647013a47edb0c36582ece919c2": {
      "model_module": "@jupyter-widgets/base",
      "model_module_version": "1.1.0",
      "model_name": "LayoutModel",
      "state": {}
     },
     "2b8e02dc7bd04e4092a98ba8cad750c5": {
      "model_module": "@jupyter-widgets/base",
      "model_module_version": "1.1.0",
      "model_name": "LayoutModel",
      "state": {}
     },
     "2c4db1279ac145adaa7cc38c6a1666d3": {
      "model_module": "@jupyter-widgets/base",
      "model_module_version": "1.1.0",
      "model_name": "LayoutModel",
      "state": {}
     },
     "2cba40606b2448eabf5ce1043dd4a460": {
      "model_module": "@jupyter-widgets/base",
      "model_module_version": "1.1.0",
      "model_name": "LayoutModel",
      "state": {}
     },
     "2cd8e812d9fe44a9b5416803cedde042": {
      "model_module": "jupyter-leaflet",
      "model_module_version": "~0.7.3",
      "model_name": "LeafletDrawControlModel",
      "state": {
       "_model_module_version": "~0.7.3",
       "_view_count": null,
       "_view_module_version": "~0.7.3",
       "layer": "IPY_MODEL_546b053d92c44606951cc893871ea4a7",
       "polygon": {
        "shapeOptions": {
         "color": "#0000FF"
        }
       },
       "polyline": {}
      }
     },
     "2d4c273233cb4683911ce72427fa6a7d": {
      "model_module": "@jupyter-widgets/controls",
      "model_module_version": "1.4.0",
      "model_name": "DescriptionStyleModel",
      "state": {
       "description_width": ""
      }
     },
     "2e83cd260d6e4ca6be9b39bd8f01ae99": {
      "model_module": "@jupyter-widgets/base",
      "model_module_version": "1.1.0",
      "model_name": "LayoutModel",
      "state": {}
     },
     "2e8b40c67b25435298375036f82589fc": {
      "model_module": "@jupyter-widgets/controls",
      "model_module_version": "1.4.0",
      "model_name": "VBoxModel",
      "state": {
       "_dom_classes": [
        "widget-interact"
       ],
       "children": [
        "IPY_MODEL_505af6924e094ca8b5127e76e448deda",
        "IPY_MODEL_0e891c8e96e64c2eb26a3fe54ac94974"
       ],
       "layout": "IPY_MODEL_196e19dd896f429284b92227b7e21112"
      }
     },
     "2ec103a608a340f8852f92f721a4a304": {
      "model_module": "@jupyter-widgets/base",
      "model_module_version": "1.1.0",
      "model_name": "LayoutModel",
      "state": {}
     },
     "2ed6eb805b474d20a4d90cd87977bd4c": {
      "model_module": "@jupyter-widgets/base",
      "model_module_version": "1.1.0",
      "model_name": "LayoutModel",
      "state": {}
     },
     "2ed95cb0c6b047f39768cadf7e29d1a2": {
      "model_module": "@jupyter-widgets/controls",
      "model_module_version": "1.4.0",
      "model_name": "VBoxModel",
      "state": {
       "children": [
        "IPY_MODEL_edb49d430860448589f51d68b2bc16a6",
        "IPY_MODEL_6c46c6a7bc2f4a21a6f9d822653d49ed"
       ],
       "layout": "IPY_MODEL_39f494b4892e4da69c576df9fb6e49f8"
      }
     },
     "2efccb5675a54867be48156bf302be56": {
      "model_module": "@jupyter-widgets/controls",
      "model_module_version": "1.4.0",
      "model_name": "VBoxModel",
      "state": {
       "children": [
        "IPY_MODEL_fd71ef46bab64166b80f392ec2b12b63",
        "IPY_MODEL_7dfd20eefc6d4b2081a1e4c400c8c40b"
       ],
       "layout": "IPY_MODEL_5753ecf66af946f8b522afceecfd682f"
      }
     },
     "2f7fbdcf2f2241c08fbe15815cf7c9bd": {
      "model_module": "@jupyter-widgets/controls",
      "model_module_version": "1.4.0",
      "model_name": "HBoxModel",
      "state": {
       "children": [
        "IPY_MODEL_fabead22666b4edf81b436f3aabe2c3c",
        "IPY_MODEL_9eead5604aa747d49f09101a7ecc428c"
       ],
       "layout": "IPY_MODEL_7d508b1a9a824c11be72201c70f89058"
      }
     },
     "2f87149616594bc9ae4625e9f87b5dd9": {
      "model_module": "@jupyter-widgets/base",
      "model_module_version": "1.1.0",
      "model_name": "LayoutModel",
      "state": {}
     },
     "2fdc2d9fb6bc4b4fa47bb404bd0c2333": {
      "model_module": "@jupyter-widgets/base",
      "model_module_version": "1.1.0",
      "model_name": "LayoutModel",
      "state": {}
     },
     "3021077200a24a348c7b9b7b70893bc8": {
      "model_module": "jupyter-leaflet",
      "model_module_version": "~0.7.3",
      "model_name": "LeafletDrawControlModel",
      "state": {
       "_model_module_version": "~0.7.3",
       "_view_count": null,
       "_view_module_version": "~0.7.3",
       "layer": "IPY_MODEL_4fea6e74ffa3472ea53edb79fab37663",
       "polygon": {
        "shapeOptions": {
         "color": "#0000FF"
        }
       },
       "polyline": {}
      }
     },
     "3099c0d954774b9eacd7e6d76ca30c6b": {
      "model_module": "@jupyter-widgets/controls",
      "model_module_version": "1.4.0",
      "model_name": "HBoxModel",
      "state": {
       "children": [
        "IPY_MODEL_bec925e5ac4b4a19bad4ea0ada57e573",
        "IPY_MODEL_81835bcf4e974387b5c26f7a886f3c27"
       ],
       "layout": "IPY_MODEL_1fde596783764dd0aeb242588ee4ad7f"
      }
     },
     "30d2a5c19896454897ae398c661269e4": {
      "model_module": "@jupyter-widgets/controls",
      "model_module_version": "1.4.0",
      "model_name": "ButtonModel",
      "state": {
       "description": "Check dates",
       "layout": "IPY_MODEL_c9c8ca26ebeb42e4a331f4cfcf5995a9",
       "style": "IPY_MODEL_18dd0f98d6d949a09a0a09130181b8ff",
       "tooltip": "Click me"
      }
     },
     "312986507e6e49b489891bd9e4aec043": {
      "model_module": "@jupyter-widgets/base",
      "model_module_version": "1.1.0",
      "model_name": "LayoutModel",
      "state": {
       "width": "70%"
      }
     },
     "317d2c6cfb3c43b499fb3285cab1405b": {
      "model_module": "@jupyter-widgets/controls",
      "model_module_version": "1.4.0",
      "model_name": "ButtonModel",
      "state": {
       "description": "Plot Geomedian",
       "layout": "IPY_MODEL_c0be69b8519a4e1785e486cf5af67a60",
       "style": "IPY_MODEL_b1a7f19cb4b9475bb0ec1916c89ccee0"
      }
     },
     "32079802d0ec42d5b17f2bad00c082b8": {
      "model_module": "@jupyter-widgets/controls",
      "model_module_version": "1.4.0",
      "model_name": "TextModel",
      "state": {
       "description": "path to shape file",
       "layout": "IPY_MODEL_af6417465f05425eab80c2d67bcdeabf",
       "placeholder": "update this field",
       "style": "IPY_MODEL_ff421a7caf40411d924184c16ca2b3a6",
       "value": "/g/data1a/r78/rjd547/groundwater_activities/Burdekin/Burdekin_shapefiles/fels_sml.shp"
      }
     },
     "32ae61e0106a40e98638e29813f07a8b": {
      "model_module": "@jupyter-widgets/base",
      "model_module_version": "1.1.0",
      "model_name": "LayoutModel",
      "state": {}
     },
     "32f959eae9ec46c2bafba09438849a35": {
      "model_module": "@jupyter-widgets/controls",
      "model_module_version": "1.4.0",
      "model_name": "DescriptionStyleModel",
      "state": {
       "description_width": ""
      }
     },
     "3342b3a6099b49e196627bcce0e64a62": {
      "model_module": "@jupyter-widgets/base",
      "model_module_version": "1.1.0",
      "model_name": "LayoutModel",
      "state": {}
     },
     "338b0a886f0d4433aeb345ef69e861fa": {
      "model_module": "@jupyter-widgets/base",
      "model_module_version": "1.1.0",
      "model_name": "LayoutModel",
      "state": {}
     },
     "33bd405f124b4eaa87ae6ec964770b9f": {
      "model_module": "@jupyter-widgets/controls",
      "model_module_version": "1.4.0",
      "model_name": "ButtonStyleModel",
      "state": {
       "button_color": "orange"
      }
     },
     "341ecb2918294db39d28075fc793883c": {
      "model_module": "jupyter-leaflet",
      "model_module_version": "~0.7.3",
      "model_name": "LeafletTileLayerModel",
      "state": {
       "_model_module_version": "~0.7.3",
       "_view_count": null,
       "_view_module_version": "~0.7.3",
       "attribution": "Tiles &copy; Esri &mdash; Source: Esri, i-cubed, USDA, USGS, AEX, GeoEye, Getmapping, Aerogrid, IGN, IGP, UPR-EGP, and the GIS User Community",
       "base": true,
       "max_zoom": 20,
       "min_zoom": 1,
       "name": "Esri.WorldImagery",
       "options": [
        "attribution",
        "detect_retina",
        "max_zoom",
        "min_zoom",
        "tile_size"
       ],
       "url": "http://server.arcgisonline.com/ArcGIS/rest/services/World_Imagery/MapServer/tile/{z}/{y}/{x}"
      }
     },
     "34ef05a924d2421eb1f25fed67f88593": {
      "model_module": "jupyter-leaflet",
      "model_module_version": "~0.7.3",
      "model_name": "LeafletTileLayerModel",
      "state": {
       "_model_module_version": "~0.7.3",
       "_view_count": null,
       "_view_module_version": "~0.7.3",
       "attribution": "Tiles &copy; Esri &mdash; Source: Esri, i-cubed, USDA, USGS, AEX, GeoEye, Getmapping, Aerogrid, IGN, IGP, UPR-EGP, and the GIS User Community",
       "base": true,
       "max_zoom": 20,
       "min_zoom": 1,
       "name": "Esri.WorldImagery",
       "options": [
        "attribution",
        "detect_retina",
        "max_zoom",
        "min_zoom",
        "tile_size"
       ],
       "url": "http://server.arcgisonline.com/ArcGIS/rest/services/World_Imagery/MapServer/tile/{z}/{y}/{x}"
      }
     },
     "35077f877d0a47ec83199e4f4f2496f8": {
      "model_module": "@jupyter-widgets/controls",
      "model_module_version": "1.4.0",
      "model_name": "HBoxModel",
      "state": {
       "children": [
        "IPY_MODEL_5fbd610896404e06af3bd27671e49965",
        "IPY_MODEL_d107289f230143808f5b22db46c5255a"
       ],
       "layout": "IPY_MODEL_abde39cceb364e88936b5325aa7ab741"
      }
     },
     "355708fde7ee4a37b80c8b82a8829141": {
      "model_module": "@jupyter-widgets/base",
      "model_module_version": "1.1.0",
      "model_name": "LayoutModel",
      "state": {}
     },
     "3585603e2a1749a38286b3bd8394af36": {
      "model_module": "@jupyter-widgets/controls",
      "model_module_version": "1.4.0",
      "model_name": "LabelModel",
      "state": {
       "layout": "IPY_MODEL_63f84435d83b4c46959b51b92cbc05df",
       "style": "IPY_MODEL_64227ae488e5402ca9df06856c144621",
       "value": "End date is valid"
      }
     },
     "3601092120214ef2906500c7edcb3184": {
      "model_module": "@jupyter-widgets/controls",
      "model_module_version": "1.4.0",
      "model_name": "DescriptionStyleModel",
      "state": {
       "description_width": "initial"
      }
     },
     "3617f29000154ffaa2cd8993aa69638d": {
      "model_module": "@jupyter-widgets/base",
      "model_module_version": "1.1.0",
      "model_name": "LayoutModel",
      "state": {}
     },
     "36b9096d85b24740b00ad28b8b518d05": {
      "model_module": "@jupyter-widgets/base",
      "model_module_version": "1.1.0",
      "model_name": "LayoutModel",
      "state": {}
     },
     "3742333151324b35a7503b55de892fdc": {
      "model_module": "@jupyter-widgets/controls",
      "model_module_version": "1.4.0",
      "model_name": "ButtonModel",
      "state": {
       "description": "Check dates",
       "layout": "IPY_MODEL_7ade81e89e6742c4b5cdc0ba714c2555",
       "style": "IPY_MODEL_f96fed83fd5a43ed9f4c6298b6a1fc4e",
       "tooltip": "Click me"
      }
     },
     "374830a1454449d29f8aff7764a5b226": {
      "model_module": "@jupyter-widgets/base",
      "model_module_version": "1.1.0",
      "model_name": "LayoutModel",
      "state": {}
     },
     "3761f48fb9874b8f9b94b57f60e81dfa": {
      "model_module": "@jupyter-widgets/base",
      "model_module_version": "1.1.0",
      "model_name": "LayoutModel",
      "state": {}
     },
     "378c31e5d59a484f9d255b82ae16a2a8": {
      "model_module": "jupyter-leaflet",
      "model_module_version": "~0.7.3",
      "model_name": "LeafletMapModel",
      "state": {
       "_dom_classes": [],
       "_model_module_version": "~0.7.3",
       "_view_count": null,
       "_view_module_version": "~0.7.3",
       "basemap": {
        "attribution": "Map data (c) <a href=\"https://openstreetmap.org\">OpenStreetMap</a> contributors",
        "max_zoom": 19,
        "url": "https://{s}.tile.openstreetmap.org/{z}/{x}/{y}.png"
       },
       "center": [
        -20.0183,
        145.3134
       ],
       "controls": [
        "IPY_MODEL_394bb299e84a489badd352846b284afe"
       ],
       "east": 145.57571411132815,
       "layers": [
        "IPY_MODEL_f72d7c91bcae465d90f1a6d586355f95"
       ],
       "layout": "IPY_MODEL_0bb27288e0f94204974203c3213b584c",
       "modisdate": "yesterday",
       "north": -19.760241554664503,
       "options": [
        "attribution_control",
        "basemap",
        "bounce_at_zoom_limits",
        "box_zoom",
        "center",
        "close_popup_on_click",
        "double_click_zoom",
        "dragging",
        "inertia",
        "inertia_deceleration",
        "inertia_max_speed",
        "keyboard",
        "keyboard_pan_offset",
        "keyboard_zoom_offset",
        "max_zoom",
        "min_zoom",
        "scroll_wheel_zoom",
        "tap",
        "tap_tolerance",
        "touch_zoom",
        "world_copy_jump",
        "zoom",
        "zoom_animation_threshold",
        "zoom_control",
        "zoom_start"
       ],
       "south": -20.276367870836033,
       "west": 145.0511169433594,
       "zoom": 10
      }
     },
     "37b6f43e2617443a9eaddd8a735733bd": {
      "model_module": "@jupyter-widgets/base",
      "model_module_version": "1.1.0",
      "model_name": "LayoutModel",
      "state": {}
     },
     "37d74a5ded0f4b04bed331318ee34261": {
      "model_module": "@jupyter-widgets/controls",
      "model_module_version": "1.4.0",
      "model_name": "ButtonModel",
      "state": {
       "description": "Check shapefile",
       "layout": "IPY_MODEL_193f5deda64348fd9c968bf1a7831904",
       "style": "IPY_MODEL_079c930d28614463ac8aac9a0660c5eb",
       "tooltip": "Click me"
      }
     },
     "384800a964d546c8a96da2fe9e7e52eb": {
      "model_module": "@jupyter-widgets/base",
      "model_module_version": "1.1.0",
      "model_name": "LayoutModel",
      "state": {}
     },
     "394bb299e84a489badd352846b284afe": {
      "model_module": "jupyter-leaflet",
      "model_module_version": "~0.7.3",
      "model_name": "LeafletDrawControlModel",
      "state": {
       "_model_module_version": "~0.7.3",
       "_view_count": null,
       "_view_module_version": "~0.7.3",
       "layer": "IPY_MODEL_f85b2e1d239443bebb635bfcd63d4059",
       "polyline": {}
      }
     },
     "396f2960c3dd46498942009adea01c17": {
      "model_module": "@jupyter-widgets/base",
      "model_module_version": "1.1.0",
      "model_name": "LayoutModel",
      "state": {}
     },
     "39773aafc13142b6acaa4d3503e54a12": {
      "model_module": "@jupyter-widgets/base",
      "model_module_version": "1.1.0",
      "model_name": "LayoutModel",
      "state": {}
     },
     "398d50728181443fa8bebac25c89a1c7": {
      "model_module": "@jupyter-widgets/base",
      "model_module_version": "1.1.0",
      "model_name": "LayoutModel",
      "state": {}
     },
     "39f494b4892e4da69c576df9fb6e49f8": {
      "model_module": "@jupyter-widgets/base",
      "model_module_version": "1.1.0",
      "model_name": "LayoutModel",
      "state": {}
     },
     "3a75b4cd1e1c427083d4857a07ef77ce": {
      "model_module": "@jupyter-widgets/controls",
      "model_module_version": "1.4.0",
      "model_name": "ButtonModel",
      "state": {
       "description": "Load and Calculate",
       "layout": "IPY_MODEL_c59ce347ee774988ab93c8a55d2cc6cb",
       "style": "IPY_MODEL_806d0836d71849e1a85a615e108d5e73"
      }
     },
     "3b2bceee23d343e69fbeaf9668d7f00a": {
      "model_module": "jupyter-leaflet",
      "model_module_version": "~0.7.3",
      "model_name": "LeafletFeatureGroupModel",
      "state": {
       "_model_module_version": "~0.7.3",
       "_view_count": null,
       "_view_module_version": "~0.7.3"
      }
     },
     "3bbc30eab3974db3af83ad1f124f2b11": {
      "model_module": "@jupyter-widgets/base",
      "model_module_version": "1.1.0",
      "model_name": "LayoutModel",
      "state": {}
     },
     "3bf45206249846e5ae9c82a4a201f2e8": {
      "model_module": "@jupyter-widgets/controls",
      "model_module_version": "1.4.0",
      "model_name": "DescriptionStyleModel",
      "state": {
       "description_width": ""
      }
     },
     "3c509296daae4be0be0d7f2bc7d24c33": {
      "model_module": "@jupyter-widgets/controls",
      "model_module_version": "1.4.0",
      "model_name": "ButtonModel",
      "state": {
       "description": "Plot Geomedian",
       "layout": "IPY_MODEL_b6cbebcde4be4077826c5f444661320a",
       "style": "IPY_MODEL_7608330ad3af497c957ed5dd98119d68"
      }
     },
     "3cc44fcf1b944c27932288cfd8b8587b": {
      "model_module": "@jupyter-widgets/controls",
      "model_module_version": "1.4.0",
      "model_name": "ButtonStyleModel",
      "state": {}
     },
     "3ceef6c11f9a40d9bb4eb95c438d1ffe": {
      "model_module": "@jupyter-widgets/controls",
      "model_module_version": "1.4.0",
      "model_name": "ButtonStyleModel",
      "state": {
       "button_color": "orange"
      }
     },
     "3d75035ec4414ff793a8b7e3e7f4e290": {
      "model_module": "jupyter-leaflet",
      "model_module_version": "~0.7.3",
      "model_name": "LeafletTileLayerModel",
      "state": {
       "_model_module_version": "~0.7.3",
       "_view_count": null,
       "_view_module_version": "~0.7.3",
       "attribution": "Tiles &copy; Esri &mdash; Source: Esri, i-cubed, USDA, USGS, AEX, GeoEye, Getmapping, Aerogrid, IGN, IGP, UPR-EGP, and the GIS User Community",
       "base": true,
       "max_zoom": 20,
       "min_zoom": 1,
       "name": "Esri.WorldImagery",
       "options": [
        "attribution",
        "detect_retina",
        "max_zoom",
        "min_zoom",
        "tile_size"
       ],
       "url": "http://server.arcgisonline.com/ArcGIS/rest/services/World_Imagery/MapServer/tile/{z}/{y}/{x}"
      }
     },
     "3d98e21559144b2ba40ea598f49908b9": {
      "model_module": "@jupyter-widgets/base",
      "model_module_version": "1.1.0",
      "model_name": "LayoutModel",
      "state": {}
     },
     "3de0686ca6ac43ee955f30e04b2e341c": {
      "model_module": "@jupyter-widgets/base",
      "model_module_version": "1.1.0",
      "model_name": "LayoutModel",
      "state": {}
     },
     "3e0ff1aec91540f08c3706ed34eeb588": {
      "model_module": "@jupyter-widgets/base",
      "model_module_version": "1.1.0",
      "model_name": "LayoutModel",
      "state": {}
     },
     "3e2630fc9405446490f972acf9a2f9e8": {
      "model_module": "@jupyter-widgets/controls",
      "model_module_version": "1.4.0",
      "model_name": "DescriptionStyleModel",
      "state": {
       "description_width": ""
      }
     },
     "3e2841f021c749eabfbe73b1c3c80b56": {
      "model_module": "@jupyter-widgets/base",
      "model_module_version": "1.1.0",
      "model_name": "LayoutModel",
      "state": {}
     },
     "3ea73809b88a46c7aef343413929f5c2": {
      "model_module": "@jupyter-widgets/controls",
      "model_module_version": "1.4.0",
      "model_name": "ButtonStyleModel",
      "state": {
       "button_color": "orange"
      }
     },
     "3f2f7ba6736943a18e4c95415bc3c315": {
      "model_module": "@jupyter-widgets/base",
      "model_module_version": "1.1.0",
      "model_name": "LayoutModel",
      "state": {}
     },
     "3ff6c1985a674ebdae2d6704ffae03a7": {
      "model_module": "@jupyter-widgets/controls",
      "model_module_version": "1.4.0",
      "model_name": "ButtonModel",
      "state": {
       "description": "Check dates",
       "layout": "IPY_MODEL_2138279249974a19a958485e3883e855",
       "style": "IPY_MODEL_721053dd4c9745dbae4ede7838645de1",
       "tooltip": "Click me"
      }
     },
     "400f379fc79a40559e46ab5ce6998605": {
      "model_module": "@jupyter-widgets/controls",
      "model_module_version": "1.4.0",
      "model_name": "DescriptionStyleModel",
      "state": {
       "description_width": "initial"
      }
     },
     "40a8ce946ccf47b399d3f9773af87f25": {
      "model_module": "@jupyter-widgets/base",
      "model_module_version": "1.1.0",
      "model_name": "LayoutModel",
      "state": {}
     },
     "40abcbf57a2d42609730d420388f3831": {
      "model_module": "@jupyter-widgets/base",
      "model_module_version": "1.1.0",
      "model_name": "LayoutModel",
      "state": {}
     },
     "40d9787329c84588b93dce8063503129": {
      "model_module": "@jupyter-widgets/base",
      "model_module_version": "1.1.0",
      "model_name": "LayoutModel",
      "state": {}
     },
     "4138bbeee0c34ef2b654f827a17c5285": {
      "model_module": "@jupyter-widgets/controls",
      "model_module_version": "1.4.0",
      "model_name": "ButtonStyleModel",
      "state": {}
     },
     "41ab56cf23654b5ba22f19901a52094e": {
      "model_module": "@jupyter-widgets/base",
      "model_module_version": "1.1.0",
      "model_name": "LayoutModel",
      "state": {}
     },
     "42e133edd1b740539df6abeb3bec465a": {
      "model_module": "@jupyter-widgets/base",
      "model_module_version": "1.1.0",
      "model_name": "LayoutModel",
      "state": {}
     },
     "42e43b5424444aedb21d513ceed64783": {
      "model_module": "@jupyter-widgets/controls",
      "model_module_version": "1.4.0",
      "model_name": "ButtonStyleModel",
      "state": {}
     },
     "430c38d1df2d400da511decfebe18e3d": {
      "model_module": "jupyter-leaflet",
      "model_module_version": "~0.7.3",
      "model_name": "LeafletGeoJSONModel",
      "state": {
       "_model_module_version": "~0.7.3",
       "_view_count": null,
       "_view_module_version": "~0.7.3",
       "data": {
        "geometry": {
         "coordinates": [
          [
           [
            145.319687,
            -19.928857
           ],
           [
            145.332055,
            -19.977909
           ],
           [
            145.278459,
            -19.9792
           ],
           [
            145.26884,
            -19.936603
           ],
           [
            145.319687,
            -19.928857
           ]
          ]
         ],
         "type": "Polygon"
        },
        "properties": {
         "style": {
          "clickable": true,
          "color": "#3388ff",
          "fill": true,
          "fillColor": null,
          "fillOpacity": 0.2,
          "opacity": 0.5,
          "stroke": true,
          "weight": 4
         }
        },
        "type": "Feature"
       }
      }
     },
     "43294cce0c574549a805bc1832afa5dc": {
      "model_module": "@jupyter-widgets/base",
      "model_module_version": "1.1.0",
      "model_name": "LayoutModel",
      "state": {}
     },
     "43b7430463134c18b30d2d1affe0a004": {
      "model_module": "jupyter-leaflet",
      "model_module_version": "~0.7.3",
      "model_name": "LeafletDrawControlModel",
      "state": {
       "_model_module_version": "~0.7.3",
       "_view_count": null,
       "_view_module_version": "~0.7.3",
       "layer": "IPY_MODEL_c7104fbe7a1b4137919d154facf960a8",
       "polygon": {
        "shapeOptions": {
         "color": "#0000FF"
        }
       },
       "polyline": {}
      }
     },
     "43f52c445fb4432ba3a8e68498df68b3": {
      "model_module": "@jupyter-widgets/controls",
      "model_module_version": "1.4.0",
      "model_name": "DescriptionStyleModel",
      "state": {
       "description_width": ""
      }
     },
     "443da1e8733548c4bf0f9cc3e666724d": {
      "model_module": "@jupyter-widgets/base",
      "model_module_version": "1.1.0",
      "model_name": "LayoutModel",
      "state": {}
     },
     "4482c2ef667943f99a44e65be1ee0eac": {
      "model_module": "@jupyter-widgets/base",
      "model_module_version": "1.1.0",
      "model_name": "LayoutModel",
      "state": {}
     },
     "448b0694f9d841899f13e27ee43880d0": {
      "model_module": "@jupyter-widgets/controls",
      "model_module_version": "1.4.0",
      "model_name": "HBoxModel",
      "state": {
       "children": [
        "IPY_MODEL_26c02a4f34994e2dabf4ac559037b291",
        "IPY_MODEL_afafbd1a00824f5bb529d69bd0efa39f"
       ],
       "layout": "IPY_MODEL_fb49e2a250fe4fb68ecb25efe1208dc8"
      }
     },
     "44d059dcc9184e66bf0382bddefad072": {
      "model_module": "@jupyter-widgets/controls",
      "model_module_version": "1.4.0",
      "model_name": "ButtonStyleModel",
      "state": {
       "button_color": "lightgreen"
      }
     },
     "45a254841970494c8833e3fc715264a4": {
      "model_module": "@jupyter-widgets/controls",
      "model_module_version": "1.4.0",
      "model_name": "ButtonStyleModel",
      "state": {
       "button_color": "orange"
      }
     },
     "45b3d745a6d240f1b77fdb59cb0910a5": {
      "model_module": "jupyter-leaflet",
      "model_module_version": "~0.7.3",
      "model_name": "LeafletMapModel",
      "state": {
       "_dom_classes": [],
       "_model_module_version": "~0.7.3",
       "_view_count": null,
       "_view_module_version": "~0.7.3",
       "basemap": {
        "attribution": "Map data (c) <a href=\"https://openstreetmap.org\">OpenStreetMap</a> contributors",
        "max_zoom": 19,
        "url": "https://{s}.tile.openstreetmap.org/{z}/{x}/{y}.png"
       },
       "center": [
        -20.00883875717698,
        145.27770996093753
       ],
       "controls": [
        "IPY_MODEL_9c2259ad2b92449d9dcafbd2095291e7"
       ],
       "east": 145.40885925292972,
       "layers": [
        "IPY_MODEL_cc41447f4be74e5fb5cd60506285a781"
       ],
       "layout": "IPY_MODEL_1d51a02b51ee4776a886f2f3a6285a3d",
       "modisdate": "yesterday",
       "north": -19.879746041940486,
       "options": [
        "attribution_control",
        "basemap",
        "bounce_at_zoom_limits",
        "box_zoom",
        "center",
        "close_popup_on_click",
        "double_click_zoom",
        "dragging",
        "inertia",
        "inertia_deceleration",
        "inertia_max_speed",
        "keyboard",
        "keyboard_pan_offset",
        "keyboard_zoom_offset",
        "max_zoom",
        "min_zoom",
        "scroll_wheel_zoom",
        "tap",
        "tap_tolerance",
        "touch_zoom",
        "world_copy_jump",
        "zoom",
        "zoom_animation_threshold",
        "zoom_control",
        "zoom_start"
       ],
       "south": -20.13782564485672,
       "west": 145.14656066894534,
       "zoom": 11
      }
     },
     "4704dbd2a88d4acda5666a8003dd1fbe": {
      "model_module": "@jupyter-widgets/controls",
      "model_module_version": "1.4.0",
      "model_name": "ToggleButtonsModel",
      "state": {
       "_options_labels": [
        "Shapefile",
        "DrawnPolygon"
       ],
       "button_style": "",
       "description": "Geometry Used for Datacube Query:",
       "icons": [],
       "index": 1,
       "layout": "IPY_MODEL_c638a0562dbd43a48768dfc7aa545a57",
       "style": "IPY_MODEL_866e4d50d7144f1f9a0fd6d7c324e5dc",
       "tooltips": [
        "Use Shapefile Specified for the DC query",
        "Use Polygon Drawn on the Map for the DC query"
       ]
      }
     },
     "476949afe8da454cb6700459f1cbee76": {
      "model_module": "@jupyter-widgets/base",
      "model_module_version": "1.1.0",
      "model_name": "LayoutModel",
      "state": {
       "width": "70%"
      }
     },
     "476f19e1c2c34610a11ae7c6efacdf76": {
      "model_module": "@jupyter-widgets/base",
      "model_module_version": "1.1.0",
      "model_name": "LayoutModel",
      "state": {}
     },
     "47be2b807aa94e0581485167fc2a1df0": {
      "model_module": "@jupyter-widgets/controls",
      "model_module_version": "1.4.0",
      "model_name": "TextModel",
      "state": {
       "description": "path to shape file",
       "layout": "IPY_MODEL_b37dcd204c074e2e9005609f92975a4d",
       "placeholder": "/g/data1a/r78/rjd547/groundwater_activities/Burdekin/Burdekin_shapefiles/fels_sml.shp",
       "style": "IPY_MODEL_57b2af79b50547799714ce2a965618da",
       "value": "/g/data1a/r78/rjd547/groundwater_activities/Burdekin/Burdekin_shapefiles/fels_sml.shp"
      }
     },
     "4896f28f55db4f45b7b34541e2f702f9": {
      "model_module": "@jupyter-widgets/controls",
      "model_module_version": "1.4.0",
      "model_name": "ButtonModel",
      "state": {
       "description": "Select File",
       "icon": "square-o",
       "layout": "IPY_MODEL_cf79f0110e9947668e6807c5a91e210f",
       "style": "IPY_MODEL_9a08efa4fef148e1a28c87b5221472a4"
      }
     },
     "48d6ff7331a44a8f9ebdfa8f2f0fd6c5": {
      "model_module": "@jupyter-widgets/controls",
      "model_module_version": "1.4.0",
      "model_name": "TextModel",
      "state": {
       "description": "start date",
       "layout": "IPY_MODEL_83fc73556dce47a2853e484f29aa55f8",
       "placeholder": "update this field YYYY-MM-DD",
       "style": "IPY_MODEL_ca13ea05a65d4773b21fe02b041cbf27",
       "value": "2013-04-01"
      }
     },
     "48f3138fb309491c95e63280af075847": {
      "model_module": "jupyter-leaflet",
      "model_module_version": "~0.7.3",
      "model_name": "LeafletMapModel",
      "state": {
       "_dom_classes": [],
       "_model_module_version": "~0.7.3",
       "_view_count": null,
       "_view_module_version": "~0.7.3",
       "basemap": {
        "attribution": "Tiles &copy; Esri &mdash; Source: Esri, i-cubed, USDA, USGS, AEX, GeoEye, Getmapping, Aerogrid, IGN, IGP, UPR-EGP, and the GIS User Community",
        "max_zoom": 20,
        "name": "Esri.WorldImagery",
        "url": "http://server.arcgisonline.com/ArcGIS/rest/services/World_Imagery/MapServer/tile/{z}/{y}/{x}"
       },
       "center": [
        -20.021097069675676,
        145.20904541015628
       ],
       "controls": [
        "IPY_MODEL_43b7430463134c18b30d2d1affe0a004"
       ],
       "east": 145.46447753906253,
       "layers": [
        "IPY_MODEL_8c550db151884ef896e0e7b131fcde6c",
        "IPY_MODEL_430c38d1df2d400da511decfebe18e3d"
       ],
       "layout": "IPY_MODEL_751abdda30454bda9ca6f8ae2be67980",
       "modisdate": "yesterday",
       "north": -19.76282638490851,
       "options": [
        "attribution_control",
        "basemap",
        "bounce_at_zoom_limits",
        "box_zoom",
        "center",
        "close_popup_on_click",
        "double_click_zoom",
        "dragging",
        "inertia",
        "inertia_deceleration",
        "inertia_max_speed",
        "keyboard",
        "keyboard_pan_offset",
        "keyboard_zoom_offset",
        "max_zoom",
        "min_zoom",
        "scroll_wheel_zoom",
        "tap",
        "tap_tolerance",
        "touch_zoom",
        "world_copy_jump",
        "zoom",
        "zoom_animation_threshold",
        "zoom_control",
        "zoom_start"
       ],
       "south": -20.278944231137633,
       "west": 144.95361328125003,
       "zoom": 10
      }
     },
     "498d5e44c74548eb9c60c7d37cc1e153": {
      "model_module": "@jupyter-widgets/controls",
      "model_module_version": "1.4.0",
      "model_name": "ToggleButtonsStyleModel",
      "state": {
       "button_width": "",
       "description_width": ""
      }
     },
     "49d33c5c42344cabb097bc8c051ca76f": {
      "model_module": "@jupyter-widgets/base",
      "model_module_version": "1.1.0",
      "model_name": "LayoutModel",
      "state": {}
     },
     "49f7eca4ee4845b78a53e511a0f2a4ec": {
      "model_module": "@jupyter-widgets/controls",
      "model_module_version": "1.4.0",
      "model_name": "DescriptionStyleModel",
      "state": {
       "description_width": ""
      }
     },
     "4bd38c3a77d24b8db9c7861d349c8656": {
      "model_module": "@jupyter-widgets/base",
      "model_module_version": "1.1.0",
      "model_name": "LayoutModel",
      "state": {}
     },
     "4ccc81fb6949492b81e3a2aa401d2bfd": {
      "model_module": "@jupyter-widgets/base",
      "model_module_version": "1.1.0",
      "model_name": "LayoutModel",
      "state": {}
     },
     "4ceeeb52d326492ca12af3c019bd8a66": {
      "model_module": "@jupyter-widgets/controls",
      "model_module_version": "1.4.0",
      "model_name": "ToggleButtonsModel",
      "state": {
       "_options_labels": [
        "Shapefile",
        "DrawnPolygon"
       ],
       "button_style": "",
       "description": "Geometry Used for Datacube Query:",
       "icons": [],
       "index": 1,
       "layout": "IPY_MODEL_10729fa9678141079fbf3d811d526998",
       "style": "IPY_MODEL_534d78a381eb49cbaf1f1e5ce294bb8e",
       "tooltips": [
        "Use Shapefile Specified for the DC query",
        "Use Polygon Drawn on the Map for the DC query"
       ]
      }
     },
     "4cf0dc35ed9241779de3d62ef911c6c5": {
      "model_module": "@jupyter-widgets/controls",
      "model_module_version": "1.4.0",
      "model_name": "ButtonStyleModel",
      "state": {
       "button_color": "orange"
      }
     },
     "4cf53202c189492999dd625799fc5753": {
      "model_module": "@jupyter-widgets/base",
      "model_module_version": "1.1.0",
      "model_name": "LayoutModel",
      "state": {}
     },
     "4d15c5506fd84e61a8826d2095d8a7a3": {
      "model_module": "@jupyter-widgets/base",
      "model_module_version": "1.1.0",
      "model_name": "LayoutModel",
      "state": {}
     },
     "4d2c4731f442482da1cd2f815b90f035": {
      "model_module": "@jupyter-widgets/controls",
      "model_module_version": "1.4.0",
      "model_name": "DescriptionStyleModel",
      "state": {
       "description_width": ""
      }
     },
     "4d5ce2fc5004436c867eea9e391f007e": {
      "model_module": "@jupyter-widgets/base",
      "model_module_version": "1.1.0",
      "model_name": "LayoutModel",
      "state": {}
     },
     "4d8eede902a74c22966e9588efa2b5b2": {
      "model_module": "@jupyter-widgets/base",
      "model_module_version": "1.1.0",
      "model_name": "LayoutModel",
      "state": {}
     },
     "4e195601456a458db1d71c2a90df836a": {
      "model_module": "@jupyter-widgets/controls",
      "model_module_version": "1.4.0",
      "model_name": "LabelModel",
      "state": {
       "layout": "IPY_MODEL_a5006babf92545438769cf5b8951837e",
       "style": "IPY_MODEL_fb9aef14f2a9414ab8d9c04bb81c6782",
       "value": "End date is valid"
      }
     },
     "4e34e953cbcf45f8b028fef53aa1d7b0": {
      "model_module": "@jupyter-widgets/base",
      "model_module_version": "1.1.0",
      "model_name": "LayoutModel",
      "state": {}
     },
     "4ea17b0f48e4415c9111925c093c1ceb": {
      "model_module": "@jupyter-widgets/base",
      "model_module_version": "1.1.0",
      "model_name": "LayoutModel",
      "state": {}
     },
     "4fea6e74ffa3472ea53edb79fab37663": {
      "model_module": "jupyter-leaflet",
      "model_module_version": "~0.7.3",
      "model_name": "LeafletFeatureGroupModel",
      "state": {
       "_model_module_version": "~0.7.3",
       "_view_count": null,
       "_view_module_version": "~0.7.3"
      }
     },
     "502617ed6bed4a6392f9fb8567950ada": {
      "model_module": "jupyter-leaflet",
      "model_module_version": "~0.7.3",
      "model_name": "LeafletDrawControlModel",
      "state": {
       "_model_module_version": "~0.7.3",
       "_view_count": null,
       "_view_module_version": "~0.7.3",
       "layer": "IPY_MODEL_548a970f378a4c9e9dfe4ccbeb0e069a",
       "polygon": {
        "shapeOptions": {
         "color": "#0000FF"
        }
       },
       "polyline": {}
      }
     },
     "505af6924e094ca8b5127e76e448deda": {
      "model_module": "@jupyter-widgets/controls",
      "model_module_version": "1.4.0",
      "model_name": "RadioButtonsModel",
      "state": {
       "_options_labels": [
        "Geomedian",
        "Tasselled Cap"
       ],
       "description": "Save Which Stat?",
       "index": 0,
       "layout": "IPY_MODEL_0d06498f25f44ccc9d2f12ccf48ed866",
       "style": "IPY_MODEL_b38a782dba584749a8511fb5d37112b0"
      }
     },
     "50b2740c24494427b6eb87fb4b0c248a": {
      "model_module": "@jupyter-widgets/controls",
      "model_module_version": "1.4.0",
      "model_name": "LabelModel",
      "state": {
       "layout": "IPY_MODEL_43294cce0c574549a805bc1832afa5dc",
       "style": "IPY_MODEL_1e40aee8a9d644f593dd739046f8ef5e",
       "value": "Start date is valid"
      }
     },
     "50f49c1fc21243309ee39c34f39495e6": {
      "model_module": "@jupyter-widgets/base",
      "model_module_version": "1.1.0",
      "model_name": "LayoutModel",
      "state": {}
     },
     "510244072f9c484c8097c56ac4e6319e": {
      "model_module": "@jupyter-widgets/base",
      "model_module_version": "1.1.0",
      "model_name": "LayoutModel",
      "state": {}
     },
     "511250ca4a4f4d0bb29614e49c44386a": {
      "model_module": "@jupyter-widgets/base",
      "model_module_version": "1.1.0",
      "model_name": "LayoutModel",
      "state": {
       "width": "70%"
      }
     },
     "513673dda9644f9fb6990370f58bee22": {
      "model_module": "@jupyter-widgets/controls",
      "model_module_version": "1.4.0",
      "model_name": "ButtonStyleModel",
      "state": {}
     },
     "519e88e884ea480686a9eeaafff7ea52": {
      "model_module": "@jupyter-widgets/controls",
      "model_module_version": "1.4.0",
      "model_name": "DescriptionStyleModel",
      "state": {
       "description_width": "initial"
      }
     },
     "51a0297aab8a4de5b7519265a5d410da": {
      "model_module": "@jupyter-widgets/controls",
      "model_module_version": "1.4.0",
      "model_name": "HBoxModel",
      "state": {
       "children": [
        "IPY_MODEL_0aa8752fbff145af96b185f94da14618",
        "IPY_MODEL_aa8f3b8327914a42907a7bae7ea9e685"
       ],
       "layout": "IPY_MODEL_398d50728181443fa8bebac25c89a1c7"
      }
     },
     "52f0c47aefa648d0a489b213f3ff4a49": {
      "model_module": "@jupyter-widgets/controls",
      "model_module_version": "1.4.0",
      "model_name": "DescriptionStyleModel",
      "state": {
       "description_width": ""
      }
     },
     "534d78a381eb49cbaf1f1e5ce294bb8e": {
      "model_module": "@jupyter-widgets/controls",
      "model_module_version": "1.4.0",
      "model_name": "ToggleButtonsStyleModel",
      "state": {
       "button_width": "",
       "description_width": ""
      }
     },
     "543df75902804d5caac4d1ce1ca9f4f2": {
      "model_module": "@jupyter-widgets/base",
      "model_module_version": "1.1.0",
      "model_name": "LayoutModel",
      "state": {}
     },
     "54619ca7118e4a1cae75bf0920a7976e": {
      "model_module": "jupyter-leaflet",
      "model_module_version": "~0.7.3",
      "model_name": "LeafletFeatureGroupModel",
      "state": {
       "_model_module_version": "~0.7.3",
       "_view_count": null,
       "_view_module_version": "~0.7.3"
      }
     },
     "546b053d92c44606951cc893871ea4a7": {
      "model_module": "jupyter-leaflet",
      "model_module_version": "~0.7.3",
      "model_name": "LeafletFeatureGroupModel",
      "state": {
       "_model_module_version": "~0.7.3",
       "_view_count": null,
       "_view_module_version": "~0.7.3"
      }
     },
     "548a970f378a4c9e9dfe4ccbeb0e069a": {
      "model_module": "jupyter-leaflet",
      "model_module_version": "~0.7.3",
      "model_name": "LeafletFeatureGroupModel",
      "state": {
       "_model_module_version": "~0.7.3",
       "_view_count": null,
       "_view_module_version": "~0.7.3"
      }
     },
     "54e611a40ad749d5b4497d9cbdf0ea37": {
      "model_module": "@jupyter-widgets/controls",
      "model_module_version": "1.4.0",
      "model_name": "ButtonModel",
      "state": {
       "description": "Select File",
       "icon": "square-o",
       "layout": "IPY_MODEL_19f237d3fef04cd7a93706e77cc51fd6",
       "style": "IPY_MODEL_91667a1fdf624e708db6dc1922821cd9"
      }
     },
     "54f79816866a4ebaba8bc93d3c2c2fea": {
      "model_module": "@jupyter-widgets/controls",
      "model_module_version": "1.4.0",
      "model_name": "ButtonStyleModel",
      "state": {}
     },
     "5540e111c3f54e4394f0f56cfeb83212": {
      "model_module": "@jupyter-widgets/base",
      "model_module_version": "1.1.0",
      "model_name": "LayoutModel",
      "state": {}
     },
     "55c4b5c5cefc424b9283cb0488224176": {
      "model_module": "@jupyter-widgets/controls",
      "model_module_version": "1.4.0",
      "model_name": "DescriptionStyleModel",
      "state": {
       "description_width": "initial"
      }
     },
     "563616c313074574947b34eb5149a290": {
      "model_module": "@jupyter-widgets/controls",
      "model_module_version": "1.4.0",
      "model_name": "TextModel",
      "state": {
       "description": "end date",
       "layout": "IPY_MODEL_84f7747da5304c2e974ae3f413949caa",
       "placeholder": "update this field YYYY-MM-DD",
       "style": "IPY_MODEL_88cae757d2f7459e998bff86f4958e13",
       "value": "2013-10-31"
      }
     },
     "56377bf08de443289371fa4ba49b6012": {
      "model_module": "@jupyter-widgets/controls",
      "model_module_version": "1.4.0",
      "model_name": "DescriptionStyleModel",
      "state": {
       "description_width": ""
      }
     },
     "5671c97b9e094ab39ae8d694d7fe83f3": {
      "model_module": "@jupyter-widgets/base",
      "model_module_version": "1.1.0",
      "model_name": "LayoutModel",
      "state": {}
     },
     "56a0fdf4b09f4a4fa8336df68cb8401b": {
      "model_module": "@jupyter-widgets/base",
      "model_module_version": "1.1.0",
      "model_name": "LayoutModel",
      "state": {}
     },
     "56f8155ff47541d7bdf3f33927f68276": {
      "model_module": "@jupyter-widgets/base",
      "model_module_version": "1.1.0",
      "model_name": "LayoutModel",
      "state": {}
     },
     "57447ab799eb4f7fa0fe2e9142cb3c7b": {
      "model_module": "@jupyter-widgets/controls",
      "model_module_version": "1.4.0",
      "model_name": "ToggleButtonsStyleModel",
      "state": {
       "button_width": "",
       "description_width": ""
      }
     },
     "5753ecf66af946f8b522afceecfd682f": {
      "model_module": "@jupyter-widgets/base",
      "model_module_version": "1.1.0",
      "model_name": "LayoutModel",
      "state": {}
     },
     "5777a627855f4941af19c6657d7c4284": {
      "model_module": "@jupyter-widgets/controls",
      "model_module_version": "1.4.0",
      "model_name": "ButtonStyleModel",
      "state": {}
     },
     "57b2af79b50547799714ce2a965618da": {
      "model_module": "@jupyter-widgets/controls",
      "model_module_version": "1.4.0",
      "model_name": "DescriptionStyleModel",
      "state": {
       "description_width": "initial"
      }
     },
     "57da9101bc734176953c2564943cfe18": {
      "model_module": "@jupyter-widgets/base",
      "model_module_version": "1.1.0",
      "model_name": "LayoutModel",
      "state": {
       "width": "70%"
      }
     },
     "58271b4d3ed44a9aa2820ca8290889c7": {
      "model_module": "@jupyter-widgets/base",
      "model_module_version": "1.1.0",
      "model_name": "LayoutModel",
      "state": {}
     },
     "586540cb3fc941da9b05bf6cb9855eac": {
      "model_module": "@jupyter-widgets/base",
      "model_module_version": "1.1.0",
      "model_name": "LayoutModel",
      "state": {}
     },
     "58e4ede9d357461d999c853dca24e73f": {
      "model_module": "@jupyter-widgets/controls",
      "model_module_version": "1.4.0",
      "model_name": "TextModel",
      "state": {
       "description": "start date",
       "layout": "IPY_MODEL_d0a326b80a1847268b631b8e397adb37",
       "placeholder": "update this field YYYY-MM-DD",
       "style": "IPY_MODEL_d059f19b453c40f4bf59f0526c822e2e",
       "value": "2013-05-01"
      }
     },
     "58fd4dd604d647cb9665b40609d7b24f": {
      "model_module": "@jupyter-widgets/base",
      "model_module_version": "1.1.0",
      "model_name": "LayoutModel",
      "state": {}
     },
     "598d80b0b3bc43c284f2a30089ff56ea": {
      "model_module": "@jupyter-widgets/controls",
      "model_module_version": "1.4.0",
      "model_name": "ButtonModel",
      "state": {
       "description": "File Name Specified",
       "icon": "check-square-o",
       "layout": "IPY_MODEL_612c7e86a3d5492b86415986979aed94",
       "style": "IPY_MODEL_70d40665368640f1b8f39e68d0234add"
      }
     },
     "59d5cbd3ad074721b7aa71e8a60c18dd": {
      "model_module": "@jupyter-widgets/controls",
      "model_module_version": "1.4.0",
      "model_name": "TextModel",
      "state": {
       "description": "path to shape file",
       "layout": "IPY_MODEL_2957bfd4907f4cc79631cfc449884884",
       "placeholder": "/g/data1a/r78/rjd547/groundwater_activities/Burdekin/Burdekin_shapefiles/fels_sml.shp",
       "style": "IPY_MODEL_fa0500b0cf9140169c8896665fdb6cfa",
       "value": "/g/data1a/r78/rjd547/groundwater_activities/Burdekin/Burdekin_shapefiles/fels_sml.shp"
      }
     },
     "5a07bb90f7854105906f064db21f654e": {
      "model_module": "@jupyter-widgets/controls",
      "model_module_version": "1.4.0",
      "model_name": "HBoxModel",
      "state": {
       "children": [
        "IPY_MODEL_5bab54d6259f4ad6844325c3dea6a933",
        "IPY_MODEL_7a7c197de4dc45e4b464f01d75c5e730"
       ],
       "layout": "IPY_MODEL_fbc917df6ba04424ad14aceed230467d"
      }
     },
     "5a18379e7ccf431c90739d796afe504a": {
      "model_module": "@jupyter-widgets/controls",
      "model_module_version": "1.4.0",
      "model_name": "DescriptionStyleModel",
      "state": {
       "description_width": ""
      }
     },
     "5a6905a4b6aa45588303c02e1982c67a": {
      "model_module": "@jupyter-widgets/controls",
      "model_module_version": "1.4.0",
      "model_name": "ButtonModel",
      "state": {
       "description": "File Name Specified",
       "icon": "check-square-o",
       "layout": "IPY_MODEL_f9cf14f69e5c49f79538bc09d0f7b4e4",
       "style": "IPY_MODEL_9f0315324d9a438a9618a25ae2b8e004"
      }
     },
     "5a775137d2c7411f8054ccde2dab68bd": {
      "model_module": "jupyter-leaflet",
      "model_module_version": "~0.7.3",
      "model_name": "LeafletGeoJSONModel",
      "state": {
       "_model_module_version": "~0.7.3",
       "_view_count": null,
       "_view_module_version": "~0.7.3",
       "data": {
        "geometry": {
         "coordinates": [
          [
           [
            145.056458,
            -20.161204
           ],
           [
            145.039967,
            -19.634353
           ],
           [
            145.815044,
            -19.59037
           ],
           [
            145.787559,
            -20.039977
           ],
           [
            145.056458,
            -20.161204
           ]
          ]
         ],
         "type": "Polygon"
        },
        "properties": {
         "style": {
          "clickable": true,
          "color": "#3388ff",
          "fill": true,
          "fillColor": null,
          "fillOpacity": 0.2,
          "opacity": 0.5,
          "stroke": true,
          "weight": 4
         }
        },
        "type": "Feature"
       }
      }
     },
     "5b60bb4fead34084a2a498ae3f535223": {
      "model_module": "@jupyter-widgets/base",
      "model_module_version": "1.1.0",
      "model_name": "LayoutModel",
      "state": {
       "width": "70%"
      }
     },
     "5bab54d6259f4ad6844325c3dea6a933": {
      "model_module": "@jupyter-widgets/controls",
      "model_module_version": "1.4.0",
      "model_name": "TextModel",
      "state": {
       "description": "start date",
       "layout": "IPY_MODEL_906c46d8696c4b448818edb4f1211a14",
       "placeholder": "update this field YYYY-MM-DD",
       "style": "IPY_MODEL_49f7eca4ee4845b78a53e511a0f2a4ec",
       "value": "2013-04-01"
      }
     },
     "5be45dd7db0346e58e732c45983d45ff": {
      "model_module": "@jupyter-widgets/base",
      "model_module_version": "1.1.0",
      "model_name": "LayoutModel",
      "state": {}
     },
     "5bf47680298c426e9d9c7a1653461428": {
      "model_module": "@jupyter-widgets/base",
      "model_module_version": "1.1.0",
      "model_name": "LayoutModel",
      "state": {
       "width": "70%"
      }
     },
     "5c6170dfcfeb4e06bcefa27f13fbc527": {
      "model_module": "@jupyter-widgets/controls",
      "model_module_version": "1.4.0",
      "model_name": "ButtonStyleModel",
      "state": {
       "button_color": "orange"
      }
     },
     "5d18532946984a64a963505ab74e65f9": {
      "model_module": "@jupyter-widgets/base",
      "model_module_version": "1.1.0",
      "model_name": "LayoutModel",
      "state": {}
     },
     "5d3533b0338a4471906cea5add1f6b27": {
      "model_module": "jupyter-leaflet",
      "model_module_version": "~0.7.3",
      "model_name": "LeafletTileLayerModel",
      "state": {
       "_model_module_version": "~0.7.3",
       "_view_count": null,
       "_view_module_version": "~0.7.3",
       "attribution": "Tiles &copy; Esri &mdash; Source: Esri, i-cubed, USDA, USGS, AEX, GeoEye, Getmapping, Aerogrid, IGN, IGP, UPR-EGP, and the GIS User Community",
       "base": true,
       "max_zoom": 20,
       "min_zoom": 1,
       "name": "Esri.WorldImagery",
       "options": [
        "attribution",
        "detect_retina",
        "max_zoom",
        "min_zoom",
        "tile_size"
       ],
       "url": "http://server.arcgisonline.com/ArcGIS/rest/services/World_Imagery/MapServer/tile/{z}/{y}/{x}"
      }
     },
     "5e07a4cbc8fd45ef8c976c10fcb1447c": {
      "model_module": "@jupyter-widgets/controls",
      "model_module_version": "1.4.0",
      "model_name": "DescriptionStyleModel",
      "state": {
       "description_width": ""
      }
     },
     "5ea4e0ad48584e559bbefed7a9c193ad": {
      "model_module": "@jupyter-widgets/controls",
      "model_module_version": "1.4.0",
      "model_name": "TextModel",
      "state": {
       "description": "end date",
       "layout": "IPY_MODEL_aaf5a358f75e458fa7e91ad5460505a6",
       "placeholder": "update this field YYYY-MM-DD",
       "style": "IPY_MODEL_7d326dbac6e34f86bcee83d45c6ae74e",
       "value": "2013-05-31"
      }
     },
     "5f8a0121589f454fb35fd4e34a49eea8": {
      "model_module": "@jupyter-widgets/controls",
      "model_module_version": "1.4.0",
      "model_name": "ButtonModel",
      "state": {
       "description": "Load",
       "layout": "IPY_MODEL_fd9dce9e370a410a9d99c9da107efc5f",
       "style": "IPY_MODEL_e8a38dd07bf649a3b78ada303311cce2"
      }
     },
     "5f99c4c47ea9494ca284b0984efbf4f2": {
      "model_module": "@jupyter-widgets/base",
      "model_module_version": "1.1.0",
      "model_name": "LayoutModel",
      "state": {}
     },
     "5faacfe7b11a417e996b38e52466bb93": {
      "model_module": "@jupyter-widgets/controls",
      "model_module_version": "1.4.0",
      "model_name": "ButtonModel",
      "state": {
       "description": "Check dates",
       "layout": "IPY_MODEL_4ccc81fb6949492b81e3a2aa401d2bfd",
       "style": "IPY_MODEL_9934b930870e4564961f7f29d3c0aaca",
       "tooltip": "Click me"
      }
     },
     "5fbd610896404e06af3bd27671e49965": {
      "model_module": "@jupyter-widgets/controls",
      "model_module_version": "1.4.0",
      "model_name": "TextModel",
      "state": {
       "description": "start date",
       "layout": "IPY_MODEL_3342b3a6099b49e196627bcce0e64a62",
       "placeholder": "update this field YYYY-MM-DD",
       "style": "IPY_MODEL_8dc22bcc721a4e57874a67f9a6ecad65",
       "value": "2013-04-01"
      }
     },
     "603485709521464b98aae564416d6a5e": {
      "model_module": "@jupyter-widgets/controls",
      "model_module_version": "1.4.0",
      "model_name": "HBoxModel",
      "state": {
       "children": [
        "IPY_MODEL_147add4859b14054812de346ba649b91",
        "IPY_MODEL_4896f28f55db4f45b7b34541e2f702f9"
       ],
       "layout": "IPY_MODEL_3617f29000154ffaa2cd8993aa69638d"
      }
     },
     "60ea540d16a149d7a127089fc7ba1a7b": {
      "model_module": "@jupyter-widgets/base",
      "model_module_version": "1.1.0",
      "model_name": "LayoutModel",
      "state": {}
     },
     "611c0e44b4de4dbb968631e51dc53064": {
      "model_module": "jupyter-leaflet",
      "model_module_version": "~0.7.3",
      "model_name": "LeafletDrawControlModel",
      "state": {
       "_model_module_version": "~0.7.3",
       "_view_count": null,
       "_view_module_version": "~0.7.3",
       "layer": "IPY_MODEL_be274867537242eda9af68770b7f8e5b",
       "polyline": {}
      }
     },
     "612675846c8b4a8da72aad8071b9e341": {
      "model_module": "@jupyter-widgets/controls",
      "model_module_version": "1.4.0",
      "model_name": "ButtonStyleModel",
      "state": {}
     },
     "612c7e86a3d5492b86415986979aed94": {
      "model_module": "@jupyter-widgets/base",
      "model_module_version": "1.1.0",
      "model_name": "LayoutModel",
      "state": {}
     },
     "6152224439d64344aa8ed101d000a710": {
      "model_module": "@jupyter-widgets/controls",
      "model_module_version": "1.4.0",
      "model_name": "ButtonModel",
      "state": {
       "description": "Save File As",
       "icon": "square-o",
       "layout": "IPY_MODEL_8b063b7cfa1d4e9795c23f6ce4c327e3",
       "style": "IPY_MODEL_9d6fd0996e454234a2f7f9bb31bd70ed"
      }
     },
     "617854336e094a8daada710c504e0f68": {
      "model_module": "@jupyter-widgets/controls",
      "model_module_version": "1.4.0",
      "model_name": "DescriptionStyleModel",
      "state": {
       "description_width": ""
      }
     },
     "61cd1e36635d49a783c62496f20f8e82": {
      "model_module": "@jupyter-widgets/controls",
      "model_module_version": "1.4.0",
      "model_name": "ButtonStyleModel",
      "state": {}
     },
     "6267c710469c43ec8a7af96658b61529": {
      "model_module": "@jupyter-widgets/base",
      "model_module_version": "1.1.0",
      "model_name": "LayoutModel",
      "state": {}
     },
     "62c1ffa1add84407a860466d6be777b7": {
      "model_module": "@jupyter-widgets/controls",
      "model_module_version": "1.4.0",
      "model_name": "DescriptionStyleModel",
      "state": {
       "description_width": "initial"
      }
     },
     "62cf1cec73004ebdaffabb1f0e726304": {
      "model_module": "@jupyter-widgets/base",
      "model_module_version": "1.1.0",
      "model_name": "LayoutModel",
      "state": {}
     },
     "62e1e82c62344279a83d3ca67c251f79": {
      "model_module": "@jupyter-widgets/controls",
      "model_module_version": "1.4.0",
      "model_name": "HBoxModel",
      "state": {
       "children": [
        "IPY_MODEL_48d6ff7331a44a8f9ebdfa8f2f0fd6c5",
        "IPY_MODEL_95613f27523445929c8839d497355866"
       ],
       "layout": "IPY_MODEL_4e34e953cbcf45f8b028fef53aa1d7b0"
      }
     },
     "635c00d824b14ebb96a6cae2632b49f5": {
      "model_module": "@jupyter-widgets/controls",
      "model_module_version": "1.4.0",
      "model_name": "ToggleButtonsModel",
      "state": {
       "_options_labels": [
        "Shapefile",
        "DrawnPolygon"
       ],
       "button_style": "",
       "description": "Geometry Used for Datacube Query:",
       "icons": [],
       "index": 1,
       "layout": "IPY_MODEL_8d7309d4ee404efabe5c363230bc69f2",
       "style": "IPY_MODEL_6eae73c1f45640b180b62d0946fe2ab2",
       "tooltips": [
        "Use Shapefile Specified for the DC query",
        "Use Polygon Drawn on the Map for the DC query"
       ]
      }
     },
     "63e3ba9719914ea5b87eed00af669fc9": {
      "model_module": "@jupyter-widgets/controls",
      "model_module_version": "1.4.0",
      "model_name": "DescriptionStyleModel",
      "state": {
       "description_width": "initial"
      }
     },
     "63f84435d83b4c46959b51b92cbc05df": {
      "model_module": "@jupyter-widgets/base",
      "model_module_version": "1.1.0",
      "model_name": "LayoutModel",
      "state": {}
     },
     "640444ac363b45478bbc10abe9ea1c34": {
      "model_module": "jupyter-leaflet",
      "model_module_version": "~0.7.3",
      "model_name": "LeafletDrawControlModel",
      "state": {
       "_model_module_version": "~0.7.3",
       "_view_count": null,
       "_view_module_version": "~0.7.3",
       "layer": "IPY_MODEL_b83aff089c004bda8f987caba5f460ac",
       "polygon": {
        "shapeOptions": {
         "color": "#0000FF"
        }
       },
       "polyline": {}
      }
     },
     "64227ae488e5402ca9df06856c144621": {
      "model_module": "@jupyter-widgets/controls",
      "model_module_version": "1.4.0",
      "model_name": "DescriptionStyleModel",
      "state": {
       "description_width": ""
      }
     },
     "646aeadcb86d40b4a5ad979dbf78461d": {
      "model_module": "@jupyter-widgets/controls",
      "model_module_version": "1.4.0",
      "model_name": "ButtonStyleModel",
      "state": {}
     },
     "649dff08167041e88151747b11065dda": {
      "model_module": "@jupyter-widgets/controls",
      "model_module_version": "1.4.0",
      "model_name": "DescriptionStyleModel",
      "state": {
       "description_width": "initial"
      }
     },
     "64dac93dc32c447ba8090da99baad03d": {
      "model_module": "@jupyter-widgets/base",
      "model_module_version": "1.1.0",
      "model_name": "LayoutModel",
      "state": {}
     },
     "64fb32f437ef44719c4fcf2897fc9874": {
      "model_module": "@jupyter-widgets/controls",
      "model_module_version": "1.4.0",
      "model_name": "ToggleButtonsStyleModel",
      "state": {
       "button_width": "",
       "description_width": ""
      }
     },
     "651eb5a5c46645c9ae113c6908980ad7": {
      "model_module": "@jupyter-widgets/base",
      "model_module_version": "1.1.0",
      "model_name": "LayoutModel",
      "state": {}
     },
     "6539fcfd58bc44c8b5b9388b3c1829e7": {
      "model_module": "@jupyter-widgets/controls",
      "model_module_version": "1.4.0",
      "model_name": "TextModel",
      "state": {
       "description": "start date",
       "layout": "IPY_MODEL_0e940ccd7e3445fd922a3460176ecb3e",
       "placeholder": "update this field YYYY-MM-DD",
       "style": "IPY_MODEL_fc17a5d7cf4e4a1ba63e210c2ef93955",
       "value": "2013-04-01"
      }
     },
     "659398f5d1c246d6af167d5cba79e640": {
      "model_module": "@jupyter-widgets/controls",
      "model_module_version": "1.4.0",
      "model_name": "TextModel",
      "state": {
       "description": "start date",
       "layout": "IPY_MODEL_2fdc2d9fb6bc4b4fa47bb404bd0c2333",
       "placeholder": "update this field YYYY-MM-DD",
       "style": "IPY_MODEL_ba8c688827394a2689ec2a031843a227",
       "value": "2013-03-01"
      }
     },
     "66b6c5a802d643ee9966b0ef74434006": {
      "model_module": "@jupyter-widgets/output",
      "model_module_version": "1.0.0",
      "model_name": "OutputModel",
      "state": {
       "layout": "IPY_MODEL_ad310d4001034171898694491fc7694d",
       "outputs": [
        {
         "name": "stdout",
         "output_type": "stream",
         "text": "Calculating Tasselled Cap Stats\nTasselled Cap Stats Calculated\n"
        }
       ]
      }
     },
     "66d51346a88b4e27a960722ba2e0d02e": {
      "model_module": "@jupyter-widgets/base",
      "model_module_version": "1.1.0",
      "model_name": "LayoutModel",
      "state": {}
     },
     "671dded51ba4466fac88fe4c672d8d4a": {
      "model_module": "@jupyter-widgets/controls",
      "model_module_version": "1.4.0",
      "model_name": "ButtonModel",
      "state": {
       "description": "Plot Geomedian",
       "layout": "IPY_MODEL_8af51839cc2a4599a74622bb958786fb",
       "style": "IPY_MODEL_95d7d70d3f6246558023ab0e64a9342f"
      }
     },
     "67777296d03a47c8a69c7287e0f143b9": {
      "model_module": "@jupyter-widgets/controls",
      "model_module_version": "1.4.0",
      "model_name": "ButtonModel",
      "state": {
       "description": "Plot Geomedian",
       "layout": "IPY_MODEL_396f2960c3dd46498942009adea01c17",
       "style": "IPY_MODEL_27dbc9e2eb3841f0a1e6db057136069e"
      }
     },
     "67862864aab0404e8581dc100b7bfc6b": {
      "model_module": "@jupyter-widgets/controls",
      "model_module_version": "1.4.0",
      "model_name": "ButtonModel",
      "state": {
       "description": "Save File As",
       "icon": "square-o",
       "layout": "IPY_MODEL_7dfedce6038943a9be566784d9c5b236",
       "style": "IPY_MODEL_8e3da30f136543ce8cab4faecd98ab8d"
      }
     },
     "67b628091d574c14b232a851a37c9a91": {
      "model_module": "@jupyter-widgets/controls",
      "model_module_version": "1.4.0",
      "model_name": "HBoxModel",
      "state": {
       "children": [
        "IPY_MODEL_c37f4b07fc5e49d19ebe548ade39e9b9",
        "IPY_MODEL_075ef51ecc2d4c34a9ac1883fc38af38"
       ],
       "layout": "IPY_MODEL_26576e536215460583150758f5083073"
      }
     },
     "6801ba7497a8497ca253f4bd8fc32399": {
      "model_module": "@jupyter-widgets/base",
      "model_module_version": "1.1.0",
      "model_name": "LayoutModel",
      "state": {}
     },
     "6851624eb60c4be6b2255e310ad6602e": {
      "model_module": "@jupyter-widgets/base",
      "model_module_version": "1.1.0",
      "model_name": "LayoutModel",
      "state": {}
     },
     "68a6fed10a254017a3e06932620e2b63": {
      "model_module": "@jupyter-widgets/controls",
      "model_module_version": "1.4.0",
      "model_name": "DescriptionStyleModel",
      "state": {
       "description_width": ""
      }
     },
     "68d1a62227c840e4a3bb164f039b1c8f": {
      "model_module": "@jupyter-widgets/controls",
      "model_module_version": "1.4.0",
      "model_name": "HBoxModel",
      "state": {
       "children": [
        "IPY_MODEL_82fc59dcd7ba477da1760d1095774a04",
        "IPY_MODEL_917880880e4c49029096b44297263966"
       ],
       "layout": "IPY_MODEL_13c32469a5b5413e9dcaca47133339ee"
      }
     },
     "68f02254f9db4d8eaa5974c6fc141e79": {
      "model_module": "@jupyter-widgets/base",
      "model_module_version": "1.1.0",
      "model_name": "LayoutModel",
      "state": {}
     },
     "69b815e81f5b4f3a8f2523e93a9caa8a": {
      "model_module": "@jupyter-widgets/controls",
      "model_module_version": "1.4.0",
      "model_name": "HBoxModel",
      "state": {
       "children": [
        "IPY_MODEL_e13aa78458c7404eb421f4291ac52d46",
        "IPY_MODEL_c782a8e6b9904ce2853906b11c33c4c3"
       ],
       "layout": "IPY_MODEL_42e133edd1b740539df6abeb3bec465a"
      }
     },
     "6a035bc17740478687f8c8fa3deccf16": {
      "model_module": "@jupyter-widgets/controls",
      "model_module_version": "1.4.0",
      "model_name": "HBoxModel",
      "state": {
       "children": [
        "IPY_MODEL_147add4859b14054812de346ba649b91",
        "IPY_MODEL_24477a571dd246e78ad79a5864ef03b3"
       ],
       "layout": "IPY_MODEL_ce8164946b664d8dad05de573daba3b1"
      }
     },
     "6a404838ba184056836b31fe5f72e7dd": {
      "model_module": "@jupyter-widgets/base",
      "model_module_version": "1.1.0",
      "model_name": "LayoutModel",
      "state": {}
     },
     "6a5a8678ae794bbf9991c2e25a14b6e9": {
      "model_module": "@jupyter-widgets/controls",
      "model_module_version": "1.4.0",
      "model_name": "ButtonModel",
      "state": {
       "description": "File Name Specified",
       "icon": "check-square-o",
       "layout": "IPY_MODEL_586540cb3fc941da9b05bf6cb9855eac",
       "style": "IPY_MODEL_29fc3c4a550a4181824a9c4b4eadbc29"
      }
     },
     "6ab9fd3fc85940608cf34db40ee9d2c8": {
      "model_module": "@jupyter-widgets/base",
      "model_module_version": "1.1.0",
      "model_name": "LayoutModel",
      "state": {}
     },
     "6ae0d4cf25064e7b9615aeee5cec4ecd": {
      "model_module": "@jupyter-widgets/base",
      "model_module_version": "1.1.0",
      "model_name": "LayoutModel",
      "state": {}
     },
     "6af7af5b946d4979860e037da468abdc": {
      "model_module": "@jupyter-widgets/controls",
      "model_module_version": "1.4.0",
      "model_name": "TextModel",
      "state": {
       "description": "end date",
       "layout": "IPY_MODEL_40a8ce946ccf47b399d3f9773af87f25",
       "placeholder": "update this field YYYY-MM-DD",
       "style": "IPY_MODEL_fbdbf305a95c448cb4d41e31f9aba7f7",
       "value": "2013-10-31"
      }
     },
     "6b6d9a1cf4394a6bbfe74922470441b6": {
      "model_module": "@jupyter-widgets/controls",
      "model_module_version": "1.4.0",
      "model_name": "HBoxModel",
      "state": {
       "children": [
        "IPY_MODEL_b20be0e784b44a4c86bf3540f6dd2d87",
        "IPY_MODEL_0beb2e36edad4f988163eb7b05fa0b4c"
       ],
       "layout": "IPY_MODEL_7945dfc959fe40f2b15c1b94c52fcd8a"
      }
     },
     "6bc9e42a425d451b960a28439aa08d5c": {
      "model_module": "@jupyter-widgets/controls",
      "model_module_version": "1.4.0",
      "model_name": "ButtonModel",
      "state": {
       "description": "Load and Calculate",
       "layout": "IPY_MODEL_298dc6c2b72346798278b75224536fdd",
       "style": "IPY_MODEL_3cc44fcf1b944c27932288cfd8b8587b"
      }
     },
     "6c46c6a7bc2f4a21a6f9d822653d49ed": {
      "model_module": "@jupyter-widgets/controls",
      "model_module_version": "1.4.0",
      "model_name": "ToggleButtonsModel",
      "state": {
       "_options_labels": [
        "Shapefile",
        "DrawnPolygon"
       ],
       "button_style": "",
       "description": "Geometry Used for Datacube Query:",
       "icons": [],
       "index": 1,
       "layout": "IPY_MODEL_dbd3a45ae7994bd8b720337725dfa614",
       "style": "IPY_MODEL_b5cb4f21868245d981c49f1126daffeb",
       "tooltips": [
        "Use Shapefile Specified for the DC query",
        "Use Polygon Drawn on the Map for the DC query"
       ]
      }
     },
     "6d0fa14e5b4b48f7ae84ba038be63dad": {
      "model_module": "@jupyter-widgets/controls",
      "model_module_version": "1.4.0",
      "model_name": "ButtonStyleModel",
      "state": {}
     },
     "6d32f914318e4acb9587327a90d57fbd": {
      "model_module": "@jupyter-widgets/controls",
      "model_module_version": "1.4.0",
      "model_name": "ButtonStyleModel",
      "state": {
       "button_color": "orange"
      }
     },
     "6da860f181104fb493d7dda70b01c10f": {
      "model_module": "@jupyter-widgets/base",
      "model_module_version": "1.1.0",
      "model_name": "LayoutModel",
      "state": {}
     },
     "6ddf45c325d74f57bc1dc8c6f7d805f5": {
      "model_module": "@jupyter-widgets/controls",
      "model_module_version": "1.4.0",
      "model_name": "TextModel",
      "state": {
       "description": "path to shape file",
       "layout": "IPY_MODEL_acbb101fcc0c43d9ad1949cdc5c59458",
       "placeholder": "/g/data1a/r78/rjd547/groundwater_activities/Burdekin/Burdekin_shapefiles/fels_sml.shp",
       "style": "IPY_MODEL_ab5857bebde144a5bd006a13977ae1a8",
       "value": "/g/data1a/r78/rjd547/groundwater_activities/Burdekin/Burdekin_shapefiles/fels_sml.shp"
      }
     },
     "6e83e898d42144a1ad649b8b89c7652c": {
      "model_module": "@jupyter-widgets/controls",
      "model_module_version": "1.4.0",
      "model_name": "DescriptionStyleModel",
      "state": {
       "description_width": ""
      }
     },
     "6e84e506076d459193a7dd485ce44a3c": {
      "model_module": "@jupyter-widgets/base",
      "model_module_version": "1.1.0",
      "model_name": "LayoutModel",
      "state": {}
     },
     "6eab3b42fdef428fa3bbafaa334eba13": {
      "model_module": "@jupyter-widgets/controls",
      "model_module_version": "1.4.0",
      "model_name": "HBoxModel",
      "state": {
       "children": [
        "IPY_MODEL_59d5cbd3ad074721b7aa71e8a60c18dd",
        "IPY_MODEL_9f684ea8f2a342b0b933be82ee38f9b2"
       ],
       "layout": "IPY_MODEL_56a0fdf4b09f4a4fa8336df68cb8401b"
      }
     },
     "6eae73c1f45640b180b62d0946fe2ab2": {
      "model_module": "@jupyter-widgets/controls",
      "model_module_version": "1.4.0",
      "model_name": "ToggleButtonsStyleModel",
      "state": {
       "button_width": "",
       "description_width": ""
      }
     },
     "6edced4f0f6946c9b893a883dcecbb56": {
      "model_module": "jupyter-leaflet",
      "model_module_version": "~0.7.3",
      "model_name": "LeafletMapModel",
      "state": {
       "_dom_classes": [],
       "_model_module_version": "~0.7.3",
       "_view_count": null,
       "_view_module_version": "~0.7.3",
       "basemap": {
        "attribution": "Tiles &copy; Esri &mdash; Source: Esri, i-cubed, USDA, USGS, AEX, GeoEye, Getmapping, Aerogrid, IGN, IGP, UPR-EGP, and the GIS User Community",
        "max_zoom": 20,
        "name": "Esri.WorldImagery",
        "url": "http://server.arcgisonline.com/ArcGIS/rest/services/World_Imagery/MapServer/tile/{z}/{y}/{x}"
       },
       "center": [
        -20.00883875717698,
        145.27770996093753
       ],
       "controls": [
        "IPY_MODEL_897fe888b6354f5bac0dbafe50fbb9af"
       ],
       "east": 145.40885925292972,
       "layers": [
        "IPY_MODEL_90e008b109d04c8fb75e086581fd4b01",
        "IPY_MODEL_fc7c397bf7304e21bf62186241b9507c"
       ],
       "layout": "IPY_MODEL_1d51a02b51ee4776a886f2f3a6285a3d",
       "modisdate": "yesterday",
       "north": -19.879746041940486,
       "options": [
        "attribution_control",
        "basemap",
        "bounce_at_zoom_limits",
        "box_zoom",
        "center",
        "close_popup_on_click",
        "double_click_zoom",
        "dragging",
        "inertia",
        "inertia_deceleration",
        "inertia_max_speed",
        "keyboard",
        "keyboard_pan_offset",
        "keyboard_zoom_offset",
        "max_zoom",
        "min_zoom",
        "scroll_wheel_zoom",
        "tap",
        "tap_tolerance",
        "touch_zoom",
        "world_copy_jump",
        "zoom",
        "zoom_animation_threshold",
        "zoom_control",
        "zoom_start"
       ],
       "south": -20.13782564485672,
       "west": 145.14656066894534,
       "zoom": 11
      }
     },
     "6f4ac051616440ac95b8b3379375e7ea": {
      "model_module": "@jupyter-widgets/base",
      "model_module_version": "1.1.0",
      "model_name": "LayoutModel",
      "state": {}
     },
     "6f5bb29b95984bb788e5435fe9e6e436": {
      "model_module": "jupyter-leaflet",
      "model_module_version": "~0.7.3",
      "model_name": "LeafletDrawControlModel",
      "state": {
       "_model_module_version": "~0.7.3",
       "_view_count": null,
       "_view_module_version": "~0.7.3",
       "layer": "IPY_MODEL_994324448ba14b7ab41718182d5b6d56",
       "polyline": {}
      }
     },
     "70290f5c49874c9d9db7536828971cbc": {
      "model_module": "@jupyter-widgets/base",
      "model_module_version": "1.1.0",
      "model_name": "LayoutModel",
      "state": {
       "height": "400px",
       "width": "400px"
      }
     },
     "7037f7458fc540ff81da2f7a897b6a68": {
      "model_module": "@jupyter-widgets/base",
      "model_module_version": "1.1.0",
      "model_name": "LayoutModel",
      "state": {}
     },
     "70d40665368640f1b8f39e68d0234add": {
      "model_module": "@jupyter-widgets/controls",
      "model_module_version": "1.4.0",
      "model_name": "ButtonStyleModel",
      "state": {
       "button_color": "lightgreen"
      }
     },
     "70f5981c117f45c1be000effcfcc0d03": {
      "model_module": "@jupyter-widgets/controls",
      "model_module_version": "1.4.0",
      "model_name": "ButtonStyleModel",
      "state": {
       "button_color": "orange"
      }
     },
     "70fb7a48153d4577be0d3426d9789450": {
      "model_module": "@jupyter-widgets/controls",
      "model_module_version": "1.4.0",
      "model_name": "DescriptionStyleModel",
      "state": {
       "description_width": ""
      }
     },
     "711e2fa2d77347029b00f0722dc2690a": {
      "model_module": "@jupyter-widgets/controls",
      "model_module_version": "1.4.0",
      "model_name": "ButtonModel",
      "state": {
       "description": "File Name Specified",
       "icon": "check-square-o",
       "layout": "IPY_MODEL_808d939e9fca44eb8bc0fb8ec6844d12",
       "style": "IPY_MODEL_d1ce4baf1c1946218a5db41c146e20a3"
      }
     },
     "715588c3ab4e45188a6b2073c1f4d517": {
      "model_module": "@jupyter-widgets/controls",
      "model_module_version": "1.4.0",
      "model_name": "DescriptionStyleModel",
      "state": {
       "description_width": "initial"
      }
     },
     "7193188f709b4d9fa5249e37eb62a010": {
      "model_module": "@jupyter-widgets/controls",
      "model_module_version": "1.4.0",
      "model_name": "DescriptionStyleModel",
      "state": {
       "description_width": ""
      }
     },
     "7194b5cf027246f382057e3cb2b85972": {
      "model_module": "jupyter-leaflet",
      "model_module_version": "~0.5.0",
      "model_name": "LeafletTileLayerModel",
      "state": {
       "_model_module_version": "~0.5.0",
       "_view_count": null,
       "_view_module_version": "~0.5.0",
       "max_zoom": 19,
       "min_zoom": 1,
       "options": [
        "attribution",
        "detect_retina",
        "max_zoom",
        "min_zoom",
        "opacity",
        "tile_size"
       ]
      }
     },
     "721053dd4c9745dbae4ede7838645de1": {
      "model_module": "@jupyter-widgets/controls",
      "model_module_version": "1.4.0",
      "model_name": "ButtonStyleModel",
      "state": {}
     },
     "72aa19fd84ed44439065ab7cd32c1697": {
      "model_module": "@jupyter-widgets/controls",
      "model_module_version": "1.4.0",
      "model_name": "LabelModel",
      "state": {
       "layout": "IPY_MODEL_d2232a3d78a54363bdaf423a3490748d",
       "style": "IPY_MODEL_b3cf89bc479243a2b01b81dfc8e4d4f7",
       "value": "End date is valid"
      }
     },
     "72ccbb642ec74e689ca1318de0296f56": {
      "model_module": "jupyter-leaflet",
      "model_module_version": "~0.7.3",
      "model_name": "LeafletMapModel",
      "state": {
       "_dom_classes": [],
       "_model_module_version": "~0.7.3",
       "_view_count": null,
       "_view_module_version": "~0.7.3",
       "basemap": {
        "attribution": "Tiles &copy; Esri &mdash; Source: Esri, i-cubed, USDA, USGS, AEX, GeoEye, Getmapping, Aerogrid, IGN, IGP, UPR-EGP, and the GIS User Community",
        "max_zoom": 20,
        "name": "Esri.WorldImagery",
        "url": "http://server.arcgisonline.com/ArcGIS/rest/services/World_Imagery/MapServer/tile/{z}/{y}/{x}"
       },
       "center": [
        -20.01851645170249,
        145.31307220458987
       ],
       "controls": [
        "IPY_MODEL_acdf33b6f8f9496f8dd135d970363587"
       ],
       "east": 145.44387817382815,
       "layers": [
        "IPY_MODEL_5d3533b0338a4471906cea5add1f6b27",
        "IPY_MODEL_02426a5cffe343fca332ec359de90725"
       ],
       "layout": "IPY_MODEL_d310ca5d8f004872871e7b57fe0c363e",
       "modisdate": "yesterday",
       "north": -19.889431653826637,
       "options": [
        "attribution_control",
        "basemap",
        "bounce_at_zoom_limits",
        "box_zoom",
        "center",
        "close_popup_on_click",
        "double_click_zoom",
        "dragging",
        "inertia",
        "inertia_deceleration",
        "inertia_max_speed",
        "keyboard",
        "keyboard_pan_offset",
        "keyboard_zoom_offset",
        "max_zoom",
        "min_zoom",
        "scroll_wheel_zoom",
        "tap",
        "tap_tolerance",
        "touch_zoom",
        "world_copy_jump",
        "zoom",
        "zoom_animation_threshold",
        "zoom_control",
        "zoom_start"
       ],
       "south": -20.147495379448873,
       "west": 145.1822662353516,
       "zoom": 11
      }
     },
     "72f7278b42f7443e826b4638e7e8f24f": {
      "model_module": "@jupyter-widgets/controls",
      "model_module_version": "1.4.0",
      "model_name": "VBoxModel",
      "state": {
       "_dom_classes": [
        "widget-interact"
       ],
       "children": [
        "IPY_MODEL_b20ba04985fb4ff0a8f5aef33eb71056",
        "IPY_MODEL_66b6c5a802d643ee9966b0ef74434006"
       ],
       "layout": "IPY_MODEL_56f8155ff47541d7bdf3f33927f68276"
      }
     },
     "72fd6290b42e49728ab89feb6989327d": {
      "model_module": "@jupyter-widgets/controls",
      "model_module_version": "1.4.0",
      "model_name": "TextModel",
      "state": {
       "description": "path to shape file",
       "layout": "IPY_MODEL_2afad6b6e2a24fe48f4ae02373ce691f",
       "placeholder": "choose a file",
       "style": "IPY_MODEL_fa247a4ef0234173b13cc7ece012dfc4",
       "value": "/g/data1a/r78/rjd547/groundwater_activities/Burdekin/Burdekin_shapefiles/fels_sml.shp"
      }
     },
     "733f836640984ed89b2678ba46ccf539": {
      "model_module": "@jupyter-widgets/controls",
      "model_module_version": "1.4.0",
      "model_name": "DescriptionStyleModel",
      "state": {
       "description_width": ""
      }
     },
     "7405395ff0b84550a6f6ae4bff1e7d17": {
      "model_module": "@jupyter-widgets/base",
      "model_module_version": "1.1.0",
      "model_name": "LayoutModel",
      "state": {}
     },
     "74aa77201fec4615b79c48989706bdaf": {
      "model_module": "@jupyter-widgets/controls",
      "model_module_version": "1.4.0",
      "model_name": "HBoxModel",
      "state": {
       "children": [
        "IPY_MODEL_fbfc053d45de4782a02e2d35962cbf98",
        "IPY_MODEL_54e611a40ad749d5b4497d9cbdf0ea37"
       ],
       "layout": "IPY_MODEL_a1af3941da114d819ea612b9a6398203"
      }
     },
     "74f194eb58f24caa9dba501cb0bcfe45": {
      "model_module": "@jupyter-widgets/controls",
      "model_module_version": "1.4.0",
      "model_name": "HBoxModel",
      "state": {
       "children": [
        "IPY_MODEL_7b1d71b37ba5411c910c070d34222ff9",
        "IPY_MODEL_50b2740c24494427b6eb87fb4b0c248a"
       ],
       "layout": "IPY_MODEL_7908b847355a4ebfbb87283b7df4677a"
      }
     },
     "751abdda30454bda9ca6f8ae2be67980": {
      "model_module": "@jupyter-widgets/base",
      "model_module_version": "1.1.0",
      "model_name": "LayoutModel",
      "state": {
       "height": "400px",
       "width": "400px"
      }
     },
     "7608330ad3af497c957ed5dd98119d68": {
      "model_module": "@jupyter-widgets/controls",
      "model_module_version": "1.4.0",
      "model_name": "ButtonStyleModel",
      "state": {}
     },
     "76ae0bd4a2944d54b338bcc6ac2daa80": {
      "model_module": "@jupyter-widgets/controls",
      "model_module_version": "1.4.0",
      "model_name": "HBoxModel",
      "state": {
       "children": [
        "IPY_MODEL_d0e2a22a6d394babba05088a803878db",
        "IPY_MODEL_2316916511174e27b4a1fb75070f1834"
       ],
       "layout": "IPY_MODEL_813ecb829b284b338fb7e905af509314"
      }
     },
     "76f3ebe0a35445d58b35c5cd61045ed3": {
      "model_module": "@jupyter-widgets/controls",
      "model_module_version": "1.4.0",
      "model_name": "DescriptionStyleModel",
      "state": {
       "description_width": ""
      }
     },
     "772be5d40cb84ae088ea257dfc920507": {
      "model_module": "@jupyter-widgets/controls",
      "model_module_version": "1.4.0",
      "model_name": "ButtonModel",
      "state": {
       "description": "Check dates",
       "layout": "IPY_MODEL_6da860f181104fb493d7dda70b01c10f",
       "style": "IPY_MODEL_8780d291c3734697b6f4f8bcdaad6504",
       "tooltip": "Click me"
      }
     },
     "77fc84748b1440888652c8d35fc7a4d4": {
      "model_module": "@jupyter-widgets/base",
      "model_module_version": "1.1.0",
      "model_name": "LayoutModel",
      "state": {
       "width": "70%"
      }
     },
     "7894c1c32b6f469eb9a1a718791b778c": {
      "model_module": "@jupyter-widgets/base",
      "model_module_version": "1.1.0",
      "model_name": "LayoutModel",
      "state": {}
     },
     "78cd97b539a146518b1336d248121544": {
      "model_module": "@jupyter-widgets/base",
      "model_module_version": "1.1.0",
      "model_name": "LayoutModel",
      "state": {}
     },
     "7908b847355a4ebfbb87283b7df4677a": {
      "model_module": "@jupyter-widgets/base",
      "model_module_version": "1.1.0",
      "model_name": "LayoutModel",
      "state": {}
     },
     "7945dfc959fe40f2b15c1b94c52fcd8a": {
      "model_module": "@jupyter-widgets/base",
      "model_module_version": "1.1.0",
      "model_name": "LayoutModel",
      "state": {}
     },
     "79ddc07458b145d389dd5afc57f9a879": {
      "model_module": "@jupyter-widgets/controls",
      "model_module_version": "1.4.0",
      "model_name": "ToggleButtonsStyleModel",
      "state": {
       "button_width": "",
       "description_width": ""
      }
     },
     "7a7c197de4dc45e4b464f01d75c5e730": {
      "model_module": "@jupyter-widgets/controls",
      "model_module_version": "1.4.0",
      "model_name": "LabelModel",
      "state": {
       "layout": "IPY_MODEL_a444df6bc990468eaf4799405bc4e6a6",
       "style": "IPY_MODEL_76f3ebe0a35445d58b35c5cd61045ed3",
       "value": "Is my start date valid?"
      }
     },
     "7ade81e89e6742c4b5cdc0ba714c2555": {
      "model_module": "@jupyter-widgets/base",
      "model_module_version": "1.1.0",
      "model_name": "LayoutModel",
      "state": {}
     },
     "7b1d71b37ba5411c910c070d34222ff9": {
      "model_module": "@jupyter-widgets/controls",
      "model_module_version": "1.4.0",
      "model_name": "TextModel",
      "state": {
       "description": "start date",
       "layout": "IPY_MODEL_91e4140f737945a8a2c2c7096a143081",
       "placeholder": "update this field YYYY-MM-DD",
       "style": "IPY_MODEL_7193188f709b4d9fa5249e37eb62a010",
       "value": "2013-04-01"
      }
     },
     "7b5fb97682184939a76021f60838a1bb": {
      "model_module": "@jupyter-widgets/controls",
      "model_module_version": "1.4.0",
      "model_name": "ButtonStyleModel",
      "state": {}
     },
     "7b828e228ccd4650a1a98983de6087b4": {
      "model_module": "@jupyter-widgets/controls",
      "model_module_version": "1.4.0",
      "model_name": "ButtonStyleModel",
      "state": {}
     },
     "7c0c46ff26e74f00b33dca141326b2fc": {
      "model_module": "@jupyter-widgets/controls",
      "model_module_version": "1.4.0",
      "model_name": "HBoxModel",
      "state": {
       "children": [
        "IPY_MODEL_e55ef1cc031045b9a0578c32fc1be067",
        "IPY_MODEL_e7ae1505eb1e432a88fb9ad4562a2566"
       ],
       "layout": "IPY_MODEL_22075e3528544bccb11219726436fffa"
      }
     },
     "7c897beefdf445c3b581cf25468bd345": {
      "model_module": "@jupyter-widgets/controls",
      "model_module_version": "1.4.0",
      "model_name": "DescriptionStyleModel",
      "state": {
       "description_width": ""
      }
     },
     "7ccb90ab41fb4b5f99ef12d10b9546c7": {
      "model_module": "@jupyter-widgets/controls",
      "model_module_version": "1.4.0",
      "model_name": "ButtonModel",
      "state": {
       "description": "Load and Calculate",
       "layout": "IPY_MODEL_10f80bf028244a819a06dd2ad58b620f",
       "style": "IPY_MODEL_a393d34ce48d4b97a5d88c2b468524e4"
      }
     },
     "7cd5fa10da864d9bb47e7fd908581606": {
      "model_module": "@jupyter-widgets/controls",
      "model_module_version": "1.4.0",
      "model_name": "DescriptionStyleModel",
      "state": {
       "description_width": "initial"
      }
     },
     "7d0d1ab83a7841698ced45c52dcdd199": {
      "model_module": "@jupyter-widgets/base",
      "model_module_version": "1.1.0",
      "model_name": "LayoutModel",
      "state": {}
     },
     "7d326dbac6e34f86bcee83d45c6ae74e": {
      "model_module": "@jupyter-widgets/controls",
      "model_module_version": "1.4.0",
      "model_name": "DescriptionStyleModel",
      "state": {
       "description_width": ""
      }
     },
     "7d508b1a9a824c11be72201c70f89058": {
      "model_module": "@jupyter-widgets/base",
      "model_module_version": "1.1.0",
      "model_name": "LayoutModel",
      "state": {}
     },
     "7da28f09fabc4e7294c30f004f877c7f": {
      "model_module": "@jupyter-widgets/base",
      "model_module_version": "1.1.0",
      "model_name": "LayoutModel",
      "state": {}
     },
     "7dfd20eefc6d4b2081a1e4c400c8c40b": {
      "model_module": "@jupyter-widgets/controls",
      "model_module_version": "1.4.0",
      "model_name": "ToggleButtonsModel",
      "state": {
       "_options_labels": [
        "Shapefile",
        "DrawnPolygon"
       ],
       "button_style": "",
       "description": "Geometry Used for Datacube Query:",
       "icons": [],
       "index": 0,
       "layout": "IPY_MODEL_0f81fbb43a7a47e8a5f204ccf2543cb3",
       "style": "IPY_MODEL_64fb32f437ef44719c4fcf2897fc9874",
       "tooltips": [
        "Use Shapefile Specified for the DC query",
        "Use Polygon Drawn on the Map for the DC query"
       ]
      }
     },
     "7dfedce6038943a9be566784d9c5b236": {
      "model_module": "@jupyter-widgets/base",
      "model_module_version": "1.1.0",
      "model_name": "LayoutModel",
      "state": {}
     },
     "7e2272f2f5eb46b1a4330358a6beedb9": {
      "model_module": "@jupyter-widgets/controls",
      "model_module_version": "1.4.0",
      "model_name": "HBoxModel",
      "state": {
       "children": [
        "IPY_MODEL_72fd6290b42e49728ab89feb6989327d",
        "IPY_MODEL_93c95f8f57e64a76b02def93c9bef4f9"
       ],
       "layout": "IPY_MODEL_dcb548327300438e8ae85e5feab832e4"
      }
     },
     "7f6d92c968cd488fb5be671a41b60568": {
      "model_module": "jupyter-leaflet",
      "model_module_version": "~0.7.3",
      "model_name": "LeafletMapModel",
      "state": {
       "_dom_classes": [],
       "_model_module_version": "~0.7.3",
       "_view_count": null,
       "_view_module_version": "~0.7.3",
       "basemap": {
        "attribution": "Tiles &copy; Esri &mdash; Source: Esri, i-cubed, USDA, USGS, AEX, GeoEye, Getmapping, Aerogrid, IGN, IGP, UPR-EGP, and the GIS User Community",
        "max_zoom": 20,
        "name": "Esri.WorldImagery",
        "url": "http://server.arcgisonline.com/ArcGIS/rest/services/World_Imagery/MapServer/tile/{z}/{y}/{x}"
       },
       "center": [
        -20.0183,
        145.3134
       ],
       "controls": [
        "IPY_MODEL_3021077200a24a348c7b9b7b70893bc8"
       ],
       "east": 145.57571411132815,
       "layers": [
        "IPY_MODEL_3d75035ec4414ff793a8b7e3e7f4e290"
       ],
       "layout": "IPY_MODEL_70290f5c49874c9d9db7536828971cbc",
       "modisdate": "yesterday",
       "north": -19.760241554664503,
       "options": [
        "attribution_control",
        "basemap",
        "bounce_at_zoom_limits",
        "box_zoom",
        "center",
        "close_popup_on_click",
        "double_click_zoom",
        "dragging",
        "inertia",
        "inertia_deceleration",
        "inertia_max_speed",
        "keyboard",
        "keyboard_pan_offset",
        "keyboard_zoom_offset",
        "max_zoom",
        "min_zoom",
        "scroll_wheel_zoom",
        "tap",
        "tap_tolerance",
        "touch_zoom",
        "world_copy_jump",
        "zoom",
        "zoom_animation_threshold",
        "zoom_control",
        "zoom_start"
       ],
       "south": -20.276367870836033,
       "west": 145.0511169433594,
       "zoom": 10
      }
     },
     "7fbd49719f65447eb63fa0c92e3cb6d9": {
      "model_module": "@jupyter-widgets/controls",
      "model_module_version": "1.4.0",
      "model_name": "HBoxModel",
      "state": {
       "children": [
        "IPY_MODEL_feebce2f7ba946a580673fa328e6045e",
        "IPY_MODEL_b0c55f01d88945e58155cd90b993d06e"
       ],
       "layout": "IPY_MODEL_4bd38c3a77d24b8db9c7861d349c8656"
      }
     },
     "7ffa726bf4354fe999046ca58d58f9e7": {
      "model_module": "@jupyter-widgets/base",
      "model_module_version": "1.1.0",
      "model_name": "LayoutModel",
      "state": {}
     },
     "80451e9f73a64a2dbbdbbe140a48c4bd": {
      "model_module": "@jupyter-widgets/controls",
      "model_module_version": "1.4.0",
      "model_name": "DescriptionStyleModel",
      "state": {
       "description_width": ""
      }
     },
     "8061f6f2ae43464b82c7b3b21badb9fd": {
      "model_module": "@jupyter-widgets/base",
      "model_module_version": "1.1.0",
      "model_name": "LayoutModel",
      "state": {
       "height": "400px",
       "width": "400px"
      }
     },
     "806d0836d71849e1a85a615e108d5e73": {
      "model_module": "@jupyter-widgets/controls",
      "model_module_version": "1.4.0",
      "model_name": "ButtonStyleModel",
      "state": {}
     },
     "808d939e9fca44eb8bc0fb8ec6844d12": {
      "model_module": "@jupyter-widgets/base",
      "model_module_version": "1.1.0",
      "model_name": "LayoutModel",
      "state": {}
     },
     "80c7508e62c84550a02b5c3a005f3ab8": {
      "model_module": "@jupyter-widgets/controls",
      "model_module_version": "1.4.0",
      "model_name": "ButtonModel",
      "state": {
       "description": "Select File",
       "icon": "square-o",
       "layout": "IPY_MODEL_bbc92b5be7644f08a336fae4258b750c",
       "style": "IPY_MODEL_f06eb09a0c47488bb326fe8b5946a6f9"
      }
     },
     "80d9999104b9463c97e2125278b6ce07": {
      "model_module": "@jupyter-widgets/controls",
      "model_module_version": "1.4.0",
      "model_name": "ButtonModel",
      "state": {
       "description": "Check dates",
       "layout": "IPY_MODEL_170e1c13abd045918deb6b220c9093e0",
       "style": "IPY_MODEL_e6b8a7f5063d42aa92d0237ad51ecc1d",
       "tooltip": "Click me"
      }
     },
     "80e7e68327da4fd087da1dae5f4dba37": {
      "model_module": "@jupyter-widgets/controls",
      "model_module_version": "1.4.0",
      "model_name": "ButtonModel",
      "state": {
       "description": "Check shapefile",
       "layout": "IPY_MODEL_192f81b5d9fd407aaf671973a666a283",
       "style": "IPY_MODEL_a972dae58f9d445bb363c30a79119b1f",
       "tooltip": "Click me"
      }
     },
     "80efa03beb414699869f6a3b379ebeb4": {
      "model_module": "@jupyter-widgets/controls",
      "model_module_version": "1.4.0",
      "model_name": "VBoxModel",
      "state": {
       "children": [
        "IPY_MODEL_ec2f13a4e7cb49d3b7b6a83ceea6f8ac",
        "IPY_MODEL_4704dbd2a88d4acda5666a8003dd1fbe"
       ],
       "layout": "IPY_MODEL_40abcbf57a2d42609730d420388f3831"
      }
     },
     "80fbc771fe604df49a7766b066b800e7": {
      "model_module": "@jupyter-widgets/controls",
      "model_module_version": "1.4.0",
      "model_name": "DescriptionStyleModel",
      "state": {
       "description_width": "initial"
      }
     },
     "813ecb829b284b338fb7e905af509314": {
      "model_module": "@jupyter-widgets/base",
      "model_module_version": "1.1.0",
      "model_name": "LayoutModel",
      "state": {}
     },
     "81835bcf4e974387b5c26f7a886f3c27": {
      "model_module": "@jupyter-widgets/controls",
      "model_module_version": "1.4.0",
      "model_name": "LabelModel",
      "state": {
       "layout": "IPY_MODEL_4d8eede902a74c22966e9588efa2b5b2",
       "style": "IPY_MODEL_22565eaa7b2741b388dc471ee621c17b",
       "value": "Start date is valid"
      }
     },
     "81bdc1e9f83f431096f2b7ed5b29a376": {
      "model_module": "@jupyter-widgets/base",
      "model_module_version": "1.1.0",
      "model_name": "LayoutModel",
      "state": {}
     },
     "81ca04121fd3480b976f71245e838f27": {
      "model_module": "jupyter-leaflet",
      "model_module_version": "~0.7.3",
      "model_name": "LeafletMapModel",
      "state": {
       "_dom_classes": [],
       "_model_module_version": "~0.7.3",
       "_view_count": null,
       "_view_module_version": "~0.7.3",
       "basemap": {
        "attribution": "Map data (c) <a href=\"https://openstreetmap.org\">OpenStreetMap</a> contributors",
        "max_zoom": 19,
        "url": "https://{s}.tile.openstreetmap.org/{z}/{x}/{y}.png"
       },
       "center": [
        -20.021097069675676,
        145.20904541015628
       ],
       "controls": [
        "IPY_MODEL_0819d998ab2e4535a93142bd4ce45e54"
       ],
       "east": 145.46447753906253,
       "layers": [
        "IPY_MODEL_ad225684b1b64cbc88b28697dc20384c"
       ],
       "layout": "IPY_MODEL_751abdda30454bda9ca6f8ae2be67980",
       "modisdate": "yesterday",
       "north": -19.76282638490851,
       "options": [
        "attribution_control",
        "basemap",
        "bounce_at_zoom_limits",
        "box_zoom",
        "center",
        "close_popup_on_click",
        "double_click_zoom",
        "dragging",
        "inertia",
        "inertia_deceleration",
        "inertia_max_speed",
        "keyboard",
        "keyboard_pan_offset",
        "keyboard_zoom_offset",
        "max_zoom",
        "min_zoom",
        "scroll_wheel_zoom",
        "tap",
        "tap_tolerance",
        "touch_zoom",
        "world_copy_jump",
        "zoom",
        "zoom_animation_threshold",
        "zoom_control",
        "zoom_start"
       ],
       "south": -20.278944231137633,
       "west": 144.95361328125003,
       "zoom": 10
      }
     },
     "81e24aec46f842b79c1159acc79925a8": {
      "model_module": "@jupyter-widgets/controls",
      "model_module_version": "1.4.0",
      "model_name": "ButtonStyleModel",
      "state": {
       "button_color": "orange"
      }
     },
     "8291506975b94a86a1890becdf52daa7": {
      "model_module": "@jupyter-widgets/base",
      "model_module_version": "1.1.0",
      "model_name": "LayoutModel",
      "state": {}
     },
     "82fc59dcd7ba477da1760d1095774a04": {
      "model_module": "@jupyter-widgets/controls",
      "model_module_version": "1.4.0",
      "model_name": "TextModel",
      "state": {
       "description": "end date",
       "layout": "IPY_MODEL_338b0a886f0d4433aeb345ef69e861fa",
       "placeholder": "update this field YYYY-MM-DD",
       "style": "IPY_MODEL_d8389cb50ede49ef8a0c8c788b5c8f3f",
       "value": "2013-10-31"
      }
     },
     "831a1fc838ce4d41b83f4ad40a4dcf92": {
      "model_module": "@jupyter-widgets/controls",
      "model_module_version": "1.4.0",
      "model_name": "ButtonModel",
      "state": {
       "description": "Save File As",
       "icon": "square-o",
       "layout": "IPY_MODEL_0cb8aaa557a14c95b84bfa2b52ff0c13",
       "style": "IPY_MODEL_33bd405f124b4eaa87ae6ec964770b9f"
      }
     },
     "834e7fd185324a9ea47b4a4b2d0a6963": {
      "model_module": "@jupyter-widgets/controls",
      "model_module_version": "1.4.0",
      "model_name": "DescriptionStyleModel",
      "state": {
       "description_width": "initial"
      }
     },
     "8389bbc0f25f470db96b57cabc9511e8": {
      "model_module": "@jupyter-widgets/controls",
      "model_module_version": "1.4.0",
      "model_name": "DescriptionStyleModel",
      "state": {
       "description_width": ""
      }
     },
     "839a7573306d4b7486e9d223a034db4c": {
      "model_module": "@jupyter-widgets/controls",
      "model_module_version": "1.4.0",
      "model_name": "ButtonModel",
      "state": {
       "description": "Load and Calculate",
       "layout": "IPY_MODEL_b005b08a14bf41f3923167e235241ca2",
       "style": "IPY_MODEL_97b3948f1d384c8fbb4ed47c68a0d2e7"
      }
     },
     "83d3894adbd540a0815c50a840dd3716": {
      "model_module": "@jupyter-widgets/controls",
      "model_module_version": "1.4.0",
      "model_name": "ButtonModel",
      "state": {
       "description": "Load and Calculate",
       "layout": "IPY_MODEL_2b59c647013a47edb0c36582ece919c2",
       "style": "IPY_MODEL_0b6ea8d95b8f4da59ec9e869ae9f3229"
      }
     },
     "83fc73556dce47a2853e484f29aa55f8": {
      "model_module": "@jupyter-widgets/base",
      "model_module_version": "1.1.0",
      "model_name": "LayoutModel",
      "state": {}
     },
     "84f7747da5304c2e974ae3f413949caa": {
      "model_module": "@jupyter-widgets/base",
      "model_module_version": "1.1.0",
      "model_name": "LayoutModel",
      "state": {}
     },
     "8550ff5b413d4a74804eb224dcfa038d": {
      "model_module": "@jupyter-widgets/controls",
      "model_module_version": "1.4.0",
      "model_name": "TextModel",
      "state": {
       "description": "path to shape file",
       "layout": "IPY_MODEL_cc064e945f344231acf83f7d942279a7",
       "placeholder": "choose a file",
       "style": "IPY_MODEL_62c1ffa1add84407a860466d6be777b7",
       "value": "/g/data1a/r78/rjd547/groundwater_activities/Burdekin/Burdekin_shapefiles/fels_sml.shp"
      }
     },
     "85606c05dec44a80a969a979aec24e02": {
      "model_module": "@jupyter-widgets/controls",
      "model_module_version": "1.4.0",
      "model_name": "HBoxModel",
      "state": {
       "children": [
        "IPY_MODEL_07a721c14abf49aa9eece12d782f437c",
        "IPY_MODEL_e2167cb04e2e4846bd31ac936ec0eae4"
       ],
       "layout": "IPY_MODEL_7405395ff0b84550a6f6ae4bff1e7d17"
      }
     },
     "85f6c996d58e4f589ccf1ac3427e2e3f": {
      "model_module": "@jupyter-widgets/controls",
      "model_module_version": "1.4.0",
      "model_name": "ButtonStyleModel",
      "state": {}
     },
     "866e4d50d7144f1f9a0fd6d7c324e5dc": {
      "model_module": "@jupyter-widgets/controls",
      "model_module_version": "1.4.0",
      "model_name": "ToggleButtonsStyleModel",
      "state": {
       "button_width": "",
       "description_width": ""
      }
     },
     "875520d0ad5c473281672c5fc01dd526": {
      "model_module": "@jupyter-widgets/controls",
      "model_module_version": "1.4.0",
      "model_name": "ButtonStyleModel",
      "state": {
       "button_color": "orange"
      }
     },
     "8780d291c3734697b6f4f8bcdaad6504": {
      "model_module": "@jupyter-widgets/controls",
      "model_module_version": "1.4.0",
      "model_name": "ButtonStyleModel",
      "state": {}
     },
     "87d126d5d5a0430ba1f6c768ab04571d": {
      "model_module": "@jupyter-widgets/controls",
      "model_module_version": "1.4.0",
      "model_name": "ButtonModel",
      "state": {
       "description": "Check dates",
       "layout": "IPY_MODEL_9758910a93c14a7589cf6571106ce102",
       "style": "IPY_MODEL_149daaa5f39a45a79c48cb7111c760ef",
       "tooltip": "Click me"
      }
     },
     "88cae757d2f7459e998bff86f4958e13": {
      "model_module": "@jupyter-widgets/controls",
      "model_module_version": "1.4.0",
      "model_name": "DescriptionStyleModel",
      "state": {
       "description_width": ""
      }
     },
     "892d4f75783a494d97b71f72698941a0": {
      "model_module": "@jupyter-widgets/controls",
      "model_module_version": "1.4.0",
      "model_name": "HBoxModel",
      "state": {
       "children": [
        "IPY_MODEL_feebce2f7ba946a580673fa328e6045e",
        "IPY_MODEL_033d405dfb5d475191df2b452cecd3ca"
       ],
       "layout": "IPY_MODEL_c0f437ab1eab43088e81a4f0a0c1ba46"
      }
     },
     "897fe888b6354f5bac0dbafe50fbb9af": {
      "model_module": "jupyter-leaflet",
      "model_module_version": "~0.7.3",
      "model_name": "LeafletDrawControlModel",
      "state": {
       "_model_module_version": "~0.7.3",
       "_view_count": null,
       "_view_module_version": "~0.7.3",
       "layer": "IPY_MODEL_dab0eba966f94be9968fc8f22a346f92",
       "polygon": {
        "shapeOptions": {
         "color": "#0000FF"
        }
       },
       "polyline": {}
      }
     },
     "8a0d0b9048b04190bcec4c0f2199870e": {
      "model_module": "@jupyter-widgets/controls",
      "model_module_version": "1.4.0",
      "model_name": "ToggleButtonsStyleModel",
      "state": {
       "button_width": "",
       "description_width": ""
      }
     },
     "8a53d3069d4e490c96fd8c2a615cbb21": {
      "model_module": "@jupyter-widgets/base",
      "model_module_version": "1.1.0",
      "model_name": "LayoutModel",
      "state": {}
     },
     "8af51839cc2a4599a74622bb958786fb": {
      "model_module": "@jupyter-widgets/base",
      "model_module_version": "1.1.0",
      "model_name": "LayoutModel",
      "state": {}
     },
     "8b063b7cfa1d4e9795c23f6ce4c327e3": {
      "model_module": "@jupyter-widgets/base",
      "model_module_version": "1.1.0",
      "model_name": "LayoutModel",
      "state": {}
     },
     "8b9200a962f94900af92264a4a71cc7b": {
      "model_module": "@jupyter-widgets/controls",
      "model_module_version": "1.4.0",
      "model_name": "HBoxModel",
      "state": {
       "children": [
        "IPY_MODEL_abc965a7aeb74f1cb5d30c15e6b4c057",
        "IPY_MODEL_7f6d92c968cd488fb5be671a41b60568"
       ],
       "layout": "IPY_MODEL_b243066bd66f48b79684bac47774674f"
      }
     },
     "8c550db151884ef896e0e7b131fcde6c": {
      "model_module": "jupyter-leaflet",
      "model_module_version": "~0.7.3",
      "model_name": "LeafletTileLayerModel",
      "state": {
       "_model_module_version": "~0.7.3",
       "_view_count": null,
       "_view_module_version": "~0.7.3",
       "attribution": "Tiles &copy; Esri &mdash; Source: Esri, i-cubed, USDA, USGS, AEX, GeoEye, Getmapping, Aerogrid, IGN, IGP, UPR-EGP, and the GIS User Community",
       "base": true,
       "max_zoom": 20,
       "min_zoom": 1,
       "name": "Esri.WorldImagery",
       "options": [
        "attribution",
        "detect_retina",
        "max_zoom",
        "min_zoom",
        "tile_size"
       ],
       "url": "http://server.arcgisonline.com/ArcGIS/rest/services/World_Imagery/MapServer/tile/{z}/{y}/{x}"
      }
     },
     "8c923cab4b89481fa076d3fb0b1100a8": {
      "model_module": "@jupyter-widgets/base",
      "model_module_version": "1.1.0",
      "model_name": "LayoutModel",
      "state": {}
     },
     "8ce6cd6a87fd48258aacf674aaa984ae": {
      "model_module": "@jupyter-widgets/controls",
      "model_module_version": "1.4.0",
      "model_name": "ButtonStyleModel",
      "state": {
       "button_color": "orange"
      }
     },
     "8d3a7ddbd43449fda414bbcab67aec76": {
      "model_module": "@jupyter-widgets/controls",
      "model_module_version": "1.4.0",
      "model_name": "ButtonStyleModel",
      "state": {}
     },
     "8d7309d4ee404efabe5c363230bc69f2": {
      "model_module": "@jupyter-widgets/base",
      "model_module_version": "1.1.0",
      "model_name": "LayoutModel",
      "state": {}
     },
     "8dc22bcc721a4e57874a67f9a6ecad65": {
      "model_module": "@jupyter-widgets/controls",
      "model_module_version": "1.4.0",
      "model_name": "DescriptionStyleModel",
      "state": {
       "description_width": ""
      }
     },
     "8de07438eade49a28bb1bd01f9dff469": {
      "model_module": "@jupyter-widgets/base",
      "model_module_version": "1.1.0",
      "model_name": "LayoutModel",
      "state": {}
     },
     "8e3da30f136543ce8cab4faecd98ab8d": {
      "model_module": "@jupyter-widgets/controls",
      "model_module_version": "1.4.0",
      "model_name": "ButtonStyleModel",
      "state": {
       "button_color": "orange"
      }
     },
     "8e619f3bba964550a43ec1427e16d26b": {
      "model_module": "@jupyter-widgets/base",
      "model_module_version": "1.1.0",
      "model_name": "LayoutModel",
      "state": {}
     },
     "8ea92dc87a5b4b2ba38c37a5796aa202": {
      "model_module": "@jupyter-widgets/controls",
      "model_module_version": "1.4.0",
      "model_name": "TextModel",
      "state": {
       "description": "path to shape file",
       "layout": "IPY_MODEL_94cbafe16727492f831fa81e1f536e58",
       "placeholder": "update this field",
       "style": "IPY_MODEL_97bad54ef10c459cb3776403067d9e85",
       "value": "/g/data1a/r78/rjd547/groundwater_activities/Burdekin/Burdekin_shapefiles/fels_sml.shp"
      }
     },
     "8ebd8129e8eb48c493a8d4080e4645a3": {
      "model_module": "@jupyter-widgets/base",
      "model_module_version": "1.1.0",
      "model_name": "LayoutModel",
      "state": {}
     },
     "8fcaf28a9b2e40f5b9e19330fbe2a252": {
      "model_module": "@jupyter-widgets/controls",
      "model_module_version": "1.4.0",
      "model_name": "DescriptionStyleModel",
      "state": {
       "description_width": "initial"
      }
     },
     "906c46d8696c4b448818edb4f1211a14": {
      "model_module": "@jupyter-widgets/base",
      "model_module_version": "1.1.0",
      "model_name": "LayoutModel",
      "state": {}
     },
     "90e008b109d04c8fb75e086581fd4b01": {
      "model_module": "jupyter-leaflet",
      "model_module_version": "~0.7.3",
      "model_name": "LeafletTileLayerModel",
      "state": {
       "_model_module_version": "~0.7.3",
       "_view_count": null,
       "_view_module_version": "~0.7.3",
       "attribution": "Tiles &copy; Esri &mdash; Source: Esri, i-cubed, USDA, USGS, AEX, GeoEye, Getmapping, Aerogrid, IGN, IGP, UPR-EGP, and the GIS User Community",
       "base": true,
       "max_zoom": 20,
       "min_zoom": 1,
       "name": "Esri.WorldImagery",
       "options": [
        "attribution",
        "detect_retina",
        "max_zoom",
        "min_zoom",
        "tile_size"
       ],
       "url": "http://server.arcgisonline.com/ArcGIS/rest/services/World_Imagery/MapServer/tile/{z}/{y}/{x}"
      }
     },
     "91667a1fdf624e708db6dc1922821cd9": {
      "model_module": "@jupyter-widgets/controls",
      "model_module_version": "1.4.0",
      "model_name": "ButtonStyleModel",
      "state": {
       "button_color": "orange"
      }
     },
     "9176934d7e3f40a9875221efb5ab1cba": {
      "model_module": "@jupyter-widgets/controls",
      "model_module_version": "1.4.0",
      "model_name": "HBoxModel",
      "state": {
       "children": [
        "IPY_MODEL_06df7270386d4bf88c791a85831b3db4",
        "IPY_MODEL_e516dd49b551432f93b8b7ed869b190e"
       ],
       "layout": "IPY_MODEL_66d51346a88b4e27a960722ba2e0d02e"
      }
     },
     "917880880e4c49029096b44297263966": {
      "model_module": "@jupyter-widgets/controls",
      "model_module_version": "1.4.0",
      "model_name": "LabelModel",
      "state": {
       "layout": "IPY_MODEL_6267c710469c43ec8a7af96658b61529",
       "style": "IPY_MODEL_167e99d8c876474da804079e45b67a14",
       "value": "Is my end date valid?"
      }
     },
     "91e4140f737945a8a2c2c7096a143081": {
      "model_module": "@jupyter-widgets/base",
      "model_module_version": "1.1.0",
      "model_name": "LayoutModel",
      "state": {}
     },
     "91e6e2a3d5ba4e549aa3fb2729a62257": {
      "model_module": "@jupyter-widgets/controls",
      "model_module_version": "1.4.0",
      "model_name": "TextModel",
      "state": {
       "description": "path to shape file",
       "layout": "IPY_MODEL_5b60bb4fead34084a2a498ae3f535223",
       "placeholder": "choose a file",
       "style": "IPY_MODEL_ba950cf6286d44c594e8c28f91b28558",
       "value": "/g/data1a/r78/rjd547/groundwater_activities/Burdekin/Burdekin_shapefiles/fels_sml.shp"
      }
     },
     "9230794d5e7b40f997723471946dc1d7": {
      "model_module": "@jupyter-widgets/base",
      "model_module_version": "1.1.0",
      "model_name": "LayoutModel",
      "state": {}
     },
     "9250950721a546b98eebf8ad901953f5": {
      "model_module": "@jupyter-widgets/controls",
      "model_module_version": "1.4.0",
      "model_name": "VBoxModel",
      "state": {
       "children": [
        "IPY_MODEL_19c2e899138d4311af176d428e7ce3df",
        "IPY_MODEL_635c00d824b14ebb96a6cae2632b49f5"
       ],
       "layout": "IPY_MODEL_1ec7be88bcb24439911c8c1bf2440b4a"
      }
     },
     "934b5b09038d4b778020641884b23507": {
      "model_module": "@jupyter-widgets/base",
      "model_module_version": "1.1.0",
      "model_name": "LayoutModel",
      "state": {}
     },
     "938ed8fa50a64e32b3e7215f23f14e7a": {
      "model_module": "@jupyter-widgets/controls",
      "model_module_version": "1.4.0",
      "model_name": "TextModel",
      "state": {
       "description": "path to shape file",
       "layout": "IPY_MODEL_476949afe8da454cb6700459f1cbee76",
       "placeholder": "choose a file",
       "style": "IPY_MODEL_29f75ebfc843471f893c94ec077e0e26",
       "value": "/g/data1a/r78/rjd547/groundwater_activities/Burdekin/Burdekin_shapefiles/fels_sml.shp"
      }
     },
     "93c95f8f57e64a76b02def93c9bef4f9": {
      "model_module": "@jupyter-widgets/controls",
      "model_module_version": "1.4.0",
      "model_name": "ButtonModel",
      "state": {
       "description": "Select File",
       "icon": "square-o",
       "layout": "IPY_MODEL_3f2f7ba6736943a18e4c95415bc3c315",
       "style": "IPY_MODEL_81e24aec46f842b79c1159acc79925a8"
      }
     },
     "94077b23eaa142fc848b71a533ef3949": {
      "model_module": "@jupyter-widgets/controls",
      "model_module_version": "1.4.0",
      "model_name": "ButtonModel",
      "state": {
       "description": "Select File",
       "icon": "square-o",
       "layout": "IPY_MODEL_934b5b09038d4b778020641884b23507",
       "style": "IPY_MODEL_6d32f914318e4acb9587327a90d57fbd"
      }
     },
     "94765b50d48a4c8f9985d7ea215e284f": {
      "model_module": "@jupyter-widgets/controls",
      "model_module_version": "1.4.0",
      "model_name": "VBoxModel",
      "state": {
       "_dom_classes": [
        "widget-interact"
       ],
       "children": [
        "IPY_MODEL_ca2f5628034341f5a521498c5eecb93e",
        "IPY_MODEL_153d63a4729a43c8b98f8f1659760044"
       ],
       "layout": "IPY_MODEL_ba389e3e561841cf9268f9fb03a2432e"
      }
     },
     "94cbafe16727492f831fa81e1f536e58": {
      "model_module": "@jupyter-widgets/base",
      "model_module_version": "1.1.0",
      "model_name": "LayoutModel",
      "state": {
       "width": "70%"
      }
     },
     "955a7e7a11854178a5b7cbd9363c139e": {
      "model_module": "@jupyter-widgets/controls",
      "model_module_version": "1.4.0",
      "model_name": "HBoxModel",
      "state": {
       "children": [
        "IPY_MODEL_a9073a1e23c844a2baedc53111272fc7",
        "IPY_MODEL_14e1f08c399d4a699e5a960cf50b5242"
       ],
       "layout": "IPY_MODEL_c31edf6e410c4059893991751a56931e"
      }
     },
     "95613f27523445929c8839d497355866": {
      "model_module": "@jupyter-widgets/controls",
      "model_module_version": "1.4.0",
      "model_name": "LabelModel",
      "state": {
       "layout": "IPY_MODEL_81bdc1e9f83f431096f2b7ed5b29a376",
       "style": "IPY_MODEL_56377bf08de443289371fa4ba49b6012",
       "value": "Start date is valid"
      }
     },
     "95d7d70d3f6246558023ab0e64a9342f": {
      "model_module": "@jupyter-widgets/controls",
      "model_module_version": "1.4.0",
      "model_name": "ButtonStyleModel",
      "state": {}
     },
     "95e994dca3f74f18aa801779d0897375": {
      "model_module": "@jupyter-widgets/base",
      "model_module_version": "1.1.0",
      "model_name": "LayoutModel",
      "state": {}
     },
     "969aee6451f942a8add5ae91d1e110c7": {
      "model_module": "@jupyter-widgets/base",
      "model_module_version": "1.1.0",
      "model_name": "LayoutModel",
      "state": {}
     },
     "9758910a93c14a7589cf6571106ce102": {
      "model_module": "@jupyter-widgets/base",
      "model_module_version": "1.1.0",
      "model_name": "LayoutModel",
      "state": {}
     },
     "97b3948f1d384c8fbb4ed47c68a0d2e7": {
      "model_module": "@jupyter-widgets/controls",
      "model_module_version": "1.4.0",
      "model_name": "ButtonStyleModel",
      "state": {}
     },
     "97bad54ef10c459cb3776403067d9e85": {
      "model_module": "@jupyter-widgets/controls",
      "model_module_version": "1.4.0",
      "model_name": "DescriptionStyleModel",
      "state": {
       "description_width": "initial"
      }
     },
     "97fe07a50aa94abb9900a8114d7e107a": {
      "model_module": "@jupyter-widgets/base",
      "model_module_version": "1.1.0",
      "model_name": "LayoutModel",
      "state": {
       "width": "70%"
      }
     },
     "98590b429d734e758ec912af529f8d95": {
      "model_module": "@jupyter-widgets/controls",
      "model_module_version": "1.4.0",
      "model_name": "TextModel",
      "state": {
       "description": "path to shape file",
       "layout": "IPY_MODEL_179cd972542d4c768f1ed9f562903889",
       "placeholder": "/g/data1a/r78/rjd547/groundwater_activities/Burdekin/Burdekin_shapefiles/fels_sml.shp",
       "style": "IPY_MODEL_f5555116589c495888baaa2dea015c33",
       "value": "/g/data1a/r78/rjd547/groundwater_activities/Burdekin/Burdekin_shapefiles/fels_sml.shp"
      }
     },
     "9880404100c547b0bfbfe137af65228c": {
      "model_module": "@jupyter-widgets/controls",
      "model_module_version": "1.4.0",
      "model_name": "HBoxModel",
      "state": {
       "children": [
        "IPY_MODEL_91e6e2a3d5ba4e549aa3fb2729a62257",
        "IPY_MODEL_bb5e1b0425794c72acecc7ae12c781a0"
       ],
       "layout": "IPY_MODEL_dc7f10f89368424c8e4ed67eeb59a077"
      }
     },
     "9934b930870e4564961f7f29d3c0aaca": {
      "model_module": "@jupyter-widgets/controls",
      "model_module_version": "1.4.0",
      "model_name": "ButtonStyleModel",
      "state": {}
     },
     "9941aa7b734547fb92be34faec106e8f": {
      "model_module": "@jupyter-widgets/controls",
      "model_module_version": "1.4.0",
      "model_name": "ButtonStyleModel",
      "state": {
       "button_color": "orange"
      }
     },
     "994324448ba14b7ab41718182d5b6d56": {
      "model_module": "jupyter-leaflet",
      "model_module_version": "~0.7.3",
      "model_name": "LeafletFeatureGroupModel",
      "state": {
       "_model_module_version": "~0.7.3",
       "_view_count": null,
       "_view_module_version": "~0.7.3"
      }
     },
     "99de0ea53f624b8187511ded54552df0": {
      "model_module": "@jupyter-widgets/base",
      "model_module_version": "1.1.0",
      "model_name": "LayoutModel",
      "state": {}
     },
     "99e441d3240c4c9b8fd9a0fbda86e93e": {
      "model_module": "@jupyter-widgets/controls",
      "model_module_version": "1.4.0",
      "model_name": "ButtonStyleModel",
      "state": {}
     },
     "9a08efa4fef148e1a28c87b5221472a4": {
      "model_module": "@jupyter-widgets/controls",
      "model_module_version": "1.4.0",
      "model_name": "ButtonStyleModel",
      "state": {
       "button_color": "orange"
      }
     },
     "9a428dfce6ea4ec5a99dba5d39e72f24": {
      "model_module": "@jupyter-widgets/base",
      "model_module_version": "1.1.0",
      "model_name": "LayoutModel",
      "state": {
       "width": "70%"
      }
     },
     "9a4933119e654314aa3874108a7d9249": {
      "model_module": "@jupyter-widgets/base",
      "model_module_version": "1.1.0",
      "model_name": "LayoutModel",
      "state": {}
     },
     "9a8594d24494400d927adbdf17a36845": {
      "model_module": "@jupyter-widgets/controls",
      "model_module_version": "1.4.0",
      "model_name": "ButtonModel",
      "state": {
       "description": "Save File As",
       "icon": "square-o",
       "layout": "IPY_MODEL_58fd4dd604d647cb9665b40609d7b24f",
       "style": "IPY_MODEL_08a869e1b3974790809c89e39652eb80"
      }
     },
     "9b1513bef60f41a4a0d9ead36af22280": {
      "model_module": "@jupyter-widgets/controls",
      "model_module_version": "1.4.0",
      "model_name": "TextModel",
      "state": {
       "description": "start date",
       "layout": "IPY_MODEL_2f87149616594bc9ae4625e9f87b5dd9",
       "placeholder": "update this field YYYY-MM-DD",
       "style": "IPY_MODEL_ec83a0a988274e55b47cc10e651b62c9",
       "value": "2013-05-01"
      }
     },
     "9b2976f5a7ac43e197e4d982ee0dde55": {
      "model_module": "@jupyter-widgets/controls",
      "model_module_version": "1.4.0",
      "model_name": "HBoxModel",
      "state": {
       "children": [
        "IPY_MODEL_c4a13f09df92453b8fb899195e843009",
        "IPY_MODEL_b1de212cf2614aaba6d71321d413a084"
       ],
       "layout": "IPY_MODEL_b5727204ccd44ad5b6ae2240ac053c76"
      }
     },
     "9bac5964747142ed9710f1f2e87301d9": {
      "model_module": "@jupyter-widgets/controls",
      "model_module_version": "1.4.0",
      "model_name": "DescriptionStyleModel",
      "state": {
       "description_width": "initial"
      }
     },
     "9c2259ad2b92449d9dcafbd2095291e7": {
      "model_module": "jupyter-leaflet",
      "model_module_version": "~0.7.3",
      "model_name": "LeafletDrawControlModel",
      "state": {
       "_model_module_version": "~0.7.3",
       "_view_count": null,
       "_view_module_version": "~0.7.3",
       "layer": "IPY_MODEL_f3282321ef284b419745185f7d1edac4",
       "polyline": {}
      }
     },
     "9c38379acefb4f88963c3e9661146641": {
      "model_module": "@jupyter-widgets/base",
      "model_module_version": "1.1.0",
      "model_name": "LayoutModel",
      "state": {
       "width": "70%"
      }
     },
     "9d57f263caf2440b905352798df5f9c4": {
      "model_module": "@jupyter-widgets/controls",
      "model_module_version": "1.4.0",
      "model_name": "DescriptionStyleModel",
      "state": {
       "description_width": ""
      }
     },
     "9d6fd0996e454234a2f7f9bb31bd70ed": {
      "model_module": "@jupyter-widgets/controls",
      "model_module_version": "1.4.0",
      "model_name": "ButtonStyleModel",
      "state": {
       "button_color": "orange"
      }
     },
     "9dab3f137e554c47bfaf77f87dff7f59": {
      "model_module": "@jupyter-widgets/controls",
      "model_module_version": "1.4.0",
      "model_name": "ButtonStyleModel",
      "state": {}
     },
     "9db53fc6ac044603b58b0ca6f04206f7": {
      "model_module": "@jupyter-widgets/controls",
      "model_module_version": "1.4.0",
      "model_name": "HBoxModel",
      "state": {
       "children": [
        "IPY_MODEL_e90f608c153d43f8b67a19eae18e4f85",
        "IPY_MODEL_ad14e591d99448fea370e7c0ec2e3516"
       ],
       "layout": "IPY_MODEL_e8782e328099437ba11246716738ee1c"
      }
     },
     "9e63789a886b4fe99ce3726ab79c0066": {
      "model_module": "@jupyter-widgets/controls",
      "model_module_version": "1.4.0",
      "model_name": "LabelModel",
      "state": {
       "layout": "IPY_MODEL_dd1f9734ee7844389c2cf8796de71cab",
       "style": "IPY_MODEL_52f0c47aefa648d0a489b213f3ff4a49",
       "value": "End date is valid"
      }
     },
     "9e7c156866854495b2dae6b886d29f4b": {
      "model_module": "@jupyter-widgets/controls",
      "model_module_version": "1.4.0",
      "model_name": "ButtonStyleModel",
      "state": {}
     },
     "9e8b4c6db7a240b798a084c5085197ac": {
      "model_module": "@jupyter-widgets/controls",
      "model_module_version": "1.4.0",
      "model_name": "DescriptionStyleModel",
      "state": {
       "description_width": ""
      }
     },
     "9eead5604aa747d49f09101a7ecc428c": {
      "model_module": "@jupyter-widgets/controls",
      "model_module_version": "1.4.0",
      "model_name": "LabelModel",
      "state": {
       "layout": "IPY_MODEL_d793185eb2f54a6582f55283757a96ae",
       "style": "IPY_MODEL_dd5aa7a7601d4e0fa4f076f93aed3efb",
       "value": "End date is valid"
      }
     },
     "9eec415af4d94849a428022076f861d6": {
      "model_module": "@jupyter-widgets/controls",
      "model_module_version": "1.4.0",
      "model_name": "HBoxModel",
      "state": {
       "children": [
        "IPY_MODEL_47be2b807aa94e0581485167fc2a1df0",
        "IPY_MODEL_ae823427cc514f5b9732c2e41b80c370"
       ],
       "layout": "IPY_MODEL_6ae0d4cf25064e7b9615aeee5cec4ecd"
      }
     },
     "9f0315324d9a438a9618a25ae2b8e004": {
      "model_module": "@jupyter-widgets/controls",
      "model_module_version": "1.4.0",
      "model_name": "ButtonStyleModel",
      "state": {
       "button_color": "lightgreen"
      }
     },
     "9f3f1b940ce648b385a41a91c0ab5370": {
      "model_module": "@jupyter-widgets/controls",
      "model_module_version": "1.4.0",
      "model_name": "DescriptionStyleModel",
      "state": {
       "description_width": ""
      }
     },
     "9f684ea8f2a342b0b933be82ee38f9b2": {
      "model_module": "@jupyter-widgets/controls",
      "model_module_version": "1.4.0",
      "model_name": "ButtonModel",
      "state": {
       "description": "Select File",
       "icon": "square-o",
       "layout": "IPY_MODEL_c2199b46438c4e9c987399fa1e4805ad",
       "style": "IPY_MODEL_875520d0ad5c473281672c5fc01dd526"
      }
     },
     "a0a33bb650c54868adb660e33f2c91fe": {
      "model_module": "@jupyter-widgets/controls",
      "model_module_version": "1.4.0",
      "model_name": "ButtonStyleModel",
      "state": {}
     },
     "a1348e8494e84bc185665d4eccf07588": {
      "model_module": "@jupyter-widgets/base",
      "model_module_version": "1.1.0",
      "model_name": "LayoutModel",
      "state": {}
     },
     "a15eae5f940f484cb9efdb4e995af8ab": {
      "model_module": "@jupyter-widgets/controls",
      "model_module_version": "1.4.0",
      "model_name": "ButtonStyleModel",
      "state": {
       "button_color": "orange"
      }
     },
     "a174356b23454baa92904d795f217b41": {
      "model_module": "@jupyter-widgets/base",
      "model_module_version": "1.1.0",
      "model_name": "LayoutModel",
      "state": {}
     },
     "a1af3941da114d819ea612b9a6398203": {
      "model_module": "@jupyter-widgets/base",
      "model_module_version": "1.1.0",
      "model_name": "LayoutModel",
      "state": {}
     },
     "a1ca96df3e89441e9c823814272e7ae5": {
      "model_module": "@jupyter-widgets/controls",
      "model_module_version": "1.4.0",
      "model_name": "RadioButtonsModel",
      "state": {
       "_options_labels": [
        "Geomedian",
        "TCWetness Summary",
        "TCI RGB Summary",
        "TCI means RGB",
        "TCI std dev RGB"
       ],
       "description": "Plot Which Stat?",
       "index": 1,
       "layout": "IPY_MODEL_3e0ff1aec91540f08c3706ed34eeb588",
       "style": "IPY_MODEL_b934eed685a94334a26fdc16656b1627"
      }
     },
     "a2ab7f3d1a1344eda9fe509e35a31bfb": {
      "model_module": "@jupyter-widgets/controls",
      "model_module_version": "1.4.0",
      "model_name": "TextModel",
      "state": {
       "description": "path to shape file",
       "layout": "IPY_MODEL_511250ca4a4f4d0bb29614e49c44386a",
       "placeholder": "choose a file",
       "style": "IPY_MODEL_dcd6422b20944a7fa52acf8112137471",
       "value": "/g/data1a/r78/rjd547/groundwater_activities/Burdekin/Burdekin_shapefiles/fels_sml.shp"
      }
     },
     "a2e63fe0bcc74efcaa0a79c5af2d4d6e": {
      "model_module": "@jupyter-widgets/base",
      "model_module_version": "1.1.0",
      "model_name": "LayoutModel",
      "state": {}
     },
     "a32f8f58af82478fa9a5e4c0379403d3": {
      "model_module": "@jupyter-widgets/controls",
      "model_module_version": "1.4.0",
      "model_name": "HBoxModel",
      "state": {
       "children": [
        "IPY_MODEL_1a2023da367b487082fb0b8c4ae93872",
        "IPY_MODEL_94077b23eaa142fc848b71a533ef3949"
       ],
       "layout": "IPY_MODEL_41ab56cf23654b5ba22f19901a52094e"
      }
     },
     "a3373689827f4a81a116bdcf73f4f606": {
      "model_module": "@jupyter-widgets/base",
      "model_module_version": "1.1.0",
      "model_name": "LayoutModel",
      "state": {}
     },
     "a33ddcb9b4cf41338af4311f510b83d7": {
      "model_module": "@jupyter-widgets/base",
      "model_module_version": "1.1.0",
      "model_name": "LayoutModel",
      "state": {}
     },
     "a361c984760c4e80916ba4e7f283a75f": {
      "model_module": "jupyter-leaflet",
      "model_module_version": "~0.5.0",
      "model_name": "LeafletTileLayerModel",
      "state": {
       "_model_module_version": "~0.5.0",
       "_view_count": null,
       "_view_module_version": "~0.5.0",
       "attribution": "Tiles &copy; Esri &mdash; Source: Esri, i-cubed, USDA, USGS, AEX, GeoEye, Getmapping, Aerogrid, IGN, IGP, UPR-EGP, and the GIS User Community",
       "max_zoom": 20,
       "min_zoom": 1,
       "name": "Esri.WorldImagery",
       "options": [
        "attribution",
        "detect_retina",
        "max_zoom",
        "min_zoom",
        "opacity",
        "tile_size"
       ],
       "url": "http://server.arcgisonline.com/ArcGIS/rest/services/World_Imagery/MapServer/tile/{z}/{y}/{x}"
      }
     },
     "a381fe02fc434627be124026812e38f2": {
      "model_module": "@jupyter-widgets/controls",
      "model_module_version": "1.4.0",
      "model_name": "ButtonModel",
      "state": {
       "description": "Plot Geomedian",
       "layout": "IPY_MODEL_60ea540d16a149d7a127089fc7ba1a7b",
       "style": "IPY_MODEL_9e7c156866854495b2dae6b886d29f4b"
      }
     },
     "a393d34ce48d4b97a5d88c2b468524e4": {
      "model_module": "@jupyter-widgets/controls",
      "model_module_version": "1.4.0",
      "model_name": "ButtonStyleModel",
      "state": {}
     },
     "a3a67448c4714d3c974a1c8a722bf851": {
      "model_module": "@jupyter-widgets/controls",
      "model_module_version": "1.4.0",
      "model_name": "ButtonStyleModel",
      "state": {
       "button_color": "lightgreen"
      }
     },
     "a3bf8445850d495790878341da53d63d": {
      "model_module": "@jupyter-widgets/base",
      "model_module_version": "1.1.0",
      "model_name": "LayoutModel",
      "state": {}
     },
     "a444df6bc990468eaf4799405bc4e6a6": {
      "model_module": "@jupyter-widgets/base",
      "model_module_version": "1.1.0",
      "model_name": "LayoutModel",
      "state": {}
     },
     "a5006babf92545438769cf5b8951837e": {
      "model_module": "@jupyter-widgets/base",
      "model_module_version": "1.1.0",
      "model_name": "LayoutModel",
      "state": {}
     },
     "a511f615f75d444fb171ad609e287036": {
      "model_module": "@jupyter-widgets/base",
      "model_module_version": "1.1.0",
      "model_name": "LayoutModel",
      "state": {
       "height": "400px",
       "width": "400px"
      }
     },
     "a54ca6f1ec8b4c6e95c998cf34b1e66f": {
      "model_module": "@jupyter-widgets/base",
      "model_module_version": "1.1.0",
      "model_name": "LayoutModel",
      "state": {}
     },
     "a5f6000cdbde40aab090c61e08c3a656": {
      "model_module": "@jupyter-widgets/controls",
      "model_module_version": "1.4.0",
      "model_name": "LabelModel",
      "state": {
       "layout": "IPY_MODEL_f7d9d9dd66324b45b8ccd116adb77fad",
       "style": "IPY_MODEL_7c897beefdf445c3b581cf25468bd345",
       "value": "Start date is valid"
      }
     },
     "a6214f6ba8234f2baa37dce9bdebc4f4": {
      "model_module": "@jupyter-widgets/controls",
      "model_module_version": "1.4.0",
      "model_name": "DescriptionStyleModel",
      "state": {
       "description_width": ""
      }
     },
     "a6e33d8700884aa7b9f3c9fc52b467a9": {
      "model_module": "@jupyter-widgets/controls",
      "model_module_version": "1.4.0",
      "model_name": "ButtonStyleModel",
      "state": {
       "button_color": "orange"
      }
     },
     "a8dfb18669774fb28d3f4fb038adc1c7": {
      "model_module": "@jupyter-widgets/controls",
      "model_module_version": "1.4.0",
      "model_name": "ToggleButtonsModel",
      "state": {
       "_options_labels": [
        "Shapefile",
        "DrawnPolygon"
       ],
       "button_style": "",
       "description": "Geometry Used for Datacube Query:",
       "icons": [],
       "index": 0,
       "layout": "IPY_MODEL_62cf1cec73004ebdaffabb1f0e726304",
       "style": "IPY_MODEL_8a0d0b9048b04190bcec4c0f2199870e",
       "tooltips": [
        "Use Shapefile Specified for the DC query",
        "Use Polygon Drawn on the Map for the DC query"
       ]
      }
     },
     "a9073a1e23c844a2baedc53111272fc7": {
      "model_module": "@jupyter-widgets/controls",
      "model_module_version": "1.4.0",
      "model_name": "TextModel",
      "state": {
       "description": "path to shape file",
       "layout": "IPY_MODEL_29f28b12df9d49a6b3549311265fd8e5",
       "placeholder": "/g/data1a/r78/rjd547/groundwater_activities/Burdekin/Burdekin_shapefiles/fels_sml.shp",
       "style": "IPY_MODEL_715588c3ab4e45188a6b2073c1f4d517",
       "value": "/g/data1a/r78/rjd547/groundwater_activities/Burdekin/Burdekin_shapefiles/fels_sml.shp"
      }
     },
     "a94cc047326744568c5092aa26190058": {
      "model_module": "@jupyter-widgets/controls",
      "model_module_version": "1.4.0",
      "model_name": "LabelModel",
      "state": {
       "layout": "IPY_MODEL_db1b22d2392449669b865df5cfdb623b",
       "style": "IPY_MODEL_17a9f3415ea84245b4c47a0ebacdb896",
       "value": "End date is valid"
      }
     },
     "a972dae58f9d445bb363c30a79119b1f": {
      "model_module": "@jupyter-widgets/controls",
      "model_module_version": "1.4.0",
      "model_name": "ButtonStyleModel",
      "state": {}
     },
     "a9a06e2944654f169e3c35e7f4af9dac": {
      "model_module": "@jupyter-widgets/base",
      "model_module_version": "1.1.0",
      "model_name": "LayoutModel",
      "state": {}
     },
     "a9fa8bd6fb7646669559d1c1a3f6d0d3": {
      "model_module": "@jupyter-widgets/controls",
      "model_module_version": "1.4.0",
      "model_name": "ButtonModel",
      "state": {
       "description": "File Name Specified",
       "icon": "check-square-o",
       "layout": "IPY_MODEL_15f856b034904b67b3a0fe1163c2441e",
       "style": "IPY_MODEL_44d059dcc9184e66bf0382bddefad072"
      }
     },
     "aa005fdb7a0a4e68b3d68d25d9993b39": {
      "model_module": "@jupyter-widgets/controls",
      "model_module_version": "1.4.0",
      "model_name": "ButtonStyleModel",
      "state": {}
     },
     "aa3b1761c65b482a9fd6b7b061bbcc72": {
      "model_module": "@jupyter-widgets/controls",
      "model_module_version": "1.4.0",
      "model_name": "DescriptionStyleModel",
      "state": {
       "description_width": "initial"
      }
     },
     "aa6bba8f90cf46c586529adc1c3b198e": {
      "model_module": "@jupyter-widgets/controls",
      "model_module_version": "1.4.0",
      "model_name": "ButtonModel",
      "state": {
       "description": "Plot Geomedian",
       "layout": "IPY_MODEL_7037f7458fc540ff81da2f7a897b6a68",
       "style": "IPY_MODEL_85f6c996d58e4f589ccf1ac3427e2e3f"
      }
     },
     "aa8f3b8327914a42907a7bae7ea9e685": {
      "model_module": "@jupyter-widgets/controls",
      "model_module_version": "1.4.0",
      "model_name": "LabelModel",
      "state": {
       "layout": "IPY_MODEL_e61145e8e68f4a9185d2f6ac9d974659",
       "style": "IPY_MODEL_be58c0d8c3694978bf09605b8209903a",
       "value": "End date is valid"
      }
     },
     "aac703271b874899b7d0d588d5d471a2": {
      "model_module": "@jupyter-widgets/controls",
      "model_module_version": "1.4.0",
      "model_name": "ToggleButtonsModel",
      "state": {
       "_options_labels": [
        "Shapefile",
        "DrawnPolygon"
       ],
       "button_style": "",
       "description": "Geometry Used for Datacube Query:",
       "icons": [],
       "index": 1,
       "layout": "IPY_MODEL_a9a06e2944654f169e3c35e7f4af9dac",
       "style": "IPY_MODEL_22c6845ce5104d0aba4f30a7e0ae2bfc",
       "tooltips": [
        "Use Shapefile Specified for the DC query",
        "Use Polygon Drawn on the Map for the DC query"
       ]
      }
     },
     "aaf5a358f75e458fa7e91ad5460505a6": {
      "model_module": "@jupyter-widgets/base",
      "model_module_version": "1.1.0",
      "model_name": "LayoutModel",
      "state": {}
     },
     "ab5857bebde144a5bd006a13977ae1a8": {
      "model_module": "@jupyter-widgets/controls",
      "model_module_version": "1.4.0",
      "model_name": "DescriptionStyleModel",
      "state": {
       "description_width": "initial"
      }
     },
     "ab771f2bebd64922a9e2c9c0e9fdaa2e": {
      "model_module": "@jupyter-widgets/controls",
      "model_module_version": "1.4.0",
      "model_name": "TextModel",
      "state": {
       "description": "path to shape file",
       "layout": "IPY_MODEL_312986507e6e49b489891bd9e4aec043",
       "placeholder": "/g/data1a/r78/rjd547/groundwater_activities/Burdekin/Burdekin_shapefiles/fels_sml.shp",
       "style": "IPY_MODEL_400f379fc79a40559e46ab5ce6998605",
       "value": "/g/data1a/r78/rjd547/groundwater_activities/Burdekin/Burdekin_shapefiles/fels_sml.shp"
      }
     },
     "ab77205bce544966ae0a911fc09024f6": {
      "model_module": "@jupyter-widgets/base",
      "model_module_version": "1.1.0",
      "model_name": "LayoutModel",
      "state": {}
     },
     "abc965a7aeb74f1cb5d30c15e6b4c057": {
      "model_module": "jupyter-leaflet",
      "model_module_version": "~0.7.3",
      "model_name": "LeafletMapModel",
      "state": {
       "_dom_classes": [],
       "_model_module_version": "~0.7.3",
       "_view_count": null,
       "_view_module_version": "~0.7.3",
       "basemap": {
        "attribution": "Map data (c) <a href=\"https://openstreetmap.org\">OpenStreetMap</a> contributors",
        "max_zoom": 19,
        "url": "https://{s}.tile.openstreetmap.org/{z}/{x}/{y}.png"
       },
       "center": [
        -20.0183,
        145.3134
       ],
       "controls": [
        "IPY_MODEL_6f5bb29b95984bb788e5435fe9e6e436"
       ],
       "east": 145.58807373046878,
       "layers": [
        "IPY_MODEL_03efd35eb65c4b51b60115e68c0b9127"
       ],
       "layout": "IPY_MODEL_70290f5c49874c9d9db7536828971cbc",
       "modisdate": "yesterday",
       "north": -19.760241554664503,
       "options": [
        "attribution_control",
        "basemap",
        "bounce_at_zoom_limits",
        "box_zoom",
        "center",
        "close_popup_on_click",
        "double_click_zoom",
        "dragging",
        "inertia",
        "inertia_deceleration",
        "inertia_max_speed",
        "keyboard",
        "keyboard_pan_offset",
        "keyboard_zoom_offset",
        "max_zoom",
        "min_zoom",
        "scroll_wheel_zoom",
        "tap",
        "tap_tolerance",
        "touch_zoom",
        "world_copy_jump",
        "zoom",
        "zoom_animation_threshold",
        "zoom_control",
        "zoom_start"
       ],
       "south": -20.276367870836033,
       "west": 145.03875732421878,
       "zoom": 10
      }
     },
     "abde39cceb364e88936b5325aa7ab741": {
      "model_module": "@jupyter-widgets/base",
      "model_module_version": "1.1.0",
      "model_name": "LayoutModel",
      "state": {}
     },
     "acb646c41e8e405987c2f344d348f2b0": {
      "model_module": "@jupyter-widgets/base",
      "model_module_version": "1.1.0",
      "model_name": "LayoutModel",
      "state": {}
     },
     "acbb101fcc0c43d9ad1949cdc5c59458": {
      "model_module": "@jupyter-widgets/base",
      "model_module_version": "1.1.0",
      "model_name": "LayoutModel",
      "state": {
       "width": "70%"
      }
     },
     "acdf33b6f8f9496f8dd135d970363587": {
      "model_module": "jupyter-leaflet",
      "model_module_version": "~0.7.3",
      "model_name": "LeafletDrawControlModel",
      "state": {
       "_model_module_version": "~0.7.3",
       "_view_count": null,
       "_view_module_version": "~0.7.3",
       "layer": "IPY_MODEL_54619ca7118e4a1cae75bf0920a7976e",
       "polygon": {
        "shapeOptions": {
         "color": "#0000FF"
        }
       },
       "polyline": {}
      }
     },
     "acfb169d760a4551a9b48880b5d7aab1": {
      "model_module": "@jupyter-widgets/controls",
      "model_module_version": "1.4.0",
      "model_name": "ButtonStyleModel",
      "state": {}
     },
     "ad14e591d99448fea370e7c0ec2e3516": {
      "model_module": "jupyter-leaflet",
      "model_module_version": "1.0.0",
      "model_name": "LeafletMapModel",
      "state": {
       "_dom_classes": [],
       "_east": 145.62652587890628,
       "_model_module_version": "1.0.0",
       "_north": -19.77704220222595,
       "_south": -20.29311344754411,
       "_view_count": null,
       "_view_module_version": "",
       "_west": 145.09643554687503,
       "basemap": {
        "attribution": "Tiles &copy; Esri &mdash; Source: Esri, i-cubed, USDA, USGS, AEX, GeoEye, Getmapping, Aerogrid, IGN, IGP, UPR-EGP, and the GIS User Community",
        "max_zoom": 20,
        "name": "Esri.WorldImagery",
        "url": "http://server.arcgisonline.com/ArcGIS/rest/services/World_Imagery/MapServer/tile/{z}/{y}/{x}"
       },
       "center": [
        -20.035289711352377,
        145.36148071289065
       ],
       "controls": [
        "IPY_MODEL_c3e9e6f7d9b94e199a8382c26408b838"
       ],
       "default_tiles": "IPY_MODEL_a361c984760c4e80916ba4e7f283a75f",
       "layers": [
        "IPY_MODEL_a361c984760c4e80916ba4e7f283a75f"
       ],
       "layout": "IPY_MODEL_8061f6f2ae43464b82c7b3b21badb9fd",
       "modisdate": "yesterday",
       "options": [
        "attribution_control",
        "basemap",
        "bounce_at_zoom_limits",
        "box_zoom",
        "center",
        "close_popup_on_click",
        "double_click_zoom",
        "dragging",
        "inertia",
        "inertia_deceleration",
        "inertia_max_speed",
        "keyboard",
        "keyboard_pan_offset",
        "keyboard_zoom_offset",
        "max_zoom",
        "min_zoom",
        "scroll_wheel_zoom",
        "tap",
        "tap_tolerance",
        "touch_zoom",
        "world_copy_jump",
        "zoom",
        "zoom_animation_threshold",
        "zoom_control",
        "zoom_start"
       ],
       "zoom": 10
      }
     },
     "ad225684b1b64cbc88b28697dc20384c": {
      "model_module": "jupyter-leaflet",
      "model_module_version": "~0.7.3",
      "model_name": "LeafletTileLayerModel",
      "state": {
       "_model_module_version": "~0.7.3",
       "_view_count": null,
       "_view_module_version": "~0.7.3",
       "base": true,
       "max_zoom": 19,
       "min_zoom": 1,
       "options": [
        "attribution",
        "detect_retina",
        "max_zoom",
        "min_zoom",
        "tile_size"
       ]
      }
     },
     "ad310d4001034171898694491fc7694d": {
      "model_module": "@jupyter-widgets/base",
      "model_module_version": "1.1.0",
      "model_name": "LayoutModel",
      "state": {}
     },
     "adf525e25e45445094febb7f561643ef": {
      "model_module": "@jupyter-widgets/controls",
      "model_module_version": "1.4.0",
      "model_name": "ButtonModel",
      "state": {
       "description": "Check shapefile",
       "layout": "IPY_MODEL_cd377c2607674a7f8ac8fe2be851656e",
       "style": "IPY_MODEL_1a590a4644aa4a738d0837c427014fd0",
       "tooltip": "Click me"
      }
     },
     "ae0b1591d53a4503b208f78a2072801a": {
      "model_module": "@jupyter-widgets/controls",
      "model_module_version": "1.4.0",
      "model_name": "TextModel",
      "state": {
       "description": "end date",
       "layout": "IPY_MODEL_26998541f031412d87b9568163248293",
       "placeholder": "update this field YYYY-MM-DD",
       "style": "IPY_MODEL_bc9fbed398734ba2b19bf6adec66a95a",
       "value": "2013-05-31"
      }
     },
     "ae823427cc514f5b9732c2e41b80c370": {
      "model_module": "@jupyter-widgets/controls",
      "model_module_version": "1.4.0",
      "model_name": "ButtonModel",
      "state": {
       "description": "Select File",
       "icon": "square-o",
       "layout": "IPY_MODEL_c62c79eff3a44c1aa8eddb615d023088",
       "style": "IPY_MODEL_3ceef6c11f9a40d9bb4eb95c438d1ffe"
      }
     },
     "af0860ed9f294a3c843c6f633a19b355": {
      "model_module": "@jupyter-widgets/controls",
      "model_module_version": "1.4.0",
      "model_name": "ButtonModel",
      "state": {
       "description": "Check dates",
       "layout": "IPY_MODEL_50f49c1fc21243309ee39c34f39495e6",
       "style": "IPY_MODEL_513673dda9644f9fb6990370f58bee22",
       "tooltip": "Click me"
      }
     },
     "af553cb2e8c143f3a02fac95310715db": {
      "model_module": "@jupyter-widgets/controls",
      "model_module_version": "1.4.0",
      "model_name": "ButtonStyleModel",
      "state": {
       "button_color": "orange"
      }
     },
     "af6417465f05425eab80c2d67bcdeabf": {
      "model_module": "@jupyter-widgets/base",
      "model_module_version": "1.1.0",
      "model_name": "LayoutModel",
      "state": {
       "width": "70%"
      }
     },
     "afafbd1a00824f5bb529d69bd0efa39f": {
      "model_module": "@jupyter-widgets/controls",
      "model_module_version": "1.4.0",
      "model_name": "LabelModel",
      "state": {
       "layout": "IPY_MODEL_b900f885051a4ce2b7428e7ce1099a6f",
       "style": "IPY_MODEL_fb77445ba6e345d0a4a32c3d1005757e",
       "value": "Start date is valid"
      }
     },
     "afc9c21904f6410996dd02dc86e3dd43": {
      "model_module": "@jupyter-widgets/controls",
      "model_module_version": "1.4.0",
      "model_name": "ButtonModel",
      "state": {
       "description": "Check shapefile",
       "layout": "IPY_MODEL_f040e906c030424fa440f5d0998e4b3b",
       "style": "IPY_MODEL_00868cd6b24747889c33f78fac5f933d",
       "tooltip": "Click me"
      }
     },
     "aff5be0e65ef4e07828e296a0196ccba": {
      "model_module": "@jupyter-widgets/base",
      "model_module_version": "1.1.0",
      "model_name": "LayoutModel",
      "state": {}
     },
     "b005b08a14bf41f3923167e235241ca2": {
      "model_module": "@jupyter-widgets/base",
      "model_module_version": "1.1.0",
      "model_name": "LayoutModel",
      "state": {}
     },
     "b095e779c68e444baee7d6cddeabfce9": {
      "model_module": "@jupyter-widgets/controls",
      "model_module_version": "1.4.0",
      "model_name": "HBoxModel",
      "state": {
       "children": [
        "IPY_MODEL_cda8475016764eb2aa03e5e399ba4c65",
        "IPY_MODEL_f09c90fcfcf4491086b9fef9edc2762f"
       ],
       "layout": "IPY_MODEL_cd59f03bd39b4544bae61f4d8ab47bb0"
      }
     },
     "b09a7e80474e41a9bf272fcd49c75bfd": {
      "model_module": "@jupyter-widgets/controls",
      "model_module_version": "1.4.0",
      "model_name": "TextModel",
      "state": {
       "description": "path to shape file",
       "layout": "IPY_MODEL_ca0d0eaeaabd4543a84655bd5c7a546a",
       "placeholder": "update this field",
       "style": "IPY_MODEL_aa3b1761c65b482a9fd6b7b061bbcc72"
      }
     },
     "b0c55f01d88945e58155cd90b993d06e": {
      "model_module": "@jupyter-widgets/controls",
      "model_module_version": "1.4.0",
      "model_name": "ButtonModel",
      "state": {
       "description": "Select File",
       "icon": "square-o",
       "layout": "IPY_MODEL_8a53d3069d4e490c96fd8c2a615cbb21",
       "style": "IPY_MODEL_4cf0dc35ed9241779de3d62ef911c6c5"
      }
     },
     "b0c91d2f62684ba790cc0b04d33b75b5": {
      "model_module": "jupyter-leaflet",
      "model_module_version": "~0.5.0",
      "model_name": "LeafletFeatureGroupModel",
      "state": {
       "_model_module_version": "~0.5.0",
       "_view_count": null,
       "_view_module_version": "~0.5.0"
      }
     },
     "b0fff64c7bf640de85bf8936b308c5e5": {
      "model_module": "jupyter-leaflet",
      "model_module_version": "~0.7.3",
      "model_name": "LeafletMapModel",
      "state": {
       "_dom_classes": [],
       "_model_module_version": "~0.7.3",
       "_view_count": null,
       "_view_module_version": "~0.7.3",
       "basemap": {
        "attribution": "Map data (c) <a href=\"https://openstreetmap.org\">OpenStreetMap</a> contributors",
        "max_zoom": 19,
        "url": "https://{s}.tile.openstreetmap.org/{z}/{x}/{y}.png"
       },
       "center": [
        -20.023677645296186,
        145.14072418212893
       ],
       "controls": [
        "IPY_MODEL_17ce635712ab4f788ab32db48e84a4b3"
       ],
       "east": 145.20629882812503,
       "layers": [
        "IPY_MODEL_b60f16b66358447aa7528d49d09bc701"
       ],
       "layout": "IPY_MODEL_a511f615f75d444fb171ad609e287036",
       "modisdate": "yesterday",
       "north": -19.959150559427233,
       "options": [
        "attribution_control",
        "basemap",
        "bounce_at_zoom_limits",
        "box_zoom",
        "center",
        "close_popup_on_click",
        "double_click_zoom",
        "dragging",
        "inertia",
        "inertia_deceleration",
        "inertia_max_speed",
        "keyboard",
        "keyboard_pan_offset",
        "keyboard_zoom_offset",
        "max_zoom",
        "min_zoom",
        "scroll_wheel_zoom",
        "tap",
        "tap_tolerance",
        "touch_zoom",
        "world_copy_jump",
        "zoom",
        "zoom_animation_threshold",
        "zoom_control",
        "zoom_start"
       ],
       "south": -20.08817825791709,
       "west": 145.07514953613284
      }
     },
     "b160db5484c24a578e594a16d1c214c5": {
      "model_module": "@jupyter-widgets/base",
      "model_module_version": "1.1.0",
      "model_name": "LayoutModel",
      "state": {
       "width": "70%"
      }
     },
     "b163da4fc0724185a16fd2135651aab8": {
      "model_module": "@jupyter-widgets/base",
      "model_module_version": "1.1.0",
      "model_name": "LayoutModel",
      "state": {}
     },
     "b1a7f19cb4b9475bb0ec1916c89ccee0": {
      "model_module": "@jupyter-widgets/controls",
      "model_module_version": "1.4.0",
      "model_name": "ButtonStyleModel",
      "state": {}
     },
     "b1c6671c4c374ecc9c24adbe4568788b": {
      "model_module": "@jupyter-widgets/controls",
      "model_module_version": "1.4.0",
      "model_name": "HBoxModel",
      "state": {
       "children": [
        "IPY_MODEL_6539fcfd58bc44c8b5b9388b3c1829e7",
        "IPY_MODEL_a5f6000cdbde40aab090c61e08c3a656"
       ],
       "layout": "IPY_MODEL_7da28f09fabc4e7294c30f004f877c7f"
      }
     },
     "b1de212cf2614aaba6d71321d413a084": {
      "model_module": "@jupyter-widgets/controls",
      "model_module_version": "1.4.0",
      "model_name": "LabelModel",
      "state": {
       "layout": "IPY_MODEL_e3af97b1f0664e7cb18faede2d9b492c",
       "style": "IPY_MODEL_b69490aafd2d40448d362e1d2af67a8c",
       "value": "Start date is valid"
      }
     },
     "b20ba04985fb4ff0a8f5aef33eb71056": {
      "model_module": "@jupyter-widgets/controls",
      "model_module_version": "1.4.0",
      "model_name": "ToggleButtonsModel",
      "state": {
       "_options_labels": [
        "Geomedian",
        "Tasselled Cap"
       ],
       "button_style": "",
       "description": "Click selection to calculate stats:",
       "icons": [],
       "index": 1,
       "layout": "IPY_MODEL_1ed7644b47df4afb839a41d79fda724a",
       "style": "IPY_MODEL_15b8be62b1f84c60a18439d074f9fd35",
       "tooltips": [
        "Calculate Geomedian",
        "Calculate Tasselled Cap Stats"
       ]
      }
     },
     "b20be0e784b44a4c86bf3540f6dd2d87": {
      "model_module": "@jupyter-widgets/controls",
      "model_module_version": "1.4.0",
      "model_name": "TextModel",
      "state": {
       "description": "end date",
       "layout": "IPY_MODEL_3761f48fb9874b8f9b94b57f60e81dfa",
       "placeholder": "update this field YYYY-MM-DD",
       "style": "IPY_MODEL_3e2630fc9405446490f972acf9a2f9e8",
       "value": "2013-10-31"
      }
     },
     "b235025343b64c53a651290ffb21327b": {
      "model_module": "@jupyter-widgets/base",
      "model_module_version": "1.1.0",
      "model_name": "LayoutModel",
      "state": {}
     },
     "b243066bd66f48b79684bac47774674f": {
      "model_module": "@jupyter-widgets/base",
      "model_module_version": "1.1.0",
      "model_name": "LayoutModel",
      "state": {}
     },
     "b2c46c31642e470281191ef8171df71a": {
      "model_module": "@jupyter-widgets/controls",
      "model_module_version": "1.4.0",
      "model_name": "HBoxModel",
      "state": {
       "children": [
        "IPY_MODEL_ee387ccbdf5b450fa19c7db93bc6b7e4",
        "IPY_MODEL_72ccbb642ec74e689ca1318de0296f56"
       ],
       "layout": "IPY_MODEL_374830a1454449d29f8aff7764a5b226"
      }
     },
     "b2c59a7671f84e0397a3e6167892349d": {
      "model_module": "@jupyter-widgets/controls",
      "model_module_version": "1.4.0",
      "model_name": "DescriptionStyleModel",
      "state": {
       "description_width": ""
      }
     },
     "b3684b6c21764056bab9851ff93734f8": {
      "model_module": "@jupyter-widgets/base",
      "model_module_version": "1.1.0",
      "model_name": "LayoutModel",
      "state": {}
     },
     "b37dcd204c074e2e9005609f92975a4d": {
      "model_module": "@jupyter-widgets/base",
      "model_module_version": "1.1.0",
      "model_name": "LayoutModel",
      "state": {
       "width": "70%"
      }
     },
     "b38a782dba584749a8511fb5d37112b0": {
      "model_module": "@jupyter-widgets/controls",
      "model_module_version": "1.4.0",
      "model_name": "DescriptionStyleModel",
      "state": {
       "description_width": ""
      }
     },
     "b3cf89bc479243a2b01b81dfc8e4d4f7": {
      "model_module": "@jupyter-widgets/controls",
      "model_module_version": "1.4.0",
      "model_name": "DescriptionStyleModel",
      "state": {
       "description_width": ""
      }
     },
     "b4a88a214f96401b96ec49d64b98bd99": {
      "model_module": "@jupyter-widgets/controls",
      "model_module_version": "1.4.0",
      "model_name": "ButtonStyleModel",
      "state": {}
     },
     "b5727204ccd44ad5b6ae2240ac053c76": {
      "model_module": "@jupyter-widgets/base",
      "model_module_version": "1.1.0",
      "model_name": "LayoutModel",
      "state": {}
     },
     "b585070c8ece4c958ae0ab3c7d4da4b5": {
      "model_module": "@jupyter-widgets/controls",
      "model_module_version": "1.4.0",
      "model_name": "DescriptionStyleModel",
      "state": {
       "description_width": ""
      }
     },
     "b59cfe415e5d4323a11eda83ef0cf760": {
      "model_module": "@jupyter-widgets/controls",
      "model_module_version": "1.4.0",
      "model_name": "ButtonModel",
      "state": {
       "description": "Check shapefile",
       "layout": "IPY_MODEL_aff5be0e65ef4e07828e296a0196ccba",
       "style": "IPY_MODEL_dfe1a55b616b44daaa569ae2b7593d03",
       "tooltip": "Click me"
      }
     },
     "b5cb4f21868245d981c49f1126daffeb": {
      "model_module": "@jupyter-widgets/controls",
      "model_module_version": "1.4.0",
      "model_name": "ToggleButtonsStyleModel",
      "state": {
       "button_width": "",
       "description_width": ""
      }
     },
     "b5df241ca7b6464cb16f9383f2c70634": {
      "model_module": "@jupyter-widgets/controls",
      "model_module_version": "1.4.0",
      "model_name": "TextModel",
      "state": {
       "description": "end date",
       "layout": "IPY_MODEL_ea9bd06331fa4da9a0c6ea104562a415",
       "placeholder": "update this field YYYY-MM-DD",
       "style": "IPY_MODEL_a6214f6ba8234f2baa37dce9bdebc4f4",
       "value": "2013-05-31"
      }
     },
     "b5f41a693dc245c189109352cf3e26f6": {
      "model_module": "jupyter-leaflet",
      "model_module_version": "~0.7.3",
      "model_name": "LeafletFeatureGroupModel",
      "state": {
       "_model_module_version": "~0.7.3",
       "_view_count": null,
       "_view_module_version": "~0.7.3"
      }
     },
     "b60f16b66358447aa7528d49d09bc701": {
      "model_module": "jupyter-leaflet",
      "model_module_version": "~0.7.3",
      "model_name": "LeafletTileLayerModel",
      "state": {
       "_model_module_version": "~0.7.3",
       "_view_count": null,
       "_view_module_version": "~0.7.3",
       "base": true,
       "max_zoom": 19,
       "min_zoom": 1,
       "options": [
        "attribution",
        "detect_retina",
        "max_zoom",
        "min_zoom",
        "tile_size"
       ]
      }
     },
     "b69490aafd2d40448d362e1d2af67a8c": {
      "model_module": "@jupyter-widgets/controls",
      "model_module_version": "1.4.0",
      "model_name": "DescriptionStyleModel",
      "state": {
       "description_width": ""
      }
     },
     "b6cbebcde4be4077826c5f444661320a": {
      "model_module": "@jupyter-widgets/base",
      "model_module_version": "1.1.0",
      "model_name": "LayoutModel",
      "state": {}
     },
     "b819085dd3bf4a1f9f082187a8a0c588": {
      "model_module": "@jupyter-widgets/base",
      "model_module_version": "1.1.0",
      "model_name": "LayoutModel",
      "state": {}
     },
     "b83aff089c004bda8f987caba5f460ac": {
      "model_module": "jupyter-leaflet",
      "model_module_version": "~0.7.3",
      "model_name": "LeafletFeatureGroupModel",
      "state": {
       "_model_module_version": "~0.7.3",
       "_view_count": null,
       "_view_module_version": "~0.7.3"
      }
     },
     "b900f885051a4ce2b7428e7ce1099a6f": {
      "model_module": "@jupyter-widgets/base",
      "model_module_version": "1.1.0",
      "model_name": "LayoutModel",
      "state": {}
     },
     "b934eed685a94334a26fdc16656b1627": {
      "model_module": "@jupyter-widgets/controls",
      "model_module_version": "1.4.0",
      "model_name": "DescriptionStyleModel",
      "state": {
       "description_width": ""
      }
     },
     "b9495dc952df4fed80534bee2b844fad": {
      "model_module": "@jupyter-widgets/controls",
      "model_module_version": "1.4.0",
      "model_name": "ButtonModel",
      "state": {
       "description": "File Name Specified",
       "icon": "check-square-o",
       "layout": "IPY_MODEL_2cba40606b2448eabf5ce1043dd4a460",
       "style": "IPY_MODEL_c66fab7030fc433f97f87d9401d1eb30"
      }
     },
     "ba0a4ad84619480c8f8671efe16fa6d7": {
      "model_module": "@jupyter-widgets/controls",
      "model_module_version": "1.4.0",
      "model_name": "DescriptionStyleModel",
      "state": {
       "description_width": ""
      }
     },
     "ba389e3e561841cf9268f9fb03a2432e": {
      "model_module": "@jupyter-widgets/base",
      "model_module_version": "1.1.0",
      "model_name": "LayoutModel",
      "state": {}
     },
     "ba3ed2c2b9d648a29e3a700c2f413a15": {
      "model_module": "@jupyter-widgets/controls",
      "model_module_version": "1.4.0",
      "model_name": "VBoxModel",
      "state": {
       "children": [
        "IPY_MODEL_9db53fc6ac044603b58b0ca6f04206f7",
        "IPY_MODEL_4ceeeb52d326492ca12af3c019bd8a66"
       ],
       "layout": "IPY_MODEL_03e175404ff64235ab1e98121c4826fb"
      }
     },
     "ba8c688827394a2689ec2a031843a227": {
      "model_module": "@jupyter-widgets/controls",
      "model_module_version": "1.4.0",
      "model_name": "DescriptionStyleModel",
      "state": {
       "description_width": ""
      }
     },
     "ba950cf6286d44c594e8c28f91b28558": {
      "model_module": "@jupyter-widgets/controls",
      "model_module_version": "1.4.0",
      "model_name": "DescriptionStyleModel",
      "state": {
       "description_width": "initial"
      }
     },
     "bb3606b245d54f048ebbc1c16fff3545": {
      "model_module": "@jupyter-widgets/base",
      "model_module_version": "1.1.0",
      "model_name": "LayoutModel",
      "state": {}
     },
     "bb5e1b0425794c72acecc7ae12c781a0": {
      "model_module": "@jupyter-widgets/controls",
      "model_module_version": "1.4.0",
      "model_name": "ButtonModel",
      "state": {
       "description": "Select File",
       "icon": "square-o",
       "layout": "IPY_MODEL_fc1a81e4f8a545699d3776ac246b9f57",
       "style": "IPY_MODEL_45a254841970494c8833e3fc715264a4"
      }
     },
     "bbc92b5be7644f08a336fae4258b750c": {
      "model_module": "@jupyter-widgets/base",
      "model_module_version": "1.1.0",
      "model_name": "LayoutModel",
      "state": {}
     },
     "bc9fbed398734ba2b19bf6adec66a95a": {
      "model_module": "@jupyter-widgets/controls",
      "model_module_version": "1.4.0",
      "model_name": "DescriptionStyleModel",
      "state": {
       "description_width": ""
      }
     },
     "bcbfa8e862154dea98c7ebd2f6341bfc": {
      "model_module": "@jupyter-widgets/controls",
      "model_module_version": "1.4.0",
      "model_name": "HBoxModel",
      "state": {
       "children": [
        "IPY_MODEL_659398f5d1c246d6af167d5cba79e640",
        "IPY_MODEL_d055c7b3f15a46b287a387ad4bb383b2"
       ],
       "layout": "IPY_MODEL_ee80a70b5ab84d278d3e4ff89f735eb1"
      }
     },
     "bcd07ed4ebca44ef8e901775aeec72fd": {
      "model_module": "@jupyter-widgets/controls",
      "model_module_version": "1.4.0",
      "model_name": "HBoxModel",
      "state": {
       "children": [
        "IPY_MODEL_e431d41473af43e99c3637cb42a6eff3",
        "IPY_MODEL_f806737e8417453eb1a62f975a8fade0"
       ],
       "layout": "IPY_MODEL_1a56b04a2680446eb49062bd3c04b290"
      }
     },
     "bcd2f5ddff5942f9a30e00843256708b": {
      "model_module": "@jupyter-widgets/controls",
      "model_module_version": "1.4.0",
      "model_name": "ButtonStyleModel",
      "state": {}
     },
     "bd55359b92a8441e9901191a9cb091d2": {
      "model_module": "@jupyter-widgets/base",
      "model_module_version": "1.1.0",
      "model_name": "LayoutModel",
      "state": {}
     },
     "bd56ad19085f4d609311a856a8b26a10": {
      "model_module": "@jupyter-widgets/controls",
      "model_module_version": "1.4.0",
      "model_name": "ButtonModel",
      "state": {
       "description": "Check shapefile",
       "layout": "IPY_MODEL_e3570122e1524882873e1815ae8bd836",
       "style": "IPY_MODEL_612675846c8b4a8da72aad8071b9e341",
       "tooltip": "Click me"
      }
     },
     "bd6527b0d1fd454a8d9d36ecadfe9fb3": {
      "model_module": "@jupyter-widgets/controls",
      "model_module_version": "1.4.0",
      "model_name": "ButtonModel",
      "state": {
       "description": "Check shapefile",
       "layout": "IPY_MODEL_1f9ad95bbb1940889a03f25cb547e6b8",
       "style": "IPY_MODEL_1ffd6b7a924249399455dba7f2e3d6d4",
       "tooltip": "Click me"
      }
     },
     "bd9a165f8b644ad8b5516530728820b9": {
      "model_module": "@jupyter-widgets/base",
      "model_module_version": "1.1.0",
      "model_name": "LayoutModel",
      "state": {}
     },
     "bdf4ed52def94c1cb21de762468d23cd": {
      "model_module": "@jupyter-widgets/base",
      "model_module_version": "1.1.0",
      "model_name": "LayoutModel",
      "state": {}
     },
     "be26df464ec644eabf1e2b7f57141d8c": {
      "model_module": "@jupyter-widgets/controls",
      "model_module_version": "1.4.0",
      "model_name": "HBoxModel",
      "state": {
       "children": [
        "IPY_MODEL_9b1513bef60f41a4a0d9ead36af22280",
        "IPY_MODEL_e81b8b9fe7bf422e927b62cdaa382304"
       ],
       "layout": "IPY_MODEL_14b25e9f36c545deaad1657bce39f570"
      }
     },
     "be274867537242eda9af68770b7f8e5b": {
      "model_module": "jupyter-leaflet",
      "model_module_version": "~0.7.3",
      "model_name": "LeafletFeatureGroupModel",
      "state": {
       "_model_module_version": "~0.7.3",
       "_view_count": null,
       "_view_module_version": "~0.7.3"
      }
     },
     "be4ad48f2d204c73b8a803187837b0a5": {
      "model_module": "@jupyter-widgets/base",
      "model_module_version": "1.1.0",
      "model_name": "LayoutModel",
      "state": {}
     },
     "be58c0d8c3694978bf09605b8209903a": {
      "model_module": "@jupyter-widgets/controls",
      "model_module_version": "1.4.0",
      "model_name": "DescriptionStyleModel",
      "state": {
       "description_width": ""
      }
     },
     "bec925e5ac4b4a19bad4ea0ada57e573": {
      "model_module": "@jupyter-widgets/controls",
      "model_module_version": "1.4.0",
      "model_name": "TextModel",
      "state": {
       "description": "start date",
       "layout": "IPY_MODEL_4d15c5506fd84e61a8826d2095d8a7a3",
       "placeholder": "update this field YYYY-MM-DD",
       "style": "IPY_MODEL_0588b892085d40f784aa90c72a12bfad",
       "value": "2013-03-01"
      }
     },
     "bf231b12d38441fab5feafcdd05a134b": {
      "model_module": "jupyter-leaflet",
      "model_module_version": "~0.7.3",
      "model_name": "LeafletFeatureGroupModel",
      "state": {
       "_model_module_version": "~0.7.3",
       "_view_count": null,
       "_view_module_version": "~0.7.3"
      }
     },
     "c061d7a4e86e4e4291968615ae7daa11": {
      "model_module": "@jupyter-widgets/controls",
      "model_module_version": "1.4.0",
      "model_name": "ButtonStyleModel",
      "state": {}
     },
     "c0643337f7724faca3f82150e63d4e0e": {
      "model_module": "@jupyter-widgets/controls",
      "model_module_version": "1.4.0",
      "model_name": "DescriptionStyleModel",
      "state": {
       "description_width": "initial"
      }
     },
     "c09e94a81971461eae1d84f3b61d7015": {
      "model_module": "@jupyter-widgets/controls",
      "model_module_version": "1.4.0",
      "model_name": "ButtonStyleModel",
      "state": {}
     },
     "c0be69b8519a4e1785e486cf5af67a60": {
      "model_module": "@jupyter-widgets/base",
      "model_module_version": "1.1.0",
      "model_name": "LayoutModel",
      "state": {}
     },
     "c0f437ab1eab43088e81a4f0a0c1ba46": {
      "model_module": "@jupyter-widgets/base",
      "model_module_version": "1.1.0",
      "model_name": "LayoutModel",
      "state": {}
     },
     "c14c6545c40e4d848c853ce62b3dc7af": {
      "model_module": "jupyter-leaflet",
      "model_module_version": "~0.7.3",
      "model_name": "LeafletGeoJSONModel",
      "state": {
       "_model_module_version": "~0.7.3",
       "_view_count": null,
       "_view_module_version": "~0.7.3",
       "data": {
        "geometry": {
         "coordinates": [
          [
           [
            145.260521,
            -19.934107
           ],
           [
            145.333357,
            -19.921196
           ],
           [
            145.352596,
            -19.983158
           ],
           [
            145.266018,
            -19.980576
           ],
           [
            145.260521,
            -19.934107
           ]
          ]
         ],
         "type": "Polygon"
        },
        "properties": {
         "style": {
          "clickable": true,
          "color": "#3388ff",
          "fill": true,
          "fillColor": null,
          "fillOpacity": 0.2,
          "opacity": 0.5,
          "stroke": true,
          "weight": 4
         }
        },
        "type": "Feature"
       }
      }
     },
     "c1e765ea42e24e89b0150183abc7a940": {
      "model_module": "@jupyter-widgets/base",
      "model_module_version": "1.1.0",
      "model_name": "LayoutModel",
      "state": {}
     },
     "c2199b46438c4e9c987399fa1e4805ad": {
      "model_module": "@jupyter-widgets/base",
      "model_module_version": "1.1.0",
      "model_name": "LayoutModel",
      "state": {}
     },
     "c2aa517fae3146e2911aab9d1bdd9d5d": {
      "model_module": "@jupyter-widgets/base",
      "model_module_version": "1.1.0",
      "model_name": "LayoutModel",
      "state": {}
     },
     "c2fa18a9c33544ddb1c4b09cd2d09b15": {
      "model_module": "@jupyter-widgets/controls",
      "model_module_version": "1.4.0",
      "model_name": "ButtonModel",
      "state": {
       "description": "Plot Geomedian",
       "layout": "IPY_MODEL_2c4db1279ac145adaa7cc38c6a1666d3",
       "style": "IPY_MODEL_4138bbeee0c34ef2b654f827a17c5285"
      }
     },
     "c31edf6e410c4059893991751a56931e": {
      "model_module": "@jupyter-widgets/base",
      "model_module_version": "1.1.0",
      "model_name": "LayoutModel",
      "state": {}
     },
     "c3701cf59b02485da14303840f526b7b": {
      "model_module": "@jupyter-widgets/controls",
      "model_module_version": "1.4.0",
      "model_name": "ButtonModel",
      "state": {
       "description": "Check shapefile",
       "layout": "IPY_MODEL_c3fc1a5679014bb3bb71e6ee08946230",
       "style": "IPY_MODEL_170526af81c044869fee68159c6807df",
       "tooltip": "Click me"
      }
     },
     "c37f4b07fc5e49d19ebe548ade39e9b9": {
      "model_module": "jupyter-leaflet",
      "model_module_version": "~0.7.3",
      "model_name": "LeafletMapModel",
      "state": {
       "_dom_classes": [],
       "_model_module_version": "~0.7.3",
       "_view_count": null,
       "_view_module_version": "~0.7.3",
       "basemap": {
        "attribution": "Map data (c) <a href=\"https://openstreetmap.org\">OpenStreetMap</a> contributors",
        "max_zoom": 19,
        "url": "https://{s}.tile.openstreetmap.org/{z}/{x}/{y}.png"
       },
       "center": [
        -19.988836302380797,
        145.26672363281253
       ],
       "controls": [
        "IPY_MODEL_611c0e44b4de4dbb968631e51dc53064"
       ],
       "east": -180,
       "layers": [
        "IPY_MODEL_0659d1656af849d2a9d4bca131e5b53e"
       ],
       "layout": "IPY_MODEL_ee72430f1e5c458ebe58edde78e8ff46",
       "modisdate": "yesterday",
       "north": -90,
       "options": [
        "attribution_control",
        "basemap",
        "bounce_at_zoom_limits",
        "box_zoom",
        "center",
        "close_popup_on_click",
        "double_click_zoom",
        "dragging",
        "inertia",
        "inertia_deceleration",
        "inertia_max_speed",
        "keyboard",
        "keyboard_pan_offset",
        "keyboard_zoom_offset",
        "max_zoom",
        "min_zoom",
        "scroll_wheel_zoom",
        "tap",
        "tap_tolerance",
        "touch_zoom",
        "world_copy_jump",
        "zoom",
        "zoom_animation_threshold",
        "zoom_control",
        "zoom_start"
       ],
       "south": 90,
       "west": 180,
       "zoom": 10
      }
     },
     "c3938560929947cc877be917e67a66c4": {
      "model_module": "@jupyter-widgets/controls",
      "model_module_version": "1.4.0",
      "model_name": "ButtonModel",
      "state": {
       "description": "Load and Calculate",
       "layout": "IPY_MODEL_969aee6451f942a8add5ae91d1e110c7",
       "style": "IPY_MODEL_14e9995cb34f4ffbb415fe2b98b0b626"
      }
     },
     "c3e9e6f7d9b94e199a8382c26408b838": {
      "model_module": "jupyter-leaflet",
      "model_module_version": "1.0.0",
      "model_name": "LeafletDrawControlModel",
      "state": {
       "_model_module_version": "1.0.0",
       "_view_count": null,
       "_view_module_version": "",
       "layer": "IPY_MODEL_10cda133c629498187810e1007d94900",
       "polygon": {
        "shapeOptions": {
         "color": "#0000FF"
        }
       },
       "polyline": {}
      }
     },
     "c3fc1a5679014bb3bb71e6ee08946230": {
      "model_module": "@jupyter-widgets/base",
      "model_module_version": "1.1.0",
      "model_name": "LayoutModel",
      "state": {}
     },
     "c4a13f09df92453b8fb899195e843009": {
      "model_module": "@jupyter-widgets/controls",
      "model_module_version": "1.4.0",
      "model_name": "TextModel",
      "state": {
       "description": "start date",
       "layout": "IPY_MODEL_5671c97b9e094ab39ae8d694d7fe83f3",
       "placeholder": "update this field YYYY-MM-DD",
       "style": "IPY_MODEL_2a18af3fff3647f6a7dcd869152900a6",
       "value": "2013-04-01"
      }
     },
     "c4bb477a9c4d431a845417a9f7b3c92f": {
      "model_module": "@jupyter-widgets/base",
      "model_module_version": "1.1.0",
      "model_name": "LayoutModel",
      "state": {}
     },
     "c59ce347ee774988ab93c8a55d2cc6cb": {
      "model_module": "@jupyter-widgets/base",
      "model_module_version": "1.1.0",
      "model_name": "LayoutModel",
      "state": {}
     },
     "c62c79eff3a44c1aa8eddb615d023088": {
      "model_module": "@jupyter-widgets/base",
      "model_module_version": "1.1.0",
      "model_name": "LayoutModel",
      "state": {}
     },
     "c638a0562dbd43a48768dfc7aa545a57": {
      "model_module": "@jupyter-widgets/base",
      "model_module_version": "1.1.0",
      "model_name": "LayoutModel",
      "state": {}
     },
     "c66fab7030fc433f97f87d9401d1eb30": {
      "model_module": "@jupyter-widgets/controls",
      "model_module_version": "1.4.0",
      "model_name": "ButtonStyleModel",
      "state": {
       "button_color": "lightgreen"
      }
     },
     "c6ea66be5fad4dce8f86a190bd283d87": {
      "model_module": "@jupyter-widgets/controls",
      "model_module_version": "1.4.0",
      "model_name": "DescriptionStyleModel",
      "state": {
       "description_width": ""
      }
     },
     "c7104fbe7a1b4137919d154facf960a8": {
      "model_module": "jupyter-leaflet",
      "model_module_version": "~0.7.3",
      "model_name": "LeafletFeatureGroupModel",
      "state": {
       "_model_module_version": "~0.7.3",
       "_view_count": null,
       "_view_module_version": "~0.7.3"
      }
     },
     "c77e4066aff442c6bec059169f786e1e": {
      "model_module": "@jupyter-widgets/controls",
      "model_module_version": "1.4.0",
      "model_name": "ButtonModel",
      "state": {
       "description": "Check dates",
       "layout": "IPY_MODEL_78cd97b539a146518b1336d248121544",
       "style": "IPY_MODEL_7b5fb97682184939a76021f60838a1bb",
       "tooltip": "Click me"
      }
     },
     "c782a8e6b9904ce2853906b11c33c4c3": {
      "model_module": "@jupyter-widgets/controls",
      "model_module_version": "1.4.0",
      "model_name": "LabelModel",
      "state": {
       "layout": "IPY_MODEL_b235025343b64c53a651290ffb21327b",
       "style": "IPY_MODEL_e4d5f67c42884091b7acfe2876231c78",
       "value": "Is my start date valid?"
      }
     },
     "c7a110aec5ae4a06b2a9954e4385b502": {
      "model_module": "@jupyter-widgets/base",
      "model_module_version": "1.1.0",
      "model_name": "LayoutModel",
      "state": {}
     },
     "c7e9d8d1cc4f49c6947a6d78ee08e25d": {
      "model_module": "@jupyter-widgets/controls",
      "model_module_version": "1.4.0",
      "model_name": "ButtonModel",
      "state": {
       "description": "Select File",
       "icon": "square-o",
       "layout": "IPY_MODEL_4d5ce2fc5004436c867eea9e391f007e",
       "style": "IPY_MODEL_af553cb2e8c143f3a02fac95310715db"
      }
     },
     "c8974032631a4fc3836604f9aa9f8b7f": {
      "model_module": "@jupyter-widgets/base",
      "model_module_version": "1.1.0",
      "model_name": "LayoutModel",
      "state": {}
     },
     "c8ac9efe63434ea5bbb3afc04da4396c": {
      "model_module": "@jupyter-widgets/controls",
      "model_module_version": "1.4.0",
      "model_name": "DescriptionStyleModel",
      "state": {
       "description_width": "initial"
      }
     },
     "c8dc1d570ec2485d9f7996646587be33": {
      "model_module": "@jupyter-widgets/output",
      "model_module_version": "1.0.0",
      "model_name": "OutputModel",
      "state": {
       "layout": "IPY_MODEL_bdf4ed52def94c1cb21de762468d23cd"
      }
     },
     "c9625eeb30794e2d83c82c49071a512c": {
      "model_module": "@jupyter-widgets/base",
      "model_module_version": "1.1.0",
      "model_name": "LayoutModel",
      "state": {}
     },
     "c9c25c7efa2f41fb8cd5d703ef96c64f": {
      "model_module": "@jupyter-widgets/controls",
      "model_module_version": "1.4.0",
      "model_name": "ButtonStyleModel",
      "state": {}
     },
     "c9c35a7167014c7cb8c20cf17bef07a4": {
      "model_module": "@jupyter-widgets/base",
      "model_module_version": "1.1.0",
      "model_name": "LayoutModel",
      "state": {}
     },
     "c9c8ca26ebeb42e4a331f4cfcf5995a9": {
      "model_module": "@jupyter-widgets/base",
      "model_module_version": "1.1.0",
      "model_name": "LayoutModel",
      "state": {}
     },
     "ca0d0eaeaabd4543a84655bd5c7a546a": {
      "model_module": "@jupyter-widgets/base",
      "model_module_version": "1.1.0",
      "model_name": "LayoutModel",
      "state": {
       "width": "70%"
      }
     },
     "ca13ea05a65d4773b21fe02b041cbf27": {
      "model_module": "@jupyter-widgets/controls",
      "model_module_version": "1.4.0",
      "model_name": "DescriptionStyleModel",
      "state": {
       "description_width": ""
      }
     },
     "ca2f5628034341f5a521498c5eecb93e": {
      "model_module": "@jupyter-widgets/controls",
      "model_module_version": "1.4.0",
      "model_name": "RadioButtonsModel",
      "state": {
       "_options_labels": [
        "Geomedian",
        "TCWetness Summary",
        "TCI RGB Summary",
        "TCI means RGB",
        "TCI std dev RGB"
       ],
       "description": "Plot Which Stat?",
       "index": 3,
       "layout": "IPY_MODEL_db955b4f0fca4b24bec3529d99599c81",
       "style": "IPY_MODEL_43f52c445fb4432ba3a8e68498df68b3"
      }
     },
     "cc064e945f344231acf83f7d942279a7": {
      "model_module": "@jupyter-widgets/base",
      "model_module_version": "1.1.0",
      "model_name": "LayoutModel",
      "state": {
       "width": "70%"
      }
     },
     "cc41447f4be74e5fb5cd60506285a781": {
      "model_module": "jupyter-leaflet",
      "model_module_version": "~0.7.3",
      "model_name": "LeafletTileLayerModel",
      "state": {
       "_model_module_version": "~0.7.3",
       "_view_count": null,
       "_view_module_version": "~0.7.3",
       "base": true,
       "max_zoom": 19,
       "min_zoom": 1,
       "options": [
        "attribution",
        "detect_retina",
        "max_zoom",
        "min_zoom",
        "tile_size"
       ]
      }
     },
     "cc584e0ddd724683939b115c53c7727b": {
      "model_module": "@jupyter-widgets/controls",
      "model_module_version": "1.4.0",
      "model_name": "TextModel",
      "state": {
       "description": "end date",
       "layout": "IPY_MODEL_1dc2608954e04b929d8dab164fa5660d",
       "placeholder": "update this field YYYY-MM-DD",
       "style": "IPY_MODEL_f7b7eab4f6614845a2741b174f152f54",
       "value": "2013-05-31"
      }
     },
     "cca9c9073da141cf8e1448d4c88d2094": {
      "model_module": "jupyter-leaflet",
      "model_module_version": "~0.7.3",
      "model_name": "LeafletDrawControlModel",
      "state": {
       "_model_module_version": "~0.7.3",
       "_view_count": null,
       "_view_module_version": "~0.7.3",
       "layer": "IPY_MODEL_b5f41a693dc245c189109352cf3e26f6",
       "polyline": {}
      }
     },
     "ccda8677eba543a3ba7cb33e12733320": {
      "model_module": "@jupyter-widgets/base",
      "model_module_version": "1.1.0",
      "model_name": "LayoutModel",
      "state": {}
     },
     "cd14fa69dcf34d2abadfab7f1f78f42b": {
      "model_module": "@jupyter-widgets/controls",
      "model_module_version": "1.4.0",
      "model_name": "LabelModel",
      "state": {
       "layout": "IPY_MODEL_290ed6cd58db4c4a865f9d3081f212e9",
       "style": "IPY_MODEL_2d4c273233cb4683911ce72427fa6a7d",
       "value": "Start date is valid"
      }
     },
     "cd377c2607674a7f8ac8fe2be851656e": {
      "model_module": "@jupyter-widgets/base",
      "model_module_version": "1.1.0",
      "model_name": "LayoutModel",
      "state": {}
     },
     "cd59f03bd39b4544bae61f4d8ab47bb0": {
      "model_module": "@jupyter-widgets/base",
      "model_module_version": "1.1.0",
      "model_name": "LayoutModel",
      "state": {}
     },
     "cda8475016764eb2aa03e5e399ba4c65": {
      "model_module": "@jupyter-widgets/controls",
      "model_module_version": "1.4.0",
      "model_name": "TextModel",
      "state": {
       "description": "end date",
       "layout": "IPY_MODEL_bb3606b245d54f048ebbc1c16fff3545",
       "placeholder": "update this field YYYY-MM-DD",
       "style": "IPY_MODEL_1c7e036e565542b7a8914370d901d1d6",
       "value": "2013-05-31"
      }
     },
     "ce8164946b664d8dad05de573daba3b1": {
      "model_module": "@jupyter-widgets/base",
      "model_module_version": "1.1.0",
      "model_name": "LayoutModel",
      "state": {}
     },
     "cf15a92a905f4fb2ad229c1e08d54f53": {
      "model_module": "@jupyter-widgets/controls",
      "model_module_version": "1.4.0",
      "model_name": "HBoxModel",
      "state": {
       "children": [
        "IPY_MODEL_98590b429d734e758ec912af529f8d95",
        "IPY_MODEL_f979c91206b04dc89195308c53699b5e"
       ],
       "layout": "IPY_MODEL_2b1add0a18d24c878cd1274830d101e7"
      }
     },
     "cf28a2f78efc4ad68716f4acb9fa2553": {
      "model_module": "@jupyter-widgets/controls",
      "model_module_version": "1.4.0",
      "model_name": "ButtonModel",
      "state": {
       "description": "Select File",
       "icon": "square-o",
       "layout": "IPY_MODEL_5be45dd7db0346e58e732c45983d45ff",
       "style": "IPY_MODEL_70f5981c117f45c1be000effcfcc0d03"
      }
     },
     "cf79f0110e9947668e6807c5a91e210f": {
      "model_module": "@jupyter-widgets/base",
      "model_module_version": "1.1.0",
      "model_name": "LayoutModel",
      "state": {}
     },
     "d028be6fbce94d838f2d7031352186e1": {
      "model_module": "@jupyter-widgets/controls",
      "model_module_version": "1.4.0",
      "model_name": "ButtonModel",
      "state": {
       "description": "Select File",
       "icon": "square-o",
       "layout": "IPY_MODEL_f6dddb58edc048ada2487c4c153b967d",
       "style": "IPY_MODEL_a6e33d8700884aa7b9f3c9fc52b467a9"
      }
     },
     "d0306c8f545d43b7ab7c94e948fd28b5": {
      "model_module": "@jupyter-widgets/controls",
      "model_module_version": "1.4.0",
      "model_name": "ButtonModel",
      "state": {
       "description": "Load and Calculate",
       "layout": "IPY_MODEL_b819085dd3bf4a1f9f082187a8a0c588",
       "style": "IPY_MODEL_acfb169d760a4551a9b48880b5d7aab1"
      }
     },
     "d055c7b3f15a46b287a387ad4bb383b2": {
      "model_module": "@jupyter-widgets/controls",
      "model_module_version": "1.4.0",
      "model_name": "LabelModel",
      "state": {
       "layout": "IPY_MODEL_49d33c5c42344cabb097bc8c051ca76f",
       "style": "IPY_MODEL_ba0a4ad84619480c8f8671efe16fa6d7",
       "value": "Start date is valid"
      }
     },
     "d059f19b453c40f4bf59f0526c822e2e": {
      "model_module": "@jupyter-widgets/controls",
      "model_module_version": "1.4.0",
      "model_name": "DescriptionStyleModel",
      "state": {
       "description_width": ""
      }
     },
     "d06ec96640d0453fab6baf142c344a25": {
      "model_module": "@jupyter-widgets/base",
      "model_module_version": "1.1.0",
      "model_name": "LayoutModel",
      "state": {}
     },
     "d0a326b80a1847268b631b8e397adb37": {
      "model_module": "@jupyter-widgets/base",
      "model_module_version": "1.1.0",
      "model_name": "LayoutModel",
      "state": {}
     },
     "d0e2a22a6d394babba05088a803878db": {
      "model_module": "@jupyter-widgets/controls",
      "model_module_version": "1.4.0",
      "model_name": "TextModel",
      "state": {
       "description": "start date",
       "layout": "IPY_MODEL_4ea17b0f48e4415c9111925c093c1ceb",
       "placeholder": "update this field YYYY-MM-DD",
       "style": "IPY_MODEL_9d57f263caf2440b905352798df5f9c4",
       "value": "2013-05-01"
      }
     },
     "d107289f230143808f5b22db46c5255a": {
      "model_module": "@jupyter-widgets/controls",
      "model_module_version": "1.4.0",
      "model_name": "LabelModel",
      "state": {
       "layout": "IPY_MODEL_a2e63fe0bcc74efcaa0a79c5af2d4d6e",
       "style": "IPY_MODEL_201176c45b884d79935aaf67c74c5478",
       "value": "Start date is valid"
      }
     },
     "d19b6b11f8cf4c22a21fa7c7f0aab450": {
      "model_module": "@jupyter-widgets/controls",
      "model_module_version": "1.4.0",
      "model_name": "HBoxModel",
      "state": {
       "children": [
        "IPY_MODEL_deaffec27d5e4652896beee0893aae88",
        "IPY_MODEL_9e63789a886b4fe99ce3726ab79c0066"
       ],
       "layout": "IPY_MODEL_faa5993b56d8495fa6895857e3658ffa"
      }
     },
     "d1ce4baf1c1946218a5db41c146e20a3": {
      "model_module": "@jupyter-widgets/controls",
      "model_module_version": "1.4.0",
      "model_name": "ButtonStyleModel",
      "state": {
       "button_color": "lightgreen"
      }
     },
     "d2232a3d78a54363bdaf423a3490748d": {
      "model_module": "@jupyter-widgets/base",
      "model_module_version": "1.1.0",
      "model_name": "LayoutModel",
      "state": {}
     },
     "d2f73fe14e77435d9b139e642717f3e6": {
      "model_module": "@jupyter-widgets/base",
      "model_module_version": "1.1.0",
      "model_name": "LayoutModel",
      "state": {}
     },
     "d2f7e71c3fee42f390ba485f2c05eabf": {
      "model_module": "@jupyter-widgets/controls",
      "model_module_version": "1.4.0",
      "model_name": "ButtonModel",
      "state": {
       "description": "Check shapefile",
       "layout": "IPY_MODEL_99de0ea53f624b8187511ded54552df0",
       "style": "IPY_MODEL_c09e94a81971461eae1d84f3b61d7015",
       "tooltip": "Click me"
      }
     },
     "d3094d37aa524703a8f8613d66c76cd2": {
      "model_module": "@jupyter-widgets/base",
      "model_module_version": "1.1.0",
      "model_name": "LayoutModel",
      "state": {}
     },
     "d310ca5d8f004872871e7b57fe0c363e": {
      "model_module": "@jupyter-widgets/base",
      "model_module_version": "1.1.0",
      "model_name": "LayoutModel",
      "state": {
       "height": "400px",
       "width": "400px"
      }
     },
     "d4ecaf48828546e58b89b98b239f3420": {
      "model_module": "@jupyter-widgets/controls",
      "model_module_version": "1.4.0",
      "model_name": "DescriptionStyleModel",
      "state": {
       "description_width": ""
      }
     },
     "d6021ff9e4484644bbc723240709b4fd": {
      "model_module": "@jupyter-widgets/controls",
      "model_module_version": "1.4.0",
      "model_name": "ButtonModel",
      "state": {
       "description": "Select File",
       "icon": "square-o",
       "layout": "IPY_MODEL_acb646c41e8e405987c2f344d348f2b0",
       "style": "IPY_MODEL_8ce6cd6a87fd48258aacf674aaa984ae"
      }
     },
     "d64bd31266384144b86b9361ef60aa3d": {
      "model_module": "@jupyter-widgets/controls",
      "model_module_version": "1.4.0",
      "model_name": "HBoxModel",
      "state": {
       "children": [
        "IPY_MODEL_b0fff64c7bf640de85bf8936b308c5e5",
        "IPY_MODEL_e7c0c3b5e9f343b28ed39cfa1f77d5b3"
       ],
       "layout": "IPY_MODEL_0ded9e85c1684fb79911f54dd2114983"
      }
     },
     "d793185eb2f54a6582f55283757a96ae": {
      "model_module": "@jupyter-widgets/base",
      "model_module_version": "1.1.0",
      "model_name": "LayoutModel",
      "state": {}
     },
     "d7fa534ade4e48eeb38b6f81b5b0a21c": {
      "model_module": "@jupyter-widgets/controls",
      "model_module_version": "1.4.0",
      "model_name": "ButtonStyleModel",
      "state": {}
     },
     "d7feb4af820e4049ac57cbe3bbf5ed18": {
      "model_module": "@jupyter-widgets/controls",
      "model_module_version": "1.4.0",
      "model_name": "ButtonStyleModel",
      "state": {
       "button_color": "orange"
      }
     },
     "d8389cb50ede49ef8a0c8c788b5c8f3f": {
      "model_module": "@jupyter-widgets/controls",
      "model_module_version": "1.4.0",
      "model_name": "DescriptionStyleModel",
      "state": {
       "description_width": ""
      }
     },
     "d8a49451cf884032826f923a85bb3868": {
      "model_module": "@jupyter-widgets/controls",
      "model_module_version": "1.4.0",
      "model_name": "HBoxModel",
      "state": {
       "children": [
        "IPY_MODEL_5ea4e0ad48584e559bbefed7a9c193ad",
        "IPY_MODEL_ee603be6430541f3b895363f410bfe9d"
       ],
       "layout": "IPY_MODEL_2ec103a608a340f8852f92f721a4a304"
      }
     },
     "d8fdc136b30f4a7597bd03003b771ed3": {
      "model_module": "@jupyter-widgets/controls",
      "model_module_version": "1.4.0",
      "model_name": "ButtonModel",
      "state": {
       "description": "Select File",
       "icon": "square-o",
       "layout": "IPY_MODEL_ccda8677eba543a3ba7cb33e12733320",
       "style": "IPY_MODEL_a15eae5f940f484cb9efdb4e995af8ab"
      }
     },
     "d975224207414ea485898a33cb46f410": {
      "model_module": "@jupyter-widgets/controls",
      "model_module_version": "1.4.0",
      "model_name": "ButtonModel",
      "state": {
       "description": "Check dates",
       "layout": "IPY_MODEL_3bbc30eab3974db3af83ad1f124f2b11",
       "style": "IPY_MODEL_bcd2f5ddff5942f9a30e00843256708b",
       "tooltip": "Click me"
      }
     },
     "d9cc6b9ca23d4056ac4c7abadd297834": {
      "model_module": "jupyter-leaflet",
      "model_module_version": "~0.7.3",
      "model_name": "LeafletTileLayerModel",
      "state": {
       "_model_module_version": "~0.7.3",
       "_view_count": null,
       "_view_module_version": "~0.7.3",
       "attribution": "Tiles &copy; Esri &mdash; Source: Esri, i-cubed, USDA, USGS, AEX, GeoEye, Getmapping, Aerogrid, IGN, IGP, UPR-EGP, and the GIS User Community",
       "base": true,
       "max_zoom": 20,
       "min_zoom": 1,
       "name": "Esri.WorldImagery",
       "options": [
        "attribution",
        "detect_retina",
        "max_zoom",
        "min_zoom",
        "tile_size"
       ],
       "url": "http://server.arcgisonline.com/ArcGIS/rest/services/World_Imagery/MapServer/tile/{z}/{y}/{x}"
      }
     },
     "d9e32016a1b74f50a95aeab3b64dc08c": {
      "model_module": "@jupyter-widgets/controls",
      "model_module_version": "1.4.0",
      "model_name": "ButtonModel",
      "state": {
       "description": "Check dates",
       "layout": "IPY_MODEL_04549259baa04593b56e61947ee0457c",
       "style": "IPY_MODEL_281d5202b1a8441a96fc6d7adeedf866",
       "tooltip": "Click me"
      }
     },
     "da580ae95192467e95dc522735d2a142": {
      "model_module": "@jupyter-widgets/base",
      "model_module_version": "1.1.0",
      "model_name": "LayoutModel",
      "state": {}
     },
     "daafd1aa63e649cf899de813827625c6": {
      "model_module": "@jupyter-widgets/controls",
      "model_module_version": "1.4.0",
      "model_name": "ButtonModel",
      "state": {
       "description": "Plot Geomedian",
       "layout": "IPY_MODEL_e8fa472034b548a0ae5c714d0ce52497",
       "style": "IPY_MODEL_42e43b5424444aedb21d513ceed64783"
      }
     },
     "dab0eba966f94be9968fc8f22a346f92": {
      "model_module": "jupyter-leaflet",
      "model_module_version": "~0.7.3",
      "model_name": "LeafletFeatureGroupModel",
      "state": {
       "_model_module_version": "~0.7.3",
       "_view_count": null,
       "_view_module_version": "~0.7.3"
      }
     },
     "db1b22d2392449669b865df5cfdb623b": {
      "model_module": "@jupyter-widgets/base",
      "model_module_version": "1.1.0",
      "model_name": "LayoutModel",
      "state": {}
     },
     "db6779d58ce3470092a2b8228fae0266": {
      "model_module": "@jupyter-widgets/controls",
      "model_module_version": "1.4.0",
      "model_name": "ButtonStyleModel",
      "state": {}
     },
     "db955b4f0fca4b24bec3529d99599c81": {
      "model_module": "@jupyter-widgets/base",
      "model_module_version": "1.1.0",
      "model_name": "LayoutModel",
      "state": {}
     },
     "dbd3a45ae7994bd8b720337725dfa614": {
      "model_module": "@jupyter-widgets/base",
      "model_module_version": "1.1.0",
      "model_name": "LayoutModel",
      "state": {}
     },
     "dc17c2b3595b42c9b62dc0306d8bcedf": {
      "model_module": "@jupyter-widgets/controls",
      "model_module_version": "1.4.0",
      "model_name": "ButtonModel",
      "state": {
       "description": "Select File",
       "icon": "square-o",
       "layout": "IPY_MODEL_8c923cab4b89481fa076d3fb0b1100a8",
       "style": "IPY_MODEL_01819856b4294c388e18a45cddd562ee"
      }
     },
     "dc7f10f89368424c8e4ed67eeb59a077": {
      "model_module": "@jupyter-widgets/base",
      "model_module_version": "1.1.0",
      "model_name": "LayoutModel",
      "state": {}
     },
     "dcb548327300438e8ae85e5feab832e4": {
      "model_module": "@jupyter-widgets/base",
      "model_module_version": "1.1.0",
      "model_name": "LayoutModel",
      "state": {}
     },
     "dcd6422b20944a7fa52acf8112137471": {
      "model_module": "@jupyter-widgets/controls",
      "model_module_version": "1.4.0",
      "model_name": "DescriptionStyleModel",
      "state": {
       "description_width": "initial"
      }
     },
     "dd1f9734ee7844389c2cf8796de71cab": {
      "model_module": "@jupyter-widgets/base",
      "model_module_version": "1.1.0",
      "model_name": "LayoutModel",
      "state": {}
     },
     "dd5aa7a7601d4e0fa4f076f93aed3efb": {
      "model_module": "@jupyter-widgets/controls",
      "model_module_version": "1.4.0",
      "model_name": "DescriptionStyleModel",
      "state": {
       "description_width": ""
      }
     },
     "dd95bbfa7ce6443db4902dd7920ee24c": {
      "model_module": "@jupyter-widgets/controls",
      "model_module_version": "1.4.0",
      "model_name": "ButtonModel",
      "state": {
       "description": "Load and Calculate",
       "layout": "IPY_MODEL_36b9096d85b24740b00ad28b8b518d05",
       "style": "IPY_MODEL_db6779d58ce3470092a2b8228fae0266"
      }
     },
     "de8d2a3df708475daa58c63d644bfb47": {
      "model_module": "@jupyter-widgets/controls",
      "model_module_version": "1.4.0",
      "model_name": "ButtonModel",
      "state": {
       "description": "Load and Calculate",
       "layout": "IPY_MODEL_e92af02e1ce7477387f8d7df93efb96f",
       "style": "IPY_MODEL_8d3a7ddbd43449fda414bbcab67aec76"
      }
     },
     "deaffec27d5e4652896beee0893aae88": {
      "model_module": "@jupyter-widgets/controls",
      "model_module_version": "1.4.0",
      "model_name": "TextModel",
      "state": {
       "description": "end date",
       "layout": "IPY_MODEL_355708fde7ee4a37b80c8b82a8829141",
       "placeholder": "update this field YYYY-MM-DD",
       "style": "IPY_MODEL_68a6fed10a254017a3e06932620e2b63",
       "value": "2013-05-31"
      }
     },
     "deb3f9fe2aa84f239821b8726f6e4977": {
      "model_module": "@jupyter-widgets/base",
      "model_module_version": "1.1.0",
      "model_name": "LayoutModel",
      "state": {
       "width": "70%"
      }
     },
     "df0765972c3b4f6db73a538327a51135": {
      "model_module": "@jupyter-widgets/controls",
      "model_module_version": "1.4.0",
      "model_name": "VBoxModel",
      "state": {
       "_dom_classes": [
        "widget-interact"
       ],
       "children": [
        "IPY_MODEL_e380106af49146808cae537c3e00603b",
        "IPY_MODEL_1e27083977ab4a1f9dc81f9828dceb12"
       ],
       "layout": "IPY_MODEL_08a3c0922590467593ebdd038ef93426"
      }
     },
     "df6ed8673dbb417e8bc1732b4d1e0d43": {
      "model_module": "@jupyter-widgets/controls",
      "model_module_version": "1.4.0",
      "model_name": "ToggleButtonsModel",
      "state": {
       "_options_labels": [
        "Geomedian",
        "Tasselled Cap"
       ],
       "button_style": "",
       "description": "Click selection to calculate stats:",
       "icons": [],
       "index": 1,
       "layout": "IPY_MODEL_37b6f43e2617443a9eaddd8a735733bd",
       "style": "IPY_MODEL_79ddc07458b145d389dd5afc57f9a879",
       "tooltips": [
        "Calculate Geomedian",
        "Calculate Tasselled Cap Stats"
       ]
      }
     },
     "dfb5ce1e6aa74798b0b7bab92da62a41": {
      "model_module": "@jupyter-widgets/base",
      "model_module_version": "1.1.0",
      "model_name": "LayoutModel",
      "state": {}
     },
     "dfe1a55b616b44daaa569ae2b7593d03": {
      "model_module": "@jupyter-widgets/controls",
      "model_module_version": "1.4.0",
      "model_name": "ButtonStyleModel",
      "state": {}
     },
     "e0973ca5a97c4e1bb577320758badc17": {
      "model_module": "@jupyter-widgets/base",
      "model_module_version": "1.1.0",
      "model_name": "LayoutModel",
      "state": {}
     },
     "e0ce034c1cda48cc99984442d785d4e3": {
      "model_module": "@jupyter-widgets/controls",
      "model_module_version": "1.4.0",
      "model_name": "VBoxModel",
      "state": {
       "children": [
        "IPY_MODEL_d64bd31266384144b86b9361ef60aa3d",
        "IPY_MODEL_aac703271b874899b7d0d588d5d471a2"
       ],
       "layout": "IPY_MODEL_1657d0a4d0b346229834d54a2397e86c"
      }
     },
     "e0fbc3d5f91d4b9189496f1bcc9be3e0": {
      "model_module": "@jupyter-widgets/controls",
      "model_module_version": "1.4.0",
      "model_name": "ButtonModel",
      "state": {
       "description": "Plot Geomedian",
       "layout": "IPY_MODEL_58271b4d3ed44a9aa2820ca8290889c7",
       "style": "IPY_MODEL_c9c25c7efa2f41fb8cd5d703ef96c64f"
      }
     },
     "e139e6595e204c9aa73ba1a8acaefba6": {
      "model_module": "@jupyter-widgets/base",
      "model_module_version": "1.1.0",
      "model_name": "LayoutModel",
      "state": {}
     },
     "e13aa78458c7404eb421f4291ac52d46": {
      "model_module": "@jupyter-widgets/controls",
      "model_module_version": "1.4.0",
      "model_name": "TextModel",
      "state": {
       "description": "start date",
       "layout": "IPY_MODEL_4cf53202c189492999dd625799fc5753",
       "placeholder": "update this field YYYY-MM-DD",
       "style": "IPY_MODEL_617854336e094a8daada710c504e0f68",
       "value": "2013-03-01"
      }
     },
     "e1693b98f269484a883b2e256d9ea0c0": {
      "model_module": "@jupyter-widgets/controls",
      "model_module_version": "1.4.0",
      "model_name": "ButtonModel",
      "state": {
       "description": "File Name Specified",
       "icon": "check-square-o",
       "layout": "IPY_MODEL_e2426f4844fb42399534809cf3d7fbf0",
       "style": "IPY_MODEL_0af8705550a544c2bf5f19c7252b1a0b"
      }
     },
     "e2167cb04e2e4846bd31ac936ec0eae4": {
      "model_module": "@jupyter-widgets/controls",
      "model_module_version": "1.4.0",
      "model_name": "LabelModel",
      "state": {
       "layout": "IPY_MODEL_b3684b6c21764056bab9851ff93734f8",
       "style": "IPY_MODEL_70fb7a48153d4577be0d3426d9789450",
       "value": "Is my start date valid?"
      }
     },
     "e2426f4844fb42399534809cf3d7fbf0": {
      "model_module": "@jupyter-widgets/base",
      "model_module_version": "1.1.0",
      "model_name": "LayoutModel",
      "state": {}
     },
     "e2a88f5fa4ff40deb97b478d65146b26": {
      "model_module": "@jupyter-widgets/controls",
      "model_module_version": "1.4.0",
      "model_name": "HBoxModel",
      "state": {
       "children": [
        "IPY_MODEL_fb713ab3f0724bbea21de037c2880ee4",
        "IPY_MODEL_174b48ab17ae489888887fbf0929fb8f"
       ],
       "layout": "IPY_MODEL_543df75902804d5caac4d1ce1ca9f4f2"
      }
     },
     "e2aeb99e098f4471bfb9fcb1fd405778": {
      "model_module": "jupyter-leaflet",
      "model_module_version": "~0.7.3",
      "model_name": "LeafletFeatureGroupModel",
      "state": {
       "_model_module_version": "~0.7.3",
       "_view_count": null,
       "_view_module_version": "~0.7.3"
      }
     },
     "e34cb72f9cbf4f0caa65673d7561936b": {
      "model_module": "@jupyter-widgets/controls",
      "model_module_version": "1.4.0",
      "model_name": "LabelModel",
      "state": {
       "layout": "IPY_MODEL_6801ba7497a8497ca253f4bd8fc32399",
       "style": "IPY_MODEL_2b597281a7e94be9928de045f59e8450",
       "value": "End date is valid"
      }
     },
     "e3570122e1524882873e1815ae8bd836": {
      "model_module": "@jupyter-widgets/base",
      "model_module_version": "1.1.0",
      "model_name": "LayoutModel",
      "state": {}
     },
     "e380106af49146808cae537c3e00603b": {
      "model_module": "@jupyter-widgets/controls",
      "model_module_version": "1.4.0",
      "model_name": "RadioButtonsModel",
      "state": {
       "_options_labels": [
        "Geomedian",
        "Tasselled Cap"
       ],
       "description": "Save Which Stat?",
       "index": 0,
       "layout": "IPY_MODEL_eedbc664b9364090851a1138299eadc9",
       "style": "IPY_MODEL_d4ecaf48828546e58b89b98b239f3420"
      }
     },
     "e3af97b1f0664e7cb18faede2d9b492c": {
      "model_module": "@jupyter-widgets/base",
      "model_module_version": "1.1.0",
      "model_name": "LayoutModel",
      "state": {}
     },
     "e3d7d15f048c436a89b5a861f05dbde8": {
      "model_module": "@jupyter-widgets/output",
      "model_module_version": "1.0.0",
      "model_name": "OutputModel",
      "state": {
       "layout": "IPY_MODEL_e0973ca5a97c4e1bb577320758badc17"
      }
     },
     "e431d41473af43e99c3637cb42a6eff3": {
      "model_module": "@jupyter-widgets/controls",
      "model_module_version": "1.4.0",
      "model_name": "TextModel",
      "state": {
       "description": "path to shape file",
       "layout": "IPY_MODEL_9a428dfce6ea4ec5a99dba5d39e72f24",
       "placeholder": "/g/data1a/r78/rjd547/groundwater_activities/Burdekin/Burdekin_shapefiles/fels_sml.shp",
       "style": "IPY_MODEL_3601092120214ef2906500c7edcb3184",
       "value": "'/g/data1a/r78/rjd547/groundwater_activities/Burdekin/Burdekin_shapefiles/fels_sml.shp'"
      }
     },
     "e4af995e6a8a477d908adaf113859c44": {
      "model_module": "@jupyter-widgets/controls",
      "model_module_version": "1.4.0",
      "model_name": "VBoxModel",
      "state": {
       "children": [
        "IPY_MODEL_b2c46c31642e470281191ef8171df71a",
        "IPY_MODEL_a8dfb18669774fb28d3f4fb038adc1c7"
       ],
       "layout": "IPY_MODEL_443da1e8733548c4bf0f9cc3e666724d"
      }
     },
     "e4d5f67c42884091b7acfe2876231c78": {
      "model_module": "@jupyter-widgets/controls",
      "model_module_version": "1.4.0",
      "model_name": "DescriptionStyleModel",
      "state": {
       "description_width": ""
      }
     },
     "e516dd49b551432f93b8b7ed869b190e": {
      "model_module": "@jupyter-widgets/controls",
      "model_module_version": "1.4.0",
      "model_name": "LabelModel",
      "state": {
       "layout": "IPY_MODEL_32ae61e0106a40e98638e29813f07a8b",
       "style": "IPY_MODEL_5a18379e7ccf431c90739d796afe504a",
       "value": "End date is valid"
      }
     },
     "e51d80062b924c45b52ed4b2222c0201": {
      "model_module": "@jupyter-widgets/controls",
      "model_module_version": "1.4.0",
      "model_name": "ButtonModel",
      "state": {
       "description": "Load and Calculate",
       "layout": "IPY_MODEL_9230794d5e7b40f997723471946dc1d7",
       "style": "IPY_MODEL_61cd1e36635d49a783c62496f20f8e82"
      }
     },
     "e534741621cb4c308d4e8bed71769dc3": {
      "model_module": "@jupyter-widgets/base",
      "model_module_version": "1.1.0",
      "model_name": "LayoutModel",
      "state": {}
     },
     "e55ef1cc031045b9a0578c32fc1be067": {
      "model_module": "@jupyter-widgets/controls",
      "model_module_version": "1.4.0",
      "model_name": "TextModel",
      "state": {
       "description": "path to shape file",
       "layout": "IPY_MODEL_117f4ccb1ad34bdbb94a852e96e5b0de",
       "placeholder": "/g/data1a/r78/rjd547/groundwater_activities/Burdekin/Burdekin_shapefiles/fels_sml.shp",
       "style": "IPY_MODEL_834e7fd185324a9ea47b4a4b2d0a6963",
       "value": "/g/data1a/r78/rjd547/groundwater_activities/Burdekin/Burdekin_shapefiles/fels_sml.shp"
      }
     },
     "e5a5243c618e4e23a0e1aceeba4aa6c0": {
      "model_module": "@jupyter-widgets/controls",
      "model_module_version": "1.4.0",
      "model_name": "HBoxModel",
      "state": {
       "children": [
        "IPY_MODEL_8550ff5b413d4a74804eb224dcfa038d",
        "IPY_MODEL_d8fdc136b30f4a7597bd03003b771ed3"
       ],
       "layout": "IPY_MODEL_a174356b23454baa92904d795f217b41"
      }
     },
     "e61145e8e68f4a9185d2f6ac9d974659": {
      "model_module": "@jupyter-widgets/base",
      "model_module_version": "1.1.0",
      "model_name": "LayoutModel",
      "state": {}
     },
     "e6b8a7f5063d42aa92d0237ad51ecc1d": {
      "model_module": "@jupyter-widgets/controls",
      "model_module_version": "1.4.0",
      "model_name": "ButtonStyleModel",
      "state": {}
     },
     "e73c5f97d59e4fde9df4bb96df36324f": {
      "model_module": "jupyter-leaflet",
      "model_module_version": "~0.7.3",
      "model_name": "LeafletTileLayerModel",
      "state": {
       "_model_module_version": "~0.7.3",
       "_view_count": null,
       "_view_module_version": "~0.7.3",
       "base": true,
       "max_zoom": 19,
       "min_zoom": 1,
       "options": [
        "attribution",
        "detect_retina",
        "max_zoom",
        "min_zoom",
        "tile_size"
       ]
      }
     },
     "e74572e3878c4e2d859b1eb430fe897c": {
      "model_module": "@jupyter-widgets/base",
      "model_module_version": "1.1.0",
      "model_name": "LayoutModel",
      "state": {}
     },
     "e7ae1505eb1e432a88fb9ad4562a2566": {
      "model_module": "@jupyter-widgets/controls",
      "model_module_version": "1.4.0",
      "model_name": "ButtonModel",
      "state": {
       "description": "Select File",
       "icon": "square-o",
       "layout": "IPY_MODEL_2e83cd260d6e4ca6be9b39bd8f01ae99",
       "style": "IPY_MODEL_3ea73809b88a46c7aef343413929f5c2"
      }
     },
     "e7c0c3b5e9f343b28ed39cfa1f77d5b3": {
      "model_module": "jupyter-leaflet",
      "model_module_version": "~0.7.3",
      "model_name": "LeafletMapModel",
      "state": {
       "_dom_classes": [],
       "_model_module_version": "~0.7.3",
       "_view_count": null,
       "_view_module_version": "~0.7.3",
       "basemap": {
        "attribution": "Tiles &copy; Esri &mdash; Source: Esri, i-cubed, USDA, USGS, AEX, GeoEye, Getmapping, Aerogrid, IGN, IGP, UPR-EGP, and the GIS User Community",
        "max_zoom": 20,
        "name": "Esri.WorldImagery",
        "url": "http://server.arcgisonline.com/ArcGIS/rest/services/World_Imagery/MapServer/tile/{z}/{y}/{x}"
       },
       "center": [
        -20.023677645296186,
        145.14072418212893
       ],
       "controls": [
        "IPY_MODEL_2cd8e812d9fe44a9b5416803cedde042"
       ],
       "east": 145.20629882812503,
       "layers": [
        "IPY_MODEL_018f5ff7b4dd43a88ca1f1f5a0b15a97",
        "IPY_MODEL_0a4b4d515735488cb8135afec4726d67"
       ],
       "layout": "IPY_MODEL_a511f615f75d444fb171ad609e287036",
       "modisdate": "yesterday",
       "north": -19.959150559427233,
       "options": [
        "attribution_control",
        "basemap",
        "bounce_at_zoom_limits",
        "box_zoom",
        "center",
        "close_popup_on_click",
        "double_click_zoom",
        "dragging",
        "inertia",
        "inertia_deceleration",
        "inertia_max_speed",
        "keyboard",
        "keyboard_pan_offset",
        "keyboard_zoom_offset",
        "max_zoom",
        "min_zoom",
        "scroll_wheel_zoom",
        "tap",
        "tap_tolerance",
        "touch_zoom",
        "world_copy_jump",
        "zoom",
        "zoom_animation_threshold",
        "zoom_control",
        "zoom_start"
       ],
       "south": -20.08817825791709,
       "west": 145.07514953613284
      }
     },
     "e81b8b9fe7bf422e927b62cdaa382304": {
      "model_module": "@jupyter-widgets/controls",
      "model_module_version": "1.4.0",
      "model_name": "LabelModel",
      "state": {
       "layout": "IPY_MODEL_a33ddcb9b4cf41338af4311f510b83d7",
       "style": "IPY_MODEL_9e8b4c6db7a240b798a084c5085197ac",
       "value": "Start date is valid"
      }
     },
     "e8782e328099437ba11246716738ee1c": {
      "model_module": "@jupyter-widgets/base",
      "model_module_version": "1.1.0",
      "model_name": "LayoutModel",
      "state": {}
     },
     "e8813f75591a4ba4ab664b50d8bc22ae": {
      "model_module": "@jupyter-widgets/base",
      "model_module_version": "1.1.0",
      "model_name": "LayoutModel",
      "state": {}
     },
     "e889be69f558443ba0a23b330c56306d": {
      "model_module": "@jupyter-widgets/controls",
      "model_module_version": "1.4.0",
      "model_name": "ButtonModel",
      "state": {
       "description": "Check dates",
       "layout": "IPY_MODEL_7894c1c32b6f469eb9a1a718791b778c",
       "style": "IPY_MODEL_7b828e228ccd4650a1a98983de6087b4",
       "tooltip": "Click me"
      }
     },
     "e8a38dd07bf649a3b78ada303311cce2": {
      "model_module": "@jupyter-widgets/controls",
      "model_module_version": "1.4.0",
      "model_name": "ButtonStyleModel",
      "state": {}
     },
     "e8a9c2f7e98147d2aa42c514cb9abd01": {
      "model_module": "@jupyter-widgets/controls",
      "model_module_version": "1.4.0",
      "model_name": "TextModel",
      "state": {
       "description": "path to shape file",
       "layout": "IPY_MODEL_0db96268eb054bb5a054f6c1bcd7d00f",
       "placeholder": "choose a file",
       "style": "IPY_MODEL_63e3ba9719914ea5b87eed00af669fc9",
       "value": "/g/data1a/r78/rjd547/groundwater_activities/Burdekin/Burdekin_shapefiles/fels_sml.shp"
      }
     },
     "e8fa472034b548a0ae5c714d0ce52497": {
      "model_module": "@jupyter-widgets/base",
      "model_module_version": "1.1.0",
      "model_name": "LayoutModel",
      "state": {}
     },
     "e90f608c153d43f8b67a19eae18e4f85": {
      "model_module": "jupyter-leaflet",
      "model_module_version": "1.0.0",
      "model_name": "LeafletMapModel",
      "state": {
       "_dom_classes": [],
       "_east": 145.62652587890628,
       "_model_module_version": "1.0.0",
       "_north": -19.77704220222595,
       "_south": -20.29311344754411,
       "_view_count": null,
       "_view_module_version": "",
       "_west": 145.09643554687503,
       "basemap": {
        "attribution": "Map data (c) <a href=\"https://openstreetmap.org\">OpenStreetMap</a> contributors",
        "max_zoom": 19,
        "url": "https://{s}.tile.openstreetmap.org/{z}/{x}/{y}.png"
       },
       "center": [
        -20.035289711352377,
        145.36148071289065
       ],
       "controls": [
        "IPY_MODEL_ea717667d4e541afb0b037c380e88af5"
       ],
       "default_tiles": "IPY_MODEL_7194b5cf027246f382057e3cb2b85972",
       "layers": [
        "IPY_MODEL_7194b5cf027246f382057e3cb2b85972",
        "IPY_MODEL_fdc71f12b20249f981baf521e4881afb"
       ],
       "layout": "IPY_MODEL_8061f6f2ae43464b82c7b3b21badb9fd",
       "modisdate": "yesterday",
       "options": [
        "attribution_control",
        "basemap",
        "bounce_at_zoom_limits",
        "box_zoom",
        "center",
        "close_popup_on_click",
        "double_click_zoom",
        "dragging",
        "inertia",
        "inertia_deceleration",
        "inertia_max_speed",
        "keyboard",
        "keyboard_pan_offset",
        "keyboard_zoom_offset",
        "max_zoom",
        "min_zoom",
        "scroll_wheel_zoom",
        "tap",
        "tap_tolerance",
        "touch_zoom",
        "world_copy_jump",
        "zoom",
        "zoom_animation_threshold",
        "zoom_control",
        "zoom_start"
       ],
       "zoom": 10
      }
     },
     "e92af02e1ce7477387f8d7df93efb96f": {
      "model_module": "@jupyter-widgets/base",
      "model_module_version": "1.1.0",
      "model_name": "LayoutModel",
      "state": {}
     },
     "ea717667d4e541afb0b037c380e88af5": {
      "model_module": "jupyter-leaflet",
      "model_module_version": "1.0.0",
      "model_name": "LeafletDrawControlModel",
      "state": {
       "_model_module_version": "1.0.0",
       "_view_count": null,
       "_view_module_version": "",
       "layer": "IPY_MODEL_b0c91d2f62684ba790cc0b04d33b75b5",
       "polyline": {}
      }
     },
     "ea9bd06331fa4da9a0c6ea104562a415": {
      "model_module": "@jupyter-widgets/base",
      "model_module_version": "1.1.0",
      "model_name": "LayoutModel",
      "state": {}
     },
     "ebb7039674984f278a048db5c39a4015": {
      "model_module": "@jupyter-widgets/base",
      "model_module_version": "1.1.0",
      "model_name": "LayoutModel",
      "state": {}
     },
     "ec2f13a4e7cb49d3b7b6a83ceea6f8ac": {
      "model_module": "@jupyter-widgets/controls",
      "model_module_version": "1.4.0",
      "model_name": "HBoxModel",
      "state": {
       "children": [
        "IPY_MODEL_45b3d745a6d240f1b77fdb59cb0910a5",
        "IPY_MODEL_6edced4f0f6946c9b893a883dcecbb56"
       ],
       "layout": "IPY_MODEL_c9625eeb30794e2d83c82c49071a512c"
      }
     },
     "ec83a0a988274e55b47cc10e651b62c9": {
      "model_module": "@jupyter-widgets/controls",
      "model_module_version": "1.4.0",
      "model_name": "DescriptionStyleModel",
      "state": {
       "description_width": ""
      }
     },
     "ecce6cc4d658463c83ccc7763f6683ed": {
      "model_module": "@jupyter-widgets/controls",
      "model_module_version": "1.4.0",
      "model_name": "VBoxModel",
      "state": {
       "children": [
        "IPY_MODEL_67b628091d574c14b232a851a37c9a91",
        "IPY_MODEL_06a9bebf98e14bb9b8982f976fa91d3d"
       ],
       "layout": "IPY_MODEL_5d18532946984a64a963505ab74e65f9"
      }
     },
     "ecd6ba4789bd43aebdee99207e78e975": {
      "model_module": "@jupyter-widgets/base",
      "model_module_version": "1.1.0",
      "model_name": "LayoutModel",
      "state": {}
     },
     "ed3f7c0f8763411bb4e7f476dd68b5db": {
      "model_module": "@jupyter-widgets/controls",
      "model_module_version": "1.4.0",
      "model_name": "ButtonModel",
      "state": {
       "description": "Check dates",
       "layout": "IPY_MODEL_c7a110aec5ae4a06b2a9954e4385b502",
       "style": "IPY_MODEL_99e441d3240c4c9b8fd9a0fbda86e93e",
       "tooltip": "Click me"
      }
     },
     "ed8c3d7c67884cad85df31dd37b026e7": {
      "model_module": "@jupyter-widgets/controls",
      "model_module_version": "1.4.0",
      "model_name": "ButtonStyleModel",
      "state": {
       "button_color": "lightgreen"
      }
     },
     "ed9fb2f8bbc94dc2aa0f667e16334364": {
      "model_module": "@jupyter-widgets/controls",
      "model_module_version": "1.4.0",
      "model_name": "TextModel",
      "state": {
       "description": "path to shape file",
       "layout": "IPY_MODEL_120a6ccf29574460831732e4a5013e7e",
       "placeholder": "choose a file",
       "style": "IPY_MODEL_8fcaf28a9b2e40f5b9e19330fbe2a252",
       "value": "/g/data1a/r78/rjd547/groundwater_activities/Burdekin/Burdekin_shapefiles/fels_sml.shp"
      }
     },
     "edb49d430860448589f51d68b2bc16a6": {
      "model_module": "@jupyter-widgets/controls",
      "model_module_version": "1.4.0",
      "model_name": "HBoxModel",
      "state": {
       "children": [
        "IPY_MODEL_81ca04121fd3480b976f71245e838f27",
        "IPY_MODEL_48f3138fb309491c95e63280af075847"
       ],
       "layout": "IPY_MODEL_4482c2ef667943f99a44e65be1ee0eac"
      }
     },
     "ee387ccbdf5b450fa19c7db93bc6b7e4": {
      "model_module": "jupyter-leaflet",
      "model_module_version": "~0.7.3",
      "model_name": "LeafletMapModel",
      "state": {
       "_dom_classes": [],
       "_model_module_version": "~0.7.3",
       "_view_count": null,
       "_view_module_version": "~0.7.3",
       "basemap": {
        "attribution": "Map data (c) <a href=\"https://openstreetmap.org\">OpenStreetMap</a> contributors",
        "max_zoom": 19,
        "url": "https://{s}.tile.openstreetmap.org/{z}/{x}/{y}.png"
       },
       "center": [
        -20.01851645170249,
        145.31307220458987
       ],
       "controls": [
        "IPY_MODEL_f4c1d747f1774be1ae7f2d4a4f3eef8b"
       ],
       "east": 145.44387817382815,
       "layers": [
        "IPY_MODEL_0df2d475d2f546be8fa8cf4d6b2ec3bc"
       ],
       "layout": "IPY_MODEL_d310ca5d8f004872871e7b57fe0c363e",
       "modisdate": "yesterday",
       "north": -19.889431653826637,
       "options": [
        "attribution_control",
        "basemap",
        "bounce_at_zoom_limits",
        "box_zoom",
        "center",
        "close_popup_on_click",
        "double_click_zoom",
        "dragging",
        "inertia",
        "inertia_deceleration",
        "inertia_max_speed",
        "keyboard",
        "keyboard_pan_offset",
        "keyboard_zoom_offset",
        "max_zoom",
        "min_zoom",
        "scroll_wheel_zoom",
        "tap",
        "tap_tolerance",
        "touch_zoom",
        "world_copy_jump",
        "zoom",
        "zoom_animation_threshold",
        "zoom_control",
        "zoom_start"
       ],
       "south": -20.147495379448873,
       "west": 145.1822662353516,
       "zoom": 11
      }
     },
     "ee603be6430541f3b895363f410bfe9d": {
      "model_module": "@jupyter-widgets/controls",
      "model_module_version": "1.4.0",
      "model_name": "LabelModel",
      "state": {
       "layout": "IPY_MODEL_c2aa517fae3146e2911aab9d1bdd9d5d",
       "style": "IPY_MODEL_9f3f1b940ce648b385a41a91c0ab5370",
       "value": "Is my end date valid?"
      }
     },
     "ee72430f1e5c458ebe58edde78e8ff46": {
      "model_module": "@jupyter-widgets/base",
      "model_module_version": "1.1.0",
      "model_name": "LayoutModel",
      "state": {
       "height": "400px",
       "width": "400px"
      }
     },
     "ee80a70b5ab84d278d3e4ff89f735eb1": {
      "model_module": "@jupyter-widgets/base",
      "model_module_version": "1.1.0",
      "model_name": "LayoutModel",
      "state": {}
     },
     "eedbc664b9364090851a1138299eadc9": {
      "model_module": "@jupyter-widgets/base",
      "model_module_version": "1.1.0",
      "model_name": "LayoutModel",
      "state": {}
     },
     "f040e906c030424fa440f5d0998e4b3b": {
      "model_module": "@jupyter-widgets/base",
      "model_module_version": "1.1.0",
      "model_name": "LayoutModel",
      "state": {}
     },
     "f06eb09a0c47488bb326fe8b5946a6f9": {
      "model_module": "@jupyter-widgets/controls",
      "model_module_version": "1.4.0",
      "model_name": "ButtonStyleModel",
      "state": {
       "button_color": "orange"
      }
     },
     "f09c90fcfcf4491086b9fef9edc2762f": {
      "model_module": "@jupyter-widgets/controls",
      "model_module_version": "1.4.0",
      "model_name": "LabelModel",
      "state": {
       "layout": "IPY_MODEL_1fad98d79a66429298486a1a30030f12",
       "style": "IPY_MODEL_8389bbc0f25f470db96b57cabc9511e8",
       "value": "End date is valid"
      }
     },
     "f2ecba1eb83e4aa689f9597b7f0feb25": {
      "model_module": "@jupyter-widgets/controls",
      "model_module_version": "1.4.0",
      "model_name": "ButtonModel",
      "state": {
       "description": "Plot Geomedian",
       "layout": "IPY_MODEL_e534741621cb4c308d4e8bed71769dc3",
       "style": "IPY_MODEL_9dab3f137e554c47bfaf77f87dff7f59"
      }
     },
     "f3282321ef284b419745185f7d1edac4": {
      "model_module": "jupyter-leaflet",
      "model_module_version": "~0.7.3",
      "model_name": "LeafletFeatureGroupModel",
      "state": {
       "_model_module_version": "~0.7.3",
       "_view_count": null,
       "_view_module_version": "~0.7.3"
      }
     },
     "f39fbaafe0b04cd6ad8248b6d1983d00": {
      "model_module": "@jupyter-widgets/controls",
      "model_module_version": "1.4.0",
      "model_name": "HBoxModel",
      "state": {
       "children": [
        "IPY_MODEL_ab771f2bebd64922a9e2c9c0e9fdaa2e",
        "IPY_MODEL_80c7508e62c84550a02b5c3a005f3ab8"
       ],
       "layout": "IPY_MODEL_ebb7039674984f278a048db5c39a4015"
      }
     },
     "f3c76ab1b421477682910ef3566e9408": {
      "model_module": "jupyter-leaflet",
      "model_module_version": "~0.7.3",
      "model_name": "LeafletGeoJSONModel",
      "state": {
       "_model_module_version": "~0.7.3",
       "_view_count": null,
       "_view_module_version": "~0.7.3",
       "data": {
        "geometry": {
         "coordinates": [
          [
           [
            145.297626,
            -19.919927
           ],
           [
            145.362216,
            -19.916053
           ],
           [
            145.375958,
            -19.9664
           ],
           [
            145.305872,
            -19.967691
           ],
           [
            145.297626,
            -19.919927
           ]
          ]
         ],
         "type": "Polygon"
        },
        "properties": {
         "style": {
          "clickable": true,
          "color": "#3388ff",
          "fill": true,
          "fillColor": null,
          "fillOpacity": 0.2,
          "opacity": 0.5,
          "stroke": true,
          "weight": 4
         }
        },
        "type": "Feature"
       }
      }
     },
     "f4c1d747f1774be1ae7f2d4a4f3eef8b": {
      "model_module": "jupyter-leaflet",
      "model_module_version": "~0.7.3",
      "model_name": "LeafletDrawControlModel",
      "state": {
       "_model_module_version": "~0.7.3",
       "_view_count": null,
       "_view_module_version": "~0.7.3",
       "layer": "IPY_MODEL_e2aeb99e098f4471bfb9fcb1fd405778",
       "polyline": {}
      }
     },
     "f522c4aff0d54ca39a8bbcc52fd5e516": {
      "model_module": "@jupyter-widgets/controls",
      "model_module_version": "1.4.0",
      "model_name": "ButtonStyleModel",
      "state": {
       "button_color": "orange"
      }
     },
     "f5555116589c495888baaa2dea015c33": {
      "model_module": "@jupyter-widgets/controls",
      "model_module_version": "1.4.0",
      "model_name": "DescriptionStyleModel",
      "state": {
       "description_width": "initial"
      }
     },
     "f6dddb58edc048ada2487c4c153b967d": {
      "model_module": "@jupyter-widgets/base",
      "model_module_version": "1.1.0",
      "model_name": "LayoutModel",
      "state": {}
     },
     "f72d7c91bcae465d90f1a6d586355f95": {
      "model_module": "jupyter-leaflet",
      "model_module_version": "~0.7.3",
      "model_name": "LeafletTileLayerModel",
      "state": {
       "_model_module_version": "~0.7.3",
       "_view_count": null,
       "_view_module_version": "~0.7.3",
       "base": true,
       "max_zoom": 19,
       "min_zoom": 1,
       "options": [
        "attribution",
        "detect_retina",
        "max_zoom",
        "min_zoom",
        "tile_size"
       ]
      }
     },
     "f7b7eab4f6614845a2741b174f152f54": {
      "model_module": "@jupyter-widgets/controls",
      "model_module_version": "1.4.0",
      "model_name": "DescriptionStyleModel",
      "state": {
       "description_width": ""
      }
     },
     "f7d9d9dd66324b45b8ccd116adb77fad": {
      "model_module": "@jupyter-widgets/base",
      "model_module_version": "1.1.0",
      "model_name": "LayoutModel",
      "state": {}
     },
     "f806737e8417453eb1a62f975a8fade0": {
      "model_module": "@jupyter-widgets/controls",
      "model_module_version": "1.4.0",
      "model_name": "ButtonModel",
      "state": {
       "description": "Select File",
       "icon": "square-o",
       "layout": "IPY_MODEL_5f99c4c47ea9494ca284b0984efbf4f2",
       "style": "IPY_MODEL_5c6170dfcfeb4e06bcefa27f13fbc527"
      }
     },
     "f843bf9393cf47eabe607814242f4956": {
      "model_module": "@jupyter-widgets/controls",
      "model_module_version": "1.4.0",
      "model_name": "TextModel",
      "state": {
       "description": "path to shape file",
       "layout": "IPY_MODEL_77fc84748b1440888652c8d35fc7a4d4",
       "placeholder": "choose a file",
       "style": "IPY_MODEL_c0643337f7724faca3f82150e63d4e0e",
       "value": "/g/data1a/r78/rjd547/groundwater_activities/Burdekin/Burdekin_shapefiles/fels_sml.shp"
      }
     },
     "f85b2e1d239443bebb635bfcd63d4059": {
      "model_module": "jupyter-leaflet",
      "model_module_version": "~0.7.3",
      "model_name": "LeafletFeatureGroupModel",
      "state": {
       "_model_module_version": "~0.7.3",
       "_view_count": null,
       "_view_module_version": "~0.7.3"
      }
     },
     "f924e7b4d91740cea01161181142f682": {
      "model_module": "@jupyter-widgets/controls",
      "model_module_version": "1.4.0",
      "model_name": "ButtonStyleModel",
      "state": {}
     },
     "f96fed83fd5a43ed9f4c6298b6a1fc4e": {
      "model_module": "@jupyter-widgets/controls",
      "model_module_version": "1.4.0",
      "model_name": "ButtonStyleModel",
      "state": {}
     },
     "f979c91206b04dc89195308c53699b5e": {
      "model_module": "@jupyter-widgets/controls",
      "model_module_version": "1.4.0",
      "model_name": "ButtonModel",
      "state": {
       "description": "Select File",
       "icon": "square-o",
       "layout": "IPY_MODEL_1be302601dec4e77a5af1bc94358b878",
       "style": "IPY_MODEL_f99f1f7bf33b4235a169a8221cc54bec"
      }
     },
     "f99f1f7bf33b4235a169a8221cc54bec": {
      "model_module": "@jupyter-widgets/controls",
      "model_module_version": "1.4.0",
      "model_name": "ButtonStyleModel",
      "state": {
       "button_color": "orange"
      }
     },
     "f9cf14f69e5c49f79538bc09d0f7b4e4": {
      "model_module": "@jupyter-widgets/base",
      "model_module_version": "1.1.0",
      "model_name": "LayoutModel",
      "state": {}
     },
     "fa0500b0cf9140169c8896665fdb6cfa": {
      "model_module": "@jupyter-widgets/controls",
      "model_module_version": "1.4.0",
      "model_name": "DescriptionStyleModel",
      "state": {
       "description_width": "initial"
      }
     },
     "fa247a4ef0234173b13cc7ece012dfc4": {
      "model_module": "@jupyter-widgets/controls",
      "model_module_version": "1.4.0",
      "model_name": "DescriptionStyleModel",
      "state": {
       "description_width": "initial"
      }
     },
     "faa5993b56d8495fa6895857e3658ffa": {
      "model_module": "@jupyter-widgets/base",
      "model_module_version": "1.1.0",
      "model_name": "LayoutModel",
      "state": {}
     },
     "fabead22666b4edf81b436f3aabe2c3c": {
      "model_module": "@jupyter-widgets/controls",
      "model_module_version": "1.4.0",
      "model_name": "TextModel",
      "state": {
       "description": "end date",
       "layout": "IPY_MODEL_c4bb477a9c4d431a845417a9f7b3c92f",
       "placeholder": "update this field YYYY-MM-DD",
       "style": "IPY_MODEL_32f959eae9ec46c2bafba09438849a35",
       "value": "2013-10-31"
      }
     },
     "fb49e2a250fe4fb68ecb25efe1208dc8": {
      "model_module": "@jupyter-widgets/base",
      "model_module_version": "1.1.0",
      "model_name": "LayoutModel",
      "state": {}
     },
     "fb713ab3f0724bbea21de037c2880ee4": {
      "model_module": "@jupyter-widgets/controls",
      "model_module_version": "1.4.0",
      "model_name": "TextModel",
      "state": {
       "description": "end date",
       "layout": "IPY_MODEL_e139e6595e204c9aa73ba1a8acaefba6",
       "placeholder": "update this field YYYY-MM-DD",
       "style": "IPY_MODEL_6e83e898d42144a1ad649b8b89c7652c",
       "value": "2013-05-31"
      }
     },
     "fb77445ba6e345d0a4a32c3d1005757e": {
      "model_module": "@jupyter-widgets/controls",
      "model_module_version": "1.4.0",
      "model_name": "DescriptionStyleModel",
      "state": {
       "description_width": ""
      }
     },
     "fb9aef14f2a9414ab8d9c04bb81c6782": {
      "model_module": "@jupyter-widgets/controls",
      "model_module_version": "1.4.0",
      "model_name": "DescriptionStyleModel",
      "state": {
       "description_width": ""
      }
     },
     "fbc917df6ba04424ad14aceed230467d": {
      "model_module": "@jupyter-widgets/base",
      "model_module_version": "1.1.0",
      "model_name": "LayoutModel",
      "state": {}
     },
     "fbdbf305a95c448cb4d41e31f9aba7f7": {
      "model_module": "@jupyter-widgets/controls",
      "model_module_version": "1.4.0",
      "model_name": "DescriptionStyleModel",
      "state": {
       "description_width": ""
      }
     },
     "fbfc053d45de4782a02e2d35962cbf98": {
      "model_module": "@jupyter-widgets/controls",
      "model_module_version": "1.4.0",
      "model_name": "TextModel",
      "state": {
       "description": "path to shape file",
       "layout": "IPY_MODEL_258e967cbb7a40d69fee61b9498b0358",
       "placeholder": "/g/data1a/r78/rjd547/groundwater_activities/Burdekin/Burdekin_shapefiles/fels_sml.shp",
       "style": "IPY_MODEL_519e88e884ea480686a9eeaafff7ea52",
       "value": "/g/data1a/r78/rjd547/groundwater_activities/Burdekin/Burdekin_shapefiles/fels_sml.shp"
      }
     },
     "fc17a5d7cf4e4a1ba63e210c2ef93955": {
      "model_module": "@jupyter-widgets/controls",
      "model_module_version": "1.4.0",
      "model_name": "DescriptionStyleModel",
      "state": {
       "description_width": ""
      }
     },
     "fc1a81e4f8a545699d3776ac246b9f57": {
      "model_module": "@jupyter-widgets/base",
      "model_module_version": "1.1.0",
      "model_name": "LayoutModel",
      "state": {}
     },
     "fc7c397bf7304e21bf62186241b9507c": {
      "model_module": "jupyter-leaflet",
      "model_module_version": "~0.7.3",
      "model_name": "LeafletGeoJSONModel",
      "state": {
       "_model_module_version": "~0.7.3",
       "_view_count": null,
       "_view_module_version": "~0.7.3",
       "data": {
        "geometry": {
         "coordinates": [
          [
           [
            145.241282,
            -20.001247
           ],
           [
            145.226165,
            -19.952202
           ],
           [
            145.30862,
            -19.93671
           ],
           [
            145.330608,
            -19.994794
           ],
           [
            145.241282,
            -20.001247
           ]
          ]
         ],
         "type": "Polygon"
        },
        "properties": {
         "style": {
          "clickable": true,
          "color": "#3388ff",
          "fill": true,
          "fillColor": null,
          "fillOpacity": 0.2,
          "opacity": 0.5,
          "stroke": true,
          "weight": 4
         }
        },
        "type": "Feature"
       }
      }
     },
     "fd180ef827cf41289872803c9a26aba0": {
      "model_module": "@jupyter-widgets/controls",
      "model_module_version": "1.4.0",
      "model_name": "DescriptionStyleModel",
      "state": {
       "description_width": ""
      }
     },
     "fd71ef46bab64166b80f392ec2b12b63": {
      "model_module": "@jupyter-widgets/controls",
      "model_module_version": "1.4.0",
      "model_name": "HBoxModel",
      "state": {
       "children": [
        "IPY_MODEL_2aa19a95debd4a46bdc15b7026399c26",
        "IPY_MODEL_0b0d52c76d0e4f52b9626b405a38d990"
       ],
       "layout": "IPY_MODEL_0b9a5f80d6314388a83cdfbfa578a643"
      }
     },
     "fd9dce9e370a410a9d99c9da107efc5f": {
      "model_module": "@jupyter-widgets/base",
      "model_module_version": "1.1.0",
      "model_name": "LayoutModel",
      "state": {}
     },
     "fdc71f12b20249f981baf521e4881afb": {
      "model_module": "jupyter-leaflet",
      "model_module_version": "~0.5.0",
      "model_name": "LeafletGeoJSONModel",
      "state": {
       "_model_module_version": "~0.5.0",
       "_view_count": null,
       "_view_module_version": "~0.5.0",
       "data": {
        "geometry": {
         "coordinates": [
          [
           [
            145.358002,
            -19.914741
           ],
           [
            145.414307,
            -19.913449
           ],
           [
            145.41568,
            -19.941853
           ],
           [
            145.356628,
            -19.93798
           ],
           [
            145.358002,
            -19.914741
           ]
          ]
         ],
         "type": "Polygon"
        },
        "properties": {
         "style": {
          "clickable": true,
          "color": "#0000FF",
          "fill": true,
          "fillColor": null,
          "fillOpacity": 0.2,
          "opacity": 0.5,
          "stroke": true,
          "weight": 4
         }
        },
        "type": "Feature"
       }
      }
     },
     "febdc054c1db40f7ac364d40e868df4a": {
      "model_module": "@jupyter-widgets/controls",
      "model_module_version": "1.4.0",
      "model_name": "VBoxModel",
      "state": {
       "_dom_classes": [
        "widget-interact"
       ],
       "children": [
        "IPY_MODEL_df6ed8673dbb417e8bc1732b4d1e0d43",
        "IPY_MODEL_c8dc1d570ec2485d9f7996646587be33"
       ],
       "layout": "IPY_MODEL_a3373689827f4a81a116bdcf73f4f606"
      }
     },
     "feebce2f7ba946a580673fa328e6045e": {
      "model_module": "@jupyter-widgets/controls",
      "model_module_version": "1.4.0",
      "model_name": "TextModel",
      "state": {
       "description": "path to shape file",
       "layout": "IPY_MODEL_b160db5484c24a578e594a16d1c214c5",
       "placeholder": "update this field",
       "style": "IPY_MODEL_80fbc771fe604df49a7766b066b800e7",
       "value": "/g/data1a/r78/rjd547/groundwater_activities/Burdekin/Burdekin_shapefiles/fels_sml.shp"
      }
     },
     "ff421a7caf40411d924184c16ca2b3a6": {
      "model_module": "@jupyter-widgets/controls",
      "model_module_version": "1.4.0",
      "model_name": "DescriptionStyleModel",
      "state": {
       "description_width": "initial"
      }
     },
     "ffcd2558b9374fa99d46876894b4c4a5": {
      "model_module": "@jupyter-widgets/controls",
      "model_module_version": "1.4.0",
      "model_name": "HBoxModel",
      "state": {
       "children": [
        "IPY_MODEL_07df873ea9f14fa990531e566ec93d89",
        "IPY_MODEL_cf28a2f78efc4ad68716f4acb9fa2553"
       ],
       "layout": "IPY_MODEL_5540e111c3f54e4394f0f56cfeb83212"
      }
     }
    },
    "version_major": 2,
    "version_minor": 0
   }
  }
 },
 "nbformat": 4,
 "nbformat_minor": 2
}
