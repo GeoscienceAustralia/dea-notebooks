{
 "cells": [
  {
   "cell_type": "markdown",
   "metadata": {},
   "source": [
    "# Surface area duration plots <img align=\"right\" src=\"../Supplementary_data/dea_logo.jpg\">\n",
    "\n",
    "* **Compatability:** Notebook currently compatible with both the `NCI` and `DEA Sandbox` environments\n",
    "* **Products used:** None\n",
    "* **Special requirements:** CSV files containing [DEA Waterbodies](https://www.ga.gov.au/dea/products/dea-waterbodies) time series data (available online).\n",
    "* **Prerequisites:** None\n",
    "\n",
    "\n",
    "## Description\n",
    "\n",
    "This notebook plots \"surface area duration (SAD) curves\", which show for how long a waterbody is filled at a given surface area. Such a curve can be generated for any DEA Waterbody. We also generate a time-dependent version of this plot called a \"short-time surface area duration (STSAD) curve\", which shows how the surface area duration curve varies over time.\n",
    "\n",
    "The DEA Waterbodies time series are stored as CSV files. Each waterbody is labelled by a geohash, e.g. Weereewa is `r3f225n9h`. They are stored on both the NCI and S3 in a folder named after the first four characters of the geohash, and the filename is the geohash, e.g. Weereewa is at `https://data.dea.ga.gov.au/projects/WaterBodies/timeseries/r3f2/r3f225n9h.csv`. Each CSV has three columns: `Observation Date`, `Wet pixel percentage`, `Wet pixel count (n = ?)` where ? is some number. An example is:\n",
    "\n",
    "    Observation Date,Wet pixel percentage,Wet pixel count (n = 230894)\n",
    "    1987-05-29T23:14:29Z,,\n",
    "    1987-07-16T23:15:29Z,,\n",
    "    1987-09-02T23:16:50Z,,\n",
    "    1987-09-18T23:17:13Z,19.9,45926\n",
    "\n",
    "This analysis should work for any time series stored in a similar format.\n",
    "\n",
    "***"
   ]
  },
  {
   "cell_type": "markdown",
   "metadata": {},
   "source": [
    "## Getting started\n",
    "\n",
    "Run the first cell, which loads all modules needed for this notebook. Then edit the configuration to match what you want the notebook to output."
   ]
  },
  {
   "cell_type": "markdown",
   "metadata": {},
   "source": [
    "### Configuration\n",
    "\n",
    "To generate a plot for a waterbody with a given geohash, specify the geohash here:"
   ]
  },
  {
   "cell_type": "code",
   "execution_count": 1,
   "metadata": {},
   "outputs": [],
   "source": [
    "geohash = \"r3f225n9h\""
   ]
  },
  {
   "cell_type": "markdown",
   "metadata": {},
   "source": [
    "Also specify the window for the STSAD plot. Use 'hann' if you have no opinions on this, or 'boxcar' if you want a window that is easy to think about:"
   ]
  },
  {
   "cell_type": "code",
   "execution_count": 2,
   "metadata": {},
   "outputs": [],
   "source": [
    "window = \"hann\""
   ]
  },
  {
   "cell_type": "markdown",
   "metadata": {},
   "source": [
    "Finally, specify the path to the waterbodies CSVs:"
   ]
  },
  {
   "cell_type": "code",
   "execution_count": 3,
   "metadata": {},
   "outputs": [],
   "source": [
    "# On the NCI in r78:\n",
    "# waterbody_csv_path = '/g/data/r78/cek156/dea-notebooks/Scientific_workflows/DEAWaterbodies/timeseries_aus_uid'\n",
    "\n",
    "# On the Sandbox:\n",
    "waterbody_csv_path = \"https://data.dea.ga.gov.au/projects/WaterBodies/timeseries\""
   ]
  },
  {
   "cell_type": "markdown",
   "metadata": {},
   "source": [
    "### Load modules"
   ]
  },
  {
   "cell_type": "code",
   "execution_count": 4,
   "metadata": {},
   "outputs": [],
   "source": [
    "from pathlib import Path\n",
    "\n",
    "import numpy as np\n",
    "import pandas as pd\n",
    "import scipy.signal\n",
    "from matplotlib import pyplot as plt\n",
    "\n",
    "%matplotlib inline"
   ]
  },
  {
   "cell_type": "markdown",
   "metadata": {},
   "source": [
    "### Load the data"
   ]
  },
  {
   "cell_type": "code",
   "execution_count": 5,
   "metadata": {},
   "outputs": [],
   "source": [
    "# Read the CSV containing the surface area vs time observations.\n",
    "csv_path = f\"{waterbody_csv_path}/{geohash[:4]}/{geohash}.csv\"\n",
    "time_series = pd.read_csv(csv_path)\n",
    "# Relabel the third column to something consistent (i.e. without the n = ?),\n",
    "# and rename all columns to something easier to access.\n",
    "time_series.rename(\n",
    "    columns={\n",
    "        \"Observation Date\": \"date\",\n",
    "        \"Wet pixel percentage\": \"pc_wet\",\n",
    "        time_series.columns[2]: \"px_wet\",\n",
    "    },\n",
    "    inplace=True,\n",
    ")\n",
    "# Convert time strings into datetimes.\n",
    "time_series.date = pd.to_datetime(time_series.date)"
   ]
  },
  {
   "cell_type": "code",
   "execution_count": 1,
   "metadata": {},
   "outputs": [
    {
     "ename": "NameError",
     "evalue": "name 'time_series' is not defined",
     "output_type": "error",
     "traceback": [
      "\u001b[0;31m---------------------------------------------------------------------------\u001b[0m",
      "\u001b[0;31mNameError\u001b[0m                                 Traceback (most recent call last)",
      "\u001b[0;32m<ipython-input-1-7d6ce2172117>\u001b[0m in \u001b[0;36m<module>\u001b[0;34m\u001b[0m\n\u001b[1;32m      1\u001b[0m \u001b[0;31m# Convert percentages into a float.\u001b[0m\u001b[0;34m\u001b[0m\u001b[0;34m\u001b[0m\u001b[0;34m\u001b[0m\u001b[0m\n\u001b[0;32m----> 2\u001b[0;31m \u001b[0mtime_series\u001b[0m\u001b[0;34m.\u001b[0m\u001b[0mpc_wet\u001b[0m \u001b[0;34m/=\u001b[0m \u001b[0;36m100\u001b[0m\u001b[0;34m\u001b[0m\u001b[0;34m\u001b[0m\u001b[0m\n\u001b[0m",
      "\u001b[0;31mNameError\u001b[0m: name 'time_series' is not defined"
     ]
    }
   ],
   "source": [
    "# Convert percentages into a float between 0 and 1.\n",
    "time_series.pc_wet /= 100"
   ]
  },
  {
   "cell_type": "markdown",
   "metadata": {},
   "source": [
    "## Interpolate data to daily grid\n",
    "\n",
    "Interpolate the data to a common grid."
   ]
  },
  {
   "cell_type": "markdown",
   "metadata": {},
   "source": [
    "Change the axis to daily:"
   ]
  },
  {
   "cell_type": "code",
   "execution_count": 2,
   "metadata": {},
   "outputs": [
    {
     "ename": "NameError",
     "evalue": "name 'time_series' is not defined",
     "output_type": "error",
     "traceback": [
      "\u001b[0;31m---------------------------------------------------------------------------\u001b[0m",
      "\u001b[0;31mNameError\u001b[0m                                 Traceback (most recent call last)",
      "\u001b[0;32m<ipython-input-2-68330559185d>\u001b[0m in \u001b[0;36m<module>\u001b[0;34m\u001b[0m\n\u001b[1;32m      1\u001b[0m \u001b[0;31m# Converting from datetime64[ns] to datetime64[D] rounds to the nearest day.\u001b[0m\u001b[0;34m\u001b[0m\u001b[0;34m\u001b[0m\u001b[0;34m\u001b[0m\u001b[0m\n\u001b[0;32m----> 2\u001b[0;31m \u001b[0mdates\u001b[0m \u001b[0;34m=\u001b[0m \u001b[0mtime_series\u001b[0m\u001b[0;34m.\u001b[0m\u001b[0mdate\u001b[0m\u001b[0;34m.\u001b[0m\u001b[0mto_numpy\u001b[0m\u001b[0;34m(\u001b[0m\u001b[0;34m)\u001b[0m\u001b[0;34m.\u001b[0m\u001b[0mastype\u001b[0m\u001b[0;34m(\u001b[0m\u001b[0;34m\"datetime64[D]\"\u001b[0m\u001b[0;34m)\u001b[0m\u001b[0;34m\u001b[0m\u001b[0;34m\u001b[0m\u001b[0m\n\u001b[0m",
      "\u001b[0;31mNameError\u001b[0m: name 'time_series' is not defined"
     ]
    }
   ],
   "source": [
    "# Converting from datetime64[ns] to datetime64[D] rounds to the nearest day.\n",
    "dates = time_series.date.to_numpy().astype(\"datetime64[D]\")"
   ]
  },
  {
   "cell_type": "code",
   "execution_count": 8,
   "metadata": {},
   "outputs": [],
   "source": [
    "# Set the dataframe index to the day-rounded dates.\n",
    "dt_index = np.arange(dates[0], dates[-1], 1)"
   ]
  },
  {
   "cell_type": "code",
   "execution_count": 9,
   "metadata": {},
   "outputs": [],
   "source": [
    "time_series.index = dates"
   ]
  },
  {
   "cell_type": "code",
   "execution_count": 10,
   "metadata": {},
   "outputs": [],
   "source": [
    "time_series = time_series.reindex(dt_index)"
   ]
  },
  {
   "cell_type": "code",
   "execution_count": 11,
   "metadata": {},
   "outputs": [],
   "source": [
    "assert len(time_series) == len(dt_index)"
   ]
  },
  {
   "cell_type": "markdown",
   "metadata": {},
   "source": [
    "Then interpolate (linearly, since it's the least-information thing other than constant)."
   ]
  },
  {
   "cell_type": "code",
   "execution_count": 3,
   "metadata": {},
   "outputs": [
    {
     "ename": "NameError",
     "evalue": "name 'time_series' is not defined",
     "output_type": "error",
     "traceback": [
      "\u001b[0;31m---------------------------------------------------------------------------\u001b[0m",
      "\u001b[0;31mNameError\u001b[0m                                 Traceback (most recent call last)",
      "\u001b[0;32m<ipython-input-3-f928d91db36c>\u001b[0m in \u001b[0;36m<module>\u001b[0;34m\u001b[0m\n\u001b[1;32m      1\u001b[0m \u001b[0;31m# Replace NaNs with a linear interpolation of the time series.\u001b[0m\u001b[0;34m\u001b[0m\u001b[0;34m\u001b[0m\u001b[0;34m\u001b[0m\u001b[0m\n\u001b[0;32m----> 2\u001b[0;31m \u001b[0mtime_series\u001b[0m\u001b[0;34m.\u001b[0m\u001b[0mpc_wet\u001b[0m\u001b[0;34m.\u001b[0m\u001b[0minterpolate\u001b[0m\u001b[0;34m(\u001b[0m\u001b[0minplace\u001b[0m\u001b[0;34m=\u001b[0m\u001b[0;32mTrue\u001b[0m\u001b[0;34m,\u001b[0m \u001b[0mlimit_direction\u001b[0m\u001b[0;34m=\u001b[0m\u001b[0;34m\"both\"\u001b[0m\u001b[0;34m)\u001b[0m\u001b[0;34m\u001b[0m\u001b[0;34m\u001b[0m\u001b[0m\n\u001b[0m",
      "\u001b[0;31mNameError\u001b[0m: name 'time_series' is not defined"
     ]
    }
   ],
   "source": [
    "# Replace NaNs with a linear interpolation of the time series.\n",
    "time_series.pc_wet.interpolate(inplace=True, limit_direction=\"both\")"
   ]
  },
  {
   "cell_type": "markdown",
   "metadata": {},
   "source": [
    "## Calculate SADs\n",
    "\n",
    "For each rolling time step, calculate the SADs."
   ]
  },
  {
   "cell_type": "code",
   "execution_count": 13,
   "metadata": {},
   "outputs": [],
   "source": [
    "def calculate_vector_stat(\n",
    "    vec: \"data dim\",\n",
    "    stat: \"data dim -> target dim\",\n",
    "    window_size=365,\n",
    "    step=10,\n",
    "    target_dim=365,\n",
    "    progress=None,\n",
    "    window=\"hann\",\n",
    "):\n",
    "    \"\"\"Calculates a vector statistic over a rolling window.\n",
    "    \n",
    "    Parameters\n",
    "    ----------\n",
    "    vec : d-dimensional np.ndarray\n",
    "        Vector to calculate over, e.g. a time series.\n",
    "    stat : R^d -> R^t function\n",
    "        Statistic function.\n",
    "    window_size : int\n",
    "        Sliding window size (default 365).\n",
    "    step : int\n",
    "        Step size (default 10).\n",
    "    target_dim : int\n",
    "        Dimensionality of the output of `stat` (default 365).\n",
    "    progress : iterator -> iterator\n",
    "        Optional progress decorator, e.g. tqdm.notebook.tqdm. Default None.\n",
    "    window : str\n",
    "        What kind of window function to use. Default 'hann', but you might\n",
    "        also want to use 'boxcar'. Any scipy window\n",
    "        function is allowed (see documentation for scipy.signal.get_window\n",
    "        for more information).\n",
    "        \n",
    "    Returns\n",
    "    -------\n",
    "    (d / step)-dimensional np.ndarray\n",
    "        y values (the time axis)\n",
    "    t-dimensional np.ndarray\n",
    "        x values (the statistic axis)\n",
    "    (d / step) x t-dimensional np.ndarray\n",
    "        The vector statistic array.\n",
    "    \"\"\"\n",
    "    # Initialise output array.\n",
    "    spectrogram_values = np.zeros((vec.shape[0] // step, target_dim))\n",
    "\n",
    "    # Apply the progress decorator, if specified.\n",
    "    r = range(0, vec.shape[0] - window_size, step)\n",
    "    if progress:\n",
    "        r = progress(r)\n",
    "\n",
    "    # Convert the window str argument into a window function.\n",
    "    window = scipy.signal.get_window(window, window_size)\n",
    "\n",
    "    # Iterate over the sliding window and compute the statistic.\n",
    "    for base in r:\n",
    "        win = vec[base : base + window_size] * window\n",
    "        sad = stat(win)\n",
    "        spectrogram_values[base // step, :] = sad\n",
    "\n",
    "    return (\n",
    "        np.linspace(0, vec.shape[0], vec.shape[0] // step, endpoint=False),\n",
    "        np.arange(target_dim),\n",
    "        spectrogram_values,\n",
    "    )"
   ]
  },
  {
   "cell_type": "code",
   "execution_count": 4,
   "metadata": {},
   "outputs": [],
   "source": [
    "def _calculate_sad(vec):\n",
    "    \"\"\"Calculates the surface area duration curve for a given vector of heights.\n",
    "    \n",
    "    Parameters\n",
    "    ----------\n",
    "    vec : d-dimensional np.ndarray\n",
    "        Vector of heights over time.\n",
    "    \n",
    "    Returns\n",
    "    -------\n",
    "    d-dimensional np.ndarray\n",
    "        Surface area duration curve vector over the same time scale.\n",
    "    \"\"\"\n",
    "    return np.sort(vec)[::-1]\n",
    "\n",
    "\n",
    "def calculate_sad(vec, window_size=365, step=10, progress=None, window=\"hann\"):\n",
    "    \"\"\"Calculates the short-time surface area duration curve for a given vector of heights.\n",
    "    \n",
    "    Parameters\n",
    "    ----------\n",
    "    vec : d-dimensional np.ndarray\n",
    "        Vector of heights over time.\n",
    "    window_size : int\n",
    "        Sliding window size (default 365).\n",
    "    step : int\n",
    "        Step size (default 10).\n",
    "    progress : iterator -> iterator\n",
    "        Optional progress decorator, e.g. tqdm.notebook.tqdm. Default None.\n",
    "    window : str\n",
    "        What kind of window function to use. Default 'hann', but you might\n",
    "        also want to use 'boxcar'. Any scipy window\n",
    "        function is allowed (see documentation for scipy.signal.get_window\n",
    "        for more information).\n",
    "    \n",
    "    Returns\n",
    "    -------\n",
    "    (d / step)-dimensional np.ndarray\n",
    "        y values (the time axis)\n",
    "    t-dimensional np.ndarray\n",
    "        x values (the statistic axis)\n",
    "    (d / step) x t-dimensional np.ndarray\n",
    "        The short-time surface area duration curve array.\n",
    "    \"\"\"\n",
    "    return calculate_vector_stat(\n",
    "        vec,\n",
    "        _calculate_sad,\n",
    "        window_size=window_size,\n",
    "        step=step,\n",
    "        target_dim=window_size,\n",
    "        progress=progress,\n",
    "        window=window,\n",
    "    )\n"
   ]
  },
  {
   "cell_type": "markdown",
   "metadata": {},
   "source": [
    "Calculate the STSAD."
   ]
  },
  {
   "cell_type": "code",
   "execution_count": 5,
   "metadata": {},
   "outputs": [
    {
     "ename": "NameError",
     "evalue": "name 'time_series' is not defined",
     "output_type": "error",
     "traceback": [
      "\u001b[0;31m---------------------------------------------------------------------------\u001b[0m",
      "\u001b[0;31mNameError\u001b[0m                                 Traceback (most recent call last)",
      "\u001b[0;32m<ipython-input-5-7c007f559982>\u001b[0m in \u001b[0;36m<module>\u001b[0;34m\u001b[0m\n\u001b[1;32m      1\u001b[0m \u001b[0;31m# Perform the calculation.\u001b[0m\u001b[0;34m\u001b[0m\u001b[0;34m\u001b[0m\u001b[0;34m\u001b[0m\u001b[0m\n\u001b[1;32m      2\u001b[0m sad_y, sad_x, sads = calculate_sad(\n\u001b[0;32m----> 3\u001b[0;31m     \u001b[0mtime_series\u001b[0m\u001b[0;34m.\u001b[0m\u001b[0mpc_wet\u001b[0m\u001b[0;34m,\u001b[0m \u001b[0mwindow_size\u001b[0m\u001b[0;34m=\u001b[0m\u001b[0;36m365\u001b[0m \u001b[0;34m*\u001b[0m \u001b[0;36m2\u001b[0m\u001b[0;34m,\u001b[0m \u001b[0mwindow\u001b[0m\u001b[0;34m=\u001b[0m\u001b[0mwindow\u001b[0m\u001b[0;34m,\u001b[0m \u001b[0mstep\u001b[0m\u001b[0;34m=\u001b[0m\u001b[0;36m10\u001b[0m\u001b[0;34m\u001b[0m\u001b[0;34m\u001b[0m\u001b[0m\n\u001b[0m\u001b[1;32m      4\u001b[0m )\n",
      "\u001b[0;31mNameError\u001b[0m: name 'time_series' is not defined"
     ]
    }
   ],
   "source": [
    "sad_y, sad_x, sads = calculate_sad(\n",
    "    time_series.pc_wet, window_size=365 * 2, window=window, step=10\n",
    ")"
   ]
  },
  {
   "cell_type": "markdown",
   "metadata": {},
   "source": [
    "Convert the time axis into integers for calculating tick locations."
   ]
  },
  {
   "cell_type": "code",
   "execution_count": 16,
   "metadata": {},
   "outputs": [],
   "source": [
    "year_starts = (time_series.index.month == 1) & (time_series.index.day == 1)\n",
    "year_start_days = (time_series.index - time_series.index[0])[year_starts].days\n",
    "year_start_years = time_series.index.year[year_starts]"
   ]
  },
  {
   "cell_type": "markdown",
   "metadata": {},
   "source": [
    "Calculate the overall SAD."
   ]
  },
  {
   "cell_type": "code",
   "execution_count": 17,
   "metadata": {},
   "outputs": [],
   "source": [
    "sad = _calculate_sad(time_series.pc_wet)"
   ]
  },
  {
   "cell_type": "markdown",
   "metadata": {},
   "source": [
    "## Plot SADs"
   ]
  },
  {
   "cell_type": "code",
   "execution_count": 18,
   "metadata": {},
   "outputs": [
    {
     "data": {
      "image/png": "[encoded data removed]",
      "text/plain": [
       "<Figure size 432x288 with 1 Axes>"
      ]
     },
     "metadata": {
      "needs_background": "light"
     },
     "output_type": "display_data"
    }
   ],
   "source": [
    "plt.figure()\n",
    "plt.plot(sad)\n",
    "plt.xlabel(\"Years\")\n",
    "xs = np.arange(0, len(sad), 365)\n",
    "plt.xticks(xs[::2], np.arange(len(xs))[::2])\n",
    "plt.ylabel(\"Surface area (% maximum extent)\");"
   ]
  },
  {
   "cell_type": "code",
   "execution_count": 19,
   "metadata": {},
   "outputs": [
    {
     "data": {
      "image/png": "[encoded data removed]",
      "text/plain": [
       "<Figure size 432x288 with 2 Axes>"
      ]
     },
     "metadata": {
      "needs_background": "light"
     },
     "output_type": "display_data"
    }
   ],
   "source": [
    "plt.figure()\n",
    "plt.pcolormesh(sad_x, sad_y, sads)\n",
    "plt.xlabel(\"Days in two-year period\")\n",
    "plt.yticks(year_start_days[::2], year_start_years[::2])\n",
    "plt.ylabel(\"Date\")\n",
    "plt.colorbar(label=\"Surface area (% maximum extent)\")\n",
    "plt.title(\"Short-time surface area duration\");"
   ]
  },
  {
   "cell_type": "markdown",
   "metadata": {},
   "source": [
    "***\n",
    "\n",
    "## Additional information\n",
    "\n",
    "**License:** The code in this notebook is licensed under the [Apache License, Version 2.0](https://www.apache.org/licenses/LICENSE-2.0). \n",
    "Digital Earth Australia data is licensed under the [Creative Commons by Attribution 4.0](https://creativecommons.org/licenses/by/4.0/) license.\n",
    "\n",
    "**Contact:** If you need assistance, please post a question on the [Open Data Cube Slack channel](http://slack.opendatacube.org/) or on the [GIS Stack Exchange](https://gis.stackexchange.com/questions/ask?tags=open-data-cube) using the `open-data-cube` tag (you can view previously asked questions [here](https://gis.stackexchange.com/questions/tagged/open-data-cube)).\n",
    "If you would like to report an issue with this notebook, you can file one on [Github](https://github.com/GeoscienceAustralia/dea-notebooks).\n",
    "\n",
    "**Last modified:** September 2020"
   ]
  },
  {
   "cell_type": "markdown",
   "metadata": {},
   "source": [
    "## Tags\n",
    "Browse all available tags on the DEA User Guide's [Tags Index](https://docs.dea.ga.gov.au/genindex.html)."
   ]
  },
  {
   "cell_type": "raw",
   "metadata": {
    "raw_mimetype": "text/restructuredtext"
   },
   "source": [
    "**Tags**: :index:`NCI compatible`, :index:`DEA Waterbodies`, :index:`data visualisation`, :index:`time series`, :index:`water`"
   ]
  }
 ],
 "metadata": {
  "kernelspec": {
   "display_name": "Python 3",
   "language": "python",
   "name": "python3"
  },
  "language_info": {
   "codemirror_mode": {
    "name": "ipython",
    "version": 3
   },
   "file_extension": ".py",
   "mimetype": "text/x-python",
   "name": "python",
   "nbconvert_exporter": "python",
   "pygments_lexer": "ipython3",
   "version": "3.6.10"
  },
  "widgets": {
   "application/vnd.jupyter.widget-state+json": {
    "state": {},
    "version_major": 2,
    "version_minor": 0
   }
  }
 },
 "nbformat": 4,
 "nbformat_minor": 4
}
