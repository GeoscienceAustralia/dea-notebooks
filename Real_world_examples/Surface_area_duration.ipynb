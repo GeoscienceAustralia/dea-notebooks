{
 "cells": [
  {
   "cell_type": "markdown",
   "metadata": {},
   "source": [
    "# Surface area duration plots from DEA Waterbodies data <img align=\"right\" src=\"../Supplementary_data/dea_logo.jpg\">\n",
    "\n",
    "* **Compatability:** Notebook currently compatible with both the `NCI` and `DEA Sandbox` environments\n",
    "* **Products used:** [DEA Waterbodies](https://cmi.ga.gov.au/data-products/dea/456/waterboards) time series data (available online)\n",
    "\n",
    "\n",
    "## Description\n",
    "\n",
    "This notebook plots \"surface area duration (SAD) curves\", which show for how long a waterbody is filled at a given surface area. \n",
    "Such a curve can be generated for any DEA Waterbody. \n",
    "We also generate a time-dependent version of this plot called a \"short-time surface area duration (STSAD) curve\", which shows how the surface area duration curve varies over time.\n",
    "\n",
    "The DEA Waterbodies time series are stored as CSV files. \n",
    "Each waterbody is labelled by a geohash, e.g. Weereewa is `r3f225n9h`. \n",
    "They are stored online (on Amazon S3) in a folder named after the first four characters of the geohash, and the filename is the geohash, e.g. Weereewa is at `https://data.dea.ga.gov.au/projects/WaterBodies/timeseries/r3f2/r3f225n9h.csv`. \n",
    "Each CSV has three columns: `Observation Date`, `Wet pixel percentage`, `Wet pixel count (n = ?)` where ? is some number. An example is:\n",
    "\n",
    "    Observation Date,Wet pixel percentage,Wet pixel count (n = 230894)\n",
    "    1987-05-29T23:14:29Z,,\n",
    "    1987-07-16T23:15:29Z,,\n",
    "    1987-09-02T23:16:50Z,,\n",
    "    1987-09-18T23:17:13Z,19.9,45926\n",
    "\n",
    "This analysis should work for any time series stored in a similar format.\n",
    "\n",
    "***"
   ]
  },
  {
   "cell_type": "markdown",
   "metadata": {},
   "source": [
    "## Getting started\n",
    "\n",
    "Run the first cell, which loads all modules needed for this notebook. Then edit the configuration to match what you want the notebook to output."
   ]
  },
  {
   "cell_type": "markdown",
   "metadata": {},
   "source": [
    "### Load modules"
   ]
  },
  {
   "cell_type": "code",
   "execution_count": 54,
   "metadata": {},
   "outputs": [],
   "source": [
    "%matplotlib inline\n",
    "\n",
    "import numpy as np\n",
    "import pandas as pd\n",
    "import scipy.signal\n",
    "from pathlib import Path\n",
    "from matplotlib import pyplot as plt\n"
   ]
  },
  {
   "cell_type": "markdown",
   "metadata": {},
   "source": [
    "### Configuration\n",
    "\n",
    "To generate a plot for a waterbody with a given geohash, specify the geohash here:"
   ]
  },
  {
   "cell_type": "code",
   "execution_count": 2,
   "metadata": {},
   "outputs": [],
   "source": [
    "geohash = \"r3f225n9h\""
   ]
  },
  {
   "cell_type": "markdown",
   "metadata": {},
   "source": [
    "Also specify the window for the STSAD plot. Use 'hann' if you have no opinions on this, or 'boxcar' if you want a window that is easy to think about:"
   ]
  },
  {
   "cell_type": "code",
   "execution_count": 3,
   "metadata": {},
   "outputs": [],
   "source": [
    "window = \"hann\""
   ]
  },
  {
   "cell_type": "markdown",
   "metadata": {},
   "source": [
    "Finally, specify the path to the waterbodies CSVs:"
   ]
  },
  {
   "cell_type": "code",
   "execution_count": 4,
   "metadata": {},
   "outputs": [],
   "source": [
    "waterbody_csv_path = \"https://data.dea.ga.gov.au/projects/WaterBodies/timeseries\""
   ]
  },
  {
   "cell_type": "markdown",
   "metadata": {},
   "source": [
    "## Load DEA Waterbodies data\n",
    "First we will read the CSV containing the surface area vs time observations data directly from the URL path using `pandas`.\n",
    "\n",
    "We will rename the `Observation Date, Wet pixel percentage, Wet pixel count (n = ?)` columns to more consistent and easier to access names:\n",
    "```\n",
    "    date, pc_wet, px_wet\n",
    " ```\n",
    "    \n",
    "We also ensure that the 'date' column is parsed as a `datetime`, and convert the data percentages to decimals:"
   ]
  },
  {
   "cell_type": "code",
   "execution_count": 187,
   "metadata": {},
   "outputs": [],
   "source": [
    "# Set path to the CSV file\n",
    "csv_path = f\"{waterbody_csv_path}/{geohash[:4]}/{geohash}.csv\"\n",
    "\n",
    "# Load the data using `pandas`:\n",
    "time_series = pd.read_csv(csv_path, \n",
    "                          header=0,\n",
    "                          names=['date', 'pc_wet', 'px_wet'],\n",
    "                          parse_dates=['date'],\n",
    "                          index_col='date',\n",
    "                         )\n",
    "\n",
    "# Convert percentages into a float between 0 and 1.\n",
    "time_series.pc_wet /= 100\n"
   ]
  },
  {
   "cell_type": "markdown",
   "metadata": {},
   "source": [
    "We can now inspect the first few rows of the data:"
   ]
  },
  {
   "cell_type": "code",
   "execution_count": 188,
   "metadata": {},
   "outputs": [
    {
     "data": {
      "text/html": [
       "<div>\n",
       "<style scoped>\n",
       "    .dataframe tbody tr th:only-of-type {\n",
       "        vertical-align: middle;\n",
       "    }\n",
       "\n",
       "    .dataframe tbody tr th {\n",
       "        vertical-align: top;\n",
       "    }\n",
       "\n",
       "    .dataframe thead th {\n",
       "        text-align: right;\n",
       "    }\n",
       "</style>\n",
       "<table border=\"1\" class=\"dataframe\">\n",
       "  <thead>\n",
       "    <tr style=\"text-align: right;\">\n",
       "      <th></th>\n",
       "      <th>pc_wet</th>\n",
       "      <th>px_wet</th>\n",
       "    </tr>\n",
       "    <tr>\n",
       "      <th>date</th>\n",
       "      <th></th>\n",
       "      <th></th>\n",
       "    </tr>\n",
       "  </thead>\n",
       "  <tbody>\n",
       "    <tr>\n",
       "      <th>1987-05-29 23:14:29+00:00</th>\n",
       "      <td>NaN</td>\n",
       "      <td>NaN</td>\n",
       "    </tr>\n",
       "    <tr>\n",
       "      <th>1987-07-16 23:15:29+00:00</th>\n",
       "      <td>NaN</td>\n",
       "      <td>NaN</td>\n",
       "    </tr>\n",
       "    <tr>\n",
       "      <th>1987-09-02 23:16:50+00:00</th>\n",
       "      <td>NaN</td>\n",
       "      <td>NaN</td>\n",
       "    </tr>\n",
       "    <tr>\n",
       "      <th>1987-09-18 23:17:13+00:00</th>\n",
       "      <td>0.199</td>\n",
       "      <td>45926.0</td>\n",
       "    </tr>\n",
       "    <tr>\n",
       "      <th>1987-10-04 23:17:34+00:00</th>\n",
       "      <td>NaN</td>\n",
       "      <td>NaN</td>\n",
       "    </tr>\n",
       "  </tbody>\n",
       "</table>\n",
       "</div>"
      ],
      "text/plain": [
       "                           pc_wet   px_wet\n",
       "date                                      \n",
       "1987-05-29 23:14:29+00:00     NaN      NaN\n",
       "1987-07-16 23:15:29+00:00     NaN      NaN\n",
       "1987-09-02 23:16:50+00:00     NaN      NaN\n",
       "1987-09-18 23:17:13+00:00   0.199  45926.0\n",
       "1987-10-04 23:17:34+00:00     NaN      NaN"
      ]
     },
     "execution_count": 188,
     "metadata": {},
     "output_type": "execute_result"
    }
   ],
   "source": [
    "time_series.head()"
   ]
  },
  {
   "cell_type": "markdown",
   "metadata": {},
   "source": [
    "## Interpolate data to daily grid\n",
    "\n",
    "Interpolate the data to a common grid."
   ]
  },
  {
   "cell_type": "markdown",
   "metadata": {},
   "source": [
    "Change the axis to daily:"
   ]
  },
  {
   "cell_type": "code",
   "execution_count": 189,
   "metadata": {},
   "outputs": [],
   "source": [
    "# Round dates in the time series dataset  to the nearest whole day\n",
    "time_series.index = time_series.index.round(freq='d')\n",
    "\n",
    "# Create a new `datetime` index with one value for every individual day\n",
    "# between the first and last DEA Waterbodies observation \n",
    "dt_index = pd.date_range(start=time_series.index[0], \n",
    "                         end=time_series.index[-1], freq='d')\n",
    "\n",
    "# Use this new index to modify the original time series so that it \n",
    "# has a row for every individual day\n",
    "time_series = time_series.reindex(dt_index)\n",
    "assert len(time_series) == len(dt_index)\n"
   ]
  },
  {
   "cell_type": "markdown",
   "metadata": {},
   "source": [
    "Then interpolate (linearly, since it's the least-information thing other than constant)."
   ]
  },
  {
   "cell_type": "code",
   "execution_count": 190,
   "metadata": {},
   "outputs": [],
   "source": [
    "# Replace NaNs with a linear interpolation of the time series.\n",
    "time_series.pc_wet.interpolate(inplace=True, limit_direction=\"both\")"
   ]
  },
  {
   "cell_type": "markdown",
   "metadata": {},
   "source": [
    "If we inspect the first rows in the dataset again, we can see that we now have one row for every day (e.g. `1987-05-30`, `1987-05-31`) instead of a row for each satellite observation earlier:"
   ]
  },
  {
   "cell_type": "code",
   "execution_count": 191,
   "metadata": {},
   "outputs": [
    {
     "data": {
      "text/html": [
       "<div>\n",
       "<style scoped>\n",
       "    .dataframe tbody tr th:only-of-type {\n",
       "        vertical-align: middle;\n",
       "    }\n",
       "\n",
       "    .dataframe tbody tr th {\n",
       "        vertical-align: top;\n",
       "    }\n",
       "\n",
       "    .dataframe thead th {\n",
       "        text-align: right;\n",
       "    }\n",
       "</style>\n",
       "<table border=\"1\" class=\"dataframe\">\n",
       "  <thead>\n",
       "    <tr style=\"text-align: right;\">\n",
       "      <th></th>\n",
       "      <th>pc_wet</th>\n",
       "      <th>px_wet</th>\n",
       "    </tr>\n",
       "  </thead>\n",
       "  <tbody>\n",
       "    <tr>\n",
       "      <th>1987-05-30 00:00:00+00:00</th>\n",
       "      <td>0.199</td>\n",
       "      <td>NaN</td>\n",
       "    </tr>\n",
       "    <tr>\n",
       "      <th>1987-05-31 00:00:00+00:00</th>\n",
       "      <td>0.199</td>\n",
       "      <td>NaN</td>\n",
       "    </tr>\n",
       "    <tr>\n",
       "      <th>1987-06-01 00:00:00+00:00</th>\n",
       "      <td>0.199</td>\n",
       "      <td>NaN</td>\n",
       "    </tr>\n",
       "    <tr>\n",
       "      <th>1987-06-02 00:00:00+00:00</th>\n",
       "      <td>0.199</td>\n",
       "      <td>NaN</td>\n",
       "    </tr>\n",
       "    <tr>\n",
       "      <th>1987-06-03 00:00:00+00:00</th>\n",
       "      <td>0.199</td>\n",
       "      <td>NaN</td>\n",
       "    </tr>\n",
       "  </tbody>\n",
       "</table>\n",
       "</div>"
      ],
      "text/plain": [
       "                           pc_wet  px_wet\n",
       "1987-05-30 00:00:00+00:00   0.199     NaN\n",
       "1987-05-31 00:00:00+00:00   0.199     NaN\n",
       "1987-06-01 00:00:00+00:00   0.199     NaN\n",
       "1987-06-02 00:00:00+00:00   0.199     NaN\n",
       "1987-06-03 00:00:00+00:00   0.199     NaN"
      ]
     },
     "execution_count": 191,
     "metadata": {},
     "output_type": "execute_result"
    }
   ],
   "source": [
    "time_series.head()"
   ]
  },
  {
   "cell_type": "markdown",
   "metadata": {},
   "source": [
    "## Calculate SADs\n",
    "\n",
    "For each rolling time step, calculate the SADs."
   ]
  },
  {
   "cell_type": "code",
   "execution_count": 192,
   "metadata": {},
   "outputs": [],
   "source": [
    "def calculate_vector_stat(\n",
    "    vec: \"data dim\",\n",
    "    stat: \"data dim -> target dim\",\n",
    "    window_size=365,\n",
    "    step=10,\n",
    "    target_dim=365,\n",
    "    progress=None,\n",
    "    window=\"hann\",\n",
    "):\n",
    "    \"\"\"Calculates a vector statistic over a rolling window.\n",
    "    \n",
    "    Parameters\n",
    "    ----------\n",
    "    vec : d-dimensional np.ndarray\n",
    "        Vector to calculate over, e.g. a time series.\n",
    "    stat : R^d -> R^t function\n",
    "        Statistic function.\n",
    "    window_size : int\n",
    "        Sliding window size (default 365).\n",
    "    step : int\n",
    "        Step size (default 10).\n",
    "    target_dim : int\n",
    "        Dimensionality of the output of `stat` (default 365).\n",
    "    progress : iterator -> iterator\n",
    "        Optional progress decorator, e.g. tqdm.notebook.tqdm. Default None.\n",
    "    window : str\n",
    "        What kind of window function to use. Default 'hann', but you might\n",
    "        also want to use 'boxcar'. Any scipy window\n",
    "        function is allowed (see documentation for scipy.signal.get_window\n",
    "        for more information).\n",
    "        \n",
    "    Returns\n",
    "    -------\n",
    "    (d / step)-dimensional np.ndarray\n",
    "        y values (the time axis)\n",
    "    t-dimensional np.ndarray\n",
    "        x values (the statistic axis)\n",
    "    (d / step) x t-dimensional np.ndarray\n",
    "        The vector statistic array.\n",
    "    \"\"\"\n",
    "    # Initialise output array.\n",
    "    spectrogram_values = np.zeros((vec.shape[0] // step, target_dim))\n",
    "\n",
    "    # Apply the progress decorator, if specified.\n",
    "    r = range(0, vec.shape[0] - window_size, step)\n",
    "    if progress:\n",
    "        r = progress(r)\n",
    "\n",
    "    # Convert the window str argument into a window function.\n",
    "    window = scipy.signal.get_window(window, window_size)\n",
    "\n",
    "    # Iterate over the sliding window and compute the statistic.\n",
    "    for base in r:\n",
    "        win = vec[base : base + window_size] * window\n",
    "        sad = stat(win)\n",
    "        spectrogram_values[base // step, :] = sad\n",
    "\n",
    "    return (\n",
    "        np.linspace(0, vec.shape[0], vec.shape[0] // step, endpoint=False),\n",
    "        np.arange(target_dim),\n",
    "        spectrogram_values,\n",
    "    )"
   ]
  },
  {
   "cell_type": "code",
   "execution_count": 193,
   "metadata": {},
   "outputs": [],
   "source": [
    "def _calculate_sad(vec):\n",
    "    \"\"\"Calculates the surface area duration curve for a given vector of heights.\n",
    "    \n",
    "    Parameters\n",
    "    ----------\n",
    "    vec : d-dimensional np.ndarray\n",
    "        Vector of heights over time.\n",
    "    \n",
    "    Returns\n",
    "    -------\n",
    "    d-dimensional np.ndarray\n",
    "        Surface area duration curve vector over the same time scale.\n",
    "    \"\"\"\n",
    "    return np.sort(vec)[::-1]\n",
    "\n",
    "\n",
    "def calculate_sad(vec, window_size=365, step=10, progress=None, window=\"hann\"):\n",
    "    \"\"\"Calculates the short-time surface area duration curve for a given vector of heights.\n",
    "    \n",
    "    Parameters\n",
    "    ----------\n",
    "    vec : d-dimensional np.ndarray\n",
    "        Vector of heights over time.\n",
    "    window_size : int\n",
    "        Sliding window size (default 365).\n",
    "    step : int\n",
    "        Step size (default 10).\n",
    "    progress : iterator -> iterator\n",
    "        Optional progress decorator, e.g. tqdm.notebook.tqdm. Default None.\n",
    "    window : str\n",
    "        What kind of window function to use. Default 'hann', but you might\n",
    "        also want to use 'boxcar'. Any scipy window\n",
    "        function is allowed (see documentation for scipy.signal.get_window\n",
    "        for more information).\n",
    "    \n",
    "    Returns\n",
    "    -------\n",
    "    (d / step)-dimensional np.ndarray\n",
    "        y values (the time axis)\n",
    "    t-dimensional np.ndarray\n",
    "        x values (the statistic axis)\n",
    "    (d / step) x t-dimensional np.ndarray\n",
    "        The short-time surface area duration curve array.\n",
    "    \"\"\"\n",
    "    return calculate_vector_stat(\n",
    "        vec,\n",
    "        _calculate_sad,\n",
    "        window_size=window_size,\n",
    "        step=step,\n",
    "        target_dim=window_size,\n",
    "        progress=progress,\n",
    "        window=window,\n",
    "    )\n"
   ]
  },
  {
   "cell_type": "markdown",
   "metadata": {},
   "source": [
    "Calculate the STSAD."
   ]
  },
  {
   "cell_type": "code",
   "execution_count": 194,
   "metadata": {},
   "outputs": [],
   "source": [
    "sad_y, sad_x, sads = calculate_sad(\n",
    "    time_series.pc_wet, window_size=365 * 2, window=window, step=10\n",
    ")"
   ]
  },
  {
   "cell_type": "markdown",
   "metadata": {},
   "source": [
    "Convert the time axis into integers for calculating tick locations."
   ]
  },
  {
   "cell_type": "code",
   "execution_count": 195,
   "metadata": {},
   "outputs": [],
   "source": [
    "year_starts = (time_series.index.month == 1) & (time_series.index.day == 1)\n",
    "year_start_days = (time_series.index - time_series.index[0])[year_starts].days\n",
    "year_start_years = time_series.index.year[year_starts]"
   ]
  },
  {
   "cell_type": "markdown",
   "metadata": {},
   "source": [
    "Calculate the overall SAD."
   ]
  },
  {
   "cell_type": "code",
   "execution_count": 196,
   "metadata": {},
   "outputs": [],
   "source": [
    "sad = _calculate_sad(time_series.pc_wet)"
   ]
  },
  {
   "cell_type": "markdown",
   "metadata": {},
   "source": [
    "## Plot SADs"
   ]
  },
  {
   "cell_type": "code",
   "execution_count": 197,
   "metadata": {},
   "outputs": [
    {
     "data": {
      "image/png": "[encoded data removed]",
      "text/plain": [
       "<Figure size 432x288 with 1 Axes>"
      ]
     },
     "metadata": {
      "needs_background": "light"
     },
     "output_type": "display_data"
    }
   ],
   "source": [
    "plt.figure()\n",
    "plt.plot(sad)\n",
    "plt.xlabel(\"Years\")\n",
    "xs = np.arange(0, len(sad), 365)\n",
    "plt.xticks(xs[::2], np.arange(len(xs))[::2])\n",
    "plt.ylabel(\"Surface area (% maximum extent)\");"
   ]
  },
  {
   "cell_type": "code",
   "execution_count": 198,
   "metadata": {},
   "outputs": [
    {
     "data": {
      "image/png": "[encoded data removed]",
      "text/plain": [
       "<Figure size 432x288 with 2 Axes>"
      ]
     },
     "metadata": {
      "needs_background": "light"
     },
     "output_type": "display_data"
    }
   ],
   "source": [
    "plt.figure()\n",
    "plt.pcolormesh(sad_x, sad_y, sads)\n",
    "plt.xlabel(\"Days in two-year period\")\n",
    "plt.yticks(year_start_days[::2], year_start_years[::2])\n",
    "plt.ylabel(\"Date\")\n",
    "plt.colorbar(label=\"Surface area (% maximum extent)\")\n",
    "plt.title(\"Short-time surface area duration\");"
   ]
  },
  {
   "cell_type": "markdown",
   "metadata": {},
   "source": [
    "***\n",
    "\n",
    "## Additional information\n",
    "\n",
    "**License:** The code in this notebook is licensed under the [Apache License, Version 2.0](https://www.apache.org/licenses/LICENSE-2.0). \n",
    "Digital Earth Australia data is licensed under the [Creative Commons by Attribution 4.0](https://creativecommons.org/licenses/by/4.0/) license.\n",
    "\n",
    "**Contact:** If you need assistance, please post a question on the [Open Data Cube Slack channel](http://slack.opendatacube.org/) or on the [GIS Stack Exchange](https://gis.stackexchange.com/questions/ask?tags=open-data-cube) using the `open-data-cube` tag (you can view previously asked questions [here](https://gis.stackexchange.com/questions/tagged/open-data-cube)).\n",
    "If you would like to report an issue with this notebook, you can file one on [Github](https://github.com/GeoscienceAustralia/dea-notebooks).\n",
    "\n",
    "**Last modified:** September 2020"
   ]
  },
  {
   "cell_type": "markdown",
   "metadata": {},
   "source": [
    "## Tags\n",
    "Browse all available tags on the DEA User Guide's [Tags Index](https://docs.dea.ga.gov.au/genindex.html)."
   ]
  },
  {
   "cell_type": "raw",
   "metadata": {
    "raw_mimetype": "text/restructuredtext"
   },
   "source": [
    "**Tags**: :index:`NCI compatible`, :index:`DEA Waterbodies`, :index:`data visualisation`, :index:`time series`, :index:`water`"
   ]
  }
 ],
 "metadata": {
  "kernelspec": {
   "display_name": "Python 3",
   "language": "python",
   "name": "python3"
  },
  "language_info": {
   "codemirror_mode": {
    "name": "ipython",
    "version": 3
   },
   "file_extension": ".py",
   "mimetype": "text/x-python",
   "name": "python",
   "nbconvert_exporter": "python",
   "pygments_lexer": "ipython3",
   "version": "3.6.9"
  },
  "widgets": {
   "application/vnd.jupyter.widget-state+json": {
    "state": {},
    "version_major": 2,
    "version_minor": 0
   }
  }
 },
 "nbformat": 4,
 "nbformat_minor": 4
}
