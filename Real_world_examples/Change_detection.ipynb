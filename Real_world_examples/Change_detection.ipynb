{
 "cells": [
  {
   "cell_type": "markdown",
   "metadata": {},
   "source": [
    "# Detecting change in Australian forestry"
   ]
  },
  {
   "cell_type": "markdown",
   "metadata": {},
   "source": [
    "**Notebook currently compatible with the `DEA Sandbox` environment (untested on `NCI`)**"
   ]
  },
  {
   "cell_type": "markdown",
   "metadata": {},
   "source": [
    "### General advice (delete this cell before submitting for review)\n",
    "\n",
    "- When choosing a location for your analysis, **select an area that has data on both the `NCI` and `DEA Sandbox`** to allow your code to be run on both environments. \n",
    "For example, you can check this for Landsat using the [DEA Explorer](https://explorer.sandbox.dea.ga.gov.au/ga_ls5t_ard_3/1990) (use the drop-down menu to view all products). \n",
    "As of September 2019, the `DEA Sandbox` has a single year of continental Landsat data for 2015-16, and the full 1987-onward time-series for three locations (Perth WA, Brisbane QLD, and western NSW).\n",
    "- When writing in Markdown cells, start each sentence is on a **new line**.\n",
    "This makes it easy to see changes through git commits.\n",
    "- Use Australian English in markdown cells and code comments.\n",
    "- Use the [PEP8 standard](https://www.python.org/dev/peps/pep-0008/) for code. To make sure all code in the notebook is consistent, you can use the `jupyterlab_code_formatter` tool: select each code cell, then click `Edit` and then one of the `Apply X Formatter` options (`YAPF` or `Black` are recommended). This will reformat the code in the cell to a consistent style.\n",
    "- In the final notebook cell, include a set of relevant tags which are used to build the DEA User Guide's [Tag Index](https://docs.dea.ga.gov.au/genindex.html). \n",
    "Use all lower-case, seperate words with spaces, and where possible re-use existing tags.\n",
    "Ensure the tags cell below is in `Raw` format, rather than `Markdown` or `Code`.\n"
   ]
  },
  {
   "cell_type": "markdown",
   "metadata": {},
   "source": [
    "### Background\n",
    "An *optional* overview of the scientific, economic or environmental management issue or challenge being addressed by Digital Earth Australia. \n",
    "For `Beginners_Guide` or `Frequently_Used_Code` notebooks, this may include information about why the particular technique or approach is useful or required. \n",
    "If you need to cite a scientific paper or link to a website, use a persistent DOI link if possible and link in-text (e.g. [Dhu et al. 2017](https://doi.org/10.1080/20964471.2017.1402490))."
   ]
  },
  {
   "cell_type": "markdown",
   "metadata": {},
   "source": [
    "### The problem\n",
    "A _compulsory_ description of the notebook, including a brief overview of how Digital Earth Australia helps to address the problem set out above, and a run-down of the tools/methods being demonstrated below.\n",
    "\n",
    "\n",
    "### Digital Earth Australia use case"
   ]
  },
  {
   "cell_type": "markdown",
   "metadata": {},
   "source": [
    "### Technical details\n",
    "* **Products used:** [`s2_ard_granule`](https://explorer.sandbox.dea.ga.gov.au/s2a_ard_granule), [`s2b_ard_granule`](https://explorer.sandbox.dea.ga.gov.au/s2b_ard_granule)\n",
    "* **Analyses used:** NDVI index, image differencing, hypothesis testing"
   ]
  },
  {
   "cell_type": "markdown",
   "metadata": {},
   "source": [
    "## Getting started\n",
    "**To run this analysis**, run all the cells in the notebook, starting with the \"Load packages\" cell.\n",
    "\n",
    "**When you finished the analysis**, you can return to the \"Analysis parameters\" cell, modify some values (e.g. choose a different location or time period to analyse) and re-run the analysis.\n",
    "There are additional instructions on modifying the notebook at the end."
   ]
  },
  {
   "cell_type": "markdown",
   "metadata": {},
   "source": [
    "### Load packages"
   ]
  },
  {
   "cell_type": "code",
   "execution_count": null,
   "metadata": {},
   "outputs": [],
   "source": [
    "%matplotlib inline\n",
    "\n",
    "import datacube\n",
    "import matplotlib.pyplot as plt\n",
    "import numpy as np\n",
    "import pandas as pd\n",
    "from scipy import stats\n",
    "import sys\n",
    "import xarray as xr\n",
    "\n",
    "sys.path.append(\"../Scripts\")\n",
    "from dea_datahandling import load_ard\n",
    "from dea_bandindices import calculate_indices\n",
    "from dea_plotting import display_map, rgb"
   ]
  },
  {
   "cell_type": "markdown",
   "metadata": {},
   "source": [
    "### Connect to the datacube\n",
    "Give your datacube app a unique name that is consistent with the purpose of the notebook."
   ]
  },
  {
   "cell_type": "code",
   "execution_count": null,
   "metadata": {},
   "outputs": [],
   "source": [
    "dc = datacube.Datacube(app=\"Change_detection\")"
   ]
  },
  {
   "cell_type": "markdown",
   "metadata": {},
   "source": [
    "### Analysis parameters\n",
    "\n",
    "An *optional* section to inform the user of any parameters they'll need to configure to run the notebook:\n",
    "* `param_name_1`: Simple description (e.g. `example_value`). Advice about appropriate values to choose for this parameter.\n",
    "* `param_name_2`: Simple description (e.g. `example_value`). Advice about appropriate values to choose for this parameter.\n"
   ]
  },
  {
   "cell_type": "code",
   "execution_count": null,
   "metadata": {},
   "outputs": [],
   "source": [
    "latitude = (-35.271, -35.331)\n",
    "longitude = (149.256, 149.356)\n",
    "\n",
    "time = ('2019-06-01', '2019-09-01')\n",
    "time_baseline = np.datetime64('2019-07-15')"
   ]
  },
  {
   "cell_type": "markdown",
   "metadata": {},
   "source": [
    "## View the selected location\n",
    "The next cell will display the selected area on an interactive map.\n",
    "Feel free to zoom in and out to get a better understanding of the area you'll be analysing.\n",
    "Clicking on any point of the map will reveal the latitude and longitude coordinates of that point."
   ]
  },
  {
   "cell_type": "code",
   "execution_count": null,
   "metadata": {},
   "outputs": [],
   "source": [
    "display_map(x=longitude, y=latitude)"
   ]
  },
  {
   "cell_type": "markdown",
   "metadata": {},
   "source": [
    "## Load and view Sentinel 2 data"
   ]
  },
  {
   "cell_type": "code",
   "execution_count": null,
   "metadata": {},
   "outputs": [],
   "source": [
    "products = ['s2a_nrt_granule', 's2b_nrt_granule']\n",
    "\n",
    "query = {\n",
    "    \"x\": longitude,\n",
    "    \"y\": latitude,\n",
    "    \"time\": time,\n",
    "    \"measurements\": [\n",
    "        \"nbart_red\",\n",
    "        \"nbart_green\",\n",
    "        \"nbart_blue\",\n",
    "        \"nbart_nir_1\",\n",
    "        \"fmask\"\n",
    "    ],\n",
    "    \"output_crs\": \"EPSG:3577\",\n",
    "    \"resolution\": (-10, 10)\n",
    "}\n",
    "\n",
    "ds_s2 = load_ard(dc, products=products, min_gooddata=0.7, **query)"
   ]
  },
  {
   "cell_type": "markdown",
   "metadata": {},
   "source": [
    "### Plot example timestep in true colour"
   ]
  },
  {
   "cell_type": "code",
   "execution_count": null,
   "metadata": {},
   "outputs": [],
   "source": [
    "rgb(ds_s2, index=0)"
   ]
  },
  {
   "cell_type": "markdown",
   "metadata": {},
   "source": [
    "## Compute band indices\n",
    "We'll measure vegetation with the normalised difference vegetation index (NDVI), which we can calculate using the in-built `calculate_indices` function."
   ]
  },
  {
   "cell_type": "code",
   "execution_count": null,
   "metadata": {},
   "outputs": [],
   "source": [
    "# Use code comments for low-level documentation of code\n",
    "ds_s2 = calculate_indices(ds_s2, 'NDVI', collection='ga_sentinel2_1')"
   ]
  },
  {
   "cell_type": "code",
   "execution_count": null,
   "metadata": {},
   "outputs": [],
   "source": [
    "fig = plt.figure(figsize=(10.5,7))\n",
    "ds_s2.NDVI.isel(time=0).plot(cmap='RdYlGn')\n",
    "plt.show()"
   ]
  },
  {
   "cell_type": "markdown",
   "metadata": {},
   "source": [
    "## Perform hypothesis test\n",
    "We want to test whether there has been significant change in the mean NDVI before and after our baseline date."
   ]
  },
  {
   "cell_type": "markdown",
   "metadata": {},
   "source": [
    "### Make samples"
   ]
  },
  {
   "cell_type": "code",
   "execution_count": null,
   "metadata": {},
   "outputs": [],
   "source": [
    "baseline_sample = ds_s2.NDVI.sel(time=ds_s2['time']<=time_baseline)\n",
    "postbaseline_sample = ds_s2.NDVI.sel(time=ds_s2['time']>time_baseline)\n",
    "\n",
    "# Record coodrinates for reconstructing xarray objects\n",
    "sample_lat_coords = ds_s2.coords['y']\n",
    "sample_lon_coords = ds_s2.coords['x']"
   ]
  },
  {
   "cell_type": "code",
   "execution_count": null,
   "metadata": {},
   "outputs": [],
   "source": [
    "print(sample_lat_coords)"
   ]
  },
  {
   "cell_type": "markdown",
   "metadata": {},
   "source": [
    "### Test for change\n",
    "Perform a two-sided t-test to check if the mean NDVI has changed significantly after the baseline."
   ]
  },
  {
   "cell_type": "code",
   "execution_count": null,
   "metadata": {},
   "outputs": [],
   "source": [
    "tstat, p_tstat = stats.ttest_ind(\n",
    "    postbaseline_sample.values,\n",
    "    baseline_sample.values,\n",
    "    equal_var=False,\n",
    "    nan_policy='omit',\n",
    ")\n",
    "\n",
    "# Convert results to an xarray\n",
    "t_test = xr.Dataset(\n",
    "    {\n",
    "        't_stat': (['x', 'y'], tstat),\n",
    "        'p_val': (['x', 'y'], p_tstat)\n",
    "    },\n",
    "    coords={\n",
    "        'x': (['x'], sample_lat_coords.values),\n",
    "        'y': (['y'], sample_lon_coords.values)\n",
    "    })\n",
    "\n",
    "print(t_test)"
   ]
  },
  {
   "cell_type": "markdown",
   "metadata": {},
   "source": [
    "## Visualise change\n",
    "From the test, we're interested in two conditions: whether the change is significant (rejection of our null hypothesis) and whether the change was positive (afforestation) or negative (deforestation).\n",
    "\n",
    "We can reject the null hypothesis if our $p$-value (`p_val`) is less than our chosen significance level, which we set as `sig_level = 0.05`.\n",
    "\n",
    "We can infer the direction of the change from the value of `t_stat`, which is propotional to $$\\text{mean(post baseline)} - \\text{mean(baseline)}.$$\n",
    "This means that\n",
    "- if the NDVI is **higher** in the `post baseline` sample compared to the `baseline` sample, then `t_stat` will be **positive**.\n",
    "- if the NDVI is **lower** in the `post baseline` sample compared to the `baseline` sample, then `t_stat` will be **negative**."
   ]
  },
  {
   "cell_type": "code",
   "execution_count": null,
   "metadata": {},
   "outputs": [],
   "source": [
    "# Set the significance level\n",
    "sig_level = 0.05\n",
    "\n",
    "# Calculate masks to indicate significant positive and negative change\n",
    "t_test['sig_pos_change'] = (t_test.p_val < sig_level) & (t_test.t_stat > 0)\n",
    "t_test['sig_neg_change'] = (t_test.p_val < sig_level) & (t_test.t_stat < 0)\n",
    "\n",
    "# Plot the mask for significant positive change\n",
    "fig, ax = plt.subplots(1, 1, figsize=(7, 5))\n",
    "t_test.sig_pos_change.plot()\n",
    "ax.set_title(\"Areas of significant afforestation\")\n",
    "plt.show()\n",
    "\n",
    "# Plot the mask for significant negative change\n",
    "fig, ax = plt.subplots(1, 1, figsize=(7, 5))\n",
    "t_test.sig_neg_change.plot()\n",
    "ax.set_title(\"Areas of significant deforestation\")\n",
    "plt.show()\n",
    "\n",
    "# Plot the difference in the means\n",
    "fig, ax = plt.subplots(1, 1, figsize=(7, 5))\n",
    "(postbaseline_sample.mean(dim=['time']) - baseline_sample.mean(dim=['time'])).plot()\n",
    "ax.set_title(\"Difference in the mean\")\n",
    "plt.show()"
   ]
  },
  {
   "cell_type": "markdown",
   "metadata": {},
   "source": [
    "### Extract polygons around areas of change"
   ]
  },
  {
   "cell_type": "code",
   "execution_count": null,
   "metadata": {},
   "outputs": [],
   "source": [
    "import rasterio.features\n",
    "\n",
    "sig_neg_change_poly = rasterio.features.shapes(t_test.sig_neg_change.data.astype('float32'))\n",
    "sig_neg_change_poly_list = list(sig_neg_change_poly)"
   ]
  },
  {
   "cell_type": "code",
   "execution_count": null,
   "metadata": {},
   "outputs": [],
   "source": [
    "RemoveZero = [i for i, x in enumerate(sig_neg_change_poly_list) if x[1] == 1]\n",
    "sig_neg_pol_list = [sig_neg_change_poly_list[x] for x in RemoveZero]\n",
    "print(len(sig_neg_pol_list))"
   ]
  },
  {
   "cell_type": "code",
   "execution_count": null,
   "metadata": {},
   "outputs": [],
   "source": [
    "from shapely.geometry import Polygon, shape\n",
    "\n",
    "polyshapes = []\n",
    "for i, polyshape in enumerate(sig_neg_pol_list):\n",
    "    polyArea = Polygon(polyshape[0]['coordinates'][0]).area\n",
    "    polyshape[0]['properties'] = {'area': polyArea}\n",
    "    polyshapes.append(polyshape)"
   ]
  },
  {
   "cell_type": "code",
   "execution_count": null,
   "metadata": {},
   "outputs": [],
   "source": [
    "AreasIndex = [i for i, x in enumerate(polyshapes) if x[0]['properties']['area'] > 1000]\n",
    "polybig = [polyshapes[x] for x in AreasIndex]\n",
    "print(len(polybig))"
   ]
  },
  {
   "cell_type": "code",
   "execution_count": null,
   "metadata": {},
   "outputs": [],
   "source": [
    "from descartes import PolygonPatch\n",
    "\n",
    "polybigbreaktuple = [a for a, b in list(polybig)]\n",
    "\n",
    "fig = plt.figure(figsize = [7,7])\n",
    "ax = fig.gca()\n",
    "for i in range(len(polybig)):\n",
    "    ax.add_patch(PolygonPatch(polybigbreaktuple[i], edgecolor = 'b', facecolor = None))\n",
    "ax.axis('scaled')\n",
    "plt.draw()\n",
    "plt.show()"
   ]
  },
  {
   "cell_type": "markdown",
   "metadata": {},
   "source": [
    "## Additional information"
   ]
  },
  {
   "cell_type": "markdown",
   "metadata": {},
   "source": [
    "**License:** The code in this notebook is licensed under the [Apache License, Version 2.0](https://www.apache.org/licenses/LICENSE-2.0). \n",
    "Digital Earth Australia data is licensed under the [Creative Commons by Attribution 4.0](https://creativecommons.org/licenses/by/4.0/) license.\n",
    "\n",
    "**Contact:** If you need assistance, please post a question on the [Open Data Cube Slack channel](http://slack.opendatacube.org/) or on the [GIS Stack Exchange](https://gis.stackexchange.com/questions/ask?tags=open-data-cube) using the `open-data-cube` tag (you can view previously asked questions [here](https://gis.stackexchange.com/questions/tagged/open-data-cube)).\n",
    "If you would like to report an issue with this notebook, you can file one on [Github](https://github.com/GeoscienceAustralia/dea-notebooks).\n",
    "\n",
    "**Last modified:** September 2019\n",
    "\n",
    "**Compatible `datacube` version:** "
   ]
  },
  {
   "cell_type": "code",
   "execution_count": null,
   "metadata": {},
   "outputs": [],
   "source": [
    "print(datacube.__version__)"
   ]
  },
  {
   "cell_type": "markdown",
   "metadata": {},
   "source": [
    "## Tags\n",
    "Browse all available tags on the DEA User Guide's [Tags Index](https://docs.dea.ga.gov.au/genindex.html)"
   ]
  },
  {
   "cell_type": "raw",
   "metadata": {
    "raw_mimetype": "text/restructuredtext"
   },
   "source": [
    "**Tags**: :index:`sandbox_compatible`, :index:`nci_compatible`, :index:`template`, :index:`dc.load`, :index:`plotting`, :index:`landsat8`, :index:`pixeldrill`"
   ]
  }
 ],
 "metadata": {
  "kernelspec": {
   "display_name": "Python 3",
   "language": "python",
   "name": "python3"
  },
  "language_info": {
   "codemirror_mode": {
    "name": "ipython",
    "version": 3
   },
   "file_extension": ".py",
   "mimetype": "text/x-python",
   "name": "python",
   "nbconvert_exporter": "python",
   "pygments_lexer": "ipython3",
   "version": "3.6.8"
  }
 },
 "nbformat": 4,
 "nbformat_minor": 4
}
