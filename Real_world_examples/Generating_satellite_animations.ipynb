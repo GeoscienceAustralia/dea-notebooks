{
 "cells": [
  {
   "cell_type": "markdown",
   "metadata": {},
   "source": [
    "# Exporting satellite imagery animations <img align=\"right\" src=\"../Supplementary_data/dea_logo.jpg\">\n",
    "\n",
    "* [**Sign up to the DEA Sandbox**](https://docs.dea.ga.gov.au/setup/sandbox.html) to run this notebook interactively from a browser\n",
    "* **Compatibility:** Notebook currently compatible with both the `DEA Sandbox` and `NCI` environments\n",
    "* **Products used:** \n",
    "[ga_ls5t_ard_3](https://explorer.sandbox.dea.ga.gov.au/ga_ls5t_ard_3),\n",
    "[ga_ls7e_ard_3](https://explorer.sandbox.dea.ga.gov.au/ga_ls7e_ard_3),\n",
    "[ga_ls8c_ard_3](https://explorer.sandbox.dea.ga.gov.au/ga_ls8c_ard_3),\n",
    "[s2a_ard_granule](https://explorer.sandbox.dea.ga.gov.au/s2a_ard_granule),\n",
    "[s2b_ard_granule](https://explorer.sandbox.dea.ga.gov.au/s2b_ard_granule),\n",
    "[s2a_nrt_granule](https://explorer.sandbox.dea.ga.gov.au/s2a_nrt_granule),\n",
    "[s2b_nrt_granule](https://explorer.sandbox.dea.ga.gov.au/s2b_nrt_granule)\n"
   ]
  },
  {
   "cell_type": "markdown",
   "metadata": {},
   "source": [
    "## Background\n",
    "Most of the case studies in this repository focus on quantitatively analysing satellite data to obtain insights into Australia's changing environment. \n",
    "However, satellite imagery can also be used as a powerful tool for visualisation, particularly within dynamic environments that have changed significantly over the past ~30 years.\n",
    "\n",
    "Animations produced from satellite images can help explain dynamic physical processes, highlight change over time, or provide valuable context to better understand the impacts of recent environmental events such as flooding or fire. \n",
    "Satellite animations can also be processed to create images of the landscape based on invisible wavelengths of light (e.g. false colour images), allowing us to obtain richer insights into features and processes that would otherwise be invisible to the human eye.\n",
    "\n",
    "### Digital Earth Australia use case\n",
    "\n",
    "**Digital Earth Australia** provides over three decades of satellite imagery across the entire continent of Australia. Satellite data from the [NASA/USGS Landsat program](https://www.usgs.gov/land-resources/nli/landsat) allow us to produce fortnightly images of Australia's diverse natural and artificial landscapes at any time since 1986. More recently, the [Copernicus Sentinel-2 mission](https://sentinel.esa.int/web/sentinel/missions/sentinel-2) has provided even higher resolution imagery as frequently as every 5 days since 2015. \n",
    "\n",
    "\n",
    "\n"
   ]
  },
  {
   "cell_type": "markdown",
   "metadata": {},
   "source": [
    "## Description\n",
    "This notebook provides an interactive tool for selecting, loading, processing and exporting satellite imagery as a high quality animated MP4 and GIF files. \n",
    "This can be used in combination with the interactive [Digital Earth Australia Maps](maps.dea.ga.gov.au) platform to identify an image of interest, then download it using this notebook for use in other applications.\n",
    "\n",
    "The tool requires no coding experience. \n",
    "\n",
    "\n",
    "***"
   ]
  },
  {
   "cell_type": "markdown",
   "metadata": {},
   "source": [
    "## Getting started\n",
    "\n",
    "To run this analysis, run all the cells in the notebook, starting with the \"Load packages\" cell. "
   ]
  },
  {
   "cell_type": "markdown",
   "metadata": {},
   "source": [
    "### Load packages\n",
    "Import Python packages used for the analysis."
   ]
  },
  {
   "cell_type": "code",
   "execution_count": 1,
   "metadata": {},
   "outputs": [],
   "source": [
    "import sys\n",
    "sys.path.insert(1, '../Tools/')\n",
    "from dea_tools.app import animations"
   ]
  },
  {
   "cell_type": "markdown",
   "metadata": {},
   "source": [
    "## Digital Earth Australia satellite imagery animation app\n",
    "\n",
    "Run the `animations.animation_app()` cell below to launch the interactive application that is used to select the area to load and export satellite imagery animations.\n",
    "\n",
    "### Selecting parameters \n",
    "\n",
    "On the left of the map, you will see a date selector, and a list of satellite imagery you can load:\n",
    " \n",
    "|                    |                                                                                                                          | \n",
    "|--------------------|--------------------------------------------------------------------------------------------------------------------------|\n",
    "| **\"Landsat\"**        | Data from the Landsat 5, 7 and 8 satellites                                                                              |\n",
    "| **\"Sentinel-2\"**     | Data from the Sentinel-2A and 2B satellites                                                                              |\n",
    "\n",
    "Satellite imagery can be viewed and exported in two colour styles:\n",
    "\n",
    "|                    |                                                                                                                          | \n",
    "|--------------------|--------------------------------------------------------------------------------------------------------------------------|\n",
    "| **\"True colour\"**    | Creates a true colour image using the red, green and blue satellite bands                                                |\n",
    "| **\"False colour\"**   | Creates a false colour image using short-wave infrared, infrared and green satellite bands.                              |\n",
    "\n",
    "You can also modify the brightness and contrast of the output image by dragging the `Colour percentile stretch` slider, and select the output image format from `.MP4` (smaller file sizes, higher quality, fast processing speeds) to `.GIF` (larger file sizes, lower quality, slower processing).\n",
    "\n",
    "Tick the `Apply rolling median` box to produce a smooth animation that reduces the influence of cloud and noise. The larger the rolling median window, the smoother the output (at the expense of potentially removing short-lived events from the animation).\n",
    "\n",
    "\n",
    "### Selecting a location to export\n",
    "Zoom into the map to a location you wish to animate.\n",
    "Select the `Draw a rectangle` tool on the left of the map, and draw a shape around the area you are interested in. \n",
    "When you are ready, press the green `Generate animation` button on the bottom left to start the animation generation. \n",
    "\n",
    "> To keep load times reasonable, the app is restricted to image exports **smaller than 50000 hectares** in size. This limit can be overuled in the `Advanced` settings."
   ]
  },
  {
   "cell_type": "code",
   "execution_count": 2,
   "metadata": {},
   "outputs": [
    {
     "data": {
      "application/vnd.jupyter.widget-view+json": {
       "model_id": "789ab276a0024b629a7a70e930c7fc15",
       "version_major": 2,
       "version_minor": 0
      },
      "text/plain": [
       "animation_app(children=(GridspecLayout(children=(HTML(value='<h3>Digital Earth Australia satellite imagery ani…"
      ]
     },
     "metadata": {},
     "output_type": "display_data"
    }
   ],
   "source": [
    "animations.animation_app()"
   ]
  },
  {
   "cell_type": "markdown",
   "metadata": {},
   "source": [
    "## Advanced settings\n",
    "\n",
    "The animation tool supports several advanced features. \n",
    "To access these, click on the `Advanced` tab in the menu to the left of the map to expand it:\n",
    "* `Frame interval`: The frame rate used to animate the satellite data. \n",
    "Values are in milliseconds - larger values will produce a longer, slower animation.\n",
    "* `Resolution`: The spatial resolution to load data (in metres). By default, the tool will automatically set the best possible resolution depending on the satellites selected (i.e. 30 m for Landsat, 10 m for Sentinel-2). \n",
    "Increasing this (e.g. to `100`) can be useful for loading large spatial extents.\n",
    "* `Width of output animation`: The width of the animation MP4 or GIF file in pixels. This can be used to produce a HD video, but won't increase the resolution of the input satellite imagery (setting a high value will produce a larger animation, but may introduce unwanted pixelation).\n",
    "* `Apply temporal resampling`: Whether to combine multiple satellite images into time period median composite images. Available options are None, monthly, quarterly and annually.\n",
    "* `Mask out cloudy pixels`: Whether to mask out cloudy pixels with `nodata` to remove them from the animation. This is best used in combination with a rolling median or temporal resampling, as otherwise it will introduce large areas of black `nodata` pixels in the animation.\n",
    "* `Add DEA Coastlines overlay`: Whether to add annual shoreline vectors from the Digital Earth Australia Coastlines product as an overlay on top of the animation.\n",
    "* `Apply power transformation`: Raises imagery by a power to reduce bright features and enhance dark features. \n",
    "This can add extra definition over areas with extremely bright features like snow, beaches or salt pans.\n",
    "* `Apply unsharp masking` Whether to apply unsharp masking to increase the sharpness of the output image. \n",
    "If activated, you can specify both the radius (in pixels) and the amount/strength of the sharpening.\n",
    "* `Override maximum size limit`: Whether to override the app's default 500 square km area limit.\n",
    "This can be used to load larger areas of satellite imagery, but should be used with caution as it can lead to memory issues or crashes.\n",
    "\n",
    "> **If running the notebook for the first time**, keep the default settings above. This will demonstrate how the analysis works and provide meaningful results. "
   ]
  },
  {
   "cell_type": "markdown",
   "metadata": {},
   "source": [
    "## Downloading exported animation\n",
    "\n",
    "The animation will be completed when `Finished exporting animation` appears above, and a preview of your animation is shown below the map.\n",
    "\n",
    "The animation file (MP4 or GIF) will be saved to the same location you are running this notebook from (e.g. typically `Real_world_examples`). \n",
    "In JupyterLab, use the file browser to locate the image file with a name in the following format: \n",
    "\n",
    "`landsat_adelaidesouthaustralia_2017-06-21_2022-06-21_truecolour_30m.mp4`\n",
    "\n",
    "If you are using the **DEA Sandbox**, you can download the animation to your PC by right clicking on the image file and selecting `Download`."
   ]
  },
  {
   "cell_type": "markdown",
   "metadata": {},
   "source": [
    "## Next steps\n",
    "When you have exported your first animation, modify some parameters and rerun the analysis by clicking `Generate animation`. \n",
    "For example, you could try:\n",
    "\n",
    "* Applying a rolling median to produce a smooth animation that highlights long-term change over time.\n",
    "* Generate an animation for new dates using the date selectors. \n",
    "* Changing the satellite data to `\"Sentinel-2\"` to export a Sentinel-2 animation instead of Landsat.\n",
    "* Selecting the `\"False colour\"` style to export a false colour view of the landscape that highlights growing vegetation and water.\n",
    "* Specify a custom resolution in the `Advanced` tab, e.g. `100`.\n",
    "* Experiment with different colour percentile stretches and the `Advanced` tab unsharp masking and power transformation functionality to alter the appearance of the resulting image.\n"
   ]
  },
  {
   "cell_type": "markdown",
   "metadata": {},
   "source": [
    "***\n",
    "\n",
    "## Additional information\n",
    "\n",
    "**License:** The code in this notebook is licensed under the [Apache License, Version 2.0](https://www.apache.org/licenses/LICENSE-2.0). \n",
    "Digital Earth Australia data is licensed under the [Creative Commons by Attribution 4.0](https://creativecommons.org/licenses/by/4.0/) license.\n",
    "\n",
    "**Contact:** If you need assistance, please post a question on the [Open Data Cube Slack channel](http://slack.opendatacube.org/) or on the [GIS Stack Exchange](https://gis.stackexchange.com/questions/ask?tags=open-data-cube) using the `open-data-cube` tag (you can view previously asked questions [here](https://gis.stackexchange.com/questions/tagged/open-data-cube)).\n",
    "If you would like to report an issue with this notebook, you can file one on [Github](https://github.com/GeoscienceAustralia/dea-notebooks).\n",
    "\n",
    "**Last modified:** June 2022\n",
    "\n",
    "**Compatible datacube version:** "
   ]
  },
  {
   "cell_type": "code",
   "execution_count": 3,
   "metadata": {},
   "outputs": [
    {
     "name": "stdout",
     "output_type": "stream",
     "text": [
      "1.8.6\n"
     ]
    }
   ],
   "source": [
    "import datacube\n",
    "print(datacube.__version__)"
   ]
  },
  {
   "cell_type": "markdown",
   "metadata": {},
   "source": [
    "## Tags\n",
    "Browse all available tags on the DEA User Guide's [Tags Index](https://docs.dea.ga.gov.au/genindex.html)"
   ]
  },
  {
   "cell_type": "raw",
   "metadata": {
    "raw_mimetype": "text/restructuredtext"
   },
   "source": [
    "**Tags**: :index:`NCI compatible`, :index:`sandbox compatible`, :index:`landsat 5`, :index:`landsat 7`, :index:`landsat 8`, :index:`sentinel 2`, :index:`animation`, :index:`real world`, :index:`plotting`, :index:`widgets`, :index:`interactive`, :index:`no_testing`"
   ]
  }
 ],
 "metadata": {
  "kernelspec": {
   "display_name": "Python 3 (ipykernel)",
   "language": "python",
   "name": "python3"
  },
  "language_info": {
   "codemirror_mode": {
    "name": "ipython",
    "version": 3
   },
   "file_extension": ".py",
   "mimetype": "text/x-python",
   "name": "python",
   "nbconvert_exporter": "python",
   "pygments_lexer": "ipython3",
   "version": "3.8.10"
  },
  "widgets": {
   "application/vnd.jupyter.widget-state+json": {
    "state": {
     "00d45aaa38b345e48da0e693defa2d32": {
      "model_module": "@jupyter-widgets/controls",
      "model_module_version": "1.5.0",
      "model_name": "HTMLModel",
      "state": {
       "layout": "IPY_MODEL_4b8e2ab12baa4c40852fd191c4399a72",
       "style": "IPY_MODEL_0bb49d2a175d4be986786dae90e4fb07",
       "value": "<b>End date:</b>"
      }
     },
     "011c526695164a498f57ed31ac86a892": {
      "model_module": "@jupyter-widgets/controls",
      "model_module_version": "1.5.0",
      "model_name": "HTMLModel",
      "state": {
       "layout": "IPY_MODEL_64260bd859cb4bb7a4d8eb43e8fb6dcc",
       "style": "IPY_MODEL_772c15ebcf664f278881e88ba6d84cb8",
       "value": "</br>"
      }
     },
     "01d74a3718df4cd3a7a8b59387d6182d": {
      "model_module": "@jupyter-widgets/controls",
      "model_module_version": "1.5.0",
      "model_name": "IntTextModel",
      "state": {
       "layout": "IPY_MODEL_377b412a38834ee7ac238dec2e296fd4",
       "step": 50,
       "style": "IPY_MODEL_4379adf4c8ed470083ce2b3a63206185",
       "value": 900
      }
     },
     "03055e297d374a5d996167a57801bcbe": {
      "model_module": "@jupyter-widgets/base",
      "model_module_version": "1.2.0",
      "model_name": "LayoutModel",
      "state": {}
     },
     "03ad2abe018540c08f368ab65e665506": {
      "model_module": "@jupyter-widgets/base",
      "model_module_version": "1.2.0",
      "model_name": "LayoutModel",
      "state": {
       "grid_area": "widget005",
       "height": "100%",
       "margin": "0px 10px 10px 0px",
       "padding": "5px 5px 5px 5px",
       "width": "100%"
      }
     },
     "06817ba80bf94f17b21539a132ad6345": {
      "model_module": "@jupyter-widgets/controls",
      "model_module_version": "1.5.0",
      "model_name": "DatePickerModel",
      "state": {
       "disabled": false,
       "layout": "IPY_MODEL_0b81a6cd7c234facb342abf583c599eb",
       "style": "IPY_MODEL_f8a3b6381d1f483189258955adbac588",
       "value": {
        "date": 30,
        "month": 5,
        "year": 2022
       }
      }
     },
     "070cf58bc6304264a235200e61646e9c": {
      "model_module": "@jupyter-widgets/base",
      "model_module_version": "1.2.0",
      "model_name": "LayoutModel",
      "state": {
       "width": "95%"
      }
     },
     "07a583ca096c4a64b7910bcda9cc622c": {
      "model_module": "@jupyter-widgets/base",
      "model_module_version": "1.2.0",
      "model_name": "LayoutModel",
      "state": {}
     },
     "07e8f43b0a004445b7959f4f5ac59dc0": {
      "model_module": "@jupyter-widgets/controls",
      "model_module_version": "1.5.0",
      "model_name": "HTMLModel",
      "state": {
       "layout": "IPY_MODEL_917b3826955e4f59b28257ada36d5b0d",
       "style": "IPY_MODEL_b20db851e82249f2a9d6222cc5d456e3",
       "value": "<h3>Digital Earth Australia satellite imagery animations</h3><p>Select the desired satellite data, imagery date range and image style, then zoom in and draw a rectangle to select an area export as a satellite imagery time-series animation.</p><b>Total area of satellite data to extract</b>: 3609.05 ha</sup><span style=\"color: #33cc33\"> <b>(Area to extract falls within recommended 50000 ha limit)</b></span>"
      }
     },
     "081f08e34d904f03ade222d522f68d29": {
      "model_module": "@jupyter-widgets/controls",
      "model_module_version": "1.5.0",
      "model_name": "HTMLModel",
      "state": {
       "layout": "IPY_MODEL_f0ab3d78cca94110b6c76c6042a38cd9",
       "style": "IPY_MODEL_2e1fb31dfbdb4e38a1bac12fa0756418",
       "value": " 26/? (0.0 seconds remaining at  9.16 frames/s)"
      }
     },
     "088b0ac20b9f448d8d845c54ae0fa4da": {
      "model_module": "@jupyter-widgets/controls",
      "model_module_version": "1.5.0",
      "model_name": "HTMLModel",
      "state": {
       "layout": "IPY_MODEL_8193a888d92e467baf6f6568031cb1b5",
       "style": "IPY_MODEL_476f661a76a740968abdd42f602bef97",
       "value": "</br>"
      }
     },
     "0b81a6cd7c234facb342abf583c599eb": {
      "model_module": "@jupyter-widgets/base",
      "model_module_version": "1.2.0",
      "model_name": "LayoutModel",
      "state": {
       "width": "85%"
      }
     },
     "0bb49d2a175d4be986786dae90e4fb07": {
      "model_module": "@jupyter-widgets/controls",
      "model_module_version": "1.5.0",
      "model_name": "DescriptionStyleModel",
      "state": {
       "description_width": ""
      }
     },
     "0d2befe6dff9407bab9dda89b378063f": {
      "model_module": "@jupyter-widgets/base",
      "model_module_version": "1.2.0",
      "model_name": "LayoutModel",
      "state": {}
     },
     "15ac621d48c24279958aee5319422e11": {
      "model_module": "@jupyter-widgets/controls",
      "model_module_version": "1.5.0",
      "model_name": "DescriptionStyleModel",
      "state": {
       "description_width": ""
      }
     },
     "1e3e06f5142b4cea95964b931ee986c5": {
      "model_module": "@jupyter-widgets/controls",
      "model_module_version": "1.5.0",
      "model_name": "ButtonModel",
      "state": {
       "button_style": "info",
       "description": "Generate animation",
       "layout": "IPY_MODEL_8d8189d96a864f718c8203214e5ca7fc",
       "style": "IPY_MODEL_515c5ebe759e488bb42bf774413360ec"
      }
     },
     "2190611f80094cb8bf0132eb7fad3ebc": {
      "model_module": "@jupyter-widgets/controls",
      "model_module_version": "1.5.0",
      "model_name": "DescriptionStyleModel",
      "state": {
       "description_width": ""
      }
     },
     "21c63e3c867c44ac95e4a178530f18d9": {
      "model_module": "@jupyter-widgets/controls",
      "model_module_version": "1.5.0",
      "model_name": "HTMLModel",
      "state": {
       "layout": "IPY_MODEL_b9901fca413947528b394e31d17bb17e",
       "style": "IPY_MODEL_ac29ae8d63b5482bab9633ba16117ea4",
       "value": "</br><b>Map overlay:</b>"
      }
     },
     "23073075df5544898d3966292200d032": {
      "model_module": "@jupyter-widgets/base",
      "model_module_version": "1.2.0",
      "model_name": "LayoutModel",
      "state": {
       "width": "95%"
      }
     },
     "25c5934dcd3f4af28e164831195d04fd": {
      "model_module": "jupyter-leaflet",
      "model_module_version": "^0.14.0",
      "model_name": "LeafletZoomControlModel",
      "state": {
       "_model_module_version": "^0.14.0",
       "_view_module_version": "^0.14.0",
       "options": [
        "position",
        "zoom_in_text",
        "zoom_in_title",
        "zoom_out_text",
        "zoom_out_title"
       ]
      }
     },
     "2632042484484053944464e6bffb9fe7": {
      "model_module": "@jupyter-widgets/controls",
      "model_module_version": "1.5.0",
      "model_name": "SliderStyleModel",
      "state": {
       "description_width": ""
      }
     },
     "2822d3d3ec594e909255821eda64d0e3": {
      "model_module": "@jupyter-widgets/controls",
      "model_module_version": "1.5.0",
      "model_name": "DescriptionStyleModel",
      "state": {
       "description_width": ""
      }
     },
     "28ec2e6829e34294abe6fa8c136d7482": {
      "model_module": "@jupyter-widgets/controls",
      "model_module_version": "1.5.0",
      "model_name": "DropdownModel",
      "state": {
       "_options_labels": [
        "ESRI World Imagery",
        "Open Street Map"
       ],
       "index": 0,
       "layout": "IPY_MODEL_4960cdd99a3d4ea093ab1b0b179912cc",
       "style": "IPY_MODEL_3f090aff0490498da5da05f26833a06c"
      }
     },
     "2afee2f9109d4dee8fdeec1db9c6e3c3": {
      "model_module": "@jupyter-widgets/base",
      "model_module_version": "1.2.0",
      "model_name": "LayoutModel",
      "state": {
       "width": "85%"
      }
     },
     "2b183685ddb64e00893483acb97f4ffd": {
      "model_module": "@jupyter-widgets/controls",
      "model_module_version": "1.5.0",
      "model_name": "DescriptionStyleModel",
      "state": {
       "description_width": ""
      }
     },
     "2b991191325f43d9851e1f257e3e8cf8": {
      "model_module": "@jupyter-widgets/base",
      "model_module_version": "1.2.0",
      "model_name": "LayoutModel",
      "state": {}
     },
     "2e1fb31dfbdb4e38a1bac12fa0756418": {
      "model_module": "@jupyter-widgets/controls",
      "model_module_version": "1.5.0",
      "model_name": "DescriptionStyleModel",
      "state": {
       "description_width": ""
      }
     },
     "2ef7f2c0c2cf4c318b3f063b7cf4b26c": {
      "model_module": "@jupyter-widgets/base",
      "model_module_version": "1.2.0",
      "model_name": "LayoutModel",
      "state": {
       "width": "95%"
      }
     },
     "30dd6433bcb642d18085ba218597277b": {
      "model_module": "@jupyter-widgets/controls",
      "model_module_version": "1.5.0",
      "model_name": "GridBoxModel",
      "state": {
       "children": [
        "IPY_MODEL_07e8f43b0a004445b7959f4f5ac59dc0",
        "IPY_MODEL_5ab99c7ce8624da5afeacde8aae4b8d0",
        "IPY_MODEL_d7d8a53518e447339f02500208518f79",
        "IPY_MODEL_1e3e06f5142b4cea95964b931ee986c5",
        "IPY_MODEL_d68cb337f0694b96ad5897a6f91a88a9",
        "IPY_MODEL_f86bf688b1574ddda7cffc77a14f96a2",
        "IPY_MODEL_3320c06077ab490c8cf6a8b4debd829e"
       ],
       "layout": "IPY_MODEL_89fe28b7c4974b95bee9353bd18f8fa8"
      }
     },
     "3320c06077ab490c8cf6a8b4debd829e": {
      "model_module": "@jupyter-widgets/output",
      "model_module_version": "1.0.0",
      "model_name": "OutputModel",
      "state": {
       "layout": "IPY_MODEL_3e2e7d81083445bb8e593cc29d9cd65f",
       "outputs": [
        {
         "name": "stdout",
         "output_type": "stream",
         "text": "Exporting animation to landsat_sydneynewsouthwales_2019-06-30_2022-06-30_truecolour_30m.mp4\n"
        },
        {
         "data": {
          "application/vnd.jupyter.widget-view+json": {
           "model_id": "7994ea1ea3374cbea70bc08344330512",
           "version_major": 2,
           "version_minor": 0
          },
          "text/plain": "  0%|          | 0/25 (0.0 seconds remaining at ? frames/s)"
         },
         "metadata": {},
         "output_type": "display_data"
        },
        {
         "data": {
          "image/png": "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\n",
          "text/plain": "<Figure size 900x658 with 1 Axes>"
         },
         "metadata": {
          "needs_background": "light"
         },
         "output_type": "display_data"
        }
       ]
      }
     },
     "377b412a38834ee7ac238dec2e296fd4": {
      "model_module": "@jupyter-widgets/base",
      "model_module_version": "1.2.0",
      "model_name": "LayoutModel",
      "state": {
       "width": "95%"
      }
     },
     "37b576ad1715484e961ea0437a395fe3": {
      "model_module": "@jupyter-widgets/controls",
      "model_module_version": "1.5.0",
      "model_name": "FloatProgressModel",
      "state": {
       "layout": "IPY_MODEL_7d0c2fc3b36942c59a5e5dcf4bad58e5",
       "max": 25,
       "style": "IPY_MODEL_8f1b428ab6144111b7880ba08748b9e3",
       "value": 25
      }
     },
     "3e2e7d81083445bb8e593cc29d9cd65f": {
      "model_module": "@jupyter-widgets/base",
      "model_module_version": "1.2.0",
      "model_name": "LayoutModel",
      "state": {
       "grid_area": "widget007",
       "height": "100%",
       "margin": "0px 10px 10px 0px",
       "padding": "5px 5px 5px 5px",
       "width": "100%"
      }
     },
     "3eb0b07af1014a67bc0e5a58f0126eb4": {
      "model_module": "@jupyter-widgets/base",
      "model_module_version": "1.2.0",
      "model_name": "LayoutModel",
      "state": {
       "width": "95%"
      }
     },
     "3f090aff0490498da5da05f26833a06c": {
      "model_module": "@jupyter-widgets/controls",
      "model_module_version": "1.5.0",
      "model_name": "DescriptionStyleModel",
      "state": {
       "description_width": ""
      }
     },
     "40e63ab72d754e83a40f1bc3baff2c25": {
      "model_module": "@jupyter-widgets/controls",
      "model_module_version": "1.5.0",
      "model_name": "FloatRangeSliderModel",
      "state": {
       "_model_name": "FloatRangeSliderModel",
       "_view_name": "FloatRangeSliderView",
       "layout": "IPY_MODEL_78a4102188f94f118878550a13b916e8",
       "max": 1,
       "step": 0.001,
       "style": "IPY_MODEL_d737ec7d56ac43159edc7b3b0fac6265",
       "value": [
        0.01,
        0.99
       ]
      }
     },
     "41a3641cfd22431bb53a2d23767314a5": {
      "model_module": "jupyter-leaflet",
      "model_module_version": "^0.14.0",
      "model_name": "LeafletDrawControlModel",
      "state": {
       "_model_module_version": "^0.14.0",
       "_view_module_version": "^0.14.0",
       "data": [
        {
         "geometry": {
          "coordinates": [
           [
            [
             151.158308,
             -33.98822
            ],
            [
             151.158308,
             -33.942234
            ],
            [
             151.234863,
             -33.942234
            ],
            [
             151.234863,
             -33.98822
            ],
            [
             151.158308,
             -33.98822
            ]
           ]
          ],
          "type": "Polygon"
         },
         "properties": {
          "style": {
           "clickable": true,
           "color": "#FFFFFF",
           "fill": true,
           "fillColor": "#336699",
           "fillOpacity": 0.4,
           "opacity": 0.8,
           "stroke": true,
           "weight": 4
          }
         },
         "type": "Feature"
        }
       ],
       "options": [
        "position"
       ],
       "polygon": {},
       "polyline": {},
       "rectangle": {
        "shapeOptions": {
         "color": "#FFFFFF",
         "fillColor": "#336699",
         "fillOpacity": 0.4,
         "opacity": 0.8
        }
       }
      }
     },
     "4379adf4c8ed470083ce2b3a63206185": {
      "model_module": "@jupyter-widgets/controls",
      "model_module_version": "1.5.0",
      "model_name": "DescriptionStyleModel",
      "state": {
       "description_width": ""
      }
     },
     "476f661a76a740968abdd42f602bef97": {
      "model_module": "@jupyter-widgets/controls",
      "model_module_version": "1.5.0",
      "model_name": "DescriptionStyleModel",
      "state": {
       "description_width": ""
      }
     },
     "47dc5d4c4d5245299ab91969eab022be": {
      "model_module": "@jupyter-widgets/base",
      "model_module_version": "1.2.0",
      "model_name": "LayoutModel",
      "state": {}
     },
     "494b3e9c6c4e4c78bfdb3f35c2a4bbed": {
      "model_module": "@jupyter-widgets/controls",
      "model_module_version": "1.5.0",
      "model_name": "DropdownModel",
      "state": {
       "_options_labels": [
        "Landsat",
        "Sentinel-2"
       ],
       "index": 0,
       "layout": "IPY_MODEL_e41c9a1ed150479586e88b6dcd8a15f0",
       "style": "IPY_MODEL_962042c6860d43c6b2cbc83430bfcf6f"
      }
     },
     "4960cdd99a3d4ea093ab1b0b179912cc": {
      "model_module": "@jupyter-widgets/base",
      "model_module_version": "1.2.0",
      "model_name": "LayoutModel",
      "state": {
       "width": "85%"
      }
     },
     "4b1b281655dd42d194013a9659842199": {
      "model_module": "@jupyter-widgets/controls",
      "model_module_version": "1.5.0",
      "model_name": "CheckboxModel",
      "state": {
       "description": "Apply rolling median to produce<br>smooth, cloud-free animations",
       "disabled": false,
       "indent": false,
       "layout": "IPY_MODEL_a2f896e2da5c4a55a801423a7d118ef3",
       "style": "IPY_MODEL_d2614ff2be1d46b48ac4a27f6283a2e2",
       "value": false
      }
     },
     "4b8e2ab12baa4c40852fd191c4399a72": {
      "model_module": "@jupyter-widgets/base",
      "model_module_version": "1.2.0",
      "model_name": "LayoutModel",
      "state": {}
     },
     "4c1132a22c7d43318efe67c712eac9f2": {
      "model_module": "@jupyter-widgets/controls",
      "model_module_version": "1.5.0",
      "model_name": "DescriptionStyleModel",
      "state": {
       "description_width": ""
      }
     },
     "513cec3709b741649131e3d2837d4f24": {
      "model_module": "@jupyter-widgets/controls",
      "model_module_version": "1.5.0",
      "model_name": "HTMLModel",
      "state": {
       "layout": "IPY_MODEL_69729836e18940c3bfe8927d6002d1e9",
       "style": "IPY_MODEL_c14b086405f540b2b8bdf47c74e4a1fd",
       "value": "</br>Override maximum size limit: (use with caution; may cause memory issues/crashes)"
      }
     },
     "515c5ebe759e488bb42bf774413360ec": {
      "model_module": "@jupyter-widgets/controls",
      "model_module_version": "1.5.0",
      "model_name": "ButtonStyleModel",
      "state": {}
     },
     "51f009c1ca1e4981b385ad31a0402330": {
      "model_module": "@jupyter-widgets/controls",
      "model_module_version": "1.5.0",
      "model_name": "DescriptionStyleModel",
      "state": {
       "description_width": ""
      }
     },
     "575656142bd9445c94aabeeddd777982": {
      "model_module": "@jupyter-widgets/base",
      "model_module_version": "1.2.0",
      "model_name": "LayoutModel",
      "state": {}
     },
     "59eb4cfaf7de4bc0b5e2115e3b72f7ce": {
      "model_module": "@jupyter-widgets/controls",
      "model_module_version": "1.5.0",
      "model_name": "DropdownModel",
      "state": {
       "_options_labels": [
        "MP4",
        "GIF"
       ],
       "index": 0,
       "layout": "IPY_MODEL_b3dcc4edf2f946f495c120acd623245b",
       "style": "IPY_MODEL_d61882617baa4c5e944bfddcf8bb0795"
      }
     },
     "5a340b94f29e44fa8746205e5e1b6003": {
      "model_module": "@jupyter-widgets/controls",
      "model_module_version": "1.5.0",
      "model_name": "HTMLModel",
      "state": {
       "layout": "IPY_MODEL_5cc1c03adc2948daa20adb5f1072766f",
       "style": "IPY_MODEL_d24606de8c0c49e5b47cc019ffdf439d",
       "value": "Frame interval (milliseconds):"
      }
     },
     "5ab99c7ce8624da5afeacde8aae4b8d0": {
      "model_module": "@jupyter-widgets/controls",
      "model_module_version": "1.5.0",
      "model_name": "VBoxModel",
      "state": {
       "children": [
        "IPY_MODEL_21c63e3c867c44ac95e4a178530f18d9",
        "IPY_MODEL_28ec2e6829e34294abe6fa8c136d7482"
       ],
       "layout": "IPY_MODEL_7991d9ddbcfd45a3a5f2734e51d107ee"
      }
     },
     "5cc1c03adc2948daa20adb5f1072766f": {
      "model_module": "@jupyter-widgets/base",
      "model_module_version": "1.2.0",
      "model_name": "LayoutModel",
      "state": {}
     },
     "64260bd859cb4bb7a4d8eb43e8fb6dcc": {
      "model_module": "@jupyter-widgets/base",
      "model_module_version": "1.2.0",
      "model_name": "LayoutModel",
      "state": {}
     },
     "671c9b8b327b4aaba9da4303c0a9fda1": {
      "model_module": "@jupyter-widgets/controls",
      "model_module_version": "1.5.0",
      "model_name": "CheckboxModel",
      "state": {
       "description": "Mask out cloudy pixels",
       "disabled": false,
       "indent": false,
       "layout": "IPY_MODEL_eb62c2a44359412d9590840440209aef",
       "style": "IPY_MODEL_2190611f80094cb8bf0132eb7fad3ebc",
       "value": false
      }
     },
     "69729836e18940c3bfe8927d6002d1e9": {
      "model_module": "@jupyter-widgets/base",
      "model_module_version": "1.2.0",
      "model_name": "LayoutModel",
      "state": {}
     },
     "6d73b65d01b54dd99fbae0da9aa2cc11": {
      "model_module": "@jupyter-widgets/controls",
      "model_module_version": "1.5.0",
      "model_name": "HTMLModel",
      "state": {
       "layout": "IPY_MODEL_cfac240738964330ad36c2198d3d7e68",
       "style": "IPY_MODEL_15ac621d48c24279958aee5319422e11",
       "value": "<b>Maximum cloud cover (%):</b>"
      }
     },
     "6f0b5af8297a4919ab3de218801d2d8b": {
      "model_module": "@jupyter-widgets/base",
      "model_module_version": "1.2.0",
      "model_name": "LayoutModel",
      "state": {}
     },
     "6f82aa4e2c534fc2b7b8ac2c1ac41ff7": {
      "model_module": "@jupyter-widgets/controls",
      "model_module_version": "1.5.0",
      "model_name": "HTMLModel",
      "state": {
       "layout": "IPY_MODEL_575656142bd9445c94aabeeddd777982",
       "style": "IPY_MODEL_b3908ca8da0d4159ae03472cc1122431",
       "value": "</br>Apply power transformation to darken bright features:"
      }
     },
     "70cdf7ed3ef1457f93a5ced31e6dbbc6": {
      "model_module": "@jupyter-widgets/controls",
      "model_module_version": "1.5.0",
      "model_name": "IntTextModel",
      "state": {
       "layout": "IPY_MODEL_a9fb25b81b4244b9af786a249f5512d0",
       "step": 50,
       "style": "IPY_MODEL_f4b54bcf6a7b4e46ac20a70df4073ec0",
       "value": 100
      }
     },
     "772c15ebcf664f278881e88ba6d84cb8": {
      "model_module": "@jupyter-widgets/controls",
      "model_module_version": "1.5.0",
      "model_name": "DescriptionStyleModel",
      "state": {
       "description_width": ""
      }
     },
     "779b70be4bf94b448055aef17422a630": {
      "model_module": "@jupyter-widgets/base",
      "model_module_version": "1.2.0",
      "model_name": "LayoutModel",
      "state": {}
     },
     "789ab276a0024b629a7a70e930c7fc15": {
      "model_module": "@jupyter-widgets/controls",
      "model_module_version": "1.5.0",
      "model_name": "HBoxModel",
      "state": {
       "children": [
        "IPY_MODEL_30dd6433bcb642d18085ba218597277b"
       ],
       "layout": "IPY_MODEL_df96671fdcd24f6fa19c98353ab1c23f"
      }
     },
     "78a4102188f94f118878550a13b916e8": {
      "model_module": "@jupyter-widgets/base",
      "model_module_version": "1.2.0",
      "model_name": "LayoutModel",
      "state": {
       "width": "85%"
      }
     },
     "7991d9ddbcfd45a3a5f2734e51d107ee": {
      "model_module": "@jupyter-widgets/base",
      "model_module_version": "1.2.0",
      "model_name": "LayoutModel",
      "state": {
       "grid_area": "widget002",
       "height": "100%",
       "margin": "0px 10px 10px 0px",
       "padding": "5px 5px 5px 5px",
       "width": "100%"
      }
     },
     "7994ea1ea3374cbea70bc08344330512": {
      "model_module": "@jupyter-widgets/controls",
      "model_module_version": "1.5.0",
      "model_name": "HBoxModel",
      "state": {
       "children": [
        "IPY_MODEL_f0bb3a755aec4d9eaee14ed319267b99",
        "IPY_MODEL_37b576ad1715484e961ea0437a395fe3",
        "IPY_MODEL_081f08e34d904f03ade222d522f68d29"
       ],
       "layout": "IPY_MODEL_0d2befe6dff9407bab9dda89b378063f"
      }
     },
     "7b45a7bd2d684c5b892642a0af1e1f72": {
      "model_module": "@jupyter-widgets/controls",
      "model_module_version": "1.5.0",
      "model_name": "HTMLModel",
      "state": {
       "layout": "IPY_MODEL_91f278a157184fdca69701b1caae8597",
       "style": "IPY_MODEL_b9f1c0f6e2354661ab558d0d55bfea06",
       "value": "<b>Start date:</b>"
      }
     },
     "7d0c2fc3b36942c59a5e5dcf4bad58e5": {
      "model_module": "@jupyter-widgets/base",
      "model_module_version": "1.2.0",
      "model_name": "LayoutModel",
      "state": {}
     },
     "8051712f7a3a4ff99cf29308265bd1da": {
      "model_module": "@jupyter-widgets/base",
      "model_module_version": "1.2.0",
      "model_name": "LayoutModel",
      "state": {}
     },
     "8193a888d92e467baf6f6568031cb1b5": {
      "model_module": "@jupyter-widgets/base",
      "model_module_version": "1.2.0",
      "model_name": "LayoutModel",
      "state": {}
     },
     "82ce83fce6a44387a4027ec7de3aac3c": {
      "model_module": "@jupyter-widgets/base",
      "model_module_version": "1.2.0",
      "model_name": "LayoutModel",
      "state": {}
     },
     "83df74ce814b40b7b0c7e668caf21392": {
      "model_module": "@jupyter-widgets/controls",
      "model_module_version": "1.5.0",
      "model_name": "HTMLModel",
      "state": {
       "layout": "IPY_MODEL_6f0b5af8297a4919ab3de218801d2d8b",
       "style": "IPY_MODEL_aeaaff18f7244c59b7abb0bf4734488f",
       "value": "<b>Satellite imagery:</b>"
      }
     },
     "8448c82db4454f28ac509680bd5d7f0b": {
      "model_module": "@jupyter-widgets/base",
      "model_module_version": "1.2.0",
      "model_name": "LayoutModel",
      "state": {}
     },
     "86e92d5891b44472a032af9aa8e18fcb": {
      "model_module": "@jupyter-widgets/controls",
      "model_module_version": "1.5.0",
      "model_name": "CheckboxModel",
      "state": {
       "description": "Enable",
       "disabled": false,
       "indent": false,
       "layout": "IPY_MODEL_cff6fa9628b44cf0a97af88991c8cc01",
       "style": "IPY_MODEL_fefaf61ed11e47d79f7d4a205410f030",
       "value": false
      }
     },
     "89fe28b7c4974b95bee9353bd18f8fa8": {
      "model_module": "@jupyter-widgets/base",
      "model_module_version": "1.2.0",
      "model_name": "LayoutModel",
      "state": {
       "grid_template_areas": "\"widget001 widget001 widget001 widget001 widget001 widget001 widget001 widget001 widget002 widget002\"\n\"widget003 widget003 widget005 widget005 widget005 widget005 widget005 widget005 widget005 widget005\"\n\"widget003 widget003 widget005 widget005 widget005 widget005 widget005 widget005 widget005 widget005\"\n\"widget003 widget003 widget005 widget005 widget005 widget005 widget005 widget005 widget005 widget005\"\n\"widget003 widget003 widget005 widget005 widget005 widget005 widget005 widget005 widget005 widget005\"\n\"widget003 widget003 widget005 widget005 widget005 widget005 widget005 widget005 widget005 widget005\"\n\"widget004 widget004 widget005 widget005 widget005 widget005 widget005 widget005 widget005 widget005\"\n\"widget006 widget006 widget006 widget006 widget007 widget007 widget007 widget007 widget007 widget007\"\n\"widget006 widget006 widget006 widget006 widget007 widget007 widget007 widget007 widget007 widget007\"\n\"widget006 widget006 widget006 widget006 widget007 widget007 widget007 widget007 widget007 widget007\"\n\"widget006 widget006 widget006 widget006 widget007 widget007 widget007 widget007 widget007 widget007\"\n\"widget006 widget006 widget006 widget006 widget007 widget007 widget007 widget007 widget007 widget007\"",
       "grid_template_columns": "repeat(10, 1fr)",
       "grid_template_rows": "repeat(12, 1fr)",
       "height": "1500px",
       "width": "auto"
      }
     },
     "8a0e5e21aa6149d787ce464d40b79de2": {
      "model_module": "@jupyter-widgets/base",
      "model_module_version": "1.2.0",
      "model_name": "LayoutModel",
      "state": {
       "width": "85%"
      }
     },
     "8acae6a4304e4e318e0d4989b59d2f19": {
      "model_module": "@jupyter-widgets/controls",
      "model_module_version": "1.5.0",
      "model_name": "FloatSliderModel",
      "state": {
       "layout": "IPY_MODEL_23073075df5544898d3966292200d032",
       "max": 1,
       "min": 0.01,
       "step": 0.01,
       "style": "IPY_MODEL_2632042484484053944464e6bffb9fe7",
       "value": 1
      }
     },
     "8b24c67170024eb3be2c0ef061ece7c7": {
      "model_module": "@jupyter-widgets/base",
      "model_module_version": "1.2.0",
      "model_name": "LayoutModel",
      "state": {}
     },
     "8d7dc68f84524b8d92b4d5b175fca3c6": {
      "model_module": "jupyter-leaflet",
      "model_module_version": "^0.14.0",
      "model_name": "LeafletMapStyleModel",
      "state": {
       "_model_module_version": "^0.14.0"
      }
     },
     "8d8189d96a864f718c8203214e5ca7fc": {
      "model_module": "@jupyter-widgets/base",
      "model_module_version": "1.2.0",
      "model_name": "LayoutModel",
      "state": {
       "grid_area": "widget004",
       "height": "auto",
       "width": "auto"
      }
     },
     "8f1b428ab6144111b7880ba08748b9e3": {
      "model_module": "@jupyter-widgets/controls",
      "model_module_version": "1.5.0",
      "model_name": "ProgressStyleModel",
      "state": {
       "description_width": ""
      }
     },
     "8f49a90afd324eff8fcf07f386c0cfed": {
      "model_module": "@jupyter-widgets/base",
      "model_module_version": "1.2.0",
      "model_name": "LayoutModel",
      "state": {
       "display": "none",
       "margin": "0px",
       "padding": "0px",
       "width": "85%"
      }
     },
     "905b05ce7fa14360bc76dc7284c305bc": {
      "model_module": "@jupyter-widgets/controls",
      "model_module_version": "1.5.0",
      "model_name": "IntTextModel",
      "state": {
       "description": "</br>Rolling window (timesteps)",
       "layout": "IPY_MODEL_8f49a90afd324eff8fcf07f386c0cfed",
       "step": 1,
       "style": "IPY_MODEL_fcc5a2e17fd54c64b128e7439a24a357",
       "value": 20
      }
     },
     "917b3826955e4f59b28257ada36d5b0d": {
      "model_module": "@jupyter-widgets/base",
      "model_module_version": "1.2.0",
      "model_name": "LayoutModel",
      "state": {
       "grid_area": "widget001",
       "height": "100%",
       "margin": "0px 10px 10px 0px",
       "padding": "5px 5px 5px 5px",
       "width": "100%"
      }
     },
     "91f278a157184fdca69701b1caae8597": {
      "model_module": "@jupyter-widgets/base",
      "model_module_version": "1.2.0",
      "model_name": "LayoutModel",
      "state": {}
     },
     "959a6cd85c6b411faa025dc6d7ac9b13": {
      "model_module": "@jupyter-widgets/base",
      "model_module_version": "1.2.0",
      "model_name": "LayoutModel",
      "state": {}
     },
     "962042c6860d43c6b2cbc83430bfcf6f": {
      "model_module": "@jupyter-widgets/controls",
      "model_module_version": "1.5.0",
      "model_name": "DescriptionStyleModel",
      "state": {
       "description_width": ""
      }
     },
     "96fe3f605a304c5194881990858afbb0": {
      "model_module": "@jupyter-widgets/base",
      "model_module_version": "1.2.0",
      "model_name": "LayoutModel",
      "state": {}
     },
     "99e2e35aa6af4e0195f4d4a27cacd904": {
      "model_module": "@jupyter-widgets/base",
      "model_module_version": "1.2.0",
      "model_name": "LayoutModel",
      "state": {}
     },
     "9b34532bccbd4cefb49309fb9523da7f": {
      "model_module": "@jupyter-widgets/controls",
      "model_module_version": "1.5.0",
      "model_name": "DescriptionStyleModel",
      "state": {
       "description_width": ""
      }
     },
     "9c8af1763dec473ba30f20a5111eafa6": {
      "model_module": "@jupyter-widgets/controls",
      "model_module_version": "1.5.0",
      "model_name": "VBoxModel",
      "state": {
       "children": [
        "IPY_MODEL_5a340b94f29e44fa8746205e5e1b6003",
        "IPY_MODEL_70cdf7ed3ef1457f93a5ced31e6dbbc6",
        "IPY_MODEL_ef4bfcb7b5c045508aa1edf598eb092b",
        "IPY_MODEL_ad655793df784e76a176bc252badf695",
        "IPY_MODEL_a21d263ec11b4a33a2fc7be7caff4a02",
        "IPY_MODEL_01d74a3718df4cd3a7a8b59387d6182d",
        "IPY_MODEL_ed0990405de242a99e30cc6b448037b0",
        "IPY_MODEL_ad7268c65a8b4b9788e6dcff6b5fc441",
        "IPY_MODEL_011c526695164a498f57ed31ac86a892",
        "IPY_MODEL_671c9b8b327b4aaba9da4303c0a9fda1",
        "IPY_MODEL_9d2c0bcd64374de09704022278f78146",
        "IPY_MODEL_6f82aa4e2c534fc2b7b8ac2c1ac41ff7",
        "IPY_MODEL_8acae6a4304e4e318e0d4989b59d2f19",
        "IPY_MODEL_a0fa880081984f61a1875f519be20cd0",
        "IPY_MODEL_cd0815afc92c4df081cd003afe33ff4d",
        "IPY_MODEL_ca4b5f4966a5491b882fb7bf25b51675",
        "IPY_MODEL_b7be66548fec4cdf93dd891edb48aca1",
        "IPY_MODEL_513cec3709b741649131e3d2837d4f24",
        "IPY_MODEL_86e92d5891b44472a032af9aa8e18fcb"
       ],
       "layout": "IPY_MODEL_03055e297d374a5d996167a57801bcbe"
      }
     },
     "9cac57fba033445b852879c035050a99": {
      "model_module": "@jupyter-widgets/controls",
      "model_module_version": "1.5.0",
      "model_name": "HTMLModel",
      "state": {
       "layout": "IPY_MODEL_82ce83fce6a44387a4027ec7de3aac3c",
       "style": "IPY_MODEL_9d7321a4b0e34c6faab2ea3d8a7190a7",
       "value": "</br><b>Output file format:</b>"
      }
     },
     "9d2c0bcd64374de09704022278f78146": {
      "model_module": "@jupyter-widgets/controls",
      "model_module_version": "1.5.0",
      "model_name": "CheckboxModel",
      "state": {
       "description": "Add DEA Coastlines overlay",
       "disabled": false,
       "indent": false,
       "layout": "IPY_MODEL_070cf58bc6304264a235200e61646e9c",
       "style": "IPY_MODEL_2822d3d3ec594e909255821eda64d0e3",
       "value": false
      }
     },
     "9d7321a4b0e34c6faab2ea3d8a7190a7": {
      "model_module": "@jupyter-widgets/controls",
      "model_module_version": "1.5.0",
      "model_name": "DescriptionStyleModel",
      "state": {
       "description_width": ""
      }
     },
     "a0fa880081984f61a1875f519be20cd0": {
      "model_module": "@jupyter-widgets/controls",
      "model_module_version": "1.5.0",
      "model_name": "HTMLModel",
      "state": {
       "layout": "IPY_MODEL_96fe3f605a304c5194881990858afbb0",
       "style": "IPY_MODEL_fa0e1e506a2e4477bbbbf83703647a62",
       "value": "</br>Apply unsharp masking to sharpen imagery:"
      }
     },
     "a21d263ec11b4a33a2fc7be7caff4a02": {
      "model_module": "@jupyter-widgets/controls",
      "model_module_version": "1.5.0",
      "model_name": "HTMLModel",
      "state": {
       "layout": "IPY_MODEL_47dc5d4c4d5245299ab91969eab022be",
       "style": "IPY_MODEL_fc2ff7522b424b56b9dfa9a93576b7a7",
       "value": "</br>Width of output animation in pixels:"
      }
     },
     "a2f896e2da5c4a55a801423a7d118ef3": {
      "model_module": "@jupyter-widgets/base",
      "model_module_version": "1.2.0",
      "model_name": "LayoutModel",
      "state": {
       "width": "85%"
      }
     },
     "a41878b3f0854cddb71cb803e978da9f": {
      "model_module": "jupyter-leaflet",
      "model_module_version": "^0.14.0",
      "model_name": "LeafletLayerGroupModel",
      "state": {
       "_model_module": "jupyter-leaflet",
       "_model_module_version": "^0.14.0",
       "_view_count": null,
       "_view_module": "jupyter-leaflet",
       "_view_module_version": "^0.14.0",
       "base": false,
       "bottom": false,
       "layers": [
        "IPY_MODEL_f7be61cd00344122903bbdcdc88c483c"
       ],
       "name": "Map Overlays",
       "options": [],
       "popup": null,
       "popup_max_height": null,
       "popup_max_width": 300,
       "popup_min_width": 50
      }
     },
     "a7ae86633dd9452cbb0722b6dbee02cd": {
      "model_module": "@jupyter-widgets/base",
      "model_module_version": "1.2.0",
      "model_name": "LayoutModel",
      "state": {
       "width": "85%"
      }
     },
     "a871c7d24bd74015944e3ff38ff48189": {
      "model_module": "@jupyter-widgets/controls",
      "model_module_version": "1.5.0",
      "model_name": "AccordionModel",
      "state": {
       "_titles": {
        "0": "Advanced"
       },
       "children": [
        "IPY_MODEL_9c8af1763dec473ba30f20a5111eafa6"
       ],
       "layout": "IPY_MODEL_8448c82db4454f28ac509680bd5d7f0b",
       "selected_index": null
      }
     },
     "a9fb25b81b4244b9af786a249f5512d0": {
      "model_module": "@jupyter-widgets/base",
      "model_module_version": "1.2.0",
      "model_name": "LayoutModel",
      "state": {
       "width": "95%"
      }
     },
     "ac29ae8d63b5482bab9633ba16117ea4": {
      "model_module": "@jupyter-widgets/controls",
      "model_module_version": "1.5.0",
      "model_name": "DescriptionStyleModel",
      "state": {
       "description_width": ""
      }
     },
     "ad655793df784e76a176bc252badf695": {
      "model_module": "@jupyter-widgets/controls",
      "model_module_version": "1.5.0",
      "model_name": "FloatTextModel",
      "state": {
       "layout": "IPY_MODEL_c82e5339f40d44a0832a0f2467abf7ff",
       "step": null,
       "style": "IPY_MODEL_c7e28c60306c4f7ba2ed7fb873083b54",
       "value": 30
      }
     },
     "ad7268c65a8b4b9788e6dcff6b5fc441": {
      "model_module": "@jupyter-widgets/controls",
      "model_module_version": "1.5.0",
      "model_name": "DropdownModel",
      "state": {
       "_options_labels": [
        "None",
        "Monthly",
        "Quarterly",
        "Yearly"
       ],
       "index": 0,
       "layout": "IPY_MODEL_3eb0b07af1014a67bc0e5a58f0126eb4",
       "style": "IPY_MODEL_bd85a8f8b44f451699eb873c175487c8"
      }
     },
     "aeaaff18f7244c59b7abb0bf4734488f": {
      "model_module": "@jupyter-widgets/controls",
      "model_module_version": "1.5.0",
      "model_name": "DescriptionStyleModel",
      "state": {
       "description_width": ""
      }
     },
     "b20db851e82249f2a9d6222cc5d456e3": {
      "model_module": "@jupyter-widgets/controls",
      "model_module_version": "1.5.0",
      "model_name": "DescriptionStyleModel",
      "state": {
       "description_width": ""
      }
     },
     "b26e99bfa2164bd7b4a725040739289c": {
      "model_module": "@jupyter-widgets/base",
      "model_module_version": "1.2.0",
      "model_name": "LayoutModel",
      "state": {
       "display": "none",
       "margin": "0px",
       "padding": "0px",
       "width": "95%"
      }
     },
     "b2c9d7bc0230424baa08ddc0fbfde263": {
      "model_module": "@jupyter-widgets/controls",
      "model_module_version": "1.5.0",
      "model_name": "DescriptionStyleModel",
      "state": {
       "description_width": ""
      }
     },
     "b371b5e61fdc44b1a12e23daba11d7cf": {
      "model_module": "@jupyter-widgets/controls",
      "model_module_version": "1.5.0",
      "model_name": "DescriptionStyleModel",
      "state": {
       "description_width": ""
      }
     },
     "b3908ca8da0d4159ae03472cc1122431": {
      "model_module": "@jupyter-widgets/controls",
      "model_module_version": "1.5.0",
      "model_name": "DescriptionStyleModel",
      "state": {
       "description_width": ""
      }
     },
     "b3dcc4edf2f946f495c120acd623245b": {
      "model_module": "@jupyter-widgets/base",
      "model_module_version": "1.2.0",
      "model_name": "LayoutModel",
      "state": {
       "width": "85%"
      }
     },
     "b502c534cdd54e55a9b2cfdf93d6dc05": {
      "model_module": "jupyter-leaflet",
      "model_module_version": "^0.14.0",
      "model_name": "LeafletTileLayerModel",
      "state": {
       "_model_module_version": "^0.14.0",
       "_view_module_version": "^0.14.0",
       "base": true,
       "max_native_zoom": 18,
       "max_zoom": 19,
       "min_native_zoom": 0,
       "min_zoom": 1,
       "name": "Open Street Map",
       "options": [
        "attribution",
        "detect_retina",
        "max_native_zoom",
        "max_zoom",
        "min_native_zoom",
        "min_zoom",
        "no_wrap",
        "tile_size",
        "tms"
       ]
      }
     },
     "b6f2a444c23d4e47818ad228dd8f0be6": {
      "model_module": "@jupyter-widgets/controls",
      "model_module_version": "1.5.0",
      "model_name": "SliderStyleModel",
      "state": {
       "description_width": ""
      }
     },
     "b7be66548fec4cdf93dd891edb48aca1": {
      "model_module": "@jupyter-widgets/controls",
      "model_module_version": "1.5.0",
      "model_name": "FloatTextModel",
      "state": {
       "description": "Amount",
       "layout": "IPY_MODEL_ca10bbf3ff3c404bb3df4606bb9126b3",
       "step": 0.1,
       "style": "IPY_MODEL_b2c9d7bc0230424baa08ddc0fbfde263",
       "value": 0.3
      }
     },
     "b7efc9efcad6473f808296b8b53948d9": {
      "model_module": "@jupyter-widgets/base",
      "model_module_version": "1.2.0",
      "model_name": "LayoutModel",
      "state": {}
     },
     "b9568830142e4ca5aa63507e69acdea9": {
      "model_module": "@jupyter-widgets/controls",
      "model_module_version": "1.5.0",
      "model_name": "IntSliderModel",
      "state": {
       "layout": "IPY_MODEL_2afee2f9109d4dee8fdeec1db9c6e3c3",
       "style": "IPY_MODEL_b6f2a444c23d4e47818ad228dd8f0be6",
       "value": 20
      }
     },
     "b9901fca413947528b394e31d17bb17e": {
      "model_module": "@jupyter-widgets/base",
      "model_module_version": "1.2.0",
      "model_name": "LayoutModel",
      "state": {}
     },
     "b9f1c0f6e2354661ab558d0d55bfea06": {
      "model_module": "@jupyter-widgets/controls",
      "model_module_version": "1.5.0",
      "model_name": "DescriptionStyleModel",
      "state": {
       "description_width": ""
      }
     },
     "bd738511de5a4294b5441a6b70c95983": {
      "model_module": "@jupyter-widgets/base",
      "model_module_version": "1.2.0",
      "model_name": "LayoutModel",
      "state": {}
     },
     "bd85a8f8b44f451699eb873c175487c8": {
      "model_module": "@jupyter-widgets/controls",
      "model_module_version": "1.5.0",
      "model_name": "DescriptionStyleModel",
      "state": {
       "description_width": ""
      }
     },
     "be7fd7af2d2d4ff9aff7dbfa47fd7f3b": {
      "model_module": "@jupyter-widgets/controls",
      "model_module_version": "1.5.0",
      "model_name": "DatePickerModel",
      "state": {
       "disabled": false,
       "layout": "IPY_MODEL_8a0e5e21aa6149d787ce464d40b79de2",
       "style": "IPY_MODEL_c5fc48526fae4c94b66d40a86e9d6b1d",
       "value": {
        "date": 30,
        "month": 5,
        "year": 2019
       }
      }
     },
     "c14b086405f540b2b8bdf47c74e4a1fd": {
      "model_module": "@jupyter-widgets/controls",
      "model_module_version": "1.5.0",
      "model_name": "DescriptionStyleModel",
      "state": {
       "description_width": ""
      }
     },
     "c5fc48526fae4c94b66d40a86e9d6b1d": {
      "model_module": "@jupyter-widgets/controls",
      "model_module_version": "1.5.0",
      "model_name": "DescriptionStyleModel",
      "state": {
       "description_width": ""
      }
     },
     "c7e28c60306c4f7ba2ed7fb873083b54": {
      "model_module": "@jupyter-widgets/controls",
      "model_module_version": "1.5.0",
      "model_name": "DescriptionStyleModel",
      "state": {
       "description_width": ""
      }
     },
     "c82e5339f40d44a0832a0f2467abf7ff": {
      "model_module": "@jupyter-widgets/base",
      "model_module_version": "1.2.0",
      "model_name": "LayoutModel",
      "state": {
       "margin": "0px",
       "padding": "0px",
       "width": "95%"
      }
     },
     "ca10bbf3ff3c404bb3df4606bb9126b3": {
      "model_module": "@jupyter-widgets/base",
      "model_module_version": "1.2.0",
      "model_name": "LayoutModel",
      "state": {
       "display": "none",
       "margin": "0px",
       "padding": "0px",
       "width": "95%"
      }
     },
     "ca4b5f4966a5491b882fb7bf25b51675": {
      "model_module": "@jupyter-widgets/controls",
      "model_module_version": "1.5.0",
      "model_name": "FloatTextModel",
      "state": {
       "description": "Radius",
       "layout": "IPY_MODEL_b26e99bfa2164bd7b4a725040739289c",
       "step": 1,
       "style": "IPY_MODEL_e0a608124c44430e9562ffbbe45fbbfd",
       "value": 20
      }
     },
     "ca8254944e61445cb78f399ae67826e5": {
      "model_module": "@jupyter-widgets/controls",
      "model_module_version": "1.5.0",
      "model_name": "HTMLModel",
      "state": {
       "layout": "IPY_MODEL_b7efc9efcad6473f808296b8b53948d9",
       "style": "IPY_MODEL_e8e93a90417848ed8c8627dfd9424c04",
       "value": "<b>Colour percentile stretch:</b>"
      }
     },
     "cd0815afc92c4df081cd003afe33ff4d": {
      "model_module": "@jupyter-widgets/controls",
      "model_module_version": "1.5.0",
      "model_name": "CheckboxModel",
      "state": {
       "description": "Enable",
       "disabled": false,
       "indent": false,
       "layout": "IPY_MODEL_2ef7f2c0c2cf4c318b3f063b7cf4b26c",
       "style": "IPY_MODEL_2b183685ddb64e00893483acb97f4ffd",
       "value": false
      }
     },
     "cfac240738964330ad36c2198d3d7e68": {
      "model_module": "@jupyter-widgets/base",
      "model_module_version": "1.2.0",
      "model_name": "LayoutModel",
      "state": {}
     },
     "cff6fa9628b44cf0a97af88991c8cc01": {
      "model_module": "@jupyter-widgets/base",
      "model_module_version": "1.2.0",
      "model_name": "LayoutModel",
      "state": {
       "width": "95%"
      }
     },
     "d24606de8c0c49e5b47cc019ffdf439d": {
      "model_module": "@jupyter-widgets/controls",
      "model_module_version": "1.5.0",
      "model_name": "DescriptionStyleModel",
      "state": {
       "description_width": ""
      }
     },
     "d2614ff2be1d46b48ac4a27f6283a2e2": {
      "model_module": "@jupyter-widgets/controls",
      "model_module_version": "1.5.0",
      "model_name": "DescriptionStyleModel",
      "state": {
       "description_width": ""
      }
     },
     "d61882617baa4c5e944bfddcf8bb0795": {
      "model_module": "@jupyter-widgets/controls",
      "model_module_version": "1.5.0",
      "model_name": "DescriptionStyleModel",
      "state": {
       "description_width": ""
      }
     },
     "d63f216b9ce64b6ea41cee7fc78828ac": {
      "model_module": "jupyter-leaflet",
      "model_module_version": "^0.14.0",
      "model_name": "LeafletMapStyleModel",
      "state": {
       "_model_module_version": "^0.14.0",
       "cursor": "move"
      }
     },
     "d68cb337f0694b96ad5897a6f91a88a9": {
      "model_module": "jupyter-leaflet",
      "model_module_version": "^0.14.0",
      "model_name": "LeafletMapModel",
      "state": {
       "_model_module_version": "^0.14.0",
       "_view_module_version": "^0.14.0",
       "bottom": 1259495,
       "center": [
        -33.96,
        151.2
       ],
       "controls": [
        "IPY_MODEL_25c5934dcd3f4af28e164831195d04fd",
        "IPY_MODEL_f2131ac363dd4a06b285ae83b4e427f0",
        "IPY_MODEL_41a3641cfd22431bb53a2d23767314a5"
       ],
       "default_style": "IPY_MODEL_d75aaeb6e8e34f84aecae3857063550c",
       "dragging_style": "IPY_MODEL_d63f216b9ce64b6ea41cee7fc78828ac",
       "east": 151.28568649291995,
       "fullscreen": false,
       "interpolation": "bilinear",
       "layers": [
        "IPY_MODEL_b502c534cdd54e55a9b2cfdf93d6dc05",
        "IPY_MODEL_a41878b3f0854cddb71cb803e978da9f"
       ],
       "layout": "IPY_MODEL_03ad2abe018540c08f368ab65e665506",
       "left": 1928881,
       "modisdate": "yesterday",
       "north": -33.90732295880117,
       "options": [
        "bounce_at_zoom_limits",
        "box_zoom",
        "center",
        "close_popup_on_click",
        "double_click_zoom",
        "dragging",
        "fullscreen",
        "inertia",
        "inertia_deceleration",
        "inertia_max_speed",
        "interpolation",
        "keyboard",
        "keyboard_pan_offset",
        "keyboard_zoom_offset",
        "max_zoom",
        "min_zoom",
        "scroll_wheel_zoom",
        "tap",
        "tap_tolerance",
        "touch_zoom",
        "world_copy_jump",
        "zoom",
        "zoom_animation_threshold",
        "zoom_delta",
        "zoom_snap",
        "zoom_start"
       ],
       "right": 1929879,
       "scroll_wheel_zoom": true,
       "south": -34.01268465228467,
       "style": "IPY_MODEL_8d7dc68f84524b8d92b4d5b175fca3c6",
       "top": 1258755,
       "west": 151.11436843872073,
       "window_url": "https://app.sandbox.dea.ga.gov.au/user/robbi.bishoptaylor@ga.gov.au/lab/tree/Robbi/dea-notebooks/Real_world_examples/Generating_satellite_animations.ipynb",
       "zoom": 13
      }
     },
     "d737ec7d56ac43159edc7b3b0fac6265": {
      "model_module": "@jupyter-widgets/controls",
      "model_module_version": "1.5.0",
      "model_name": "SliderStyleModel",
      "state": {
       "description_width": ""
      }
     },
     "d75aaeb6e8e34f84aecae3857063550c": {
      "model_module": "jupyter-leaflet",
      "model_module_version": "^0.14.0",
      "model_name": "LeafletMapStyleModel",
      "state": {
       "_model_module_version": "^0.14.0"
      }
     },
     "d7d8a53518e447339f02500208518f79": {
      "model_module": "@jupyter-widgets/controls",
      "model_module_version": "1.5.0",
      "model_name": "VBoxModel",
      "state": {
       "children": [
        "IPY_MODEL_7b45a7bd2d684c5b892642a0af1e1f72",
        "IPY_MODEL_be7fd7af2d2d4ff9aff7dbfa47fd7f3b",
        "IPY_MODEL_00d45aaa38b345e48da0e693defa2d32",
        "IPY_MODEL_06817ba80bf94f17b21539a132ad6345",
        "IPY_MODEL_83df74ce814b40b7b0c7e668caf21392",
        "IPY_MODEL_494b3e9c6c4e4c78bfdb3f35c2a4bbed",
        "IPY_MODEL_f9e9e934546d41d5b2e406f7be016c3d",
        "IPY_MODEL_ebd3e2d83014433c9203be533aaf618a",
        "IPY_MODEL_ca8254944e61445cb78f399ae67826e5",
        "IPY_MODEL_40e63ab72d754e83a40f1bc3baff2c25",
        "IPY_MODEL_6d73b65d01b54dd99fbae0da9aa2cc11",
        "IPY_MODEL_b9568830142e4ca5aa63507e69acdea9",
        "IPY_MODEL_4b1b281655dd42d194013a9659842199",
        "IPY_MODEL_905b05ce7fa14360bc76dc7284c305bc",
        "IPY_MODEL_9cac57fba033445b852879c035050a99",
        "IPY_MODEL_59eb4cfaf7de4bc0b5e2115e3b72f7ce",
        "IPY_MODEL_088b0ac20b9f448d8d845c54ae0fa4da",
        "IPY_MODEL_a871c7d24bd74015944e3ff38ff48189"
       ],
       "layout": "IPY_MODEL_fb9cbabd3dce4829afd59ba5a307bf59"
      }
     },
     "df96671fdcd24f6fa19c98353ab1c23f": {
      "model_module": "@jupyter-widgets/base",
      "model_module_version": "1.2.0",
      "model_name": "LayoutModel",
      "state": {}
     },
     "e0a608124c44430e9562ffbbe45fbbfd": {
      "model_module": "@jupyter-widgets/controls",
      "model_module_version": "1.5.0",
      "model_name": "DescriptionStyleModel",
      "state": {
       "description_width": ""
      }
     },
     "e3f1dbeefe034fcbb403a6a05a306751": {
      "model_module": "@jupyter-widgets/controls",
      "model_module_version": "1.5.0",
      "model_name": "DescriptionStyleModel",
      "state": {
       "description_width": ""
      }
     },
     "e41c9a1ed150479586e88b6dcd8a15f0": {
      "model_module": "@jupyter-widgets/base",
      "model_module_version": "1.2.0",
      "model_name": "LayoutModel",
      "state": {
       "width": "85%"
      }
     },
     "e8e93a90417848ed8c8627dfd9424c04": {
      "model_module": "@jupyter-widgets/controls",
      "model_module_version": "1.5.0",
      "model_name": "DescriptionStyleModel",
      "state": {
       "description_width": ""
      }
     },
     "eb62c2a44359412d9590840440209aef": {
      "model_module": "@jupyter-widgets/base",
      "model_module_version": "1.2.0",
      "model_name": "LayoutModel",
      "state": {
       "width": "95%"
      }
     },
     "ebd3e2d83014433c9203be533aaf618a": {
      "model_module": "@jupyter-widgets/controls",
      "model_module_version": "1.5.0",
      "model_name": "DropdownModel",
      "state": {
       "_options_labels": [
        "True colour",
        "False colour"
       ],
       "index": 0,
       "layout": "IPY_MODEL_a7ae86633dd9452cbb0722b6dbee02cd",
       "style": "IPY_MODEL_51f009c1ca1e4981b385ad31a0402330"
      }
     },
     "ebff48a830dc49598ef0998d899fc796": {
      "model_module": "jupyter-leaflet",
      "model_module_version": "^0.14.0",
      "model_name": "LeafletTileLayerModel",
      "state": {
       "_model_module_version": "^0.14.0",
       "_view_module_version": "^0.14.0",
       "max_native_zoom": 18,
       "max_zoom": 19,
       "min_native_zoom": 0,
       "min_zoom": 1,
       "name": "OpenStreetMap.Mapnik",
       "options": [
        "attribution",
        "detect_retina",
        "max_native_zoom",
        "max_zoom",
        "min_native_zoom",
        "min_zoom",
        "no_wrap",
        "tile_size",
        "tms"
       ]
      }
     },
     "ed0990405de242a99e30cc6b448037b0": {
      "model_module": "@jupyter-widgets/controls",
      "model_module_version": "1.5.0",
      "model_name": "HTMLModel",
      "state": {
       "layout": "IPY_MODEL_8b24c67170024eb3be2c0ef061ece7c7",
       "style": "IPY_MODEL_4c1132a22c7d43318efe67c712eac9f2",
       "value": "</br>Apply temporal resampling:"
      }
     },
     "ef4bfcb7b5c045508aa1edf598eb092b": {
      "model_module": "@jupyter-widgets/controls",
      "model_module_version": "1.5.0",
      "model_name": "HTMLModel",
      "state": {
       "layout": "IPY_MODEL_bd738511de5a4294b5441a6b70c95983",
       "style": "IPY_MODEL_9b34532bccbd4cefb49309fb9523da7f",
       "value": "</br>Resolution (metres):"
      }
     },
     "f0ab3d78cca94110b6c76c6042a38cd9": {
      "model_module": "@jupyter-widgets/base",
      "model_module_version": "1.2.0",
      "model_name": "LayoutModel",
      "state": {}
     },
     "f0bb3a755aec4d9eaee14ed319267b99": {
      "model_module": "@jupyter-widgets/controls",
      "model_module_version": "1.5.0",
      "model_name": "HTMLModel",
      "state": {
       "layout": "IPY_MODEL_99e2e35aa6af4e0195f4d4a27cacd904",
       "style": "IPY_MODEL_e3f1dbeefe034fcbb403a6a05a306751"
      }
     },
     "f2131ac363dd4a06b285ae83b4e427f0": {
      "model_module": "jupyter-leaflet",
      "model_module_version": "^0.14.0",
      "model_name": "LeafletAttributionControlModel",
      "state": {
       "_model_module_version": "^0.14.0",
       "_view_module_version": "^0.14.0",
       "options": [
        "position",
        "prefix"
       ],
       "position": "bottomright",
       "prefix": "ipyleaflet"
      }
     },
     "f4b54bcf6a7b4e46ac20a70df4073ec0": {
      "model_module": "@jupyter-widgets/controls",
      "model_module_version": "1.5.0",
      "model_name": "DescriptionStyleModel",
      "state": {
       "description_width": ""
      }
     },
     "f7be61cd00344122903bbdcdc88c483c": {
      "model_module": "jupyter-leaflet",
      "model_module_version": "^0.14.0",
      "model_name": "LeafletTileLayerModel",
      "state": {
       "_model_module_version": "^0.14.0",
       "_view_module_version": "^0.14.0",
       "attribution": "Tiles &copy; Esri &mdash; Source: Esri, i-cubed, USDA, USGS, AEX, GeoEye, Getmapping, Aerogrid, IGN, IGP, UPR-EGP, and the GIS User Community",
       "max_native_zoom": 18,
       "max_zoom": 20,
       "min_native_zoom": 0,
       "min_zoom": 1,
       "name": "Esri.WorldImagery",
       "options": [
        "attribution",
        "detect_retina",
        "max_native_zoom",
        "max_zoom",
        "min_native_zoom",
        "min_zoom",
        "no_wrap",
        "tile_size",
        "tms"
       ],
       "url": "http://server.arcgisonline.com/ArcGIS/rest/services/World_Imagery/MapServer/tile/{z}/{y}/{x}"
      }
     },
     "f86bf688b1574ddda7cffc77a14f96a2": {
      "model_module": "@jupyter-widgets/output",
      "model_module_version": "1.0.0",
      "model_name": "OutputModel",
      "state": {
       "layout": "IPY_MODEL_ffa396985f1f412faa3d677a9373d08d",
       "outputs": [
        {
         "data": {
          "text/html": "<table style=\"border: 2px solid white;\">\n<tr>\n<td style=\"vertical-align: top; border: 0px solid white\">\n<h3 style=\"text-align: left;\">Client</h3>\n<ul style=\"text-align: left; list-style: none; margin: 0; padding: 0;\">\n  <li><b>Scheduler: </b>tcp://127.0.0.1:33453</li>\n  <li><b>Dashboard: </b><a href='/user/robbi.bishoptaylor@ga.gov.au/proxy/39747/status' target='_blank'>/user/robbi.bishoptaylor@ga.gov.au/proxy/39747/status</a></li>\n</ul>\n</td>\n<td style=\"vertical-align: top; border: 0px solid white\">\n<h3 style=\"text-align: left;\">Cluster</h3>\n<ul style=\"text-align: left; list-style:none; margin: 0; padding: 0;\">\n  <li><b>Workers: </b>1</li>\n  <li><b>Cores: </b>15</li>\n  <li><b>Memory: </b>125.85 GB</li>\n</ul>\n</td>\n</tr>\n</table>",
          "text/plain": "<Client: 'tcp://127.0.0.1:33453' processes=1 threads=15, memory=125.85 GB>"
         },
         "metadata": {},
         "output_type": "display_data"
        },
        {
         "name": "stdout",
         "output_type": "stream",
         "text": "Finding datasets\n    ga_ls5t_ard_3\n    ga_ls7e_ard_3 (ignoring SLC-off observations)\n    ga_ls8c_ard_3\nCounting good quality pixels for each time step\n"
        },
        {
         "name": "stderr",
         "output_type": "stream",
         "text": "CPLReleaseMutex: Error = 1 (Operation not permitted)\n"
        },
        {
         "name": "stdout",
         "output_type": "stream",
         "text": "Filtering to 25 out of 67 time steps with at least 80.0% good quality pixels\nReturning 25 time steps as a dask array\n\nExporting animation for Sydney, New South Wales.\nThis may take several minutes...\n\nImage successfully exported to:\nlandsat_sydneynewsouthwales_2019-06-30_2022-06-30_truecolour_30m.mp4.\n"
        }
       ]
      }
     },
     "f8a3b6381d1f483189258955adbac588": {
      "model_module": "@jupyter-widgets/controls",
      "model_module_version": "1.5.0",
      "model_name": "DescriptionStyleModel",
      "state": {
       "description_width": ""
      }
     },
     "f9e9e934546d41d5b2e406f7be016c3d": {
      "model_module": "@jupyter-widgets/controls",
      "model_module_version": "1.5.0",
      "model_name": "HTMLModel",
      "state": {
       "layout": "IPY_MODEL_2b991191325f43d9851e1f257e3e8cf8",
       "style": "IPY_MODEL_b371b5e61fdc44b1a12e23daba11d7cf",
       "value": "<b>Style:</b>"
      }
     },
     "fa0e1e506a2e4477bbbbf83703647a62": {
      "model_module": "@jupyter-widgets/controls",
      "model_module_version": "1.5.0",
      "model_name": "DescriptionStyleModel",
      "state": {
       "description_width": ""
      }
     },
     "fb9cbabd3dce4829afd59ba5a307bf59": {
      "model_module": "@jupyter-widgets/base",
      "model_module_version": "1.2.0",
      "model_name": "LayoutModel",
      "state": {
       "grid_area": "widget003",
       "height": "100%",
       "margin": "0px 10px 10px 0px",
       "padding": "5px 5px 5px 5px",
       "width": "100%"
      }
     },
     "fc2ff7522b424b56b9dfa9a93576b7a7": {
      "model_module": "@jupyter-widgets/controls",
      "model_module_version": "1.5.0",
      "model_name": "DescriptionStyleModel",
      "state": {
       "description_width": ""
      }
     },
     "fcc5a2e17fd54c64b128e7439a24a357": {
      "model_module": "@jupyter-widgets/controls",
      "model_module_version": "1.5.0",
      "model_name": "DescriptionStyleModel",
      "state": {
       "description_width": ""
      }
     },
     "fefaf61ed11e47d79f7d4a205410f030": {
      "model_module": "@jupyter-widgets/controls",
      "model_module_version": "1.5.0",
      "model_name": "DescriptionStyleModel",
      "state": {
       "description_width": ""
      }
     },
     "ffa396985f1f412faa3d677a9373d08d": {
      "model_module": "@jupyter-widgets/base",
      "model_module_version": "1.2.0",
      "model_name": "LayoutModel",
      "state": {
       "grid_area": "widget006",
       "height": "100%",
       "margin": "0px 10px 10px 0px",
       "padding": "5px 5px 5px 5px",
       "width": "100%"
      }
     }
    },
    "version_major": 2,
    "version_minor": 0
   }
  }
 },
 "nbformat": 4,
 "nbformat_minor": 4
}
