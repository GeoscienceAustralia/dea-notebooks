{
 "cells": [
  {
   "cell_type": "markdown",
   "metadata": {},
   "source": [
    "# Exporting satellite imagery animations <img align=\"right\" src=\"../Supplementary_data/dea_logo.jpg\">\n",
    "\n",
    "* [**Sign up to the DEA Sandbox**](https://docs.dea.ga.gov.au/setup/sandbox.html) to run this notebook interactively from a browser\n",
    "* **Compatibility:** Notebook currently compatible with both the `DEA Sandbox` and `NCI` environments\n",
    "* **Products used:** \n",
    "[ga_ls5t_ard_3](https://explorer.sandbox.dea.ga.gov.au/ga_ls5t_ard_3),\n",
    "[ga_ls7e_ard_3](https://explorer.sandbox.dea.ga.gov.au/ga_ls7e_ard_3),\n",
    "[ga_ls8c_ard_3](https://explorer.sandbox.dea.ga.gov.au/ga_ls8c_ard_3),\n",
    "[s2a_ard_granule](https://explorer.sandbox.dea.ga.gov.au/s2a_ard_granule),\n",
    "[s2b_ard_granule](https://explorer.sandbox.dea.ga.gov.au/s2b_ard_granule),\n",
    "[s2a_nrt_granule](https://explorer.sandbox.dea.ga.gov.au/s2a_nrt_granule),\n",
    "[s2b_nrt_granule](https://explorer.sandbox.dea.ga.gov.au/s2b_nrt_granule)\n"
   ]
  },
  {
   "cell_type": "markdown",
   "metadata": {},
   "source": [
    "## Background\n",
    "Most of the case studies in this repository focus on quantitatively analysing satellite data to obtain insights into Australia's changing environment. \n",
    "However, satellite imagery can also be used as a powerful tool for visualisation, particularly within dynamic environments that have changed significantly over the past ~30 years.\n",
    "\n",
    "Animations produced from satellite images can help explain dynamic physical processes, highlight change over time, or provide valuable context to better understand the impacts of recent environmental events such as flooding or fire. \n",
    "Satellite animations can also be processed to create images of the landscape based on invisible wavelengths of light (e.g. false colour images), allowing us to obtain richer insights into features and processes that would otherwise be invisible to the human eye.\n",
    "\n",
    "### Digital Earth Australia use case\n",
    "\n",
    "**Digital Earth Australia** provides over three decades of satellite imagery across the entire continent of Australia. Satellite data from the [NASA/USGS Landsat program](https://www.usgs.gov/land-resources/nli/landsat) allow us to produce fortnightly images of Australia's diverse natural and artificial landscapes at any time since 1986. More recently, the [Copernicus Sentinel-2 mission](https://sentinel.esa.int/web/sentinel/missions/sentinel-2) has provided even higher resolution imagery as frequently as every 5 days since 2015. \n",
    "\n",
    "\n",
    "\n"
   ]
  },
  {
   "cell_type": "markdown",
   "metadata": {},
   "source": [
    "## Description\n",
    "This notebook provides an interactive tool for selecting, loading, processing and exporting satellite imagery as a high quality animated MP4 and GIF files. \n",
    "This can be used in combination with the interactive [Digital Earth Australia Maps](maps.dea.ga.gov.au) platform to identify an image of interest, then download it using this notebook for use in other applications.\n",
    "\n",
    "The tool requires no coding experience. \n",
    "\n",
    "\n",
    "***"
   ]
  },
  {
   "cell_type": "markdown",
   "metadata": {},
   "source": [
    "## Getting started\n",
    "\n",
    "To run this analysis, run all the cells in the notebook, starting with the \"Load packages\" cell. "
   ]
  },
  {
   "cell_type": "markdown",
   "metadata": {},
   "source": [
    "### Load packages\n",
    "Import Python packages used for the analysis."
   ]
  },
  {
   "cell_type": "code",
   "execution_count": 1,
   "metadata": {},
   "outputs": [],
   "source": [
    "import sys\n",
    "sys.path.insert(1, '../Tools/')\n",
    "from dea_tools.app import animations"
   ]
  },
  {
   "cell_type": "markdown",
   "metadata": {},
   "source": [
    "## Digital Earth Australia satellite imagery animation app\n",
    "\n",
    "Run the `animations.animation_app()` cell below to launch the interactive application that is used to select the area to load and export satellite imagery animations.\n",
    "\n",
    "### Selecting parameters \n",
    "\n",
    "On the left of the map, you will see a date selector, and a list of satellite imagery you can load:\n",
    " \n",
    "|                    |                                                                                                                          | \n",
    "|--------------------|--------------------------------------------------------------------------------------------------------------------------|\n",
    "| **\"Landsat\"**        | Data from the Landsat 5, 7 and 8 satellites                                                                              |\n",
    "| **\"Sentinel-2\"**     | Data from the Sentinel-2A and 2B satellites                                                                              |\n",
    "\n",
    "Satellite imagery can be viewed and exported in two colour styles:\n",
    "\n",
    "|                    |                                                                                                                          | \n",
    "|--------------------|--------------------------------------------------------------------------------------------------------------------------|\n",
    "| **\"True colour\"**    | Creates a true colour image using the red, green and blue satellite bands                                                |\n",
    "| **\"False colour\"**   | Creates a false colour image using short-wave infrared, infrared and green satellite bands.                              |\n",
    "\n",
    "You can also modify the brightness and contrast of the output image by dragging the `Colour percentile stretch` slider, and select the output image format from `.MP4` (smaller file sizes, higher quality, fast processing speeds) to `.GIF` (larger file sizes, lower quality, slower processing).\n",
    "\n",
    "Tick the `Apply rolling median` box to produce a smooth animation that reduces the influence of cloud and noise. The larger the rolling median window, the smoother the output (at the expense of potentially removing short-lived events from the animation).\n",
    "\n",
    "\n",
    "### Selecting a location to export\n",
    "Zoom into the map to a location you wish to animate.\n",
    "Select the `Draw a rectangle` tool on the left of the map, and draw a shape around the area you are interested in. \n",
    "When you are ready, press the green `Generate animation` button on the bottom left to start the animation generation. \n",
    "\n",
    "> To keep load times reasonable, the app is restricted to image exports **smaller than 50000 hectares** in size. This limit can be overuled in the `Advanced` settings."
   ]
  },
  {
   "cell_type": "code",
   "execution_count": 2,
   "metadata": {},
   "outputs": [
    {
     "data": {
      "application/vnd.jupyter.widget-view+json": {
       "model_id": "f528c02c4c494ab4b4ce911d809aa8fe",
       "version_major": 2,
       "version_minor": 0
      },
      "text/plain": [
       "animation_app(children=(GridspecLayout(children=(HTML(value='<h3>Digital Earth Australia satellite imagery ani…"
      ]
     },
     "metadata": {},
     "output_type": "display_data"
    }
   ],
   "source": [
    "animations.animation_app()"
   ]
  },
  {
   "cell_type": "markdown",
   "metadata": {},
   "source": [
    "## Advanced settings\n",
    "\n",
    "The animation tool supports several advanced features. \n",
    "To access these, click on the `Advanced` tab in the menu to the left of the map to expand it:\n",
    "* `Frame interval`: The frame rate used to animate the satellite data. \n",
    "Values are in milliseconds - larger values will produce a longer, slower animation.\n",
    "* `Resolution`: The spatial resolution to load data (in metres). By default, the tool will automatically set the best possible resolution depending on the satellites selected (i.e. 30 m for Landsat, 10 m for Sentinel-2). \n",
    "Increasing this (e.g. to `100`) can be useful for loading large spatial extents.\n",
    "* `Width of output animation`: The width of the animation MP4 or GIF file in pixels. This can be used to produce a HD video, but won't increase the resolution of the input satellite imagery (setting a high value will produce a larger animation, but may introduce unwanted pixelation).\n",
    "* `Apply temporal resampling`: Whether to combine multiple satellite images into time period median composite images. Available options are None, monthly, quarterly and annually.\n",
    "* `Mask out cloudy pixels`: Whether to mask out cloudy pixels with `nodata` to remove them from the animation. This is best used in combination with a rolling median or temporal resampling, as otherwise it will introduce large areas of black `nodata` pixels in the animation.\n",
    "* `Add DEA Coastlines overlay`: Whether to add annual shoreline vectors from the Digital Earth Australia Coastlines product as an overlay on top of the animation.\n",
    "* `Apply power transformation`: Raises imagery by a power to reduce bright features and enhance dark features. \n",
    "This can add extra definition over areas with extremely bright features like snow, beaches or salt pans.\n",
    "* `Apply unsharp masking` Whether to apply unsharp masking to increase the sharpness of the output image. \n",
    "If activated, you can specify both the radius (in pixels) and the amount/strength of the sharpening.\n",
    "* `Override maximum size limit`: Whether to override the app's default 500 square km area limit.\n",
    "This can be used to load larger areas of satellite imagery, but should be used with caution as it can lead to memory issues or crashes.\n",
    "\n",
    "> **If running the notebook for the first time**, keep the default settings above. This will demonstrate how the analysis works and provide meaningful results. "
   ]
  },
  {
   "cell_type": "markdown",
   "metadata": {},
   "source": [
    "## Downloading exported animation\n",
    "\n",
    "The animation will be completed when `Finished exporting animation` appears above, and a preview of your animation is shown below the map.\n",
    "\n",
    "The animation file (MP4 or GIF) will be saved to the same location you are running this notebook from (e.g. typically `Real_world_examples`). \n",
    "In JupyterLab, use the file browser to locate the image file with a name in the following format: \n",
    "\n",
    "`landsat_adelaidesouthaustralia_2017-06-21_2022-06-21_truecolour_30m.mp4`\n",
    "\n",
    "If you are using the **DEA Sandbox**, you can download the animation to your PC by right clicking on the image file and selecting `Download`."
   ]
  },
  {
   "cell_type": "markdown",
   "metadata": {},
   "source": [
    "## Next steps\n",
    "When you have exported your first animation, modify some parameters and rerun the analysis by clicking `Generate animation`. \n",
    "For example, you could try:\n",
    "\n",
    "* Applying a rolling median to produce a smooth animation that highlights long-term change over time.\n",
    "* Generate an animation for new dates using the date selectors. \n",
    "* Changing the satellite data to `\"Sentinel-2\"` to export a Sentinel-2 animation instead of Landsat.\n",
    "* Selecting the `\"False colour\"` style to export a false colour view of the landscape that highlights growing vegetation and water.\n",
    "* Specify a custom resolution in the `Advanced` tab, e.g. `100`.\n",
    "* Experiment with different colour percentile stretches and the `Advanced` tab unsharp masking and power transformation functionality to alter the appearance of the resulting image.\n"
   ]
  },
  {
   "cell_type": "markdown",
   "metadata": {},
   "source": [
    "***\n",
    "\n",
    "## Additional information\n",
    "\n",
    "**License:** The code in this notebook is licensed under the [Apache License, Version 2.0](https://www.apache.org/licenses/LICENSE-2.0). \n",
    "Digital Earth Australia data is licensed under the [Creative Commons by Attribution 4.0](https://creativecommons.org/licenses/by/4.0/) license.\n",
    "\n",
    "**Contact:** If you need assistance, please post a question on the [Open Data Cube Slack channel](http://slack.opendatacube.org/) or on the [GIS Stack Exchange](https://gis.stackexchange.com/questions/ask?tags=open-data-cube) using the `open-data-cube` tag (you can view previously asked questions [here](https://gis.stackexchange.com/questions/tagged/open-data-cube)).\n",
    "If you would like to report an issue with this notebook, you can file one on [Github](https://github.com/GeoscienceAustralia/dea-notebooks).\n",
    "\n",
    "**Last modified:** July 2022\n",
    "\n",
    "**Compatible datacube version:** "
   ]
  },
  {
   "cell_type": "code",
   "execution_count": null,
   "metadata": {},
   "outputs": [],
   "source": [
    "import datacube\n",
    "print(datacube.__version__)"
   ]
  },
  {
   "cell_type": "markdown",
   "metadata": {},
   "source": [
    "## Tags\n",
    "Browse all available tags on the DEA User Guide's [Tags Index](https://docs.dea.ga.gov.au/genindex.html)"
   ]
  },
  {
   "cell_type": "raw",
   "metadata": {
    "raw_mimetype": "text/restructuredtext"
   },
   "source": [
    "**Tags**: :index:`NCI compatible`, :index:`sandbox compatible`, :index:`landsat 5`, :index:`landsat 7`, :index:`landsat 8`, :index:`sentinel 2`, :index:`animation`, :index:`real world`, :index:`plotting`, :index:`widgets`, :index:`interactive`, :index:`no_testing`"
   ]
  }
 ],
 "metadata": {
  "kernelspec": {
   "display_name": "Python 3 (ipykernel)",
   "language": "python",
   "name": "python3"
  },
  "language_info": {
   "codemirror_mode": {
    "name": "ipython",
    "version": 3
   },
   "file_extension": ".py",
   "mimetype": "text/x-python",
   "name": "python",
   "nbconvert_exporter": "python",
   "pygments_lexer": "ipython3",
   "version": "3.8.10"
  },
  "widgets": {
   "application/vnd.jupyter.widget-state+json": {
    "state": {},
    "version_major": 2,
    "version_minor": 0
   }
  }
 },
 "nbformat": 4,
 "nbformat_minor": 4
}
