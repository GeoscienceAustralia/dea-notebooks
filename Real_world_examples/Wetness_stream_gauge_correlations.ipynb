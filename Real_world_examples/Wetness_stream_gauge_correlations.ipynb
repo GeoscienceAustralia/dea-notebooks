{
 "cells": [
  {
   "cell_type": "markdown",
   "metadata": {},
   "source": [
    "# Calculating correlations between landscape wetness and stream gauges <img align=\"right\" src=\"../Supplementary_data/dea_logo.jpg\">\n",
    "\n",
    "* [**Sign up to the DEA Sandbox**](https://docs.dea.ga.gov.au/setup/sandbox.html) to run this notebook interactively from a browser\n",
    "* **Compatibility:** Notebook currently compatible with both the NCI and DEA Sandbox environments. \n",
    "* **Products used:** \n",
    "[ga_ls7e_ard_3](https://explorer.sandbox.dea.ga.gov.au/ga_ls5t_ard_3),\n",
    "[ga_ls7e_ard_3](https://explorer.sandbox.dea.ga.gov.au/ga_ls7e_ard_3),\n",
    "[ga_ls7e_ard_3](https://explorer.sandbox.dea.ga.gov.au/ga_ls8c_ard_3)\n",
    "\n",
    "## Background\n",
    "Understanding the movement of floodwater throughout the landscape is critical to managing and tracking water in our important river basins. \n",
    "Water is often injected into a region to support agriculture and the environment, but it can be difficult to understand whether this water made it to its intended location. \n",
    "Direct measurements of water inundation and flooding are not usually available. \n",
    "Developing this understanding is especially important in the dry Australian climate.\n",
    "\n",
    "### Digital Earth Australia use case\n",
    "Earth observation data could help track floodwater moving throughout the landscape. Methods like [Tasseled-Cap Wetness (TCW)](https://doi.org/10.1109/TGRS.1984.350619) and [Water Observations from Space (WOfS)](https://doi.org/10.1016/j.rse.2015.11.003) can be used to estimate coverage of water in the landscape from satellite imagery, and this could be used both to build models on water distribution as well as track historical water movements.\n",
    "\n",
    "### Description\n",
    "Tracking floodwater is hard though as satellite data are not always available and the flow of water through the landscape can be very complicated. \n",
    "It would be really nice if we could use stream gauges as a proxy for floodwater levels away from the streams they probe. \n",
    "Stream gauge data are readily available for many rivers and streams throughout the continent, and the data are well-sampled and reliable. \n",
    "This notebook estimates the linear correlation between TCW at a location and the height of nearby stream gauges. \n",
    "The hope is that by finding such correlations, stream gauge data could be used to provide insights into the spatial footprint of flood events."
   ]
  },
  {
   "cell_type": "markdown",
   "metadata": {},
   "source": [
    "## Getting started"
   ]
  },
  {
   "cell_type": "markdown",
   "metadata": {},
   "source": [
    "Set the analysis parameters and then run all cells."
   ]
  },
  {
   "cell_type": "code",
   "execution_count": 1,
   "metadata": {},
   "outputs": [
    {
     "name": "stderr",
     "output_type": "stream",
     "text": [
      "/env/lib/python3.8/site-packages/geopandas/_compat.py:106: UserWarning: The Shapely GEOS version (3.8.0-CAPI-1.13.1 ) is incompatible with the GEOS version PyGEOS was compiled with (3.9.1-CAPI-1.14.2). Conversions between both will be slow.\n",
      "  warnings.warn(\n"
     ]
    },
    {
     "data": {
      "text/html": [
       "<table style=\"border: 2px solid white;\">\n",
       "<tr>\n",
       "<td style=\"vertical-align: top; border: 0px solid white\">\n",
       "<h3 style=\"text-align: left;\">Client</h3>\n",
       "<ul style=\"text-align: left; list-style: none; margin: 0; padding: 0;\">\n",
       "  <li><b>Scheduler: </b>tcp://127.0.0.1:37927</li>\n",
       "  <li><b>Dashboard: </b><a href='/user/robbibt/proxy/8787/status' target='_blank'>/user/robbibt/proxy/8787/status</a></li>\n",
       "</ul>\n",
       "</td>\n",
       "<td style=\"vertical-align: top; border: 0px solid white\">\n",
       "<h3 style=\"text-align: left;\">Cluster</h3>\n",
       "<ul style=\"text-align: left; list-style:none; margin: 0; padding: 0;\">\n",
       "  <li><b>Workers: </b>1</li>\n",
       "  <li><b>Cores: </b>31</li>\n",
       "  <li><b>Memory: </b>254.70 GB</li>\n",
       "</ul>\n",
       "</td>\n",
       "</tr>\n",
       "</table>"
      ],
      "text/plain": [
       "<Client: 'tcp://127.0.0.1:37927' processes=1 threads=31, memory=254.70 GB>"
      ]
     },
     "metadata": {},
     "output_type": "display_data"
    }
   ],
   "source": [
    "import numpy as np\n",
    "import matplotlib.pyplot as plt\n",
    "import datacube\n",
    "from tqdm.auto import tqdm\n",
    "import geopandas as gpd\n",
    "import shapely.geometry\n",
    "import scipy.stats\n",
    "import xarray as xr\n",
    "\n",
    "import sys\n",
    "sys.path.insert(1, '../Tools/')\n",
    "from dea_tools.bom import get_stations, get_station_data\n",
    "from dea_tools.datahandling import load_ard\n",
    "from dea_tools.temporal import lag_linregress_3D\n",
    "from dea_tools.bandindices import calculate_indices\n",
    "from dea_tools.dask import create_local_dask_cluster\n",
    "\n",
    "# Create local dask cluster to improve data load time\n",
    "create_local_dask_cluster()"
   ]
  },
  {
   "cell_type": "markdown",
   "metadata": {},
   "source": [
    "### Connect to the datacube\n",
    "Activate the datacube database, which provides functionality for loading and displaying stored Earth observation data."
   ]
  },
  {
   "cell_type": "code",
   "execution_count": 2,
   "metadata": {},
   "outputs": [],
   "source": [
    "dc = datacube.Datacube(app=\"Wetness_stream_gauge_correlations\")"
   ]
  },
  {
   "cell_type": "markdown",
   "metadata": {},
   "source": [
    "### Analysis parameters\n",
    "\n",
    "Specify a region to analyse:"
   ]
  },
  {
   "cell_type": "code",
   "execution_count": 3,
   "metadata": {},
   "outputs": [],
   "source": [
    "# Murray @ Colignan\n",
    "southwest = -34.58, 142.39\n",
    "northeast = -34.55, 142.43\n",
    "\n",
    "# Murray @ Gulpa\n",
    "# southwest = -35.87, 144.96\n",
    "# northeast = -35.84, 145.03\n",
    "\n",
    "ylim, xlim = zip(southwest, northeast)"
   ]
  },
  {
   "cell_type": "markdown",
   "metadata": {},
   "source": [
    "## Querying the BOM\n",
    "\n",
    "The Bureau of Meteorology keeps stream gauge data. Get all stream gauge stations:"
   ]
  },
  {
   "cell_type": "code",
   "execution_count": 4,
   "metadata": {},
   "outputs": [],
   "source": [
    "stations = get_stations()\n",
    "assert stations, 'No stations retrieved from BOM'"
   ]
  },
  {
   "cell_type": "markdown",
   "metadata": {},
   "source": [
    "Then find all the stations in our analysis region:"
   ]
  },
  {
   "cell_type": "code",
   "execution_count": 5,
   "metadata": {},
   "outputs": [],
   "source": [
    "stations_in_range = [\n",
    "    s for s in stations\n",
    "    if s.pos and ylim[0] <= s.pos[0] <= ylim[1] and xlim[0] <= s.pos[1] <= xlim[1]\n",
    "]"
   ]
  },
  {
   "cell_type": "code",
   "execution_count": 6,
   "metadata": {},
   "outputs": [
    {
     "name": "stdout",
     "output_type": "stream",
     "text": [
      "Found 2 stations in range\n"
     ]
    }
   ],
   "source": [
    "print('Found', len(stations_in_range), f'station{\"s\" if len(stations_in_range) != 1 else \"\"} in range')"
   ]
  },
  {
   "cell_type": "markdown",
   "metadata": {},
   "source": [
    "Get stream data for each station:"
   ]
  },
  {
   "cell_type": "code",
   "execution_count": 7,
   "metadata": {},
   "outputs": [],
   "source": [
    "station_data = [get_station_data(s) for s in stations_in_range]"
   ]
  },
  {
   "cell_type": "markdown",
   "metadata": {},
   "source": [
    "Filter out stations without any data:"
   ]
  },
  {
   "cell_type": "code",
   "execution_count": 8,
   "metadata": {},
   "outputs": [
    {
     "name": "stdout",
     "output_type": "stream",
     "text": [
      "Found 2 stations with data\n"
     ]
    }
   ],
   "source": [
    "stations_in_range = [s for d, s in zip(station_data, stations_in_range) if len(d.index)]\n",
    "station_data = [d for d in station_data if len(d.index)]\n",
    "print('Found', len(stations_in_range), f'station{\"s\" if len(stations_in_range) != 1 else \"\"} with data')"
   ]
  },
  {
   "cell_type": "markdown",
   "metadata": {},
   "source": [
    "Then interpolate each gauge to daily."
   ]
  },
  {
   "cell_type": "code",
   "execution_count": 9,
   "metadata": {},
   "outputs": [],
   "source": [
    "station_data = [d.resample(\"1D\").mean() for d in station_data]"
   ]
  },
  {
   "cell_type": "markdown",
   "metadata": {},
   "source": [
    "Find the most recent first observation amongst all stations, then then crop every data series to that"
   ]
  },
  {
   "cell_type": "code",
   "execution_count": 10,
   "metadata": {},
   "outputs": [],
   "source": [
    "latest = max(d.index.min() for d in station_data)\n",
    "station_data = [d[d.index >= latest] for d in station_data]"
   ]
  },
  {
   "cell_type": "markdown",
   "metadata": {},
   "source": [
    "Now all stations have data over the same time range."
   ]
  },
  {
   "cell_type": "markdown",
   "metadata": {},
   "source": [
    "## Load Tasselled Cap Wetness data "
   ]
  },
  {
   "cell_type": "markdown",
   "metadata": {},
   "source": [
    "Tasselled Cap Wetness (TCW) is good at detecting water when mixed with vegetation, and we expect wet vegetation on floodplains.\n",
    "\n",
    "Load Landsat data so we can calculate TCW. \n",
    "Downsample to 100m: we don't need fine details if we're analysing entire floodplains, and this dramatically speeds up our analysis.\n",
    "\n",
    "> **Note**: This step may take several minutes to complete.\n",
    "To view how this the load is progressing, click the `dask` client dashboard link under the Getting Started section (e.g. `/user/username/proxy/8787/status`)"
   ]
  },
  {
   "cell_type": "code",
   "execution_count": 11,
   "metadata": {},
   "outputs": [
    {
     "name": "stdout",
     "output_type": "stream",
     "text": [
      "Finding datasets\n",
      "    ga_ls5t_ard_3\n"
     ]
    },
    {
     "name": "stderr",
     "output_type": "stream",
     "text": [
      "/home/jovyan/dev/dea-notebooks/Real_world_examples/../Tools/dea_tools/datahandling.py:237: UserWarning: Setting 'min_gooddata' percentage to > 0.0 will cause dask arrays to compute when loading pixel-quality data to calculate 'good pixel' percentage. This can slow the return of your dataset.\n",
      "  warnings.warn(\"Setting 'min_gooddata' percentage to > 0.0 \"\n"
     ]
    },
    {
     "name": "stdout",
     "output_type": "stream",
     "text": [
      "    ga_ls7e_ard_3\n",
      "    ga_ls8c_ard_3\n",
      "Counting good quality pixels for each time step\n",
      "Filtering to 442 out of 768 time steps with at least 80.0% good quality pixels\n",
      "Applying pixel quality/cloud mask\n",
      "Returning 442 time steps as a dask array\n"
     ]
    }
   ],
   "source": [
    "ls = load_ard(\n",
    "    dc,\n",
    "    products=[\"ga_ls5t_ard_3\", \"ga_ls7e_ard_3\", \"ga_ls8c_ard_3\"],\n",
    "    time=(latest, \"2020-10\"),\n",
    "    min_gooddata=0.80,\n",
    "    x=xlim,\n",
    "    y=ylim,\n",
    "    output_crs=\"EPSG:3577\",\n",
    "    resolution=(-100, 100),\n",
    "    resampling=\"bilinear\",\n",
    "    measurements=[\n",
    "        \"nbart_red\",\n",
    "        \"nbart_blue\",\n",
    "        \"nbart_green\",\n",
    "        \"nbart_nir\",\n",
    "        \"nbart_swir_1\",\n",
    "        \"nbart_swir_2\",\n",
    "    ],\n",
    "    dask_chunks={\"time\": 1, \"x\": 3000, \"y\": 3000},\n",
    ").load()"
   ]
  },
  {
   "cell_type": "markdown",
   "metadata": {},
   "source": [
    "Then calculate TCW:"
   ]
  },
  {
   "cell_type": "code",
   "execution_count": 12,
   "metadata": {},
   "outputs": [
    {
     "data": {
      "text/plain": [
       "<matplotlib.collections.QuadMesh at 0x7f7a52cb8940>"
      ]
     },
     "execution_count": 12,
     "metadata": {},
     "output_type": "execute_result"
    },
    {
     "data": {
      "image/png": "[encoded data removed]",
      "text/plain": [
       "<Figure size 432x288 with 2 Axes>"
      ]
     },
     "metadata": {
      "needs_background": "light"
     },
     "output_type": "display_data"
    }
   ],
   "source": [
    "tcw = calculate_indices(ls, \"TCW\", \"ga_ls_3\")\n",
    "tcw.TCW.isel(time=101).plot()"
   ]
  },
  {
   "cell_type": "markdown",
   "metadata": {},
   "source": [
    "### Reindex the stream gauge data to the TCW data\n",
    "\n",
    "Align the stream gauge data with the TCW data by reindexing them so their dates match."
   ]
  },
  {
   "cell_type": "code",
   "execution_count": 13,
   "metadata": {},
   "outputs": [],
   "source": [
    "station_data_tcw = []\n",
    "for i in range(len(station_data)):\n",
    "    times = np.sort(np.unique(np.concatenate([tcw.time, station_data[i].index])))\n",
    "    station_data_tcw.append(\n",
    "        station_data[i]\n",
    "        .reindex(times)\n",
    "        .interpolate(method=\"nearest\")\n",
    "        .reindex(tcw.time.values)\n",
    "    )"
   ]
  },
  {
   "cell_type": "markdown",
   "metadata": {},
   "source": [
    "Then convert this into an `xarray.DataArray`:"
   ]
  },
  {
   "cell_type": "code",
   "execution_count": 14,
   "metadata": {},
   "outputs": [],
   "source": [
    "station_data_xr = []\n",
    "for d in station_data_tcw:\n",
    "    d.index.name = 'time'\n",
    "    da = xr.DataArray(d.Value)\n",
    "    station_data_xr.append(da)"
   ]
  },
  {
   "cell_type": "markdown",
   "metadata": {},
   "source": [
    "### Normalise the TCW and stream gauge data\n",
    "\n",
    "Prepare the data for correlation estimation.\n",
    "\n",
    "Divide the stream gauges by their maximum values to limit their range from 0 to 1:"
   ]
  },
  {
   "cell_type": "code",
   "execution_count": 15,
   "metadata": {},
   "outputs": [],
   "source": [
    "station_data_xr = [d / d.max() for d in station_data_xr]"
   ]
  },
  {
   "cell_type": "markdown",
   "metadata": {},
   "source": [
    "Repeat for the TCW data:"
   ]
  },
  {
   "cell_type": "code",
   "execution_count": 16,
   "metadata": {},
   "outputs": [],
   "source": [
    "tcw_values = tcw.TCW\n",
    "tcw_values = tcw_values / abs(tcw_values).max(axis=0)"
   ]
  },
  {
   "cell_type": "markdown",
   "metadata": {},
   "source": [
    "## Regression between each time series\n",
    "\n",
    "Compute a linear regression between the stream gauge and TCW time series for each gauge and each pixel.\n"
   ]
  },
  {
   "cell_type": "code",
   "execution_count": 17,
   "metadata": {},
   "outputs": [
    {
     "name": "stderr",
     "output_type": "stream",
     "text": [
      "/env/lib/python3.8/site-packages/xarray/core/computation.py:700: RuntimeWarning: invalid value encountered in sqrt\n",
      "  result_data = func(*input_data)\n"
     ]
    }
   ],
   "source": [
    "lr = [lag_linregress_3D(d, tcw_values) for d in station_data_xr]"
   ]
  },
  {
   "cell_type": "markdown",
   "metadata": {},
   "source": [
    "Then we can plot the slopes:"
   ]
  },
  {
   "cell_type": "code",
   "execution_count": 18,
   "metadata": {},
   "outputs": [],
   "source": [
    "station_locations = gpd.GeoDataFrame(\n",
    "    geometry=[shapely.geometry.Point(s.pos[::-1]) for s in stations_in_range],\n",
    "    crs=\"EPSG:4326\",\n",
    ").to_crs(tcw.crs)"
   ]
  },
  {
   "cell_type": "code",
   "execution_count": 19,
   "metadata": {},
   "outputs": [
    {
     "data": {
      "image/png": "[encoded data removed]",
      "text/plain": [
       "<Figure size 1080x1440 with 4 Axes>"
      ]
     },
     "metadata": {
      "needs_background": "light"
     },
     "output_type": "display_data"
    }
   ],
   "source": [
    "def plot_station_correlations(values, vmin=0, vmax=1, cmap=\"viridis\"):\n",
    "    plt.figure(figsize=(15, 20))\n",
    "    for i in range(len(station_data)):\n",
    "        ax = plt.subplot(6, 3, i + 1)\n",
    "        values[i].plot(ax=ax)\n",
    "        ax.scatter(\n",
    "            station_locations.iloc[i].geometry.x,\n",
    "            station_locations.iloc[i].geometry.y,\n",
    "            edgecolor=\"k\",\n",
    "            facecolor=\"w\",\n",
    "            s=100,\n",
    "            linewidth=2,\n",
    "        )\n",
    "        ax.axis(\"off\")\n",
    "        ax.text(\n",
    "            station_locations.iloc[i].geometry.x,\n",
    "            station_locations.iloc[i].geometry.y,\n",
    "            stations_in_range[i].name,\n",
    "            c=\"white\",\n",
    "        )\n",
    "    plt.tight_layout()\n",
    "    \n",
    "plot_station_correlations([abs(l.cor) for l in lr])"
   ]
  },
  {
   "cell_type": "markdown",
   "metadata": {},
   "source": [
    "There are two stream gauges in this region. \n",
    "One is off-stream and one is on-stream. \n",
    "The on-stream gauge is clearly related to the TCW values of the eastern half of the region."
   ]
  },
  {
   "cell_type": "markdown",
   "metadata": {},
   "source": [
    "## Randomly shift the data to estimate how much correlation is coincidental\n",
    "\n",
    "Estimate how much correlation we should expect just by chance if there is no real correlation at all between the time series. \n",
    "To do this, shift the TCW time series so that there should be no correlation. \n",
    "Then repeat the above analysis. \n",
    "The amount of correlation detected is the expected coincidental correlation."
   ]
  },
  {
   "cell_type": "code",
   "execution_count": 20,
   "metadata": {},
   "outputs": [
    {
     "name": "stderr",
     "output_type": "stream",
     "text": [
      "/env/lib/python3.8/site-packages/xarray/core/computation.py:700: RuntimeWarning: invalid value encountered in sqrt\n",
      "  result_data = func(*input_data)\n"
     ]
    },
    {
     "data": {
      "image/png": "[encoded data removed]",
      "text/plain": [
       "<Figure size 1080x1440 with 4 Axes>"
      ]
     },
     "metadata": {
      "needs_background": "light"
     },
     "output_type": "display_data"
    }
   ],
   "source": [
    "lr_shifted = [lag_linregress_3D(d, tcw_values, lagx=100) for d in station_data_xr]\n",
    "plot_station_correlations([abs(l.cor) for l in lr_shifted])"
   ]
  },
  {
   "cell_type": "markdown",
   "metadata": {},
   "source": [
    "Print the random correlations for each site:"
   ]
  },
  {
   "cell_type": "code",
   "execution_count": 21,
   "metadata": {},
   "outputs": [
    {
     "name": "stdout",
     "output_type": "stream",
     "text": [
      "Random correlation:\n",
      "KULKYNE O/F MANSELLS 0.13\n",
      "MURRAY @ COLIGNAN 0.06\n"
     ]
    }
   ],
   "source": [
    "rand_corr = [abs(l.cor).mean().values for l in lr_shifted]\n",
    "\n",
    "print(\"Random correlation:\")\n",
    "for i in range(len(stations_in_range)):\n",
    "    print(stations_in_range[i].name, rand_corr[i].round(2))"
   ]
  },
  {
   "cell_type": "markdown",
   "metadata": {},
   "source": [
    "We can interpret this as a noise level and use it to mask insignificant correlations, which we will say are pixels with correlations less than 3 times the noise level:"
   ]
  },
  {
   "cell_type": "code",
   "execution_count": 22,
   "metadata": {},
   "outputs": [
    {
     "data": {
      "image/png": "[encoded data removed]",
      "text/plain": [
       "<Figure size 1080x1440 with 4 Axes>"
      ]
     },
     "metadata": {
      "needs_background": "light"
     },
     "output_type": "display_data"
    }
   ],
   "source": [
    "plot_station_correlations(\n",
    "    [xr.where(abs(l.cor) < 3 * rand_corr[i], rand_corr[i], abs(l.cor)) for l in lr]\n",
    ")"
   ]
  },
  {
   "cell_type": "markdown",
   "metadata": {},
   "source": [
    "The detected correlations for the on-stream gauge seem significant."
   ]
  },
  {
   "cell_type": "markdown",
   "metadata": {},
   "source": [
    "## Conclusion"
   ]
  },
  {
   "cell_type": "markdown",
   "metadata": {},
   "source": [
    "This is a very simple way of estimating the correlation between stream gauges and the surrounding landscape. Future work should investigate non-linear correlations, potential lag between stream gauges and landscape changes, and merging together identical or near-identical stream gauges (e.g. neighbouring gauges on the same river)."
   ]
  },
  {
   "cell_type": "markdown",
   "metadata": {},
   "source": [
    "***\n",
    "\n",
    "## Additional information\n",
    "\n",
    "**License:** The code in this notebook is licensed under the [Apache License, Version 2.0](https://www.apache.org/licenses/LICENSE-2.0). \n",
    "Digital Earth Australia data is licensed under the [Creative Commons by Attribution 4.0](https://creativecommons.org/licenses/by/4.0/) license.\n",
    "\n",
    "**Contact:** If you need assistance, please post a question on the [Open Data Cube Slack channel](http://slack.opendatacube.org/) or on the [GIS Stack Exchange](https://gis.stackexchange.com/questions/ask?tags=open-data-cube) using the `open-data-cube` tag (you can view previously asked questions [here](https://gis.stackexchange.com/questions/tagged/open-data-cube)).\n",
    "If you would like to report an issue with this notebook, you can file one on [Github](https://github.com/GeoscienceAustralia/dea-notebooks).\n",
    "\n",
    "**Last modified:** September 2021\n",
    "\n",
    "**Compatible datacube version:**"
   ]
  },
  {
   "cell_type": "code",
   "execution_count": 23,
   "metadata": {},
   "outputs": [
    {
     "data": {
      "text/plain": [
       "'1.8.5'"
      ]
     },
     "execution_count": 23,
     "metadata": {},
     "output_type": "execute_result"
    }
   ],
   "source": [
    "datacube.__version__"
   ]
  },
  {
   "cell_type": "markdown",
   "metadata": {},
   "source": [
    "## Tags"
   ]
  },
  {
   "cell_type": "raw",
   "metadata": {
    "raw_mimetype": "text/restructuredtext"
   },
   "source": [
    "**Tags**: :index:`NCI compatible`, :index:`sandbox compatible`, :index:`landsat 5`, :index:`landsat 7`, :index:`landsat 8`, :index:`load_ard`, :index:`calculate_indices`, :index:`real world`, :index:`tasseled cap`, :index:`time series`, :index:`Bureau of Meteorology`"
   ]
  }
 ],
 "metadata": {
  "kernelspec": {
   "display_name": "Python 3",
   "language": "python",
   "name": "python3"
  },
  "language_info": {
   "codemirror_mode": {
    "name": "ipython",
    "version": 3
   },
   "file_extension": ".py",
   "mimetype": "text/x-python",
   "name": "python",
   "nbconvert_exporter": "python",
   "pygments_lexer": "ipython3",
   "version": "3.8.10"
  },
  "widgets": {
   "application/vnd.jupyter.widget-state+json": {
    "state": {},
    "version_major": 2,
    "version_minor": 0
   }
  }
 },
 "nbformat": 4,
 "nbformat_minor": 4
}
