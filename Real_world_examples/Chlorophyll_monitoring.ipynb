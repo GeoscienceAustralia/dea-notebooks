{
 "cells": [
  {
   "cell_type": "markdown",
   "metadata": {},
   "source": [
    "# Monitoring chlorophyll-*a* in Australian waterbodies"
   ]
  },
  {
   "cell_type": "markdown",
   "metadata": {},
   "source": [
    "**Notebook currently compatible with the `DEA Sandbox` environment (untested on `NCI`)**"
   ]
  },
  {
   "cell_type": "markdown",
   "metadata": {},
   "source": [
    "### General advice (delete this cell before submitting for review)\n",
    "\n",
    "- When choosing a location for your analysis, **select an area that has data on both the `NCI` and `DEA Sandbox`** to allow your code to be run on both environments. \n",
    "For example, you can check this for Landsat using the [DEA Explorer](https://explorer.sandbox.dea.ga.gov.au/ga_ls5t_ard_3/1990) (use the drop-down menu to view all products). \n",
    "As of September 2019, the `DEA Sandbox` has a single year of continental Landsat data for 2015-16, and the full 1987-onward time-series for three locations (Perth WA, Brisbane QLD, and western NSW).\n",
    "- When writing in Markdown cells, start each sentence is on a **new line**.\n",
    "This makes it easy to see changes through git commits.\n",
    "- Use Australian English in markdown cells and code comments.\n",
    "- Use the [PEP8 standard](https://www.python.org/dev/peps/pep-0008/) for code. To make sure all code in the notebook is consistent, you can use the `jupyterlab_code_formatter` tool: select each code cell, then click `Edit` and then one of the `Apply X Formatter` options (`YAPF` or `Black` are recommended). This will reformat the code in the cell to a consistent style.\n",
    "- In the final notebook cell, include a set of relevant tags which are used to build the DEA User Guide's [Tag Index](https://docs.dea.ga.gov.au/genindex.html). \n",
    "Use all lower-case, seperate words with spaces, and where possible re-use existing tags.\n",
    "Ensure the tags cell below is in `Raw` format, rather than `Markdown` or `Code`.\n"
   ]
  },
  {
   "cell_type": "markdown",
   "metadata": {},
   "source": [
    "### Background\n",
    "An *optional* overview of the scientific, economic or environmental management issue or challenge being addressed by Digital Earth Australia. \n",
    "For `Beginners_Guide` or `Frequently_Used_Code` notebooks, this may include information about why the particular technique or approach is useful or required. \n",
    "If you need to cite a scientific paper or link to a website, use a persistent DOI link if possible and link in-text (e.g. [Dhu et al. 2017](https://doi.org/10.1080/20964471.2017.1402490))."
   ]
  },
  {
   "cell_type": "markdown",
   "metadata": {},
   "source": [
    "### The Problem\n",
    "A _compulsory_ description of the notebook, including a brief overview of how Digital Earth Australia helps to address the problem set out above, and a run-down of the tools/methods being demonstrated below.\n",
    "\n",
    "### Digital Earth Australia use case\n"
   ]
  },
  {
   "cell_type": "markdown",
   "metadata": {},
   "source": [
    "### Technical details\n",
    "* **Products used:** [`s2a_ard_granule`](https://explorer.sandbox.dea.ga.gov.au/s2a_ard_granule), [`s2b_ard_granule`](https://explorer.sandbox.dea.ga.gov.au/s2b_ard_granule)\n",
    "* **Analyses used:** NDCI index"
   ]
  },
  {
   "cell_type": "markdown",
   "metadata": {},
   "source": [
    "## Getting started\n",
    "**To run this analysis, run all the cells in the notebook, starting with the \"Load packages\" cell. \n",
    "When you finished the analysis, you can return to the \"Set up analysis\" cell, modify some values (e.g. choose a different location or time period to analyse) and re-run the analysis.\n",
    "There are additional instructions on modifying the notebook at the end.**"
   ]
  },
  {
   "cell_type": "markdown",
   "metadata": {},
   "source": [
    "### Load packages"
   ]
  },
  {
   "cell_type": "code",
   "execution_count": null,
   "metadata": {},
   "outputs": [],
   "source": [
    "%matplotlib inline\n",
    "\n",
    "import datacube\n",
    "import matplotlib\n",
    "import matplotlib.pyplot as plt\n",
    "import numpy as np\n",
    "import pandas as pd\n",
    "import sys\n",
    "import xarray as xr\n",
    "\n",
    "sys.path.append(\"../Scripts\")\n",
    "from dea_plotting import display_map, rgb\n",
    "from dea_datahandling import load_ard"
   ]
  },
  {
   "cell_type": "markdown",
   "metadata": {},
   "source": [
    "### Connect to the datacube\n",
    "Give your datacube app a unique name that is consistent with the purpose of the notebook."
   ]
  },
  {
   "cell_type": "code",
   "execution_count": null,
   "metadata": {},
   "outputs": [],
   "source": [
    "dc = datacube.Datacube(app=\"Chlorophyll_monitoring\")"
   ]
  },
  {
   "cell_type": "markdown",
   "metadata": {},
   "source": [
    "### Analysis parameters\n",
    "\n",
    "An *optional* section to inform the user of any parameters they'll need to configure to run the notebook:\n",
    "* `param_name_1`: Simple description (e.g. `example_value`). Advice about appropriate values to choose for this parameter.\n",
    "* `param_name_2`: Simple description (e.g. `example_value`). Advice about appropriate values to choose for this parameter.\n"
   ]
  },
  {
   "cell_type": "code",
   "execution_count": null,
   "metadata": {},
   "outputs": [],
   "source": [
    "# Menindee\n",
    "latitude = (-32.415, -32.273)\n",
    "longitude = (142.228, 142.409)\n",
    "\n",
    "# Lake Baroon\n",
    "# -26.708465, 152.870373\n",
    "# latitude = (-26.725, -26.695)\n",
    "# longitude = (152.855, 152.890)\n",
    "\n",
    "\n",
    "time = ('2017-01-01', '2018-12-01')"
   ]
  },
  {
   "cell_type": "markdown",
   "metadata": {},
   "source": [
    "## View the selected location\n",
    "The next cell will display the selected area on an interactive map.\n",
    "Feel free to zoom in and out to get a better understanding of the area you'll be analysing.\n",
    "Clicking on any point of the map will reveal the latitude and longitude coordinates of that point."
   ]
  },
  {
   "cell_type": "code",
   "execution_count": null,
   "metadata": {},
   "outputs": [],
   "source": [
    "display_map(x=longitude, y=latitude)"
   ]
  },
  {
   "cell_type": "markdown",
   "metadata": {},
   "source": [
    "## Load and view Sentinel 2 data"
   ]
  },
  {
   "cell_type": "code",
   "execution_count": null,
   "metadata": {},
   "outputs": [],
   "source": [
    "products = ['s2a_ard_granule', 's2b_ard_granule']\n",
    "\n",
    "query = {\n",
    "    \"x\": longitude,\n",
    "    \"y\": latitude,\n",
    "    \"time\": time,\n",
    "    \"measurements\": [\n",
    "        \"nbart_red_edge_1\",\n",
    "        \"nbart_red\",\n",
    "        \"nbart_green\",\n",
    "        \"nbart_blue\",\n",
    "        \"nbart_nir_1\",\n",
    "        \"nbart_swir_2\",\n",
    "        \"fmask\"\n",
    "    ],\n",
    "    \"output_crs\": \"EPSG:3577\",\n",
    "    \"resolution\": (-20, 20)\n",
    "}\n",
    "\n",
    "ds_s2 = load_ard(dc, products=products, min_gooddata=0.7, **query)"
   ]
  },
  {
   "cell_type": "code",
   "execution_count": null,
   "metadata": {},
   "outputs": [],
   "source": [
    "#ds_s2['time'] = ds_s2.indexes['time'].normalize()\n",
    "print(ds_s2)"
   ]
  },
  {
   "cell_type": "markdown",
   "metadata": {},
   "source": [
    "### Plot example timestep in true colour"
   ]
  },
  {
   "cell_type": "code",
   "execution_count": null,
   "metadata": {},
   "outputs": [],
   "source": [
    "rgb(ds_s2, index=47)"
   ]
  },
  {
   "cell_type": "markdown",
   "metadata": {},
   "source": [
    "## Compute band indices\n",
    "\n",
    "We'll need to calculate the modified normalised difference water index (MNDWI) and the normalised difference chlorophyll index (NDCI)."
   ]
  },
  {
   "cell_type": "code",
   "execution_count": null,
   "metadata": {},
   "outputs": [],
   "source": [
    "ds_s2['MNDWI'] = (ds_s2.nbart_green - ds_s2.nbart_swir_2)/(ds_s2.nbart_green + ds_s2.nbart_swir_2)\n",
    "ds_s2['NDCI'] = (ds_s2.nbart_red_edge_1 - ds_s2.nbart_red)/(ds_s2.nbart_red_edge_1 + ds_s2.nbart_red)"
   ]
  },
  {
   "cell_type": "code",
   "execution_count": null,
   "metadata": {},
   "outputs": [],
   "source": [
    "ds_s2.MNDWI.isel(time=0).plot(cmap='RdBu')\n",
    "plt.show()"
   ]
  },
  {
   "cell_type": "markdown",
   "metadata": {},
   "source": [
    "## Build summary plot"
   ]
  },
  {
   "cell_type": "code",
   "execution_count": null,
   "metadata": {},
   "outputs": [],
   "source": [
    "# Constants for calculating water body area\n",
    "pixel_length = query[\"resolution\"][1]  # in metres\n",
    "m_per_km = 1000  # conversion from metres to kilometres\n",
    "area_per_pixel = pixel_length**2 / m_per_km**2"
   ]
  },
  {
   "cell_type": "code",
   "execution_count": null,
   "metadata": {},
   "outputs": [],
   "source": [
    "# Compute the total water area \n",
    "ds_s2_waterarea = ds_s2.where(ds_s2.MNDWI > 0.0)\n",
    "\n",
    "waterarea = ds_s2_waterarea.MNDWI.count(dim=[\"x\", \"y\"]).rolling(time=3, center=True, min_periods=1).median().values * area_per_pixel\n",
    "\n",
    "average_ndci = ds_s2_waterarea.NDCI.mean(dim=[\"x\", \"y\"]).values\n",
    "\n",
    "fig, axes = plt.subplots(1, 1, figsize=(12, 4))\n",
    "cmap = plt.get_cmap('viridis')\n",
    "normal = plt.Normalize(vmin=-0.1, vmax=0.3)\n",
    "\n",
    "dates=matplotlib.dates.date2num(ds_s2_waterarea.time.values)\n",
    "axes.plot_date(x=dates, y=waterarea, color='black', linestyle='-', marker='')\n",
    "\n",
    "color_vals = np.linspace(0, 1, 100)\n",
    "\n",
    "for ii, thresh in enumerate(np.linspace(-0.1, 0.3, 100)):\n",
    "    im = axes.fill_between(dates, 0, waterarea, where=(average_ndci >= thresh), norm=normal, facecolor=cmap(color_vals[ii]), alpha=1)\n",
    "\n",
    "cax, _ = matplotlib.colorbar.make_axes(axes)\n",
    "cb2 = matplotlib.colorbar.ColorbarBase(cax, cmap=cmap, norm=normal)"
   ]
  },
  {
   "cell_type": "markdown",
   "metadata": {},
   "source": [
    "## Compare times"
   ]
  },
  {
   "cell_type": "code",
   "execution_count": null,
   "metadata": {},
   "outputs": [],
   "source": [
    "def closest_date(list_of_dates, desired_date):\n",
    "    return min(list_of_dates, key=lambda x: abs(x - desired_date))\n",
    "\n",
    "def date_index(list_of_dates, known_date):\n",
    "    return(np.where(list_of_dates == known_date)[0][0])\n",
    "\n",
    "time_1 = closest_date(ds_s2.time.values, np.datetime64('2017-01-15'))\n",
    "\n",
    "time_2 = closest_date(ds_s2.time.values, np.datetime64('2018-01-15'))\n",
    "\n",
    "time_xr = xr.DataArray([time_1, time_2], dims=['time'])\n",
    "\n",
    "ds_s2_waterarea.NDCI.sel(time=time_xr).plot.imshow('x', 'y', col='time', cmap=cmap, vmin=-0.1, vmax=0.3, col_wrap=2, robust=True, figsize=(12, 5))\n",
    "\n",
    "plt.show()"
   ]
  },
  {
   "cell_type": "code",
   "execution_count": null,
   "metadata": {},
   "outputs": [],
   "source": [
    "time_1_idx = date_index(ds_s2.time.values, time_1)\n",
    "time_2_idx = date_index(ds_s2.time.values, time_2)\n",
    "\n",
    "rgb(ds_s2, index=time_1_idx)\n",
    "rgb(ds_s2, index=time_2_idx)"
   ]
  },
  {
   "cell_type": "markdown",
   "metadata": {},
   "source": [
    "## Additional information"
   ]
  },
  {
   "cell_type": "markdown",
   "metadata": {},
   "source": [
    "**License:** The code in this notebook is licensed under the [Apache License, Version 2.0](https://www.apache.org/licenses/LICENSE-2.0). \n",
    "Digital Earth Australia data is licensed under the [Creative Commons by Attribution 4.0](https://creativecommons.org/licenses/by/4.0/) license.\n",
    "\n",
    "**Contact:** If you need assistance, please post a question on the [Open Data Cube Slack channel](http://slack.opendatacube.org/) or on the [GIS Stack Exchange](https://gis.stackexchange.com/questions/ask?tags=open-data-cube) using the `open-data-cube` tag (you can view previously asked questions [here](https://gis.stackexchange.com/questions/tagged/open-data-cube)).\n",
    "If you would like to report an issue with this notebook, you can file one on [Github](https://github.com/GeoscienceAustralia/dea-notebooks).\n",
    "\n",
    "**Last modified:** September 2019\n",
    "\n",
    "**Compatible `datacube` version:** "
   ]
  },
  {
   "cell_type": "code",
   "execution_count": null,
   "metadata": {},
   "outputs": [],
   "source": [
    "print(datacube.__version__)"
   ]
  },
  {
   "cell_type": "markdown",
   "metadata": {},
   "source": [
    "## Tags\n",
    "Browse all available tags on the DEA User Guide's [Tags Index](https://docs.dea.ga.gov.au/genindex.html)"
   ]
  },
  {
   "cell_type": "raw",
   "metadata": {
    "raw_mimetype": "text/restructuredtext"
   },
   "source": [
    "**Tags**: :index:`sandbox_compatible`, :index:`nci_compatible`, :index:`template`, :index:`dc.load`, :index:`plotting`, :index:`landsat8`, :index:`pixeldrill`"
   ]
  }
 ],
 "metadata": {
  "kernelspec": {
   "display_name": "Python 3",
   "language": "python",
   "name": "python3"
  },
  "language_info": {
   "codemirror_mode": {
    "name": "ipython",
    "version": 3
   },
   "file_extension": ".py",
   "mimetype": "text/x-python",
   "name": "python",
   "nbconvert_exporter": "python",
   "pygments_lexer": "ipython3",
   "version": "3.6.8"
  }
 },
 "nbformat": 4,
 "nbformat_minor": 4
}
