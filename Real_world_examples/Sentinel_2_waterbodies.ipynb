{
 "cells": [
  {
   "cell_type": "markdown",
   "metadata": {},
   "source": [
    "# Extracting waterbodies from Sentinel-2 <img align=\"right\" src=\"../Supplementary_data/dea_logo.jpg\">\n",
    "\n",
    "* [**Sign up to the DEA Sandbox**](https://docs.dea.ga.gov.au/setup/sandbox.html) to run this notebook interactively from a browser\n",
    "* **Compatibility:** Notebook currently compatible with both the `NCI` and `DEA Sandbox` environments\n",
    "* **Products used:** \n",
    "[s2a_ard_granule](https://explorer.sandbox.dea.ga.gov.au/s2a_ard_granule), \n",
    "[s2b_ard_granule](https://explorer.sandbox.dea.ga.gov.au/s2b_ard_granule),\n",
    "[ga_ls5t_ard_3](https://explorer.sandbox.dea.ga.gov.au/ga_ls5t_ard_3),\n",
    "[ga_ls7e_ard_3](https://explorer.sandbox.dea.ga.gov.au/ga_ls7e_ard_3),\n",
    "[ga_ls8c_ard_3](https://explorer.sandbox.dea.ga.gov.au/ga_ls8c_ard_3),\n",
    "[wofs_albers](https://explorer.sandbox.dea.ga.gov.au/wofs_albers)"
   ]
  },
  {
   "cell_type": "markdown",
   "metadata": {},
   "source": [
    "## Background\n",
    "\n",
    "[DEA Waterbodies](https://www.ga.gov.au/dea/products/dea-waterbodies) is a time-series data product that summarises the surface area of open waterbodies in Australia using [Water Observations from Space (WOfS)](https://www.ga.gov.au/dea/products/wofs). \n",
    "WOfS classifies Landsat pixels into wet and dry. Landsat data have a resolution of 25m$^2$, but it would be really nice if we could instead use Sentinel 2 data with its 10m$^2$ resolution.\n",
    "This would help distinguish neighbouring waterbodies that are blurred together in Landsat (and hence in DEA Waterbodies). \n",
    "Sentinel 2 does not yet have WOfS.\n",
    "\n",
    "One alternative to WOfS that we _could_ evaluate for Sentinel 2 is the [Modified Normalised Difference Water Idex (MNDWI)](http://doi.org/10.1080/01431160600589179), which can be calculated directly from surface reflectance. \n",
    "MNDWI greater than zero is indicative of water. It is not as accurate as WOfS, but easier to obtain."
   ]
  },
  {
   "cell_type": "markdown",
   "metadata": {},
   "source": [
    "## Description\n",
    "This notebook compares DEA Waterbodies derived from WOfS to an analogous product derived from MNDWI. \n",
    "There are two main factors we can vary: how to derive our polygons, and how to derive our time series. \n",
    "Both polygons and time series can be generated from Landsat WOfS, from Landsat MNDWI, or from Sentinel 2 MNDWI.\n",
    "We can choose to combine any polygon method and any time series method. \n",
    "This gives us a grid of possible evaluations:\n",
    "\n",
    "| | Landsat WOfS polygons | Landsat MNDWI polygons | Sentinel 2 MNDWI polygons |\n",
    "|-|---------------|------------------------|---------------------------|\n",
    "|**Landsat WOfS time series** | DEA Waterbodies | Polygon proxy quality | Good differentation for merged waterbodies |\n",
    "|**Landsat MNDWI time series** | Time series proxy quality | Total proxy quality | - |\n",
    "|**Sentinel 2 MNDWI time series** | Sentinel 2 proxy quality | - | Highest resolution |\n",
    "\n",
    "The upper left corner is the existing DEA Waterbodies. \n",
    "Polygons derived from Sentinel 2 would be great for differentiating neighbouring waterbodies, even with lower resolution surface area data. \n",
    "Landsat WOfS polygons with MNDWI time series informs us how well MNDWI approximates the surface area time series. \n",
    "Similarly, Landsat MNDWI polygons with WOfS time series informs us how well the MNDWI polygons approximate those we obtain from WOfS. \n",
    "The highest attainable resolution is deriving both parts of the product from Sentinel 2.\n",
    "\n",
    "***"
   ]
  },
  {
   "cell_type": "markdown",
   "metadata": {},
   "source": [
    "## Getting started\n",
    "\n",
    "Edit the analysis parameters and run all the cells in this notebook to analyse a region of Australia."
   ]
  },
  {
   "cell_type": "markdown",
   "metadata": {},
   "source": [
    "### Load packages\n",
    "Import Python packages that are used for the analysis."
   ]
  },
  {
   "cell_type": "code",
   "execution_count": 1,
   "metadata": {},
   "outputs": [
    {
     "name": "stderr",
     "output_type": "stream",
     "text": [
      "/env/lib/python3.8/site-packages/datacube/storage/masking.py:7: DeprecationWarning: datacube.storage.masking has moved to datacube.utils.masking\n",
      "  warnings.warn(\"datacube.storage.masking has moved to datacube.utils.masking\",\n",
      "/env/lib/python3.8/site-packages/geopandas/_compat.py:106: UserWarning: The Shapely GEOS version (3.8.0-CAPI-1.13.1 ) is incompatible with the GEOS version PyGEOS was compiled with (3.9.1-CAPI-1.14.2). Conversions between both will be slow.\n",
      "  warnings.warn(\n"
     ]
    }
   ],
   "source": [
    "import datacube\n",
    "import matplotlib.pyplot as plt\n",
    "import numpy as np\n",
    "import pandas as pd\n",
    "import xarray as xr\n",
    "from datacube.storage import masking\n",
    "import datacube.virtual as virtual\n",
    "import geopandas as gpd\n",
    "\n",
    "import sys\n",
    "sys.path.insert(1, '../Tools/')\n",
    "from dea_tools.plotting import display_map\n",
    "from dea_tools.spatial import xr_rasterize, xr_vectorize\n",
    "from dea_tools.dask import create_local_dask_cluster\n",
    "from dea_tools.datahandling import wofs_fuser\n"
   ]
  },
  {
   "cell_type": "markdown",
   "metadata": {},
   "source": [
    "### Connect to the datacube\n",
    "\n",
    "Connect to the datacube so we can access DEA data.\n",
    "The `app` parameter is a unique name for the analysis which is based on the notebook file name."
   ]
  },
  {
   "cell_type": "code",
   "execution_count": 2,
   "metadata": {},
   "outputs": [],
   "source": [
    "dc = datacube.Datacube(app=\"Sentinel_2_waterbodies\")"
   ]
  },
  {
   "cell_type": "markdown",
   "metadata": {},
   "source": [
    "### Set up Dask\n",
    "\n",
    "Set up a local Dask server for parallelism and lazy loading."
   ]
  },
  {
   "cell_type": "code",
   "execution_count": 3,
   "metadata": {},
   "outputs": [
    {
     "name": "stderr",
     "output_type": "stream",
     "text": [
      "/env/lib/python3.8/site-packages/distributed/node.py:151: UserWarning: Port 8787 is already in use.\n",
      "Perhaps you already have a cluster running?\n",
      "Hosting the HTTP server on port 41207 instead\n",
      "  warnings.warn(\n"
     ]
    },
    {
     "data": {
      "text/html": [
       "<table style=\"border: 2px solid white;\">\n",
       "<tr>\n",
       "<td style=\"vertical-align: top; border: 0px solid white\">\n",
       "<h3 style=\"text-align: left;\">Client</h3>\n",
       "<ul style=\"text-align: left; list-style: none; margin: 0; padding: 0;\">\n",
       "  <li><b>Scheduler: </b>tcp://127.0.0.1:36011</li>\n",
       "  <li><b>Dashboard: </b><a href='/user/robbibt/proxy/41207/status' target='_blank'>/user/robbibt/proxy/41207/status</a></li>\n",
       "</ul>\n",
       "</td>\n",
       "<td style=\"vertical-align: top; border: 0px solid white\">\n",
       "<h3 style=\"text-align: left;\">Cluster</h3>\n",
       "<ul style=\"text-align: left; list-style:none; margin: 0; padding: 0;\">\n",
       "  <li><b>Workers: </b>1</li>\n",
       "  <li><b>Cores: </b>31</li>\n",
       "  <li><b>Memory: </b>254.70 GB</li>\n",
       "</ul>\n",
       "</td>\n",
       "</tr>\n",
       "</table>"
      ],
      "text/plain": [
       "<Client: 'tcp://127.0.0.1:36011' processes=1 threads=31, memory=254.70 GB>"
      ]
     },
     "metadata": {},
     "output_type": "display_data"
    }
   ],
   "source": [
    "create_local_dask_cluster()"
   ]
  },
  {
   "cell_type": "markdown",
   "metadata": {},
   "source": [
    "### Analysis parameters"
   ]
  },
  {
   "cell_type": "markdown",
   "metadata": {},
   "source": [
    "Choose which area of Australia to analyse:"
   ]
  },
  {
   "cell_type": "code",
   "execution_count": 4,
   "metadata": {},
   "outputs": [],
   "source": [
    "# Lake Boort and Lake Lyndger\n",
    "xlim = (143.70141, 143.76180)\n",
    "ylim = (-36.14517, -36.09688)"
   ]
  },
  {
   "cell_type": "markdown",
   "metadata": {},
   "source": [
    "### Check the analysis area\n",
    "\n",
    "Display a map of the area we plan to analyse."
   ]
  },
  {
   "cell_type": "code",
   "execution_count": 5,
   "metadata": {},
   "outputs": [
    {
     "data": {
      "text/html": [
       "<div style=\"width:100%;\"><div style=\"position:relative;width:100%;height:0;padding-bottom:60%;\"><iframe src=\"data:text/html;charset=utf-8;base64,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\" style=\"position:absolute;width:100%;height:100%;left:0;top:0;border:none !important;\" allowfullscreen webkitallowfullscreen mozallowfullscreen></iframe></div></div>"
      ],
      "text/plain": [
       "<folium.folium.Map at 0x7f5976af79d0>"
      ]
     },
     "execution_count": 5,
     "metadata": {},
     "output_type": "execute_result"
    }
   ],
   "source": [
    "display_map(x=xlim, y=ylim)"
   ]
  },
  {
   "cell_type": "markdown",
   "metadata": {},
   "source": [
    "## Build a virtual product for the MNDWI calculation\n",
    "\n",
    "The [MNDWI](DOI:10.1080/01431160600589179) is given by\n",
    "\n",
    "$$\n",
    "    \\frac{\\mathrm{green} - \\mathrm{SWIR}}{\\mathrm{green} + \\mathrm{SWIR}}.\n",
    "$$\n",
    "\n",
    "We'll build a virtual product that calculates this without having to load all of the channels ourselves. \n",
    "A virtual product is just like a regular DEA product, except it has some transformations applied before we see it. \n",
    "We can define one with YAML that applies cloud masking and calculates the MNDWI.\n",
    "\n",
    "> **Note:** For more information about virtual products, refer to the [Virtual products notebook](../Frequently_used_code/Virtual_products.ipynb)."
   ]
  },
  {
   "cell_type": "code",
   "execution_count": 6,
   "metadata": {},
   "outputs": [],
   "source": [
    "cat_yaml = \"\"\"\n",
    "products:\n",
    "    ls8_MNDWI:\n",
    "        recipe:\n",
    "            transform: expressions\n",
    "            output:\n",
    "                MNDWI:\n",
    "                    formula: (green - swir1) / (green + swir1)\n",
    "                    dtype: float32\n",
    "            input:\n",
    "                transform: apply_mask\n",
    "                mask_measurement_name: fmask\n",
    "                input:\n",
    "                    transform: expressions\n",
    "                    output:\n",
    "                        fmask: \n",
    "                            formula: (fmask == 1) | (fmask == 5)\n",
    "                            nodata: False\n",
    "                        green: green\n",
    "                        swir1: swir1\n",
    "                    input:\n",
    "                          product: ga_ls8c_ard_3\n",
    "                          measurements: [green, swir1, fmask]\n",
    "                          output_crs: EPSG:3577\n",
    "                          resolution: [-30, 30]\n",
    "                          resampling:\n",
    "                              fmask: nearest\n",
    "                              '*': average\n",
    "    s2a_MNDWI:\n",
    "        recipe:\n",
    "            transform: expressions\n",
    "            output:\n",
    "                MNDWI:\n",
    "                    formula: (nbart_green - nbart_swir_2) / (nbart_green + nbart_swir_2)\n",
    "                    dtype: float32\n",
    "            input:\n",
    "                transform: apply_mask\n",
    "                mask_measurement_name: fmask\n",
    "                input:\n",
    "                    transform: expressions\n",
    "                    output:\n",
    "                        fmask: \n",
    "                            formula: (fmask == 1) | (fmask == 5)\n",
    "                            nodata: False\n",
    "                        nbart_green: nbart_green\n",
    "                        nbart_swir_2: nbart_swir_2\n",
    "                    input:\n",
    "                        collate:\n",
    "                            - product: s2b_ard_granule\n",
    "                              measurements: [nbart_green, nbart_swir_2, fmask]\n",
    "                              output_crs: EPSG:3577\n",
    "                              resolution: [-10, 10]\n",
    "                              resampling:\n",
    "                                  fmask: nearest\n",
    "                                  '*': average\n",
    "                            - product: s2a_ard_granule\n",
    "                              measurements: [nbart_green, nbart_swir_2, fmask]\n",
    "                              output_crs: EPSG:3577\n",
    "                              resolution: [-10, 10]\n",
    "                              resampling:\n",
    "                                  fmask: nearest\n",
    "                                  '*': average\n",
    "    wofs_masked:\n",
    "        recipe:\n",
    "            transform: expressions\n",
    "            output:\n",
    "                water:\n",
    "                    formula: water\n",
    "                    nodata: -1\n",
    "            input:\n",
    "                transform: apply_mask\n",
    "                mask_measurement_name: mask\n",
    "                input:\n",
    "                    transform: expressions\n",
    "                    output:\n",
    "                        mask: \n",
    "                            formula: (water == 0) | (water == 128)\n",
    "                            nodata: False\n",
    "                        water:\n",
    "                            formula: water\n",
    "                            nodata: -1\n",
    "                    input:\n",
    "                        product: wofs_albers\n",
    "                        measurements: [water]\n",
    "                        output_crs: EPSG:3577\n",
    "                        resolution: [-25, 25]\n",
    "\"\"\""
   ]
  },
  {
   "cell_type": "markdown",
   "metadata": {},
   "source": [
    "Then we can convert the YAML into a catalogue containing our custom virtual products, which we can use to load data just like a datacube:"
   ]
  },
  {
   "cell_type": "code",
   "execution_count": 7,
   "metadata": {},
   "outputs": [],
   "source": [
    "cat = virtual.catalog_from_yaml(cat_yaml)"
   ]
  },
  {
   "cell_type": "markdown",
   "metadata": {},
   "source": [
    "Now we can use this catalogue to load our MNDWI virtual products for Sentinel 2 and Landsat 8. \n",
    "Use dask to avoid loading everything into memory at once if the data are too big, or otherwise use `.load` here to load the data immediately.\n",
    "\n",
    "> **Note:** This step can take **several minutes to load**."
   ]
  },
  {
   "cell_type": "code",
   "execution_count": 8,
   "metadata": {},
   "outputs": [],
   "source": [
    "# Set up spatio-temporal query used to load data for both products\n",
    "query = {\n",
    "    \"x\": xlim,\n",
    "    \"y\": ylim,\n",
    "    \"time\": (\"2016-01\", \"2018-12\"),\n",
    "    \"group_by\": \"solar_day\",\n",
    "    \"dask_chunks\": {\"x\": 3000, \"y\": 3000, \"time\": 1},\n",
    "}\n",
    "\n",
    "# Load Sentinel-2 MNDWI data\n",
    "s2a_mndwi = cat[\"s2a_MNDWI\"].load(dc, **query).load()\n",
    "\n",
    "# Load Landsat 8 MNDWI data\n",
    "ls8_mndwi = cat[\"ls8_MNDWI\"].load(dc, **query).load()"
   ]
  },
  {
   "cell_type": "markdown",
   "metadata": {},
   "source": [
    "Finally, grab WOfS for the same time period as our Landsat observations. "
   ]
  },
  {
   "cell_type": "code",
   "execution_count": 9,
   "metadata": {},
   "outputs": [],
   "source": [
    "# Load WOfS data for the same spatio-temporal query\n",
    "wofs = cat[\"wofs_masked\"].load(dc, fuse_func=wofs_fuser, **query).load()\n",
    "\n",
    "# Set nodata to `NaN`, and wet pixels (value 128) to 1\n",
    "wofs = masking.mask_invalid_data(wofs)\n",
    "wofs = xr.where(wofs == 128, 1, wofs)"
   ]
  },
  {
   "cell_type": "markdown",
   "metadata": {},
   "source": [
    "## Calculate an all-time average\n",
    "\n",
    "In analogy to WOfS all-time summary, calculate an all-time average for water derived from MNDWI. First, let's threshold each MNDWI frame so we can find the water. What would be a good threshold? This may vary depending on the satellite."
   ]
  },
  {
   "cell_type": "code",
   "execution_count": 10,
   "metadata": {},
   "outputs": [],
   "source": [
    "# Find all the dates common to both datasets so we can visualise them \n",
    "# with a fair comparison.\n",
    "common_dates = sorted(\n",
    "    set(list(s2a_mndwi.time.astype(\"datetime64[D]\").values))\n",
    "    & set(list(ls8_mndwi.time.astype(\"datetime64[D]\").values))\n",
    ")"
   ]
  },
  {
   "cell_type": "code",
   "execution_count": 11,
   "metadata": {},
   "outputs": [
    {
     "data": {
      "text/plain": [
       "Text(0.5, 1.0, 'LS8 > threshold')"
      ]
     },
     "execution_count": 11,
     "metadata": {},
     "output_type": "execute_result"
    },
    {
     "data": {
      "image/png": "[encoded data removed]",
      "text/plain": [
       "<Figure size 720x360 with 4 Axes>"
      ]
     },
     "metadata": {
      "needs_background": "light"
     },
     "output_type": "display_data"
    }
   ],
   "source": [
    "# Define MNDWI water index thresholds\n",
    "s2_threshold = 0\n",
    "ls8_threshold = 0\n",
    "\n",
    "# Plot a single date for both Sentinel 2 and Landsat 8 data\n",
    "fig, axs = plt.subplots(1, 2, figsize=(10, 5))\n",
    "(s2a_mndwi.MNDWI.sel(time=common_dates[3], method=\"nearest\") >\n",
    " s2_threshold).plot.imshow(ax=axs[0])\n",
    "(ls8_mndwi.MNDWI.sel(time=common_dates[3], method=\"nearest\") >\n",
    " ls8_threshold).plot.imshow(ax=axs[1])\n",
    "axs[0].set_title(\"Sentinel 2 > threshold\")\n",
    "axs[1].set_title(\"LS8 > threshold\")"
   ]
  },
  {
   "cell_type": "markdown",
   "metadata": {},
   "source": [
    "A variable threshold like [local Otsu thresholding](https://scikit-image.org/docs/stable/api/skimage.filters.html?highlight=otsu#skimage.filters.threshold_otsu) might be useful in future."
   ]
  },
  {
   "cell_type": "markdown",
   "metadata": {},
   "source": [
    "Next, summarise these thresholded scenes and also generate a summary for WOfS by calculating how often each pixel is wet in the data.\n",
    "\n",
    "Here we make the summaries and plot them. \n",
    "We have chosen some thresholds for Sentinel 2 and Landsat 8 that seem to get the best results and plotted these as contours - in reality we'd have no manual oversight on this, so this is something of a best-case attempt. \n",
    "To match the methodology of DEA Waterbodies, we need two thresholds: one for identifying waterbodies and one for finding their maximum extent. \n",
    "In WOfS (DEA Waterbodies) these are 5% and 10% respectively."
   ]
  },
  {
   "cell_type": "code",
   "execution_count": 12,
   "metadata": {},
   "outputs": [],
   "source": [
    "# Threshold MNDWI by the MNDWI threshold defined above, then compute\n",
    "# a summary frequency layer by taking the mean along the time dimension\n",
    "s2a_mndwi_summary = (s2a_mndwi >= s2_threshold).MNDWI.mean(dim='time')\n",
    "ls8_mndwi_summary = (ls8_mndwi >= ls8_threshold).MNDWI.mean(dim='time')\n",
    "wofs_summary = wofs.water.mean(axis=0)"
   ]
  },
  {
   "cell_type": "code",
   "execution_count": 13,
   "metadata": {},
   "outputs": [],
   "source": [
    "# Summary layer thresholds\n",
    "s2a_thresholds = [0.03, 0.08]\n",
    "ls8_thresholds = [0.05, 0.10]\n",
    "wofs_thresholds = [0.05, 0.10]"
   ]
  },
  {
   "cell_type": "code",
   "execution_count": 14,
   "metadata": {},
   "outputs": [
    {
     "data": {
      "text/plain": [
       "Text(0.5, 1.0, 'WOfS water frequency')"
      ]
     },
     "execution_count": 14,
     "metadata": {},
     "output_type": "execute_result"
    },
    {
     "data": {
      "image/png": "[encoded data removed]",
      "text/plain": [
       "<Figure size 1080x360 with 6 Axes>"
      ]
     },
     "metadata": {
      "needs_background": "light"
     },
     "output_type": "display_data"
    }
   ],
   "source": [
    "fig, axs = plt.subplots(1, 3, figsize=(15, 5))\n",
    "colours = [\"black\", \"white\"]\n",
    "s2a_mndwi_summary.plot.imshow(ax=axs[0])\n",
    "ls8_mndwi_summary.plot.imshow(ax=axs[1])\n",
    "s2a_mndwi_summary.plot.contour(levels=s2a_thresholds, ax=axs[0], colors=colours)\n",
    "ls8_mndwi_summary.plot.contour(levels=ls8_thresholds, ax=axs[1], colors=colours)\n",
    "wofs_summary.plot.contour(levels=wofs_thresholds, ax=axs[2], colors=colours)\n",
    "wofs_summary.plot.imshow(ax=axs[2])\n",
    "axs[0].set_title(\"Sentinel 2 MNDWI average\")\n",
    "axs[1].set_title(\"Landsat 8 MNDWI average\")\n",
    "axs[2].set_title(\"WOfS water frequency\")"
   ]
  },
  {
   "cell_type": "markdown",
   "metadata": {},
   "source": [
    "## Generating polygons\n",
    "\n",
    "We can generate polygons by judicious choice of threshold for each of these. \n",
    "\n",
    "The existing method for DEA Waterbodies is to generate polygons at the 10% inundation frequency level as well as the 5% level. \n",
    "Then, use the 10% polygons to detect waterbodies and the 5% waterbodies to get the maximum extent. \n",
    "We will use the thresholds from above, which are different for Sentinel 2 and Landsat."
   ]
  },
  {
   "cell_type": "code",
   "execution_count": 15,
   "metadata": {},
   "outputs": [],
   "source": [
    "def mask_to_polygons(mask):\n",
    "    gdf = xr_vectorize(mask, crs=\"EPSG:3577\")\n",
    "    # Vectorised polygons will have their attribute column\n",
    "    # set based on the pixel values of the mask.\n",
    "    # This is a boolean mask, so we can just check\n",
    "    # for attribute == 1.\n",
    "    return gdf[gdf.attribute == 1]"
   ]
  },
  {
   "cell_type": "code",
   "execution_count": 16,
   "metadata": {},
   "outputs": [],
   "source": [
    "# Mask Sentinel 2 summary by both thresholds and convert to polygons\n",
    "s2a_lower_wbs = mask_to_polygons(s2a_mndwi_summary >= s2a_thresholds[0])\n",
    "s2a_upper_wbs = mask_to_polygons(s2a_mndwi_summary >= s2a_thresholds[1])"
   ]
  },
  {
   "cell_type": "code",
   "execution_count": 17,
   "metadata": {},
   "outputs": [],
   "source": [
    "# Mask Landsat 8 summary by both thresholds and convert to polygons\n",
    "ls8_lower_wbs = mask_to_polygons(ls8_mndwi_summary >= ls8_thresholds[0])\n",
    "ls8_upper_wbs = mask_to_polygons(ls8_mndwi_summary >= ls8_thresholds[1])"
   ]
  },
  {
   "cell_type": "code",
   "execution_count": 18,
   "metadata": {},
   "outputs": [],
   "source": [
    "# Mask WOfS summary by both thresholds and convert to polygons\n",
    "wofs_lower_wbs = mask_to_polygons(wofs_summary >= wofs_thresholds[0])\n",
    "wofs_upper_wbs = mask_to_polygons(wofs_summary >= wofs_thresholds[1])"
   ]
  },
  {
   "cell_type": "markdown",
   "metadata": {},
   "source": [
    "Use the lower boundaries, but only if they contain an upper polygon."
   ]
  },
  {
   "cell_type": "code",
   "execution_count": 19,
   "metadata": {},
   "outputs": [],
   "source": [
    "s2a_wbs = s2a_lower_wbs.loc[\n",
    "    gpd.sjoin(s2a_lower_wbs, s2a_upper_wbs, how=\"right\").index_left\n",
    "]\n",
    "ls8_wbs = ls8_lower_wbs.loc[\n",
    "    gpd.sjoin(ls8_lower_wbs, ls8_upper_wbs, how=\"right\").index_left\n",
    "]\n",
    "wofs_wbs = wofs_lower_wbs.loc[\n",
    "    gpd.sjoin(wofs_lower_wbs, wofs_upper_wbs, how=\"right\").index_left\n",
    "]"
   ]
  },
  {
   "cell_type": "markdown",
   "metadata": {},
   "source": [
    "Let's discard everything less than 5 Landsat pixels in area: 4500 m$^2$ for Landsat Collection 3. This matches the methodology of DEA Waterbodies."
   ]
  },
  {
   "cell_type": "code",
   "execution_count": 20,
   "metadata": {},
   "outputs": [],
   "source": [
    "# Set an area threshold in square metres\n",
    "area_threshold = 4500\n",
    "\n",
    "# Apply this threshold to remove smaller waterbodies\n",
    "s2a_wbs = s2a_wbs[s2a_wbs.area >= area_threshold]\n",
    "ls8_wbs = ls8_wbs[ls8_wbs.area >= area_threshold]\n",
    "wofs_wbs = wofs_wbs[wofs_wbs.area >= area_threshold]"
   ]
  },
  {
   "cell_type": "code",
   "execution_count": 21,
   "metadata": {},
   "outputs": [
    {
     "data": {
      "image/png": "[encoded data removed]",
      "text/plain": [
       "<Figure size 1080x360 with 3 Axes>"
      ]
     },
     "metadata": {
      "needs_background": "light"
     },
     "output_type": "display_data"
    }
   ],
   "source": [
    "# Plot the resulting waterbodies for Sentinel 2, Landsat 8 and WOfS\n",
    "fig, axs = plt.subplots(1, 3, figsize=(15, 5))\n",
    "for wbs, ax, t in zip(\n",
    "    [s2a_wbs, ls8_wbs, wofs_wbs], axs, [\"Sentinel 2 MNDWI\", \"Landsat 8 MNDWI\", \"WOfS\"]\n",
    "):\n",
    "    wbs.plot(ax=ax)\n",
    "    ax.set_title(t)"
   ]
  },
  {
   "cell_type": "markdown",
   "metadata": {},
   "source": [
    "We end up with a few polygons that are duplicated or overlapping. Combine these by doing a unary union and then split back into polygons again."
   ]
  },
  {
   "cell_type": "code",
   "execution_count": 22,
   "metadata": {},
   "outputs": [
    {
     "ename": "GEOSException",
     "evalue": "TopologyException: side location conflict at 1053350 -3994090",
     "output_type": "error",
     "traceback": [
      "\u001b[0;31m---------------------------------------------------------------------------\u001b[0m",
      "\u001b[0;31mGEOSException\u001b[0m                             Traceback (most recent call last)",
      "\u001b[0;32m<ipython-input-22-a417e658589a>\u001b[0m in \u001b[0;36m<module>\u001b[0;34m\u001b[0m\n\u001b[1;32m      1\u001b[0m s2a_wbs = gpd.GeoDataFrame(\n\u001b[0;32m----> 2\u001b[0;31m     \u001b[0mgeometry\u001b[0m\u001b[0;34m=\u001b[0m\u001b[0;34m[\u001b[0m\u001b[0mpoly\u001b[0m \u001b[0;32mfor\u001b[0m \u001b[0mpoly\u001b[0m \u001b[0;32min\u001b[0m \u001b[0ms2a_wbs\u001b[0m\u001b[0;34m.\u001b[0m\u001b[0munary_union\u001b[0m\u001b[0;34m]\u001b[0m\u001b[0;34m,\u001b[0m \u001b[0mcrs\u001b[0m\u001b[0;34m=\u001b[0m\u001b[0;34m\"EPSG:3577\"\u001b[0m\u001b[0;34m\u001b[0m\u001b[0;34m\u001b[0m\u001b[0m\n\u001b[0m\u001b[1;32m      3\u001b[0m )\n\u001b[1;32m      4\u001b[0m ls8_wbs = gpd.GeoDataFrame(\n\u001b[1;32m      5\u001b[0m     \u001b[0mgeometry\u001b[0m\u001b[0;34m=\u001b[0m\u001b[0;34m[\u001b[0m\u001b[0mpoly\u001b[0m \u001b[0;32mfor\u001b[0m \u001b[0mpoly\u001b[0m \u001b[0;32min\u001b[0m \u001b[0mls8_wbs\u001b[0m\u001b[0;34m.\u001b[0m\u001b[0munary_union\u001b[0m\u001b[0;34m]\u001b[0m\u001b[0;34m,\u001b[0m \u001b[0mcrs\u001b[0m\u001b[0;34m=\u001b[0m\u001b[0;34m\"EPSG:3577\"\u001b[0m\u001b[0;34m\u001b[0m\u001b[0;34m\u001b[0m\u001b[0m\n",
      "\u001b[0;32m/env/lib/python3.8/site-packages/geopandas/base.py\u001b[0m in \u001b[0;36munary_union\u001b[0;34m(self)\u001b[0m\n\u001b[1;32m    722\u001b[0m         \u001b[0mPOLYGON\u001b[0m \u001b[0;34m(\u001b[0m\u001b[0;34m(\u001b[0m\u001b[0;36m0\u001b[0m \u001b[0;36m0\u001b[0m\u001b[0;34m,\u001b[0m \u001b[0;36m0\u001b[0m \u001b[0;36m1\u001b[0m\u001b[0;34m,\u001b[0m \u001b[0;36m0\u001b[0m \u001b[0;36m2\u001b[0m\u001b[0;34m,\u001b[0m \u001b[0;36m2\u001b[0m \u001b[0;36m2\u001b[0m\u001b[0;34m,\u001b[0m \u001b[0;36m2\u001b[0m \u001b[0;36m0\u001b[0m\u001b[0;34m,\u001b[0m \u001b[0;36m1\u001b[0m \u001b[0;36m0\u001b[0m\u001b[0;34m,\u001b[0m \u001b[0;36m0\u001b[0m \u001b[0;36m0\u001b[0m\u001b[0;34m)\u001b[0m\u001b[0;34m)\u001b[0m\u001b[0;34m\u001b[0m\u001b[0;34m\u001b[0m\u001b[0m\n\u001b[1;32m    723\u001b[0m         \"\"\"\n\u001b[0;32m--> 724\u001b[0;31m         \u001b[0;32mreturn\u001b[0m \u001b[0mself\u001b[0m\u001b[0;34m.\u001b[0m\u001b[0mgeometry\u001b[0m\u001b[0;34m.\u001b[0m\u001b[0mvalues\u001b[0m\u001b[0;34m.\u001b[0m\u001b[0munary_union\u001b[0m\u001b[0;34m(\u001b[0m\u001b[0;34m)\u001b[0m\u001b[0;34m\u001b[0m\u001b[0;34m\u001b[0m\u001b[0m\n\u001b[0m\u001b[1;32m    725\u001b[0m \u001b[0;34m\u001b[0m\u001b[0m\n\u001b[1;32m    726\u001b[0m     \u001b[0;31m#\u001b[0m\u001b[0;34m\u001b[0m\u001b[0;34m\u001b[0m\u001b[0;34m\u001b[0m\u001b[0m\n",
      "\u001b[0;32m/env/lib/python3.8/site-packages/geopandas/array.py\u001b[0m in \u001b[0;36munary_union\u001b[0;34m(self)\u001b[0m\n\u001b[1;32m    667\u001b[0m \u001b[0;34m\u001b[0m\u001b[0m\n\u001b[1;32m    668\u001b[0m     \u001b[0;32mdef\u001b[0m \u001b[0munary_union\u001b[0m\u001b[0;34m(\u001b[0m\u001b[0mself\u001b[0m\u001b[0;34m)\u001b[0m\u001b[0;34m:\u001b[0m\u001b[0;34m\u001b[0m\u001b[0;34m\u001b[0m\u001b[0m\n\u001b[0;32m--> 669\u001b[0;31m         \u001b[0;32mreturn\u001b[0m \u001b[0mvectorized\u001b[0m\u001b[0;34m.\u001b[0m\u001b[0munary_union\u001b[0m\u001b[0;34m(\u001b[0m\u001b[0mself\u001b[0m\u001b[0;34m.\u001b[0m\u001b[0mdata\u001b[0m\u001b[0;34m)\u001b[0m\u001b[0;34m\u001b[0m\u001b[0;34m\u001b[0m\u001b[0m\n\u001b[0m\u001b[1;32m    670\u001b[0m \u001b[0;34m\u001b[0m\u001b[0m\n\u001b[1;32m    671\u001b[0m     \u001b[0;31m#\u001b[0m\u001b[0;34m\u001b[0m\u001b[0;34m\u001b[0m\u001b[0;34m\u001b[0m\u001b[0m\n",
      "\u001b[0;32m/env/lib/python3.8/site-packages/geopandas/_vectorized.py\u001b[0m in \u001b[0;36munary_union\u001b[0;34m(data)\u001b[0m\n\u001b[1;32m    873\u001b[0m \u001b[0;32mdef\u001b[0m \u001b[0munary_union\u001b[0m\u001b[0;34m(\u001b[0m\u001b[0mdata\u001b[0m\u001b[0;34m)\u001b[0m\u001b[0;34m:\u001b[0m\u001b[0;34m\u001b[0m\u001b[0;34m\u001b[0m\u001b[0m\n\u001b[1;32m    874\u001b[0m     \u001b[0;32mif\u001b[0m \u001b[0mcompat\u001b[0m\u001b[0;34m.\u001b[0m\u001b[0mUSE_PYGEOS\u001b[0m\u001b[0;34m:\u001b[0m\u001b[0;34m\u001b[0m\u001b[0;34m\u001b[0m\u001b[0m\n\u001b[0;32m--> 875\u001b[0;31m         \u001b[0;32mreturn\u001b[0m \u001b[0m_pygeos_to_shapely\u001b[0m\u001b[0;34m(\u001b[0m\u001b[0mpygeos\u001b[0m\u001b[0;34m.\u001b[0m\u001b[0munion_all\u001b[0m\u001b[0;34m(\u001b[0m\u001b[0mdata\u001b[0m\u001b[0;34m)\u001b[0m\u001b[0;34m)\u001b[0m\u001b[0;34m\u001b[0m\u001b[0;34m\u001b[0m\u001b[0m\n\u001b[0m\u001b[1;32m    876\u001b[0m     \u001b[0;32melse\u001b[0m\u001b[0;34m:\u001b[0m\u001b[0;34m\u001b[0m\u001b[0;34m\u001b[0m\u001b[0m\n\u001b[1;32m    877\u001b[0m         \u001b[0;32mreturn\u001b[0m \u001b[0mshapely\u001b[0m\u001b[0;34m.\u001b[0m\u001b[0mops\u001b[0m\u001b[0;34m.\u001b[0m\u001b[0munary_union\u001b[0m\u001b[0;34m(\u001b[0m\u001b[0mdata\u001b[0m\u001b[0;34m)\u001b[0m\u001b[0;34m\u001b[0m\u001b[0;34m\u001b[0m\u001b[0m\n",
      "\u001b[0;32m/env/lib/python3.8/site-packages/pygeos/decorators.py\u001b[0m in \u001b[0;36mwrapped\u001b[0;34m(*args, **kwargs)\u001b[0m\n\u001b[1;32m     68\u001b[0m             \u001b[0;32mfor\u001b[0m \u001b[0marr\u001b[0m \u001b[0;32min\u001b[0m \u001b[0marray_args\u001b[0m\u001b[0;34m:\u001b[0m\u001b[0;34m\u001b[0m\u001b[0;34m\u001b[0m\u001b[0m\n\u001b[1;32m     69\u001b[0m                 \u001b[0marr\u001b[0m\u001b[0;34m.\u001b[0m\u001b[0mflags\u001b[0m\u001b[0;34m.\u001b[0m\u001b[0mwriteable\u001b[0m \u001b[0;34m=\u001b[0m \u001b[0;32mFalse\u001b[0m\u001b[0;34m\u001b[0m\u001b[0;34m\u001b[0m\u001b[0m\n\u001b[0;32m---> 70\u001b[0;31m             \u001b[0;32mreturn\u001b[0m \u001b[0mfunc\u001b[0m\u001b[0;34m(\u001b[0m\u001b[0;34m*\u001b[0m\u001b[0margs\u001b[0m\u001b[0;34m,\u001b[0m \u001b[0;34m**\u001b[0m\u001b[0mkwargs\u001b[0m\u001b[0;34m)\u001b[0m\u001b[0;34m\u001b[0m\u001b[0;34m\u001b[0m\u001b[0m\n\u001b[0m\u001b[1;32m     71\u001b[0m         \u001b[0;32mfinally\u001b[0m\u001b[0;34m:\u001b[0m\u001b[0;34m\u001b[0m\u001b[0;34m\u001b[0m\u001b[0m\n\u001b[1;32m     72\u001b[0m             \u001b[0;32mfor\u001b[0m \u001b[0marr\u001b[0m\u001b[0;34m,\u001b[0m \u001b[0mold_flag\u001b[0m \u001b[0;32min\u001b[0m \u001b[0mzip\u001b[0m\u001b[0;34m(\u001b[0m\u001b[0marray_args\u001b[0m\u001b[0;34m,\u001b[0m \u001b[0mold_flags\u001b[0m\u001b[0;34m)\u001b[0m\u001b[0;34m:\u001b[0m\u001b[0;34m\u001b[0m\u001b[0;34m\u001b[0m\u001b[0m\n",
      "\u001b[0;32m/env/lib/python3.8/site-packages/pygeos/set_operations.py\u001b[0m in \u001b[0;36munion_all\u001b[0;34m(geometries, grid_size, axis, **kwargs)\u001b[0m\n\u001b[1;32m    386\u001b[0m \u001b[0;34m\u001b[0m\u001b[0m\n\u001b[1;32m    387\u001b[0m     \u001b[0;32melse\u001b[0m\u001b[0;34m:\u001b[0m\u001b[0;34m\u001b[0m\u001b[0;34m\u001b[0m\u001b[0m\n\u001b[0;32m--> 388\u001b[0;31m         \u001b[0mresult\u001b[0m \u001b[0;34m=\u001b[0m \u001b[0mlib\u001b[0m\u001b[0;34m.\u001b[0m\u001b[0munary_union\u001b[0m\u001b[0;34m(\u001b[0m\u001b[0mcollections\u001b[0m\u001b[0;34m,\u001b[0m \u001b[0;34m**\u001b[0m\u001b[0mkwargs\u001b[0m\u001b[0;34m)\u001b[0m\u001b[0;34m\u001b[0m\u001b[0;34m\u001b[0m\u001b[0m\n\u001b[0m\u001b[1;32m    389\u001b[0m     \u001b[0;31m# for consistency with other _all functions, we replace GEOMETRY COLLECTION EMPTY\u001b[0m\u001b[0;34m\u001b[0m\u001b[0;34m\u001b[0m\u001b[0;34m\u001b[0m\u001b[0m\n\u001b[1;32m    390\u001b[0m     \u001b[0;31m# if the original collection had no geometries\u001b[0m\u001b[0;34m\u001b[0m\u001b[0;34m\u001b[0m\u001b[0;34m\u001b[0m\u001b[0m\n",
      "\u001b[0;31mGEOSException\u001b[0m: TopologyException: side location conflict at 1053350 -3994090"
     ]
    }
   ],
   "source": [
    "s2a_wbs = gpd.GeoDataFrame(\n",
    "    geometry=[poly for poly in s2a_wbs.unary_union], crs=\"EPSG:3577\"\n",
    ")\n",
    "ls8_wbs = gpd.GeoDataFrame(\n",
    "    geometry=[poly for poly in ls8_wbs.unary_union], crs=\"EPSG:3577\"\n",
    ")\n",
    "wofs_wbs = gpd.GeoDataFrame(\n",
    "    geometry=[poly for poly in wofs_wbs.unary_union], crs=\"EPSG:3577\"\n",
    ")"
   ]
  },
  {
   "cell_type": "markdown",
   "metadata": {},
   "source": [
    "Finally give everything a new ID. We can use this later to generate our masks."
   ]
  },
  {
   "cell_type": "code",
   "execution_count": null,
   "metadata": {},
   "outputs": [],
   "source": [
    "s2a_wbs[\"ID\"] = np.arange(1, len(s2a_wbs) + 1).astype(int)\n",
    "ls8_wbs[\"ID\"] = np.arange(1, len(ls8_wbs) + 1).astype(int)\n",
    "wofs_wbs[\"ID\"] = np.arange(1, len(wofs_wbs) + 1).astype(int)"
   ]
  },
  {
   "cell_type": "markdown",
   "metadata": {},
   "source": [
    "Set the ID to be the index so we can query by it. Don't drop the ID so we can use it as a column for later rasterising."
   ]
  },
  {
   "cell_type": "code",
   "execution_count": null,
   "metadata": {},
   "outputs": [],
   "source": [
    "s2a_wbs.set_index(\"ID\", drop=False, inplace=True)\n",
    "ls8_wbs.set_index(\"ID\", drop=False, inplace=True)\n",
    "wofs_wbs.set_index(\"ID\", drop=False, inplace=True)"
   ]
  },
  {
   "cell_type": "markdown",
   "metadata": {},
   "source": [
    "## Surface area time series comparison\n",
    "\n",
    "Let's choose a waterbody and compare time series derived from different methods."
   ]
  },
  {
   "cell_type": "markdown",
   "metadata": {},
   "source": [
    "Select a polygon in the Sentinel 2 waterbodies:"
   ]
  },
  {
   "cell_type": "code",
   "execution_count": null,
   "metadata": {},
   "outputs": [],
   "source": [
    "s2a_wb = s2a_wbs.iloc[0]"
   ]
  },
  {
   "cell_type": "code",
   "execution_count": null,
   "metadata": {},
   "outputs": [],
   "source": [
    "s2a_wb.geometry"
   ]
  },
  {
   "cell_type": "markdown",
   "metadata": {},
   "source": [
    "Then find its equivalent in Landsat MNDWI and WOfS polygons by finding the polygon with the largest intersection."
   ]
  },
  {
   "cell_type": "code",
   "execution_count": null,
   "metadata": {},
   "outputs": [],
   "source": [
    "ls8_wb = ls8_wbs.iloc[ls8_wbs.intersection(s2a_wb.geometry).area.argmax()]\n",
    "wofs_wb = wofs_wbs.iloc[wofs_wbs.intersection(s2a_wb.geometry).area.argmax()]"
   ]
  },
  {
   "cell_type": "code",
   "execution_count": null,
   "metadata": {},
   "outputs": [],
   "source": [
    "ls8_wb.geometry"
   ]
  },
  {
   "cell_type": "code",
   "execution_count": null,
   "metadata": {},
   "outputs": [],
   "source": [
    "wofs_wb.geometry"
   ]
  },
  {
   "cell_type": "markdown",
   "metadata": {},
   "source": [
    "Calculate a mask that matches the waterbodies. \n",
    "There are nine masks, which corresponds to three different polygon sets and three different time series."
   ]
  },
  {
   "cell_type": "code",
   "execution_count": null,
   "metadata": {},
   "outputs": [],
   "source": [
    "polygon_sets = {\n",
    "    \"wofs\": wofs_wbs,\n",
    "    \"ls8\": ls8_wbs,\n",
    "    \"s2a\": s2a_wbs,\n",
    "}\n",
    "\n",
    "ts_dataarrays = {\n",
    "    \"wofs\": wofs.water,\n",
    "    \"ls8\": ls8_mndwi.MNDWI >= ls8_threshold,\n",
    "    \"s2a\": s2a_mndwi.MNDWI >= s2_threshold,\n",
    "}\n",
    "\n",
    "ids = {\n",
    "    \"wofs\": wofs_wb.ID,\n",
    "    \"ls8\": ls8_wb.ID,\n",
    "    \"s2a\": s2a_wb.ID,\n",
    "}\n",
    "\n",
    "area_per_px = {\n",
    "    \"wofs\": 25 ** 2,\n",
    "    \"ls8\": 30 ** 2,\n",
    "    \"s2a\": 10 ** 2,\n",
    "}"
   ]
  },
  {
   "cell_type": "code",
   "execution_count": null,
   "metadata": {},
   "outputs": [],
   "source": [
    "masks = {}  # (polygons, time series)\n",
    "for poly_name, poly_set in polygon_sets.items():\n",
    "    for ts_name, ts_dataarray in ts_dataarrays.items():\n",
    "        mask = xr_rasterize(poly_set, ts_dataarray.isel(time=0), attribute_col=\"ID\")\n",
    "        masks[poly_name, ts_name] = mask"
   ]
  },
  {
   "cell_type": "markdown",
   "metadata": {},
   "source": [
    "Each mask has pixels set to the ID value of the polygon that contains those pixels."
   ]
  },
  {
   "cell_type": "code",
   "execution_count": null,
   "metadata": {},
   "outputs": [],
   "source": [
    "masks[\"ls8\", \"ls8\"].plot(cmap=\"rainbow\", add_colorbar=False)"
   ]
  },
  {
   "cell_type": "markdown",
   "metadata": {},
   "source": [
    "Use the masks to extract pixel values for each time. \n",
    "We also want to extract how many pixels are invalid, so we can figure out which days have good observations."
   ]
  },
  {
   "cell_type": "code",
   "execution_count": null,
   "metadata": {},
   "outputs": [],
   "source": [
    "ts_wet = {}\n",
    "ts_invalid = {}\n",
    "for ts_name, ts_dataarray in ts_dataarrays.items():\n",
    "    for poly_name, poly_set in polygon_sets.items():\n",
    "        mask = masks[poly_name, ts_name] == ids[poly_name]\n",
    "        ts_wet[poly_name, ts_name] = (\n",
    "            ts_dataarray.where(mask).sum(axis=(1, 2)) * area_per_px[ts_name]\n",
    "        ).load()\n",
    "        ts_invalid[poly_name, ts_name] = (\n",
    "            ts_dataarray.isnull().where(mask).sum(axis=(1, 2)) * area_per_px[ts_name]\n",
    "        ).load()"
   ]
  },
  {
   "cell_type": "markdown",
   "metadata": {},
   "source": [
    "DEA Waterbodies considers an observation valid if there is at least 90% valid pixels."
   ]
  },
  {
   "cell_type": "code",
   "execution_count": null,
   "metadata": {},
   "outputs": [],
   "source": [
    "ts_ok = {}\n",
    "for (poly_name, ts_name), invalid_px in ts_invalid.items():\n",
    "    max_extent = polygon_sets[poly_name].area.loc[ids[poly_name]]\n",
    "    ts_ok[poly_name, ts_name] = ts_invalid[poly_name, ts_name] < 0.1 * max_extent"
   ]
  },
  {
   "cell_type": "markdown",
   "metadata": {},
   "source": [
    "We can plot all of these time series now. \n",
    "This step may take a while if you didn't preload the data, as it's where Dask has to finally load it all."
   ]
  },
  {
   "cell_type": "code",
   "execution_count": null,
   "metadata": {},
   "outputs": [],
   "source": [
    "fig, axs = plt.subplots(3, 3, figsize=(15, 15))\n",
    "\n",
    "# Subplot label padding.\n",
    "padding = 10  # pt\n",
    "\n",
    "# Our datasets have different date ranges, so set these manually for display.\n",
    "wofs_xlimits = (wofs.time.values.min(), wofs.time.values.max())\n",
    "xticks = np.arange(np.datetime64(\"2016\", \"Y\"), np.datetime64(\"2020\", \"Y\"))\n",
    "\n",
    "for x, poly_name in enumerate(polygon_sets):\n",
    "    for y, ts_name in enumerate(ts_dataarrays):\n",
    "        ax = axs[y, x]\n",
    "\n",
    "        # https://stackoverflow.com/questions/25812255/row-and-column-headers-in-matplotlibs-subplots\n",
    "        if x == 0:\n",
    "            # Label the vertical axis of subplots.\n",
    "            ax.annotate(\n",
    "                s=ts_name + \" time series\",\n",
    "                xy=(-0.1, 0.5),\n",
    "                xycoords=\"axes fraction\",\n",
    "                textcoords=\"offset points\",\n",
    "                size=\"large\",\n",
    "                ha=\"center\",\n",
    "                va=\"center\",\n",
    "                xytext=(-padding, 0),\n",
    "                rotation=\"vertical\",\n",
    "            )\n",
    "            \n",
    "        if y == 0:\n",
    "            # Label the horizontal axis of subplots.\n",
    "            ax.annotate(\n",
    "                s=poly_name + \" polygons\",\n",
    "                xy=(0.5, 1),\n",
    "                xycoords=\"axes fraction\",\n",
    "                textcoords=\"offset points\",\n",
    "                size=\"large\",\n",
    "                ha=\"center\",\n",
    "                va=\"center\",\n",
    "                xytext=(0, padding),\n",
    "                rotation=\"horizontal\",\n",
    "            )\n",
    "\n",
    "        # Plot valid dates of the time series.\n",
    "        ok = ts_ok[poly_name, ts_name]\n",
    "        ts = ts_wet[poly_name, ts_name]\n",
    "        ax.plot(ts.time[ok], ts[ok], marker=\"x\", linestyle=\"None\")\n",
    "\n",
    "        ax.set_xlim(wofs_xlimits)\n",
    "        ax.set_xticks(xticks)\n",
    "        ax.set_xticklabels(xticks)"
   ]
  },
  {
   "cell_type": "markdown",
   "metadata": {},
   "source": [
    "The MNDWI series are noticably noisier, with lots of no-water or low-water observations that are wet in WOfS. \n",
    "However, the general pattern matches WOfS, and in particular seems to bound it below. \n",
    "Maybe we could consider MNDWI a lower bound for wetness?\n",
    "\n",
    "We can also estimate a mean-squared difference between each time series and the WOfS time series with WOfS polygons (= DEA Waterbodies). \n",
    "This assumes Gaussian error, but for sufficiently large numbers of pixels the binomial distribution we actually have should be well-approximated by a Gaussian. \n",
    "By calculating such a difference, we can summarise the discrepancies between the above plots as a single number per plot."
   ]
  },
  {
   "cell_type": "code",
   "execution_count": null,
   "metadata": {},
   "outputs": [],
   "source": [
    "# Make a pandas series of valid data for comparison.\n",
    "# We resample to daily to avoid time rounding issues.\n",
    "ok = ts_ok[\"wofs\", \"wofs\"]\n",
    "ts = ts_wet[\"wofs\", \"wofs\"]\n",
    "comparison_series = (\n",
    "    pd.Series(ts[ok], index=ts.time[ok].values, name=\"comparison\").resample(\"D\").mean()\n",
    ")\n",
    "\n",
    "differences = {}\n",
    "for poly_name in polygon_sets:\n",
    "    for ts_name in ts_dataarrays:\n",
    "\n",
    "        # Make a pandas series of valid data.\n",
    "        ok = ts_ok[poly_name, ts_name]\n",
    "        ts = ts_wet[poly_name, ts_name]\n",
    "        series = (\n",
    "            pd.Series(ts[ok], index=ts.time[ok].values, name=\"test\")\n",
    "            .resample(\"D\")\n",
    "            .mean()\n",
    "        )\n",
    "\n",
    "        # Join this with the comparison series to have a unified time index.\n",
    "        joint_series = pd.merge(\n",
    "            series, comparison_series, left_index=True, right_index=True, how=\"outer\"\n",
    "        )\n",
    "\n",
    "        # Interpolate and compute the difference.\n",
    "        joint_series.interpolate(inplace=True)\n",
    "        difference = joint_series.test - joint_series.comparison\n",
    "\n",
    "        # The mean-squared error is the difference we seek.\n",
    "        differences[poly_name, ts_name] = (difference ** 2).mean()"
   ]
  },
  {
   "cell_type": "markdown",
   "metadata": {},
   "source": [
    "Now we can look at these differences as a table."
   ]
  },
  {
   "cell_type": "code",
   "execution_count": null,
   "metadata": {},
   "outputs": [],
   "source": [
    "fig = plt.figure(figsize=(8, 8))\n",
    "grid = np.zeros((3, 3))\n",
    "for x, poly_name in enumerate(sorted(polygon_sets)):\n",
    "    for y, ts_name in enumerate(sorted(ts_dataarrays)):\n",
    "        grid[x, y] = differences[poly_name, ts_name]\n",
    "plt.pcolor(grid, cmap=\"Reds\")\n",
    "plt.colorbar(label=\"Difference\")\n",
    "plt.xticks(np.arange(3) + 0.5, [i + \" polygons\" for i in sorted(polygon_sets)])\n",
    "plt.yticks(np.arange(3) + 0.5, [i + \" time series\" for i in sorted(ts_dataarrays)]);"
   ]
  },
  {
   "cell_type": "markdown",
   "metadata": {},
   "source": [
    "The polygons dominate the differences between the time series. \n",
    "This shows that the polygons are the most important change here between the datasets, dwarfing the impact of the low-water observations. \n",
    "To see these more clearly, we can normalise the difference by the kind of polygons before we plot:"
   ]
  },
  {
   "cell_type": "code",
   "execution_count": null,
   "metadata": {},
   "outputs": [],
   "source": [
    "fig = plt.figure(figsize=(8, 8))\n",
    "plt.pcolor(grid / grid.max(axis=0), cmap=\"Reds\")\n",
    "plt.colorbar(label=\"Normalised difference\")\n",
    "plt.xticks(np.arange(3) + 0.5, [i + \" polygons\" for i in sorted(polygon_sets)])\n",
    "plt.yticks(np.arange(3) + 0.5, [i + \" time series\" for i in sorted(ts_dataarrays)]);"
   ]
  },
  {
   "cell_type": "markdown",
   "metadata": {},
   "source": [
    "S2 and LS8 MNDWI are equally good when applied to non-WOfS polygons. \n",
    "S2 time series deviate appreciably when applied to WOfS polygons, though. \n",
    "This makes sense because S2 will include lots of dry areas considered part of the waterbody by the much larger WOfS pixels."
   ]
  },
  {
   "cell_type": "markdown",
   "metadata": {},
   "source": [
    "***\n",
    "\n",
    "## Additional information\n",
    "\n",
    "**License:** The code in this notebook is licensed under the [Apache License, Version 2.0](https://www.apache.org/licenses/LICENSE-2.0). \n",
    "Digital Earth Australia data is licensed under the [Creative Commons by Attribution 4.0](https://creativecommons.org/licenses/by/4.0/) license.\n",
    "\n",
    "**Contact:** If you need assistance, please post a question on the [Open Data Cube Slack channel](http://slack.opendatacube.org/) or on the [GIS Stack Exchange](https://gis.stackexchange.com/questions/ask?tags=open-data-cube) using the `open-data-cube` tag (you can view previously asked questions [here](https://gis.stackexchange.com/questions/tagged/open-data-cube)).\n",
    "If you would like to report an issue with this notebook, you can file one on [Github](https://github.com/GeoscienceAustralia/dea-notebooks).\n",
    "\n",
    "**Last modified:** October 2020\n",
    "\n",
    "**Compatible datacube version:** "
   ]
  },
  {
   "cell_type": "code",
   "execution_count": null,
   "metadata": {},
   "outputs": [],
   "source": [
    "print(datacube.__version__)"
   ]
  },
  {
   "cell_type": "markdown",
   "metadata": {},
   "source": [
    "## Tags\n",
    "Browse all available tags on the DEA User Guide's [Tags Index](https://docs.dea.ga.gov.au/genindex.html)"
   ]
  },
  {
   "cell_type": "raw",
   "metadata": {
    "raw_mimetype": "text/restructuredtext"
   },
   "source": [
    "**Tags**: :index:`NCI compatible`, :index:`sandbox compatible`, :index:`sentinel 2`, :index:`landsat 8`, :index:`water`, :index:`waterbodies`, :index:`MNDWI`, :index:`time series`, :index:`dea_plotting`, :index:`dea_spatialtools`, :index:`dea_dask`, :index:`dea_datahandling`, :index:`display_map`, :index:`xr_rasterize`, :index:`xr_vectorize`, :index:`create_local_dask_cluster`, :index:`wofs_fuser`, :index:`virtual products`"
   ]
  }
 ],
 "metadata": {
  "kernelspec": {
   "display_name": "Python 3",
   "language": "python",
   "name": "python3"
  },
  "language_info": {
   "codemirror_mode": {
    "name": "ipython",
    "version": 3
   },
   "file_extension": ".py",
   "mimetype": "text/x-python",
   "name": "python",
   "nbconvert_exporter": "python",
   "pygments_lexer": "ipython3",
   "version": "3.8.10"
  },
  "widgets": {
   "application/vnd.jupyter.widget-state+json": {
    "state": {},
    "version_major": 2,
    "version_minor": 0
   }
  }
 },
 "nbformat": 4,
 "nbformat_minor": 4
}
