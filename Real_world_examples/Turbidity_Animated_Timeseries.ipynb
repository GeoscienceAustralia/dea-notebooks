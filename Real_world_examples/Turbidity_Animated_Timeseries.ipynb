{
 "cells": [
  {
   "cell_type": "markdown",
   "id": "917c4dfa-3e54-4f17-9edf-246c25336c11",
   "metadata": {},
   "source": [
    "# Coastal turbidity visulisation   <img align=\"right\" src=\"../Supplementary_data/dea_logo.jpg\">\n",
    "\n",
    "* [**Sign up to the DEA Sandbox**](https://docs.dea.ga.gov.au/setup/sandbox.html) to run this notebook interactively from a browser\n",
    "* **Compatibility:** Notebook currently compatible with both the `DEA Sandbox` environment only\n",
    "* **Products used:** \n",
    "[ga_s2am_ard_3](https://explorer.sandbox.dea.ga.gov.au/products/ga_s2am_ard_3),\n",
    "[ga_s2bm_ard_3](https://explorer.sandbox.dea.ga.gov.au/products/ga_s2bm_ard_3)"
   ]
  },
  {
   "cell_type": "markdown",
   "id": "19caffd5-aacf-4332-bd94-5d463981c317",
   "metadata": {},
   "source": [
    "## Background\n",
    "Turbidity refers to the degree of clarity or the presence of suspended particles in a liquid. \n",
    "In the context of water, it is an optical property that quantifies the amount of light scattered by substances within the water sample when illuminated.\n",
    "Increased turbidity is indicative of a higher intensity of scattered light, which can be caused by various materials such as clay, silt, microscopic organisms, algae, dissolved organic compounds, and other fine inorganic and organic matter. \n",
    "Elevated levels of particulate matter often represent increases in pollutants which can have detrimental effects upon ecosystems. [Read more here.](https://www.usgs.gov/special-topics/water-science-school/science/turbidity-and-water#:~:text=Turbidity%20is%20the%20measure%20of,light%2C%20the%20higher%20the%20turbidity.)\n",
    "\n",
    "Traditional survey methods for measuring turbidity, such as collecting water samples and using Secci disks, can be time-consuming, costly, and limited in terms of spatial coverage and frequency of measurements. \n",
    "These methods require manual data collection, laboratory analysis, and on-site deployments. In contrast, remote sensing through satellites offers a cost-effective and efficient alternative. \n",
    "Satellite remote sensing provides wide coverage and frequent data acquisition, allowing for a comprehensive assessment of turbidity over large areas.\n",
    "One widely used remote sensing index for turbidity estimation is the Normalised Difference Turbidity Index (NDTI). \n",
    "The NDTI quantifies the difference in reflectance between specific spectral bands, which correlates with suspended sediment and turbidity levels. \n",
    "It's important to note that NDTI values do not directly represent defined turbidity values in units such as NTU (Nephelometric Turbidity Units). \n",
    "However, by calibrating the NDTI with in-situ turbidity data recorded concurrently during image capture, it becomes possible to establish a correlation between NDTI values and actual turbidity measurements. \n",
    "This calibration enables NTU estimation, providing valuable insights into water quality. \n",
    "The NDTI equation is defined below: \n",
    "\n",
    "\\begin{equation}\n",
    "NDTI = \\frac{(Red - Green)}{(RED + Green)}\n",
    "\\end{equation}\n",
    "\n",
    "### Description\n",
    "In this example, we create a time series animation depicting a turbidity plume at the Murray Mouth and the surrounding coastline. \n",
    "The animations contrast [Sentinel-2](https://sentinel.esa.int/web/sentinel/missions/sentinel-2) imagery taken from early-2022 to mid-2023; this coincides with ['the flood of a generation'](https://www.environment.sa.gov.au/news-hub/news/articles/2023/06/the-flood-of-a-generation), peaking in mid-January 2023, leading to a stark decline in water quality within the vicinity. \n",
    "This example demonstrates how to:\n",
    "\n",
    "1.  Load Sentinel-2 data\n",
    "2.  Compute a turbidity and water indices (NDTI, NDWI)\n",
    "3.  Mask pixels which contain land and cloud \n",
    "4.  Create time series animations \n",
    "5.  Visualise changes in turbidity throughout a floodwater discharge event\n",
    "\n",
    "***"
   ]
  },
  {
   "cell_type": "markdown",
   "id": "566dfe7c-37be-4413-8665-93ac1df39a54",
   "metadata": {},
   "source": [
    "## Getting started\n",
    "\n",
    "To run this analysis, run all the cells in the notebook, starting with the \"Load packages\" cell. \n",
    "\n",
    "After finishing the analysis, return to the \"Analysis parameters\" cell, modify some values (e.g. choose a different location or time period to analyse) and re-run the analysis. There are additional instructions on modifying the notebook at the end."
   ]
  },
  {
   "cell_type": "markdown",
   "id": "0520db5c-9424-424f-b9fd-28b4546fdb6b",
   "metadata": {},
   "source": [
    "#### Load packages\n",
    "Load key Python packages and supporting functions for the analysis."
   ]
  },
  {
   "cell_type": "code",
   "execution_count": null,
   "id": "7b4fa027-697b-47ff-b408-3c380faba95f",
   "metadata": {},
   "outputs": [],
   "source": [
    "%matplotlib inline\n",
    "\n",
    "from IPython.core.display import Video\n",
    "from IPython.display import Image\n",
    "import datacube\n",
    "import matplotlib.pyplot as plt\n",
    "from datacube.utils import masking\n",
    "\n",
    "import sys\n",
    "sys.path.insert(1, \"../Tools/\")\n",
    "from dea_tools.plotting import rgb, display_map\n",
    "from dea_tools.bandindices import calculate_indices\n",
    "from dea_tools.dask import create_local_dask_cluster\n",
    "from dea_tools.datahandling import load_ard\n",
    "from dea_tools.plotting import rgb, xr_animation\n",
    "\n",
    "# Connect to dask\n",
    "client = create_local_dask_cluster(return_client=True)"
   ]
  },
  {
   "cell_type": "markdown",
   "id": "8c23bda2-700b-4f3d-8537-e8f5c0ba597c",
   "metadata": {
    "tags": []
   },
   "source": [
    "#### Connect to the datacube\n",
    "Activate the datacube database, which provides functionality for loading and displaying stored Earth observation data."
   ]
  },
  {
   "cell_type": "code",
   "execution_count": null,
   "id": "6809dfb3-e2a9-4943-9cb4-00a57220177a",
   "metadata": {},
   "outputs": [],
   "source": [
    "dc = datacube.Datacube(app='Turbidity_Animated_Timeseries')"
   ]
  },
  {
   "cell_type": "markdown",
   "id": "a37a52dc-24f0-49e2-bf70-b2217a96a2a4",
   "metadata": {},
   "source": [
    "#### Select location\n",
    "\n",
    "The selected latitude and longitude will be displayed as a red box on the map below the next cell. \n",
    "This map can be used to find coordinates of other places, simply scroll and click on any point on the map to display the latitude and longitude of that location."
   ]
  },
  {
   "cell_type": "code",
   "execution_count": null,
   "id": "e9b42752-50a6-41a2-8b4c-898cacec72e4",
   "metadata": {
    "tags": []
   },
   "outputs": [],
   "source": [
    "lat_range = (-35.51, -35.73)\n",
    "lon_range = (138.506, 139.028)\n",
    "\n",
    "display_map(x=lon_range, y=lat_range)"
   ]
  },
  {
   "cell_type": "markdown",
   "id": "d5edc9e2-c186-45e6-b6f8-62266ffd0a31",
   "metadata": {},
   "source": [
    "## Load Sentinel-2 data\n",
    "The first step in this analysis is to load in Sentinel-2 optical data for the `lat_range`, `lon_range` and the desired `time` range. Note that only the necessary bands have been added to reduce load times. \n",
    "The load_ard function is used here to load data that has undergone geometric correction and surface reflection correction, making it ready for analysis.\n",
    "More information on ARD and the Open data Cube [here.](https://docs.dea.ga.gov.au/notebooks/Beginners_guide/02_DEA.html#Open-Data-Cube)"
   ]
  },
  {
   "cell_type": "code",
   "execution_count": null,
   "id": "eb00a915-ac15-400b-b1b4-f6635fee2a50",
   "metadata": {},
   "outputs": [],
   "source": [
    "# Load satellite data from datacube\n",
    "query = {\n",
    "    'y': lat_range,\n",
    "    'x': lon_range,\n",
    "    \"time\": (\"2022-02-21\", \"2023-06-01\"),\n",
    "    \"measurements\": \n",
    "        [\"nbart_red\",\n",
    "        \"nbart_green\",\n",
    "        \"nbart_blue\",\n",
    "        \"nbart_nir_1\",\n",
    "        \"oa_s2cloudless_prob\",\n",
    "        \"oa_s2cloudless_mask\"],\n",
    "    \"output_crs\": \"EPSG:3577\",\n",
    "    \"resolution\": (-30, 30),\n",
    "}\n",
    "\n",
    "# Load available data from both Sentinel-2 satellites\n",
    "ds = load_ard(\n",
    "    dc=dc,\n",
    "    products=[\"ga_s2am_ard_3\", \"ga_s2bm_ard_3\"],\n",
    "    dask_chunks={},\n",
    "    min_gooddata=0.85,\n",
    "    mask_pixel_quality=False,\n",
    "    group_by=\"solar_day\",\n",
    "    **query\n",
    ")"
   ]
  },
  {
   "cell_type": "markdown",
   "id": "864dfa02-7383-426e-bdae-4a310433ea82",
   "metadata": {
    "tags": []
   },
   "source": [
    "**Examine the data** by printing it in the next cell.\n",
    "The `Dimensions` argument revels the number of time steps in the data set, as well as the number of pixels in the `x` (longitude) and `y` (latitude) dimensions."
   ]
  },
  {
   "cell_type": "code",
   "execution_count": null,
   "id": "3dd1c683-491f-47d9-ad13-282146e062b6",
   "metadata": {
    "tags": []
   },
   "outputs": [],
   "source": [
    "ds"
   ]
  },
  {
   "cell_type": "markdown",
   "id": "d97d3962-b514-4612-adfb-060c0c45dddd",
   "metadata": {},
   "source": [
    "**Print each time step** and it's associated image capture date to familiar yourself with the data."
   ]
  },
  {
   "cell_type": "code",
   "execution_count": null,
   "id": "e983f18f-8db9-4be0-8407-115398d64c7f",
   "metadata": {},
   "outputs": [],
   "source": [
    "for i, time in enumerate(ds.time.values):\n",
    "    print(f\"Time step {i}: {time}\")"
   ]
  },
  {
   "cell_type": "markdown",
   "id": "ee5d8284-8675-4940-a127-de94196aa51d",
   "metadata": {},
   "source": [
    "#### Plot a example timestep in true colour\n",
    "To visualise the data, use the pre-loaded `rgb` utility function to plot a true colour image for a given time-step. \n",
    "\n",
    "Change the value for `timestep` to explore the data.\n"
   ]
  },
  {
   "cell_type": "code",
   "execution_count": null,
   "id": "3300d21e-0880-4986-88d6-9052607af8cf",
   "metadata": {
    "tags": []
   },
   "outputs": [],
   "source": [
    "# Set the timestep to visualise\n",
    "timestep = 20\n",
    "\n",
    "# Generate RGB plot at the desired timestep\n",
    "rgb(ds, \n",
    "    index=timestep,\n",
    "    percentile_stretch=(0.05, 0.98))"
   ]
  },
  {
   "cell_type": "markdown",
   "id": "325d4cb3-18d8-492d-af7b-6b2866a114f8",
   "metadata": {
    "tags": []
   },
   "source": [
    "## Calculate the NDTI index\n",
    "First, calculate the NDTI index mentioned in the 'Background' section. \n",
    "Note this index is not yet available in 'dea_tools.bandindices'.\n",
    "Then visualise some imagery.\n",
    "\n",
    "When it comes to interpreting the index, **High values represent pixels with high turbidity**, while **low values represent pixels with low turbidity**. "
   ]
  },
  {
   "cell_type": "code",
   "execution_count": null,
   "id": "b2328d43-bf85-487b-a95f-97d580398d65",
   "metadata": {},
   "outputs": [],
   "source": [
    "# Calculate NDTI\n",
    "ds[\"NDTI\"] = (ds.nbart_red - ds.nbart_green) / (ds.nbart_red + ds.nbart_green)"
   ]
  },
  {
   "cell_type": "code",
   "execution_count": null,
   "id": "c466acc0-7267-4e56-a623-c43263096ef2",
   "metadata": {
    "tags": []
   },
   "outputs": [],
   "source": [
    "# Visualise this\n",
    "ts = ds[\"NDTI\"].isel(time=timestep)\n",
    "fig, ax = plt.subplots(figsize=(15, 10))\n",
    "plt.imshow(ts, cmap=\"viridis\")\n",
    "plt.colorbar(label=\"NDTI\", shrink=0.64)\n",
    "plt.show()"
   ]
  },
  {
   "cell_type": "markdown",
   "id": "aec52ad1-380c-492d-8733-5160d588b553",
   "metadata": {},
   "source": [
    "## Compute Normalised Difference Water Index\n",
    "When we applied the turbidity index to the imagery the presence of land pixels within the imagery results in extremely high turbidity values over land thus reducing the sensitivity of the rasters contrast stretch over water. Hence we must mask out pixels associated with land.  \n",
    "\n",
    "To do this, we can use our Sentinel-2 data to calculate a water index called the 'Normalised Difference Water Index', or [NDWI](https://custom-scripts.sentinel-hub.com/custom-scripts/sentinel-2/ndwi/). \n",
    "This index uses the ratio of green and near-infrared radiation to identify the presence of water.\n",
    "The formula is as follows:\n",
    "\n",
    "$$\n",
    "\\begin{aligned}\n",
    "\\text{NDWI} &= \\frac{(\\text{Green} - \\text{IR})}{(\\text{Green} + \\text{IR})}\n",
    "\\end{aligned}\n",
    "$$\n",
    "\n",
    "When it comes to interpreting the index, **High values (greater than 0) typically represent water pixels**, while **low values (less than 0) represent land**. \n",
    "You can use the cell below to calculate and plot one of the images after calculating the index."
   ]
  },
  {
   "cell_type": "code",
   "execution_count": null,
   "id": "38525383-dbdd-4281-8c25-572aab990999",
   "metadata": {},
   "outputs": [],
   "source": [
    "# Calculate the water index\n",
    "ds = calculate_indices(ds, index=\"NDWI\", collection=\"ga_s2_3\")"
   ]
  },
  {
   "cell_type": "markdown",
   "id": "817d1fae-3c21-49d8-8c20-c5768e164f36",
   "metadata": {
    "tags": []
   },
   "source": [
    "#### Visualise how environmental factors impact the NDWI values\n",
    "Plot a representative sub-sample of `time` steps with a variety of environmental factors (e.g extreme turbidity, low turbidity, cloud, wave break). "
   ]
  },
  {
   "cell_type": "code",
   "execution_count": null,
   "id": "a94f7f46-61cc-4314-816d-64f02fbe7488",
   "metadata": {},
   "outputs": [],
   "source": [
    "# Plot a representative subset of the dataset (ds)\n",
    "ds[\"NDWI\"].isel(time=[1, 7, 20, 26]).plot.imshow(cmap=\"gnuplot\", col=\"time\", col_wrap=2, figsize=(12, 6))"
   ]
  },
  {
   "cell_type": "markdown",
   "id": "59b884be-d5f2-4921-883d-d010ca5c6798",
   "metadata": {
    "tags": []
   },
   "source": [
    "**Question** How does extremely turbid water, wave break, and cloud impact upon NDWI values?"
   ]
  },
  {
   "cell_type": "markdown",
   "id": "ef84faca-3886-449c-bbc6-23d6cdf43121",
   "metadata": {
    "tags": []
   },
   "source": [
    "## Mask out the land\n",
    "Experiment with a `landmask_threshold` to isolate just water body pixels and visualise the results."
   ]
  },
  {
   "cell_type": "code",
   "execution_count": null,
   "id": "3c985d16-4f63-4060-97ec-79b680fdfff9",
   "metadata": {},
   "outputs": [],
   "source": [
    "# Trial land masking thresholds\n",
    "landmask_threshold = -0.05\n",
    "dslmask_trial = ds[\"NDWI\"].isel(time=20).where(ds[\"NDWI\"] > landmask_threshold)"
   ]
  },
  {
   "cell_type": "code",
   "execution_count": null,
   "id": "6d836f5e-c241-409a-a288-44bfc6b106ac",
   "metadata": {},
   "outputs": [],
   "source": [
    "# Visualise this\n",
    "ts = dslmask_trial.isel(time=timestep)\n",
    "fig, ax = plt.subplots(figsize=(15, 10))\n",
    "plt.imshow(ts, cmap=\"gnuplot\")\n",
    "plt.colorbar(label=\"NDWI\", shrink=0.64)\n",
    "plt.show()"
   ]
  },
  {
   "cell_type": "markdown",
   "id": "02ad6d30-43ec-4b61-a87e-d606c986ce10",
   "metadata": {},
   "source": [
    "Once an appropriate threshold has been established create a new dataset titled 'ds_lmask'."
   ]
  },
  {
   "cell_type": "code",
   "execution_count": null,
   "id": "3e6423b5-017e-4a3f-8d14-4b003c2a7ce4",
   "metadata": {},
   "outputs": [],
   "source": [
    "# Mask the dataset\n",
    "ds_lmask = ds.where(dslmask_trial > landmask_threshold)"
   ]
  },
  {
   "cell_type": "markdown",
   "id": "89c180aa-90bc-46af-9ed8-44360279afd0",
   "metadata": {},
   "source": [
    "## Cloud masking with `s2cloudless`\n",
    "When working with Sentinel-2 data, users can Sentinel-2 specific cloudmask, `s2cloudless`, [a machine learning cloud mask developed by Sinergise's Sentinel-Hub](https://github.com/sentinel-hub/sentinel2-cloud-detector).\n",
    "\n",
    "We can also easily load and inspect `s2cloudless`'s cloud probability layer that gives the likelihood of a pixel containing cloud.\n",
    "To do this first decide on a representative sample of the dataset ranging from non-cloud effected imagery to very cloud effected imagery.\n",
    "Then plot the `s2cloudless` band on the same sample and decide on a making threshold to be applied to the dataset `ds_lmask`, which will then be renamed to `ds_clmask`('c' stands for cloud, and 'l' stands for land).\n"
   ]
  },
  {
   "cell_type": "code",
   "execution_count": null,
   "id": "897ca210-45b7-418c-bd5d-164431ceab47",
   "metadata": {},
   "outputs": [],
   "source": [
    "# Plot a representative sample of ds_lmask rgb\n",
    "rgb(ds_lmask.isel(time=[0, 9, 5, 3]), percentile_stretch=(0.2, 0.85), col=\"time\", col_wrap=2)"
   ]
  },
  {
   "cell_type": "code",
   "execution_count": null,
   "id": "8d77e153-33e8-4265-af23-fed0aca59c30",
   "metadata": {},
   "outputs": [],
   "source": [
    "# Plot the same sample of ds_lmask, cloud probability\n",
    "ds_lmask[\"oa_s2cloudless_prob\"].isel(time=[0, 9, 5, 3]).plot.imshow(cmap=\"gnuplot\", col=\"time\", col_wrap=2, figsize=(12, 6))"
   ]
  },
  {
   "cell_type": "markdown",
   "id": "630d6a7a-1ec1-4baa-8f48-1ce855445af0",
   "metadata": {},
   "source": [
    "**Experiment with the cloud mask**. Change the `cloudmask` threshold and see how it affects the imagery, examine multiple `timestep`'s.\n",
    "It is not imperative you remove every single cloud effect pixel, if you did so you would likely also be masking out highly turbid pixels."
   ]
  },
  {
   "cell_type": "code",
   "execution_count": null,
   "id": "69942b01-a427-4842-b983-06cdf7a6f911",
   "metadata": {},
   "outputs": [],
   "source": [
    "# Set cloudmask threshold\n",
    "cloudmask_threshold = 0.98\n",
    "\n",
    "# Set the timestep to visualise\n",
    "timestep = 5\n",
    "\n",
    "# Apply 'cloudmask_mask' to trial dataset 'ds_clmask_tiral'\n",
    "ds_clmask_trial = ds_lmask[\"oa_s2cloudless_prob\"].where(ds[\"oa_s2cloudless_prob\"] < cloudmask_threshold)\n",
    "\n",
    "# Visualise this\n",
    "ts = ds_clmask_trial.isel(time=timestep)\n",
    "fig, ax = plt.subplots(figsize=(15, 10))\n",
    "plt.imshow(ts, cmap=\"gnuplot\")\n",
    "plt.colorbar(label=\"cloud_probabilty\", shrink=0.64)\n",
    "plt.show()"
   ]
  },
  {
   "cell_type": "markdown",
   "id": "7c6b22da-d673-479b-9fe4-7ec071c18782",
   "metadata": {},
   "source": [
    "Now an appropriate threshold has been established create a new dataset titled `ds_clmask`."
   ]
  },
  {
   "cell_type": "code",
   "execution_count": null,
   "id": "c31582c6-7365-44a4-ae73-823813827b0e",
   "metadata": {},
   "outputs": [],
   "source": [
    "# Once certain cloudmask the dataset\n",
    "ds_clmask = ds_lmask.where(ds_clmask_trial < cloudmask_threshold)"
   ]
  },
  {
   "cell_type": "markdown",
   "id": "50032306-e2ac-4367-8ec0-bb3bf0ad8df4",
   "metadata": {},
   "source": [
    "## Visualise and interrogate the imagery\n",
    "At this point we will plot all the masked data both in RGB and NDTI\n",
    "\n",
    "Now **both land and cloud have been masked**, these values are now 'null' values. This is problematic as null values appear white, which is the same colour as clouds; this can be a source of confusion when displaying in RGB. \n",
    "To rectify this set 'null' values to '0'."
   ]
  },
  {
   "cell_type": "code",
   "execution_count": null,
   "id": "925f5b31-d423-4dd1-8d06-da80ac3d8a56",
   "metadata": {},
   "outputs": [],
   "source": [
    "# Manually set the null values equal to zero so they don't appear white like clouds\n",
    "ds_clmask_zero = ds_clmask.where(~ds_clmask.isnull(), 0)"
   ]
  },
  {
   "cell_type": "code",
   "execution_count": null,
   "id": "50e5e463-8ef9-465f-81f6-511142241115",
   "metadata": {
    "tags": []
   },
   "outputs": [],
   "source": [
    "# Generate RGB plot at the desired timestep\n",
    "rgb(ds_clmask_zero, \n",
    "    index=timestep,\n",
    "    percentile_stretch=(0.1, 0.975))"
   ]
  },
  {
   "cell_type": "markdown",
   "id": "f31b1b46-e2fe-4c67-95d7-c677a46db73e",
   "metadata": {},
   "source": [
    "**Now plot all the imagery** both in RGB and just the NDTI.\n",
    "\n",
    "Consider which images you want in your final animations. \n",
    "If an image remains too cloud affected or there is severe seamline effects (boundaries between adjacent image tiles, as observed in timesteps 0 and 1), it might be worth removing these images. \n",
    "For now make a note of all the images you want to retain.\n",
    "\n",
    "**This may take some time to plot**."
   ]
  },
  {
   "cell_type": "code",
   "execution_count": null,
   "id": "2c3917bf-23e5-4c1e-b120-f0d065dc69bf",
   "metadata": {},
   "outputs": [],
   "source": [
    "# Plot the data so you can determine if there are any images you don't want in your animated time series\n",
    "rgb(ds_clmask_zero, col=\"time\", col_wrap=3, percentile_stretch=(0.1, 0.975))"
   ]
  },
  {
   "cell_type": "code",
   "execution_count": null,
   "id": "154b8ea0-d31c-4a9b-a93b-e9d961584e07",
   "metadata": {},
   "outputs": [],
   "source": [
    "# Plot the NDTI data with the mask so you can determine if there are any images you don't want in your animated time series\n",
    "ds_clmask[\"NDTI\"].plot(col=\"time\", col_wrap=3, cmap=\"viridis\")"
   ]
  },
  {
   "cell_type": "markdown",
   "id": "fe0ff16c-b186-462a-a06c-7ad379af936e",
   "metadata": {},
   "source": [
    "#### Create final datasets with only the images which will be included in the final animations\n",
    "\n",
    "In the next two cells create two datasets for two separate purposes.\n",
    "**'ds_final_imgs'** will be utilised to create animations of both the NDTI over only waterbodies, and a RGB animations with the land and cloud masked to increase the contrast stretch over the waterbodies. \n",
    "Create another dataset **ds_final_images_no_mask** without the final mask to display the mosaicked imagery simply in RGB in their original state. \n",
    "In this case it is important that both datasets contain the same timesteps for ease of comparison. "
   ]
  },
  {
   "cell_type": "code",
   "execution_count": null,
   "id": "aa4f68b7-c556-4a71-aaff-67c49be38c20",
   "metadata": {},
   "outputs": [],
   "source": [
    "# Create a dataset with only the desired time steps to be utilised in an animation when a cloud and land mask is needed.\n",
    "ds_final_imgs = ds_clmask.isel(time=[2,5,6,7,8,9,13,14,15,16,17,18,19,20,21,22,23,24,25,28])"
   ]
  },
  {
   "cell_type": "code",
   "execution_count": null,
   "id": "67b8ed26-42d4-4388-bafd-2cc73dedb4ee",
   "metadata": {},
   "outputs": [],
   "source": [
    "# Create a dataset with only the desired time steps to be utilised in an animation when no mask is needed.\n",
    "ds_final_imgs_no_mask = ds.isel(time=[2,5,6,7,8,9,13,14,15,16,17,18,19,20,21,22,23,24,25,28])"
   ]
  },
  {
   "cell_type": "markdown",
   "id": "16e18471-ece6-4c20-b170-3cab6423f729",
   "metadata": {},
   "source": [
    "**Print both datasets** familiarise yourself with the data and ensure the timesteps are equal for both datasets."
   ]
  },
  {
   "cell_type": "code",
   "execution_count": null,
   "id": "18f5b3bc-8b3a-459a-a94c-633edd76b935",
   "metadata": {
    "tags": []
   },
   "outputs": [],
   "source": [
    "# Print and investigate the index of each time step in ds_final_imgs_no_mask\n",
    "for i, time in enumerate(ds_final_imgs_no_mask.time.values):\n",
    "    print(f\"Time step {i}: {time}\")"
   ]
  },
  {
   "cell_type": "code",
   "execution_count": null,
   "id": "aaebefd0-f934-4372-9882-10f203999923",
   "metadata": {},
   "outputs": [],
   "source": [
    "# Print and investigate the index of each time step in ds_final_imgs\n",
    "for i, time in enumerate(ds_final_imgs.time.values):\n",
    "    print(f\"Time step {i}: {time}\")"
   ]
  },
  {
   "cell_type": "markdown",
   "id": "ce687a73-0cd4-4f57-bb80-90ecce1a4750",
   "metadata": {},
   "source": [
    "## Produce the animations\n",
    "Create animations with `xr_animation` for:\n",
    "\n",
    "    1. RGB unmasked imagery\n",
    "    2. RGB land and cloud masked, and contrast stretched\n",
    "    3. NDTI land and cloud masked imagery\n",
    "\n",
    "Consider adapting `annotation_kwargs` to change the typography of the label.\n",
    "\n",
    "`Show_text` will adapt the text of the label.\n",
    "\n",
    "`interval` will alter the amount  at which images are displayed (units = milliseconds).\n",
    "\n",
    "`width_pixels` changes the size of the display.\n"
   ]
  },
  {
   "cell_type": "code",
   "execution_count": null,
   "id": "dde94368-4fa8-4641-b8f8-b75dd623b7c8",
   "metadata": {},
   "outputs": [],
   "source": [
    "# Produce time series animation of RGB (unmasked)\n",
    "xr_animation(ds=ds_final_imgs_no_mask,\n",
    "             bands=['nbart_red', 'nbart_green', 'nbart_blue'],\n",
    "             output_path='RGB_Murray_Mouth_Plume.mp4',\n",
    "             annotation_kwargs={'fontsize': 40, 'color':'white'}, \n",
    "             show_text='RGB',\n",
    "             interval=2000,\n",
    "             width_pixels=1300)\n",
    "\n",
    "# Plot animation\n",
    "plt.close()\n",
    "Video('RGB_Murray_Mouth_Plume.mp4', embed=True)"
   ]
  },
  {
   "cell_type": "code",
   "execution_count": null,
   "id": "1d35977b-d729-480e-812e-b508bb0c4539",
   "metadata": {},
   "outputs": [],
   "source": [
    "# Produce time series animation of RGB with land and cloud masked and contrast stretched.\n",
    "xr_animation(ds=ds_final_imgs,\n",
    "             bands=['nbart_red', 'nbart_green', 'nbart_blue'],\n",
    "             percentile_stretch=(0.1, 0.975),\n",
    "             output_path='RGB_Land_Masked_Murray_Mouth_Plume.mp4',\n",
    "             show_text='RGB contrast stretched - Land Masked',\n",
    "             annotation_kwargs={'fontsize': 40}, \n",
    "             interval=2000,\n",
    "             width_pixels=1300)\n",
    "\n",
    "# Plot animation\n",
    "plt.close()\n",
    "Video('RGB_Land_Masked_Murray_Mouth_Plume.mp4', embed=True)"
   ]
  },
  {
   "cell_type": "code",
   "execution_count": null,
   "id": "6ca23bd0-2270-4605-a0c5-c2a44c1af17d",
   "metadata": {},
   "outputs": [],
   "source": [
    "# Produce time series animation of NDTI land and cloud masked.\n",
    "xr_animation(ds=ds_final_imgs,\n",
    "             output_path='NDTI_Murray_Mouth_Plume.mp4',\n",
    "             bands='NDTI',\n",
    "             show_text='NDTI - Land Masked',\n",
    "             interval=2000,\n",
    "             width_pixels=1300,\n",
    "             annotation_kwargs={'fontsize': 40, 'color':'black'},\n",
    "             imshow_kwargs={'cmap': 'viridis'},)\n",
    "\n",
    "# Plot animation\n",
    "plt.close()\n",
    "Video('NDTI_Murray_Mouth_Plume.mp4', embed=True)"
   ]
  },
  {
   "cell_type": "markdown",
   "id": "4dd3e3d1-67c5-43a8-8819-9356d38f9c48",
   "metadata": {},
   "source": [
    "## Drawing conclusions\n",
    "\n",
    "Here are some questions to think about:\n",
    "\n",
    "* What can you conclude about the magnitude and timing of the Murray River flood discharge? \n",
    "* Which portions of the coast were most affected by this event? \n",
    "* What are some of the limitations of this method of assessing river-plume turbidity? "
   ]
  },
  {
   "cell_type": "markdown",
   "id": "e1babc99-da59-4933-aa0a-6099684f75b8",
   "metadata": {},
   "source": [
    "## Next steps\n",
    "When you are done, return to the \"Set up analysis\" and \"Load Sentinel-2 data\" cells, modify some values (e.g. `time`, `lat_range`/`lon_range`) and rerun the analysis. \n",
    "\n",
    "If you change the location, you'll need to make sure Sentinel-2 data is available for the new location, which you can check at the [DEA Explorer](https://explorer.sandbox.dea.ga.gov.au/products/ga_s2am_ard_3) (use the drop-down menu to view all Sentinel-2 products). \n"
   ]
  },
  {
   "cell_type": "code",
   "execution_count": null,
   "id": "7360d2a5-86d6-4e73-a8bd-f5db8879947c",
   "metadata": {},
   "outputs": [],
   "source": []
  }
 ],
 "metadata": {
  "kernelspec": {
   "display_name": "Python 3 (ipykernel)",
   "language": "python",
   "name": "python3"
  },
  "language_info": {
   "codemirror_mode": {
    "name": "ipython",
    "version": 3
   },
   "file_extension": ".py",
   "mimetype": "text/x-python",
   "name": "python",
   "nbconvert_exporter": "python",
   "pygments_lexer": "ipython3",
   "version": "3.8.10"
  }
 },
 "nbformat": 4,
 "nbformat_minor": 5
}
