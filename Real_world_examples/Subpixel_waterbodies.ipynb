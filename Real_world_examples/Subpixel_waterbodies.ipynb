{
 "cells": [
  {
   "cell_type": "markdown",
   "metadata": {},
   "source": [
    "# Subpixel waterbodies <img align=\"right\" src=\"../Supplementary_data/dea_logo.jpg\">\n",
    "\n",
    "* [**Sign up to the DEA Sandbox**](https://docs.dea.ga.gov.au/setup/sandbox.html) to run this notebook interactively from a browser\n",
    "* **Compatibility:** Notebook currently compatible with both the `NCI` and `DEA Sandbox` environments\n",
    "* **Products used:**\n",
    "[wofs_albers](https://explorer.sandbox.dea.ga.gov.au/wofs_albers),\n",
    "[DEA Waterbodies](https://www.ga.gov.au/dea/products/dea-waterbodies)\n",
    "* **Special requirements:** Download the [DEA Waterbodies shapefile](https://ecat.ga.gov.au/geonetwork/srv/eng/catalog.search#/metadata/132814)."
   ]
  },
  {
   "cell_type": "markdown",
   "metadata": {},
   "source": [
    "## Description\n",
    "DEA Waterbodies uses WOfS, a classification of Landsat pixels into wet and dry, to identify and track waterbodies throughout the Australian continent. One limitation is the size of the Landsat pixels, 25 m x 25 m, which can be quite large compared to the size of some waterbodies. Can we identify the maximum extent of a waterbody better than a whole pixel approach, as in e.g. Bishop-Taylor et al. (2019; https://doi.org/10.3390/rs11242984) or Sall et al. (2020; https://doi.org/10.1002/rse2.172)? How would this affect our time series?\n",
    "\n",
    "This notebook takes an existing DEA Waterbodies polygon, refines it using subpixel extents, and recalculates the time series using the subpixel extents for comparison.\n",
    "\n",
    "***"
   ]
  },
  {
   "cell_type": "markdown",
   "metadata": {},
   "source": [
    "## Getting started\n",
    "\n",
    "Specify the geohash of the polygon you want to refine in the \"Configuration\" section, and run all cells to do the analysis."
   ]
  },
  {
   "cell_type": "markdown",
   "metadata": {},
   "source": [
    "### Load packages"
   ]
  },
  {
   "cell_type": "code",
   "execution_count": 1,
   "metadata": {},
   "outputs": [],
   "source": [
    "%matplotlib inline\n",
    "\n",
    "import sys\n",
    "import datacube\n",
    "import matplotlib.pyplot as plt\n",
    "import numpy as np\n",
    "import pandas as pd\n",
    "import xarray as xr\n",
    "import geopandas as gpd\n",
    "import shapely\n",
    "from tqdm.notebook import tqdm\n",
    "from affine import Affine\n",
    "from odc.ui import with_ui_cbk\n",
    "\n",
    "sys.path.append(\"../Scripts\")\n",
    "from dea_spatialtools import xr_vectorize, subpixel_contours"
   ]
  },
  {
   "cell_type": "markdown",
   "metadata": {},
   "source": [
    "### Configuration\n",
    "\n",
    "Specify the geohash of the waterbody to evaluate:"
   ]
  },
  {
   "cell_type": "code",
   "execution_count": 2,
   "metadata": {},
   "outputs": [],
   "source": [
    "geohash = \"r3dn23tun\"  # Point Hut Pond"
   ]
  },
  {
   "cell_type": "markdown",
   "metadata": {},
   "source": [
    "### Connect to the datacube\n",
    "\n",
    "Connect to the datacube so we can access DEA data.\n",
    "The `app` parameter is a unique name for the analysis which is based on the notebook file name."
   ]
  },
  {
   "cell_type": "code",
   "execution_count": 3,
   "metadata": {},
   "outputs": [],
   "source": [
    "dc = datacube.Datacube(app=\"Subpixel-waterbodies\")"
   ]
  },
  {
   "cell_type": "markdown",
   "metadata": {},
   "source": [
    "### Load the DEA Waterbodies polygons\n",
    "\n",
    "These are hosted [here](https://ecat.ga.gov.au/geonetwork/srv/eng/catalog.search#/metadata/132814). Download them and unzip into the same directory as this notebook."
   ]
  },
  {
   "cell_type": "code",
   "execution_count": 4,
   "metadata": {},
   "outputs": [],
   "source": [
    "dea_wbs = gpd.read_file(\"DigitalEarthAustraliaWaterbodies.shp\")"
   ]
  },
  {
   "cell_type": "markdown",
   "metadata": {},
   "source": [
    "Then we can load the polygon associated with the waterbody we selected."
   ]
  },
  {
   "cell_type": "code",
   "execution_count": 5,
   "metadata": {},
   "outputs": [],
   "source": [
    "wb = dea_wbs.set_index(\"UID\").loc[geohash]\n",
    "wb = gpd.GeoDataFrame([wb], crs=dea_wbs.crs)"
   ]
  },
  {
   "cell_type": "markdown",
   "metadata": {},
   "source": [
    "### Load the WOfS summary\n",
    "\n",
    "The WOfS summary is used to define the waterbody maximum extent."
   ]
  },
  {
   "cell_type": "code",
   "execution_count": 6,
   "metadata": {},
   "outputs": [],
   "source": [
    "wofs = dc.load(\n",
    "    \"wofs_summary\",\n",
    "    geopolygon=datacube.utils.geometry.Geometry(\n",
    "        wb.geometry.iloc[0].buffer(100), crs=dea_wbs.crs\n",
    "    ),\n",
    ").isel(time=0)"
   ]
  },
  {
   "cell_type": "code",
   "execution_count": 7,
   "metadata": {},
   "outputs": [
    {
     "data": {
      "text/plain": [
       "<matplotlib.collections.QuadMesh at 0x7ffa877e2fd0>"
      ]
     },
     "execution_count": 7,
     "metadata": {},
     "output_type": "execute_result"
    },
    {
     "data": {
      "image/png": "[encoded data removed]",
      "text/plain": [
       "<Figure size 432x288 with 2 Axes>"
      ]
     },
     "metadata": {
      "needs_background": "light"
     },
     "output_type": "display_data"
    }
   ],
   "source": [
    "fig, ax = plt.subplots(1, 1)\n",
    "wofs.frequency.plot(ax=ax)"
   ]
  },
  {
   "cell_type": "markdown",
   "metadata": {},
   "source": [
    "## Reproduce DEA Waterbodies\n",
    "\n",
    "Find the 5% and 10% polygons, discard any under 5 px, and then do a spatial join."
   ]
  },
  {
   "cell_type": "code",
   "execution_count": 8,
   "metadata": {},
   "outputs": [
    {
     "name": "stderr",
     "output_type": "stream",
     "text": [
      "/env/lib/python3.6/site-packages/pyproj/crs/crs.py:53: FutureWarning: '+init=<authority>:<code>' syntax is deprecated. '<authority>:<code>' is the preferred initialization method. When making the change, be mindful of axis order changes: https://pyproj4.github.io/pyproj/stable/gotchas.html#axis-order-changes-in-proj-6\n",
      "  return _prepare_from_string(\" \".join(pjargs))\n"
     ]
    }
   ],
   "source": [
    "pc_10 = xr_vectorize(wofs.frequency >= 0.10, crs=wofs.crs)\n",
    "pc_05 = xr_vectorize(wofs.frequency >= 0.05, crs=wofs.crs)\n",
    "\n",
    "pc_10 = pc_10[pc_10.attribute == 1]\n",
    "pc_05 = pc_05[pc_05.attribute == 1]\n",
    "\n",
    "# Discard polygons with under 5 px.\n",
    "pc_05 = pc_05[pc_05.area >= 25 ** 2]\n",
    "pc_10 = pc_10[pc_10.area >= 25 ** 2]\n",
    "\n",
    "# Then join.\n",
    "joined = gpd.sjoin(pc_05, pc_10, lsuffix=\"05\", rsuffix=\"10\", how=\"right\")\n",
    "\n",
    "# Allow a 5% polygon as long as it intersects with a 10% polygon.\n",
    "ok_05 = set(joined.index_05)\n",
    "pc_05 = pc_05.loc[ok_05]\n",
    "\n",
    "wb_pixels = pc_05.reset_index(drop=True)"
   ]
  },
  {
   "cell_type": "code",
   "execution_count": 9,
   "metadata": {},
   "outputs": [
    {
     "data": {
      "image/png": "[encoded data removed]",
      "text/plain": [
       "<Figure size 432x288 with 2 Axes>"
      ]
     },
     "metadata": {
      "needs_background": "light"
     },
     "output_type": "display_data"
    }
   ],
   "source": [
    "fig, axs = plt.subplots(1, 2)\n",
    "wb_pixels.plot(ax=axs[1], edgecolor=\"k\", facecolor=\"None\")\n",
    "wb.plot(ax=axs[0], edgecolor=\"k\", facecolor=\"None\")\n",
    "axs[0].set_title(\"DEA Waterbodies\")\n",
    "axs[1].set_title(\"This notebook\")\n",
    "plt.tight_layout()"
   ]
  },
  {
   "cell_type": "markdown",
   "metadata": {},
   "source": [
    "## Subpixel extent\n",
    "\n",
    "Using `subpixel_contours`, find the subpixel extents of the waterbody. We can set the contour levels to 5% and 10% as above, but we can also change them to other values. This modifies the eventual error in the boundary quite dramatically for steep-edged lakes."
   ]
  },
  {
   "cell_type": "code",
   "execution_count": 10,
   "metadata": {},
   "outputs": [
    {
     "name": "stdout",
     "output_type": "stream",
     "text": [
      "Operating in multiple z-value, single array mode\n"
     ]
    }
   ],
   "source": [
    "contours = subpixel_contours(wofs.frequency, z_values=[0.05, 0.10]).set_index(\n",
    "    \"z_value\", drop=True\n",
    ")\n",
    "\n",
    "pc_05 = gpd.GeoDataFrame(\n",
    "    geometry=[shapely.geometry.Polygon(ls) for ls in contours.iloc[0].geometry]\n",
    ")\n",
    "pc_10 = gpd.GeoDataFrame(\n",
    "    geometry=[shapely.geometry.Polygon(ls) for ls in contours.iloc[1].geometry]\n",
    ")\n",
    "\n",
    "# Determine whether each polygon is an \"inner\" polygon or not.\n",
    "pc_10_agg = pc_10.geometry[0]\n",
    "for g in pc_10.geometry[1:]:\n",
    "    pc_10_agg = pc_10_agg.symmetric_difference(g)\n",
    "\n",
    "pc_05_agg = pc_05.geometry[0]\n",
    "for g in pc_05.geometry[1:]:\n",
    "    pc_05_agg = pc_05_agg.symmetric_difference(g)\n",
    "\n",
    "pc_05 = gpd.GeoDataFrame(geometry=list(pc_05_agg))\n",
    "pc_10 = gpd.GeoDataFrame(geometry=list(pc_10_agg))\n",
    "\n",
    "# Discard anything under 5 px.\n",
    "pc_05 = pc_05[pc_05.area >= 25 ** 2]\n",
    "pc_10 = pc_10[pc_10.area >= 25 ** 2]\n",
    "\n",
    "# Spatial join to find 5% extents for 10% polygons.\n",
    "joined = gpd.sjoin(pc_05, pc_10, lsuffix=\"05\", rsuffix=\"10\", how=\"right\")\n",
    "pc_05 = pc_05.loc[joined.index_05]\n",
    "\n",
    "wb_subpixel = pc_05.set_crs(\"EPSG:3577\")"
   ]
  },
  {
   "cell_type": "markdown",
   "metadata": {},
   "source": [
    "Combine both sets with a spatial join."
   ]
  },
  {
   "cell_type": "code",
   "execution_count": 11,
   "metadata": {},
   "outputs": [],
   "source": [
    "wb_joined = gpd.sjoin(wb_pixels, wb_subpixel, how=\"left\")"
   ]
  },
  {
   "cell_type": "code",
   "execution_count": 12,
   "metadata": {},
   "outputs": [],
   "source": [
    "# Add the geometry back in.\n",
    "wb_joined = wb_joined.join(wb_pixels, rsuffix=\"_pixel\").join(\n",
    "    wb_subpixel, on=\"index_right\", rsuffix=\"_subpixel\"\n",
    ")"
   ]
  },
  {
   "cell_type": "markdown",
   "metadata": {},
   "source": [
    "Finally, filter to only include the polygon that maximally overlaps with the DEA Waterbodies polygon."
   ]
  },
  {
   "cell_type": "code",
   "execution_count": 13,
   "metadata": {},
   "outputs": [],
   "source": [
    "biggest_overlap = np.argmax(\n",
    "    [wb.geometry[0].intersection(g).area for g in wb_joined.geometry_pixel]\n",
    ")"
   ]
  },
  {
   "cell_type": "code",
   "execution_count": 14,
   "metadata": {},
   "outputs": [],
   "source": [
    "wb_joined = gpd.GeoDataFrame([wb_joined.iloc[biggest_overlap]])"
   ]
  },
  {
   "cell_type": "markdown",
   "metadata": {},
   "source": [
    "## Shape comparison"
   ]
  },
  {
   "cell_type": "markdown",
   "metadata": {},
   "source": [
    "Let's look at the shape of the waterbody."
   ]
  },
  {
   "cell_type": "code",
   "execution_count": 15,
   "metadata": {},
   "outputs": [
    {
     "data": {
      "text/plain": [
       "<matplotlib.axes._subplots.AxesSubplot at 0x7ffa876ea588>"
      ]
     },
     "execution_count": 15,
     "metadata": {},
     "output_type": "execute_result"
    },
    {
     "data": {
      "image/png": "[encoded data removed]",
      "text/plain": [
       "<Figure size 720x720 with 1 Axes>"
      ]
     },
     "metadata": {
      "needs_background": "light"
     },
     "output_type": "display_data"
    }
   ],
   "source": [
    "fig, ax = plt.subplots(figsize=(10, 10))\n",
    "gpd.GeoDataFrame(geometry=wb_joined.geometry_pixel).plot(\n",
    "    ax=ax, edgecolor=\"blue\", facecolor=\"None\"\n",
    ")\n",
    "gpd.GeoDataFrame(geometry=wb_joined.geometry_subpixel).plot(\n",
    "    ax=ax, edgecolor=\"red\", facecolor=\"None\"\n",
    ")"
   ]
  },
  {
   "cell_type": "markdown",
   "metadata": {},
   "source": [
    "### Exporting the subpixel polygon\n",
    "\n",
    "We can export the subpixel polygon as a GeoJSON file for later review, e.g. for loading into QGIS."
   ]
  },
  {
   "cell_type": "code",
   "execution_count": 16,
   "metadata": {},
   "outputs": [],
   "source": [
    "gpd.GeoDataFrame(geometry=wb_joined.geometry_subpixel, crs='EPSG:3577').to_file(f'{geohash}_subpixel.geojson', driver='GeoJSON')"
   ]
  },
  {
   "cell_type": "markdown",
   "metadata": {},
   "source": [
    "## Extracting time series\n",
    "\n",
    "Now we will generate a surface area time series using both extents."
   ]
  },
  {
   "cell_type": "markdown",
   "metadata": {},
   "source": [
    "### Load WOfS\n",
    "\n",
    "Load WOfS for all available times from 2015 to 2020."
   ]
  },
  {
   "cell_type": "code",
   "execution_count": 17,
   "metadata": {},
   "outputs": [
    {
     "data": {
      "application/vnd.jupyter.widget-view+json": {
       "model_id": "592bdb04e44b43ebb2f2377672f1f589",
       "version_major": 2,
       "version_minor": 0
      },
      "text/plain": [
       "VBox(children=(HBox(children=(Label(value=''), Label(value='')), layout=Layout(justify_content='space-between'…"
      ]
     },
     "metadata": {},
     "output_type": "display_data"
    }
   ],
   "source": [
    "wofs_daily = dc.load(\n",
    "    \"wofs_albers\",\n",
    "    geopolygon=datacube.utils.geometry.Geometry(\n",
    "        wb.geometry.iloc[0].buffer(100), crs=dea_wbs.crs\n",
    "    ),\n",
    "    progress_cbk=with_ui_cbk(),\n",
    "    time=(\"2015-01\", \"2020-01\"),\n",
    ")"
   ]
  },
  {
   "cell_type": "markdown",
   "metadata": {},
   "source": [
    "### Rasterise the waterbodies\n",
    "\n",
    "Rasterise the pixel and subpixel waterbodies. To rasterise the subpixel waterbodies while maintaining their subpixel nature, we'll use a [prototype of a partial-pixel rasterising algorithm](https://gist.github.com/perrygeo/721040f8545272832a42#file-rasterize-py) that was suggested to be added to rasterio, but wasn't ever added."
   ]
  },
  {
   "cell_type": "code",
   "execution_count": 18,
   "metadata": {},
   "outputs": [],
   "source": [
    "def _rasterize_geom(geom, shape, affinetrans, all_touched):\n",
    "    from rasterio import features\n",
    "\n",
    "    indata = [(geom, 1)]\n",
    "    rv_array = features.rasterize(\n",
    "        indata, out_shape=shape, transform=affinetrans, fill=0, all_touched=all_touched\n",
    "    )\n",
    "    return rv_array\n",
    "\n",
    "\n",
    "def rasterize_pctcover(geom, atrans, shape):\n",
    "    import rasterio\n",
    "    import fiona\n",
    "    import numpy as np\n",
    "    from shapely.geometry import box\n",
    "\n",
    "    alltouched = _rasterize_geom(geom, shape, atrans, all_touched=True)\n",
    "    exterior = _rasterize_geom(geom.exterior, shape, atrans, all_touched=True)\n",
    "\n",
    "    # Create percent cover grid as the difference between them\n",
    "    # at this point all cells are known 100% coverage,\n",
    "    # we'll update this array for exterior points\n",
    "    pctcover = 100 * (alltouched - exterior)\n",
    "\n",
    "    # loop through indicies of all exterior cells\n",
    "    for r, c in zip(*np.where(exterior == 1)):\n",
    "\n",
    "        # Find cell bounds, from rasterio DatasetReader.window_bounds\n",
    "        window = ((r, r + 1), (c, c + 1))\n",
    "        ((row_min, row_max), (col_min, col_max)) = window\n",
    "        x_min, y_min = atrans * (col_min, row_max)\n",
    "        x_max, y_max = atrans * (col_max, row_min)\n",
    "        bounds = (x_min, y_min, x_max, y_max)\n",
    "\n",
    "        # Construct shapely geometry of cell\n",
    "        cell = box(*bounds)\n",
    "\n",
    "        # Intersect with original shape\n",
    "        cell_overlap = cell.intersection(geom)\n",
    "\n",
    "        # update pctcover with percentage based on area proportion\n",
    "        coverage = cell_overlap.area / cell.area\n",
    "        pctcover[r, c] = int(coverage * 100)\n",
    "\n",
    "    return pctcover"
   ]
  },
  {
   "cell_type": "code",
   "execution_count": 19,
   "metadata": {},
   "outputs": [],
   "source": [
    "raster_pixel = (\n",
    "    rasterize_pctcover(\n",
    "        wb_joined.iloc[0].geometry_pixel, wofs.geobox.transform, wofs.frequency.shape\n",
    "    )\n",
    "    / 100\n",
    ")\n",
    "raster_subpixel = (\n",
    "    rasterize_pctcover(\n",
    "        wb_joined.iloc[0].geometry_subpixel, wofs.geobox.transform, wofs.frequency.shape\n",
    "    )\n",
    "    / 100\n",
    ")"
   ]
  },
  {
   "cell_type": "markdown",
   "metadata": {},
   "source": [
    "### Count wet pixels\n",
    "\n",
    "For each WOfS observation, multiply the wet pixel mask by the raster mask and sum the result to obtain the wet surface area."
   ]
  },
  {
   "cell_type": "code",
   "execution_count": 20,
   "metadata": {},
   "outputs": [],
   "source": [
    "px_wet_pixel = ((wofs_daily == 128) * raster_pixel).sum(axis=(1, 2)).water\n",
    "px_wet_subpixel = ((wofs_daily == 128) * raster_subpixel).sum(axis=(1, 2)).water"
   ]
  },
  {
   "cell_type": "markdown",
   "metadata": {},
   "source": [
    "Invalid days are those with >10% missing observations."
   ]
  },
  {
   "cell_type": "code",
   "execution_count": 21,
   "metadata": {},
   "outputs": [],
   "source": [
    "missing = (wofs_daily != 128) & (wofs_daily != 0)"
   ]
  },
  {
   "cell_type": "code",
   "execution_count": 22,
   "metadata": {},
   "outputs": [],
   "source": [
    "px_missing_pixel = (missing * raster_pixel).sum(axis=(1, 2)).water\n",
    "px_missing_subpixel = (missing * raster_subpixel).sum(axis=(1, 2)).water"
   ]
  },
  {
   "cell_type": "code",
   "execution_count": 23,
   "metadata": {},
   "outputs": [],
   "source": [
    "invalid_pixel = px_missing_pixel > 0.1 * raster_pixel.sum()\n",
    "invalid_subpixel = px_missing_subpixel > 0.1 * raster_subpixel.sum()"
   ]
  },
  {
   "cell_type": "markdown",
   "metadata": {},
   "source": [
    "### Plot the time series"
   ]
  },
  {
   "cell_type": "code",
   "execution_count": 24,
   "metadata": {},
   "outputs": [],
   "source": [
    "time_series = pd.DataFrame(\n",
    "    {\n",
    "        \"pixel\": px_wet_pixel,\n",
    "        \"subpixel\": px_wet_subpixel,\n",
    "        \"invalid_pixel\": invalid_pixel,\n",
    "        \"invalid_subpixel\": invalid_subpixel,\n",
    "    },\n",
    "    index=pd.DatetimeIndex(wofs_daily.time.values),\n",
    ")"
   ]
  },
  {
   "cell_type": "code",
   "execution_count": 25,
   "metadata": {},
   "outputs": [
    {
     "data": {
      "text/plain": [
       "<matplotlib.axes._subplots.AxesSubplot at 0x7ffa874b8198>"
      ]
     },
     "execution_count": 25,
     "metadata": {},
     "output_type": "execute_result"
    },
    {
     "data": {
      "image/png": "[encoded data removed]",
      "text/plain": [
       "<Figure size 432x288 with 1 Axes>"
      ]
     },
     "metadata": {
      "needs_background": "light"
     },
     "output_type": "display_data"
    }
   ],
   "source": [
    "time_series.pixel[~time_series.invalid_pixel].plot(legend=True)\n",
    "time_series.subpixel[~time_series.invalid_subpixel].plot(legend=True)"
   ]
  },
  {
   "cell_type": "code",
   "execution_count": 26,
   "metadata": {},
   "outputs": [
    {
     "data": {
      "text/plain": [
       "<matplotlib.axes._subplots.AxesSubplot at 0x7ffa8716fa20>"
      ]
     },
     "execution_count": 26,
     "metadata": {},
     "output_type": "execute_result"
    },
    {
     "data": {
      "image/png": "[encoded data removed]",
      "text/plain": [
       "<Figure size 432x288 with 1 Axes>"
      ]
     },
     "metadata": {
      "needs_background": "light"
     },
     "output_type": "display_data"
    }
   ],
   "source": [
    "(time_series.pixel - time_series.subpixel)[\n",
    "    ~(time_series.invalid_pixel | time_series.invalid_subpixel)\n",
    "].plot(label=\"residual\", legend=True)"
   ]
  },
  {
   "cell_type": "markdown",
   "metadata": {},
   "source": [
    "Of course, there is not much difference in the time series for any waterbody of more than a few pixels."
   ]
  },
  {
   "cell_type": "markdown",
   "metadata": {},
   "source": [
    "***\n",
    "\n",
    "## Additional information\n",
    "\n",
    "**License:** The code in this notebook is licensed under the [Apache License, Version 2.0](https://www.apache.org/licenses/LICENSE-2.0). \n",
    "Digital Earth Australia data is licensed under the [Creative Commons by Attribution 4.0](https://creativecommons.org/licenses/by/4.0/) license.\n",
    "\n",
    "**Contact:** If you need assistance, please post a question on the [Open Data Cube Slack channel](http://slack.opendatacube.org/) or on the [GIS Stack Exchange](https://gis.stackexchange.com/questions/ask?tags=open-data-cube) using the `open-data-cube` tag (you can view previously asked questions [here](https://gis.stackexchange.com/questions/tagged/open-data-cube)).\n",
    "If you would like to report an issue with this notebook, you can file one on [Github](https://github.com/GeoscienceAustralia/dea-notebooks).\n",
    "\n",
    "**Last modified:** October 2020\n",
    "\n",
    "**Compatible datacube version:** "
   ]
  },
  {
   "cell_type": "code",
   "execution_count": 27,
   "metadata": {},
   "outputs": [
    {
     "name": "stdout",
     "output_type": "stream",
     "text": [
      "1.8.3\n"
     ]
    }
   ],
   "source": [
    "print(datacube.__version__)"
   ]
  },
  {
   "cell_type": "markdown",
   "metadata": {},
   "source": [
    "## Tags\n",
    "Browse all available tags on the DEA User Guide's [Tags Index](https://docs.dea.ga.gov.au/genindex.html)"
   ]
  },
  {
   "cell_type": "raw",
   "metadata": {
    "raw_mimetype": "text/restructuredtext"
   },
   "source": [
    "**Tags**: :index:`NCI compatible`, :index:`sandbox compatible`, :index:`time series`, :index:`water`, :index:`waterbodies`"
   ]
  },
  {
   "cell_type": "code",
   "execution_count": null,
   "metadata": {},
   "outputs": [],
   "source": []
  }
 ],
 "metadata": {
  "kernelspec": {
   "display_name": "Python 3",
   "language": "python",
   "name": "python3"
  },
  "language_info": {
   "codemirror_mode": {
    "name": "ipython",
    "version": 3
   },
   "file_extension": ".py",
   "mimetype": "text/x-python",
   "name": "python",
   "nbconvert_exporter": "python",
   "pygments_lexer": "ipython3",
   "version": "3.6.9"
  },
  "widgets": {
   "application/vnd.jupyter.widget-state+json": {
    "state": {
     "02787a1f8d4d4278a58d637b9ff37011": {
      "model_module": "@jupyter-widgets/base",
      "model_module_version": "1.2.0",
      "model_name": "LayoutModel",
      "state": {
       "justify_content": "space-between"
      }
     },
     "04462d5aa68c4e1588d1277d9ffbb890": {
      "model_module": "@jupyter-widgets/controls",
      "model_module_version": "1.5.0",
      "model_name": "ProgressStyleModel",
      "state": {
       "description_width": ""
      }
     },
     "0df1a16736ca450f956314d17bd96267": {
      "model_module": "@jupyter-widgets/base",
      "model_module_version": "1.2.0",
      "model_name": "LayoutModel",
      "state": {}
     },
     "122e9798ac59437e83e3e6fe8497cf87": {
      "model_module": "@jupyter-widgets/controls",
      "model_module_version": "1.5.0",
      "model_name": "DescriptionStyleModel",
      "state": {
       "description_width": ""
      }
     },
     "29c9683e06c24b7b941fe756c17fac64": {
      "model_module": "@jupyter-widgets/controls",
      "model_module_version": "1.5.0",
      "model_name": "LabelModel",
      "state": {
       "layout": "IPY_MODEL_0df1a16736ca450f956314d17bd96267",
       "style": "IPY_MODEL_122e9798ac59437e83e3e6fe8497cf87",
       "value": "470 of 470"
      }
     },
     "592bdb04e44b43ebb2f2377672f1f589": {
      "model_module": "@jupyter-widgets/controls",
      "model_module_version": "1.5.0",
      "model_name": "VBoxModel",
      "state": {
       "children": [
        "IPY_MODEL_6a36b338ef6543d296ebd9ce5a81e21e",
        "IPY_MODEL_73284dc4b01342029d2d4fe24b227a85"
       ],
       "layout": "IPY_MODEL_e28fb6a3fad14f94b487c5039e74d304"
      }
     },
     "6a36b338ef6543d296ebd9ce5a81e21e": {
      "model_module": "@jupyter-widgets/controls",
      "model_module_version": "1.5.0",
      "model_name": "HBoxModel",
      "state": {
       "children": [
        "IPY_MODEL_9fc9416afb4045438966f7338e8e10cb",
        "IPY_MODEL_29c9683e06c24b7b941fe756c17fac64"
       ],
       "layout": "IPY_MODEL_02787a1f8d4d4278a58d637b9ff37011"
      }
     },
     "73284dc4b01342029d2d4fe24b227a85": {
      "model_module": "@jupyter-widgets/controls",
      "model_module_version": "1.5.0",
      "model_name": "HBoxModel",
      "state": {
       "children": [
        "IPY_MODEL_bafaebaf761f415f88b2323f61829cd0"
       ],
       "layout": "IPY_MODEL_af88316ebbee4cd1b124b6c18a563da8"
      }
     },
     "95dfb2a7ad58443db92fa2563f95c652": {
      "model_module": "@jupyter-widgets/base",
      "model_module_version": "1.2.0",
      "model_name": "LayoutModel",
      "state": {}
     },
     "9bd99b2c01c34df886cc90d24be92268": {
      "model_module": "@jupyter-widgets/controls",
      "model_module_version": "1.5.0",
      "model_name": "DescriptionStyleModel",
      "state": {
       "description_width": ""
      }
     },
     "9fc9416afb4045438966f7338e8e10cb": {
      "model_module": "@jupyter-widgets/controls",
      "model_module_version": "1.5.0",
      "model_name": "LabelModel",
      "state": {
       "layout": "IPY_MODEL_95dfb2a7ad58443db92fa2563f95c652",
       "style": "IPY_MODEL_9bd99b2c01c34df886cc90d24be92268",
       "value": "FPS: 6.1"
      }
     },
     "af88316ebbee4cd1b124b6c18a563da8": {
      "model_module": "@jupyter-widgets/base",
      "model_module_version": "1.2.0",
      "model_name": "LayoutModel",
      "state": {}
     },
     "bafaebaf761f415f88b2323f61829cd0": {
      "model_module": "@jupyter-widgets/controls",
      "model_module_version": "1.5.0",
      "model_name": "IntProgressModel",
      "state": {
       "layout": "IPY_MODEL_f8d588e9a80f4463beb1d85a82814db2",
       "max": 470,
       "style": "IPY_MODEL_04462d5aa68c4e1588d1277d9ffbb890",
       "value": 470
      }
     },
     "e28fb6a3fad14f94b487c5039e74d304": {
      "model_module": "@jupyter-widgets/base",
      "model_module_version": "1.2.0",
      "model_name": "LayoutModel",
      "state": {
       "width": "100%"
      }
     },
     "f8d588e9a80f4463beb1d85a82814db2": {
      "model_module": "@jupyter-widgets/base",
      "model_module_version": "1.2.0",
      "model_name": "LayoutModel",
      "state": {
       "width": "100%"
      }
     }
    },
    "version_major": 2,
    "version_minor": 0
   }
  }
 },
 "nbformat": 4,
 "nbformat_minor": 4
}
