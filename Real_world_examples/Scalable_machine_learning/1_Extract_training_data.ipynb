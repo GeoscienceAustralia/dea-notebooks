{
 "cells": [
  {
   "cell_type": "markdown",
   "metadata": {},
   "source": [
    "# Extracting training data from the ODC  <img align=\"right\" src=\"../../Supplementary_data/dea_logo.jpg\">\n",
    "\n",
    "* [**Sign up to the DEA Sandbox**](https://docs.dea.ga.gov.au/setup/sandbox.html) to run this notebook interactively from a browser\n",
    "* **Compatibility:** Notebook currently compatible with the `DEA Sandbox` environment\n",
    "* **Products used:** \n",
    "[ls8_nbart_geomedian_annual](https://explorer.sandbox.dea.ga.gov.au/products/ls8_nbart_geomedian_annual/extents),\n",
    "[ls8_nbart_tmad_annual](https://explorer.sandbox.dea.ga.gov.au/products/ls8_nbart_tmad_annual/extents),\n",
    "[fc_percentile_albers_annual](https://explorer.sandbox.dea.ga.gov.au/products/fc_percentile_albers_annual/extents)"
   ]
  },
  {
   "cell_type": "markdown",
   "metadata": {},
   "source": [
    "## Background\n",
    "\n",
    "**Training data** is the most important part of any supervised machine learning workflow. The quality of the training data has a greater impact on the classification than the algorithm used. Large and accurate training data sets are preferable: increasing the training sample size results in increased classification accuracy ([Maxell et al 2018](https://www.tandfonline.com/doi/full/10.1080/01431161.2018.1433343)).  A review of training data methods in the context of Earth Observation is available [here](https://www.mdpi.com/2072-4292/12/6/1034) \n",
    "\n",
    "When creating training labels, be sure to capture the **spectral variability** of the class, and to use imagery from the time period you want to classify (rather than relying on basemap composites). Another common problem with training data is **class imbalance**. This can occur when one of your classes is relatively rare and therefore the rare class will comprise a smaller proportion of the training set. When imbalanced data is used, it is common that the final classification will under-predict less abundant classes relative to their true proportion.\n",
    "\n",
    "There are many platforms to use for gathering training labels, the best one to use depends on your application. GIS platforms are great for collection training data as they are highly flexible and mature platforms; [Geo-Wiki](https://www.geo-wiki.org/) and [Collect Earth Online](https://collect.earth/home) are two open-source websites that may also be useful depending on the reference data strategy employed. Alternatively, there are many pre-existing training datasets on the web that may be useful, e.g. [Radiant Earth](https://www.radiant.earth/) manages a growing number of reference datasets for use by anyone.\n"
   ]
  },
  {
   "cell_type": "markdown",
   "metadata": {},
   "source": [
    "## Description\n",
    "This notebook will extract training data (feature layers, in machine learning parlance) from the `open-data-cube` using labelled geometries within a geojson. The default example will use the crop/non-crop labels within the `'data/crop_training_WA.geojson'` file. This reference data was acquired and pre-processed from the USGS's Global Food Security Analysis Data portal [here](https://croplands.org/app/data/search?page=1&page_size=200) and [here](https://e4ftl01.cr.usgs.gov/MEASURES/GFSAD30VAL.001/2008.01.01/).\n",
    "\n",
    "To do this, we rely on a custom `dea-notebooks` function called `collect_training_data`, contained within the [dea_tools.classification](../../Tools/dea_tools/classification.py) script.  The principal goal of this notebook is to familarise users with this function so they can extract the appropriate data for their use-case. The default example also highlights extracting a set of useful feature layers for generating a cropland mask forWA.\n",
    "\n",
    "1. Preview the polygons in our training data by plotting them on a basemap\n",
    "2. Extract training data from the datacube using `collect_training_data`'s inbuilt feature layer parameters\n",
    "3. Extract training data from the datacube using a **custom defined feature layer function** that we can pass to `collect_training_data`\n",
    "4. Export the training data to disk for use in subsequent scripts\n",
    "\n",
    "***"
   ]
  },
  {
   "cell_type": "markdown",
   "metadata": {},
   "source": [
    "## Getting started\n",
    "\n",
    "To run this analysis, run all the cells in the notebook, starting with the \"Load packages\" cell. "
   ]
  },
  {
   "cell_type": "markdown",
   "metadata": {},
   "source": [
    "### Load packages\n"
   ]
  },
  {
   "cell_type": "code",
   "execution_count": 1,
   "metadata": {},
   "outputs": [
    {
     "name": "stderr",
     "output_type": "stream",
     "text": [
      "/env/lib/python3.6/site-packages/geopandas/_compat.py:88: UserWarning: The Shapely GEOS version (3.7.2-CAPI-1.11.0 ) is incompatible with the GEOS version PyGEOS was compiled with (3.9.0-CAPI-1.16.2). Conversions between both will be slow.\n",
      "  shapely_geos_version, geos_capi_version_string\n",
      "/env/lib/python3.6/site-packages/datacube/storage/masking.py:8: DeprecationWarning: datacube.storage.masking has moved to datacube.utils.masking\n",
      "  category=DeprecationWarning)\n"
     ]
    }
   ],
   "source": [
    "%matplotlib inline\n",
    "\n",
    "import os\n",
    "import sys\n",
    "import datacube\n",
    "import numpy as np\n",
    "import xarray as xr\n",
    "import subprocess as sp\n",
    "import geopandas as gpd\n",
    "from odc.io.cgroups import get_cpu_quota\n",
    "from datacube.utils.geometry import assign_crs\n",
    "\n",
    "sys.path.append('../../Scripts')\n",
    "from dea_plotting import map_shapefile\n",
    "from dea_bandindices import calculate_indices\n",
    "from dea_classificationtools import collect_training_data\n",
    "\n",
    "import warnings\n",
    "warnings.filterwarnings(\"ignore\")"
   ]
  },
  {
   "cell_type": "markdown",
   "metadata": {},
   "source": [
    "## Analysis parameters\n",
    "\n",
    "* `path`: The path to the input vector file from which we will extract training data. A default geojson is provided.\n",
    "* `field`: This is the name of column in your shapefile attribute table that contains the class labels. **The class labels must be integers**\n"
   ]
  },
  {
   "cell_type": "code",
   "execution_count": 2,
   "metadata": {},
   "outputs": [],
   "source": [
    "path = 'data/crop_training_WA.geojson' \n",
    "field = 'class'"
   ]
  },
  {
   "cell_type": "markdown",
   "metadata": {},
   "source": [
    "### Find the number of CPUs"
   ]
  },
  {
   "cell_type": "code",
   "execution_count": 3,
   "metadata": {},
   "outputs": [
    {
     "name": "stdout",
     "output_type": "stream",
     "text": [
      "ncpus = 7\n"
     ]
    }
   ],
   "source": [
    "ncpus = round(get_cpu_quota())\n",
    "print('ncpus = ' + str(ncpus))"
   ]
  },
  {
   "cell_type": "markdown",
   "metadata": {},
   "source": [
    "## Preview input data\n",
    "\n",
    "We can load and preview our input data shapefile using `geopandas`. The shapefile should contain a column with class labels (e.g. 'class'). These labels will be used to train our model. \n",
    "\n",
    "> Remember, the class labels **must** be represented by `integers`.\n"
   ]
  },
  {
   "cell_type": "code",
   "execution_count": 4,
   "metadata": {},
   "outputs": [
    {
     "data": {
      "text/html": [
       "<div>\n",
       "<style scoped>\n",
       "    .dataframe tbody tr th:only-of-type {\n",
       "        vertical-align: middle;\n",
       "    }\n",
       "\n",
       "    .dataframe tbody tr th {\n",
       "        vertical-align: top;\n",
       "    }\n",
       "\n",
       "    .dataframe thead th {\n",
       "        text-align: right;\n",
       "    }\n",
       "</style>\n",
       "<table border=\"1\" class=\"dataframe\">\n",
       "  <thead>\n",
       "    <tr style=\"text-align: right;\">\n",
       "      <th></th>\n",
       "      <th>class</th>\n",
       "      <th>geometry</th>\n",
       "    </tr>\n",
       "  </thead>\n",
       "  <tbody>\n",
       "    <tr>\n",
       "      <th>0</th>\n",
       "      <td>1</td>\n",
       "      <td>POINT (116.60407 -31.46883)</td>\n",
       "    </tr>\n",
       "    <tr>\n",
       "      <th>1</th>\n",
       "      <td>1</td>\n",
       "      <td>POINT (117.03464 -32.40830)</td>\n",
       "    </tr>\n",
       "    <tr>\n",
       "      <th>2</th>\n",
       "      <td>1</td>\n",
       "      <td>POINT (117.30838 -32.33747)</td>\n",
       "    </tr>\n",
       "    <tr>\n",
       "      <th>3</th>\n",
       "      <td>1</td>\n",
       "      <td>POINT (116.74607 -31.63750)</td>\n",
       "    </tr>\n",
       "    <tr>\n",
       "      <th>4</th>\n",
       "      <td>1</td>\n",
       "      <td>POINT (116.85817 -33.00131)</td>\n",
       "    </tr>\n",
       "  </tbody>\n",
       "</table>\n",
       "</div>"
      ],
      "text/plain": [
       "   class                     geometry\n",
       "0      1  POINT (116.60407 -31.46883)\n",
       "1      1  POINT (117.03464 -32.40830)\n",
       "2      1  POINT (117.30838 -32.33747)\n",
       "3      1  POINT (116.74607 -31.63750)\n",
       "4      1  POINT (116.85817 -33.00131)"
      ]
     },
     "execution_count": 4,
     "metadata": {},
     "output_type": "execute_result"
    }
   ],
   "source": [
    "# Load input data shapefile\n",
    "input_data = gpd.read_file(path)\n",
    "\n",
    "# Plot first five rows\n",
    "input_data.head()"
   ]
  },
  {
   "cell_type": "code",
   "execution_count": 5,
   "metadata": {},
   "outputs": [
    {
     "data": {
      "application/vnd.jupyter.widget-view+json": {
       "model_id": "31539b2eeac74bc5b08d29931526c1db",
       "version_major": 2,
       "version_minor": 0
      },
      "text/plain": [
       "Label(value='')"
      ]
     },
     "metadata": {},
     "output_type": "display_data"
    },
    {
     "data": {
      "application/vnd.jupyter.widget-view+json": {
       "model_id": "379dd33783f74dfa9bc82073e00f1bea",
       "version_major": 2,
       "version_minor": 0
      },
      "text/plain": [
       "Map(center=[-24.339063785033826, 121.68669274816531], controls=(ZoomControl(options=['position', 'zoom_in_text…"
      ]
     },
     "metadata": {},
     "output_type": "display_data"
    }
   ],
   "source": [
    "# Plot training data in an interactive map\n",
    "map_shapefile(input_data, attribute=field)"
   ]
  },
  {
   "cell_type": "markdown",
   "metadata": {},
   "source": [
    "## Extracting training data\n",
    "\n",
    "The function `collect_training_data` takes our geojson containing class labels and extracts training data (features) from the datacube over the locations specified by the input geometries. The function will also pre-process our training data by stacking the arrays into a useful format and removing any `NaN` or `inf` values. \n",
    "\n",
    "`Collect_training_data` has the ability to generate many different types of **feature layers**. Relatively simple layers can be calculated using pre-defined parameters within the function, while more complex layers can be computed by passing in a `custom_func`. To begin with, let's try generating feature layers using the pre-defined methods.\n",
    "\n",
    "The in-built feature layer parameters are described below:\n",
    "\n",
    "* `product`: The name of the product to extract from the datacube. In this example we use a Landsat 8 geomedian composite from 2019, `'ls8_nbart_geomedian_annual'`\n",
    "* `time`: The time range from which to extract data\n",
    "* `calc_indices`: This parameter provides a method for calculating a number of remote sensing indices (e.g. `['NDWI', 'NDVI']`). Any of the indices found in the [dea_tools.bandindices](../../Tools/dea_tools/bandindices.py) script can be used here\n",
    "* `drop`: If this variable is set to `True`, and 'calc_indices' are supplied, the spectral bands will be dropped from the dataset leaving only the band indices as data variables in the dataset.\n",
    "* `reduce_func`: The classification models we're applying here require our training data to be in two dimensions (ie. `x` & `y`). If our data has a time-dimension (e.g. if we load in an annual time-series of satellite images) then we need to collapse the time dimension.  `reduce_func` is simply the summary statistic used to collapse the temporal dimension. Options are 'mean', 'median', 'std', 'max', 'min', and 'geomedian'. In the default example we are loading a geomedian composite, so there is no time dimension to reduce.\n",
    "* `zonal_stats`: An optional string giving the names of zonal statistics to calculate across each polygon. Default is `None` (all pixel values are returned). Supported values are 'mean', 'median', 'max', and 'min'.\n",
    "* `return_coords` : If `True`, then the training data will contain two extra columns 'x_coord' and 'y_coord' corresponding to the x,y coordinate of each sample. This variable can be useful for handling spatial autocorrelation between samples later on in the ML workflow when we conduct k-fold cross validation.\n",
    "\n",
    "> Note: `collect_training_data` also has a number of additional parameters for handling ODC I/O read failures, where polygons that return an excessive number of null values can be resubmitted to the multiprocessing queue.  Check out the [docs](https://github.com/GeoscienceAustralia/dea-notebooks/blob/68d3526f73779f3316c5e28001c69f556c0d39ae/Tools/dea_tools/classification.py#L661) to learn more. \n",
    "\n",
    "In addition to the parameters required for `collect_training_data`, we also need to set up a few parameters for the Open Data Cube query, such as `measurements` (the bands to load from the satellite), the `resolution` (the cell size), and the `output_crs` (the output projection). "
   ]
  },
  {
   "cell_type": "code",
   "execution_count": 6,
   "metadata": {},
   "outputs": [],
   "source": [
    "# Set up our inputs to collect_training_data\n",
    "products = ['ls8_nbart_geomedian_annual']\n",
    "time = ('2014')\n",
    "reduce_func = None\n",
    "calc_indices = ['NDVI', 'MNDWI']\n",
    "drop = False\n",
    "zonal_stats = 'median'\n",
    "return_coords = True\n",
    "\n",
    "# Set up the inputs for the ODC query\n",
    "measurements = ['blue', 'green', 'red', 'nir', 'swir1', 'swir2']\n",
    "resolution = (-30, 30)\n",
    "output_crs = 'epsg:3577'"
   ]
  },
  {
   "cell_type": "markdown",
   "metadata": {},
   "source": [
    "Generate a datacube query object from the parameters above:"
   ]
  },
  {
   "cell_type": "code",
   "execution_count": 7,
   "metadata": {},
   "outputs": [],
   "source": [
    "query = {\n",
    "    'time': time,\n",
    "    'measurements': measurements,\n",
    "    'resolution': resolution,\n",
    "    'output_crs': output_crs,\n",
    "    'group_by': 'solar_day',\n",
    "}"
   ]
  },
  {
   "cell_type": "markdown",
   "metadata": {},
   "source": [
    "Now let's run the `collect_training_data` function. We will limit this run to only a subset of all samples (first 100) as here we are only demonstrating the use of the function. Futher on in the notebook we will rerun this function but with all the polygons in the training data.\n",
    "\n",
    "> **Note**: With supervised classification, its common to have many, many labelled geometries in the training data. `collect_training_data` can parallelize across the geometries in order to speed up the extracting of training data. Setting `ncpus>1` will automatically trigger the parallelization. However, its best to set `ncpus=1` to begin with to assist with debugging before triggering the parallelization.  You can also limit the number of polygons to run when checking code. For example, passing in `gdf=input_data[0:5]` will only run the code over the first 5 polygons."
   ]
  },
  {
   "cell_type": "code",
   "execution_count": 8,
   "metadata": {},
   "outputs": [
    {
     "name": "stdout",
     "output_type": "stream",
     "text": [
      "Calculating indices: ['NDVI', 'MNDWI']\n",
      "Taking zonal statistic: median\n",
      "Collecting training data in parallel mode\n"
     ]
    },
    {
     "name": "stderr",
     "output_type": "stream",
     "text": [
      "100%|██████████| 100/100 [00:10<00:00,  9.36it/s]"
     ]
    },
    {
     "name": "stdout",
     "output_type": "stream",
     "text": [
      "Percentage of possible fails after run 1 = 0.0 %\n",
      "Removed 0 rows wth NaNs &/or Infs\n",
      "Output shape:  (100, 11)\n"
     ]
    },
    {
     "name": "stderr",
     "output_type": "stream",
     "text": [
      "\n"
     ]
    }
   ],
   "source": [
    "column_names, model_input = collect_training_data(gdf=input_data[0:100],\n",
    "                                                  products=products,\n",
    "                                                  dc_query=query,\n",
    "                                                  ncpus=ncpus,\n",
    "                                                  return_coords=return_coords,\n",
    "                                                  field=field,\n",
    "                                                  calc_indices=calc_indices,\n",
    "                                                  reduce_func=reduce_func,\n",
    "                                                  drop=drop,\n",
    "                                                  zonal_stats=zonal_stats)"
   ]
  },
  {
   "cell_type": "markdown",
   "metadata": {},
   "source": [
    "The function returns two numpy arrays, the first (`column_names`) contains a list of the names of the feature layers we've computed:"
   ]
  },
  {
   "cell_type": "code",
   "execution_count": 9,
   "metadata": {},
   "outputs": [
    {
     "name": "stdout",
     "output_type": "stream",
     "text": [
      "['class', 'blue', 'green', 'red', 'nir', 'swir1', 'swir2', 'NDVI', 'MNDWI', 'x_coord', 'y_coord']\n"
     ]
    }
   ],
   "source": [
    "print(column_names)"
   ]
  },
  {
   "cell_type": "markdown",
   "metadata": {},
   "source": [
    "The second array (`model_input`) contains the data from our labelled geometries. The first item in the array is the class integer (e.g. in the default example 1. 'crop', or 0. 'noncrop'), the second set of items are the values for each feature layer we computed:"
   ]
  },
  {
   "cell_type": "code",
   "execution_count": 10,
   "metadata": {},
   "outputs": [
    {
     "name": "stdout",
     "output_type": "stream",
     "text": [
      "[[       1.        809.       1249.   ...       -0.45 -1447515.\n",
      "  -3510225.  ]\n",
      " [       1.        950.       1506.   ...       -0.4  -1430025.\n",
      "  -3532245.  ]\n",
      " [       1.       1089.       1526.   ...       -0.45 -1368555.\n",
      "  -3603855.  ]\n",
      " ...\n",
      " [       1.        843.       1171.   ...       -0.47 -1300185.\n",
      "  -3646395.  ]\n",
      " [       1.        827.       1120.   ...       -0.52 -1544385.\n",
      "  -3460635.  ]\n",
      " [       1.        816.       1087.   ...       -0.46 -1305465.\n",
      "  -3660765.  ]]\n"
     ]
    }
   ],
   "source": [
    "print(np.array_str(model_input, precision=2, suppress_small=True))"
   ]
  },
  {
   "cell_type": "markdown",
   "metadata": {},
   "source": [
    "## Custom feature layers\n",
    "\n",
    "The feature layers that are most relevant for discriminating the classes of your classification problem may be more complicated than those provided in the `collect_training_data` function.  In this case, we can pass a custom feature layer function through the `custom_func` parameter. Below, we will use a custom function to recollect training data (overwriting the previous example above).  \n",
    "\n",
    "* `custom_func`: A custom function for generating feature layers. If this parameter is set, all other options (excluding 'zonal_stats'), will be ignored. The result of the 'custom_func' must be a single xarray dataset containing 2D coordinates (i.e x and y with no time dimension). The custom function has access to the datacube dataset extracted using the `dc_query` params. To load other datasets, you can use the `like=ds.geobox` parameter in `dc.load`\n",
    "\n",
    "First, lets define a custom feature layer function. This function is fairly basic and replicates some of what the `collect_training_data` function can do, but you can build these custom functions as complex as you like. We will calculate some band indices on the Landsat 8 geomedian, append the ternary median aboslute deviation dataset from the same year: [ls8_nbart_tmad_annual](https://explorer.sandbox.dea.ga.gov.au/products/ls8_nbart_tmad_annual/extents), and append fractional cover percentiles for the photosynthetic vegetation band, also from the same year: [fc_percentile_albers_annual](https://explorer.sandbox.dea.ga.gov.au/products/fc_percentile_albers_annual/extents)."
   ]
  },
  {
   "cell_type": "code",
   "execution_count": 11,
   "metadata": {},
   "outputs": [],
   "source": [
    "def custom_reduce_function(ds):\n",
    "    \n",
    "    # Calculate some band indices\n",
    "    da = calculate_indices(ds,\n",
    "                           index=['NDVI', 'LAI', 'MNDWI'],\n",
    "                           drop=False,\n",
    "                           collection='ga_ls_2')\n",
    "    \n",
    "    # Connect to datacube to add TMADs product\n",
    "    dc = datacube.Datacube(app='custom_feature_layers')\n",
    "    \n",
    "    # Add TMADs dataset\n",
    "    tmad = dc.load(product='ls8_nbart_tmad_annual',\n",
    "                   measurements=['sdev','edev','bcdev'],\n",
    "                   like=ds.geobox, #will match geomedian extent\n",
    "                   time='2014' #same as geomedian\n",
    "                  )\n",
    "    \n",
    "    # Add Fractional cover percentiles\n",
    "    fc = dc.load(product='fc_percentile_albers_annual',\n",
    "                   measurements=['PV_PC_10','PV_PC_50','PV_PC_90'], #only the PV band\n",
    "                   like=ds.geobox, #will match geomedian extent\n",
    "                   time='2014' #same as geomedian\n",
    "                  )\n",
    "\n",
    "    # Merge results into single dataset \n",
    "    result = xr.merge([da, tmad, fc],compat='override')\n",
    "\n",
    "    return result.squeeze()"
   ]
  },
  {
   "cell_type": "markdown",
   "metadata": {},
   "source": [
    "Now, we can pass this function to `collect_training_data`. We will redefine our intial parameters to align with the new custom function.  Remember, passing in a `custom_func` to `collect_training_data` means many of the other feature layer parameters are ignored.\n"
   ]
  },
  {
   "cell_type": "code",
   "execution_count": 12,
   "metadata": {},
   "outputs": [],
   "source": [
    "# Set up our inputs to collect_training_data\n",
    "products = ['ls8_nbart_geomedian_annual']\n",
    "time = ('2014')\n",
    "zonal_stats = 'median'\n",
    "return_coords = True\n",
    "\n",
    "# Set up the inputs for the ODC query\n",
    "measurements = ['blue', 'green', 'red', 'nir', 'swir1', 'swir2']\n",
    "\n",
    "resolution = (-30, 30)\n",
    "output_crs = 'epsg:3577'"
   ]
  },
  {
   "cell_type": "code",
   "execution_count": 13,
   "metadata": {},
   "outputs": [],
   "source": [
    "# Generate a new datacube query object\n",
    "query = {\n",
    "    'time': time,\n",
    "    'measurements': measurements,\n",
    "    'resolution': resolution,\n",
    "    'output_crs': output_crs,\n",
    "    'group_by': 'solar_day',\n",
    "}"
   ]
  },
  {
   "cell_type": "markdown",
   "metadata": {},
   "source": [
    "Below we collect training data from the datacube using the custom function. This will take around 5-6 minutes to run all 430 samples on the default sandbox as it only has two cpus."
   ]
  },
  {
   "cell_type": "code",
   "execution_count": 14,
   "metadata": {},
   "outputs": [
    {
     "name": "stdout",
     "output_type": "stream",
     "text": [
      "Reducing data using user supplied custom function\n",
      "Taking zonal statistic: median\n",
      "Collecting training data in parallel mode\n"
     ]
    },
    {
     "name": "stderr",
     "output_type": "stream",
     "text": [
      "100%|██████████| 430/430 [01:50<00:00,  3.91it/s]"
     ]
    },
    {
     "name": "stdout",
     "output_type": "stream",
     "text": [
      "Percentage of possible fails after run 1 = 0.0 %\n",
      "Removed 0 rows wth NaNs &/or Infs\n",
      "Output shape:  (430, 18)\n",
      "CPU times: user 1.04 s, sys: 195 ms, total: 1.23 s\n",
      "Wall time: 1min 50s\n"
     ]
    },
    {
     "name": "stderr",
     "output_type": "stream",
     "text": [
      "\n"
     ]
    }
   ],
   "source": [
    "%%time\n",
    "column_names, model_input = collect_training_data(\n",
    "    gdf=input_data,\n",
    "    products=products,\n",
    "    dc_query=query,\n",
    "    ncpus=ncpus,\n",
    "    return_coords=return_coords,\n",
    "    field=field,\n",
    "    zonal_stats=zonal_stats,\n",
    "    custom_func=custom_reduce_function)"
   ]
  },
  {
   "cell_type": "code",
   "execution_count": 15,
   "metadata": {},
   "outputs": [
    {
     "name": "stdout",
     "output_type": "stream",
     "text": [
      "['class', 'blue', 'green', 'red', 'nir', 'swir1', 'swir2', 'NDVI', 'LAI', 'MNDWI', 'sdev', 'edev', 'bcdev', 'PV_PC_10', 'PV_PC_50', 'PV_PC_90', 'x_coord', 'y_coord']\n",
      "\n",
      "[[       1.     1005.     1464. ...       68. -1393035. -3614685.]\n",
      " [       1.      952.     1407. ...       71. -1319175. -3597135.]\n",
      " [       1.     1089.     1526. ...       69. -1368555. -3603855.]\n",
      " ...\n",
      " [       0.      579.     1070. ...       11. -1690725. -2826555.]\n",
      " [       0.      667.     1049. ...       22.  -516825. -3463935.]\n",
      " [       0.      519.      744. ...       48.  -698085. -1657005.]]\n"
     ]
    }
   ],
   "source": [
    "print(column_names)\n",
    "print('')\n",
    "print(np.array_str(model_input, precision=2, suppress_small=True))"
   ]
  },
  {
   "cell_type": "markdown",
   "metadata": {},
   "source": [
    "## Separate coordinate data\n",
    "\n",
    "By setting `return_coords=True` in the `collect_training_data` function, our training data now has two extra columns called `x_coord` and `y_coord`.  We need to separate these from our training dataset as they will not be used to train the machine learning model. Instead, these variables will be used to help conduct Spatial K-fold Cross validation (SKVC) in the notebook `3_Evaluate_optimize_fit_classifier`.  For more information on why this is important, see this [article](https://www.tandfonline.com/doi/abs/10.1080/13658816.2017.1346255?journalCode=tgis20)."
   ]
  },
  {
   "cell_type": "code",
   "execution_count": 16,
   "metadata": {},
   "outputs": [],
   "source": [
    "# Select the variables we want to use to train our model\n",
    "coord_variables = ['x_coord', 'y_coord']\n",
    "\n",
    "# Extract relevant indices from the processed shapefile\n",
    "model_col_indices = [column_names.index(var_name) for var_name in coord_variables]\n",
    "\n",
    "# Export to coordinates to file\n",
    "np.savetxt(\"results/training_data_coordinates.txt\", model_input[:, model_col_indices])\n"
   ]
  },
  {
   "cell_type": "markdown",
   "metadata": {},
   "source": [
    "## Export training data\n",
    "\n",
    "Once we've collected all the training data we require, we can write the data to disk. This will allow us to import the data in the next step(s) of the workflow.\n"
   ]
  },
  {
   "cell_type": "code",
   "execution_count": 17,
   "metadata": {},
   "outputs": [],
   "source": [
    "# Set the name and location of the output file\n",
    "output_file = \"results/test_training_data.txt\""
   ]
  },
  {
   "cell_type": "code",
   "execution_count": 18,
   "metadata": {},
   "outputs": [],
   "source": [
    "# Grab all columns except the x-y coords\n",
    "model_col_indices = [column_names.index(var_name) for var_name in column_names[0:-2]]\n",
    "\n",
    "# Export files to disk\n",
    "np.savetxt(output_file, model_input[:, model_col_indices], header=\" \".join(column_names[0:-2]), fmt=\"%4f\")"
   ]
  },
  {
   "cell_type": "markdown",
   "metadata": {},
   "source": [
    "## Recommended next steps\n",
    "\n",
    "To continue working through the notebooks in this `Scalable Machine Learning on the ODC` workflow, go to the next notebook `2_Inspect_training_data.ipynb`.\n",
    "\n",
    "1. **Extracting training data from the ODC (this notebook)**\n",
    "2. [Inspecting training data](2_Inspect_training_data.ipynb)\n",
    "3. [Evaluate, optimize, and fit a classifier](3_Evaluate_optimize_fit_classifier.ipynb)\n",
    "4. [Classifying satellite data](4_Classify_satellite_data.ipynb)\n",
    "5. [Object-based filtering of pixel classifications](5_Object-based_filtering.ipynb)\n"
   ]
  },
  {
   "cell_type": "markdown",
   "metadata": {},
   "source": [
    "***\n",
    "\n",
    "## Additional information\n",
    "\n",
    "**License:** The code in this notebook is licensed under the [Apache License, Version 2.0](https://www.apache.org/licenses/LICENSE-2.0). \n",
    "Digital Earth Australia data is licensed under the [Creative Commons by Attribution 4.0](https://creativecommons.org/licenses/by/4.0/) license.\n",
    "\n",
    "**Contact:** If you need assistance, please post a question on the [Open Data Cube Slack channel](http://slack.opendatacube.org/) or on the [GIS Stack Exchange](https://gis.stackexchange.com/questions/ask?tags=open-data-cube) using the `open-data-cube` tag (you can view previously asked questions [here](https://gis.stackexchange.com/questions/tagged/open-data-cube)).\n",
    "If you would like to report an issue with this notebook, you can file one on [Github](https://github.com/GeoscienceAustralia/dea-notebooks).\n",
    "\n",
    "**Last modified:** March 2021\n",
    "\n",
    "**Compatible datacube version:** "
   ]
  },
  {
   "cell_type": "code",
   "execution_count": 19,
   "metadata": {},
   "outputs": [
    {
     "name": "stdout",
     "output_type": "stream",
     "text": [
      "1.8.4.dev52+g07bc51a5\n"
     ]
    }
   ],
   "source": [
    "print(datacube.__version__)"
   ]
  },
  {
   "cell_type": "markdown",
   "metadata": {},
   "source": [
    "## Tags\n",
    "Browse all available tags on the DEA User Guide's [Tags Index](https://docs.dea.ga.gov.au/genindex.html)"
   ]
  },
  {
   "cell_type": "raw",
   "metadata": {
    "raw_mimetype": "text/restructuredtext"
   },
   "source": [
    "**Tags** :index:`Landsat 8 geomedian`, :index:`Landsat 8 TMAD`, :index:`machine learning`, :index:`collect_training_data`, :index:`Fractional Cover`"
   ]
  }
 ],
 "metadata": {
  "kernelspec": {
   "display_name": "Python 3",
   "language": "python",
   "name": "python3"
  },
  "language_info": {
   "codemirror_mode": {
    "name": "ipython",
    "version": 3
   },
   "file_extension": ".py",
   "mimetype": "text/x-python",
   "name": "python",
   "nbconvert_exporter": "python",
   "pygments_lexer": "ipython3",
   "version": "3.6.9"
  },
  "widgets": {
   "application/vnd.jupyter.widget-state+json": {
    "state": {
     "1188526a8eb748afba18be49d751db03": {
      "model_module": "jupyter-leaflet",
      "model_module_version": "^0.13.0",
      "model_name": "LeafletZoomControlModel",
      "state": {
       "_model_module_version": "^0.13.0",
       "_view_module_version": "^0.13.0",
       "options": [
        "position",
        "zoom_in_text",
        "zoom_in_title",
        "zoom_out_text",
        "zoom_out_title"
       ]
      }
     },
     "178add4d0153427180a269c69193acb2": {
      "model_module": "jupyter-leaflet",
      "model_module_version": "^0.13.0",
      "model_name": "LeafletMapStyleModel",
      "state": {
       "_model_module_version": "^0.13.0",
       "cursor": "move"
      }
     },
     "1d797e0b060a4c4e83e8ef36715c5b2a": {
      "model_module": "jupyter-leaflet",
      "model_module_version": "^0.13.0",
      "model_name": "LeafletTileLayerModel",
      "state": {
       "_model_module_version": "^0.13.0",
       "_view_module_version": "^0.13.0",
       "attribution": "Tiles &copy; Esri &mdash; Source: Esri, i-cubed, USDA, USGS, AEX, GeoEye, Getmapping, Aerogrid, IGN, IGP, UPR-EGP, and the GIS User Community",
       "base": true,
       "max_native_zoom": 18,
       "max_zoom": 20,
       "min_native_zoom": 0,
       "min_zoom": 1,
       "name": "Esri.WorldImagery",
       "options": [
        "attribution",
        "detect_retina",
        "max_native_zoom",
        "max_zoom",
        "min_native_zoom",
        "min_zoom",
        "no_wrap",
        "tile_size",
        "tms"
       ],
       "url": "http://server.arcgisonline.com/ArcGIS/rest/services/World_Imagery/MapServer/tile/{z}/{y}/{x}"
      }
     },
     "238a06f9a9fd464bbe4e18a3031ad44a": {
      "model_module": "jupyter-leaflet",
      "model_module_version": "^0.13.0",
      "model_name": "LeafletGeoJSONModel",
      "state": {
       "_model_module": "jupyter-leaflet",
       "_model_module_version": "^0.13.0",
       "_view_count": null,
       "_view_module": "jupyter-leaflet",
       "_view_module_version": "^0.13.0",
       "base": false,
       "bottom": false,
       "data": {
        "bbox": [
         113.92567981646711,
         -34.561394004939324,
         129.4477056798635,
         -14.11673356512833
        ],
        "features": [
         {
          "bbox": [
           116.604072,
           -31.468834,
           116.604072,
           -31.468834
          ],
          "geometry": {
           "coordinates": [
            116.604072,
            -31.468834
           ],
           "type": "Point"
          },
          "id": "0",
          "properties": {
           "class": 1,
           "style": {
            "color": "black",
            "fillColor": "#440154",
            "weight": 0.9
           }
          },
          "type": "Feature"
         },
         {
          "bbox": [
           117.034637,
           -32.408305,
           117.034637,
           -32.408305
          ],
          "geometry": {
           "coordinates": [
            117.034637,
            -32.408305
           ],
           "type": "Point"
          },
          "id": "1",
          "properties": {
           "class": 1,
           "style": {
            "color": "black",
            "fillColor": "#440154",
            "weight": 0.9
           }
          },
          "type": "Feature"
         },
         {
          "bbox": [
           117.308378,
           -32.337473,
           117.308378,
           -32.337473
          ],
          "geometry": {
           "coordinates": [
            117.308378,
            -32.337473
           ],
           "type": "Point"
          },
          "id": "2",
          "properties": {
           "class": 1,
           "style": {
            "color": "black",
            "fillColor": "#440154",
            "weight": 0.9
           }
          },
          "type": "Feature"
         },
         {
          "bbox": [
           116.746068,
           -31.637502,
           116.746068,
           -31.637502
          ],
          "geometry": {
           "coordinates": [
            116.746068,
            -31.637502
           ],
           "type": "Point"
          },
          "id": "3",
          "properties": {
           "class": 1,
           "style": {
            "color": "black",
            "fillColor": "#440154",
            "weight": 0.9
           }
          },
          "type": "Feature"
         },
         {
          "bbox": [
           116.858172,
           -33.001308,
           116.858172,
           -33.001308
          ],
          "geometry": {
           "coordinates": [
            116.858172,
            -33.001308
           ],
           "type": "Point"
          },
          "id": "4",
          "properties": {
           "class": 1,
           "style": {
            "color": "black",
            "fillColor": "#440154",
            "weight": 0.9
           }
          },
          "type": "Feature"
         },
         {
          "bbox": [
           116.589562,
           -31.423642,
           116.589562,
           -31.423642
          ],
          "geometry": {
           "coordinates": [
            116.589562,
            -31.423642
           ],
           "type": "Point"
          },
          "id": "5",
          "properties": {
           "class": 1,
           "style": {
            "color": "black",
            "fillColor": "#440154",
            "weight": 0.9
           }
          },
          "type": "Feature"
         },
         {
          "bbox": [
           117.842072,
           -32.327402,
           117.842072,
           -32.327402
          ],
          "geometry": {
           "coordinates": [
            117.842072,
            -32.327402
           ],
           "type": "Point"
          },
          "id": "6",
          "properties": {
           "class": 1,
           "style": {
            "color": "black",
            "fillColor": "#440154",
            "weight": 0.9
           }
          },
          "type": "Feature"
         },
         {
          "bbox": [
           118.122088,
           -32.130067,
           118.122088,
           -32.130067
          ],
          "geometry": {
           "coordinates": [
            118.122088,
            -32.130067
           ],
           "type": "Point"
          },
          "id": "7",
          "properties": {
           "class": 1,
           "style": {
            "color": "black",
            "fillColor": "#440154",
            "weight": 0.9
           }
          },
          "type": "Feature"
         },
         {
          "bbox": [
           117.110445,
           -33.68865,
           117.110445,
           -33.68865
          ],
          "geometry": {
           "coordinates": [
            117.110445,
            -33.68865
           ],
           "type": "Point"
          },
          "id": "8",
          "properties": {
           "class": 1,
           "style": {
            "color": "black",
            "fillColor": "#440154",
            "weight": 0.9
           }
          },
          "type": "Feature"
         },
         {
          "bbox": [
           117.899487,
           -31.619783,
           117.899487,
           -31.619783
          ],
          "geometry": {
           "coordinates": [
            117.899487,
            -31.619783
           ],
           "type": "Point"
          },
          "id": "9",
          "properties": {
           "class": 1,
           "style": {
            "color": "black",
            "fillColor": "#440154",
            "weight": 0.9
           }
          },
          "type": "Feature"
         },
         {
          "bbox": [
           118.115501,
           -32.092818,
           118.115501,
           -32.092818
          ],
          "geometry": {
           "coordinates": [
            118.115501,
            -32.092818
           ],
           "type": "Point"
          },
          "id": "10",
          "properties": {
           "class": 1,
           "style": {
            "color": "black",
            "fillColor": "#440154",
            "weight": 0.9
           }
          },
          "type": "Feature"
         },
         {
          "bbox": [
           117.794179,
           -32.783232,
           117.794179,
           -32.783232
          ],
          "geometry": {
           "coordinates": [
            117.794179,
            -32.783232
           ],
           "type": "Point"
          },
          "id": "11",
          "properties": {
           "class": 1,
           "style": {
            "color": "black",
            "fillColor": "#440154",
            "weight": 0.9
           }
          },
          "type": "Feature"
         },
         {
          "bbox": [
           116.01595,
           -30.693451,
           116.01595,
           -30.693451
          ],
          "geometry": {
           "coordinates": [
            116.01595,
            -30.693451
           ],
           "type": "Point"
          },
          "id": "12",
          "properties": {
           "class": 1,
           "style": {
            "color": "black",
            "fillColor": "#440154",
            "weight": 0.9
           }
          },
          "type": "Feature"
         },
         {
          "bbox": [
           116.569302,
           -31.421414,
           116.569302,
           -31.421414
          ],
          "geometry": {
           "coordinates": [
            116.569302,
            -31.421414
           ],
           "type": "Point"
          },
          "id": "13",
          "properties": {
           "class": 1,
           "style": {
            "color": "black",
            "fillColor": "#440154",
            "weight": 0.9
           }
          },
          "type": "Feature"
         },
         {
          "bbox": [
           117.908408,
           -31.625785,
           117.908408,
           -31.625785
          ],
          "geometry": {
           "coordinates": [
            117.908408,
            -31.625785
           ],
           "type": "Point"
          },
          "id": "14",
          "properties": {
           "class": 1,
           "style": {
            "color": "black",
            "fillColor": "#440154",
            "weight": 0.9
           }
          },
          "type": "Feature"
         },
         {
          "bbox": [
           116.862099,
           -33.361106,
           116.862099,
           -33.361106
          ],
          "geometry": {
           "coordinates": [
            116.862099,
            -33.361106
           ],
           "type": "Point"
          },
          "id": "15",
          "properties": {
           "class": 1,
           "style": {
            "color": "black",
            "fillColor": "#440154",
            "weight": 0.9
           }
          },
          "type": "Feature"
         },
         {
          "bbox": [
           117.074512,
           -32.513974,
           117.074512,
           -32.513974
          ],
          "geometry": {
           "coordinates": [
            117.074512,
            -32.513974
           ],
           "type": "Point"
          },
          "id": "16",
          "properties": {
           "class": 1,
           "style": {
            "color": "black",
            "fillColor": "#440154",
            "weight": 0.9
           }
          },
          "type": "Feature"
         },
         {
          "bbox": [
           117.414817,
           -32.645541,
           117.414817,
           -32.645541
          ],
          "geometry": {
           "coordinates": [
            117.414817,
            -32.645541
           ],
           "type": "Point"
          },
          "id": "17",
          "properties": {
           "class": 1,
           "style": {
            "color": "black",
            "fillColor": "#440154",
            "weight": 0.9
           }
          },
          "type": "Feature"
         },
         {
          "bbox": [
           117.953247,
           -32.786318,
           117.953247,
           -32.786318
          ],
          "geometry": {
           "coordinates": [
            117.953247,
            -32.786318
           ],
           "type": "Point"
          },
          "id": "18",
          "properties": {
           "class": 1,
           "style": {
            "color": "black",
            "fillColor": "#440154",
            "weight": 0.9
           }
          },
          "type": "Feature"
         },
         {
          "bbox": [
           116.410061,
           -31.07246,
           116.410061,
           -31.07246
          ],
          "geometry": {
           "coordinates": [
            116.410061,
            -31.07246
           ],
           "type": "Point"
          },
          "id": "19",
          "properties": {
           "class": 1,
           "style": {
            "color": "black",
            "fillColor": "#440154",
            "weight": 0.9
           }
          },
          "type": "Feature"
         },
         {
          "bbox": [
           116.8234,
           -31.636098,
           116.8234,
           -31.636098
          ],
          "geometry": {
           "coordinates": [
            116.8234,
            -31.636098
           ],
           "type": "Point"
          },
          "id": "20",
          "properties": {
           "class": 1,
           "style": {
            "color": "black",
            "fillColor": "#440154",
            "weight": 0.9
           }
          },
          "type": "Feature"
         },
         {
          "bbox": [
           117.474688,
           -32.740377,
           117.474688,
           -32.740377
          ],
          "geometry": {
           "coordinates": [
            117.474688,
            -32.740377
           ],
           "type": "Point"
          },
          "id": "21",
          "properties": {
           "class": 1,
           "style": {
            "color": "black",
            "fillColor": "#440154",
            "weight": 0.9
           }
          },
          "type": "Feature"
         },
         {
          "bbox": [
           117.460505,
           -32.728876,
           117.460505,
           -32.728876
          ],
          "geometry": {
           "coordinates": [
            117.460505,
            -32.728876
           ],
           "type": "Point"
          },
          "id": "22",
          "properties": {
           "class": 1,
           "style": {
            "color": "black",
            "fillColor": "#440154",
            "weight": 0.9
           }
          },
          "type": "Feature"
         },
         {
          "bbox": [
           117.04454,
           -32.476513,
           117.04454,
           -32.476513
          ],
          "geometry": {
           "coordinates": [
            117.04454,
            -32.476513
           ],
           "type": "Point"
          },
          "id": "23",
          "properties": {
           "class": 1,
           "style": {
            "color": "black",
            "fillColor": "#440154",
            "weight": 0.9
           }
          },
          "type": "Feature"
         },
         {
          "bbox": [
           116.596019,
           -31.465534,
           116.596019,
           -31.465534
          ],
          "geometry": {
           "coordinates": [
            116.596019,
            -31.465534
           ],
           "type": "Point"
          },
          "id": "24",
          "properties": {
           "class": 1,
           "style": {
            "color": "black",
            "fillColor": "#440154",
            "weight": 0.9
           }
          },
          "type": "Feature"
         },
         {
          "bbox": [
           117.382762,
           -33.294592,
           117.382762,
           -33.294592
          ],
          "geometry": {
           "coordinates": [
            117.382762,
            -33.294592
           ],
           "type": "Point"
          },
          "id": "25",
          "properties": {
           "class": 1,
           "style": {
            "color": "black",
            "fillColor": "#440154",
            "weight": 0.9
           }
          },
          "type": "Feature"
         },
         {
          "bbox": [
           117.913631,
           -32.850001,
           117.913631,
           -32.850001
          ],
          "geometry": {
           "coordinates": [
            117.913631,
            -32.850001
           ],
           "type": "Point"
          },
          "id": "26",
          "properties": {
           "class": 1,
           "style": {
            "color": "black",
            "fillColor": "#440154",
            "weight": 0.9
           }
          },
          "type": "Feature"
         },
         {
          "bbox": [
           117.403685,
           -32.638291,
           117.403685,
           -32.638291
          ],
          "geometry": {
           "coordinates": [
            117.403685,
            -32.638291
           ],
           "type": "Point"
          },
          "id": "27",
          "properties": {
           "class": 1,
           "style": {
            "color": "black",
            "fillColor": "#440154",
            "weight": 0.9
           }
          },
          "type": "Feature"
         },
         {
          "bbox": [
           117.884622,
           -32.777502,
           117.884622,
           -32.777502
          ],
          "geometry": {
           "coordinates": [
            117.884622,
            -32.777502
           ],
           "type": "Point"
          },
          "id": "28",
          "properties": {
           "class": 1,
           "style": {
            "color": "black",
            "fillColor": "#440154",
            "weight": 0.9
           }
          },
          "type": "Feature"
         },
         {
          "bbox": [
           117.892668,
           -32.33022,
           117.892668,
           -32.33022
          ],
          "geometry": {
           "coordinates": [
            117.892668,
            -32.33022
           ],
           "type": "Point"
          },
          "id": "29",
          "properties": {
           "class": 1,
           "style": {
            "color": "black",
            "fillColor": "#440154",
            "weight": 0.9
           }
          },
          "type": "Feature"
         },
         {
          "bbox": [
           117.536542,
           -32.782856,
           117.536542,
           -32.782856
          ],
          "geometry": {
           "coordinates": [
            117.536542,
            -32.782856
           ],
           "type": "Point"
          },
          "id": "30",
          "properties": {
           "class": 1,
           "style": {
            "color": "black",
            "fillColor": "#440154",
            "weight": 0.9
           }
          },
          "type": "Feature"
         },
         {
          "bbox": [
           116.508893,
           -31.310586,
           116.508893,
           -31.310586
          ],
          "geometry": {
           "coordinates": [
            116.508893,
            -31.310586
           ],
           "type": "Point"
          },
          "id": "31",
          "properties": {
           "class": 1,
           "style": {
            "color": "black",
            "fillColor": "#440154",
            "weight": 0.9
           }
          },
          "type": "Feature"
         },
         {
          "bbox": [
           117.96674,
           -32.27989,
           117.96674,
           -32.27989
          ],
          "geometry": {
           "coordinates": [
            117.96674,
            -32.27989
           ],
           "type": "Point"
          },
          "id": "32",
          "properties": {
           "class": 1,
           "style": {
            "color": "black",
            "fillColor": "#440154",
            "weight": 0.9
           }
          },
          "type": "Feature"
         },
         {
          "bbox": [
           117.9679,
           -32.784533,
           117.9679,
           -32.784533
          ],
          "geometry": {
           "coordinates": [
            117.9679,
            -32.784533
           ],
           "type": "Point"
          },
          "id": "33",
          "properties": {
           "class": 1,
           "style": {
            "color": "black",
            "fillColor": "#440154",
            "weight": 0.9
           }
          },
          "type": "Feature"
         },
         {
          "bbox": [
           117.054488,
           -33.433278,
           117.054488,
           -33.433278
          ],
          "geometry": {
           "coordinates": [
            117.054488,
            -33.433278
           ],
           "type": "Point"
          },
          "id": "34",
          "properties": {
           "class": 1,
           "style": {
            "color": "black",
            "fillColor": "#440154",
            "weight": 0.9
           }
          },
          "type": "Feature"
         },
         {
          "bbox": [
           117.267213,
           -31.651505,
           117.267213,
           -31.651505
          ],
          "geometry": {
           "coordinates": [
            117.267213,
            -31.651505
           ],
           "type": "Point"
          },
          "id": "35",
          "properties": {
           "class": 1,
           "style": {
            "color": "black",
            "fillColor": "#440154",
            "weight": 0.9
           }
          },
          "type": "Feature"
         },
         {
          "bbox": [
           116.981596,
           -33.34811,
           116.981596,
           -33.34811
          ],
          "geometry": {
           "coordinates": [
            116.981596,
            -33.34811
           ],
           "type": "Point"
          },
          "id": "36",
          "properties": {
           "class": 1,
           "style": {
            "color": "black",
            "fillColor": "#440154",
            "weight": 0.9
           }
          },
          "type": "Feature"
         },
         {
          "bbox": [
           117.266031,
           -32.568099,
           117.266031,
           -32.568099
          ],
          "geometry": {
           "coordinates": [
            117.266031,
            -32.568099
           ],
           "type": "Point"
          },
          "id": "37",
          "properties": {
           "class": 1,
           "style": {
            "color": "black",
            "fillColor": "#440154",
            "weight": 0.9
           }
          },
          "type": "Feature"
         },
         {
          "bbox": [
           117.751113,
           -32.789353,
           117.751113,
           -32.789353
          ],
          "geometry": {
           "coordinates": [
            117.751113,
            -32.789353
           ],
           "type": "Point"
          },
          "id": "38",
          "properties": {
           "class": 1,
           "style": {
            "color": "black",
            "fillColor": "#440154",
            "weight": 0.9
           }
          },
          "type": "Feature"
         },
         {
          "bbox": [
           118.079819,
           -31.829473,
           118.079819,
           -31.829473
          ],
          "geometry": {
           "coordinates": [
            118.079819,
            -31.829473
           ],
           "type": "Point"
          },
          "id": "39",
          "properties": {
           "class": 1,
           "style": {
            "color": "black",
            "fillColor": "#440154",
            "weight": 0.9
           }
          },
          "type": "Feature"
         },
         {
          "bbox": [
           117.540995,
           -32.365179,
           117.540995,
           -32.365179
          ],
          "geometry": {
           "coordinates": [
            117.540995,
            -32.365179
           ],
           "type": "Point"
          },
          "id": "40",
          "properties": {
           "class": 1,
           "style": {
            "color": "black",
            "fillColor": "#440154",
            "weight": 0.9
           }
          },
          "type": "Feature"
         },
         {
          "bbox": [
           116.61255,
           -31.56093,
           116.61255,
           -31.56093
          ],
          "geometry": {
           "coordinates": [
            116.61255,
            -31.56093
           ],
           "type": "Point"
          },
          "id": "41",
          "properties": {
           "class": 1,
           "style": {
            "color": "black",
            "fillColor": "#440154",
            "weight": 0.9
           }
          },
          "type": "Feature"
         },
         {
          "bbox": [
           117.486666,
           -32.763974,
           117.486666,
           -32.763974
          ],
          "geometry": {
           "coordinates": [
            117.486666,
            -32.763974
           ],
           "type": "Point"
          },
          "id": "42",
          "properties": {
           "class": 1,
           "style": {
            "color": "black",
            "fillColor": "#440154",
            "weight": 0.9
           }
          },
          "type": "Feature"
         },
         {
          "bbox": [
           115.659033,
           -30.908174,
           115.659033,
           -30.908174
          ],
          "geometry": {
           "coordinates": [
            115.659033,
            -30.908174
           ],
           "type": "Point"
          },
          "id": "43",
          "properties": {
           "class": 1,
           "style": {
            "color": "black",
            "fillColor": "#440154",
            "weight": 0.9
           }
          },
          "type": "Feature"
         },
         {
          "bbox": [
           117.044632,
           -33.388204,
           117.044632,
           -33.388204
          ],
          "geometry": {
           "coordinates": [
            117.044632,
            -33.388204
           ],
           "type": "Point"
          },
          "id": "44",
          "properties": {
           "class": 1,
           "style": {
            "color": "black",
            "fillColor": "#440154",
            "weight": 0.9
           }
          },
          "type": "Feature"
         },
         {
          "bbox": [
           117.359903,
           -33.375459,
           117.359903,
           -33.375459
          ],
          "geometry": {
           "coordinates": [
            117.359903,
            -33.375459
           ],
           "type": "Point"
          },
          "id": "45",
          "properties": {
           "class": 1,
           "style": {
            "color": "black",
            "fillColor": "#440154",
            "weight": 0.9
           }
          },
          "type": "Feature"
         },
         {
          "bbox": [
           116.53962,
           -31.396335,
           116.53962,
           -31.396335
          ],
          "geometry": {
           "coordinates": [
            116.53962,
            -31.396335
           ],
           "type": "Point"
          },
          "id": "46",
          "properties": {
           "class": 1,
           "style": {
            "color": "black",
            "fillColor": "#440154",
            "weight": 0.9
           }
          },
          "type": "Feature"
         },
         {
          "bbox": [
           116.0305,
           -30.881603,
           116.0305,
           -30.881603
          ],
          "geometry": {
           "coordinates": [
            116.0305,
            -30.881603
           ],
           "type": "Point"
          },
          "id": "47",
          "properties": {
           "class": 1,
           "style": {
            "color": "black",
            "fillColor": "#440154",
            "weight": 0.9
           }
          },
          "type": "Feature"
         },
         {
          "bbox": [
           117.266066,
           -33.796841,
           117.266066,
           -33.796841
          ],
          "geometry": {
           "coordinates": [
            117.266066,
            -33.796841
           ],
           "type": "Point"
          },
          "id": "48",
          "properties": {
           "class": 1,
           "style": {
            "color": "black",
            "fillColor": "#440154",
            "weight": 0.9
           }
          },
          "type": "Feature"
         },
         {
          "bbox": [
           118.096711,
           -32.167024,
           118.096711,
           -32.167024
          ],
          "geometry": {
           "coordinates": [
            118.096711,
            -32.167024
           ],
           "type": "Point"
          },
          "id": "49",
          "properties": {
           "class": 1,
           "style": {
            "color": "black",
            "fillColor": "#440154",
            "weight": 0.9
           }
          },
          "type": "Feature"
         },
         {
          "bbox": [
           117.422904,
           -32.661234,
           117.422904,
           -32.661234
          ],
          "geometry": {
           "coordinates": [
            117.422904,
            -32.661234
           ],
           "type": "Point"
          },
          "id": "50",
          "properties": {
           "class": 1,
           "style": {
            "color": "black",
            "fillColor": "#440154",
            "weight": 0.9
           }
          },
          "type": "Feature"
         },
         {
          "bbox": [
           115.88118,
           -30.615076,
           115.88118,
           -30.615076
          ],
          "geometry": {
           "coordinates": [
            115.88118,
            -30.615076
           ],
           "type": "Point"
          },
          "id": "51",
          "properties": {
           "class": 1,
           "style": {
            "color": "black",
            "fillColor": "#440154",
            "weight": 0.9
           }
          },
          "type": "Feature"
         },
         {
          "bbox": [
           117.010255,
           -32.355916,
           117.010255,
           -32.355916
          ],
          "geometry": {
           "coordinates": [
            117.010255,
            -32.355916
           ],
           "type": "Point"
          },
          "id": "52",
          "properties": {
           "class": 1,
           "style": {
            "color": "black",
            "fillColor": "#440154",
            "weight": 0.9
           }
          },
          "type": "Feature"
         },
         {
          "bbox": [
           118.047195,
           -32.23305,
           118.047195,
           -32.23305
          ],
          "geometry": {
           "coordinates": [
            118.047195,
            -32.23305
           ],
           "type": "Point"
          },
          "id": "53",
          "properties": {
           "class": 1,
           "style": {
            "color": "black",
            "fillColor": "#440154",
            "weight": 0.9
           }
          },
          "type": "Feature"
         },
         {
          "bbox": [
           117.634307,
           -32.778684,
           117.634307,
           -32.778684
          ],
          "geometry": {
           "coordinates": [
            117.634307,
            -32.778684
           ],
           "type": "Point"
          },
          "id": "54",
          "properties": {
           "class": 1,
           "style": {
            "color": "black",
            "fillColor": "#440154",
            "weight": 0.9
           }
          },
          "type": "Feature"
         },
         {
          "bbox": [
           117.271434,
           -33.79627,
           117.271434,
           -33.79627
          ],
          "geometry": {
           "coordinates": [
            117.271434,
            -33.79627
           ],
           "type": "Point"
          },
          "id": "55",
          "properties": {
           "class": 1,
           "style": {
            "color": "black",
            "fillColor": "#440154",
            "weight": 0.9
           }
          },
          "type": "Feature"
         },
         {
          "bbox": [
           117.107761,
           -33.690477,
           117.107761,
           -33.690477
          ],
          "geometry": {
           "coordinates": [
            117.107761,
            -33.690477
           ],
           "type": "Point"
          },
          "id": "56",
          "properties": {
           "class": 1,
           "style": {
            "color": "black",
            "fillColor": "#440154",
            "weight": 0.9
           }
          },
          "type": "Feature"
         },
         {
          "bbox": [
           117.25455,
           -32.311415,
           117.25455,
           -32.311415
          ],
          "geometry": {
           "coordinates": [
            117.25455,
            -32.311415
           ],
           "type": "Point"
          },
          "id": "57",
          "properties": {
           "class": 1,
           "style": {
            "color": "black",
            "fillColor": "#440154",
            "weight": 0.9
           }
          },
          "type": "Feature"
         },
         {
          "bbox": [
           117.371716,
           -33.756057,
           117.371716,
           -33.756057
          ],
          "geometry": {
           "coordinates": [
            117.371716,
            -33.756057
           ],
           "type": "Point"
          },
          "id": "58",
          "properties": {
           "class": 1,
           "style": {
            "color": "black",
            "fillColor": "#440154",
            "weight": 0.9
           }
          },
          "type": "Feature"
         },
         {
          "bbox": [
           117.465314,
           -32.334727,
           117.465314,
           -32.334727
          ],
          "geometry": {
           "coordinates": [
            117.465314,
            -32.334727
           ],
           "type": "Point"
          },
          "id": "59",
          "properties": {
           "class": 1,
           "style": {
            "color": "black",
            "fillColor": "#440154",
            "weight": 0.9
           }
          },
          "type": "Feature"
         },
         {
          "bbox": [
           118.076309,
           -31.768696,
           118.076309,
           -31.768696
          ],
          "geometry": {
           "coordinates": [
            118.076309,
            -31.768696
           ],
           "type": "Point"
          },
          "id": "60",
          "properties": {
           "class": 1,
           "style": {
            "color": "black",
            "fillColor": "#440154",
            "weight": 0.9
           }
          },
          "type": "Feature"
         },
         {
          "bbox": [
           116.280155,
           -30.985946,
           116.280155,
           -30.985946
          ],
          "geometry": {
           "coordinates": [
            116.280155,
            -30.985946
           ],
           "type": "Point"
          },
          "id": "61",
          "properties": {
           "class": 1,
           "style": {
            "color": "black",
            "fillColor": "#440154",
            "weight": 0.9
           }
          },
          "type": "Feature"
         },
         {
          "bbox": [
           117.678454,
           -32.785757,
           117.678454,
           -32.785757
          ],
          "geometry": {
           "coordinates": [
            117.678454,
            -32.785757
           ],
           "type": "Point"
          },
          "id": "62",
          "properties": {
           "class": 1,
           "style": {
            "color": "black",
            "fillColor": "#440154",
            "weight": 0.9
           }
          },
          "type": "Feature"
         },
         {
          "bbox": [
           116.645364,
           -32.852133,
           116.645364,
           -32.852133
          ],
          "geometry": {
           "coordinates": [
            116.645364,
            -32.852133
           ],
           "type": "Point"
          },
          "id": "63",
          "properties": {
           "class": 1,
           "style": {
            "color": "black",
            "fillColor": "#440154",
            "weight": 0.9
           }
          },
          "type": "Feature"
         },
         {
          "bbox": [
           118.02123215020052,
           -34.561394004939324,
           118.02123215020052,
           -34.561394004939324
          ],
          "geometry": {
           "coordinates": [
            118.02123215020052,
            -34.561394004939324
           ],
           "type": "Point"
          },
          "id": "64",
          "properties": {
           "class": 1,
           "style": {
            "color": "black",
            "fillColor": "#440154",
            "weight": 0.9
           }
          },
          "type": "Feature"
         },
         {
          "bbox": [
           116.866193,
           -33.359355,
           116.866193,
           -33.359355
          ],
          "geometry": {
           "coordinates": [
            116.866193,
            -33.359355
           ],
           "type": "Point"
          },
          "id": "65",
          "properties": {
           "class": 1,
           "style": {
            "color": "black",
            "fillColor": "#440154",
            "weight": 0.9
           }
          },
          "type": "Feature"
         },
         {
          "bbox": [
           117.296729,
           -32.334768,
           117.296729,
           -32.334768
          ],
          "geometry": {
           "coordinates": [
            117.296729,
            -32.334768
           ],
           "type": "Point"
          },
          "id": "66",
          "properties": {
           "class": 1,
           "style": {
            "color": "black",
            "fillColor": "#440154",
            "weight": 0.9
           }
          },
          "type": "Feature"
         },
         {
          "bbox": [
           117.518509,
           -32.339096,
           117.518509,
           -32.339096
          ],
          "geometry": {
           "coordinates": [
            117.518509,
            -32.339096
           ],
           "type": "Point"
          },
          "id": "67",
          "properties": {
           "class": 1,
           "style": {
            "color": "black",
            "fillColor": "#440154",
            "weight": 0.9
           }
          },
          "type": "Feature"
         },
         {
          "bbox": [
           116.809801,
           -33.209394,
           116.809801,
           -33.209394
          ],
          "geometry": {
           "coordinates": [
            116.809801,
            -33.209394
           ],
           "type": "Point"
          },
          "id": "68",
          "properties": {
           "class": 1,
           "style": {
            "color": "black",
            "fillColor": "#440154",
            "weight": 0.9
           }
          },
          "type": "Feature"
         },
         {
          "bbox": [
           117.50566,
           -32.335626,
           117.50566,
           -32.335626
          ],
          "geometry": {
           "coordinates": [
            117.50566,
            -32.335626
           ],
           "type": "Point"
          },
          "id": "69",
          "properties": {
           "class": 1,
           "style": {
            "color": "black",
            "fillColor": "#440154",
            "weight": 0.9
           }
          },
          "type": "Feature"
         },
         {
          "bbox": [
           116.024854,
           -30.815166,
           116.024854,
           -30.815166
          ],
          "geometry": {
           "coordinates": [
            116.024854,
            -30.815166
           ],
           "type": "Point"
          },
          "id": "70",
          "properties": {
           "class": 1,
           "style": {
            "color": "black",
            "fillColor": "#440154",
            "weight": 0.9
           }
          },
          "type": "Feature"
         },
         {
          "bbox": [
           117.41524,
           -33.286251,
           117.41524,
           -33.286251
          ],
          "geometry": {
           "coordinates": [
            117.41524,
            -33.286251
           ],
           "type": "Point"
          },
          "id": "71",
          "properties": {
           "class": 1,
           "style": {
            "color": "black",
            "fillColor": "#440154",
            "weight": 0.9
           }
          },
          "type": "Feature"
         },
         {
          "bbox": [
           115.706038,
           -30.692574,
           115.706038,
           -30.692574
          ],
          "geometry": {
           "coordinates": [
            115.706038,
            -30.692574
           ],
           "type": "Point"
          },
          "id": "72",
          "properties": {
           "class": 1,
           "style": {
            "color": "black",
            "fillColor": "#440154",
            "weight": 0.9
           }
          },
          "type": "Feature"
         },
         {
          "bbox": [
           117.134654,
           -31.626886,
           117.134654,
           -31.626886
          ],
          "geometry": {
           "coordinates": [
            117.134654,
            -31.626886
           ],
           "type": "Point"
          },
          "id": "73",
          "properties": {
           "class": 1,
           "style": {
            "color": "black",
            "fillColor": "#440154",
            "weight": 0.9
           }
          },
          "type": "Feature"
         },
         {
          "bbox": [
           117.046429,
           -33.361501,
           117.046429,
           -33.361501
          ],
          "geometry": {
           "coordinates": [
            117.046429,
            -33.361501
           ],
           "type": "Point"
          },
          "id": "74",
          "properties": {
           "class": 1,
           "style": {
            "color": "black",
            "fillColor": "#440154",
            "weight": 0.9
           }
          },
          "type": "Feature"
         },
         {
          "bbox": [
           117.243488,
           -32.308275,
           117.243488,
           -32.308275
          ],
          "geometry": {
           "coordinates": [
            117.243488,
            -32.308275
           ],
           "type": "Point"
          },
          "id": "75",
          "properties": {
           "class": 1,
           "style": {
            "color": "black",
            "fillColor": "#440154",
            "weight": 0.9
           }
          },
          "type": "Feature"
         },
         {
          "bbox": [
           117.911209,
           -33.115284,
           117.911209,
           -33.115284
          ],
          "geometry": {
           "coordinates": [
            117.911209,
            -33.115284
           ],
           "type": "Point"
          },
          "id": "76",
          "properties": {
           "class": 1,
           "style": {
            "color": "black",
            "fillColor": "#440154",
            "weight": 0.9
           }
          },
          "type": "Feature"
         },
         {
          "bbox": [
           117.391321,
           -33.607099,
           117.391321,
           -33.607099
          ],
          "geometry": {
           "coordinates": [
            117.391321,
            -33.607099
           ],
           "type": "Point"
          },
          "id": "77",
          "properties": {
           "class": 1,
           "style": {
            "color": "black",
            "fillColor": "#440154",
            "weight": 0.9
           }
          },
          "type": "Feature"
         },
         {
          "bbox": [
           116.598668,
           -31.480571,
           116.598668,
           -31.480571
          ],
          "geometry": {
           "coordinates": [
            116.598668,
            -31.480571
           ],
           "type": "Point"
          },
          "id": "78",
          "properties": {
           "class": 1,
           "style": {
            "color": "black",
            "fillColor": "#440154",
            "weight": 0.9
           }
          },
          "type": "Feature"
         },
         {
          "bbox": [
           117.296838,
           -32.585109,
           117.296838,
           -32.585109
          ],
          "geometry": {
           "coordinates": [
            117.296838,
            -32.585109
           ],
           "type": "Point"
          },
          "id": "79",
          "properties": {
           "class": 1,
           "style": {
            "color": "black",
            "fillColor": "#440154",
            "weight": 0.9
           }
          },
          "type": "Feature"
         },
         {
          "bbox": [
           117.34938,
           -33.345329,
           117.34938,
           -33.345329
          ],
          "geometry": {
           "coordinates": [
            117.34938,
            -33.345329
           ],
           "type": "Point"
          },
          "id": "80",
          "properties": {
           "class": 1,
           "style": {
            "color": "black",
            "fillColor": "#440154",
            "weight": 0.9
           }
          },
          "type": "Feature"
         },
         {
          "bbox": [
           115.692996,
           -30.946375,
           115.692996,
           -30.946375
          ],
          "geometry": {
           "coordinates": [
            115.692996,
            -30.946375
           ],
           "type": "Point"
          },
          "id": "81",
          "properties": {
           "class": 1,
           "style": {
            "color": "black",
            "fillColor": "#440154",
            "weight": 0.9
           }
          },
          "type": "Feature"
         },
         {
          "bbox": [
           116.087147,
           -30.935931,
           116.087147,
           -30.935931
          ],
          "geometry": {
           "coordinates": [
            116.087147,
            -30.935931
           ],
           "type": "Point"
          },
          "id": "82",
          "properties": {
           "class": 1,
           "style": {
            "color": "black",
            "fillColor": "#440154",
            "weight": 0.9
           }
          },
          "type": "Feature"
         },
         {
          "bbox": [
           117.651958,
           -32.783568,
           117.651958,
           -32.783568
          ],
          "geometry": {
           "coordinates": [
            117.651958,
            -32.783568
           ],
           "type": "Point"
          },
          "id": "83",
          "properties": {
           "class": 1,
           "style": {
            "color": "black",
            "fillColor": "#440154",
            "weight": 0.9
           }
          },
          "type": "Feature"
         },
         {
          "bbox": [
           116.022568,
           -30.725483,
           116.022568,
           -30.725483
          ],
          "geometry": {
           "coordinates": [
            116.022568,
            -30.725483
           ],
           "type": "Point"
          },
          "id": "84",
          "properties": {
           "class": 1,
           "style": {
            "color": "black",
            "fillColor": "#440154",
            "weight": 0.9
           }
          },
          "type": "Feature"
         },
         {
          "bbox": [
           117.013193,
           -32.361244,
           117.013193,
           -32.361244
          ],
          "geometry": {
           "coordinates": [
            117.013193,
            -32.361244
           ],
           "type": "Point"
          },
          "id": "85",
          "properties": {
           "class": 1,
           "style": {
            "color": "black",
            "fillColor": "#440154",
            "weight": 0.9
           }
          },
          "type": "Feature"
         },
         {
          "bbox": [
           116.596656,
           -31.427644,
           116.596656,
           -31.427644
          ],
          "geometry": {
           "coordinates": [
            116.596656,
            -31.427644
           ],
           "type": "Point"
          },
          "id": "86",
          "properties": {
           "class": 1,
           "style": {
            "color": "black",
            "fillColor": "#440154",
            "weight": 0.9
           }
          },
          "type": "Feature"
         },
         {
          "bbox": [
           117.7849,
           -32.783022,
           117.7849,
           -32.783022
          ],
          "geometry": {
           "coordinates": [
            117.7849,
            -32.783022
           ],
           "type": "Point"
          },
          "id": "87",
          "properties": {
           "class": 1,
           "style": {
            "color": "black",
            "fillColor": "#440154",
            "weight": 0.9
           }
          },
          "type": "Feature"
         },
         {
          "bbox": [
           117.338061,
           -31.645705,
           117.338061,
           -31.645705
          ],
          "geometry": {
           "coordinates": [
            117.338061,
            -31.645705
           ],
           "type": "Point"
          },
          "id": "88",
          "properties": {
           "class": 1,
           "style": {
            "color": "black",
            "fillColor": "#440154",
            "weight": 0.9
           }
          },
          "type": "Feature"
         },
         {
          "bbox": [
           117.004436,
           -32.319169,
           117.004436,
           -32.319169
          ],
          "geometry": {
           "coordinates": [
            117.004436,
            -32.319169
           ],
           "type": "Point"
          },
          "id": "89",
          "properties": {
           "class": 1,
           "style": {
            "color": "black",
            "fillColor": "#440154",
            "weight": 0.9
           }
          },
          "type": "Feature"
         },
         {
          "bbox": [
           116.792003,
           -33.236414,
           116.792003,
           -33.236414
          ],
          "geometry": {
           "coordinates": [
            116.792003,
            -33.236414
           ],
           "type": "Point"
          },
          "id": "90",
          "properties": {
           "class": 1,
           "style": {
            "color": "black",
            "fillColor": "#440154",
            "weight": 0.9
           }
          },
          "type": "Feature"
         },
         {
          "bbox": [
           117.577669,
           -33.294305,
           117.577669,
           -33.294305
          ],
          "geometry": {
           "coordinates": [
            117.577669,
            -33.294305
           ],
           "type": "Point"
          },
          "id": "91",
          "properties": {
           "class": 1,
           "style": {
            "color": "black",
            "fillColor": "#440154",
            "weight": 0.9
           }
          },
          "type": "Feature"
         },
         {
          "bbox": [
           117.219356,
           -32.309581,
           117.219356,
           -32.309581
          ],
          "geometry": {
           "coordinates": [
            117.219356,
            -32.309581
           ],
           "type": "Point"
          },
          "id": "92",
          "properties": {
           "class": 1,
           "style": {
            "color": "black",
            "fillColor": "#440154",
            "weight": 0.9
           }
          },
          "type": "Feature"
         },
         {
          "bbox": [
           118.111749,
           -32.128163,
           118.111749,
           -32.128163
          ],
          "geometry": {
           "coordinates": [
            118.111749,
            -32.128163
           ],
           "type": "Point"
          },
          "id": "93",
          "properties": {
           "class": 1,
           "style": {
            "color": "black",
            "fillColor": "#440154",
            "weight": 0.9
           }
          },
          "type": "Feature"
         },
         {
          "bbox": [
           117.936991,
           -32.79155,
           117.936991,
           -32.79155
          ],
          "geometry": {
           "coordinates": [
            117.936991,
            -32.79155
           ],
           "type": "Point"
          },
          "id": "94",
          "properties": {
           "class": 1,
           "style": {
            "color": "black",
            "fillColor": "#440154",
            "weight": 0.9
           }
          },
          "type": "Feature"
         },
         {
          "bbox": [
           118.079645,
           -31.786053,
           118.079645,
           -31.786053
          ],
          "geometry": {
           "coordinates": [
            118.079645,
            -31.786053
           ],
           "type": "Point"
          },
          "id": "95",
          "properties": {
           "class": 1,
           "style": {
            "color": "black",
            "fillColor": "#440154",
            "weight": 0.9
           }
          },
          "type": "Feature"
         },
         {
          "bbox": [
           116.789961,
           -33.230431,
           116.789961,
           -33.230431
          ],
          "geometry": {
           "coordinates": [
            116.789961,
            -33.230431
           ],
           "type": "Point"
          },
          "id": "96",
          "properties": {
           "class": 1,
           "style": {
            "color": "black",
            "fillColor": "#440154",
            "weight": 0.9
           }
          },
          "type": "Feature"
         },
         {
          "bbox": [
           117.913069,
           -32.906889,
           117.913069,
           -32.906889
          ],
          "geometry": {
           "coordinates": [
            117.913069,
            -32.906889
           ],
           "type": "Point"
          },
          "id": "97",
          "properties": {
           "class": 1,
           "style": {
            "color": "black",
            "fillColor": "#440154",
            "weight": 0.9
           }
          },
          "type": "Feature"
         },
         {
          "bbox": [
           115.636348,
           -30.876909,
           115.636348,
           -30.876909
          ],
          "geometry": {
           "coordinates": [
            115.636348,
            -30.876909
           ],
           "type": "Point"
          },
          "id": "98",
          "properties": {
           "class": 1,
           "style": {
            "color": "black",
            "fillColor": "#440154",
            "weight": 0.9
           }
          },
          "type": "Feature"
         },
         {
          "bbox": [
           117.986665,
           -32.78429,
           117.986665,
           -32.78429
          ],
          "geometry": {
           "coordinates": [
            117.986665,
            -32.78429
           ],
           "type": "Point"
          },
          "id": "99",
          "properties": {
           "class": 1,
           "style": {
            "color": "black",
            "fillColor": "#440154",
            "weight": 0.9
           }
          },
          "type": "Feature"
         },
         {
          "bbox": [
           116.473484,
           -31.190368,
           116.473484,
           -31.190368
          ],
          "geometry": {
           "coordinates": [
            116.473484,
            -31.190368
           ],
           "type": "Point"
          },
          "id": "100",
          "properties": {
           "class": 1,
           "style": {
            "color": "black",
            "fillColor": "#440154",
            "weight": 0.9
           }
          },
          "type": "Feature"
         },
         {
          "bbox": [
           117.476493,
           -32.333314,
           117.476493,
           -32.333314
          ],
          "geometry": {
           "coordinates": [
            117.476493,
            -32.333314
           ],
           "type": "Point"
          },
          "id": "101",
          "properties": {
           "class": 1,
           "style": {
            "color": "black",
            "fillColor": "#440154",
            "weight": 0.9
           }
          },
          "type": "Feature"
         },
         {
          "bbox": [
           116.952239,
           -33.355673,
           116.952239,
           -33.355673
          ],
          "geometry": {
           "coordinates": [
            116.952239,
            -33.355673
           ],
           "type": "Point"
          },
          "id": "102",
          "properties": {
           "class": 1,
           "style": {
            "color": "black",
            "fillColor": "#440154",
            "weight": 0.9
           }
          },
          "type": "Feature"
         },
         {
          "bbox": [
           117.972837,
           -32.785992,
           117.972837,
           -32.785992
          ],
          "geometry": {
           "coordinates": [
            117.972837,
            -32.785992
           ],
           "type": "Point"
          },
          "id": "103",
          "properties": {
           "class": 1,
           "style": {
            "color": "black",
            "fillColor": "#440154",
            "weight": 0.9
           }
          },
          "type": "Feature"
         },
         {
          "bbox": [
           117.936189,
           -32.787434,
           117.936189,
           -32.787434
          ],
          "geometry": {
           "coordinates": [
            117.936189,
            -32.787434
           ],
           "type": "Point"
          },
          "id": "104",
          "properties": {
           "class": 1,
           "style": {
            "color": "black",
            "fillColor": "#440154",
            "weight": 0.9
           }
          },
          "type": "Feature"
         },
         {
          "bbox": [
           116.473938,
           -31.176742,
           116.473938,
           -31.176742
          ],
          "geometry": {
           "coordinates": [
            116.473938,
            -31.176742
           ],
           "type": "Point"
          },
          "id": "105",
          "properties": {
           "class": 1,
           "style": {
            "color": "black",
            "fillColor": "#440154",
            "weight": 0.9
           }
          },
          "type": "Feature"
         },
         {
          "bbox": [
           117.214139,
           -33.816252,
           117.214139,
           -33.816252
          ],
          "geometry": {
           "coordinates": [
            117.214139,
            -33.816252
           ],
           "type": "Point"
          },
          "id": "106",
          "properties": {
           "class": 1,
           "style": {
            "color": "black",
            "fillColor": "#440154",
            "weight": 0.9
           }
          },
          "type": "Feature"
         },
         {
          "bbox": [
           115.886152,
           -30.615287,
           115.886152,
           -30.615287
          ],
          "geometry": {
           "coordinates": [
            115.886152,
            -30.615287
           ],
           "type": "Point"
          },
          "id": "107",
          "properties": {
           "class": 1,
           "style": {
            "color": "black",
            "fillColor": "#440154",
            "weight": 0.9
           }
          },
          "type": "Feature"
         },
         {
          "bbox": [
           117.910032,
           -32.313609,
           117.910032,
           -32.313609
          ],
          "geometry": {
           "coordinates": [
            117.910032,
            -32.313609
           ],
           "type": "Point"
          },
          "id": "108",
          "properties": {
           "class": 1,
           "style": {
            "color": "black",
            "fillColor": "#440154",
            "weight": 0.9
           }
          },
          "type": "Feature"
         },
         {
          "bbox": [
           117.272724,
           -32.568585,
           117.272724,
           -32.568585
          ],
          "geometry": {
           "coordinates": [
            117.272724,
            -32.568585
           ],
           "type": "Point"
          },
          "id": "109",
          "properties": {
           "class": 1,
           "style": {
            "color": "black",
            "fillColor": "#440154",
            "weight": 0.9
           }
          },
          "type": "Feature"
         },
         {
          "bbox": [
           117.10373,
           -33.6736,
           117.10373,
           -33.6736
          ],
          "geometry": {
           "coordinates": [
            117.10373,
            -33.6736
           ],
           "type": "Point"
          },
          "id": "110",
          "properties": {
           "class": 1,
           "style": {
            "color": "black",
            "fillColor": "#440154",
            "weight": 0.9
           }
          },
          "type": "Feature"
         },
         {
          "bbox": [
           117.103098,
           -33.717775,
           117.103098,
           -33.717775
          ],
          "geometry": {
           "coordinates": [
            117.103098,
            -33.717775
           ],
           "type": "Point"
          },
          "id": "111",
          "properties": {
           "class": 1,
           "style": {
            "color": "black",
            "fillColor": "#440154",
            "weight": 0.9
           }
          },
          "type": "Feature"
         },
         {
          "bbox": [
           116.962878,
           -33.352332,
           116.962878,
           -33.352332
          ],
          "geometry": {
           "coordinates": [
            116.962878,
            -33.352332
           ],
           "type": "Point"
          },
          "id": "112",
          "properties": {
           "class": 1,
           "style": {
            "color": "black",
            "fillColor": "#440154",
            "weight": 0.9
           }
          },
          "type": "Feature"
         },
         {
          "bbox": [
           116.596026,
           -31.431073,
           116.596026,
           -31.431073
          ],
          "geometry": {
           "coordinates": [
            116.596026,
            -31.431073
           ],
           "type": "Point"
          },
          "id": "113",
          "properties": {
           "class": 1,
           "style": {
            "color": "black",
            "fillColor": "#440154",
            "weight": 0.9
           }
          },
          "type": "Feature"
         },
         {
          "bbox": [
           117.09069,
           -31.622341,
           117.09069,
           -31.622341
          ],
          "geometry": {
           "coordinates": [
            117.09069,
            -31.622341
           ],
           "type": "Point"
          },
          "id": "114",
          "properties": {
           "class": 1,
           "style": {
            "color": "black",
            "fillColor": "#440154",
            "weight": 0.9
           }
          },
          "type": "Feature"
         },
         {
          "bbox": [
           117.218479,
           -32.312636,
           117.218479,
           -32.312636
          ],
          "geometry": {
           "coordinates": [
            117.218479,
            -32.312636
           ],
           "type": "Point"
          },
          "id": "115",
          "properties": {
           "class": 1,
           "style": {
            "color": "black",
            "fillColor": "#440154",
            "weight": 0.9
           }
          },
          "type": "Feature"
         },
         {
          "bbox": [
           117.302146,
           -32.330018,
           117.302146,
           -32.330018
          ],
          "geometry": {
           "coordinates": [
            117.302146,
            -32.330018
           ],
           "type": "Point"
          },
          "id": "116",
          "properties": {
           "class": 1,
           "style": {
            "color": "black",
            "fillColor": "#440154",
            "weight": 0.9
           }
          },
          "type": "Feature"
         },
         {
          "bbox": [
           117.108706,
           -33.673232,
           117.108706,
           -33.673232
          ],
          "geometry": {
           "coordinates": [
            117.108706,
            -33.673232
           ],
           "type": "Point"
          },
          "id": "117",
          "properties": {
           "class": 1,
           "style": {
            "color": "black",
            "fillColor": "#440154",
            "weight": 0.9
           }
          },
          "type": "Feature"
         },
         {
          "bbox": [
           116.025967,
           -30.835057,
           116.025967,
           -30.835057
          ],
          "geometry": {
           "coordinates": [
            116.025967,
            -30.835057
           ],
           "type": "Point"
          },
          "id": "118",
          "properties": {
           "class": 1,
           "style": {
            "color": "black",
            "fillColor": "#440154",
            "weight": 0.9
           }
          },
          "type": "Feature"
         },
         {
          "bbox": [
           117.385918,
           -33.299893,
           117.385918,
           -33.299893
          ],
          "geometry": {
           "coordinates": [
            117.385918,
            -33.299893
           ],
           "type": "Point"
          },
          "id": "119",
          "properties": {
           "class": 1,
           "style": {
            "color": "black",
            "fillColor": "#440154",
            "weight": 0.9
           }
          },
          "type": "Feature"
         },
         {
          "bbox": [
           117.132231,
           -32.532548,
           117.132231,
           -32.532548
          ],
          "geometry": {
           "coordinates": [
            117.132231,
            -32.532548
           ],
           "type": "Point"
          },
          "id": "120",
          "properties": {
           "class": 1,
           "style": {
            "color": "black",
            "fillColor": "#440154",
            "weight": 0.9
           }
          },
          "type": "Feature"
         },
         {
          "bbox": [
           116.825808,
           -33.115097,
           116.825808,
           -33.115097
          ],
          "geometry": {
           "coordinates": [
            116.825808,
            -33.115097
           ],
           "type": "Point"
          },
          "id": "121",
          "properties": {
           "class": 1,
           "style": {
            "color": "black",
            "fillColor": "#440154",
            "weight": 0.9
           }
          },
          "type": "Feature"
         },
         {
          "bbox": [
           117.556671,
           -32.36852,
           117.556671,
           -32.36852
          ],
          "geometry": {
           "coordinates": [
            117.556671,
            -32.36852
           ],
           "type": "Point"
          },
          "id": "122",
          "properties": {
           "class": 1,
           "style": {
            "color": "black",
            "fillColor": "#440154",
            "weight": 0.9
           }
          },
          "type": "Feature"
         },
         {
          "bbox": [
           117.901741,
           -32.310977,
           117.901741,
           -32.310977
          ],
          "geometry": {
           "coordinates": [
            117.901741,
            -32.310977
           ],
           "type": "Point"
          },
          "id": "123",
          "properties": {
           "class": 1,
           "style": {
            "color": "black",
            "fillColor": "#440154",
            "weight": 0.9
           }
          },
          "type": "Feature"
         },
         {
          "bbox": [
           116.537446,
           -31.365657,
           116.537446,
           -31.365657
          ],
          "geometry": {
           "coordinates": [
            116.537446,
            -31.365657
           ],
           "type": "Point"
          },
          "id": "124",
          "properties": {
           "class": 1,
           "style": {
            "color": "black",
            "fillColor": "#440154",
            "weight": 0.9
           }
          },
          "type": "Feature"
         },
         {
          "bbox": [
           116.527877,
           -31.35367,
           116.527877,
           -31.35367
          ],
          "geometry": {
           "coordinates": [
            116.527877,
            -31.35367
           ],
           "type": "Point"
          },
          "id": "125",
          "properties": {
           "class": 1,
           "style": {
            "color": "black",
            "fillColor": "#440154",
            "weight": 0.9
           }
          },
          "type": "Feature"
         },
         {
          "bbox": [
           116.600754,
           -31.45722,
           116.600754,
           -31.45722
          ],
          "geometry": {
           "coordinates": [
            116.600754,
            -31.45722
           ],
           "type": "Point"
          },
          "id": "126",
          "properties": {
           "class": 1,
           "style": {
            "color": "black",
            "fillColor": "#440154",
            "weight": 0.9
           }
          },
          "type": "Feature"
         },
         {
          "bbox": [
           116.041536,
           -30.923983,
           116.041536,
           -30.923983
          ],
          "geometry": {
           "coordinates": [
            116.041536,
            -30.923983
           ],
           "type": "Point"
          },
          "id": "127",
          "properties": {
           "class": 1,
           "style": {
            "color": "black",
            "fillColor": "#440154",
            "weight": 0.9
           }
          },
          "type": "Feature"
         },
         {
          "bbox": [
           117.18171,
           -32.312691,
           117.18171,
           -32.312691
          ],
          "geometry": {
           "coordinates": [
            117.18171,
            -32.312691
           ],
           "type": "Point"
          },
          "id": "128",
          "properties": {
           "class": 1,
           "style": {
            "color": "black",
            "fillColor": "#440154",
            "weight": 0.9
           }
          },
          "type": "Feature"
         },
         {
          "bbox": [
           116.57546,
           -31.420196,
           116.57546,
           -31.420196
          ],
          "geometry": {
           "coordinates": [
            116.57546,
            -31.420196
           ],
           "type": "Point"
          },
          "id": "129",
          "properties": {
           "class": 1,
           "style": {
            "color": "black",
            "fillColor": "#440154",
            "weight": 0.9
           }
          },
          "type": "Feature"
         },
         {
          "bbox": [
           117.149667,
           -33.798894,
           117.149667,
           -33.798894
          ],
          "geometry": {
           "coordinates": [
            117.149667,
            -33.798894
           ],
           "type": "Point"
          },
          "id": "130",
          "properties": {
           "class": 1,
           "style": {
            "color": "black",
            "fillColor": "#440154",
            "weight": 0.9
           }
          },
          "type": "Feature"
         },
         {
          "bbox": [
           117.265833,
           -32.564813,
           117.265833,
           -32.564813
          ],
          "geometry": {
           "coordinates": [
            117.265833,
            -32.564813
           ],
           "type": "Point"
          },
          "id": "131",
          "properties": {
           "class": 1,
           "style": {
            "color": "black",
            "fillColor": "#440154",
            "weight": 0.9
           }
          },
          "type": "Feature"
         },
         {
          "bbox": [
           116.398295,
           -31.052399,
           116.398295,
           -31.052399
          ],
          "geometry": {
           "coordinates": [
            116.398295,
            -31.052399
           ],
           "type": "Point"
          },
          "id": "132",
          "properties": {
           "class": 1,
           "style": {
            "color": "black",
            "fillColor": "#440154",
            "weight": 0.9
           }
          },
          "type": "Feature"
         },
         {
          "bbox": [
           117.469925,
           -32.730759,
           117.469925,
           -32.730759
          ],
          "geometry": {
           "coordinates": [
            117.469925,
            -32.730759
           ],
           "type": "Point"
          },
          "id": "133",
          "properties": {
           "class": 1,
           "style": {
            "color": "black",
            "fillColor": "#440154",
            "weight": 0.9
           }
          },
          "type": "Feature"
         },
         {
          "bbox": [
           117.6675,
           -32.78478,
           117.6675,
           -32.78478
          ],
          "geometry": {
           "coordinates": [
            117.6675,
            -32.78478
           ],
           "type": "Point"
          },
          "id": "134",
          "properties": {
           "class": 1,
           "style": {
            "color": "black",
            "fillColor": "#440154",
            "weight": 0.9
           }
          },
          "type": "Feature"
         },
         {
          "bbox": [
           116.79319,
           -33.237804,
           116.79319,
           -33.237804
          ],
          "geometry": {
           "coordinates": [
            116.79319,
            -33.237804
           ],
           "type": "Point"
          },
          "id": "135",
          "properties": {
           "class": 1,
           "style": {
            "color": "black",
            "fillColor": "#440154",
            "weight": 0.9
           }
          },
          "type": "Feature"
         },
         {
          "bbox": [
           116.047114,
           -30.927999,
           116.047114,
           -30.927999
          ],
          "geometry": {
           "coordinates": [
            116.047114,
            -30.927999
           ],
           "type": "Point"
          },
          "id": "136",
          "properties": {
           "class": 1,
           "style": {
            "color": "black",
            "fillColor": "#440154",
            "weight": 0.9
           }
          },
          "type": "Feature"
         },
         {
          "bbox": [
           118.044953,
           -31.744361,
           118.044953,
           -31.744361
          ],
          "geometry": {
           "coordinates": [
            118.044953,
            -31.744361
           ],
           "type": "Point"
          },
          "id": "137",
          "properties": {
           "class": 1,
           "style": {
            "color": "black",
            "fillColor": "#440154",
            "weight": 0.9
           }
          },
          "type": "Feature"
         },
         {
          "bbox": [
           117.355937,
           -33.389861,
           117.355937,
           -33.389861
          ],
          "geometry": {
           "coordinates": [
            117.355937,
            -33.389861
           ],
           "type": "Point"
          },
          "id": "138",
          "properties": {
           "class": 1,
           "style": {
            "color": "black",
            "fillColor": "#440154",
            "weight": 0.9
           }
          },
          "type": "Feature"
         },
         {
          "bbox": [
           116.475269,
           -31.187632,
           116.475269,
           -31.187632
          ],
          "geometry": {
           "coordinates": [
            116.475269,
            -31.187632
           ],
           "type": "Point"
          },
          "id": "139",
          "properties": {
           "class": 1,
           "style": {
            "color": "black",
            "fillColor": "#440154",
            "weight": 0.9
           }
          },
          "type": "Feature"
         },
         {
          "bbox": [
           116.804523,
           -33.212499,
           116.804523,
           -33.212499
          ],
          "geometry": {
           "coordinates": [
            116.804523,
            -33.212499
           ],
           "type": "Point"
          },
          "id": "140",
          "properties": {
           "class": 1,
           "style": {
            "color": "black",
            "fillColor": "#440154",
            "weight": 0.9
           }
          },
          "type": "Feature"
         },
         {
          "bbox": [
           115.626956,
           -30.886301,
           115.626956,
           -30.886301
          ],
          "geometry": {
           "coordinates": [
            115.626956,
            -30.886301
           ],
           "type": "Point"
          },
          "id": "141",
          "properties": {
           "class": 1,
           "style": {
            "color": "black",
            "fillColor": "#440154",
            "weight": 0.9
           }
          },
          "type": "Feature"
         },
         {
          "bbox": [
           116.32485,
           -31.022503,
           116.32485,
           -31.022503
          ],
          "geometry": {
           "coordinates": [
            116.32485,
            -31.022503
           ],
           "type": "Point"
          },
          "id": "142",
          "properties": {
           "class": 1,
           "style": {
            "color": "black",
            "fillColor": "#440154",
            "weight": 0.9
           }
          },
          "type": "Feature"
         },
         {
          "bbox": [
           118.082545,
           -31.78075,
           118.082545,
           -31.78075
          ],
          "geometry": {
           "coordinates": [
            118.082545,
            -31.78075
           ],
           "type": "Point"
          },
          "id": "143",
          "properties": {
           "class": 1,
           "style": {
            "color": "black",
            "fillColor": "#440154",
            "weight": 0.9
           }
          },
          "type": "Feature"
         },
         {
          "bbox": [
           116.018842,
           -30.807225,
           116.018842,
           -30.807225
          ],
          "geometry": {
           "coordinates": [
            116.018842,
            -30.807225
           ],
           "type": "Point"
          },
          "id": "144",
          "properties": {
           "class": 1,
           "style": {
            "color": "black",
            "fillColor": "#440154",
            "weight": 0.9
           }
          },
          "type": "Feature"
         },
         {
          "bbox": [
           117.005413,
           -32.321015,
           117.005413,
           -32.321015
          ],
          "geometry": {
           "coordinates": [
            117.005413,
            -32.321015
           ],
           "type": "Point"
          },
          "id": "145",
          "properties": {
           "class": 1,
           "style": {
            "color": "black",
            "fillColor": "#440154",
            "weight": 0.9
           }
          },
          "type": "Feature"
         },
         {
          "bbox": [
           117.908429,
           -32.890471,
           117.908429,
           -32.890471
          ],
          "geometry": {
           "coordinates": [
            117.908429,
            -32.890471
           ],
           "type": "Point"
          },
          "id": "146",
          "properties": {
           "class": 1,
           "style": {
            "color": "black",
            "fillColor": "#440154",
            "weight": 0.9
           }
          },
          "type": "Feature"
         },
         {
          "bbox": [
           116.662364,
           -32.864502,
           116.662364,
           -32.864502
          ],
          "geometry": {
           "coordinates": [
            116.662364,
            -32.864502
           ],
           "type": "Point"
          },
          "id": "147",
          "properties": {
           "class": 1,
           "style": {
            "color": "black",
            "fillColor": "#440154",
            "weight": 0.9
           }
          },
          "type": "Feature"
         },
         {
          "bbox": [
           116.575818,
           -31.423562,
           116.575818,
           -31.423562
          ],
          "geometry": {
           "coordinates": [
            116.575818,
            -31.423562
           ],
           "type": "Point"
          },
          "id": "148",
          "properties": {
           "class": 1,
           "style": {
            "color": "black",
            "fillColor": "#440154",
            "weight": 0.9
           }
          },
          "type": "Feature"
         },
         {
          "bbox": [
           117.750742,
           -32.784894,
           117.750742,
           -32.784894
          ],
          "geometry": {
           "coordinates": [
            117.750742,
            -32.784894
           ],
           "type": "Point"
          },
          "id": "149",
          "properties": {
           "class": 1,
           "style": {
            "color": "black",
            "fillColor": "#440154",
            "weight": 0.9
           }
          },
          "type": "Feature"
         },
         {
          "bbox": [
           116.062203,
           -30.93212,
           116.062203,
           -30.93212
          ],
          "geometry": {
           "coordinates": [
            116.062203,
            -30.93212
           ],
           "type": "Point"
          },
          "id": "150",
          "properties": {
           "class": 1,
           "style": {
            "color": "black",
            "fillColor": "#440154",
            "weight": 0.9
           }
          },
          "type": "Feature"
         },
         {
          "bbox": [
           117.386793,
           -32.342211,
           117.386793,
           -32.342211
          ],
          "geometry": {
           "coordinates": [
            117.386793,
            -32.342211
           ],
           "type": "Point"
          },
          "id": "151",
          "properties": {
           "class": 1,
           "style": {
            "color": "black",
            "fillColor": "#440154",
            "weight": 0.9
           }
          },
          "type": "Feature"
         },
         {
          "bbox": [
           118.048773,
           -31.715442,
           118.048773,
           -31.715442
          ],
          "geometry": {
           "coordinates": [
            118.048773,
            -31.715442
           ],
           "type": "Point"
          },
          "id": "152",
          "properties": {
           "class": 1,
           "style": {
            "color": "black",
            "fillColor": "#440154",
            "weight": 0.9
           }
          },
          "type": "Feature"
         },
         {
          "bbox": [
           117.478076,
           -33.676946,
           117.478076,
           -33.676946
          ],
          "geometry": {
           "coordinates": [
            117.478076,
            -33.676946
           ],
           "type": "Point"
          },
          "id": "153",
          "properties": {
           "class": 1,
           "style": {
            "color": "black",
            "fillColor": "#440154",
            "weight": 0.9
           }
          },
          "type": "Feature"
         },
         {
          "bbox": [
           116.916804,
           -33.375936,
           116.916804,
           -33.375936
          ],
          "geometry": {
           "coordinates": [
            116.916804,
            -33.375936
           ],
           "type": "Point"
          },
          "id": "154",
          "properties": {
           "class": 1,
           "style": {
            "color": "black",
            "fillColor": "#440154",
            "weight": 0.9
           }
          },
          "type": "Feature"
         },
         {
          "bbox": [
           117.18407,
           -32.532355,
           117.18407,
           -32.532355
          ],
          "geometry": {
           "coordinates": [
            117.18407,
            -32.532355
           ],
           "type": "Point"
          },
          "id": "155",
          "properties": {
           "class": 1,
           "style": {
            "color": "black",
            "fillColor": "#440154",
            "weight": 0.9
           }
          },
          "type": "Feature"
         },
         {
          "bbox": [
           117.789698,
           -32.338486,
           117.789698,
           -32.338486
          ],
          "geometry": {
           "coordinates": [
            117.789698,
            -32.338486
           ],
           "type": "Point"
          },
          "id": "156",
          "properties": {
           "class": 1,
           "style": {
            "color": "black",
            "fillColor": "#440154",
            "weight": 0.9
           }
          },
          "type": "Feature"
         },
         {
          "bbox": [
           117.440421,
           -32.714566,
           117.440421,
           -32.714566
          ],
          "geometry": {
           "coordinates": [
            117.440421,
            -32.714566
           ],
           "type": "Point"
          },
          "id": "157",
          "properties": {
           "class": 1,
           "style": {
            "color": "black",
            "fillColor": "#440154",
            "weight": 0.9
           }
          },
          "type": "Feature"
         },
         {
          "bbox": [
           116.025352,
           -30.739093,
           116.025352,
           -30.739093
          ],
          "geometry": {
           "coordinates": [
            116.025352,
            -30.739093
           ],
           "type": "Point"
          },
          "id": "158",
          "properties": {
           "class": 1,
           "style": {
            "color": "black",
            "fillColor": "#440154",
            "weight": 0.9
           }
          },
          "type": "Feature"
         },
         {
          "bbox": [
           117.68374405884991,
           -30.22883643111976,
           117.68374405884991,
           -30.22883643111976
          ],
          "geometry": {
           "coordinates": [
            117.68374405884991,
            -30.22883643111976
           ],
           "type": "Point"
          },
          "id": "159",
          "properties": {
           "class": 1,
           "style": {
            "color": "black",
            "fillColor": "#440154",
            "weight": 0.9
           }
          },
          "type": "Feature"
         },
         {
          "bbox": [
           117.077382,
           -32.520204,
           117.077382,
           -32.520204
          ],
          "geometry": {
           "coordinates": [
            117.077382,
            -32.520204
           ],
           "type": "Point"
          },
          "id": "160",
          "properties": {
           "class": 1,
           "style": {
            "color": "black",
            "fillColor": "#440154",
            "weight": 0.9
           }
          },
          "type": "Feature"
         },
         {
          "bbox": [
           117.033814,
           -33.345163,
           117.033814,
           -33.345163
          ],
          "geometry": {
           "coordinates": [
            117.033814,
            -33.345163
           ],
           "type": "Point"
          },
          "id": "161",
          "properties": {
           "class": 1,
           "style": {
            "color": "black",
            "fillColor": "#440154",
            "weight": 0.9
           }
          },
          "type": "Feature"
         },
         {
          "bbox": [
           117.009789,
           -32.299039,
           117.009789,
           -32.299039
          ],
          "geometry": {
           "coordinates": [
            117.009789,
            -32.299039
           ],
           "type": "Point"
          },
          "id": "162",
          "properties": {
           "class": 1,
           "style": {
            "color": "black",
            "fillColor": "#440154",
            "weight": 0.9
           }
          },
          "type": "Feature"
         },
         {
          "bbox": [
           117.906142,
           -32.85581,
           117.906142,
           -32.85581
          ],
          "geometry": {
           "coordinates": [
            117.906142,
            -32.85581
           ],
           "type": "Point"
          },
          "id": "163",
          "properties": {
           "class": 1,
           "style": {
            "color": "black",
            "fillColor": "#440154",
            "weight": 0.9
           }
          },
          "type": "Feature"
         },
         {
          "bbox": [
           117.451154,
           -32.713082,
           117.451154,
           -32.713082
          ],
          "geometry": {
           "coordinates": [
            117.451154,
            -32.713082
           ],
           "type": "Point"
          },
          "id": "164",
          "properties": {
           "class": 1,
           "style": {
            "color": "black",
            "fillColor": "#440154",
            "weight": 0.9
           }
          },
          "type": "Feature"
         },
         {
          "bbox": [
           116.465842,
           -31.143644,
           116.465842,
           -31.143644
          ],
          "geometry": {
           "coordinates": [
            116.465842,
            -31.143644
           ],
           "type": "Point"
          },
          "id": "165",
          "properties": {
           "class": 1,
           "style": {
            "color": "black",
            "fillColor": "#440154",
            "weight": 0.9
           }
          },
          "type": "Feature"
         },
         {
          "bbox": [
           116.901994,
           -33.380601,
           116.901994,
           -33.380601
          ],
          "geometry": {
           "coordinates": [
            116.901994,
            -33.380601
           ],
           "type": "Point"
          },
          "id": "166",
          "properties": {
           "class": 1,
           "style": {
            "color": "black",
            "fillColor": "#440154",
            "weight": 0.9
           }
          },
          "type": "Feature"
         },
         {
          "bbox": [
           117.436316,
           -33.668691,
           117.436316,
           -33.668691
          ],
          "geometry": {
           "coordinates": [
            117.436316,
            -33.668691
           ],
           "type": "Point"
          },
          "id": "167",
          "properties": {
           "class": 1,
           "style": {
            "color": "black",
            "fillColor": "#440154",
            "weight": 0.9
           }
          },
          "type": "Feature"
         },
         {
          "bbox": [
           117.450989,
           -33.28379,
           117.450989,
           -33.28379
          ],
          "geometry": {
           "coordinates": [
            117.450989,
            -33.28379
           ],
           "type": "Point"
          },
          "id": "168",
          "properties": {
           "class": 1,
           "style": {
            "color": "black",
            "fillColor": "#440154",
            "weight": 0.9
           }
          },
          "type": "Feature"
         },
         {
          "bbox": [
           117.94313,
           -32.790853,
           117.94313,
           -32.790853
          ],
          "geometry": {
           "coordinates": [
            117.94313,
            -32.790853
           ],
           "type": "Point"
          },
          "id": "169",
          "properties": {
           "class": 1,
           "style": {
            "color": "black",
            "fillColor": "#440154",
            "weight": 0.9
           }
          },
          "type": "Feature"
         },
         {
          "bbox": [
           116.664321,
           -32.866955,
           116.664321,
           -32.866955
          ],
          "geometry": {
           "coordinates": [
            116.664321,
            -32.866955
           ],
           "type": "Point"
          },
          "id": "170",
          "properties": {
           "class": 1,
           "style": {
            "color": "black",
            "fillColor": "#440154",
            "weight": 0.9
           }
          },
          "type": "Feature"
         },
         {
          "bbox": [
           116.593079,
           -31.457943,
           116.593079,
           -31.457943
          ],
          "geometry": {
           "coordinates": [
            116.593079,
            -31.457943
           ],
           "type": "Point"
          },
          "id": "171",
          "properties": {
           "class": 1,
           "style": {
            "color": "black",
            "fillColor": "#440154",
            "weight": 0.9
           }
          },
          "type": "Feature"
         },
         {
          "bbox": [
           116.022974,
           -30.836652,
           116.022974,
           -30.836652
          ],
          "geometry": {
           "coordinates": [
            116.022974,
            -30.836652
           ],
           "type": "Point"
          },
          "id": "172",
          "properties": {
           "class": 1,
           "style": {
            "color": "black",
            "fillColor": "#440154",
            "weight": 0.9
           }
          },
          "type": "Feature"
         },
         {
          "bbox": [
           117.182333,
           -32.536128,
           117.182333,
           -32.536128
          ],
          "geometry": {
           "coordinates": [
            117.182333,
            -32.536128
           ],
           "type": "Point"
          },
          "id": "173",
          "properties": {
           "class": 1,
           "style": {
            "color": "black",
            "fillColor": "#440154",
            "weight": 0.9
           }
          },
          "type": "Feature"
         },
         {
          "bbox": [
           116.592789,
           -31.421414,
           116.592789,
           -31.421414
          ],
          "geometry": {
           "coordinates": [
            116.592789,
            -31.421414
           ],
           "type": "Point"
          },
          "id": "174",
          "properties": {
           "class": 1,
           "style": {
            "color": "black",
            "fillColor": "#440154",
            "weight": 0.9
           }
          },
          "type": "Feature"
         },
         {
          "bbox": [
           117.032722,
           -32.40509,
           117.032722,
           -32.40509
          ],
          "geometry": {
           "coordinates": [
            117.032722,
            -32.40509
           ],
           "type": "Point"
          },
          "id": "175",
          "properties": {
           "class": 1,
           "style": {
            "color": "black",
            "fillColor": "#440154",
            "weight": 0.9
           }
          },
          "type": "Feature"
         },
         {
          "bbox": [
           117.153352,
           -31.635537,
           117.153352,
           -31.635537
          ],
          "geometry": {
           "coordinates": [
            117.153352,
            -31.635537
           ],
           "type": "Point"
          },
          "id": "176",
          "properties": {
           "class": 1,
           "style": {
            "color": "black",
            "fillColor": "#440154",
            "weight": 0.9
           }
          },
          "type": "Feature"
         },
         {
          "bbox": [
           117.813555,
           -32.780129,
           117.813555,
           -32.780129
          ],
          "geometry": {
           "coordinates": [
            117.813555,
            -32.780129
           ],
           "type": "Point"
          },
          "id": "177",
          "properties": {
           "class": 1,
           "style": {
            "color": "black",
            "fillColor": "#440154",
            "weight": 0.9
           }
          },
          "type": "Feature"
         },
         {
          "bbox": [
           117.479953,
           -31.638349,
           117.479953,
           -31.638349
          ],
          "geometry": {
           "coordinates": [
            117.479953,
            -31.638349
           ],
           "type": "Point"
          },
          "id": "178",
          "properties": {
           "class": 1,
           "style": {
            "color": "black",
            "fillColor": "#440154",
            "weight": 0.9
           }
          },
          "type": "Feature"
         },
         {
          "bbox": [
           116.194641,
           -30.976837,
           116.194641,
           -30.976837
          ],
          "geometry": {
           "coordinates": [
            116.194641,
            -30.976837
           ],
           "type": "Point"
          },
          "id": "179",
          "properties": {
           "class": 1,
           "style": {
            "color": "black",
            "fillColor": "#440154",
            "weight": 0.9
           }
          },
          "type": "Feature"
         },
         {
          "bbox": [
           117.043844,
           -32.470992,
           117.043844,
           -32.470992
          ],
          "geometry": {
           "coordinates": [
            117.043844,
            -32.470992
           ],
           "type": "Point"
          },
          "id": "180",
          "properties": {
           "class": 1,
           "style": {
            "color": "black",
            "fillColor": "#440154",
            "weight": 0.9
           }
          },
          "type": "Feature"
         },
         {
          "bbox": [
           117.424906,
           -33.73391,
           117.424906,
           -33.73391
          ],
          "geometry": {
           "coordinates": [
            117.424906,
            -33.73391
           ],
           "type": "Point"
          },
          "id": "181",
          "properties": {
           "class": 1,
           "style": {
            "color": "black",
            "fillColor": "#440154",
            "weight": 0.9
           }
          },
          "type": "Feature"
         },
         {
          "bbox": [
           117.38063,
           -32.629191,
           117.38063,
           -32.629191
          ],
          "geometry": {
           "coordinates": [
            117.38063,
            -32.629191
           ],
           "type": "Point"
          },
          "id": "182",
          "properties": {
           "class": 1,
           "style": {
            "color": "black",
            "fillColor": "#440154",
            "weight": 0.9
           }
          },
          "type": "Feature"
         },
         {
          "bbox": [
           117.59917,
           -33.287635,
           117.59917,
           -33.287635
          ],
          "geometry": {
           "coordinates": [
            117.59917,
            -33.287635
           ],
           "type": "Point"
          },
          "id": "183",
          "properties": {
           "class": 1,
           "style": {
            "color": "black",
            "fillColor": "#440154",
            "weight": 0.9
           }
          },
          "type": "Feature"
         },
         {
          "bbox": [
           116.069875,
           -30.928166,
           116.069875,
           -30.928166
          ],
          "geometry": {
           "coordinates": [
            116.069875,
            -30.928166
           ],
           "type": "Point"
          },
          "id": "184",
          "properties": {
           "class": 1,
           "style": {
            "color": "black",
            "fillColor": "#440154",
            "weight": 0.9
           }
          },
          "type": "Feature"
         },
         {
          "bbox": [
           118.085569,
           -32.197056,
           118.085569,
           -32.197056
          ],
          "geometry": {
           "coordinates": [
            118.085569,
            -32.197056
           ],
           "type": "Point"
          },
          "id": "185",
          "properties": {
           "class": 1,
           "style": {
            "color": "black",
            "fillColor": "#440154",
            "weight": 0.9
           }
          },
          "type": "Feature"
         },
         {
          "bbox": [
           116.992283,
           -33.340189,
           116.992283,
           -33.340189
          ],
          "geometry": {
           "coordinates": [
            116.992283,
            -33.340189
           ],
           "type": "Point"
          },
          "id": "186",
          "properties": {
           "class": 1,
           "style": {
            "color": "black",
            "fillColor": "#440154",
            "weight": 0.9
           }
          },
          "type": "Feature"
         },
         {
          "bbox": [
           117.562591,
           -33.295511,
           117.562591,
           -33.295511
          ],
          "geometry": {
           "coordinates": [
            117.562591,
            -33.295511
           ],
           "type": "Point"
          },
          "id": "187",
          "properties": {
           "class": 1,
           "style": {
            "color": "black",
            "fillColor": "#440154",
            "weight": 0.9
           }
          },
          "type": "Feature"
         },
         {
          "bbox": [
           117.497911,
           -32.768652,
           117.497911,
           -32.768652
          ],
          "geometry": {
           "coordinates": [
            117.497911,
            -32.768652
           ],
           "type": "Point"
          },
          "id": "188",
          "properties": {
           "class": 1,
           "style": {
            "color": "black",
            "fillColor": "#440154",
            "weight": 0.9
           }
          },
          "type": "Feature"
         },
         {
          "bbox": [
           117.13237,
           -32.322351,
           117.13237,
           -32.322351
          ],
          "geometry": {
           "coordinates": [
            117.13237,
            -32.322351
           ],
           "type": "Point"
          },
          "id": "189",
          "properties": {
           "class": 1,
           "style": {
            "color": "black",
            "fillColor": "#440154",
            "weight": 0.9
           }
          },
          "type": "Feature"
         },
         {
          "bbox": [
           116.497569,
           -31.254714,
           116.497569,
           -31.254714
          ],
          "geometry": {
           "coordinates": [
            116.497569,
            -31.254714
           ],
           "type": "Point"
          },
          "id": "190",
          "properties": {
           "class": 1,
           "style": {
            "color": "black",
            "fillColor": "#440154",
            "weight": 0.9
           }
          },
          "type": "Feature"
         },
         {
          "bbox": [
           117.540066,
           -33.290691,
           117.540066,
           -33.290691
          ],
          "geometry": {
           "coordinates": [
            117.540066,
            -33.290691
           ],
           "type": "Point"
          },
          "id": "191",
          "properties": {
           "class": 1,
           "style": {
            "color": "black",
            "fillColor": "#440154",
            "weight": 0.9
           }
          },
          "type": "Feature"
         },
         {
          "bbox": [
           117.903161,
           -32.859281,
           117.903161,
           -32.859281
          ],
          "geometry": {
           "coordinates": [
            117.903161,
            -32.859281
           ],
           "type": "Point"
          },
          "id": "192",
          "properties": {
           "class": 1,
           "style": {
            "color": "black",
            "fillColor": "#440154",
            "weight": 0.9
           }
          },
          "type": "Feature"
         },
         {
          "bbox": [
           117.425369,
           -33.286202,
           117.425369,
           -33.286202
          ],
          "geometry": {
           "coordinates": [
            117.425369,
            -33.286202
           ],
           "type": "Point"
          },
          "id": "193",
          "properties": {
           "class": 1,
           "style": {
            "color": "black",
            "fillColor": "#440154",
            "weight": 0.9
           }
          },
          "type": "Feature"
         },
         {
          "bbox": [
           117.099236,
           -32.530937,
           117.099236,
           -32.530937
          ],
          "geometry": {
           "coordinates": [
            117.099236,
            -32.530937
           ],
           "type": "Point"
          },
          "id": "194",
          "properties": {
           "class": 1,
           "style": {
            "color": "black",
            "fillColor": "#440154",
            "weight": 0.9
           }
          },
          "type": "Feature"
         },
         {
          "bbox": [
           117.898704,
           -32.322615,
           117.898704,
           -32.322615
          ],
          "geometry": {
           "coordinates": [
            117.898704,
            -32.322615
           ],
           "type": "Point"
          },
          "id": "195",
          "properties": {
           "class": 1,
           "style": {
            "color": "black",
            "fillColor": "#440154",
            "weight": 0.9
           }
          },
          "type": "Feature"
         },
         {
          "bbox": [
           116.454261,
           -31.125287,
           116.454261,
           -31.125287
          ],
          "geometry": {
           "coordinates": [
            116.454261,
            -31.125287
           ],
           "type": "Point"
          },
          "id": "196",
          "properties": {
           "class": 1,
           "style": {
            "color": "black",
            "fillColor": "#440154",
            "weight": 0.9
           }
          },
          "type": "Feature"
         },
         {
          "bbox": [
           118.001286,
           -32.267609,
           118.001286,
           -32.267609
          ],
          "geometry": {
           "coordinates": [
            118.001286,
            -32.267609
           ],
           "type": "Point"
          },
          "id": "197",
          "properties": {
           "class": 1,
           "style": {
            "color": "black",
            "fillColor": "#440154",
            "weight": 0.9
           }
          },
          "type": "Feature"
         },
         {
          "bbox": [
           116.652481,
           -32.859075,
           116.652481,
           -32.859075
          ],
          "geometry": {
           "coordinates": [
            116.652481,
            -32.859075
           ],
           "type": "Point"
          },
          "id": "198",
          "properties": {
           "class": 1,
           "style": {
            "color": "black",
            "fillColor": "#440154",
            "weight": 0.9
           }
          },
          "type": "Feature"
         },
         {
          "bbox": [
           116.968278,
           -33.353064,
           116.968278,
           -33.353064
          ],
          "geometry": {
           "coordinates": [
            116.968278,
            -33.353064
           ],
           "type": "Point"
          },
          "id": "199",
          "properties": {
           "class": 1,
           "style": {
            "color": "black",
            "fillColor": "#440154",
            "weight": 0.9
           }
          },
          "type": "Feature"
         },
         {
          "bbox": [
           117.217337,
           -33.815738,
           117.217337,
           -33.815738
          ],
          "geometry": {
           "coordinates": [
            117.217337,
            -33.815738
           ],
           "type": "Point"
          },
          "id": "200",
          "properties": {
           "class": 1,
           "style": {
            "color": "black",
            "fillColor": "#440154",
            "weight": 0.9
           }
          },
          "type": "Feature"
         },
         {
          "bbox": [
           116.788396,
           -33.227936,
           116.788396,
           -33.227936
          ],
          "geometry": {
           "coordinates": [
            116.788396,
            -33.227936
           ],
           "type": "Point"
          },
          "id": "201",
          "properties": {
           "class": 1,
           "style": {
            "color": "black",
            "fillColor": "#440154",
            "weight": 0.9
           }
          },
          "type": "Feature"
         },
         {
          "bbox": [
           115.860775,
           -31.285984,
           115.860775,
           -31.285984
          ],
          "geometry": {
           "coordinates": [
            115.860775,
            -31.285984
           ],
           "type": "Point"
          },
          "id": "202",
          "properties": {
           "class": 1,
           "style": {
            "color": "black",
            "fillColor": "#440154",
            "weight": 0.9
           }
          },
          "type": "Feature"
         },
         {
          "bbox": [
           116.562051,
           -31.421562,
           116.562051,
           -31.421562
          ],
          "geometry": {
           "coordinates": [
            116.562051,
            -31.421562
           ],
           "type": "Point"
          },
          "id": "203",
          "properties": {
           "class": 1,
           "style": {
            "color": "black",
            "fillColor": "#440154",
            "weight": 0.9
           }
          },
          "type": "Feature"
         },
         {
          "bbox": [
           117.920158,
           -33.014463,
           117.920158,
           -33.014463
          ],
          "geometry": {
           "coordinates": [
            117.920158,
            -33.014463
           ],
           "type": "Point"
          },
          "id": "204",
          "properties": {
           "class": 1,
           "style": {
            "color": "black",
            "fillColor": "#440154",
            "weight": 0.9
           }
          },
          "type": "Feature"
         },
         {
          "bbox": [
           116.644554,
           -32.850823,
           116.644554,
           -32.850823
          ],
          "geometry": {
           "coordinates": [
            116.644554,
            -32.850823
           ],
           "type": "Point"
          },
          "id": "205",
          "properties": {
           "class": 1,
           "style": {
            "color": "black",
            "fillColor": "#440154",
            "weight": 0.9
           }
          },
          "type": "Feature"
         },
         {
          "bbox": [
           117.206167,
           -32.312802,
           117.206167,
           -32.312802
          ],
          "geometry": {
           "coordinates": [
            117.206167,
            -32.312802
           ],
           "type": "Point"
          },
          "id": "206",
          "properties": {
           "class": 1,
           "style": {
            "color": "black",
            "fillColor": "#440154",
            "weight": 0.9
           }
          },
          "type": "Feature"
         },
         {
          "bbox": [
           117.465472,
           -32.728818,
           117.465472,
           -32.728818
          ],
          "geometry": {
           "coordinates": [
            117.465472,
            -32.728818
           ],
           "type": "Point"
          },
          "id": "207",
          "properties": {
           "class": 1,
           "style": {
            "color": "black",
            "fillColor": "#440154",
            "weight": 0.9
           }
          },
          "type": "Feature"
         },
         {
          "bbox": [
           118.05264670294537,
           -30.23842460073627,
           118.05264670294537,
           -30.23842460073627
          ],
          "geometry": {
           "coordinates": [
            118.05264670294537,
            -30.23842460073627
           ],
           "type": "Point"
          },
          "id": "208",
          "properties": {
           "class": 1,
           "style": {
            "color": "black",
            "fillColor": "#440154",
            "weight": 0.9
           }
          },
          "type": "Feature"
         },
         {
          "bbox": [
           116.022854,
           -30.831585,
           116.022854,
           -30.831585
          ],
          "geometry": {
           "coordinates": [
            116.022854,
            -30.831585
           ],
           "type": "Point"
          },
          "id": "209",
          "properties": {
           "class": 1,
           "style": {
            "color": "black",
            "fillColor": "#440154",
            "weight": 0.9
           }
          },
          "type": "Feature"
         },
         {
          "bbox": [
           115.697469,
           -30.953182,
           115.697469,
           -30.953182
          ],
          "geometry": {
           "coordinates": [
            115.697469,
            -30.953182
           ],
           "type": "Point"
          },
          "id": "210",
          "properties": {
           "class": 1,
           "style": {
            "color": "black",
            "fillColor": "#440154",
            "weight": 0.9
           }
          },
          "type": "Feature"
         },
         {
          "bbox": [
           117.961682,
           -32.283661,
           117.961682,
           -32.283661
          ],
          "geometry": {
           "coordinates": [
            117.961682,
            -32.283661
           ],
           "type": "Point"
          },
          "id": "211",
          "properties": {
           "class": 1,
           "style": {
            "color": "black",
            "fillColor": "#440154",
            "weight": 0.9
           }
          },
          "type": "Feature"
         },
         {
          "bbox": [
           116.82075,
           -33.205412,
           116.82075,
           -33.205412
          ],
          "geometry": {
           "coordinates": [
            116.82075,
            -33.205412
           ],
           "type": "Point"
          },
          "id": "212",
          "properties": {
           "class": 1,
           "style": {
            "color": "black",
            "fillColor": "#440154",
            "weight": 0.9
           }
          },
          "type": "Feature"
         },
         {
          "bbox": [
           118.049938,
           -32.242736,
           118.049938,
           -32.242736
          ],
          "geometry": {
           "coordinates": [
            118.049938,
            -32.242736
           ],
           "type": "Point"
          },
          "id": "213",
          "properties": {
           "class": 1,
           "style": {
            "color": "black",
            "fillColor": "#440154",
            "weight": 0.9
           }
          },
          "type": "Feature"
         },
         {
          "bbox": [
           117.553062,
           -33.295873,
           117.553062,
           -33.295873
          ],
          "geometry": {
           "coordinates": [
            117.553062,
            -33.295873
           ],
           "type": "Point"
          },
          "id": "214",
          "properties": {
           "class": 1,
           "style": {
            "color": "black",
            "fillColor": "#440154",
            "weight": 0.9
           }
          },
          "type": "Feature"
         },
         {
          "bbox": [
           116.862849,
           -32.980418,
           116.862849,
           -32.980418
          ],
          "geometry": {
           "coordinates": [
            116.862849,
            -32.980418
           ],
           "type": "Point"
          },
          "id": "215",
          "properties": {
           "class": 1,
           "style": {
            "color": "black",
            "fillColor": "#440154",
            "weight": 0.9
           }
          },
          "type": "Feature"
         },
         {
          "bbox": [
           117.972327,
           -32.77951,
           117.972327,
           -32.77951
          ],
          "geometry": {
           "coordinates": [
            117.972327,
            -32.77951
           ],
           "type": "Point"
          },
          "id": "216",
          "properties": {
           "class": 1,
           "style": {
            "color": "black",
            "fillColor": "#440154",
            "weight": 0.9
           }
          },
          "type": "Feature"
         },
         {
          "bbox": [
           116.596909,
           -31.432872,
           116.596909,
           -31.432872
          ],
          "geometry": {
           "coordinates": [
            116.596909,
            -31.432872
           ],
           "type": "Point"
          },
          "id": "217",
          "properties": {
           "class": 1,
           "style": {
            "color": "black",
            "fillColor": "#440154",
            "weight": 0.9
           }
          },
          "type": "Feature"
         },
         {
          "bbox": [
           116.084752,
           -30.935763,
           116.084752,
           -30.935763
          ],
          "geometry": {
           "coordinates": [
            116.084752,
            -30.935763
           ],
           "type": "Point"
          },
          "id": "218",
          "properties": {
           "class": 1,
           "style": {
            "color": "black",
            "fillColor": "#440154",
            "weight": 0.9
           }
          },
          "type": "Feature"
         },
         {
          "bbox": [
           117.43291,
           -33.617173,
           117.43291,
           -33.617173
          ],
          "geometry": {
           "coordinates": [
            117.43291,
            -33.617173
           ],
           "type": "Point"
          },
          "id": "219",
          "properties": {
           "class": 1,
           "style": {
            "color": "black",
            "fillColor": "#440154",
            "weight": 0.9
           }
          },
          "type": "Feature"
         },
         {
          "bbox": [
           117.27547,
           -31.651118,
           117.27547,
           -31.651118
          ],
          "geometry": {
           "coordinates": [
            117.27547,
            -31.651118
           ],
           "type": "Point"
          },
          "id": "220",
          "properties": {
           "class": 1,
           "style": {
            "color": "black",
            "fillColor": "#440154",
            "weight": 0.9
           }
          },
          "type": "Feature"
         },
         {
          "bbox": [
           117.929177,
           -32.781817,
           117.929177,
           -32.781817
          ],
          "geometry": {
           "coordinates": [
            117.929177,
            -32.781817
           ],
           "type": "Point"
          },
          "id": "221",
          "properties": {
           "class": 1,
           "style": {
            "color": "black",
            "fillColor": "#440154",
            "weight": 0.9
           }
          },
          "type": "Feature"
         },
         {
          "bbox": [
           116.647583,
           -32.854391,
           116.647583,
           -32.854391
          ],
          "geometry": {
           "coordinates": [
            116.647583,
            -32.854391
           ],
           "type": "Point"
          },
          "id": "222",
          "properties": {
           "class": 1,
           "style": {
            "color": "black",
            "fillColor": "#440154",
            "weight": 0.9
           }
          },
          "type": "Feature"
         },
         {
          "bbox": [
           118.085197,
           -31.785721,
           118.085197,
           -31.785721
          ],
          "geometry": {
           "coordinates": [
            118.085197,
            -31.785721
           ],
           "type": "Point"
          },
          "id": "223",
          "properties": {
           "class": 1,
           "style": {
            "color": "black",
            "fillColor": "#440154",
            "weight": 0.9
           }
          },
          "type": "Feature"
         },
         {
          "bbox": [
           116.194194,
           -30.980352,
           116.194194,
           -30.980352
          ],
          "geometry": {
           "coordinates": [
            116.194194,
            -30.980352
           ],
           "type": "Point"
          },
          "id": "224",
          "properties": {
           "class": 1,
           "style": {
            "color": "black",
            "fillColor": "#440154",
            "weight": 0.9
           }
          },
          "type": "Feature"
         },
         {
          "bbox": [
           116.190481,
           -30.972327,
           116.190481,
           -30.972327
          ],
          "geometry": {
           "coordinates": [
            116.190481,
            -30.972327
           ],
           "type": "Point"
          },
          "id": "225",
          "properties": {
           "class": 1,
           "style": {
            "color": "black",
            "fillColor": "#440154",
            "weight": 0.9
           }
          },
          "type": "Feature"
         },
         {
          "bbox": [
           117.272544,
           -31.651424,
           117.272544,
           -31.651424
          ],
          "geometry": {
           "coordinates": [
            117.272544,
            -31.651424
           ],
           "type": "Point"
          },
          "id": "226",
          "properties": {
           "class": 1,
           "style": {
            "color": "black",
            "fillColor": "#440154",
            "weight": 0.9
           }
          },
          "type": "Feature"
         },
         {
          "bbox": [
           116.580831,
           -31.421199,
           116.580831,
           -31.421199
          ],
          "geometry": {
           "coordinates": [
            116.580831,
            -31.421199
           ],
           "type": "Point"
          },
          "id": "227",
          "properties": {
           "class": 1,
           "style": {
            "color": "black",
            "fillColor": "#440154",
            "weight": 0.9
           }
          },
          "type": "Feature"
         },
         {
          "bbox": [
           117.791947,
           -32.779883,
           117.791947,
           -32.779883
          ],
          "geometry": {
           "coordinates": [
            117.791947,
            -32.779883
           ],
           "type": "Point"
          },
          "id": "228",
          "properties": {
           "class": 1,
           "style": {
            "color": "black",
            "fillColor": "#440154",
            "weight": 0.9
           }
          },
          "type": "Feature"
         },
         {
          "bbox": [
           117.96228,
           -32.790256,
           117.96228,
           -32.790256
          ],
          "geometry": {
           "coordinates": [
            117.96228,
            -32.790256
           ],
           "type": "Point"
          },
          "id": "229",
          "properties": {
           "class": 1,
           "style": {
            "color": "black",
            "fillColor": "#440154",
            "weight": 0.9
           }
          },
          "type": "Feature"
         },
         {
          "bbox": [
           116.035586,
           -30.877152,
           116.035586,
           -30.877152
          ],
          "geometry": {
           "coordinates": [
            116.035586,
            -30.877152
           ],
           "type": "Point"
          },
          "id": "230",
          "properties": {
           "class": 1,
           "style": {
            "color": "black",
            "fillColor": "#440154",
            "weight": 0.9
           }
          },
          "type": "Feature"
         },
         {
          "bbox": [
           118.109516,
           -31.887029,
           118.109516,
           -31.887029
          ],
          "geometry": {
           "coordinates": [
            118.109516,
            -31.887029
           ],
           "type": "Point"
          },
          "id": "231",
          "properties": {
           "class": 1,
           "style": {
            "color": "black",
            "fillColor": "#440154",
            "weight": 0.9
           }
          },
          "type": "Feature"
         },
         {
          "bbox": [
           117.427596,
           -33.280805,
           117.427596,
           -33.280805
          ],
          "geometry": {
           "coordinates": [
            117.427596,
            -33.280805
           ],
           "type": "Point"
          },
          "id": "232",
          "properties": {
           "class": 1,
           "style": {
            "color": "black",
            "fillColor": "#440154",
            "weight": 0.9
           }
          },
          "type": "Feature"
         },
         {
          "bbox": [
           116.409088,
           -31.060794,
           116.409088,
           -31.060794
          ],
          "geometry": {
           "coordinates": [
            116.409088,
            -31.060794
           ],
           "type": "Point"
          },
          "id": "233",
          "properties": {
           "class": 1,
           "style": {
            "color": "black",
            "fillColor": "#440154",
            "weight": 0.9
           }
          },
          "type": "Feature"
         },
         {
          "bbox": [
           118.129313,
           -32.096814,
           118.129313,
           -32.096814
          ],
          "geometry": {
           "coordinates": [
            118.129313,
            -32.096814
           ],
           "type": "Point"
          },
          "id": "234",
          "properties": {
           "class": 1,
           "style": {
            "color": "black",
            "fillColor": "#440154",
            "weight": 0.9
           }
          },
          "type": "Feature"
         },
         {
          "bbox": [
           118.106668,
           -32.092881,
           118.106668,
           -32.092881
          ],
          "geometry": {
           "coordinates": [
            118.106668,
            -32.092881
           ],
           "type": "Point"
          },
          "id": "235",
          "properties": {
           "class": 1,
           "style": {
            "color": "black",
            "fillColor": "#440154",
            "weight": 0.9
           }
          },
          "type": "Feature"
         },
         {
          "bbox": [
           118.105583,
           -31.892421,
           118.105583,
           -31.892421
          ],
          "geometry": {
           "coordinates": [
            118.105583,
            -31.892421
           ],
           "type": "Point"
          },
          "id": "236",
          "properties": {
           "class": 1,
           "style": {
            "color": "black",
            "fillColor": "#440154",
            "weight": 0.9
           }
          },
          "type": "Feature"
         },
         {
          "bbox": [
           116.916063,
           -33.379046,
           116.916063,
           -33.379046
          ],
          "geometry": {
           "coordinates": [
            116.916063,
            -33.379046
           ],
           "type": "Point"
          },
          "id": "237",
          "properties": {
           "class": 1,
           "style": {
            "color": "black",
            "fillColor": "#440154",
            "weight": 0.9
           }
          },
          "type": "Feature"
         },
         {
          "bbox": [
           117.422467,
           -32.652164,
           117.422467,
           -32.652164
          ],
          "geometry": {
           "coordinates": [
            117.422467,
            -32.652164
           ],
           "type": "Point"
          },
          "id": "238",
          "properties": {
           "class": 1,
           "style": {
            "color": "black",
            "fillColor": "#440154",
            "weight": 0.9
           }
          },
          "type": "Feature"
         },
         {
          "bbox": [
           118.154231,
           -31.848534,
           118.154231,
           -31.848534
          ],
          "geometry": {
           "coordinates": [
            118.154231,
            -31.848534
           ],
           "type": "Point"
          },
          "id": "239",
          "properties": {
           "class": 1,
           "style": {
            "color": "black",
            "fillColor": "#440154",
            "weight": 0.9
           }
          },
          "type": "Feature"
         },
         {
          "bbox": [
           117.052925,
           -33.443811,
           117.052925,
           -33.443811
          ],
          "geometry": {
           "coordinates": [
            117.052925,
            -33.443811
           ],
           "type": "Point"
          },
          "id": "240",
          "properties": {
           "class": 1,
           "style": {
            "color": "black",
            "fillColor": "#440154",
            "weight": 0.9
           }
          },
          "type": "Feature"
         },
         {
          "bbox": [
           116.40192376148048,
           -29.81315756101811,
           116.40192376148048,
           -29.81315756101811
          ],
          "geometry": {
           "coordinates": [
            116.40192376148048,
            -29.81315756101811
           ],
           "type": "Point"
          },
          "id": "241",
          "properties": {
           "class": 1,
           "style": {
            "color": "black",
            "fillColor": "#440154",
            "weight": 0.9
           }
          },
          "type": "Feature"
         },
         {
          "bbox": [
           117.020547,
           -32.392916,
           117.020547,
           -32.392916
          ],
          "geometry": {
           "coordinates": [
            117.020547,
            -32.392916
           ],
           "type": "Point"
          },
          "id": "242",
          "properties": {
           "class": 1,
           "style": {
            "color": "black",
            "fillColor": "#440154",
            "weight": 0.9
           }
          },
          "type": "Feature"
         },
         {
          "bbox": [
           117.123345,
           -33.724658,
           117.123345,
           -33.724658
          ],
          "geometry": {
           "coordinates": [
            117.123345,
            -33.724658
           ],
           "type": "Point"
          },
          "id": "243",
          "properties": {
           "class": 1,
           "style": {
            "color": "black",
            "fillColor": "#440154",
            "weight": 0.9
           }
          },
          "type": "Feature"
         },
         {
          "bbox": [
           116.020714,
           -30.82505,
           116.020714,
           -30.82505
          ],
          "geometry": {
           "coordinates": [
            116.020714,
            -30.82505
           ],
           "type": "Point"
          },
          "id": "244",
          "properties": {
           "class": 1,
           "style": {
            "color": "black",
            "fillColor": "#440154",
            "weight": 0.9
           }
          },
          "type": "Feature"
         },
         {
          "bbox": [
           117.912344,
           -33.085771,
           117.912344,
           -33.085771
          ],
          "geometry": {
           "coordinates": [
            117.912344,
            -33.085771
           ],
           "type": "Point"
          },
          "id": "245",
          "properties": {
           "class": 1,
           "style": {
            "color": "black",
            "fillColor": "#440154",
            "weight": 0.9
           }
          },
          "type": "Feature"
         },
         {
          "bbox": [
           116.465789,
           -31.171681,
           116.465789,
           -31.171681
          ],
          "geometry": {
           "coordinates": [
            116.465789,
            -31.171681
           ],
           "type": "Point"
          },
          "id": "246",
          "properties": {
           "class": 1,
           "style": {
            "color": "black",
            "fillColor": "#440154",
            "weight": 0.9
           }
          },
          "type": "Feature"
         },
         {
          "bbox": [
           117.979373,
           -32.778082,
           117.979373,
           -32.778082
          ],
          "geometry": {
           "coordinates": [
            117.979373,
            -32.778082
           ],
           "type": "Point"
          },
          "id": "247",
          "properties": {
           "class": 1,
           "style": {
            "color": "black",
            "fillColor": "#440154",
            "weight": 0.9
           }
          },
          "type": "Feature"
         },
         {
          "bbox": [
           118.125908,
           -31.865483,
           118.125908,
           -31.865483
          ],
          "geometry": {
           "coordinates": [
            118.125908,
            -31.865483
           ],
           "type": "Point"
          },
          "id": "248",
          "properties": {
           "class": 1,
           "style": {
            "color": "black",
            "fillColor": "#440154",
            "weight": 0.9
           }
          },
          "type": "Feature"
         },
         {
          "bbox": [
           117.049178,
           -32.483882,
           117.049178,
           -32.483882
          ],
          "geometry": {
           "coordinates": [
            117.049178,
            -32.483882
           ],
           "type": "Point"
          },
          "id": "249",
          "properties": {
           "class": 1,
           "style": {
            "color": "black",
            "fillColor": "#440154",
            "weight": 0.9
           }
          },
          "type": "Feature"
         },
         {
          "bbox": [
           118.32040789310543,
           -20.407355477062335,
           118.32040789310543,
           -20.407355477062335
          ],
          "geometry": {
           "coordinates": [
            118.32040789310543,
            -20.407355477062335
           ],
           "type": "Point"
          },
          "id": "250",
          "properties": {
           "class": 0,
           "style": {
            "color": "black",
            "fillColor": "#fee724",
            "weight": 0.9
           }
          },
          "type": "Feature"
         },
         {
          "bbox": [
           122.05493888520668,
           -33.259991815342225,
           122.05493888520668,
           -33.259991815342225
          ],
          "geometry": {
           "coordinates": [
            122.05493888520668,
            -33.259991815342225
           ],
           "type": "Point"
          },
          "id": "251",
          "properties": {
           "class": 0,
           "style": {
            "color": "black",
            "fillColor": "#fee724",
            "weight": 0.9
           }
          },
          "type": "Feature"
         },
         {
          "bbox": [
           129.10927506093057,
           -16.187139791344133,
           129.10927506093057,
           -16.187139791344133
          ],
          "geometry": {
           "coordinates": [
            129.10927506093057,
            -16.187139791344133
           ],
           "type": "Point"
          },
          "id": "252",
          "properties": {
           "class": 0,
           "style": {
            "color": "black",
            "fillColor": "#fee724",
            "weight": 0.9
           }
          },
          "type": "Feature"
         },
         {
          "bbox": [
           119.42035697580286,
           -27.63857544432672,
           119.42035697580286,
           -27.63857544432672
          ],
          "geometry": {
           "coordinates": [
            119.42035697580286,
            -27.63857544432672
           ],
           "type": "Point"
          },
          "id": "253",
          "properties": {
           "class": 0,
           "style": {
            "color": "black",
            "fillColor": "#fee724",
            "weight": 0.9
           }
          },
          "type": "Feature"
         },
         {
          "bbox": [
           123.06787925237819,
           -31.232711898248816,
           123.06787925237819,
           -31.232711898248816
          ],
          "geometry": {
           "coordinates": [
            123.06787925237819,
            -31.232711898248816
           ],
           "type": "Point"
          },
          "id": "254",
          "properties": {
           "class": 0,
           "style": {
            "color": "black",
            "fillColor": "#fee724",
            "weight": 0.9
           }
          },
          "type": "Feature"
         },
         {
          "bbox": [
           124.93099474556118,
           -15.583340201816606,
           124.93099474556118,
           -15.583340201816606
          ],
          "geometry": {
           "coordinates": [
            124.93099474556118,
            -15.583340201816606
           ],
           "type": "Point"
          },
          "id": "255",
          "properties": {
           "class": 0,
           "style": {
            "color": "black",
            "fillColor": "#fee724",
            "weight": 0.9
           }
          },
          "type": "Feature"
         },
         {
          "bbox": [
           127.97099990025802,
           -16.34661375701119,
           127.97099990025802,
           -16.34661375701119
          ],
          "geometry": {
           "coordinates": [
            127.97099990025802,
            -16.34661375701119
           ],
           "type": "Point"
          },
          "id": "256",
          "properties": {
           "class": 0,
           "style": {
            "color": "black",
            "fillColor": "#fee724",
            "weight": 0.9
           }
          },
          "type": "Feature"
         },
         {
          "bbox": [
           119.34057333284834,
           -27.164939526156207,
           119.34057333284834,
           -27.164939526156207
          ],
          "geometry": {
           "coordinates": [
            119.34057333284834,
            -27.164939526156207
           ],
           "type": "Point"
          },
          "id": "257",
          "properties": {
           "class": 0,
           "style": {
            "color": "black",
            "fillColor": "#fee724",
            "weight": 0.9
           }
          },
          "type": "Feature"
         },
         {
          "bbox": [
           119.75836061031683,
           -23.911840184075604,
           119.75836061031683,
           -23.911840184075604
          ],
          "geometry": {
           "coordinates": [
            119.75836061031683,
            -23.911840184075604
           ],
           "type": "Point"
          },
          "id": "258",
          "properties": {
           "class": 0,
           "style": {
            "color": "black",
            "fillColor": "#fee724",
            "weight": 0.9
           }
          },
          "type": "Feature"
         },
         {
          "bbox": [
           122.47779513656904,
           -17.00996546513148,
           122.47779513656904,
           -17.00996546513148
          ],
          "geometry": {
           "coordinates": [
            122.47779513656904,
            -17.00996546513148
           ],
           "type": "Point"
          },
          "id": "259",
          "properties": {
           "class": 0,
           "style": {
            "color": "black",
            "fillColor": "#fee724",
            "weight": 0.9
           }
          },
          "type": "Feature"
         },
         {
          "bbox": [
           117.43728357848656,
           -22.480901654121787,
           117.43728357848656,
           -22.480901654121787
          ],
          "geometry": {
           "coordinates": [
            117.43728357848656,
            -22.480901654121787
           ],
           "type": "Point"
          },
          "id": "260",
          "properties": {
           "class": 0,
           "style": {
            "color": "black",
            "fillColor": "#fee724",
            "weight": 0.9
           }
          },
          "type": "Feature"
         },
         {
          "bbox": [
           127.91194230729013,
           -14.892838959617423,
           127.91194230729013,
           -14.892838959617423
          ],
          "geometry": {
           "coordinates": [
            127.91194230729013,
            -14.892838959617423
           ],
           "type": "Point"
          },
          "id": "261",
          "properties": {
           "class": 0,
           "style": {
            "color": "black",
            "fillColor": "#fee724",
            "weight": 0.9
           }
          },
          "type": "Feature"
         },
         {
          "bbox": [
           120.93331781621684,
           -33.07226659813922,
           120.93331781621684,
           -33.07226659813922
          ],
          "geometry": {
           "coordinates": [
            120.93331781621684,
            -33.07226659813922
           ],
           "type": "Point"
          },
          "id": "262",
          "properties": {
           "class": 0,
           "style": {
            "color": "black",
            "fillColor": "#fee724",
            "weight": 0.9
           }
          },
          "type": "Feature"
         },
         {
          "bbox": [
           120.56893185352712,
           -21.238493612684348,
           120.56893185352712,
           -21.238493612684348
          ],
          "geometry": {
           "coordinates": [
            120.56893185352712,
            -21.238493612684348
           ],
           "type": "Point"
          },
          "id": "263",
          "properties": {
           "class": 0,
           "style": {
            "color": "black",
            "fillColor": "#fee724",
            "weight": 0.9
           }
          },
          "type": "Feature"
         },
         {
          "bbox": [
           126.33709989296914,
           -30.7082476391045,
           126.33709989296914,
           -30.7082476391045
          ],
          "geometry": {
           "coordinates": [
            126.33709989296914,
            -30.7082476391045
           ],
           "type": "Point"
          },
          "id": "264",
          "properties": {
           "class": 0,
           "style": {
            "color": "black",
            "fillColor": "#fee724",
            "weight": 0.9
           }
          },
          "type": "Feature"
         },
         {
          "bbox": [
           119.98519029688754,
           -30.315872058455998,
           119.98519029688754,
           -30.315872058455998
          ],
          "geometry": {
           "coordinates": [
            119.98519029688754,
            -30.315872058455998
           ],
           "type": "Point"
          },
          "id": "265",
          "properties": {
           "class": 0,
           "style": {
            "color": "black",
            "fillColor": "#fee724",
            "weight": 0.9
           }
          },
          "type": "Feature"
         },
         {
          "bbox": [
           128.5224233028462,
           -14.927984365318268,
           128.5224233028462,
           -14.927984365318268
          ],
          "geometry": {
           "coordinates": [
            128.5224233028462,
            -14.927984365318268
           ],
           "type": "Point"
          },
          "id": "266",
          "properties": {
           "class": 0,
           "style": {
            "color": "black",
            "fillColor": "#fee724",
            "weight": 0.9
           }
          },
          "type": "Feature"
         },
         {
          "bbox": [
           117.89305194473738,
           -22.44879572937965,
           117.89305194473738,
           -22.44879572937965
          ],
          "geometry": {
           "coordinates": [
            117.89305194473738,
            -22.44879572937965
           ],
           "type": "Point"
          },
          "id": "267",
          "properties": {
           "class": 0,
           "style": {
            "color": "black",
            "fillColor": "#fee724",
            "weight": 0.9
           }
          },
          "type": "Feature"
         },
         {
          "bbox": [
           118.68543051328335,
           -21.18957625743505,
           118.68543051328335,
           -21.18957625743505
          ],
          "geometry": {
           "coordinates": [
            118.68543051328335,
            -21.18957625743505
           ],
           "type": "Point"
          },
          "id": "268",
          "properties": {
           "class": 0,
           "style": {
            "color": "black",
            "fillColor": "#fee724",
            "weight": 0.9
           }
          },
          "type": "Feature"
         },
         {
          "bbox": [
           126.03472677927915,
           -31.946946258242715,
           126.03472677927915,
           -31.946946258242715
          ],
          "geometry": {
           "coordinates": [
            126.03472677927915,
            -31.946946258242715
           ],
           "type": "Point"
          },
          "id": "269",
          "properties": {
           "class": 0,
           "style": {
            "color": "black",
            "fillColor": "#fee724",
            "weight": 0.9
           }
          },
          "type": "Feature"
         },
         {
          "bbox": [
           115.54924427967116,
           -26.121812854350765,
           115.54924427967116,
           -26.121812854350765
          ],
          "geometry": {
           "coordinates": [
            115.54924427967116,
            -26.121812854350765
           ],
           "type": "Point"
          },
          "id": "270",
          "properties": {
           "class": 0,
           "style": {
            "color": "black",
            "fillColor": "#fee724",
            "weight": 0.9
           }
          },
          "type": "Feature"
         },
         {
          "bbox": [
           126.27504706681634,
           -25.3841262835819,
           126.27504706681634,
           -25.3841262835819
          ],
          "geometry": {
           "coordinates": [
            126.27504706681634,
            -25.3841262835819
           ],
           "type": "Point"
          },
          "id": "271",
          "properties": {
           "class": 0,
           "style": {
            "color": "black",
            "fillColor": "#fee724",
            "weight": 0.9
           }
          },
          "type": "Feature"
         },
         {
          "bbox": [
           125.38827886490232,
           -30.63072584672006,
           125.38827886490232,
           -30.63072584672006
          ],
          "geometry": {
           "coordinates": [
            125.38827886490232,
            -30.63072584672006
           ],
           "type": "Point"
          },
          "id": "272",
          "properties": {
           "class": 0,
           "style": {
            "color": "black",
            "fillColor": "#fee724",
            "weight": 0.9
           }
          },
          "type": "Feature"
         },
         {
          "bbox": [
           120.58120824730642,
           -25.175975801970107,
           120.58120824730642,
           -25.175975801970107
          ],
          "geometry": {
           "coordinates": [
            120.58120824730642,
            -25.175975801970107
           ],
           "type": "Point"
          },
          "id": "273",
          "properties": {
           "class": 0,
           "style": {
            "color": "black",
            "fillColor": "#fee724",
            "weight": 0.9
           }
          },
          "type": "Feature"
         },
         {
          "bbox": [
           120.76419241835221,
           -27.721577480016624,
           120.76419241835221,
           -27.721577480016624
          ],
          "geometry": {
           "coordinates": [
            120.76419241835221,
            -27.721577480016624
           ],
           "type": "Point"
          },
          "id": "274",
          "properties": {
           "class": 0,
           "style": {
            "color": "black",
            "fillColor": "#fee724",
            "weight": 0.9
           }
          },
          "type": "Feature"
         },
         {
          "bbox": [
           118.86729770697036,
           -24.42200528252647,
           118.86729770697036,
           -24.42200528252647
          ],
          "geometry": {
           "coordinates": [
            118.86729770697036,
            -24.42200528252647
           ],
           "type": "Point"
          },
          "id": "275",
          "properties": {
           "class": 0,
           "style": {
            "color": "black",
            "fillColor": "#fee724",
            "weight": 0.9
           }
          },
          "type": "Feature"
         },
         {
          "bbox": [
           121.63697587563625,
           -30.154696591732236,
           121.63697587563625,
           -30.154696591732236
          ],
          "geometry": {
           "coordinates": [
            121.63697587563625,
            -30.154696591732236
           ],
           "type": "Point"
          },
          "id": "276",
          "properties": {
           "class": 0,
           "style": {
            "color": "black",
            "fillColor": "#fee724",
            "weight": 0.9
           }
          },
          "type": "Feature"
         },
         {
          "bbox": [
           126.01857866630839,
           -28.75520243357155,
           126.01857866630839,
           -28.75520243357155
          ],
          "geometry": {
           "coordinates": [
            126.01857866630839,
            -28.75520243357155
           ],
           "type": "Point"
          },
          "id": "277",
          "properties": {
           "class": 0,
           "style": {
            "color": "black",
            "fillColor": "#fee724",
            "weight": 0.9
           }
          },
          "type": "Feature"
         },
         {
          "bbox": [
           120.81189504687819,
           -19.816075975615114,
           120.81189504687819,
           -19.816075975615114
          ],
          "geometry": {
           "coordinates": [
            120.81189504687819,
            -19.816075975615114
           ],
           "type": "Point"
          },
          "id": "278",
          "properties": {
           "class": 0,
           "style": {
            "color": "black",
            "fillColor": "#fee724",
            "weight": 0.9
           }
          },
          "type": "Feature"
         },
         {
          "bbox": [
           116.54888891851112,
           -28.920785688095346,
           116.54888891851112,
           -28.920785688095346
          ],
          "geometry": {
           "coordinates": [
            116.54888891851112,
            -28.920785688095346
           ],
           "type": "Point"
          },
          "id": "279",
          "properties": {
           "class": 0,
           "style": {
            "color": "black",
            "fillColor": "#fee724",
            "weight": 0.9
           }
          },
          "type": "Feature"
         },
         {
          "bbox": [
           120.17401634002229,
           -31.834965952250514,
           120.17401634002229,
           -31.834965952250514
          ],
          "geometry": {
           "coordinates": [
            120.17401634002229,
            -31.834965952250514
           ],
           "type": "Point"
          },
          "id": "280",
          "properties": {
           "class": 0,
           "style": {
            "color": "black",
            "fillColor": "#fee724",
            "weight": 0.9
           }
          },
          "type": "Feature"
         },
         {
          "bbox": [
           126.94581589312429,
           -28.92475092204964,
           126.94581589312429,
           -28.92475092204964
          ],
          "geometry": {
           "coordinates": [
            126.94581589312429,
            -28.92475092204964
           ],
           "type": "Point"
          },
          "id": "281",
          "properties": {
           "class": 0,
           "style": {
            "color": "black",
            "fillColor": "#fee724",
            "weight": 0.9
           }
          },
          "type": "Feature"
         },
         {
          "bbox": [
           119.73136528728615,
           -26.20069545335951,
           119.73136528728615,
           -26.20069545335951
          ],
          "geometry": {
           "coordinates": [
            119.73136528728615,
            -26.20069545335951
           ],
           "type": "Point"
          },
          "id": "282",
          "properties": {
           "class": 0,
           "style": {
            "color": "black",
            "fillColor": "#fee724",
            "weight": 0.9
           }
          },
          "type": "Feature"
         },
         {
          "bbox": [
           116.11899321810823,
           -25.12839275568964,
           116.11899321810823,
           -25.12839275568964
          ],
          "geometry": {
           "coordinates": [
            116.11899321810823,
            -25.12839275568964
           ],
           "type": "Point"
          },
          "id": "283",
          "properties": {
           "class": 0,
           "style": {
            "color": "black",
            "fillColor": "#fee724",
            "weight": 0.9
           }
          },
          "type": "Feature"
         },
         {
          "bbox": [
           120.9290892775932,
           -19.685210696146203,
           120.9290892775932,
           -19.685210696146203
          ],
          "geometry": {
           "coordinates": [
            120.9290892775932,
            -19.685210696146203
           ],
           "type": "Point"
          },
          "id": "284",
          "properties": {
           "class": 0,
           "style": {
            "color": "black",
            "fillColor": "#fee724",
            "weight": 0.9
           }
          },
          "type": "Feature"
         },
         {
          "bbox": [
           127.10899042513472,
           -16.133002000621484,
           127.10899042513472,
           -16.133002000621484
          ],
          "geometry": {
           "coordinates": [
            127.10899042513472,
            -16.133002000621484
           ],
           "type": "Point"
          },
          "id": "285",
          "properties": {
           "class": 0,
           "style": {
            "color": "black",
            "fillColor": "#fee724",
            "weight": 0.9
           }
          },
          "type": "Feature"
         },
         {
          "bbox": [
           127.31382263632423,
           -27.607125703621602,
           127.31382263632423,
           -27.607125703621602
          ],
          "geometry": {
           "coordinates": [
            127.31382263632423,
            -27.607125703621602
           ],
           "type": "Point"
          },
          "id": "286",
          "properties": {
           "class": 0,
           "style": {
            "color": "black",
            "fillColor": "#fee724",
            "weight": 0.9
           }
          },
          "type": "Feature"
         },
         {
          "bbox": [
           126.13230528912142,
           -25.37551164400941,
           126.13230528912142,
           -25.37551164400941
          ],
          "geometry": {
           "coordinates": [
            126.13230528912142,
            -25.37551164400941
           ],
           "type": "Point"
          },
          "id": "287",
          "properties": {
           "class": 0,
           "style": {
            "color": "black",
            "fillColor": "#fee724",
            "weight": 0.9
           }
          },
          "type": "Feature"
         },
         {
          "bbox": [
           123.4202679874415,
           -18.0844521301569,
           123.4202679874415,
           -18.0844521301569
          ],
          "geometry": {
           "coordinates": [
            123.4202679874415,
            -18.0844521301569
           ],
           "type": "Point"
          },
          "id": "288",
          "properties": {
           "class": 0,
           "style": {
            "color": "black",
            "fillColor": "#fee724",
            "weight": 0.9
           }
          },
          "type": "Feature"
         },
         {
          "bbox": [
           115.74130242083304,
           -27.811773282186838,
           115.74130242083304,
           -27.811773282186838
          ],
          "geometry": {
           "coordinates": [
            115.74130242083304,
            -27.811773282186838
           ],
           "type": "Point"
          },
          "id": "289",
          "properties": {
           "class": 0,
           "style": {
            "color": "black",
            "fillColor": "#fee724",
            "weight": 0.9
           }
          },
          "type": "Feature"
         },
         {
          "bbox": [
           121.70480862857634,
           -19.730967217925702,
           121.70480862857634,
           -19.730967217925702
          ],
          "geometry": {
           "coordinates": [
            121.70480862857634,
            -19.730967217925702
           ],
           "type": "Point"
          },
          "id": "290",
          "properties": {
           "class": 0,
           "style": {
            "color": "black",
            "fillColor": "#fee724",
            "weight": 0.9
           }
          },
          "type": "Feature"
         },
         {
          "bbox": [
           119.17157112696275,
           -34.488551747304236,
           119.17157112696275,
           -34.488551747304236
          ],
          "geometry": {
           "coordinates": [
            119.17157112696275,
            -34.488551747304236
           ],
           "type": "Point"
          },
          "id": "291",
          "properties": {
           "class": 0,
           "style": {
            "color": "black",
            "fillColor": "#fee724",
            "weight": 0.9
           }
          },
          "type": "Feature"
         },
         {
          "bbox": [
           126.5543031843132,
           -14.79872888085384,
           126.5543031843132,
           -14.79872888085384
          ],
          "geometry": {
           "coordinates": [
            126.5543031843132,
            -14.79872888085384
           ],
           "type": "Point"
          },
          "id": "292",
          "properties": {
           "class": 0,
           "style": {
            "color": "black",
            "fillColor": "#fee724",
            "weight": 0.9
           }
          },
          "type": "Feature"
         },
         {
          "bbox": [
           117.17534118953046,
           -21.89420995436542,
           117.17534118953046,
           -21.89420995436542
          ],
          "geometry": {
           "coordinates": [
            117.17534118953046,
            -21.89420995436542
           ],
           "type": "Point"
          },
          "id": "293",
          "properties": {
           "class": 0,
           "style": {
            "color": "black",
            "fillColor": "#fee724",
            "weight": 0.9
           }
          },
          "type": "Feature"
         },
         {
          "bbox": [
           125.8150453840217,
           -15.250591312386723,
           125.8150453840217,
           -15.250591312386723
          ],
          "geometry": {
           "coordinates": [
            125.8150453840217,
            -15.250591312386723
           ],
           "type": "Point"
          },
          "id": "294",
          "properties": {
           "class": 0,
           "style": {
            "color": "black",
            "fillColor": "#fee724",
            "weight": 0.9
           }
          },
          "type": "Feature"
         },
         {
          "bbox": [
           126.77385071155156,
           -14.11673356512833,
           126.77385071155156,
           -14.11673356512833
          ],
          "geometry": {
           "coordinates": [
            126.77385071155156,
            -14.11673356512833
           ],
           "type": "Point"
          },
          "id": "295",
          "properties": {
           "class": 0,
           "style": {
            "color": "black",
            "fillColor": "#fee724",
            "weight": 0.9
           }
          },
          "type": "Feature"
         },
         {
          "bbox": [
           126.01169231530152,
           -18.20345227200707,
           126.01169231530152,
           -18.20345227200707
          ],
          "geometry": {
           "coordinates": [
            126.01169231530152,
            -18.20345227200707
           ],
           "type": "Point"
          },
          "id": "296",
          "properties": {
           "class": 0,
           "style": {
            "color": "black",
            "fillColor": "#fee724",
            "weight": 0.9
           }
          },
          "type": "Feature"
         },
         {
          "bbox": [
           123.3473410594139,
           -33.662834373614636,
           123.3473410594139,
           -33.662834373614636
          ],
          "geometry": {
           "coordinates": [
            123.3473410594139,
            -33.662834373614636
           ],
           "type": "Point"
          },
          "id": "297",
          "properties": {
           "class": 0,
           "style": {
            "color": "black",
            "fillColor": "#fee724",
            "weight": 0.9
           }
          },
          "type": "Feature"
         },
         {
          "bbox": [
           125.61582006598982,
           -17.32752648326388,
           125.61582006598982,
           -17.32752648326388
          ],
          "geometry": {
           "coordinates": [
            125.61582006598982,
            -17.32752648326388
           ],
           "type": "Point"
          },
          "id": "298",
          "properties": {
           "class": 0,
           "style": {
            "color": "black",
            "fillColor": "#fee724",
            "weight": 0.9
           }
          },
          "type": "Feature"
         },
         {
          "bbox": [
           121.62880077924771,
           -30.216573547213684,
           121.62880077924771,
           -30.216573547213684
          ],
          "geometry": {
           "coordinates": [
            121.62880077924771,
            -30.216573547213684
           ],
           "type": "Point"
          },
          "id": "299",
          "properties": {
           "class": 0,
           "style": {
            "color": "black",
            "fillColor": "#fee724",
            "weight": 0.9
           }
          },
          "type": "Feature"
         },
         {
          "bbox": [
           122.48535398935424,
           -17.97244331784127,
           122.48535398935424,
           -17.97244331784127
          ],
          "geometry": {
           "coordinates": [
            122.48535398935424,
            -17.97244331784127
           ],
           "type": "Point"
          },
          "id": "300",
          "properties": {
           "class": 0,
           "style": {
            "color": "black",
            "fillColor": "#fee724",
            "weight": 0.9
           }
          },
          "type": "Feature"
         },
         {
          "bbox": [
           126.42275908803776,
           -30.144346198827233,
           126.42275908803776,
           -30.144346198827233
          ],
          "geometry": {
           "coordinates": [
            126.42275908803776,
            -30.144346198827233
           ],
           "type": "Point"
          },
          "id": "301",
          "properties": {
           "class": 0,
           "style": {
            "color": "black",
            "fillColor": "#fee724",
            "weight": 0.9
           }
          },
          "type": "Feature"
         },
         {
          "bbox": [
           116.87627189260218,
           -33.12589567990503,
           116.87627189260218,
           -33.12589567990503
          ],
          "geometry": {
           "coordinates": [
            116.87627189260218,
            -33.12589567990503
           ],
           "type": "Point"
          },
          "id": "302",
          "properties": {
           "class": 0,
           "style": {
            "color": "black",
            "fillColor": "#fee724",
            "weight": 0.9
           }
          },
          "type": "Feature"
         },
         {
          "bbox": [
           119.31346588408992,
           -23.11824554904273,
           119.31346588408992,
           -23.11824554904273
          ],
          "geometry": {
           "coordinates": [
            119.31346588408992,
            -23.11824554904273
           ],
           "type": "Point"
          },
          "id": "303",
          "properties": {
           "class": 0,
           "style": {
            "color": "black",
            "fillColor": "#fee724",
            "weight": 0.9
           }
          },
          "type": "Feature"
         },
         {
          "bbox": [
           124.83624325813376,
           -29.083838295229565,
           124.83624325813376,
           -29.083838295229565
          ],
          "geometry": {
           "coordinates": [
            124.83624325813376,
            -29.083838295229565
           ],
           "type": "Point"
          },
          "id": "304",
          "properties": {
           "class": 0,
           "style": {
            "color": "black",
            "fillColor": "#fee724",
            "weight": 0.9
           }
          },
          "type": "Feature"
         },
         {
          "bbox": [
           118.2911916579188,
           -28.97294596426944,
           118.2911916579188,
           -28.97294596426944
          ],
          "geometry": {
           "coordinates": [
            118.2911916579188,
            -28.97294596426944
           ],
           "type": "Point"
          },
          "id": "305",
          "properties": {
           "class": 0,
           "style": {
            "color": "black",
            "fillColor": "#fee724",
            "weight": 0.9
           }
          },
          "type": "Feature"
         },
         {
          "bbox": [
           127.46307603282814,
           -29.243599356855178,
           127.46307603282814,
           -29.243599356855178
          ],
          "geometry": {
           "coordinates": [
            127.46307603282814,
            -29.243599356855178
           ],
           "type": "Point"
          },
          "id": "306",
          "properties": {
           "class": 0,
           "style": {
            "color": "black",
            "fillColor": "#fee724",
            "weight": 0.9
           }
          },
          "type": "Feature"
         },
         {
          "bbox": [
           120.57229668463005,
           -32.20879910774179,
           120.57229668463005,
           -32.20879910774179
          ],
          "geometry": {
           "coordinates": [
            120.57229668463005,
            -32.20879910774179
           ],
           "type": "Point"
          },
          "id": "307",
          "properties": {
           "class": 0,
           "style": {
            "color": "black",
            "fillColor": "#fee724",
            "weight": 0.9
           }
          },
          "type": "Feature"
         },
         {
          "bbox": [
           127.43274063207966,
           -16.979892953592536,
           127.43274063207966,
           -16.979892953592536
          ],
          "geometry": {
           "coordinates": [
            127.43274063207966,
            -16.979892953592536
           ],
           "type": "Point"
          },
          "id": "308",
          "properties": {
           "class": 0,
           "style": {
            "color": "black",
            "fillColor": "#fee724",
            "weight": 0.9
           }
          },
          "type": "Feature"
         },
         {
          "bbox": [
           119.82469657811751,
           -31.845943854120968,
           119.82469657811751,
           -31.845943854120968
          ],
          "geometry": {
           "coordinates": [
            119.82469657811751,
            -31.845943854120968
           ],
           "type": "Point"
          },
          "id": "309",
          "properties": {
           "class": 0,
           "style": {
            "color": "black",
            "fillColor": "#fee724",
            "weight": 0.9
           }
          },
          "type": "Feature"
         },
         {
          "bbox": [
           121.47005345276627,
           -30.83838002223785,
           121.47005345276627,
           -30.83838002223785
          ],
          "geometry": {
           "coordinates": [
            121.47005345276627,
            -30.83838002223785
           ],
           "type": "Point"
          },
          "id": "310",
          "properties": {
           "class": 0,
           "style": {
            "color": "black",
            "fillColor": "#fee724",
            "weight": 0.9
           }
          },
          "type": "Feature"
         },
         {
          "bbox": [
           121.9210079611586,
           -22.72478774202668,
           121.9210079611586,
           -22.72478774202668
          ],
          "geometry": {
           "coordinates": [
            121.9210079611586,
            -22.72478774202668
           ],
           "type": "Point"
          },
          "id": "311",
          "properties": {
           "class": 0,
           "style": {
            "color": "black",
            "fillColor": "#fee724",
            "weight": 0.9
           }
          },
          "type": "Feature"
         },
         {
          "bbox": [
           118.12604422683404,
           -28.855714721415886,
           118.12604422683404,
           -28.855714721415886
          ],
          "geometry": {
           "coordinates": [
            118.12604422683404,
            -28.855714721415886
           ],
           "type": "Point"
          },
          "id": "312",
          "properties": {
           "class": 0,
           "style": {
            "color": "black",
            "fillColor": "#fee724",
            "weight": 0.9
           }
          },
          "type": "Feature"
         },
         {
          "bbox": [
           123.86466381971853,
           -29.871743670788213,
           123.86466381971853,
           -29.871743670788213
          ],
          "geometry": {
           "coordinates": [
            123.86466381971853,
            -29.871743670788213
           ],
           "type": "Point"
          },
          "id": "313",
          "properties": {
           "class": 0,
           "style": {
            "color": "black",
            "fillColor": "#fee724",
            "weight": 0.9
           }
          },
          "type": "Feature"
         },
         {
          "bbox": [
           117.17816186974646,
           -20.872425203621596,
           117.17816186974646,
           -20.872425203621596
          ],
          "geometry": {
           "coordinates": [
            117.17816186974646,
            -20.872425203621596
           ],
           "type": "Point"
          },
          "id": "314",
          "properties": {
           "class": 0,
           "style": {
            "color": "black",
            "fillColor": "#fee724",
            "weight": 0.9
           }
          },
          "type": "Feature"
         },
         {
          "bbox": [
           117.88958782307498,
           -21.242307935698804,
           117.88958782307498,
           -21.242307935698804
          ],
          "geometry": {
           "coordinates": [
            117.88958782307498,
            -21.242307935698804
           ],
           "type": "Point"
          },
          "id": "315",
          "properties": {
           "class": 0,
           "style": {
            "color": "black",
            "fillColor": "#fee724",
            "weight": 0.9
           }
          },
          "type": "Feature"
         },
         {
          "bbox": [
           124.66021626644974,
           -25.51192757408643,
           124.66021626644974,
           -25.51192757408643
          ],
          "geometry": {
           "coordinates": [
            124.66021626644974,
            -25.51192757408643
           ],
           "type": "Point"
          },
          "id": "316",
          "properties": {
           "class": 0,
           "style": {
            "color": "black",
            "fillColor": "#fee724",
            "weight": 0.9
           }
          },
          "type": "Feature"
         },
         {
          "bbox": [
           114.29285342440292,
           -27.069480435245477,
           114.29285342440292,
           -27.069480435245477
          ],
          "geometry": {
           "coordinates": [
            114.29285342440292,
            -27.069480435245477
           ],
           "type": "Point"
          },
          "id": "317",
          "properties": {
           "class": 0,
           "style": {
            "color": "black",
            "fillColor": "#fee724",
            "weight": 0.9
           }
          },
          "type": "Feature"
         },
         {
          "bbox": [
           117.6939923847281,
           -23.12158221042732,
           117.6939923847281,
           -23.12158221042732
          ],
          "geometry": {
           "coordinates": [
            117.6939923847281,
            -23.12158221042732
           ],
           "type": "Point"
          },
          "id": "318",
          "properties": {
           "class": 0,
           "style": {
            "color": "black",
            "fillColor": "#fee724",
            "weight": 0.9
           }
          },
          "type": "Feature"
         },
         {
          "bbox": [
           124.90595970516019,
           -30.225778420355237,
           124.90595970516019,
           -30.225778420355237
          ],
          "geometry": {
           "coordinates": [
            124.90595970516019,
            -30.225778420355237
           ],
           "type": "Point"
          },
          "id": "319",
          "properties": {
           "class": 0,
           "style": {
            "color": "black",
            "fillColor": "#fee724",
            "weight": 0.9
           }
          },
          "type": "Feature"
         },
         {
          "bbox": [
           128.35689347769153,
           -25.96815933373991,
           128.35689347769153,
           -25.96815933373991
          ],
          "geometry": {
           "coordinates": [
            128.35689347769153,
            -25.96815933373991
           ],
           "type": "Point"
          },
          "id": "320",
          "properties": {
           "class": 0,
           "style": {
            "color": "black",
            "fillColor": "#fee724",
            "weight": 0.9
           }
          },
          "type": "Feature"
         },
         {
          "bbox": [
           128.36498571712863,
           -27.390547501017647,
           128.36498571712863,
           -27.390547501017647
          ],
          "geometry": {
           "coordinates": [
            128.36498571712863,
            -27.390547501017647
           ],
           "type": "Point"
          },
          "id": "321",
          "properties": {
           "class": 0,
           "style": {
            "color": "black",
            "fillColor": "#fee724",
            "weight": 0.9
           }
          },
          "type": "Feature"
         },
         {
          "bbox": [
           127.37935824677824,
           -31.736609961873853,
           127.37935824677824,
           -31.736609961873853
          ],
          "geometry": {
           "coordinates": [
            127.37935824677824,
            -31.736609961873853
           ],
           "type": "Point"
          },
          "id": "322",
          "properties": {
           "class": 0,
           "style": {
            "color": "black",
            "fillColor": "#fee724",
            "weight": 0.9
           }
          },
          "type": "Feature"
         },
         {
          "bbox": [
           127.20624540941851,
           -27.29442699706402,
           127.20624540941851,
           -27.29442699706402
          ],
          "geometry": {
           "coordinates": [
            127.20624540941851,
            -27.29442699706402
           ],
           "type": "Point"
          },
          "id": "323",
          "properties": {
           "class": 0,
           "style": {
            "color": "black",
            "fillColor": "#fee724",
            "weight": 0.9
           }
          },
          "type": "Feature"
         },
         {
          "bbox": [
           120.98574060288145,
           -22.51504647690304,
           120.98574060288145,
           -22.51504647690304
          ],
          "geometry": {
           "coordinates": [
            120.98574060288145,
            -22.51504647690304
           ],
           "type": "Point"
          },
          "id": "324",
          "properties": {
           "class": 0,
           "style": {
            "color": "black",
            "fillColor": "#fee724",
            "weight": 0.9
           }
          },
          "type": "Feature"
         },
         {
          "bbox": [
           118.3123763068504,
           -24.86933215479809,
           118.3123763068504,
           -24.86933215479809
          ],
          "geometry": {
           "coordinates": [
            118.3123763068504,
            -24.86933215479809
           ],
           "type": "Point"
          },
          "id": "325",
          "properties": {
           "class": 0,
           "style": {
            "color": "black",
            "fillColor": "#fee724",
            "weight": 0.9
           }
          },
          "type": "Feature"
         },
         {
          "bbox": [
           128.1138556400539,
           -16.635942592275814,
           128.1138556400539,
           -16.635942592275814
          ],
          "geometry": {
           "coordinates": [
            128.1138556400539,
            -16.635942592275814
           ],
           "type": "Point"
          },
          "id": "326",
          "properties": {
           "class": 0,
           "style": {
            "color": "black",
            "fillColor": "#fee724",
            "weight": 0.9
           }
          },
          "type": "Feature"
         },
         {
          "bbox": [
           119.03081573348976,
           -32.77823514682242,
           119.03081573348976,
           -32.77823514682242
          ],
          "geometry": {
           "coordinates": [
            119.03081573348976,
            -32.77823514682242
           ],
           "type": "Point"
          },
          "id": "327",
          "properties": {
           "class": 0,
           "style": {
            "color": "black",
            "fillColor": "#fee724",
            "weight": 0.9
           }
          },
          "type": "Feature"
         },
         {
          "bbox": [
           127.53402103002173,
           -29.853548039509477,
           127.53402103002173,
           -29.853548039509477
          ],
          "geometry": {
           "coordinates": [
            127.53402103002173,
            -29.853548039509477
           ],
           "type": "Point"
          },
          "id": "328",
          "properties": {
           "class": 0,
           "style": {
            "color": "black",
            "fillColor": "#fee724",
            "weight": 0.9
           }
          },
          "type": "Feature"
         },
         {
          "bbox": [
           115.99101736473864,
           -26.584914169764275,
           115.99101736473864,
           -26.584914169764275
          ],
          "geometry": {
           "coordinates": [
            115.99101736473864,
            -26.584914169764275
           ],
           "type": "Point"
          },
          "id": "329",
          "properties": {
           "class": 0,
           "style": {
            "color": "black",
            "fillColor": "#fee724",
            "weight": 0.9
           }
          },
          "type": "Feature"
         },
         {
          "bbox": [
           125.82025304649636,
           -30.817315767224585,
           125.82025304649636,
           -30.817315767224585
          ],
          "geometry": {
           "coordinates": [
            125.82025304649636,
            -30.817315767224585
           ],
           "type": "Point"
          },
          "id": "330",
          "properties": {
           "class": 0,
           "style": {
            "color": "black",
            "fillColor": "#fee724",
            "weight": 0.9
           }
          },
          "type": "Feature"
         },
         {
          "bbox": [
           115.41976931841609,
           -27.7375868456236,
           115.41976931841609,
           -27.7375868456236
          ],
          "geometry": {
           "coordinates": [
            115.41976931841609,
            -27.7375868456236
           ],
           "type": "Point"
          },
          "id": "331",
          "properties": {
           "class": 0,
           "style": {
            "color": "black",
            "fillColor": "#fee724",
            "weight": 0.9
           }
          },
          "type": "Feature"
         },
         {
          "bbox": [
           127.99945065390715,
           -15.257234702205308,
           127.99945065390715,
           -15.257234702205308
          ],
          "geometry": {
           "coordinates": [
            127.99945065390715,
            -15.257234702205308
           ],
           "type": "Point"
          },
          "id": "332",
          "properties": {
           "class": 0,
           "style": {
            "color": "black",
            "fillColor": "#fee724",
            "weight": 0.9
           }
          },
          "type": "Feature"
         },
         {
          "bbox": [
           125.01824633957659,
           -24.185426036140854,
           125.01824633957659,
           -24.185426036140854
          ],
          "geometry": {
           "coordinates": [
            125.01824633957659,
            -24.185426036140854
           ],
           "type": "Point"
          },
          "id": "333",
          "properties": {
           "class": 0,
           "style": {
            "color": "black",
            "fillColor": "#fee724",
            "weight": 0.9
           }
          },
          "type": "Feature"
         },
         {
          "bbox": [
           123.88389316267835,
           -29.47739860348706,
           123.88389316267835,
           -29.47739860348706
          ],
          "geometry": {
           "coordinates": [
            123.88389316267835,
            -29.47739860348706
           ],
           "type": "Point"
          },
          "id": "334",
          "properties": {
           "class": 0,
           "style": {
            "color": "black",
            "fillColor": "#fee724",
            "weight": 0.9
           }
          },
          "type": "Feature"
         },
         {
          "bbox": [
           122.91975588018803,
           -31.946666632624794,
           122.91975588018803,
           -31.946666632624794
          ],
          "geometry": {
           "coordinates": [
            122.91975588018803,
            -31.946666632624794
           ],
           "type": "Point"
          },
          "id": "335",
          "properties": {
           "class": 0,
           "style": {
            "color": "black",
            "fillColor": "#fee724",
            "weight": 0.9
           }
          },
          "type": "Feature"
         },
         {
          "bbox": [
           117.39613717076644,
           -23.933904166299307,
           117.39613717076644,
           -23.933904166299307
          ],
          "geometry": {
           "coordinates": [
            117.39613717076644,
            -23.933904166299307
           ],
           "type": "Point"
          },
          "id": "336",
          "properties": {
           "class": 0,
           "style": {
            "color": "black",
            "fillColor": "#fee724",
            "weight": 0.9
           }
          },
          "type": "Feature"
         },
         {
          "bbox": [
           128.26983506300684,
           -17.663374235014906,
           128.26983506300684,
           -17.663374235014906
          ],
          "geometry": {
           "coordinates": [
            128.26983506300684,
            -17.663374235014906
           ],
           "type": "Point"
          },
          "id": "337",
          "properties": {
           "class": 0,
           "style": {
            "color": "black",
            "fillColor": "#fee724",
            "weight": 0.9
           }
          },
          "type": "Feature"
         },
         {
          "bbox": [
           129.21135312641857,
           -30.866520781442432,
           129.21135312641857,
           -30.866520781442432
          ],
          "geometry": {
           "coordinates": [
            129.21135312641857,
            -30.866520781442432
           ],
           "type": "Point"
          },
          "id": "338",
          "properties": {
           "class": 0,
           "style": {
            "color": "black",
            "fillColor": "#fee724",
            "weight": 0.9
           }
          },
          "type": "Feature"
         },
         {
          "bbox": [
           122.95851342448736,
           -33.80844186463295,
           122.95851342448736,
           -33.80844186463295
          ],
          "geometry": {
           "coordinates": [
            122.95851342448736,
            -33.80844186463295
           ],
           "type": "Point"
          },
          "id": "339",
          "properties": {
           "class": 0,
           "style": {
            "color": "black",
            "fillColor": "#fee724",
            "weight": 0.9
           }
          },
          "type": "Feature"
         },
         {
          "bbox": [
           129.0816482045924,
           -15.528422247127434,
           129.0816482045924,
           -15.528422247127434
          ],
          "geometry": {
           "coordinates": [
            129.0816482045924,
            -15.528422247127434
           ],
           "type": "Point"
          },
          "id": "340",
          "properties": {
           "class": 0,
           "style": {
            "color": "black",
            "fillColor": "#fee724",
            "weight": 0.9
           }
          },
          "type": "Feature"
         },
         {
          "bbox": [
           128.86087898825357,
           -16.346424418192207,
           128.86087898825357,
           -16.346424418192207
          ],
          "geometry": {
           "coordinates": [
            128.86087898825357,
            -16.346424418192207
           ],
           "type": "Point"
          },
          "id": "341",
          "properties": {
           "class": 0,
           "style": {
            "color": "black",
            "fillColor": "#fee724",
            "weight": 0.9
           }
          },
          "type": "Feature"
         },
         {
          "bbox": [
           118.74301149424441,
           -30.09809751861785,
           118.74301149424441,
           -30.09809751861785
          ],
          "geometry": {
           "coordinates": [
            118.74301149424441,
            -30.09809751861785
           ],
           "type": "Point"
          },
          "id": "342",
          "properties": {
           "class": 0,
           "style": {
            "color": "black",
            "fillColor": "#fee724",
            "weight": 0.9
           }
          },
          "type": "Feature"
         },
         {
          "bbox": [
           123.60743677391265,
           -29.394823934302067,
           123.60743677391265,
           -29.394823934302067
          ],
          "geometry": {
           "coordinates": [
            123.60743677391265,
            -29.394823934302067
           ],
           "type": "Point"
          },
          "id": "343",
          "properties": {
           "class": 0,
           "style": {
            "color": "black",
            "fillColor": "#fee724",
            "weight": 0.9
           }
          },
          "type": "Feature"
         },
         {
          "bbox": [
           124.00776298017085,
           -33.10457469852328,
           124.00776298017085,
           -33.10457469852328
          ],
          "geometry": {
           "coordinates": [
            124.00776298017085,
            -33.10457469852328
           ],
           "type": "Point"
          },
          "id": "344",
          "properties": {
           "class": 0,
           "style": {
            "color": "black",
            "fillColor": "#fee724",
            "weight": 0.9
           }
          },
          "type": "Feature"
         },
         {
          "bbox": [
           118.3279762485448,
           -25.875973990175712,
           118.3279762485448,
           -25.875973990175712
          ],
          "geometry": {
           "coordinates": [
            118.3279762485448,
            -25.875973990175712
           ],
           "type": "Point"
          },
          "id": "345",
          "properties": {
           "class": 0,
           "style": {
            "color": "black",
            "fillColor": "#fee724",
            "weight": 0.9
           }
          },
          "type": "Feature"
         },
         {
          "bbox": [
           119.67452377551994,
           -24.83099126774187,
           119.67452377551994,
           -24.83099126774187
          ],
          "geometry": {
           "coordinates": [
            119.67452377551994,
            -24.83099126774187
           ],
           "type": "Point"
          },
          "id": "346",
          "properties": {
           "class": 0,
           "style": {
            "color": "black",
            "fillColor": "#fee724",
            "weight": 0.9
           }
          },
          "type": "Feature"
         },
         {
          "bbox": [
           129.16922178582698,
           -29.08986409764035,
           129.16922178582698,
           -29.08986409764035
          ],
          "geometry": {
           "coordinates": [
            129.16922178582698,
            -29.08986409764035
           ],
           "type": "Point"
          },
          "id": "347",
          "properties": {
           "class": 0,
           "style": {
            "color": "black",
            "fillColor": "#fee724",
            "weight": 0.9
           }
          },
          "type": "Feature"
         },
         {
          "bbox": [
           124.81343133150038,
           -30.00892222832044,
           124.81343133150038,
           -30.00892222832044
          ],
          "geometry": {
           "coordinates": [
            124.81343133150038,
            -30.00892222832044
           ],
           "type": "Point"
          },
          "id": "348",
          "properties": {
           "class": 0,
           "style": {
            "color": "black",
            "fillColor": "#fee724",
            "weight": 0.9
           }
          },
          "type": "Feature"
         },
         {
          "bbox": [
           113.92567981646711,
           -27.136542002012035,
           113.92567981646711,
           -27.136542002012035
          ],
          "geometry": {
           "coordinates": [
            113.92567981646711,
            -27.136542002012035
           ],
           "type": "Point"
          },
          "id": "349",
          "properties": {
           "class": 0,
           "style": {
            "color": "black",
            "fillColor": "#fee724",
            "weight": 0.9
           }
          },
          "type": "Feature"
         },
         {
          "bbox": [
           122.59290650653477,
           -24.938382905598527,
           122.59290650653477,
           -24.938382905598527
          ],
          "geometry": {
           "coordinates": [
            122.59290650653477,
            -24.938382905598527
           ],
           "type": "Point"
          },
          "id": "350",
          "properties": {
           "class": 0,
           "style": {
            "color": "black",
            "fillColor": "#fee724",
            "weight": 0.9
           }
          },
          "type": "Feature"
         },
         {
          "bbox": [
           122.79777614819442,
           -31.230915903069295,
           122.79777614819442,
           -31.230915903069295
          ],
          "geometry": {
           "coordinates": [
            122.79777614819442,
            -31.230915903069295
           ],
           "type": "Point"
          },
          "id": "351",
          "properties": {
           "class": 0,
           "style": {
            "color": "black",
            "fillColor": "#fee724",
            "weight": 0.9
           }
          },
          "type": "Feature"
         },
         {
          "bbox": [
           123.99359768703472,
           -29.844457489298986,
           123.99359768703472,
           -29.844457489298986
          ],
          "geometry": {
           "coordinates": [
            123.99359768703472,
            -29.844457489298986
           ],
           "type": "Point"
          },
          "id": "352",
          "properties": {
           "class": 0,
           "style": {
            "color": "black",
            "fillColor": "#fee724",
            "weight": 0.9
           }
          },
          "type": "Feature"
         },
         {
          "bbox": [
           119.64411391516735,
           -27.687826481558393,
           119.64411391516735,
           -27.687826481558393
          ],
          "geometry": {
           "coordinates": [
            119.64411391516735,
            -27.687826481558393
           ],
           "type": "Point"
          },
          "id": "353",
          "properties": {
           "class": 0,
           "style": {
            "color": "black",
            "fillColor": "#fee724",
            "weight": 0.9
           }
          },
          "type": "Feature"
         },
         {
          "bbox": [
           119.45073106786504,
           -26.516635030158863,
           119.45073106786504,
           -26.516635030158863
          ],
          "geometry": {
           "coordinates": [
            119.45073106786504,
            -26.516635030158863
           ],
           "type": "Point"
          },
          "id": "354",
          "properties": {
           "class": 0,
           "style": {
            "color": "black",
            "fillColor": "#fee724",
            "weight": 0.9
           }
          },
          "type": "Feature"
         },
         {
          "bbox": [
           125.78155671581368,
           -31.17408759417565,
           125.78155671581368,
           -31.17408759417565
          ],
          "geometry": {
           "coordinates": [
            125.78155671581368,
            -31.17408759417565
           ],
           "type": "Point"
          },
          "id": "355",
          "properties": {
           "class": 0,
           "style": {
            "color": "black",
            "fillColor": "#fee724",
            "weight": 0.9
           }
          },
          "type": "Feature"
         },
         {
          "bbox": [
           127.70118983895003,
           -29.960415438446308,
           127.70118983895003,
           -29.960415438446308
          ],
          "geometry": {
           "coordinates": [
            127.70118983895003,
            -29.960415438446308
           ],
           "type": "Point"
          },
          "id": "356",
          "properties": {
           "class": 0,
           "style": {
            "color": "black",
            "fillColor": "#fee724",
            "weight": 0.9
           }
          },
          "type": "Feature"
         },
         {
          "bbox": [
           115.29570282429026,
           -25.087059311519162,
           115.29570282429026,
           -25.087059311519162
          ],
          "geometry": {
           "coordinates": [
            115.29570282429026,
            -25.087059311519162
           ],
           "type": "Point"
          },
          "id": "357",
          "properties": {
           "class": 0,
           "style": {
            "color": "black",
            "fillColor": "#fee724",
            "weight": 0.9
           }
          },
          "type": "Feature"
         },
         {
          "bbox": [
           114.56693952669856,
           -25.73384264381543,
           114.56693952669856,
           -25.73384264381543
          ],
          "geometry": {
           "coordinates": [
            114.56693952669856,
            -25.73384264381543
           ],
           "type": "Point"
          },
          "id": "358",
          "properties": {
           "class": 0,
           "style": {
            "color": "black",
            "fillColor": "#fee724",
            "weight": 0.9
           }
          },
          "type": "Feature"
         },
         {
          "bbox": [
           118.48408869316219,
           -30.180555448457323,
           118.48408869316219,
           -30.180555448457323
          ],
          "geometry": {
           "coordinates": [
            118.48408869316219,
            -30.180555448457323
           ],
           "type": "Point"
          },
          "id": "359",
          "properties": {
           "class": 0,
           "style": {
            "color": "black",
            "fillColor": "#fee724",
            "weight": 0.9
           }
          },
          "type": "Feature"
         },
         {
          "bbox": [
           120.76616732892096,
           -33.24614684953663,
           120.76616732892096,
           -33.24614684953663
          ],
          "geometry": {
           "coordinates": [
            120.76616732892096,
            -33.24614684953663
           ],
           "type": "Point"
          },
          "id": "360",
          "properties": {
           "class": 0,
           "style": {
            "color": "black",
            "fillColor": "#fee724",
            "weight": 0.9
           }
          },
          "type": "Feature"
         },
         {
          "bbox": [
           128.20392582529496,
           -18.45585026175059,
           128.20392582529496,
           -18.45585026175059
          ],
          "geometry": {
           "coordinates": [
            128.20392582529496,
            -18.45585026175059
           ],
           "type": "Point"
          },
          "id": "361",
          "properties": {
           "class": 0,
           "style": {
            "color": "black",
            "fillColor": "#fee724",
            "weight": 0.9
           }
          },
          "type": "Feature"
         },
         {
          "bbox": [
           121.4972754073949,
           -30.893195992306236,
           121.4972754073949,
           -30.893195992306236
          ],
          "geometry": {
           "coordinates": [
            121.4972754073949,
            -30.893195992306236
           ],
           "type": "Point"
          },
          "id": "362",
          "properties": {
           "class": 0,
           "style": {
            "color": "black",
            "fillColor": "#fee724",
            "weight": 0.9
           }
          },
          "type": "Feature"
         },
         {
          "bbox": [
           119.02916311278737,
           -22.923543673884666,
           119.02916311278737,
           -22.923543673884666
          ],
          "geometry": {
           "coordinates": [
            119.02916311278737,
            -22.923543673884666
           ],
           "type": "Point"
          },
          "id": "363",
          "properties": {
           "class": 0,
           "style": {
            "color": "black",
            "fillColor": "#fee724",
            "weight": 0.9
           }
          },
          "type": "Feature"
         },
         {
          "bbox": [
           123.63874790936555,
           -31.023989588301394,
           123.63874790936555,
           -31.023989588301394
          ],
          "geometry": {
           "coordinates": [
            123.63874790936555,
            -31.023989588301394
           ],
           "type": "Point"
          },
          "id": "364",
          "properties": {
           "class": 0,
           "style": {
            "color": "black",
            "fillColor": "#fee724",
            "weight": 0.9
           }
          },
          "type": "Feature"
         },
         {
          "bbox": [
           122.42046817961392,
           -33.29787320293438,
           122.42046817961392,
           -33.29787320293438
          ],
          "geometry": {
           "coordinates": [
            122.42046817961392,
            -33.29787320293438
           ],
           "type": "Point"
          },
          "id": "365",
          "properties": {
           "class": 0,
           "style": {
            "color": "black",
            "fillColor": "#fee724",
            "weight": 0.9
           }
          },
          "type": "Feature"
         },
         {
          "bbox": [
           122.52917903998153,
           -31.511679925796223,
           122.52917903998153,
           -31.511679925796223
          ],
          "geometry": {
           "coordinates": [
            122.52917903998153,
            -31.511679925796223
           ],
           "type": "Point"
          },
          "id": "366",
          "properties": {
           "class": 0,
           "style": {
            "color": "black",
            "fillColor": "#fee724",
            "weight": 0.9
           }
          },
          "type": "Feature"
         },
         {
          "bbox": [
           119.16721633277622,
           -23.106103169818287,
           119.16721633277622,
           -23.106103169818287
          ],
          "geometry": {
           "coordinates": [
            119.16721633277622,
            -23.106103169818287
           ],
           "type": "Point"
          },
          "id": "367",
          "properties": {
           "class": 0,
           "style": {
            "color": "black",
            "fillColor": "#fee724",
            "weight": 0.9
           }
          },
          "type": "Feature"
         },
         {
          "bbox": [
           123.01832596131649,
           -17.452460751945136,
           123.01832596131649,
           -17.452460751945136
          ],
          "geometry": {
           "coordinates": [
            123.01832596131649,
            -17.452460751945136
           ],
           "type": "Point"
          },
          "id": "368",
          "properties": {
           "class": 0,
           "style": {
            "color": "black",
            "fillColor": "#fee724",
            "weight": 0.9
           }
          },
          "type": "Feature"
         },
         {
          "bbox": [
           121.21814650581018,
           -21.89942637734696,
           121.21814650581018,
           -21.89942637734696
          ],
          "geometry": {
           "coordinates": [
            121.21814650581018,
            -21.89942637734696
           ],
           "type": "Point"
          },
          "id": "369",
          "properties": {
           "class": 0,
           "style": {
            "color": "black",
            "fillColor": "#fee724",
            "weight": 0.9
           }
          },
          "type": "Feature"
         },
         {
          "bbox": [
           129.04891057799907,
           -31.245726533985753,
           129.04891057799907,
           -31.245726533985753
          ],
          "geometry": {
           "coordinates": [
            129.04891057799907,
            -31.245726533985753
           ],
           "type": "Point"
          },
          "id": "370",
          "properties": {
           "class": 0,
           "style": {
            "color": "black",
            "fillColor": "#fee724",
            "weight": 0.9
           }
          },
          "type": "Feature"
         },
         {
          "bbox": [
           128.98311405881452,
           -26.084839080247086,
           128.98311405881452,
           -26.084839080247086
          ],
          "geometry": {
           "coordinates": [
            128.98311405881452,
            -26.084839080247086
           ],
           "type": "Point"
          },
          "id": "371",
          "properties": {
           "class": 0,
           "style": {
            "color": "black",
            "fillColor": "#fee724",
            "weight": 0.9
           }
          },
          "type": "Feature"
         },
         {
          "bbox": [
           122.97223658630678,
           -16.968041769399992,
           122.97223658630678,
           -16.968041769399992
          ],
          "geometry": {
           "coordinates": [
            122.97223658630678,
            -16.968041769399992
           ],
           "type": "Point"
          },
          "id": "372",
          "properties": {
           "class": 0,
           "style": {
            "color": "black",
            "fillColor": "#fee724",
            "weight": 0.9
           }
          },
          "type": "Feature"
         },
         {
          "bbox": [
           128.1526573859727,
           -22.156325134634912,
           128.1526573859727,
           -22.156325134634912
          ],
          "geometry": {
           "coordinates": [
            128.1526573859727,
            -22.156325134634912
           ],
           "type": "Point"
          },
          "id": "373",
          "properties": {
           "class": 0,
           "style": {
            "color": "black",
            "fillColor": "#fee724",
            "weight": 0.9
           }
          },
          "type": "Feature"
         },
         {
          "bbox": [
           122.80798962622858,
           -31.271074209938355,
           122.80798962622858,
           -31.271074209938355
          ],
          "geometry": {
           "coordinates": [
            122.80798962622858,
            -31.271074209938355
           ],
           "type": "Point"
          },
          "id": "374",
          "properties": {
           "class": 0,
           "style": {
            "color": "black",
            "fillColor": "#fee724",
            "weight": 0.9
           }
          },
          "type": "Feature"
         },
         {
          "bbox": [
           129.08992030441598,
           -30.965630454595033,
           129.08992030441598,
           -30.965630454595033
          ],
          "geometry": {
           "coordinates": [
            129.08992030441598,
            -30.965630454595033
           ],
           "type": "Point"
          },
          "id": "375",
          "properties": {
           "class": 0,
           "style": {
            "color": "black",
            "fillColor": "#fee724",
            "weight": 0.9
           }
          },
          "type": "Feature"
         },
         {
          "bbox": [
           124.22444310511236,
           -31.551144092864202,
           124.22444310511236,
           -31.551144092864202
          ],
          "geometry": {
           "coordinates": [
            124.22444310511236,
            -31.551144092864202
           ],
           "type": "Point"
          },
          "id": "376",
          "properties": {
           "class": 0,
           "style": {
            "color": "black",
            "fillColor": "#fee724",
            "weight": 0.9
           }
          },
          "type": "Feature"
         },
         {
          "bbox": [
           120.70206731430447,
           -27.263166022204185,
           120.70206731430447,
           -27.263166022204185
          ],
          "geometry": {
           "coordinates": [
            120.70206731430447,
            -27.263166022204185
           ],
           "type": "Point"
          },
          "id": "377",
          "properties": {
           "class": 0,
           "style": {
            "color": "black",
            "fillColor": "#fee724",
            "weight": 0.9
           }
          },
          "type": "Feature"
         },
         {
          "bbox": [
           117.13198954785472,
           -27.501001309271192,
           117.13198954785472,
           -27.501001309271192
          ],
          "geometry": {
           "coordinates": [
            117.13198954785472,
            -27.501001309271192
           ],
           "type": "Point"
          },
          "id": "378",
          "properties": {
           "class": 0,
           "style": {
            "color": "black",
            "fillColor": "#fee724",
            "weight": 0.9
           }
          },
          "type": "Feature"
         },
         {
          "bbox": [
           114.93736709045871,
           -28.62077997402921,
           114.93736709045871,
           -28.62077997402921
          ],
          "geometry": {
           "coordinates": [
            114.93736709045871,
            -28.62077997402921
           ],
           "type": "Point"
          },
          "id": "379",
          "properties": {
           "class": 0,
           "style": {
            "color": "black",
            "fillColor": "#fee724",
            "weight": 0.9
           }
          },
          "type": "Feature"
         },
         {
          "bbox": [
           129.23322702816552,
           -30.884735052682117,
           129.23322702816552,
           -30.884735052682117
          ],
          "geometry": {
           "coordinates": [
            129.23322702816552,
            -30.884735052682117
           ],
           "type": "Point"
          },
          "id": "380",
          "properties": {
           "class": 0,
           "style": {
            "color": "black",
            "fillColor": "#fee724",
            "weight": 0.9
           }
          },
          "type": "Feature"
         },
         {
          "bbox": [
           115.02678104799692,
           -27.309919362372007,
           115.02678104799692,
           -27.309919362372007
          ],
          "geometry": {
           "coordinates": [
            115.02678104799692,
            -27.309919362372007
           ],
           "type": "Point"
          },
          "id": "381",
          "properties": {
           "class": 0,
           "style": {
            "color": "black",
            "fillColor": "#fee724",
            "weight": 0.9
           }
          },
          "type": "Feature"
         },
         {
          "bbox": [
           118.59208722276203,
           -23.162747795677582,
           118.59208722276203,
           -23.162747795677582
          ],
          "geometry": {
           "coordinates": [
            118.59208722276203,
            -23.162747795677582
           ],
           "type": "Point"
          },
          "id": "382",
          "properties": {
           "class": 0,
           "style": {
            "color": "black",
            "fillColor": "#fee724",
            "weight": 0.9
           }
          },
          "type": "Feature"
         },
         {
          "bbox": [
           119.93173321253728,
           -32.36798144430325,
           119.93173321253728,
           -32.36798144430325
          ],
          "geometry": {
           "coordinates": [
            119.93173321253728,
            -32.36798144430325
           ],
           "type": "Point"
          },
          "id": "383",
          "properties": {
           "class": 0,
           "style": {
            "color": "black",
            "fillColor": "#fee724",
            "weight": 0.9
           }
          },
          "type": "Feature"
         },
         {
          "bbox": [
           126.4875158460872,
           -18.986734803794644,
           126.4875158460872,
           -18.986734803794644
          ],
          "geometry": {
           "coordinates": [
            126.4875158460872,
            -18.986734803794644
           ],
           "type": "Point"
          },
          "id": "384",
          "properties": {
           "class": 0,
           "style": {
            "color": "black",
            "fillColor": "#fee724",
            "weight": 0.9
           }
          },
          "type": "Feature"
         },
         {
          "bbox": [
           116.99029208795491,
           -24.559093884927346,
           116.99029208795491,
           -24.559093884927346
          ],
          "geometry": {
           "coordinates": [
            116.99029208795491,
            -24.559093884927346
           ],
           "type": "Point"
          },
          "id": "385",
          "properties": {
           "class": 0,
           "style": {
            "color": "black",
            "fillColor": "#fee724",
            "weight": 0.9
           }
          },
          "type": "Feature"
         },
         {
          "bbox": [
           121.95362361703981,
           -31.63003968550808,
           121.95362361703981,
           -31.63003968550808
          ],
          "geometry": {
           "coordinates": [
            121.95362361703981,
            -31.63003968550808
           ],
           "type": "Point"
          },
          "id": "386",
          "properties": {
           "class": 0,
           "style": {
            "color": "black",
            "fillColor": "#fee724",
            "weight": 0.9
           }
          },
          "type": "Feature"
         },
         {
          "bbox": [
           119.2904157250178,
           -22.40784151317633,
           119.2904157250178,
           -22.40784151317633
          ],
          "geometry": {
           "coordinates": [
            119.2904157250178,
            -22.40784151317633
           ],
           "type": "Point"
          },
          "id": "387",
          "properties": {
           "class": 0,
           "style": {
            "color": "black",
            "fillColor": "#fee724",
            "weight": 0.9
           }
          },
          "type": "Feature"
         },
         {
          "bbox": [
           121.69468157196474,
           -22.509766006384552,
           121.69468157196474,
           -22.509766006384552
          ],
          "geometry": {
           "coordinates": [
            121.69468157196474,
            -22.509766006384552
           ],
           "type": "Point"
          },
          "id": "388",
          "properties": {
           "class": 0,
           "style": {
            "color": "black",
            "fillColor": "#fee724",
            "weight": 0.9
           }
          },
          "type": "Feature"
         },
         {
          "bbox": [
           113.95604859039054,
           -22.007542262293594,
           113.95604859039054,
           -22.007542262293594
          ],
          "geometry": {
           "coordinates": [
            113.95604859039054,
            -22.007542262293594
           ],
           "type": "Point"
          },
          "id": "389",
          "properties": {
           "class": 0,
           "style": {
            "color": "black",
            "fillColor": "#fee724",
            "weight": 0.9
           }
          },
          "type": "Feature"
         },
         {
          "bbox": [
           121.64870428484765,
           -30.242571567722333,
           121.64870428484765,
           -30.242571567722333
          ],
          "geometry": {
           "coordinates": [
            121.64870428484765,
            -30.242571567722333
           ],
           "type": "Point"
          },
          "id": "390",
          "properties": {
           "class": 0,
           "style": {
            "color": "black",
            "fillColor": "#fee724",
            "weight": 0.9
           }
          },
          "type": "Feature"
         },
         {
          "bbox": [
           119.13199964120237,
           -28.50668703153088,
           119.13199964120237,
           -28.50668703153088
          ],
          "geometry": {
           "coordinates": [
            119.13199964120237,
            -28.50668703153088
           ],
           "type": "Point"
          },
          "id": "391",
          "properties": {
           "class": 0,
           "style": {
            "color": "black",
            "fillColor": "#fee724",
            "weight": 0.9
           }
          },
          "type": "Feature"
         },
         {
          "bbox": [
           114.55457296874246,
           -23.883944354063964,
           114.55457296874246,
           -23.883944354063964
          ],
          "geometry": {
           "coordinates": [
            114.55457296874246,
            -23.883944354063964
           ],
           "type": "Point"
          },
          "id": "392",
          "properties": {
           "class": 0,
           "style": {
            "color": "black",
            "fillColor": "#fee724",
            "weight": 0.9
           }
          },
          "type": "Feature"
         },
         {
          "bbox": [
           125.36954787564329,
           -32.01677874367629,
           125.36954787564329,
           -32.01677874367629
          ],
          "geometry": {
           "coordinates": [
            125.36954787564329,
            -32.01677874367629
           ],
           "type": "Point"
          },
          "id": "393",
          "properties": {
           "class": 0,
           "style": {
            "color": "black",
            "fillColor": "#fee724",
            "weight": 0.9
           }
          },
          "type": "Feature"
         },
         {
          "bbox": [
           121.21682557004515,
           -32.66907513499552,
           121.21682557004515,
           -32.66907513499552
          ],
          "geometry": {
           "coordinates": [
            121.21682557004515,
            -32.66907513499552
           ],
           "type": "Point"
          },
          "id": "394",
          "properties": {
           "class": 0,
           "style": {
            "color": "black",
            "fillColor": "#fee724",
            "weight": 0.9
           }
          },
          "type": "Feature"
         },
         {
          "bbox": [
           115.87885367066035,
           -29.705886566918238,
           115.87885367066035,
           -29.705886566918238
          ],
          "geometry": {
           "coordinates": [
            115.87885367066035,
            -29.705886566918238
           ],
           "type": "Point"
          },
          "id": "395",
          "properties": {
           "class": 0,
           "style": {
            "color": "black",
            "fillColor": "#fee724",
            "weight": 0.9
           }
          },
          "type": "Feature"
         },
         {
          "bbox": [
           126.82889934926828,
           -30.652855148726285,
           126.82889934926828,
           -30.652855148726285
          ],
          "geometry": {
           "coordinates": [
            126.82889934926828,
            -30.652855148726285
           ],
           "type": "Point"
          },
          "id": "396",
          "properties": {
           "class": 0,
           "style": {
            "color": "black",
            "fillColor": "#fee724",
            "weight": 0.9
           }
          },
          "type": "Feature"
         },
         {
          "bbox": [
           115.82437475925259,
           -26.87579777285024,
           115.82437475925259,
           -26.87579777285024
          ],
          "geometry": {
           "coordinates": [
            115.82437475925259,
            -26.87579777285024
           ],
           "type": "Point"
          },
          "id": "397",
          "properties": {
           "class": 0,
           "style": {
            "color": "black",
            "fillColor": "#fee724",
            "weight": 0.9
           }
          },
          "type": "Feature"
         },
         {
          "bbox": [
           117.42730035899916,
           -28.1339029765768,
           117.42730035899916,
           -28.1339029765768
          ],
          "geometry": {
           "coordinates": [
            117.42730035899916,
            -28.1339029765768
           ],
           "type": "Point"
          },
          "id": "398",
          "properties": {
           "class": 0,
           "style": {
            "color": "black",
            "fillColor": "#fee724",
            "weight": 0.9
           }
          },
          "type": "Feature"
         },
         {
          "bbox": [
           122.18553985088757,
           -30.147994402834154,
           122.18553985088757,
           -30.147994402834154
          ],
          "geometry": {
           "coordinates": [
            122.18553985088757,
            -30.147994402834154
           ],
           "type": "Point"
          },
          "id": "399",
          "properties": {
           "class": 0,
           "style": {
            "color": "black",
            "fillColor": "#fee724",
            "weight": 0.9
           }
          },
          "type": "Feature"
         },
         {
          "bbox": [
           129.4477056798635,
           -29.430991279596903,
           129.4477056798635,
           -29.430991279596903
          ],
          "geometry": {
           "coordinates": [
            129.4477056798635,
            -29.430991279596903
           ],
           "type": "Point"
          },
          "id": "400",
          "properties": {
           "class": 0,
           "style": {
            "color": "black",
            "fillColor": "#fee724",
            "weight": 0.9
           }
          },
          "type": "Feature"
         },
         {
          "bbox": [
           117.46671694898318,
           -23.162570236759112,
           117.46671694898318,
           -23.162570236759112
          ],
          "geometry": {
           "coordinates": [
            117.46671694898318,
            -23.162570236759112
           ],
           "type": "Point"
          },
          "id": "401",
          "properties": {
           "class": 0,
           "style": {
            "color": "black",
            "fillColor": "#fee724",
            "weight": 0.9
           }
          },
          "type": "Feature"
         },
         {
          "bbox": [
           120.08145558311726,
           -33.46651139761086,
           120.08145558311726,
           -33.46651139761086
          ],
          "geometry": {
           "coordinates": [
            120.08145558311726,
            -33.46651139761086
           ],
           "type": "Point"
          },
          "id": "402",
          "properties": {
           "class": 0,
           "style": {
            "color": "black",
            "fillColor": "#fee724",
            "weight": 0.9
           }
          },
          "type": "Feature"
         },
         {
          "bbox": [
           117.7129563286717,
           -22.87899774337475,
           117.7129563286717,
           -22.87899774337475
          ],
          "geometry": {
           "coordinates": [
            117.7129563286717,
            -22.87899774337475
           ],
           "type": "Point"
          },
          "id": "403",
          "properties": {
           "class": 0,
           "style": {
            "color": "black",
            "fillColor": "#fee724",
            "weight": 0.9
           }
          },
          "type": "Feature"
         },
         {
          "bbox": [
           119.81128006787746,
           -23.484808453079694,
           119.81128006787746,
           -23.484808453079694
          ],
          "geometry": {
           "coordinates": [
            119.81128006787746,
            -23.484808453079694
           ],
           "type": "Point"
          },
          "id": "404",
          "properties": {
           "class": 0,
           "style": {
            "color": "black",
            "fillColor": "#fee724",
            "weight": 0.9
           }
          },
          "type": "Feature"
         },
         {
          "bbox": [
           126.7643741119495,
           -23.45986016873192,
           126.7643741119495,
           -23.45986016873192
          ],
          "geometry": {
           "coordinates": [
            126.7643741119495,
            -23.45986016873192
           ],
           "type": "Point"
          },
          "id": "405",
          "properties": {
           "class": 0,
           "style": {
            "color": "black",
            "fillColor": "#fee724",
            "weight": 0.9
           }
          },
          "type": "Feature"
         },
         {
          "bbox": [
           128.2418692686649,
           -28.71989494164111,
           128.2418692686649,
           -28.71989494164111
          ],
          "geometry": {
           "coordinates": [
            128.2418692686649,
            -28.71989494164111
           ],
           "type": "Point"
          },
          "id": "406",
          "properties": {
           "class": 0,
           "style": {
            "color": "black",
            "fillColor": "#fee724",
            "weight": 0.9
           }
          },
          "type": "Feature"
         },
         {
          "bbox": [
           116.23840523535006,
           -22.81736349418895,
           116.23840523535006,
           -22.81736349418895
          ],
          "geometry": {
           "coordinates": [
            116.23840523535006,
            -22.81736349418895
           ],
           "type": "Point"
          },
          "id": "407",
          "properties": {
           "class": 0,
           "style": {
            "color": "black",
            "fillColor": "#fee724",
            "weight": 0.9
           }
          },
          "type": "Feature"
         },
         {
          "bbox": [
           127.92336805598757,
           -16.57421465810004,
           127.92336805598757,
           -16.57421465810004
          ],
          "geometry": {
           "coordinates": [
            127.92336805598757,
            -16.57421465810004
           ],
           "type": "Point"
          },
          "id": "408",
          "properties": {
           "class": 0,
           "style": {
            "color": "black",
            "fillColor": "#fee724",
            "weight": 0.9
           }
          },
          "type": "Feature"
         },
         {
          "bbox": [
           129.31762656280216,
           -27.135877815507914,
           129.31762656280216,
           -27.135877815507914
          ],
          "geometry": {
           "coordinates": [
            129.31762656280216,
            -27.135877815507914
           ],
           "type": "Point"
          },
          "id": "409",
          "properties": {
           "class": 0,
           "style": {
            "color": "black",
            "fillColor": "#fee724",
            "weight": 0.9
           }
          },
          "type": "Feature"
         },
         {
          "bbox": [
           127.29824383982292,
           -18.769843646905144,
           127.29824383982292,
           -18.769843646905144
          ],
          "geometry": {
           "coordinates": [
            127.29824383982292,
            -18.769843646905144
           ],
           "type": "Point"
          },
          "id": "410",
          "properties": {
           "class": 0,
           "style": {
            "color": "black",
            "fillColor": "#fee724",
            "weight": 0.9
           }
          },
          "type": "Feature"
         },
         {
          "bbox": [
           125.9497960724719,
           -18.451436416399527,
           125.9497960724719,
           -18.451436416399527
          ],
          "geometry": {
           "coordinates": [
            125.9497960724719,
            -18.451436416399527
           ],
           "type": "Point"
          },
          "id": "411",
          "properties": {
           "class": 0,
           "style": {
            "color": "black",
            "fillColor": "#fee724",
            "weight": 0.9
           }
          },
          "type": "Feature"
         },
         {
          "bbox": [
           123.95732814809325,
           -16.715069748930727,
           123.95732814809325,
           -16.715069748930727
          ],
          "geometry": {
           "coordinates": [
            123.95732814809325,
            -16.715069748930727
           ],
           "type": "Point"
          },
          "id": "412",
          "properties": {
           "class": 0,
           "style": {
            "color": "black",
            "fillColor": "#fee724",
            "weight": 0.9
           }
          },
          "type": "Feature"
         },
         {
          "bbox": [
           122.13127855469192,
           -28.99427915467375,
           122.13127855469192,
           -28.99427915467375
          ],
          "geometry": {
           "coordinates": [
            122.13127855469192,
            -28.99427915467375
           ],
           "type": "Point"
          },
          "id": "413",
          "properties": {
           "class": 0,
           "style": {
            "color": "black",
            "fillColor": "#fee724",
            "weight": 0.9
           }
          },
          "type": "Feature"
         },
         {
          "bbox": [
           118.98157095702916,
           -22.060165656586673,
           118.98157095702916,
           -22.060165656586673
          ],
          "geometry": {
           "coordinates": [
            118.98157095702916,
            -22.060165656586673
           ],
           "type": "Point"
          },
          "id": "414",
          "properties": {
           "class": 0,
           "style": {
            "color": "black",
            "fillColor": "#fee724",
            "weight": 0.9
           }
          },
          "type": "Feature"
         },
         {
          "bbox": [
           120.1656918088712,
           -32.11855793368602,
           120.1656918088712,
           -32.11855793368602
          ],
          "geometry": {
           "coordinates": [
            120.1656918088712,
            -32.11855793368602
           ],
           "type": "Point"
          },
          "id": "415",
          "properties": {
           "class": 0,
           "style": {
            "color": "black",
            "fillColor": "#fee724",
            "weight": 0.9
           }
          },
          "type": "Feature"
         },
         {
          "bbox": [
           124.20062430899364,
           -18.48653949223205,
           124.20062430899364,
           -18.48653949223205
          ],
          "geometry": {
           "coordinates": [
            124.20062430899364,
            -18.48653949223205
           ],
           "type": "Point"
          },
          "id": "416",
          "properties": {
           "class": 0,
           "style": {
            "color": "black",
            "fillColor": "#fee724",
            "weight": 0.9
           }
          },
          "type": "Feature"
         },
         {
          "bbox": [
           121.61145507102066,
           -26.256116513760563,
           121.61145507102066,
           -26.256116513760563
          ],
          "geometry": {
           "coordinates": [
            121.61145507102066,
            -26.256116513760563
           ],
           "type": "Point"
          },
          "id": "417",
          "properties": {
           "class": 0,
           "style": {
            "color": "black",
            "fillColor": "#fee724",
            "weight": 0.9
           }
          },
          "type": "Feature"
         },
         {
          "bbox": [
           126.10815231742491,
           -16.280336993406465,
           126.10815231742491,
           -16.280336993406465
          ],
          "geometry": {
           "coordinates": [
            126.10815231742491,
            -16.280336993406465
           ],
           "type": "Point"
          },
          "id": "418",
          "properties": {
           "class": 0,
           "style": {
            "color": "black",
            "fillColor": "#fee724",
            "weight": 0.9
           }
          },
          "type": "Feature"
         },
         {
          "bbox": [
           128.71894353491896,
           -16.734157655965397,
           128.71894353491896,
           -16.734157655965397
          ],
          "geometry": {
           "coordinates": [
            128.71894353491896,
            -16.734157655965397
           ],
           "type": "Point"
          },
          "id": "419",
          "properties": {
           "class": 0,
           "style": {
            "color": "black",
            "fillColor": "#fee724",
            "weight": 0.9
           }
          },
          "type": "Feature"
         },
         {
          "bbox": [
           121.710613272429,
           -31.000813603564964,
           121.710613272429,
           -31.000813603564964
          ],
          "geometry": {
           "coordinates": [
            121.710613272429,
            -31.000813603564964
           ],
           "type": "Point"
          },
          "id": "420",
          "properties": {
           "class": 0,
           "style": {
            "color": "black",
            "fillColor": "#fee724",
            "weight": 0.9
           }
          },
          "type": "Feature"
         },
         {
          "bbox": [
           123.53935845940164,
           -32.68080958501209,
           123.53935845940164,
           -32.68080958501209
          ],
          "geometry": {
           "coordinates": [
            123.53935845940164,
            -32.68080958501209
           ],
           "type": "Point"
          },
          "id": "421",
          "properties": {
           "class": 0,
           "style": {
            "color": "black",
            "fillColor": "#fee724",
            "weight": 0.9
           }
          },
          "type": "Feature"
         },
         {
          "bbox": [
           128.56136440675002,
           -16.428957334494825,
           128.56136440675002,
           -16.428957334494825
          ],
          "geometry": {
           "coordinates": [
            128.56136440675002,
            -16.428957334494825
           ],
           "type": "Point"
          },
          "id": "422",
          "properties": {
           "class": 0,
           "style": {
            "color": "black",
            "fillColor": "#fee724",
            "weight": 0.9
           }
          },
          "type": "Feature"
         },
         {
          "bbox": [
           123.26097638935539,
           -25.765627505507037,
           123.26097638935539,
           -25.765627505507037
          ],
          "geometry": {
           "coordinates": [
            123.26097638935539,
            -25.765627505507037
           ],
           "type": "Point"
          },
          "id": "423",
          "properties": {
           "class": 0,
           "style": {
            "color": "black",
            "fillColor": "#fee724",
            "weight": 0.9
           }
          },
          "type": "Feature"
         },
         {
          "bbox": [
           116.6191552234194,
           -23.396864707984914,
           116.6191552234194,
           -23.396864707984914
          ],
          "geometry": {
           "coordinates": [
            116.6191552234194,
            -23.396864707984914
           ],
           "type": "Point"
          },
          "id": "424",
          "properties": {
           "class": 0,
           "style": {
            "color": "black",
            "fillColor": "#fee724",
            "weight": 0.9
           }
          },
          "type": "Feature"
         },
         {
          "bbox": [
           115.98123170771073,
           -34.019615099073285,
           115.98123170771073,
           -34.019615099073285
          ],
          "geometry": {
           "coordinates": [
            115.98123170771073,
            -34.019615099073285
           ],
           "type": "Point"
          },
          "id": "425",
          "properties": {
           "class": 0,
           "style": {
            "color": "black",
            "fillColor": "#fee724",
            "weight": 0.9
           }
          },
          "type": "Feature"
         },
         {
          "bbox": [
           118.92343645478562,
           -25.32695412618615,
           118.92343645478562,
           -25.32695412618615
          ],
          "geometry": {
           "coordinates": [
            118.92343645478562,
            -25.32695412618615
           ],
           "type": "Point"
          },
          "id": "426",
          "properties": {
           "class": 0,
           "style": {
            "color": "black",
            "fillColor": "#fee724",
            "weight": 0.9
           }
          },
          "type": "Feature"
         },
         {
          "bbox": [
           114.99294448217138,
           -25.10072587036403,
           114.99294448217138,
           -25.10072587036403
          ],
          "geometry": {
           "coordinates": [
            114.99294448217138,
            -25.10072587036403
           ],
           "type": "Point"
          },
          "id": "427",
          "properties": {
           "class": 0,
           "style": {
            "color": "black",
            "fillColor": "#fee724",
            "weight": 0.9
           }
          },
          "type": "Feature"
         },
         {
          "bbox": [
           126.49581188200287,
           -31.691462930351097,
           126.49581188200287,
           -31.691462930351097
          ],
          "geometry": {
           "coordinates": [
            126.49581188200287,
            -31.691462930351097
           ],
           "type": "Point"
          },
          "id": "428",
          "properties": {
           "class": 0,
           "style": {
            "color": "black",
            "fillColor": "#fee724",
            "weight": 0.9
           }
          },
          "type": "Feature"
         },
         {
          "bbox": [
           125.54051765005376,
           -15.435368856458549,
           125.54051765005376,
           -15.435368856458549
          ],
          "geometry": {
           "coordinates": [
            125.54051765005376,
            -15.435368856458549
           ],
           "type": "Point"
          },
          "id": "429",
          "properties": {
           "class": 0,
           "style": {
            "color": "black",
            "fillColor": "#fee724",
            "weight": 0.9
           }
          },
          "type": "Feature"
         }
        ],
        "type": "FeatureCollection"
       },
       "name": "",
       "options": [],
       "popup": null,
       "popup_max_height": null,
       "popup_max_width": 300,
       "popup_min_width": 50,
       "style": {
        "fillOpacity": 0.8
       }
      }
     },
     "31539b2eeac74bc5b08d29931526c1db": {
      "model_module": "@jupyter-widgets/controls",
      "model_module_version": "1.5.0",
      "model_name": "LabelModel",
      "state": {
       "layout": "IPY_MODEL_4ec6ee6333e74ebead8b96e3ff30d303",
       "style": "IPY_MODEL_6d6426358c7145c48c8e9876386e1fd7"
      }
     },
     "379dd33783f74dfa9bc82073e00f1bea": {
      "model_module": "jupyter-leaflet",
      "model_module_version": "^0.13.0",
      "model_name": "LeafletMapModel",
      "state": {
       "_model_module_version": "^0.13.0",
       "_view_module_version": "^0.13.0",
       "center": [
        -24.339063785033826,
        121.68669274816531
       ],
       "controls": [
        "IPY_MODEL_1188526a8eb748afba18be49d751db03",
        "IPY_MODEL_3f4ef00e56f14f3c98ae2b34e7de2788"
       ],
       "default_style": "IPY_MODEL_79f77423e0c14d2996d379af4835c83c",
       "dragging_style": "IPY_MODEL_178add4d0153427180a269c69193acb2",
       "east": 139.26269531250003,
       "fullscreen": false,
       "interpolation": "bilinear",
       "layers": [
        "IPY_MODEL_1d797e0b060a4c4e83e8ef36715c5b2a",
        "IPY_MODEL_238a06f9a9fd464bbe4e18a3031ad44a"
       ],
       "layout": "IPY_MODEL_8c11182e719b476d9e735d74cbe6c2f9",
       "modisdate": "yesterday",
       "north": -11.824341483849048,
       "options": [
        "bounce_at_zoom_limits",
        "box_zoom",
        "center",
        "close_popup_on_click",
        "double_click_zoom",
        "dragging",
        "fullscreen",
        "inertia",
        "inertia_deceleration",
        "inertia_max_speed",
        "interpolation",
        "keyboard",
        "keyboard_pan_offset",
        "keyboard_zoom_offset",
        "max_zoom",
        "min_zoom",
        "scroll_wheel_zoom",
        "tap",
        "tap_tolerance",
        "touch_zoom",
        "world_copy_jump",
        "zoom",
        "zoom_animation_threshold",
        "zoom_start"
       ],
       "south": -35.71083783530008,
       "style": "IPY_MODEL_9aa5de397ce34cb79220606493f425d9",
       "west": 104.1064453125,
       "window_url": "https://app.sandbox.dea.ga.gov.au/user/robbibt/lab?",
       "zoom": 5
      }
     },
     "3f4ef00e56f14f3c98ae2b34e7de2788": {
      "model_module": "jupyter-leaflet",
      "model_module_version": "^0.13.0",
      "model_name": "LeafletAttributionControlModel",
      "state": {
       "_model_module_version": "^0.13.0",
       "_view_module_version": "^0.13.0",
       "options": [
        "position",
        "prefix"
       ],
       "position": "bottomright",
       "prefix": "Leaflet"
      }
     },
     "4ec6ee6333e74ebead8b96e3ff30d303": {
      "model_module": "@jupyter-widgets/base",
      "model_module_version": "1.2.0",
      "model_name": "LayoutModel",
      "state": {}
     },
     "6d6426358c7145c48c8e9876386e1fd7": {
      "model_module": "@jupyter-widgets/controls",
      "model_module_version": "1.5.0",
      "model_name": "DescriptionStyleModel",
      "state": {
       "description_width": ""
      }
     },
     "79f77423e0c14d2996d379af4835c83c": {
      "model_module": "jupyter-leaflet",
      "model_module_version": "^0.13.0",
      "model_name": "LeafletMapStyleModel",
      "state": {
       "_model_module_version": "^0.13.0"
      }
     },
     "8c11182e719b476d9e735d74cbe6c2f9": {
      "model_module": "@jupyter-widgets/base",
      "model_module_version": "1.2.0",
      "model_name": "LayoutModel",
      "state": {
       "height": "600px",
       "width": "800px"
      }
     },
     "9aa5de397ce34cb79220606493f425d9": {
      "model_module": "jupyter-leaflet",
      "model_module_version": "^0.13.0",
      "model_name": "LeafletMapStyleModel",
      "state": {
       "_model_module_version": "^0.13.0"
      }
     },
     "a2373b5f21fd4604a63e0e481781f5d2": {
      "model_module": "@jupyter-widgets/output",
      "model_module_version": "1.0.0",
      "model_name": "OutputModel",
      "state": {
       "layout": "IPY_MODEL_f20c52d9a2b345a5892e1d0ee8d8827f"
      }
     },
     "f20c52d9a2b345a5892e1d0ee8d8827f": {
      "model_module": "@jupyter-widgets/base",
      "model_module_version": "1.2.0",
      "model_name": "LayoutModel",
      "state": {}
     }
    },
    "version_major": 2,
    "version_minor": 0
   }
  }
 },
 "nbformat": 4,
 "nbformat_minor": 4
}
