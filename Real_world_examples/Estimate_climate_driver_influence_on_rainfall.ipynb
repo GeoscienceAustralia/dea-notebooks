{
 "cells": [
  {
   "cell_type": "markdown",
   "metadata": {},
   "source": [
    "# Estimate Climate Driver Influence on Rainfall <img align=\"right\" src=\"../../../Supplementary_data/dea_logo.jpg\">\n",
    "\n",
    "* **Compatibility:** Notebook currently compatible the `NCI` environment\n",
    "* **Products used:** [BOM Rainfall Grids](https://explorer.dea.ga.gov.au/bom_rainfall_grids)\n",
    "\n",
    "## Background\n",
    "\n",
    "There are three main climate drivers for the Australian continent: the El Niño-Southern Oscillation (ENSO), the Southern Annular Mode (SAM), and the Indian Ocean Dipole (IOD). ENSO is the climate driver associated with Pacific Ocean El Niño and La Niña events (ENSO phases). These events together affect climate and rainfall patterns in Australia. Different regions of Australia are affected quite differently. We are interested in the behaviour of waterbodies throughout the continent, but we need a rainfall baseline to compare these to.\n",
    "\n",
    "## Description\n",
    "\n",
    "This notebook estimates the influence of climate drivers on Australian rainfall in much the same way as [ENSOInfluence.ipynb](../Scientific_workflows/DEAWaterbodies/DEAWaterbodiesToolkit/ENSOInfluence.ipynb).\n",
    "\n",
    "***"
   ]
  },
  {
   "cell_type": "markdown",
   "metadata": {},
   "source": [
    "## Getting started\n",
    "\n",
    "Run the first cell, which loads all modules needed for this notebook."
   ]
  },
  {
   "cell_type": "markdown",
   "metadata": {},
   "source": [
    "### Load modules"
   ]
  },
  {
   "cell_type": "code",
   "execution_count": 1,
   "metadata": {},
   "outputs": [],
   "source": [
    "import warnings\n",
    "\n",
    "%matplotlib inline\n",
    "import datacube\n",
    "import numpy as np\n",
    "import pandas as pd\n",
    "import xarray\n",
    "from matplotlib import pyplot as plt\n",
    "from odc.ui import with_ui_cbk\n",
    "from tqdm.notebook import tqdm\n",
    "import statsmodels.tsa.seasonal\n",
    "import matplotlib.patches\n",
    "import mpl_toolkits.basemap\n",
    "\n",
    "import sys\n",
    "\n",
    "sys.path.insert(1, \"../Scripts\")\n",
    "from dea_plotting import display_map"
   ]
  },
  {
   "cell_type": "markdown",
   "metadata": {},
   "source": [
    "### Configuration\n",
    "\n",
    "Choose a subset of Australia to examine:"
   ]
  },
  {
   "cell_type": "code",
   "execution_count": 2,
   "metadata": {},
   "outputs": [],
   "source": [
    "southwest = (-44.367634, 112.417252)\n",
    "northeast = (-10.116211, 154.898971)\n",
    "\n",
    "# Convert the coordinates into latitude and longitude ranges.\n",
    "ylim, xlim = zip(southwest, northeast)"
   ]
  },
  {
   "cell_type": "code",
   "execution_count": 3,
   "metadata": {},
   "outputs": [
    {
     "data": {
      "text/html": [
       "<div style=\"width:100%;\"><div style=\"position:relative;width:100%;height:0;padding-bottom:60%;\"><iframe src=\"data:text/html;charset=utf-8;base64,PCFET0NUWVBFIGh0bWw+CjxoZWFkPiAgICAKICAgIDxtZXRhIGh0dHAtZXF1aXY9ImNvbnRlbnQtdHlwZSIgY29udGVudD0idGV4dC9odG1sOyBjaGFyc2V0PVVURi04IiAvPgogICAgCiAgICAgICAgPHNjcmlwdD4KICAgICAgICAgICAgTF9OT19UT1VDSCA9IGZhbHNlOwogICAgICAgICAgICBMX0RJU0FCTEVfM0QgPSBmYWxzZTsKICAgICAgICA8L3NjcmlwdD4KICAgIAogICAgPHNjcmlwdCBzcmM9Imh0dHBzOi8vY2RuLmpzZGVsaXZyLm5ldC9ucG0vbGVhZmxldEAxLjYuMC9kaXN0L2xlYWZsZXQuanMiPjwvc2NyaXB0PgogICAgPHNjcmlwdCBzcmM9Imh0dHBzOi8vY29kZS5qcXVlcnkuY29tL2pxdWVyeS0xLjEyLjQubWluLmpzIj48L3NjcmlwdD4KICAgIDxzY3JpcHQgc3JjPSJodHRwczovL21heGNkbi5ib290c3RyYXBjZG4uY29tL2Jvb3RzdHJhcC8zLjIuMC9qcy9ib290c3RyYXAubWluLmpzIj48L3NjcmlwdD4KICAgIDxzY3JpcHQgc3JjPSJodHRwczovL2NkbmpzLmNsb3VkZmxhcmUuY29tL2FqYXgvbGlicy9MZWFmbGV0LmF3ZXNvbWUtbWFya2Vycy8yLjAuMi9sZWFmbGV0LmF3ZXNvbWUtbWFya2Vycy5qcyI+PC9zY3JpcHQ+CiAgICA8bGluayByZWw9InN0eWxlc2hlZXQiIGhyZWY9Imh0dHBzOi8vY2RuLmpzZGVsaXZyLm5ldC9ucG0vbGVhZmxldEAxLjYuMC9kaXN0L2xlYWZsZXQuY3NzIi8+CiAgICA8bGluayByZWw9InN0eWxlc2hlZXQiIGhyZWY9Imh0dHBzOi8vbWF4Y2RuLmJvb3RzdHJhcGNkbi5jb20vYm9vdHN0cmFwLzMuMi4wL2Nzcy9ib290c3RyYXAubWluLmNzcyIvPgogICAgPGxpbmsgcmVsPSJzdHlsZXNoZWV0IiBocmVmPSJodHRwczovL21heGNkbi5ib290c3RyYXBjZG4uY29tL2Jvb3RzdHJhcC8zLjIuMC9jc3MvYm9vdHN0cmFwLXRoZW1lLm1pbi5jc3MiLz4KICAgIDxsaW5rIHJlbD0ic3R5bGVzaGVldCIgaHJlZj0iaHR0cHM6Ly9tYXhjZG4uYm9vdHN0cmFwY2RuLmNvbS9mb250LWF3ZXNvbWUvNC42LjMvY3NzL2ZvbnQtYXdlc29tZS5taW4uY3NzIi8+CiAgICA8bGluayByZWw9InN0eWxlc2hlZXQiIGhyZWY9Imh0dHBzOi8vY2RuanMuY2xvdWRmbGFyZS5jb20vYWpheC9saWJzL0xlYWZsZXQuYXdlc29tZS1tYXJrZXJzLzIuMC4yL2xlYWZsZXQuYXdlc29tZS1tYXJrZXJzLmNzcyIvPgogICAgPGxpbmsgcmVsPSJzdHlsZXNoZWV0IiBocmVmPSJodHRwczovL3Jhd2Nkbi5naXRoYWNrLmNvbS9weXRob24tdmlzdWFsaXphdGlvbi9mb2xpdW0vbWFzdGVyL2ZvbGl1bS90ZW1wbGF0ZXMvbGVhZmxldC5hd2Vzb21lLnJvdGF0ZS5jc3MiLz4KICAgIDxzdHlsZT5odG1sLCBib2R5IHt3aWR0aDogMTAwJTtoZWlnaHQ6IDEwMCU7bWFyZ2luOiAwO3BhZGRpbmc6IDA7fTwvc3R5bGU+CiAgICA8c3R5bGU+I21hcCB7cG9zaXRpb246YWJzb2x1dGU7dG9wOjA7Ym90dG9tOjA7cmlnaHQ6MDtsZWZ0OjA7fTwvc3R5bGU+CiAgICAKICAgICAgICAgICAgPG1ldGEgbmFtZT0idmlld3BvcnQiIGNvbnRlbnQ9IndpZHRoPWRldmljZS13aWR0aCwKICAgICAgICAgICAgICAgIGluaXRpYWwtc2NhbGU9MS4wLCBtYXhpbXVtLXNjYWxlPTEuMCwgdXNlci1zY2FsYWJsZT1ubyIgLz4KICAgICAgICAgICAgPHN0eWxlPgogICAgICAgICAgICAgICAgI21hcF8zNmZhNTc1ZmMzNzQ0N2JiYWY1ODAzZmZjOWRhODgyNiB7CiAgICAgICAgICAgICAgICAgICAgcG9zaXRpb246IHJlbGF0aXZlOwogICAgICAgICAgICAgICAgICAgIHdpZHRoOiAxMDAuMCU7CiAgICAgICAgICAgICAgICAgICAgaGVpZ2h0OiAxMDAuMCU7CiAgICAgICAgICAgICAgICAgICAgbGVmdDogMC4wJTsKICAgICAgICAgICAgICAgICAgICB0b3A6IDAuMCU7CiAgICAgICAgICAgICAgICB9CiAgICAgICAgICAgIDwvc3R5bGU+CiAgICAgICAgCjwvaGVhZD4KPGJvZHk+ICAgIAogICAgCiAgICAgICAgICAgIDxkaXYgY2xhc3M9ImZvbGl1bS1tYXAiIGlkPSJtYXBfMzZmYTU3NWZjMzc0NDdiYmFmNTgwM2ZmYzlkYTg4MjYiID48L2Rpdj4KICAgICAgICAKPC9ib2R5Pgo8c2NyaXB0PiAgICAKICAgIAogICAgICAgICAgICB2YXIgbWFwXzM2ZmE1NzVmYzM3NDQ3YmJhZjU4MDNmZmM5ZGE4ODI2ID0gTC5tYXAoCiAgICAgICAgICAgICAgICAibWFwXzM2ZmE1NzVmYzM3NDQ3YmJhZjU4MDNmZmM5ZGE4ODI2IiwKICAgICAgICAgICAgICAgIHsKICAgICAgICAgICAgICAgICAgICBjZW50ZXI6IFstMjcuMjQxOTIyNSwgMTMzLjY1ODExMTVdLAogICAgICAgICAgICAgICAgICAgIGNyczogTC5DUlMuRVBTRzM4NTcsCiAgICAgICAgICAgICAgICAgICAgem9vbTogNCwKICAgICAgICAgICAgICAgICAgICB6b29tQ29udHJvbDogdHJ1ZSwKICAgICAgICAgICAgICAgICAgICBwcmVmZXJDYW52YXM6IGZhbHNlLAogICAgICAgICAgICAgICAgfQogICAgICAgICAgICApOwoKICAgICAgICAgICAgCgogICAgICAgIAogICAgCiAgICAgICAgICAgIHZhciB0aWxlX2xheWVyXzYyZjQyM2VkYjZhZDRiYzQ5ZjEzYjdlMTFiYWJjNDRmID0gTC50aWxlTGF5ZXIoCiAgICAgICAgICAgICAgICAiaHR0cDovL210MS5nb29nbGUuY29tL3Z0L2x5cnM9eVx1MDAyNno9e3p9XHUwMDI2eD17eH1cdTAwMjZ5PXt5fSIsCiAgICAgICAgICAgICAgICB7ImF0dHJpYnV0aW9uIjogIkdvb2dsZSIsICJkZXRlY3RSZXRpbmEiOiBmYWxzZSwgIm1heE5hdGl2ZVpvb20iOiAxOCwgIm1heFpvb20iOiAxOCwgIm1pblpvb20iOiAwLCAibm9XcmFwIjogZmFsc2UsICJvcGFjaXR5IjogMSwgInN1YmRvbWFpbnMiOiAiYWJjIiwgInRtcyI6IGZhbHNlfQogICAgICAgICAgICApLmFkZFRvKG1hcF8zNmZhNTc1ZmMzNzQ0N2JiYWY1ODAzZmZjOWRhODgyNik7CiAgICAgICAgCiAgICAKICAgICAgICAgICAgdmFyIHBvbHlfbGluZV9jNDJiNjQzNTkzYzc0YmU0ODUyNzkxMDAyYWVhMjk4OCA9IEwucG9seWxpbmUoCiAgICAgICAgICAgICAgICBbWy00NC4zNjc2MzQsIDExMi40MTcyNTJdLCBbLTQ0LjM2NzYzNCwgMTU0Ljg5ODk3MV0sIFstMTAuMTE2MjExLCAxNTQuODk4OTcxXSwgWy0xMC4xMTYyMTEsIDExMi40MTcyNTJdLCBbLTQ0LjM2NzYzNCwgMTEyLjQxNzI1Ml1dLAogICAgICAgICAgICAgICAgeyJidWJibGluZ01vdXNlRXZlbnRzIjogdHJ1ZSwgImNvbG9yIjogInJlZCIsICJkYXNoQXJyYXkiOiBudWxsLCAiZGFzaE9mZnNldCI6IG51bGwsICJmaWxsIjogZmFsc2UsICJmaWxsQ29sb3IiOiAicmVkIiwgImZpbGxPcGFjaXR5IjogMC4yLCAiZmlsbFJ1bGUiOiAiZXZlbm9kZCIsICJsaW5lQ2FwIjogInJvdW5kIiwgImxpbmVKb2luIjogInJvdW5kIiwgIm5vQ2xpcCI6IGZhbHNlLCAib3BhY2l0eSI6IDAuOCwgInNtb290aEZhY3RvciI6IDEuMCwgInN0cm9rZSI6IHRydWUsICJ3ZWlnaHQiOiAzfQogICAgICAgICAgICApLmFkZFRvKG1hcF8zNmZhNTc1ZmMzNzQ0N2JiYWY1ODAzZmZjOWRhODgyNik7CiAgICAgICAgCiAgICAKICAgICAgICAgICAgICAgIHZhciBsYXRfbG5nX3BvcHVwXzVkNjE3ZjdmNjRjMTRhOTY5YzM3YjBjZmRkYjYzNWVkID0gTC5wb3B1cCgpOwogICAgICAgICAgICAgICAgZnVuY3Rpb24gbGF0TG5nUG9wKGUpIHsKICAgICAgICAgICAgICAgICAgICBsYXRfbG5nX3BvcHVwXzVkNjE3ZjdmNjRjMTRhOTY5YzM3YjBjZmRkYjYzNWVkCiAgICAgICAgICAgICAgICAgICAgICAgIC5zZXRMYXRMbmcoZS5sYXRsbmcpCiAgICAgICAgICAgICAgICAgICAgICAgIC5zZXRDb250ZW50KCJMYXRpdHVkZTogIiArIGUubGF0bG5nLmxhdC50b0ZpeGVkKDQpICsKICAgICAgICAgICAgICAgICAgICAgICAgICAgICAgICAgICAgIjxicj5Mb25naXR1ZGU6ICIgKyBlLmxhdGxuZy5sbmcudG9GaXhlZCg0KSkKICAgICAgICAgICAgICAgICAgICAgICAgLm9wZW5PbihtYXBfMzZmYTU3NWZjMzc0NDdiYmFmNTgwM2ZmYzlkYTg4MjYpOwogICAgICAgICAgICAgICAgICAgIH0KICAgICAgICAgICAgICAgIG1hcF8zNmZhNTc1ZmMzNzQ0N2JiYWY1ODAzZmZjOWRhODgyNi5vbignY2xpY2snLCBsYXRMbmdQb3ApOwogICAgICAgICAgICAKPC9zY3JpcHQ+\" style=\"position:absolute;width:100%;height:100%;left:0;top:0;border:none !important;\" allowfullscreen webkitallowfullscreen mozallowfullscreen></iframe></div></div>"
      ],
      "text/plain": [
       "<folium.folium.Map at 0x7f69fe98bba8>"
      ]
     },
     "execution_count": 3,
     "metadata": {},
     "output_type": "execute_result"
    }
   ],
   "source": [
    "# Show a map of the the selected region.\n",
    "display_map(xlim, ylim)"
   ]
  },
  {
   "cell_type": "markdown",
   "metadata": {},
   "source": [
    "### Connect to the datacube"
   ]
  },
  {
   "cell_type": "code",
   "execution_count": 4,
   "metadata": {},
   "outputs": [],
   "source": [
    "dc = datacube.Datacube(app=\"estimate-climate-driver-influence-on-rainfall\")"
   ]
  },
  {
   "cell_type": "markdown",
   "metadata": {},
   "source": [
    "### Load gridded rainfall"
   ]
  },
  {
   "cell_type": "code",
   "execution_count": 5,
   "metadata": {},
   "outputs": [
    {
     "data": {
      "application/vnd.jupyter.widget-view+json": {
       "model_id": "8157cc42d49842e3b315a30bb82f7455",
       "version_major": 2,
       "version_minor": 0
      },
      "text/plain": [
       "VBox(children=(HBox(children=(Label(value=''), Label(value='')), layout=Layout(justify_content='space-between'…"
      ]
     },
     "metadata": {},
     "output_type": "display_data"
    }
   ],
   "source": [
    "with warnings.catch_warnings():\n",
    "    warnings.simplefilter(\"ignore\", DeprecationWarning)\n",
    "    # Load all data between 1988 and the time of writing,\n",
    "    # and downsample to 0.5 degree resolution.\n",
    "    rainfall = dc.load(\n",
    "        \"bom_rainfall_grids\",\n",
    "        time=(\"1988-01\", \"2020-10-19\"),\n",
    "        latitude=ylim,\n",
    "        longitude=xlim,\n",
    "        progress_cbk=with_ui_cbk(),\n",
    "        resolution=(0.5, 0.5),\n",
    "        resampling=\"average\",\n",
    "    )"
   ]
  },
  {
   "cell_type": "markdown",
   "metadata": {},
   "source": [
    "### Load Climate Indices\n",
    "\n",
    "The Southern Oscillation Index (SOI) tracks ENSO based on pressure differences between Tahiti and Darwin. SAM is tracked by the Antarctic Oscillation Index (AAO), a measure of pressure difference across the Antarctic. Finally, the Dipole Mode Index (DMI) tracks the IOD.\n",
    "\n",
    "The United States National Oceanic and Atmospheric Administration (NOAA) has an easily-accessed record of the SOI, AAO, and DMI, which we load here."
   ]
  },
  {
   "cell_type": "code",
   "execution_count": 6,
   "metadata": {},
   "outputs": [
    {
     "name": "stderr",
     "output_type": "stream",
     "text": [
      "--2020-10-22 14:45:58--  https://stateoftheocean.osmc.noaa.gov/atm/data/soi.nc\n",
      "Resolving stateoftheocean.osmc.noaa.gov... 161.55.85.40\n",
      "Connecting to stateoftheocean.osmc.noaa.gov|161.55.85.40|:443... connected.\n",
      "HTTP request sent, awaiting response... 200 OK\n",
      "Length: 28604 (28K) [application/x-netcdf]\n",
      "Saving to: `soi.nc.4'\n",
      "\n",
      "     0K .......... .......... .......                         100%  190K=0.1s\n",
      "\n",
      "2020-10-22 14:46:02 (190 KB/s) - `soi.nc.4' saved [28604/28604]\n",
      "\n",
      "--2020-10-22 14:46:02--  https://stateoftheocean.osmc.noaa.gov/sur/data/dmi.nc\n",
      "Resolving stateoftheocean.osmc.noaa.gov... 161.55.85.40\n",
      "Connecting to stateoftheocean.osmc.noaa.gov|161.55.85.40|:443... connected.\n",
      "HTTP request sent, awaiting response... 200 OK\n",
      "Length: 33048 (32K) [application/x-netcdf]\n",
      "Saving to: `dmi.nc.2'\n",
      "\n",
      "     0K .......... .......... .......... ..                   100%  218K=0.1s\n",
      "\n",
      "2020-10-22 14:46:03 (218 KB/s) - `dmi.nc.2' saved [33048/33048]\n",
      "\n",
      "--2020-10-22 14:46:03--  https://stateoftheocean.osmc.noaa.gov/atm/data/sam.nc\n",
      "Resolving stateoftheocean.osmc.noaa.gov... 161.55.85.40\n",
      "Connecting to stateoftheocean.osmc.noaa.gov|161.55.85.40|:443... connected.\n",
      "HTTP request sent, awaiting response... 200 OK\n",
      "Length: 16740 (16K) [application/x-netcdf]\n",
      "Saving to: `sam.nc.1'\n",
      "\n",
      "     0K .......... ......                                     100%  112K=0.1s\n",
      "\n",
      "2020-10-22 14:46:03 (112 KB/s) - `sam.nc.1' saved [16740/16740]\n",
      "\n"
     ]
    }
   ],
   "source": [
    "%%bash\n",
    "# Download the data.\n",
    "wget https://stateoftheocean.osmc.noaa.gov/atm/data/soi.nc\n",
    "wget https://stateoftheocean.osmc.noaa.gov/sur/data/dmi.nc\n",
    "wget https://stateoftheocean.osmc.noaa.gov/atm/data/sam.nc"
   ]
  },
  {
   "cell_type": "code",
   "execution_count": 7,
   "metadata": {},
   "outputs": [],
   "source": [
    "# Read the data into a dictionary of pandas DataFrames.\n",
    "# {'driver name': pd.DataFrame(...)}\n",
    "driver_indices = {\"enso\": \"soi\", \"iod\": \"dmi\", \"sam\": \"sam\"}\n",
    "indices = {}\n",
    "for driver, index in driver_indices.items():\n",
    "    index_ = xarray.open_dataset(f\"{index}.nc\")[index.upper()]\n",
    "    index = (\n",
    "        pd.DataFrame({index.upper(): index_.to_pandas()})\n",
    "        # Resample to daily.\n",
    "        .resample(\"1D\")\n",
    "        .mean()\n",
    "        # Interpolate over missing data.\n",
    "        .interpolate()\n",
    "        # Fill out the first few rows with the first observation.\n",
    "        .bfill()\n",
    "    )\n",
    "    indices[driver] = index"
   ]
  },
  {
   "cell_type": "markdown",
   "metadata": {},
   "source": [
    "## Deseasonalise the rainfall data\n",
    "\n",
    "Climate drivers can be seasonal, i.e. they predominantly occur in a given season. This means that our rainfall influence estimates will be biased by the regular seasonal cycle. For this reason we will deseasonalise the rainfall data."
   ]
  },
  {
   "cell_type": "code",
   "execution_count": 8,
   "metadata": {},
   "outputs": [],
   "source": [
    "# Make the rainfall cube (time, height, width) into a matrix of observations (time, height * width)\n",
    "# We only want one spatial axis, which is simply \"which pixel\", so we can feed this into seasonal_decompose.\n",
    "ts = rainfall.rainfall.values.reshape((len(rainfall.time), -1))"
   ]
  },
  {
   "cell_type": "code",
   "execution_count": 10,
   "metadata": {},
   "outputs": [],
   "source": [
    "# Perform the seasonal decomposition.\n",
    "sd = statsmodels.tsa.seasonal.seasonal_decompose(\n",
    "    # Assume multiplicative seasonal effects because there's no such thing as negative rainfall.\n",
    "    # But we *can* have zero rainfall, so add on a tiny quantity to account for that.\n",
    "    ts + 1e-2, model=\"multiplicative\", period=365\n",
    ")"
   ]
  },
  {
   "cell_type": "code",
   "execution_count": 11,
   "metadata": {},
   "outputs": [],
   "source": [
    "# Convert the deseasonalised rainfall back into an xarray.\n",
    "deseasonalised_rainfall = xarray.DataArray(\n",
    "    sd.resid.reshape((len(ts),) + rainfall.rainfall.values.shape[1:]),\n",
    "    coords=(\n",
    "        (\"time\", rainfall.time),\n",
    "        (\"latitude\", rainfall.latitude),\n",
    "        (\"longitude\", rainfall.longitude),\n",
    "    ),\n",
    ")"
   ]
  },
  {
   "cell_type": "code",
   "execution_count": 14,
   "metadata": {},
   "outputs": [],
   "source": [
    "# Get all the times where there is missing data.\n",
    "null_times = deseasonalised_rainfall.isnull().any(axis=(1, 2))\n",
    "# ...and toss those values out.\n",
    "deseasonalised_rainfall = deseasonalised_rainfall[~null_times]"
   ]
  },
  {
   "cell_type": "markdown",
   "metadata": {},
   "source": [
    "## Estimate climate phases\n",
    "\n",
    "We first need to estimate when each climate phase was active. For ENSO, this is indicated by the SOI being below -0.8 or above +0.8 for a sustained period (see the [Bureau of Meteorology information page on the SOI](http://www.bom.gov.au/climate/enso/history/ln-2010-12/SOI-what.shtml) for more details). The [DMI uses a threshold of 0.4](http://www.bom.gov.au/climate/model-summary/#tabs=Indian-Ocean&region=NINO34). There doesn't seem to be a standard threshold for the AAO, but we will use 0.8 (the standard deviation of the data).\n",
    "\n",
    "We will say that a climate phase is when the rolling mean climate index is above or below the appropriate threshold. This corresponds to a sustained period of being above or below the threshold. We choose a rolling window of around 4 months here for SOI and DMI, but the AAO needs a shorter rolling window: SAM tends to vary on a fortnightly time scale, compared to many months for ENSO and IOD, so we will use a rolling window of 1 month."
   ]
  },
  {
   "cell_type": "code",
   "execution_count": 15,
   "metadata": {},
   "outputs": [],
   "source": [
    "# Reindex all of the climate indices to match the dates of the rainfall observations.\n",
    "reindexed_index = {\n",
    "    driver: index.reindex(\n",
    "        pd.to_datetime(deseasonalised_rainfall.time.values, \"D\")\n",
    "    ).interpolate()[driver_indices[driver].upper()]\n",
    "    for driver, index in indices.items()\n",
    "}\n",
    "# Choose the rolling window size for each climate driver. This roughly corresponds to the scale of the oscillation.\n",
    "windows = {\n",
    "    \"enso\": 4 * 28,\n",
    "    \"iod\": 4 * 28,\n",
    "    \"sam\": 28,\n",
    "}\n",
    "# Compute a rolling mean of each climate index using the above windows.\n",
    "rolling_index = {\n",
    "    driver: index.reindex(pd.to_datetime(deseasonalised_rainfall.time.values, \"D\"))\n",
    "    .interpolate()\n",
    "    .rolling(windows[driver])\n",
    "    .mean()[driver_indices[driver].upper()]\n",
    "    for driver, index in indices.items()\n",
    "}"
   ]
  },
  {
   "cell_type": "code",
   "execution_count": 16,
   "metadata": {},
   "outputs": [],
   "source": [
    "# Find the positive, negative, and neutral phases for each climate driver.\n",
    "phases = {driver: {} for driver in rolling_index}\n",
    "# These are the thresholds at which we say there is a non-neutral phase:\n",
    "thresholds = {\"enso\": 0.8, \"sam\": 0.8, \"iod\": 0.4}\n",
    "for driver, r_index in rolling_index.items():\n",
    "    phases[driver][\"+ve\"] = r_index > thresholds[driver]\n",
    "    phases[driver][\"-ve\"] = r_index < -thresholds[driver]\n",
    "    phases[driver][\"neutral\"] = (\n",
    "        ~phases[driver][\"+ve\"] & ~phases[driver][\"-ve\"] & pd.notnull(r_index)\n",
    "    )"
   ]
  },
  {
   "cell_type": "markdown",
   "metadata": {},
   "source": [
    "We can plot when the positive and negative phases occurred:"
   ]
  },
  {
   "cell_type": "code",
   "execution_count": 17,
   "metadata": {},
   "outputs": [
    {
     "data": {
      "image/png": "[encoded data removed]",
      "text/plain": [
       "<Figure size 432x288 with 1 Axes>"
      ]
     },
     "metadata": {
      "needs_background": "light"
     },
     "output_type": "display_data"
    },
    {
     "data": {
      "image/png": "[encoded data removed]",
      "text/plain": [
       "<Figure size 432x288 with 1 Axes>"
      ]
     },
     "metadata": {
      "needs_background": "light"
     },
     "output_type": "display_data"
    },
    {
     "data": {
      "image/png": "[encoded data removed]",
      "text/plain": [
       "<Figure size 432x288 with 1 Axes>"
      ]
     },
     "metadata": {
      "needs_background": "light"
     },
     "output_type": "display_data"
    }
   ],
   "source": [
    "for driver in driver_indices:\n",
    "    la_nina = phases[driver][\"+ve\"]\n",
    "    el_nino = phases[driver][\"-ve\"]\n",
    "    for i, group in la_nina.groupby(np.cumsum(la_nina != la_nina.shift())):\n",
    "        if not group.iloc[0]:\n",
    "            continue\n",
    "\n",
    "        start = group.index[0]\n",
    "        end = group.index[-1]\n",
    "        plt.axvspan(start, end, facecolor=\"lightblue\")\n",
    "\n",
    "    for i, group in el_nino.groupby(np.cumsum(el_nino != el_nino.shift())):\n",
    "        if not group.iloc[0]:\n",
    "            continue\n",
    "\n",
    "        start = group.index[0]\n",
    "        end = group.index[-1]\n",
    "        plt.axvspan(start, end, facecolor=\"pink\")\n",
    "    plt.title(driver.upper())\n",
    "    plt.show()"
   ]
  },
  {
   "cell_type": "markdown",
   "metadata": {},
   "source": [
    "## Cumulative distributions of rainfall for each phase\n",
    "\n",
    "For the positive, negative, and neutral phase, collect all rainfall observations that occurred during that phase. We can then treat these rainfall observations as samples of a random variable, conditioned on the phase. This allows us to build the cumulative distribution function (CDF), which describes the probability distribution of the rainfall."
   ]
  },
  {
   "cell_type": "code",
   "execution_count": 18,
   "metadata": {},
   "outputs": [],
   "source": [
    "# Figure out what times the phases were active.\n",
    "times = {}\n",
    "for driver, ps in phases.items():\n",
    "    times[driver] = {}\n",
    "    for name, ph in ps.items():\n",
    "        times[driver][name] = rolling_index[driver].index[ph]"
   ]
  },
  {
   "cell_type": "code",
   "execution_count": 19,
   "metadata": {},
   "outputs": [
    {
     "data": {
      "application/vnd.jupyter.widget-view+json": {
       "model_id": "26cd275beafe40dba7537b6af45a69a2",
       "version_major": 2,
       "version_minor": 0
      },
      "text/plain": [
       "HBox(children=(FloatProgress(value=0.0, max=3.0), HTML(value='')))"
      ]
     },
     "metadata": {},
     "output_type": "display_data"
    },
    {
     "name": "stdout",
     "output_type": "stream",
     "text": [
      "\n"
     ]
    }
   ],
   "source": [
    "# Estimate the mean and CDF for each phase.\n",
    "means = {}\n",
    "cdfs = {}\n",
    "for driver, times_ in tqdm(times.items()):\n",
    "    means[driver] = {}\n",
    "    cdfs[driver] = {}\n",
    "    for name, time in times_.items():\n",
    "        means[driver][name] = np.mean(deseasonalised_rainfall.sel(time=time), axis=0)\n",
    "        cdfs[driver][name] = np.sort(\n",
    "            np.nan_to_num(deseasonalised_rainfall.sel(time=time)), axis=0\n",
    "        )"
   ]
  },
  {
   "cell_type": "markdown",
   "metadata": {},
   "source": [
    "We need to line up the CDFs despite having a different number of days. We can interpolate to do this:"
   ]
  },
  {
   "cell_type": "code",
   "execution_count": 20,
   "metadata": {},
   "outputs": [],
   "source": [
    "max_rainfall = deseasonalised_rainfall.max().values\n",
    "min_rainfall = 0"
   ]
  },
  {
   "cell_type": "code",
   "execution_count": 21,
   "metadata": {},
   "outputs": [
    {
     "data": {
      "application/vnd.jupyter.widget-view+json": {
       "model_id": "307975f098c44f39be06906e96367715",
       "version_major": 2,
       "version_minor": 0
      },
      "text/plain": [
       "HBox(children=(FloatProgress(value=0.0, max=3.0), HTML(value='')))"
      ]
     },
     "metadata": {},
     "output_type": "display_data"
    },
    {
     "name": "stdout",
     "output_type": "stream",
     "text": [
      "\n"
     ]
    }
   ],
   "source": [
    "interps = {}\n",
    "for driver, cdfs_ in tqdm(cdfs.items()):\n",
    "    interps[driver] = {}\n",
    "    for name, cdf in cdfs_.items():\n",
    "        interps[driver][name] = []\n",
    "        for y in range(cdf.shape[1]):\n",
    "            for x in range(cdf.shape[2]):\n",
    "                interps[driver][name].append(\n",
    "                    # This interpolation essentially rescales each set of observations to a consistent x scale\n",
    "                    # and therefore approximates the CDF. Basically converting the units from \"daily\" to \"quantile\".\n",
    "                    # The 200 controls the resolution of the resulting interpolated CDF. Doesn't need to be too high.\n",
    "                    np.interp(\n",
    "                        np.linspace(min_rainfall, max_rainfall, 200),\n",
    "                        cdf[:, y, x],\n",
    "                        np.linspace(0, 1, len(cdf)),\n",
    "                        left=0,\n",
    "                        right=1,\n",
    "                    )\n",
    "                )"
   ]
  },
  {
   "cell_type": "code",
   "execution_count": 22,
   "metadata": {},
   "outputs": [],
   "source": [
    "# Convert the interpolated CDFs back into numpy arrays of the appropriate shape for the next step.\n",
    "for driver, interps_ in interps.items():\n",
    "    for name, interp in interps_.items():\n",
    "        interps[driver][name] = np.array(interp).reshape(cdf.shape[1:] + (-1,))"
   ]
  },
  {
   "cell_type": "markdown",
   "metadata": {},
   "source": [
    "## Difference between active phases compared to neutral\n",
    "\n",
    "We can characterise the influence of climate drivers over the rainfall by a) assuming that there is no confounding correlation between climate driver and rainfall, and then b) calculating the distance between the above probability distributions. There are many, many ways of comparing probability distributions. We will employ two:\n",
    "\n",
    "1. The Kolmogorov-Smirnov (KS) distance, commonly used to determine whether two distributions are different in a test known as the \"KS test\". Arguably the most common statistical test, besides the Student t-test. While it is parameter-free and works on any distribution, it's also fairly weak and hence tends to under-predict differences in distributions, i.e. if it suggests that two distributions are different they probably are, but if it suggests that they are the same it might not be.\n",
    "2. The sum-of-squares difference, or the Euclidean distance. This is a measure of how far apart the quantiles are, and is a good choice if you expect your quantiles to have normally-distributed noise."
   ]
  },
  {
   "cell_type": "code",
   "execution_count": 23,
   "metadata": {},
   "outputs": [],
   "source": [
    "# Kolmogorov-Smirnov.\n",
    "ks = {}\n",
    "for driver, cdf in interps.items():\n",
    "    ks[driver] = {}\n",
    "    ks[driver][\"+ve\"] = abs(cdf[\"+ve\"] - cdf[\"neutral\"]).max(axis=-1)\n",
    "    ks[driver][\"-ve\"] = abs(cdf[\"-ve\"] - cdf[\"neutral\"]).max(axis=-1)\n",
    "\n",
    "# Euclidean.\n",
    "euc = {}\n",
    "for driver, cdf in interps.items():\n",
    "    euc[driver] = {}\n",
    "    euc[driver][\"+ve\"] = np.sqrt(np.mean((cdf[\"+ve\"] - cdf[\"neutral\"]) ** 2, axis=-1))\n",
    "    euc[driver][\"-ve\"] = np.sqrt(np.mean((cdf[\"-ve\"] - cdf[\"neutral\"]) ** 2, axis=-1))"
   ]
  },
  {
   "cell_type": "markdown",
   "metadata": {},
   "source": [
    "Then we can plot the climate driver influence on rainfall based on KS or Euclidean distance."
   ]
  },
  {
   "cell_type": "code",
   "execution_count": 24,
   "metadata": {},
   "outputs": [
    {
     "data": {
      "image/png": "[encoded data removed]",
      "text/plain": [
       "<Figure size 1080x720 with 4 Axes>"
      ]
     },
     "metadata": {
      "needs_background": "light"
     },
     "output_type": "display_data"
    }
   ],
   "source": [
    "fig, axs = plt.subplots(2, 2, figsize=(15, 10))\n",
    "\n",
    "for i, driver in enumerate(sorted(ks)):\n",
    "    k = ks[driver]\n",
    "    axs[0, 0].bar(\n",
    "        [i, i + 0.2],\n",
    "        [k[\"-ve\"].mean(), k[\"+ve\"].mean()],\n",
    "        width=0.2,\n",
    "        color=[\"firebrick\", \"steelblue\"],\n",
    "    )\n",
    "axs[0, 0].legend(\n",
    "    [\n",
    "        matplotlib.patches.Patch(facecolor=\"firebrick\"),\n",
    "        matplotlib.patches.Patch(facecolor=\"steelblue\"),\n",
    "    ],\n",
    "    [\"Negative\", \"Positive\"],\n",
    ")\n",
    "axs[0, 0].set_xticks(np.arange(len(ks)) + 0.1)\n",
    "axs[0, 0].set_xticklabels([k.upper() for k in sorted(ks)])\n",
    "axs[0, 0].set_title(\"Kolmogorov-Smirnov\")\n",
    "axs[0, 0].set_ylabel(\"Mean distance (px$^2$)\")\n",
    "\n",
    "for i, driver in enumerate(sorted(euc)):\n",
    "    k = euc[driver]\n",
    "    axs[0, 1].bar(\n",
    "        [i, i + 0.2],\n",
    "        [k[\"-ve\"].mean(), k[\"+ve\"].mean()],\n",
    "        width=0.2,\n",
    "        color=[\"firebrick\", \"steelblue\"],\n",
    "    )\n",
    "axs[0, 1].legend(\n",
    "    [\n",
    "        matplotlib.patches.Patch(facecolor=\"firebrick\"),\n",
    "        matplotlib.patches.Patch(facecolor=\"steelblue\"),\n",
    "    ],\n",
    "    [\"Negative\", \"Positive\"],\n",
    ")\n",
    "axs[0, 1].set_xticks(np.arange(len(ks)) + 0.1)\n",
    "axs[0, 1].set_xticklabels([k.upper() for k in sorted(ks)])\n",
    "axs[0, 1].set_title(\"Euclidean\")\n",
    "axs[0, 1].set_ylabel(\"Mean distance (px$^2$)\")\n",
    "\n",
    "totals = {}\n",
    "for driver, k in ks.items():\n",
    "    totals[driver] = np.hypot(k[\"+ve\"], k[\"-ve\"])\n",
    "\n",
    "lon, lat = np.meshgrid(rainfall.longitude.values, rainfall.latitude.values)\n",
    "colours = np.ma.stack(\n",
    "    [\n",
    "        mpl_toolkits.basemap.maskoceans(lon, lat, totals[\"enso\"]),\n",
    "        mpl_toolkits.basemap.maskoceans(lon, lat, totals[\"sam\"]),\n",
    "        mpl_toolkits.basemap.maskoceans(lon, lat, totals[\"iod\"]),\n",
    "    ]\n",
    ").transpose(1, 2, 0)\n",
    "max_colour = colours.max()\n",
    "axs[1, 0].imshow(np.where(colours.mask, np.nan, colours / max_colour), origin=\"lower\")\n",
    "\n",
    "totals = {}\n",
    "for driver, k in euc.items():\n",
    "    totals[driver] = np.hypot(k[\"+ve\"], k[\"-ve\"])\n",
    "\n",
    "colours = np.ma.stack(\n",
    "    [\n",
    "        mpl_toolkits.basemap.maskoceans(lon, lat, totals[\"enso\"]),\n",
    "        mpl_toolkits.basemap.maskoceans(lon, lat, totals[\"sam\"]),\n",
    "        mpl_toolkits.basemap.maskoceans(lon, lat, totals[\"iod\"]),\n",
    "    ]\n",
    ").transpose(1, 2, 0)\n",
    "max_colour = colours.max()\n",
    "axs[1, 1].imshow(np.where(colours.mask, np.nan, colours / max_colour), origin=\"lower\")\n",
    "\n",
    "plt.tight_layout()"
   ]
  },
  {
   "cell_type": "markdown",
   "metadata": {},
   "source": [
    "***\n",
    "\n",
    "## Additional information\n",
    "\n",
    "**License:** The code in this notebook is licensed under the [Apache License, Version 2.0](https://www.apache.org/licenses/LICENSE-2.0). \n",
    "Digital Earth Australia data is licensed under the [Creative Commons by Attribution 4.0](https://creativecommons.org/licenses/by/4.0/) license.\n",
    "\n",
    "**Contact:** If you need assistance, please post a question on the [Open Data Cube Slack channel](http://slack.opendatacube.org/) or on the [GIS Stack Exchange](https://gis.stackexchange.com/questions/ask?tags=open-data-cube) using the `open-data-cube` tag (you can view previously asked questions [here](https://gis.stackexchange.com/questions/tagged/open-data-cube)).\n",
    "If you would like to report an issue with this notebook, you can file one on [Github](https://github.com/GeoscienceAustralia/dea-notebooks).\n",
    "\n",
    "**Last modified:** October 2020"
   ]
  },
  {
   "cell_type": "markdown",
   "metadata": {},
   "source": [
    "## Tags\n",
    "Browse all available tags on the DEA User Guide's [Tags Index](https://docs.dea.ga.gov.au/genindex.html)."
   ]
  },
  {
   "cell_type": "raw",
   "metadata": {
    "raw_mimetype": "text/restructuredtext"
   },
   "source": [
    "**Tags**: :index:`NCI compatible`, :index:`time series`, :index:`water`"
   ]
  },
  {
   "cell_type": "code",
   "execution_count": null,
   "metadata": {},
   "outputs": [],
   "source": []
  }
 ],
 "metadata": {
  "kernelspec": {
   "display_name": "Python 3",
   "language": "python",
   "name": "python3"
  },
  "language_info": {
   "codemirror_mode": {
    "name": "ipython",
    "version": 3
   },
   "file_extension": ".py",
   "mimetype": "text/x-python",
   "name": "python",
   "nbconvert_exporter": "python",
   "pygments_lexer": "ipython3",
   "version": "3.6.9"
  },
  "widgets": {
   "application/vnd.jupyter.widget-state+json": {
    "state": {},
    "version_major": 2,
    "version_minor": 0
   }
  }
 },
 "nbformat": 4,
 "nbformat_minor": 4
}
