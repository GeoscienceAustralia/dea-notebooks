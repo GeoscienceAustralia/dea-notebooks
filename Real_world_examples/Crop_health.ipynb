{
 "cells": [
  {
   "cell_type": "markdown",
   "metadata": {},
   "source": [
    "# Measuring crop health <img align=\"right\" src=\"../Supplementary_data/dea_logo.jpg\">\n",
    "\n",
    "* **Compatability:** Notebook currently compatible with both the `NCI` and `DEA Sandbox` environments\n",
    "* **Products used:** \n",
    "[s2a_ard_granule](https://explorer.sandbox.dea.ga.gov.au/s2a_ard_granule), \n",
    "[s2b_ard_granule](https://explorer.sandbox.dea.ga.gov.au/s2b_ard_granule)"
   ]
  },
  {
   "cell_type": "markdown",
   "metadata": {},
   "source": [
    "## Background\n",
    "During a normal year, sugar cane in Queensland typically flowers early May through June; July to November is typically cane harvesting season.\n",
    "\n",
    "While sugar is growing, fields may look visually similar.\n",
    "However, health or growth rates from these fields can be quite different, leading to variability and unpredictability in revenue.\n",
    "Identifying underperforming crops can have two benefits:\n",
    "\n",
    "* Ability to scout for frost or disease damage.\n",
    "* Ability to investigate poor performing paddocks and undertake management action such as soil testing or targeted fertilising to improve yield.\n",
    "\n",
    "### Sentinel-2 use case\n",
    "Satellite imagery can be used to measure pasture health over time and identify any changes in growth patterns between otherwise similar paddocks.\n",
    "Sentinel-2's 10 metre resolution makes it ideal for understanding the health of paddocks.\n",
    "\n",
    "The Normalised Difference Vegetation Index (NDVI) describes the difference between visible and near-infrared reflectance of vegetation cover.\n",
    "This index estimates the density of green on an area of land and can be used to track the health and growth of sugar as it matures.\n",
    "Comparing the NDVI of two similar paddocks will help to identify any anomalies in growth patterns. \n",
    "\n",
    "## Description\n",
    "In this example, data from the European Sentinel-2 satellites is used to assess crop growing patterns for the last year.\n",
    "This data is made available through the Copernicus Regional Data Hub and Digital Earth Australia within 1-2 days of capture.\n",
    "The worked example below takes users through the code required to:\n",
    "\n",
    "1. Create a time series data cube over a farming property.\n",
    "2. Select multiple paddocks for comparison.\n",
    "3. Create graphs to identify crop performance trends over the last year.\n",
    "4. Interpret the results.\n",
    "\n",
    "***"
   ]
  },
  {
   "cell_type": "markdown",
   "metadata": {},
   "source": [
    "## Getting started\n",
    "\n",
    "**To run this analysis**, run all the cells in the notebook, starting with the \"Load packages and apps\" cell."
   ]
  },
  {
   "cell_type": "markdown",
   "metadata": {},
   "source": [
    "### Load packages and apps\n",
    "\n",
    "This notebook works via two functions, which are referred to as apps: `load_crophealth_data` and `run_crophealth_app`.\n",
    "The apps allow the majority of the analysis code to be stored in another file, making the notebook easy to use and run.\n",
    "To view the code behind the apps, open the [notebookapp_crophealth.py](../Scripts/notebookapp_crophealth.py) file."
   ]
  },
  {
   "cell_type": "code",
   "execution_count": 1,
   "metadata": {},
   "outputs": [
    {
     "name": "stderr",
     "output_type": "stream",
     "text": [
      "/env/lib/python3.6/site-packages/datacube/storage/masking.py:4: DeprecationWarning: datacube.storage.masking has moved to datacube.utils.masking\n",
      "  category=DeprecationWarning)\n"
     ]
    }
   ],
   "source": [
    "%matplotlib inline\n",
    "\n",
    "import sys\n",
    "import datacube\n",
    "\n",
    "sys.path.append(\"../Scripts\")\n",
    "from notebookapp_crophealth import load_crophealth_data\n",
    "from notebookapp_crophealth import run_crophealth_app"
   ]
  },
  {
   "cell_type": "markdown",
   "metadata": {},
   "source": [
    "## Load the data\n",
    "The `load_crophealth_data()` command performs several key steps:\n",
    "\n",
    "* identify all available Sentinel-2 near real time data in the case-study area over the last year\n",
    "* remove any bad quality pixels\n",
    "* keep images where more than half of the image contains good quality pixels\n",
    "* collate images from Sentinel-2A and Sentinel-2B into a single data-set\n",
    "* calculate the NDVI from the red and near infrared bands\n",
    "* return the collated data for analysis\n",
    "\n",
    "The cleaned and collated data is stored in the `dataset_sentinel2` object.\n",
    "As the command runs, feedback will be provided below the cell, including information on the number of cleaned images loaded from each satellite.\n",
    "\n",
    "**Please be patient**.\n",
    "The load is complete when the cell status goes from `[*]` to `[number]`."
   ]
  },
  {
   "cell_type": "code",
   "execution_count": 2,
   "metadata": {},
   "outputs": [
    {
     "name": "stdout",
     "output_type": "stream",
     "text": [
      "Loading s2a_ard_granule data\n",
      "    Filtering to 12 out of 17 observations\n",
      "    Applying pixel quality/cloud mask\n",
      "    Applying invalid data mask\n",
      "Loading s2b_ard_granule data\n",
      "    Filtering to 12 out of 15 observations\n",
      "    Applying pixel quality/cloud mask\n",
      "    Applying invalid data mask\n",
      "Combining and sorting data\n",
      "    Returning 24 observations \n"
     ]
    }
   ],
   "source": [
    "dataset_sentinel2 = load_crophealth_data()"
   ]
  },
  {
   "cell_type": "markdown",
   "metadata": {},
   "source": [
    "## Run the crop health app\n",
    "The `run_crophealth_app()` command launches an interactive map.\n",
    "Drawing polygons within the boundary (which represents the area covered by the loaded data) will result in plots of the average NDVI in that area.\n",
    "Draw polygons by clicking the &#11039; symbol in the app.\n",
    "\n",
    "The app works by taking the loaded data `dataset_sentinel2` as an argument.\n",
    "\n",
    "> **Note:** data points will only appear for images where more than 50% of the pixels were classified as good quality. This may cause trend lines on the average NDVI plot to appear disconnected. Available data points will be marked with the `*` symbol."
   ]
  },
  {
   "cell_type": "code",
   "execution_count": 3,
   "metadata": {},
   "outputs": [
    {
     "data": {
      "application/vnd.jupyter.widget-view+json": {
       "model_id": "541f88e971084ecba01ece66973b1d23",
       "version_major": 2,
       "version_minor": 0
      },
      "text/plain": [
       "VBox(children=(Output(layout=Layout(border='1px solid black')), HBox(children=(Map(basemap={'url': 'http://ser…"
      ]
     },
     "metadata": {},
     "output_type": "display_data"
    }
   ],
   "source": [
    "run_crophealth_app(dataset_sentinel2)"
   ]
  },
  {
   "cell_type": "markdown",
   "metadata": {},
   "source": [
    "## Drawing conclusions\n",
    "\n",
    "Here are some questions to think about:\n",
    "\n",
    "* What are some factors that might explain differences between fields?\n",
    "* From the NDVI value, can you tell when fields were harvested?"
   ]
  },
  {
   "cell_type": "markdown",
   "metadata": {},
   "source": [
    "***\n",
    "\n",
    "## Additional information\n",
    "\n",
    "**License:** The code in this notebook is licensed under the [Apache License, Version 2.0](https://www.apache.org/licenses/LICENSE-2.0). \n",
    "Digital Earth Australia data is licensed under the [Creative Commons by Attribution 4.0](https://creativecommons.org/licenses/by/4.0/) license.\n",
    "\n",
    "**Contact:** If you need assistance, please post a question on the [Open Data Cube Slack channel](http://slack.opendatacube.org/) or on the [GIS Stack Exchange](https://gis.stackexchange.com/questions/ask?tags=open-data-cube) using the `open-data-cube` tag (you can view previously asked questions [here](https://gis.stackexchange.com/questions/tagged/open-data-cube)).\n",
    "If you would like to report an issue with this notebook, you can file one on [Github](https://github.com/GeoscienceAustralia/dea-notebooks).\n",
    "\n",
    "**Last modified:** January 2020\n",
    "\n",
    "**Compatible datacube version:**"
   ]
  },
  {
   "cell_type": "code",
   "execution_count": 4,
   "metadata": {},
   "outputs": [
    {
     "name": "stdout",
     "output_type": "stream",
     "text": [
      "1.8.0b7.dev35+g5023dada\n"
     ]
    }
   ],
   "source": [
    "print(datacube.__version__)"
   ]
  },
  {
   "cell_type": "markdown",
   "metadata": {},
   "source": [
    "## Tags\n",
    "Browse all available tags on the DEA User Guide's [Tags Index](https://docs.dea.ga.gov.au/genindex.html)"
   ]
  },
  {
   "cell_type": "raw",
   "metadata": {
    "raw_mimetype": "text/restructuredtext"
   },
   "source": [
    "**Tags**: :index:`sandbox compatible`, :index:`NCI compatible`, :index:`sentinel 2`, :index:`NDVI`, :index:`real world`, :index:`agriculture`, :index:`time series`, :index:`interactive`, :index:`widgets`, :index:`no_testing`"
   ]
  }
 ],
 "metadata": {
  "kernelspec": {
   "display_name": "Python 3",
   "language": "python",
   "name": "python3"
  },
  "language_info": {
   "codemirror_mode": {
    "name": "ipython",
    "version": 3
   },
   "file_extension": ".py",
   "mimetype": "text/x-python",
   "name": "python",
   "nbconvert_exporter": "python",
   "pygments_lexer": "ipython3",
   "version": "3.6.9"
  },
  "widgets": {
   "application/vnd.jupyter.widget-state+json": {
    "state": {
     "006aa682b34f4de68a99cec8a9fbeb7f": {
      "model_module": "@jupyter-widgets/base",
      "model_module_version": "1.2.0",
      "model_name": "LayoutModel",
      "state": {}
     },
     "01968d62591d4ea19c8c9c2ded1be88e": {
      "model_module": "jupyter-leaflet",
      "model_module_version": "^0.11.1",
      "model_name": "LeafletAttributionControlModel",
      "state": {
       "_model_module_version": "^0.11.1",
       "_view_count": null,
       "_view_module_version": "^0.11.1",
       "options": [
        "position",
        "prefix"
       ],
       "position": "bottomright",
       "prefix": "Leaflet"
      }
     },
     "0bc5d1ac822048688c818c8780d23f13": {
      "model_module": "@jupyter-widgets/base",
      "model_module_version": "1.2.0",
      "model_name": "LayoutModel",
      "state": {
       "border": "1px solid black"
      }
     },
     "0d5c6f0b1847424a8542f2944ff05ba9": {
      "model_module": "@jupyter-widgets/base",
      "model_module_version": "1.2.0",
      "model_name": "LayoutModel",
      "state": {
       "border": "1px solid black"
      }
     },
     "3299b14e7c6249678cd755bd890b15aa": {
      "model_module": "@jupyter-widgets/base",
      "model_module_version": "1.2.0",
      "model_name": "LayoutModel",
      "state": {}
     },
     "3e04bece3f5e43b9b0adad02529b2d92": {
      "model_module": "@jupyter-widgets/output",
      "model_module_version": "1.0.0",
      "model_name": "OutputModel",
      "state": {
       "layout": "IPY_MODEL_82464f5338234a3b959bc4d6a1be088e",
       "outputs": [
        {
         "data": {
          "image/png": "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\n",
          "text/plain": "<Figure size 576x432 with 1 Axes>"
         },
         "metadata": {},
         "output_type": "display_data"
        }
       ]
      }
     },
     "78265376c65c466e83f328ddbde16a6a": {
      "model_module": "jupyter-leaflet",
      "model_module_version": "^0.11.1",
      "model_name": "LeafletGeoJSONModel",
      "state": {
       "_model_module_version": "^0.11.1",
       "_view_count": null,
       "_view_module_version": "^0.11.1",
       "data": {
        "geometry": {
         "coordinates": [
          [
           [
            152.404725,
            -24.981416
           ],
           [
            152.40524,
            -24.983127
           ],
           [
            152.409363,
            -24.982038
           ],
           [
            152.40902,
            -24.981027
           ],
           [
            152.407817,
            -24.981416
           ],
           [
            152.407559,
            -24.980715
           ],
           [
            152.404725,
            -24.981416
           ]
          ]
         ],
         "type": "Polygon"
        },
        "properties": {
         "style": {
          "clickable": true,
          "color": "#2ca02c",
          "fill": true,
          "fillColor": null,
          "fillOpacity": 0,
          "opacity": 1,
          "stroke": true,
          "weight": 4.5
         }
        },
        "type": "Feature"
       },
       "style": {
        "color": "#2ca02c",
        "fillOpacity": 0,
        "opacity": 1,
        "weight": 4.5
       }
      }
     },
     "7c39fec44174498e930a9f9d28f9e0f4": {
      "model_module": "@jupyter-widgets/controls",
      "model_module_version": "1.5.0",
      "model_name": "VBoxModel",
      "state": {
       "children": [
        "IPY_MODEL_87e33f5e14294c70b92b5adaeb725384",
        "IPY_MODEL_c891167fdf334c259c8138db257139ff",
        "IPY_MODEL_89021411a0424215b5504d76502fdd89"
       ],
       "layout": "IPY_MODEL_006aa682b34f4de68a99cec8a9fbeb7f"
      }
     },
     "82464f5338234a3b959bc4d6a1be088e": {
      "model_module": "@jupyter-widgets/base",
      "model_module_version": "1.2.0",
      "model_name": "LayoutModel",
      "state": {
       "width": "50%"
      }
     },
     "87e33f5e14294c70b92b5adaeb725384": {
      "model_module": "@jupyter-widgets/output",
      "model_module_version": "1.0.0",
      "model_name": "OutputModel",
      "state": {
       "layout": "IPY_MODEL_0bc5d1ac822048688c818c8780d23f13",
       "outputs": [
        {
         "name": "stdout",
         "output_type": "stream",
         "text": "Draw a polygon within the red box to view a plot of average NDVI over time in that area.\n"
        }
       ]
      }
     },
     "89021411a0424215b5504d76502fdd89": {
      "model_module": "@jupyter-widgets/output",
      "model_module_version": "1.0.0",
      "model_name": "OutputModel",
      "state": {
       "layout": "IPY_MODEL_0d5c6f0b1847424a8542f2944ff05ba9",
       "outputs": [
        {
         "name": "stdout",
         "output_type": "stream",
         "text": "Plot status: polygon sucessfully added to plot.\n"
        }
       ]
      }
     },
     "a3af679a82734795bf2f071344eda197": {
      "model_module": "jupyter-leaflet",
      "model_module_version": "^0.11.1",
      "model_name": "LeafletMapStyleModel",
      "state": {
       "_model_module_version": "^0.11.1",
       "_view_count": null,
       "_view_module": "@jupyter-widgets/base",
       "_view_module_version": "1.2.0",
       "_view_name": "StyleView",
       "cursor": "grab"
      }
     },
     "a5fc7640c90544019d54b821ad96adf3": {
      "model_module": "jupyter-leaflet",
      "model_module_version": "^0.11.1",
      "model_name": "LeafletMapModel",
      "state": {
       "_dom_classes": [],
       "_model_module_version": "^0.11.1",
       "_view_count": null,
       "_view_module_version": "^0.11.1",
       "basemap": {
        "attribution": "Tiles &copy; Esri &mdash; Source: Esri, i-cubed, USDA, USGS, AEX, GeoEye, Getmapping, Aerogrid, IGN, IGP, UPR-EGP, and the GIS User Community",
        "max_zoom": 20,
        "name": "Esri.WorldImagery",
        "url": "http://server.arcgisonline.com/ArcGIS/rest/services/World_Imagery/MapServer/tile/{z}/{y}/{x}"
       },
       "center": [
        -24.985484,
        152.41289949999998
       ],
       "controls": [
        "IPY_MODEL_a9dd60afdb4f4e62b461207b8e92ec9d",
        "IPY_MODEL_01968d62591d4ea19c8c9c2ded1be88e",
        "IPY_MODEL_b5ef089617dc42c8b5090e0f42c10778"
       ],
       "default_style": "IPY_MODEL_e63168424c25408a989aa9eb73ad304b",
       "dragging_style": "IPY_MODEL_c466fefc9ab344ef95d1fb63fcef3929",
       "east": 152.44242668151858,
       "fullscreen": false,
       "interpolation": "bilinear",
       "layers": [
        "IPY_MODEL_ece1cf0939bc4a65ba4fe0ea0aba5252",
        "IPY_MODEL_e10800f88e594813aeea9ca728f19f79",
        "IPY_MODEL_d1cc1ae0598a47608b5f171f3bb388a1",
        "IPY_MODEL_c7b9b7344f404a2e871f2c4f5a6fa17e",
        "IPY_MODEL_78265376c65c466e83f328ddbde16a6a"
       ],
       "layout": "IPY_MODEL_3299b14e7c6249678cd755bd890b15aa",
       "modisdate": "yesterday",
       "north": -24.969952812613847,
       "options": [
        "basemap",
        "bounce_at_zoom_limits",
        "box_zoom",
        "center",
        "close_popup_on_click",
        "double_click_zoom",
        "dragging",
        "fullscreen",
        "inertia",
        "inertia_deceleration",
        "inertia_max_speed",
        "interpolation",
        "keyboard",
        "keyboard_pan_offset",
        "keyboard_zoom_offset",
        "max_zoom",
        "min_zoom",
        "scroll_wheel_zoom",
        "tap",
        "tap_tolerance",
        "touch_zoom",
        "world_copy_jump",
        "zoom",
        "zoom_animation_threshold",
        "zoom_start"
       ],
       "south": -25.001072088396164,
       "style": "IPY_MODEL_a3af679a82734795bf2f071344eda197",
       "west": 152.3833751678467,
       "zoom": 14
      }
     },
     "a9dd60afdb4f4e62b461207b8e92ec9d": {
      "model_module": "jupyter-leaflet",
      "model_module_version": "^0.11.1",
      "model_name": "LeafletZoomControlModel",
      "state": {
       "_model_module_version": "^0.11.1",
       "_view_count": null,
       "_view_module_version": "^0.11.1",
       "options": [
        "position",
        "zoom_in_text",
        "zoom_in_title",
        "zoom_out_text",
        "zoom_out_title"
       ]
      }
     },
     "b5ef089617dc42c8b5090e0f42c10778": {
      "model_module": "jupyter-leaflet",
      "model_module_version": "^0.11.1",
      "model_name": "LeafletDrawControlModel",
      "state": {
       "_model_module_version": "^0.11.1",
       "_view_count": null,
       "_view_module_version": "^0.11.1",
       "options": [
        "position"
       ],
       "polygon": {
        "shapeOptions": {
         "fillOpacity": 0
        }
       },
       "polyline": {}
      }
     },
     "bf2bc190223b477dba00fad3d8bdde29": {
      "model_module": "@jupyter-widgets/base",
      "model_module_version": "1.2.0",
      "model_name": "LayoutModel",
      "state": {}
     },
     "c466fefc9ab344ef95d1fb63fcef3929": {
      "model_module": "jupyter-leaflet",
      "model_module_version": "^0.11.1",
      "model_name": "LeafletMapStyleModel",
      "state": {
       "_model_module_version": "^0.11.1",
       "_view_count": null,
       "_view_module": "@jupyter-widgets/base",
       "_view_module_version": "1.2.0",
       "_view_name": "StyleView",
       "cursor": "move"
      }
     },
     "c7b9b7344f404a2e871f2c4f5a6fa17e": {
      "model_module": "jupyter-leaflet",
      "model_module_version": "^0.11.1",
      "model_name": "LeafletGeoJSONModel",
      "state": {
       "_model_module_version": "^0.11.1",
       "_view_count": null,
       "_view_module_version": "^0.11.1",
       "data": {
        "geometry": {
         "coordinates": [
          [
           [
            152.413142,
            -24.990362
           ],
           [
            152.414603,
            -24.994252
           ],
           [
            152.41864,
            -24.993085
           ],
           [
            152.417523,
            -24.989507
           ],
           [
            152.413142,
            -24.990362
           ]
          ]
         ],
         "type": "Polygon"
        },
        "properties": {
         "style": {
          "clickable": true,
          "color": "#ff7f0e",
          "fill": true,
          "fillColor": null,
          "fillOpacity": 0,
          "opacity": 1,
          "stroke": true,
          "weight": 4.5
         }
        },
        "type": "Feature"
       },
       "style": {
        "color": "#ff7f0e",
        "fillOpacity": 0,
        "opacity": 1,
        "weight": 4.5
       }
      }
     },
     "c891167fdf334c259c8138db257139ff": {
      "model_module": "@jupyter-widgets/controls",
      "model_module_version": "1.5.0",
      "model_name": "HBoxModel",
      "state": {
       "children": [
        "IPY_MODEL_a5fc7640c90544019d54b821ad96adf3",
        "IPY_MODEL_3e04bece3f5e43b9b0adad02529b2d92"
       ],
       "layout": "IPY_MODEL_d10902e3f91742d7a524053ba45803e5"
      }
     },
     "d10902e3f91742d7a524053ba45803e5": {
      "model_module": "@jupyter-widgets/base",
      "model_module_version": "1.2.0",
      "model_name": "LayoutModel",
      "state": {}
     },
     "d1cc1ae0598a47608b5f171f3bb388a1": {
      "model_module": "jupyter-leaflet",
      "model_module_version": "^0.11.1",
      "model_name": "LeafletGeoJSONModel",
      "state": {
       "_model_module_version": "^0.11.1",
       "_view_count": null,
       "_view_module_version": "^0.11.1",
       "data": {
        "geometry": {
         "coordinates": [
          [
           [
            152.415891,
            -24.982038
           ],
           [
            152.417695,
            -24.988962
           ],
           [
            152.421216,
            -24.988184
           ],
           [
            152.419155,
            -24.981104
           ],
           [
            152.415891,
            -24.982038
           ]
          ]
         ],
         "type": "Polygon"
        },
        "properties": {
         "style": {
          "clickable": true,
          "color": "#1f77b4",
          "fill": true,
          "fillColor": null,
          "fillOpacity": 0,
          "opacity": 1,
          "stroke": true,
          "weight": 4.5
         }
        },
        "type": "Feature"
       },
       "style": {
        "color": "#1f77b4",
        "fillOpacity": 0,
        "opacity": 1,
        "weight": 4.5
       }
      }
     },
     "e10800f88e594813aeea9ca728f19f79": {
      "model_module": "jupyter-leaflet",
      "model_module_version": "^0.11.1",
      "model_name": "LeafletGeoJSONModel",
      "state": {
       "_model_module_version": "^0.11.1",
       "_view_count": null,
       "_view_module_version": "^0.11.1",
       "data": {
        "geometry": {
         "coordinates": [
          [
           [
            152.395805,
            -24.995971
           ],
           [
            152.395805,
            -24.974997
           ],
           [
            152.429994,
            -24.974997
           ],
           [
            152.429994,
            -24.995971
           ],
           [
            152.395805,
            -24.995971
           ]
          ]
         ],
         "type": "Polygon"
        },
        "properties": {
         "style": {
          "clickable": true,
          "color": "red",
          "fill": true,
          "fillColor": false,
          "fillOpacity": 0,
          "opacity": 0.8,
          "showArea": true,
          "stroke": true,
          "weight": 4
         }
        },
        "type": "Feature"
       }
      }
     },
     "e37c1768abc948e186e50e53f313bbd1": {
      "model_module": "@jupyter-widgets/controls",
      "model_module_version": "1.5.0",
      "model_name": "DescriptionStyleModel",
      "state": {
       "description_width": ""
      }
     },
     "e3b495888aae44e992a3d58683a0af2b": {
      "model_module": "@jupyter-widgets/controls",
      "model_module_version": "1.5.0",
      "model_name": "HTMLModel",
      "state": {
       "layout": "IPY_MODEL_bf2bc190223b477dba00fad3d8bdde29",
       "style": "IPY_MODEL_e37c1768abc948e186e50e53f313bbd1"
      }
     },
     "e63168424c25408a989aa9eb73ad304b": {
      "model_module": "jupyter-leaflet",
      "model_module_version": "^0.11.1",
      "model_name": "LeafletMapStyleModel",
      "state": {
       "_model_module_version": "^0.11.1",
       "_view_count": null,
       "_view_module": "@jupyter-widgets/base",
       "_view_module_version": "1.2.0",
       "_view_name": "StyleView",
       "cursor": "grab"
      }
     },
     "ece1cf0939bc4a65ba4fe0ea0aba5252": {
      "model_module": "jupyter-leaflet",
      "model_module_version": "^0.11.1",
      "model_name": "LeafletTileLayerModel",
      "state": {
       "_model_module_version": "^0.11.1",
       "_view_count": null,
       "_view_module_version": "^0.11.1",
       "attribution": "Tiles &copy; Esri &mdash; Source: Esri, i-cubed, USDA, USGS, AEX, GeoEye, Getmapping, Aerogrid, IGN, IGP, UPR-EGP, and the GIS User Community",
       "base": true,
       "max_native_zoom": 18,
       "max_zoom": 20,
       "min_native_zoom": 0,
       "min_zoom": 1,
       "name": "Esri.WorldImagery",
       "no_wrap": false,
       "options": [
        "attribution",
        "detect_retina",
        "max_native_zoom",
        "max_zoom",
        "min_native_zoom",
        "min_zoom",
        "no_wrap",
        "tile_size"
       ],
       "url": "http://server.arcgisonline.com/ArcGIS/rest/services/World_Imagery/MapServer/tile/{z}/{y}/{x}"
      }
     }
    },
    "version_major": 2,
    "version_minor": 0
   }
  }
 },
 "nbformat": 4,
 "nbformat_minor": 4
}
