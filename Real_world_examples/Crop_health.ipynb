{
 "cells": [
  {
   "cell_type": "markdown",
   "metadata": {},
   "source": [
    "# Measuring crop health <img align=\"right\" src=\"../Supplementary_data/dea_logo.jpg\">\n",
    "\n",
    "* **Compatability:** Notebook currently compatible with both the `NCI` and `DEA Sandbox` environments\n",
    "* **Products used:** \n",
    "[s2a_nrt_granule](https://explorer.sandbox.dea.ga.gov.au/s2a_nrt_granule), \n",
    "[s2b_nrt_granule](https://explorer.sandbox.dea.ga.gov.au/s2b_nrt_granule)"
   ]
  },
  {
   "cell_type": "markdown",
   "metadata": {},
   "source": [
    "## Background\n",
    "During a normal year, sugar cane in Queensland typically flowers early May through June; July to November is typically cane harvesting season.\n",
    "\n",
    "While sugar is growing, fields may look visually similar, but health or growth rates from these fields can be quite different, leading to variability and unpredictability in revenue.\n",
    "Identifying underperforming crops can have two benefits:\n",
    "\n",
    "* Ability to scout for frost or disease damage.\n",
    "* Ability to investigate poor performing paddocks and undertake management action such as soil testing or targeted fertilising to improve yield.\n",
    "\n",
    "### Sentinel-2 use case\n",
    "Satellite imagery can be used to measure pasture health over time and identify any changes in growth patterns between otherwise similar paddocks.\n",
    "Sentinel-2's 10 metre resolution makes it ideal for understanding the health of paddocks.\n",
    "\n",
    "The normalised difference vegetation index (NDVI) describes the difference between visible and near-infrared reflectance of vegetation cover.\n",
    "This index estimates the density of green on an area of land and can be used to track the health and growth of sugar as it matures.\n",
    "Comparing the NDVI of two similar paddocks will help to identify any anomalies in growth patterns. \n",
    "\n",
    "## Description\n",
    "In this example, data from the European Sentinel-2 satellites is used to make a near real-time assessment of crop growing patterns, facillitating management decisions in the field. \n",
    "This data is made available through the Copernicus Regional Data Hub and Digital Earth Australia within 1-2 days of capture.\n",
    "The worked example below takes users through the code required to:\n",
    "\n",
    "1. Create a time series data cube over a farming property.\n",
    "2. Select multiple paddocks for comparison.\n",
    "3. Create graphs to identify crop performance trends over the previous month.\n",
    "4. Interpret the results.\n",
    "\n",
    "***"
   ]
  },
  {
   "cell_type": "markdown",
   "metadata": {},
   "source": [
    "## Getting started\n",
    "\n",
    "**To run this analysis**, run all the cells in the notebook, starting with the \"Load packages and apps\" cell."
   ]
  },
  {
   "cell_type": "markdown",
   "metadata": {},
   "source": [
    "### Load packages and apps\n",
    "\n",
    "This notebook works via two functions, which are referred to as apps: `load_crophealth_data` and `run_crophealth_app`.\n",
    "The apps allow the majority of the analysis code to be stored in another file, making the notebook easy to use and run.\n",
    "To view the code behind the apps, open the [notebookapp_crophealth.py](../Scripts/notebookapp_crophealth.py) file."
   ]
  },
  {
   "cell_type": "code",
   "execution_count": null,
   "metadata": {},
   "outputs": [],
   "source": [
    "%matplotlib inline\n",
    "\n",
    "import sys\n",
    "\n",
    "sys.path.append(\"../Scripts\")\n",
    "from notebookapp_crophealth import load_crophealth_data, run_crophealth_app"
   ]
  },
  {
   "cell_type": "markdown",
   "metadata": {},
   "source": [
    "## Load the data\n",
    "The `load_crophealth_data()` command performs several key steps:\n",
    "\n",
    "* identify all available Sentinel-2 near real time data in the case-study area over the last 90 days\n",
    "* remove any bad quality pixels\n",
    "* keep images where more than half of the image contains good quality pixels\n",
    "* collate images from Sentinel-2a and Sentinel-2b into a single data-set\n",
    "* calculate the NDVI from the red and near infrared bands\n",
    "* return the collated data for analysis\n",
    "\n",
    "The cleaned and collated data is stored in the `dataset_sentinel2` object.\n",
    "As the command runs, feedback will be provided below the cell, including information on the number of cleaned images loaded from each satellite."
   ]
  },
  {
   "cell_type": "code",
   "execution_count": null,
   "metadata": {},
   "outputs": [],
   "source": [
    "dataset_sentinel2 = load_crophealth_data()"
   ]
  },
  {
   "cell_type": "markdown",
   "metadata": {},
   "source": [
    "## Run the crop health app\n",
    "The `run_crophealth_app()` command launches an interactive map.\n",
    "Drawing polygons within the boundary (which represents the area covered by the loaded data) will result in plots of the average NDVI in that area.\n",
    "Draw polygons by clicking the &#11039; symbol in the app.\n",
    "\n",
    "The app works by taking the loaded data `dataset_sentinel2` as an argument.\n",
    "\n",
    "> **Note:** data points will only appear for images where more than 50% of the pixels were classified as good quality. This may cause trend lines on the average NDVI plot to appear disconnected. Available data points will be marked with the `*` symbol."
   ]
  },
  {
   "cell_type": "code",
   "execution_count": null,
   "metadata": {},
   "outputs": [],
   "source": [
    "run_crophealth_app(dataset_sentinel2)"
   ]
  },
  {
   "cell_type": "markdown",
   "metadata": {},
   "source": [
    "## Drawing conclusions\n",
    "\n",
    "Here are some questions to think about:\n",
    "\n",
    "* What are some factors that might explain differences between fields?\n",
    "* From the NDVI value, can you tell if the fields have been recently harvested?\n",
    "\n",
    "The data for this notebook is being continually updated, and outcomes will change depending on the time of year the notebook is run."
   ]
  },
  {
   "cell_type": "markdown",
   "metadata": {},
   "source": [
    "***\n",
    "\n",
    "## Additional information\n",
    "\n",
    "**License:** The code in this notebook is licensed under the [Apache License, Version 2.0](https://www.apache.org/licenses/LICENSE-2.0). \n",
    "Digital Earth Australia data is licensed under the [Creative Commons by Attribution 4.0](https://creativecommons.org/licenses/by/4.0/) license.\n",
    "\n",
    "**Contact:** If you need assistance, please post a question on the [Open Data Cube Slack channel](http://slack.opendatacube.org/) or on the [GIS Stack Exchange](https://gis.stackexchange.com/questions/ask?tags=open-data-cube) using the `open-data-cube` tag (you can view previously asked questions [here](https://gis.stackexchange.com/questions/tagged/open-data-cube)).\n",
    "If you would like to report an issue with this notebook, you can file one on [Github](https://github.com/GeoscienceAustralia/dea-notebooks).\n",
    "\n",
    "**Last modified:** January 2020\n",
    "\n",
    "**Compatible datacube version:**"
   ]
  },
  {
   "cell_type": "code",
   "execution_count": null,
   "metadata": {},
   "outputs": [],
   "source": [
    "import datacube\n",
    "print(datacube.__version__)"
   ]
  },
  {
   "cell_type": "markdown",
   "metadata": {},
   "source": [
    "## Tags\n",
    "Browse all available tags on the DEA User Guide's [Tags Index](https://docs.dea.ga.gov.au/genindex.html)"
   ]
  },
  {
   "cell_type": "raw",
   "metadata": {},
   "source": [
    "**Tags**: :index:`sandbox compatible`, :index:`NCI compatible`, :index:`sentinel 2`, :index:`NDVI`, :index:`real world`, :index:`agriculture`"
   ]
  }
 ],
 "metadata": {
  "kernelspec": {
   "display_name": "Python 3",
   "language": "python",
   "name": "python3"
  },
  "language_info": {
   "codemirror_mode": {
    "name": "ipython",
    "version": 3
   },
   "file_extension": ".py",
   "mimetype": "text/x-python",
   "name": "python",
   "nbconvert_exporter": "python",
   "pygments_lexer": "ipython3",
   "version": "3.6.8"
  },
  "widgets": {
   "application/vnd.jupyter.widget-state+json": {
    "state": {},
    "version_major": 2,
    "version_minor": 0
   }
  }
 },
 "nbformat": 4,
 "nbformat_minor": 4
}
