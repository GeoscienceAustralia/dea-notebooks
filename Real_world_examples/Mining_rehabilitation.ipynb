{
 "cells": [
  {
   "cell_type": "markdown",
   "metadata": {},
   "source": [
    "# Tracking rehabilitation of mines <img align=\"right\" src=\"../Supplementary_data/dea_logo.jpg\">\n",
    "\n",
    "* **Compatability:** Notebook currently compatible with both the `NCI` and `DEA Sandbox` environments\n",
    "* **Products used:** \n",
    "[ls8_fc_albers](https://explorer.sandbox.dea.ga.gov.au/ls8_fc_albers), \n",
    "[wofs_albers](https://explorer.sandbox.dea.ga.gov.au/wofs_albers)"
   ]
  },
  {
   "cell_type": "markdown",
   "metadata": {},
   "source": [
    "## Background\n",
    "Land rehabilitation is an important aspect of responsible mining.\n",
    "For example, The Department of Mines, Industry Regulation and Safety (DMIRS) maintain a Mining Rehabilitation Fund (MRF) that Western Australian mining operators contribute to.\n",
    "The fund is used to rehabilitate abandoned and legacy mines, and is underpinned by the Mining Rehabilitation Fund Act 2012.\n",
    "As part of the fund, tenement holders report ground disturbance, which can help DMIRS monitor how a mine's rehabilitation is going, as well as major disurbance events related to mining activity. \n",
    "\n",
    "At the moment, most mining organisations only review disturbance annually, often contracting out the service to third party surveying and ecological consulting agencies.\n",
    "While these providers generally provide excellent information, there are two main issues:\n",
    "\n",
    "*  Annual visits give a very coarse view of how the mine is changing in time.\n",
    "*  There is no way to validate or sanity check consultants reports without a site visit.\n",
    "\n",
    "### Digital Earth Australia use case\n",
    "Rehabilitation and land disturbance can be monitored through satellite data by tracking the amount of vegetation and bare ground on the site compared with surrounding areas.\n",
    "A decrease in bare ground and increase in vegetation can be linked to positive rehabilitation.\n",
    "A slow increase or sharp spike in the amount of bare ground over a mining site may indicate increased disturbance, which is against the trend expected during rehabilitation efforts.\n",
    "This tracking can be achieved using the Fractional Cover data product from the Joint Remote Sensing Research Program, which is provided through DEA.\n",
    "\n",
    "Fractional Cover is derived from Landsat data, which has a revisit time of around two weeks for Australia, providing regular insight to a given mine's rehabilitation.\n",
    "This would allow companies to identify any disturbance events early in the year and take corrective action before the yearly reporting.\n",
    "It would also allow DMIRS to keep detailed records of how the mines they monitor are changing in time.\n",
    "\n",
    "Fractional Cover can also be used to validate the field reporting from surveying and ecological consultants before submitting reports.\n",
    "While reports from field surveys will provide more detail than most Earth Observation data products, such products provide the ability to provide context and validation of reports.\n",
    "For example, if the survey detects a disturbance, it may be hard to detect a reason.\n",
    "Fractional Cover can be used to identify the point in time, and possibly the cause of each disturbance event.\n",
    "\n",
    "### Description\n",
    "In this example, the Landsat 8 Fractional Cover product is used to assess how land cover (specifically bare soil, green vegetation and non-green vegetation) is changing over time.\n",
    "\n",
    "The worked example below takes users through the code required to\n",
    "\n",
    "*  Create a time series data cube over a mine site.\n",
    "*  Create graphs to identify rehabilitation trends and disturbance events.\n",
    "*  Interpret the results.\n",
    "\n",
    "***"
   ]
  },
  {
   "cell_type": "markdown",
   "metadata": {},
   "source": [
    "## Getting started\n",
    "\n",
    "**To run this analysis**, run all the cells in the notebook, starting with the \"Load packages and apps\" cell."
   ]
  },
  {
   "cell_type": "markdown",
   "metadata": {},
   "source": [
    "### Load packages and apps\n",
    "\n",
    "This notebook works via two functions, which are referred to as apps: `load_miningrehab_data` and `run_miningrehab_app`.\n",
    "The apps allow the majority of the analysis code to be stored in another file, making the notebook easy to use and run.\n",
    "To view the code behind the apps, open the [notebookapp_miningrehab.py](../Scripts/notebookapp_miningrehab.py) file."
   ]
  },
  {
   "cell_type": "code",
   "execution_count": 1,
   "metadata": {},
   "outputs": [
    {
     "name": "stderr",
     "output_type": "stream",
     "text": [
      "/env/lib/python3.6/site-packages/datacube/storage/masking.py:4: DeprecationWarning: datacube.storage.masking has moved to datacube.utils.masking\n",
      "  category=DeprecationWarning)\n"
     ]
    }
   ],
   "source": [
    "%matplotlib inline\n",
    "\n",
    "import sys\n",
    "import datacube\n",
    "\n",
    "sys.path.append(\"../Scripts\")\n",
    "from notebookapp_miningrehab import load_miningrehab_data\n",
    "from notebookapp_miningrehab import run_miningrehab_app"
   ]
  },
  {
   "cell_type": "markdown",
   "metadata": {},
   "source": [
    "## Load the data\n",
    "The `load_miningrehab_data()` command performs several key steps:\n",
    "\n",
    "* Load Fractional Cover and Water Observations from Space (WOfS) data for the study area.\n",
    "* Match the datasets to only retain data with the same time stamps.\n",
    "* Mask areas that are classified as water using WOfS.\n",
    "* Resample the masked Fractional Cover to get monthly average values.\n",
    "* Return the masked data for analysis.\n",
    "\n",
    "The masked data is stored in the `dataset_fc` object.\n",
    "As the command runs, feedback will be provided below the cell.\n",
    "\n",
    "**Please be patient**.\n",
    "The load is complete when the cell status goes from `[*]` to `[number]`."
   ]
  },
  {
   "cell_type": "code",
   "execution_count": 2,
   "metadata": {},
   "outputs": [
    {
     "name": "stdout",
     "output_type": "stream",
     "text": [
      "Loading Fractional Cover for Landsat 8\n",
      "Loading WoFS for Landsat 8\n"
     ]
    }
   ],
   "source": [
    "dataset_fc = load_miningrehab_data()"
   ]
  },
  {
   "cell_type": "markdown",
   "metadata": {},
   "source": [
    "## Run the mining app\n",
    "The `run_mining_app()` command launches an interactive map.\n",
    "Drawing polygons within the boundary (which represents the area covered by the loaded data) will result in plots of the average bare, green and non-green cover in that area.Draw polygons by clicking the &#11039; symbol in the app.\n",
    "\n",
    "The app works by taking the loaded data `dataset_fc` as an argument. \n",
    "\n",
    "> **Note:** When drawing polygons, draw one over the mine and one over the forest nearby, then the fractional cover values can be compared on the produced plot."
   ]
  },
  {
   "cell_type": "code",
   "execution_count": 3,
   "metadata": {},
   "outputs": [
    {
     "data": {
      "application/vnd.jupyter.widget-view+json": {
       "model_id": "7b3c5e7289174426aa751c708bfc9588",
       "version_major": 2,
       "version_minor": 0
      },
      "text/plain": [
       "VBox(children=(Output(layout=Layout(border='1px solid black')), HBox(children=(Map(basemap={'url': 'http://ser…"
      ]
     },
     "metadata": {},
     "output_type": "display_data"
    }
   ],
   "source": [
    "run_miningrehab_app(dataset_fc)"
   ]
  },
  {
   "cell_type": "markdown",
   "metadata": {},
   "source": [
    "## Drawing conclusions\n",
    "\n",
    "Here are some questions to think about:\n",
    "\n",
    "* Rehabilitation can be indicated by either a decrease in bare cover, or an increase in either green or non-green cover. \n",
    "Can you find any evidence that rehabilitation is occurring?\n",
    "* What differences are there between polygons drawn over the mine site and those drawn over the forest? What similarities are there?"
   ]
  },
  {
   "cell_type": "markdown",
   "metadata": {},
   "source": [
    "***\n",
    "\n",
    "## Additional information\n",
    "\n",
    "**License:** The code in this notebook is licensed under the [Apache License, Version 2.0](https://www.apache.org/licenses/LICENSE-2.0). \n",
    "Digital Earth Australia data is licensed under the [Creative Commons by Attribution 4.0](https://creativecommons.org/licenses/by/4.0/) license.\n",
    "\n",
    "**Contact:** If you need assistance, please post a question on the [Open Data Cube Slack channel](http://slack.opendatacube.org/) or on the [GIS Stack Exchange](https://gis.stackexchange.com/questions/ask?tags=open-data-cube) using the `open-data-cube` tag (you can view previously asked questions [here](https://gis.stackexchange.com/questions/tagged/open-data-cube)).\n",
    "If you would like to report an issue with this notebook, you can file one on [Github](https://github.com/GeoscienceAustralia/dea-notebooks).\n",
    "\n",
    "**Last modified:** January 2020\n",
    "\n",
    "**Compatible datacube version:**"
   ]
  },
  {
   "cell_type": "code",
   "execution_count": 4,
   "metadata": {},
   "outputs": [
    {
     "name": "stdout",
     "output_type": "stream",
     "text": [
      "1.8.0b7.dev35+g5023dada\n"
     ]
    }
   ],
   "source": [
    "print(datacube.__version__)"
   ]
  },
  {
   "cell_type": "markdown",
   "metadata": {},
   "source": [
    "## Tags\n",
    "Browse all available tags on the DEA User Guide's [Tags Index](https://docs.dea.ga.gov.au/genindex.html)"
   ]
  },
  {
   "cell_type": "raw",
   "metadata": {
    "raw_mimetype": "text/restructuredtext"
   },
   "source": [
    "**Tags**: :index:`sandbox compatible`, :index:`NCI compatible`, :index:`landsat 8`, :index:`fractional cover`, :index:`WOfS`, :index:`real world`, :index:`mining`, :index:`time series`, :index:`interactive`, :index:`widgets`, :index:`no_testing`"
   ]
  }
 ],
 "metadata": {
  "kernelspec": {
   "display_name": "Python 3",
   "language": "python",
   "name": "python3"
  },
  "language_info": {
   "codemirror_mode": {
    "name": "ipython",
    "version": 3
   },
   "file_extension": ".py",
   "mimetype": "text/x-python",
   "name": "python",
   "nbconvert_exporter": "python",
   "pygments_lexer": "ipython3",
   "version": "3.6.9"
  },
  "widgets": {
   "application/vnd.jupyter.widget-state+json": {
    "state": {
     "093cc4427fee44dbbf6b3bf75608a027": {
      "model_module": "jupyter-leaflet",
      "model_module_version": "^0.11.1",
      "model_name": "LeafletMapModel",
      "state": {
       "_dom_classes": [],
       "_model_module_version": "^0.11.1",
       "_view_count": null,
       "_view_module_version": "^0.11.1",
       "basemap": {
        "attribution": "Tiles &copy; Esri &mdash; Source: Esri, i-cubed, USDA, USGS, AEX, GeoEye, Getmapping, Aerogrid, IGN, IGP, UPR-EGP, and the GIS User Community",
        "max_zoom": 20,
        "name": "Esri.WorldImagery",
        "url": "http://server.arcgisonline.com/ArcGIS/rest/services/World_Imagery/MapServer/tile/{z}/{y}/{x}"
       },
       "center": [
        -34.4305145,
        116.639427
       ],
       "controls": [
        "IPY_MODEL_f2a0e1a401d34d2fa803b3702e12308a",
        "IPY_MODEL_0b54ca4e8cfd465e9ca835cc94fde000",
        "IPY_MODEL_eaf5df8759294d99a4e1a454a4355811"
       ],
       "default_style": "IPY_MODEL_d235dfb7b58b4523a6de21b4d175ffa5",
       "dragging_style": "IPY_MODEL_6016810b831249e4833735a00f022821",
       "east": 116.6486692428589,
       "fullscreen": false,
       "interpolation": "bilinear",
       "layers": [
        "IPY_MODEL_c8062d5751be4f1fa02dd90f0105ab23",
        "IPY_MODEL_147882ef06494579ac96894897e179a5",
        "IPY_MODEL_132f3044858c44388433d9052c96e629",
        "IPY_MODEL_a761a52611944319bb3b1dc56cc9c148"
       ],
       "layout": "IPY_MODEL_6b1c8ce0a06546628a63cb24be95066a",
       "modisdate": "yesterday",
       "north": -34.41990305500894,
       "options": [
        "basemap",
        "bounce_at_zoom_limits",
        "box_zoom",
        "center",
        "close_popup_on_click",
        "double_click_zoom",
        "dragging",
        "fullscreen",
        "inertia",
        "inertia_deceleration",
        "inertia_max_speed",
        "interpolation",
        "keyboard",
        "keyboard_pan_offset",
        "keyboard_zoom_offset",
        "max_zoom",
        "min_zoom",
        "scroll_wheel_zoom",
        "tap",
        "tap_tolerance",
        "touch_zoom",
        "world_copy_jump",
        "zoom",
        "zoom_animation_threshold",
        "zoom_start"
       ],
       "south": -34.44114132003539,
       "style": "IPY_MODEL_6d5d0be759e9491eb1d13d82c3c476a7",
       "west": 116.6301727294922,
       "zoom": 15
      }
     },
     "0b54ca4e8cfd465e9ca835cc94fde000": {
      "model_module": "jupyter-leaflet",
      "model_module_version": "^0.11.1",
      "model_name": "LeafletAttributionControlModel",
      "state": {
       "_model_module_version": "^0.11.1",
       "_view_count": null,
       "_view_module_version": "^0.11.1",
       "options": [
        "position",
        "prefix"
       ],
       "position": "bottomright",
       "prefix": "Leaflet"
      }
     },
     "132f3044858c44388433d9052c96e629": {
      "model_module": "jupyter-leaflet",
      "model_module_version": "^0.11.1",
      "model_name": "LeafletGeoJSONModel",
      "state": {
       "_model_module_version": "^0.11.1",
       "_view_count": null,
       "_view_module_version": "^0.11.1",
       "data": {
        "geometry": {
         "coordinates": [
          [
           [
            116.637252,
            -34.428908
           ],
           [
            116.637124,
            -34.429828
           ],
           [
            116.637982,
            -34.430076
           ],
           [
            116.638196,
            -34.432129
           ],
           [
            116.641457,
            -34.431102
           ],
           [
            116.641757,
            -34.429226
           ],
           [
            116.637252,
            -34.428908
           ]
          ]
         ],
         "type": "Polygon"
        },
        "properties": {
         "style": {
          "clickable": true,
          "color": "#1f77b4",
          "fill": true,
          "fillColor": null,
          "fillOpacity": 0,
          "opacity": 1,
          "stroke": true,
          "weight": 4.5
         }
        },
        "type": "Feature"
       },
       "style": {
        "color": "#1f77b4",
        "fillOpacity": 0,
        "opacity": 1,
        "weight": 4.5
       }
      }
     },
     "147882ef06494579ac96894897e179a5": {
      "model_module": "jupyter-leaflet",
      "model_module_version": "^0.11.1",
      "model_name": "LeafletGeoJSONModel",
      "state": {
       "_model_module_version": "^0.11.1",
       "_view_count": null,
       "_view_module_version": "^0.11.1",
       "data": {
        "geometry": {
         "coordinates": [
          [
           [
            116.630731,
            -34.434517
           ],
           [
            116.630731,
            -34.426512
           ],
           [
            116.648123,
            -34.426512
           ],
           [
            116.648123,
            -34.434517
           ],
           [
            116.630731,
            -34.434517
           ]
          ]
         ],
         "type": "Polygon"
        },
        "properties": {
         "style": {
          "clickable": true,
          "color": "red",
          "fill": true,
          "fillColor": false,
          "fillOpacity": 0,
          "opacity": 0.8,
          "showArea": true,
          "stroke": true,
          "weight": 4
         }
        },
        "type": "Feature"
       }
      }
     },
     "30e3d10cd21941a790c689b9b2849228": {
      "model_module": "@jupyter-widgets/base",
      "model_module_version": "1.2.0",
      "model_name": "LayoutModel",
      "state": {
       "width": "50%"
      }
     },
     "34e80edaf9a74d56bf74b9180fa9b5b3": {
      "model_module": "@jupyter-widgets/output",
      "model_module_version": "1.0.0",
      "model_name": "OutputModel",
      "state": {
       "layout": "IPY_MODEL_30e3d10cd21941a790c689b9b2849228",
       "outputs": [
        {
         "data": {
          "image/png": "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\n",
          "text/plain": "<Figure size 648x648 with 3 Axes>"
         },
         "metadata": {},
         "output_type": "display_data"
        }
       ]
      }
     },
     "41906003b591499fb735eea3d060b0fc": {
      "model_module": "@jupyter-widgets/output",
      "model_module_version": "1.0.0",
      "model_name": "OutputModel",
      "state": {
       "layout": "IPY_MODEL_d56f00fc57c04fc9bc43de41e34a08bf",
       "outputs": [
        {
         "name": "stdout",
         "output_type": "stream",
         "text": "Draw a polygon within the red box to view plots of the fractional cover values of bare, green and non-green cover for the area over time.\n"
        }
       ]
      }
     },
     "5951bbb545d34b6081c903f840f34f47": {
      "model_module": "@jupyter-widgets/controls",
      "model_module_version": "1.5.0",
      "model_name": "HTMLModel",
      "state": {
       "layout": "IPY_MODEL_ae6855fe97c8483fa39d6d26df508d34",
       "style": "IPY_MODEL_edc93f597aac4236b64a6ccb9505aa9e"
      }
     },
     "5e46aa1f67e847ac86558c27888a924e": {
      "model_module": "@jupyter-widgets/base",
      "model_module_version": "1.2.0",
      "model_name": "LayoutModel",
      "state": {}
     },
     "6016810b831249e4833735a00f022821": {
      "model_module": "jupyter-leaflet",
      "model_module_version": "^0.11.1",
      "model_name": "LeafletMapStyleModel",
      "state": {
       "_model_module_version": "^0.11.1",
       "_view_count": null,
       "_view_module": "@jupyter-widgets/base",
       "_view_module_version": "1.2.0",
       "_view_name": "StyleView",
       "cursor": "move"
      }
     },
     "626e4b9bd7a84a0ebe6d93bf739875de": {
      "model_module": "@jupyter-widgets/output",
      "model_module_version": "1.0.0",
      "model_name": "OutputModel",
      "state": {
       "layout": "IPY_MODEL_b62ffa443be84ca296d113c4719a625b",
       "outputs": [
        {
         "name": "stdout",
         "output_type": "stream",
         "text": "Plot status: polygon added to plot\n"
        }
       ]
      }
     },
     "6813fd4283eb4276882f307bbc5db367": {
      "model_module": "@jupyter-widgets/controls",
      "model_module_version": "1.5.0",
      "model_name": "HBoxModel",
      "state": {
       "children": [
        "IPY_MODEL_093cc4427fee44dbbf6b3bf75608a027",
        "IPY_MODEL_34e80edaf9a74d56bf74b9180fa9b5b3"
       ],
       "layout": "IPY_MODEL_5e46aa1f67e847ac86558c27888a924e"
      }
     },
     "6b1c8ce0a06546628a63cb24be95066a": {
      "model_module": "@jupyter-widgets/base",
      "model_module_version": "1.2.0",
      "model_name": "LayoutModel",
      "state": {
       "height": "600px",
       "width": "480px"
      }
     },
     "6d5d0be759e9491eb1d13d82c3c476a7": {
      "model_module": "jupyter-leaflet",
      "model_module_version": "^0.11.1",
      "model_name": "LeafletMapStyleModel",
      "state": {
       "_model_module_version": "^0.11.1",
       "_view_count": null,
       "_view_module": "@jupyter-widgets/base",
       "_view_module_version": "1.2.0",
       "_view_name": "StyleView",
       "cursor": "grab"
      }
     },
     "75139eb90fdb495eac781f978c8ada35": {
      "model_module": "@jupyter-widgets/base",
      "model_module_version": "1.2.0",
      "model_name": "LayoutModel",
      "state": {}
     },
     "a3af827c5b1d435f82be999a33619e12": {
      "model_module": "@jupyter-widgets/controls",
      "model_module_version": "1.5.0",
      "model_name": "VBoxModel",
      "state": {
       "children": [
        "IPY_MODEL_41906003b591499fb735eea3d060b0fc",
        "IPY_MODEL_6813fd4283eb4276882f307bbc5db367",
        "IPY_MODEL_626e4b9bd7a84a0ebe6d93bf739875de"
       ],
       "layout": "IPY_MODEL_75139eb90fdb495eac781f978c8ada35"
      }
     },
     "a761a52611944319bb3b1dc56cc9c148": {
      "model_module": "jupyter-leaflet",
      "model_module_version": "^0.11.1",
      "model_name": "LeafletGeoJSONModel",
      "state": {
       "_model_module_version": "^0.11.1",
       "_view_count": null,
       "_view_module_version": "^0.11.1",
       "data": {
        "geometry": {
         "coordinates": [
          [
           [
            116.63146,
            -34.427492
           ],
           [
            116.634335,
            -34.427563
           ],
           [
            116.634378,
            -34.430395
           ],
           [
            116.63146,
            -34.430501
           ],
           [
            116.63146,
            -34.427492
           ]
          ]
         ],
         "type": "Polygon"
        },
        "properties": {
         "style": {
          "clickable": true,
          "color": "#ff7f0e",
          "fill": true,
          "fillColor": null,
          "fillOpacity": 0,
          "opacity": 1,
          "stroke": true,
          "weight": 4.5
         }
        },
        "type": "Feature"
       },
       "style": {
        "color": "#ff7f0e",
        "fillOpacity": 0,
        "opacity": 1,
        "weight": 4.5
       }
      }
     },
     "ae6855fe97c8483fa39d6d26df508d34": {
      "model_module": "@jupyter-widgets/base",
      "model_module_version": "1.2.0",
      "model_name": "LayoutModel",
      "state": {}
     },
     "b62ffa443be84ca296d113c4719a625b": {
      "model_module": "@jupyter-widgets/base",
      "model_module_version": "1.2.0",
      "model_name": "LayoutModel",
      "state": {
       "border": "1px solid black"
      }
     },
     "c8062d5751be4f1fa02dd90f0105ab23": {
      "model_module": "jupyter-leaflet",
      "model_module_version": "^0.11.1",
      "model_name": "LeafletTileLayerModel",
      "state": {
       "_model_module_version": "^0.11.1",
       "_view_count": null,
       "_view_module_version": "^0.11.1",
       "attribution": "Tiles &copy; Esri &mdash; Source: Esri, i-cubed, USDA, USGS, AEX, GeoEye, Getmapping, Aerogrid, IGN, IGP, UPR-EGP, and the GIS User Community",
       "base": true,
       "max_native_zoom": 18,
       "max_zoom": 20,
       "min_native_zoom": 0,
       "min_zoom": 1,
       "name": "Esri.WorldImagery",
       "no_wrap": false,
       "options": [
        "attribution",
        "detect_retina",
        "max_native_zoom",
        "max_zoom",
        "min_native_zoom",
        "min_zoom",
        "no_wrap",
        "tile_size"
       ],
       "url": "http://server.arcgisonline.com/ArcGIS/rest/services/World_Imagery/MapServer/tile/{z}/{y}/{x}"
      }
     },
     "d235dfb7b58b4523a6de21b4d175ffa5": {
      "model_module": "jupyter-leaflet",
      "model_module_version": "^0.11.1",
      "model_name": "LeafletMapStyleModel",
      "state": {
       "_model_module_version": "^0.11.1",
       "_view_count": null,
       "_view_module": "@jupyter-widgets/base",
       "_view_module_version": "1.2.0",
       "_view_name": "StyleView",
       "cursor": "grab"
      }
     },
     "d56f00fc57c04fc9bc43de41e34a08bf": {
      "model_module": "@jupyter-widgets/base",
      "model_module_version": "1.2.0",
      "model_name": "LayoutModel",
      "state": {
       "border": "1px solid black"
      }
     },
     "eaf5df8759294d99a4e1a454a4355811": {
      "model_module": "jupyter-leaflet",
      "model_module_version": "^0.11.1",
      "model_name": "LeafletDrawControlModel",
      "state": {
       "_model_module_version": "^0.11.1",
       "_view_count": null,
       "_view_module_version": "^0.11.1",
       "options": [
        "position"
       ],
       "polygon": {
        "shapeOptions": {
         "fillOpacity": 0
        }
       },
       "polyline": {}
      }
     },
     "edc93f597aac4236b64a6ccb9505aa9e": {
      "model_module": "@jupyter-widgets/controls",
      "model_module_version": "1.5.0",
      "model_name": "DescriptionStyleModel",
      "state": {
       "description_width": ""
      }
     },
     "f2a0e1a401d34d2fa803b3702e12308a": {
      "model_module": "jupyter-leaflet",
      "model_module_version": "^0.11.1",
      "model_name": "LeafletZoomControlModel",
      "state": {
       "_model_module_version": "^0.11.1",
       "_view_count": null,
       "_view_module_version": "^0.11.1",
       "options": [
        "position",
        "zoom_in_text",
        "zoom_in_title",
        "zoom_out_text",
        "zoom_out_title"
       ]
      }
     }
    },
    "version_major": 2,
    "version_minor": 0
   }
  }
 },
 "nbformat": 4,
 "nbformat_minor": 4
}
