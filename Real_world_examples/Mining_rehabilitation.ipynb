{
 "cells": [
  {
   "cell_type": "markdown",
   "metadata": {},
   "source": [
    "# Tracking rehabilitation of mines <img align=\"right\" src=\"../Supplementary_data/dea_logo.jpg\">\n",
    "\n",
    "* [**Sign up to the DEA Sandbox**](https://docs.dea.ga.gov.au/setup/sandbox.html) to run this notebook interactively from a browser\n",
    "* **Compatibility:** Notebook currently compatible with both the `NCI` and `DEA Sandbox` environments\n",
    "* **Products used:** \n",
    "[ga_ls_fc_3](https://explorer.sandbox.dea.ga.gov.au/ga_ls_fc_3), \n",
    "[ga_ls_wo_3](https://explorer.sandbox.dea.ga.gov.au/ga_ls_wo_3)"
   ]
  },
  {
   "cell_type": "markdown",
   "metadata": {},
   "source": [
    "## Background\n",
    "Land rehabilitation is an important aspect of responsible mining.\n",
    "For example, The Department of Mines, Industry Regulation and Safety (DMIRS) maintain a Mining Rehabilitation Fund (MRF) that Western Australian mining operators contribute to.\n",
    "The fund is used to rehabilitate abandoned and legacy mines, and is underpinned by the Mining Rehabilitation Fund Act 2012.\n",
    "As part of the fund, tenement holders report ground disturbance, which can help DMIRS monitor how a mine's rehabilitation is going, as well as major disurbance events related to mining activity. \n",
    "\n",
    "At the moment, most mining organisations only review disturbance annually, often contracting out the service to third party surveying and ecological consulting agencies.\n",
    "While these providers generally provide excellent information, there are two main issues:\n",
    "\n",
    "*  Annual visits give a very coarse view of how the mine is changing in time.\n",
    "*  There is no way to validate or sanity check consultants reports without a site visit.\n",
    "\n",
    "### Digital Earth Australia use case\n",
    "Rehabilitation and land disturbance can be monitored through satellite data by tracking the amount of vegetation and bare ground on the site compared with surrounding areas.\n",
    "A decrease in bare ground and increase in vegetation can be linked to positive rehabilitation.\n",
    "A slow increase or sharp spike in the amount of bare ground over a mining site may indicate increased disturbance, which is against the trend expected during rehabilitation efforts.\n",
    "This tracking can be achieved using the Fractional Cover data product from the Joint Remote Sensing Research Program, which is provided through DEA.\n",
    "\n",
    "Fractional Cover is derived from Landsat data, which has a revisit time of around two weeks for Australia, providing regular insight to a given mine's rehabilitation.\n",
    "This would allow companies to identify any disturbance events early in the year and take corrective action before the yearly reporting.\n",
    "It would also allow DMIRS to keep detailed records of how the mines they monitor are changing in time.\n",
    "\n",
    "Fractional Cover can also be used to validate the field reporting from surveying and ecological consultants before submitting reports.\n",
    "While reports from field surveys will provide more detail than most Earth Observation data products, such products provide the ability to provide context and validation of reports.\n",
    "For example, if the survey detects a disturbance, it may be hard to detect a reason.\n",
    "Fractional Cover can be used to identify the point in time, and possibly the cause of each disturbance event.\n",
    "\n",
    "### Description\n",
    "In this example, the [DEA Fractional Cover](../DEA_datasets/DEA_Fractional_Cover.ipynb) product is used to assess how land cover (specifically bare soil, green vegetation and non-green vegetation) is changing over time.\n",
    "\n",
    "The worked example below takes users through the code required to\n",
    "\n",
    "*  Create a time series data cube over a mine site.\n",
    "*  Create graphs to identify rehabilitation trends and disturbance events.\n",
    "*  Interpret the results.\n",
    "\n",
    "***"
   ]
  },
  {
   "cell_type": "markdown",
   "metadata": {},
   "source": [
    "## Getting started\n",
    "\n",
    "**To run this analysis**, run all the cells in the notebook, starting with the \"Load packages and apps\" cell."
   ]
  },
  {
   "cell_type": "markdown",
   "metadata": {},
   "source": [
    "### Load packages and apps\n",
    "\n",
    "This notebook works via two functions, which are referred to as apps: `load_miningrehab_data` and `run_miningrehab_app`.\n",
    "The apps allow the majority of the analysis code to be stored in another file, making the notebook easy to use and run.\n",
    "To view the code behind the apps, open the [notebookapp_miningrehab.py](../Scripts/notebookapp_miningrehab.py) file."
   ]
  },
  {
   "cell_type": "code",
   "execution_count": 1,
   "metadata": {},
   "outputs": [
    {
     "name": "stderr",
     "output_type": "stream",
     "text": [
      "/env/lib/python3.8/site-packages/geopandas/_compat.py:106: UserWarning: The Shapely GEOS version (3.8.0-CAPI-1.13.1 ) is incompatible with the GEOS version PyGEOS was compiled with (3.9.1-CAPI-1.14.2). Conversions between both will be slow.\n",
      "  warnings.warn(\n"
     ]
    }
   ],
   "source": [
    "%matplotlib inline\n",
    "\n",
    "import datacube\n",
    "\n",
    "import sys\n",
    "sys.path.insert(1, \"../Supplementary_data\")\n",
    "from notebookapp_miningrehab import load_miningrehab_data\n",
    "from notebookapp_miningrehab import run_miningrehab_app"
   ]
  },
  {
   "cell_type": "markdown",
   "metadata": {},
   "source": [
    "## Load the data\n",
    "The `load_miningrehab_data()` command performs several key steps:\n",
    "\n",
    "* Load [DEA Fractional Cover (FC)](../DEA_datasets/DEA_Fractional_Cover.ipynb) and [DEA Water Observations (WO)](../DEA_datasets/DEA_Water_Observations.ipynb) data for the study area.\n",
    "* Match the datasets to only retain data with the same time stamps.\n",
    "* Mask areas that are classified as water using WOs.\n",
    "* Resample the masked FC to get monthly average values.\n",
    "* Return the masked data for analysis.\n",
    "\n",
    "The masked data is stored in the `dataset_fc` object.\n",
    "As the command runs, feedback will be provided below the cell.\n",
    "\n",
    "**Please be patient**.\n",
    "The load is complete when the cell status goes from `[*]` to `[number]`."
   ]
  },
  {
   "cell_type": "code",
   "execution_count": 2,
   "metadata": {},
   "outputs": [
    {
     "name": "stdout",
     "output_type": "stream",
     "text": [
      "Loading DEA Fractional Cover\n",
      "Loading DEA Water Observations\n"
     ]
    }
   ],
   "source": [
    "dataset_fc = load_miningrehab_data()"
   ]
  },
  {
   "cell_type": "markdown",
   "metadata": {},
   "source": [
    "## Run the mining app\n",
    "The `run_mining_app()` command launches an interactive map.\n",
    "Drawing polygons within the boundary (which represents the area covered by the loaded data) will result in plots of the average bare, green and non-green cover in that area. Draw polygons by clicking the &#11039; symbol in the app.\n",
    "\n",
    "The app works by taking the loaded data `dataset_fc` as an argument. \n",
    "\n",
    "> **Note:** When drawing polygons, draw one over the mine and one over the forest nearby, then the fractional cover values can be compared on the produced plot."
   ]
  },
  {
   "cell_type": "code",
   "execution_count": 3,
   "metadata": {},
   "outputs": [
    {
     "data": {
      "application/vnd.jupyter.widget-view+json": {
       "model_id": "21e21a133f504aed855e029782104a3f",
       "version_major": 2,
       "version_minor": 0
      },
      "text/plain": [
       "VBox(children=(Output(layout=Layout(border='1px solid black')), HBox(children=(Map(center=[-34.4305145, 116.63…"
      ]
     },
     "metadata": {},
     "output_type": "display_data"
    }
   ],
   "source": [
    "run_miningrehab_app(dataset_fc)"
   ]
  },
  {
   "cell_type": "markdown",
   "metadata": {},
   "source": [
    "## Drawing conclusions\n",
    "\n",
    "Here are some questions to think about:\n",
    "\n",
    "* Rehabilitation can be indicated by either a decrease in bare cover, or an increase in either green or non-green cover. \n",
    "Can you find any evidence that rehabilitation is occurring?\n",
    "* What differences are there between polygons drawn over the mine site and those drawn over the forest? What similarities are there?"
   ]
  },
  {
   "cell_type": "markdown",
   "metadata": {},
   "source": [
    "***\n",
    "\n",
    "## Additional information\n",
    "\n",
    "**License:** The code in this notebook is licensed under the [Apache License, Version 2.0](https://www.apache.org/licenses/LICENSE-2.0). \n",
    "Digital Earth Australia data is licensed under the [Creative Commons by Attribution 4.0](https://creativecommons.org/licenses/by/4.0/) license.\n",
    "\n",
    "**Contact:** If you need assistance, please post a question on the [Open Data Cube Slack channel](http://slack.opendatacube.org/) or on the [GIS Stack Exchange](https://gis.stackexchange.com/questions/ask?tags=open-data-cube) using the `open-data-cube` tag (you can view previously asked questions [here](https://gis.stackexchange.com/questions/tagged/open-data-cube)).\n",
    "If you would like to report an issue with this notebook, you can file one on [Github](https://github.com/GeoscienceAustralia/dea-notebooks).\n",
    "\n",
    "**Last modified:** September 2021\n",
    "\n",
    "**Compatible datacube version:**"
   ]
  },
  {
   "cell_type": "code",
   "execution_count": 4,
   "metadata": {},
   "outputs": [
    {
     "name": "stdout",
     "output_type": "stream",
     "text": [
      "1.8.5\n"
     ]
    }
   ],
   "source": [
    "print(datacube.__version__)"
   ]
  },
  {
   "cell_type": "markdown",
   "metadata": {},
   "source": [
    "## Tags\n",
    "Browse all available tags on the DEA User Guide's [Tags Index](https://docs.dea.ga.gov.au/genindex.html)"
   ]
  },
  {
   "cell_type": "raw",
   "metadata": {
    "raw_mimetype": "text/restructuredtext"
   },
   "source": [
    "**Tags**: :index:`sandbox compatible`, :index:`NCI compatible`, :index:``, :index:`fractional cover`, :index:`water observations`, :index:`real world`, :index:`mining`, :index:`time series`, :index:`interactive`, :index:`widgets`, :index:`no_testing`"
   ]
  }
 ],
 "metadata": {
  "kernelspec": {
   "display_name": "Python 3",
   "language": "python",
   "name": "python3"
  },
  "language_info": {
   "codemirror_mode": {
    "name": "ipython",
    "version": 3
   },
   "file_extension": ".py",
   "mimetype": "text/x-python",
   "name": "python",
   "nbconvert_exporter": "python",
   "pygments_lexer": "ipython3",
   "version": "3.8.10"
  },
  "widgets": {
   "application/vnd.jupyter.widget-state+json": {
    "state": {
     "056fd1deb84542bfb8c20ce308f11d12": {
      "model_module": "@jupyter-widgets/controls",
      "model_module_version": "1.5.0",
      "model_name": "DescriptionStyleModel",
      "state": {
       "description_width": ""
      }
     },
     "08ba92db72284b4c9159c5dcd6d2d763": {
      "model_module": "@jupyter-widgets/base",
      "model_module_version": "1.2.0",
      "model_name": "LayoutModel",
      "state": {}
     },
     "2b259066688d43c4a6e237d87699913a": {
      "model_module": "jupyter-leaflet",
      "model_module_version": "^0.13.0",
      "model_name": "LeafletZoomControlModel",
      "state": {
       "_model_module_version": "^0.13.0",
       "_view_module_version": "^0.13.0",
       "options": [
        "position",
        "zoom_in_text",
        "zoom_in_title",
        "zoom_out_text",
        "zoom_out_title"
       ]
      }
     },
     "2e790d3aaf9a4e59926d2afd52c97a22": {
      "model_module": "@jupyter-widgets/output",
      "model_module_version": "1.0.0",
      "model_name": "OutputModel",
      "state": {
       "layout": "IPY_MODEL_3a6e479cdec0463f85326ab4a16a9e1c",
       "outputs": [
        {
         "name": "stdout",
         "output_type": "stream",
         "text": "Draw a polygon within the red box to view plots of the fractional cover values of bare, green and non-green cover for the area over time.\n"
        }
       ]
      }
     },
     "3148e092bec24a3480e2ed9593b55545": {
      "model_module": "@jupyter-widgets/base",
      "model_module_version": "1.2.0",
      "model_name": "LayoutModel",
      "state": {
       "height": "600px",
       "width": "480px"
      }
     },
     "34f4a7d6716b4578aa76e5c6f7588aaa": {
      "model_module": "@jupyter-widgets/output",
      "model_module_version": "1.0.0",
      "model_name": "OutputModel",
      "state": {
       "layout": "IPY_MODEL_40732ea6ce6b4d3f8d4742dc28b6e17c",
       "outputs": [
        {
         "data": {
          "image/png": "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\n",
          "text/plain": "<Figure size 648x648 with 3 Axes>"
         },
         "metadata": {},
         "output_type": "display_data"
        }
       ]
      }
     },
     "3a6e479cdec0463f85326ab4a16a9e1c": {
      "model_module": "@jupyter-widgets/base",
      "model_module_version": "1.2.0",
      "model_name": "LayoutModel",
      "state": {
       "border": "1px solid black"
      }
     },
     "40732ea6ce6b4d3f8d4742dc28b6e17c": {
      "model_module": "@jupyter-widgets/base",
      "model_module_version": "1.2.0",
      "model_name": "LayoutModel",
      "state": {
       "width": "50%"
      }
     },
     "4fa1a09d029e4f95ab601028fc3cfeca": {
      "model_module": "jupyter-leaflet",
      "model_module_version": "^0.13.0",
      "model_name": "LeafletTileLayerModel",
      "state": {
       "_model_module_version": "^0.13.0",
       "_view_module_version": "^0.13.0",
       "attribution": "Tiles &copy; Esri &mdash; Source: Esri, i-cubed, USDA, USGS, AEX, GeoEye, Getmapping, Aerogrid, IGN, IGP, UPR-EGP, and the GIS User Community",
       "base": true,
       "max_native_zoom": 18,
       "max_zoom": 20,
       "min_native_zoom": 0,
       "min_zoom": 1,
       "name": "Esri.WorldImagery",
       "options": [
        "attribution",
        "detect_retina",
        "max_native_zoom",
        "max_zoom",
        "min_native_zoom",
        "min_zoom",
        "no_wrap",
        "tile_size",
        "tms"
       ],
       "url": "http://server.arcgisonline.com/ArcGIS/rest/services/World_Imagery/MapServer/tile/{z}/{y}/{x}"
      }
     },
     "53087943d054493382e7003baca44083": {
      "model_module": "jupyter-leaflet",
      "model_module_version": "^0.13.0",
      "model_name": "LeafletGeoJSONModel",
      "state": {
       "_model_module": "jupyter-leaflet",
       "_model_module_version": "^0.13.0",
       "_view_count": null,
       "_view_module": "jupyter-leaflet",
       "_view_module_version": "^0.13.0",
       "base": false,
       "bottom": false,
       "data": {
        "geometry": {
         "coordinates": [
          [
           [
            116.630731,
            -34.434517
           ],
           [
            116.630731,
            -34.426512
           ],
           [
            116.648123,
            -34.426512
           ],
           [
            116.648123,
            -34.434517
           ],
           [
            116.630731,
            -34.434517
           ]
          ]
         ],
         "type": "Polygon"
        },
        "properties": {
         "style": {
          "clickable": true,
          "color": "red",
          "fill": true,
          "fillColor": false,
          "fillOpacity": 0,
          "opacity": 0.8,
          "showArea": true,
          "stroke": true,
          "weight": 4
         }
        },
        "type": "Feature"
       },
       "name": "",
       "options": [],
       "popup": null,
       "popup_max_height": null,
       "popup_max_width": 300,
       "popup_min_width": 50
      }
     },
     "542db33e987844dea61a1fd7a1ea967f": {
      "model_module": "jupyter-leaflet",
      "model_module_version": "^0.13.0",
      "model_name": "LeafletDrawControlModel",
      "state": {
       "_model_module_version": "^0.13.0",
       "_view_module_version": "^0.13.0",
       "options": [
        "position"
       ],
       "polygon": {
        "shapeOptions": {
         "fillOpacity": 0
        }
       },
       "polyline": {}
      }
     },
     "7a81d0f69f044b0487825e4e9c966e90": {
      "model_module": "jupyter-leaflet",
      "model_module_version": "^0.13.0",
      "model_name": "LeafletGeoJSONModel",
      "state": {
       "_model_module": "jupyter-leaflet",
       "_model_module_version": "^0.13.0",
       "_view_count": null,
       "_view_module": "jupyter-leaflet",
       "_view_module_version": "^0.13.0",
       "base": false,
       "bottom": false,
       "data": {
        "geometry": {
         "coordinates": [
          [
           [
            116.631766,
            -34.433997
           ],
           [
            116.634987,
            -34.43382
           ],
           [
            116.634342,
            -34.431626
           ],
           [
            116.632453,
            -34.431732
           ],
           [
            116.631766,
            -34.432581
           ],
           [
            116.631766,
            -34.433997
           ]
          ]
         ],
         "type": "Polygon"
        },
        "properties": {
         "style": {
          "clickable": true,
          "color": "#ff7f0e",
          "fill": true,
          "fillColor": null,
          "fillOpacity": 0,
          "opacity": 1,
          "stroke": true,
          "weight": 4.5
         }
        },
        "type": "Feature"
       },
       "name": "",
       "options": [],
       "popup": null,
       "popup_max_height": null,
       "popup_max_width": 300,
       "popup_min_width": 50,
       "style": {
        "color": "#ff7f0e",
        "fillOpacity": 0,
        "opacity": 1,
        "weight": 4.5
       }
      }
     },
     "816d7c36f17147bcbf109e856866bb71": {
      "model_module": "jupyter-leaflet",
      "model_module_version": "^0.13.0",
      "model_name": "LeafletGeoJSONModel",
      "state": {
       "_model_module": "jupyter-leaflet",
       "_model_module_version": "^0.13.0",
       "_view_count": null,
       "_view_module": "jupyter-leaflet",
       "_view_module_version": "^0.13.0",
       "base": false,
       "bottom": false,
       "data": {
        "geometry": {
         "coordinates": [
          [
           [
            116.639324,
            -34.431767
           ],
           [
            116.640913,
            -34.430599
           ],
           [
            116.640699,
            -34.429573
           ],
           [
            116.639367,
            -34.429502
           ],
           [
            116.638594,
            -34.430281
           ],
           [
            116.638422,
            -34.431059
           ],
           [
            116.639324,
            -34.431767
           ]
          ]
         ],
         "type": "Polygon"
        },
        "properties": {
         "style": {
          "clickable": true,
          "color": "#1f77b4",
          "fill": true,
          "fillColor": null,
          "fillOpacity": 0,
          "opacity": 1,
          "stroke": true,
          "weight": 4.5
         }
        },
        "type": "Feature"
       },
       "name": "",
       "options": [],
       "popup": null,
       "popup_max_height": null,
       "popup_max_width": 300,
       "popup_min_width": 50,
       "style": {
        "color": "#1f77b4",
        "fillOpacity": 0,
        "opacity": 1,
        "weight": 4.5
       }
      }
     },
     "8d94be797bad49ce90f0ff3089d92a02": {
      "model_module": "@jupyter-widgets/controls",
      "model_module_version": "1.5.0",
      "model_name": "HBoxModel",
      "state": {
       "children": [
        "IPY_MODEL_9b772a2728aa4ac88d67aa3ef16b0c12",
        "IPY_MODEL_34f4a7d6716b4578aa76e5c6f7588aaa"
       ],
       "layout": "IPY_MODEL_08ba92db72284b4c9159c5dcd6d2d763"
      }
     },
     "92f637c073f847618336bd50ece85eeb": {
      "model_module": "jupyter-leaflet",
      "model_module_version": "^0.13.0",
      "model_name": "LeafletMapStyleModel",
      "state": {
       "_model_module_version": "^0.13.0"
      }
     },
     "99ad53b73cf545c0bec859986875c29d": {
      "model_module": "@jupyter-widgets/base",
      "model_module_version": "1.2.0",
      "model_name": "LayoutModel",
      "state": {}
     },
     "9b772a2728aa4ac88d67aa3ef16b0c12": {
      "model_module": "jupyter-leaflet",
      "model_module_version": "^0.13.0",
      "model_name": "LeafletMapModel",
      "state": {
       "_model_module_version": "^0.13.0",
       "_view_module_version": "^0.13.0",
       "center": [
        -34.43052286209841,
        116.63942098617555
       ],
       "controls": [
        "IPY_MODEL_2b259066688d43c4a6e237d87699913a",
        "IPY_MODEL_a117361047a143a59632298336052d77",
        "IPY_MODEL_542db33e987844dea61a1fd7a1ea967f"
       ],
       "default_style": "IPY_MODEL_92f637c073f847618336bd50ece85eeb",
       "dragging_style": "IPY_MODEL_e48143a82a0d4e78a52f4eda2598852b",
       "east": 116.65373325347902,
       "fullscreen": false,
       "interpolation": "bilinear",
       "layers": [
        "IPY_MODEL_4fa1a09d029e4f95ab601028fc3cfeca",
        "IPY_MODEL_53087943d054493382e7003baca44083",
        "IPY_MODEL_816d7c36f17147bcbf109e856866bb71",
        "IPY_MODEL_7a81d0f69f044b0487825e4e9c966e90",
        "IPY_MODEL_e1a4fbd0b5a94d3ba066276bb54a07be"
       ],
       "layout": "IPY_MODEL_3148e092bec24a3480e2ed9593b55545",
       "modisdate": "yesterday",
       "north": -34.41990305500894,
       "options": [
        "bounce_at_zoom_limits",
        "box_zoom",
        "center",
        "close_popup_on_click",
        "double_click_zoom",
        "dragging",
        "fullscreen",
        "inertia",
        "inertia_deceleration",
        "inertia_max_speed",
        "interpolation",
        "keyboard",
        "keyboard_pan_offset",
        "keyboard_zoom_offset",
        "max_zoom",
        "min_zoom",
        "scroll_wheel_zoom",
        "tap",
        "tap_tolerance",
        "touch_zoom",
        "world_copy_jump",
        "zoom",
        "zoom_animation_threshold",
        "zoom_start"
       ],
       "south": -34.44114132003539,
       "style": "IPY_MODEL_92f637c073f847618336bd50ece85eeb",
       "west": 116.62510871887207,
       "window_url": "https://app.sandbox.dea.ga.gov.au/user/robbibt/lab?",
       "zoom": 15
      }
     },
     "9bfa7549ab24477eac59ec30b8c8df53": {
      "model_module": "@jupyter-widgets/controls",
      "model_module_version": "1.5.0",
      "model_name": "VBoxModel",
      "state": {
       "children": [
        "IPY_MODEL_2e790d3aaf9a4e59926d2afd52c97a22",
        "IPY_MODEL_8d94be797bad49ce90f0ff3089d92a02",
        "IPY_MODEL_e12e354d6488470892fe637ebe2e29dc"
       ],
       "layout": "IPY_MODEL_99ad53b73cf545c0bec859986875c29d"
      }
     },
     "a117361047a143a59632298336052d77": {
      "model_module": "jupyter-leaflet",
      "model_module_version": "^0.13.0",
      "model_name": "LeafletAttributionControlModel",
      "state": {
       "_model_module_version": "^0.13.0",
       "_view_module_version": "^0.13.0",
       "options": [
        "position",
        "prefix"
       ],
       "position": "bottomright",
       "prefix": "Leaflet"
      }
     },
     "a70ea73154414748a9745824b1c690ca": {
      "model_module": "@jupyter-widgets/base",
      "model_module_version": "1.2.0",
      "model_name": "LayoutModel",
      "state": {
       "border": "1px solid black"
      }
     },
     "e12e354d6488470892fe637ebe2e29dc": {
      "model_module": "@jupyter-widgets/output",
      "model_module_version": "1.0.0",
      "model_name": "OutputModel",
      "state": {
       "layout": "IPY_MODEL_a70ea73154414748a9745824b1c690ca",
       "outputs": [
        {
         "name": "stdout",
         "output_type": "stream",
         "text": "Plot status: polygon added to plot\n"
        }
       ]
      }
     },
     "e1a4fbd0b5a94d3ba066276bb54a07be": {
      "model_module": "jupyter-leaflet",
      "model_module_version": "^0.13.0",
      "model_name": "LeafletGeoJSONModel",
      "state": {
       "_model_module": "jupyter-leaflet",
       "_model_module_version": "^0.13.0",
       "_view_count": null,
       "_view_module": "jupyter-leaflet",
       "_view_module_version": "^0.13.0",
       "base": false,
       "bottom": false,
       "data": {
        "geometry": {
         "coordinates": [
          [
           [
            116.645766,
            -34.431873
           ],
           [
            116.644435,
            -34.432865
           ],
           [
            116.645208,
            -34.433466
           ],
           [
            116.647055,
            -34.432475
           ],
           [
            116.645766,
            -34.431873
           ]
          ]
         ],
         "type": "Polygon"
        },
        "properties": {
         "style": {
          "clickable": true,
          "color": "#2ca02c",
          "fill": true,
          "fillColor": null,
          "fillOpacity": 0,
          "opacity": 1,
          "stroke": true,
          "weight": 4.5
         }
        },
        "type": "Feature"
       },
       "name": "",
       "options": [],
       "popup": null,
       "popup_max_height": null,
       "popup_max_width": 300,
       "popup_min_width": 50,
       "style": {
        "color": "#2ca02c",
        "fillOpacity": 0,
        "opacity": 1,
        "weight": 4.5
       }
      }
     },
     "e47391b939154185afe3806e3f1198d4": {
      "model_module": "@jupyter-widgets/controls",
      "model_module_version": "1.5.0",
      "model_name": "HTMLModel",
      "state": {
       "layout": "IPY_MODEL_ea31dfd1f8fd465eb6e289382eacaa13",
       "style": "IPY_MODEL_056fd1deb84542bfb8c20ce308f11d12"
      }
     },
     "e48143a82a0d4e78a52f4eda2598852b": {
      "model_module": "jupyter-leaflet",
      "model_module_version": "^0.13.0",
      "model_name": "LeafletMapStyleModel",
      "state": {
       "_model_module_version": "^0.13.0",
       "cursor": "move"
      }
     },
     "e891b7bd020b420982c74f84cc0dadbe": {
      "model_module": "jupyter-leaflet",
      "model_module_version": "^0.13.0",
      "model_name": "LeafletMapStyleModel",
      "state": {
       "_model_module_version": "^0.13.0"
      }
     },
     "ea31dfd1f8fd465eb6e289382eacaa13": {
      "model_module": "@jupyter-widgets/base",
      "model_module_version": "1.2.0",
      "model_name": "LayoutModel",
      "state": {}
     }
    },
    "version_major": 2,
    "version_minor": 0
   }
  }
 },
 "nbformat": 4,
 "nbformat_minor": 4
}
