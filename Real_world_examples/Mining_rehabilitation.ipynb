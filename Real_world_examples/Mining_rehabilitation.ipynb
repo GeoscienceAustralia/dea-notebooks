{
 "cells": [
  {
   "cell_type": "markdown",
   "metadata": {},
   "source": [
    "# Tracking rehabilitation of mines <img align=\"right\" src=\"../Supplementary_data/dea_logo.jpg\">\n",
    "\n",
    "* [**Sign up to the DEA Sandbox**](https://docs.dea.ga.gov.au/setup/sandbox.html) to run this notebook interactively from a browser\n",
    "* **Compatibility:** Notebook currently compatible with both the `NCI` and `DEA Sandbox` environments\n",
    "* **Products used:** \n",
    "[ga_ls_fc_3](https://explorer.sandbox.dea.ga.gov.au/ga_ls_fc_3), \n",
    "[ga_ls_wo_3](https://explorer.sandbox.dea.ga.gov.au/ga_ls_wo_3)"
   ]
  },
  {
   "cell_type": "markdown",
   "metadata": {},
   "source": [
    "## Background\n",
    "Land rehabilitation is an important aspect of responsible mining.\n",
    "For example, The Department of Mines, Industry Regulation and Safety (DMIRS) maintain a Mining Rehabilitation Fund (MRF) that Western Australian mining operators contribute to.\n",
    "The fund is used to rehabilitate abandoned and legacy mines, and is underpinned by the Mining Rehabilitation Fund Act 2012.\n",
    "As part of the fund, tenement holders report ground disturbance, which can help DMIRS monitor how a mine's rehabilitation is going, as well as major disurbance events related to mining activity. \n",
    "\n",
    "At the moment, most mining organisations only review disturbance annually, often contracting out the service to third party surveying and ecological consulting agencies.\n",
    "While these providers generally provide excellent information, there are two main issues:\n",
    "\n",
    "*  Annual visits give a very coarse view of how the mine is changing in time.\n",
    "*  There is no way to validate or sanity check consultants reports without a site visit.\n",
    "\n",
    "### Digital Earth Australia use case\n",
    "Rehabilitation and land disturbance can be monitored through satellite data by tracking the amount of vegetation and bare ground on the site compared with surrounding areas.\n",
    "A decrease in bare ground and increase in vegetation can be linked to positive rehabilitation.\n",
    "A slow increase or sharp spike in the amount of bare ground over a mining site may indicate increased disturbance, which is against the trend expected during rehabilitation efforts.\n",
    "This tracking can be achieved using the Fractional Cover data product from the Joint Remote Sensing Research Program, which is provided through DEA.\n",
    "\n",
    "Fractional Cover is derived from Landsat data, which has a revisit time of around two weeks for Australia, providing regular insight to a given mine's rehabilitation.\n",
    "This would allow companies to identify any disturbance events early in the year and take corrective action before the yearly reporting.\n",
    "It would also allow DMIRS to keep detailed records of how the mines they monitor are changing in time.\n",
    "\n",
    "Fractional Cover can also be used to validate the field reporting from surveying and ecological consultants before submitting reports.\n",
    "While reports from field surveys will provide more detail than most Earth Observation data products, such products provide the ability to provide context and validation of reports.\n",
    "For example, if the survey detects a disturbance, it may be hard to detect a reason.\n",
    "Fractional Cover can be used to identify the point in time, and possibly the cause of each disturbance event.\n",
    "\n",
    "### Description\n",
    "In this example, the [DEA Fractional Cover](../DEA_datasets/DEA_Fractional_Cover.ipynb) product is used to assess how land cover (specifically bare soil, green vegetation and non-green vegetation) is changing over time.\n",
    "\n",
    "The worked example below takes users through the code required to\n",
    "\n",
    "*  Create a time series data cube over a mine site.\n",
    "*  Create graphs to identify rehabilitation trends and disturbance events.\n",
    "*  Interpret the results.\n",
    "\n",
    "***"
   ]
  },
  {
   "cell_type": "markdown",
   "metadata": {},
   "source": [
    "## Getting started\n",
    "\n",
    "**To run this analysis**, run all the cells in the notebook, starting with the \"Load packages and apps\" cell."
   ]
  },
  {
   "cell_type": "markdown",
   "metadata": {},
   "source": [
    "### Load packages and apps\n",
    "\n",
    "This notebook works via two functions, which are referred to as apps: `load_miningrehab_data` and `run_miningrehab_app`.\n",
    "The apps allow the majority of the analysis code to be stored in another file, making the notebook easy to use and run.\n",
    "To view the code behind the apps, open the [notebookapp_miningrehab.py](../Scripts/notebookapp_miningrehab.py) file."
   ]
  },
  {
   "cell_type": "code",
   "execution_count": 1,
   "metadata": {},
   "outputs": [
    {
     "name": "stderr",
     "output_type": "stream",
     "text": [
      "/env/lib/python3.6/site-packages/geopandas/_compat.py:110: UserWarning: The Shapely GEOS version (3.7.2-CAPI-1.11.0 ) is incompatible with the GEOS version PyGEOS was compiled with (3.9.1-CAPI-1.14.2). Conversions between both will be slow.\n",
      "  shapely_geos_version, geos_capi_version_string\n"
     ]
    }
   ],
   "source": [
    "%matplotlib inline\n",
    "\n",
    "import sys\n",
    "import datacube\n",
    "\n",
    "sys.path.append(\"../Scripts\")\n",
    "from notebookapp_miningrehab import load_miningrehab_data\n",
    "from notebookapp_miningrehab import run_miningrehab_app"
   ]
  },
  {
   "cell_type": "markdown",
   "metadata": {},
   "source": [
    "## Load the data\n",
    "The `load_miningrehab_data()` command performs several key steps:\n",
    "\n",
    "* Load [DEA Fractional Cover (FC)](../DEA_datasets/DEA_Fractional_Cover.ipynb) and [DEA Water Observations (WOs)](../DEA_datasets/DEA_Water_Observations.ipynb) data for the study area.\n",
    "* Match the datasets to only retain data with the same time stamps.\n",
    "* Mask areas that are classified as water using WOs.\n",
    "* Resample the masked FC to get monthly average values.\n",
    "* Return the masked data for analysis.\n",
    "\n",
    "The masked data is stored in the `dataset_fc` object.\n",
    "As the command runs, feedback will be provided below the cell.\n",
    "\n",
    "**Please be patient**.\n",
    "The load is complete when the cell status goes from `[*]` to `[number]`."
   ]
  },
  {
   "cell_type": "code",
   "execution_count": 2,
   "metadata": {},
   "outputs": [
    {
     "name": "stdout",
     "output_type": "stream",
     "text": [
      "Loading DEA Fractional Cover\n",
      "Loading DEA Water Observations\n"
     ]
    }
   ],
   "source": [
    "dataset_fc = load_miningrehab_data()"
   ]
  },
  {
   "cell_type": "markdown",
   "metadata": {},
   "source": [
    "## Run the mining app\n",
    "The `run_mining_app()` command launches an interactive map.\n",
    "Drawing polygons within the boundary (which represents the area covered by the loaded data) will result in plots of the average bare, green and non-green cover in that area. Draw polygons by clicking the &#11039; symbol in the app.\n",
    "\n",
    "The app works by taking the loaded data `dataset_fc` as an argument. \n",
    "\n",
    "> **Note:** When drawing polygons, draw one over the mine and one over the forest nearby, then the fractional cover values can be compared on the produced plot."
   ]
  },
  {
   "cell_type": "code",
   "execution_count": 3,
   "metadata": {},
   "outputs": [
    {
     "data": {
      "application/vnd.jupyter.widget-view+json": {
       "model_id": "421179adf58a4bc7ae902ff30fc1ca34",
       "version_major": 2,
       "version_minor": 0
      },
      "text/plain": [
       "VBox(children=(Output(layout=Layout(border='1px solid black')), HBox(children=(Map(center=[-34.4305145, 116.63…"
      ]
     },
     "metadata": {},
     "output_type": "display_data"
    }
   ],
   "source": [
    "run_miningrehab_app(dataset_fc)"
   ]
  },
  {
   "cell_type": "markdown",
   "metadata": {},
   "source": [
    "## Drawing conclusions\n",
    "\n",
    "Here are some questions to think about:\n",
    "\n",
    "* Rehabilitation can be indicated by either a decrease in bare cover, or an increase in either green or non-green cover. \n",
    "Can you find any evidence that rehabilitation is occurring?\n",
    "* What differences are there between polygons drawn over the mine site and those drawn over the forest? What similarities are there?"
   ]
  },
  {
   "cell_type": "markdown",
   "metadata": {},
   "source": [
    "***\n",
    "\n",
    "## Additional information\n",
    "\n",
    "**License:** The code in this notebook is licensed under the [Apache License, Version 2.0](https://www.apache.org/licenses/LICENSE-2.0). \n",
    "Digital Earth Australia data is licensed under the [Creative Commons by Attribution 4.0](https://creativecommons.org/licenses/by/4.0/) license.\n",
    "\n",
    "**Contact:** If you need assistance, please post a question on the [Open Data Cube Slack channel](http://slack.opendatacube.org/) or on the [GIS Stack Exchange](https://gis.stackexchange.com/questions/ask?tags=open-data-cube) using the `open-data-cube` tag (you can view previously asked questions [here](https://gis.stackexchange.com/questions/tagged/open-data-cube)).\n",
    "If you would like to report an issue with this notebook, you can file one on [Github](https://github.com/GeoscienceAustralia/dea-notebooks).\n",
    "\n",
    "**Last modified:** July 2021\n",
    "\n",
    "**Compatible datacube version:**"
   ]
  },
  {
   "cell_type": "code",
   "execution_count": null,
   "metadata": {},
   "outputs": [],
   "source": [
    "print(datacube.__version__)"
   ]
  },
  {
   "cell_type": "markdown",
   "metadata": {},
   "source": [
    "## Tags\n",
    "Browse all available tags on the DEA User Guide's [Tags Index](https://docs.dea.ga.gov.au/genindex.html)"
   ]
  },
  {
   "cell_type": "raw",
   "metadata": {
    "raw_mimetype": "text/restructuredtext"
   },
   "source": [
    "**Tags**: :index:`sandbox compatible`, :index:`NCI compatible`, :index:``, :index:`fractional cover`, :index:`water observations`, :index:`real world`, :index:`mining`, :index:`time series`, :index:`interactive`, :index:`widgets`, :index:`no_testing`"
   ]
  }
 ],
 "metadata": {
  "kernelspec": {
   "display_name": "Python 3",
   "language": "python",
   "name": "python3"
  },
  "language_info": {
   "codemirror_mode": {
    "name": "ipython",
    "version": 3
   },
   "file_extension": ".py",
   "mimetype": "text/x-python",
   "name": "python",
   "nbconvert_exporter": "python",
   "pygments_lexer": "ipython3",
   "version": "3.6.9"
  },
  "widgets": {
   "application/vnd.jupyter.widget-state+json": {
    "state": {
     "09a965793087442d806de86645e22d09": {
      "model_module": "@jupyter-widgets/output",
      "model_module_version": "1.0.0",
      "model_name": "OutputModel",
      "state": {
       "layout": "IPY_MODEL_8c97cbbab3b540b09dcc684f65b4024a",
       "outputs": [
        {
         "name": "stdout",
         "output_type": "stream",
         "text": "Plot status: polygon added to plot\n"
        }
       ]
      }
     },
     "0de8b0b075ab4b7eb1e90502474088a8": {
      "model_module": "@jupyter-widgets/base",
      "model_module_version": "1.2.0",
      "model_name": "LayoutModel",
      "state": {}
     },
     "2b984d883903447a8a388af32e003ca0": {
      "model_module": "jupyter-leaflet",
      "model_module_version": "^0.13.0",
      "model_name": "LeafletMapStyleModel",
      "state": {
       "_model_module_version": "^0.13.0",
       "cursor": "move"
      }
     },
     "3a67422877b946de91d2a3865ebc53f7": {
      "model_module": "jupyter-leaflet",
      "model_module_version": "^0.13.0",
      "model_name": "LeafletGeoJSONModel",
      "state": {
       "_model_module": "jupyter-leaflet",
       "_model_module_version": "^0.13.0",
       "_view_count": null,
       "_view_module": "jupyter-leaflet",
       "_view_module_version": "^0.13.0",
       "base": false,
       "bottom": false,
       "data": {
        "geometry": {
         "coordinates": [
          [
           [
            116.633263,
            -34.431732
           ],
           [
            116.634722,
            -34.433254
           ],
           [
            116.636567,
            -34.431838
           ],
           [
            116.635065,
            -34.430847
           ],
           [
            116.633263,
            -34.431732
           ]
          ]
         ],
         "type": "Polygon"
        },
        "properties": {
         "style": {
          "clickable": true,
          "color": "#ff7f0e",
          "fill": true,
          "fillColor": null,
          "fillOpacity": 0,
          "opacity": 1,
          "stroke": true,
          "weight": 4.5
         }
        },
        "type": "Feature"
       },
       "name": "",
       "options": [],
       "popup": null,
       "popup_max_height": null,
       "popup_max_width": 300,
       "popup_min_width": 50,
       "style": {
        "color": "#ff7f0e",
        "fillOpacity": 0,
        "opacity": 1,
        "weight": 4.5
       }
      }
     },
     "421179adf58a4bc7ae902ff30fc1ca34": {
      "model_module": "@jupyter-widgets/controls",
      "model_module_version": "1.5.0",
      "model_name": "VBoxModel",
      "state": {
       "children": [
        "IPY_MODEL_92ed9a51ce904a93acae2e1858b17509",
        "IPY_MODEL_c5c51366b8424271838fc8c9727b6bce",
        "IPY_MODEL_09a965793087442d806de86645e22d09"
       ],
       "layout": "IPY_MODEL_b50c500f7abe43399f894aa4c9101bd3"
      }
     },
     "48a54a5073684ae68638483fb7145186": {
      "model_module": "@jupyter-widgets/output",
      "model_module_version": "1.0.0",
      "model_name": "OutputModel",
      "state": {
       "layout": "IPY_MODEL_760c091ff5e640de8b4918244b3613db",
       "outputs": [
        {
         "data": {
          "image/png": "iVBORw0KGgoAAAANSUhEUgAAAoAAAAKACAYAAAAMzckjAAAABHNCSVQICAgIfAhkiAAAAAlwSFlzAAALEgAACxIB0t1+/AAAADh0RVh0U29mdHdhcmUAbWF0cGxvdGxpYiB2ZXJzaW9uMy4yLjEsIGh0dHA6Ly9tYXRwbG90bGliLm9yZy+j8jraAAAgAElEQVR4nOzdd5hdV33v//d3eh+VGfVmyypuksu4YIobNsbYcmg2dujFNxADNyQQSAiY8ktIbsIFcgmJ6RAw1wR+RC5giivY2JKLZMm2ZElWHUkzaiNNL+d7/1j7zJzpR9Lsafvzep7znLPLnFl7zewzn1l7rbXN3RERERGR5MgZ6wKIiIiIyOhSABQRERFJGAVAERERkYRRABQRERFJGAVAERERkYRRABQRERFJmNgCoJl9x8zqzGzDINvNzL5mZlvMbL2ZnRdXWURERESkR5wtgN8Drhli++uBJdHjVuAbMZZFRERERCKxBUB3fwQ4NMQuNwA/8OCPwBQzmx1XeUREREQkyBvD7z0X2JWxvDtat7fvjmZ2K6GVkNLS0vOXL18+KgUUERERmcieeuqpA+5e3Xf9WAbArLn7HcAdADU1Nb527doxLpGIiIjI+GdmOwZaP5ajgPcA8zOW50XrRERERCRGYxkAVwPvjEYDXww0uHu/y78iIiIiMrJiuwRsZncClwFVZrYb+CyQD+Du/w7cB1wLbAGagffEVRYRERER6RFbAHT3m4fZ7sCfx/X9RURERGRguhOIiIiISMIoAIqIiIgkjAKgiIiISMIoAIqIiIgkjAKgiIiISMIoAIqIiIgkjAKgiIiISMIoAIqIiIgkjAKgiIiISMIoAIqIiIgkjAKgiIiISMIoAIqIiIgkjAKgiIiISMIoAIqIiIgkjAKgiIiISMIoAIqIiIgkjAKgiIiISMIoAIqIiIgkjAKgiIiISMIoAIqIiIgkjAKgiIiISMIoAIqIiIgkjAKgiIiISMLEGgDN7Boz22RmW8zskwNsX2BmD5rZM2a23syujbM8IiIiIhJjADSzXODrwOuBM4CbzeyMPrt9GrjL3c8F3gb8W1zlEREREZEgzhbAC4Et7r7N3duBnwA39NnHgYrodSVQG2N5RERERIR4A+BcYFfG8u5oXabbgbeb2W7gPuDDA72Rmd1qZmvNbG19fX0cZRURERFJjLEeBHIz8D13nwdcC/zQzPqVyd3vcPcad6+prq4e9UKKiIiITCZxBsA9wPyM5XnRukzvA+4CcPfHgSKgKsYyiYiIiCRenAFwDbDEzE4xswLCII/VffbZCVwJYGanEwKgrvGKiIiIxCi2AOjuncBtwP3AC4TRvhvN7PNmtira7S+BD5jZOuBO4N3u7nGVSUREREQgL843d/f7CIM7Mtd9JuP188Ar4yyDiIiIiPQ21oNARERERGSUKQCKiIiIJIwCoIiIiEjCKACKiIiIJIwCoIiIiEjCKACKiIiIJIwCoIiIiEjCKACKiIiIJIwCoIiIiEjCKACKiIiIJIwCoIiIiEjCKACKiIiIJIwCoIiIiEjCKACKiIiIJIwCoIiIiEjCKACKiIiIJIwCoIiIiEjCKACKiIiIJIwCoIiIiEjCKACKiIiIJIwCoIiIiEjCKACKiIiIJEzeYBvM7LyhvtDdnx754oiIiIhI3AYNgMC/DLHNgSuGe3Mzuwb4KpALfMvdvzTAPjcCt0fvuc7dbxnufUVERETkxA0aAN398pN5YzPLBb4OXAXsBtaY2Wp3fz5jnyXAp4BXuvthM5txMt9TRERERIY31CXgK9z9ATN700Db3f3nw7z3hcAWd98Wvd9PgBuA5zP2+QDwdXc/HL1n3fEUXkRERESO31CXgC8FHgCuH2CbA8MFwLnArozl3cBFffZZCmBmfyBcJr7d3X/V943M7FbgVoAFCxYM821FREREZChDXQL+bPT8npi//xLgMmAe8IiZne3uR/qU5Q7gDoCamhqPsTwiIiIik96w08CYWaWZfdnM1kaPfzGzyizeew8wP2N5XrQu025gtbt3uPvLwGZCIBQRERGRmGQzD+B3gGPAjdHjKPDdLL5uDbDEzE4xswLgbcDqPvv8gtD6h5lVES4Jb8uq5CIiIiJyQobqA5i22N3fnLH8OTN7drgvcvdOM7sNuJ/Qv+877r7RzD4PrHX31dG2q83seaAL+Li7Hzz+wxARERGRbGUTAFvM7FXu/nsAM3sl0JLNm7v7fcB9fdZ9JuO1Ax+LHiIiIiIyCrIJgB8Evh/1+zPgEPDuOAslIiIiIvEZNgC6+7PASjOriJaPxl4qEREREYlNNqOAPxqFv2PAl83saTO7Ov6iiYiIiEgcshkF/N6o1e9qYDrwDqDfPX1FREREZGLIJgBa9Hwt8AN335ixTkREREQmmGwC4FNm9mtCALzfzMqBVLzFEhEREZG4ZDMK+H3AOcA2d282s+lAnLeHExEREZEYZTMKOAU8nbF8ENBkzSIiIiITVDaXgEVERERkElEAFBEREUmYrAKgmb3KzN4Tva42s1PiLZaIiIiIxCWbiaA/C/w18KloVT7wn3EWSkRERETik00L4BuBVUATgLvXAuVxFkpERERE4pNNAGx3dwccwMxK4y2SiIiIiMQpmwB4l5n9BzDFzD4A/Bb4ZrzFEhEREZG4DDkPoJkZ8H+B5cBRYBnwGXf/zSiUTURERERiMGQAdHc3s/vc/WxAoU9ERERkEsjmEvDTZnZB7CURERERkVGRzb2ALwL+1Mx2EEYCG6FxcEWsJRMRERGRWGQTAF8XeylEREREZNQMGwDdfQeAmc0AimIvkYiIiIjEKps7gawys5eAl4GHge3AL2Mul4iIiIjEJJtBIF8ALgY2u/spwJXAH2MtlYiIiIjEJpsA2OHuB4EcM8tx9weBmmze3MyuMbNNZrbFzD45xH5vNjM3s6zeV0REREROXDaDQI6YWRnwCPAjM6sjui/wUMwsF/g6cBWwG1hjZqvd/fk++5UDHwWeON7Ci4iIiMjxy6YF8AagGfgL4FfAVuD6LL7uQmCLu29z93bgJ9F79fUF4B+B1qxKLCIiIiInZdgA6O5N7p5y907gXuBfo0vCw5kL7MpY3h2t62Zm5wHz3f3eod7IzG41s7Vmtra+vj6Lby0iIiIigxk0AJrZxWb2kJn93MzONbMNwAZgv5ldc7Lf2MxygC8Dfzncvu5+h7vXuHtNdXX1yX5rERERkUQbqg/g/wH+BqgEHgBe7+5/NLPlwJ2Ey8FD2QPMz1ieF61LKwfOAh4yM4BZwGozW+Xua4/rKEREREQka0NdAs5z91+7+0+Bfe7+RwB3fzHL914DLDGzU8ysAHgbsDq90d0b3L3K3Re5+yLC1DIKfyIiIiIxGyoApjJet/TZ5sO9cdRn8DbgfuAF4C5332hmnzezVcddUhEREREZEUNdAl5pZkcBA4qj10TLWd0Szt3vA+7rs+4zg+x7WTbvKSIiIiInZ9AA6O65o1kQERERERkd2cwDKCIiIiKTiAKgiIiISMIoAIqIiIgkjAKgiIiISMIoAIqIiIgkjAKgiIiISMIoAIqIiIgkjAKgiIiISMIoAIqIiIgkjAKgiIiISMIoAIqIiIgkjAKgiIiISMIoAIqIiIgkjAKgiIiISMIoAIqIiIgkjAKgkEo5R5rbaevsGuuiiIiIyCjIG+sCSDzcnca2TuqPtXGgsZ36Y23UH2ulvrGtz7o2DjS20ZlyzGBOZTELp5dEj1IWTouep5dQWqhfFxERkclAf9EnmNaOrhDcGnvCWzrIpden17V2pPp9fW6OMb20gOryQqrLC1k2q5zq8kKmlxZwrLWTnYea2X6wifs37udQU3uvr60qK2TR9BIWTC9hURQKF04vZdH0EqaUFIxWFYiIiMhJUgAcZw42tvHAi3XUZQS6+mNtHIiWj7V1Dvh100oLqC4LoW7hgpLugFcVrasuL6S6rJCpJQXk5FhWZTna2sHOgyEQ7jjYzI7o+bEtB/n503t67VtZnN+n1bCERVXhdXV5IWbZfU8RERGJnwLgOLG1vpFvPfoyP396N22doeWuvCivO8SdPqeC15T1BLnuUFdeyLTSAvJzR747Z0VRPmfNreSsuZX9trW0d7HrcDPbDzR1txruONjMul1HuHd9LSnv2bc4P7f7svKi6aXdLYgLppUwZ0oxuVkGUhERERkZCoBjqLGtk2d3HuG7f3iZ371YR0FeDm8+by5vv3ghi6vLKMrPHesiDqq4IJelM8tZOrO837aOrhR7DrdktByG1sOt9U08+GI97V09l6bzc43500q6+xoumt7T53De1BIK8jROSUREZKQpAI6Cg41tbKlrZEt9Iy/tb2RrfSNb6hrZ29AKhMu3H71yCe94xUKqygrHuLQnLz83h0VVpSyqKu23rSvl7Dva2n05OR0Otx9s5smXD9HU3jMSOcdgzpRiFk0vZVFVCadVl7F4RhmLq8uYXVmky8oiIiInKNYAaGbXAF8FcoFvufuX+mz/GPB+oBOoB97r7jviLFNc3J3ahlZe2n+MLXU9IW9LXSOHmzu69yspyGVxdRkXnzqd02aUsWRGGa9ZWj2uW/tGUm6OMXdKMXOnFHPJ4t7b3J0Dje3sPNTE9gNRn8NDzWw/2Mx/P1vLsdae/o/pelxcXcri6jJOmxHC4cLpJRTmJaMuRURETpS5+/B7ncgbm+UCm4GrgN3AGuBmd38+Y5/LgSfcvdnMPghc5u43DfW+NTU1vnbt2ljKnI2OrhQ7Djb3C3lb6xtpzmi9mlqSz2kzomBSXcaSmeWcNqOM2RVFWQ/CkB7uTn1jG1vrmrrrfWt9I9vqm9hzpKV7vxyDBdNKuut9cXUZi2eUclp1OZUl+WN4BCIiIqPPzJ5y95q+6+NsAbwQ2OLu26IC/AS4AegOgO7+YMb+fwTeHmN5jktLexdb63tC3kv7wyXcHQeb6OjqCc2zK4s4bUYZN10wPwS+qDVq+iS4lDuemBkzyouYUV7EKxZP77Wtub2TbfUhGG6ta2RrfRNb6hp5ZPOBXv0Nq8oKOLW6LCMchtbDuVOKFcpFRLLk7rR0dNHQ0sHRls7ouSM8t2asaw3rOrtSzKwoYlZlEbMri5hZUcTsymJmVRZRUZSn7jxjJM4AOBfYlbG8G7hoiP3fB/xyoA1mditwK8CCBQtGqnxDevU/PcCBxjAPXm6OsXBaCYtnlHHVGTO7Q97iGWWUaXLkMVdSkDfgaOWulLP7cHNPi2HUenjfc3s5knFZvig/h1Or0v0LS7sD4ilVpYm5NC8iydLRlcoIbZ29AlyvYNcawt3RaL902OtMDX31sKwwj4qiPCqK88nLNTbUHuVAYxt9LzqWFOQyKwqH6YAYlovD68oiph3H9GWSvXGRXszs7UANcOlA2939DuAOCJeAR6NMn7hmOWWFeZymfmUTVm6ORSOKS7li+cxe2w42trE1o9VwS30jz+46zD3ra7s/oMxg3tTiMPgkGoCSDofTSjXxtYiMnfTdngYKa5mhbrCWucwuSwMpyM2hojifiuI8KorymVJSwILppVRGy5XF+WF79+u88FyUT3lRHnkDTE3W3pmi7lgr+4+2srehlX0N0fPR8PqJbYfYf7S1X7jMz7Wo1TAEw1kVhb0C4qyKImaUFw74PWVwcQbAPcD8jOV50bpezOy1wN8Cl7p7W4zlOS431swffieZsKaXFTK9rJALT5nWa31rRxcvH2jq7mO4tb6JrXWNPL7tYK87q0wtye8ZfBL1M1xcXca8qSWa11BEstLW2ZVVa1vflrn0fkM1wplBeWFogUsHs0VVJd2v0wGuMiPkZa4rzMsZ8UuzBXk5zJsapvgaTCrlHGhq6wmHGQFxb0MLz+0+wq8bWrvny03LMaguL+wOiOlLzD2XnMOzrur0iHMQSB5hEMiVhOC3BrjF3Tdm7HMu8F/ANe7+UjbvO9aDQCSZUilnz5GW7lDYMwilsburAIQPuFOrSnv6GEYB8dTqUkoKxkWDu4iMkK6U09jamRHOBg5rvbf1BLu+Iaavovyc/mGtqHeo6w5wfYJdeWHepL1s6u40tHQM0IrY0is0Zs4ckTattCCjNbGo+/Lz7IywWF40uQYMDjYIJLYAGH3Ta4GvEKaB+Y67/39m9nlgrbuvNrPfAmcDe6Mv2enuq4Z6TwVAGW+ONLdHl5Kbeg0c2nmoudd/6HOnFLN4RhmnzyrndWfN4tz5U9T5WWQMuTutHakBLp920NDcO6wN1Deusa2zX5+2TDnGgGEtvVzRfRk1r0/IC/up69HJaWzrDGFwkIC4r6GVg33ueQ+h/2Lf1sO+A1imluRPmM/vMQmAcVAAlImirbOLHQebQx/DjEvKm/Ydo70rxbypxVy/cg7Xr5jD6bPLJ8yHiQRdKWft9kNcsGjapG1pmQg6u1L9BjH0HYU6UL+49LbMWR0GUlqQ26+vW9/Wtn4BLnouLcjVeT3OtXZ0UXe0jX1HwyXmdItiZj/FumOt/S63F+Tl9A+I3YNZQv/EqrLCcdElSAFQZJw42trBrzfu5+51tfx+ywG6Us5pM8q4fsUcrl85m1Ory8a6iJKFH/5xB3/3iw1cfcZM/vdN51A6wjMCuDsba4/y07W7qDvWxoWnTOOSxVUsnVk2qUKFu9PU3tUT0oYZmXq0T2td0zCDGfJyjMookJUP0to2WD+48qK8WO6zLhNLZ1eKA43tgwbEvUdb2N/Q1mvaMQgDEWeUF2aMbi5mVmXop3jG7HJOm9H/VqpxUAAUGYcONbVz33N7uXtdLU9uP4Q7nDW3gutXzOG6lXOYO6V4rIsog7juXx9l75FWDje3s2xWBd96V82I/LwON7Xzi2f3cNfa3byw9ygFeTlUlxV2T3heVVbAKxZX8crF07lkcRULpg/eoX60tHemhuzr1jO4oX/L3NHWTrqGmVIkPZghBLO87sunPQEur1frW2aoK85XK5zEz9051NQ+wMCVVvYd7bn0nB59/f5XncKnrztjVMqmACgyzu1raOWe9bXcvX4v63YdAaBm4VSuXzmHa8+eTXW5JhcfLzbWNvCGr/2ez606k4XTS/jwj5+hMD+X/3jH+Zy/cOpxv19Xynn0pXp+unY3v3l+P+1dKc6eW8mNNfNYtXIulSX57DrUzOPbDvLYlgM8tvUgdcfCpAnzphZzSRQGL1k8nRkVRcf9/VMp51hbZ7++bkcHCGsDDXbIHCE/kIK8nO4BDAP1dRtwZGq0rbwof1xcRhM5We7hPNvX0EpJQe6Qo6FHkgKgyASy82Azd6+v5e51tby47xg5BpcsruL6lbO55szZuq3dGLt99UZ+/MROnvzbK5lSUsCWumO87/tr2dvQyj+9eQV/cu7crN5n+4EmfvrULn721B72HW1lakk+bzx3Hm+tmcfpsysG/Tp3Z2t9E49tPcBjWw7y+LaDNLSEyc1Pm1HGJYunU7NoGqmUZwxoGGBkarTt2DCDGcwYOKwV5VNZ0n9kandLXbSsqTdExo4CoMgEtXn/Me5eV8vqdbXsONhMfq5x6dJqrl85h9eePnPE+57J0No6u7jo73/Hq06r4v/ccl73+sNN7XzwR0/xx22H+NBli/mrq5cNODikub2T+57bx11rd/Hky4fIMbh0aTU31sznitNnnNDIz66U88Leozy29QB/2HKQJ18+REtH775xxfm5Q7S25WWMSO0zWrU4n7KCyTuliMhkpwAoMsG5O8/taeDudbXcs34vextaKcrP4crTZ3L9ijlctqxaLS2j4J71tdz242f44fsu5NVLqntta+9M8dnVG7jzyV29Boe4O0/vPMxP1+7m7nW1NLV3sWh6CW+tmc+bz5vHrMrjv2w7lPbOFFvqGsM8clGoK8jTYAaRJFIAFJlEUiln7Y7D3L2ulvue28vBpnbKC/O4+sxZrDpnDpcsnq7RizF553eeZGtdI4984vIB+6a5O9/9w3a+eO/zLJtVwXUrZvOzp3ezrb6JkoJc3nD2bG68YD41C6dqcIKIxE4BUGSS6uxK8djWg9y9rpZfbdzHsdZOppUW8PqzZrFq5RzNUzeC9hxp4VX/+AAfvmIJH7tq6ZD7PrSpjg//+BmOtXVSs3AqN9bM59oVsynTJXsRGUUKgCIJ0NbZxcOb6rl7/V5++/x+Wjq6mFVRxBtWzGbVyjmsmFepVqcsNbZ10tGZYkrGjP9f+91LfPk3m3n0E5czf9rwI/gONrbR1NY1LqZqEZFkUgAUSZjm9k5++0Idd6+r5eFN9bR3pVgwrYTrV85m1cq5LJs1OpOQTkTN7Z289l8epjbqZzlnSjFzKot5Ye9Rls8u50fvv3isiygikpXBAqCuRYhMUiUFeaxaOYdVK+fQ0NLB/Rv3cfe6Wr7x0Fa+/uBWls4sY9XKOVy3Yg6LqkrHurjjynd+/zK1Da3cdvlptHR0sbehhdojrZQU5vL+V5861sUTETlpagEUSZgDjW388rm9rF5Xy5rthwFYMa8yuvvIbGZXJvvuIwcb27j0fz3EKxZP55vv7PdPs4jIhKJLwCLST+2RFu5dH8Lgc3saALhw0TSuP2cO1541i+llybv7yO2rN/KDx7fz6794zajdq1NEJC4KgCIypJcPNHFPNOH0S3WN5OYYlyyezqqVc7j6zFlUFk/+u4/sONjEa7/8MG85fz7/8Kazx7o4IiInTQFQRLLi7mzaf4zVz9Zy9/padh1qoSA3h0uXVbNq5RyuPH0GJQWTs/vwbT9+mt+9UMfDH7/shO6pKyIy3mgQiIhkxcxYPquC5ddU8PHXLWPd7vTdR2r5zfP7Kc7P5bVnzGTVyjm8ZmnVCd26bDx6eudh7lm/l49ccZrCn4hMemoBFJGsdKWcNdsPsXpdLb98bi+HmzsoL8rjmujuI684dTp5E+zuI6mU8+iWA9z5xE5++8J+ppQU8NDHL9NkzSIyaegSsIiMmI6uFH/YcoDV62r59cb9NLZ1UlVWwLVnz+b6lXM4f8HUcX33kf1HW7lrzS5+smYXe460MK20gLecP493XLwwqwmeRUQmCgXA4/XdN0D7MSit7v8o67OcO/k7x4sMprWji4c21XP3ulp++8J+2jpTzKks4rqVc7h+xRzOmlsxLu4+0pVyHt5cx4+f2MWDm+roSjmvPG06N1+4gKvOmDlpLmWLiGRSADxe930CDm+HpvrwaKyDrraB9y2aAmUzokBYBaUZr7vXR4/CchgHfwxF4tDY1slvn9/P3etqeeSlejq6nFOqSrl+RWgZXDJz9KdVqT3Swl1rd3HXml3UNrRSVVbAW2vmc1PNfE2ALSKTngLgyXKH9sYQBJsOQFNdFA4PROvqe69vOTzw++QW9m9FLJoCRRVQVAmFFVBQCjikusBTPc/eFb3uglTmcp/X3ftkbuv79eltGfvn5ENeIeQVQX5ReM4rhLzi4dfnFUJ+cca2IshRi0qSHWlu51cb9nH3+loe33qQlMPyWeVcH7UMxnl/3M6uFA9uqufOJ3fy0KY6HHj1kmpuvmA+V54+k4K8QfoqNh+CbQ/Blt+F56IKOPVyWHw5LLwkOjePw7H90NkK5bPCeSEiMsoUAEdbZzs0H4yCYTo01g8cIFsbQrgcaZYbQlj3c0549FoXrc/JCUGwowU628IfrVTHyX3/nPzjCJNFGY90mOyzPr8ofP1wzzkTayDChOQOXe3h96SzPbSOd7b1/O5kbutspaGxkee272fjrgPsO9RAIR0sqMzjjBkFLJleQGlOZ8/X93qvaLmrI/o9zct49F5OkcOhlhS1RzvY3dBGR2cnZXkpFk4pYG5FHsU5XZDqDGXr6giPVEe0HK1vPhD+KSqaAqdeGs7NHY+HMuQWwPyLYMlVsPT1ULWkpzU/lYLDL8PedbDvOdi3HvauD+d5WvE0KJ8dwmD3c/p1tFw248S7lKRS4XOk7Wgod1sjkP58z7jq0OsKhA2xjiz3Gw/ryHK/8bRuApb5ZK9eufdv1Oi1fCLbvH+DR2zbUv0bXE5029LXwTm3nFx9ZkkBcLzr6gwf3G1Hwwd3r6CWkxHUsgh0Obkjc5k51RX9EY/+qGeGw8426MxY7mgdeH1nW5+va+3znoN8XarzxMudW5ARCIsgv2SY0FjU03p5Is+j2Qc0lYoCUk+46hu2BgxQQ4WrfsEti30H6w5xnDo8lzbySeUWkJdfRGFRCbkFRdHPMPoHILcg1HH6wznV2f2cSnXS2NLKseY2mltbIZUi31KU5UNxUQElRcVYXn74ZyT9Prnp5fSjoGe5fBYsvgLmnAe50UjgjhbY8RhsexC2PAB1G8P6aafC/ItD8Nu3IfQZhhBIq5fDrBUw62woLAstgcf2wrF9Pc+N+8MfhF4sXBXoFRJnh9+ztqPQerTnubWh/2sm1ue5TAZZhsdUF5Pq99P6/l1OL1ufxpWMv9WZy+fcAq/6i9Ep6lgEQDO7BvgqkAt8y92/1Gd7IfAD4HzgIHCTu28f6j0nbQCU3ro6+wfDjpYoTLZEwfF4n9MhdpDnE/1wstwBgmFGwMwv6b0tNz8KUYOFrYFCXfvJB+NMuYVRwCrs87oganEt6Alf3a20ffbt97UDbev7Xr333XKghXvWh7uPbKtvIi/HeNWSKq5fMYerz5xJeVH/cN3U1snDm+v55YZ9PPhiHY1tnZQX5fHa02fyujNncenSaooLYux+cGQXbP4VbL4fap+B6YtD2Ju9IjzPOD27y72prnAF4NjeEAb7BsTuoFgHePijke4mUlQBhZVhuagiWpf5ugIKyntaw7s/5zN+x73fi0H2G+t1ZLnfeFo3kcrc70U837fvFacBw9NobxssrGWxbQL15R/1AGhmucBm4CpgN7AGuNndn8/Y50PACnf/MzN7G/BGd79pqPdVAJRYpC9pDhUQB3weLHC2DL5vV8dxBKj0Y+AA1XvbIMFtoG3j7MPL3Xl+71HuXreXu9fVsudICwV5OVyxbAbXr5zDBYum8vstB/jVhn08vLmets4U00oLuPqMmVxz1iwuWVw1eL++iS79z1BB6bj7uYnI+DcWAfAVwO3u/rpo+VMA7v4PGfvcH+3zuJnlAfuAah+iUAqAIpObu/P0ziPcva6We5/bS2MLH2MAACAASURBVP2xnsvNsyqKuOasWbzuzFlcsGjqhJt4WkRktI3FreDmArsylncDFw22j7t3mlkDMB04kLmTmd0K3BotNprZplhKPLwq+pQtgVQHqoO0Ua+HHcATwOdG85sOLem/C0k//jTVg+oAxm8dLBxo5YS435G73wHcMdblMLO1A6XoJFEdqA7SVA+qg6Qff5rqQXUAE68O4rx+sgeYn7E8L1o34D7RJeBKwmAQEREREYlJnAFwDbDEzE4xswLgbcDqPvusBt4VvX4L8MBQ/f9ERERE5OTFdgk46tN3G3A/YRqY77j7RjP7PLDW3VcD3wZ+aGZbgEOEkDiejfll6HFAdaA6SFM9qA6SfvxpqgfVAUywOphwE0GLiIiIyMnRHAoiIiIiCaMAmMFMs6yKpOl8EOmh80EmGwXA3lQfgpktMzP9Luh8EHQ+ZFAdAEn+XTCzuWNdhpGU2B9kJjN7g5ndA3zBzF451uUZK2b2J2b2hbEux1gxs6vM7Ang/ST43ND5EOh80PkAOh8AzGyVmX1srMsxVszstWb2FPBnY12WkZT4QSBmdj7wDeB2oAK4AnjM3b9nZjnunhrL8sUtuqyRA7wH+CRhxvAr3P3RMS3YKImOPw/4O+Bm4K/d/eeZ25M0NZHOB50P6HzopvPB8oC/BD4ILADOc/dnzSzX3bvGtnTxis6FfOArwCWE29b+InP7RD8XEvtfXYbXAo+6+33AfxPuR/wRM6t099Rk7/fhQRewBTgX+BCQmFaP6Pg7gBTwX+k/dmb2ajPLH9vSjQmdDzofdD70SPr50AlsApYDHwP+I1o/qcMfdJ8L7UAJ8At3/4WZ5ZjZyvT2sS3hyUtcADSzj5jZN83sA9GqB4HrzWyqu7cAHUAD8NcwOX7IA8moh/dHqx5292Pu/k2g1MzeF+03KX9HMo4/fY/pfwdmm9l3zew54BOEeSrfG+0/KT/odT4EOh90PoDOB+iugy+Z2Y3RqnvdvdXdvwLMMLNbov0m5T8EGcd/U7TqC8CrzeyfgaeBL5rZHWb2urEr5ciYlB9mgzGzdwO3AD8D3m5mfwtsJ0xW/UMzexQ4FfgSMMXMSseoqLHqUw/vMLNPEY477TPAx6IPvUl3iaPP8f+pmX0aaAN+ARQAbwVWRdvfZGYLJukH/bvR+aDzQecDoPPBgr8AbgLWAp+L6mRqxm4fA/4XQNRSPGkMcPy3m9n73H0r4VxYHm27BdgAvNHMqsaswCMgUQEQuBL4R3f/FaFfQxHwTnf/MOFSz+fd/T1AK1Ds7k1jV9RYDVQPf5re6O6/BF4AbjWzcjN769gUMzZ9j78Q+B9R/45b3f3F6A/ceuAI4b/+yUjnQ6DzQecDJPx8iH7GlwOfdvf/Av4CWAG8LmOf/x/YbGZ/BWFwxFiUNQ6DHP9KM7vR3f8VeJu7b3L3Y8CzhD6hzWNX4pOXiACYcdnmGeA6AHdfC/wBWGpmr3b3ne7+m2i/NwBbR7+k8RqiHh4H5lrvEW5/DfwD8BIwazTLGZdhfg9OMbNX9vlQfxdQDBwe1YLGTOdDoPNB5wMk83zoewk/ow7WAq8GiILwS8CZZrYsY/cPAv9kZvuACTktynEc/wvA+Wa2zN0bM77kKkL4ax2F4sZmUgZAM5sVPecAZFy2+QOQY2aviZY3ALVEH+hm9hozexhYQugDM6GZ2ZlmVpReHqYe9gJzoq87Dfg3QrP3edF/PxPOSRz/m81sHeFyzwfdfUKf5MdZD5P5fHilmS1OLyfwfDjR459s58Px1MNkPR+KMxcy6mALUG5mZ0fLDwOVQDmAmZ0DfJNwmfw8d//+6BR3xB3P8VfQc/xvM7MNhNkB/maidwmZVAHQzM41s98RjdpL/3Ay0v1LwEbgJgvD2HcDM4FTou3bgQ+5+xvd/cCoFn4EmdkKM/s98EVgesb64ephUbS9AbjN3d/k7rWjV/KRcRLHn/492Az8mbu/0933j2LRR9QI1MN2Jsf5cJ6Z/Rp4gPDHLL0+KefDiR7/ZDsfTrYetjPBzwczu9jMfgZ83cyuNrPcaH1etMuTQCdwtZnlufvzhFa+mmj7QUIdvHWCngsne/w7CP8EvdPd60a7/CNtUgTAqPPm/wZ+AHzf3T+QsS1zrqZjwKOEPi7/bGEU01TgAEDUzL9xdEsfi08TpnB4o7vvAYg+0Iarh4MA7l7v7i+NQblHyokef/r34Dl3f3wMyj3STrYeJvT5YGb5ZvYfwB3A1wid+S+Ltk3682EEjn9SnA8jWA8T/Xy4jNCS/XPC1C5vB6ZGfyM7Adx9C+Ey6GLCPJgQBgTtiLbvcvfnRrnoI2KEjv9xn0Rzgk6KABh13iwHnnH3HwCY2eLM8GdhRv8fE/6b/zvCif1otDxRm7F7sTBH0alAo4ch++nZ/KcAFi1/kUlaD0k//jTVQ7dC4BHg1e5+D+GD//ToP/suADP7HJO3HpJ+/Gmqh2AFsMbdfwT8J2GS48aMv5FfNLNvA08RgvKFFu5+cYgQmie6pB9/P3nD7zI+mdnFwCF33xyt+hiwxsw+Qxi1tB9oNLOvAI2ERP+pKOFjZu8FSqMRPRNWZj14mJj0AGHOousIt3AqJtTFC2Z2J6Efz6Sph6Qff5rqIejzudAUfdin5QJd7t5pZgacTejP9UkPUz1M+HpI+vGnqR4G/Bv5CGFqk1rCqOYXgH8zs/uBXYTPhM+4+/bo628B8tz9yKgXfgQk/fiz4u4T6gFMAe4lNNd/mnCSprd9BFgHvIbwX98/EkbuVWfskzPWxzAK9fA3hAkrV0XLryHMYv+KyVIPST9+1UN29UBo8cyJXp9GCMFT09smSz0k/fhVD0PWQVnGtguB7wBvjpbfRxjUsXKy1EHSj/94HhPxEnApoTn2w9Hr9Igt3P1rwGXu/oi7pycyrSGaq8cm170bB60H4B5CB/Zp0fJawi2MWmHS1EPSjz9N9RAMWA8epKKO/tujfS5Nb4NJUw9JP/401UP/Onh1eoO7PwlUE/VpIwyImUI0tc8kqYOkH3/WJkQANLN3mtmlZlbhoTP7HcBdhD9kF5nZnPS+7p45R9X5hKbdrmjbhP7BZlEPcwHcfT3wceDPLcxU/nbCZY50p/YJWQ9JP/401UOQ7eeCmVl0rIXRl6YDsMHErYekH3+a6uG46qAQeIxwCRTC5NfTov0mbB0k/fhP1LgNgBbMNrMHCROQ/inwDTOr8nBfwmbgt4TOuldkfF2hmV1mZmsJfQG/5BN43qoTrQd3/zZwJ3A78Gbg/e6+c9QP4CQl/fjTVA/BidSDu7uF0Z5NhM+8i9Prx+YoTlzSjz9N9XDcdXAlQHRlbDVQZmaPADcTpjiacFOaJP34R8K4HAQSnaRdZlYO7HH3t1uYr+crhGT/JgB3/4OZXQgsN7NKoN3dW8ysHfiih1sZTVgnUA/LonpIebiR/ZfNLN8n6D0bk378aaqH4CQ+FzqiPwYA73X39jE5gJOU9ONPUz2c8GfCFKDN3Tea2buA2e6+bcwO4iQk/fhHyrhqATSzXDP7e+DvzexSYBk9l2+7gI8Cl0Tb0r4JlBGS/nYzm+Puj03k8HeS9fAbYItFTd4T8Y9+0o8/TfUQjEA9vJxRDxPuj37Sjz9N9TAidbDdzOa6e8tEDD9JP/6RNm4CYPQDe4rQXLuFcDePDuDyKMGnr8/fHj3S3kC4nv8scLZPwNnJM41APaxjAtdD0o8/TfUQJL0ekn78aaqHEf0buWf0Sj1ykn78cRhPl4BTwL+4+w8BzOxcwi14PgN8g3BD5hzCyN4rzGyRh/l6WoHXuvsjY1PsEZf0ekj68aepHoKk10PSjz9N9aA6SPrxj7hx0wJISPZ3RdfxIdyYe4G7fw/INbMPR+l+HmESz+0A7v7fk+wHm/R6SPrxp6kegqTXQ9KPP031oDpI+vGPuHETAN292d3bouv4AFcB9dHr9xBu3XMPYUTj09AzfH8ySXo9JP3401QPQdLrIenHn6Z6UB0k/fjjMJ4uAQOhkyfgwEzCcG0IM3r/DXAW8HL6Gr77xBy+n42k10PSjz9N9RAkvR6SfvxpqgfVQdKPfySNmxbADCnCTZoPACuiRP93hCktfu/J6cCZ9HpI+vGnqR6CpNdD0o8/TfWgOkj68Y8YG48B2cJNnB+LHt/1MJlt4iS9HpJ+/GmqhyDp9ZD0409TPagOkn78I2W8BsB5wDuAL3uYuTuRkl4PST/+NNVDkPR6SPrxp6keVAdJP/6RMi4DoIiIiIjEZzz2ARQRERGRGCkAioiIiCSMAqCIiIhIwigAioiIiCSMAqCIiIhIwigAioiIiCSMAqCIiIhIwigAioiIiCSMAqCIiIhIwigAioiIiCSMAqCIiIhIwigAioiIiCSMAqCIiIhIwigAioiIiCRMbAHQzL5jZnVmtmGQ7WZmXzOzLWa23szOi6ssIiIiItIjzhbA7wHXDLH99cCS6HEr8I0YyyIiIiIikdgCoLs/AhwaYpcbgB948EdgipnNjqs8IiIiIhKMZR/AucCujOXd0ToRERERiVHeWBcgG2Z2K+EyMaWlpecvX758jEskIiIiMv499dRTB9y9uu/6sQyAe4D5GcvzonX9uPsdwB0ANTU1vnbt2vhLJyIiIjLBmdmOgdaP5SXg1cA7o9HAFwMN7r53DMsjIiIikgixtQCa2Z3AZUCVme0GPgvkA7j7vwP3AdcCW4Bm4D1xlUVEREREesQWAN395mG2O/DncX1/ERERERmY7gQiIiIikjAKgCIiIiIJowAoIiIikjAKgCIiIiIJowAoIiIikjAKgCIiIiIJowAoIiIikjAKgCIiIiIJowAoIiIikjAKgCIiIiIJowAoIiIikjAKgCIiIiIJowAoIiIikjAKgCIiIiIJowAoIiIikjAKgCIiIiIJowAoIiIikjAKgCIiIiIJowAoIiIikjAKgCIiIiIJowAoIiIikjAKgCIiIiIJowAoIiIikjCxBkAzu8bMNpnZFjP75ADbF5jZg2b2jJmtN7Nr4yyPiIiIiMQYAM0sF/g68HrgDOBmMzujz26fBu5y93OBtwH/Fld5RERERCSIswXwQmCLu29z93bgJ8ANffZxoCJ6XQnUxlgeEREREQHyYnzvucCujOXdwEV99rkd+LWZfRgoBV4bY3lEREREhLEfBHIz8D13nwdcC/zQzPqVycxuNbO1Zra2vr5+1AspIiIiMpnEGQD3APMzludF6zK9D7gLwN0fB4qAqr5v5O53uHuNu9dUV1fHVFwRERGRZIgzAK4BlpjZKWZWQBjksbrPPjuBKwHM7HRCAFQTn4iIiEiMYguA7t4J3AbcD7xAGO270cw+b2arot3+EviAma0D7gTe7e4eV5lEREREJN5BILj7fcB9fdZ9JuP188Ar4yyDiIiIiPQ21oNARERERGSUZdUCGE3qPDNzf3ffGVehRERERCQ+wwbAaI6+zwL7gVS02oEVMZZLRERERGKSTQvgR4Fl7n4w7sKIiIiISPyy6QO4C2iIuyAiIiIiMjqyaQHcBjxkZvcCbemV7v7l2EolIiIiIrHJJgDujB4F0UNEREREJrBhA6C7fw7AzMqi5ca4CyUiIiIi8Rm2D6CZnWVmzwAbgY1m9pSZnRl/0UREREQkDtkMArkD+Ji7L3T3hYTbt30z3mKJiIiISFyyCYCl7v5gesHdHwJKYyuRiIiIiMQqq1HAZvZ3wA+j5bcTRgaLiIiIyASUTQvge4Fq4OfRozpaJyIiIiITUDajgA8DHxmFsoiIiIjIKBg0AJrZV9z9f5rZ3YR7//bi7qtiLZmIiIiIxGKoFsB0n79/Ho2CiIiIiMjoGDQAuvtT0ctz3P2rmdvM7KPAw3EWTGTCc4eG3bB/I9RtDM/7n4emOqhaBrPOhllnwcyzYMbpkF881iUWEZGEyGYU8LuAr/ZZ9+4B1okkV+tRqHshI+hFYa+toWefKQtgxpkw/wKo3wTP/gjaoxvrWA5MX9ITCGetCK/LZoLZ2ByTiIhMWkP1AbwZuAU4xcxWZ2wqBw7FXTCRcamrEw5tg/0boO75nrB3ZEfPPoUVMOMMOPstMPPM8JhxOhRV9n6vVAqObId9G2Dfc+E9d62BDT/r2aekKiMUnh0eVUshN39UDlfGQGtD+Aeh7oXwqH8BOtvCPwWzV4ZH9TL9DojISTH3fuM7wgazhcApwD8An8zYdAxY7+6d8Revv5qaGl+7du1YfGtJmsb6PkFvQ/jD3NkatlsuVC0JYS8d9GaeCZXzT67VruVIz/fb91x41L0AXW1he25BCAAzz+4dDkumnfwxy+hpa4QDmUHvxfB8dE/PPnnF4WedVxj+UehoCutzC2HmGT2BcPbK0LqcXzQ2xyIi45aZPeXuNf3WDxYAxysFQBlxHa3hj+/+jVHY29DTVy+tbGZG0Dsr/PGtWjZ6f3C7OuHglp5QmH5u3N+zT8XcKAxmhMJpp0JO7uiUMWkO74Ctv4O8otDqW1SR8VwZnnPzoaMl/OOQDnjpVr0jO3veK7cQqpdC9ekwY3n0fDpMWQg50XStqa7Q+rx3Hex9NnpeF1oMIfxDMuP0nkA480wonhr6luaX9Dyr5VAkUU44AJrZxcC/AqcDBUAu0OTuFXEUdDgKgHLC3MMf3V6DMjbCwa3gXWGfvCKoXh6FvDND0JtxJpRVj23ZB9NYD/ufC61D+zeE5wObIBU10OeXhFAw6+yeUDjzTCgsH9tyT1SpFGx9ANZ8Czb/igFmyOotrzhqMY72y8kPrcbVy8PPZcbpIexNXQS52XTJ7sM9dD9Ih8H0o6l+8K/JycsIhH3CYa/XA23vs62gdOBteUXquyoyTpxMAFwLvA34KVADvBNY6u6fiqOgw1EAlKy0NoRWvMxLuHUvQNvRnn2mLgrhLh30Zp41OVrMOttCa1N3KIxaDFsO9+wzdVFGIIyepyzQH+2h1D4DP78VDmyG0mo4712w8ubw+9J2NAwEam3oed0WLReU9bTqTV8cfwucOxzbF37v2xtDC2RHc5/n6HV7c/91/V43M2zQHciAYbI0u2CZua5gsP1KJv65KjIKBguAWf3L6e5bzCzX3buA75rZM8CwAdDMriGMFs4FvuXuXxpgnxuB2wmfMOvc/ZZsyiQC9L40mjkoo2FXzz5FlSHorbip96CMydoKllfYcxkwzR2O1kZhMKPF8MV76f7jXlgZ6qb7EvJZ4bK3pqeBp74P930cSqvgzd+G01dBXsFYl2pgZlAxOzxGgnv4p6KjeYAgOUhg7GiB9qaBt7U2hIDa92tTHcdfttyCLFoxh2rNHKIVs/uSeYH+MZJJKZsA2GxmBcCzZvZPwF6yuIewmeUCXweuAnYDa8xstbs/n7HPEkKQfKW7HzazGSdyEJIA7tBYN8CgjM09gyNy8sJUKvMvgpr39oS9irn6ADeDyrnhseyanvXtTaFldN/6nlD47I+HmJ4majEsn5WMOu1ogfv+Cp75Tzj1cnjzt0IITBKz0Nc1vwiIcaBRV0d2wbK75XKYINpyOGNdFEbTA7iOh+UM0oo5TLDMthUzvzh0FcgZ9s+qjKWujvB52d4U/Q42ht/D9qbw+9XeFC03Rtubht7/3HfApZ8Y00PKJgC+gxD4bgP+ApgPvCmLr7sQ2OLu2wDM7CfADcDzGft8APh6dL9h3L2u37vI5OIObccGuGTW0PMYaNuhl6H5QM/7lM8OrVOnXt4T9KqWhtYvyV5BKcyrCY+0zOlp0peQ+01PM71Pv8KzovofB61i7qHc7lA2I0ylcyL96w5tg7veFcLxaz4Ol31KlxzjlJsPuZX9p0saSakUdA4RLDta+lwWHyqItkDzwT4to9F2Tx1/2fKK4mvFTMoAoMzW6gEDWjYBbpBA19WefTksJ/yjUFAawn9BaVguqgwt8wVlobvRGMvmU/FPojuBtAKfg+47gQw3EfRcIOM6HLuBi/rsszR6vz8QLhPf7u6/6vtGZnYrcCvAggULsiiyxKazLSOcpUNb3yB3tPfrzH3bjg3/4ZhbEE6UworwXFQRWq1mnt0zKKN0+ugcbxLl5IQPp2mnwhkZt/zuOz3N/g3w5DczWmDzw+CGWX36Fo7W9DSHXob1d8H6n4Tw1s1CYC2bGQJh+lE6I1pXHT3PDK3Mm38Jm++HXU+G371b7oKlrxudY5B45eREf5RL4/se7iEsDBQeuy+LDxMsu183hQDSVN9/v+MJJGndA4CyDJb9WjGzGByUzQAg956W3GxbzIZtYYtepwf0ZVsf6XDWHdbKwj+NUxb2/K4MtE9+SZ/t0fqCkgkzCCqbQSBPu/t5fdY94+7nDvN1bwGucff3R8vvAC5y99sy9rkH6ABuBOYBjwBnu/uRwd5Xg0BGUFdH6Ct3eHt4NB2E1iODtM5Fz+k/9oOyjGkwKjOmxohe9w12hRVQNKX3Ns1lNnEMOD3NBmjc17NP+Zze/QpnrRi5wTYth2HjL2D9/4Wdj4d1i14NZ78ViqeEQNdYF6b0acx87B/6d3n2ObDs9XDOn8KU+SdfTpGR1tXZvzVzwNbLwcJmlvsdN+vfkpmTF4W45p7AdjwDi3ILBwhbg4Sv4wlr4+GKxSg47kEgQ9wJpILs7gSyh3C5OG1etC7TbuAJd+8AXjazzcASYE0W7y/DcQ9/IA+/3BPyMh8Nu/u3xuWX9AlsU8J/Qv3CW+XAwa6gTH1ZkiQ3L4xwnbE83PkkbaDpabY+0DM9TV5xz8jrdGvhzDPD79JwOtthy29DS9+mX4UgV7UUrvwMnH1jdoHNPfxz01gfwmA6IOYXw2lXjdwACpG45OZBbnm8g9ncQ7/JAVsvh+mnmfm6qzP7cNZ3n/zSE+vCIcOK7U4gZpYHbAauJAS/NcAt7r4xY59rgJvd/V1mVgU8A5zj7gcHe1+1APbR2R614g0U8nb0nvYEwmWvqYt6P6adEkJe2YzJ30dExk5nW5gQOXMi677T00xZ2HPLu3SL4ZSFYduep0Po2/Cz0PeqZHpo6VtxE8w5d0JcchERGW3H3QLo7juAHcArojC4xN1/a2bFQDEhCA7K3TvN7DbgfkL/vu+4+0Yz+zyw1t1XR9uuNrPngS7g40OFv0RyD3/sukPdyz3hLt2Kl9mUnlcU/mBOXQQLLukT9hbG2/dFZCh5hTB7RXikpaenybztXb/paaKW6Iad4VLQsteH+fdOu1L/sIiInKBs+gB+gDAAY5q7L46mbvl3d79yNArY16i1AK75dmi+zisMgxJ6PReGPzx91+UV9NlWmF3TtTs0HQgTzB7YHPpUZbbkpafkSCub1b8VL/0om6lLsDLxdU9PEwXCY/tgydVwxg2hb5+IiGTlZCaC/nPClC5PALj7S4mYr+/Rf+l9U/YTZTl9wmFBz+u8grD98Pbel8HyinsC3aJX9w54UxaEfhEik9lA09OIiMiIySYAtrl7u0X9a6K+fSdwX6AJ5sNPhWH2ne2hk3lnW7QcPWe+HnZbW/Q+7f3XpTrDiMOqpeFm8FVLoWKeWvFEREQkNtkEwIfN7G+AYjO7CvgQcHe8xRoH0nMdiYiIiEwy2TQzfRKoB54D/gdwH/DpOAslIiIiIvEZtgXQ3VPAN6OHiIiIiExwwwZAM3uO/n3+GoC1wBc1bYuIiIjIxJJNH8BfEubo+3G0/DagBNgHfA+4PpaSiYiIiEgssgmAr+1zL+Dn0vcHNrO3x1UwEREREYlHNoNAcs3swvSCmV1AuLMHwJC3gxMRERGR8SebFsD3A98xs7Jo+RjwfjMrJdwnWEREREQmkGxGAa8Bzjazymi5IWPzXXEVTERERETiMewlYDObaWbfBn7i7g1mdoaZvW8UyiYiIiIiMcimD+D3gPuBOdHyZuB/xlUgEREREYlXNgGwyt3vAlIA7t5JmBZGRERERCagbAJgk5lNJ5oM2swuJkwELSIiIiITUDajgP8SWA0sNrM/ANXAW2ItlYiIiIjEJptRwE+Z2aXAMsCATe7eEXvJRERERCQW2YwCXg98Amh19w0KfyIiIiITWzZ9AK8n3PHjLjNbY2Z/ZWYLYi6XiIiIiMRk2ADo7jvc/Z/c/XzgFmAF8HLsJRMRERGRWGQzCAQzWwjcFD26CJeERURERGQCGjYAmtkTQD7htm9vdfdtsZdKRBJv/9FWHnyxjgc31bF5fyOXLJ7OdSvmcOEp08jNsbEunojIhJZNC+A73X1T7CURkUTrSjnP7jrSHfo21h4FYHZlEctmlfPzp/fwoyd2Ul1eyBvOns0bVszm/AVTyVEYFBE5btlMA3PC4c/MrgG+CuQC33L3Lw2y35uB/wIucPe1J/r9RGRiOdLcziMvHeDBF+t4eHM9h5rayTE4f+FUPnHNMi5fNoPls8oxM5rbO3ngxTruWbeXO5/cyfce287syiKuPXs2162YzTnzp2CmMCgikg1z93je2CyXcN/gq4DdwBrgZnd/vs9+5cC9QAFw23ABsKamxteuVUYUmYjcnRf3HePBTXU8+GIdT+04TMphakk+ly2bwWXLqrl0aTVTSgqGfJ/Gtk5++/x+7llfyyObD9DelWLulGKuWzGb61bM4ay5FQqDIiKAmT3l7jV912c1COQEXQhsSfcZNLOfADcAz/fZ7wvAPwIfj7EsIjJGmts7eWzLQR7YVMdDL9ZR29AKwJlzKvjQZadx+fIZnDN/ynH16ysrzONPzp3Ln5w7l4aWDn4ThcFv//5l/uORbSycXsIXbjiL1yytjuuwREQmtGxHAV8CLMrc391/MMyXzQV2ZSzvBi7q877nAfPd/V4zGzQAmtmtwK0ACxZoCkKR8W7nwWYeeHE/D2yq54/bDtLemaK0IJdXLaniI1cu4fLlM5hZUTQi36uyOJ+3nD+Pt5w/jyPN7dy/cR/ffPRlPvifT/FfH7yE02dXjMj3ERGZTLIZBfxDYDHwLGEKGAAHhguA20bXXQAAIABJREFUw71vDvBl4N3D7evudwB3QLgEfDLfV0RGXntnirXbD/HAi3U8sKmObfVNAJxaVcrbL1rIFctncMEpUynMy421HFNKCrjpggVcunQGN3z997z/+2v5xZ+/kurywli/r4jIRJNNC2ANcIYff2fBPcD8jOV50bq0cuAs4KGor84sYLWZrdJAEJHxr+5oKw9tqueBF+v4/ZYDNLZ1UpCbw0WnTusOfYuqSsekbLMqi/j2uy7grf/+OLf+cC13fuBiivLjDZ8iIhNJNgFwAyGc7T3O914D/4+9+w6TrKrzP/7+dnWuzmHyNExkyGkkB0mKYsYAiLorgqDI/lZl17Qusuoadk27JoyoK67LGlBRFiWDAjOSJjB5YAIw02F6pnN31ff3x71VXV3Tobqnq1N9Xs/TT9UNVX3u6aquT517zrksM7NFBMHvMoIriQDg7q1AXWLZzO4DPqzwJzI1xePOUzuDaVru2bCHNbuCaVrmVBTz2uPnct4RszhzaR3Romx2Lc7cMfMr+fLbTuDan6zmxtuf5muXnaCBISIioUz+U9cB68zsMaA7sdLdXzfcg9y9z8yuB+4imAbm++6+1sxuBla5+x2HUG4RmQCtnb08sHEv927Yw/0b9tIUTtNyYkM1N74ymKblyLnlUzZYXXzMHP7x4hV8/g/PsqQ+yv+7cPlkF0lEZErIJADeNNYnd/c7gTvT1n1yiH1fPtbfIyLjw93Z+FIb94STMa9+roVY3KkqLeDc5fWcv2IW5yyrpzo6/DQtU8m15y5my942vvLHTSyqi/L6E+ZPdpFERCZdJhNB3x9eC3iZu//RzEoJWvREZAbo7InxyJbGcG6+veza1wnAkXMruPbcxZy/YhYnLKyetpdfMzM++8Zjeb65gxtvf5qFNaWc1FA92cUSEZlUI04EbWZXE0zBUuPuS8xsGfAtd79gIgqYThNBixy6Hc0d3LthD/c8u4c/b2miuy9OaWGEM5fWcf6KWZx3xCzmVI7PNC1TRXN7D2/8xsO0d/fxq/efyYLq0skukohI1g01EXQmAfBJgkmdH3X3E8N1z7j7sVkp6QgUAEVGrzcWZ9X2lmTo27ynDYDDa0s5b8Uszl8xi1MW1WR9mpbJtnlPG2/8xsPMqyzh9utOp7y4YLKLJCKSVYdyJZBud+9JdPI2s3yCeQBFZArbe6Cb+zYEffke3NjIge4+CiLGqYtqufyUBs47op7F9WWTXcwJtXRWGd98+8m86wePccNtT/Ddd71s2p7aFhE5FJkEwPvN7GNAiZldBLwP+E12iyUioxWPO8/sak0O4Hh6ZysAsyuKuOS4uZy3IpimpWyKTNMyWc5aVsenXnc0n/jVGj7zu/V88rVHTXaRREQmXCafBB8BrgKeAd5LMKr3u9kslIhkZn9XLw9ubOSeZ/dw/8Y9NLb1YAYnLqziw69YzsuPmMXR8yqm7DQtk+XK0w5j6952vv/wNhbXR7nytMMmu0giIhMqk1HAcTP7CfCAu2+YgDKJyBDcnc17+qdpWbW9hb64U1kSTNNy3op6zl0+i5ppNE3LZPn4JUeyvamdf75jLYfXRjlrWd3IDxIRmSEyGQTyOuCLQKG7LzKzE4CbR5oIOls0CERyTVdvjD9vaUqGvp0twTQtK+aUByN2V8zixIVV5EfyJrmk009bdx9v/uYj7NrXyS/fdyZLZ+VWn0gRmfkOZRTwauB84D6NAhaZGDtbOrj32T3cu2Evj2xppKs3TklBhDOX1nJeOE3LvKqSyS7mjLCzpYM3fP1hokX5/PJ9Z45r6+maXa20dfdx6qIanYYXkUlxKKOAe929Ne2fl0YBi4yj3lic1c+1hJMx72HjS8E0LQ01pVz2sgbOWzGLUxfVUFwws6dpmQwLqku55Z0rueyWv3Dtj1fzo6tOGZd6fnrnPt727b/Q2RvjhIVVfOD8pZy/YpaCoIhMCZkEwLVmdgUQCSeBvgF4JLvFEpn5Gtu6uX/DXu7ZsIcHNu7lQFcf+XnGKYtqeOvKhZy3YhaL66IKDBPgpIZq/v0tx/OB257gQz9/iv+4/ETyDmF6mB3NHbz7h6uoiRZy1VmL+P7D27jq1lUcObeC95+3hFcdM1fTz4jIpMokAH4A+DjQDfwUuAv4dDYLJTITxcJpWhKh7+md+3CH+vIiXnXMHM4Pp2nR5MST47XHz+PF1i4+c+d6ZlUU8cnXHDWm8N3a0cvf/vBxevpi3Hb1qSybXc47Tj+MXz+5m2/ct5nrf/oEi+s38r6XL+X1J8yjIAt9N7fsbeNP61+ipCBCbVkRtdFCassKqY0WUVlScEjhVkQOnbtP+pf7YfsAmlkE+KO7nzdxRRqe+gDKdPLS/i7u37iXBzbu5aHNjezr6MUMjl9QxfnhFTiOmluhD+Qpwt25+bfr+MHD2/n4q4/k6nMWj+rx3X0x3vm9x/jr8y38+KpTOW1x7YDtsbjzhzUv8p/3bmb9C/tZUF3Ctecu4c0nLzjk085dvTHuWvsiP330eR7d1jzkfpE8o7q0kLqyIBTWRIOAWJe4XzbwfnlR/qR/UIlMZ01t3azdvZ+1u/ezZncr63bv540nzueGC5ZNyO8fUx9Ad4+ZWdzMKt29NXvFE5kZunpjPL69mQc27uWBjY1seOkAELTynb9iFucur+espXXUlhVNckllMGbGP11yFHv2d/OZO9fzXHM7xy+o4si5FSydVTZsSIvHnX+4/Wke3dbMVy874aDwB0H4uuS4ubz62Dnc8+we/vPezXziV2v42p82cc05i7ni1AZKC0c3Ufemlw5w22M7+MUTO9nX0UtDTSn/cPERvPHE+UTMaGrvoamth6b27rTbHpraunm6ZR/NbT0c6O4b9PkLI3nUJFoQE62J0cKBLYsp90dbfpGZwt3Zta8zGfbW7W5lza79vLi/K7nPguoSjp5XwZIpcBWmTEYB/xo4EbgbaE+sd/cbslu0wakFUKYSd2fL3jbu39jIAxv38ui2Jrp64xRG8lh5eDXnLK/nnGX1HDm3XK0o00hXb4wP/vxJ7nl2D129cSAIb0vry/jYJUdy7vL6gx7zxbue5ev3buHGVx7B+89bmtHvcXf+vKWJ/7hnM3/e2kRNtJB3n3k47zj9cCpLhu4K0NUb485nXuC2x57n8e0tFESMVxw9h8tf1sAZS2rH1KLc1Rujub2H5vYeGtuCkNjc3kNje//9prZuGsMQmaiXdCUFEWqiiRbGomR4rIum3A/X10QLNbBJpqVY3NnW2JYMe2t3t7J29372dfQCkGewpL6Mo+dVcPS8So6eV8FR8yqoKp34OVoPZRqYdw223t1vHaeyjYoCoEy21s5eHt4cBL4HNzWya18wL9/iumgQ+JbXcdriWrWEzACxuPNcUzvrXzjAsy/u585nXmDXvk5uu/o0TmyoTu7300ef52O/fIbLT1nIZ9947JjC/urnWvj6vZu559k9lBfl864zDufdZy0aMC3NhhcPcNtjz/OLv+5kf1cfh9eWcvkpDVx68gLqJrhVuaOnb0BL4oD77f33m8MWyJ7Y4IGxvCifmrJBWhXDU9D9t4VURwuz0mdSZDjdfTE2vtiWDHlrd7ey/oUDdPbGgKCVfMXc8jDkBWHvyDkVlBROjS83Yw6AU40CoEy0WNx5euc+HtjYyP0b9/Dkjn3EPfjgOmNpbbKVb2FN6WQXVbJs74FuLv3mIxzo6uX2685gSX0Z927Yw3tuXcVZS+v43rtWHvKE3Gt2tfKN+zbz+zUvUpwf4YpTG1g+u4z/fnwHf31+H4WRPF55zBwuP2Uhpy+unRYty+7Oge4+msPWw8a0FsXm9oGnppvbe4jFB/9sqiotCFoYw2BYEwbHusT9aP/9qtJCjbaWUWnr7mNdSove2t372fTSAfrC12NZUT5Hza3g6Pn9LXtLZ5VN6S8mow6AZvZ6YIG7fz1cfhRInPf4B3e/PVuFHY4CoEyEF1o7eXBjI/dv2svDKYM3jptfGbby1XPCwqop/aaX7Nje2M6l33yE4oII//KGo7n+p0+wqC7Kf7/3dMqKxq/Vd/OeA3zjvi38+sndxOLO4vooV5zSwJtOWjDjL/UXjzutnb2DtigmT02H65vbe2jp6GGwj7I8I3mqObUlsbYs7X64vaJEA15ySWJwxpow7K3bvZ/tTe3J11JdWWGyRe+Y8LahpnTaDdobSwB8GLjM3XeEy08CFwBR4AfufkEWyzskBUDJhq7eGI9tCwdvbNqbnIh5VnlRMvCdtbRuxn/wSmae3rmPy275Cx09MeZVFvPL95/J7IrirPyunS0dNLX1cNyCSoWTIfTF4rR09Pa3Krb30BwGxKCFceAp6v1dgw94KYhYGBiDVsTa6OAjo+uiRdSUFRItjOhvMg0MGJyxq79lb7DBGUfPq+SYsHVvVnnRjPj7jmUUcGEi/IUecvcmoMnMouNeQpEJ5O5s3tMWTNGyqZFHtzbR3RcM3jhlUQ1vPnkB5yyv54jZGrwhBztuQRXffsfJfPnujfzrm47LWviD4EolC6rVvWA4+ZE86suLqC8vAspH3L+nL5522nlgQGwOg+P2pnaa23po74kN+jxF+XnJAS3p/RUHGyWtAS/Zlzo4Y01K2GvtHDg447TFNZM+OGOyDdcCuNndBx3KZmZb3H1JVks2BLUAyli1dvTyUDh444FNe3mhNfj2t6Q+mmzlO21R7ZTpuCsiU0NnT4ym9v4BLY2JwS3tKffb+lsfe/oGH/ASLYwkR0bXhYExMQAmNUjWlRVRXVpIYb66mAwnfXDGmt2tPDuNBmdMlLG0AD5qZle7+3fSnui9wGPjXcCp5n3/tZq+mHNYbSkNtVEOqynlsNpS5lWVqN/XNNEXi/PUztZk4HsqMXijOJ+zltZxwwX1nL2sTq0rIjKsksIICwoza4l1d9p7Yv19F9t6Bt4Pg+SufV08vbOV5vae5ACDdBXF+QNbGAedhzHYXl1acMgDkKay9MEZa3a1snlP20GDMy47ZeG0GZwx2YYLgH8P/Cq8DvBfw3UnA0XAG7JdsMmWZ8bWxjbu27h3wLe5SJ4xv6qEhppSGmpLk8GwoSbKYbWlRMexE7iM3u59ncnA99CmRvZ39SWvvHH9+cs4d3kdxy+omtH/KEVk8pgZZUX5lBXlc1jtyL2l3J39nX00JlsY00ZJt/fQ3NbDtsZ2Vj/XQnN7D4PlRTOoLk0MeCkcMThO5UsCNiavnNE/OGNbY3Ia4uTgjPNWzJrWgzMmWybzAJ4PHB0urnX3ezJ+crOLga8CEeC77v65tO0fBN4D9AF7gXe7+3PDPedEnwKOx52XDnTxXFMHzzd18FxzO883d/J8UzvPNXckJ31MqCsrDMJhzcCWw4baUurLZkaH0qmkqzfGX7Y28cDGRh7YtJfNe4LBG3MqijlneV1y8EYu9u8QkZknFnf2dfQk+ykmWhQb2wbOu5gIlOmfUQmRPEuGxUT/xfQJvFNPU2fjkoDuzs6WzuRVM3JtcMZEmfB5AMPrCG8ELgJ2Ao8Dl7v7upR9zgMedfcOM7sOeLm7v224551qfQBbO3uTwfC5pg52NHcEYbG5g92tnQOmJigtjPSHwzAYLqoLOqOqRSoz7s7Gl9qSrXyPbmumpy9OYX4epy6q4ZxlQV++5bPL9A9CRHJebyxOS3IanaEHvjSFLY3DXRJwwLyL0f77gw18SZ8IPzE4Y82ugXPspQ/OmApXzphpxnQt4EN0CrDZ3beGBfgZ8HogGQDd/d6U/f8CXJnF8mRFZUkBxy6o5NgFlQdt6+6LsbOlk+fDQBgEw3a2NbZz/8a9dIenlo+eV8Fn3ngsJyysmujiT3nuzt62bh7d2py88kbi2+HSWWVceephnLO8jlM1eENE5CAFkTxmVRQzK8OR6pleEnDLnrYRLwmYCIaYsfHFgwdnvPrYOTk9OGOyZTMAzgdSp5HZCZw6zP5XAb8fbIOZXQNcA9DQ0DBe5cu6ovwIS+rLBr3oczzu7DnQzV+2NvGvv1/PG7/xMFec0sA/vHIFlaVDXwN0porHg3maNu9tY/NLbWze0xbc39OW/IZYUZzPWcvqkq1886pKJrnUIiIzS3FBhHlVJRn/f83kkoC9fXENzpiCpsSIBTO7ElgJnDvYdne/BbgFglPAE1i0rMnLM+ZUFvOGE+dzwZGz+PLdm/jhI9u4a+2L3PjKIzh1US0Lqktm3Knh3lic55rag4AX/mza08bWve3Jb4cAtdFClswq4zXHzWXprDKOW1DF8QsqZ1x9iIhMZ6WF+ZTW5OtSmNNQNgPgLmBhyvKCcN0AZnYh8HHgXHfvzmJ5pqzy4gI++dqjeNNJ8/n4r9bwj//7DBDMSt9QU8ri+jIW10dZXBcN7tdFqYkWTuk+bp09MbbsbRsQ9DbvbWN7Y/uAKQ/mV5WwZFYZpy6qZdnsMpbOKmNpfRnVuuKGiIhI1mRzEEg+wSCQCwiC3+PAFe6+NmWfE4HbgYvdfVMmzzvVBoGMt3jceWLHPrbsDVrFtjUGt881ddAT6+9rUVGcnwyDi+uDYLioLsqiuuiEzjbf2tHL5r0H2JR22nbXvv4BMJE847DaUpbWhwFvVhnLZpWzuD6qaXNERESyaMJHAYe/9NXAVwimgfm+u3/GzG4GVrn7HWb2R+BY4IXwIc+7++uGe86ZHgCHEos7u1o62dI4MBhua2xPXtECgrmg5lWWJFsMFyVaDeujzKssGdM8Se5Bf8X+U7YHwvvtNLb1N9oW5eexuL6MZbP6g97SWWUcXhvVjPYiIiKTYFICYDbkagAcTnt3H9sagzCYDIfh/baUIf1F+XnJVsIgIJaxqD7KkroyKksLiMWdnS0dB/XP27K3jQMpF08vL85PnqpdOqssOHVbX8786hIimohTRERkypiMaWBkgkSL8jlmfiXHzB84FU1iCpVES+HW8LTyhhcPcPe6lwb0xauJFtLe3ZecmgagrqyIZbPKeMMJ81NO3ZZRr0k4RUREpjUFwBnMzJhVXsys8mJOW1w7YFtvLM6O5g627m1na2Mb2xo7KCuK9J+6rS/PyeloREREcoECYI4qiOSFfQPLgNmTXRwRERGZQOqZLyIiIpJjFABFREREcowCoIiIiEiOUQAUERERyTEKgCIiIiI5RgFQREREJMcoAIqIiIjkGAVAERERkRyjACgiIiKSYxQARURERHKMAqCIiIhIjlEAFBEREckxCoAiIiIiOUYBUERERCTHKACKiIiI5BgFQBEREZEcowAoIiIikmMUAEVERERyjAKgiIiISI5RABQRERHJMVkNgGZ2sZltMLPNZvaRQbYXmdl/h9sfNbPDs1keEREREcliADSzCPB14FXAUcDlZnZU2m5XAS3uvhT4MvD5bJVHRERERALZbAE8Bdjs7lvdvQf4GfD6tH1eD9wa3r8duMDMLItlEhEREcl5+Vl87vnAjpTlncCpQ+3j7n1m1grUAo2pO5nZNcA14WKbmW3ISolHVkda2XKQ6kB1kKB6UB3k+vEnqB5UBzB16+CwwVZmMwCOG3e/BbhlssthZqvcfeVkl2MyqQ5UBwmqB9VBrh9/gupBdQDTrw6yeQp4F7AwZXlBuG7QfcwsH6gEmrJYJhEREZGcl80A+DiwzMwWmVkhcBlwR9o+dwDvCu+/GbjH3T2LZRIRERHJeVk7BRz26bseuAuIAN9397VmdjOwyt3vAL4H/NjMNgPNBCFxKpv009BTgOpAdZCgelAd5PrxJ6geVAcwzerA1OAmIiIiklt0JRARERGRHKMAKCIiIpJjFABTaBJqkX56P4j00/tBZhoFwIFUH4KZHWFmei3o/SDo/ZBCdQDk8mvBzOZPdhnGU87+IVOZ2SVm9lvgX8zszMkuz2QxszeY2b9Mdjkmi5ldZGaPAu8hh98bej8E9H7Q+wH0fgAws9eZ2QcnuxyTxcwuNLPVwLWTXZbxlPOjgM3sZOCbwE1ABXA+8Ii7/9DM8tw9Ppnly7bwtEYe8LfARwguGXO+uz84qQWbIOHx5wP/BFwO/KO7/yJ1ey7NTan3g94P6P2QpPeD5QMfAq4DGoCT3P1JM4u4e2xyS5dd4XuhAPgKcAZwk7v/KnX7dH8v5Oy3uhQXAg+6+53Ar4EXgRvMrNLd4zO934cHYsBm4ETgfUDOtHqEx98LxIHbEx92Zna2mRVMbukmhd4Pej/o/dAv198PfcAGYAXwQeDb4foZHf4g+V7oAUqBX7n7r8wsz8yOT2yf3BIeupwLgGZ2g5l9x8yuDlfdC7zWzKrdvRPoBVqBf4SZ8UceTEo9vCdcdb+7H3D37wBRM7sq3G9GvkZSjv+acNW3gLlm9gMzewb4B4KJyt8d7j8j/9Hr/RDQ+0HvB9D7AZJ18Dkze2u46nfu3uXuXwFmmdkV4X4z8gtByvG/LVz1L8DZZvZvwF+BT5vZLWb2yskr5fiYkf/MhmJmfwNcAfwvcKWZfRzYTnC1kh+b2YPAYuBzQJWZRSepqFmVVg/vMLOPEhx3wieBD4b/9GbcKY6043+7mX0C6AZ+BRQCbwFeF25/k5k1zNB/9H+D3g96P+j9AOj9YIG/B94GrAI+FdZJdcpuHwS+CBC2FM8Ygxz/TWZ2lbtvIXgvrAi3XQGsAd5oZnWTVuBxkFMBELgA+Ly7/4GgX0Mx8E53/wDBqZ6b3f1vgS6gxN3bJ6+oWTVYPbw9sdHdfw+sB64xs3Ize8vkFDNr0o+/CHhv2L/jGnd/NvyAexrYR/CtfybS+yGg94PeD5Dj74fwb3we8Al3vx34e+A44JUp+/wS2GhmH4ZgcMRklDUbhjj+483sre7+H8Bl7r7B3Q8ATxL0Ce2YvBIfupwIgCmnbZ4AXgPg7quAh4HlZna2uz/v7neH+10CbJn4kmbXMPXwZ2C+DRzh9o/AvwKbgDkTWc5sGeF1sMjMzkz7p/4uoARomdCCZpneDwG9H/R+gNx8P6Sfwk+pg1XA2QBhEN4EHG1mR6Tsfh3wBTN7EZiW06KM4vjXAyeb2RHu3pbykIsIwl/XBBQ3a2ZkADSzOeFtHkDKaZuHgTwzOydcXgPsJvyHbmbnmNn9wDKCPjDTmpkdbWbFieUR6uEFYF74uKXANwiavU8Kv/1MO4dw/Jea2VMEp3uuc/dp/SYfZT3M5PfDmWa2JLGcg++HsR7/THs/jKYeZur7oSR1IaUONgPlZnZsuHw/UAmUA5jZCcB3CE6Tn+Tut05MccfdaI6/gv7jv8zM1hDMDvCx6d4lZEYFQDM70cz+RDhqL/HHSUn3m4C1wNssGMa+E5gNLAq3bwfe5+5vdPfGCS38ODKz48zsIeDTQG3K+pHq4fBweytwvbu/yd13T1zJx8chHH/idbARuNbd3+nuL01g0cfVONTDdmbG++EkM/s/4B6CD7PE+lx5P4z1+Gfa++FQ62E70/z9YGanmdn/Al83s1eYWSRcnx/u8hjQB7zCzPLdfR1BK9/KcHsTQR28ZZq+Fw71+J8j+BL0TnffM9HlH28zIgCGnTe/DPwIuNXdr07ZljpX0wHgQYI+Lv9mwSimaqARIGzmXzuxpc+KTxBM4fBGd98FEP5DG6kemgDcfa+7b5qEco+XsR5/4nXwjLv/eRLKPd4OtR6m9fvBzArM7NvALcDXCDrzvzzcNuPfD+Nw/DPi/TCO9TDd3w8vJ2jJ/gXB1C5XAtXhZ2QfgLtvJjgNuoRgHkwIBgQ9F27f4e7PTHDRx8U4Hf+ffQbNCTojAmDYebMceMLdfwRgZktSw58FM/r/lODb/D8RvLEfDJenazP2ABbMUbQYaPNgyH5iNv8qwMLlTzND6yHXjz9B9ZBUBDwAnO3uvyX4x39k+M0+BmBmn2Lm1kOuH3+C6iFwHPC4u/8X8BOCSY7bUj4jP21m3wNWEwTlUyy4+kUzQWie7nL9+A+SP/IuU5OZnQY0u/vGcNUHgcfN7JMEo5ZeAtrM7CtAG0Gi/2iY8DGzdwPRcETPtJVaDx5MTNpIMGfRawgu4VRCUBfrzew2gn48M6Yecv34E1QPgbT/C+3hP/uECBBz9z4zM+BYgv5cH/FgqodpXw+5fvwJqodBPyMfIJjaZDfBqOb1wDfM7C5gB8H/hE+6+/bw8VcA+e6+b8ILPw5y/fgz4u7T6geoAn5H0Fz/CYI3aWLbDcBTwDkE3/o+TzByrz5ln7zJPoYJqIePEUxY+bpw+RyCWexPnyn1kOvHr3rIrB4IWjzzwvtLCUJwdWLbTKmHXD9+1cOwdVCWsu0U4PvApeHyVQSDOo6fKXWQ68c/mp/peAo4StAc+4HwfmLEFu7+NeDl7v6AuycmMl1JOFePzaxrNw5ZD8BvCTqw14TLqwguYdQFM6Yecv34E1QPgUHrwQPxsKP/9nCfcxPbYMbUQ64ff4Lq4eA6ODuxwd0fA+oJ+7QRDIipIpzaZ4bUQa4ff8amRQA0s3ea2blmVuFBZ/ZbgJ8TfJCdambzEvu6e+ocVScTNO3Gwm3T+g+bQT3MB3D3p4EbgfdbMFP5lQSnORKd2qdlPeT68SeoHgKZ/l8wMwuPtSh8aCIAG0zfesj1409QPYyqDoqARwhOgUIw+XVNuN+0rYNcP/6xmrIB0AJzzexegglI3w5808zqPLguYQfwR4LOuuenPK7IzF5uZqsI+gJ+zqfxvFVjrQd3/x5wG3ATcCnwHnd/fsIP4BDl+vEnqB4CY6kHd3cLRnu2E/zPOy2xfnKOYuxy/fgTVA+jroMLAMIzY3cAZWb2AHA5wRRH025Kk1w//vEwJQeBhG/SmJmVA7vc/UoL5uv5CkGyfxOAuz9sZqcAK8ysEuhx904z6wE+7cGljKatMdTDEWE9xD24kP2XzKzAp+k1G3P9+BNUD4FD+L/QG34YALzb3Xsm5QAOUa4ff4LqYcz/E6qAbndfa2bvAua6+9ZJO4hDkOvHP16mVAugmUVEf/3yAAAgAElEQVTM7LPAZ83sXOAI+k/fxoC/A84ItyV8BygjSPrbzWyeuz8yncPfIdbD3cBmC5u8p+OHfq4ff4LqITAO9bAtpR6m3Yd+rh9/guphXOpgu5nNd/fO6Rh+cv34x9uUCYDhH2w1QXPtZoKrefQC54UJPnF+/qbwJ+ESgvP5TwLH+jScnTzVONTDU0zjesj1409QPQRyvR5y/fgTVA/j+hm5a+JKPX5y/fizYSqdAo4D/+7uPwYwsxMJLsHzSeCbBBdkziMY2Xu+mR3uwXw9XcCF7v7A5BR73OV6PeT68SeoHgK5Xg+5fvwJqgfVQa4f/7ibMi2ABMn+5+F5fAguzN3g7j8EImb2gTDdLyCYxHM7gLv/eob9YXO9HnL9+BNUD4Fcr4dcP/4E1YPqINePf9xNmQDo7h3u3h2exwe4CNgb3v9bgkv3/JZgRONfoX/4/kyS6/WQ68efoHoI5Ho95PrxJ6geVAe5fvzZMJVOAQNBJ0/AgdkEw7UhmNH7Y8AxwLbEOXz36Tl8PxO5Xg+5fvwJqodArtdDrh9/gupBdZDrxz+epkwLYIo4wUWaG4HjwkT/TwRTWjzkudOBM9frIdePP0H1EMj1esj1409QPagOcv34x41NxYBswUWcHwl/fuDBZLY5J9frIdePP0H1EMj1esj1409QPagOcv34x8tUDYALgHcAX/Jg5u6clOv1kOvHn6B6COR6PeT68SeoHlQHuX7842VKBkARERERyZ6p2AdQRERERLJIAVBEREQkxygAioiIiOQYBUARERGRHKMAKCIiIpJjFABFREREcowCoIiIiEiOUQAUERERyTEKgCIiIiI5RgFQREREJMcoAIqIiIjkGAVAERERkRyjACgiIiKSYxQARURERHJM1gKgmX3fzPaY2ZohtpuZfc3MNpvZ02Z2UrbKIiIiIiL9RgyAZnammd1tZhvNbKuZbTOzrRk89w+Bi4fZ/ipgWfhzDfDNTAosIiIiIocmP4N9vgf8PbAaiGX6xO7+gJkdPswurwd+5O4O/MXMqsxsrru/kOnvEBEREZHRyyQAtrr777Pwu+cDO1KWd4brDgqAZnYNQSsh0Wj05BUrVmShOCIiIiIzy+rVqxvdvT59fSYB8F4z+yLwC6A7sdLd/zqO5RuWu98C3AKwcuVKX7Vq1UT9ahEREZFpy8yeG2x9JgHw1PB2Zco6B84/xDLtAhamLC8I14mIiIhIFo0YAN39vCz97juA683sZwQhs1X9/0RERESyb8QAaGaVwD8D54Sr7gdudvfWER53G/ByoM7MdobPUQDg7t8C7gReDWwGOoC/HdshiIiIiMhoZHIK+PvAGuCt4fI7gB8AbxruQe5++QjbHXh/Br9fRERERMZRJgFwibtfmrL8KTN7MlsFEhEREZHsyuRKIJ1mdlZiwczOBDqzVyQRERERyaZMWgCvA24N+wIa0Az8TTYLJSIiIiLZk8ko4CeB482sIlzen/VSiYiIiEjWDBkAzexKd/+JmX0wbT0A7v6lLJdNRERERLJguBbAaHhbPsg2z0JZRERERGQCDBkA3f3b4d0/uvvDqdvCgSAiIiIiMg1lMgr4PzJcJyIiIiLTwHB9AE8HzgDq0/oBVgCRbBdMRERERLJjuD6AhUBZuE9qP8D9wJuzWSgRERERyZ7h+gDeD9xvZj909+cmsEwiIiIikkWZTATdYWZfBI4GihMr3f38rJVKRERERLImk0Eg/wU8CywCPgVsBx7PYplEREREJIsyCYC17v49oNfd73f3dwNq/RMRERGZpjI5Bdwb3r5gZpcAu4Ga7BVJRERERLIpkwD4aTOrBD5EMP9fBfD/sloqEREREcmaTAJgi7u3Aq3AeaArgYiIiIhMZ7oSiIiIiEiO0ZVARERERHKMrgQiIiIikmMyvhKImZW6e8cElk1EREREsiCTPoDzzGwdwWTQmNnxZvaN7BZLRERERLIlkwD4FeCVQBOAuz8FnJPNQomIiIhI9mQSAHH3HWmrYpk8zswuNrMNZrbZzD4yyPYGM7vXzJ4ws6fN7NWZPK+IiIiIjF0mAXCHmZ0BuJkVmNmHgfUjPcjMIsDXgVcBRwGXm9lRabt9Avi5u58IXAbo1LKIiIhIlmUSAK8F3g/MB3YBJ4TLIzkF2OzuW929B/gZ8Pq0fZxgWhmASoLLzImIiIhIFo14JRB3bwTePobnng+knjreCZyats9NwP+Z2QeAKHDhYE9kZtcA1wA0NDSMoSgiIiIikjBiADSzrw2yuhVY5e6/PsTffznwQ3f/93Di6R+b2THuHk/dyd1vAW4BWLlypR/i7xQRERHJaZmcAi4mOO27Kfw5DlgAXGVmXxnmcbuAhSnLC8J1qa4Cfg7g7n8Of1ddRiUXERERkTEZsQWQIPCd6e4xADP7JvAgcBbwzDCPexxYZmaLCILfZcAVafs8D1wA/NDMjiQIgHtHdQQiIiIiMiqZtABWE1wSLiEK1ISBsHuoB7l7H3A9cBfBqOGfu/taM7vZzF4X7vYh4Gozewq4Dfgbd9cpXhEREZEsyqQF8AvAk2Z2H2AEk0B/1syiwB+He6C73wncmbbukyn31wFnjrLMIiIiInIIMhkF/D0zu5NgWheAj7l7YrqWG7NWMhERERHJihFPAZuZEfTTOz4c9ZtvZqeM8DARERERmaIy6QP4DeB0gilbAA4QXOFDRERERKahTPoAnuruJ5nZEwDu3mJmhVkul4iIiIhkSSYtgL3hdX0dwMzqgfjwDxERERGRqSqTAPg14JfALDP7DPAQ8NmslkpEREREsiaTUcD/ZWarCQaCGPAGd1+f9ZKJiIiISFZkei3gn7m7Bn6IiIiIzACZnAJeDXzCzLaY2b+Z2cpsF0pEREREsmfEAOjut7r7q4GXARuAz5vZpqyXTERERESyIpMWwISlwArgMODZ7BRHRERERLItkyuBfCFs8bsZeAZY6e6vzXrJRERERCQrMpkIegtwurs3ZrswIiIiIpJ9mUwD8+2JKIiIiIiITIzR9AEUERERkRlAAVBEREQkx2TSBxAzqwbmAZ3AdnfXtYBFREREpqkhA6CZVQLvBy4HCoG9QDEw28z+AnzD3e+dkFKKiIiIyLgZrgXwduBHwNnuvi91g5mdDLzDzBa7+/eyWUARERERGV9DBkB3v2iYbasJLhEnIiIiItNMpn0A5xNcASS5v7s/kK1CiYiIiEj2jBgAzezzwNuAdUAsXO2AAqCIzAg9fXE+87t1bG1s5+OXHMmKORUH7bOzpYPfP/Mirzl+LnMrSyahlCIi4yeTFsA3AEe4e/don9zMLga+CkSA77r75wbZ563ATQSh8il3v2K0v0dEZKya23u49iereWxbM+VF+VzytYd4z1mL+LsLl1GUH+H+jXv4yV+e594Ne3CH3zy9m9uvPYPCfM2iJSLTVyYBcCtQAIwqAJpZBPg6cBGwE3jczO5w93Up+ywDPgqc6e4tZjZrNL9DRORQbHjxAFfd+jh7DnTz1ctO4Jxl9Xzu98/y7Qe28tunXwBg175O6suLuP68pcypLObjv1zD5//wLP/0mqMmufQiImOXSQDsAJ40sz+REgLd/YYRHncKsNndtwKY2c+A1xOcSk64Gvi6u7eEz7lnFGUXERmzu9e9xP/72RNEi/L5+XtP54SFVQB8/s3H8eaVC/jXO9dTXBDhY68+klccPZuCSNDit+mlNr730DZOX1zLhUfNnsxDEBEZs0wC4B3hz2jNB3akLO8ETk3bZzmAmT1McJr4Jnf/wxh+l4hIRtydb92/lS/c9SzHzq/klnesZE5l8YB9XnZ4Db9435mDPv6jr17B49ub+fDtT3HnDWczr0r9AUVk+hkxALr7rWZWAjS4+4Ys/P5lwMuBBcADZnbsIPMOXgNcA9DQ0DDORRCRXNHVG+Ojv3iGXz6xi9ccN5cvvvl4Sgojo3qOovwI/3nFSbzmaw/ygdue4POXHsuS+jLMLEulFpl+YnGnNxYnFnfMoKQgovfIFJPJKODXAv9GcDWQRWZ2AnCzu79uhIfuAhamLC8I16XaCTzq7r3ANjPbSBAIH0/dyd1vAW4BWLlypY9UZhGRdHv2d3HNj1fz5I59fOii5Vx//tIxfyAtqovyuUuP4+9+9gQXfukBFtdFuejo2bziqDmcuLCKvLzx+aDr6YvT0tEDwKzyIn2AzjCpIakv5vTG48l1fTGnL+70xVPux+L0xjzYJ1wfiwfrBuwX7jvgcfFg376Yh88RrOuLxcN9Bj7H4OVKeY54nFjMB3+OuONpn9SFkTyqSguoLi1M3lZHC6gqLaS6NHGb2BYsV5UUkB/RYKtsMU//K6XvYLYaOB+4z91PDNetcfdjRnhcPrARuIAg+D0OXOHua1P2uRi43N3fZWZ1wBPACe7eNNTzrly50letWpXRwUnwAXKgq5cDXX3sD28PdPWyv7N/OXEbjztmRp5Bnhl5eQxcNsOS9wmXjUhe//28lO0WPqZ/35TH5o28f15e//2qkgLmV5cwt7JEoy9l1NbsauXqH61iX0cvX37b8Vx8zNxxed4XW7u4e/1L/N/aF/nzlib64k5dWREXHTWbVxw9mzOW1FKUH7Qwujv7O/to7uihuT34aWnvoam9h5aOHpragtvUbQe6+5K/K1oYYXF9GYvroyyuC2/D+6NtxZwu3J24k52QlBJaUsPMeISkvnB97xC/b6iQlG35eUYkzyiI5JEfMfLzjPy8lPuRvPA2XB/eL4jkEQn3LYikPEfqvinPUZBnRMJ1BREjFod9nT3sa++lpaOHfZ297OvooaUjuO2NDV0R5cX5QVgsPTgsDgiQJWF4jBYSLVRrYyozW+3uK9PXZ9IHsNfdW9MqMz7Sg9y9z8yuB+4i6N/3fXdfa2Y3A6vc/Y5w2yvMLDHH4I3Dhb+J5O6T/gKKxZ227j72d6YEt/D2QFe4vnvoQHegq5eu3hH/VJQV5VNenE9+xIjH+//pxsPbYLl/nSe3OfF4yv0J+GdmBrPLi1lQXcL86hLmV5WwoLqU+dUlwbqqEooLZuaHoYzN755+gQ/9z5PUlBZy+3Wnc/S8ynF77jmVxbzjtMN4x2mH0drZy30b9vB/617ijid3cdtjzxMtjDC/uoTm9uCDrm+IN0lxQR610SKqo0HLyOG1pVRHC6mNFlIdLSQWd7bubWfL3jZWbW/h10/uHvD4+VUlYRiMJkPiYTVR8vLISkhKBpyUMDNuISmlvMMFg2wJgk5/6CkIA07y/hAhqawgf8whKbku8bhw/dDPEYarDMrVH95s0j/TBuPutPfEaGnvYV9HEBBbOvrv968Lbrc1ttPS0cOBrr4hn7MwkkdlSktidbLlMfX+wEBZVVqQHOiVKzJpAfwe8CfgI8ClwA1Agbtfm/3iHWyiWgDP/sI97D3QTUlBhJKCCMWFEYrzI5QUhssFift5ye3JfVMek1hXUpiXXJ/6HHlmbG1sY/0L+1n/wgHWv7CfrXvbae3spa176Bd4QlF+HhUlBZQX51NeXEBFcT4VxQVUlATL5UX5B20vLw6WK0oKKCsK/mmNl4HhMTUshuExLTCm758eKN2dmDvN7T3saulkZ0snu/Z1Bvf3dfDCvq6DPlTryoqSgXBBVUkyLC6oLmV+VQnRoowugCMTyN3p6InR1p36RaePtvCLTE8sztzKEhpqSllYU0Jp4ch/w3jc+eqfNvHVP23i5MOq+daVJ1NfXjQBRwPdfTEe2dLE3eteoqmtm5poETXRguRtdWlhMvDVRotG3YLX2RNjW2M7WxvbksFw6952tu5to70nNvITHKKRQlJqK1MkLwg7BwWYtIAyZNAax5A0sFz9z5H6O6ZiSJKD9cbitKa0JA4MkIn1qfczaG0syqcqOnhYTA+NieWyovwp/5oZqgUwkwBYCnwceEW46i7g0+7eNe6lzMBEBcBbHthCU1sPXb0xOntjdPbG6eyJ9S+n3g+Xu/tGbm0bTmEkj2Wzy1g+u5yq0oIBgS4R2NKDXK6fDo3FnZf2d7FrXyc7WzoGhMTEbU/a36W6tGBg62FaSKwsKZiko5me+mJx2rtjA1qegyDXH+YSwa4/1PW3VLd1Bz+xUTQh15UV0VATBMIgFPbfzqkopqsvxof/5ynufOZFLj1pAZ990zHJU7Ezmbuz50A3W/a0saOlAyMIOoMFreQpv5RTgQpJMpMlvmimtyzu6+ihJXF6Oi00jtTaWBAxKksGCYthkKwuLejfHu3fPpGtjWMOgClPUOruHeNeslGayn0A43Gnqy8Ig529YUDsifffT67rD449fXEOr41y5NwKFtdHc64JOtvicaexrZudiUDYEgbFRCtiSyedvQNbTMqL8vtbENMC4vyqEmqihTPiA9Dd6e6LJ4PagZSglt4Cl9g2WMjryKDFqSBiyZbnRJeDRAt1eUqrdFlqC3VxPmVFBcnuCS/s6+L55g6eb+5gR3j7fHMHu/d1Duh+UBjJo7QoQmtnLx971ZG85+xFM+LvJSKToy9sbUwPhvsGDZD9tz2xoRuFrj57ER+/ZGImkx9zH0AzOwP4LlAGNJjZ8cB73f1941/M6S0vzygtzM/o9JRMjLw8Y1ZFMbMqijmpofqg7e5OS0fvIK2HHexs6eTRrc0DOuJDMJ1Bap/D1D6IC6pKqCsrGrdRoEOJx532nkQrWx9t3f2h7UBXb7KV7UBXop9oesgLljPpY1VaGBkY2orzmVdVTHnR8KEtdf+i/LxDDmGzyos5PpysOVVvLM7ufZ3JQPh8cwcvtnbxxhPn8/IjdHEhETk0+ZE8asuKqC3LvAtJorVxX+fA09OJ0HjcgvHrizxWmZwCfhR4M3DHaEYBZ8tUbgGUmam18+CAmOiDuKulk5aO3gH7F+bn9bcaVoUhsaaE+VWlLKgOWhA7emLJQDZYC9yBrr6Dg1vq/Z6+EUcQ5lligM/BgSx1fUUixBUVDNgnsZ+mYRARmb4OZRQw7r4j7dt79nsZi0wRlSUFVJZUDjl6tL2776A+iIlTzuvX76GxbVSX0QaCEFmRFtTq6kqTrWsVaS1v5cVBZ+TUQT6lmgpBRESGkEkA3BGeBnYzKwD+Dlif3WKJTB/RonyWzy5n+ezyQbd39cYG9Dlsbu8mWjR4aCsLW95yYcCCiIhMnkwC4LXAVwmu7bsL+D/g/dkslMhMUlwQYUl9GUvqyya7KCIiIsAIAdDMIsBX3f3tE1QeEREREcmyYXt3u3sMOMzMCieoPCIiIiKSZZmcAt4KPGxmdwDtiZXu/qWslUpEREREsiaTALgl/MkDBu/lLiIiIiLTxogB0N0/NREFEREREZGJkcmVQH4DpE852wqsAr49WdcEFhEREZGxyWSK/61AG/Cd8Gc/cABYHi6LiIiIyDSSSR/AM9z9ZSnLvzGzx939ZWa2NlsFExEREZHsyKQFsMzMGhIL4f3EjLY9WSmViIiIiGRNJi2AHwIeMrMtgAGLgPeZWRS4NZuFExEREZHxl8ko4DvNbBmwIly1IWXgx1eyVjIRERERyYpMTgHj7t3u/hTwfo36FREREZneMgqAKVZmpRQiIiIiMmFGGwD3ZKUUIiIiIjJhRhUA3f3ibBVERERERCZGJlcCWQ7cCByWur+7n5/FcomIiIhIlmQyDcz/AN8iuOpHbDRPbmYXA18FIsB33f1zQ+x3KXA78DJ3XzWa3yEiIiIio5NJAOxz92+O9onNLAJ8HbgI2Ak8bmZ3uPu6tP3Kgb8DHh3t7xARERGR0cukD+BvzOx9ZjbXzGoSPxk87hRgs7tvdfce4GfA6wfZ71+AzwOaXkZERERkAmTSAviu8PbGlHUOLB7hcfOBHSnLO4FTU3cws5OAhe7+OzNLff6Zo2s/7N8Frbtg/87wdhe07oT9u6FtDxSWQmktlFRDaQ1E66FmCdQuhbqlUNkAkUz+VCIiIiIjy+RKIIuy8YvNLA/4EvA3Gex7DXANQENDwwh7T6Ce9v5gt3/3ICFvF/QcSHuQQfkcqJgPs4+CJedBbwd0NAc/e9bDgfugu7X/IXkFULMIapdB7RKoWxaEw9qlQVg0m8ijFsmu3i5o3gKNm6BpEzRuho5GWHweHPV6qFo42SUUEZn2zN2H38GsALgOOCdcdR/wbXfvHeFxpwM3ufsrw+WPArj7v4bLlcAWoC18yBygGXjdcANBVq5c6atWTcA4kd6uIMSltt4lQ17Ygte17+DHReuDcFe5ILydn7I8D8rnQqRg+N/tDh1N0LQ5+Gnc1H+/eSvEevr3LapMC4VL+oNiYXR860RkvLjDgRehcWN/yGvaFLzW9z1PcJIhVDE/eC03bgyW56+Eo98QhsEp9IVQRGQKMrPV7n7QhTwyCYDfBQqAW8NV7wBi7v6eER6XD2wELgB2AY8DV7j72iH2vw/48EijgCcsAP7bcmh7aeC6kpr+QJcMdwtS1s2D/KLsliseg9Yd4Qdm+KHZtDlY3r9z4L4V88NAuDQMhTqlLBOsp6O/NS/Zohe+Znva+vcrKA1fn8uC12pqK3dRWbBP0xZY9ytY+yt48elg3fyT4ag3BIFQYVBkcrhDXxf0dgZntBK3PR3BbTwWdHUqjEJheXgb/uRFJrv0M96hBMCn3P34kdYN8dhXA18hmAbm++7+GTO7GVjl7nek7XsfUykArr4V8vL7Q17FvOAFPJX1dAQthKmhMBESuzI4pVxSHWzLiwStlHkF4W0k5X6+TjnLQO5Bq3gi2KUGvdYdA/etXBgGveX9r7u6ZVA+D/JGMS990xZY9+sgEL7wVLBu3klhy+AboPqwkcsc6wm6cfR2hj/tUDY76KIhMlPE49AXvsaTr/eOlNd9R//rf6htA94n6dvDZYbPEkPKLwm+5BVGobBsYDgcEBbDbYPuWzZwWaFygEMJgH8F3uLuW8LlxcDt7n5SVko6ggkLgDNJ6inl1NPJg51SzoSlBsT8IBQm74chMZJ2O+B++r75AwNmct+U7akDY6J1CqGToae9/zU0oDVvS/DhkVBYdnBrXt2y4O+XjS9RzVuDVsHUMDj3BCibdXBLROqHlscPfq68AjjlajjnxmBAlkg2xfrSXpedQ4SxtNA14PWcvl/aY/rGMMGG5UFBFApKgp/CxP3S/nXJ+6Vp99P2K4wGnxm97cH/kJ72oPU/cb/7QMr6xLa2g/cdzedUfkl/GCxKa3EcEBbTAmfRIIEzcX8ah8pDCYAXAD8AtgJGcEWQv3X3e7NR0JEoAI6zeCzoc9W0Bbr3Q7wPYr3Bbbw3+AcVD5cH3O/NbN/k9sS+vcHvTNyP9aU8Pm1fH2Le8aIKqFnc3+cxEQxrFwetmDJ28XjQlSC1Na9xY3B//66UHS0YjFG3PAx5S/vDXvncyQvozduCILjh98EHX+qH04APscHWlcDGu+DJ/wpaHs75EJzyXigonpxjkcnjHvwPGi5YJVvHBtuW+pghglpPR/B/b7TyCoIvUoOFreRre4igVjhUUEt7vkjB1PuS3deTFgxTg+QQobG77eDA2dMeDM48lFBZWJbSEpkeFgcLnImWy8kJlWMOgOGDi4AjwsUN7t49zuXLmAJgDonHgxAY6wkGDDRvDVsutwT9ypo2w74dDDj1UFKTMhgmEQ7D20RfMgm+dR90yjZsFe7r7N+vqKK/NS+1Ra9mcfBhMRO9tA7u/iRsvjs4ZX3ex+G4t07rFoAZZaj+ZgNax4bYNmRQG+Q051BfQIeTXzxIKBum9awwOnhQG/C4tMeONIhQMtfX098yOWhYbEsLmSkhcqiWy0xD5anXwasGvTjauDvUAHgGcDgDrwX8o/EsYKYUAGWAvm5o2Z4WDMOfA7sH7ls25+BgWLsUqhfNzFae1AFDydG2Yeg78EL/fpYHVYelBLyl/S17ZbOmXkvARNl6H9z9z/DCkzD7GLjwJlh6Ye7WRyZS+5sN238svd/ZSC1radvH0t9spGCVbCEb7jTnMC1r+cX6kiADQ2UiGHYP0jo551hYfO6EFOlQTgH/GFgCPEn/tYDd3W8Y91JmQAFQMtbTHrYabunv75i439GYsqOFgxMWp5xODkNi9WFT/xt3V+vAaVRS++bFUhrriyvDgLd84CnbmsXZH70+XcXjsO6X8Kebgy8ah58Ny14RTOtUuTC4LZs9ugEskyXWF4SzEfuPDXPKcsh+ae3j198so1OWmbashcv5xQrukrMOJQCuB47yTJoKJ4ACoIyLrtb+lsJkq+Hm4H7qiGmLBCFwQDAM+x9WLpi4b/zxGOx7Lm0ARhj6UqcrsghUH54ywnZ5f8ueBs+MXV8PrP4BPPjvB08PFSkKpqCpPjx4rVQfHrSoJpaLK7NbtkRLb9NmaNra/zpueS5obUgEtdEO9oKgv1l6h/4hT1kO0y9tuD5rkUK9LkWy6FAC4P8AN7j7C8PuOEEUACWr3IMrsiQ+RFODYdPWgaNdI4VBGKxZErQe1i7tP7U81oEQnS0DW/MSAzDSR2uXVA8yAGN5EDryCw+5GmQI7sEXhMRk8PueD4J5y3NBC2HLcwOv4gNByCmuCoJg4qckdXmYbUUVwZcM9+C0faKrQ7JFe3Pwe1NfGwXR4DVYfXjwHEONzByxZU39zURmgkMJgPcCJwCPAcnzSe7+uvEuZCYUAGXSJK5ekRiA0rSl/0O4edvA060F0bClMDUYhi2IxVVhv8W01rzGjQNPTeflB/0T0wdg1C6DaO2EH75kqLOlPwy2bIf2vcFVg7paoTO8Tf0Ztj+bBSEwHo5ITYgUha+v1D6t4eurbLZa1EQk6VAC4KC9FN39/nEq26goAMqUFI8FrULpwbBpS9BCFO9L2dkY8KFfWjdwUuREy9506H8ohyYeD6akSA+F6UHRbODURxULpke/QxGZdEMFwBGvBzZZQU9kWsmLBP3AqhpgyfkDt8V6++dabN4STMqdaNmrXaoJh3NZXl7/6ZwcTgMAABH7SURBVF4RkQmkC8KKZFukoP9UnYiIyBSgcwgiIiIiOUYBUERERCTHjCkAmtlN41wOEREREZkgY20BXD2upRARERGRCTOmAOjuvxnvgoiIiIjIxBgxAJrZcjP7k5mtCZePM7NPZL9oIiIiIpINmbQAfgf4KNAL4O5PA5dls1AiIiIikj2ZBMBSd38sbV3foHuKiIiIyJSXSQBsNLMlhNeuMrM3Ay9ktVQiIiIikjWZXAnk/cAtwAoz2wVsA67MaqlEREREJGsyuRbwVuBCM4sCee5+IPvFEhEREZFsyXgaGHdvT4Q/Mzspe0USERERkWwa60TQ141rKURERERkwox1IuirM9nPzC42sw1mttnMPjLI9g+a2Tozezqca/CwsZRHRERERDI3ZB9AM1vh7s8OdbrX3f863BObWQT4OnARsBN43MzucPd1Kbs9Aax09w4zuw74AvC20R6EiIiIiGRuuEEgHwSuAf59kG0OnD/Cc58CbA4HkWBmPwNeDyQDoLvfm7L/X9DoYhEREZGsGzIAuvs14e15Y3zu+cCOlOWdwKnD7H8V8PvBNpjZNQRhlIaGhjEWR0RERERgmD6AZnbWcA80swozO2Y8CmFmVwIrgS8Ott3db3H3le6+sr6+fjx+pYiIiEjOGu4U8KVm9gXgD8BqYC9QDCwFzgMOAz40zON3AQtTlheE6wYwswuBjwPnunv3qEovIiIiIqM23CngvzezGuBS4C3AXKATWA98290fGuG5HweWmdkiguB3GXBF6g5mdiLwbeBid98z5qMQERERkYwNeyUQd28GvhP+jIq795nZ9cBdQAT4vruvNbObgVXufgfBKd8y4H/MDOB5d3/daH+XiIiIiGQuk2sBj5m73wncmbbukyn3L8zm7xcRERGRg431SiAiIiIiMk0pAIqIiIjkmIxOAZvZGcDhqfu7+4+yVCYRERERyaIRA6CZ/RhYAjwJxMLVDigAioiIiExDmbQArgSOcnfPdmFEREREJPsy6QO4BpiT7YKIiIiIyMTIpAWwDlhnZo8BySt1aL4+ERERkekpkwB4U7YLISIiIiITJ5MAuBR4wN03ZbswIiIiIpJ9mQTABuDbZnY4sBp4AHjQ3Z/MYrlEREREJEtGHATi7v/s7ucDRwMPAjcSBEERERERmYYymQfwE8CZQBnwBPBhgiAoIiIiItNQJqeA3wT0Ab8D7gf+7O7dwz9ERERERKaqTE4BnwRcCDwGXAQ8Y2YPZbtgIiIiIpIdmZwCPgY4GziX4KogO9ApYBEREfn/7Z17sF1lecZ/z0lCoBBIFKsQpCBI0rFAuQxSmQAiYDtQLFAkAga5mIIKHdMLSIGJkrHQWspQhRqKF7CltWgxg62XFodEQElQECIGoh4VKNaAMgQI5PL0j+9bZBFz7nuffdb63t/MmbPX+tY+532fvd+13/1d3i9oLMMZAr6SlPBdCyy3vb67JgVBEARBEATdZMgE0PbxkrYB9gFmSVoVSWAQBEEQBEFzGc4Q8BHATUA/IOD1ks60vbTLtgVBEARBEARdYDhDwFcDx9peBSBpH+AW4KBuGhYEQRAEQRB0hyFXAQNTquQPwPYjwJTumRQEQRAEQRB0k+H0AN4n6Z+Az+Xj04EV3TMpCIIgCIIg6CbDSQDPA94PXJiPlwHXdc2iIAiCIAiCoKsMmgBKmgQ8YHs2aS5gEARBEARB0HAGnQNoeyOwStLuo/njkn5f0ipJqyVdvJX2qZL+Lbd/W9Ieo/k/QRAEQRAEwfAZzhDwDGClpHuB56qTtk8Y7Em59/ATpO3jHgOWS1pi+/u1y84Bfml7b0lzgauAU0foQxAEQRAEQTAChpMAXjbKv30IsNr2jwAk/SvwDqCeAL4DWJgf3wp8XJJse5T/MwiCIAiCIBiC4ewEcmf1WNLOwFPDTNBmkvYNrngMePNA19jeIOkZ4NXAmvpFkuYD8/PhWkmr6A07s4VtBRIahAYVoUNoULr/FaFDaAATV4Pf2trJARNASYeS9gF+GrgCuJnkXJ+keba/0g0rt4btxcDi8fp/AyFphe2De21HLwkNQoOK0CE0KN3/itAhNIDmaTBYD+DHgUuAnYA7gD+w/S1Js0k7gQyVAD4OvL52vFs+t7VrHpM0Of+vp4ZvfhAEQRAEQTBSBlsFPNn212z/O/Ck7W8B2P7BMP/2cuCNkvaUtA0wF1iyxTVLgDPz4z8G7oj5f0EQBEEQBN1lsB7ATbXHL2zRNmSSluf0fQD4KjAJ+JTtlZI+AqywvQS4EbhZ0mrSUPPcEVk//vR8GHoCEBqEBhWhQ2hQuv8VoUNoAA3TQAN1uEnaSCr7ImA74PmqCdjWduwHHARBEARB0EAGTACDIAiCIAiCdjLoTiBBEARBEARB+4gEsIYk9dqGIJgoRDwEwWYiHoK2EQngKwk9AiTNkhTvhYiHgIiHGqEBUPJ7QdLMXtvQSYp9IetIOk7S7cAVkg7rtT29QtIfSbqi13b0CknHSPo2cC4Fx0bEQyLiIeIBIh4AJJ0gaUGv7egVko6WdB9wXq9t6STFLwKRdBBwPWlP4h2Bo4C7bX9GUp/tTYM9v+nkYY0+4CzgYtKWMUfZXtZTw8aJ7P9k0p7X7wIusv3FentJtSkjHiIeiHh4mYgHTQb+DDgf2B040Pb9kibZ3thb67pLjoUpwDXAW4CFtm+rtzc9For9VlfjaGCZ7f8EvgQ8CVwoaSfbm9o+78OJjcBq4ADgfaSt/4og+7+eVPfy1urDTtIcSSWWOop4iHiIeNhM6fGwAVgFzAYWAJ/M51ud/MHLsfAS8BvAbbZvk9Qnaf+qvbcWjp3iEkBJF0q6QdJ786lvAH8oaYbtF4D1wDPARdCOF3lr1HQ4N5+60/aztm8Atpd0Tr6ule+Rmv/z86l/BHaR9GlJDwJ/SSpUfna+vpU3+oiHRMRDxANEPMDLGlwp6Z351Jdtr7N9DfCbkk7L17XyC0HN/1PzqSuAOZI+BnwHWCRpsaS3987KztDKm9lASHoPcBrwBeAMSX8F9JN2K7lZ0jLgDcCVwHRJ2/fI1K6yhQ7vlvQhkt8VlwML8k2vdUMcW/h/uqRLgReB24BtgFOAE3L7SZJ2b+mN/j1EPEQ8RDwAEQ9KfBA4FVgBfDhrMqN22QLgbwFyT3Fr2Ir/CyWdY/uHpFiYndtOAx4CTpS0c88M7gBFJYDA24CrbH+FNK9hW2Ce7QtIQz0fsX0WsA7YzvZzvTO1q2xNh9OrRtv/BTwMzJc0TdIpvTGza2zp/1TgT/L8jvm2f5A/4L4H/Ir0rb+NRDwkIh4iHqDweMiv8VuBS23fCnwQ2A94e+2a/wAekfTnkBZH9MLWbjCA//tLeqftfwDm2l5l+1ngftKc0OcH/osTnyISwNqwzXeB4wFsrwDuAvaRNMf2T21/PV93HPDD8be0uwyiwz3ATL1yhdtFwF8DjwKvG087u8UQ74M9JR22xU39TNI2iL8cV0O7TMRDIuIh4gHKjIcth/BrGqwA5gDkRPhR4E2SZtUuPx/4G0lPAo0sizIC/x8GDpI0y/ba2lOOISV/68bB3K7RygRQ0uvy7z6A2rDNXUCfpMPz8UPAE+QbuqTDJd0JvJE0B6bRSHqTpG2r4yF0+F9g1/y8vYHrSN3eB+ZvP41jDP6fLOkB0nDP+bYbHeQj1KHN8XCYpL2q4wLjYbT+ty0eRqJDW+Nhu/pBTYPVwDRJ++bjO4GdgGkAkn4XuIE0TH6g7c+Oj7kdZyT+78hm/+dKeohUHeCSpk8JaVUCKOkASf9DXrVXvTi17P5RYCVwqtIy9seA1wJ75vZ+4H22T7S9ZlyN7yCS9pP0TWAR8Ora+aF02CO3PwN8wPZJtp8YP8s7wxj8r94HjwDn2Z5n++fjaHpH6YAO/bQjHg6U9DXgDtKHWXW+lHgYrf9ti4ex6tBPw+NB0qGSvgB8QtKxkibl85PzJfcCG4BjJU22/X1SL9/Buf0pkganNDQWxur/T0hfgubZ/r/xtr/TtCIBzJM3/x64Cfis7ffW2uq1mp4FlpHmuHxMaRXTDGANQO7mXzm+1neFS0klHE60/ThAvqENpcNTALZ/YfvRHtjdKUbrf/U+eND2PT2wu9OMVYdGx4OkKZI+CSwGriVN5j8yt7U+HjrgfyvioYM6ND0ejiT1ZH+RVNrlDGBG/ozcAGB7NWkYdC9SHUxIC4J+ktt/ZvvBcTa9I3TI/3vcopqgrUgA8+TNacB3bd8EIGmvevKnVNH/X0jf5i8jBfayfNzUbuxXoFSj6A3AWqcl+1U1/+mA8vEiWqpD6f5XhA4vMxVYCsyxfTvpxv/b+Zv9RgBJH6a9OpTuf0XokNgPWG77n4HPkYocr619Ri6SdCNwHylRPkRp94unSUlz0ynd/19j8tCXTEwkHQo8bfuRfGoBsFzS5aRVSz8H1kq6BlhLyug/lDN8JJ0NbJ9X9DSWug5OhUnXkGoWHU/awmk7khYPS7qFNI+nNTqU7n9F6JDY4r7wXL7ZV0wCNtreIEnAvqT5XBc7lXpovA6l+18ROmz1M3IpqbTJE6RVzQ8D10n6KvAz0j3hctv9+fmnAZNt/2rcje8Apfs/LGw36geYDnyZ1F1/KSlIq7YLgQeAw0nf+q4irdx7Te2avl77MA46XEIqWHlCPj6cVMX+99qiQ+n+hw7D04HU49mXH+9NSoJnVG1t0aF0/0OHQTXYodZ2CPAp4OR8fA5pUcf+bdGgdP9H8tPEIeDtSd2xF+TH1YotbF8LHGl7qe2qkOnB5Fo9atfejQPqANxOmsD+qny8grSF0TpojQ6l+18ROiS2qoMTm/JE//58zRFVG7RGh9L9rwgdfl2DOVWD7XuB15DntJEWxEwnl/ZpiQal+z9sGpEASpon6QhJOzpNZl8MfJ70QfZmSbtW19qu16g6iNS1uzG3NfqFHYYOMwFsfw/4C+D9SpXKzyANc1ST2hupQ+n+V4QOieHeFyQp+zo1P7VKgAXN1aF0/ytChxFpMBW4mzQECqn49avydY3VoHT/R8uETQCV2EXSN0gFSE8Hrpe0s9O+hM8D/02arHtU7XlTJR0paQVpLuCVbnDdqtHqYPtG4BZgIXAycK7tn467A2OkdP8rQofEaHSwbaXVns+R7nmHVud748XoKd3/itBhxBq8DSCPjC0BdpC0FHgXqcRR40qalO5/J5iQi0BykG6UNA143PYZSvV6riFl9icB2L5L0iHAbEk7AS/ZfkHSS8Aip62MGssodJiVddjktJH91ZKmuKF7Npbuf0XokBjDfWF9/jAAONv2Sz1xYIyU7n9F6DDqe8J04EXbKyWdCexi+0c9c2IMlO5/p5hQPYCSJkn6KPBRSUcAs9g8fLsR+FPgLbmt4gZgB1Km3y9pV9t3Nzn5G6MOXwdWK3d5N/FDv3T/K0KHRAd0+HFNh8Z96Jfuf0Xo0BEN+iXNtP1CE5Of0v3vNBMmAcwv2H2k7trVpN081gNvzRl8NT6/MP9UHEcaz78f2NcNrE5epwM6PECDdSjd/4rQIVG6DqX7XxE6dPQz8vHxs7pzlO5/N5hIQ8CbgL+zfTOApANIW/BcDlxP2pC5j7Sy9yhJezjV61kHHG17aW/M7jil61C6/xWhQ6J0HUr3vyJ0CA1K97/jTJgeQFJm//k8jg9pY+7dbX8GmCTpgpzd70Yq4tkPYPtLLXthS9ehdP8rQodE6TqU7n9F6BAalO5/x5kwCaDt522/mMfxAY4BfpEfn0Xauud20orG78Dm5fttonQdSve/InRIlK5D6f5XhA6hQen+d4OJNAQMpEmegIHXkpZrQ6rofQnwO8CPqzF8u5nL94dD6TqU7n9F6JAoXYfS/a8IHUKD0v3vJBOmB7DGJtImzWuA/XJGfxmppMU3Xc4EztJ1KN3/itAhUboOpftfETqEBqX73zE0ERNkpU2c784/n3YqZlscpetQuv8VoUOidB1K978idAgNSve/U0zUBHA34N3A1U6Vu4ukdB1K978idEiUrkPp/leEDqFB6f53igmZAAZBEARBEATdYyLOAQyCIAiCIAi6SCSAQRAEQRAEhREJYBAEQRAEQWFEAhgEQRAEQVAYkQAGQRAEQRAURiSAQRAEQRAEhREJYBAEQRAEQWH8PwmAnsn6QKdPAAAAAElFTkSuQmCC\n",
          "text/plain": "<Figure size 648x648 with 3 Axes>"
         },
         "metadata": {},
         "output_type": "display_data"
        }
       ]
      }
     },
     "546c872eb0cc4b30a9a57f7876ebfd29": {
      "model_module": "jupyter-leaflet",
      "model_module_version": "^0.13.0",
      "model_name": "LeafletTileLayerModel",
      "state": {
       "_model_module_version": "^0.13.0",
       "_view_module_version": "^0.13.0",
       "attribution": "Tiles &copy; Esri &mdash; Source: Esri, i-cubed, USDA, USGS, AEX, GeoEye, Getmapping, Aerogrid, IGN, IGP, UPR-EGP, and the GIS User Community",
       "base": true,
       "max_native_zoom": 18,
       "max_zoom": 20,
       "min_native_zoom": 0,
       "min_zoom": 1,
       "name": "Esri.WorldImagery",
       "options": [
        "attribution",
        "detect_retina",
        "max_native_zoom",
        "max_zoom",
        "min_native_zoom",
        "min_zoom",
        "no_wrap",
        "tile_size",
        "tms"
       ],
       "url": "http://server.arcgisonline.com/ArcGIS/rest/services/World_Imagery/MapServer/tile/{z}/{y}/{x}"
      }
     },
     "72470eb1ab5343f2b3570f4b71b03d1d": {
      "model_module": "jupyter-leaflet",
      "model_module_version": "^0.13.0",
      "model_name": "LeafletMapStyleModel",
      "state": {
       "_model_module_version": "^0.13.0"
      }
     },
     "74eecde1f85049eabec2f798268b3f38": {
      "model_module": "jupyter-leaflet",
      "model_module_version": "^0.13.0",
      "model_name": "LeafletGeoJSONModel",
      "state": {
       "_model_module": "jupyter-leaflet",
       "_model_module_version": "^0.13.0",
       "_view_count": null,
       "_view_module": "jupyter-leaflet",
       "_view_module_version": "^0.13.0",
       "base": false,
       "bottom": false,
       "data": {
        "geometry": {
         "coordinates": [
          [
           [
            116.638713,
            -34.431626
           ],
           [
            116.640944,
            -34.43067
           ],
           [
            116.640773,
            -34.429219
           ],
           [
            116.638927,
            -34.429219
           ],
           [
            116.63794,
            -34.430068
           ],
           [
            116.638713,
            -34.431626
           ]
          ]
         ],
         "type": "Polygon"
        },
        "properties": {
         "style": {
          "clickable": true,
          "color": "#1f77b4",
          "fill": true,
          "fillColor": null,
          "fillOpacity": 0,
          "opacity": 1,
          "stroke": true,
          "weight": 4.5
         }
        },
        "type": "Feature"
       },
       "name": "",
       "options": [],
       "popup": null,
       "popup_max_height": null,
       "popup_max_width": 300,
       "popup_min_width": 50,
       "style": {
        "color": "#1f77b4",
        "fillOpacity": 0,
        "opacity": 1,
        "weight": 4.5
       }
      }
     },
     "760c091ff5e640de8b4918244b3613db": {
      "model_module": "@jupyter-widgets/base",
      "model_module_version": "1.2.0",
      "model_name": "LayoutModel",
      "state": {
       "width": "50%"
      }
     },
     "81717395d0034d76a267e8bc78df73c5": {
      "model_module": "jupyter-leaflet",
      "model_module_version": "^0.13.0",
      "model_name": "LeafletGeoJSONModel",
      "state": {
       "_model_module": "jupyter-leaflet",
       "_model_module_version": "^0.13.0",
       "_view_count": null,
       "_view_module": "jupyter-leaflet",
       "_view_module_version": "^0.13.0",
       "base": false,
       "bottom": false,
       "data": {
        "geometry": {
         "coordinates": [
          [
           [
            116.630731,
            -34.434517
           ],
           [
            116.630731,
            -34.426512
           ],
           [
            116.648123,
            -34.426512
           ],
           [
            116.648123,
            -34.434517
           ],
           [
            116.630731,
            -34.434517
           ]
          ]
         ],
         "type": "Polygon"
        },
        "properties": {
         "style": {
          "clickable": true,
          "color": "red",
          "fill": true,
          "fillColor": false,
          "fillOpacity": 0,
          "opacity": 0.8,
          "showArea": true,
          "stroke": true,
          "weight": 4
         }
        },
        "type": "Feature"
       },
       "name": "",
       "options": [],
       "popup": null,
       "popup_max_height": null,
       "popup_max_width": 300,
       "popup_min_width": 50
      }
     },
     "83e2c767b5c9482f85f851a93625647d": {
      "model_module": "jupyter-leaflet",
      "model_module_version": "^0.13.0",
      "model_name": "LeafletMapModel",
      "state": {
       "_model_module_version": "^0.13.0",
       "_view_module_version": "^0.13.0",
       "center": [
        -34.43055825919941,
        116.6401505470276
       ],
       "controls": [
        "IPY_MODEL_bc615830514644ecb64993a265cc5132",
        "IPY_MODEL_9c31ee3fbb5a4469919dd96f0d1e3fd0",
        "IPY_MODEL_a43703ebb76f45e2a18c66ad02b919f1"
       ],
       "default_style": "IPY_MODEL_b6563e3c347c418e9a57e4fa182c43ca",
       "dragging_style": "IPY_MODEL_2b984d883903447a8a388af32e003ca0",
       "east": 116.65609359741212,
       "fullscreen": false,
       "interpolation": "bilinear",
       "layers": [
        "IPY_MODEL_546c872eb0cc4b30a9a57f7876ebfd29",
        "IPY_MODEL_81717395d0034d76a267e8bc78df73c5",
        "IPY_MODEL_74eecde1f85049eabec2f798268b3f38",
        "IPY_MODEL_3a67422877b946de91d2a3865ebc53f7"
       ],
       "layout": "IPY_MODEL_f180a39968434f309a0b527d46669e2f",
       "modisdate": "yesterday",
       "north": -34.419938456606786,
       "options": [
        "bounce_at_zoom_limits",
        "box_zoom",
        "center",
        "close_popup_on_click",
        "double_click_zoom",
        "dragging",
        "fullscreen",
        "inertia",
        "inertia_deceleration",
        "inertia_max_speed",
        "interpolation",
        "keyboard",
        "keyboard_pan_offset",
        "keyboard_zoom_offset",
        "max_zoom",
        "min_zoom",
        "scroll_wheel_zoom",
        "tap",
        "tap_tolerance",
        "touch_zoom",
        "world_copy_jump",
        "zoom",
        "zoom_animation_threshold",
        "zoom_start"
       ],
       "south": -34.44117671263888,
       "style": "IPY_MODEL_b6563e3c347c418e9a57e4fa182c43ca",
       "west": 116.62420749664308,
       "window_url": "https://app.sandbox.dea.ga.gov.au/user/robbibt/lab?",
       "zoom": 15
      }
     },
     "8c97cbbab3b540b09dcc684f65b4024a": {
      "model_module": "@jupyter-widgets/base",
      "model_module_version": "1.2.0",
      "model_name": "LayoutModel",
      "state": {
       "border": "1px solid black"
      }
     },
     "92ed9a51ce904a93acae2e1858b17509": {
      "model_module": "@jupyter-widgets/output",
      "model_module_version": "1.0.0",
      "model_name": "OutputModel",
      "state": {
       "layout": "IPY_MODEL_af51b48b50754914932ea78f2c5cc4fc",
       "outputs": [
        {
         "name": "stdout",
         "output_type": "stream",
         "text": "Draw a polygon within the red box to view plots of the fractional cover values of bare, green and non-green cover for the area over time.\n"
        }
       ]
      }
     },
     "9c31ee3fbb5a4469919dd96f0d1e3fd0": {
      "model_module": "jupyter-leaflet",
      "model_module_version": "^0.13.0",
      "model_name": "LeafletAttributionControlModel",
      "state": {
       "_model_module_version": "^0.13.0",
       "_view_module_version": "^0.13.0",
       "options": [
        "position",
        "prefix"
       ],
       "position": "bottomright",
       "prefix": "Leaflet"
      }
     },
     "a43703ebb76f45e2a18c66ad02b919f1": {
      "model_module": "jupyter-leaflet",
      "model_module_version": "^0.13.0",
      "model_name": "LeafletDrawControlModel",
      "state": {
       "_model_module_version": "^0.13.0",
       "_view_module_version": "^0.13.0",
       "options": [
        "position"
       ],
       "polygon": {
        "shapeOptions": {
         "fillOpacity": 0
        }
       },
       "polyline": {}
      }
     },
     "af51b48b50754914932ea78f2c5cc4fc": {
      "model_module": "@jupyter-widgets/base",
      "model_module_version": "1.2.0",
      "model_name": "LayoutModel",
      "state": {
       "border": "1px solid black"
      }
     },
     "b50c500f7abe43399f894aa4c9101bd3": {
      "model_module": "@jupyter-widgets/base",
      "model_module_version": "1.2.0",
      "model_name": "LayoutModel",
      "state": {}
     },
     "b6563e3c347c418e9a57e4fa182c43ca": {
      "model_module": "jupyter-leaflet",
      "model_module_version": "^0.13.0",
      "model_name": "LeafletMapStyleModel",
      "state": {
       "_model_module_version": "^0.13.0"
      }
     },
     "bc615830514644ecb64993a265cc5132": {
      "model_module": "jupyter-leaflet",
      "model_module_version": "^0.13.0",
      "model_name": "LeafletZoomControlModel",
      "state": {
       "_model_module_version": "^0.13.0",
       "_view_module_version": "^0.13.0",
       "options": [
        "position",
        "zoom_in_text",
        "zoom_in_title",
        "zoom_out_text",
        "zoom_out_title"
       ]
      }
     },
     "c5c51366b8424271838fc8c9727b6bce": {
      "model_module": "@jupyter-widgets/controls",
      "model_module_version": "1.5.0",
      "model_name": "HBoxModel",
      "state": {
       "children": [
        "IPY_MODEL_83e2c767b5c9482f85f851a93625647d",
        "IPY_MODEL_48a54a5073684ae68638483fb7145186"
       ],
       "layout": "IPY_MODEL_0de8b0b075ab4b7eb1e90502474088a8"
      }
     },
     "e619d06f58b2410f963e7f32bb6c59ed": {
      "model_module": "@jupyter-widgets/base",
      "model_module_version": "1.2.0",
      "model_name": "LayoutModel",
      "state": {}
     },
     "f180a39968434f309a0b527d46669e2f": {
      "model_module": "@jupyter-widgets/base",
      "model_module_version": "1.2.0",
      "model_name": "LayoutModel",
      "state": {
       "height": "600px",
       "width": "480px"
      }
     },
     "f928d1974f6547b48d95ece40872cffb": {
      "model_module": "@jupyter-widgets/controls",
      "model_module_version": "1.5.0",
      "model_name": "HTMLModel",
      "state": {
       "layout": "IPY_MODEL_e619d06f58b2410f963e7f32bb6c59ed",
       "style": "IPY_MODEL_fc373ca692c5456d9ac172702acd1118"
      }
     },
     "fc373ca692c5456d9ac172702acd1118": {
      "model_module": "@jupyter-widgets/controls",
      "model_module_version": "1.5.0",
      "model_name": "DescriptionStyleModel",
      "state": {
       "description_width": ""
      }
     }
    },
    "version_major": 2,
    "version_minor": 0
   }
  }
 },
 "nbformat": 4,
 "nbformat_minor": 4
}
