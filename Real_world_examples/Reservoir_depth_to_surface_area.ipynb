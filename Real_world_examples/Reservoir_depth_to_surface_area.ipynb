{
 "cells": [
  {
   "attachments": {
    "6248bbd5-1be3-4bb6-ad5f-f60a4f0ebcac.png": {
     "image/png": "[encoded data removed]"
    }
   },
   "cell_type": "markdown",
   "metadata": {},
   "source": [
    "# Estimating surface area from reservoir depth\n",
    "<img align=\"right\" style=\"height:160px;padding-left:20px\" src=\"attachment:6248bbd5-1be3-4bb6-ad5f-f60a4f0ebcac.png\">\n",
    "<img align=\"right\" src=\"../Supplementary_data/dea_logo.jpg\">\n",
    "\n",
    "* [**Sign up to the DEA Sandbox**](https://docs.dea.ga.gov.au/setup/sandbox.html) to run this notebook interactively from a browser\n",
    "* **Compatibility:** Notebook currently compatible with the `DEA Sandbox` environment only\n",
    "* **Products used:** \n",
    "[ga_ls_wo_3](https://explorer.sandbox.dea.ga.gov.au/ga_ls_wo_3)\n",
    "* **Special requirements:** CSV file containing water gauge depths\n",
    "* **Prerequisites:** An _optional_ list of any notebooks that should be run or content that should be understood prior to launching this notebook\n",
    "* **Authors:** Katey Dugdale (Department of Industry, Science, Energy and Resources), Matthew Alger (Geoscience Australia)"
   ]
  },
  {
   "cell_type": "markdown",
   "metadata": {},
   "source": [
    "## Background\n",
    "\n",
    "Each year, Australia reports its greenhouse gas emissions to the United Nations under the Paris Agreement on Climate Change, including methane emissions from reservoirs and other constructed waterbodies. Methane is a greenhouse gas that is produced by bacteria that live in the soils of natural and constructed waterbodies. The amount of methane released from any waterbody can be estimated as a function of its water surface area. The surface area of large reservoirs may change a lot over the course of a year as they fill or empty due to rain and dam releases. To accurately calculate annual methane emissions from reservoirs, we need a monthly surface area time series to be able to capture this frequent changing of surface area.\n",
    "\n",
    "A satellite image can show the top of a reservoir at a certain point in time, with water classifiers like Water Observations from Space (WOfS; Mueller et al. 2016) allowing us to determine the wet surface area of reservoirs (Krause et al. 2021). Unfortunately, the likelihood of getting a cloud-free pass of all of Australia’s reservoirs every month is low. A more reliable way to calculate the surface area would be to derive it from the depth gauge reading. Most of Australia’s reservoirs are gauged for daily readings and these data are made publicly available by the Bureau of Meteorology (BOM; http://www.bom.gov.au/waterdata/)."
   ]
  },
  {
   "cell_type": "markdown",
   "metadata": {},
   "source": [
    "## Description\n",
    "\n",
    "This notebook uses WOfS to collect images of a reservoir over the last 30 years and calculate its surface area at each meter of depth. It produces a table of 1m depth intervals and the corresponding surface area. The table can then be used to convert a depth time series into a surface area time series. \n",
    "Knowing the surface area of Australia’s reservoirs on a monthly timescale will greatly improve the accuracy of our national annual methane emission estimates from constructed waterbodies submitted to the United Nations each year.\n",
    "\n",
    "***"
   ]
  },
  {
   "cell_type": "markdown",
   "metadata": {},
   "source": [
    "## Getting started\n",
    "\n",
    "To run this analysis, run all the cells in the notebook, starting with the \"Load packages\" cell. Specify a reservoir to analyse in the \"Parameters\" section."
   ]
  },
  {
   "cell_type": "markdown",
   "metadata": {},
   "source": [
    "### Load packages\n",
    "Import Python packages that are used for the analysis."
   ]
  },
  {
   "cell_type": "code",
   "execution_count": 18,
   "metadata": {},
   "outputs": [],
   "source": [
    "import csv\n",
    "import os\n",
    "import sys\n",
    "import warnings\n",
    "\n",
    "import datacube\n",
    "import geopandas as gpd\n",
    "import matplotlib.gridspec as gs\n",
    "import matplotlib.pyplot as plt\n",
    "import numpy as np\n",
    "import pandas as pd\n",
    "import rasterio.crs\n",
    "import xarray as xr\n",
    "from datacube.helpers import ga_pq_fuser, write_geotiff\n",
    "from datacube.utils import geometry, masking\n",
    "from datacube.utils.geometry import CRS\n",
    "from matplotlib import pyplot\n",
    "from pandas import DataFrame\n",
    "from tqdm.auto import tqdm\n",
    "\n",
    "sys.path.append('../Tools/')\n",
    "from dea_tools.bom import get_station_data, get_stations\n",
    "from dea_tools.spatial import xr_rasterize\n",
    "from dea_tools.waterbodies import get_time_series"
   ]
  },
  {
   "cell_type": "markdown",
   "metadata": {},
   "source": [
    "### Parameters\n",
    "\n",
    "Specify a waterbody using its DEA Waterbodies geohash:"
   ]
  },
  {
   "cell_type": "code",
   "execution_count": 2,
   "metadata": {},
   "outputs": [],
   "source": [
    "waterbody = 'r6e094yk2'  # Lake Keepit"
   ]
  },
  {
   "cell_type": "markdown",
   "metadata": {},
   "source": [
    "Specify the BOM Water Data Online station number for the storage gauge:"
   ]
  },
  {
   "cell_type": "code",
   "execution_count": 3,
   "metadata": {},
   "outputs": [],
   "source": [
    "gauge_id = '419041'  # Namoi River at Keepit Dam - Storage Gauge"
   ]
  },
  {
   "cell_type": "markdown",
   "metadata": {},
   "source": [
    "## Load the source time series\n",
    "\n",
    "Load the DEA Waterbodies surface area time series and the storage gauge levels from the BOM."
   ]
  },
  {
   "cell_type": "code",
   "execution_count": 4,
   "metadata": {},
   "outputs": [],
   "source": [
    "surface_area_ts = get_time_series(waterbody)"
   ]
  },
  {
   "cell_type": "markdown",
   "metadata": {},
   "source": [
    "We'll also convert the pixel counts into surface area in m$^2$."
   ]
  },
  {
   "cell_type": "code",
   "execution_count": 39,
   "metadata": {},
   "outputs": [],
   "source": [
    "surface_area_ts['m2_wet'] = surface_area_ts.px_wet * 25 ** 2  # Landsat pixels are 25m x 25m"
   ]
  },
  {
   "cell_type": "markdown",
   "metadata": {},
   "source": [
    "To get the storage gauge data we have to first find the storage gauge:"
   ]
  },
  {
   "cell_type": "code",
   "execution_count": 5,
   "metadata": {},
   "outputs": [],
   "source": [
    "observation_name = 'http://bom.gov.au/waterdata/services/parameters/Storage Level'\n",
    "all_stations = get_stations(observation=observation_name)"
   ]
  },
  {
   "cell_type": "code",
   "execution_count": 6,
   "metadata": {},
   "outputs": [],
   "source": [
    "matching_stations = [station for station in all_stations if station.url.endswith(gauge_id)]\n",
    "assert matching_stations, f\"No stations maxing gauge ID {gauge_id}\"\n",
    "matching_station = matching_stations[0]"
   ]
  },
  {
   "cell_type": "code",
   "execution_count": 9,
   "metadata": {},
   "outputs": [],
   "source": [
    "gauge_level_ts = get_station_data(matching_station, observation=observation_name, param='Pat7_C_B_1_DailyMean')"
   ]
  },
  {
   "cell_type": "markdown",
   "metadata": {},
   "source": [
    "## Align the time series\n",
    "\n",
    "We need the dates of the gauge observations and the dates of the DEA Waterbodies satellite observations to line up so we can compare them."
   ]
  },
  {
   "cell_type": "markdown",
   "metadata": {},
   "source": [
    "First we have to normalise all dates to midnight to account for the fact observations were taken at different times:"
   ]
  },
  {
   "cell_type": "code",
   "execution_count": 24,
   "metadata": {},
   "outputs": [],
   "source": [
    "surface_area_ts.index = surface_area_ts.index.normalize()\n",
    "gauge_level_ts.index = gauge_level_ts.index.normalize()"
   ]
  },
  {
   "cell_type": "markdown",
   "metadata": {},
   "source": [
    "We also need to drop the time zone information from DEA Waterbodies so that it works with the gauge level time series, which does not have any time zone information."
   ]
  },
  {
   "cell_type": "code",
   "execution_count": 32,
   "metadata": {},
   "outputs": [],
   "source": [
    "surface_area_ts = surface_area_ts.tz_convert(None)"
   ]
  },
  {
   "cell_type": "markdown",
   "metadata": {},
   "source": [
    "Then we can find dates that were in both time series:"
   ]
  },
  {
   "cell_type": "code",
   "execution_count": 34,
   "metadata": {},
   "outputs": [],
   "source": [
    "intersection_index = surface_area_ts.index.intersection(gauge_level_ts.index)"
   ]
  },
  {
   "cell_type": "markdown",
   "metadata": {},
   "source": [
    "Finally, we can reindex both time series to have the same datetime index."
   ]
  },
  {
   "cell_type": "code",
   "execution_count": 35,
   "metadata": {},
   "outputs": [],
   "source": [
    "surface_area_ts = surface_area_ts.reindex(intersection_index)\n",
    "gauge_level_ts = gauge_level_ts.reindex(intersection_index)"
   ]
  },
  {
   "cell_type": "code",
   "execution_count": 42,
   "metadata": {},
   "outputs": [
    {
     "data": {
      "image/png": "[encoded data removed]",
      "text/plain": [
       "<Figure size 432x288 with 1 Axes>"
      ]
     },
     "metadata": {
      "needs_background": "light"
     },
     "output_type": "display_data"
    }
   ],
   "source": [
    "plt.scatter(gauge_level_ts, surface_area_ts.m2_wet)\n",
    "plt.xlabel('Gauge level (m)')\n",
    "plt.ylabel('Surface area (m$^2$)');"
   ]
  },
  {
   "cell_type": "markdown",
   "metadata": {},
   "source": [
    "## Merge depth gauge data with surface area time series\n",
    "\n",
    "We can link the gauge data and satellite data together on the time axis. Then we can refer to the surface areas by depth, instead of just by date."
   ]
  },
  {
   "cell_type": "code",
   "execution_count": 49,
   "metadata": {},
   "outputs": [],
   "source": [
    "gauge_level_ts.columns = ['gauge_level']"
   ]
  },
  {
   "cell_type": "code",
   "execution_count": 50,
   "metadata": {},
   "outputs": [],
   "source": [
    "merged_data = pd.concat([gauge_level_ts, surface_area_ts], axis='columns')"
   ]
  },
  {
   "cell_type": "code",
   "execution_count": 54,
   "metadata": {},
   "outputs": [],
   "source": [
    "assert not merged_data.gauge_level.isnull().any(), \"Some gauge data are null\""
   ]
  },
  {
   "cell_type": "markdown",
   "metadata": {},
   "source": [
    "## Organise the data by depth\n",
    "\n",
    "Sort the time series by depth, and then separate it by depth intervals. If the reservoir has more than 25m total variation, then we'll take intervals of 2m; otherwise, we'll take intervals of 1m. The larger the interval, the more satellite passes we will have per depth interval, so we get more accurate measurements of surface area."
   ]
  },
  {
   "cell_type": "code",
   "execution_count": 79,
   "metadata": {},
   "outputs": [
    {
     "name": "stdout",
     "output_type": "stream",
     "text": [
      "Total depth variation is 23.87 m\n"
     ]
    }
   ],
   "source": [
    "total_depth_variation = merged_data.gauge_level.max() - merged_data.gauge_level.min()\n",
    "print('Total depth variation is', round(total_depth_variation, 2), 'm')"
   ]
  },
  {
   "cell_type": "code",
   "execution_count": 80,
   "metadata": {},
   "outputs": [
    {
     "name": "stdout",
     "output_type": "stream",
     "text": [
      "Using 1 m intervals\n"
     ]
    }
   ],
   "source": [
    "if total_depth_variation > 25:\n",
    "    interval = 2\n",
    "else:\n",
    "    interval = 1\n",
    "print('Using', interval, 'm intervals')"
   ]
  },
  {
   "cell_type": "markdown",
   "metadata": {},
   "source": [
    "Generate the intervals:"
   ]
  },
  {
   "cell_type": "code",
   "execution_count": 87,
   "metadata": {},
   "outputs": [],
   "source": [
    "intervals = np.arange(np.floor(merged_data.gauge_level.min()),\n",
    "                      np.ceil(merged_data.gauge_level.max()) + 1,\n",
    "                      interval)"
   ]
  },
  {
   "cell_type": "markdown",
   "metadata": {},
   "source": [
    "Sort the data by depth rather than date, then assign each to the depth interval it belongs to."
   ]
  },
  {
   "cell_type": "code",
   "execution_count": 88,
   "metadata": {},
   "outputs": [],
   "source": [
    "merged_data = merged_data.sort_values('gauge_level')"
   ]
  },
  {
   "cell_type": "code",
   "execution_count": 91,
   "metadata": {},
   "outputs": [],
   "source": [
    "merged_data['depth_interval'] = pd.cut(merged_data.gauge_level, intervals)"
   ]
  },
  {
   "cell_type": "markdown",
   "metadata": {},
   "source": [
    "Then we can group by the depth interval and find the average surface area for each interval."
   ]
  },
  {
   "cell_type": "code",
   "execution_count": 98,
   "metadata": {},
   "outputs": [],
   "source": [
    "depth_to_area = merged_data.groupby('depth_interval').mean()"
   ]
  },
  {
   "cell_type": "code",
   "execution_count": 100,
   "metadata": {},
   "outputs": [
    {
     "data": {
      "text/plain": [
       "<matplotlib.axes._subplots.AxesSubplot at 0x7f3ac1086b38>"
      ]
     },
     "execution_count": 100,
     "metadata": {},
     "output_type": "execute_result"
    },
    {
     "data": {
      "image/png": "[encoded data removed]",
      "text/plain": [
       "<Figure size 432x288 with 1 Axes>"
      ]
     },
     "metadata": {
      "needs_background": "light"
     },
     "output_type": "display_data"
    }
   ],
   "source": [
    "depth_to_area.plot('gauge_level', 'm2_wet')"
   ]
  },
  {
   "cell_type": "markdown",
   "metadata": {},
   "source": [
    "## Clean up the data and interpolate\n",
    "\n",
    "It doesn't make sense for the surface area to go down if the depth goes up, so now let's clean up any situations like that. If the surface area calculation is zero, or smaller than the one before it, we'll delete it. Missing values will be interpolated. If you are using 2m intervals, above, this is where every other metre will be estimated too."
   ]
  },
  {
   "cell_type": "code",
   "execution_count": 102,
   "metadata": {},
   "outputs": [],
   "source": [
    "levels = []\n",
    "for interval, level in depth_to_area.iterrows():\n",
    "    if not levels:\n",
    "        levels.append(level)\n",
    "        continue\n",
    "    \n",
    "    if level.gauge_level <= levels[-1].gauge_level:\n",
    "        raise RuntimeError('Gauge levels should only increase')\n",
    "    \n",
    "    if level.m2_wet > levels[-1].m2_wet:\n",
    "        levels.append(level)\n",
    "        continue"
   ]
  },
  {
   "cell_type": "code",
   "execution_count": 108,
   "metadata": {},
   "outputs": [],
   "source": [
    "levels_df = pd.concat(levels, axis=1).T"
   ]
  },
  {
   "cell_type": "markdown",
   "metadata": {},
   "source": [
    "Now we need to interpolate to integer depth values."
   ]
  },
  {
   "cell_type": "code",
   "execution_count": 123,
   "metadata": {},
   "outputs": [],
   "source": [
    "interp_depth_vals = np.arange(levels_df.index[0].left,\n",
    "                              levels_df.index[-1].right,\n",
    "                              1)"
   ]
  },
  {
   "cell_type": "code",
   "execution_count": 126,
   "metadata": {},
   "outputs": [],
   "source": [
    "interp_area_vals = np.interp(interp_depth_vals, levels_df.gauge_level, levels_df.m2_wet)"
   ]
  },
  {
   "cell_type": "markdown",
   "metadata": {},
   "source": [
    "## Export to CSV\n",
    "\n",
    "Finally we can export to CSV. We want three columns: 1) the gauge ID, 2) the depth, 3) the surface area. We'll also floor the depth and area values, converting them into integers, to aid readability."
   ]
  },
  {
   "cell_type": "code",
   "execution_count": 139,
   "metadata": {},
   "outputs": [],
   "source": [
    "interp = pd.DataFrame({'id': [gauge_id] * len(interp_depth_vals),\n",
    "                       'depth_m': interp_depth_vals.astype(int),\n",
    "                       'area_m2': interp_area_vals.astype(int)})"
   ]
  },
  {
   "cell_type": "code",
   "execution_count": 140,
   "metadata": {},
   "outputs": [],
   "source": [
    "interp.to_csv(f'depth_area_{waterbody}_{gauge_id}.csv', index=False)"
   ]
  },
  {
   "cell_type": "markdown",
   "metadata": {},
   "source": [
    "***\n",
    "\n",
    "## Additional information\n",
    "\n",
    "**License:** The code in this notebook is licensed under the [Apache License, Version 2.0](https://www.apache.org/licenses/LICENSE-2.0). \n",
    "Digital Earth Australia data is licensed under the [Creative Commons by Attribution 4.0](https://creativecommons.org/licenses/by/4.0/) license.\n",
    "\n",
    "**Contact:** If you need assistance, please post a question on the [Open Data Cube Slack channel](http://slack.opendatacube.org/) or on the [GIS Stack Exchange](https://gis.stackexchange.com/questions/ask?tags=open-data-cube) using the `open-data-cube` tag (you can view previously asked questions [here](https://gis.stackexchange.com/questions/tagged/open-data-cube)).\n",
    "If you would like to report an issue with this notebook, you can file one on [Github](https://github.com/GeoscienceAustralia/dea-notebooks).\n",
    "\n",
    "**Last modified:** May 2021\n",
    "\n",
    "**Compatible datacube version:** "
   ]
  },
  {
   "cell_type": "code",
   "execution_count": 17,
   "metadata": {},
   "outputs": [
    {
     "name": "stdout",
     "output_type": "stream",
     "text": [
      "1.8.4.dev81+g80d466a2\n"
     ]
    }
   ],
   "source": [
    "print(datacube.__version__)"
   ]
  },
  {
   "cell_type": "markdown",
   "metadata": {},
   "source": [
    "## Tags\n",
    "Browse all available tags on the DEA User Guide's [Tags Index](https://docs.dea.ga.gov.au/genindex.html)"
   ]
  },
  {
   "cell_type": "raw",
   "metadata": {
    "raw_mimetype": "text/restructuredtext"
   },
   "source": [
    "**Tags**: :index:`sandbox compatible`, :index:`time series`"
   ]
  }
 ],
 "metadata": {
  "kernelspec": {
   "display_name": "Python 3",
   "language": "python",
   "name": "python3"
  },
  "language_info": {
   "codemirror_mode": {
    "name": "ipython",
    "version": 3
   },
   "file_extension": ".py",
   "mimetype": "text/x-python",
   "name": "python",
   "nbconvert_exporter": "python",
   "pygments_lexer": "ipython3",
   "version": "3.6.9"
  },
  "widgets": {
   "application/vnd.jupyter.widget-state+json": {
    "state": {},
    "version_major": 2,
    "version_minor": 0
   }
  }
 },
 "nbformat": 4,
 "nbformat_minor": 4
}
