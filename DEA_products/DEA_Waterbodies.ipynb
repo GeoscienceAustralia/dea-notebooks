{
 "cells": [
  {
   "cell_type": "markdown",
   "metadata": {},
   "source": [
    "# Introduction to DEA Waterbodies <img align=\"right\" src=\"../Supplementary_data/dea_logo.jpg\">\n",
    "\n",
    "* **[Sign up to the DEA Sandbox](https://app.sandbox.dea.ga.gov.au/)** to run this notebook interactively from a browser\n",
    "* **Compatibility:** Notebook currently compatible with both the `NCI` and `DEA Sandbox` environments\n",
    "* **Products used:** [DEA Waterbodies](https://docs.dea.ga.gov.au/data/product/dea-waterbodies-landsat)\n"
   ]
  },
  {
   "cell_type": "markdown",
   "metadata": {},
   "source": [
    "## Background\n",
    "It is important to have up-to-date information about the extent and location of surface water in Australia. \n",
    "It provides us with a common understanding of this valuable and increasingly scarce resource.\n",
    "\n",
    "### What this product offers\n",
    "[DEA Waterbodies](https://docs.dea.ga.gov.au/data/product/dea-waterbodies-landsat/?tab=overview) uses Geoscience Australia’s archive of over 30 years of Landsat satellite imagery to identify where almost 300,000 waterbodies are in the Australian landscape and tells us the wet surface area within those waterbodies.\n",
    "\n",
    "DEA Waterbodies uses a [water classification](https://www.dea.ga.gov.au/products/dea-water-observations) for every available Landsat satellite image for a pre-generated map of the locations of waterbodies across Australia. It provides a timeseries of wet surface area for waterbodies that were present more than 10% of the time between 1987-2020 and are larger than 2700 m$^2$ (3 Landsat pixels). These waterbodies have been derived from [DEA Water Observations](https://www.dea.ga.gov.au/products/dea-water-observations), a classifier which detects open water in Landsat pixels. \n",
    "\n",
    "- DEA Waterbodies can be viewed on the mapping portal [DEA Maps](https://maps.dea.ga.gov.au/#share=s-3ECq9avqVD8TopthD0gWnBnA3G9).\n",
    "\n",
    "The DEA Waterbodies graphs indicates changes in the wet surface area of waterbodies. This can be used to identify when waterbodies are increasing or decreasing in wet surface area.\n",
    "\n",
    "### Disclaimer\n",
    "DEA Waterbody graphs show the wet surface area of waterbodies as estimated from satellites. They do not show depth, volume, purpose of the waterbody, nor the source of the water. Larger waterbodies are easier to detect and smaller or narrower waterbodies are harder to detect. Area estimates should be compared to additional data for verification.\n",
    "\n",
    "The update from version 2 to version 3.0 of the DEA Waterbodies product and service was created through a collaboration between Geoscience Australia, the National Aerial Firefighting Centre, Natural Hazards Research Australia, and FrontierSI to make the product more useful in hazard applications. Geoscience Australia, the National Aerial Firefighting Centre, Natural Hazards Research Australia, and FrontierSI advise that the information published by this service comprises general statements based on scientific research. The reader is advised and needs to be aware that such information may be incomplete or unable to be used in any specific situation. No reliance or actions must therefore be made on that information without seeking prior expert professional, scientific and technical advice. To the extent permitted by law, FrontierSI, Geoscience Australia, the National Aerial Firefighting Centre and Natural Hazards Research Australia (including its employees and consultants) are excluded from all liability to any person for any consequences, including but not limited to all losses, damages, costs, expenses and any other compensation, arising directly or indirectly from using this publication (in part or in whole) and any information or material contained in it. \n",
    "\n",
    "### Applications\n",
    "* Understand and manage water across Australia\n",
    "* Gain insights into the severity and spatial distribution of drought\n",
    "\n",
    "### Publications\n",
    "* Krause, C.E., Newey, V., Alger, M.J. and Lymburner, L., (2021). Mapping and monitoring the multi-decadal dynamics of Australia’s open waterbodies using Landsat. Remote Sensing, 13(8), p.1437. https://doi.org/10.3390/rs13081437\n",
    "* Mueller, N., Lewis, A., Roberts, D., Ring, S., Melrose, R., Sixsmith, J., Lymburner, L., McIntyre, A., Tan, P., Curnow, S., & Ip, A. (2016). Water observations from space: Mapping surface water from 25 years of Landsat imagery across Australia. *Remote Sensing of Environment*, 174, 341–352. https://doi.org/10.1016/j.rse.2015.11.003\n",
    "\n",
    "> **Note:** For more technical information about DEA Waterbodies, visit the official [Geoscience Australia DEA Waterbodies product description](https://docs.dea.ga.gov.au/data/product/dea-waterbodies-landsat)."
   ]
  },
  {
   "cell_type": "markdown",
   "metadata": {},
   "source": [
    "## Description\n",
    "This notebook will demonstrate how to load data from DEA Waterbodies using the scripts in this repository.\n",
    "Topics covered include:\n",
    "\n",
    "1. Getting a list of available polygons in an area\n",
    "2. Accessing a polygon\n",
    "3. Plotting the surface area of the polygon over time\n",
    "\n",
    "***"
   ]
  },
  {
   "cell_type": "markdown",
   "metadata": {},
   "source": [
    "## Getting started\n",
    "\n",
    "To run this analysis, run all the cells in the notebook, starting with the \"Load packages\" cell. "
   ]
  },
  {
   "cell_type": "markdown",
   "metadata": {},
   "source": [
    "### Load packages\n",
    "Import Python packages that are used for the analysis."
   ]
  },
  {
   "cell_type": "code",
   "execution_count": 1,
   "metadata": {
    "tags": []
   },
   "outputs": [],
   "source": [
    "import matplotlib.pyplot as plt\n",
    "\n",
    "import sys\n",
    "sys.path.insert(1, \"../Tools/\")\n",
    "from dea_tools.plotting import display_map\n",
    "from dea_tools.waterbodies import (\n",
    "    get_geohashes,\n",
    "    get_waterbodies,\n",
    "    get_waterbody,\n",
    "    get_time_series,\n",
    ")"
   ]
  },
  {
   "cell_type": "markdown",
   "metadata": {},
   "source": [
    "## Analysis parameters\n",
    "\n",
    "Choose an area to analyse:"
   ]
  },
  {
   "cell_type": "code",
   "execution_count": 2,
   "metadata": {
    "tags": []
   },
   "outputs": [
    {
     "data": {
      "text/html": [
       "<div style=\"width:100%;\"><div style=\"position:relative;width:100%;height:0;padding-bottom:60%;\"><span style=\"color:#565656\">Make this Notebook Trusted to load map: File -> Trust Notebook</span><iframe srcdoc=\"&lt;!DOCTYPE html&gt;\n",
       "&lt;html&gt;\n",
       "&lt;head&gt;\n",
       "    \n",
       "    &lt;meta http-equiv=&quot;content-type&quot; content=&quot;text/html; charset=UTF-8&quot; /&gt;\n",
       "    \n",
       "        &lt;script&gt;\n",
       "            L_NO_TOUCH = false;\n",
       "            L_DISABLE_3D = false;\n",
       "        &lt;/script&gt;\n",
       "    \n",
       "    &lt;style&gt;html, body {width: 100%;height: 100%;margin: 0;padding: 0;}&lt;/style&gt;\n",
       "    &lt;style&gt;#map {position:absolute;top:0;bottom:0;right:0;left:0;}&lt;/style&gt;\n",
       "    &lt;script src=&quot;https://cdn.jsdelivr.net/npm/leaflet@1.9.3/dist/leaflet.js&quot;&gt;&lt;/script&gt;\n",
       "    &lt;script src=&quot;https://code.jquery.com/jquery-3.7.1.min.js&quot;&gt;&lt;/script&gt;\n",
       "    &lt;script src=&quot;https://cdn.jsdelivr.net/npm/bootstrap@5.2.2/dist/js/bootstrap.bundle.min.js&quot;&gt;&lt;/script&gt;\n",
       "    &lt;script src=&quot;https://cdnjs.cloudflare.com/ajax/libs/Leaflet.awesome-markers/2.0.2/leaflet.awesome-markers.js&quot;&gt;&lt;/script&gt;\n",
       "    &lt;link rel=&quot;stylesheet&quot; href=&quot;https://cdn.jsdelivr.net/npm/leaflet@1.9.3/dist/leaflet.css&quot;/&gt;\n",
       "    &lt;link rel=&quot;stylesheet&quot; href=&quot;https://cdn.jsdelivr.net/npm/bootstrap@5.2.2/dist/css/bootstrap.min.css&quot;/&gt;\n",
       "    &lt;link rel=&quot;stylesheet&quot; href=&quot;https://netdna.bootstrapcdn.com/bootstrap/3.0.0/css/bootstrap.min.css&quot;/&gt;\n",
       "    &lt;link rel=&quot;stylesheet&quot; href=&quot;https://cdn.jsdelivr.net/npm/@fortawesome/fontawesome-free@6.2.0/css/all.min.css&quot;/&gt;\n",
       "    &lt;link rel=&quot;stylesheet&quot; href=&quot;https://cdnjs.cloudflare.com/ajax/libs/Leaflet.awesome-markers/2.0.2/leaflet.awesome-markers.css&quot;/&gt;\n",
       "    &lt;link rel=&quot;stylesheet&quot; href=&quot;https://cdn.jsdelivr.net/gh/python-visualization/folium/folium/templates/leaflet.awesome.rotate.min.css&quot;/&gt;\n",
       "    \n",
       "            &lt;meta name=&quot;viewport&quot; content=&quot;width=device-width,\n",
       "                initial-scale=1.0, maximum-scale=1.0, user-scalable=no&quot; /&gt;\n",
       "            &lt;style&gt;\n",
       "                #map_ad0ed57996011253606a98f23aa7e300 {\n",
       "                    position: relative;\n",
       "                    width: 100.0%;\n",
       "                    height: 100.0%;\n",
       "                    left: 0.0%;\n",
       "                    top: 0.0%;\n",
       "                }\n",
       "                .leaflet-container { font-size: 1rem; }\n",
       "            &lt;/style&gt;\n",
       "        \n",
       "&lt;/head&gt;\n",
       "&lt;body&gt;\n",
       "    \n",
       "    \n",
       "            &lt;div class=&quot;folium-map&quot; id=&quot;map_ad0ed57996011253606a98f23aa7e300&quot; &gt;&lt;/div&gt;\n",
       "        \n",
       "&lt;/body&gt;\n",
       "&lt;script&gt;\n",
       "    \n",
       "    \n",
       "            var map_ad0ed57996011253606a98f23aa7e300 = L.map(\n",
       "                &quot;map_ad0ed57996011253606a98f23aa7e300&quot;,\n",
       "                {\n",
       "                    center: [-35.269999999999996, 149.12],\n",
       "                    crs: L.CRS.EPSG3857,\n",
       "                    zoom: 12,\n",
       "                    zoomControl: true,\n",
       "                    preferCanvas: false,\n",
       "                }\n",
       "            );\n",
       "\n",
       "            \n",
       "\n",
       "        \n",
       "    \n",
       "            var tile_layer_ced917c6b8603fd9c5c666c974cdfebc = L.tileLayer(\n",
       "                &quot;http://mt1.google.com/vt/lyrs=y\\u0026z={z}\\u0026x={x}\\u0026y={y}&quot;,\n",
       "                {&quot;attribution&quot;: &quot;Google&quot;, &quot;detectRetina&quot;: false, &quot;maxNativeZoom&quot;: 18, &quot;maxZoom&quot;: 18, &quot;minZoom&quot;: 0, &quot;noWrap&quot;: false, &quot;opacity&quot;: 1, &quot;subdomains&quot;: &quot;abc&quot;, &quot;tms&quot;: false}\n",
       "            );\n",
       "        \n",
       "    \n",
       "                tile_layer_ced917c6b8603fd9c5c666c974cdfebc.addTo(map_ad0ed57996011253606a98f23aa7e300);\n",
       "    \n",
       "            var poly_line_c2a906c9dbc9d6b3c5ef3152f332e06d = L.polyline(\n",
       "                [[-35.21, 149.05], [-35.21, 149.19], [-35.33, 149.19], [-35.33, 149.05], [-35.21, 149.05]],\n",
       "                {&quot;bubblingMouseEvents&quot;: true, &quot;color&quot;: &quot;red&quot;, &quot;dashArray&quot;: null, &quot;dashOffset&quot;: null, &quot;fill&quot;: false, &quot;fillColor&quot;: &quot;red&quot;, &quot;fillOpacity&quot;: 0.2, &quot;fillRule&quot;: &quot;evenodd&quot;, &quot;lineCap&quot;: &quot;round&quot;, &quot;lineJoin&quot;: &quot;round&quot;, &quot;noClip&quot;: false, &quot;opacity&quot;: 0.8, &quot;smoothFactor&quot;: 1.0, &quot;stroke&quot;: true, &quot;weight&quot;: 3}\n",
       "            ).addTo(map_ad0ed57996011253606a98f23aa7e300);\n",
       "        \n",
       "    \n",
       "                var lat_lng_popup_408d1b4884c3bc31146e78da26f6709f = L.popup();\n",
       "                function latLngPop(e) {\n",
       "                    lat_lng_popup_408d1b4884c3bc31146e78da26f6709f\n",
       "                        .setLatLng(e.latlng)\n",
       "                        .setContent(&quot;Latitude: &quot; + e.latlng.lat.toFixed(4) +\n",
       "                                    &quot;&lt;br&gt;Longitude: &quot; + e.latlng.lng.toFixed(4))\n",
       "                        .openOn(map_ad0ed57996011253606a98f23aa7e300);\n",
       "                    }\n",
       "                map_ad0ed57996011253606a98f23aa7e300.on(&#x27;click&#x27;, latLngPop);\n",
       "            \n",
       "&lt;/script&gt;\n",
       "&lt;/html&gt;\" style=\"position:absolute;width:100%;height:100%;left:0;top:0;border:none !important;\" allowfullscreen webkitallowfullscreen mozallowfullscreen></iframe></div></div>"
      ],
      "text/plain": [
       "<folium.folium.Map at 0x7fdb0c147ee0>"
      ]
     },
     "execution_count": 2,
     "metadata": {},
     "output_type": "execute_result"
    }
   ],
   "source": [
    "xlim = (149.05, 149.19)\n",
    "ylim = (-35.21, -35.33)\n",
    "\n",
    "# Preview area on a map\n",
    "display_map(xlim, ylim)"
   ]
  },
  {
   "cell_type": "markdown",
   "metadata": {},
   "source": [
    "## Getting data\n",
    "\n",
    "Every waterbody in DEA Waterbodies has a unique identifier called a [_geohash_](https://en.wikipedia.org/wiki/Geohash). The geohash of a waterbody is derived from their position, and this process can be reversed to obtain the location from the geohash. You can also get the geohash for a waterbody from [DEA Maps](http://maps.dea.ga.gov.au/) by clicking on a waterbody. It's the \"waterbody identifier\" in this screenshot:\n",
    "\n",
    "![image.png](../Supplementary_data/DEA_Waterbodies/waterbodiesv3_nb_ex.JPG)\n",
    "\n",
    "The `dea_waterbodies` module allows you to query waterbodies by geohash or by location.\n",
    "\n",
    "### List geohashes and polygons in an area\n",
    "We can get a list of geohashes for all waterbodies inside a bounding box of coordinates using `get_geohashes`."
   ]
  },
  {
   "cell_type": "code",
   "execution_count": 3,
   "metadata": {
    "tags": []
   },
   "outputs": [],
   "source": [
    "# Create a bounding box from study area coordinates\n",
    "bbox = (xlim[0], ylim[1], xlim[1], ylim[0])\n",
    "\n",
    "# Use bounding box to get a list of matching geohashes\n",
    "gh = get_geohashes(bbox, crs=\"EPSG:4326\")"
   ]
  },
  {
   "cell_type": "markdown",
   "metadata": {},
   "source": [
    "We can inspect the first five results to view their geohashes:"
   ]
  },
  {
   "cell_type": "code",
   "execution_count": 4,
   "metadata": {
    "tags": []
   },
   "outputs": [
    {
     "data": {
      "text/plain": [
       "['r3dp9z9g3_v3',\n",
       " 'r3dp9xjqm_v3',\n",
       " 'r3dpdr4fy_v3',\n",
       " 'r3dp8t6u9_v3',\n",
       " 'r3dp9ts4q_v3']"
      ]
     },
     "execution_count": 4,
     "metadata": {},
     "output_type": "execute_result"
    }
   ],
   "source": [
    "gh[0:5]"
   ]
  },
  {
   "cell_type": "markdown",
   "metadata": {},
   "source": [
    "You might notice that these all have a similar prefix (r39zp). If two geohashes have a similar prefix, then they are close together. (The inverse is not always true.)"
   ]
  },
  {
   "cell_type": "markdown",
   "metadata": {},
   "source": [
    "We can also get all polygons for the same area by passing the same bounding box to `get_waterbodies`."
   ]
  },
  {
   "cell_type": "code",
   "execution_count": 5,
   "metadata": {
    "tags": []
   },
   "outputs": [],
   "source": [
    "polys = get_waterbodies(bbox, crs=\"EPSG:4326\")"
   ]
  },
  {
   "cell_type": "code",
   "execution_count": 6,
   "metadata": {
    "tags": []
   },
   "outputs": [
    {
     "data": {
      "text/plain": [
       "<Axes: >"
      ]
     },
     "execution_count": 6,
     "metadata": {},
     "output_type": "execute_result"
    },
    {
     "data": {
      "image/png": "[encoded data removed]",
      "text/plain": [
       "<Figure size 640x480 with 1 Axes>"
      ]
     },
     "metadata": {},
     "output_type": "display_data"
    }
   ],
   "source": [
    "polys.plot()"
   ]
  },
  {
   "cell_type": "markdown",
   "metadata": {},
   "source": [
    "### Getting data for a specific waterbody"
   ]
  },
  {
   "cell_type": "markdown",
   "metadata": {},
   "source": [
    "We can use a geohash to get the polygon for an individual waterbody.\n",
    "For example, we can load data for Canberra's Lake Burley Griffin using its geohash `r3dp1nxh8_v3`."
   ]
  },
  {
   "cell_type": "code",
   "execution_count": 7,
   "metadata": {
    "tags": []
   },
   "outputs": [
    {
     "ename": "NameError",
     "evalue": "name 'version' is not defined",
     "output_type": "error",
     "traceback": [
      "\u001b[0;31m---------------------------------------------------------------------------\u001b[0m",
      "\u001b[0;31mNameError\u001b[0m                                 Traceback (most recent call last)",
      "Cell \u001b[0;32mIn[7], line 1\u001b[0m\n\u001b[0;32m----> 1\u001b[0m \u001b[43mget_waterbody\u001b[49m\u001b[43m(\u001b[49m\u001b[38;5;124;43m\"\u001b[39;49m\u001b[38;5;124;43mr3dp1nxh8_v3\u001b[39;49m\u001b[38;5;124;43m\"\u001b[39;49m\u001b[43m)\u001b[49m\u001b[38;5;241m.\u001b[39mplot()\n",
      "File \u001b[0;32m~/dev/dea-notebooks/DEA_products/../Tools/dea_tools/waterbodies.py:52\u001b[0m, in \u001b[0;36mget_waterbody\u001b[0;34m(geohash)\u001b[0m\n\u001b[1;32m     49\u001b[0m filter_ \u001b[38;5;241m=\u001b[39m PropertyIsEqualTo(propertyname\u001b[38;5;241m=\u001b[39m\u001b[38;5;124m\"\u001b[39m\u001b[38;5;124muid\u001b[39m\u001b[38;5;124m\"\u001b[39m, literal\u001b[38;5;241m=\u001b[39mgeohash)\n\u001b[1;32m     50\u001b[0m filterxml \u001b[38;5;241m=\u001b[39m etree\u001b[38;5;241m.\u001b[39mtostring(filter_\u001b[38;5;241m.\u001b[39mtoXML())\u001b[38;5;241m.\u001b[39mdecode(\u001b[38;5;124m\"\u001b[39m\u001b[38;5;124mutf-8\u001b[39m\u001b[38;5;124m\"\u001b[39m)\n\u001b[1;32m     51\u001b[0m response \u001b[38;5;241m=\u001b[39m wfs\u001b[38;5;241m.\u001b[39mgetfeature(\n\u001b[0;32m---> 52\u001b[0m     typename\u001b[38;5;241m=\u001b[39mLAYER_SELECT[\u001b[43mversion\u001b[49m],\n\u001b[1;32m     53\u001b[0m     \u001b[38;5;28mfilter\u001b[39m\u001b[38;5;241m=\u001b[39mfilterxml,\n\u001b[1;32m     54\u001b[0m     outputFormat\u001b[38;5;241m=\u001b[39m\u001b[38;5;124m\"\u001b[39m\u001b[38;5;124mjson\u001b[39m\u001b[38;5;124m\"\u001b[39m,\n\u001b[1;32m     55\u001b[0m )\n\u001b[1;32m     56\u001b[0m wb_gpd \u001b[38;5;241m=\u001b[39m gpd\u001b[38;5;241m.\u001b[39mread_file(response)\n\u001b[1;32m     57\u001b[0m \u001b[38;5;28;01mreturn\u001b[39;00m wb_gpd\n",
      "\u001b[0;31mNameError\u001b[0m: name 'version' is not defined"
     ]
    }
   ],
   "source": [
    "get_waterbody(\"r3dp1nxh8_v3\").plot()"
   ]
  },
  {
   "cell_type": "markdown",
   "metadata": {},
   "source": [
    "The polygon also contains metadata including the waterbody's area, perimeter and ID:"
   ]
  },
  {
   "cell_type": "code",
   "execution_count": null,
   "metadata": {
    "tags": []
   },
   "outputs": [],
   "source": [
    "get_waterbody(\"r3dp1nxh8_v3\")"
   ]
  },
  {
   "cell_type": "markdown",
   "metadata": {},
   "source": [
    "For any given geohash or a polygon, we can also use the `get_time_series` function to get surface area over time.\n",
    "For example, surface area data for the first polygon in `polys` (a waterbody in the suburb of Coombs, Canberra) shows that it was constructed in 2013:"
   ]
  },
  {
   "cell_type": "code",
   "execution_count": null,
   "metadata": {
    "tags": []
   },
   "outputs": [],
   "source": [
    "get_time_series(waterbody=polys.iloc[0])[\"px_wet\"].plot()\n",
    "plt.ylabel(\"Number of wet pixels\");"
   ]
  },
  {
   "cell_type": "markdown",
   "metadata": {},
   "source": [
    "Canberra's Lake Burley Griffin is more consistent over time:"
   ]
  },
  {
   "cell_type": "code",
   "execution_count": null,
   "metadata": {
    "tags": []
   },
   "outputs": [],
   "source": [
    "get_time_series(geohash=\"r3dp1nxh8_v3\")[\"px_wet\"].plot()\n",
    "plt.ylabel(\"Number of wet pixels\");"
   ]
  },
  {
   "cell_type": "markdown",
   "metadata": {},
   "source": [
    "***\n",
    "\n",
    "## Additional information\n",
    "\n",
    "**License:** The code in this notebook is licensed under the [Apache License, Version 2.0](https://www.apache.org/licenses/LICENSE-2.0). \n",
    "Digital Earth Australia data is licensed under the [Creative Commons by Attribution 4.0](https://creativecommons.org/licenses/by/4.0/) license.\n",
    "\n",
    "**Citation** &mdash; If you use this repository in your work, please reference\n",
    "it with the following citation.\n",
    "\n",
    "> Krause, C., Dunn, B., Bishop-Taylor, R., Adams, C., Burton, C., Alger,\n",
    "> M., Chua, S., Phillips, C., Newey, V., Kouzoubov, K., Leith, A.,\n",
    "> Ayers, D., Hicks, A., DEA Notebooks contributors 2021. Digital Earth\n",
    "> Australia notebooks and tools repository. Geoscience Australia,\n",
    "> Canberra. <https://doi.org/10.26186/145234>\n",
    "\n",
    "**Contact:** If you need assistance, please post a question on the [Open Data Cube Slack channel](http://slack.opendatacube.org/) or on the [GIS Stack Exchange](https://gis.stackexchange.com/questions/ask?tags=open-data-cube) using the `open-data-cube` tag (you can view previously asked questions [here](https://gis.stackexchange.com/questions/tagged/open-data-cube)).\n",
    "If you would like to report an issue with this notebook, you can file one on [Github](https://github.com/GeoscienceAustralia/dea-notebooks).\n",
    "\n",
    "**Last modified:** March 2024"
   ]
  },
  {
   "cell_type": "markdown",
   "metadata": {},
   "source": [
    "## Tags\n",
    "<!-- Browse all available tags on the DEA User Guide's [Tags Index](https://docs.dea.ga.gov.au/genindex/) -->"
   ]
  },
  {
   "cell_type": "raw",
   "metadata": {
    "raw_mimetype": "text/restructuredtext"
   },
   "source": [
    "**Tags**: :index:`NCI compatible`, :index:`sandbox compatible`, :index:`DEA products`, :index:`DEA Waterbodies`, :index:`water`, :index:`time series`, :index:`WFS`"
   ]
  }
 ],
 "metadata": {
  "kernelspec": {
   "display_name": "Python 3 (ipykernel)",
   "language": "python",
   "name": "python3"
  },
  "language_info": {
   "codemirror_mode": {
    "name": "ipython",
    "version": 3
   },
   "file_extension": ".py",
   "mimetype": "text/x-python",
   "name": "python",
   "nbconvert_exporter": "python",
   "pygments_lexer": "ipython3",
   "version": "3.10.13"
  },
  "widgets": {
   "application/vnd.jupyter.widget-state+json": {
    "state": {},
    "version_major": 2,
    "version_minor": 0
   }
  }
 },
 "nbformat": 4,
 "nbformat_minor": 4
}
