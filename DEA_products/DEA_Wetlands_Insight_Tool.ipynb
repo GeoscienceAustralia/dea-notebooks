{
 "cells": [
  {
   "cell_type": "markdown",
   "id": "cde63f34-bee7-4194-a0a8-2b9f99af281c",
   "metadata": {},
   "source": [
    "# Introduction to the DEA Wetlands Insight Tool (WIT) <img align=\"right\" src=\"../Supplementary_data/dea_logo.jpg\">\n",
    "\n",
    "* [**Sign up to the DEA Sandbox**](https://knowledge.dea.ga.gov.au/guides/setup/Sandbox/sandbox/) to run this notebook interactively from a browser\n",
    "* **Compatibility:** Notebook currently compatible with `DEA Sandbox` environment only\n",
    "* **Products used:** \n",
    "[ga_ls5t_ard_3](https://explorer.dea.ga.gov.au/products/ga_ls5t_ard_3),\n",
    "[ga_ls7e_ard_3](https://explorer.dea.ga.gov.au/products/ga_ls7e_ard_3),\n",
    "[ga_ls8c_ard_3](https://explorer.dea.ga.gov.au/products/ga_ls8c_ard_3),\n",
    "[ga_ls_wo_3](https://explorer.dea.ga.gov.au/products/ga_ls_wo_3),\n",
    "[ga_ls_fc_3](https://explorer.dea.ga.gov.au/products/ga_ls_fc_3)\n",
    "\n",
    "\n",
    "> **Note:** [ga_ls9c_ard_3](https://explorer.dea.ga.gov.au/products/ga_ls9c_ard_3) can be included once derivative Water Observations and Fractional Cover products have been generated"
   ]
  },
  {
   "cell_type": "markdown",
   "id": "08c1f916-f19a-4ade-99ee-f196117708ff",
   "metadata": {},
   "source": [
    "## Background\n",
    "\n",
    "Wetlands provide a wide range of ecosystem services including improving water quality, carbon sequestration, as well as providing habitat for fish, amphibians, reptiles and birds.  Managing wetlands in Australia is challenging due to competing pressures for water availability and highly variable climatic settings.  The DEA Wetlands Insight Tool has been developed to provide catchment managers, environmental water holders, and wetlands scientists a consistent historical baseline of wetlands dynamics from 1987 onwards. \n",
    "\n",
    "The DEA Wetlands Insight Tool summarises how the amount of water, green vegetation, dry vegetation and bare soil varies over time within each wetland. It provides the user with the ability to compare how the wetland is behaving now with how it has behaved in the past.  This allows users to identify how changes in water availability have affected the wetland. It achieves this by presenting a combined view of Water Observations from Space, Tasseled Cap Wetness and Fractional Cover measurements from the Landsat series of satellites, summarised as a stacked line plot to show how that wetland has changed over time. "
   ]
  },
  {
   "cell_type": "markdown",
   "id": "c0c98dd9-7f9b-48a8-8c2b-0877d21731a1",
   "metadata": {},
   "source": [
    "## Expected output\n",
    "This notebook demonstrates the method for reproducing results from the Wetlands Insight Tool. \n",
    "At the end of the notebook you will display and save a WIT plot: \n",
    "\n",
    "<img width=\"1200\" height=\"300\" align=\"left\" src=\"../Supplementary_data/DEA_Wetlands_Insight_Tool/Hird_Swamp.png\">"
   ]
  },
  {
   "cell_type": "markdown",
   "id": "f7c6e424-9741-4d64-9882-8c1255bf6754",
   "metadata": {},
   "source": [
    "## Applications\n",
    "The product is designed to support wetland managers, catchment managers and environmental waterholders in understanding whether or not wetlands are changing over time.  In instances where the wetlands are changing, the tool allows users to identify whether the changes are gradual, rapid, once-off or cyclical in nature.  For example the response of wetlands to the following drivers can be assessed:\n",
    "\n",
    "* Changes in river flow volumes\n",
    "* Changes in flood frequency\n",
    "* Long term shifts in rainfall\n",
    "* Wet-season/Dry-season shifts in water availability\n",
    "* Invasive weeds\n",
    "* Environmental watering events\n",
    "\n",
    "Care should be used when interpreting Wetlands Insight Tool results as increases/decreases in particular cover types can be associated with different processes.  For example an increase in green cover could indicate canopy recovery of desirable wetland species or an increase in the amount of invasive weeds.\n",
    "\n",
    "## Publications\n",
    "* Dunn, B., Ai, E., Alger, M.J., Fanson, B., Fickas, K.C., Krause, C.E., Lymburner, L., Nanson, R., Papas, P., Ronan, M., Thomas, R.F., 2023. Wetlands Insight Tool: Characterising the Surface Water and Vegetation Cover Dynamics of Individual Wetlands Using Multidecadal Landsat Satellite Data. Wetlands 43, 37. Available: https://doi.org/10.1007/s13157-023-01682-7\n",
    "* Dunn, B., Lymburner, L., Newey, V., Hicks, A. and Carey, H., 2019. Developing a Tool for Wetland Characterization Using Fractional Cover, Tasseled Cap Wetness And Water Observations From Space. IGARSS 2019 - 2019 IEEE International Geoscience and Remote Sensing Symposium, 2019, pp. 6095-6097. Available: https://doi.org/10.1109/IGARSS.2019.8897806.\n",
    "* Krause, C., Dunn, B., Bishop-Taylor, R., Adams, C., Burton, C., Alger, M., Chua, S., Phillips, C., Newey, V., Kouzoubov, K., Leith, A., Ayers, D., Hicks, A., DEA Notebooks contributors 2021. Digital Earth Australia notebooks and tools repository. Geoscience Australia, Canberra. https://doi.org/10.26186/145234\n",
    "\n",
    "**Please cite Dunn et. al 2023 and Krause et al 2021 when using the results of this notebook, and contact us as we'd love to hear about your use case! \n",
    "Licencing information is provided at the bottom of this notebook, and requires attribution.** \n",
    "\n",
    "## Related products\n",
    "* [DEA Fractional Cover](https://knowledge.dea.ga.gov.au/data/product/dea-fractional-cover-landsat/)\n",
    "* [DEA Tasseled Cap Indices Percentiles Calendar Year (Landsat)](https://knowledge.dea.ga.gov.au/data/product/dea-tasseled-cap-percentiles-landsat/)\n",
    "* [DEA Water Observations (Landsat)](https://knowledge.dea.ga.gov.au/data/product/dea-water-observations-landsat/)"
   ]
  },
  {
   "cell_type": "markdown",
   "id": "47c2ec4d-8e24-4658-99fb-fb279a182e87",
   "metadata": {
    "tags": []
   },
   "source": [
    "## WIT calculation\n",
    "\n",
    "For each pixel, we calculate its WIT values based on the method of [Dunn, et al., 2023](https://doi.org/10.1007/s13157-023-01682-7).\n",
    "\n",
    "The calculation in this flowchart below shows the workflow implemented in this notebook."
   ]
  },
  {
   "cell_type": "markdown",
   "id": "9e941cd3-48e3-460a-8484-37b58302a36c",
   "metadata": {},
   "source": [
    "![](../Supplementary_data/DEA_Wetlands_Insight_Tool/WIT_notebook_flowchart.png)"
   ]
  },
  {
   "cell_type": "markdown",
   "id": "c3de8187-9be7-4ac8-b87e-73eb4e952c27",
   "metadata": {},
   "source": [
    "## Getting Started"
   ]
  },
  {
   "cell_type": "markdown",
   "id": "39395e2c-bc76-4504-9143-1e7cf4e4b454",
   "metadata": {},
   "source": [
    "### Load packages"
   ]
  },
  {
   "cell_type": "code",
   "execution_count": null,
   "id": "28fba421-1583-4e6c-84c2-1bd154533889",
   "metadata": {
    "tags": []
   },
   "outputs": [],
   "source": [
    "import datetime\n",
    "import geopandas as gpd\n",
    "import itertools\n",
    "import numpy as np\n",
    "import pandas as pd\n",
    "import xarray as xr\n",
    "\n",
    "import datacube\n",
    "\n",
    "import sys\n",
    "\n",
    "sys.path.insert(1, \"../Tools/\")\n",
    "import dea_tools.bandindices\n",
    "import dea_tools.datahandling\n",
    "from dea_tools.spatial import xr_rasterize\n",
    "from dea_tools.dask import create_local_dask_cluster\n",
    "import dea_tools.wetlands\n",
    "\n",
    "# Create local dask cluster to improve data load time\n",
    "client = create_local_dask_cluster(return_client=True)"
   ]
  },
  {
   "cell_type": "markdown",
   "id": "c4492879-d302-4531-bff0-452132be9ec2",
   "metadata": {},
   "source": [
    "### Connect to the datacube\n",
    "\n",
    "Connect to the datacube so we can access DEA data.\n",
    "The `app` parameter is a unique name for the analysis which is based on the notebook file name."
   ]
  },
  {
   "cell_type": "code",
   "execution_count": null,
   "id": "916a4440-b6e2-447b-81e3-50d199cd48f7",
   "metadata": {
    "tags": []
   },
   "outputs": [],
   "source": [
    "dc = datacube.Datacube(app=\"DEA_Wetlands_Insight_Tool\")"
   ]
  },
  {
   "cell_type": "markdown",
   "id": "9964640f-d7c1-4850-aeb7-f62b5bf71a7f",
   "metadata": {
    "tags": []
   },
   "source": [
    "### Analysis parameters\n",
    "* `poly`: The polygon of your wetland of interest. This can be a shapefile or a GeoJSON. User will need to drag and drop the file into the sandbox and update the file path. Your polygon should be in EPSG:3577 [GDA94 Australian Albers](https://epsg.io/3577)."
   ]
  },
  {
   "cell_type": "markdown",
   "id": "1b68e01f-1d30-4e74-b9eb-6e1e531d9d9c",
   "metadata": {},
   "source": [
    "### Load a shapefile that describes your wetland study area"
   ]
  },
  {
   "cell_type": "code",
   "execution_count": null,
   "id": "f3e7c1db-7580-492e-935d-f0e660215164",
   "metadata": {
    "tags": []
   },
   "outputs": [],
   "source": [
    "# This cell loads and plots the wetlands polygon. If no output, check your polygon\n",
    "poly = gpd.read_file(\"../Supplementary_data/DEA_Wetlands_Insight_Tool/hird.shp\")\n",
    "poly.geometry[0]"
   ]
  },
  {
   "cell_type": "code",
   "execution_count": null,
   "id": "1a509b3b-c2e5-4e1c-8751-0fc264ac1bf1",
   "metadata": {
    "tags": []
   },
   "outputs": [],
   "source": [
    "# Specifying coordinate reference system of the polygon.\n",
    "gpgon = datacube.utils.geometry.Geometry(poly.geometry[0], crs=poly.crs)"
   ]
  },
  {
   "cell_type": "code",
   "execution_count": null,
   "id": "8829ee8f-321d-4b5e-959d-ed6b2a91e626",
   "metadata": {
    "tags": []
   },
   "outputs": [],
   "source": [
    "# Select time period. Consistent data is available from 01-09-1987.\n",
    "time = (\"2014-01-01\", \"2016-01-01\")\n",
    "# time = ('1985-01-01', '2024-01-01')"
   ]
  },
  {
   "cell_type": "markdown",
   "id": "0b9eaac8-9134-42c6-9ee2-cf36de8cc7fc",
   "metadata": {},
   "source": [
    "## Load Landsat, Water Observations, and Fractional Cover:\n",
    "\n",
    "### Load and mask Landsat data\n",
    "\n",
    "Load Landsat 5, 7 and 8 data. Not including Landsat 7 SLC off period (31-05-2003 to 06-04-2022). If the following cell successfully loads data, it will generate output text, similar to:\n",
    "\n",
    "\n",
    "```\n",
    "Finding datasets\n",
    "    ga_ls8c_ard_3\n",
    "    ga_ls7e_ard_3 (ignoring SLC-off observations)\n",
    "    ga_ls5t_ard_3\n",
    "Applying fmask pixel quality/cloud mask\n",
    "Loading 8 time steps\n",
    "```\n",
    "\n",
    "For further information on the functions used here, go to the [function documentation](https://knowledge.dea.ga.gov.au/notebooks/Tools/gen/dea_tools.datahandling/)."
   ]
  },
  {
   "cell_type": "code",
   "execution_count": null,
   "id": "fa800f22-51fd-42af-b2a8-e5d3e32885f1",
   "metadata": {
    "tags": []
   },
   "outputs": [],
   "source": [
    "# Define which spectral bands are being used in the analysis\n",
    "bands = [\n",
    "    f\"nbart_{band}\" for band in (\"blue\", \"green\", \"red\", \"nir\", \"swir_1\", \"swir_2\")\n",
    "]\n",
    "\n",
    "# Load Landsat 5, 7 and 8 data. Not including Landsat 7 SLC off period (31-05-2003 to 06-04-2022).\n",
    "ds = dea_tools.datahandling.load_ard(\n",
    "    dc,\n",
    "    products=[\"ga_ls8c_ard_3\", \"ga_ls7e_ard_3\", \"ga_ls5t_ard_3\"],\n",
    "    ls7_slc_off=False,\n",
    "    measurements=bands,\n",
    "    geopolygon=gpgon,\n",
    "    output_crs=\"EPSG:3577\",\n",
    "    resolution=(-30, 30),\n",
    "    resampling={\"fmask\": \"nearest\", \"*\": \"bilinear\"},\n",
    "    time=time,\n",
    "    group_by=\"solar_day\",\n",
    "    dask_chunks={},\n",
    ")\n",
    "\n",
    "# Load into memory using Dask\n",
    "ds.load()"
   ]
  },
  {
   "cell_type": "markdown",
   "id": "886e50ef-60f3-4076-b679-a4b98026ee1d",
   "metadata": {},
   "source": [
    "### Load Water Observations and Fractional Cover datasets\n",
    "\n",
    "Load Fractional Cover and Water Observations data into the same spatial grid and resolution as the loaded Landsat dataset."
   ]
  },
  {
   "cell_type": "code",
   "execution_count": null,
   "id": "250e7011-6030-4665-abd4-5d6ecaa8398f",
   "metadata": {
    "tags": []
   },
   "outputs": [],
   "source": [
    "ds_wo = dc.load(\n",
    "    \"ga_ls_wo_3\", resampling=\"nearest\", group_by=\"solar_day\", like=ds, dask_chunks={}\n",
    ")\n",
    "ds_fc = dc.load(\n",
    "    \"ga_ls_fc_3\", resampling=\"nearest\", group_by=\"solar_day\", like=ds, dask_chunks={}\n",
    ")\n",
    "\n",
    "# Load data into memory\n",
    "ds_wo.load()\n",
    "ds_fc.load()"
   ]
  },
  {
   "cell_type": "markdown",
   "id": "33e52d2f-0198-443f-b05c-e0ed5231a600",
   "metadata": {},
   "source": [
    "### Locate and remove any observations which aren't in all three datasets"
   ]
  },
  {
   "cell_type": "code",
   "execution_count": null,
   "id": "d12ca62e-f175-461d-bc19-f86df67cf088",
   "metadata": {
    "tags": []
   },
   "outputs": [],
   "source": [
    "missing = set()\n",
    "for t1, t2 in itertools.product(\n",
    "    [ds_fc.time.values, ds_wo.time.values, ds.time.values], repeat=2\n",
    "):\n",
    "    missing_ = set(t1) - set(t2)\n",
    "    missing |= missing_\n",
    "\n",
    "ds_fc = ds_fc.sel(time=[t for t in ds_fc.time.values if t not in missing])\n",
    "ds = ds.sel(time=[t for t in ds.time.values if t not in missing])\n",
    "ds_wo = ds_wo.sel(time=[t for t in ds_wo.time.values if t not in missing])"
   ]
  },
  {
   "cell_type": "markdown",
   "id": "4daa4474-d9bf-4a31-b491-8c17f44e8247",
   "metadata": {},
   "source": [
    "## Calculate Tasseled Cap Wetness from the Landsat data\n",
    "\n",
    "\n",
    "We use Tasseled Cap Wetness (TCW) to identify areas in wetlands that are wet, but not identified by the WOfS algorithm as open water. This includes areas of mixed vegetation and water like in palustrine wetlands. TCW is the third component of a Tasseled Cap Index analysis and can be thresholded to classify wet pixels (Fisher et al., [2016](https://doi.org/10.1016/j.rse.2015.12.055)). Tasseled Cap Index analysis is a linear principal component analysis of Landsat imagery with a Procrustes’ Rotation (Kauth and Thomas, [1976](http://docs.lib.purdue.edu/lars_symp/159)), producing three components roughly corresponding to brightness (TCB), greenness (TCG) and wetness (TCW; Roberts et al., 2018). The coefficients of Crist ([1985](https://doi.org/10.1016/0034-4257(85)90102-6)) were used to calculate TCW. \n",
    "\n",
    "TCW has values between −12,915 and 7032 when applied to DEA Landsat data. As TCW increases, the pixel becomes \n",
    "wetter, with open water having TCW values near and above zero (Pasquarella et al., [2016](https://doi.org/10.1002/rse2.24)). We threshold TCW at −350, with values above this threshold used to characterise ‘wet’ pixels. We developed the TCW threshold to identify ‘wet’ pixels by comparing TCW to known inundation extents in the Macquarie Marshes, a large floodplain wetland in the Murray-Darling Basin of south-eastern Australia. We chose the threshold for the WIT workflow to minimise the absolute difference in extent between the observed inundated area and the area of thresholded TCW as described further here: https://link.springer.com/article/10.1007/s13157-023-01682-7#appendices\n"
   ]
  },
  {
   "cell_type": "code",
   "execution_count": null,
   "id": "62cced45-65a0-4a61-8634-1eaa65e9ab0c",
   "metadata": {
    "tags": []
   },
   "outputs": [],
   "source": [
    "tcw = dea_tools.bandindices.calculate_indices(\n",
    "    ds, index=\"TCW\", collection=\"ga_ls_3\", normalise=False, drop=True, inplace=False\n",
    ")"
   ]
  },
  {
   "cell_type": "markdown",
   "id": "29d8486b-8511-4da5-93de-0f6ea1d34beb",
   "metadata": {},
   "source": [
    "### Divide Fractional Cover by 100\n",
    "\n",
    "Divide the FC values by 100 to keep them in $[0, 1]$ (ignoring for now that values can exceed 100 due to how FC is calculated)\n",
    "Keeps data types the same in the output raster."
   ]
  },
  {
   "cell_type": "code",
   "execution_count": null,
   "id": "43d5af0c-7cd0-4222-a574-7403d24f8e80",
   "metadata": {
    "tags": []
   },
   "outputs": [],
   "source": [
    "bs = ds_fc.bs / 100\n",
    "pv = ds_fc.pv / 100\n",
    "npv = ds_fc.npv / 100"
   ]
  },
  {
   "cell_type": "markdown",
   "id": "2420e49a-cfe0-4902-ae7d-2a6bbb255940",
   "metadata": {},
   "source": [
    "### Generate the WIT raster bands:\n",
    "\n",
    "Create an empty dataset called `output_rast` and populate with values from input datasets."
   ]
  },
  {
   "cell_type": "code",
   "execution_count": null,
   "id": "5e83e0d5-c5a0-4900-a98d-d3107df138b2",
   "metadata": {
    "tags": []
   },
   "outputs": [],
   "source": [
    "rast_names = [\"pv\", \"npv\", \"bs\", \"wet\", \"water\"]\n",
    "output_rast = {n: xr.zeros_like(bs) for n in rast_names}\n",
    "\n",
    "output_rast[\"bs\"].values[:] = bs\n",
    "output_rast[\"pv\"].values[:] = pv\n",
    "output_rast[\"npv\"].values[:] = npv"
   ]
  },
  {
   "cell_type": "markdown",
   "id": "d21e2124-5b3d-45e7-82f6-0af64211add6",
   "metadata": {},
   "source": [
    "## Masking \n",
    "\n",
    "1. Mask pixels not in the polygon\n",
    "\n",
    "2. Use the [Water Observations bit flags](../DEA_products/DEA_Water_Observations/#Understanding-WOs-bit-flags) to mask noncontiguous data, low solar incidence angle, cloud, and water out of the `wet` category. We distinguish `open water` from `wet` as mutually exclusive categories. \n",
    "\n",
    "## Thresholding\n",
    "\n",
    "We threshold TCW at −350, with values above this threshold used to characterise ‘wet’ pixels ([Dunn, et al., 2023](https://doi.org/10.1007/s13157-023-01682-7))."
   ]
  },
  {
   "cell_type": "code",
   "execution_count": null,
   "id": "fd084dee-982f-4a8d-9c1e-4a268d4c5a78",
   "metadata": {
    "tags": []
   },
   "outputs": [],
   "source": [
    "# Rasterise the shapefile where poly is the vector data and pv is the xarray template\n",
    "poly_raster = xr_rasterize(poly, pv) > 0\n",
    "\n",
    "# Mask includes No data, Non contiguous data, Cloud shadow, Cloud, and water.\n",
    "# See https://knowledge.dea.ga.gov.au/notebooks/DEA_products/DEA_Water_Observations/#Understanding-WOs-bit-flags for more detail.\n",
    "mask = (ds_wo.water & 0b01100011) == 0\n",
    "mask &= poly_raster\n",
    "\n",
    "# Set open water to water present and classified as water as per Water Observations and bit flags\n",
    "open_water = ds_wo.water & (1 << 7) > 0\n",
    "\n",
    "# Set wet pixels where not masked and above threshold of -350\n",
    "wet = tcw.where(mask).TCW > -350"
   ]
  },
  {
   "cell_type": "code",
   "execution_count": null,
   "id": "27907639-28fc-4f4c-9bb2-c25bc6083101",
   "metadata": {
    "tags": []
   },
   "outputs": [],
   "source": [
    "# Adding wet and water values to output raster\n",
    "\n",
    "# TCW\n",
    "output_rast[\"wet\"].values[:] = wet.values.astype(float)\n",
    "for name in rast_names[:3]:\n",
    "    output_rast[name].values[wet.values] = 0\n",
    "\n",
    "# WO\n",
    "output_rast[\"water\"].values[:] = open_water.values.astype(float)\n",
    "for name in rast_names[:4]:\n",
    "    output_rast[name].values[open_water.values] = 0"
   ]
  },
  {
   "cell_type": "code",
   "execution_count": null,
   "id": "cb887421-f64a-4f2e-8bbd-8352d5eb0b78",
   "metadata": {
    "tags": []
   },
   "outputs": [],
   "source": [
    "# Masking again\n",
    "ds_wit = xr.Dataset(output_rast).where(mask)"
   ]
  },
  {
   "cell_type": "markdown",
   "id": "ba218604-715b-4703-93f3-2c3a353bcf1d",
   "metadata": {},
   "source": [
    "Mask entire observations where the polygon is more than 10% masked:"
   ]
  },
  {
   "cell_type": "code",
   "execution_count": null,
   "id": "af2bffc0-b3db-4eec-8de9-c5f3bbd73dfd",
   "metadata": {
    "tags": []
   },
   "outputs": [],
   "source": [
    "# Calculate percentage missing\n",
    "pc_missing = (~mask).where(poly_raster).mean(dim=[\"x\", \"y\"])\n",
    "\n",
    "ds_wit = ds_wit.where(pc_missing < 0.1)"
   ]
  },
  {
   "cell_type": "markdown",
   "id": "bccb56a7-9096-4168-8c91-233ef4fc9cac",
   "metadata": {},
   "source": [
    "The WIT results are now computed. All that's left is to normalise them."
   ]
  },
  {
   "cell_type": "markdown",
   "id": "4e8a9bef-fe1d-4577-8b1f-49928010963d",
   "metadata": {},
   "source": [
    "## Normalise Fractional Cover Values in WIT result\n",
    "\n",
    "Users are provided the option to normalise the WIT result. Normalisation only affects vegetation Fractional Cover values. We rescale Fractional Cover values by the area of the vegetation so that the total percentage adds to 1. This makes the graph more interpretable and is done as the Fractional Cover algorithm sometimes returns values which add to greater than 1.\n",
    "\n",
    "We suggest normalisation when displaying the WIT plots but perhaps not if calculating population statistics. "
   ]
  },
  {
   "cell_type": "code",
   "execution_count": null,
   "id": "6c47cf6d-80e2-4d0c-9dee-d7919bf9eea7",
   "metadata": {
    "tags": []
   },
   "outputs": [],
   "source": [
    "# Convert ds_wit: XArray.Dataset to polygon_base_df: pandas.DataFrame\n",
    "\n",
    "polygon_base_df = pd.DataFrame()\n",
    "polygon_base_df[\"date\"] = ds_wit.time.values\n",
    "\n",
    "for band in rast_names:\n",
    "    polygon_base_df[band] = ds_wit[band].mean(dim=[\"x\", \"y\"])"
   ]
  },
  {
   "cell_type": "code",
   "execution_count": null,
   "id": "ce2a1dcf-ea24-4e25-810f-1f5060c229c4",
   "metadata": {
    "tags": []
   },
   "outputs": [],
   "source": [
    "polygon_base_df = dea_tools.wetlands.normalise_wit(polygon_base_df)"
   ]
  },
  {
   "cell_type": "markdown",
   "id": "de14a446-2d8c-4813-b8eb-33f5e4d6d1cc",
   "metadata": {},
   "source": [
    "## Create WIT Plot\n",
    "\n",
    "Edit the polygon name in the cell below, if required. A png file will be created in this directory with the same name as the polygon, unless the `png_name` variable below is edited. "
   ]
  },
  {
   "cell_type": "code",
   "execution_count": null,
   "id": "14939bf6-8c60-44ac-8046-371a0aa2471a",
   "metadata": {
    "tags": []
   },
   "outputs": [],
   "source": [
    "polygon_name = \"Hird Swamp\"\n",
    "png_name = polygon_name  # file will be png_name.png"
   ]
  },
  {
   "cell_type": "code",
   "execution_count": null,
   "id": "9c172a41",
   "metadata": {
    "tags": []
   },
   "outputs": [],
   "source": [
    "dea_tools.wetlands.display_wit_stack_with_df(polygon_base_df, polygon_name, png_name)"
   ]
  },
  {
   "cell_type": "markdown",
   "id": "a07166c9-9c2c-468b-9291-a56d731efa99",
   "metadata": {
    "tags": []
   },
   "source": [
    "## Create WIT Comma-separated values (CSV) output file\n",
    "The output file will show up in the file explorer in this directory. \n"
   ]
  },
  {
   "cell_type": "code",
   "execution_count": null,
   "id": "c2b6f3bd-8838-4cc4-be82-be88fe85709e",
   "metadata": {
    "tags": []
   },
   "outputs": [],
   "source": [
    "polygon_base_df.reset_index(drop=True, inplace=True)"
   ]
  },
  {
   "cell_type": "code",
   "execution_count": null,
   "id": "284b0b1d-a36b-4a7c-81a8-ed4c61a4346a",
   "metadata": {
    "tags": []
   },
   "outputs": [],
   "source": [
    "polygon_base_df.set_index('date', inplace=True)"
   ]
  },
  {
   "cell_type": "code",
   "execution_count": null,
   "id": "6925f599-e359-485a-8ca8-4d3c5ec220d7",
   "metadata": {
    "tags": []
   },
   "outputs": [],
   "source": [
    "polygon_base_df.head()"
   ]
  },
  {
   "cell_type": "code",
   "execution_count": null,
   "id": "c6e6197c-d3ea-4ebb-abca-5fc7cfbf46da",
   "metadata": {
    "tags": []
   },
   "outputs": [],
   "source": [
    "#set output csv name to polygon name\n",
    "csv_name = polygon_name\n",
    "#write WIT dataframe to csv without including the index row\n",
    "polygon_base_df.to_csv(f\"{polygon_name}.csv\", index=False)"
   ]
  },
  {
   "cell_type": "markdown",
   "id": "863d462a-eef0-4dea-bcfe-93a600134ebf",
   "metadata": {
    "tags": []
   },
   "source": [
    "## WIT CSV data specification table"
   ]
  },
  {
   "cell_type": "markdown",
   "id": "1df5051f-f013-45ff-8e18-622421accb05",
   "metadata": {
    "tags": []
   },
   "source": [
    "| measurement     | description                                                                                                                                                                                                                                                                                                                                                                                     | data type      |\n",
    "|-----------------|-------------------------------------------------------------------------------------------------------------------------------------------------------------------------------------------------------------------------------------------------------------------------------------------------------------------------------------------------------------------------------------------------|----------------|\n",
    "| date            | Date and time of satellite observation in UTC                                                                                                                                                                                                                                                                                                                                                   | datetime64[ns] |\n",
    "| pv              | Photosynthetic vegetation (pv) fraction. Green vegetation (leaves, grass, growing crops). From the DEA Fractional Cover Product generated using the Joint Remote Sensing Research Program Vegetation Fractional Cover algorithm and calculated as the proportion of the polygon with this cover type, not per pixel.                                                                            | float64        |\n",
    "| npv             | Non-photosynthetic vegetation (npv) fraction. Brown or dry vegetation (branches, dry grass or hay, and dead leaf litter). From the DEA Fractional Cover Product generated using the Joint Remote Sensing Research Program Vegetation Fractional Cover algorithm and calculated as the proportion of the polygon with this cover type, not per pixel.                                            | float64        |\n",
    "| bs              | Bare soil (bs) fraction. Bare ground (soil or rock). From the DEA Fractional Cover Product generated using the Joint Remote Sensing Research Program Vegetation Fractional Cover algorithm and calculated as the proportion of the polygon with this cover type, not per pixel.                                                                                                                 | float64        |\n",
    "| wet             | Wet, not open water. Includes areas of mixed vegetation and water. From a thresholded (> -350) Tasseled Cap Wetness analysis. Calculated as the proportion of the polygon where pixels are not classified as open water or no-data and exceed the threshold by summing pixels.                                                                                                                  | float64        |\n",
    "| water           | Areas that are classified as open water from the DEA Water Observations Product. Calculated as the proportion of the polygon containing water pixels as a sum.                                                                                                                                                                                                                                  | float64        |\n",
    "| veg_areas       | 1 - water - wet . Used to normalise FC values.                                                                                                                                                                                                                                                                                                                                                  | float64        |\n",
    "| overall_veg_num | pv + npv + bs. Used to normalise FC values.                                                                                                                                                                                                                                                                                                                                                     | float64        |\n",
    "| norm_bs         | bs / vegetation_overall_value * vegetation_area . Normalised values are generated for graph display and only affect Fractional Cover Values, which due to the spectral unmixing algorithm can produce values which sum to greater than 1. We rescale Fractional Cover Values by the area of the vegetation so that the total value is 1. Non-normalised values are for calculating statistics.  | float64        |\n",
    "| norm_pv         | pv / vegetation_overall_value * vegetation_area .  Normalised values are generated for graph display and only affect Fractional Cover Values, which due to the spectral unmixing algorithm can produce values which sum to greater than 1. We rescale Fractional Cover Values by the area of the vegetation so that the total value is 1. Non-normalised values are for calculating statistics. | float64        |\n",
    "| norm_npv        | npv / vegetation_overall_value * vegetation_area . Normalised values are generated for graph display and only affect Fractional Cover Values, which due to the spectral unmixing algorithm can produce values which sum to greater than 1. We rescale Fractional Cover Values by the area of the vegetation so that the total value is 1. Non-normalised values are for calculating statistics. | float64        |\n",
    "| off_value       | off_value is 100 where there is low data quality and 0 for good data. This value indicates low quality data periods, including the Landsat 7 SLC-off period: https://www.usgs.gov/faqs/what-landsat-7-etm-slc-data and periods with an observation density of less than four observations within a twelve month (365 days) period.                                                              | float64        |"
   ]
  },
  {
   "cell_type": "markdown",
   "id": "07f5970e-642d-4b57-aae4-cdbeeae2a408",
   "metadata": {},
   "source": [
    "***\n",
    "\n",
    "## Additional information\n",
    "\n",
    "**License:** The code in this notebook is licensed under the [Apache License, Version 2.0](https://www.apache.org/licenses/LICENSE-2.0). \n",
    "Digital Earth Australia data is licensed under the [Creative Commons by Attribution 4.0](https://creativecommons.org/licenses/by/4.0/) license.\n",
    "\n",
    "**Citations** &mdash; If you use the DEA Notebooks and Tools repository in your work, please reference\n",
    "it with the following citation:\n",
    "\n",
    "> Krause, C., Dunn, B., Bishop-Taylor, R., Adams, C., Burton, C., Alger,\n",
    "> M., Chua, S., Phillips, C., Newey, V., Kouzoubov, K., Leith, A.,\n",
    "> Ayers, D., Hicks, A., DEA Notebooks contributors 2021. Digital Earth\n",
    "> Australia notebooks and tools repository. Geoscience Australia,\n",
    "> Canberra. <https://doi.org/10.26186/145234>\n",
    "\n",
    "To cite this notebooks' dataset and research papers in your work you can use the [Publications](#Publications) at the top of this notebook.\n",
    "\n",
    "**Contact:** If you need assistance, please post a question on the [Open Data Cube Slack channel](http://slack.opendatacube.org/) or on the [GIS Stack Exchange](https://gis.stackexchange.com/questions/ask?tags=open-data-cube) using the `open-data-cube` tag (you can view previously asked questions [here](https://gis.stackexchange.com/questions/tagged/open-data-cube)).\n",
    "If you would like to report an issue with this notebook, you can file one on [GitHub](https://github.com/GeoscienceAustralia/dea-notebooks).\n",
    "\n",
    "**Last modified:** April 2024\n",
    "\n",
    "**Compatible datacube version:** "
   ]
  },
  {
   "cell_type": "code",
   "execution_count": null,
   "id": "327f394e-1661-4075-ba63-ffeafa4acce4",
   "metadata": {
    "tags": []
   },
   "outputs": [],
   "source": [
    "print(datacube.__version__)"
   ]
  },
  {
   "cell_type": "markdown",
   "id": "6f9cd24c-22a5-4775-ab00-4cce7d777d88",
   "metadata": {
    "tags": []
   },
   "source": [
    "## Tags"
   ]
  },
  {
   "cell_type": "raw",
   "id": "81993e43-1d63-42a8-b3b7-8df9ca7a7230",
   "metadata": {},
   "source": [
    "**Tags**: :index:`calculate_indices`, :index:`sandbox compatible`, :index:`landsat 5`, :index:`landsat 7`, :index:`landsat 8`, :index:`time series`, :index:`Wetlands_Insight_Tool_(WIT)`, :index:`water observations`, :index:`fractional cover`, :index:`tasseled cap`"
   ]
  }
 ],
 "metadata": {
  "kernelspec": {
   "display_name": "Python 3 (ipykernel)",
   "language": "python",
   "name": "python3"
  },
  "language_info": {
   "codemirror_mode": {
    "name": "ipython",
    "version": 3
   },
   "file_extension": ".py",
   "mimetype": "text/x-python",
   "name": "python",
   "nbconvert_exporter": "python",
   "pygments_lexer": "ipython3",
   "version": "3.10.13"
  },
  "widgets": {
   "application/vnd.jupyter.widget-state+json": {
    "state": {},
    "version_major": 2,
    "version_minor": 0
   }
  }
 },
 "nbformat": 4,
 "nbformat_minor": 5
}
