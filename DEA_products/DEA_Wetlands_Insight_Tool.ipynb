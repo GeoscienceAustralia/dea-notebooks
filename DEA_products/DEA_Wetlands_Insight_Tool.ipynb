{
 "cells": [
  {
   "cell_type": "markdown",
   "id": "3ac7f800-80a3-4791-a50c-922a67334412",
   "metadata": {},
   "source": [
    "#FIXME:\n",
    "* location of supp data hird.shp and the workflow image\n",
    "* replace/ update flow chart\n",
    "* fix image paths\n",
    "* update flowchart for notebook\n",
    "* add paper to prerequisites, and link to FC and WOs notebooks"
   ]
  },
  {
   "cell_type": "markdown",
   "id": "cde63f34-bee7-4194-a0a8-2b9f99af281c",
   "metadata": {},
   "source": [
    "# Introduction to the DEA Wetlands Insight Tool <img align=\"right\" src=\"../Supplementary_data/dea_logo.jpg\">\n",
    "\n",
    "* [**Sign up to the DEA Sandbox**](https://docs.dea.ga.gov.au/setup/sandbox.html) to run this notebook interactively from a browser\n",
    "* **Compatibility:** Notebook currently compatible with `DEA Sandbox` environment only\n",
    "* **Products used:** \n",
    "[ga_ls5t_ard_3](https://explorer.sandbox.dea.ga.gov.au/ga_ls5t_ard_3),\n",
    "[ga_ls7e_ard_3](https://explorer.sandbox.dea.ga.gov.au/ga_ls7e_ard_3),\n",
    "[ga_ls8c_ard_3](https://explorer.sandbox.dea.ga.gov.au/ga_ls8c_ard_3),\n",
    "[ga_ls_wo_3](https://explorer.sandbox.dea.ga.gov.au/products/ga_ls_wo_3),\n",
    "[ga_ls_fc_3](https://explorer.sandbox.dea.ga.gov.au/products/ga_ls_fc_3),\n",
    "\n",
    "> **Note:** [ga_ls9c_ard_3](https://explorer.dea.ga.gov.au/products/ga_ls9c_ard_3) can be included once derivative Water Observations and Fractional Cover products have been generated"
   ]
  },
  {
   "cell_type": "markdown",
   "id": "515952ed-a6a9-4cae-b7c7-7131846ef710",
   "metadata": {},
   "source": [
    "This notebook demonstrates the method for reproducing results from the Wetlands Insight Tool."
   ]
  },
  {
   "cell_type": "markdown",
   "id": "3b9d2928-74cb-4c00-9ccd-c8985ce3bde9",
   "metadata": {},
   "source": [
    "## Background"
   ]
  },
  {
   "cell_type": "markdown",
   "id": "5301a89a-f23b-4aa1-8bb5-c54f5fc45c47",
   "metadata": {},
   "source": [
    "Wetlands provide a wide range of ecosystem services including improving water quality, carbon sequestration, as well as providing habitat for fish, amphibians, reptiles and birds.  Managing wetlands in Australia is challenging due to competing pressures for water availability and highly variable climatic settings.  The DEA Wetlands Insight Tool has been developed to provide catchment managers, environmental water holders, and wetlands scientists a consistent historical baseline of wetlands dynamics from 1987 onwards. \n",
    "\n",
    "The DEA Wetlands Insight Tool summarises how the amount of water, green vegetation, dry vegetation and bare soil varies over time within each wetland. It provides the user with the ability to compare how the wetland is behaving now with how it has behaved in the past.  This allows users to identify how changes in water availability have affected the wetland. It achieves this by presenting a combined view of Water Observations from Space, Tasseled Cap Wetness and Fractional Cover measurements from the Landsat series of satellites, summarised as a stacked line plot to show how that wetland has changed over time. \n",
    "\n",
    "## Applications\n",
    "The product is designed to support wetland managers, catchment managers and environmental waterholders in understanding whether or not wetlands are changing over time.  In instances where the wetlands are changing, the tool allows users to identify whether the changes are gradual, rapid, once-off or cyclical in nature.  For example the response of wetlands to the following drivers can be assessed:\n",
    "\n",
    "* Changes in river flow volumes\n",
    "* Changes in flood frequency\n",
    "* Long term shifts in rainfall\n",
    "* Wet-season/Dry-season shifts in water availability\n",
    "* Invasive weeds\n",
    "* Environmental watering events\n",
    "\n",
    "Care should be used when interpreting Wetlands Insight Tool results as increases/decreases in particular cover types can be associated with different processes.  For example an increase in green cover could indicate canopy recovery of desirable wetland species or an increase in the amount of invasive weeds.\n",
    "\n",
    "## Publications\n",
    "* Dunn, B., Ai, E., Alger, M.J., Fanson, B., Fickas, K.C., Krause, C.E., Lymburner, L., Nanson, R., Papas, P., Ronan, M., Thomas, R.F., 2023. Wetlands Insight Tool: Characterising the Surface Water and Vegetation Cover Dynamics of Individual Wetlands Using Multidecadal Landsat Satellite Data. Wetlands 43, 37. Available: https://doi.org/10.1007/s13157-023-01682-7\n",
    "* Dunn, B., Lymburner, L., Newey, V., Hicks, A. and Carey, H., 2019. Developing a Tool for Wetland Characterization Using Fractional Cover, Tasseled Cap Wetness And Water Observations From Space. IGARSS 2019 - 2019 IEEE International Geoscience and Remote Sensing Symposium, 2019, pp. 6095-6097. Available: https://doi.org/10.1109/IGARSS.2019.8897806.\n",
    "\n",
    "## Related products\n",
    "DEA Fractional Cover (Landsat, DEPRECATED)\n",
    "DEA Wetness Percentiles (Landsat)\n",
    "DEA Water Observations (Landsat, DEPRECATED)"
   ]
  },
  {
   "cell_type": "markdown",
   "id": "8f646f63-0825-4180-97e1-2c16db40d6e9",
   "metadata": {},
   "source": [
    "## WIT calculation\n",
    "\n",
    "For each pixel, we calculate its WIT values based on the Flowchart from [Dunn, et al., 2023](https://doi.org/10.1007/s13157-023-01682-7).\n",
    "\n",
    "<p align=\"center\">\n",
    "  <img width=\"460\" height=\"300\" src=\"./Fig2.png\">\n",
    "</p>\n",
    "\n"
   ]
  },
  {
   "cell_type": "markdown",
   "id": "c3de8187-9be7-4ac8-b87e-73eb4e952c27",
   "metadata": {},
   "source": [
    "## Getting Started"
   ]
  },
  {
   "cell_type": "markdown",
   "id": "39395e2c-bc76-4504-9143-1e7cf4e4b454",
   "metadata": {},
   "source": [
    "### Load packages\n",
    "Import Python packages that are used for the analysis.\n",
    "\n",
    "Use standard import commands; some are shown below. \n",
    "Begin with any `iPython` magic commands, followed by standard Python packages, then any additional functionality you need from the `Scripts` directory."
   ]
  },
  {
   "cell_type": "code",
   "execution_count": 1,
   "id": "28fba421-1583-4e6c-84c2-1bd154533889",
   "metadata": {
    "tags": []
   },
   "outputs": [],
   "source": [
    "import datetime\n",
    "import geopandas as gpd\n",
    "import itertools\n",
    "import numpy as np\n",
    "import pandas as pd\n",
    "import xarray as xr\n",
    "\n",
    "import datacube\n",
    "import dea_tools.bandindices\n",
    "import dea_tools.datahandling\n",
    "from dea_tools.spatial import xr_rasterize\n",
    "\n",
    "import sys\n",
    "\n",
    "sys.path.insert(1, \"../Tools/dea_tools/\")\n",
    "import wetlands"
   ]
  },
  {
   "cell_type": "markdown",
   "id": "c4492879-d302-4531-bff0-452132be9ec2",
   "metadata": {},
   "source": [
    "### Connect to the datacube:\n",
    "\n",
    "Connect to the datacube so we can access DEA data.\n",
    "The `app` parameter is a unique name for the analysis which is based on the notebook file name."
   ]
  },
  {
   "cell_type": "code",
   "execution_count": 2,
   "id": "916a4440-b6e2-447b-81e3-50d199cd48f7",
   "metadata": {
    "tags": []
   },
   "outputs": [],
   "source": [
    "dc = datacube.Datacube(app=\"WITbook\")"
   ]
  },
  {
   "cell_type": "markdown",
   "id": "9964640f-d7c1-4850-aeb7-f62b5bf71a7f",
   "metadata": {
    "tags": []
   },
   "source": [
    "### Analysis parameters\n",
    "\n",
    "A section to inform the user of any parameters they'll need to configure to run the notebook:\n",
    "\n",
    "* `poly`: The polygon of your wetland of interest. This can be a shapefile or a GeoJSON. User will need to drag and drop the file into the sandbox and update the file path. Your polygon should be in EPSG:3577 [GDA94 Australian Albers](https://epsg.io/3577).\n",
    "\n",
    "* `param_name_2`: Simple description (e.g. `example_value`). Advice about appropriate values to choose for this parameter.\n"
   ]
  },
  {
   "cell_type": "markdown",
   "id": "1b68e01f-1d30-4e74-b9eb-6e1e531d9d9c",
   "metadata": {},
   "source": [
    "## Load a shapefile that describes your wetlands study area"
   ]
  },
  {
   "cell_type": "code",
   "execution_count": 3,
   "id": "f3e7c1db-7580-492e-935d-f0e660215164",
   "metadata": {},
   "outputs": [
    {
     "data": {
      "image/svg+xml": [
       "<svg xmlns=\"http://www.w3.org/2000/svg\" xmlns:xlink=\"http://www.w3.org/1999/xlink\" width=\"300\" height=\"300\" viewBox=\"1089371.2803667467 -3972048.6196333757 2122.4687955421396 4092.3167770886794\" preserveAspectRatio=\"xMinYMin meet\"><g transform=\"matrix(1,0,0,-1,0,-7940004.922489663)\"><path fill-rule=\"evenodd\" fill=\"#66cc99\" stroke=\"#555555\" stroke-width=\"27.282111847257863\" opacity=\"0.6\" d=\"M 1090599.724168323,-3968110.1047163606 L 1090900.9320229834,-3968337.2701842533 L 1090830.4133887487,-3968321.436239973 L 1091117.226937587,-3968543.3745370903 L 1091129.556547493,-3968620.1453495463 L 1091112.0189369598,-3968679.2758299974 L 1091238.917448304,-3968878.598910277 L 1091342.1818742484,-3969664.743454552 L 1091320.7537999535,-3970199.2057505017 L 1091235.7022914675,-3970538.65965196 L 1091233.2422425845,-3970548.4757472947 L 1091230.811291505,-3970558.174632316 L 1091146.329312126,-3970536.887344747 L 1090908.015540863,-3970708.9813822317 L 1091119.9070692877,-3970919.3748791586 L 1091091.6167777167,-3971034.3420862304 L 1091089.1995126784,-3971044.1694917367 L 1091086.8098064454,-3971053.8815489872 L 1091063.1209988648,-3971047.6042673625 L 1091033.2214625878,-3971131.626233405 L 1090906.0758770865,-3971303.8812576276 L 1090830.9218082605,-3971368.3891391666 L 1090738.1291267814,-3971306.023793601 L 1090704.6878897576,-3971337.763898293 L 1090818.4078712314,-3971537.6339240326 L 1090809.5593581193,-3971668.522312935 L 1090830.543955045,-3971684.971741548 L 1090959.344011961,-3971650.8372738045 L 1091062.701516835,-3971695.8469660287 L 1091020.7521080861,-3971870.8708248734 L 1090930.904795749,-3971897.0523453355 L 1090930.4942681962,-3971893.492861162 L 1090930.0728100238,-3971888.560830645 L 1090929.8821964748,-3971885.6364728124 L 1090929.72131845,-3971882.710257643 L 1090929.5825503613,-3971866.764344074 L 1090929.6336058648,-3971850.8169508763 L 1090929.8204993801,-3971845.3759920914 L 1090930.0493357452,-3971839.937345808 L 1090930.4325401094,-3971831.9209800404 L 1090930.856990581,-3971823.908532119 L 1090930.9137894637,-3971822.8890602835 L 1090930.972924757,-3971821.8698104396 L 1090931.7175794868,-3971809.0859980825 L 1090932.4655526103,-3971796.3016049876 L 1090932.9366271922,-3971788.0437181536 L 1090933.3861497713,-3971779.782666661 L 1090933.6452055401,-3971774.7101367884 L 1090933.8809881348,-3971769.637290149 L 1090934.1628013214,-3971762.657330492 L 1090934.3869998432,-3971755.676800574 L 1090934.4984841428,-3971750.6868000864 L 1090934.5526444144,-3971745.6960345535 L 1090934.5274769866,-3971739.8854818325 L 1090934.3948528208,-3971734.0778736873 L 1090934.2151065313,-3971730.1650104397 L 1090933.925162311,-3971726.258176639 L 1090933.445609551,-3971722.0241463026 L 1090932.7611210968,-3971717.8179158494 L 1090932.1711484217,-3971715.24683669 L 1090931.379645238,-3971712.7297483985 L 1090930.2930228198,-3971710.225758379 L 1090928.8924867334,-3971707.884938465 L 1090927.5968670733,-3971706.323634345 L 1090926.0492749405,-3971705.0122211673 L 1090924.2830877542,-3971703.988768994 L 1090922.3632201343,-3971703.295348158 L 1090919.7052525259,-3971702.784329012 L 1090917.0030019425,-3971702.634363743 L 1090914.3325763966,-3971702.7783165267 L 1090911.6841041741,-3971703.145452725 L 1090907.4710087904,-3971704.024528432 L 1090903.3093152957,-3971705.1203324464 L 1090899.9192922867,-3971706.157563915 L 1090896.5590663354,-3971707.2858210406 L 1090890.4870631131,-3971709.463692443 L 1090884.4469068488,-3971711.728214782 L 1090878.8453587613,-3971713.8923707255 L 1090873.2542109932,-3971716.0826038453 L 1090867.4096181872,-3971718.3731865436 L 1090861.5538151644,-3971720.6367280353 L 1090854.2870363516,-3971723.3803228717 L 1090846.9897917407,-3971726.046659063 L 1090841.5992400944,-3971727.939986084 L 1090836.1800004311,-3971729.753545778 L 1090828.9875492516,-3971732.008951992 L 1090821.744991283,-3971734.0922459145 L 1090815.8308310648,-3971735.6284383554 L 1090809.874213525,-3971736.9883383582 L 1090803.4255249945,-3971738.2488614013 L 1090796.9358602853,-3971739.286962657 L 1090790.549320557,-3971740.083330984 L 1090784.138611517,-3971740.6559755956 L 1090777.9601419417,-3971740.989788982 L 1090771.7749334376,-3971741.1063289754 L 1090766.021475372,-3971741.0056689824 L 1090760.2756392683,-3971740.6883192025 L 1090754.6773117858,-3971740.15642072 L 1090749.1042682077,-3971739.3965769038 L 1090744.2985401428,-3971738.5227708123 L 1090739.5390392924,-3971737.423900441 L 1090734.8605039234,-3971736.0855383347 L 1090730.2651068722,-3971734.4848112212 L 1090726.6665284943,-3971732.9685336123 L 1090723.1824040727,-3971731.202899977 L 1090720.024009284,-3971729.2861413746 L 1090717.030624179,-3971727.1175822928 L 1090714.3601627136,-3971724.8150245263 L 1090711.8953054727,-3971722.29340003 L 1090709.9027390787,-3971719.9066235772 L 1090708.0809696636,-3971717.3865582477 L 1090706.002879929,-3971714.0942274104 L 1090704.1102154874,-3971710.689286104 L 1090702.8702708464,-3971708.216247145 L 1090701.7033699495,-3971705.705437931 L 1090699.66020224,-3971701.0280794273 L 1090697.6919410208,-3971696.318144893 L 1090695.0526668702,-3971689.8905315846 L 1090692.3890768322,-3971683.473541644 L 1090691.5262403383,-3971681.619899188 L 1090684.953357464,-3971667.7218650156 L 1090678.2372648797,-3971653.8927335255 L 1090634.9342253166,-3971643.809422488 L 1090602.8442870365,-3971636.337251981 L 1090527.7808587453,-3971476.839090324 L 1090531.536289469,-3971446.8893388305 L 1090535.2908448144,-3971416.940261858 L 1090492.8233606392,-3971412.839532644 L 1090220.0324383157,-3971054.2354051312 L 1089998.7924639632,-3970763.3930190154 L 1089654.2637389058,-3970142.8074298548 L 1089672.9478193193,-3969954.8948019263 L 1089673.9624933081,-3969944.6969193574 L 1089684.4692022263,-3969839.0483152065 L 1089616.466597886,-3969805.8379890905 L 1089533.8392964005,-3969530.229276433 L 1089533.6263060453,-3969525.814170795 L 1089522.8476547871,-3969302.8606511317 L 1089627.376229091,-3968809.197513795 L 1089941.2706096377,-3968840.4436382074 L 1089944.507680442,-3968830.6552134315 L 1089947.7456662133,-3968820.8686574684 L 1089806.1691498905,-3968806.776643564 L 1089889.352758317,-3968512.1887825155 L 1090083.8745283072,-3968428.654931391 L 1090112.4341029688,-3968359.874155165 L 1090175.5177083572,-3968384.5284059173 L 1090277.1833476524,-3968424.261313999 L 1090321.4109167983,-3968308.5523220864 L 1090342.9565407662,-3968252.1842768434 L 1090307.053836483,-3968238.068417453 L 1090120.4791552895,-3968164.710809661 L 1090278.5664767057,-3968137.1113702236 L 1090409.4603747616,-3968114.2588176327 L 1090446.048198219,-3968107.870144327 L 1090452.2698842715,-3968138.026727897 L 1090463.2123376464,-3968135.95465693 L 1090599.724168323,-3968110.1047163606 z\" /></g></svg>"
      ],
      "text/plain": [
       "<POLYGON ((1090599.724 -3968110.105, 1090900.932 -3968337.27, 1090830.413 -3...>"
      ]
     },
     "execution_count": 3,
     "metadata": {},
     "output_type": "execute_result"
    }
   ],
   "source": [
    "# This cell loads and plots the wetlands polygon. If no output, check your polygon\n",
    "poly = gpd.read_file(\"../Supplementary_data/DEA_Wetlands_Insight_Tool/hird.shp\")\n",
    "poly.geometry[0]"
   ]
  },
  {
   "cell_type": "code",
   "execution_count": 4,
   "id": "1a509b3b-c2e5-4e1c-8751-0fc264ac1bf1",
   "metadata": {},
   "outputs": [],
   "source": [
    "# Specifying coordinate reference system of the polygon.\n",
    "gpgon = datacube.utils.geometry.Geometry(poly.geometry[0], crs=poly.crs)"
   ]
  },
  {
   "cell_type": "code",
   "execution_count": 5,
   "id": "8829ee8f-321d-4b5e-959d-ed6b2a91e626",
   "metadata": {},
   "outputs": [],
   "source": [
    "# Select time period. Consistent data is available from 01-09-1987.\n",
    "time = (\"2014-11-01\", \"2015-01-01\")\n",
    "# time = ('1985-01-01', '2015-01-01')"
   ]
  },
  {
   "cell_type": "markdown",
   "id": "0b9eaac8-9134-42c6-9ee2-cf36de8cc7fc",
   "metadata": {},
   "source": [
    "## Load Landsat, Water Observations, and Fractional Cover:\n",
    "\n",
    "### Load and Mask Landsat data\n",
    "\n",
    "Load Landsat 5, 7 and 8 data. Not including Landsat 7 SLC off period (31-05-2003 to 06-04-2022). If the following cell successfully loads data, it will generate output text, similar to:\n",
    "\n",
    "\n",
    "```\n",
    "Finding datasets\n",
    "    ga_ls8c_ard_3\n",
    "    ga_ls7e_ard_3 (ignoring SLC-off observations)\n",
    "    ga_ls5t_ard_3\n",
    "Applying fmask pixel quality/cloud mask\n",
    "Loading 8 time steps\n",
    "```\n",
    "\n",
    "For further information on the functions used here, go to the [function documentation](https://github.com/GeoscienceAustralia/dea-notebooks/blob/b13f020f8a41c30bc1bb4120ce492098a25a2bfa/Tools/dea_tools/datahandling.py)."
   ]
  },
  {
   "cell_type": "code",
   "execution_count": 6,
   "id": "fa800f22-51fd-42af-b2a8-e5d3e32885f1",
   "metadata": {},
   "outputs": [
    {
     "name": "stdout",
     "output_type": "stream",
     "text": [
      "Finding datasets\n",
      "    ga_ls8c_ard_3\n",
      "    ga_ls7e_ard_3 (ignoring SLC-off observations)\n",
      "    ga_ls5t_ard_3\n",
      "Applying fmask pixel quality/cloud mask\n",
      "Loading 8 time steps\n"
     ]
    }
   ],
   "source": [
    "# Define which spectral bands are being used in the analysis\n",
    "bands = [\n",
    "    f\"nbart_{band}\" for band in (\"blue\", \"green\", \"red\", \"nir\", \"swir_1\", \"swir_2\")\n",
    "]\n",
    "\n",
    "# Load Landsat 5, 7 and 8 data. Not including Landsat 7 SLC off period (31-05-2003 to 06-04-2022).\n",
    "ds = dea_tools.datahandling.load_ard(\n",
    "    dc,\n",
    "    products=[\"ga_ls8c_ard_3\", \"ga_ls7e_ard_3\", \"ga_ls5t_ard_3\"],\n",
    "    ls7_slc_off=False,\n",
    "    measurements=bands,\n",
    "    geopolygon=gpgon,\n",
    "    output_crs=\"EPSG:3577\",\n",
    "    resolution=(-30, 30),\n",
    "    resampling={\"fmask\": \"nearest\", \"*\": \"bilinear\"},\n",
    "    time=time,\n",
    "    group_by=\"solar_day\",\n",
    ")"
   ]
  },
  {
   "cell_type": "markdown",
   "id": "886e50ef-60f3-4076-b679-a4b98026ee1d",
   "metadata": {},
   "source": [
    "### Load Water Observations and Fractional Cover datasets\n",
    "\n",
    "Load Fractional Cover and Water Observations data into the same spatial grid and resolution as the loaded Landsat dataset."
   ]
  },
  {
   "cell_type": "code",
   "execution_count": 7,
   "id": "250e7011-6030-4665-abd4-5d6ecaa8398f",
   "metadata": {},
   "outputs": [],
   "source": [
    "ds_wo = dc.load(\"ga_ls_wo_3\", resampling=\"nearest\", group_by=\"solar_day\", like=ds)\n",
    "ds_fc = dc.load(\"ga_ls_fc_3\", resampling=\"nearest\", group_by=\"solar_day\", like=ds)"
   ]
  },
  {
   "cell_type": "markdown",
   "id": "33e52d2f-0198-443f-b05c-e0ed5231a600",
   "metadata": {},
   "source": [
    "### Locate and remove any observations which aren't in all three datasets"
   ]
  },
  {
   "cell_type": "code",
   "execution_count": 8,
   "id": "d12ca62e-f175-461d-bc19-f86df67cf088",
   "metadata": {},
   "outputs": [],
   "source": [
    "missing = set()\n",
    "for t1, t2 in itertools.product(\n",
    "    [ds_fc.time.values, ds_wo.time.values, ds.time.values], repeat=2\n",
    "):\n",
    "    missing_ = set(t1) - set(t2)\n",
    "    missing |= missing_\n",
    "\n",
    "ds_fc = ds_fc.sel(time=[t for t in ds_fc.time.values if t not in missing])\n",
    "ds = ds.sel(time=[t for t in ds.time.values if t not in missing])\n",
    "ds_wo = ds_wo.sel(time=[t for t in ds_wo.time.values if t not in missing])"
   ]
  },
  {
   "cell_type": "markdown",
   "id": "4daa4474-d9bf-4a31-b491-8c17f44e8247",
   "metadata": {},
   "source": [
    "## Calculate Tasseled Cap Wetness from the Landsat data\n",
    "\n",
    "\n",
    "We use Tasseled Cap Wetness (TCW) to identify areas in wetlands that are wet, but not identified by the WOfS algorithm as open water. \n",
    "\n",
    "The coefficients of Crist ([1985](https://doi.org/10.1016/0034-4257(85)90102-6)) were used to calculate TCW. \n",
    "\n",
    "TCW has values between −12,915 and 7032 when applied to DEA Landsat data. As TCW increases, the pixel becomes \n",
    "wetter ([Dunn, et al., 2023](https://doi.org/10.1007/s13157-023-01682-7)).\n"
   ]
  },
  {
   "cell_type": "code",
   "execution_count": 9,
   "id": "62cced45-65a0-4a61-8634-1eaa65e9ab0c",
   "metadata": {},
   "outputs": [
    {
     "name": "stdout",
     "output_type": "stream",
     "text": [
      "Dropping bands ['nbart_blue', 'nbart_green', 'nbart_red', 'nbart_nir', 'nbart_swir_1', 'nbart_swir_2']\n"
     ]
    }
   ],
   "source": [
    "tcw = dea_tools.bandindices.calculate_indices(\n",
    "    ds, index=\"TCW\", collection=\"ga_ls_3\", normalise=False, drop=True, inplace=False\n",
    ")"
   ]
  },
  {
   "cell_type": "markdown",
   "id": "29d8486b-8511-4da5-93de-0f6ea1d34beb",
   "metadata": {},
   "source": [
    "### Normalise Fractional Cover\n",
    "\n",
    "Divide the FC values by 100 to keep them in $[0, 1]$ (ignoring for now that values can exceed 100 due to how FC is calculated):"
   ]
  },
  {
   "cell_type": "code",
   "execution_count": 10,
   "id": "43d5af0c-7cd0-4222-a574-7403d24f8e80",
   "metadata": {},
   "outputs": [],
   "source": [
    "bs = ds_fc.bs / 100\n",
    "pv = ds_fc.pv / 100\n",
    "npv = ds_fc.npv / 100"
   ]
  },
  {
   "cell_type": "markdown",
   "id": "2420e49a-cfe0-4902-ae7d-2a6bbb255940",
   "metadata": {},
   "source": [
    "### Generate the WIT raster bands:\n",
    "\n",
    "Create an empty dataset called `output_rast` and populate with values from input datasets."
   ]
  },
  {
   "cell_type": "code",
   "execution_count": 11,
   "id": "5e83e0d5-c5a0-4900-a98d-d3107df138b2",
   "metadata": {},
   "outputs": [],
   "source": [
    "rast_names = [\"pv\", \"npv\", \"bs\", \"wet\", \"water\"]\n",
    "output_rast = {n: xr.zeros_like(bs) for n in rast_names}\n",
    "\n",
    "output_rast[\"bs\"].values[:] = bs\n",
    "output_rast[\"pv\"].values[:] = pv\n",
    "output_rast[\"npv\"].values[:] = npv"
   ]
  },
  {
   "cell_type": "markdown",
   "id": "d21e2124-5b3d-45e7-82f6-0af64211add6",
   "metadata": {},
   "source": [
    "### Masking \n",
    "\n",
    "1. Mask pixels not in the polygon\n",
    "\n",
    "2. Use the [Water Observations bit flags](https://github.com/GeoscienceAustralia/dea-notebooks/blob/develop/DEA_products/DEA_Water_Observations.ipynb) to mask noncontiguous data, low solar incidence angle, cloud, and water out of the `wet` category. We distinguish `open water` from `wet` as mutually exclusive categories. \n",
    "\n",
    "### Thresholding\n",
    "\n",
    "We threshold TCW at −350, with values above this threshold used to characterise ‘wet’ pixels ([Dunn, et al., 2023](https://doi.org/10.1007/s13157-023-01682-7))."
   ]
  },
  {
   "cell_type": "code",
   "execution_count": 12,
   "id": "fd084dee-982f-4a8d-9c1e-4a268d4c5a78",
   "metadata": {},
   "outputs": [],
   "source": [
    "# rasterise the shapefile where poly is the vector data and pv is the xarray template\n",
    "poly_raster = xr_rasterize(poly, pv) > 0\n",
    "\n",
    "# mask includes noncontiguous data, low solar incidence angle, cloud, and water\n",
    "mask = (ds_wo.water & 0b01100011) == 0\n",
    "mask &= poly_raster\n",
    "\n",
    "# set open water to water present and classified as water as per Water Observations and bit flags\n",
    "open_water = ds_wo.water & (1 << 7) > 0\n",
    "\n",
    "# set wet pixels where not masked and above threshold of -350\n",
    "wet = tcw.where(mask).TCW > -350"
   ]
  },
  {
   "cell_type": "code",
   "execution_count": 13,
   "id": "27907639-28fc-4f4c-9bb2-c25bc6083101",
   "metadata": {},
   "outputs": [],
   "source": [
    "# adding wet and water values to output raster\n",
    "\n",
    "# TCW\n",
    "output_rast[\"wet\"].values[:] = wet.values.astype(float)\n",
    "for name in rast_names[:3]:\n",
    "    output_rast[name].values[wet.values] = 0\n",
    "\n",
    "# WO\n",
    "output_rast[\"water\"].values[:] = open_water.values.astype(float)\n",
    "for name in rast_names[:4]:\n",
    "    output_rast[name].values[open_water.values] = 0"
   ]
  },
  {
   "cell_type": "code",
   "execution_count": 14,
   "id": "cb887421-f64a-4f2e-8bbd-8352d5eb0b78",
   "metadata": {},
   "outputs": [],
   "source": [
    "# Masking again\n",
    "ds_wit = xr.Dataset(output_rast).where(mask)"
   ]
  },
  {
   "cell_type": "markdown",
   "id": "ba218604-715b-4703-93f3-2c3a353bcf1d",
   "metadata": {},
   "source": [
    "Mask entire observations where the polygon is more than 10% masked:"
   ]
  },
  {
   "cell_type": "code",
   "execution_count": 15,
   "id": "af2bffc0-b3db-4eec-8de9-c5f3bbd73dfd",
   "metadata": {},
   "outputs": [],
   "source": [
    "# Calculate percentage missing\n",
    "pc_missing = (~mask).where(poly_raster).mean(dim=[\"x\", \"y\"])\n",
    "\n",
    "ds_wit = ds_wit.where(pc_missing < 0.1)"
   ]
  },
  {
   "cell_type": "markdown",
   "id": "bccb56a7-9096-4168-8c91-233ef4fc9cac",
   "metadata": {},
   "source": [
    "The WIT results are now computed. All that's left is to normalise them."
   ]
  },
  {
   "cell_type": "markdown",
   "id": "4e8a9bef-fe1d-4577-8b1f-49928010963d",
   "metadata": {},
   "source": [
    "## Normalise WIT result\n",
    "\n",
    "Users are provided the option to normalise the WIT result. Normalisation only affects vegetation Fractional Cover values. We rescale Fractional Cover values by the area of the vegetation so that the total percentage adds to 1. This makes the graph more interpretable and is done as the Fractional Cover algorithm sometimes returns values which add to greater than 1.\n",
    "\n",
    "We suggest normalisation when displaying the WIT plots but perhaps not if calculating population statistics. "
   ]
  },
  {
   "cell_type": "code",
   "execution_count": 16,
   "id": "6c47cf6d-80e2-4d0c-9dee-d7919bf9eea7",
   "metadata": {},
   "outputs": [],
   "source": [
    "# covert ds_wit: XArray.Dataset to polygon_base_df: pandas.DataFrame\n",
    "\n",
    "polygon_base_df = pd.DataFrame()\n",
    "polygon_base_df[\"date\"] = ds_wit.time.values\n",
    "\n",
    "for band in rast_names:\n",
    "    polygon_base_df[band] = ds_wit[band].mean(dim=[\"x\", \"y\"])"
   ]
  },
  {
   "cell_type": "code",
   "execution_count": 17,
   "id": "ce2a1dcf-ea24-4e25-810f-1f5060c229c4",
   "metadata": {
    "tags": []
   },
   "outputs": [],
   "source": [
    "polygon_base_df = wetlands.normalise_wit(polygon_base_df)"
   ]
  },
  {
   "cell_type": "markdown",
   "id": "de14a446-2d8c-4813-b8eb-33f5e4d6d1cc",
   "metadata": {},
   "source": [
    "## Create WIT Plot\n",
    "\n",
    "Edit the polygon name in the cell below, if required. A png file will be created in this directory with the same name as the polygon, unless the `png_name` variable below is edited. "
   ]
  },
  {
   "cell_type": "code",
   "execution_count": 18,
   "id": "14939bf6-8c60-44ac-8046-371a0aa2471a",
   "metadata": {},
   "outputs": [],
   "source": [
    "polygon_name = \"Hird Swamp\"\n",
    "png_name = polygon_name  # file will be png_name.png"
   ]
  },
  {
   "cell_type": "code",
   "execution_count": 19,
   "id": "1b590cd6-e642-4e6f-9cf3-e7cf3981b918",
   "metadata": {},
   "outputs": [
    {
     "data": {
      "image/png": "[encoded data removed]",
      "text/plain": [
       "<Figure size 3200x600 with 1 Axes>"
      ]
     },
     "metadata": {},
     "output_type": "display_data"
    }
   ],
   "source": [
    "wetlands.display_wit_stack_with_df(polygon_base_df, polygon_name, png_name)"
   ]
  },
  {
   "cell_type": "markdown",
   "id": "07f5970e-642d-4b57-aae4-cdbeeae2a408",
   "metadata": {},
   "source": [
    "***\n",
    "\n",
    "## Additional information\n",
    "\n",
    "**License:** The code in this notebook is licensed under the [Apache License, Version 2.0](https://www.apache.org/licenses/LICENSE-2.0). \n",
    "Digital Earth Australia data is licensed under the [Creative Commons by Attribution 4.0](https://creativecommons.org/licenses/by/4.0/) license.\n",
    "\n",
    "**Contact:** If you need assistance, please post a question on the [Open Data Cube Slack channel](http://slack.opendatacube.org/) or on the [GIS Stack Exchange](https://gis.stackexchange.com/questions/ask?tags=open-data-cube) using the `open-data-cube` tag (you can view previously asked questions [here](https://gis.stackexchange.com/questions/tagged/open-data-cube)).\n",
    "If you would like to report an issue with this notebook, you can file one on [Github](https://github.com/GeoscienceAustralia/dea-notebooks).\n",
    "\n",
    "**Last modified:** July 2023 \n",
    "\n",
    "**Compatible datacube version:** "
   ]
  },
  {
   "cell_type": "code",
   "execution_count": 20,
   "id": "327f394e-1661-4075-ba63-ffeafa4acce4",
   "metadata": {
    "tags": []
   },
   "outputs": [
    {
     "name": "stdout",
     "output_type": "stream",
     "text": [
      "1.8.13\n"
     ]
    }
   ],
   "source": [
    "print(datacube.__version__)"
   ]
  },
  {
   "cell_type": "markdown",
   "id": "6f9cd24c-22a5-4775-ab00-4cce7d777d88",
   "metadata": {
    "tags": []
   },
   "source": [
    "## Tags\n",
    "Browse all available tags on the DEA User Guide's [Tags Index](https://docs.dea.ga.gov.au/genindex.html)"
   ]
  },
  {
   "cell_type": "raw",
   "id": "81993e43-1d63-42a8-b3b7-8df9ca7a7230",
   "metadata": {},
   "source": [
    "**Tags**: :index:`calculate_indices`, :index:`sandbox compatible`, :index:`landsat 5`, :index:`landsat 7`, :index:`landsat 8`, :index:`time series`, :index:`Wetlands_Insight_Tool_(WIT)`, :index:`water observations`, :index:`fractional cover`, :index:`tasseled cap`"
   ]
  }
 ],
 "metadata": {
  "kernelspec": {
   "display_name": "Python 3 (ipykernel)",
   "language": "python",
   "name": "python3"
  },
  "language_info": {
   "codemirror_mode": {
    "name": "ipython",
    "version": 3
   },
   "file_extension": ".py",
   "mimetype": "text/x-python",
   "name": "python",
   "nbconvert_exporter": "python",
   "pygments_lexer": "ipython3",
   "version": "3.8.10"
  },
  "widgets": {
   "application/vnd.jupyter.widget-state+json": {
    "state": {},
    "version_major": 2,
    "version_minor": 0
   }
  }
 },
 "nbformat": 4,
 "nbformat_minor": 5
}
