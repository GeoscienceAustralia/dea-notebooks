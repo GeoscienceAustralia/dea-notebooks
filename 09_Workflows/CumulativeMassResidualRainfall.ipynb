{
 "cells": [
  {
   "cell_type": "markdown",
   "metadata": {},
   "source": [
    "# Cumulative Mass Residual Rainfall Calculation\n",
    "\n",
    "__Background:__ Mass Residual Rainfall is a useful calculation of the cumulative difference from the mean rainfall. \n",
    "\n",
    "__Before you run this notebook:__ \n",
    "\n",
    "You need access to r78 to use the `load_rainfall` function. You can get accesss by signing into your NCI account and requesting r78 access: https://my.nci.org.au/mancini/\n",
    "\n",
    "You need to run the following commands from the command line prior to launching jupyter notebook from the same terminal so that the required libraries and paths are set.\n",
    "\n",
    "module use /g/data/v10/public/modules/modulefiles\n",
    "\n",
    "module load dea\n",
    "\n",
    "__What does this notebook do?:__ Calculates mass residual rainfall for an area of interest\n",
    "\n",
    "\n",
    "__Date:__ Oct 2018\n",
    "\n",
    "__Authors:__ Bex Dunn, Vanessa Newey, Neil Symington, Claire Krause, Leo Lymburner"
   ]
  },
  {
   "cell_type": "raw",
   "metadata": {
    "ExecuteTime": {
     "end_time": "2018-10-28T22:42:00.465923Z",
     "start_time": "2018-10-28T22:41:58.893342Z"
    },
    "raw_mimetype": "text/restructuredtext"
   },
   "source": [
    "Tags: :index:`rainfall`, :index:`dc.load`, :index:`query`, :index:`statistics`,"
   ]
  },
  {
   "cell_type": "markdown",
   "metadata": {
    "ExecuteTime": {
     "end_time": "2018-06-19T03:17:44.341801Z",
     "start_time": "2018-06-19T03:17:44.338622Z"
    }
   },
   "source": [
    "### load modules"
   ]
  },
  {
   "cell_type": "code",
   "execution_count": null,
   "metadata": {
    "ExecuteTime": {
     "end_time": "2018-10-28T22:43:25.442427Z",
     "start_time": "2018-10-28T22:43:24.311065Z"
    }
   },
   "outputs": [],
   "source": [
    "%load_ext autoreload\n",
    "%autoreload 2\n",
    "\n",
    "#get modules from standard libraries\n",
    "\n",
    "import os.path\n",
    "import numpy as np\n",
    "import sys\n",
    "import xarray as xr\n",
    "\n",
    "from datetime import datetime\n",
    "import matplotlib.pyplot as plt\n",
    "\n",
    "#modules for datacube\n",
    "import datacube\n",
    "from datacube.utils import geometry\n",
    "from datacube.storage.storage import write_dataset_to_netcdf\n",
    "from datacube.helpers import write_geotiff\n",
    "\n",
    "# Import external functions from dea-notebooks\n",
    "sys.path.append(os.path.expanduser('~/dea-notebooks/10_Scripts/'))\n",
    "from RainfallTools import load_rainfall"
   ]
  },
  {
   "cell_type": "markdown",
   "metadata": {},
   "source": [
    "## Choose a time period and location to calculate residual mass curve.\n",
    " - Note: please select whole months here, not days, as a month with only two days may negatively affect your mass residual curve"
   ]
  },
  {
   "cell_type": "code",
   "execution_count": null,
   "metadata": {
    "ExecuteTime": {
     "end_time": "2018-10-26T04:17:15.288128Z",
     "start_time": "2018-10-26T04:17:13.900196Z"
    }
   },
   "outputs": [],
   "source": [
    "## Choose a query area and time\n",
    "##note: datacube is inclusive of both ends of the interval.\n",
    "\n",
    "query = {\n",
    "        'lat': (-35.25, -35.35),\n",
    "        'lon': (149.05, 149.17),\n",
    "        'time':('2010-01-01', '2013-03-31')\n",
    "        }"
   ]
  },
  {
   "cell_type": "markdown",
   "metadata": {
    "ExecuteTime": {
     "end_time": "2018-06-19T03:17:55.964257Z",
     "start_time": "2018-06-19T03:17:55.960083Z"
    }
   },
   "source": [
    "### load rainfall data"
   ]
  },
  {
   "cell_type": "code",
   "execution_count": null,
   "metadata": {
    "ExecuteTime": {
     "end_time": "2018-10-26T04:53:54.635160Z",
     "start_time": "2018-10-26T04:52:36.143735Z"
    }
   },
   "outputs": [],
   "source": [
    "dc = datacube.Datacube(app='dc-BOMrainfall')\n",
    "#use our function to load the rainfall grids\n",
    "rainfall = load_rainfall(query)"
   ]
  },
  {
   "cell_type": "markdown",
   "metadata": {},
   "source": [
    "## calculate rainfall mass residual"
   ]
  },
  {
   "cell_type": "code",
   "execution_count": null,
   "metadata": {
    "ExecuteTime": {
     "end_time": "2018-10-26T04:19:29.336404Z",
     "start_time": "2018-10-26T04:19:29.243103Z"
    }
   },
   "outputs": [],
   "source": [
    "#group rainfall data by day of year\n",
    "rainfall_bydayofyear = rainfall.groupby('time.dayofyear')"
   ]
  },
  {
   "cell_type": "code",
   "execution_count": null,
   "metadata": {
    "ExecuteTime": {
     "end_time": "2018-10-26T04:19:30.347333Z",
     "start_time": "2018-10-26T04:19:29.338546Z"
    }
   },
   "outputs": [],
   "source": [
    "# get the mean rainfall by day over this time period\n",
    "rainfall_dayofyear_mean = rainfall.groupby('time.dayofyear').mean(dim='time')"
   ]
  },
  {
   "cell_type": "code",
   "execution_count": null,
   "metadata": {
    "ExecuteTime": {
     "end_time": "2018-10-26T04:19:30.433293Z",
     "start_time": "2018-10-26T04:19:30.391627Z"
    }
   },
   "outputs": [],
   "source": [
    "#calculate the cumulative mean rainfall by day of year\n",
    "cumulative_mean_rainfall = rainfall_dayofyear_mean.rainfall[cumulative_rainfall.time.dt.dayofyear-1].cumsum(dim='time',keep_attrs=True)"
   ]
  },
  {
   "cell_type": "markdown",
   "metadata": {},
   "source": [
    "### Calculate the cumulative mass residual by subtracting the cumulative mean rainfall from the cumulative rainfall"
   ]
  },
  {
   "cell_type": "code",
   "execution_count": null,
   "metadata": {
    "ExecuteTime": {
     "end_time": "2018-10-26T04:19:30.984510Z",
     "start_time": "2018-10-26T04:19:30.943404Z"
    }
   },
   "outputs": [],
   "source": [
    "mass_residual= cumulative_rainfall.rainfall-cumulative_mean_rainfall"
   ]
  },
  {
   "cell_type": "markdown",
   "metadata": {},
   "source": [
    "### The spatially-averaged cumulative mass residual rainfall for our area of interest"
   ]
  },
  {
   "cell_type": "code",
   "execution_count": null,
   "metadata": {
    "ExecuteTime": {
     "end_time": "2018-10-26T04:19:31.401183Z",
     "start_time": "2018-10-26T04:19:30.987401Z"
    }
   },
   "outputs": [],
   "source": [
    "mass_residual.mean(dim=('latitude','longitude')).plot()"
   ]
  },
  {
   "cell_type": "markdown",
   "metadata": {},
   "source": [
    "### The cumulative mass residual rainfall for one timestep"
   ]
  },
  {
   "cell_type": "code",
   "execution_count": null,
   "metadata": {
    "ExecuteTime": {
     "end_time": "2018-10-26T04:49:04.142259Z",
     "start_time": "2018-10-26T04:49:02.397230Z"
    }
   },
   "outputs": [],
   "source": [
    "mass_residual.isel(time=50).plot()"
   ]
  },
  {
   "cell_type": "markdown",
   "metadata": {
    "ExecuteTime": {
     "end_time": "2018-06-19T02:35:14.176120Z",
     "start_time": "2018-06-19T02:35:14.168390Z"
    }
   },
   "source": [
    "__Future additions:__\n",
    "\n",
    "_calculate metrics based on residual rainfall_\n",
    "- increasing and decreasing periods\n",
    "- wet year after dry years\n",
    "- dry year after wet years\n",
    "\n",
    "_calculate seasonality_\n",
    "- Koppen climate region (use notebook to follow decision tree - requires climate data)\n",
    "- Summer dominant, Summer, Uniform, Winter, Winter dominant #\n",
    "- TROP SOI value\n",
    "- IOD /SAM indices\n",
    "\n",
    "\"During El Niño, rainfall in eastern Australian is typically below average during winter and spring. A neutral ENSO phase has little effect on Australian climate.\"Bureau of meteorology http://www.bom.gov.au/climate/enso/  \n",
    "\n",
    "_Calculate failed wet seasons_ \n",
    "- calculate total wet season + dry season rainfalls\n",
    "- end of wet season rainfalls?\n"
   ]
  },
  {
   "cell_type": "code",
   "execution_count": null,
   "metadata": {},
   "outputs": [],
   "source": []
  }
 ],
 "metadata": {
  "celltoolbar": "Raw Cell Format",
  "kernelspec": {
   "display_name": "Python [default]",
   "language": "python",
   "name": "python3"
  },
  "language_info": {
   "codemirror_mode": {
    "name": "ipython",
    "version": 3
   },
   "file_extension": ".py",
   "mimetype": "text/x-python",
   "name": "python",
   "nbconvert_exporter": "python",
   "pygments_lexer": "ipython3",
   "version": "3.6.6"
  }
 },
 "nbformat": 4,
 "nbformat_minor": 2
}
