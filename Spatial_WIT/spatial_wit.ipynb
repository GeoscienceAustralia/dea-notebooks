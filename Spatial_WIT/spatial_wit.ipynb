{
 "cells": [
  {
   "cell_type": "markdown",
   "metadata": {},
   "source": [
    "Requirements - A checklist to remind us if we tick all the boxes\n",
    "---------------------\n",
    "- [ ] Make a nice plot to select a time/ period of interest\n",
    "- [ ] Run WIT on a per-pixel basis\n",
    "- [ ] Return Water/Wet/FC percentage per pixel\n",
    "- [ ] Plot and output WIT spatially, with FC percentage represented as an alpha % for the colour\n",
    "- [ ] Output the results as a ArcGIS-compliant Geotiff (uint8), with the shapefile name and the date in the filename\n",
    "\n",
    "Functions or functionalities\n",
    "---------\n",
    "- bokeh plot: to do a stack plot of wit data with bokeh\n",
    "    - input: DataFrame\n",
    "    - output: stack plot of wit data\n",
    "- load_wit_data(**kwargs)\n",
    "    - input: csv file or poly_id in database\n",
    "    - output: DataFrame\n",
    "- load_wofs_fc(query)\n",
    "    - input: a query dictionary with time and geometry\n",
    "    - output: an xarray with water/wet/FC percentage\n",
    "- plot_spatial_wit(input_pixels_array)\n",
    "    - input: an xarray with water/wet/FC percentage\n",
    "    - output: 2 dimensional plot of input\n",
    "- write_geotiff(input_pixels_array, file_name)\n",
    "    - input: an xarray with water/wet/FC percentage\n",
    "            a string as file anme\n",
    "    - output: a geotiff file with input file name\n",
    "    \n",
    "Coding/writing style requirements\n",
    "-------------------------\n",
    "- Always break up a sentence if it's too long, slide showing up is a good indicator\n",
    "- Merge all the cells without essential output unless requied not so, e.g, explanation proceeding a functionality\n",
    "- Use `_LOG.debug` provided insted of `print`\n",
    "- Follow the comments in cells to fill in code rather than randomly dump\n",
    "- Keep all the variables humanly readable, a, b, c or aa, bb, cc etc. simple letters or their permutation are forbidden to be used globally\n",
    "- Something else I haven't come up with yet"
   ]
  },
  {
   "cell_type": "code",
   "execution_count": null,
   "metadata": {},
   "outputs": [],
   "source": [
    "# import all the necessary packages in this cell\n",
    "# check if anything you want is here already with different abbr. with Ctrl+F (maybe there is a better way?\n",
    "# but you got the idea)\n",
    "import pandas as pd\n",
    "import numpy as np\n",
    "from datacube import Datacube\n",
    "\n",
    "from bokeh.io import curdoc, output_notebook, show\n",
    "from bokeh.layouts import layout, column, row, WidgetBox, gridplot\n",
    "from bokeh.models import CheckboxGroup, Select,  CategoricalColorMapper, ColumnDataSource,HoverTool, Label, SingleIntervalTicker, Slider, DatetimeTickFormatter, YearsTicker, Legend, TapTool, CustomJS, LegendItem, field\n",
    "from bokeh.palettes import viridis, brewer\n",
    "from bokeh.plotting import figure\n",
    "from bokeh.transform import factor_cmap, LinearColorMapper\n",
    "from bokeh.events import DoubleTap\n",
    "import os, sys, urllib, logging\n",
    "\n",
    "output_notebook()\n",
    "_LOG = logging.getLogger('spatial_wit')\n",
    "stdout_hdlr = logging.StreamHandler(sys.stdout)\n",
    "formatter = logging.Formatter('[%(asctime)s.%(msecs)03d - %(levelname)s] %(message)s')\n",
    "stdout_hdlr.setFormatter(formatter)\n",
    "_LOG.addHandler(stdout_hdlr)\n",
    "_LOG.setLevel(logging.DEBUG)"
   ]
  },
  {
   "cell_type": "code",
   "execution_count": null,
   "metadata": {},
   "outputs": [],
   "source": [
    "# put global variables in this cell\n",
    "shapefile = '/g/data1a/r78/DEA_Wetlands/shapefiles/ramsar_wetlands_3577_20190403.shp'"
   ]
  },
  {
   "cell_type": "markdown",
   "metadata": {},
   "source": [
    "Here is the start of all functions\n",
    "----------------------------------------------\n",
    "Note: Put each function in a cell"
   ]
  },
  {
   "cell_type": "code",
   "execution_count": null,
   "metadata": {},
   "outputs": [],
   "source": [
    "def load_wit_data(**kwargs):\n",
    "    return"
   ]
  },
  {
   "cell_type": "markdown",
   "metadata": {},
   "source": [
    "Here is the start of all non function functionalities\n",
    "------------------------------------------------------------------------\n",
    "Note: Keep a single functionality in a SINGLE cell; DONOT make functionalities tangled "
   ]
  },
  {
   "cell_type": "code",
   "execution_count": null,
   "metadata": {},
   "outputs": [],
   "source": [
    "# e.g. wit_data = load_wit_data({'csv_file': somefile})\n",
    "# start to plot here in this cell until the plot needs to show up as the output of the cell\n",
    "_LOG.debug(\"this is an example\")"
   ]
  }
 ],
 "metadata": {
  "kernelspec": {
   "display_name": "Python 3",
   "language": "python",
   "name": "python3"
  },
  "language_info": {
   "codemirror_mode": {
    "name": "ipython",
    "version": 3
   },
   "file_extension": ".py",
   "mimetype": "text/x-python",
   "name": "python",
   "nbconvert_exporter": "python",
   "pygments_lexer": "ipython3",
   "version": "3.7.4"
  }
 },
 "nbformat": 4,
 "nbformat_minor": 2
}
