{
 "cells": [
  {
   "cell_type": "code",
   "execution_count": 1,
   "id": "50edbc2e-6eb7-4197-9ac3-002dd8071cf9",
   "metadata": {},
   "outputs": [],
   "source": [
    "%load_ext autoreload\n",
    "%autoreload 2"
   ]
  },
  {
   "cell_type": "code",
   "execution_count": null,
   "id": "282862ee-7e15-421a-b18e-389c63637cff",
   "metadata": {},
   "outputs": [],
   "source": [
    "# pip uninstall dea_tools -y"
   ]
  },
  {
   "cell_type": "code",
   "execution_count": 2,
   "id": "62283b5e-72cf-4c8e-bbdb-b53e184727ac",
   "metadata": {},
   "outputs": [],
   "source": [
    "import pyproj\n",
    "import pandas as pd\n",
    "\n",
    "import sys\n",
    "sys.path.insert(1, '../../Tools/')\n",
    "from dea_tools.coastal import model_tides, pixel_tides\n",
    "from dea_tools.validation import eval_metrics"
   ]
  },
  {
   "cell_type": "code",
   "execution_count": 18,
   "id": "16a22d74-0680-4daf-ac43-12175156c9ad",
   "metadata": {},
   "outputs": [],
   "source": [
    "def load_measured_tides():\n",
    "    \n",
    "    # Metadata for Broome ABSLMP tidal station:\n",
    "    # http://www.bom.gov.au/oceanography/projects/abslmp/data/data.shtml\n",
    "    y, x = -18.0008, 122.2183\n",
    "    ahd_offset = -5.322\n",
    "\n",
    "    # Load measured tides from ABSLMP tide gauge data\n",
    "    measured_tides_df = pd.read_csv(\n",
    "        \"../data/IDO71013_2020.csv\",\n",
    "        index_col=0,\n",
    "        parse_dates=True,\n",
    "        na_values=-9999,\n",
    "    )[[\"Sea Level\"]]\n",
    "    \n",
    "    # Update index and column names\n",
    "    measured_tides_df.index.name = 'time'\n",
    "    measured_tides_df.columns = ['tide_m']\n",
    "    \n",
    "    # Apply station AHD offset\n",
    "    measured_tides_df += ahd_offset\n",
    "    \n",
    "    # Return as xarray dataset\n",
    "    return measured_tides_df.to_xarray()"
   ]
  },
  {
   "cell_type": "code",
   "execution_count": 123,
   "id": "0ca550d1-f3b0-456b-bf9b-ed7fd23de72b",
   "metadata": {
    "tags": []
   },
   "outputs": [],
   "source": [
    "def test_measured_vs_modelled_tides():\n",
    "    \n",
    "    # Load tide gauge data\n",
    "    measured_tides_df = load_measured_tides()\n",
    "\n",
    "    # Run the FES2014 tidal model\n",
    "    modelled_tides_df = model_tides(\n",
    "        x=[122.2183],\n",
    "        y=[-18.0008],\n",
    "        time=measured_tides_df.time,\n",
    "    )\n",
    "\n",
    "    # Compare measured and modelled outputs\n",
    "    val_stats = eval_metrics(x=measured_tides_df.tide_m, y=modelled_tides_df.tide_m)\n",
    "\n",
    "    # Test that outputs meet expected accuracy\n",
    "    assert val_stats['Correlation'] > 0.99\n",
    "    assert val_stats['RMSE'] < 0.26\n",
    "    assert val_stats['R-squared'] > 0.98\n",
    "    assert abs(val_stats['Bias']) < 0.20"
   ]
  },
  {
   "cell_type": "code",
   "execution_count": 124,
   "id": "677f362e-30aa-433d-9d51-5594c35b3092",
   "metadata": {},
   "outputs": [],
   "source": [
    "test_measured_vs_modelled_tides()"
   ]
  },
  {
   "cell_type": "code",
   "execution_count": 140,
   "id": "92b0a825-049a-4bf3-a5bf-1a933d862277",
   "metadata": {},
   "outputs": [],
   "source": [
    "def test_pixel_tides():\n",
    "    import datacube\n",
    "\n",
    "    dc = datacube.Datacube()\n",
    "\n",
    "    ds = dc.load(\n",
    "        product=\"ga_ls8c_ard_3\",\n",
    "        x=(122.154715, 122.300630),\n",
    "        y=(-17.914642, -18.032868),\n",
    "        time=\"2020\",\n",
    "        dask_chunks={},\n",
    "    )\n",
    "\n",
    "    # Model tides\n",
    "    modelled_tides_highres, modelled_tides_lowres = pixel_tides(ds)\n",
    "\n",
    "    # Load measured tides and select same timesteps\n",
    "    measured_tides = load_measured_tides().tide_m.interp(time=ds.time, method=\"linear\")\n",
    "\n",
    "    # Extract tides for tide gauge location\n",
    "    x, y = pyproj.Transformer.from_crs(\n",
    "        \"EPSG:4326\", f\"EPSG:{ds.odc.geobox.crs.to_epsg()}\"\n",
    "    ).transform(-18.0008, 122.2183)\n",
    "    modelled_tides_gauge = modelled_tides_highres.interp(y=y, x=x, method=\"linear\")\n",
    "\n",
    "    # Extract tides for non-gauge location\n",
    "    x, y = pyproj.Transformer.from_crs(\n",
    "        \"EPSG:4326\", f\"EPSG:{ds.odc.geobox.crs.to_epsg()}\"\n",
    "    ).transform(-17.92, 122.16)\n",
    "    modelled_tides_other = modelled_tides_highres.interp(y=y, x=x, method=\"linear\")\n",
    "\n",
    "    # Calculate stats\n",
    "    gauge_stats = eval_metrics(x=measured_tides, y=modelled_tides_gauge)\n",
    "    other_stats = eval_metrics(x=measured_tides, y=modelled_tides_other)\n",
    "\n",
    "    # Assert that modelled tides have the same coordinates as `ds`\n",
    "    assert xr.align(modelled_tides_highres, ds, join=\"exact\")\n",
    "\n",
    "    # Assert pixel_tide outputs are accurate\n",
    "    assert gauge_stats[\"Correlation\"] > 0.99\n",
    "    assert gauge_stats[\"RMSE\"] < 0.25\n",
    "    assert gauge_stats[\"R-squared\"] > 0.98\n",
    "    assert abs(gauge_stats[\"Bias\"]) < 0.20\n",
    "\n",
    "    # Verify that pixel_tide outputs are more accurate at tide gauge\n",
    "    # than further away\n",
    "    assert gauge_stats[\"RMSE\"] < other_stats[\"RMSE\"]\n",
    "\n",
    "    return modelled_tides_highres, modelled_tides_lowres, ds, modelled_tides_other, modelled_tides_gauge"
   ]
  },
  {
   "cell_type": "code",
   "execution_count": 141,
   "id": "8bdd4f47-f3e1-4054-a149-37cbc7379a4c",
   "metadata": {},
   "outputs": [
    {
     "name": "stdout",
     "output_type": "stream",
     "text": [
      "Creating reduced resolution 5000 x 5000 metre tide modelling array\n",
      "Modelling tides using FES2014 tide model\n",
      "Reprojecting tides into original array\n"
     ]
    },
    {
     "name": "stderr",
     "output_type": "stream",
     "text": [
      "100%|██████████| 68/68 [00:01<00:00, 52.66it/s]\n"
     ]
    }
   ],
   "source": [
    "modelled_tides_highres, modelled_tides_lowres, ds, modelled_tides_other, modelled_tides_gauge = test_pixel_tides()"
   ]
  },
  {
   "cell_type": "code",
   "execution_count": 142,
   "id": "de633b88-4f29-41de-a22a-53b19c9d80ff",
   "metadata": {},
   "outputs": [],
   "source": [
    "# Run the FES2014 tidal model\n",
    "modelled_tides_df = model_tides(\n",
    "    x=[122.16],\n",
    "    y=[-17.92],\n",
    "    time=modelled_tides_other.time,\n",
    ")"
   ]
  },
  {
   "cell_type": "code",
   "execution_count": 143,
   "id": "5083266a-ef26-46f3-a18d-57bf40ad015c",
   "metadata": {},
   "outputs": [
    {
     "data": {
      "text/plain": [
       "True"
      ]
     },
     "execution_count": 143,
     "metadata": {},
     "output_type": "execute_result"
    }
   ],
   "source": [
    "np.allclose(modelled_tides_df.tide_m, modelled_tides_other, rtol=0.01)"
   ]
  },
  {
   "cell_type": "code",
   "execution_count": 147,
   "id": "24a194a9-51b9-432f-b3d6-051a3895dac5",
   "metadata": {},
   "outputs": [],
   "source": [
    "# Run the FES2014 tidal model\n",
    "modelled_tides_df = model_tides(\n",
    "    x=[122.2183],\n",
    "    y=[-18.0008],\n",
    "    time=modelled_tides_gauge.time,\n",
    ")"
   ]
  },
  {
   "cell_type": "code",
   "execution_count": 148,
   "id": "5633fa05-40a2-4f47-99d4-a096294ed6dd",
   "metadata": {},
   "outputs": [
    {
     "data": {
      "text/html": [
       "<div>\n",
       "<style scoped>\n",
       "    .dataframe tbody tr th:only-of-type {\n",
       "        vertical-align: middle;\n",
       "    }\n",
       "\n",
       "    .dataframe tbody tr th {\n",
       "        vertical-align: top;\n",
       "    }\n",
       "\n",
       "    .dataframe thead th {\n",
       "        text-align: right;\n",
       "    }\n",
       "</style>\n",
       "<table border=\"1\" class=\"dataframe\">\n",
       "  <thead>\n",
       "    <tr style=\"text-align: right;\">\n",
       "      <th></th>\n",
       "      <th>x</th>\n",
       "      <th>y</th>\n",
       "      <th>tide_m</th>\n",
       "    </tr>\n",
       "    <tr>\n",
       "      <th>time</th>\n",
       "      <th></th>\n",
       "      <th></th>\n",
       "      <th></th>\n",
       "    </tr>\n",
       "  </thead>\n",
       "  <tbody>\n",
       "    <tr>\n",
       "      <th>2020-01-04 01:55:30.109989</th>\n",
       "      <td>122.2183</td>\n",
       "      <td>-18.0008</td>\n",
       "      <td>-1.584713</td>\n",
       "    </tr>\n",
       "    <tr>\n",
       "      <th>2020-01-13 01:49:17.859887</th>\n",
       "      <td>122.2183</td>\n",
       "      <td>-18.0008</td>\n",
       "      <td>0.578071</td>\n",
       "    </tr>\n",
       "    <tr>\n",
       "      <th>2020-01-13 01:49:41.792637</th>\n",
       "      <td>122.2183</td>\n",
       "      <td>-18.0008</td>\n",
       "      <td>0.590394</td>\n",
       "    </tr>\n",
       "    <tr>\n",
       "      <th>2020-01-20 01:55:26.930373</th>\n",
       "      <td>122.2183</td>\n",
       "      <td>-18.0008</td>\n",
       "      <td>-0.634881</td>\n",
       "    </tr>\n",
       "    <tr>\n",
       "      <th>2020-01-29 01:49:13.232056</th>\n",
       "      <td>122.2183</td>\n",
       "      <td>-18.0008</td>\n",
       "      <td>-0.900556</td>\n",
       "    </tr>\n",
       "    <tr>\n",
       "      <th>...</th>\n",
       "      <td>...</td>\n",
       "      <td>...</td>\n",
       "      <td>...</td>\n",
       "    </tr>\n",
       "    <tr>\n",
       "      <th>2020-12-14 01:49:27.780802</th>\n",
       "      <td>122.1600</td>\n",
       "      <td>-17.9200</td>\n",
       "      <td>2.958042</td>\n",
       "    </tr>\n",
       "    <tr>\n",
       "      <th>2020-12-14 01:49:51.696626</th>\n",
       "      <td>122.1600</td>\n",
       "      <td>-17.9200</td>\n",
       "      <td>2.958895</td>\n",
       "    </tr>\n",
       "    <tr>\n",
       "      <th>2020-12-21 01:55:37.520541</th>\n",
       "      <td>122.1600</td>\n",
       "      <td>-17.9200</td>\n",
       "      <td>-1.922436</td>\n",
       "    </tr>\n",
       "    <tr>\n",
       "      <th>2020-12-30 01:49:24.354106</th>\n",
       "      <td>122.1600</td>\n",
       "      <td>-17.9200</td>\n",
       "      <td>2.171042</td>\n",
       "    </tr>\n",
       "    <tr>\n",
       "      <th>2020-12-30 01:49:48.290924</th>\n",
       "      <td>122.1600</td>\n",
       "      <td>-17.9200</td>\n",
       "      <td>2.177109</td>\n",
       "    </tr>\n",
       "  </tbody>\n",
       "</table>\n",
       "<p>136 rows × 3 columns</p>\n",
       "</div>"
      ],
      "text/plain": [
       "                                   x        y    tide_m\n",
       "time                                                   \n",
       "2020-01-04 01:55:30.109989  122.2183 -18.0008 -1.584713\n",
       "2020-01-13 01:49:17.859887  122.2183 -18.0008  0.578071\n",
       "2020-01-13 01:49:41.792637  122.2183 -18.0008  0.590394\n",
       "2020-01-20 01:55:26.930373  122.2183 -18.0008 -0.634881\n",
       "2020-01-29 01:49:13.232056  122.2183 -18.0008 -0.900556\n",
       "...                              ...      ...       ...\n",
       "2020-12-14 01:49:27.780802  122.1600 -17.9200  2.958042\n",
       "2020-12-14 01:49:51.696626  122.1600 -17.9200  2.958895\n",
       "2020-12-21 01:55:37.520541  122.1600 -17.9200 -1.922436\n",
       "2020-12-30 01:49:24.354106  122.1600 -17.9200  2.171042\n",
       "2020-12-30 01:49:48.290924  122.1600 -17.9200  2.177109\n",
       "\n",
       "[136 rows x 3 columns]"
      ]
     },
     "execution_count": 148,
     "metadata": {},
     "output_type": "execute_result"
    }
   ],
   "source": [
    "modelled_tides_df"
   ]
  },
  {
   "cell_type": "code",
   "execution_count": 146,
   "id": "7290d7f2-7686-4923-8aad-4c411cd652ed",
   "metadata": {},
   "outputs": [
    {
     "data": {
      "text/plain": [
       "True"
      ]
     },
     "execution_count": 146,
     "metadata": {},
     "output_type": "execute_result"
    }
   ],
   "source": [
    "np.allclose(modelled_tides_df.tide_m, modelled_tides_gauge, rtol=0.01)"
   ]
  },
  {
   "cell_type": "code",
   "execution_count": null,
   "id": "5300753f-3e1b-4b92-a915-6e57ebc0e82b",
   "metadata": {},
   "outputs": [],
   "source": []
  }
 ],
 "metadata": {
  "kernelspec": {
   "display_name": "Python 3 (ipykernel)",
   "language": "python",
   "name": "python3"
  },
  "language_info": {
   "codemirror_mode": {
    "name": "ipython",
    "version": 3
   },
   "file_extension": ".py",
   "mimetype": "text/x-python",
   "name": "python",
   "nbconvert_exporter": "python",
   "pygments_lexer": "ipython3",
   "version": "3.8.10"
  },
  "widgets": {
   "application/vnd.jupyter.widget-state+json": {
    "state": {},
    "version_major": 2,
    "version_minor": 0
   }
  }
 },
 "nbformat": 4,
 "nbformat_minor": 5
}
