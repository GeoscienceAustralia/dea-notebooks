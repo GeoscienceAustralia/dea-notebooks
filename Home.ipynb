{
 "cells": [
  {
   "cell_type": "markdown",
   "id": "a693bcfd-162e-4b98-9edb-7620657c7840",
   "metadata": {
    "tags": []
   },
   "source": [
    "<img src=\"Supplementary_data/dea_logo_wide.jpg\">\n",
    "\n",
    "# Digital Earth Australia Sandbox\n",
    "\n",
    "Welcome to the **DEA Sandbox!**\n",
    "\n",
    "Visit the **Knowledge Hub** for more information about our products, services and DEA Notebooks:\n",
    "\n",
    "<table border=\"0\"  align=\"left\">\n",
    " <tr>\n",
    "    <td><center><b style=\"font-size:20px\">Data Products</b></center></td>\n",
    "    <td><center><b style=\"font-size:20px\">User Guides</b></center></td>\n",
    "    <td><center><b style=\"font-size:20px\">DEA Notebooks</b></center></td>\n",
    " </tr>\n",
    " <tr>\n",
    "    <td style=\"vertical-align:bottom\"><a href=\"https://demo1--dea-docs.netlify.app/data/\" style=\"display:block;\"><center><img src=\"https://demo1--dea-docs.netlify.app/_images/sea-ocean-and-coast.jpeg\"  width=\"200\"><br>Find product metadata on our data products.</center></a></td>\n",
    "    <td style=\"vertical-align:bottom\"><a href=\"https://demo1--dea-docs.netlify.app/guides/\" style=\"display:block;\"><center><img src=\"https://demo1--dea-docs.netlify.app/_images/dea-hero.jpg\"  width=\"200\"><br>Learn how to use our products and services.</center></a></td>\n",
    "    <td style=\"vertical-align:bottom\"><a href=\"https://demo1--dea-docs.netlify.app/notebooks/README/\" style=\"display:block;\"><center><img src=\"https://demo1--dea-docs.netlify.app/_images/Kakadu-Mary_TCW-percentiles-wide_1.jpg\"  width=\"200\"><br>Learn how to analyse our data using Jupyter notebooks.</center></a></td>\n",
    " </tr>\n",
    "</table>\n",
    "\n"
   ]
  },
  {
   "cell_type": "markdown",
   "id": "24aaa027-6821-4bce-9961-4ae403dfc3be",
   "metadata": {
    "tags": []
   },
   "source": [
    "## Support\n",
    "Test test"
   ]
  }
 ],
 "metadata": {
  "kernelspec": {
   "display_name": "Python 3 (ipykernel)",
   "language": "python",
   "name": "python3"
  },
  "language_info": {
   "codemirror_mode": {
    "name": "ipython",
    "version": 3
   },
   "file_extension": ".py",
   "mimetype": "text/x-python",
   "name": "python",
   "nbconvert_exporter": "python",
   "pygments_lexer": "ipython3",
   "version": "3.10.8"
  },
  "widgets": {
   "application/vnd.jupyter.widget-state+json": {
    "state": {},
    "version_major": 2,
    "version_minor": 0
   }
  }
 },
 "nbformat": 4,
 "nbformat_minor": 5
}
