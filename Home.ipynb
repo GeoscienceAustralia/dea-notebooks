{
 "cells": [
  {
   "cell_type": "markdown",
   "id": "a693bcfd-162e-4b98-9edb-7620657c7840",
   "metadata": {
    "tags": []
   },
   "source": [
    "<img src=\"Supplementary_data/dea_logo_wide.jpg\" />\n",
    "\n",
    "# DEA Sandbox\n",
    "\n",
    "Welcome to the **Digital Earth Australia Sandbox**. Here you can interact with our data by using visual notebooks and also use the DEA Tools package.\n",
    "\n",
    "<table border=\"0\" id=\"categories-grid\">\n",
    "    <tr>\n",
    "        <td>\n",
    "            <a href=\"https://docs.dea.ga.gov.au/data/\">\n",
    "                <img src=\"https://docs.dea.ga.gov.au/_images/sea-ocean-and-coast.jpeg\"  width=\"200\"><br>\n",
    "                <p>Beginners guide</p>\n",
    "            </a>\n",
    "        </td>\n",
    "        <td>\n",
    "            <a href=\"https://docs.dea.ga.gov.au/guides/\">\n",
    "                <img src=\"https://docs.dea.ga.gov.au/_images/dea-hero.jpg\"  width=\"200\"><br>\n",
    "                <p>DEA products</p>\n",
    "            </a>\n",
    "        </td>\n",
    "        <td>\n",
    "            <a href=\"https://docs.dea.ga.gov.au/notebooks/README/\">\n",
    "                <img src=\"https://docs.dea.ga.gov.au/_images/Kakadu-Mary_TCW-percentiles-wide_1.jpg\"  width=\"200\"><br>\n",
    "                <p>How-to guides</p>\n",
    "            </a>\n",
    "        </td>\n",
    "    </tr>\n",
    "</table>\n",
    "\n",
    "<style>\n",
    "#categories-grid a {\n",
    "    text-decoration: none;\n",
    "}\n",
    "#categories-grid a:hover {\n",
    "    text-decoration: underline;\n",
    "}\n",
    "#categories-grid p {\n",
    "    color: rgba(0, 0, 0, 0.87);\n",
    "    font-size: 1.5rem;\n",
    "}\n",
    "</style>\n",
    "\n",
    "## Learn more\n",
    "\n",
    "Visit the [DEA Knowledge Hub](https://docs.dea.ga.gov.au/) to find comprehensive information about the datasets and concepts featured in these Notebooks.\n",
    "\n",
    "<!-- TODO add an image grid here with tiles for \"Data Products\", \"User Guides\" and \"Tech Alerts and Changelog\" and etc but make it visually less significant than the grid above. -->\n"
   ]
  }
 ],
 "metadata": {
  "kernelspec": {
   "display_name": "Python 3 (ipykernel)",
   "language": "python",
   "name": "python3"
  },
  "language_info": {
   "codemirror_mode": {
    "name": "ipython",
    "version": 3
   },
   "file_extension": ".py",
   "mimetype": "text/x-python",
   "name": "python",
   "nbconvert_exporter": "python",
   "pygments_lexer": "ipython3",
   "version": "3.10.13"
  },
  "widgets": {
   "application/vnd.jupyter.widget-state+json": {
    "state": {},
    "version_major": 2,
    "version_minor": 0
   }
  }
 },
 "nbformat": 4,
 "nbformat_minor": 5
}
