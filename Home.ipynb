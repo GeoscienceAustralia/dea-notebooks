{
 "cells": [
  {
   "cell_type": "markdown",
   "id": "8791bac4-9964-4977-9d7b-bad7d1a55821",
   "metadata": {
    "tags": []
   },
   "source": [
    "<img src=\"Supplementary_data/dea_logo_wide.jpg\" />\n",
    "\n",
    "# Digital Earth Australia Sandbox\n",
    "\n",
    "Welcome to the **DEA Sandbox**. Here you can explore and analyse our data by using interactive Jupyter notebooks and the DEA Tools Python package.\n"
   ]
  },
  {
   "cell_type": "markdown",
   "id": "3bf2f8c8-455d-405a-af55-893edcb33f2d",
   "metadata": {
    "tags": []
   },
   "source": [
    "<table border=\"0\" align=\"left\">\n",
    "    <tr>\n",
    "        <td style=\"vertical-align: top; max-width: 220px;\">\n",
    "                <div>\n",
    "                    <img src=\"./Supplementary_data/Landing_page/beginners.jpeg\" style=\"max-width: 200px;\">\n",
    "                </div>\n",
    "                <div>\n",
    "                    <p style=\"font-size: 16px; font-weight: bold; margin-top: 1rem;\">Beginners guide</p>\n",
    "                    <p>Introductory notebooks aimed at introducing Jupyter Notebooks and how to load, plot and interact with DEA data.</p>\n",
    "                    <p>You can start with the <a href=\"./Beginners_guide/01_Jupyter_notebooks.ipynb\">Introduction to Jupyter Notebooks</a>.</p>\n",
    "                </div>\n",
    "            </a>\n",
    "        </td>\n",
    "        <td style=\"vertical-align: top; max-width: 220px;\">\n",
    "                <div>\n",
    "                    <img src=\"./Supplementary_data/Landing_page/deaproducts.jpeg\" style=\"max-width: 200px;\">\n",
    "                </div>\n",
    "                <div>\n",
    "                    <p style=\"font-size: 16px; font-weight: bold; margin-top: 1rem;\">DEA products</p>\n",
    "                    <p>Notebooks introducing DEA's satellite datasets and derived products, including how to load each dataset and any special features of the data.</p>\n",
    "                    <p>You will find guides on our data products such as <a href=\"./DEA_products/DEA_Coastlines.ipynb\">DEA Coastlines</a> and <a href=\"./DEA_products/DEA_Waterbodies.ipynb\">DEA Waterbodies</a>.</p>\n",
    "                </div>\n",
    "            </a>\n",
    "        </td>\n",
    "        <td style=\"vertical-align: top; max-width: 220px;\">\n",
    "                <div>\n",
    "                    <img src=\"./Supplementary_data/Landing_page/howto.jpeg\" style=\"max-width: 200px;\">\n",
    "                </div>\n",
    "                <div>\n",
    "                    <p style=\"font-size: 16px; font-weight: bold; margin-top: 1rem;\">How-to guides</p>\n",
    "                    <p>A recipe book of simple code examples demonstrating how to perform common geospatial analysis tasks using DEA and open-source software.</p>\n",
    "                    <p>There are numerous how-to guides on anything from <a href=\"./How_to_guides/Pansharpening.ipynb\">pansharpening Landsat data</a> to <a href=\"./How_to_guides/Rasterize_vectorize.ipynb\">rasterising and vectorising</a>.</p>\n",
    "                </div>\n",
    "            </a>\n",
    "        </td>\n",
    "        <td style=\"vertical-align: top; max-width: 220px;\">\n",
    "                <div>\n",
    "                    <img src=\"./Supplementary_data/Landing_page/interactive.jpeg\" style=\"max-width: 200px;\">\n",
    "                </div>\n",
    "                <div>\n",
    "                    <p style=\"font-size: 16px; font-weight: bold; margin-top: 1rem;\">Interactive apps</p>\n",
    "                    <p>Interactive apps and widgets that require little or no coding to run.</p>\n",
    "                    <p>These include tools for <a href=\"./Interactive_apps/Exporting_satellite_images.ipynb\">exporting satellite images</a> <a href=\"./Interactive_apps/Generating_satellite_animations.ipynb\">and animations</a>, and <a href=\"./Interactive_apps/Coastal_transects.ipynb\">analysing decades of coastal change.</a></p>\n",
    "                </div>\n",
    "            </a>\n",
    "        </td>\n",
    "        <td style=\"vertical-align: top; max-width: 220px;\">\n",
    "                <div>\n",
    "                    <img src=\"./Supplementary_data/Landing_page/realworld.jpeg\" style=\"max-width: 200px;\">\n",
    "                </div>\n",
    "                <div>\n",
    "                    <p style=\"font-size: 16px; font-weight: bold; margin-top: 1rem;\">Real world examples</p>\n",
    "                    <p>More complex case study workflows demonstrating how DEA can be used to address real-world problems.</p>\n",
    "                    <p>These case studies cover many scientific and management applications: from <a href=\"./Real_world_examples/Burnt_area_mapping.ipynb\">fire mapping</a> to <a href=\"./Real_world_examples/Chlorophyll_monitoring.ipynb\">algal bloom detection</a>.</p>\n",
    "                </div>\n",
    "            </a>\n",
    "        </td>\n",
    "        <td style=\"vertical-align: top; max-width: 220px;\">\n",
    "                <div>\n",
    "                    <img src=\"./Supplementary_data/Landing_page/deatools.jpeg\" style=\"max-width: 200px;\">\n",
    "                </div>\n",
    "                <div>\n",
    "                    <p style=\"font-size: 16px; font-weight: bold; margin-top: 1rem;\">DEA Tools</p>\n",
    "                    <p>An open-source Python package containing functions and algorithms to assist in analysing DEA data.</p>\n",
    "                    <p>This includes tools for <a href=\"./Tools/dea_tools/datahandling.py\">loading and</a> <a href=\"./Tools/dea_tools/plotting.py\">plotting data</a>, <a href=\"./Tools/dea_tools/spatial.py\">spatial analysis</a> and <a href=\"./Tools/dea_tools/classification.py\">machine learning</a>.</p>\n",
    "                </div>\n",
    "            </a>\n",
    "        </td>\n",
    "    </tr>\n",
    "</table>\n",
    "<a href=\"./\">"
   ]
  },
  {
   "cell_type": "markdown",
   "id": "76ed22c9-5fe1-4b7a-9776-71c64d20ef74",
   "metadata": {
    "jp-MarkdownHeadingCollapsed": true,
    "tags": []
   },
   "source": [
    "## Learn more\n",
    "\n",
    "Visit the [DEA Knowledge Hub](https://docs.dea.ga.gov.au/) to find comprehensive information and metadata about the datasets and concepts featured in these Notebooks. The Knowledge Hub contains multiple types of content including:\n",
    "\n",
    "<table border=\"0\" align=\"left\">\n",
    "    <tr>\n",
    "        <td style=\"vertical-align: top; max-width: 220px; text-align: center;\">\n",
    "                <a href=\"https://docs.dea.ga.gov.au/data/\">\n",
    "                    <img src=\"./Supplementary_data/Landing_page/products.jpeg\" style=\"max-width: 200px;\">\n",
    "                    <p style=\"font-size: 16px; font-weight: bold; margin-top: 1rem; color: rgba(0, 0, 0, 0.87);\">Data Products</p>\n",
    "                </a>\n",
    "            <p>Browse our catalogue of data products to find supporting information, technical metadata and ways to access the data.</p>\n",
    "        </td>\n",
    "        <td style=\"vertical-align: top; max-width: 220px; text-align: center;\">\n",
    "                <a href=\"https://docs.dea.ga.gov.au/guides/\">\n",
    "                    <img src=\"./Supplementary_data/Landing_page/userguides.jpeg\" style=\"max-width: 200px;\">\n",
    "                    <p style=\"font-size: 16px; font-weight: bold; margin-top: 1rem; color: rgba(0, 0, 0, 0.87);\">User Guides</p>\n",
    "                </a>\n",
    "            <p>Find documentation, step-by-step instructions, and DEA publications on a variety of topics.</p>\n",
    "        </td>\n",
    "        <td style=\"vertical-align: top; max-width: 220px; text-align: center;\">\n",
    "                <a href=\"https://docs.dea.ga.gov.au/notebooks/README/\">\n",
    "                    <img src=\"./Supplementary_data/Landing_page/deanotebooks.jpeg\" style=\"max-width: 200px;\">\n",
    "                    <p style=\"font-size: 16px; font-weight: bold; margin-top: 1rem; color: rgba(0, 0, 0, 0.87);\">DEA Notebooks</p>\n",
    "                </a>\n",
    "            <p>View documentation for DEA Notebooks and the DEA Tools Python package.</p>\n",
    "        </td>\n",
    "        <td style=\"vertical-align: top; max-width: 220px; text-align: center;\">\n",
    "                <a href=\"https://docs.dea.ga.gov.au/guides/tech_alerts_changelog/\">\n",
    "                    <img src=\"./Supplementary_data/Landing_page/techalerts.jpeg\" style=\"max-width: 200px;\">\n",
    "                    <p style=\"font-size: 16px; font-weight: bold; margin-top: 1rem; color: rgba(0, 0, 0, 0.87);\">Tech Alerts and Changelog</p>\n",
    "                </a>\n",
    "            <p>Find out about the latest changes to DEA’s products and services, as well as planned and unplanned outages.</p>\n",
    "        </td>\n",
    "    </tr>\n",
    "</table>\n",
    "\n"
   ]
  },
  {
   "cell_type": "markdown",
   "id": "46a973d6-3828-4bc1-8480-62554f8d054c",
   "metadata": {},
   "source": [
    "## Contact us\n",
    "\n",
    "If you need assistance, please post a question on the [Open Data Cube Slack channel](http://slack.opendatacube.org/) or on the [GIS Stack Exchange](https://gis.stackexchange.com/questions/ask?tags=open-data-cube) using the `open-data-cube` tag (view previously asked questions [here](https://gis.stackexchange.com/questions/tagged/open-data-cube)).\n",
    "If you would like to report a problem with the Jupyter notebooks or code in this repository, you can file an issue on [Github](https://github.com/GeoscienceAustralia/dea-notebooks).\n",
    "\n",
    "**License:** The code in this repository is licensed under the [Apache License, Version 2.0](https://www.apache.org/licenses/LICENSE-2.0). \n",
    "Digital Earth Australia data is licensed under the [Creative Commons by Attribution 4.0](https://creativecommons.org/licenses/by/4.0/) license.\n",
    "\n",
    "**Last modified:** February 2024"
   ]
  }
 ],
 "metadata": {
  "kernelspec": {
   "display_name": "Python 3 (ipykernel)",
   "language": "python",
   "name": "python3"
  },
  "language_info": {
   "codemirror_mode": {
    "name": "ipython",
    "version": 3
   },
   "file_extension": ".py",
   "mimetype": "text/x-python",
   "name": "python",
   "nbconvert_exporter": "python",
   "pygments_lexer": "ipython3",
   "version": "3.10.13"
  },
  "widgets": {
   "application/vnd.jupyter.widget-state+json": {
    "state": {},
    "version_major": 2,
    "version_minor": 0
   }
  }
 },
 "nbformat": 4,
 "nbformat_minor": 5
}
