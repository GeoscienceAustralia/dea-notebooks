{
 "cells": [
  {
   "cell_type": "markdown",
   "id": "8791bac4-9964-4977-9d7b-bad7d1a55821",
   "metadata": {
    "tags": []
   },
   "source": [
    "<img src=\"Supplementary_data/dea_logo_wide.jpg\" />\n",
    "\n",
    "# DEA Sandbox\n",
    "\n",
    "Welcome to the Digital Earth Australia Sandbox. Here you can interact with our data by using visual notebooks and also use the DEA Tools package.\n"
   ]
  },
  {
   "cell_type": "markdown",
   "id": "3bf2f8c8-455d-405a-af55-893edcb33f2d",
   "metadata": {
    "tags": []
   },
   "source": [
    "<table border=\"0\" align=\"left\">\n",
    "    <tr>\n",
    "        <td style=\"vertical-align: bottom; max-width: 300px;\">\n",
    "                <div>\n",
    "                     <a href=\"./Beginners_guide/README\">\n",
    "                         <img src=\"https://docs.dea.ga.gov.au/_images/dea-hero.jpg\" style=\"max-width: 250px;\">\n",
    "                     </a>\n",
    "                </div>\n",
    "                <div>\n",
    "                    <p style=\"font-size: 16px; font-weight: bold; margin-top: 1rem;\">Beginners guide</p>\n",
    "                    <p>Introductory notebooks aimed at introducing Jupyter Notebooks and how to load, plot and interact with DEA data.</p>\n",
    "                    <p>You can start with the <a href=\"./Beginners_guide/01_Jupyter_notebooks.ipynb\">Introduction to Jupyter Notebooks</a></p>\n",
    "                </div>\n",
    "            </a>\n",
    "        </td>\n",
    "        <td style=\"vertical-align: bottom; max-width: 300px;\">\n",
    "                <div>\n",
    "                    <a href=\"./DEA_products/README.rst\">\n",
    "                        <img src=\"https://docs.dea.ga.gov.au/_images/dea-hero.jpg\" style=\"max-width: 250px;\">\n",
    "                    </a>\n",
    "                </div>\n",
    "                <div>\n",
    "                    <p style=\"font-size: 16px; font-weight: bold; margin-top: 1rem;\">DEA products</p>\n",
    "                    <p>Notebooks introducing DEA's satellite datasets and derived products, including how to load each dataset and any special features of the data.</p>\n",
    "                    <p>You will find guides on our data products such as <a href=\"./DEA_products/DEA_Coastlines.ipynb\">DEA Coastlines</a> and <a href=\"./DEA_products/DEA_Waterbodies.ipynb\">DEA Waterbodies</a>.</p>\n",
    "                </div>\n",
    "            </a>\n",
    "        </td>\n",
    "        <td style=\"vertical-align: bottom; max-width: 300px;\">\n",
    "                <div>\n",
    "                    <a href=\"./How_to_guides/README.rst\">\n",
    "                        <img src=\"https://docs.dea.ga.gov.au/_images/dea-hero.jpg\" style=\"max-width: 250px;\">\n",
    "                    </a>\n",
    "                </div>\n",
    "                <div>\n",
    "                    <p style=\"font-size: 16px; font-weight: bold; margin-top: 1rem;\">How-to guides</p>\n",
    "                    <p>A recipe book of simple code examples demonstrating how to perform common geospatial analysis tasks using DEA and open-source software.</p>\n",
    "                    <p>There are numerous how-to guides on anything from <a href=\"./How_to_guides/ARD_overpass_predictor.ipynb\">ARD overpass predictors</a> to <a href=\"./How_to_guides/Rasterize_vectorize.ipynb\">rasterising vectors</a>.</p>\n",
    "                </div>\n",
    "            </a>\n",
    "        </td>\n",
    "    </tr>\n",
    "</table>\n"
   ]
  },
  {
   "cell_type": "markdown",
   "id": "76ed22c9-5fe1-4b7a-9776-71c64d20ef74",
   "metadata": {
    "tags": []
   },
   "source": [
    "## Learn more\n",
    "\n",
    "Visit the [DEA Knowledge Hub](https://docs.dea.ga.gov.au/) to find comprehensive information about the datasets and concepts featured in these Notebooks. The knowledge hub contains multiple types of content including the following.\n",
    "\n",
    "<table border=\"0\" align=\"left\">\n",
    "    <tr>\n",
    "        <td style=\"vertical-align: bottom; max-width: 250px; text-align: center;\">\n",
    "                <a href=\"./Beginners_guide/README\">\n",
    "                    <img src=\"https://docs.dea.ga.gov.au/_images/dea-logo-inline.svg\" style=\"max-width: 100px;\">\n",
    "                    <p style=\"font-size: 16px; font-weight: bold; margin-top: 1rem; color: rgba(0, 0, 0, 0.87);\">Data Products</p>\n",
    "                </a>\n",
    "            </a>\n",
    "        </td>\n",
    "        <td style=\"vertical-align: bottom; max-width: 250px; text-align: center;\">\n",
    "                <a href=\"./DEA_products/README.rst\">\n",
    "                    <img src=\"https://docs.dea.ga.gov.au/_images/dea-logo-inline.svg\" style=\"max-width: 100px;\">\n",
    "                    <p style=\"font-size: 16px; font-weight: bold; margin-top: 1rem; color: rgba(0, 0, 0, 0.87);\">User Guides</p>\n",
    "                </a>\n",
    "            </a>\n",
    "        </td>\n",
    "        <td style=\"vertical-align: bottom; max-width: 250px; text-align: center;\">\n",
    "                <a href=\"./How_to_guides/README.rst\">\n",
    "                    <img src=\"https://docs.dea.ga.gov.au/_images/dea-logo-inline.svg\" style=\"max-width: 100px;\">\n",
    "                    <p style=\"font-size: 16px; font-weight: bold; margin-top: 1rem; color: rgba(0, 0, 0, 0.87);\">DEA Notebooks</p>\n",
    "                </a>\n",
    "            </a>\n",
    "        </td>\n",
    "    </tr>\n",
    "    <tr>\n",
    "        <td style=\"vertical-align: bottom; max-width: 250px; text-align: center;\">\n",
    "                <a href=\"./How_to_guides/README.rst\">\n",
    "                    <img src=\"https://docs.dea.ga.gov.au/_images/dea-logo-inline.svg\" style=\"max-width: 100px;\">\n",
    "                    <p style=\"font-size: 16px; font-weight: bold; margin-top: 1rem; color: rgba(0, 0, 0, 0.87);\">Tech Alerts and Changelog</p>\n",
    "                </a>\n",
    "            </a>\n",
    "        </td>\n",
    "    </tr>\n",
    "</table>\n",
    "\n"
   ]
  }
 ],
 "metadata": {
  "kernelspec": {
   "display_name": "Python 3 (ipykernel)",
   "language": "python",
   "name": "python3"
  },
  "language_info": {
   "codemirror_mode": {
    "name": "ipython",
    "version": 3
   },
   "file_extension": ".py",
   "mimetype": "text/x-python",
   "name": "python",
   "nbconvert_exporter": "python",
   "pygments_lexer": "ipython3",
   "version": "3.10.13"
  },
  "widgets": {
   "application/vnd.jupyter.widget-state+json": {
    "state": {},
    "version_major": 2,
    "version_minor": 0
   }
  }
 },
 "nbformat": 4,
 "nbformat_minor": 5
}
