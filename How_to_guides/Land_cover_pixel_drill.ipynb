{
 "cells": [
  {
   "cell_type": "markdown",
   "id": "a75561b3-5db8-4b56-9b8d-7efd1022b0c8",
   "metadata": {},
   "source": [
    "# DEA Land Cover pixel drill <img align=\"right\" src=\"../Supplementary_data/dea_logo.jpg\">\n",
    "\n",
    "* **[Sign up to the DEA Sandbox](https://app.sandbox.dea.ga.gov.au/)** to run this notebook interactively from a browser\n",
    "* **Compatibility:** Notebook currently compatible with the `DEA Sandbox` environment\n",
    "* **Products used:** \n",
    "[ga_ls_landcover_class_cyear_2](https://explorer.dea.ga.gov.au/products/ga_ls_landcover_class_cyear_2)"
   ]
  },
  {
   "cell_type": "markdown",
   "id": "8f816db3-0a65-481b-8aa6-eb079c8c55a5",
   "metadata": {},
   "source": [
    "## Background \n",
    "Land cover is the physical surface of the Earth, including trees, shrubs, grasses, soils, exposed rocks, water bodies, plantations, crops and built structures. including trees, shrubs, grasses, soils, exposed rocks, water bodies, plantations, crops and built structures.\n",
    "\n",
    "The Digital Earth Australia (DEA) Land Cover product classifies the Australian continent's surface using the [FAO LCCS taxonomy](https://www.fao.org/3/x0596e/x0596e00.htm), providing detailed information on the presence of water, vegetation cover and the urban environment.\n",
    "For a more in-depth introduction to the DEA Land Cover dataset, see the [DEA Land Cover notebook](../DEA_products/DEA_Land_Cover.ipynb) and the [DEA Land Cover product details](https://docs.dea.ga.gov.au/data/product/dea-land-cover-landsat) page.\n",
    "\n",
    "Trends in land cover over time provide important information about environmental conditions and human activity. \n",
    "For example, measuring change in land cover over time can describe the natural cycles of greening and drying in an ephemeral wetland, or show how an ecosystem responds after a bushfire."
   ]
  },
  {
   "cell_type": "markdown",
   "id": "39f22305-e48f-4ce5-b54c-a0c8107c74c4",
   "metadata": {},
   "source": [
    "## Description \n",
    "\n",
    "A pixel drill is a method of analysing time-deep satellite data; a single spatial point is chosen and the characteristics of that point through time are plotted. \n",
    "This notebook conducts a pixel drill on the Level 3 classification layer of the DEA Land Cover product, visualising how this location on Australia's surface has or has not changed over 30+ years. \n",
    "\n",
    "1.\tSelect an area of interest and load data.\n",
    "2.\tVisualise the data and select point for pixel drill.\n",
    "3.\tConduct pixel drill.\n",
    "4.\tPlot land cover history of the chosen point.\n",
    "\n",
    "***"
   ]
  },
  {
   "cell_type": "markdown",
   "id": "bb55a8e9-ef12-405f-bbcc-a797f2b1cdc7",
   "metadata": {},
   "source": [
    "## Getting started\n",
    "\n",
    "To run this analysis, run all the cells in the notebook, starting with the 'Load packages and connect to the datacube' cell. "
   ]
  },
  {
   "cell_type": "markdown",
   "id": "8b6f445a-ca03-4235-9ff3-cf3faff2ef19",
   "metadata": {},
   "source": [
    "### Load packages"
   ]
  },
  {
   "cell_type": "code",
   "execution_count": 1,
   "id": "19d91b12-4690-485d-99ed-1252d230c5d1",
   "metadata": {},
   "outputs": [],
   "source": [
    "%matplotlib widget\n",
    "\n",
    "import os\n",
    "import sys\n",
    "\n",
    "import datacube\n",
    "import matplotlib.pyplot as plt\n",
    "\n",
    "sys.path.insert(1, os.path.abspath(\"../Tools\"))\n",
    "from dea_tools.landcover import lc_colourmap\n",
    "from dea_tools.plotting import display_map"
   ]
  },
  {
   "cell_type": "markdown",
   "id": "c4615a84-64d2-42b9-b291-faaf6121336e",
   "metadata": {},
   "source": [
    "### Connect to the datacube\n",
    "Connect to the datacube so we can access DEA data. "
   ]
  },
  {
   "cell_type": "code",
   "execution_count": 2,
   "id": "2f0a0321-65ea-49ee-837e-2a4725dab1d7",
   "metadata": {
    "tags": []
   },
   "outputs": [],
   "source": [
    "dc = datacube.Datacube(app=\"Land_cover_pixel_drill\")"
   ]
  },
  {
   "cell_type": "markdown",
   "id": "971777d8-142a-4ce5-9284-fa8877cfd8fd",
   "metadata": {},
   "source": [
    "### Define custom functions\n",
    "\n",
    "This notebook uses the following custom functions to format the data and create the interactive plot."
   ]
  },
  {
   "cell_type": "code",
   "execution_count": 3,
   "id": "17ade952-5cf1-47b2-ac23-2c3f7b7f9e36",
   "metadata": {},
   "outputs": [],
   "source": [
    "def rescale_level3(data):\n",
    "    \"\"\"\n",
    "    Rescale distribution of Level 3 classes to be 0-6 for neat plotting in pixel drill plot.\n",
    "    Input: xarray DataSet or DataArray containing Level 3 land cover data.\n",
    "    \"\"\"\n",
    "    scale_and_lables = {0: 0, 111: 1, 112: 2, 124: 3, 215: 4, 216: 5, 220: 6}\n",
    "\n",
    "    for key, value in scale_and_lables.items():\n",
    "        data = data.where(data != key, value)\n",
    "    return data\n",
    "\n",
    "\n",
    "def click_for_coords(event):\n",
    "    \"\"\"\n",
    "    Define behaviour widget to enable extraction of x,y values for point manually selected with mouse click on interactive plot.\n",
    "    For use with Matplotlib Imshow.\n",
    "    The x and y returned are the coordinate positions of the pixel in the x and y axis, rather than latitude/longitude values of the point.\n",
    "    The coordinate positions of the pixel this is what you need later to conduct a pixel drill.\n",
    "    Returns: ix, iy = position of selected pixel in the x and y coordinates of the array.\n",
    "    \"\"\"\n",
    "    global ix, iy\n",
    "    ix, iy = event.xdata, event.ydata\n",
    "    global coords\n",
    "    coords.append((ix, iy))\n",
    "\n",
    "    fig.canvas.mpl_disconnect(cid)\n",
    "    return"
   ]
  },
  {
   "cell_type": "markdown",
   "id": "2bc7c41c-855b-44bf-a09f-ba5628468f71",
   "metadata": {},
   "source": [
    "## Define area of interest and load data"
   ]
  },
  {
   "cell_type": "code",
   "execution_count": 4,
   "id": "074b7dc9-53de-4f4e-aeb8-ce657155cf06",
   "metadata": {
    "tags": []
   },
   "outputs": [
    {
     "data": {
      "text/html": [
       "<div style=\"width:100%;\"><div style=\"position:relative;width:100%;height:0;padding-bottom:60%;\"><span style=\"color:#565656\">Make this Notebook Trusted to load map: File -> Trust Notebook</span><iframe src=\"about:blank\" style=\"position:absolute;width:100%;height:100%;left:0;top:0;border:none !important;\" data-html=%3C%21DOCTYPE%20html%3E%0A%3Chead%3E%20%20%20%20%0A%20%20%20%20%3Cmeta%20http-equiv%3D%22content-type%22%20content%3D%22text/html%3B%20charset%3DUTF-8%22%20/%3E%0A%20%20%20%20%0A%20%20%20%20%20%20%20%20%3Cscript%3E%0A%20%20%20%20%20%20%20%20%20%20%20%20L_NO_TOUCH%20%3D%20false%3B%0A%20%20%20%20%20%20%20%20%20%20%20%20L_DISABLE_3D%20%3D%20false%3B%0A%20%20%20%20%20%20%20%20%3C/script%3E%0A%20%20%20%20%0A%20%20%20%20%3Cstyle%3Ehtml%2C%20body%20%7Bwidth%3A%20100%25%3Bheight%3A%20100%25%3Bmargin%3A%200%3Bpadding%3A%200%3B%7D%3C/style%3E%0A%20%20%20%20%3Cstyle%3E%23map%20%7Bposition%3Aabsolute%3Btop%3A0%3Bbottom%3A0%3Bright%3A0%3Bleft%3A0%3B%7D%3C/style%3E%0A%20%20%20%20%3Cscript%20src%3D%22https%3A//cdn.jsdelivr.net/npm/leaflet%401.6.0/dist/leaflet.js%22%3E%3C/script%3E%0A%20%20%20%20%3Cscript%20src%3D%22https%3A//code.jquery.com/jquery-1.12.4.min.js%22%3E%3C/script%3E%0A%20%20%20%20%3Cscript%20src%3D%22https%3A//maxcdn.bootstrapcdn.com/bootstrap/3.2.0/js/bootstrap.min.js%22%3E%3C/script%3E%0A%20%20%20%20%3Cscript%20src%3D%22https%3A//cdnjs.cloudflare.com/ajax/libs/Leaflet.awesome-markers/2.0.2/leaflet.awesome-markers.js%22%3E%3C/script%3E%0A%20%20%20%20%3Clink%20rel%3D%22stylesheet%22%20href%3D%22https%3A//cdn.jsdelivr.net/npm/leaflet%401.6.0/dist/leaflet.css%22/%3E%0A%20%20%20%20%3Clink%20rel%3D%22stylesheet%22%20href%3D%22https%3A//maxcdn.bootstrapcdn.com/bootstrap/3.2.0/css/bootstrap.min.css%22/%3E%0A%20%20%20%20%3Clink%20rel%3D%22stylesheet%22%20href%3D%22https%3A//maxcdn.bootstrapcdn.com/bootstrap/3.2.0/css/bootstrap-theme.min.css%22/%3E%0A%20%20%20%20%3Clink%20rel%3D%22stylesheet%22%20href%3D%22https%3A//maxcdn.bootstrapcdn.com/font-awesome/4.6.3/css/font-awesome.min.css%22/%3E%0A%20%20%20%20%3Clink%20rel%3D%22stylesheet%22%20href%3D%22https%3A//cdnjs.cloudflare.com/ajax/libs/Leaflet.awesome-markers/2.0.2/leaflet.awesome-markers.css%22/%3E%0A%20%20%20%20%3Clink%20rel%3D%22stylesheet%22%20href%3D%22https%3A//cdn.jsdelivr.net/gh/python-visualization/folium/folium/templates/leaflet.awesome.rotate.min.css%22/%3E%0A%20%20%20%20%0A%20%20%20%20%20%20%20%20%20%20%20%20%3Cmeta%20name%3D%22viewport%22%20content%3D%22width%3Ddevice-width%2C%0A%20%20%20%20%20%20%20%20%20%20%20%20%20%20%20%20initial-scale%3D1.0%2C%20maximum-scale%3D1.0%2C%20user-scalable%3Dno%22%20/%3E%0A%20%20%20%20%20%20%20%20%20%20%20%20%3Cstyle%3E%0A%20%20%20%20%20%20%20%20%20%20%20%20%20%20%20%20%23map_d66e8aa154a2421ab6259697a1ca9dae%20%7B%0A%20%20%20%20%20%20%20%20%20%20%20%20%20%20%20%20%20%20%20%20position%3A%20relative%3B%0A%20%20%20%20%20%20%20%20%20%20%20%20%20%20%20%20%20%20%20%20width%3A%20100.0%25%3B%0A%20%20%20%20%20%20%20%20%20%20%20%20%20%20%20%20%20%20%20%20height%3A%20100.0%25%3B%0A%20%20%20%20%20%20%20%20%20%20%20%20%20%20%20%20%20%20%20%20left%3A%200.0%25%3B%0A%20%20%20%20%20%20%20%20%20%20%20%20%20%20%20%20%20%20%20%20top%3A%200.0%25%3B%0A%20%20%20%20%20%20%20%20%20%20%20%20%20%20%20%20%7D%0A%20%20%20%20%20%20%20%20%20%20%20%20%3C/style%3E%0A%20%20%20%20%20%20%20%20%0A%3C/head%3E%0A%3Cbody%3E%20%20%20%20%0A%20%20%20%20%0A%20%20%20%20%20%20%20%20%20%20%20%20%3Cdiv%20class%3D%22folium-map%22%20id%3D%22map_d66e8aa154a2421ab6259697a1ca9dae%22%20%3E%3C/div%3E%0A%20%20%20%20%20%20%20%20%0A%3C/body%3E%0A%3Cscript%3E%20%20%20%20%0A%20%20%20%20%0A%20%20%20%20%20%20%20%20%20%20%20%20var%20map_d66e8aa154a2421ab6259697a1ca9dae%20%3D%20L.map%28%0A%20%20%20%20%20%20%20%20%20%20%20%20%20%20%20%20%22map_d66e8aa154a2421ab6259697a1ca9dae%22%2C%0A%20%20%20%20%20%20%20%20%20%20%20%20%20%20%20%20%7B%0A%20%20%20%20%20%20%20%20%20%20%20%20%20%20%20%20%20%20%20%20center%3A%20%5B-35.1064%2C%20149.4248%5D%2C%0A%20%20%20%20%20%20%20%20%20%20%20%20%20%20%20%20%20%20%20%20crs%3A%20L.CRS.EPSG3857%2C%0A%20%20%20%20%20%20%20%20%20%20%20%20%20%20%20%20%20%20%20%20zoom%3A%2011%2C%0A%20%20%20%20%20%20%20%20%20%20%20%20%20%20%20%20%20%20%20%20zoomControl%3A%20true%2C%0A%20%20%20%20%20%20%20%20%20%20%20%20%20%20%20%20%20%20%20%20preferCanvas%3A%20false%2C%0A%20%20%20%20%20%20%20%20%20%20%20%20%20%20%20%20%7D%0A%20%20%20%20%20%20%20%20%20%20%20%20%29%3B%0A%0A%20%20%20%20%20%20%20%20%20%20%20%20%0A%0A%20%20%20%20%20%20%20%20%0A%20%20%20%20%0A%20%20%20%20%20%20%20%20%20%20%20%20var%20tile_layer_d4ce4e0a40b5451db788b8ae80f50512%20%3D%20L.tileLayer%28%0A%20%20%20%20%20%20%20%20%20%20%20%20%20%20%20%20%22http%3A//mt1.google.com/vt/lyrs%3Dy%5Cu0026z%3D%7Bz%7D%5Cu0026x%3D%7Bx%7D%5Cu0026y%3D%7By%7D%22%2C%0A%20%20%20%20%20%20%20%20%20%20%20%20%20%20%20%20%7B%22attribution%22%3A%20%22Google%22%2C%20%22detectRetina%22%3A%20false%2C%20%22maxNativeZoom%22%3A%2018%2C%20%22maxZoom%22%3A%2018%2C%20%22minZoom%22%3A%200%2C%20%22noWrap%22%3A%20false%2C%20%22opacity%22%3A%201%2C%20%22subdomains%22%3A%20%22abc%22%2C%20%22tms%22%3A%20false%7D%0A%20%20%20%20%20%20%20%20%20%20%20%20%29.addTo%28map_d66e8aa154a2421ab6259697a1ca9dae%29%3B%0A%20%20%20%20%20%20%20%20%0A%20%20%20%20%0A%20%20%20%20%20%20%20%20%20%20%20%20var%20poly_line_65b5def5d9af4c3c97f36380faa65e22%20%3D%20L.polyline%28%0A%20%20%20%20%20%20%20%20%20%20%20%20%20%20%20%20%5B%5B-35.2064%2C%20149.3248%5D%2C%20%5B-35.2064%2C%20149.5248%5D%2C%20%5B-35.0064%2C%20149.5248%5D%2C%20%5B-35.0064%2C%20149.3248%5D%2C%20%5B-35.2064%2C%20149.3248%5D%5D%2C%0A%20%20%20%20%20%20%20%20%20%20%20%20%20%20%20%20%7B%22bubblingMouseEvents%22%3A%20true%2C%20%22color%22%3A%20%22red%22%2C%20%22dashArray%22%3A%20null%2C%20%22dashOffset%22%3A%20null%2C%20%22fill%22%3A%20false%2C%20%22fillColor%22%3A%20%22red%22%2C%20%22fillOpacity%22%3A%200.2%2C%20%22fillRule%22%3A%20%22evenodd%22%2C%20%22lineCap%22%3A%20%22round%22%2C%20%22lineJoin%22%3A%20%22round%22%2C%20%22noClip%22%3A%20false%2C%20%22opacity%22%3A%200.8%2C%20%22smoothFactor%22%3A%201.0%2C%20%22stroke%22%3A%20true%2C%20%22weight%22%3A%203%7D%0A%20%20%20%20%20%20%20%20%20%20%20%20%29.addTo%28map_d66e8aa154a2421ab6259697a1ca9dae%29%3B%0A%20%20%20%20%20%20%20%20%0A%20%20%20%20%0A%20%20%20%20%20%20%20%20%20%20%20%20%20%20%20%20var%20lat_lng_popup_fee22b276bfd41fc9b2ddd44408380e7%20%3D%20L.popup%28%29%3B%0A%20%20%20%20%20%20%20%20%20%20%20%20%20%20%20%20function%20latLngPop%28e%29%20%7B%0A%20%20%20%20%20%20%20%20%20%20%20%20%20%20%20%20%20%20%20%20lat_lng_popup_fee22b276bfd41fc9b2ddd44408380e7%0A%20%20%20%20%20%20%20%20%20%20%20%20%20%20%20%20%20%20%20%20%20%20%20%20.setLatLng%28e.latlng%29%0A%20%20%20%20%20%20%20%20%20%20%20%20%20%20%20%20%20%20%20%20%20%20%20%20.setContent%28%22Latitude%3A%20%22%20%2B%20e.latlng.lat.toFixed%284%29%20%2B%0A%20%20%20%20%20%20%20%20%20%20%20%20%20%20%20%20%20%20%20%20%20%20%20%20%20%20%20%20%20%20%20%20%20%20%20%20%22%3Cbr%3ELongitude%3A%20%22%20%2B%20e.latlng.lng.toFixed%284%29%29%0A%20%20%20%20%20%20%20%20%20%20%20%20%20%20%20%20%20%20%20%20%20%20%20%20.openOn%28map_d66e8aa154a2421ab6259697a1ca9dae%29%3B%0A%20%20%20%20%20%20%20%20%20%20%20%20%20%20%20%20%20%20%20%20%7D%0A%20%20%20%20%20%20%20%20%20%20%20%20%20%20%20%20map_d66e8aa154a2421ab6259697a1ca9dae.on%28%27click%27%2C%20latLngPop%29%3B%0A%20%20%20%20%20%20%20%20%20%20%20%20%0A%3C/script%3E onload=\"this.contentDocument.open();this.contentDocument.write(    decodeURIComponent(this.getAttribute('data-html')));this.contentDocument.close();\" allowfullscreen webkitallowfullscreen mozallowfullscreen></iframe></div></div>"
      ],
      "text/plain": [
       "<folium.folium.Map at 0x7fbd53265850>"
      ]
     },
     "execution_count": 4,
     "metadata": {},
     "output_type": "execute_result"
    }
   ],
   "source": [
    "# Select central coordinates for an area of interest\n",
    "# Lake George\n",
    "point_x, point_y = (-35.1064, 149.4248)\n",
    "\n",
    "# Combine central coordinates with buffer values to create the latitude and longitude range\n",
    "lat = (point_x - 0.1, point_x + 0.1)\n",
    "lon = (point_y - 0.1, point_y + 0.1)\n",
    "\n",
    "# Display area on map\n",
    "display_map(x=lon, y=lat)"
   ]
  },
  {
   "cell_type": "code",
   "execution_count": 5,
   "id": "f60cb32a-264c-45b3-94e3-99e887caa696",
   "metadata": {
    "tags": []
   },
   "outputs": [],
   "source": [
    "# Create the 'query' dictionary object, which contains the coordinates defined above\n",
    "query = {\n",
    "    \"y\": lat,\n",
    "    \"x\": lon,\n",
    "    \"time\": (\"1988\", \"2020\"),\n",
    "}\n",
    "\n",
    "# Load DEA Land Cover data from the datacube\n",
    "all_data = dc.load(\n",
    "    product=\"ga_ls_landcover_class_cyear_2\",\n",
    "    output_crs=\"EPSG:3577\",\n",
    "    measurements=[\"level3\"],\n",
    "    resolution=(-25, 25),\n",
    "    **query\n",
    ")"
   ]
  },
  {
   "cell_type": "code",
   "execution_count": 6,
   "id": "3345a6cf-797f-41a9-a370-e3159c595e5e",
   "metadata": {
    "tags": []
   },
   "outputs": [
    {
     "data": {
      "text/html": [
       "<div><svg style=\"position: absolute; width: 0; height: 0; overflow: hidden\">\n",
       "<defs>\n",
       "<symbol id=\"icon-database\" viewBox=\"0 0 32 32\">\n",
       "<path d=\"M16 0c-8.837 0-16 2.239-16 5v4c0 2.761 7.163 5 16 5s16-2.239 16-5v-4c0-2.761-7.163-5-16-5z\"></path>\n",
       "<path d=\"M16 17c-8.837 0-16-2.239-16-5v6c0 2.761 7.163 5 16 5s16-2.239 16-5v-6c0 2.761-7.163 5-16 5z\"></path>\n",
       "<path d=\"M16 26c-8.837 0-16-2.239-16-5v6c0 2.761 7.163 5 16 5s16-2.239 16-5v-6c0 2.761-7.163 5-16 5z\"></path>\n",
       "</symbol>\n",
       "<symbol id=\"icon-file-text2\" viewBox=\"0 0 32 32\">\n",
       "<path d=\"M28.681 7.159c-0.694-0.947-1.662-2.053-2.724-3.116s-2.169-2.030-3.116-2.724c-1.612-1.182-2.393-1.319-2.841-1.319h-15.5c-1.378 0-2.5 1.121-2.5 2.5v27c0 1.378 1.122 2.5 2.5 2.5h23c1.378 0 2.5-1.122 2.5-2.5v-19.5c0-0.448-0.137-1.23-1.319-2.841zM24.543 5.457c0.959 0.959 1.712 1.825 2.268 2.543h-4.811v-4.811c0.718 0.556 1.584 1.309 2.543 2.268zM28 29.5c0 0.271-0.229 0.5-0.5 0.5h-23c-0.271 0-0.5-0.229-0.5-0.5v-27c0-0.271 0.229-0.5 0.5-0.5 0 0 15.499-0 15.5 0v7c0 0.552 0.448 1 1 1h7v19.5z\"></path>\n",
       "<path d=\"M23 26h-14c-0.552 0-1-0.448-1-1s0.448-1 1-1h14c0.552 0 1 0.448 1 1s-0.448 1-1 1z\"></path>\n",
       "<path d=\"M23 22h-14c-0.552 0-1-0.448-1-1s0.448-1 1-1h14c0.552 0 1 0.448 1 1s-0.448 1-1 1z\"></path>\n",
       "<path d=\"M23 18h-14c-0.552 0-1-0.448-1-1s0.448-1 1-1h14c0.552 0 1 0.448 1 1s-0.448 1-1 1z\"></path>\n",
       "</symbol>\n",
       "</defs>\n",
       "</svg>\n",
       "<style>/* CSS stylesheet for displaying xarray objects in jupyterlab.\n",
       " *\n",
       " */\n",
       "\n",
       ":root {\n",
       "  --xr-font-color0: var(--jp-content-font-color0, rgba(0, 0, 0, 1));\n",
       "  --xr-font-color2: var(--jp-content-font-color2, rgba(0, 0, 0, 0.54));\n",
       "  --xr-font-color3: var(--jp-content-font-color3, rgba(0, 0, 0, 0.38));\n",
       "  --xr-border-color: var(--jp-border-color2, #e0e0e0);\n",
       "  --xr-disabled-color: var(--jp-layout-color3, #bdbdbd);\n",
       "  --xr-background-color: var(--jp-layout-color0, white);\n",
       "  --xr-background-color-row-even: var(--jp-layout-color1, white);\n",
       "  --xr-background-color-row-odd: var(--jp-layout-color2, #eeeeee);\n",
       "}\n",
       "\n",
       "html[theme=dark],\n",
       "body.vscode-dark {\n",
       "  --xr-font-color0: rgba(255, 255, 255, 1);\n",
       "  --xr-font-color2: rgba(255, 255, 255, 0.54);\n",
       "  --xr-font-color3: rgba(255, 255, 255, 0.38);\n",
       "  --xr-border-color: #1F1F1F;\n",
       "  --xr-disabled-color: #515151;\n",
       "  --xr-background-color: #111111;\n",
       "  --xr-background-color-row-even: #111111;\n",
       "  --xr-background-color-row-odd: #313131;\n",
       "}\n",
       "\n",
       ".xr-wrap {\n",
       "  display: block;\n",
       "  min-width: 300px;\n",
       "  max-width: 700px;\n",
       "}\n",
       "\n",
       ".xr-text-repr-fallback {\n",
       "  /* fallback to plain text repr when CSS is not injected (untrusted notebook) */\n",
       "  display: none;\n",
       "}\n",
       "\n",
       ".xr-header {\n",
       "  padding-top: 6px;\n",
       "  padding-bottom: 6px;\n",
       "  margin-bottom: 4px;\n",
       "  border-bottom: solid 1px var(--xr-border-color);\n",
       "}\n",
       "\n",
       ".xr-header > div,\n",
       ".xr-header > ul {\n",
       "  display: inline;\n",
       "  margin-top: 0;\n",
       "  margin-bottom: 0;\n",
       "}\n",
       "\n",
       ".xr-obj-type,\n",
       ".xr-array-name {\n",
       "  margin-left: 2px;\n",
       "  margin-right: 10px;\n",
       "}\n",
       "\n",
       ".xr-obj-type {\n",
       "  color: var(--xr-font-color2);\n",
       "}\n",
       "\n",
       ".xr-sections {\n",
       "  padding-left: 0 !important;\n",
       "  display: grid;\n",
       "  grid-template-columns: 150px auto auto 1fr 20px 20px;\n",
       "}\n",
       "\n",
       ".xr-section-item {\n",
       "  display: contents;\n",
       "}\n",
       "\n",
       ".xr-section-item input {\n",
       "  display: none;\n",
       "}\n",
       "\n",
       ".xr-section-item input + label {\n",
       "  color: var(--xr-disabled-color);\n",
       "}\n",
       "\n",
       ".xr-section-item input:enabled + label {\n",
       "  cursor: pointer;\n",
       "  color: var(--xr-font-color2);\n",
       "}\n",
       "\n",
       ".xr-section-item input:enabled + label:hover {\n",
       "  color: var(--xr-font-color0);\n",
       "}\n",
       "\n",
       ".xr-section-summary {\n",
       "  grid-column: 1;\n",
       "  color: var(--xr-font-color2);\n",
       "  font-weight: 500;\n",
       "}\n",
       "\n",
       ".xr-section-summary > span {\n",
       "  display: inline-block;\n",
       "  padding-left: 0.5em;\n",
       "}\n",
       "\n",
       ".xr-section-summary-in:disabled + label {\n",
       "  color: var(--xr-font-color2);\n",
       "}\n",
       "\n",
       ".xr-section-summary-in + label:before {\n",
       "  display: inline-block;\n",
       "  content: '►';\n",
       "  font-size: 11px;\n",
       "  width: 15px;\n",
       "  text-align: center;\n",
       "}\n",
       "\n",
       ".xr-section-summary-in:disabled + label:before {\n",
       "  color: var(--xr-disabled-color);\n",
       "}\n",
       "\n",
       ".xr-section-summary-in:checked + label:before {\n",
       "  content: '▼';\n",
       "}\n",
       "\n",
       ".xr-section-summary-in:checked + label > span {\n",
       "  display: none;\n",
       "}\n",
       "\n",
       ".xr-section-summary,\n",
       ".xr-section-inline-details {\n",
       "  padding-top: 4px;\n",
       "  padding-bottom: 4px;\n",
       "}\n",
       "\n",
       ".xr-section-inline-details {\n",
       "  grid-column: 2 / -1;\n",
       "}\n",
       "\n",
       ".xr-section-details {\n",
       "  display: none;\n",
       "  grid-column: 1 / -1;\n",
       "  margin-bottom: 5px;\n",
       "}\n",
       "\n",
       ".xr-section-summary-in:checked ~ .xr-section-details {\n",
       "  display: contents;\n",
       "}\n",
       "\n",
       ".xr-array-wrap {\n",
       "  grid-column: 1 / -1;\n",
       "  display: grid;\n",
       "  grid-template-columns: 20px auto;\n",
       "}\n",
       "\n",
       ".xr-array-wrap > label {\n",
       "  grid-column: 1;\n",
       "  vertical-align: top;\n",
       "}\n",
       "\n",
       ".xr-preview {\n",
       "  color: var(--xr-font-color3);\n",
       "}\n",
       "\n",
       ".xr-array-preview,\n",
       ".xr-array-data {\n",
       "  padding: 0 5px !important;\n",
       "  grid-column: 2;\n",
       "}\n",
       "\n",
       ".xr-array-data,\n",
       ".xr-array-in:checked ~ .xr-array-preview {\n",
       "  display: none;\n",
       "}\n",
       "\n",
       ".xr-array-in:checked ~ .xr-array-data,\n",
       ".xr-array-preview {\n",
       "  display: inline-block;\n",
       "}\n",
       "\n",
       ".xr-dim-list {\n",
       "  display: inline-block !important;\n",
       "  list-style: none;\n",
       "  padding: 0 !important;\n",
       "  margin: 0;\n",
       "}\n",
       "\n",
       ".xr-dim-list li {\n",
       "  display: inline-block;\n",
       "  padding: 0;\n",
       "  margin: 0;\n",
       "}\n",
       "\n",
       ".xr-dim-list:before {\n",
       "  content: '(';\n",
       "}\n",
       "\n",
       ".xr-dim-list:after {\n",
       "  content: ')';\n",
       "}\n",
       "\n",
       ".xr-dim-list li:not(:last-child):after {\n",
       "  content: ',';\n",
       "  padding-right: 5px;\n",
       "}\n",
       "\n",
       ".xr-has-index {\n",
       "  font-weight: bold;\n",
       "}\n",
       "\n",
       ".xr-var-list,\n",
       ".xr-var-item {\n",
       "  display: contents;\n",
       "}\n",
       "\n",
       ".xr-var-item > div,\n",
       ".xr-var-item label,\n",
       ".xr-var-item > .xr-var-name span {\n",
       "  background-color: var(--xr-background-color-row-even);\n",
       "  margin-bottom: 0;\n",
       "}\n",
       "\n",
       ".xr-var-item > .xr-var-name:hover span {\n",
       "  padding-right: 5px;\n",
       "}\n",
       "\n",
       ".xr-var-list > li:nth-child(odd) > div,\n",
       ".xr-var-list > li:nth-child(odd) > label,\n",
       ".xr-var-list > li:nth-child(odd) > .xr-var-name span {\n",
       "  background-color: var(--xr-background-color-row-odd);\n",
       "}\n",
       "\n",
       ".xr-var-name {\n",
       "  grid-column: 1;\n",
       "}\n",
       "\n",
       ".xr-var-dims {\n",
       "  grid-column: 2;\n",
       "}\n",
       "\n",
       ".xr-var-dtype {\n",
       "  grid-column: 3;\n",
       "  text-align: right;\n",
       "  color: var(--xr-font-color2);\n",
       "}\n",
       "\n",
       ".xr-var-preview {\n",
       "  grid-column: 4;\n",
       "}\n",
       "\n",
       ".xr-var-name,\n",
       ".xr-var-dims,\n",
       ".xr-var-dtype,\n",
       ".xr-preview,\n",
       ".xr-attrs dt {\n",
       "  white-space: nowrap;\n",
       "  overflow: hidden;\n",
       "  text-overflow: ellipsis;\n",
       "  padding-right: 10px;\n",
       "}\n",
       "\n",
       ".xr-var-name:hover,\n",
       ".xr-var-dims:hover,\n",
       ".xr-var-dtype:hover,\n",
       ".xr-attrs dt:hover {\n",
       "  overflow: visible;\n",
       "  width: auto;\n",
       "  z-index: 1;\n",
       "}\n",
       "\n",
       ".xr-var-attrs,\n",
       ".xr-var-data {\n",
       "  display: none;\n",
       "  background-color: var(--xr-background-color) !important;\n",
       "  padding-bottom: 5px !important;\n",
       "}\n",
       "\n",
       ".xr-var-attrs-in:checked ~ .xr-var-attrs,\n",
       ".xr-var-data-in:checked ~ .xr-var-data {\n",
       "  display: block;\n",
       "}\n",
       "\n",
       ".xr-var-data > table {\n",
       "  float: right;\n",
       "}\n",
       "\n",
       ".xr-var-name span,\n",
       ".xr-var-data,\n",
       ".xr-attrs {\n",
       "  padding-left: 25px !important;\n",
       "}\n",
       "\n",
       ".xr-attrs,\n",
       ".xr-var-attrs,\n",
       ".xr-var-data {\n",
       "  grid-column: 1 / -1;\n",
       "}\n",
       "\n",
       "dl.xr-attrs {\n",
       "  padding: 0;\n",
       "  margin: 0;\n",
       "  display: grid;\n",
       "  grid-template-columns: 125px auto;\n",
       "}\n",
       "\n",
       ".xr-attrs dt,\n",
       ".xr-attrs dd {\n",
       "  padding: 0;\n",
       "  margin: 0;\n",
       "  float: left;\n",
       "  padding-right: 10px;\n",
       "  width: auto;\n",
       "}\n",
       "\n",
       ".xr-attrs dt {\n",
       "  font-weight: normal;\n",
       "  grid-column: 1;\n",
       "}\n",
       "\n",
       ".xr-attrs dt:hover span {\n",
       "  display: inline-block;\n",
       "  background: var(--xr-background-color);\n",
       "  padding-right: 10px;\n",
       "}\n",
       "\n",
       ".xr-attrs dd {\n",
       "  grid-column: 2;\n",
       "  white-space: pre-wrap;\n",
       "  word-break: break-all;\n",
       "}\n",
       "\n",
       ".xr-icon-database,\n",
       ".xr-icon-file-text2 {\n",
       "  display: inline-block;\n",
       "  vertical-align: middle;\n",
       "  width: 1em;\n",
       "  height: 1.5em !important;\n",
       "  stroke-width: 0;\n",
       "  stroke: currentColor;\n",
       "  fill: currentColor;\n",
       "}\n",
       "</style><pre class='xr-text-repr-fallback'>&lt;xarray.Dataset&gt;\n",
       "Dimensions:      (time: 33, y: 982, x: 842)\n",
       "Coordinates:\n",
       "  * time         (time) datetime64[ns] 1988-01-01 1989-01-01 ... 2020-01-01\n",
       "  * y            (y) float64 -3.93e+06 -3.93e+06 ... -3.954e+06 -3.954e+06\n",
       "  * x            (x) float64 1.569e+06 1.569e+06 1.569e+06 ... 1.59e+06 1.59e+06\n",
       "    spatial_ref  int32 3577\n",
       "Data variables:\n",
       "    level3       (time, y, x) uint8 112 112 112 112 111 ... 112 112 112 112 112\n",
       "Attributes:\n",
       "    crs:           EPSG:3577\n",
       "    grid_mapping:  spatial_ref</pre><div class='xr-wrap' hidden><div class='xr-header'><div class='xr-obj-type'>xarray.Dataset</div></div><ul class='xr-sections'><li class='xr-section-item'><input id='section-e30f3028-a0b6-4fdb-b7cd-a2f06e0b4152' class='xr-section-summary-in' type='checkbox' disabled ><label for='section-e30f3028-a0b6-4fdb-b7cd-a2f06e0b4152' class='xr-section-summary'  title='Expand/collapse section'>Dimensions:</label><div class='xr-section-inline-details'><ul class='xr-dim-list'><li><span class='xr-has-index'>time</span>: 33</li><li><span class='xr-has-index'>y</span>: 982</li><li><span class='xr-has-index'>x</span>: 842</li></ul></div><div class='xr-section-details'></div></li><li class='xr-section-item'><input id='section-851170c8-800b-49a1-b6a8-6b51e4f93785' class='xr-section-summary-in' type='checkbox'  checked><label for='section-851170c8-800b-49a1-b6a8-6b51e4f93785' class='xr-section-summary' >Coordinates: <span>(4)</span></label><div class='xr-section-inline-details'></div><div class='xr-section-details'><ul class='xr-var-list'><li class='xr-var-item'><div class='xr-var-name'><span class='xr-has-index'>time</span></div><div class='xr-var-dims'>(time)</div><div class='xr-var-dtype'>datetime64[ns]</div><div class='xr-var-preview xr-preview'>1988-01-01 ... 2020-01-01</div><input id='attrs-511cb954-e238-4d59-a0a4-b06407e4d203' class='xr-var-attrs-in' type='checkbox' ><label for='attrs-511cb954-e238-4d59-a0a4-b06407e4d203' title='Show/Hide attributes'><svg class='icon xr-icon-file-text2'><use xlink:href='#icon-file-text2'></use></svg></label><input id='data-57081bbd-707a-4c56-a006-5a14ca93bd67' class='xr-var-data-in' type='checkbox'><label for='data-57081bbd-707a-4c56-a006-5a14ca93bd67' title='Show/Hide data repr'><svg class='icon xr-icon-database'><use xlink:href='#icon-database'></use></svg></label><div class='xr-var-attrs'><dl class='xr-attrs'><dt><span>units :</span></dt><dd>seconds since 1970-01-01 00:00:00</dd></dl></div><div class='xr-var-data'><pre>array([&#x27;1988-01-01T00:00:00.000000000&#x27;, &#x27;1989-01-01T00:00:00.000000000&#x27;,\n",
       "       &#x27;1990-01-01T00:00:00.000000000&#x27;, &#x27;1991-01-01T00:00:00.000000000&#x27;,\n",
       "       &#x27;1992-01-01T00:00:00.000000000&#x27;, &#x27;1993-01-01T00:00:00.000000000&#x27;,\n",
       "       &#x27;1994-01-01T00:00:00.000000000&#x27;, &#x27;1995-01-01T00:00:00.000000000&#x27;,\n",
       "       &#x27;1996-01-01T00:00:00.000000000&#x27;, &#x27;1997-01-01T00:00:00.000000000&#x27;,\n",
       "       &#x27;1998-01-01T00:00:00.000000000&#x27;, &#x27;1999-01-01T00:00:00.000000000&#x27;,\n",
       "       &#x27;2000-01-01T00:00:00.000000000&#x27;, &#x27;2001-01-01T00:00:00.000000000&#x27;,\n",
       "       &#x27;2002-01-01T00:00:00.000000000&#x27;, &#x27;2003-01-01T00:00:00.000000000&#x27;,\n",
       "       &#x27;2004-01-01T00:00:00.000000000&#x27;, &#x27;2005-01-01T00:00:00.000000000&#x27;,\n",
       "       &#x27;2006-01-01T00:00:00.000000000&#x27;, &#x27;2007-01-01T00:00:00.000000000&#x27;,\n",
       "       &#x27;2008-01-01T00:00:00.000000000&#x27;, &#x27;2009-01-01T00:00:00.000000000&#x27;,\n",
       "       &#x27;2010-01-01T00:00:00.000000000&#x27;, &#x27;2011-01-01T00:00:00.000000000&#x27;,\n",
       "       &#x27;2012-01-01T00:00:00.000000000&#x27;, &#x27;2013-01-01T00:00:00.000000000&#x27;,\n",
       "       &#x27;2014-01-01T00:00:00.000000000&#x27;, &#x27;2015-01-01T00:00:00.000000000&#x27;,\n",
       "       &#x27;2016-01-01T00:00:00.000000000&#x27;, &#x27;2017-01-01T00:00:00.000000000&#x27;,\n",
       "       &#x27;2018-01-01T00:00:00.000000000&#x27;, &#x27;2019-01-01T00:00:00.000000000&#x27;,\n",
       "       &#x27;2020-01-01T00:00:00.000000000&#x27;], dtype=&#x27;datetime64[ns]&#x27;)</pre></div></li><li class='xr-var-item'><div class='xr-var-name'><span class='xr-has-index'>y</span></div><div class='xr-var-dims'>(y)</div><div class='xr-var-dtype'>float64</div><div class='xr-var-preview xr-preview'>-3.93e+06 -3.93e+06 ... -3.954e+06</div><input id='attrs-5462179e-ec00-44dc-97f8-cfa41b38f957' class='xr-var-attrs-in' type='checkbox' ><label for='attrs-5462179e-ec00-44dc-97f8-cfa41b38f957' title='Show/Hide attributes'><svg class='icon xr-icon-file-text2'><use xlink:href='#icon-file-text2'></use></svg></label><input id='data-fbd48a5d-1d08-43cd-9be4-a43360ccd815' class='xr-var-data-in' type='checkbox'><label for='data-fbd48a5d-1d08-43cd-9be4-a43360ccd815' title='Show/Hide data repr'><svg class='icon xr-icon-database'><use xlink:href='#icon-database'></use></svg></label><div class='xr-var-attrs'><dl class='xr-attrs'><dt><span>units :</span></dt><dd>metre</dd><dt><span>resolution :</span></dt><dd>-25.0</dd><dt><span>crs :</span></dt><dd>EPSG:3577</dd></dl></div><div class='xr-var-data'><pre>array([-3929587.5, -3929612.5, -3929637.5, ..., -3954062.5, -3954087.5,\n",
       "       -3954112.5])</pre></div></li><li class='xr-var-item'><div class='xr-var-name'><span class='xr-has-index'>x</span></div><div class='xr-var-dims'>(x)</div><div class='xr-var-dtype'>float64</div><div class='xr-var-preview xr-preview'>1.569e+06 1.569e+06 ... 1.59e+06</div><input id='attrs-c1642976-b53a-4b09-bf12-3e1e729a2ae1' class='xr-var-attrs-in' type='checkbox' ><label for='attrs-c1642976-b53a-4b09-bf12-3e1e729a2ae1' title='Show/Hide attributes'><svg class='icon xr-icon-file-text2'><use xlink:href='#icon-file-text2'></use></svg></label><input id='data-63423843-eccd-40ad-aa9a-7b6902a47521' class='xr-var-data-in' type='checkbox'><label for='data-63423843-eccd-40ad-aa9a-7b6902a47521' title='Show/Hide data repr'><svg class='icon xr-icon-database'><use xlink:href='#icon-database'></use></svg></label><div class='xr-var-attrs'><dl class='xr-attrs'><dt><span>units :</span></dt><dd>metre</dd><dt><span>resolution :</span></dt><dd>25.0</dd><dt><span>crs :</span></dt><dd>EPSG:3577</dd></dl></div><div class='xr-var-data'><pre>array([1569212.5, 1569237.5, 1569262.5, ..., 1590187.5, 1590212.5, 1590237.5])</pre></div></li><li class='xr-var-item'><div class='xr-var-name'><span>spatial_ref</span></div><div class='xr-var-dims'>()</div><div class='xr-var-dtype'>int32</div><div class='xr-var-preview xr-preview'>3577</div><input id='attrs-bd8d9a2b-121e-44a6-85e2-811b272c4491' class='xr-var-attrs-in' type='checkbox' ><label for='attrs-bd8d9a2b-121e-44a6-85e2-811b272c4491' title='Show/Hide attributes'><svg class='icon xr-icon-file-text2'><use xlink:href='#icon-file-text2'></use></svg></label><input id='data-6e8ceb78-1ba4-445a-b6ab-a2d71b11cace' class='xr-var-data-in' type='checkbox'><label for='data-6e8ceb78-1ba4-445a-b6ab-a2d71b11cace' title='Show/Hide data repr'><svg class='icon xr-icon-database'><use xlink:href='#icon-database'></use></svg></label><div class='xr-var-attrs'><dl class='xr-attrs'><dt><span>spatial_ref :</span></dt><dd>PROJCS[&quot;GDA94 / Australian Albers&quot;,GEOGCS[&quot;GDA94&quot;,DATUM[&quot;Geocentric_Datum_of_Australia_1994&quot;,SPHEROID[&quot;GRS 1980&quot;,6378137,298.257222101,AUTHORITY[&quot;EPSG&quot;,&quot;7019&quot;]],AUTHORITY[&quot;EPSG&quot;,&quot;6283&quot;]],PRIMEM[&quot;Greenwich&quot;,0,AUTHORITY[&quot;EPSG&quot;,&quot;8901&quot;]],UNIT[&quot;degree&quot;,0.0174532925199433,AUTHORITY[&quot;EPSG&quot;,&quot;9122&quot;]],AUTHORITY[&quot;EPSG&quot;,&quot;4283&quot;]],PROJECTION[&quot;Albers_Conic_Equal_Area&quot;],PARAMETER[&quot;latitude_of_center&quot;,0],PARAMETER[&quot;longitude_of_center&quot;,132],PARAMETER[&quot;standard_parallel_1&quot;,-18],PARAMETER[&quot;standard_parallel_2&quot;,-36],PARAMETER[&quot;false_easting&quot;,0],PARAMETER[&quot;false_northing&quot;,0],UNIT[&quot;metre&quot;,1,AUTHORITY[&quot;EPSG&quot;,&quot;9001&quot;]],AXIS[&quot;Easting&quot;,EAST],AXIS[&quot;Northing&quot;,NORTH],AUTHORITY[&quot;EPSG&quot;,&quot;3577&quot;]]</dd><dt><span>grid_mapping_name :</span></dt><dd>albers_conical_equal_area</dd></dl></div><div class='xr-var-data'><pre>array(3577, dtype=int32)</pre></div></li></ul></div></li><li class='xr-section-item'><input id='section-50f1c7f8-4c5c-4679-ba90-3d1f976087cc' class='xr-section-summary-in' type='checkbox'  checked><label for='section-50f1c7f8-4c5c-4679-ba90-3d1f976087cc' class='xr-section-summary' >Data variables: <span>(1)</span></label><div class='xr-section-inline-details'></div><div class='xr-section-details'><ul class='xr-var-list'><li class='xr-var-item'><div class='xr-var-name'><span>level3</span></div><div class='xr-var-dims'>(time, y, x)</div><div class='xr-var-dtype'>uint8</div><div class='xr-var-preview xr-preview'>112 112 112 112 ... 112 112 112 112</div><input id='attrs-9875c08f-58e6-4ef1-887b-507bd5fe198f' class='xr-var-attrs-in' type='checkbox' ><label for='attrs-9875c08f-58e6-4ef1-887b-507bd5fe198f' title='Show/Hide attributes'><svg class='icon xr-icon-file-text2'><use xlink:href='#icon-file-text2'></use></svg></label><input id='data-7c3be584-844e-4eca-85bf-3332f3cdb44f' class='xr-var-data-in' type='checkbox'><label for='data-7c3be584-844e-4eca-85bf-3332f3cdb44f' title='Show/Hide data repr'><svg class='icon xr-icon-database'><use xlink:href='#icon-database'></use></svg></label><div class='xr-var-attrs'><dl class='xr-attrs'><dt><span>units :</span></dt><dd>1</dd><dt><span>nodata :</span></dt><dd>0</dd><dt><span>crs :</span></dt><dd>EPSG:3577</dd><dt><span>grid_mapping :</span></dt><dd>spatial_ref</dd></dl></div><div class='xr-var-data'><pre>array([[[112, 112, 112, ..., 112, 111, 111],\n",
       "        [112, 112, 112, ..., 112, 112, 112],\n",
       "        [112, 112, 112, ..., 111, 111, 111],\n",
       "        ...,\n",
       "        [112, 112, 112, ..., 112, 112, 112],\n",
       "        [112, 112, 112, ..., 112, 112, 112],\n",
       "        [112, 112, 112, ..., 112, 112, 112]],\n",
       "\n",
       "       [[112, 112, 112, ..., 112, 112, 112],\n",
       "        [112, 112, 112, ..., 111, 112, 111],\n",
       "        [112, 112, 112, ..., 111, 111, 111],\n",
       "        ...,\n",
       "        [112, 112, 112, ..., 112, 112, 112],\n",
       "        [112, 112, 112, ..., 112, 112, 112],\n",
       "        [112, 112, 112, ..., 112, 112, 112]],\n",
       "\n",
       "       [[112, 112, 112, ..., 111, 112, 111],\n",
       "        [112, 112, 112, ..., 111, 112, 111],\n",
       "        [112, 112, 112, ..., 111, 111, 111],\n",
       "        ...,\n",
       "...\n",
       "        ...,\n",
       "        [112, 112, 112, ..., 112, 112, 112],\n",
       "        [112, 112, 112, ..., 112, 112, 112],\n",
       "        [112, 112, 112, ..., 112, 112, 112]],\n",
       "\n",
       "       [[112, 112, 112, ..., 112, 112, 112],\n",
       "        [112, 112, 112, ..., 112, 112, 112],\n",
       "        [112, 112, 112, ..., 112, 112, 112],\n",
       "        ...,\n",
       "        [112, 112, 112, ..., 112, 112, 112],\n",
       "        [112, 112, 112, ..., 112, 112, 112],\n",
       "        [112, 112, 112, ..., 112, 112, 112]],\n",
       "\n",
       "       [[112, 112, 112, ..., 111, 112, 111],\n",
       "        [112, 112, 112, ..., 111, 111, 111],\n",
       "        [112, 112, 112, ..., 111, 111, 111],\n",
       "        ...,\n",
       "        [112, 112, 112, ..., 112, 112, 112],\n",
       "        [112, 112, 112, ..., 112, 112, 112],\n",
       "        [112, 112, 112, ..., 112, 112, 112]]], dtype=uint8)</pre></div></li></ul></div></li><li class='xr-section-item'><input id='section-9cb10202-3ad5-45a4-ba73-d16d5e53a0fa' class='xr-section-summary-in' type='checkbox'  checked><label for='section-9cb10202-3ad5-45a4-ba73-d16d5e53a0fa' class='xr-section-summary' >Attributes: <span>(2)</span></label><div class='xr-section-inline-details'></div><div class='xr-section-details'><dl class='xr-attrs'><dt><span>crs :</span></dt><dd>EPSG:3577</dd><dt><span>grid_mapping :</span></dt><dd>spatial_ref</dd></dl></div></li></ul></div></div>"
      ],
      "text/plain": [
       "<xarray.Dataset>\n",
       "Dimensions:      (time: 33, y: 982, x: 842)\n",
       "Coordinates:\n",
       "  * time         (time) datetime64[ns] 1988-01-01 1989-01-01 ... 2020-01-01\n",
       "  * y            (y) float64 -3.93e+06 -3.93e+06 ... -3.954e+06 -3.954e+06\n",
       "  * x            (x) float64 1.569e+06 1.569e+06 1.569e+06 ... 1.59e+06 1.59e+06\n",
       "    spatial_ref  int32 3577\n",
       "Data variables:\n",
       "    level3       (time, y, x) uint8 112 112 112 112 111 ... 112 112 112 112 112\n",
       "Attributes:\n",
       "    crs:           EPSG:3577\n",
       "    grid_mapping:  spatial_ref"
      ]
     },
     "execution_count": 6,
     "metadata": {},
     "output_type": "execute_result"
    }
   ],
   "source": [
    "# Have a look at the data we loaded\n",
    "all_data"
   ]
  },
  {
   "cell_type": "code",
   "execution_count": 7,
   "id": "d91b4a1e-c992-4d72-b0ac-98976d8a7967",
   "metadata": {},
   "outputs": [],
   "source": [
    "# Select Level 3\n",
    "level3 = all_data.level3"
   ]
  },
  {
   "cell_type": "markdown",
   "id": "ac8c7b5d-3a6d-495e-a33a-500680671d76",
   "metadata": {},
   "source": [
    "## Visualise the data and select point for pixel drill\n",
    "\n",
    "This plot has an interactive function enabled which allows users to select a specific point to analyse in greater detail further down the notebook. \n",
    "To use this feature, select a point on the plot you wish to interrogate by clicking on it with your mouse. \n",
    "Then run the next code cell below. \n",
    "The point you selected will then be highlighted on this plot with a red dot.\n",
    "The most recent year has been set as default to visualise in this step.\n",
    "\n",
    "#### Troubleshooting:\n",
    "You can move the dot by clicking on a new location and then re-running the next cell after the interactive plot again. \n",
    "Unless you have since completed the notebook and generated the graph at the end, in which case you need to re-run this code first in order to re-generate the interactive plot before selecting a new point.\n",
    "If you click multiple times on the plot before running the next piece of code only the most recent location will be used.\n",
    "If you run into trouble, restarting the kernel of the notebook and running from the first cell again may help."
   ]
  },
  {
   "cell_type": "code",
   "execution_count": null,
   "id": "74a6bfd7-2339-4f25-92ed-337aa282b93b",
   "metadata": {},
   "outputs": [],
   "source": [
    "# Build the colour map for level 3\n",
    "layer_cmap, layer_norm = lc_colourmap(\"level3\")\n",
    "\n",
    "# Select year to plot\n",
    "plot_year = \"2020\"\n",
    "\n",
    "# Create interactive plot\n",
    "fig, ax = plt.subplots(figsize=(6, 6))\n",
    "ax = plt.imshow(\n",
    "    level3.sel(time=plot_year, method=\"nearest\").squeeze(),\n",
    "    cmap=layer_cmap,\n",
    "    norm=layer_norm,\n",
    "    interpolation=\"nearest\",\n",
    ")\n",
    "cid = fig.canvas.mpl_connect(\"button_press_event\", click_for_coords)\n",
    "plt.title(\"Interactive Plot\")\n",
    "\n",
    "plt.show()"
   ]
  },
  {
   "cell_type": "markdown",
   "id": "6aa3be7c-571b-4de9-999d-06c4a590f297",
   "metadata": {},
   "source": [
    "### Run next cell to **enter** or **update** selected point"
   ]
  },
  {
   "cell_type": "code",
   "execution_count": 9,
   "id": "540786f2-7a2b-4ea4-acfb-1474b00141fe",
   "metadata": {},
   "outputs": [
    {
     "data": {
      "text/plain": [
       "<matplotlib.collections.PathCollection at 0x7fbd51522fd0>"
      ]
     },
     "execution_count": 9,
     "metadata": {},
     "output_type": "execute_result"
    }
   ],
   "source": [
    "# Enter selected point\n",
    "plt.clf()\n",
    "ax = plt.imshow(\n",
    "    level3.sel(time=plot_year, method=\"nearest\").squeeze(),\n",
    "    cmap=layer_cmap,\n",
    "    norm=layer_norm,\n",
    "    interpolation=\"nearest\",\n",
    ")\n",
    "plt.scatter(x=ix, y=iy, c=\"r\", s=80)"
   ]
  },
  {
   "cell_type": "markdown",
   "id": "dab68ec3-99ca-4047-9fc2-90ee765ac732",
   "metadata": {},
   "source": [
    "#### Troubleshooting:\n",
    "If an error is appearing above this test saying <code><span style=\"color:red\">NameError</span>: name 'ix' is not defined</code> you have not chosen a point to conduct the pixel drill on or entered it. \n",
    "Please select a point on the interactive plot and run the cell above to enter the point."
   ]
  },
  {
   "cell_type": "markdown",
   "id": "765909f2-0005-47a2-86ed-723191338996",
   "metadata": {},
   "source": [
    "## Conduct pixel drill"
   ]
  },
  {
   "cell_type": "code",
   "execution_count": 10,
   "id": "e23552ce-bcc7-4204-8a1e-60de6667cf7e",
   "metadata": {},
   "outputs": [],
   "source": [
    "# Find nearest whole number value for x,y\n",
    "xcoord = int(ix)\n",
    "ycoord = int(iy)\n",
    "\n",
    "# Conduct pixel drill on loaded dataset\n",
    "pixel_timeseries = level3.isel(\n",
    "    x=xcoord,\n",
    "    y=ycoord,\n",
    ")\n",
    "\n",
    "# Rescale the range of Level 3 classes for beautiful plotting\n",
    "new_data = rescale_level3(pixel_timeseries)"
   ]
  },
  {
   "cell_type": "markdown",
   "id": "e3c399b9-bee2-489c-9375-94f95a3d52ae",
   "metadata": {},
   "source": [
    "## Plot land cover history of the chosen point"
   ]
  },
  {
   "cell_type": "markdown",
   "id": "07f67622-8100-4066-ad11-47399195e482",
   "metadata": {},
   "source": [
    "To visualise the results of the pixel drill we will generate a line graph with the time on the x axis and the land cover classes on the y axis. \n",
    "The following code also re-labels the y axis with the proper names of the land cover classes to make the plot easily readable."
   ]
  },
  {
   "cell_type": "code",
   "execution_count": null,
   "id": "258b5de0-fe7d-4e24-8b90-a3a88910e5af",
   "metadata": {},
   "outputs": [],
   "source": [
    "# Define new figure and plot\n",
    "fig, ax = plt.subplots(figsize=(8, 4))\n",
    "\n",
    "# Relabel y axis with Level 3 class names\n",
    "number_labels = (0, 1, 2, 3, 4, 5, 6)\n",
    "label_classes = (\n",
    "    \"No Data\",\n",
    "    \"Cultivated Terrestrial\\n Vegetation\",\n",
    "    \"Natural Terrestrial\\n Vegetation\",\n",
    "    \"Natural Aquatic\\n Vegetation\",\n",
    "    \"Artificial Surface\",\n",
    "    \"Natural Bare\\n Surface\",\n",
    "    \"Water\",\n",
    ")\n",
    "plt.yticks(number_labels, label_classes)\n",
    "\n",
    "# Add data to plot\n",
    "new_data.plot(linestyle=\"--\", c=\"b\", marker=\"8\", mec=\"b\", mfc=\"b\")\n",
    "plt.xlabel(\"year\")\n",
    "plt.ylabel(\"Level 3 Land Cover class\")\n",
    "plt.title(\"Land Cover History for Selected Point\")\n",
    "plt.grid()\n",
    "plt.tight_layout()\n",
    "plt.show"
   ]
  },
  {
   "cell_type": "markdown",
   "id": "ff5e08a2-38f8-4cc8-96d0-6c947c12ad4f",
   "metadata": {},
   "source": [
    "***\n",
    "\n",
    "## Additional information\n",
    "\n",
    "**License:** The code in this notebook is licensed under the [Apache License, Version 2.0](https://www.apache.org/licenses/LICENSE-2.0). \n",
    "Digital Earth Australia data is licensed under the [Creative Commons by Attribution 4.0](https://creativecommons.org/licenses/by/4.0/) license.\n",
    "\n",
    "**Contact:** If you need assistance, please post a question on the [Open Data Cube Slack channel](http://slack.opendatacube.org/) or on the [GIS Stack Exchange](https://gis.stackexchange.com/questions/ask?tags=open-data-cube) using the `open-data-cube` tag (you can view previously asked questions [here](https://gis.stackexchange.com/questions/tagged/open-data-cube)).\n",
    "If you would like to report an issue with this notebook, you can file one on [Github](https://github.com/GeoscienceAustralia/dea-notebooks).\n",
    "\n",
    "**Last modified:** December 2023\n",
    "\n",
    "**Compatible datacube version:** "
   ]
  },
  {
   "cell_type": "code",
   "execution_count": 12,
   "id": "6834d671-ccc4-46c7-b50f-8243de32fcc2",
   "metadata": {},
   "outputs": [
    {
     "name": "stdout",
     "output_type": "stream",
     "text": [
      "1.8.6\n"
     ]
    }
   ],
   "source": [
    "print(datacube.__version__)"
   ]
  },
  {
   "cell_type": "raw",
   "id": "24d2ba56-48bc-4c13-afd5-e3a744cae330",
   "metadata": {},
   "source": [
    "**Tags**: :index:`sandbox compatible`, :index:`landsat 5`, :index:`landsat 7`, :index:`landsat 8`, :index:`dea_plotting`, :index:`Land Cover`, :index:`time series`"
   ]
  }
 ],
 "metadata": {
  "kernelspec": {
   "display_name": "Python 3 (ipykernel)",
   "language": "python",
   "name": "python3"
  },
  "language_info": {
   "codemirror_mode": {
    "name": "ipython",
    "version": 3
   },
   "file_extension": ".py",
   "mimetype": "text/x-python",
   "name": "python",
   "nbconvert_exporter": "python",
   "pygments_lexer": "ipython3",
   "version": "3.8.10"
  },
  "widgets": {
   "application/vnd.jupyter.widget-state+json": {
    "state": {
     "215d8ca7ccdf4817bd72aeeda61a987c": {
      "model_module": "jupyter-matplotlib",
      "model_module_version": "^0.10.0",
      "model_name": "MPLCanvasModel",
      "state": {
       "_figure_label": "Figure 2",
       "_height": 400,
       "_width": 800,
       "layout": "IPY_MODEL_54f2e2b494f544d79e69d8d0766ca8d6",
       "toolbar": "IPY_MODEL_2a71190d39fe4b56a6a7450ec66c5044",
       "toolbar_position": "left"
      }
     },
     "2a71190d39fe4b56a6a7450ec66c5044": {
      "model_module": "jupyter-matplotlib",
      "model_module_version": "^0.10.0",
      "model_name": "ToolbarModel",
      "state": {
       "layout": "IPY_MODEL_a17616aa0f5c45e0878802d274348a0f",
       "toolitems": [
        [
         "Home",
         "Reset original view",
         "home",
         "home"
        ],
        [
         "Back",
         "Back to previous view",
         "arrow-left",
         "back"
        ],
        [
         "Forward",
         "Forward to next view",
         "arrow-right",
         "forward"
        ],
        [
         "Pan",
         "Left button pans, Right button zooms\nx/y fixes axis, CTRL fixes aspect",
         "arrows",
         "pan"
        ],
        [
         "Zoom",
         "Zoom to rectangle\nx/y fixes axis, CTRL fixes aspect",
         "square-o",
         "zoom"
        ],
        [
         "Download",
         "Download plot",
         "floppy-o",
         "save_figure"
        ]
       ]
      }
     },
     "54f2e2b494f544d79e69d8d0766ca8d6": {
      "model_module": "@jupyter-widgets/base",
      "model_module_version": "1.2.0",
      "model_name": "LayoutModel",
      "state": {}
     },
     "6aa9b4dc6cd146a39e5cd36f9640f559": {
      "model_module": "jupyter-matplotlib",
      "model_module_version": "^0.10.0",
      "model_name": "ToolbarModel",
      "state": {
       "layout": "IPY_MODEL_fead9e1fe3a04d13aaa2603f27830e2f",
       "toolitems": [
        [
         "Home",
         "Reset original view",
         "home",
         "home"
        ],
        [
         "Back",
         "Back to previous view",
         "arrow-left",
         "back"
        ],
        [
         "Forward",
         "Forward to next view",
         "arrow-right",
         "forward"
        ],
        [
         "Pan",
         "Left button pans, Right button zooms\nx/y fixes axis, CTRL fixes aspect",
         "arrows",
         "pan"
        ],
        [
         "Zoom",
         "Zoom to rectangle\nx/y fixes axis, CTRL fixes aspect",
         "square-o",
         "zoom"
        ],
        [
         "Download",
         "Download plot",
         "floppy-o",
         "save_figure"
        ]
       ]
      }
     },
     "a17616aa0f5c45e0878802d274348a0f": {
      "model_module": "@jupyter-widgets/base",
      "model_module_version": "1.2.0",
      "model_name": "LayoutModel",
      "state": {}
     },
     "d089e7da145b4349b95465bd8521bbb0": {
      "model_module": "@jupyter-widgets/base",
      "model_module_version": "1.2.0",
      "model_name": "LayoutModel",
      "state": {}
     },
     "f7098cad222c4f4090ec76d1a692cd66": {
      "model_module": "jupyter-matplotlib",
      "model_module_version": "^0.10.0",
      "model_name": "MPLCanvasModel",
      "state": {
       "_cursor": "default",
       "_figure_label": "Figure 1",
       "_height": 600,
       "_image_mode": "diff",
       "_width": 600,
       "layout": "IPY_MODEL_d089e7da145b4349b95465bd8521bbb0",
       "toolbar": "IPY_MODEL_6aa9b4dc6cd146a39e5cd36f9640f559",
       "toolbar_position": "left"
      }
     },
     "fead9e1fe3a04d13aaa2603f27830e2f": {
      "model_module": "@jupyter-widgets/base",
      "model_module_version": "1.2.0",
      "model_name": "LayoutModel",
      "state": {}
     }
    },
    "version_major": 2,
    "version_minor": 0
   }
  }
 },
 "nbformat": 4,
 "nbformat_minor": 5
}
