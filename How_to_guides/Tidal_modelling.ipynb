{
 "cells": [
  {
   "cell_type": "markdown",
   "metadata": {},
   "source": [
    "# Combining satellite data with tidal modelling <img align=\"right\" src=\"../Supplementary_data/dea_logo.jpg\">\n",
    "\n",
    "* **[Sign up to the DEA Sandbox](https://app.sandbox.dea.ga.gov.au/)** to run this notebook interactively from a browser\n",
    "* **Compatibility:** Notebook currently compatible with the `DEA Sandbox` environment only\n",
    "* **Products used:** \n",
    "[ga_ls8c_ard_3](https://explorer.dea.ga.gov.au/ga_ls8c_ard_3)"
   ]
  },
  {
   "cell_type": "markdown",
   "metadata": {},
   "source": [
    "## Background\n",
    "\n",
    "Ocean tides are the periodic rise and fall of the ocean caused by the gravitational pull of the moon and sun and the earth's rotation. \n",
    "Tides in coastal areas can greatly influence how these environments appear in satellite imagery as water levels vary by up to 12 metres (e.g. in north-western Australia).\n",
    "To be able to study coastal environments and processes along Australia's coastline, it is vital to obtain data on tidal conditions at the exact moment each satellite image was acquired.\n",
    "\n",
    "## Description\n",
    "This notebook demonstrates how to combine remotely sensed imagery with information about ocean tides using functions from the [`dea_tools.coastal` module](../Tools/dea_tools/coastal.py), allowing us to analyse satellite imagery by tidal stage (e.g. low, high, ebb, flow). \n",
    "These functions use the [Finite Element Solution 2014 (FES2014) tidal model](https://os.copernicus.org/articles/17/615/2021/) to calculate the height (relative to mean sea level, i.e. approximately equivalent to the Australian Height Datum or AHD) and stage of the tide at the exact moment each satellite image was acquired. \n",
    "\n",
    "These tide modelling tools and tide models underpin DEA products including [DEA Coastlines](../DEA_products/DEA_Coastlines.ipynb) and [DEA Intertidal](../DEA_products/DEA_Intertidal.ipynb).\n",
    "\n",
    "The notebook demonstrates how to:\n",
    "\n",
    "1. Model tide heights for specific coordinates and times using the `model_tides` function\n",
    "2. Model tide heights for each satellite observation using the `tidal_tag` function\n",
    "3. Use tide height data to produce median composites of the coast at low and high tide\n",
    "4. Swap a dataset's dimensions to make it easier to select imagery from low to high tide.\n",
    "5. Compute ebb or flow tide phase data to determine whether water levels were rising or falling in each satellite observation\n",
    "\n",
    "Advanced tools:\n",
    "\n",
    "6. Spatially model tides into each pixel of a satellite dataset using `pixel_tides`\n",
    "7. Evaluate potential biases in the tides observed by a satellite using `tidal_stats`\n",
    "\n",
    "***"
   ]
  },
  {
   "cell_type": "markdown",
   "metadata": {},
   "source": [
    "## Getting started\n",
    "To run this analysis, run all the cells in the notebook, starting with the \"Load packages\" cell. "
   ]
  },
  {
   "cell_type": "markdown",
   "metadata": {},
   "source": [
    "### Load packages\n"
   ]
  },
  {
   "cell_type": "code",
   "execution_count": null,
   "metadata": {
    "tags": []
   },
   "outputs": [],
   "source": [
    "pip install git+https://github.com/tsutterley/pyTMD.git"
   ]
  },
  {
   "cell_type": "code",
   "execution_count": null,
   "metadata": {},
   "outputs": [],
   "source": [
    "pip install git+https://github.com/tsutterley/pyTMD.git"
   ]
  },
  {
   "cell_type": "code",
   "execution_count": null,
   "metadata": {
    "tags": []
   },
   "outputs": [],
   "source": [
    "pip install pyTMD==2.1.3"
   ]
  },
  {
   "cell_type": "code",
   "execution_count": 1,
   "metadata": {
    "tags": []
   },
   "outputs": [],
   "source": [
    "%load_ext autoreload\n",
    "%autoreload 2\n",
    "\n",
    "import datacube\n",
    "import xarray as xr\n",
    "import pandas as pd\n",
    "import matplotlib.pyplot as plt\n",
    "from datacube.utils.masking import mask_invalid_data\n",
    "\n",
    "import sys\n",
    "\n",
    "sys.path.insert(1, \"../Tools/\")\n",
    "from dea_tools.datahandling import load_ard\n",
    "from dea_tools.plotting import rgb, display_map\n",
    "from dea_tools.coastal import model_tides, tidal_tag, pixel_tides, tidal_stats\n",
    "\n",
    "import os\n",
    "\n"
   ]
  },
  {
   "cell_type": "code",
   "execution_count": 2,
   "metadata": {
    "tags": []
   },
   "outputs": [
    {
     "data": {
      "text/plain": [
       "masked_array(data=[-2.6231363277730178, -1.8025663625134685],\n",
       "             mask=[False, False],\n",
       "       fill_value=nan)"
      ]
     },
     "execution_count": 2,
     "metadata": {},
     "output_type": "execute_result"
    }
   ],
   "source": [
    "# %%timeit -n 1 -r 1\n",
    "\n",
    "\n",
    "from pyTMD.compute import tide_elevations\n",
    "import pandas as pd\n",
    "\n",
    "out = tide_elevations(\n",
    "    x=[122.14],\n",
    "    y=[-17.9],\n",
    "    delta_time=pd.date_range(\"2020\", \"2021\", periods=2),\n",
    "    DIRECTORY=\"/gdata1/data/tide_models_clipped/\",\n",
    "    MODEL=\"HAMTIDE11\",\n",
    "    EPSG=4326,\n",
    "    TIME=\"datetime\",\n",
    "    EXTRAPOLATE=True,\n",
    ")\n",
    "\n",
    "out\n",
    "\n",
    "# from pyTMD.compute_tide_corrections import compute_tide_corrections\n",
    "\n",
    "# out = compute_tide_corrections(\n",
    "#     x=[122.14],\n",
    "#     y=[-17.9],\n",
    "#     delta_time=pd.date_range(\"2020\", \"2021\", periods=2),\n",
    "#     DIRECTORY=\"/gdata1/data/tide_models_clipped/\",\n",
    "#     MODEL=\"HAMTIDE11\",\n",
    "#     EPSG=4326,\n",
    "#     TIME=\"datetime\",\n",
    "#     EXTRAPOLATE=True,\n",
    "# )\n",
    "\n",
    "# out\n"
   ]
  },
  {
   "cell_type": "code",
   "execution_count": null,
   "metadata": {
    "tags": []
   },
   "outputs": [],
   "source": []
  },
  {
   "cell_type": "code",
   "execution_count": null,
   "metadata": {
    "tags": []
   },
   "outputs": [],
   "source": [
    "out.data"
   ]
  },
  {
   "cell_type": "code",
   "execution_count": null,
   "metadata": {
    "tags": []
   },
   "outputs": [],
   "source": [
    "import numpy as np"
   ]
  },
  {
   "cell_type": "code",
   "execution_count": null,
   "metadata": {
    "tags": []
   },
   "outputs": [],
   "source": [
    "# %%timeit -n 1 -r 1\n",
    "\n",
    "# Set of times to model tides for\n",
    "date_list = pd.date_range(start=\"2017-01-01\", end=\"2019-12-31\", freq=\"3h\")\n",
    "\n",
    "y, x = -38.337069,144.744488\n",
    "y = np.linspace(-38, -39, 10)\n",
    "x = np.linspace(144, 145, 10)\n",
    "\n",
    "os.environ[\"DEA_TOOLS_TIDE_MODELS\"] = \"/gdata1/data/tide_models_clipped\"\n",
    "\n",
    "# Run the FES2014 tidal model\n",
    "tide_df = model_tides(\n",
    "    x=x,\n",
    "    y=y,\n",
    "    model=[\"FES2022\"],\n",
    "    output_format=\"wide\",\n",
    "    method=\"bilinear\",\n",
    "    time=date_list,\n",
    ")"
   ]
  },
  {
   "cell_type": "code",
   "execution_count": null,
   "metadata": {
    "tags": []
   },
   "outputs": [],
   "source": [
    "# %%timeit -n 1 -r 1\n",
    "\n",
    "# Set of times to model tides for\n",
    "date_list = pd.date_range(start=\"2017-01-01\", end=\"2019-12-31\", freq=\"3h\")\n",
    "\n",
    "y, x = -38.337069,144.744488\n",
    "y = np.linspace(-38, -39, 1000)\n",
    "x = np.linspace(144, 145, 1000)\n",
    "\n",
    "os.environ[\"DEA_TOOLS_TIDE_MODELS\"] = \"/gdata1/data/tide_models_clipped\"\n",
    "\n",
    "# Run the FES2014 tidal model\n",
    "tide_df = model_tides(\n",
    "    x=x,\n",
    "    y=y,\n",
    "    model=[\n",
    "    \"FES2022\",\n",
    "    \"FES2014\",\n",
    "    \"TPXO9-atlas-v5\",\n",
    "    \"EOT20\",\n",
    "    \"HAMTIDE11\",\n",
    "    \"GOT4.10\",\n",
    "    \"FES2012\",\n",
    "    \"TPXO8-atlas-v1\",\n",
    "],\n",
    "    output_format=\"wide\",\n",
    "    method=\"spline\",\n",
    "    time=date_list,\n",
    "    # parallel_splits=1,\n",
    "    # crop=True,\n",
    ")"
   ]
  },
  {
   "cell_type": "code",
   "execution_count": null,
   "metadata": {
    "tags": []
   },
   "outputs": [],
   "source": [
    "# %%timeit -n 1 -r 1\n",
    "\n",
    "# Set of times to model tides for\n",
    "date_list = pd.date_range(start=\"2017-01-01\", end=\"2019-12-31\", freq=\"3h\")\n",
    "\n",
    "y, x = -38.337069,144.744488\n",
    "y = np.linspace(-38, -39, 1000)\n",
    "x = np.linspace(144, 145, 1000)\n",
    "\n",
    "os.environ[\"DEA_TOOLS_TIDE_MODELS\"] = \"/gdata1/data/tide_models_clipped\"\n",
    "\n",
    "# Run the FES2014 tidal model\n",
    "tide_df_crop = model_tides(\n",
    "    x=x,\n",
    "    y=y,\n",
    "    model=[\n",
    "    \"FES2022\",\n",
    "    \"FES2014\",\n",
    "    \"TPXO9-atlas-v5\",\n",
    "    \"EOT20\",\n",
    "    \"HAMTIDE11\",\n",
    "    \"GOT4.10\",\n",
    "    \"FES2012\",\n",
    "    \"TPXO8-atlas-v1\",\n",
    "],\n",
    "    output_format=\"wide\",\n",
    "    method=\"spline\",\n",
    "    time=date_list,\n",
    "    # parallel_splits=1,\n",
    "    crop=True,\n",
    ")"
   ]
  },
  {
   "cell_type": "code",
   "execution_count": null,
   "metadata": {
    "tags": []
   },
   "outputs": [],
   "source": [
    "# %%timeit -n 1 -r 1\n",
    "\n",
    "# ymax, xmin = -18.10, 122.10\n",
    "# ymin, xmax = -18.30, 122.30\n",
    "\n",
    "# out = tide_elevations(\n",
    "#     x=np.array([122.21, 122.20]),\n",
    "#     y=np.array([-18.20, -18.20]),\n",
    "#     delta_time=pd.date_range(start=\"2022-09-01\", end=\"2022-09-30\", freq=\"1h\"),\n",
    "#     DIRECTORY=\"/gdata1/data/tide_models_clipped/\",\n",
    "#     MODEL=\"FES2022\",\n",
    "#     EPSG=4326,\n",
    "#     TIME=\"datetime\",\n",
    "#     METHOD=\"bilinear\",\n",
    "# )\n",
    "\n",
    "# out"
   ]
  },
  {
   "cell_type": "code",
   "execution_count": null,
   "metadata": {
    "tags": []
   },
   "outputs": [],
   "source": [
    "# %%timeit -n 1 -r 1\n",
    "\n",
    "# ymax, xmin = -18.10, 122.10\n",
    "# ymin, xmax = -18.30, 122.30\n",
    "\n",
    "# out = tide_elevations(\n",
    "#     x=np.array([122.21, 122.20]),\n",
    "#     y=np.array([-18.20, -18.20]),\n",
    "#     delta_time=pd.date_range(start=\"2022-09-01\", end=\"2022-09-30\", freq=\"1h\"),\n",
    "#     DIRECTORY=\"/gdata1/data/tide_models_clipped/\",\n",
    "#     MODEL=\"FES2022\",\n",
    "#     EPSG=4326,\n",
    "#     TIME=\"datetime\",\n",
    "#     METHOD=\"spline\",\n",
    "# )\n",
    "\n",
    "# out"
   ]
  },
  {
   "cell_type": "code",
   "execution_count": null,
   "metadata": {
    "tags": []
   },
   "outputs": [],
   "source": [
    "# from pyTMD.io import model, extract_constants"
   ]
  },
  {
   "cell_type": "code",
   "execution_count": null,
   "metadata": {
    "tags": []
   },
   "outputs": [],
   "source": [
    "# pytmd_model = model(\n",
    "#             \"/gdata1/data/tide_models_test/\", format=\"netcdf\", compressed=False\n",
    "#         ).elevation(\"FES2022\")"
   ]
  },
  {
   "cell_type": "code",
   "execution_count": null,
   "metadata": {
    "tags": []
   },
   "outputs": [],
   "source": [
    "# %%timeit -n 1 -r 1\n",
    "\n",
    "# import pyTMD.io\n",
    "\n",
    "# ymax, xmin = -18.10, 122.10\n",
    "# ymin, xmax = -18.30, 122.30\n",
    "\n",
    "# out = pyTMD.io.FES.extract_constants(\n",
    "#             122.21,\n",
    "#             -18.20,\n",
    "#             pytmd_model.model_file,\n",
    "#             type=pytmd_model.type,\n",
    "#             version=pytmd_model.version,\n",
    "#             # crop=True,\n",
    "#             # bounds=[xmin, xmax, ymin, ymax],\n",
    "#             method=\"bilinear\",\n",
    "#             extrapolate=True,\n",
    "#             # cutoff=cutoff,\n",
    "#             scale=pytmd_model.scale,\n",
    "#             compressed=pytmd_model.compressed,\n",
    "#         )"
   ]
  },
  {
   "cell_type": "markdown",
   "metadata": {},
   "source": [
    "### Connect to the datacube\n"
   ]
  },
  {
   "cell_type": "code",
   "execution_count": null,
   "metadata": {
    "tags": []
   },
   "outputs": [],
   "source": [
    "dc = datacube.Datacube(app=\"Tidal_modelling\")"
   ]
  },
  {
   "cell_type": "markdown",
   "metadata": {},
   "source": [
    "## Modelling tide heights using `model_tides`\n",
    "To simply model tide heights for a specific location and set of times, we can use the `dea_tools.coastal.model_tides` function. \n",
    "For example, we can model hourly tides across a one month period (September 2022):"
   ]
  },
  {
   "cell_type": "code",
   "execution_count": null,
   "metadata": {
    "tags": []
   },
   "outputs": [],
   "source": [
    "# Set of times to model tides for\n",
    "date_list = pd.date_range(start=\"2017-01-01\", end=\"2019-12-31\", freq=\"3h\")\n",
    "\n",
    "y, x = -38.337069,144.744488\n",
    "\n",
    "os.environ[\"DEA_TOOLS_TIDE_MODELS\"] = \"/gdata1/data/tide_models_clipped\"\n",
    "\n",
    "# Run the FES2014 tidal model\n",
    "tide_df = model_tides(\n",
    "    x=[x],\n",
    "    y=[y],\n",
    "    model=[\n",
    "    \"FES2022\",\n",
    "    \"FES2014\",\n",
    "    \"TPXO9-atlas-v5\",\n",
    "    \"EOT20\",\n",
    "    \"HAMTIDE11\",\n",
    "    \"GOT4.10\",\n",
    "    \"FES2012\",\n",
    "    \"TPXO8-atlas-v1\",\n",
    "],\n",
    "    output_format=\"wide\",\n",
    "    method=\"bilinear\",\n",
    "    time=date_list,\n",
    ")\n",
    "\n",
    "# os.environ[\"DEA_TOOLS_TIDE_MODELS\"] = \"/gdata1/data/tide_models_test\"\n",
    "\n",
    "tide_df_extrap = model_tides(\n",
    "    x=[x],\n",
    "    y=[y],\n",
    "    model=[\n",
    "    \"FES2022\",\n",
    "    # \"FES2014\",\n",
    "    # \"TPXO9-atlas-v5\",\n",
    "    # \"EOT20\",\n",
    "    # \"HAMTIDE11\",\n",
    "    # \"GOT4.10\",\n",
    "    # \"FES2012\",\n",
    "    # \"TPXO8-atlas-v1\",\n",
    "],\n",
    "    output_format=\"wide\",\n",
    "    time=date_list,\n",
    "    method=\"bilinear\",\n",
    "    extrapolate=True,\n",
    ")\n",
    "\n",
    "# Add tide to dataframe\n",
    "tide_df[\"FES2022_extrap\"] = tide_df_extrap.FES2022\n",
    "\n",
    "# Print outputs\n",
    "tide_df.head()"
   ]
  },
  {
   "cell_type": "code",
   "execution_count": null,
   "metadata": {
    "tags": []
   },
   "outputs": [],
   "source": []
  },
  {
   "cell_type": "code",
   "execution_count": null,
   "metadata": {
    "tags": []
   },
   "outputs": [],
   "source": [
    "((tide_df.reset_index([\"x\", \"y\"], drop=True)).resample(\"1M\").max() * 2).plot(figsize=(10, 10));"
   ]
  },
  {
   "cell_type": "code",
   "execution_count": null,
   "metadata": {
    "tags": []
   },
   "outputs": [],
   "source": [
    "# !cp -r /gdata1/data/tide_models/fes2022b/ocean_tide_extrapolated /gdata1/data/tide_models_test/fes2022b/ocean_tide_extrapolated"
   ]
  },
  {
   "cell_type": "markdown",
   "metadata": {},
   "source": [
    "Tide heights for each time and coordinate are included in the `tide_m` column above  (representing tide height in metres relative to Mean Sea Level).\n",
    "\n",
    "We can also plot out resulting tides to view how tides changed across this month. \n",
    "By looking at the y-axis, we can see that tides ranged from a minimum of ~-4 metres up to a maximum of +4 metres relative to Mean Sea Level:"
   ]
  },
  {
   "cell_type": "code",
   "execution_count": null,
   "metadata": {},
   "outputs": [],
   "source": [
    "ax = (tide_df.reset_index([\"x\", \"y\"], drop=True).resample(\"1M\").max() * 2).rename({\"tide_m\": \"no extrapolat\"}, axis=1).plot(figsize=(10, 10));\n",
    "(tide_df_extrap.reset_index([\"x\", \"y\"], drop=True).resample(\"1M\").max() * 2).rename({\"tide_m\": \"extrapolated\"}, axis=1).plot(ax=ax)"
   ]
  },
  {
   "cell_type": "code",
   "execution_count": null,
   "metadata": {
    "tags": []
   },
   "outputs": [],
   "source": [
    "(tide_df_extrap.reset_index([\"x\", \"y\"], drop=True).resample(\"1M\").max() * 2).plot(figsize=(10, 10));"
   ]
  },
  {
   "cell_type": "code",
   "execution_count": null,
   "metadata": {},
   "outputs": [],
   "source": [
    "tide_df_extrap"
   ]
  },
  {
   "cell_type": "markdown",
   "metadata": {},
   "source": [
    "### \"One-to-many\" and \"one-to-one\" modes\n",
    "\n",
    "By default, the `model_tides` function operates in **\"one-to-many\"** mode, which will model tides for every requested timestep, at every requested location.\n",
    "For example, if we provided five x, y coordinates and five timesteps, the function would return:\n",
    "```\n",
    "5 locations * 5 timesteps = 25 modelled tides\n",
    "```\n",
    "\n",
    "However, often you may have a list of locations and matching timesteps.\n",
    "Using **\"one-to-one\"** mode, we can model tides for only these exact pairs of locations and times:\n",
    "```\n",
    "5 timesteps at 5 locations = 5 modelled tides\n",
    "```\n",
    "\n",
    "To demonstrate \"one-to-one\" mode, imagine we have a `pandas.Dataframe` where each row contains unique site locations and times:"
   ]
  },
  {
   "cell_type": "code",
   "execution_count": null,
   "metadata": {
    "tags": []
   },
   "outputs": [],
   "source": [
    "sites_df = pd.DataFrame({\n",
    "    \"time\": pd.date_range(start=\"2022-09-01\", end=\"2022-09-30\", periods=5),\n",
    "    \"x\": [122.21, 122.22, 122.23, 122.24, 122.25],\n",
    "    \"y\": [-18.20, -18.20, -18.20, -18.20, -18.20]\n",
    "})\n",
    "\n",
    "sites_df"
   ]
  },
  {
   "cell_type": "markdown",
   "metadata": {},
   "source": [
    "Using \"one-to-one\" mode, we can model a tide height for each row in our dataframe, and add it as a new dataframe column:"
   ]
  },
  {
   "cell_type": "code",
   "execution_count": null,
   "metadata": {
    "tags": []
   },
   "outputs": [],
   "source": [
    "# Model tides in \"one-to-one\" mode\n",
    "tide_df = model_tides(\n",
    "    x=sites_df.x,\n",
    "    y=sites_df.y,\n",
    "    time=sites_df.time,\n",
    "    mode=\"one-to-one\",\n",
    ")\n",
    "\n",
    "# Add results as a new datframe column\n",
    "sites_df[\"tide_height\"] = tide_df.tide_m.values\n",
    "sites_df.style.set_properties(**{\"background-color\": \"#FFFF8F\"}, subset=[\"tide_height\"])"
   ]
  },
  {
   "cell_type": "markdown",
   "metadata": {
    "tags": []
   },
   "source": [
    "## Modelling tide heights for each satellite observation using `tidal_tag`\n",
    "\n",
    "However, often it is valuable to estimate the height of the tide at the exact moment satellite images were taken over a coastline.\n",
    "This can help sort and filter images by tide height, allowing us to learn more about how coastal environments respond to the effect of changing tides.\n",
    "\n",
    "To demonstrate how this can be done, we first need to load in an example time series of satellite imagery.\n",
    "\n",
    "### Set up data query\n",
    "\n",
    "First we set up a query to define the area, time period and other parameters required for loading data.\n",
    "In this example, we will load several years of Landsat 8 data for intertidal mud flats **south of Broome in Western Australia**.\n",
    "We load the `'nbart_red', 'nbart_green', 'nbart_blue'` bands so that we can plot the data as true colour imagery.\n",
    "\n",
    "> The `dask_chunks` parameter allows us to [use Dask](https://examples.dask.org/xarray.html) to lazily load data rather than load data directly into memory, which can take a long time and large amounts of memory.\n",
    "Lazy loading can be a very useful approach for when you need to load large amounts of data without crashing your analysis.\n",
    "In coastal applications, it allows us to load (using either `.compute()` or by plotting our data) only a small subset of observations from our entire time series (e.g. only low or high tide observations) without having to load the entire dataset into memory first, which can greatly decrease processing times.\n",
    ">\n",
    "> For more information about using Dask, refer to the [Parallel processing with Dask](../Beginners_guide/09_Parallel_processing_with_Dask.ipynb) notebook."
   ]
  },
  {
   "cell_type": "code",
   "execution_count": null,
   "metadata": {},
   "outputs": [],
   "source": [
    "# Set up data load query\n",
    "query = {\n",
    "    \"x\": (122.15, 122.26),\n",
    "    \"y\": (-18.14, -18.24),\n",
    "    \"time\": (\"2020-01\", \"2020-06\"),\n",
    "    \"measurements\": [\"nbart_red\", \"nbart_green\", \"nbart_blue\"],\n",
    "    \"group_by\": \"solar_day\",\n",
    "    \"dask_chunks\": {},\n",
    "}"
   ]
  },
  {
   "cell_type": "markdown",
   "metadata": {},
   "source": [
    "We can preview the area that we will load data for:"
   ]
  },
  {
   "cell_type": "code",
   "execution_count": null,
   "metadata": {},
   "outputs": [],
   "source": [
    "display_map(x=query['x'], y=query['y'])"
   ]
  },
  {
   "cell_type": "markdown",
   "metadata": {
    "tags": []
   },
   "source": [
    "### Load satellite time-series\n",
    "\n",
    "To obtain some satellite data to analyse, we use the `load_ard` function to import a time series of Landsat 8 observations as an `xarray.Dataset`.\n",
    "The input data does not need to be from Landsat: any remotely-sensed imagery with timestamps and spatial coordinates provide enough data to run the tidal model. "
   ]
  },
  {
   "cell_type": "code",
   "execution_count": null,
   "metadata": {},
   "outputs": [],
   "source": [
    "# Load available data from Landsat 8\n",
    "ds = load_ard(\n",
    "    dc=dc,\n",
    "    products=[\"ga_ls8c_ard_3\"],\n",
    "    mask_pixel_quality=False,\n",
    "    cloud_cover=(0, 10),  # load only scenes with <10% cloud\n",
    "    **query\n",
    ")\n",
    "\n",
    "# Set nodata to NaN and print output\n",
    "ds = mask_invalid_data(ds)\n",
    "ds"
   ]
  },
  {
   "cell_type": "markdown",
   "metadata": {
    "tags": []
   },
   "source": [
    "### \"Tagging\" each satellite image with tide height metadata\n",
    "\n",
    "We can now use the `tidal_tag` function from `dea_tools.coastal` to \"tag\" or associate each satellite observation in our time series with a tide height relative to mean sea level (i.e. approximately equivalent to the Australian Height Datum or AHD).\n",
    "This function uses the time and date of acquisition and the geographic location of each satellite observation as inputs to the [Finite Element Solution 2014 (FES2014) tidal model](https://www.aviso.altimetry.fr/en/data/products/auxiliary-products/global-tide-fes/description-fes2014.html):\n",
    "\n",
    "> **FES2014** is the last version of the FES (Finite Element Solution) tide model developed in 2014-2016. It is an improved version of the FES2012 model. This new FES2014 model has been developed, implemented and validated by the LEGOS, NOVELTIS and CLS, within a CNES funded project. FES2014 takes advantage of longer altimeter time series and better altimeter standards, improved modelling and data assimilation techniques, a more accurate ocean bathymetry and a refined mesh in most of the shallow water regions. Special efforts have been dedicated to address the major non-linear tides issue and to the determination of accurate tidal currents.\n",
    "\n",
    "The function will automatically select a tide modelling location based on the dataset centroid.\n",
    "It will then output modelled tide heights as a new `tide_m` variable in the `xarray.Dataset` (the variable should appear under `Data variables` below):"
   ]
  },
  {
   "cell_type": "code",
   "execution_count": null,
   "metadata": {},
   "outputs": [],
   "source": [
    "# Model tide heights\n",
    "ds_tidal = tidal_tag(ds)\n",
    "\n",
    "# Print output data\n",
    "ds_tidal"
   ]
  },
  {
   "cell_type": "markdown",
   "metadata": {},
   "source": [
    "We can easily plot this new variable to inspect the range of tide heights observed by the satellites in our time series.\n",
    "In this example, our observed tide heights range from approximately -2.0 to 4.0 m relative to Mean Sea Level:"
   ]
  },
  {
   "cell_type": "code",
   "execution_count": null,
   "metadata": {},
   "outputs": [],
   "source": [
    "ds_tidal.tide_m.plot();"
   ]
  },
  {
   "cell_type": "markdown",
   "metadata": {},
   "source": [
    "### Example tide height analysis\n",
    "To demonstrate how tidally tagged images can be used to produce composites of high and low tide \n",
    "imagery, we can compute the lowest 20% and highest 20% of tide heights, and use these to filter our observations. \n",
    "We can then combine and plot these filtered observations to visualise how the landscape appears at low and high tide:"
   ]
  },
  {
   "cell_type": "code",
   "execution_count": null,
   "metadata": {},
   "outputs": [],
   "source": [
    "# Calculate the lowest and highest 20% of tides\n",
    "lowest_20, highest_20 = ds_tidal.tide_m.quantile([0.2, 0.8]).values\n",
    "\n",
    "# Filter our data to low and high tide observations\n",
    "filtered_low = ds_tidal.where(ds_tidal.tide_m <= lowest_20, drop=True)\n",
    "filtered_high = ds_tidal.where(ds_tidal.tide_m >= highest_20, drop=True)\n",
    "\n",
    "# Take the simple median of each set of low and high tide observations to\n",
    "# produce a composite (alternatively, observations could be combined\n",
    "# using a geomedian to keep band relationships consistent)\n",
    "median_low = filtered_low.median(dim=\"time\", keep_attrs=True)\n",
    "median_high = filtered_high.median(dim=\"time\", keep_attrs=True)\n",
    "\n",
    "# Combine low and high tide medians into a single dataset and give\n",
    "# each layer a meaningful name\n",
    "ds_highlow = xr.concat([median_low, median_high], dim=\"tide_m\")\n",
    "ds_highlow[\"tide_m\"] = [\"Low tide\", \"High tide\"]\n",
    "\n",
    "# Plot low and high tide medians side-by-side\n",
    "rgb(ds_highlow, col=\"tide_m\")"
   ]
  },
  {
   "cell_type": "markdown",
   "metadata": {},
   "source": [
    "### Swapping dimensions\n",
    "\n",
    "The `tidal_tag` function allows you to use tide heights as the primary dimension in the dataset, rather than time.\n",
    "Setting `swap_dims=True` will swap the `time` dimension in the original `xarray.Dataset` to the new `tide_m` variable."
   ]
  },
  {
   "cell_type": "code",
   "execution_count": null,
   "metadata": {},
   "outputs": [],
   "source": [
    "# Model tide heights\n",
    "ds_tidal = tidal_tag(ds, swap_dims=True)\n",
    "\n",
    "# Print output data\n",
    "ds_tidal"
   ]
  },
  {
   "cell_type": "markdown",
   "metadata": {},
   "source": [
    "The dataset now contains three dimensions: `tide_m`, `x` and `y`. \n",
    "This can make it easier to analyse the data with respect to tide, e.g. plotting the lowest and highest tide image in our dataset:"
   ]
  },
  {
   "cell_type": "code",
   "execution_count": null,
   "metadata": {},
   "outputs": [],
   "source": [
    "# Plot first (lowest tide) and last (highest tide) images\n",
    "rgb(ds_tidal, index_dim=\"tide_m\", index=[0, -1])"
   ]
  },
  {
   "cell_type": "markdown",
   "metadata": {},
   "source": [
    "> **Note:** The white dots in the images above are false positives in the automated cloud mask caused by bright sandy shorelines being mistaken for clouds."
   ]
  },
  {
   "cell_type": "markdown",
   "metadata": {},
   "source": [
    "### Modelling ebb and flow tidal phases\n",
    "\n",
    "The `tidal_tag` function also allows us to determine whether each satellite observation was taken while the tide was rising/incoming (flow tide) or falling/outgoing (ebb tide) by setting `ebb_flow=True`.\n",
    "This is achieved by comparing tide heights 15 minutes before and after the observed satellite observation.\n",
    "\n",
    "Ebb and flow data can provide valuable contextual information for interpreting satellite imagery, particularly in tidal flat or mangrove forest environments where water may remain in the landscape for considerable time after the tidal peak."
   ]
  },
  {
   "cell_type": "code",
   "execution_count": null,
   "metadata": {},
   "outputs": [],
   "source": [
    "# Model tide heights\n",
    "ds_tidal = tidal_tag(ds, ebb_flow=True)\n",
    "\n",
    "# Print output data\n",
    "ds_tidal"
   ]
  },
  {
   "cell_type": "markdown",
   "metadata": {},
   "source": [
    "We now have data giving us the both the tide height and tidal phase ('ebb' or 'flow') for every satellite image:"
   ]
  },
  {
   "cell_type": "code",
   "execution_count": null,
   "metadata": {},
   "outputs": [],
   "source": [
    "ds_tidal[[\"time\", \"tide_m\", \"ebb_flow\"]].to_dataframe().drop(\"spatial_ref\", axis=1)"
   ]
  },
  {
   "cell_type": "markdown",
   "metadata": {},
   "source": [
    "We could for example use this data to filter our observations to keep ebbing phase observations only:"
   ]
  },
  {
   "cell_type": "code",
   "execution_count": null,
   "metadata": {},
   "outputs": [],
   "source": [
    "ds_tidal.where(ds_tidal.ebb_flow == \"Ebb\", drop=True)"
   ]
  },
  {
   "cell_type": "markdown",
   "metadata": {},
   "source": [
    "## Advanced\n",
    "\n",
    "### Modelling tides for each pixel in a satellite time series using `pixel_tides`\n",
    "\n",
    "The previous examples show how to model a single tide height for each satellite image using the centroid of the image as a tide modelling location. \n",
    "However, in reality tides vary spatially, potentially up to several metres across a distance of kilometres in areas of complex tidal dynamics. \n",
    "This means that an individual satellite image can contain a range of tide height conditions.\n",
    "\n",
    "To capture this spatial variability in tide heights, we can use the `pixel_tides` function from `dea_tools.coastal`.\n",
    "For efficient processing, this function first models tides into a low resolution 5000 m grid surrounding each satellite image in our time series.\n",
    "This lower resolution data will also include a buffer around the extent of our data tides can be modelled seamlessly across analysis boundaries:"
   ]
  },
  {
   "cell_type": "code",
   "execution_count": null,
   "metadata": {},
   "outputs": [],
   "source": [
    "# Extract a subset of our satellite data above to make plotting easier\n",
    "ds_subset = ds.isel(time=slice(0, 3))\n",
    "\n",
    "# Model tides spatially using `pixel_tides`\n",
    "tides_lowres = pixel_tides(ds_subset, resample=False)"
   ]
  },
  {
   "cell_type": "markdown",
   "metadata": {},
   "source": [
    "If we plot the resulting data, we can see that we now have 2D tide surfaces for each timestep in our data (instead of the single tide height per timestamp returned by the `tidal_tag` function).\n",
    "\n",
    "Blue values below indicate low tide pixels, while red indicates high tide pixels.\n",
    "If you look closely at the second and third timestep below, you may also be able to see some spatial variability in tide heights within each timestep, with slight variations in tide heights along the left (west) side of the study area:"
   ]
  },
  {
   "cell_type": "code",
   "execution_count": null,
   "metadata": {},
   "outputs": [],
   "source": [
    "tides_lowres.plot.imshow(col=\"time\", vmin=-1, vmax=1, cmap='RdBu')"
   ]
  },
  {
   "cell_type": "markdown",
   "metadata": {},
   "source": [
    "#### Reprojecting tide heights back into original high resolution spatial grid\n",
    "By setting `resample=True`, we can use interpolation to re-project our low resolution tide data back into the resolution of our satellite image, resulting in an individual tide height value for every single pixel in our dataset through time and space:"
   ]
  },
  {
   "cell_type": "code",
   "execution_count": null,
   "metadata": {},
   "outputs": [],
   "source": [
    "# Model tides spatially using `pixel_tides`\n",
    "tides_highres, tides_lowres = pixel_tides(ds_subset, resample=True)\n",
    "\n",
    "tides_highres.plot.imshow(col=\"time\", vmin=-1, vmax=1, cmap=\"RdBu\")"
   ]
  },
  {
   "cell_type": "markdown",
   "metadata": {},
   "source": [
    "`tides_highres` will have exactly the same dimensions as `ds_subset`, with a unique tide height for every satellite pixel:"
   ]
  },
  {
   "cell_type": "code",
   "execution_count": null,
   "metadata": {},
   "outputs": [],
   "source": [
    "ds_subset.sizes"
   ]
  },
  {
   "cell_type": "code",
   "execution_count": null,
   "metadata": {},
   "outputs": [],
   "source": [
    "tides_highres.sizes"
   ]
  },
  {
   "cell_type": "markdown",
   "metadata": {},
   "source": [
    "Because of this, our stack of tides can be added as an additional 3D variable in our dataset:"
   ]
  },
  {
   "cell_type": "code",
   "execution_count": null,
   "metadata": {},
   "outputs": [],
   "source": [
    "ds_subset[\"tide_m\"] = tides_highres\n",
    "ds_subset"
   ]
  },
  {
   "cell_type": "markdown",
   "metadata": {},
   "source": [
    "#### Calculating min/max/median/quantiles of tide heights for each pixel\n",
    "\n",
    "Min, max or any specific quantile of all tide heights observed over a region can be calculated for each pixel by passing in a list of quantiles/percentiles. \n",
    "\n",
    "This calculation is performed on the low resolution modelled tide data before reprojecting to higher resolution, so should be faster than calculating min/max/median tide at high resolution:"
   ]
  },
  {
   "cell_type": "code",
   "execution_count": null,
   "metadata": {},
   "outputs": [],
   "source": [
    "tides_highres_quantiles, tides_lowres_quantiles = pixel_tides(\n",
    "    ds_subset, resample=True, calculate_quantiles=(0, 0.5, 1)\n",
    ")"
   ]
  },
  {
   "cell_type": "code",
   "execution_count": null,
   "metadata": {},
   "outputs": [],
   "source": [
    "tides_highres_quantiles.plot.imshow(col=\"quantile\")"
   ]
  },
  {
   "cell_type": "markdown",
   "metadata": {},
   "source": [
    "#### Pixel-based tides for custom times\n",
    "Instead of using times contained in the `time` dimension of our dataset, we can also calculate pixel-based tides for a custom set of times:"
   ]
  },
  {
   "cell_type": "code",
   "execution_count": null,
   "metadata": {},
   "outputs": [],
   "source": [
    "custom_times = pd.date_range(start=\"2022-01-01\", end=\"2022-01-02\", freq=\"6H\")\n",
    "\n",
    "tides_highres, tides_lowres = pixel_tides(ds_subset, resample=True, times=custom_times)"
   ]
  },
  {
   "cell_type": "code",
   "execution_count": null,
   "metadata": {},
   "outputs": [],
   "source": [
    "tides_highres.plot.imshow(col=\"time\")"
   ]
  },
  {
   "cell_type": "markdown",
   "metadata": {
    "tags": []
   },
   "source": [
    "### Evaluating tidal biases using `tidal_stats`\n",
    "\n",
    "The complex temporal behaviour of tides mean that a sun synchronous sensor like Landsat [does not observe the full range of the tidal cycle at all locations](https://www.sciencedirect.com/science/article/pii/S0272771418308783#sec3).\n",
    "Biases in the proportion of the tidal range observed by satellites can prevent us from obtaining data on areas of the coastline exposed or inundated at the extremes of the\n",
    "tidal range. \n",
    "This can risk gaining misleading insights into the true extent of the area of the coastline affected by tides, and make it difficult to compare high or low tide images fairly in different locations.\n",
    "\n",
    "The `tidal_stats` function can assist in evaluating how the range of tides observed by satellites compare to the full tidal range.\n",
    "It works by using our tidal model to to model all available tide heights at a regular interval (every two hours by default) across the entire time period covered by the input satellite time series dataset.\n",
    "This is then compared against the tide heights in observed by the satellite and used to calculate a range of statistics and a plot that summarises potential biases in the data.\n",
    "\n",
    "> For a more detailed discussion of the issue of tidal bias in sun-synchronous satellite observations of the coastline, refer to the ['Limitations and future work' section in Bishop-Taylor et al. 2018](https://www.sciencedirect.com/science/article/pii/S0272771418308783#sec3).\n"
   ]
  },
  {
   "cell_type": "code",
   "execution_count": null,
   "metadata": {},
   "outputs": [],
   "source": [
    "out_stats = tidal_stats(ds)"
   ]
  },
  {
   "cell_type": "markdown",
   "metadata": {},
   "source": [
    "The function also outputs a `pandas.Series` object containing a set of statistics that compare the observed vs. full modelled tidal ranges.\n",
    "These statistics include: \n",
    "\n",
    "* **tidepost_lat:** latitude used for modelling tide heights\n",
    "* **tidepost_lon:** longitude used for modelling tide heights\n",
    "* **observed_min_m:** minimum tide height observed by the satellite (in metre units)\n",
    "* **all_min_m:** minimum tide height from full modelled tidal range (in metre units)\n",
    "* **observed_max_m:** maximum tide height observed by the satellite (in metre units)\n",
    "* **all_max_m:** maximum tide height from full modelled tidal range (in metre units)\n",
    "* **observed_range_m:** tidal range observed by the satellite (in metre units)\n",
    "* **all_range_m:** full modelled tidal range (in metre units)\n",
    "* **spread_m:** proportion of the full modelled tidal range observed by the satellite (see [Bishop-Taylor et al. 2018](https://www.sciencedirect.com/science/article/pii/S0272771418308783#sec3))\n",
    "* **low_tide_offset:** proportion of the lowest tides never observed by the satellite (see [Bishop-Taylor et al. 2018](https://www.sciencedirect.com/science/article/pii/S0272771418308783#sec3))\n",
    "* **high_tide_offset:** proportion of the highest tides never observed by the satellite (see [Bishop-Taylor et al. 2018](https://www.sciencedirect.com/science/article/pii/S0272771418308783#sec3))"
   ]
  },
  {
   "cell_type": "code",
   "execution_count": null,
   "metadata": {},
   "outputs": [],
   "source": [
    "out_stats"
   ]
  },
  {
   "cell_type": "markdown",
   "metadata": {
    "tags": []
   },
   "source": [
    "---\n",
    "\n",
    "## Additional information\n",
    "\n",
    "**FES2014:** Tidal modelling is provided by the FES2014 global tidal model, implemented using functions from the [pyTMD Python package](https://pytmd.readthedocs.io/en/latest/getting_started/Citations.html). FES2014 was produced by NOVELTIS, LEGOS, CLS Space Oceanography Division and CNES. It is distributed by AVISO, with support from CNES (https://www.aviso.altimetry.fr/en/data/products/auxiliary-products/global-tide-fes/description-fes2014.html).\n",
    "\n",
    "**License:** The code in this notebook is licensed under the [Apache License, Version 2.0](https://www.apache.org/licenses/LICENSE-2.0). \n",
    "Digital Earth Australia data is licensed under the [Creative Commons by Attribution 4.0](https://creativecommons.org/licenses/by/4.0/) license.\n",
    "\n",
    "**Contact:** If you need assistance, please post a question on the [Open Data Cube Slack channel](http://slack.opendatacube.org/) or on the [GIS Stack Exchange](https://gis.stackexchange.com/questions/ask?tags=open-data-cube) using the `open-data-cube` tag (you can view previously asked questions [here](https://gis.stackexchange.com/questions/tagged/open-data-cube)).\n",
    "If you would like to report an issue with this notebook, you can file one on [GitHub](https://github.com/GeoscienceAustralia/dea-notebooks).\n",
    "\n",
    "**Last modified:** July 2024\n",
    "\n",
    "**Compatible datacube version:** "
   ]
  },
  {
   "cell_type": "code",
   "execution_count": null,
   "metadata": {},
   "outputs": [],
   "source": [
    "print(datacube.__version__)"
   ]
  },
  {
   "cell_type": "markdown",
   "metadata": {},
   "source": [
    "## Tags\n",
    "<!-- Browse all available tags on the DEA User Guide's [Tags Index](https://knowledge.dea.ga.gov.au/genindex/) -->"
   ]
  },
  {
   "cell_type": "raw",
   "metadata": {
    "raw_mimetype": "text/restructuredtext"
   },
   "source": [
    "**Tags**: :index:`sandbox compatible`, :index:`NCI compatible`, :index:`landsat 8`, :index:`display_map`, :index:`load_ard`, :index:`rgb`, :index:`tidal_tag`, :index:`tidal_stats`, :index:`model_tides`, :index:`pixel_tides`, :index:`tide modelling`, :index:`intertidal`, :index:`Dask`, :index:`lazy loading`, :index:`rolling window`"
   ]
  }
 ],
 "metadata": {
  "kernelspec": {
   "display_name": "Python 3 (ipykernel)",
   "language": "python",
   "name": "python3"
  },
  "language_info": {
   "codemirror_mode": {
    "name": "ipython",
    "version": 3
   },
   "file_extension": ".py",
   "mimetype": "text/x-python",
   "name": "python",
   "nbconvert_exporter": "python",
   "pygments_lexer": "ipython3",
   "version": "3.10.13"
  },
  "widgets": {
   "application/vnd.jupyter.widget-state+json": {
    "state": {},
    "version_major": 2,
    "version_minor": 0
   }
  }
 },
 "nbformat": 4,
 "nbformat_minor": 4
}
