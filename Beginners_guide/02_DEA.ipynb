{
 "cells": [
  {
   "cell_type": "markdown",
   "metadata": {},
   "source": [
    "# Introduction to Digital Earth Australia <img align=\"right\" src=\"../Supplementary_data/dea_logo.jpg\">\n",
    "\n",
    "* **Compatability**: Notebook currently compatible with both the `NCI` and `DEA Sandbox` environments\n",
    "* **Prerequisites**:  Users of this notebook should have a basic understanding of:\n",
    "    * How to run a [Jupyter notebook](01_Jupyter_notebooks.ipynb)"
   ]
  },
  {
   "cell_type": "markdown",
   "metadata": {},
   "source": [
    "## Background\n",
    "[Digital Earth Australia](https://www.ga.gov.au/dea) (DEA) is a digital platform that catalogues large amounts of Earth observation data covering continental Australia.\n",
    "It is underpinned by the [Open Data Cube](https://www.opendatacube.org/) (ODC), an open source software package that has an ever growing number of users, contributors and implementations.\n",
    "\n",
    "The ODC and DEA platforms are designed to:\n",
    "\n",
    "* Catalogue large amounts of Earth observation data\n",
    "* Provide a Python based API for high performance querying and data access\n",
    "* Give users easy ability to perform exploratory data analysis\n",
    "* Allow scalable continent-scale processing of the stored data\n",
    "* Track the provenance of data to allow for quality control and updates\n",
    "\n",
    "The DEA program catalogues data from a range of satellite sensors and has adopted processes and terminology that users should be aware of to enable efficient querying and use of the datasets stored within.\n",
    "This notebook introduces these important concepts and forms the basis of understanding for the remainder of the notebooks in this Beginners Guide.\n",
    "Resources to further explore these concepts are recommended at the end of the notebook."
   ]
  },
  {
   "cell_type": "markdown",
   "metadata": {},
   "source": [
    "## Prerequisites\n",
    "Users of this notebook should have a basic understanding of the use and format of a Jupyter Notebook.\n",
    "\n",
    "To review these basics, see the [Introduction to Jupyter Notebooks](01_Jupyter_notebooks.ipynb)."
   ]
  },
  {
   "cell_type": "markdown",
   "metadata": {},
   "source": [
    "## Description\n",
    "This introduction to DEA will briefly introduce the OCD and review the types of data catalogued in the DEA platform.\n",
    "It will also cover commonly-used terminology for measurements within product datasets.\n",
    "\n",
    "Topics include\n",
    "\n",
    "* a brief introduction to the ODC\n",
    "* a review of the satellite sensors that provide data to DEA\n",
    "* an introduction to analysis ready data and the processes to make it \n",
    "* important terminology:\n",
    "    * band naming conventions\n",
    "    * the coordinate reference scheme\n",
    "    \n",
    "***"
   ]
  },
  {
   "cell_type": "markdown",
   "metadata": {},
   "source": [
    "## Open Data Cube\n",
    "The ODC is an open-source software package for organising and analysing large quantities of Earth observation data.\n",
    "At its core, the Open Data Cube consists of a database where data is stored, along with commands to load, view and analyse that data.\n",
    "This functionality is delivered by the [datacube-core](https://github.com/opendatacube/datacube-core) open-source Python library.\n",
    "The library is designed to enable and support:\n",
    "\n",
    "* Large-scale workflows on high performance computing infrastructures\n",
    "* Exploratory data analysis\n",
    "* Cloud-based services\n",
    "* Standalone applications\n",
    "\n",
    "There are a number of existing implementations of the ODC, including DEA.\n",
    "More information can be found in the [Open Data Cube Manual](https://datacube-core.readthedocs.io/en/latest/index.html)."
   ]
  },
  {
   "cell_type": "markdown",
   "metadata": {},
   "source": [
    "## Satellite datasets in DEA\n",
    "Digital Earth Australia catalogues data from a range of satellite sensors. \n",
    "The earliest datasets of optical satellite imagery in DEA date from 1986.\n",
    "DEA includes data from\n",
    "\n",
    "* [Landsat 5 TM](https://www.usgs.gov/land-resources/nli/landsat/landsat-5?qt-science_support_page_related_con=0#qt-science_support_page_related_con) (LS5 TM), operational between March 1984 and January 2013\n",
    "* [Landsat 7 ETM+](https://www.usgs.gov/land-resources/nli/landsat/landsat-7?qt-science_support_page_related_con=0#qt-science_support_page_related_con) (LS7 ETM+), operational since April 1999\n",
    "* [Landsat 8 OLI](https://www.usgs.gov/land-resources/nli/landsat/landsat-8?qt-science_support_page_related_con=0#qt-science_support_page_related_con) (LS8 OLI), operational since February 2013\n",
    "* [Sentinel 2A MSI](https://sentinel.esa.int/web/sentinel/missions/sentinel-2) (S2A MSI), operational since June 2015\n",
    "* [Sentinel 2B MSI](https://sentinel.esa.int/web/sentinel/missions/sentinel-2) (S2B MSI, operational since March 2017\n",
    "\n",
    "Landsat missions are jointly operated by the United States Geological Survey (USGS) and National Aeronautics and Space Administration (NASA).\n",
    "Sentinel missions are operated by the European Space Agency (ESA).\n",
    "One major difference between the two programs is the spatial resolution: each Landsat pixel represents 30 $m^{2}$ on the ground while each Sentinel-2 pixel represents 10 $m^{2}$ (although some spectral bands have lower resolution).\n",
    "\n",
    "### Spectral Bands\n",
    "All of the listed datasets in DEA are captured by multispectral satellites.\n",
    "This means that the satellites measure light from the Earth in discrete sections of the electromagnetic spectrum, known as *spectral bands*. \n",
    "Figure 1 shows the spectral bands for recent Landsat and Sentinel-2 sensors, allowing a direct comparison of how each sensor samples the overall electromagnetic spectrum.\n",
    "LS5 TM is not displayed in this image; for reference, it measured light in seven bands that covered the same regions as bands 1 to 7 on LS7 ETM+.\n",
    "\n",
    "![Image](https://prd-wret.s3-us-west-2.amazonaws.com/assets/palladium/production/s3fs-public/styles/full_width/public/thumbnails/image/dmidS2LS7Comparison.png)\n",
    "> Figure 1 [[source]](https://directory.eoportal.org/web/eoportal/satellite-missions/l/landsat-9): The bands that are detected by each of the satellites are shown in the numbered boxes and the width of each box is relative to the spectral range that band detects.\n",
    "The bands are overlaid on the percentage transmission of each wavelength returned to the atmosphere from the Earth relative to the amount of incoming solar radiation. \n",
    "The y-axis has no bearing on the comparison of the satellite sensors.\n",
    "\n",
    "Figure 1 highlights that the numbering of the bands relative to the detected wavelengths is inconsistent between sensors.\n",
    "As an example, in the green region of the electromagnetic spectrum (around 560 nm), LS5 TM and LS7 ETM+ detect a wide green region called band 2, where as LS8 OLI detects a slightly narrower region and calls it band 3.\n",
    "Finally, Sentinel-2 MSI (A and B) detects a narrow green region but also call it band 3.\n",
    "Consequently, when working with different sensors, it is important to understand the differences in their bands, and any impact this could have on an analysis.\n",
    "To promote awareness of these differences, DEA band naming is based on both the spectral band name and sample region.\n",
    "The naming convention will be covered in more detail toward the end of this notebook."
   ]
  },
  {
   "cell_type": "markdown",
   "metadata": {},
   "source": [
    "## Analysis ready data\n",
    "\n",
    "Digital Earth Australia produces analysis ready data (ARD) for each of the sensors listed above.\n",
    "The [ARD standard](http://ceos.org/ard/) for satellite data requires that data have undergone a number of processing steps, along with the creation of additional attributes for the data.\n",
    "The requirements are:\n",
    "\n",
    "* **Geometric correction:** This includes establishing ground position, accounting for terrain (orthorectification) and ground control points, and assessing absolute position accuracy. \n",
    "Geometric calibration means that datasets from different sensors can be used together, and that sequential observations can be used to track meaningful change over time.\n",
    "Adjustments for ground variability typically use a Digital Elevation Model (DEM).\n",
    "* **Surface reflectance correction:** This includes adjustments for sensor/instrument gains, biases, offsets and adjustments for sensor viewing angle with respect to the pixel position on the surface.\n",
    "* **Observation attributes:** Dataset and pixel descriptive information such as quality flags, which allow users to make informed decisions about the suitability of the products for their use. For example, clouds, cloud shadows, missing data, saturation and accuracy assessments are common pixel attributes.\n",
    "* **Metadata:** Dataset and pixel descriptive information including the satellite, instrument, acquisition date and time, spatial boundaries, pixel locations, mode, processing details, spectral or frequency response and grid projection."
   ]
  },
  {
   "cell_type": "markdown",
   "metadata": {},
   "source": [
    "### Surface Reflectance\n",
    "\n",
    "Optical sensors, such as those on the Landsat and Sentinel-2 satellites, measure light that has come from the sun and been reflected by the Earth's surface.\n",
    "The sensor measures the intensity of light in each of its spectral bands (known as radiance).\n",
    "The intensity of the light is dependent on the angle of the sun relative to the ground, the angle of the sensor relative to the ground, and how the light interacts with the Earth's atmosphere on its way to the sensor. \n",
    "Frequently, the quantity of interest is not the radiance itself, but rather how much light was reflected at the ground level.\n",
    "This is known as bottom-of-atmosphere surface reflectance and it can be calculated by using robust physical models to correct the observed radiance values for the atmosphere, angle of the sun, and sensor geometry.\n",
    "\n",
    "There are many approaches to satellite surface reflectance correction and DEA opts to use two: NBAR and NBART.\n",
    "**Users will choose which of these measurements to load when querying the DEA datacube and so it is important to understand their major similarities and differences.**\n",
    "\n",
    "#### NBAR\n",
    "NBAR stands for *Nadir-corrected BRDF Adjusted Reflectance*, where BRDF stands for *Bidirectional reflectance distribution function*\n",
    "The approach involves atmospheric correction to compute bottom-of-atmosphere radiance, and bi-directional reflectance modelling to remove the effects of topography and angular variation in reflectance.\n",
    "\n",
    "#### NBAR-T\n",
    "NBAR-T has the same features of NBAR but includes the *terrain illumination* reflectance correction.\n",
    "Terrain affects optical satellite images in a number of ways; for example, slopes facing the sun receive more sunlight and appear brighter compared to those facing away from the sun.\n",
    "To obtain comparable surface reflectance from satellite images covering mountainous areas, it is therefore necessary to process the images to reduce or remove the topographic effect.\n",
    "This correction is performed with a Digital Surface Model (DSM) that has the same resolution as the satellite data being corrected."
   ]
  },
  {
   "cell_type": "code",
   "execution_count": null,
   "metadata": {},
   "outputs": [],
   "source": []
  },
  {
   "cell_type": "markdown",
   "metadata": {},
   "source": [
    "### Observation Attributes\n",
    "\n",
    "The *Observation Attributes (OA)* are a suite of measurements included in DEA's analysis ready datasets.\n",
    "They are an assessment of each image pixel to determine if it is an unobscured, unsaturated observation of the Earth's surface, along with whether the pixel is represented in each spectral band. \n",
    "The OA product allows users to exclude pixels that do not meet the quality criteria for their analysis.\n",
    "The capacity to automatically exclude such pixels is essential for analysing any change over time, since poor-quality pixels can significantly alter the percieved change over time.\n",
    "The most common use of OA is for cloud masking, where users can choose to remove images that have too much cloud, or ignore the clouds within each satellite image.\n",
    "A demonstration of how to use cloud masking can be found in the [masking data](../Frequently_used_code/Masking_data.ipynb) notebook.\n",
    "\n",
    "The OA suite of measurements include the following observation pixel-based attributes:\n",
    "\n",
    "* Null pixels\n",
    "* Clear pixels\n",
    "* Cloud pixels\n",
    "* Cloud shadow pixels\n",
    "* Snow pixels\n",
    "* Water pixels\n",
    "* Spectrally contiguous pixels\n",
    "* Terrain shaded pixels\n",
    "\n",
    "Also included is a range of pixel-based attributes related to the satellite, solar and sensing geometries:\n",
    "\n",
    "* Solar zenith\n",
    "* Solar azimuth\n",
    "* Satellite view\n",
    "* Incident angle\n",
    "* Exiting angle\n",
    "* Azimuthal incident\n",
    "* Azimuthal exiting\n",
    "* Relative azimuth\n",
    "* Timedelta\n"
   ]
  },
  {
   "cell_type": "markdown",
   "metadata": {},
   "source": [
    "## Data format\n",
    "\n",
    "### DEA band naming conventions\n",
    "\n",
    "To account for the various available datasets, DEA has developed its own band naming convention to help distinguish datasets that come from the different sensors.\n",
    "\n",
    "The band names are comprised of the applied surface reflectance correction (NBAR or NBAR-T) and the spectral region detected by the satellite. \n",
    "This removes all reference to the sensor band numbering scheme (Figure 1) and assumes that users understand that the spectral region described by the DEA band name is only approximately the same between sensors, not identical.\n",
    "\n",
    "Table 1 summarises the DEA band naming terminology for NBAR and NBAR-T, coupled with the corresponding band names for the available sensors.\n",
    "\n",
    "|Spectral Region|DEA measurement name (NBAR)|DEA measurement name (NBAR-T)|LS5 TM|LS7 ETM+|LS8 OLI|S2A,B MSI|\n",
    "|----|----|----|----|----|----|----|\n",
    "|Coastal aerosol|nbar_coastal_aerosol|nbart_coastal_aerosol|||1|1|\n",
    "|Blue|nbar_blue|nbart_blue|1|1|2|2|\n",
    "|Green|nbar_green|nbart_green|2|2|3|3|\n",
    "|Red|nbar_red|nbart_red|3|3|4|4|\n",
    "|Nir (Near infra-red)|nbar_nir|nbart_nir|4|4|5|8, 8a|\n",
    "|Swir1 (Short wave infra-red 1)|nbar_swir1|nbart_swir1|5|5|6|11|\n",
    "|Swir2 (Short wave infra-red 2)|nbar_swir2|nbart_swir2|7|7|7|12|\n",
    "\n",
    "![](s2a_2016-04-26_-37.08_145.08_-37.22_145.27_20m_nbar.gif)"
   ]
  },
  {
   "cell_type": "markdown",
   "metadata": {},
   "source": [
    "### DEA data projection and holdings\n",
    "Keeping with the practices of the Landsat and Sentinel satellite programs, all DEA datasets are projected using the Universal Transverse Mercator (UTM) system.\n",
    "This aligns with the World Geodetic System 84 (WGS84) datum and all data queries default to this coordinate reference system unless specified otherwise.\n",
    "\n",
    "Also by default, the spatial extent of the DEA data holdings is approximately the Australian coastal shelf. \n",
    "The actual extent varies based on the sensor. \n",
    "The current extents can be viewed using the interactive DEA data [explorer](http://explorer.sandbox.dea.ga.gov.au/ga_ls8c_ard_3)."
   ]
  },
  {
   "cell_type": "markdown",
   "metadata": {},
   "source": [
    "## Recommended next steps\n",
    "For more detailed information on the concepts introduced in this notebook, please see the [DEA User Guide](https://docs.dea.ga.gov.au/index.html#) and [Open Data Cube Manual](https://datacube-core.readthedocs.io/en/latest/).\n",
    "For more information on the development of the DEA platform, please see [Dhu et al. 2017](https://doi.org/10.1080/20964471.2017.1402490).\n",
    "\n",
    "To continue with the beginners guide, the following notebooks are designed to be worked through in the following order:\n",
    "\n",
    "1. [Jupyter Notebooks](01_Jupyter_notebooks.ipynb)\n",
    "2. **Digital Earth Australia (this notebook)**\n",
    "3. [Products and Measurements](03_Products_and_measurements.ipynb)\n",
    "4. [Loading data](04_Loading_data.ipynb)\n",
    "5. [Plotting](05_Plotting.ipynb)\n",
    "6. [Basic analysis](06_Basic_analysis.ipynb)\n",
    "\n",
    "Once you have worked through the beginners guide, you can join advanced users by exploring:\n",
    "\n",
    "* A demonstration of how to use cloud masking can be found in the [masking data](../Frequently_used_code/Masking_data.ipynb) notebook.\n",
    "* [DEA datasets](https://github.com/GeoscienceAustralia/dea-notebooks/tree/develop/DEA_datasets)\n",
    "* [Frequently used code](https://github.com/GeoscienceAustralia/dea-notebooks/tree/develop/Frequently_used_code)\n",
    "* [Real world examples](https://github.com/GeoscienceAustralia/dea-notebooks/tree/develop/Real_world_examples)"
   ]
  },
  {
   "cell_type": "markdown",
   "metadata": {},
   "source": [
    "## Additional information"
   ]
  },
  {
   "cell_type": "markdown",
   "metadata": {},
   "source": [
    "**License:** The code in this notebook is licensed under the [Apache License, Version 2.0](https://www.apache.org/licenses/LICENSE-2.0). \n",
    "Digital Earth Australia data is licensed under the [Creative Commons by Attribution 4.0](https://creativecommons.org/licenses/by/4.0/) license.\n",
    "\n",
    "**Contact:** If you need assistance, please post a question on the [Open Data Cube Slack channel](http://slack.opendatacube.org/) or on the [GIS Stack Exchange](https://gis.stackexchange.com/questions/ask?tags=open-data-cube) using the `open-data-cube` tag (you can view previously asked questions [here](https://gis.stackexchange.com/questions/tagged/open-data-cube)).\n",
    "If you would like to report an issue with this notebook, you can file one on [Github](https://github.com/GeoscienceAustralia/dea-notebooks).\n",
    "\n",
    "**Last modified:** September 2019\n",
    "\n",
    "**Compatible `datacube` version:** "
   ]
  },
  {
   "cell_type": "code",
   "execution_count": null,
   "metadata": {},
   "outputs": [],
   "source": [
    "print(datacube.__version__)"
   ]
  },
  {
   "cell_type": "markdown",
   "metadata": {},
   "source": [
    "## Tags\n",
    "Browse all available tags on the DEA User Guide's [Tags Index](https://docs.dea.ga.gov.au/genindex.html)"
   ]
  },
  {
   "cell_type": "raw",
   "metadata": {
    "raw_mimetype": "text/restructuredtext"
   },
   "source": [
    "**Tags**: :index:`sandbox compatible`, :index:`NCI compatible`, :index:`sensors`, :index:`band names`, :index:`NBAR`, :index:`NBAR-T`, :index:`observation attributes`"
   ]
  }
 ],
 "metadata": {
  "kernelspec": {
   "display_name": "Python 3",
   "language": "python",
   "name": "python3"
  },
  "language_info": {
   "codemirror_mode": {
    "name": "ipython",
    "version": 3
   },
   "file_extension": ".py",
   "mimetype": "text/x-python",
   "name": "python",
   "nbconvert_exporter": "python",
   "pygments_lexer": "ipython3",
   "version": "3.6.8"
  },
  "widgets": {
   "application/vnd.jupyter.widget-state+json": {
    "state": {},
    "version_major": 2,
    "version_minor": 0
   }
  }
 },
 "nbformat": 4,
 "nbformat_minor": 4
}
