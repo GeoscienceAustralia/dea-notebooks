{
 "cells": [
  {
   "cell_type": "markdown",
   "metadata": {},
   "source": [
    "# Introduction to Jupyter notebooks"
   ]
  },
  {
   "cell_type": "markdown",
   "metadata": {},
   "source": [
    "**Notebook currently compatible with the `NCI`|`DEA Sandbox` environment only**"
   ]
  },
  {
   "cell_type": "markdown",
   "metadata": {},
   "source": [
    "## Background\n",
    "Access to implementations of the Open Data Cube such as Digital Earth Australia and Digital Earth Africa is achieved through the use of Python code and Jupyter Notebooks.\n",
    "The Jupyter Notebook (also termed notebook from here onwards) is an interactive web application that allows for the creation and documentation of live code.\n",
    "Notebook applications include data transformation, visualisation, modelling and machine learning.\n",
    "The default web interface to access notebooks, via the National Computational Infrastructure (NCI) and DEA Sandbox, is JupyterLab."
   ]
  },
  {
   "cell_type": "markdown",
   "metadata": {},
   "source": [
    "## Description\n",
    "This notebook is designed to introduce users to the basics of using Python code in Jupyter Notebooks via JupyterLab.\n",
    "\n",
    "Topics covered include\n",
    "* Notebook cells: code, markdown and executing cells\n",
    "* Exporting"
   ]
  },
  {
   "cell_type": "markdown",
   "metadata": {},
   "source": [
    "## Running (executing) a cell\n",
    "Jupyter Notebooks allow code to be separated into sections that can be executed independent of one another.\n",
    "Code sections are written into individual cells that can be executed by placing the cursor in the cell and typing shift + enter on the keyboard or selecting the triangular 'play' button in the ribbon at the top of the notebook.\n",
    "These options will run a single cell at a time. \n",
    "If you wish to auto-run all cells in a notebook, navigate to the Run option at the top of JupyterLab and select Run All Cells (or the option that best suits your needs).\n",
    "\n",
    "Run the cell below"
   ]
  },
  {
   "cell_type": "code",
   "execution_count": 5,
   "metadata": {},
   "outputs": [
    {
     "name": "stdout",
     "output_type": "stream",
     "text": [
      "I ran a cell!\n"
     ]
    }
   ],
   "source": [
    "print (\"I ran a cell!\")"
   ]
  },
  {
   "cell_type": "markdown",
   "metadata": {},
   "source": [
    "## Code cells\n",
    "Cells can be denoted as either Code, Markdown or Raw by changing the designation in the ribbon at the top of the notebook.\n",
    "\n",
    "Code operations can only be performed in Code cells.\n",
    "\n",
    "Place the cursor in the above cell where you executed the code to print. Note that the ribbon at the top of the notebook describes it as a Code cell."
   ]
  },
  {
   "cell_type": "markdown",
   "metadata": {},
   "source": [
    "## Markdown cells\n",
    "Place the cursor in this cell by double clicking.\n",
    "\n",
    "The format has changed to allow for editing. Note that the ribbon at the top of the notebook describes this as a Markdown cell.\n",
    "\n",
    "Run this cell to return the formatted version. \n",
    "\n",
    "Markdown cells are used for text and are useful to describe the code operations in the following cells. To see some of the formatting options for text in a Markdown cell, navigate to the help tab at the top of JupyterLab and select Markdown Reference."
   ]
  },
  {
   "cell_type": "markdown",
   "metadata": {},
   "source": [
    "## Exporting\n",
    "The standard file format for a Jupyter Notebook is .ipyn\n",
    "\n",
    "There are a range of export options to save your work for access outside of the Jupyter environment. Scripts for example can easily be saved as .py files by navigating to the File menu in JupyterLab and selecting Export Notebook As followed by Export Notebook To Executable Script."
   ]
  },
  {
   "cell_type": "markdown",
   "metadata": {},
   "source": [
    "## Additional information"
   ]
  },
  {
   "cell_type": "markdown",
   "metadata": {},
   "source": [
    "**License:** The code in this notebook is licensed under the [Apache License, Version 2.0](https://www.apache.org/licenses/LICENSE-2.0). \n",
    "Digital Earth Australia data is licensed under the [Creative Commons by Attribution 4.0](https://creativecommons.org/licenses/by/4.0/) license.\n",
    "\n",
    "**Contact:** If you need assistance, please post a question on the [Open Data Cube Slack channel](http://slack.opendatacube.org/) or on the [GIS Stack Exchange](https://gis.stackexchange.com/questions/ask?tags=open-data-cube) using the `open-data-cube` tag (you can view previously asked questions [here](https://gis.stackexchange.com/questions/tagged/open-data-cube)).\n",
    "If you would like to report an issue with this notebook, you can file one on [Github](https://github.com/GeoscienceAustralia/dea-notebooks).\n",
    "\n",
    "**Last modified:** September 2019"
   ]
  },
  {
   "cell_type": "markdown",
   "metadata": {},
   "source": [
    "## Tags\n",
    "Browse all available tags on the DEA User Guide's [Tags Index](https://docs.dea.ga.gov.au/genindex.html)"
   ]
  },
  {
   "cell_type": "raw",
   "metadata": {
    "raw_mimetype": "text/restructuredtext"
   },
   "source": [
    "**Tags**: :index:`sandbox_compatible`, :index:`nci_compatible`, :index:`beginner`, :index:`export`, :index:`jupyterlab`, :index:`jupyter_notebook`"
   ]
  }
 ],
 "metadata": {
  "kernelspec": {
   "display_name": "Python 3",
   "language": "python",
   "name": "python3"
  },
  "language_info": {
   "codemirror_mode": {
    "name": "ipython",
    "version": 3
   },
   "file_extension": ".py",
   "mimetype": "text/x-python",
   "name": "python",
   "nbconvert_exporter": "python",
   "pygments_lexer": "ipython3",
   "version": "3.6.8"
  }
 },
 "nbformat": 4,
 "nbformat_minor": 4
}
