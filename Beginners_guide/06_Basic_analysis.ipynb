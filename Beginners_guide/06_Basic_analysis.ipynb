{
 "cells": [
  {
   "cell_type": "markdown",
   "metadata": {},
   "source": [
    "# Performing a basic analysis <img align=\"right\" src=\"../Supplementary_data/dea_logo.jpg\">\n",
    "\n",
    "* **Compatability**: Notebook currently compatible with both the `NCI` and `DEA Sandbox` environments\n",
    "* **Prerequisites**:  Users of this notebook should have a basic understanding of:\n",
    "    * How to run a [Jupyter notebook](01_Jupyter_notebooks.ipynb)\n",
    "    * The basic structure of the DEA [satellite datasets](02_DEA.ipynb)\n",
    "    * Inspecting available [DEA products and measurements](03_Products_and_measurements.ipynb)\n",
    "    * How to [load data from DEA](04_Loading_data.ipynb)\n",
    "    * How to [plot loaded data](05_Plotting.ipynb)"
   ]
  },
  {
   "cell_type": "markdown",
   "metadata": {},
   "source": [
    "## Background\n",
    "To understand the world around us, it's important to combine the key steps of loading, visualising, manipulating and interpreting satellite data.\n",
    "To perform an analysis, we begin with a question and use the steps above to reach an answer."
   ]
  },
  {
   "cell_type": "markdown",
   "metadata": {},
   "source": [
    "## Description\n",
    "This notebook demonstrates how to conduct a basic analysis with DEA data and the Open Data Cube.\n",
    "It will combine many of the steps that have been covered in the other beginner's notebooks.\n",
    "\n",
    "In this notebook, the analysis question is \"how is the health of vegetation changing over time for two different test locations?\".\n",
    "This could be related to a number of broader questions: \n",
    "\n",
    "* What is the effect of a particular fertilizer on a field of crops?\n",
    "* How has a patch of forest changed after a fire? \n",
    "* How does proximity to water affect vegetation throughout the year?\n",
    "\n",
    "For this notebook, the analysis question will be kept simple, without much real-world context. \n",
    "For more examples of notebooks that demonstrate how to use DEA to answer specific analysis questions, see the notebooks in the \"Real world examples\" folder. \n",
    "\n",
    "Topics covered in this notebook include:\n",
    "\n",
    "1. Choosing a study area and two test locations\n",
    "2. Exploring available data products for the area\n",
    "3. Loading the chosen data\n",
    "4. Plotting the chosen data and exploring how it changes with time\n",
    "5. Calculating a measure of vegetation health from the loaded data\n",
    "6. Generating a quantitative plot of how the vegetation health changes with time for the two test areas\n",
    "\n",
    "***"
   ]
  },
  {
   "cell_type": "markdown",
   "metadata": {},
   "source": [
    "## Getting started\n",
    "To run this introduction to plotting data loaded from the datacube, run all the cells in the notebook starting with the \"Load packages\" cell. For help with running notebook cells, refer back to the [Jupyter Notebooks notebook](01_Jupyter_notebooks.ipynb). "
   ]
  },
  {
   "cell_type": "markdown",
   "metadata": {},
   "source": [
    "### Load packages\n",
    "Import Python packages that are used for the analysis."
   ]
  },
  {
   "cell_type": "code",
   "execution_count": null,
   "metadata": {},
   "outputs": [],
   "source": [
    "%matplotlib inline\n",
    "\n",
    "import datacube\n",
    "import sys\n",
    "\n",
    "sys.path.append(\"../Scripts\")"
   ]
  },
  {
   "cell_type": "markdown",
   "metadata": {},
   "source": [
    "### Connect to the datacube\n",
    "The next step is to connect to the datacube database.\n",
    "The resulting `dc` datacube object can then be used to load data.\n",
    "The `app` parameter is a unique name used to identify the notebook that does not have any effect on the analysis."
   ]
  },
  {
   "cell_type": "code",
   "execution_count": null,
   "metadata": {},
   "outputs": [],
   "source": [
    "dc = datacube.Datacube(app=\"06_Basic_analysis\")"
   ]
  },
  {
   "cell_type": "markdown",
   "metadata": {},
   "source": [
    "## Step 1: Choose a study area and two test areas"
   ]
  },
  {
   "cell_type": "markdown",
   "metadata": {},
   "source": [
    "### Study area\n",
    "When working with the Open Data Cube, it's important to load only as much data as needed.\n",
    "This helps keep an analysis running quickly and avoids the notebook crashing.\n",
    "\n",
    "One way to set the study area is to set a central latitude and longitude coordinate pair, `(central_lat, central_lon)`, then specify how many degrees to include either side of the central latitude and longitude, known as the `buffer`.\n",
    "Together, these parameters specify a square study area, as shown below:\n",
    "\n",
    "<img src=\"../Supplementary_data/06_Basic_analysis/latlong_buffer.png\" width=\"280\" height=\"280\">\n",
    "\n",
    "Below, we have set the study area to be close to the town of Tully, Queensland.\n",
    "The area contains both agriculture and forest, which will allow us to compare how the vegetation in these two areas has changed over time."
   ]
  },
  {
   "cell_type": "code",
   "execution_count": null,
   "metadata": {},
   "outputs": [],
   "source": [
    "central_lat = -17.942\n",
    "central_lon = 145.887\n",
    "\n",
    "buffer = 0.05\n",
    "\n",
    "study_area_lat = (central_lat - buffer, central_lat + buffer)\n",
    "study_area_lon = (central_lon - buffer, central_lon + buffer)\n",
    "\n",
    "print(study_area_lat)\n",
    "print(study_area_lon)"
   ]
  },
  {
   "cell_type": "markdown",
   "metadata": {},
   "source": [
    "### Test areas"
   ]
  },
  {
   "cell_type": "markdown",
   "metadata": {},
   "source": [
    "Use markdown text for detailed, descriptive text explaining what the code below does and why it is needed."
   ]
  },
  {
   "cell_type": "code",
   "execution_count": null,
   "metadata": {},
   "outputs": [],
   "source": [
    "# Use code comments for low-level documentation of code\n",
    "a = 1"
   ]
  },
  {
   "cell_type": "markdown",
   "metadata": {},
   "source": [
    "### Subheading 1\n",
    "Use subheadings to break up steps within a single section."
   ]
  },
  {
   "cell_type": "code",
   "execution_count": null,
   "metadata": {},
   "outputs": [],
   "source": [
    "# Use code comments for low-level documentation of code\n",
    "b = 2"
   ]
  },
  {
   "cell_type": "markdown",
   "metadata": {},
   "source": [
    "## Heading 2\n",
    "Use markdown text for detailed, descriptive text explaining what the code below does and why it is needed."
   ]
  },
  {
   "cell_type": "code",
   "execution_count": null,
   "metadata": {},
   "outputs": [],
   "source": [
    "# Use code comments for low-level documentation of code\n",
    "c = 3"
   ]
  },
  {
   "cell_type": "markdown",
   "metadata": {},
   "source": [
    "## Additional information"
   ]
  },
  {
   "cell_type": "markdown",
   "metadata": {},
   "source": [
    "**License:** The code in this notebook is licensed under the [Apache License, Version 2.0](https://www.apache.org/licenses/LICENSE-2.0). \n",
    "Digital Earth Australia data is licensed under the [Creative Commons by Attribution 4.0](https://creativecommons.org/licenses/by/4.0/) license.\n",
    "\n",
    "**Contact:** If you need assistance, please post a question on the [Open Data Cube Slack channel](http://slack.opendatacube.org/) or on the [GIS Stack Exchange](https://gis.stackexchange.com/questions/ask?tags=open-data-cube) using the `open-data-cube` tag (you can view previously asked questions [here](https://gis.stackexchange.com/questions/tagged/open-data-cube)).\n",
    "If you would like to report an issue with this notebook, you can file one on [Github](https://github.com/GeoscienceAustralia/dea-notebooks).\n",
    "\n",
    "**Last modified:** September 2019\n",
    "\n",
    "**Compatible `datacube` version:** "
   ]
  },
  {
   "cell_type": "code",
   "execution_count": null,
   "metadata": {},
   "outputs": [],
   "source": [
    "print(datacube.__version__)"
   ]
  },
  {
   "cell_type": "markdown",
   "metadata": {},
   "source": [
    "## Tags\n",
    "Browse all available tags on the DEA User Guide's [Tags Index](https://docs.dea.ga.gov.au/genindex.html)"
   ]
  },
  {
   "cell_type": "raw",
   "metadata": {
    "raw_mimetype": "text/restructuredtext"
   },
   "source": [
    "**Tags**: :index:`sandbox_compatible`, :index:`nci_compatible`, :index:`template`, :index:`dc.load`, :index:`plotting`, :index:`landsat8`, :index:`pixeldrill`"
   ]
  }
 ],
 "metadata": {
  "kernelspec": {
   "display_name": "Python 3",
   "language": "python",
   "name": "python3"
  },
  "language_info": {
   "codemirror_mode": {
    "name": "ipython",
    "version": 3
   },
   "file_extension": ".py",
   "mimetype": "text/x-python",
   "name": "python",
   "nbconvert_exporter": "python",
   "pygments_lexer": "ipython3",
   "version": "3.6.8"
  },
  "widgets": {
   "application/vnd.jupyter.widget-state+json": {
    "state": {},
    "version_major": 2,
    "version_minor": 0
   }
  }
 },
 "nbformat": 4,
 "nbformat_minor": 4
}
