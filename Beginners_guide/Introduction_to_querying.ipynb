{
 "cells": [
  {
   "cell_type": "markdown",
   "metadata": {},
   "source": [
    "## Introduction to querying"
   ]
  },
  {
   "cell_type": "markdown",
   "metadata": {},
   "source": [
    "**Notebook currently compatible with the `NCI`|`DEA Sandbox` environment only**"
   ]
  },
  {
   "cell_type": "markdown",
   "metadata": {},
   "source": [
    "## Background\n",
    "All DEA analyses require the basic construction of a data query which specifies the what? where? and when? of the data request.\n",
    "Each query returns an xarray dataset containing the contents of your request.\n",
    "It is essential to understand the xarray dataset as it is fundamental to the structure of the datacube.\n",
    "Manipulations, transformations and visualisation of the xarray contents provide datacube users with the ability to explore DEA datasets and pose and answer scientific questions.\n",
    "This notebook introduces how to construct and customise datacube queries in addition to introducing the xarray dataset."
   ]
  },
  {
   "cell_type": "markdown",
   "metadata": {},
   "source": [
    "## Prerequisites\n",
    "Users of this notebook should have a basic understanding of:\n",
    "* how to run a [Jupyter notebook](future link to Intro_to_Jupyter)\n",
    "* the basic structure of the DEA [satellite datasets](future link to Intro_to_DEA)\n",
    "* how to identify [DEA products and measurements](future link to Intro_to_products_and_measurements)"
   ]
  },
  {
   "cell_type": "markdown",
   "metadata": {},
   "source": [
    "## Description\n",
    "This notebook will introduce how to load data from the datacube through the construction of a query and use of the *load* function.\n",
    "Topics covered include:\n",
    "* Loading data\n",
    "* Reading the resulting xarray dataset\n",
    "* Customising the load function\n",
    "  * measurements\n",
    "  * crs reprojection "
   ]
  },
  {
   "cell_type": "markdown",
   "metadata": {},
   "source": [
    "## Technical details\n",
    "* **Products used:** `ls7_nbart_geomedian_annual`\n",
    "* **Analyses used:** load data"
   ]
  },
  {
   "cell_type": "markdown",
   "metadata": {},
   "source": [
    "## Getting started\n",
    "To run this introduction to querying, run all the cells in the notebook, starting with the \"Connect to the datacube\" cell. "
   ]
  },
  {
   "cell_type": "markdown",
   "metadata": {},
   "source": [
    "### Connect to the datacube\n",
    "Give your datacube app a unique name that is consistent with the purpose of the notebook."
   ]
  },
  {
   "cell_type": "code",
   "execution_count": 1,
   "metadata": {},
   "outputs": [],
   "source": [
    "import datacube\n",
    "\n",
    "# Temporary solution to account for Collection 3 data being in a different\n",
    "# database on the NCI\n",
    "try:\n",
    "    dc = datacube.Datacube(app=\"Introduction_to_querying\", env=\"c3-samples\")\n",
    "except:\n",
    "    dc = datacube.Datacube(app=\"Introduction_to_querying\")"
   ]
  },
  {
   "cell_type": "markdown",
   "metadata": {},
   "source": [
    "## Loading data\n",
    "\n",
    "Loading data from the datacube uses the *load* function.\n",
    "\n",
    "The function requires the following minimum arguments:\n",
    "\n",
    "* **product**; A specifc product to load. To revise DEA products, see the [Introduction_to_products_and_measurements](future link to Intro_to_products_and_measurements)\n",
    "* **x**; Defines the spatial region in the *x* dimension. By default, the *x* and *y* arguments accept queries in a geographical co-ordinate system WGS84, identified by the EPSG code *4326*.\n",
    "* **y**; Defines the spatial region in the *y* dimension. The dimensions ``longitude``/``latitude`` and ``x``/``y`` can be used interchangeably.\n",
    "* **time**; Defines the temporal extent. The time dimension can be specified using a tuple of datetime objects or strings with YYYY-MM-DD hh:mm:ss format. \n",
    "\n",
    "Lets run a query to load all datasets within the landsat 7 nbart annual geomedian product for Moreton Bay in QLD.\n",
    "The *load* function requires the minimum following criteria:\n",
    "\n",
    "* **product**: ls7_nbart_geomedian_annual\n",
    "* **location**: x=(153.3, 153.4), y=(-27.5, -27.6)\n",
    "* **time period**: 2015-01-01 to 2016-01-01\n",
    "\n",
    "Run the following cell to load all matching datasets"
   ]
  },
  {
   "cell_type": "code",
   "execution_count": 2,
   "metadata": {},
   "outputs": [],
   "source": [
    "data = dc.load(\n",
    "    product=\"ls7_nbart_geomedian_annual\",\n",
    "    x=(153.3, 153.4),\n",
    "    y=(-27.5, -27.6),\n",
    "    time=(\"2015-01-01\", \"2016-01-01\"),\n",
    ")"
   ]
  },
  {
   "cell_type": "code",
   "execution_count": 3,
   "metadata": {},
   "outputs": [
    {
     "name": "stdout",
     "output_type": "stream",
     "text": [
      "<xarray.Dataset>\n",
      "Dimensions:  (time: 2, x: 461, y: 508)\n",
      "Coordinates:\n",
      "  * time     (time) datetime64[ns] 2015-01-01 2016-01-01\n",
      "  * y        (y) float64 -3.156e+06 -3.156e+06 ... -3.168e+06 -3.168e+06\n",
      "  * x        (x) float64 2.067e+06 2.067e+06 2.067e+06 ... 2.079e+06 2.079e+06\n",
      "Data variables:\n",
      "    blue     (time, y, x) int16 519 496 480 499 503 506 ... 366 316 287 289 300\n",
      "    green    (time, y, x) int16 563 555 545 558 552 553 ... 565 487 456 415 460\n",
      "    red      (time, y, x) int16 308 306 312 314 307 308 ... 490 419 400 365 390\n",
      "    nir      (time, y, x) int16 207 183 183 189 187 ... 2866 2650 2505 2440 2538\n",
      "    swir1    (time, y, x) int16 89 88 88 99 112 117 ... 1752 1368 1127 1120 1229\n",
      "    swir2    (time, y, x) int16 75 98 87 82 91 94 96 ... 894 898 657 573 495 553\n",
      "Attributes:\n",
      "    crs:      EPSG:3577\n"
     ]
    }
   ],
   "source": [
    "print(data)"
   ]
  },
  {
   "cell_type": "markdown",
   "metadata": {},
   "source": [
    "### Reading the result xarray.Dataset\n",
    "The variable *data* has returned an xarray Dataset containing all matching datasets.\n",
    "\n",
    "*Dimensions* \n",
    "* identifies the number of temporal datasets returned in the search as well as the number of pixels in the x and y directions of the data query.\n",
    "\n",
    "*Coordinates* \n",
    "* *time* identifies the date attributed to each returned dataset\n",
    "* *x* and *y* are the coordinates for the pixels within the spatial bounds of your query\n",
    "\n",
    "*Data variables*\n",
    "* These are the measurements available for the nominated product. For every date (time) returned by the query, the spectral response for each pixel (y, x) is returned as an array for each measurement.\n",
    "\n",
    "*Attributes*\n",
    "* *crs* identifies the coordinate reference system. "
   ]
  },
  {
   "cell_type": "markdown",
   "metadata": {},
   "source": [
    "## Customising the *load* function\n",
    "\n",
    "The *load* function can be tailored to refine a query.\n",
    "\n",
    "Customisation options include\n",
    "\n",
    "*measurements*\n",
    "\n",
    "* The measurements argument is a list of measurement names, as listed in `dc.list_measurements()`. If not provided, all measurements for the product will be returned.\n",
    "\n",
    "*crs*\n",
    "\n",
    "* The crs of the query is assumed to be WGS84/EPSG:4326 unless the `crs field` is supplied, even if the stored data is in another projection or the `output_crs` is specified. \n",
    "\n",
    "*group_by*\n",
    "\n",
    "* For EO-specific datasets that are based around scenes, the time dimension can be reduced to the day level, using solar day to keep scenes together. \n",
    "        E.g. `group_by=solar_day`                 \n",
    "\n",
    "*reproject/resample*\n",
    "\n",
    "* To reproject or resample the data, supply the ``output_crs`` and ``resolution`` fields. \n",
    "        Eg. To reproject data to 25m resolution for EPSG:3577:          \n",
    "        dc.load(\n",
    "            product='ls5_nbar_albers', \n",
    "            x=(148.15, 148.2), \n",
    "            y=(-35.15, -35.2), \n",
    "            time=('1990', '1991'), \n",
    "            output_crs='EPSG:3577`, \n",
    "            resolution=(-25, 25))\n",
    "             \n",
    "\n",
    "For help or more customisation options, run `help(dc.load)` in an empty cell\n",
    "\n",
    "Example syntax on the use of these options follows in the cells below."
   ]
  },
  {
   "cell_type": "markdown",
   "metadata": {},
   "source": [
    "### measurements"
   ]
  },
  {
   "cell_type": "code",
   "execution_count": 4,
   "metadata": {},
   "outputs": [
    {
     "name": "stdout",
     "output_type": "stream",
     "text": [
      "<xarray.Dataset>\n",
      "Dimensions:  (time: 2, x: 461, y: 508)\n",
      "Coordinates:\n",
      "  * time     (time) datetime64[ns] 2015-01-01 2016-01-01\n",
      "  * y        (y) float64 -3.156e+06 -3.156e+06 ... -3.168e+06 -3.168e+06\n",
      "  * x        (x) float64 2.067e+06 2.067e+06 2.067e+06 ... 2.079e+06 2.079e+06\n",
      "Data variables:\n",
      "    red      (time, y, x) int16 308 306 312 314 307 308 ... 490 419 400 365 390\n",
      "    blue     (time, y, x) int16 519 496 480 499 503 506 ... 366 316 287 289 300\n",
      "    green    (time, y, x) int16 563 555 545 558 552 553 ... 565 487 456 415 460\n",
      "Attributes:\n",
      "    crs:      EPSG:3577\n"
     ]
    }
   ],
   "source": [
    "# Note the optional inclusion of the measurements list\n",
    "\n",
    "data_rgb = dc.load(\n",
    "    product=\"ls7_nbart_geomedian_annual\",\n",
    "    x=(153.3, 153.4),\n",
    "    y=(-27.5, -27.6),\n",
    "    time=(\"2015-01-01\", \"2016-01-01\"),\n",
    "    measurements=[\"red\", \"blue\", \"green\"],\n",
    ")\n",
    "\n",
    "print(data_rgb)"
   ]
  },
  {
   "cell_type": "markdown",
   "metadata": {},
   "source": [
    "Note that the *Data variables* component of the xarray now includes only the measurements specified in the query\n",
    "\n",
    "#### crs reprojection\n",
    "Certain applications may require that you output your data into a specific crs.\n",
    "You can reproject your output data by specifying the new `output_crs` and identifying the `resolution` required.\n",
    "In this example, the resolution is a pixel size, 30 x 30 m."
   ]
  },
  {
   "cell_type": "code",
   "execution_count": 5,
   "metadata": {},
   "outputs": [
    {
     "name": "stdout",
     "output_type": "stream",
     "text": [
      "<xarray.Dataset>\n",
      "Dimensions:    (latitude: 1, longitude: 1, time: 2)\n",
      "Coordinates:\n",
      "  * time       (time) datetime64[ns] 2015-01-01 2016-01-01\n",
      "  * latitude   (latitude) float64 -15.0\n",
      "  * longitude  (longitude) float64 165.0\n",
      "Data variables:\n",
      "    blue       (time, latitude, longitude) int16 -999 -999\n",
      "    green      (time, latitude, longitude) int16 -999 -999\n",
      "    red        (time, latitude, longitude) int16 -999 -999\n",
      "    nir        (time, latitude, longitude) int16 -999 -999\n",
      "    swir1      (time, latitude, longitude) int16 -999 -999\n",
      "    swir2      (time, latitude, longitude) int16 -999 -999\n",
      "Attributes:\n",
      "    crs:      EPSG: 4326\n"
     ]
    }
   ],
   "source": [
    "# This is the same query as initially appears in the notebook. Note the different crs attribute in the xarray.Dataset\n",
    "\n",
    "data_crs_reprojected = dc.load(\n",
    "    product=\"ls7_nbart_geomedian_annual\",\n",
    "    x=(153.3, 153.4),\n",
    "    y=(-27.5, -27.6),\n",
    "    time=(\"2015-01-01\", \"2016-01-01\"),\n",
    "    output_crs=\"EPSG: 4326\",\n",
    "    resolution=(30, 30),\n",
    ")\n",
    "print(data_crs_reprojected)"
   ]
  },
  {
   "cell_type": "markdown",
   "metadata": {},
   "source": [
    "## Recommended next steps\n",
    "\n",
    "To continue following the introductory notebooks in the beginners guide, users are recommended to continue with:\n",
    "\n",
    "- [Introduction_to_plotting](link to notebook)\n",
    "- [Run_a_basic_analysis](link to notebook)\n",
    "\n",
    "Advanced users are recommended to explore:\n",
    "- [Using `load_ard`](https://github.com/GeoscienceAustralia/dea-notebooks/blob/Intro_to_products/Frequently_used_code/Using_load_ard.ipynb). This function allows the importing of cloud-free observations from multiple sensors into an xarray dataset. Furthermore, you can query for observations with a user-specified minimum proportion of good quality, non-cloudy or shadowed pixels.\n",
    "- [DEA_datasets](https://github.com/GeoscienceAustralia/dea-notebooks/tree/develop/DEA_datasets) part of the repository.Here you can explore DEA products in depth.\n",
    "- Continue exploring some with some [real world applications](https://github.com/GeoscienceAustralia/dea-notebooks/tree/develop/Real_world_examples)"
   ]
  },
  {
   "cell_type": "markdown",
   "metadata": {},
   "source": [
    "## Additional information"
   ]
  },
  {
   "cell_type": "markdown",
   "metadata": {},
   "source": [
    "**License:** The code in this notebook is licensed under the [Apache License, Version 2.0](https://www.apache.org/licenses/LICENSE-2.0). \n",
    "Digital Earth Australia data is licensed under the [Creative Commons by Attribution 4.0](https://creativecommons.org/licenses/by/4.0/) license.\n",
    "\n",
    "**Contact:** If you need assistance, please post a question on the [Open Data Cube Slack channel](http://slack.opendatacube.org/) or on the [GIS Stack Exchange](https://gis.stackexchange.com/questions/ask?tags=open-data-cube) using the `open-data-cube` tag (you can view previously asked questions [here](https://gis.stackexchange.com/questions/tagged/open-data-cube)).\n",
    "If you would like to report an issue with this notebook, you can file one on [Github](https://github.com/GeoscienceAustralia/dea-notebooks).\n",
    "\n",
    "**Last modified:** October 2019\n",
    "\n",
    "**Compatible `datacube` version:** "
   ]
  },
  {
   "cell_type": "code",
   "execution_count": 6,
   "metadata": {},
   "outputs": [
    {
     "name": "stdout",
     "output_type": "stream",
     "text": [
      "1.7+43.gc873f3ea.dirty\n"
     ]
    }
   ],
   "source": [
    "print(datacube.__version__)"
   ]
  },
  {
   "cell_type": "markdown",
   "metadata": {},
   "source": [
    "## Tags\n",
    "Browse all available tags on the DEA User Guide's [Tags Index](https://docs.dea.ga.gov.au/genindex.html)"
   ]
  },
  {
   "cell_type": "raw",
   "metadata": {
    "raw_mimetype": "text/restructuredtext"
   },
   "source": [
    "**Tags**: :index:`sandbox_compatible`, :index:`nci_compatible`, :index:`dc.load`,"
   ]
  }
 ],
 "metadata": {
  "kernelspec": {
   "display_name": "Python 3",
   "language": "python",
   "name": "python3"
  },
  "language_info": {
   "codemirror_mode": {
    "name": "ipython",
    "version": 3
   },
   "file_extension": ".py",
   "mimetype": "text/x-python",
   "name": "python",
   "nbconvert_exporter": "python",
   "pygments_lexer": "ipython3",
   "version": "3.6.8"
  }
 },
 "nbformat": 4,
 "nbformat_minor": 4
}
