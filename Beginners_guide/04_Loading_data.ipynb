{
 "cells": [
  {
   "cell_type": "markdown",
   "metadata": {},
   "source": [
    "## Introduction to loading data from Digital Earth Australia\n",
    "* **Compatability:** Notebook currently compatible with both the `NCI` and `DEA Sandbox` environments\n",
    "* **Products used:** \n",
    "[`ls7_nbart_geomedian_annual`](https://explorer.sandbox.dea.ga.gov.au/ls7_nbart_geomedian_annual) \n",
    "* **Prerequisites:** Users of this notebook should have a basic understanding of:\n",
    "    * How to run a [Jupyter notebook](Introduction_to_Jupyter.ipynb)\n",
    "    * The basic structure of the DEA [satellite datasets](Introduction_to_DEA.ipynb)\n",
    "    * Inspecting available [DEA products and measurements](Introduction_to_products_and_measurements.ipynb)"
   ]
  },
  {
   "cell_type": "markdown",
   "metadata": {},
   "source": [
    "## Background\n",
    "All Digital Earth Australia (DEA) analyses require the basic construction of a data query that specifies the what, where, and when of the data request.\n",
    "Each query returns a multi-dimensional `xarray.Dataset` containing the contents of your request.\n",
    "It is essential to understand the `xarray.Dataset` as it is fundamental to the structure of data loaded from the datacube.\n",
    "Manipulations, transformations and visualisation of the `xarray.Dataset` contents provide datacube users with the ability to explore and analyse DEA datasets, as well as pose and answer scientific questions."
   ]
  },
  {
   "cell_type": "markdown",
   "metadata": {},
   "source": [
    "## Description\n",
    "This notebook will introduce how to load data from the datacube through the construction of a query and use of the `dc.load()` function.\n",
    "Topics covered include:\n",
    "* Loading data using `dc.load`\n",
    "* Reading the resulting `xarray.Dataset` object\n",
    "* Customising parameters passed to the `dc.load` function\n",
    "  * Measurements\n",
    "  * Coordinate reference system (CRS) reprojection "
   ]
  },
  {
   "cell_type": "markdown",
   "metadata": {},
   "source": [
    "## Getting started\n",
    "To run this introduction to querying, run all the cells in the notebook, starting with the \"Connect to the datacube\" cell. "
   ]
  },
  {
   "cell_type": "markdown",
   "metadata": {},
   "source": [
    "### Load packages\n",
    "First we need to load the `datacube` package.\n",
    "This will allow us to query the datacube database and load some data."
   ]
  },
  {
   "cell_type": "code",
   "execution_count": 1,
   "metadata": {},
   "outputs": [],
   "source": [
    "import datacube"
   ]
  },
  {
   "cell_type": "markdown",
   "metadata": {},
   "source": [
    "### Connect to the datacube\n",
    "We then need to connect to the datacube database.\n",
    "We will then be able to use the `dc` datacube object to load data."
   ]
  },
  {
   "cell_type": "code",
   "execution_count": 2,
   "metadata": {},
   "outputs": [],
   "source": [
    "dc = datacube.Datacube(app=\"04_Loading_data\")"
   ]
  },
  {
   "cell_type": "markdown",
   "metadata": {},
   "source": [
    "## Loading data using `dc.load`\n",
    "\n",
    "Loading data from the datacube uses the [`dc.load()`](https://datacube-core.readthedocs.io/en/latest/dev/api/generate/datacube.Datacube.load.html) function.\n",
    "\n",
    "The function requires the following minimum arguments:\n",
    "\n",
    "* **product**: A specifc product to load (to revise DEA products, see the [Introduction_to_products_and_measurements](Intro_to_products_and_measurements.ipynb) notebook).\n",
    "* **x**: Defines the spatial region in the *x* dimension. By default, the *x* and *y* arguments accept queries in a geographical co-ordinate system WGS84, identified by the EPSG code *4326*.\n",
    "* **y**: Defines the spatial region in the *y* dimension. The dimensions ``longitude``/``latitude`` and ``x``/``y`` can be used interchangeably.\n",
    "* **time**: Defines the temporal extent. The time dimension can be specified using a tuple of datetime objects or strings with \"YYYY\", \"YYYY-MM\" or \"YYYY-MM-DD\" format. \n",
    "\n",
    "Let's run a query to load data from the Landsat 7 NBAR-T annual geomedian product for Moreton Bay in southern Queensland. \n",
    "For this example, we can use the following parameters:\n",
    "\n",
    "* **product**: `ls7_nbart_geomedian_annual`\n",
    "* **x**: `(153.3, 153.4)`\n",
    "* **y**: `(-27.5, -27.6)`\n",
    "* **time**: `(\"2015-01-01\", \"2016-01-01\")`\n",
    "\n",
    "Run the following cell to load all datasets from the `ls7_nbart_geomedian_annual` product that match this spatial and temporal extent:"
   ]
  },
  {
   "cell_type": "code",
   "execution_count": 3,
   "metadata": {},
   "outputs": [],
   "source": [
    "ds = dc.load(product=\"ls7_nbart_geomedian_annual\",\n",
    "             x=(153.3, 153.4),\n",
    "             y=(-27.5, -27.6),\n",
    "             time=(\"2015-01-01\", \"2016-01-01\"))\n",
    "\n",
    "print(ds)"
   ]
  },
  {
   "cell_type": "markdown",
   "metadata": {},
   "source": [
    "### Understanding the resulting `xarray.Dataset`\n",
    "The variable `ds` has returned an `xarray.Dataset` containing all data that matched the spatial and temporal query parameters inputted into `dc.load`.\n",
    "\n",
    "*Dimensions* \n",
    "* Identifies the number of temporal datasets returned in the search as well as the number of pixels in the `x` and `y` directions of the data query.\n",
    "\n",
    "*Coordinates* \n",
    "* `time` identifies the date attributed to each returned dataset\n",
    "* `x` and `y` are the coordinates for the pixels within the spatial bounds of your query\n",
    "\n",
    "*Data variables*\n",
    "* These are the measurements available for the nominated product. \n",
    "For every date (`time`) returned by the query, the measured value at each pixel (`y`, `x`) is returned as an array for each measurement.\n",
    "\n",
    "*Attributes*\n",
    "* `crs` identifies the coordinate reference system of the loaded data. "
   ]
  },
  {
   "cell_type": "markdown",
   "metadata": {},
   "source": [
    "## Customising the `dc.load` function\n",
    "\n",
    "The `dc.load()` function can be tailored to refine a query.\n",
    "\n",
    "Customisation options include:\n",
    "\n",
    "* **measurements:** The measurements argument is a list of measurement names, as listed in `dc.list_measurements()`. \n",
    "For satellite datasets, measurements contain data for each individual satellite band (e.g. near infrared). \n",
    "If not provided, all measurements for the product will be returned.\n",
    "* **crs:** The crs of the query is assumed to be `WGS84`/`EPSG:4326` unless the `crs` field is supplied, even if the stored data is in another projection or the `output_crs` is specified. \n",
    "* **group_by:** EO-specific datasets based around scenes can have multiple observations per day with slightly different time stamps as the satellite collects data along its path.\n",
    "These observations can be combined by reducing the `time` dimension to the day level using `group_by=solar_day`.\n",
    "* **output_crs** and **resolution**: To reproject or change the resolution the data, supply the `output_crs` and `resolution` fields. For example, to reproject data to the Australian Albers (`EPSG:3577`) projection system at 25 m resolution:\n",
    "        \n",
    "```\n",
    "dc.load(product='ls5_nbar_albers', \n",
    "        x=(148.15, 148.2), \n",
    "        y=(-35.15, -35.2), \n",
    "        time=('1990', '1991'), \n",
    "        output_crs='EPSG:3577`, \n",
    "        resolution=(-25, 25))\n",
    "```\n",
    "             \n",
    "\n",
    "For help or more customisation options, run `help(dc.load)` in an empty cell. \n",
    "Example syntax on the use of these options follows in the cells below."
   ]
  },
  {
   "cell_type": "markdown",
   "metadata": {},
   "source": [
    "### Specifying measurements\n",
    "To load data from only the \"red\", \"blue\" and \"green\" satellite bands, we can add `measurements=[\"red\", \"blue\", \"green\"]` to our query:"
   ]
  },
  {
   "cell_type": "code",
   "execution_count": 5,
   "metadata": {},
   "outputs": [
    {
     "name": "stdout",
     "output_type": "stream",
     "text": [
      "<xarray.Dataset>\n",
      "Dimensions:  (time: 2, x: 461, y: 508)\n",
      "Coordinates:\n",
      "  * time     (time) datetime64[ns] 2015-01-01 2016-01-01\n",
      "  * y        (y) float64 -3.156e+06 -3.156e+06 ... -3.168e+06 -3.168e+06\n",
      "  * x        (x) float64 2.067e+06 2.067e+06 2.067e+06 ... 2.079e+06 2.079e+06\n",
      "Data variables:\n",
      "    red      (time, y, x) int16 308 306 312 314 307 308 ... 490 419 400 365 390\n",
      "    blue     (time, y, x) int16 519 496 480 499 503 506 ... 366 316 287 289 300\n",
      "    green    (time, y, x) int16 563 555 545 558 552 553 ... 565 487 456 415 460\n",
      "Attributes:\n",
      "    crs:      EPSG:3577\n"
     ]
    }
   ],
   "source": [
    "# Note the optional inclusion of the measurements list\n",
    "dataset_rgb = dc.load(product=\"ls7_nbart_geomedian_annual\",\n",
    "                      measurements=[\"red\", \"blue\", \"green\"],\n",
    "                      x=(153.3, 153.4),\n",
    "                      y=(-27.5, -27.6),\n",
    "                      time=(\"2015-01-01\", \"2016-01-01\"))\n",
    "\n",
    "print(dataset_rgb)"
   ]
  },
  {
   "cell_type": "markdown",
   "metadata": {},
   "source": [
    "Note that the *Data variables* component of the xarray now includes only the measurements specified in the query"
   ]
  },
  {
   "cell_type": "markdown",
   "metadata": {},
   "source": [
    "### CRS reprojection\n",
    "Certain applications may require that you output your data into a specific `crs`.\n",
    "You can reproject your output data by specifying the new `output_crs` and identifying the `resolution` required.\n",
    "\n",
    "In this example, we will reproject our data to a new `crs` (UTM Zone 56S, `EPSG:32756`) and resolution (250 x 250 m):"
   ]
  },
  {
   "cell_type": "code",
   "execution_count": 9,
   "metadata": {},
   "outputs": [
    {
     "name": "stdout",
     "output_type": "stream",
     "text": [
      "<xarray.Dataset>\n",
      "Dimensions:  (time: 2, x: 40, y: 45)\n",
      "Coordinates:\n",
      "  * time     (time) datetime64[ns] 2015-01-01 2016-01-01\n",
      "  * y        (y) float64 6.958e+06 6.958e+06 6.958e+06 ... 6.947e+06 6.947e+06\n",
      "  * x        (x) float64 5.296e+05 5.299e+05 5.301e+05 ... 5.391e+05 5.394e+05\n",
      "Data variables:\n",
      "    blue     (time, y, x) int16 492 447 420 419 417 421 ... 432 451 466 482 469\n",
      "    green    (time, y, x) int16 513 462 426 419 414 417 ... 446 474 494 519 491\n",
      "    red      (time, y, x) int16 269 236 211 209 206 204 ... 289 301 283 304 276\n",
      "    nir      (time, y, x) int16 168 152 138 148 145 142 ... 183 203 191 213 211\n",
      "    swir1    (time, y, x) int16 90 84 81 85 86 86 84 ... 109 107 125 119 142 136\n",
      "    swir2    (time, y, x) int16 79 76 72 79 78 77 74 ... 96 97 113 110 126 123\n",
      "Attributes:\n",
      "    crs:      EPSG:32756\n"
     ]
    }
   ],
   "source": [
    "# This is the same query as initially appears in the notebook. \n",
    "# Note the different crs attribute in the xarray.Dataset\n",
    "dataset_crs_reprojected = dc.load(product=\"ls7_nbart_geomedian_annual\",\n",
    "                                  x=(153.3, 153.4),\n",
    "                                  y=(-27.5, -27.6),\n",
    "                                  time=(\"2015-01-01\", \"2016-01-01\"),\n",
    "                                  output_crs=\"EPSG:32756\",\n",
    "                                  resolution=(-250, 250))\n",
    "\n",
    "print(dataset_crs_reprojected)"
   ]
  },
  {
   "cell_type": "markdown",
   "metadata": {},
   "source": [
    "Note that due to the larger 250 m resolution there are now less pixels on the `x` and `y` dimensions (e.g. `x: 40, y: 45` compared to `x: 461, y: 508` in earlier examples)."
   ]
  },
  {
   "cell_type": "markdown",
   "metadata": {},
   "source": [
    "### Loading data using the 'query' syntax\n",
    "It is often useful to re-use a set of query parameters to load data from multiple products.\n",
    "To achieve this, we can load data using `dc.load` using the \"query\" dictionary syntax.\n",
    "This involves placing the query parameters we used to load data above inside a Python dictionary object which we can re-use for multiple data loads."
   ]
  },
  {
   "cell_type": "code",
   "execution_count": 13,
   "metadata": {},
   "outputs": [
    {
     "name": "stdout",
     "output_type": "stream",
     "text": [
      "{'x': (153.3, 153.4), 'y': (-27.5, -27.6), 'time': ('2015-01-01', '2016-01-01')}\n"
     ]
    }
   ],
   "source": [
    "query = {'x': (153.3, 153.4),\n",
    "         'y': (-27.5, -27.6),\n",
    "         'time': ('2015-01-01', '2016-01-01')}\n",
    "\n",
    "print(query)"
   ]
  },
  {
   "cell_type": "markdown",
   "metadata": {},
   "source": [
    "We can then use this query dictionary object as an input to `dc.load`:"
   ]
  },
  {
   "cell_type": "code",
   "execution_count": 15,
   "metadata": {},
   "outputs": [
    {
     "name": "stdout",
     "output_type": "stream",
     "text": [
      "<xarray.Dataset>\n",
      "Dimensions:  (time: 2, x: 461, y: 508)\n",
      "Coordinates:\n",
      "  * time     (time) datetime64[ns] 2015-01-01 2016-01-01\n",
      "  * y        (y) float64 -3.156e+06 -3.156e+06 ... -3.168e+06 -3.168e+06\n",
      "  * x        (x) float64 2.067e+06 2.067e+06 2.067e+06 ... 2.079e+06 2.079e+06\n",
      "Data variables:\n",
      "    blue     (time, y, x) int16 519 496 480 499 503 506 ... 366 316 287 289 300\n",
      "    green    (time, y, x) int16 563 555 545 558 552 553 ... 565 487 456 415 460\n",
      "    red      (time, y, x) int16 308 306 312 314 307 308 ... 490 419 400 365 390\n",
      "    nir      (time, y, x) int16 207 183 183 189 187 ... 2866 2650 2505 2440 2538\n",
      "    swir1    (time, y, x) int16 89 88 88 99 112 117 ... 1752 1368 1127 1120 1229\n",
      "    swir2    (time, y, x) int16 75 98 87 82 91 94 96 ... 894 898 657 573 495 553\n",
      "Attributes:\n",
      "    crs:      EPSG:3577\n"
     ]
    }
   ],
   "source": [
    "ds = dc.load(product=\"ls7_nbart_geomedian_annual\",\n",
    "             **query)\n",
    "\n",
    "print(ds)"
   ]
  },
  {
   "cell_type": "markdown",
   "metadata": {},
   "source": [
    "Query dictionaries can contain any set of parameters that would usually be provided to `dc.load`:"
   ]
  },
  {
   "cell_type": "code",
   "execution_count": 17,
   "metadata": {},
   "outputs": [
    {
     "name": "stdout",
     "output_type": "stream",
     "text": [
      "<xarray.Dataset>\n",
      "Dimensions:  (time: 2, x: 40, y: 45)\n",
      "Coordinates:\n",
      "  * time     (time) datetime64[ns] 2015-01-01 2016-01-01\n",
      "  * y        (y) float64 6.958e+06 6.958e+06 6.958e+06 ... 6.947e+06 6.947e+06\n",
      "  * x        (x) float64 5.296e+05 5.299e+05 5.301e+05 ... 5.391e+05 5.394e+05\n",
      "Data variables:\n",
      "    blue     (time, y, x) int16 492 447 420 419 417 421 ... 432 451 466 482 469\n",
      "    green    (time, y, x) int16 513 462 426 419 414 417 ... 446 474 494 519 491\n",
      "    red      (time, y, x) int16 269 236 211 209 206 204 ... 289 301 283 304 276\n",
      "    nir      (time, y, x) int16 168 152 138 148 145 142 ... 183 203 191 213 211\n",
      "    swir1    (time, y, x) int16 90 84 81 85 86 86 84 ... 109 107 125 119 142 136\n",
      "    swir2    (time, y, x) int16 79 76 72 79 78 77 74 ... 96 97 113 110 126 123\n",
      "Attributes:\n",
      "    crs:      EPSG:32756\n"
     ]
    }
   ],
   "source": [
    "query = {'x': (153.3, 153.4),\n",
    "         'y': (-27.5, -27.6),\n",
    "         'time': ('2015-01-01', '2016-01-01'),\n",
    "         'output_crs': 'EPSG:32756',\n",
    "         'resolution': (-250, 250)}\n",
    "\n",
    "ds = dc.load(product=\"ls7_nbart_geomedian_annual\",\n",
    "             **query)\n",
    "\n",
    "print(ds)\n"
   ]
  },
  {
   "cell_type": "markdown",
   "metadata": {},
   "source": [
    "## Recommended next steps\n",
    "\n",
    "To continue following the introductory notebooks in the beginners guide, users are recommended to continue with:\n",
    "\n",
    "- [Introduction_to_plotting](link to notebook)\n",
    "- [Run_a_basic_analysis](link to notebook)\n",
    "\n",
    "Advanced users are recommended to explore:\n",
    "- [Using load_ard](https://github.com/GeoscienceAustralia/dea-notebooks/blob/Intro_to_products/Frequently_used_code/Using_load_ard.ipynb). This function allows the importing of cloud-free observations from multiple sensors into an xarray dataset. Furthermore, you can query for observations with a user-specified minimum proportion of good quality, non-cloudy or shadowed pixels.\n",
    "- [DEA_datasets](https://github.com/GeoscienceAustralia/dea-notebooks/tree/develop/DEA_datasets) part of the repository.Here you can explore DEA products in depth.\n",
    "- Continue exploring some with some [real world applications](https://github.com/GeoscienceAustralia/dea-notebooks/tree/develop/Real_world_examples)"
   ]
  },
  {
   "cell_type": "markdown",
   "metadata": {},
   "source": [
    "## Additional information"
   ]
  },
  {
   "cell_type": "markdown",
   "metadata": {},
   "source": [
    "**License:** The code in this notebook is licensed under the [Apache License, Version 2.0](https://www.apache.org/licenses/LICENSE-2.0). \n",
    "Digital Earth Australia data is licensed under the [Creative Commons by Attribution 4.0](https://creativecommons.org/licenses/by/4.0/) license.\n",
    "\n",
    "**Contact:** If you need assistance, please post a question on the [Open Data Cube Slack channel](http://slack.opendatacube.org/) or on the [GIS Stack Exchange](https://gis.stackexchange.com/questions/ask?tags=open-data-cube) using the `open-data-cube` tag (you can view previously asked questions [here](https://gis.stackexchange.com/questions/tagged/open-data-cube)).\n",
    "If you would like to report an issue with this notebook, you can file one on [Github](https://github.com/GeoscienceAustralia/dea-notebooks).\n",
    "\n",
    "**Last modified:** October 2019\n",
    "\n",
    "**Compatible `datacube` version:** "
   ]
  },
  {
   "cell_type": "code",
   "execution_count": null,
   "metadata": {},
   "outputs": [],
   "source": [
    "print(datacube.__version__)"
   ]
  },
  {
   "cell_type": "markdown",
   "metadata": {},
   "source": [
    "## Tags\n",
    "Browse all available tags on the DEA User Guide's [Tags Index](https://docs.dea.ga.gov.au/genindex.html)"
   ]
  },
  {
   "cell_type": "raw",
   "metadata": {
    "raw_mimetype": "text/restructuredtext"
   },
   "source": [
    "**Tags**: :index:`sandbox compatible`, :index:`nci compatible`, :index:`dc.load`, :index:`landsat 7`, :index:`crs`"
   ]
  }
 ],
 "metadata": {
  "kernelspec": {
   "display_name": "Python 3",
   "language": "python",
   "name": "python3"
  },
  "language_info": {
   "codemirror_mode": {
    "name": "ipython",
    "version": 3
   },
   "file_extension": ".py",
   "mimetype": "text/x-python",
   "name": "python",
   "nbconvert_exporter": "python",
   "pygments_lexer": "ipython3",
   "version": "3.6.8"
  },
  "widgets": {
   "application/vnd.jupyter.widget-state+json": {
    "state": {},
    "version_major": 2,
    "version_minor": 0
   }
  }
 },
 "nbformat": 4,
 "nbformat_minor": 4
}
