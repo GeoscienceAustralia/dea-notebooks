{
 "cells": [
  {
   "cell_type": "markdown",
   "metadata": {},
   "source": [
    "# Introduction to loading data <img align=\"right\" src=\"../Supplementary_data/dea_logo.jpg\">\n",
    "\n",
    "* **Compatability:** Notebook currently compatible with both the `NCI` and `DEA Sandbox` environments\n",
    "* **Products used:** \n",
    "[ls7_nbart_geomedian_annual](https://explorer.sandbox.dea.ga.gov.au/ls7_nbart_geomedian_annual),\n",
    "[ls8_nbart_geomedian_annual](https://explorer.sandbox.dea.ga.gov.au/ls8_nbart_geomedian_annual)\n",
    "* **Prerequisites:** Users of this notebook should have a basic understanding of:\n",
    "    * How to run a [Jupyter notebook](01_Jupyter_notebooks.ipynb)\n",
    "    * The basic structure of the DEA [satellite datasets](02_DEA.ipynb)\n",
    "    * Inspecting available [DEA products and measurements](03_Products_and_measurements.ipynb)\n",
    "    "
   ]
  },
  {
   "cell_type": "markdown",
   "metadata": {},
   "source": [
    "## Background\n",
    "Loading data from the [Digital Earth Australia (DEA)](https://www.ga.gov.au/dea) instance of the [Open Data Cube](https://www.opendatacube.org/) requires the construction of a data query that specifies the what, where, and when of the data request.\n",
    "Each query returns a [multi-dimensional xarray object](http://xarray.pydata.org/en/stable/) containing the contents of your query.\n",
    "It is essential to understand the `xarray` data structures as they are fundamental to the structure of data loaded from the datacube.\n",
    "Manipulations, transformations and visualisation of `xarray` objects provide datacube users with the ability to explore and analyse DEA datasets, as well as pose and answer scientific questions."
   ]
  },
  {
   "cell_type": "markdown",
   "metadata": {},
   "source": [
    "## Description\n",
    "This notebook will introduce how to load data from the DEA datacube through the construction of a query and use of the `dc.load()` function.\n",
    "Topics covered include:\n",
    "\n",
    "1. Loading data using `dc.load()`\n",
    "2. Interpreting the resulting `xarray.Dataset` object\n",
    "    * Inspecting an individual `xarray.DataArray`\n",
    "3. Customising parameters passed to the `dc.load()` function\n",
    "    * Loading specific measurements\n",
    "    * Loading data for coordinates in a custom coordinate reference system (CRS)\n",
    "    * Projecting data to a new CRS and spatial resolution \n",
    "    * Specifying a specific spatial resampling method\n",
    "4. Loading data using a reusable dictionary query\n",
    "5. Loading matching data from multiple products using `like`\n",
    "6. Adding a progress bar to the data load\n",
    "\n",
    "***"
   ]
  },
  {
   "cell_type": "markdown",
   "metadata": {},
   "source": [
    "## Getting started\n",
    "To run this introduction to loading data from DEA, run all the cells in the notebook starting with the \"Load packages\" cell. For help with running notebook cells, refer back to the [Jupyter Notebooks notebook](01_Jupyter_notebooks.ipynb)."
   ]
  },
  {
   "cell_type": "markdown",
   "metadata": {},
   "source": [
    "### Load packages\n",
    "The `datacube` package is required to query the datacube database and load some data. \n",
    "The `with_ui_cbk` function from `odc.ui` enables a progress bar when loading large amounts of data."
   ]
  },
  {
   "cell_type": "code",
   "execution_count": 1,
   "metadata": {},
   "outputs": [],
   "source": [
    "import datacube\n",
    "from odc.ui import with_ui_cbk"
   ]
  },
  {
   "cell_type": "markdown",
   "metadata": {},
   "source": [
    "### Connect to the datacube\n",
    "The next step is to connect to the datacube database.\n",
    "The resulting `dc` datacube object can then be used to load data.\n",
    "The `app` parameter is a unique name used to identify the notebook that does not have any effect on the analysis."
   ]
  },
  {
   "cell_type": "code",
   "execution_count": 2,
   "metadata": {},
   "outputs": [],
   "source": [
    "dc = datacube.Datacube(app=\"04_Loading_data\")"
   ]
  },
  {
   "cell_type": "markdown",
   "metadata": {},
   "source": [
    "## Loading data using `dc.load()`\n",
    "\n",
    "Loading data from the datacube uses the [dc.load()](https://datacube-core.readthedocs.io/en/latest/dev/api/generate/datacube.Datacube.load.html) function.\n",
    "\n",
    "The function requires the following minimum arguments:\n",
    "\n",
    "* `product`: The data product to load (to revise DEA products, see the [Products and measurements](03_Products_and_measurements.ipynb) notebook).\n",
    "* `x`: The spatial region in the *x* dimension. By default, the *x* and *y* arguments accept queries in a geographical co-ordinate system WGS84, identified by the EPSG code *4326*.\n",
    "* `y`: The spatial region in the *y* dimension. The dimensions ``longitude``/``latitude`` and ``x``/``y`` can be used interchangeably.\n",
    "* `time`: The temporal extent. The time dimension can be specified using a tuple of datetime objects or strings in the \"YYYY\", \"YYYY-MM\" or \"YYYY-MM-DD\" format. \n",
    "\n",
    "For example, to load 2015 data from the [Landsat 8 NBAR-T annual geomedian product](https://explorer.sandbox.dea.ga.gov.au/ls8_nbart_geomedian_annual) for Moreton Bay in southern Queensland, use the following parameters:\n",
    "\n",
    "* `product`: `ls8_nbart_geomedian_annual`\n",
    "* `x`: `(153.3, 153.4)`\n",
    "* `y`: `(-27.5, -27.6)`\n",
    "* `time`: `(\"2015-01-01\", \"2015-12-31\")`\n",
    "\n",
    "Run the following cell to load all datasets from the `ls8_nbart_geomedian_annual` product that match this spatial and temporal extent:"
   ]
  },
  {
   "cell_type": "code",
   "execution_count": 3,
   "metadata": {},
   "outputs": [
    {
     "name": "stdout",
     "output_type": "stream",
     "text": [
      "<xarray.Dataset>\n",
      "Dimensions:  (time: 1, x: 461, y: 508)\n",
      "Coordinates:\n",
      "  * time     (time) datetime64[ns] 2015-01-01\n",
      "  * y        (y) float64 -3.156e+06 -3.156e+06 ... -3.168e+06 -3.168e+06\n",
      "  * x        (x) float64 2.067e+06 2.067e+06 2.067e+06 ... 2.079e+06 2.079e+06\n",
      "Data variables:\n",
      "    blue     (time, y, x) int16 491 490 489 493 499 497 ... 372 313 289 286 294\n",
      "    green    (time, y, x) int16 534 538 538 543 548 548 ... 545 483 421 394 399\n",
      "    red      (time, y, x) int16 248 252 252 253 257 255 ... 457 364 347 362 350\n",
      "    nir      (time, y, x) int16 108 106 105 105 108 ... 2752 2522 2292 2351 2399\n",
      "    swir1    (time, y, x) int16 64 65 62 62 64 63 ... 1616 1261 1057 1070 1101\n",
      "    swir2    (time, y, x) int16 53 53 51 51 54 51 52 ... 848 886 627 510 503 512\n",
      "Attributes:\n",
      "    crs:      EPSG:3577\n"
     ]
    }
   ],
   "source": [
    "ds = dc.load(product=\"ls8_nbart_geomedian_annual\",\n",
    "             x=(153.3, 153.4),\n",
    "             y=(-27.5, -27.6),\n",
    "             time=(\"2015-01-01\", \"2015-12-31\"))\n",
    "\n",
    "print(ds)"
   ]
  },
  {
   "cell_type": "markdown",
   "metadata": {},
   "source": [
    "### Interpreting the resulting `xarray.Dataset`\n",
    "The variable `ds` has returned an `xarray.Dataset` containing all data that matched the spatial and temporal query parameters inputted into `dc.load`.\n",
    "\n",
    "*Dimensions* \n",
    "\n",
    "* This header identifies the number of timesteps returned in the search (`time: 1`) as well as the number of pixels in the `x` and `y` directions of the data query.\n",
    "\n",
    "*Coordinates* \n",
    "\n",
    "* `time` identifies the date attributed to each returned timestep.\n",
    "* `x` and `y` are the coordinates for each pixel within the spatial bounds of the query.\n",
    "\n",
    "*Data variables*\n",
    "\n",
    "* These are the measurements available for the nominated product. \n",
    "For every date (`time`) returned by the query, the measured value at each pixel (`y`, `x`) is returned as an array for each measurement.\n",
    "Each data variable is itself an `xarray.DataArray` object ([see below](#Inspecting-an-individual-xarray.DataArray)). \n",
    "\n",
    "*Attributes*\n",
    "\n",
    "* `crs` identifies the coordinate reference system (CRS) of the loaded data. "
   ]
  },
  {
   "cell_type": "markdown",
   "metadata": {},
   "source": [
    "### Inspecting an individual `xarray.DataArray`\n",
    "The `xarray.Dataset` loaded above is itself a collection of individual `xarray.DataArray` objects that hold the actual data for each data variable/measurement. \n",
    "For example, all measurements listed under _Data variables_ above (e.g. `blue`, `green`, `red`, `nir`, `swir1`, `swir2`) are `xarray.DataArray` objects.\n",
    "\n",
    "These `xarray.DataArray` objects can be inspected or interacted with by using either of the following syntaxes:\n",
    "```\n",
    "ds[\"measurement_name\"]\n",
    "```\n",
    "or\n",
    "```\n",
    "ds.measurement_name\n",
    "```\n",
    "\n",
    "The ability to access individual variables means that these can be directly viewed, or further manipulated to create new variables. \n",
    "For example, run the following cell to access data from the near infra-red satellite band (i.e. `nir`):"
   ]
  },
  {
   "cell_type": "code",
   "execution_count": 4,
   "metadata": {},
   "outputs": [
    {
     "name": "stdout",
     "output_type": "stream",
     "text": [
      "<xarray.DataArray 'nir' (time: 1, y: 508, x: 461)>\n",
      "array([[[ 108,  106,  105, ...,   95,   95,   98],\n",
      "        [ 109,  104,  101, ...,   94,   94,  105],\n",
      "        [ 105,  101,  100, ...,  106,  121,  181],\n",
      "        ...,\n",
      "        [3134, 2509, 2417, ..., 2380, 2473, 2366],\n",
      "        [2678, 3013, 2742, ..., 2183, 2606, 2575],\n",
      "        [2573, 2948, 2695, ..., 2292, 2351, 2399]]], dtype=int16)\n",
      "Coordinates:\n",
      "  * time     (time) datetime64[ns] 2015-01-01\n",
      "  * y        (y) float64 -3.156e+06 -3.156e+06 ... -3.168e+06 -3.168e+06\n",
      "  * x        (x) float64 2.067e+06 2.067e+06 2.067e+06 ... 2.079e+06 2.079e+06\n",
      "Attributes:\n",
      "    units:    1\n",
      "    nodata:   -999\n",
      "    crs:      EPSG:3577\n"
     ]
    }
   ],
   "source": [
    "print(ds.nir)"
   ]
  },
  {
   "cell_type": "markdown",
   "metadata": {},
   "source": [
    "Note that the object header informs us that it is an `xarray.DataArray` containing data for the `nir` satellite band. \n",
    "\n",
    "Like an `xarray.Dataset`, the array also includes information about the data's **dimensions** (i.e. `(time: 1, y: 508, x: 461)`), **coordinates** and **attributes**.\n",
    "This particular data variable/measurement contains some additional information that is specific to the `nir` band, including details of array's nodata value (i.e. `nodata: -999`).\n",
    "\n",
    "> For a more in-depth introduction to `xarray` data structures, refer to the [official xarray documentation](http://xarray.pydata.org/en/stable/data-structures.html)"
   ]
  },
  {
   "cell_type": "markdown",
   "metadata": {},
   "source": [
    "## Customising the `dc.load()` function\n",
    "\n",
    "The `dc.load()` function can be tailored to refine a query.\n",
    "\n",
    "Customisation options include:\n",
    "\n",
    "* `measurements:` This argument is used to provide a list of measurement names to load, as listed in `dc.list_measurements()`. \n",
    "For satellite datasets, measurements contain data for each individual satellite band (e.g. near infrared). \n",
    "If not provided, all measurements for the product will be returned.\n",
    "* `crs:` The coordinate reference system (CRS) of the query's `x` and `y` coordinates is assumed to be `WGS84`/`EPSG:4326` unless the `crs` field is supplied, even if the stored data is in another projection or the `output_crs` is specified. \n",
    "The `crs` parameter is required if the query's coordinates are in any other CRS.\n",
    "* `group_by:` Satellite datasets based around scenes can have multiple observations per day with slightly different time stamps as the satellite collects data along its path.\n",
    "These observations can be combined by reducing the `time` dimension to the day level using `group_by=solar_day`.\n",
    "* `output_crs` and `resolution`: To reproject or change the resolution the data, supply the `output_crs` and `resolution` fields.    \n",
    "* `resampling`: This argument allows you to specify a custom spatial resampling method to use when data is reprojected into a different CRS. \n",
    "\n",
    "Example syntax on the use of these options follows in the cells below.\n",
    "\n",
    "> For help or more customisation options, run `help(dc.load)` in an empty cell or visit the function's [documentation page](https://datacube-core.readthedocs.io/en/latest/dev/api/generate/datacube.Datacube.load.html)\n"
   ]
  },
  {
   "cell_type": "markdown",
   "metadata": {},
   "source": [
    "### Specifying measurements\n",
    "By default, `dc.load()` will load *all* measurements in a product.\n",
    "\n",
    "To load data from the `red`, `green` and `blue` satellite bands only, add `measurements=[\"red\", \"green\", \"blue\"]` to the query:"
   ]
  },
  {
   "cell_type": "code",
   "execution_count": 5,
   "metadata": {},
   "outputs": [
    {
     "name": "stdout",
     "output_type": "stream",
     "text": [
      "<xarray.Dataset>\n",
      "Dimensions:  (time: 1, x: 461, y: 508)\n",
      "Coordinates:\n",
      "  * time     (time) datetime64[ns] 2015-01-01\n",
      "  * y        (y) float64 -3.156e+06 -3.156e+06 ... -3.168e+06 -3.168e+06\n",
      "  * x        (x) float64 2.067e+06 2.067e+06 2.067e+06 ... 2.079e+06 2.079e+06\n",
      "Data variables:\n",
      "    red      (time, y, x) int16 248 252 252 253 257 255 ... 457 364 347 362 350\n",
      "    green    (time, y, x) int16 534 538 538 543 548 548 ... 545 483 421 394 399\n",
      "    blue     (time, y, x) int16 491 490 489 493 499 497 ... 372 313 289 286 294\n",
      "Attributes:\n",
      "    crs:      EPSG:3577\n"
     ]
    }
   ],
   "source": [
    "# Note the optional inclusion of the measurements list\n",
    "ds_rgb = dc.load(product=\"ls8_nbart_geomedian_annual\",\n",
    "                 measurements=[\"red\", \"green\", \"blue\"],\n",
    "                 x=(153.3, 153.4),\n",
    "                 y=(-27.5, -27.6),\n",
    "                 time=(\"2015-01-01\", \"2015-12-31\"))\n",
    "\n",
    "print(ds_rgb)"
   ]
  },
  {
   "cell_type": "markdown",
   "metadata": {},
   "source": [
    "Note that the **Data variables** component of the `xarray.Dataset` now includes only the measurements specified in the query (i.e. the `red`, `green` and `blue` satellite bands)."
   ]
  },
  {
   "cell_type": "markdown",
   "metadata": {},
   "source": [
    "### Loading data for coordinates in any CRS\n",
    "By default, `dc.load()` assumes that the queried `x` and `y` coordinates are in the `WGS84`/`EPSG:4326` CRS.\n",
    "If these coordinates are in a different coordinate system, specify this using the `crs` parameter.\n",
    "\n",
    "The example cell below loads data for a set of `x` and `y` coordinates defined in Australian Albers (`EPSG:3577`), ensuring that the `dc.load()` function accounts for this by including `crs=\"EPSG:3577\"`:"
   ]
  },
  {
   "cell_type": "code",
   "execution_count": 6,
   "metadata": {},
   "outputs": [
    {
     "name": "stdout",
     "output_type": "stream",
     "text": [
      "<xarray.Dataset>\n",
      "Dimensions:  (time: 1, x: 311, y: 509)\n",
      "Coordinates:\n",
      "  * time     (time) datetime64[ns] 2015-01-01\n",
      "  * y        (y) float64 -3.156e+06 -3.156e+06 ... -3.168e+06 -3.169e+06\n",
      "  * x        (x) float64 2.069e+06 2.069e+06 2.069e+06 ... 2.077e+06 2.077e+06\n",
      "Data variables:\n",
      "    blue     (time, y, x) int16 470 462 464 462 460 461 ... 438 440 439 431 412\n",
      "    green    (time, y, x) int16 493 480 481 481 482 481 ... 497 497 495 484 464\n",
      "    red      (time, y, x) int16 223 211 212 213 215 215 ... 261 260 258 245 235\n",
      "    nir      (time, y, x) int16 87 84 83 82 81 81 82 ... 114 117 116 114 110 101\n",
      "    swir1    (time, y, x) int16 53 47 47 47 46 45 47 47 ... 64 66 67 67 67 65 54\n",
      "    swir2    (time, y, x) int16 44 40 38 38 37 35 38 38 ... 51 53 54 54 54 51 42\n",
      "Attributes:\n",
      "    crs:      EPSG:3577\n"
     ]
    }
   ],
   "source": [
    "# Note the new `x` and `y` coordinates and `crs` parameter\n",
    "ds_custom_crs = dc.load(product=\"ls8_nbart_geomedian_annual\",\n",
    "                        time=(\"2015-01-01\", \"2015-12-31\"),\n",
    "                        x=(2069310, 2077064),\n",
    "                        y=(-3155823, -3168513),\n",
    "                        crs=\"EPSG:3577\")\n",
    "\n",
    "print(ds_custom_crs)"
   ]
  },
  {
   "cell_type": "markdown",
   "metadata": {},
   "source": [
    "### CRS reprojection\n",
    "Certain applications may require that data is output into a specific CRS.\n",
    "Data can be reprojected by specifying the new `output_crs` and identifying the `resolution` required.\n",
    "\n",
    "The example cell below reprojects data to a new CRS (UTM Zone 56S, `EPSG:32756`) and resolution (250 x 250 m). Note that for most CRSs, the first resolution value is negative (e.g. `(-250, 250)`):"
   ]
  },
  {
   "cell_type": "code",
   "execution_count": 7,
   "metadata": {},
   "outputs": [
    {
     "name": "stdout",
     "output_type": "stream",
     "text": [
      "<xarray.Dataset>\n",
      "Dimensions:  (time: 1, x: 40, y: 45)\n",
      "Coordinates:\n",
      "  * time     (time) datetime64[ns] 2015-01-01\n",
      "  * y        (y) float64 6.958e+06 6.958e+06 6.958e+06 ... 6.947e+06 6.947e+06\n",
      "  * x        (x) float64 5.296e+05 5.299e+05 5.301e+05 ... 5.391e+05 5.394e+05\n",
      "Data variables:\n",
      "    blue     (time, y, x) int16 467 460 446 441 439 429 ... 431 446 441 418 448\n",
      "    green    (time, y, x) int16 490 479 443 437 429 407 ... 516 542 510 481 499\n",
      "    red      (time, y, x) int16 221 217 194 190 188 178 ... 324 350 272 246 261\n",
      "    nir      (time, y, x) int16 85 83 83 81 83 83 84 ... 92 91 98 105 98 93 123\n",
      "    swir1    (time, y, x) int16 51 47 48 46 48 47 47 49 ... 48 46 50 54 53 50 74\n",
      "    swir2    (time, y, x) int16 41 38 39 37 39 38 39 40 ... 39 37 41 44 43 40 60\n",
      "Attributes:\n",
      "    crs:      EPSG:32756\n"
     ]
    }
   ],
   "source": [
    "ds_reprojected = dc.load(product=\"ls8_nbart_geomedian_annual\",\n",
    "                         x=(153.3, 153.4),\n",
    "                         y=(-27.5, -27.6),\n",
    "                         time=(\"2015-01-01\", \"2015-12-31\"),\n",
    "                         output_crs=\"EPSG:32756\",\n",
    "                         resolution=(-250, 250))\n",
    "\n",
    "print(ds_reprojected)"
   ]
  },
  {
   "cell_type": "markdown",
   "metadata": {},
   "source": [
    "Note that the `crs` attribute in the **Attributes** section has changed to `EPSG:32756`. \n",
    "Due to the larger 250 m resolution, there are now fewer pixels on the `x` and `y` dimensions (e.g. `x: 40, y: 45` compared to `x: 461, y: 508` in earlier examples).\n"
   ]
  },
  {
   "cell_type": "markdown",
   "metadata": {},
   "source": [
    "### Spatial resampling methods\n",
    "When a product is re-projected to a different CRS and/or resolution, the new pixel grid may differ from the original input pixels by size, number and alignment.\n",
    "It is therefore necessary to apply a spatial \"resampling\" rule that allocates input pixel values into the new pixel grid.\n",
    "\n",
    "By default, `dc.load()` resamples pixel values using \"nearest neighbour\" resampling, which allocates each new pixel with the value of the closest input pixel.\n",
    "Depending on the type of data and the analysis being run, this may not be the most appropriate choice (e.g. for continuous data).\n",
    "\n",
    "The `resampling` parameter in `dc.load()` allows you to choose a custom resampling method from the following options: \n",
    "\n",
    "```\n",
    "\"nearest\", \"cubic\", \"bilinear\", \"cubic_spline\", \"lanczos\", \n",
    "\"average\", \"mode\", \"gauss\", \"max\", \"min\", \"med\", \"q1\", \"q3\"\n",
    "```\n",
    "\n",
    "The example cell below requests that all loaded data is resampled using \"average\" resampling:"
   ]
  },
  {
   "cell_type": "code",
   "execution_count": 8,
   "metadata": {},
   "outputs": [
    {
     "name": "stdout",
     "output_type": "stream",
     "text": [
      "<xarray.Dataset>\n",
      "Dimensions:  (time: 1, x: 47, y: 51)\n",
      "Coordinates:\n",
      "  * time     (time) datetime64[ns] 2015-01-01\n",
      "  * y        (y) float64 -3.156e+06 -3.156e+06 ... -3.168e+06 -3.168e+06\n",
      "  * x        (x) float64 2.067e+06 2.068e+06 2.068e+06 ... 2.079e+06 2.079e+06\n",
      "Data variables:\n",
      "    blue     (time, y, x) int16 496 491 485 497 505 493 ... 667 438 462 292 328\n",
      "    green    (time, y, x) int16 539 546 542 556 570 542 ... 827 508 548 511 480\n",
      "    red      (time, y, x) int16 250 256 256 273 279 254 ... 730 361 411 373 413\n",
      "    nir      (time, y, x) int16 109 96 90 98 95 91 ... 259 479 213 305 2810 2573\n",
      "    swir1    (time, y, x) int16 65 54 50 56 54 55 ... 123 236 108 155 1227 1174\n",
      "    swir2    (time, y, x) int16 53 44 40 45 43 45 48 ... 92 165 80 106 574 558\n",
      "Attributes:\n",
      "    crs:      EPSG:3577\n"
     ]
    }
   ],
   "source": [
    "# Note the additional `resampling` parameter\n",
    "ds_averageresampling = dc.load(product=\"ls8_nbart_geomedian_annual\",\n",
    "                               x=(153.3, 153.4),\n",
    "                               y=(-27.5, -27.6),\n",
    "                               time=(\"2015-01-01\", \"2015-12-31\"),\n",
    "                               resolution=(-250, 250),\n",
    "                               resampling=\"average\")\n",
    "\n",
    "print(ds_averageresampling)\n"
   ]
  },
  {
   "cell_type": "markdown",
   "metadata": {},
   "source": [
    "Python dictionaries can be used to request different sampling methods for different measurements. \n",
    "This can be particularly useful when some measurements contain contain categorical data which require resampling methods such as \"nearest\" or \"mode\" that do not modify the input pixel values.\n",
    "\n",
    "The example cell below specifies `resampling={\"red\": \"nearest\", \"*\": \"average\"}`, which implements \"nearest\" neighbour resampling for the `red` satellite band only. `\"*\": \"average\"` will apply \"average\" resampling for all other satellite bands:\n"
   ]
  },
  {
   "cell_type": "code",
   "execution_count": 9,
   "metadata": {},
   "outputs": [
    {
     "name": "stdout",
     "output_type": "stream",
     "text": [
      "<xarray.Dataset>\n",
      "Dimensions:  (time: 1, x: 40, y: 45)\n",
      "Coordinates:\n",
      "  * time     (time) datetime64[ns] 2015-01-01\n",
      "  * y        (y) float64 6.958e+06 6.958e+06 6.958e+06 ... 6.947e+06 6.947e+06\n",
      "  * x        (x) float64 5.296e+05 5.299e+05 5.301e+05 ... 5.391e+05 5.394e+05\n",
      "Data variables:\n",
      "    blue     (time, y, x) int16 464 455 447 445 442 437 ... 440 440 428 426 433\n",
      "    green    (time, y, x) int16 482 463 446 444 436 424 ... 524 515 492 487 489\n",
      "    red      (time, y, x) int16 221 217 194 190 188 178 ... 324 350 272 246 261\n",
      "    nir      (time, y, x) int16 84 83 83 82 82 83 83 ... 94 100 100 95 102 115\n",
      "    swir1    (time, y, x) int16 49 48 48 47 46 47 47 48 ... 48 48 52 54 51 57 67\n",
      "    swir2    (time, y, x) int16 40 38 38 38 38 38 39 39 ... 39 38 43 44 41 46 54\n",
      "Attributes:\n",
      "    crs:      EPSG:32756\n"
     ]
    }
   ],
   "source": [
    "ds_customresampling = dc.load(product=\"ls8_nbart_geomedian_annual\",\n",
    "                              x=(153.3, 153.4),\n",
    "                              y=(-27.5, -27.6),\n",
    "                              time=(\"2015-01-01\", \"2015-12-31\"),\n",
    "                              output_crs=\"EPSG:32756\",\n",
    "                              resolution=(-250, 250),\n",
    "                              resampling={\"red\": \"nearest\", \"*\": \"average\"})\n",
    "\n",
    "print(ds_customresampling)"
   ]
  },
  {
   "cell_type": "markdown",
   "metadata": {},
   "source": [
    "> For more information about spatial resampling methods, see the [following guide](https://rasterio.readthedocs.io/en/stable/topics/resampling.html)"
   ]
  },
  {
   "cell_type": "markdown",
   "metadata": {},
   "source": [
    "## Loading data using the query dictionary syntax\n",
    "It is often useful to re-use a set of query parameters to load data from multiple products.\n",
    "To achieve this, load data using the \"query dictionary\" syntax.\n",
    "This involves placing the query parameters inside a Python dictionary object which can be re-used for multiple data loads:"
   ]
  },
  {
   "cell_type": "code",
   "execution_count": 10,
   "metadata": {},
   "outputs": [],
   "source": [
    "query = {\"x\": (153.3, 153.4),\n",
    "         \"y\": (-27.5, -27.6),\n",
    "         \"time\": (\"2015-01-01\", \"2015-12-31\")}\n"
   ]
  },
  {
   "cell_type": "markdown",
   "metadata": {},
   "source": [
    "The query dictionary object can be added as an input to `dc.load()`. \n",
    "\n",
    "> The `**` syntax below is Python's \"keyword argument unpacking\" operator.\n",
    "This operator takes the named query parameters listed in the query dictionary (e.g. `\"x\": (153.3, 153.4)`), and \"unpacks\" them into the `dc.load()` function as new arguments. \n",
    "For more information about unpacking operators, refer to the [Python documentation](https://docs.python.org/3/tutorial/controlflow.html#unpacking-argument-lists)"
   ]
  },
  {
   "cell_type": "code",
   "execution_count": 11,
   "metadata": {},
   "outputs": [
    {
     "name": "stdout",
     "output_type": "stream",
     "text": [
      "<xarray.Dataset>\n",
      "Dimensions:  (time: 1, x: 461, y: 508)\n",
      "Coordinates:\n",
      "  * time     (time) datetime64[ns] 2015-01-01\n",
      "  * y        (y) float64 -3.156e+06 -3.156e+06 ... -3.168e+06 -3.168e+06\n",
      "  * x        (x) float64 2.067e+06 2.067e+06 2.067e+06 ... 2.079e+06 2.079e+06\n",
      "Data variables:\n",
      "    blue     (time, y, x) int16 491 490 489 493 499 497 ... 372 313 289 286 294\n",
      "    green    (time, y, x) int16 534 538 538 543 548 548 ... 545 483 421 394 399\n",
      "    red      (time, y, x) int16 248 252 252 253 257 255 ... 457 364 347 362 350\n",
      "    nir      (time, y, x) int16 108 106 105 105 108 ... 2752 2522 2292 2351 2399\n",
      "    swir1    (time, y, x) int16 64 65 62 62 64 63 ... 1616 1261 1057 1070 1101\n",
      "    swir2    (time, y, x) int16 53 53 51 51 54 51 52 ... 848 886 627 510 503 512\n",
      "Attributes:\n",
      "    crs:      EPSG:3577\n"
     ]
    }
   ],
   "source": [
    "ds = dc.load(product=\"ls8_nbart_geomedian_annual\",\n",
    "             **query)\n",
    "\n",
    "print(ds)"
   ]
  },
  {
   "cell_type": "markdown",
   "metadata": {},
   "source": [
    "Query dictionaries can contain any set of parameters that would usually be provided to `dc.load()`:"
   ]
  },
  {
   "cell_type": "code",
   "execution_count": 12,
   "metadata": {},
   "outputs": [
    {
     "name": "stdout",
     "output_type": "stream",
     "text": [
      "<xarray.Dataset>\n",
      "Dimensions:  (time: 1, x: 40, y: 45)\n",
      "Coordinates:\n",
      "  * time     (time) datetime64[ns] 2015-01-01\n",
      "  * y        (y) float64 6.958e+06 6.958e+06 6.958e+06 ... 6.947e+06 6.947e+06\n",
      "  * x        (x) float64 5.296e+05 5.299e+05 5.301e+05 ... 5.391e+05 5.394e+05\n",
      "Data variables:\n",
      "    blue     (time, y, x) int16 467 460 446 441 439 429 ... 431 446 441 418 448\n",
      "    green    (time, y, x) int16 490 479 443 437 429 407 ... 516 542 510 481 499\n",
      "    red      (time, y, x) int16 221 217 194 190 188 178 ... 324 350 272 246 261\n",
      "    nir      (time, y, x) int16 85 83 83 81 83 83 84 ... 92 91 98 105 98 93 123\n",
      "    swir1    (time, y, x) int16 51 47 48 46 48 47 47 49 ... 48 46 50 54 53 50 74\n",
      "    swir2    (time, y, x) int16 41 38 39 37 39 38 39 40 ... 39 37 41 44 43 40 60\n",
      "Attributes:\n",
      "    crs:      EPSG:32756\n"
     ]
    }
   ],
   "source": [
    "query = {\"x\": (153.3, 153.4),\n",
    "         \"y\": (-27.5, -27.6),\n",
    "         \"time\": (\"2015-01-01\", \"2015-12-31\"),\n",
    "         \"output_crs\": \"EPSG:32756\",\n",
    "         \"resolution\": (-250, 250)}\n",
    "\n",
    "ds_ls8 = dc.load(product=\"ls8_nbart_geomedian_annual\",\n",
    "                 **query)\n",
    "\n",
    "print(ds_ls8)\n"
   ]
  },
  {
   "cell_type": "markdown",
   "metadata": {},
   "source": [
    "After specifying the reusable query, it can be easily used to load data from a different product.\n",
    "The example cell below loads Landsat 7 data for the same extent, time, output CRS and resolution as the previously loaded Landsat 8 data:"
   ]
  },
  {
   "cell_type": "code",
   "execution_count": 13,
   "metadata": {},
   "outputs": [
    {
     "name": "stdout",
     "output_type": "stream",
     "text": [
      "<xarray.Dataset>\n",
      "Dimensions:  (time: 1, x: 40, y: 45)\n",
      "Coordinates:\n",
      "  * time     (time) datetime64[ns] 2015-01-01\n",
      "  * y        (y) float64 6.958e+06 6.958e+06 6.958e+06 ... 6.947e+06 6.947e+06\n",
      "  * x        (x) float64 5.296e+05 5.299e+05 5.301e+05 ... 5.391e+05 5.394e+05\n",
      "Data variables:\n",
      "    blue     (time, y, x) int16 492 447 420 419 417 421 ... 477 475 511 430 438\n",
      "    green    (time, y, x) int16 513 462 426 419 414 417 ... 561 553 575 505 496\n",
      "    red      (time, y, x) int16 269 236 211 209 206 204 ... 409 400 371 302 295\n",
      "    nir      (time, y, x) int16 168 152 138 148 145 142 ... 204 208 230 172 188\n",
      "    swir1    (time, y, x) int16 90 84 81 85 86 86 84 ... 103 99 106 139 94 109\n",
      "    swir2    (time, y, x) int16 79 76 72 79 78 77 74 ... 84 93 90 95 122 82 95\n",
      "Attributes:\n",
      "    crs:      EPSG:32756\n"
     ]
    }
   ],
   "source": [
    "ds_ls7 = dc.load(product=\"ls7_nbart_geomedian_annual\",\n",
    "                 **query)\n",
    "\n",
    "print(ds_ls7)"
   ]
  },
  {
   "cell_type": "markdown",
   "metadata": {},
   "source": [
    "## Other helpful tricks\n",
    "### Loading data \"like\" another dataset\n",
    "Another option for loading matching data from multiple products is to use `dc.load()`'s `like` parameter.\n",
    "This will copy the spatial and temporal extent and the CRS/resolution from an existing dataset, and use these parameters to load new data from a new product.\n",
    "\n",
    "The example cell below loads another Landsat 7 dataset that exactly matches the `ds_ls8` dataset loaded earlier:\n"
   ]
  },
  {
   "cell_type": "code",
   "execution_count": 14,
   "metadata": {},
   "outputs": [
    {
     "name": "stdout",
     "output_type": "stream",
     "text": [
      "<xarray.Dataset>\n",
      "Dimensions:  (time: 1, x: 40, y: 45)\n",
      "Coordinates:\n",
      "  * time     (time) datetime64[ns] 2015-01-01\n",
      "  * y        (y) float64 6.958e+06 6.958e+06 6.958e+06 ... 6.947e+06 6.947e+06\n",
      "  * x        (x) float64 5.296e+05 5.299e+05 5.301e+05 ... 5.391e+05 5.394e+05\n",
      "Data variables:\n",
      "    blue     (time, y, x) int16 492 447 420 419 417 421 ... 477 475 511 430 438\n",
      "    green    (time, y, x) int16 513 462 426 419 414 417 ... 561 553 575 505 496\n",
      "    red      (time, y, x) int16 269 236 211 209 206 204 ... 409 400 371 302 295\n",
      "    nir      (time, y, x) int16 168 152 138 148 145 142 ... 204 208 230 172 188\n",
      "    swir1    (time, y, x) int16 90 84 81 85 86 86 84 ... 103 99 106 139 94 109\n",
      "    swir2    (time, y, x) int16 79 76 72 79 78 77 74 ... 84 93 90 95 122 82 95\n",
      "Attributes:\n",
      "    crs:      EPSG:32756\n"
     ]
    }
   ],
   "source": [
    "ds_ls7 = dc.load(product=\"ls7_nbart_geomedian_annual\",\n",
    "                 like=ds_ls8)\n",
    "\n",
    "print(ds_ls7)"
   ]
  },
  {
   "cell_type": "markdown",
   "metadata": {},
   "source": [
    "### Adding a progress bar\n",
    "When loading large amounts of data, it can be useful to view the progress of the data load. \n",
    "The `progress_cbk` parameter in `dc.load()` adds a progress bar that indicates how the load is progressing:\n",
    "\n",
    "![Progress bar](../Supplementary_data/04_Loading_data/progress_bar.jpg)\n",
    "\n",
    "The example cell below loads 5 years of data (2013, 2014, 2015, 2016 and 2017) from the `ls8_nbart_geomedian_annual` product with a progress bar:"
   ]
  },
  {
   "cell_type": "code",
   "execution_count": 15,
   "metadata": {},
   "outputs": [
    {
     "data": {
      "application/vnd.jupyter.widget-view+json": {
       "model_id": "abff62c7c96844769bd05520325afbad",
       "version_major": 2,
       "version_minor": 0
      },
      "text/plain": [
       "VBox(children=(HBox(children=(Label(value=''), Label(value='')), layout=Layout(justify_content='space-between'…"
      ]
     },
     "metadata": {},
     "output_type": "display_data"
    },
    {
     "name": "stdout",
     "output_type": "stream",
     "text": [
      "<xarray.Dataset>\n",
      "Dimensions:  (time: 5, x: 461, y: 508)\n",
      "Coordinates:\n",
      "  * time     (time) datetime64[ns] 2013-01-01 2014-01-01 ... 2017-01-01\n",
      "  * y        (y) float64 -3.156e+06 -3.156e+06 ... -3.168e+06 -3.168e+06\n",
      "  * x        (x) float64 2.067e+06 2.067e+06 2.067e+06 ... 2.079e+06 2.079e+06\n",
      "Data variables:\n",
      "    blue     (time, y, x) int16 516 517 523 514 506 506 ... 360 331 310 300 314\n",
      "    green    (time, y, x) int16 552 554 565 553 542 540 ... 531 472 408 389 416\n",
      "    red      (time, y, x) int16 268 273 282 272 265 264 ... 420 363 344 348 355\n",
      "    nir      (time, y, x) int16 108 112 116 106 105 ... 2999 2615 2446 2494 2644\n",
      "    swir1    (time, y, x) int16 63 63 68 60 61 62 ... 1510 1163 964 1004 1127\n",
      "    swir2    (time, y, x) int16 51 50 53 49 49 50 48 ... 736 730 541 453 449 499\n",
      "Attributes:\n",
      "    crs:      EPSG:3577\n"
     ]
    }
   ],
   "source": [
    "query = {\"x\": (153.3, 153.4),\n",
    "         \"y\": (-27.5, -27.6),\n",
    "         \"time\": (\"2013\", \"2017\")}\n",
    "\n",
    "ds_progress = dc.load(product=\"ls8_nbart_geomedian_annual\",\n",
    "                      progress_cbk=with_ui_cbk(),\n",
    "                      **query)\n",
    "\n",
    "print(ds_progress)"
   ]
  },
  {
   "cell_type": "markdown",
   "metadata": {},
   "source": [
    "## Recommended next steps\n",
    "\n",
    "To continue working through the notebooks in this beginner's guide, the following notebooks are designed to be worked through in the following order:\n",
    "\n",
    "1. [Jupyter Notebooks](01_Jupyter_notebooks.ipynb)\n",
    "2. [Digital Earth Australia](02_DEA.ipynb)\n",
    "3. [Products and measurements](03_Products_and_measurements.ipynb)\n",
    "4. **Loading data (this notebook)**\n",
    "5. [Plotting](05_Plotting.ipynb)\n",
    "6. [Performing a basic analysis](06_Basic_analysis.ipynb)\n",
    "7. [Parallel processing with Dask](07_Parallel_processing_with_Dask.ipynb)\n",
    "\n",
    "Once you have worked through the beginner's guide, you can join advanced users by exploring:\n",
    "\n",
    "* A demonstration of how to load cloud-free observations in the [using load_ard](../Frequently_used_code/Using_load_ard.ipynb) notebook.\n",
    "* The \"DEA datasets\" directory in the repository, where you can explore DEA products in depth.\n",
    "* The \"Frequently used code\" directory, which contains a recipe book of common techniques and methods for analysing DEA data.\n",
    "* The \"Real-world examples\" directory, which provides more complex workflows and analysis case studies."
   ]
  },
  {
   "cell_type": "markdown",
   "metadata": {},
   "source": [
    "***\n",
    "## Additional information\n",
    "\n",
    "**License:** The code in this notebook is licensed under the [Apache License, Version 2.0](https://www.apache.org/licenses/LICENSE-2.0). \n",
    "Digital Earth Australia data is licensed under the [Creative Commons by Attribution 4.0](https://creativecommons.org/licenses/by/4.0/) license.\n",
    "\n",
    "**Contact:** If you need assistance, please post a question on the [Open Data Cube Slack channel](http://slack.opendatacube.org/) or on the [GIS Stack Exchange](https://gis.stackexchange.com/questions/ask?tags=open-data-cube) using the `open-data-cube` tag (you can view previously asked questions [here](https://gis.stackexchange.com/questions/tagged/open-data-cube)).\n",
    "If you would like to report an issue with this notebook, you can file one on [Github](https://github.com/GeoscienceAustralia/dea-notebooks).\n",
    "\n",
    "**Last modified:** December 2019\n",
    "\n",
    "**Compatible datacube version:** "
   ]
  },
  {
   "cell_type": "code",
   "execution_count": 16,
   "metadata": {},
   "outputs": [
    {
     "name": "stdout",
     "output_type": "stream",
     "text": [
      "1.7+262.g1cf3cea8\n"
     ]
    }
   ],
   "source": [
    "print(datacube.__version__)"
   ]
  },
  {
   "cell_type": "markdown",
   "metadata": {},
   "source": [
    "## Tags\n",
    "Browse all available tags on the DEA User Guide's [Tags Index](https://docs.dea.ga.gov.au/genindex.html)"
   ]
  },
  {
   "cell_type": "raw",
   "metadata": {
    "raw_mimetype": "text/restructuredtext"
   },
   "source": [
    "**Tags**: :index:`sandbox compatible`, :index:`NCI compatible`, :index:`dc.load`, :index:`xarray.Dataset`, :index:`xarray.DataArray`, :index:`landsat 7`, :index:`landsat 8`, :index:`annual geomedian`, :index:`crs`, :index:`reprojecting data`, :index:`resampling data`, :index:`beginner`"
   ]
  }
 ],
 "metadata": {
  "kernelspec": {
   "display_name": "Python 3",
   "language": "python",
   "name": "python3"
  },
  "language_info": {
   "codemirror_mode": {
    "name": "ipython",
    "version": 3
   },
   "file_extension": ".py",
   "mimetype": "text/x-python",
   "name": "python",
   "nbconvert_exporter": "python",
   "pygments_lexer": "ipython3",
   "version": "3.6.9"
  },
  "widgets": {
   "application/vnd.jupyter.widget-state+json": {
    "state": {},
    "version_major": 2,
    "version_minor": 0
   }
  }
 },
 "nbformat": 4,
 "nbformat_minor": 4
}
