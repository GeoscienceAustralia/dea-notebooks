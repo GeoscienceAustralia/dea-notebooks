{
 "cells": [
  {
   "cell_type": "markdown",
   "metadata": {},
   "source": [
    "# Introduction\n",
    "These materials will introduce\n",
    "working with\n",
    "Digital Earth Australia (DEA) data in the\n",
    "DEA\n",
    "Sandbox environment for the Open\n",
    "Data Cube (ODC). The tutorial is broken into the following sections:\n",
    "\n",
    "1. Getting started - access the sandbox\n",
    "- ODC (Alex's feeling is to leave this part out of the tutorial notes for now)\n",
    "    - Open Data Cube \n",
    "    - Digital Earth Australia\n",
    "    - Analysis Ready Data\n",
    "2. Learning Jupyter – explore what a Jupyter Notebook is\n",
    "3. Using Apps – run some simple apps demonstrating case studies\n",
    "4. Do it yourself – run and modify Python code to load, analyse and visualise data\n",
    "5. Build it yourself - explore the dea-notebooks code repository and build your own notebooks to answer specific analysis questions.\n",
    "\n",
    "At the end of the tutorial\n",
    "you\n",
    "will know\n",
    "how\n",
    "to\n",
    "use a Jupyter Notebook in conjunction with the ODC to access\n",
    "and analyse\n",
    "Earth observation\n",
    "data.\n",
    "The tutorial should take around\n",
    "two hours\n",
    "to complete."
   ]
  },
  {
   "cell_type": "markdown",
   "metadata": {},
   "source": [
    "# 1. Getting started\n",
    "## Sign up for a DEA Sandbox Account\n",
    "\n",
    "The\n",
    "DEA\n",
    "Sandbox\n",
    "uses\n",
    "requires you to create an\n",
    "account to log in.\n",
    "Please visit\n",
    "[https://app.sandbox.dea.ga.gov.au/](https://app.sandbox.dea.ga.gov.au/)\n",
    "to\n",
    "sign\n",
    "up for\n",
    "a new account, or log in if you already have one\n",
    "\n",
    "![](sandbox_signup.jpg)"
   ]
  },
  {
   "cell_type": "markdown",
   "metadata": {},
   "source": [
    "## Accessing the DEA Sandbox\n",
    "\n",
    "After signing intothe DEA Sandbox, your Jupyter environment will be created and you should see\n",
    "a loading screen (also shown below) while the system is working to prepare the environment.\n",
    "\n",
    "![](sandbox_loading.jpg)\n",
    "\n",
    "Once signed in, the Jupyter Lab homepage should appear (see below). \n",
    "The folders on the left may look different but the launcher tab should appear the same.\n",
    "\n",
    "![](sandbox_homepage.jpg)"
   ]
  },
  {
   "cell_type": "markdown",
   "metadata": {},
   "source": [
    "# What is ODC, DEA and ARD?\n",
    "For more background on Open Data Cube, Digital Earth Australia and DEA Analysis Ready Data, see: [Digital Earth Australia](../02_DEA.ipynb)"
   ]
  },
  {
   "cell_type": "markdown",
   "metadata": {},
   "source": [
    "# 2. Learning Jupyter\n",
    "## Overview\n",
    "Jupyter is an interactive coding environment. The name ‘Jupyter’ comes from Julia, Python and R, which are all programming\n",
    "languages that are used in scientific\n",
    "computing. Jupyter started as a purely Python\n",
    "-\n",
    "based environment, called iPython, but\n",
    "there\n",
    "has been rapid progress over the last few years, and now many large organisations like Netflix (*1*)\n",
    "are using the system to\n",
    "analyse data.\n",
    "\n",
    "Since the ODC is a Python library,\n",
    "the workshop will cover working with\n",
    "Earth observation data in\n",
    "Python\n",
    "-\n",
    "based notebooks.\n",
    "\n",
    "*1* [https://medium.com/netflix-techblog/notebook-innovation-591ee3221233](https://medium.com/netflix-techblog/notebook-innovation-591ee3221233)\n",
    "\n",
    "## Getting started with Jupyter\n",
    "The first exercise is to\n",
    "explore and understand some key features of the Jupyter notebook. \n",
    "\n",
    "*If you’ve used Jupyter before, you may want to skip this step.*"
   ]
  },
  {
   "cell_type": "markdown",
   "metadata": {},
   "source": [
    "### Running (executing) a cell\n",
    "Jupyter Notebooks allow code to be separated into sections that can be executed independent of one another.\n",
    "These sections are called cells.\n",
    "\n",
    "Python code is written into individual cells that can be executed by placing the cursor in the cell and typing `Shift-Enter` on the keyboard or selecting the &#9658; \"Run the selected cells and advance\" button in the ribbon at the top of the notebook.\n",
    "These options will run a single cell at a time.\n",
    "\n",
    "To automatically run all cells in a notebook, navigate to the \"Run\" tab of the menu bar at the top of JupyterLab and select \"Run All Cells\" (or the option that best suits your needs).\n",
    "When a cell is run, the cell's content is executed.\n",
    "Any output produced from running the cell will appear directly below it.\n",
    "\n",
    "Run the cell below:"
   ]
  },
  {
   "cell_type": "code",
   "execution_count": 1,
   "metadata": {},
   "outputs": [
    {
     "name": "stdout",
     "output_type": "stream",
     "text": [
      "I ran a cell!\n"
     ]
    }
   ],
   "source": [
    "print(\"I ran a cell!\")"
   ]
  },
  {
   "cell_type": "markdown",
   "metadata": {},
   "source": [
    "### Cell status\n",
    "The `[ ]:` symbol to the left of each Code cell describes the state of the cell:\n",
    "\n",
    "* `[ ]:` means that the cell has not been run yet.\n",
    "* `[*]:` means that the cell is currently running.\n",
    "* `[1]:` means that the cell has finished running and was the first cell run.\n",
    "\n",
    "The number indicates the order that the cells were run in.\n",
    "\n",
    "> **Note:** To check whether a cell is currently executing in a Jupyter notebook, inspect the small circle in the top-right of the window. \n",
    "The circle will turn grey (\"Kernel busy\") when the cell is running, and return to empty (\"Kernel idle\") when the process is complete."
   ]
  },
  {
   "cell_type": "markdown",
   "metadata": {},
   "source": [
    "## Jupyter notebook cell types\n",
    "Cells are identified as either Code, Markdown, or Raw. \n",
    "This designation can be changed using the ribbon at the top of the notebook.\n",
    "\n",
    "#### Code cells\n",
    "All code operations are performed in Code cells. \n",
    "Code cells can be used to edit and write new code, and perform tasks like loading data, plotting data and running analyses.\n",
    "\n",
    "#### Markdown cells\n",
    "Markdown cells provide the narrative to a notebook. They are used for text and are useful to describe the code operations in the following cells. \n",
    "\n",
    "#### Raw cells\n",
    "Information in Raw cells is stored in the notebook metadata and can be used to render different code formats into HTML or  𝐿𝐴𝑇𝐸𝑋 . \n",
    "For the purposes of this tutorial, raw cells are not used by the authors and are not required for most notebook users.\n",
    "\n",
    "#### For more on Jupyter notebooks\n",
    "For more on Jupyter notebooks, including further definition of the cell types, stopping and restarting your notebook or saving and exporting your work, see [this notebook](../01_Jupyter_notebooks.ipynb) in the DEA Beginners Guide"
   ]
  },
  {
   "cell_type": "markdown",
   "metadata": {},
   "source": [
    "# 3. Using apps\n",
    "\n",
    "This example makes use of ‘macros’, which is where more complex code has been wrapped up into simple expressions. \n",
    "In this document, these ‘macros’ are referred to as ‘apps’.\n",
    "The ‘apps’ make it simple to change an analysis, as they provide ways to interact with the analysis that don’t require changes to the underlying code.\n",
    "\n",
    "Click the link to run the following notebook [Crop_health](../../Real_world_examples/Crop_health.ipynb)\n",
    "\n",
    "Return to this notebook when you are done."
   ]
  },
  {
   "cell_type": "markdown",
   "metadata": {},
   "source": [
    "# 4. Do it yourself\n",
    "\n",
    "This activity uses a code-based (rather than app-based) notebook, to demonstrate how the ODC Python API works. \n",
    "This will be a simple example of:\n",
    "- picking a study site in Australia\n",
    "- loading data for that area\n",
    "- plotting bands into the red, green and blue channels of an image\n",
    "- using a vegetation indice to calculate greenness in the image\n",
    "- exporting your data to geotiff\n",
    "\n",
    "Click the link to run the following notebook [Basic analysis](../06_Basic_analysis.ipynb)\n",
    "\n",
    "Run the notebook in its entirety to begin with then return to the top and have a go yourself at changing some of the variables.\n",
    "Consider setting a new study location and/or changing the time period of the analysis.\n",
    "\n",
    "After attempting the extension activities in the notebook, if you are keen to continue experimenting then try and calculate a different index over a new study area.\n",
    "For example, calculate the [Normalised Difference Water Index](https://eos.com/ndwi/) over a terrestrial and aquatic environment to detect water bodies or water stressed vegetation.\n",
    "\n",
    "Return to this notebook when you are done."
   ]
  },
  {
   "cell_type": "markdown",
   "metadata": {},
   "source": [
    "# 5. Exercises\n",
    "\n",
    "Now it's time to build it yourself.\n",
    "\n",
    "Starting with a blank notebook ([hint](../01_Jupyter_notebooks.ipynb)), select one of the following analysis questions to try and answer on your own:\n",
    "\n",
    "- **How has urban development changed the layout/footprint of your hometown between 2014 and 2020?**\n",
    "    - Copy/paste of the `Urban_change_detection.ipynb`. Practices dask, geomedians, plot rgb, index calculation (ENDISI)\n",
    "- **How soon after the (non-lethal) bushfires in x location, y year, did remote sensing begin to detect a return of greenness to the local vegetation?**\n",
    "    - Practices burnt area mapping, NDVI calculation, change detection/filmstrips\n",
    "- **How did the annual median surface area/perimeter of the Menindee Lakes (lake Eyre?) change between the peak of the drought compared to 2020?**\n",
    "    - Practices index and median calculation, index thresholding, subpixel contours (Frequently_used_code folder)\n",
    "- **What is the annual median spatial distribution of bare, dry and vegetated ground cover for an area of your interest?**\n",
    "    - Explore DEA products/measurements, Load a product (fractional cover)\n",
    "    - **EXTENSION: Compare wet/dry season results for your area of interest**\n",
    "\n",
    "#### *Hints*\n",
    "- Model your answers on the workflow introduced in section 4, [Do it yourself](../06_Basic_analysis.ipynb).\n",
    "- Explore other notebooks in the dea-notebooks repository, particularly those in the 'Real_world_examples' folder, e.g.\n",
    "    - [Burnt_area_mapping](../../Real_world_examples/Burnt_area_mapping.ipynb)\n",
    "    - [Change_detection](../../Real_world_examples/Change_detection.ipynb)\n",
    "    - [Coastal_erosion](../../Real_world_examples/Coastal_erosion.ipynb) *Advanced*\n",
    "- You can view multiple notebooks simultaneously in Jupyter Lab. Simply click and drag your notebook tab to the right hand side of your screen for a side by side view.\n",
    "- All the code in this repository is open source and we encourage code recycling to fit your needs. Therefore, you can copy/paste cells between notebooks by right-clicking inside a cell, selecting `Copy Cells` and then navigating to your desired paste-location and right click any cell then selecting 'Paste Cells Below'"
   ]
  },
  {
   "cell_type": "code",
   "execution_count": null,
   "metadata": {},
   "outputs": [],
   "source": []
  }
 ],
 "metadata": {
  "kernelspec": {
   "display_name": "Python 3",
   "language": "python",
   "name": "python3"
  },
  "language_info": {
   "codemirror_mode": {
    "name": "ipython",
    "version": 3
   },
   "file_extension": ".py",
   "mimetype": "text/x-python",
   "name": "python",
   "nbconvert_exporter": "python",
   "pygments_lexer": "ipython3",
   "version": "3.6.9"
  }
 },
 "nbformat": 4,
 "nbformat_minor": 4
}
