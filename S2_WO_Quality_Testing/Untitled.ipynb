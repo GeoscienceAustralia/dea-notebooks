{
 "cells": [
  {
   "cell_type": "code",
   "execution_count": 2,
   "id": "c6501058-2654-42e0-8ea1-deaf6a178d28",
   "metadata": {
    "tags": []
   },
   "outputs": [
    {
     "ename": "NameError",
     "evalue": "name 'temperature' is not defined",
     "output_type": "error",
     "traceback": [
      "\u001b[0;31m---------------------------------------------------------------------------\u001b[0m",
      "\u001b[0;31mNameError\u001b[0m                                 Traceback (most recent call last)",
      "Cell \u001b[0;32mIn[2], line 4\u001b[0m\n\u001b[1;32m      1\u001b[0m \u001b[38;5;28;01mimport\u001b[39;00m \u001b[38;5;21;01mxarray\u001b[39;00m \u001b[38;5;28;01mas\u001b[39;00m \u001b[38;5;21;01mxr\u001b[39;00m\n\u001b[1;32m      2\u001b[0m ds \u001b[38;5;241m=\u001b[39m xr\u001b[38;5;241m.\u001b[39mDataset(\n\u001b[1;32m      3\u001b[0m data_vars\u001b[38;5;241m=\u001b[39m\u001b[38;5;28mdict\u001b[39m(\n\u001b[0;32m----> 4\u001b[0m     temperature\u001b[38;5;241m=\u001b[39m([\u001b[38;5;124m\"\u001b[39m\u001b[38;5;124mx\u001b[39m\u001b[38;5;124m\"\u001b[39m, \u001b[38;5;124m\"\u001b[39m\u001b[38;5;124my\u001b[39m\u001b[38;5;124m\"\u001b[39m, \u001b[38;5;124m\"\u001b[39m\u001b[38;5;124mtime\u001b[39m\u001b[38;5;124m\"\u001b[39m], \u001b[43mtemperature\u001b[49m,{\u001b[38;5;124m'\u001b[39m\u001b[38;5;124munits\u001b[39m\u001b[38;5;124m'\u001b[39m:\u001b[38;5;124m'\u001b[39m\u001b[38;5;124mK\u001b[39m\u001b[38;5;124m'\u001b[39m}),\n\u001b[1;32m      5\u001b[0m     precipitation\u001b[38;5;241m=\u001b[39m([\u001b[38;5;124m\"\u001b[39m\u001b[38;5;124mx\u001b[39m\u001b[38;5;124m\"\u001b[39m, \u001b[38;5;124m\"\u001b[39m\u001b[38;5;124my\u001b[39m\u001b[38;5;124m\"\u001b[39m, \u001b[38;5;124m\"\u001b[39m\u001b[38;5;124mtime\u001b[39m\u001b[38;5;124m\"\u001b[39m], precipitation,{\u001b[38;5;124m'\u001b[39m\u001b[38;5;124munits\u001b[39m\u001b[38;5;124m'\u001b[39m:\u001b[38;5;124m'\u001b[39m\u001b[38;5;124mmm/day\u001b[39m\u001b[38;5;124m'\u001b[39m}),\n\u001b[1;32m      6\u001b[0m ),\n\u001b[1;32m      7\u001b[0m coords\u001b[38;5;241m=\u001b[39m\u001b[38;5;28mdict\u001b[39m(\n\u001b[1;32m      8\u001b[0m     lon\u001b[38;5;241m=\u001b[39m([\u001b[38;5;124m\"\u001b[39m\u001b[38;5;124mx\u001b[39m\u001b[38;5;124m\"\u001b[39m, \u001b[38;5;124m\"\u001b[39m\u001b[38;5;124my\u001b[39m\u001b[38;5;124m\"\u001b[39m], lon),\n\u001b[1;32m      9\u001b[0m     lat\u001b[38;5;241m=\u001b[39m([\u001b[38;5;124m\"\u001b[39m\u001b[38;5;124mx\u001b[39m\u001b[38;5;124m\"\u001b[39m, \u001b[38;5;124m\"\u001b[39m\u001b[38;5;124my\u001b[39m\u001b[38;5;124m\"\u001b[39m], lat),\n\u001b[1;32m     10\u001b[0m     time\u001b[38;5;241m=\u001b[39mtime,\n\u001b[1;32m     11\u001b[0m     reference_time\u001b[38;5;241m=\u001b[39mreference_time,\n\u001b[1;32m     12\u001b[0m ),\n\u001b[1;32m     13\u001b[0m attrs\u001b[38;5;241m=\u001b[39m\u001b[38;5;28mdict\u001b[39m(description\u001b[38;5;241m=\u001b[39m\u001b[38;5;124m\"\u001b[39m\u001b[38;5;124mWeather related data.\u001b[39m\u001b[38;5;124m\"\u001b[39m),)\n",
      "\u001b[0;31mNameError\u001b[0m: name 'temperature' is not defined"
     ]
    }
   ],
   "source": [
    "import xarray as xr\n",
    "ds = xr.Dataset(\n",
    "data_vars=dict(\n",
    "    temperature=([\"x\", \"y\", \"time\"], temperature,{'units':'K'}),\n",
    "    precipitation=([\"x\", \"y\", \"time\"], precipitation,{'units':'mm/day'}),\n",
    "),\n",
    "coords=dict(\n",
    "    lon=([\"x\", \"y\"], lon),\n",
    "    lat=([\"x\", \"y\"], lat),\n",
    "    time=time,\n",
    "    reference_time=reference_time,\n",
    "),\n",
    "attrs=dict(description=\"Weather related data.\"),)"
   ]
  },
  {
   "cell_type": "code",
   "execution_count": null,
   "id": "2409a81f-8694-43b1-ae5b-afc8289fcc02",
   "metadata": {},
   "outputs": [],
   "source": []
  }
 ],
 "metadata": {
  "kernelspec": {
   "display_name": "Python 3 (ipykernel)",
   "language": "python",
   "name": "python3"
  },
  "language_info": {
   "codemirror_mode": {
    "name": "ipython",
    "version": 3
   },
   "file_extension": ".py",
   "mimetype": "text/x-python",
   "name": "python",
   "nbconvert_exporter": "python",
   "pygments_lexer": "ipython3",
   "version": "3.10.13"
  }
 },
 "nbformat": 4,
 "nbformat_minor": 5
}
